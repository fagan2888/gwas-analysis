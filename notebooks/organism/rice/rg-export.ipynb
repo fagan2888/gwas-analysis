{
 "cells": [
  {
   "cell_type": "markdown",
   "metadata": {},
   "source": [
    "### SNP-Seek GWAS Export"
   ]
  },
  {
   "cell_type": "code",
   "execution_count": 2,
   "metadata": {},
   "outputs": [
    {
     "name": "stderr",
     "output_type": "stream",
     "text": [
      "Running on Apache Spark version 2.4.4\n",
      "SparkUI available at http://8352602c2ab9:4040\n",
      "Welcome to\n",
      "     __  __     <>__\n",
      "    / /_/ /__  __/ /\n",
      "   / __  / _ `/ / /\n",
      "  /_/ /_/\\_,_/_/_/   version 0.2.32-a5876a0a2853\n",
      "LOGGING: writing to /home/eczech/repos/gwas-analysis/notebooks/organism/rice/hail-20200514-1735-0.2.32-a5876a0a2853.log\n"
     ]
    }
   ],
   "source": [
    "import hail as hl\n",
    "import pandas as pd\n",
    "import os.path as osp\n",
    "import dask.array as da\n",
    "import dask\n",
    "dask.config.set(scheduler='single-threaded')\n",
    "%run ../../nb.py\n",
    "%run $TUTORIAL_DIR/files.py\n",
    "hl.init() "
   ]
  },
  {
   "cell_type": "code",
   "execution_count": 4,
   "metadata": {},
   "outputs": [
    {
     "data": {
      "text/plain": [
       "'/home/eczech/data/gwas/rice-snpseek/1M_GWAS_SNP_Dataset'"
      ]
     },
     "execution_count": 4,
     "metadata": {},
     "output_type": "execute_result"
    }
   ],
   "source": [
    "data_dir = ORGANISM_RICE_3KG_GWAS_DIR\n",
    "data_dir"
   ]
  },
  {
   "cell_type": "markdown",
   "metadata": {},
   "source": [
    "### Downloads"
   ]
  },
  {
   "cell_type": "code",
   "execution_count": 6,
   "metadata": {},
   "outputs": [
    {
     "name": "stdout",
     "output_type": "stream",
     "text": [
      "CPU times: user 14.4 ms, sys: 5.61 ms, total: 20.1 ms\n",
      "Wall time: 2min 25s\n"
     ]
    }
   ],
   "source": [
    "%%time\n",
    "%%bash -s \"$data_dir\"\n",
    "set -e; cd $1\n",
    "# Download \"3K RG 1M GWAS SNP Dataset, all chromosomes\" from https://snp-seek.irri.org/_download.zul\n",
    "for ext in bed bim fam; do\n",
    "  wget -q https://3kricegenome.s3.amazonaws.com/snpseek-dl/3k-pruned-v2.1/pruned_v2.1.${ext}\n",
    "done"
   ]
  },
  {
   "cell_type": "code",
   "execution_count": 7,
   "metadata": {},
   "outputs": [
    {
     "name": "stdout",
     "output_type": "stream",
     "text": [
      "CPU times: user 6.4 ms, sys: 16 ms, total: 22.4 ms\n",
      "Wall time: 4.14 s\n"
     ]
    }
   ],
   "source": [
    "%%time\n",
    "%%bash -s \"$data_dir\"\n",
    "set -e; cd $1\n",
    "# Download phenotypes\n",
    "wget -q https://s3-ap-southeast-1.amazonaws.com/oryzasnp-atcg-irri-org/3kRG-phenotypes/3kRG_PhenotypeData_v20170411.xlsx\n",
    "\n",
    "# Download accession mapping from:\n",
    "# Genomic variation in 3,010 diverse accessions of Asian cultivated rice\n",
    "# https://www.nature.com/articles/s41586-018-0063-9\n",
    "# Supplementary Data 1\n",
    "wget -q https://static-content.springer.com/esm/art%3A10.1038%2Fs41586-018-0063-9/MediaObjects/41586_2018_63_MOESM3_ESM.xlsx"
   ]
  },
  {
   "cell_type": "code",
   "execution_count": 10,
   "metadata": {},
   "outputs": [
    {
     "name": "stdout",
     "output_type": "stream",
     "text": [
      "1.1M\t/home/eczech/data/gwas/rice-snpseek/1M_GWAS_SNP_Dataset/3kRG_PhenotypeData_v20170411.xlsx\n",
      "304K\t/home/eczech/data/gwas/rice-snpseek/1M_GWAS_SNP_Dataset/41586_2018_63_MOESM3_ESM.xlsx\n",
      "730M\t/home/eczech/data/gwas/rice-snpseek/1M_GWAS_SNP_Dataset/pruned_v2.1.bed\n",
      "26M\t/home/eczech/data/gwas/rice-snpseek/1M_GWAS_SNP_Dataset/pruned_v2.1.bim\n",
      "104K\t/home/eczech/data/gwas/rice-snpseek/1M_GWAS_SNP_Dataset/pruned_v2.1.fam\n",
      "757M\ttotal\n"
     ]
    }
   ],
   "source": [
    "!du -ch $data_dir/*"
   ]
  },
  {
   "cell_type": "code",
   "execution_count": 23,
   "metadata": {},
   "outputs": [
    {
     "name": "stderr",
     "output_type": "stream",
     "text": [
      "2020-05-14 12:46:49 Hail: INFO: Found 3024 samples in fam file.\n",
      "2020-05-14 12:46:49 Hail: INFO: Found 1011601 variants in bim file.\n"
     ]
    }
   ],
   "source": [
    "mt = hl.import_plink(\n",
    "    bed=osp.join(data_dir, 'pruned_v2.1.bed'),\n",
    "    bim=osp.join(data_dir, 'pruned_v2.1.bim'),\n",
    "    fam=osp.join(data_dir, 'pruned_v2.1.fam')\n",
    ")"
   ]
  },
  {
   "cell_type": "code",
   "execution_count": 24,
   "metadata": {},
   "outputs": [
    {
     "name": "stderr",
     "output_type": "stream",
     "text": [
      "2020-05-14 12:47:03 Hail: WARN: cols(): Resulting column table is sorted by 'col_key'.\n",
      "    To preserve matrix table column order, first unkey columns with 'key_cols_by()'\n"
     ]
    },
    {
     "data": {
      "text/plain": [
       "['B001',\n",
       " 'B002',\n",
       " 'B003',\n",
       " 'B004',\n",
       " 'B005',\n",
       " 'B006',\n",
       " 'B007',\n",
       " 'B008',\n",
       " 'B009',\n",
       " 'B010']"
      ]
     },
     "execution_count": 24,
     "metadata": {},
     "output_type": "execute_result"
    }
   ],
   "source": [
    "sids = mt.cols().s.collect()\n",
    "sids[:10]"
   ]
  },
  {
   "cell_type": "markdown",
   "metadata": {},
   "source": [
    "### Phenotypes"
   ]
  },
  {
   "cell_type": "code",
   "execution_count": 32,
   "metadata": {},
   "outputs": [
    {
     "data": {
      "text/html": [
       "<div>\n",
       "<style scoped>\n",
       "    .dataframe tbody tr th:only-of-type {\n",
       "        vertical-align: middle;\n",
       "    }\n",
       "\n",
       "    .dataframe tbody tr th {\n",
       "        vertical-align: top;\n",
       "    }\n",
       "\n",
       "    .dataframe thead th {\n",
       "        text-align: right;\n",
       "    }\n",
       "</style>\n",
       "<table border=\"1\" class=\"dataframe\">\n",
       "  <thead>\n",
       "    <tr style=\"text-align: right;\">\n",
       "      <th></th>\n",
       "      <th>iris_id</th>\n",
       "      <th>gs_acc</th>\n",
       "      <th>gs_variety_name</th>\n",
       "      <th>igrc_acc_src</th>\n",
       "    </tr>\n",
       "  </thead>\n",
       "  <tbody>\n",
       "    <tr>\n",
       "      <th>0</th>\n",
       "      <td>B001</td>\n",
       "      <td>135900</td>\n",
       "      <td>Heibiao</td>\n",
       "      <td>NaN</td>\n",
       "    </tr>\n",
       "    <tr>\n",
       "      <th>1</th>\n",
       "      <td>B002</td>\n",
       "      <td>136041</td>\n",
       "      <td>Sansuijin</td>\n",
       "      <td>NaN</td>\n",
       "    </tr>\n",
       "    <tr>\n",
       "      <th>2</th>\n",
       "      <td>B003</td>\n",
       "      <td>136088</td>\n",
       "      <td>Zaoshengbai</td>\n",
       "      <td>NaN</td>\n",
       "    </tr>\n",
       "    <tr>\n",
       "      <th>3</th>\n",
       "      <td>B004</td>\n",
       "      <td>136031</td>\n",
       "      <td>Qiuguangtengxi 104</td>\n",
       "      <td>NaN</td>\n",
       "    </tr>\n",
       "    <tr>\n",
       "      <th>4</th>\n",
       "      <td>B005</td>\n",
       "      <td>136067</td>\n",
       "      <td>Wanshi</td>\n",
       "      <td>NaN</td>\n",
       "    </tr>\n",
       "  </tbody>\n",
       "</table>\n",
       "</div>"
      ],
      "text/plain": [
       "  iris_id  gs_acc     gs_variety_name igrc_acc_src\n",
       "0    B001  135900             Heibiao          NaN\n",
       "1    B002  136041           Sansuijin          NaN\n",
       "2    B003  136088         Zaoshengbai          NaN\n",
       "3    B004  136031  Qiuguangtengxi 104          NaN\n",
       "4    B005  136067              Wanshi          NaN"
      ]
     },
     "execution_count": 32,
     "metadata": {},
     "output_type": "execute_result"
    }
   ],
   "source": [
    "def get_accessions():\n",
    "    cols = ['3K_DNA_IRIS_UNIQUE_ID','Genetic_Stock_Accession','Genetic_Stock_varname','IRGC_Accno_source']\n",
    "    df = pd.read_excel(osp.join(data_dir, '41586_2018_63_MOESM3_ESM.xlsx'), sheet_name='Table 1 Metadata', header=1)\n",
    "    df = df[cols]\n",
    "    df = df.rename(columns={\n",
    "        '3K_DNA_IRIS_UNIQUE_ID': 'iris_id',\n",
    "        'Genetic_Stock_Accession': 'gs_acc',\n",
    "        'Genetic_Stock_varname': 'gs_variety_name',\n",
    "        'IRGC_Accno_source': 'igrc_acc_src'\n",
    "    })\n",
    "    return df\n",
    "df_acc = get_accessions()\n",
    "# This spreadsheet should contain all accessions in the genotyping data\n",
    "assert df_acc['iris_id'].isin(sids).all()\n",
    "\n",
    "# Eliminate leading strings in ids\n",
    "assert df_acc['gs_acc'].str.contains('IRGC').all()\n",
    "assert df_acc['igrc_acc_src'].str.contains('IRGC').all()\n",
    "df_acc['gs_acc'] = df_acc['gs_acc'].str.replace('IRGC', '').str.strip()\n",
    "df_acc['igrc_acc_src'] = df_acc['igrc_acc_src'].str.replace('IRGC', '').str.strip()\n",
    "\n",
    "df_acc.head()"
   ]
  },
  {
   "cell_type": "code",
   "execution_count": 89,
   "metadata": {},
   "outputs": [
    {
     "data": {
      "text/html": [
       "<div>\n",
       "<style scoped>\n",
       "    .dataframe tbody tr th:only-of-type {\n",
       "        vertical-align: middle;\n",
       "    }\n",
       "\n",
       "    .dataframe tbody tr th {\n",
       "        vertical-align: top;\n",
       "    }\n",
       "\n",
       "    .dataframe thead th {\n",
       "        text-align: right;\n",
       "    }\n",
       "</style>\n",
       "<table border=\"1\" class=\"dataframe\">\n",
       "  <thead>\n",
       "    <tr style=\"text-align: right;\">\n",
       "      <th></th>\n",
       "      <th>seq_no</th>\n",
       "      <th>stock_id</th>\n",
       "      <th>gs_acc</th>\n",
       "      <th>gs_variety_name</th>\n",
       "      <th>igrc_acc_src</th>\n",
       "      <th>pt_APANTH_REPRO</th>\n",
       "      <th>pt_APSH</th>\n",
       "      <th>pt_APCO_REV_POST</th>\n",
       "      <th>pt_APCO_REV_REPRO</th>\n",
       "      <th>pt_AWCO_LREV</th>\n",
       "      <th>...</th>\n",
       "      <th>pt_LPPUB</th>\n",
       "      <th>pt_LSEN</th>\n",
       "      <th>pt_NOANTH</th>\n",
       "      <th>pt_PEX_REPRO</th>\n",
       "      <th>pt_PTH</th>\n",
       "      <th>pt_SCCO_REV</th>\n",
       "      <th>pt_SECOND_BR_REPRO</th>\n",
       "      <th>pt_SLCO_REV</th>\n",
       "      <th>pt_SPKF</th>\n",
       "      <th>pt_SLLT_CODE</th>\n",
       "    </tr>\n",
       "  </thead>\n",
       "  <tbody>\n",
       "    <tr>\n",
       "      <th>0</th>\n",
       "      <td>1</td>\n",
       "      <td>16</td>\n",
       "      <td>121316.0</td>\n",
       "      <td>CIWINI SML::IRGC 50642-1</td>\n",
       "      <td>50642</td>\n",
       "      <td>NaN</td>\n",
       "      <td>NaN</td>\n",
       "      <td>NaN</td>\n",
       "      <td>20.0</td>\n",
       "      <td>NaN</td>\n",
       "      <td>...</td>\n",
       "      <td>4.0</td>\n",
       "      <td>9.0</td>\n",
       "      <td>NaN</td>\n",
       "      <td>5.0</td>\n",
       "      <td>3.0</td>\n",
       "      <td>10.0</td>\n",
       "      <td>1.0</td>\n",
       "      <td>20.0</td>\n",
       "      <td>4.0</td>\n",
       "      <td>3.0</td>\n",
       "    </tr>\n",
       "    <tr>\n",
       "      <th>1</th>\n",
       "      <td>2</td>\n",
       "      <td>17</td>\n",
       "      <td>117426.0</td>\n",
       "      <td>ARC 13829::IRGC 42469-1</td>\n",
       "      <td>42469</td>\n",
       "      <td>NaN</td>\n",
       "      <td>NaN</td>\n",
       "      <td>NaN</td>\n",
       "      <td>80.0</td>\n",
       "      <td>NaN</td>\n",
       "      <td>...</td>\n",
       "      <td>4.0</td>\n",
       "      <td>9.0</td>\n",
       "      <td>NaN</td>\n",
       "      <td>9.0</td>\n",
       "      <td>3.0</td>\n",
       "      <td>10.0</td>\n",
       "      <td>1.0</td>\n",
       "      <td>80.0</td>\n",
       "      <td>5.0</td>\n",
       "      <td>3.0</td>\n",
       "    </tr>\n",
       "    <tr>\n",
       "      <th>2</th>\n",
       "      <td>3</td>\n",
       "      <td>18</td>\n",
       "      <td>117466.0</td>\n",
       "      <td>DOM ZARD::IRGC 12881-1</td>\n",
       "      <td>12881</td>\n",
       "      <td>NaN</td>\n",
       "      <td>NaN</td>\n",
       "      <td>NaN</td>\n",
       "      <td>52.0</td>\n",
       "      <td>NaN</td>\n",
       "      <td>...</td>\n",
       "      <td>3.0</td>\n",
       "      <td>9.0</td>\n",
       "      <td>NaN</td>\n",
       "      <td>9.0</td>\n",
       "      <td>1.0</td>\n",
       "      <td>10.0</td>\n",
       "      <td>1.0</td>\n",
       "      <td>20.0</td>\n",
       "      <td>4.0</td>\n",
       "      <td>3.0</td>\n",
       "    </tr>\n",
       "    <tr>\n",
       "      <th>3</th>\n",
       "      <td>4</td>\n",
       "      <td>19</td>\n",
       "      <td>117425.0</td>\n",
       "      <td>ARC 10497::IRGC 12485-1</td>\n",
       "      <td>12485</td>\n",
       "      <td>NaN</td>\n",
       "      <td>NaN</td>\n",
       "      <td>NaN</td>\n",
       "      <td>80.0</td>\n",
       "      <td>NaN</td>\n",
       "      <td>...</td>\n",
       "      <td>NaN</td>\n",
       "      <td>9.0</td>\n",
       "      <td>NaN</td>\n",
       "      <td>9.0</td>\n",
       "      <td>2.0</td>\n",
       "      <td>10.0</td>\n",
       "      <td>NaN</td>\n",
       "      <td>80.0</td>\n",
       "      <td>4.0</td>\n",
       "      <td>3.0</td>\n",
       "    </tr>\n",
       "    <tr>\n",
       "      <th>4</th>\n",
       "      <td>5</td>\n",
       "      <td>20</td>\n",
       "      <td>121499.0</td>\n",
       "      <td>SHANKA::IRGC 67848-1</td>\n",
       "      <td>67848</td>\n",
       "      <td>NaN</td>\n",
       "      <td>NaN</td>\n",
       "      <td>NaN</td>\n",
       "      <td>20.0</td>\n",
       "      <td>NaN</td>\n",
       "      <td>...</td>\n",
       "      <td>4.0</td>\n",
       "      <td>7.0</td>\n",
       "      <td>NaN</td>\n",
       "      <td>7.0</td>\n",
       "      <td>2.0</td>\n",
       "      <td>10.0</td>\n",
       "      <td>1.0</td>\n",
       "      <td>20.0</td>\n",
       "      <td>5.0</td>\n",
       "      <td>3.0</td>\n",
       "    </tr>\n",
       "  </tbody>\n",
       "</table>\n",
       "<p>5 rows × 36 columns</p>\n",
       "</div>"
      ],
      "text/plain": [
       "   seq_no  stock_id    gs_acc           gs_variety_name  igrc_acc_src  \\\n",
       "0       1        16  121316.0  CIWINI SML::IRGC 50642-1         50642   \n",
       "1       2        17  117426.0   ARC 13829::IRGC 42469-1         42469   \n",
       "2       3        18  117466.0    DOM ZARD::IRGC 12881-1         12881   \n",
       "3       4        19  117425.0   ARC 10497::IRGC 12485-1         12485   \n",
       "4       5        20  121499.0      SHANKA::IRGC 67848-1         67848   \n",
       "\n",
       "   pt_APANTH_REPRO  pt_APSH  pt_APCO_REV_POST  pt_APCO_REV_REPRO  \\\n",
       "0              NaN      NaN               NaN               20.0   \n",
       "1              NaN      NaN               NaN               80.0   \n",
       "2              NaN      NaN               NaN               52.0   \n",
       "3              NaN      NaN               NaN               80.0   \n",
       "4              NaN      NaN               NaN               20.0   \n",
       "\n",
       "   pt_AWCO_LREV  ...  pt_LPPUB  pt_LSEN  pt_NOANTH  pt_PEX_REPRO  pt_PTH  \\\n",
       "0           NaN  ...       4.0      9.0        NaN           5.0     3.0   \n",
       "1           NaN  ...       4.0      9.0        NaN           9.0     3.0   \n",
       "2           NaN  ...       3.0      9.0        NaN           9.0     1.0   \n",
       "3           NaN  ...       NaN      9.0        NaN           9.0     2.0   \n",
       "4           NaN  ...       4.0      7.0        NaN           7.0     2.0   \n",
       "\n",
       "   pt_SCCO_REV  pt_SECOND_BR_REPRO  pt_SLCO_REV  pt_SPKF  pt_SLLT_CODE  \n",
       "0         10.0                 1.0         20.0      4.0           3.0  \n",
       "1         10.0                 1.0         80.0      5.0           3.0  \n",
       "2         10.0                 1.0         20.0      4.0           3.0  \n",
       "3         10.0                 NaN         80.0      4.0           3.0  \n",
       "4         10.0                 1.0         20.0      5.0           3.0  \n",
       "\n",
       "[5 rows x 36 columns]"
      ]
     },
     "execution_count": 89,
     "metadata": {},
     "output_type": "execute_result"
    }
   ],
   "source": [
    "# Phenotypes from the \"Use new descriptors\" group in the \"Annotations\" tab\n",
    "# indicating phenotypes for which the encodings are the same regardless of\n",
    "# the 2007 refactorings\n",
    "target_phenotypes = [\n",
    "    'APANTH_REPRO',\n",
    "    'APSH',\n",
    "    'APCO_REV_POST',\n",
    "    'APCO_REV_REPRO',\n",
    "    'AWCO_LREV',\n",
    "    'AWCO_REV',\n",
    "    'AWDIST',\n",
    "    'BLANTHPR_VEG',\n",
    "    'BLANTHDI_VEG',\n",
    "    'BLPUB_VEG',\n",
    "    'BLSCO_ANTH_VEG',\n",
    "    'BLSCO_REV_VEG',\n",
    "    'CCO_REV_VEG',\n",
    "    'CUAN_REPRO',\n",
    "    'ENDO',\n",
    "    'FLA_EREPRO',\n",
    "    'FLA_REPRO',\n",
    "    'INANTH',\n",
    "    'LIGCO_REV_VEG',\n",
    "    'LIGSH',\n",
    "    'LPCO_REV_POST',\n",
    "    'LPPUB',\n",
    "    'LSEN',\n",
    "    'NOANTH',\n",
    "    'PEX_REPRO',\n",
    "    'PTH',\n",
    "    'SCCO_REV',\n",
    "    'SECOND_BR_REPRO',\n",
    "    'SLCO_REV',\n",
    "    'SPKF',\n",
    "    'SLLT_CODE',   \n",
    "]\n",
    "\n",
    "\n",
    "def get_phenotypes():\n",
    "    df = pd.read_excel(osp.join(data_dir, '3kRG_PhenotypeData_v20170411.xlsx'), sheet_name='Phenotype Data')\n",
    "    cols = {\n",
    "        'Seqno': 'seq_no',\n",
    "        'STOCK_ID': 'stock_id',\n",
    "        'GS_ACCNO': 'gs_acc',\n",
    "        'NAME': 'gs_variety_name',\n",
    "        'Source_Accno': 'igrc_acc_src'\n",
    "    }\n",
    "    df = df.rename(columns=cols)\n",
    "    df = df[list(cols.values()) + target_phenotypes]\n",
    "    df = df.rename(columns=lambda c: c if not c in target_phenotypes else 'pt_' + c)\n",
    "    return df\n",
    "df_pt = get_phenotypes()\n",
    "df_pt.head()"
   ]
  },
  {
   "cell_type": "code",
   "execution_count": 90,
   "metadata": {},
   "outputs": [],
   "source": [
    "def get_lkp(df, c):\n",
    "    return (\n",
    "        df_acc\n",
    "        .dropna(subset=[c])\n",
    "        .assign(gs_acc=lambda df: df[c].astype(int))\n",
    "        .set_index(c)['iris_id']\n",
    "        .dropna().to_dict()\n",
    "    )\n",
    "gs_acc_to_iris = get_lkp(df_acc, 'gs_acc')\n",
    "igrc_acc_src_to_iris = get_lkp(df_acc, 'igrc_acc_src')"
   ]
  },
  {
   "cell_type": "code",
   "execution_count": 114,
   "metadata": {},
   "outputs": [
    {
     "name": "stdout",
     "output_type": "stream",
     "text": [
      "<class 'pandas.core.frame.DataFrame'>\n",
      "Int64Index: 2113 entries, 0 to 2264\n",
      "Data columns (total 37 columns):\n",
      "acc_seq_no             2113 non-null int64\n",
      "acc_stock_id           2113 non-null int64\n",
      "acc_gs_acc             2113 non-null float64\n",
      "acc_gs_variety_name    2113 non-null object\n",
      "acc_igrc_acc_src       2113 non-null int64\n",
      "acc_iris_id            2113 non-null object\n",
      "pt_APANTH_REPRO        91 non-null float64\n",
      "pt_APSH                133 non-null float64\n",
      "pt_APCO_REV_POST       552 non-null float64\n",
      "pt_APCO_REV_REPRO      2108 non-null float64\n",
      "pt_AWCO_LREV           133 non-null float64\n",
      "pt_AWCO_REV            2112 non-null float64\n",
      "pt_AWDIST              30 non-null float64\n",
      "pt_BLANTHPR_VEG        133 non-null float64\n",
      "pt_BLANTHDI_VEG        13 non-null float64\n",
      "pt_BLPUB_VEG           2112 non-null float64\n",
      "pt_BLSCO_ANTH_VEG      133 non-null float64\n",
      "pt_BLSCO_REV_VEG       2111 non-null float64\n",
      "pt_CCO_REV_VEG         2110 non-null float64\n",
      "pt_CUAN_REPRO          2111 non-null float64\n",
      "pt_ENDO                1976 non-null float64\n",
      "pt_FLA_EREPRO          133 non-null float64\n",
      "pt_FLA_REPRO           2109 non-null float64\n",
      "pt_INANTH              133 non-null float64\n",
      "pt_LIGCO_REV_VEG       2111 non-null float64\n",
      "pt_LIGSH               1430 non-null float64\n",
      "pt_LPCO_REV_POST       2109 non-null float64\n",
      "pt_LPPUB               1430 non-null float64\n",
      "pt_LSEN                2110 non-null float64\n",
      "pt_NOANTH              133 non-null float64\n",
      "pt_PEX_REPRO           2112 non-null float64\n",
      "pt_PTH                 2109 non-null float64\n",
      "pt_SCCO_REV            1985 non-null float64\n",
      "pt_SECOND_BR_REPRO     1427 non-null float64\n",
      "pt_SLCO_REV            1914 non-null float64\n",
      "pt_SPKF                2111 non-null float64\n",
      "pt_SLLT_CODE           2109 non-null float64\n",
      "dtypes: float64(32), int64(3), object(2)\n",
      "memory usage: 627.3+ KB\n"
     ]
    }
   ],
   "source": [
    "def get_row(r):\n",
    "    iris_id = None\n",
    "    \n",
    "    iid1, iid2 = None, None\n",
    "    try:\n",
    "        iid1 = gs_acc_to_iris.get(int(r['gs_acc']))\n",
    "    except ValueError:\n",
    "        pass\n",
    "        \n",
    "    try:\n",
    "        iid2 = igrc_acc_src_to_iris.get(int(r['igrc_acc_src']))\n",
    "    except ValueError:\n",
    "        pass\n",
    "\n",
    "    if iid1 and iid2 and iid1 != iid2:\n",
    "        raise ValueError(f'Found conflict: {iid1} != {iid2}')\n",
    "        \n",
    "    if not iid1 and not iid2:\n",
    "        iris_id = None\n",
    "    elif iid1:\n",
    "        iris_id = iid1\n",
    "    else:\n",
    "        iris_id = iid2\n",
    "    return r.append(pd.Series({'iris_id': iris_id}))\n",
    "        \n",
    "dfm = pd.DataFrame([\n",
    "    get_row(r)\n",
    "    for _, r in df_pt.iterrows()\n",
    "])\n",
    "dfm = dfm.rename(columns=lambda c: 'acc_' + c if not c.startswith('pt_') else c)\n",
    "dfm = dfm[[c for c in dfm if c.startswith('acc_')] + [c for c in dfm if c.startswith('pt_')]]\n",
    "\n",
    "# Finally, filter to where iris_id is present since this is the \n",
    "# link to sample id in plink fam \n",
    "dfm = dfm[dfm['acc_iris_id'].notnull()]\n",
    "assert dfm['acc_seq_no'].notnull().all()\n",
    "dfm.info()"
   ]
  },
  {
   "cell_type": "markdown",
   "metadata": {},
   "source": [
    "### Merge"
   ]
  },
  {
   "cell_type": "code",
   "execution_count": 95,
   "metadata": {},
   "outputs": [
    {
     "data": {
      "text/plain": [
       "<hail.table.Table at 0x7f11ea5a2a90>"
      ]
     },
     "execution_count": 95,
     "metadata": {},
     "output_type": "execute_result"
    }
   ],
   "source": [
    "ht = hl.Table.from_pandas(dfm).key_by('acc_iris_id')\n",
    "ht"
   ]
  },
  {
   "cell_type": "code",
   "execution_count": 122,
   "metadata": {},
   "outputs": [
    {
     "name": "stdout",
     "output_type": "stream",
     "text": [
      "----------------------------------------\n",
      "Global fields:\n",
      "    None\n",
      "----------------------------------------\n",
      "Column fields:\n",
      "    's': str\n",
      "    'acc_seq_no': int64\n",
      "    'acc_stock_id': int64\n",
      "    'acc_gs_acc': float64\n",
      "    'acc_gs_variety_name': str\n",
      "    'acc_igrc_acc_src': int64\n",
      "    'pt_APANTH_REPRO': float64\n",
      "    'pt_APSH': float64\n",
      "    'pt_APCO_REV_POST': float64\n",
      "    'pt_APCO_REV_REPRO': float64\n",
      "    'pt_AWCO_LREV': float64\n",
      "    'pt_AWCO_REV': float64\n",
      "    'pt_AWDIST': float64\n",
      "    'pt_BLANTHPR_VEG': float64\n",
      "    'pt_BLANTHDI_VEG': float64\n",
      "    'pt_BLPUB_VEG': float64\n",
      "    'pt_BLSCO_ANTH_VEG': float64\n",
      "    'pt_BLSCO_REV_VEG': float64\n",
      "    'pt_CCO_REV_VEG': float64\n",
      "    'pt_CUAN_REPRO': float64\n",
      "    'pt_ENDO': float64\n",
      "    'pt_FLA_EREPRO': float64\n",
      "    'pt_FLA_REPRO': float64\n",
      "    'pt_INANTH': float64\n",
      "    'pt_LIGCO_REV_VEG': float64\n",
      "    'pt_LIGSH': float64\n",
      "    'pt_LPCO_REV_POST': float64\n",
      "    'pt_LPPUB': float64\n",
      "    'pt_LSEN': float64\n",
      "    'pt_NOANTH': float64\n",
      "    'pt_PEX_REPRO': float64\n",
      "    'pt_PTH': float64\n",
      "    'pt_SCCO_REV': float64\n",
      "    'pt_SECOND_BR_REPRO': float64\n",
      "    'pt_SLCO_REV': float64\n",
      "    'pt_SPKF': float64\n",
      "    'pt_SLLT_CODE': float64\n",
      "----------------------------------------\n",
      "Row fields:\n",
      "    'locus': locus<GRCh37>\n",
      "    'alleles': array<str>\n",
      "    'rsid': str\n",
      "    'cm_position': float64\n",
      "----------------------------------------\n",
      "Entry fields:\n",
      "    'GT': call\n",
      "----------------------------------------\n",
      "Column key: ['s']\n",
      "Row key: ['locus', 'alleles']\n",
      "----------------------------------------\n"
     ]
    }
   ],
   "source": [
    "mte = mt.annotate_cols(**{c: ht[mt.s][c] for c in ht.to_pandas() if c != 'acc_iris_id'})\n",
    "mte = mte.filter_cols(hl.is_defined(mte.acc_seq_no))\n",
    "mte = mte.drop('fam_id', 'pat_id', 'mat_id', 'is_female', 'is_case')\n",
    "mte.describe()"
   ]
  },
  {
   "cell_type": "code",
   "execution_count": 123,
   "metadata": {},
   "outputs": [
    {
     "name": "stderr",
     "output_type": "stream",
     "text": [
      "2020-05-14 16:58:52 Hail: INFO: Coerced sorted dataset\n"
     ]
    },
    {
     "data": {
      "text/html": [
       "<div>\n",
       "<style scoped>\n",
       "    .dataframe tbody tr th:only-of-type {\n",
       "        vertical-align: middle;\n",
       "    }\n",
       "\n",
       "    .dataframe tbody tr th {\n",
       "        vertical-align: top;\n",
       "    }\n",
       "\n",
       "    .dataframe thead th {\n",
       "        text-align: right;\n",
       "    }\n",
       "</style>\n",
       "<table border=\"1\" class=\"dataframe\">\n",
       "  <thead>\n",
       "    <tr style=\"text-align: right;\">\n",
       "      <th></th>\n",
       "      <th>s</th>\n",
       "      <th>acc_seq_no</th>\n",
       "      <th>acc_stock_id</th>\n",
       "      <th>acc_gs_acc</th>\n",
       "      <th>acc_gs_variety_name</th>\n",
       "      <th>acc_igrc_acc_src</th>\n",
       "      <th>pt_APANTH_REPRO</th>\n",
       "      <th>pt_APSH</th>\n",
       "      <th>pt_APCO_REV_POST</th>\n",
       "      <th>pt_APCO_REV_REPRO</th>\n",
       "      <th>...</th>\n",
       "      <th>pt_LPPUB</th>\n",
       "      <th>pt_LSEN</th>\n",
       "      <th>pt_NOANTH</th>\n",
       "      <th>pt_PEX_REPRO</th>\n",
       "      <th>pt_PTH</th>\n",
       "      <th>pt_SCCO_REV</th>\n",
       "      <th>pt_SECOND_BR_REPRO</th>\n",
       "      <th>pt_SLCO_REV</th>\n",
       "      <th>pt_SPKF</th>\n",
       "      <th>pt_SLLT_CODE</th>\n",
       "    </tr>\n",
       "  </thead>\n",
       "  <tbody>\n",
       "    <tr>\n",
       "      <th>0</th>\n",
       "      <td>IRIS_313-10000</td>\n",
       "      <td>335</td>\n",
       "      <td>387</td>\n",
       "      <td>125907.0</td>\n",
       "      <td>SUWEON 311::IRGC 61890-1</td>\n",
       "      <td>61890</td>\n",
       "      <td>NaN</td>\n",
       "      <td>NaN</td>\n",
       "      <td>NaN</td>\n",
       "      <td>20.0</td>\n",
       "      <td>...</td>\n",
       "      <td>2.0</td>\n",
       "      <td>9.0</td>\n",
       "      <td>NaN</td>\n",
       "      <td>7.0</td>\n",
       "      <td>1.0</td>\n",
       "      <td>10.0</td>\n",
       "      <td>1.0</td>\n",
       "      <td>20.0</td>\n",
       "      <td>5.0</td>\n",
       "      <td>1.0</td>\n",
       "    </tr>\n",
       "    <tr>\n",
       "      <th>1</th>\n",
       "      <td>IRIS_313-10001</td>\n",
       "      <td>336</td>\n",
       "      <td>388</td>\n",
       "      <td>125692.0</td>\n",
       "      <td>C 662083::IRGC 62101-1</td>\n",
       "      <td>62101</td>\n",
       "      <td>NaN</td>\n",
       "      <td>NaN</td>\n",
       "      <td>NaN</td>\n",
       "      <td>20.0</td>\n",
       "      <td>...</td>\n",
       "      <td>2.0</td>\n",
       "      <td>7.0</td>\n",
       "      <td>NaN</td>\n",
       "      <td>5.0</td>\n",
       "      <td>2.0</td>\n",
       "      <td>10.0</td>\n",
       "      <td>1.0</td>\n",
       "      <td>20.0</td>\n",
       "      <td>4.0</td>\n",
       "      <td>3.0</td>\n",
       "    </tr>\n",
       "    <tr>\n",
       "      <th>2</th>\n",
       "      <td>IRIS_313-10002</td>\n",
       "      <td>103</td>\n",
       "      <td>129</td>\n",
       "      <td>125955.0</td>\n",
       "      <td>BW 295-5::IRGC 63098-1</td>\n",
       "      <td>63098</td>\n",
       "      <td>NaN</td>\n",
       "      <td>NaN</td>\n",
       "      <td>20.0</td>\n",
       "      <td>20.0</td>\n",
       "      <td>...</td>\n",
       "      <td>4.0</td>\n",
       "      <td>7.0</td>\n",
       "      <td>NaN</td>\n",
       "      <td>7.0</td>\n",
       "      <td>3.0</td>\n",
       "      <td>10.0</td>\n",
       "      <td>1.0</td>\n",
       "      <td>20.0</td>\n",
       "      <td>4.0</td>\n",
       "      <td>1.0</td>\n",
       "    </tr>\n",
       "    <tr>\n",
       "      <th>3</th>\n",
       "      <td>IRIS_313-10007</td>\n",
       "      <td>337</td>\n",
       "      <td>389</td>\n",
       "      <td>125749.0</td>\n",
       "      <td>GARURA::IRGC 64111-1</td>\n",
       "      <td>64111</td>\n",
       "      <td>NaN</td>\n",
       "      <td>NaN</td>\n",
       "      <td>NaN</td>\n",
       "      <td>10.0</td>\n",
       "      <td>...</td>\n",
       "      <td>4.0</td>\n",
       "      <td>3.0</td>\n",
       "      <td>NaN</td>\n",
       "      <td>5.0</td>\n",
       "      <td>3.0</td>\n",
       "      <td>10.0</td>\n",
       "      <td>1.0</td>\n",
       "      <td>20.0</td>\n",
       "      <td>4.0</td>\n",
       "      <td>3.0</td>\n",
       "    </tr>\n",
       "    <tr>\n",
       "      <th>4</th>\n",
       "      <td>IRIS_313-10010</td>\n",
       "      <td>338</td>\n",
       "      <td>390</td>\n",
       "      <td>125818.0</td>\n",
       "      <td>LALKA (LAL DHAN)::IRGC 64946-1</td>\n",
       "      <td>64946</td>\n",
       "      <td>NaN</td>\n",
       "      <td>NaN</td>\n",
       "      <td>NaN</td>\n",
       "      <td>20.0</td>\n",
       "      <td>...</td>\n",
       "      <td>2.0</td>\n",
       "      <td>5.0</td>\n",
       "      <td>NaN</td>\n",
       "      <td>7.0</td>\n",
       "      <td>3.0</td>\n",
       "      <td>10.0</td>\n",
       "      <td>1.0</td>\n",
       "      <td>20.0</td>\n",
       "      <td>4.0</td>\n",
       "      <td>3.0</td>\n",
       "    </tr>\n",
       "  </tbody>\n",
       "</table>\n",
       "<p>5 rows × 37 columns</p>\n",
       "</div>"
      ],
      "text/plain": [
       "                s  acc_seq_no  acc_stock_id  acc_gs_acc  \\\n",
       "0  IRIS_313-10000         335           387    125907.0   \n",
       "1  IRIS_313-10001         336           388    125692.0   \n",
       "2  IRIS_313-10002         103           129    125955.0   \n",
       "3  IRIS_313-10007         337           389    125749.0   \n",
       "4  IRIS_313-10010         338           390    125818.0   \n",
       "\n",
       "              acc_gs_variety_name  acc_igrc_acc_src  pt_APANTH_REPRO  pt_APSH  \\\n",
       "0        SUWEON 311::IRGC 61890-1             61890              NaN      NaN   \n",
       "1          C 662083::IRGC 62101-1             62101              NaN      NaN   \n",
       "2          BW 295-5::IRGC 63098-1             63098              NaN      NaN   \n",
       "3            GARURA::IRGC 64111-1             64111              NaN      NaN   \n",
       "4  LALKA (LAL DHAN)::IRGC 64946-1             64946              NaN      NaN   \n",
       "\n",
       "   pt_APCO_REV_POST  pt_APCO_REV_REPRO  ...  pt_LPPUB  pt_LSEN  pt_NOANTH  \\\n",
       "0               NaN               20.0  ...       2.0      9.0        NaN   \n",
       "1               NaN               20.0  ...       2.0      7.0        NaN   \n",
       "2              20.0               20.0  ...       4.0      7.0        NaN   \n",
       "3               NaN               10.0  ...       4.0      3.0        NaN   \n",
       "4               NaN               20.0  ...       2.0      5.0        NaN   \n",
       "\n",
       "   pt_PEX_REPRO  pt_PTH  pt_SCCO_REV  pt_SECOND_BR_REPRO  pt_SLCO_REV  \\\n",
       "0           7.0     1.0         10.0                 1.0         20.0   \n",
       "1           5.0     2.0         10.0                 1.0         20.0   \n",
       "2           7.0     3.0         10.0                 1.0         20.0   \n",
       "3           5.0     3.0         10.0                 1.0         20.0   \n",
       "4           7.0     3.0         10.0                 1.0         20.0   \n",
       "\n",
       "   pt_SPKF  pt_SLLT_CODE  \n",
       "0      5.0           1.0  \n",
       "1      4.0           3.0  \n",
       "2      4.0           1.0  \n",
       "3      4.0           3.0  \n",
       "4      4.0           3.0  \n",
       "\n",
       "[5 rows x 37 columns]"
      ]
     },
     "execution_count": 123,
     "metadata": {},
     "output_type": "execute_result"
    }
   ],
   "source": [
    "df_cols = mte.cols().to_pandas()\n",
    "df_cols.head(5)"
   ]
  },
  {
   "cell_type": "code",
   "execution_count": 124,
   "metadata": {},
   "outputs": [
    {
     "name": "stdout",
     "output_type": "stream",
     "text": [
      "<class 'pandas.core.frame.DataFrame'>\n",
      "RangeIndex: 2113 entries, 0 to 2112\n",
      "Data columns (total 37 columns):\n",
      "s                      2113 non-null object\n",
      "acc_seq_no             2113 non-null int64\n",
      "acc_stock_id           2113 non-null int64\n",
      "acc_gs_acc             2113 non-null float64\n",
      "acc_gs_variety_name    2113 non-null object\n",
      "acc_igrc_acc_src       2113 non-null int64\n",
      "pt_APANTH_REPRO        91 non-null float64\n",
      "pt_APSH                133 non-null float64\n",
      "pt_APCO_REV_POST       552 non-null float64\n",
      "pt_APCO_REV_REPRO      2108 non-null float64\n",
      "pt_AWCO_LREV           133 non-null float64\n",
      "pt_AWCO_REV            2112 non-null float64\n",
      "pt_AWDIST              30 non-null float64\n",
      "pt_BLANTHPR_VEG        133 non-null float64\n",
      "pt_BLANTHDI_VEG        13 non-null float64\n",
      "pt_BLPUB_VEG           2112 non-null float64\n",
      "pt_BLSCO_ANTH_VEG      133 non-null float64\n",
      "pt_BLSCO_REV_VEG       2111 non-null float64\n",
      "pt_CCO_REV_VEG         2110 non-null float64\n",
      "pt_CUAN_REPRO          2111 non-null float64\n",
      "pt_ENDO                1976 non-null float64\n",
      "pt_FLA_EREPRO          133 non-null float64\n",
      "pt_FLA_REPRO           2109 non-null float64\n",
      "pt_INANTH              133 non-null float64\n",
      "pt_LIGCO_REV_VEG       2111 non-null float64\n",
      "pt_LIGSH               1430 non-null float64\n",
      "pt_LPCO_REV_POST       2109 non-null float64\n",
      "pt_LPPUB               1430 non-null float64\n",
      "pt_LSEN                2110 non-null float64\n",
      "pt_NOANTH              133 non-null float64\n",
      "pt_PEX_REPRO           2112 non-null float64\n",
      "pt_PTH                 2109 non-null float64\n",
      "pt_SCCO_REV            1985 non-null float64\n",
      "pt_SECOND_BR_REPRO     1427 non-null float64\n",
      "pt_SLCO_REV            1914 non-null float64\n",
      "pt_SPKF                2111 non-null float64\n",
      "pt_SLLT_CODE           2109 non-null float64\n",
      "dtypes: float64(32), int64(3), object(2)\n",
      "memory usage: 610.9+ KB\n"
     ]
    }
   ],
   "source": [
    "df_cols.info()"
   ]
  },
  {
   "cell_type": "markdown",
   "metadata": {},
   "source": [
    "### Export"
   ]
  },
  {
   "cell_type": "code",
   "execution_count": 6,
   "metadata": {},
   "outputs": [
    {
     "data": {
      "text/plain": [
       "'/home/eczech/data/gwas/rice-snpseek/1M_GWAS_SNP_Dataset/rg-3k-gwas-export'"
      ]
     },
     "execution_count": 6,
     "metadata": {},
     "output_type": "execute_result"
    }
   ],
   "source": [
    "export_dir = osp.join(data_dir, 'rg-3k-gwas-export')\n",
    "export_dir"
   ]
  },
  {
   "cell_type": "code",
   "execution_count": 125,
   "metadata": {},
   "outputs": [
    {
     "name": "stderr",
     "output_type": "stream",
     "text": [
      "2020-05-14 17:00:00 Hail: INFO: Coerced sorted dataset\n",
      "2020-05-14 17:01:15 Hail: INFO: wrote matrix table with 1011601 rows and 2113 columns in 23 partitions to /home/eczech/data/gwas/rice-snpseek/1M_GWAS_SNP_Dataset/rg-3k-gwas-export.mt\n"
     ]
    },
    {
     "data": {
      "text/plain": [
       "'/home/eczech/data/gwas/rice-snpseek/1M_GWAS_SNP_Dataset/rg-3k-gwas-export.mt'"
      ]
     },
     "execution_count": 125,
     "metadata": {},
     "output_type": "execute_result"
    }
   ],
   "source": [
    "path = osp.join(export_dir, 'rg-3k-gwas-export.mt')\n",
    "mte.write(path, overwrite=True)\n",
    "path"
   ]
  },
  {
   "cell_type": "code",
   "execution_count": 127,
   "metadata": {},
   "outputs": [
    {
     "name": "stdout",
     "output_type": "stream",
     "text": [
      "471M\t/home/eczech/data/gwas/rice-snpseek/1M_GWAS_SNP_Dataset/rg-3k-gwas-export.mt\n"
     ]
    }
   ],
   "source": [
    "!du -sh $path"
   ]
  },
  {
   "cell_type": "code",
   "execution_count": 132,
   "metadata": {},
   "outputs": [
    {
     "data": {
      "text/plain": [
       "'/home/eczech/data/gwas/rice-snpseek/1M_GWAS_SNP_Dataset/rg-3k-gwas-export.cols.csv'"
      ]
     },
     "execution_count": 132,
     "metadata": {},
     "output_type": "execute_result"
    }
   ],
   "source": [
    "# Export column data as csv\n",
    "path = osp.join(export_dir, 'rg-3k-gwas-export.cols.csv')\n",
    "mte.cols().to_pandas().to_csv(path, index=False)\n",
    "path"
   ]
  },
  {
   "cell_type": "code",
   "execution_count": 134,
   "metadata": {},
   "outputs": [
    {
     "name": "stderr",
     "output_type": "stream",
     "text": [
      "2020-05-14 17:10:01 Hail: INFO: Coerced sorted dataset\n"
     ]
    },
    {
     "data": {
      "text/plain": [
       "'/home/eczech/data/gwas/rice-snpseek/1M_GWAS_SNP_Dataset/rg-3k-gwas-export.rows.csv.gz'"
      ]
     },
     "execution_count": 134,
     "metadata": {},
     "output_type": "execute_result"
    }
   ],
   "source": [
    "# Export row data as csv\n",
    "path = osp.join(export_dir, 'rg-3k-gwas-export.rows.csv.gz')\n",
    "mte.rows().to_pandas().to_csv(path, index=False)\n",
    "path"
   ]
  },
  {
   "cell_type": "code",
   "execution_count": 131,
   "metadata": {},
   "outputs": [
    {
     "name": "stderr",
     "output_type": "stream",
     "text": [
      "2020-05-14 17:04:09 Hail: INFO: Coerced sorted dataset\n",
      "2020-05-14 17:04:12 Hail: INFO: Coerced sorted dataset\n",
      "2020-05-14 17:08:32 Hail: INFO: Wrote all 247 blocks of 1011601 x 2113 matrix with block size 4096.\n"
     ]
    },
    {
     "data": {
      "text/plain": [
       "<hail.linalg.blockmatrix.BlockMatrix at 0x7f120b440450>"
      ]
     },
     "execution_count": 131,
     "metadata": {},
     "output_type": "execute_result"
    }
   ],
   "source": [
    "# Export call data (mean imputed) as zarr\n",
    "bm = hl.linalg.BlockMatrix.from_entry_expr(mte.GT.n_alt_alleles(), mean_impute=True, center=False, normalize=False)\n",
    "bm"
   ]
  },
  {
   "cell_type": "code",
   "execution_count": 135,
   "metadata": {},
   "outputs": [
    {
     "name": "stdout",
     "output_type": "stream",
     "text": [
      "CPU times: user 18.2 ms, sys: 10.4 s, total: 10.5 s\n",
      "Wall time: 1min 31s\n"
     ]
    }
   ],
   "source": [
    "%%time\n",
    "# Load the whole float64 call array into memory (need ~70G RAM to handle this)\n",
    "ca = bm.to_numpy()"
   ]
  },
  {
   "cell_type": "code",
   "execution_count": 153,
   "metadata": {},
   "outputs": [
    {
     "data": {
      "text/plain": [
       "(dtype('float64'), (1011601, 2113), 17100103304)"
      ]
     },
     "execution_count": 153,
     "metadata": {},
     "output_type": "execute_result"
    }
   ],
   "source": [
    "ca.dtype, ca.shape, ca.nbytes"
   ]
  },
  {
   "cell_type": "code",
   "execution_count": 144,
   "metadata": {},
   "outputs": [
    {
     "data": {
      "text/html": [
       "<table>\n",
       "<tr>\n",
       "<td>\n",
       "<table>\n",
       "  <thead>\n",
       "    <tr><td> </td><th> Array </th><th> Chunk </th></tr>\n",
       "  </thead>\n",
       "  <tbody>\n",
       "    <tr><th> Bytes </th><td> 2.14 GB </td> <td> 21.13 MB </td></tr>\n",
       "    <tr><th> Shape </th><td> (1011601, 2113) </td> <td> (10000, 2113) </td></tr>\n",
       "    <tr><th> Count </th><td> 307 Tasks </td><td> 102 Chunks </td></tr>\n",
       "    <tr><th> Type </th><td> int8 </td><td> numpy.ndarray </td></tr>\n",
       "  </tbody>\n",
       "</table>\n",
       "</td>\n",
       "<td>\n",
       "<svg width=\"75\" height=\"170\" style=\"stroke:rgb(0,0,0);stroke-width:1\" >\n",
       "\n",
       "  <!-- Horizontal lines -->\n",
       "  <line x1=\"0\" y1=\"0\" x2=\"25\" y2=\"0\" style=\"stroke-width:2\" />\n",
       "  <line x1=\"0\" y1=\"1\" x2=\"25\" y2=\"1\" />\n",
       "  <line x1=\"0\" y1=\"2\" x2=\"25\" y2=\"2\" />\n",
       "  <line x1=\"0\" y1=\"3\" x2=\"25\" y2=\"3\" />\n",
       "  <line x1=\"0\" y1=\"4\" x2=\"25\" y2=\"4\" />\n",
       "  <line x1=\"0\" y1=\"5\" x2=\"25\" y2=\"5\" />\n",
       "  <line x1=\"0\" y1=\"7\" x2=\"25\" y2=\"7\" />\n",
       "  <line x1=\"0\" y1=\"8\" x2=\"25\" y2=\"8\" />\n",
       "  <line x1=\"0\" y1=\"9\" x2=\"25\" y2=\"9\" />\n",
       "  <line x1=\"0\" y1=\"10\" x2=\"25\" y2=\"10\" />\n",
       "  <line x1=\"0\" y1=\"11\" x2=\"25\" y2=\"11\" />\n",
       "  <line x1=\"0\" y1=\"13\" x2=\"25\" y2=\"13\" />\n",
       "  <line x1=\"0\" y1=\"14\" x2=\"25\" y2=\"14\" />\n",
       "  <line x1=\"0\" y1=\"15\" x2=\"25\" y2=\"15\" />\n",
       "  <line x1=\"0\" y1=\"16\" x2=\"25\" y2=\"16\" />\n",
       "  <line x1=\"0\" y1=\"17\" x2=\"25\" y2=\"17\" />\n",
       "  <line x1=\"0\" y1=\"18\" x2=\"25\" y2=\"18\" />\n",
       "  <line x1=\"0\" y1=\"20\" x2=\"25\" y2=\"20\" />\n",
       "  <line x1=\"0\" y1=\"21\" x2=\"25\" y2=\"21\" />\n",
       "  <line x1=\"0\" y1=\"22\" x2=\"25\" y2=\"22\" />\n",
       "  <line x1=\"0\" y1=\"23\" x2=\"25\" y2=\"23\" />\n",
       "  <line x1=\"0\" y1=\"24\" x2=\"25\" y2=\"24\" />\n",
       "  <line x1=\"0\" y1=\"26\" x2=\"25\" y2=\"26\" />\n",
       "  <line x1=\"0\" y1=\"27\" x2=\"25\" y2=\"27\" />\n",
       "  <line x1=\"0\" y1=\"28\" x2=\"25\" y2=\"28\" />\n",
       "  <line x1=\"0\" y1=\"29\" x2=\"25\" y2=\"29\" />\n",
       "  <line x1=\"0\" y1=\"30\" x2=\"25\" y2=\"30\" />\n",
       "  <line x1=\"0\" y1=\"32\" x2=\"25\" y2=\"32\" />\n",
       "  <line x1=\"0\" y1=\"33\" x2=\"25\" y2=\"33\" />\n",
       "  <line x1=\"0\" y1=\"34\" x2=\"25\" y2=\"34\" />\n",
       "  <line x1=\"0\" y1=\"35\" x2=\"25\" y2=\"35\" />\n",
       "  <line x1=\"0\" y1=\"36\" x2=\"25\" y2=\"36\" />\n",
       "  <line x1=\"0\" y1=\"37\" x2=\"25\" y2=\"37\" />\n",
       "  <line x1=\"0\" y1=\"39\" x2=\"25\" y2=\"39\" />\n",
       "  <line x1=\"0\" y1=\"40\" x2=\"25\" y2=\"40\" />\n",
       "  <line x1=\"0\" y1=\"41\" x2=\"25\" y2=\"41\" />\n",
       "  <line x1=\"0\" y1=\"42\" x2=\"25\" y2=\"42\" />\n",
       "  <line x1=\"0\" y1=\"43\" x2=\"25\" y2=\"43\" />\n",
       "  <line x1=\"0\" y1=\"45\" x2=\"25\" y2=\"45\" />\n",
       "  <line x1=\"0\" y1=\"46\" x2=\"25\" y2=\"46\" />\n",
       "  <line x1=\"0\" y1=\"47\" x2=\"25\" y2=\"47\" />\n",
       "  <line x1=\"0\" y1=\"48\" x2=\"25\" y2=\"48\" />\n",
       "  <line x1=\"0\" y1=\"49\" x2=\"25\" y2=\"49\" />\n",
       "  <line x1=\"0\" y1=\"51\" x2=\"25\" y2=\"51\" />\n",
       "  <line x1=\"0\" y1=\"52\" x2=\"25\" y2=\"52\" />\n",
       "  <line x1=\"0\" y1=\"53\" x2=\"25\" y2=\"53\" />\n",
       "  <line x1=\"0\" y1=\"54\" x2=\"25\" y2=\"54\" />\n",
       "  <line x1=\"0\" y1=\"55\" x2=\"25\" y2=\"55\" />\n",
       "  <line x1=\"0\" y1=\"56\" x2=\"25\" y2=\"56\" />\n",
       "  <line x1=\"0\" y1=\"58\" x2=\"25\" y2=\"58\" />\n",
       "  <line x1=\"0\" y1=\"59\" x2=\"25\" y2=\"59\" />\n",
       "  <line x1=\"0\" y1=\"60\" x2=\"25\" y2=\"60\" />\n",
       "  <line x1=\"0\" y1=\"61\" x2=\"25\" y2=\"61\" />\n",
       "  <line x1=\"0\" y1=\"62\" x2=\"25\" y2=\"62\" />\n",
       "  <line x1=\"0\" y1=\"64\" x2=\"25\" y2=\"64\" />\n",
       "  <line x1=\"0\" y1=\"65\" x2=\"25\" y2=\"65\" />\n",
       "  <line x1=\"0\" y1=\"66\" x2=\"25\" y2=\"66\" />\n",
       "  <line x1=\"0\" y1=\"67\" x2=\"25\" y2=\"67\" />\n",
       "  <line x1=\"0\" y1=\"68\" x2=\"25\" y2=\"68\" />\n",
       "  <line x1=\"0\" y1=\"69\" x2=\"25\" y2=\"69\" />\n",
       "  <line x1=\"0\" y1=\"71\" x2=\"25\" y2=\"71\" />\n",
       "  <line x1=\"0\" y1=\"72\" x2=\"25\" y2=\"72\" />\n",
       "  <line x1=\"0\" y1=\"73\" x2=\"25\" y2=\"73\" />\n",
       "  <line x1=\"0\" y1=\"74\" x2=\"25\" y2=\"74\" />\n",
       "  <line x1=\"0\" y1=\"75\" x2=\"25\" y2=\"75\" />\n",
       "  <line x1=\"0\" y1=\"77\" x2=\"25\" y2=\"77\" />\n",
       "  <line x1=\"0\" y1=\"78\" x2=\"25\" y2=\"78\" />\n",
       "  <line x1=\"0\" y1=\"79\" x2=\"25\" y2=\"79\" />\n",
       "  <line x1=\"0\" y1=\"80\" x2=\"25\" y2=\"80\" />\n",
       "  <line x1=\"0\" y1=\"81\" x2=\"25\" y2=\"81\" />\n",
       "  <line x1=\"0\" y1=\"83\" x2=\"25\" y2=\"83\" />\n",
       "  <line x1=\"0\" y1=\"84\" x2=\"25\" y2=\"84\" />\n",
       "  <line x1=\"0\" y1=\"85\" x2=\"25\" y2=\"85\" />\n",
       "  <line x1=\"0\" y1=\"86\" x2=\"25\" y2=\"86\" />\n",
       "  <line x1=\"0\" y1=\"87\" x2=\"25\" y2=\"87\" />\n",
       "  <line x1=\"0\" y1=\"88\" x2=\"25\" y2=\"88\" />\n",
       "  <line x1=\"0\" y1=\"90\" x2=\"25\" y2=\"90\" />\n",
       "  <line x1=\"0\" y1=\"91\" x2=\"25\" y2=\"91\" />\n",
       "  <line x1=\"0\" y1=\"92\" x2=\"25\" y2=\"92\" />\n",
       "  <line x1=\"0\" y1=\"93\" x2=\"25\" y2=\"93\" />\n",
       "  <line x1=\"0\" y1=\"94\" x2=\"25\" y2=\"94\" />\n",
       "  <line x1=\"0\" y1=\"96\" x2=\"25\" y2=\"96\" />\n",
       "  <line x1=\"0\" y1=\"97\" x2=\"25\" y2=\"97\" />\n",
       "  <line x1=\"0\" y1=\"98\" x2=\"25\" y2=\"98\" />\n",
       "  <line x1=\"0\" y1=\"99\" x2=\"25\" y2=\"99\" />\n",
       "  <line x1=\"0\" y1=\"100\" x2=\"25\" y2=\"100\" />\n",
       "  <line x1=\"0\" y1=\"102\" x2=\"25\" y2=\"102\" />\n",
       "  <line x1=\"0\" y1=\"103\" x2=\"25\" y2=\"103\" />\n",
       "  <line x1=\"0\" y1=\"104\" x2=\"25\" y2=\"104\" />\n",
       "  <line x1=\"0\" y1=\"105\" x2=\"25\" y2=\"105\" />\n",
       "  <line x1=\"0\" y1=\"106\" x2=\"25\" y2=\"106\" />\n",
       "  <line x1=\"0\" y1=\"107\" x2=\"25\" y2=\"107\" />\n",
       "  <line x1=\"0\" y1=\"109\" x2=\"25\" y2=\"109\" />\n",
       "  <line x1=\"0\" y1=\"110\" x2=\"25\" y2=\"110\" />\n",
       "  <line x1=\"0\" y1=\"111\" x2=\"25\" y2=\"111\" />\n",
       "  <line x1=\"0\" y1=\"112\" x2=\"25\" y2=\"112\" />\n",
       "  <line x1=\"0\" y1=\"113\" x2=\"25\" y2=\"113\" />\n",
       "  <line x1=\"0\" y1=\"115\" x2=\"25\" y2=\"115\" />\n",
       "  <line x1=\"0\" y1=\"116\" x2=\"25\" y2=\"116\" />\n",
       "  <line x1=\"0\" y1=\"117\" x2=\"25\" y2=\"117\" />\n",
       "  <line x1=\"0\" y1=\"118\" x2=\"25\" y2=\"118\" />\n",
       "  <line x1=\"0\" y1=\"119\" x2=\"25\" y2=\"119\" />\n",
       "  <line x1=\"0\" y1=\"120\" x2=\"25\" y2=\"120\" style=\"stroke-width:2\" />\n",
       "\n",
       "  <!-- Vertical lines -->\n",
       "  <line x1=\"0\" y1=\"0\" x2=\"0\" y2=\"120\" style=\"stroke-width:2\" />\n",
       "  <line x1=\"25\" y1=\"0\" x2=\"25\" y2=\"120\" style=\"stroke-width:2\" />\n",
       "\n",
       "  <!-- Colored Rectangle -->\n",
       "  <polygon points=\"0.000000,0.000000 25.412617,0.000000 25.412617,120.000000 0.000000,120.000000\" style=\"fill:#ECB172A0;stroke-width:0\"/>\n",
       "\n",
       "  <!-- Text -->\n",
       "  <text x=\"12.706308\" y=\"140.000000\" font-size=\"1.0rem\" font-weight=\"100\" text-anchor=\"middle\" >2113</text>\n",
       "  <text x=\"45.412617\" y=\"60.000000\" font-size=\"1.0rem\" font-weight=\"100\" text-anchor=\"middle\" transform=\"rotate(-90,45.412617,60.000000)\">1011601</text>\n",
       "</svg>\n",
       "</td>\n",
       "</tr>\n",
       "</table>"
      ],
      "text/plain": [
       "dask.array<astype, shape=(1011601, 2113), dtype=int8, chunksize=(10000, 2113), chunktype=numpy.ndarray>"
      ]
     },
     "execution_count": 144,
     "metadata": {},
     "output_type": "execute_result"
    }
   ],
   "source": [
    "# Write using dask to avoid in-memory copies\n",
    "cad = da.round(da.asarray(ca, chunks=10000)).astype(np.int8)\n",
    "cad"
   ]
  },
  {
   "cell_type": "code",
   "execution_count": 156,
   "metadata": {},
   "outputs": [
    {
     "data": {
      "text/plain": [
       "'/home/eczech/data/gwas/rice-snpseek/1M_GWAS_SNP_Dataset/rg-3k-gwas-export.calls.zarr'"
      ]
     },
     "execution_count": 156,
     "metadata": {},
     "output_type": "execute_result"
    }
   ],
   "source": [
    "path = osp.join(export_dir, 'rg-3k-gwas-export.calls.zarr')\n",
    "path"
   ]
  },
  {
   "cell_type": "code",
   "execution_count": 147,
   "metadata": {},
   "outputs": [
    {
     "name": "stdout",
     "output_type": "stream",
     "text": [
      "CPU times: user 12.8 s, sys: 2.57 s, total: 15.4 s\n",
      "Wall time: 8.98 s\n"
     ]
    },
    {
     "data": {
      "text/plain": [
       "'/home/eczech/data/gwas/rice-snpseek/1M_GWAS_SNP_Dataset/rg-3k-gwas-export.calls.zarr'"
      ]
     },
     "execution_count": 147,
     "metadata": {},
     "output_type": "execute_result"
    }
   ],
   "source": [
    "%%time\n",
    "cad.to_zarr(path)\n",
    "path"
   ]
  },
  {
   "cell_type": "code",
   "execution_count": 148,
   "metadata": {},
   "outputs": [
    {
     "name": "stdout",
     "output_type": "stream",
     "text": [
      "582M\t/home/eczech/data/gwas/rice-snpseek/1M_GWAS_SNP_Dataset/rg-3k-gwas-export.calls.zarr\n"
     ]
    }
   ],
   "source": [
    "!du -sh $path"
   ]
  },
  {
   "cell_type": "markdown",
   "metadata": {},
   "source": [
    "### Upload\n",
    "\n",
    "Uploads go to: https://console.cloud.google.com/storage/browser/public-gwas-datasets/rice-3k-snpseek"
   ]
  }
 ],
 "metadata": {
  "kernelspec": {
   "display_name": "Python 3",
   "language": "python",
   "name": "python3"
  },
  "language_info": {
   "codemirror_mode": {
    "name": "ipython",
    "version": 3
   },
   "file_extension": ".py",
   "mimetype": "text/x-python",
   "name": "python",
   "nbconvert_exporter": "python",
   "pygments_lexer": "ipython3",
   "version": "3.7.6"
  }
 },
 "nbformat": 4,
 "nbformat_minor": 4
}
