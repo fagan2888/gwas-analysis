{
 "cells": [
  {
   "cell_type": "markdown",
   "metadata": {},
   "source": [
    "### 3K Rice Genome GWAS Dataset Export Usage"
   ]
  },
  {
   "cell_type": "markdown",
   "metadata": {},
   "source": [
    "Data for this was exported as single Hail MatrixTable (`.mt`) as well as individual variants (`csv.gz`), samples (`csv`), and call datasets (`zarr`)."
   ]
  },
  {
   "cell_type": "code",
   "execution_count": 10,
   "metadata": {},
   "outputs": [
    {
     "name": "stderr",
     "output_type": "stream",
     "text": [
      "Running on Apache Spark version 2.4.4\n",
      "SparkUI available at http://8352602c2ab9:4041\n",
      "Welcome to\n",
      "     __  __     <>__\n",
      "    / /_/ /__  __/ /\n",
      "   / __  / _ `/ / /\n",
      "  /_/ /_/\\_,_/_/_/   version 0.2.32-a5876a0a2853\n",
      "LOGGING: writing to /home/eczech/repos/gwas-analysis/notebooks/organism/rice/hail-20200514-1737-0.2.32-a5876a0a2853.log\n"
     ]
    }
   ],
   "source": [
    "from pathlib import Path\n",
    "import pandas as pd\n",
    "import numpy as np\n",
    "import hail as hl\n",
    "import zarr\n",
    "hl.init()"
   ]
  },
  {
   "cell_type": "code",
   "execution_count": 11,
   "metadata": {},
   "outputs": [
    {
     "data": {
      "text/plain": [
       "PosixPath('/home/eczech/data/gwas/rice-snpseek/1M_GWAS_SNP_Dataset/rg-3k-gwas-export')"
      ]
     },
     "execution_count": 11,
     "metadata": {},
     "output_type": "execute_result"
    }
   ],
   "source": [
    "path = Path('~/data/gwas/rice-snpseek/1M_GWAS_SNP_Dataset/rg-3k-gwas-export').expanduser()\n",
    "path"
   ]
  },
  {
   "cell_type": "code",
   "execution_count": 15,
   "metadata": {},
   "outputs": [
    {
     "name": "stdout",
     "output_type": "stream",
     "text": [
      "582M\t/home/eczech/data/gwas/rice-snpseek/1M_GWAS_SNP_Dataset/rg-3k-gwas-export/rg-3k-gwas-export.calls.zarr\n",
      "336K\t/home/eczech/data/gwas/rice-snpseek/1M_GWAS_SNP_Dataset/rg-3k-gwas-export/rg-3k-gwas-export.cols.csv\n",
      "471M\t/home/eczech/data/gwas/rice-snpseek/1M_GWAS_SNP_Dataset/rg-3k-gwas-export/rg-3k-gwas-export.mt\n",
      "7.5M\t/home/eczech/data/gwas/rice-snpseek/1M_GWAS_SNP_Dataset/rg-3k-gwas-export/rg-3k-gwas-export.rows.csv.gz\n"
     ]
    }
   ],
   "source": [
    "!du -sh {str(path)}/*"
   ]
  },
  {
   "cell_type": "markdown",
   "metadata": {},
   "source": [
    "#### Hail"
   ]
  },
  {
   "cell_type": "code",
   "execution_count": 16,
   "metadata": {},
   "outputs": [
    {
     "name": "stdout",
     "output_type": "stream",
     "text": [
      "----------------------------------------\n",
      "Global fields:\n",
      "    None\n",
      "----------------------------------------\n",
      "Column fields:\n",
      "    's': str\n",
      "    'acc_seq_no': int64\n",
      "    'acc_stock_id': int64\n",
      "    'acc_gs_acc': float64\n",
      "    'acc_gs_variety_name': str\n",
      "    'acc_igrc_acc_src': int64\n",
      "    'pt_APANTH_REPRO': float64\n",
      "    'pt_APSH': float64\n",
      "    'pt_APCO_REV_POST': float64\n",
      "    'pt_APCO_REV_REPRO': float64\n",
      "    'pt_AWCO_LREV': float64\n",
      "    'pt_AWCO_REV': float64\n",
      "    'pt_AWDIST': float64\n",
      "    'pt_BLANTHPR_VEG': float64\n",
      "    'pt_BLANTHDI_VEG': float64\n",
      "    'pt_BLPUB_VEG': float64\n",
      "    'pt_BLSCO_ANTH_VEG': float64\n",
      "    'pt_BLSCO_REV_VEG': float64\n",
      "    'pt_CCO_REV_VEG': float64\n",
      "    'pt_CUAN_REPRO': float64\n",
      "    'pt_ENDO': float64\n",
      "    'pt_FLA_EREPRO': float64\n",
      "    'pt_FLA_REPRO': float64\n",
      "    'pt_INANTH': float64\n",
      "    'pt_LIGCO_REV_VEG': float64\n",
      "    'pt_LIGSH': float64\n",
      "    'pt_LPCO_REV_POST': float64\n",
      "    'pt_LPPUB': float64\n",
      "    'pt_LSEN': float64\n",
      "    'pt_NOANTH': float64\n",
      "    'pt_PEX_REPRO': float64\n",
      "    'pt_PTH': float64\n",
      "    'pt_SCCO_REV': float64\n",
      "    'pt_SECOND_BR_REPRO': float64\n",
      "    'pt_SLCO_REV': float64\n",
      "    'pt_SPKF': float64\n",
      "    'pt_SLLT_CODE': float64\n",
      "----------------------------------------\n",
      "Row fields:\n",
      "    'locus': locus<GRCh37>\n",
      "    'alleles': array<str>\n",
      "    'rsid': str\n",
      "    'cm_position': float64\n",
      "----------------------------------------\n",
      "Entry fields:\n",
      "    'GT': call\n",
      "----------------------------------------\n",
      "Column key: ['s']\n",
      "Row key: ['locus', 'alleles']\n",
      "----------------------------------------\n"
     ]
    }
   ],
   "source": [
    "# The entire table with row, col, and call data:\n",
    "hl.read_matrix_table(str(path / 'rg-3k-gwas-export.mt')).describe()"
   ]
  },
  {
   "cell_type": "markdown",
   "metadata": {},
   "source": [
    "### Pandas"
   ]
  },
  {
   "cell_type": "markdown",
   "metadata": {},
   "source": [
    "Sample data contains phenotypes prefixed by `pt_` and `s` (sample_id) in the MatrixTable matches to the `s` in this table, as does the order:"
   ]
  },
  {
   "cell_type": "code",
   "execution_count": 18,
   "metadata": {},
   "outputs": [
    {
     "data": {
      "text/html": [
       "<div>\n",
       "<style scoped>\n",
       "    .dataframe tbody tr th:only-of-type {\n",
       "        vertical-align: middle;\n",
       "    }\n",
       "\n",
       "    .dataframe tbody tr th {\n",
       "        vertical-align: top;\n",
       "    }\n",
       "\n",
       "    .dataframe thead th {\n",
       "        text-align: right;\n",
       "    }\n",
       "</style>\n",
       "<table border=\"1\" class=\"dataframe\">\n",
       "  <thead>\n",
       "    <tr style=\"text-align: right;\">\n",
       "      <th></th>\n",
       "      <th>s</th>\n",
       "      <th>acc_seq_no</th>\n",
       "      <th>acc_stock_id</th>\n",
       "      <th>acc_gs_acc</th>\n",
       "      <th>acc_gs_variety_name</th>\n",
       "      <th>acc_igrc_acc_src</th>\n",
       "      <th>pt_APANTH_REPRO</th>\n",
       "      <th>pt_APSH</th>\n",
       "      <th>pt_APCO_REV_POST</th>\n",
       "      <th>pt_APCO_REV_REPRO</th>\n",
       "      <th>...</th>\n",
       "      <th>pt_LPPUB</th>\n",
       "      <th>pt_LSEN</th>\n",
       "      <th>pt_NOANTH</th>\n",
       "      <th>pt_PEX_REPRO</th>\n",
       "      <th>pt_PTH</th>\n",
       "      <th>pt_SCCO_REV</th>\n",
       "      <th>pt_SECOND_BR_REPRO</th>\n",
       "      <th>pt_SLCO_REV</th>\n",
       "      <th>pt_SPKF</th>\n",
       "      <th>pt_SLLT_CODE</th>\n",
       "    </tr>\n",
       "  </thead>\n",
       "  <tbody>\n",
       "    <tr>\n",
       "      <th>0</th>\n",
       "      <td>IRIS_313-10000</td>\n",
       "      <td>335</td>\n",
       "      <td>387</td>\n",
       "      <td>125907.0</td>\n",
       "      <td>SUWEON 311::IRGC 61890-1</td>\n",
       "      <td>61890</td>\n",
       "      <td>NaN</td>\n",
       "      <td>NaN</td>\n",
       "      <td>NaN</td>\n",
       "      <td>20.0</td>\n",
       "      <td>...</td>\n",
       "      <td>2.0</td>\n",
       "      <td>9.0</td>\n",
       "      <td>NaN</td>\n",
       "      <td>7.0</td>\n",
       "      <td>1.0</td>\n",
       "      <td>10.0</td>\n",
       "      <td>1.0</td>\n",
       "      <td>20.0</td>\n",
       "      <td>5.0</td>\n",
       "      <td>1.0</td>\n",
       "    </tr>\n",
       "    <tr>\n",
       "      <th>1</th>\n",
       "      <td>IRIS_313-10001</td>\n",
       "      <td>336</td>\n",
       "      <td>388</td>\n",
       "      <td>125692.0</td>\n",
       "      <td>C 662083::IRGC 62101-1</td>\n",
       "      <td>62101</td>\n",
       "      <td>NaN</td>\n",
       "      <td>NaN</td>\n",
       "      <td>NaN</td>\n",
       "      <td>20.0</td>\n",
       "      <td>...</td>\n",
       "      <td>2.0</td>\n",
       "      <td>7.0</td>\n",
       "      <td>NaN</td>\n",
       "      <td>5.0</td>\n",
       "      <td>2.0</td>\n",
       "      <td>10.0</td>\n",
       "      <td>1.0</td>\n",
       "      <td>20.0</td>\n",
       "      <td>4.0</td>\n",
       "      <td>3.0</td>\n",
       "    </tr>\n",
       "    <tr>\n",
       "      <th>2</th>\n",
       "      <td>IRIS_313-10002</td>\n",
       "      <td>103</td>\n",
       "      <td>129</td>\n",
       "      <td>125955.0</td>\n",
       "      <td>BW 295-5::IRGC 63098-1</td>\n",
       "      <td>63098</td>\n",
       "      <td>NaN</td>\n",
       "      <td>NaN</td>\n",
       "      <td>20.0</td>\n",
       "      <td>20.0</td>\n",
       "      <td>...</td>\n",
       "      <td>4.0</td>\n",
       "      <td>7.0</td>\n",
       "      <td>NaN</td>\n",
       "      <td>7.0</td>\n",
       "      <td>3.0</td>\n",
       "      <td>10.0</td>\n",
       "      <td>1.0</td>\n",
       "      <td>20.0</td>\n",
       "      <td>4.0</td>\n",
       "      <td>1.0</td>\n",
       "    </tr>\n",
       "    <tr>\n",
       "      <th>3</th>\n",
       "      <td>IRIS_313-10007</td>\n",
       "      <td>337</td>\n",
       "      <td>389</td>\n",
       "      <td>125749.0</td>\n",
       "      <td>GARURA::IRGC 64111-1</td>\n",
       "      <td>64111</td>\n",
       "      <td>NaN</td>\n",
       "      <td>NaN</td>\n",
       "      <td>NaN</td>\n",
       "      <td>10.0</td>\n",
       "      <td>...</td>\n",
       "      <td>4.0</td>\n",
       "      <td>3.0</td>\n",
       "      <td>NaN</td>\n",
       "      <td>5.0</td>\n",
       "      <td>3.0</td>\n",
       "      <td>10.0</td>\n",
       "      <td>1.0</td>\n",
       "      <td>20.0</td>\n",
       "      <td>4.0</td>\n",
       "      <td>3.0</td>\n",
       "    </tr>\n",
       "    <tr>\n",
       "      <th>4</th>\n",
       "      <td>IRIS_313-10010</td>\n",
       "      <td>338</td>\n",
       "      <td>390</td>\n",
       "      <td>125818.0</td>\n",
       "      <td>LALKA (LAL DHAN)::IRGC 64946-1</td>\n",
       "      <td>64946</td>\n",
       "      <td>NaN</td>\n",
       "      <td>NaN</td>\n",
       "      <td>NaN</td>\n",
       "      <td>20.0</td>\n",
       "      <td>...</td>\n",
       "      <td>2.0</td>\n",
       "      <td>5.0</td>\n",
       "      <td>NaN</td>\n",
       "      <td>7.0</td>\n",
       "      <td>3.0</td>\n",
       "      <td>10.0</td>\n",
       "      <td>1.0</td>\n",
       "      <td>20.0</td>\n",
       "      <td>4.0</td>\n",
       "      <td>3.0</td>\n",
       "    </tr>\n",
       "  </tbody>\n",
       "</table>\n",
       "<p>5 rows × 37 columns</p>\n",
       "</div>"
      ],
      "text/plain": [
       "                s  acc_seq_no  acc_stock_id  acc_gs_acc  \\\n",
       "0  IRIS_313-10000         335           387    125907.0   \n",
       "1  IRIS_313-10001         336           388    125692.0   \n",
       "2  IRIS_313-10002         103           129    125955.0   \n",
       "3  IRIS_313-10007         337           389    125749.0   \n",
       "4  IRIS_313-10010         338           390    125818.0   \n",
       "\n",
       "              acc_gs_variety_name  acc_igrc_acc_src  pt_APANTH_REPRO  pt_APSH  \\\n",
       "0        SUWEON 311::IRGC 61890-1             61890              NaN      NaN   \n",
       "1          C 662083::IRGC 62101-1             62101              NaN      NaN   \n",
       "2          BW 295-5::IRGC 63098-1             63098              NaN      NaN   \n",
       "3            GARURA::IRGC 64111-1             64111              NaN      NaN   \n",
       "4  LALKA (LAL DHAN)::IRGC 64946-1             64946              NaN      NaN   \n",
       "\n",
       "   pt_APCO_REV_POST  pt_APCO_REV_REPRO  ...  pt_LPPUB  pt_LSEN  pt_NOANTH  \\\n",
       "0               NaN               20.0  ...       2.0      9.0        NaN   \n",
       "1               NaN               20.0  ...       2.0      7.0        NaN   \n",
       "2              20.0               20.0  ...       4.0      7.0        NaN   \n",
       "3               NaN               10.0  ...       4.0      3.0        NaN   \n",
       "4               NaN               20.0  ...       2.0      5.0        NaN   \n",
       "\n",
       "   pt_PEX_REPRO  pt_PTH  pt_SCCO_REV  pt_SECOND_BR_REPRO  pt_SLCO_REV  \\\n",
       "0           7.0     1.0         10.0                 1.0         20.0   \n",
       "1           5.0     2.0         10.0                 1.0         20.0   \n",
       "2           7.0     3.0         10.0                 1.0         20.0   \n",
       "3           5.0     3.0         10.0                 1.0         20.0   \n",
       "4           7.0     3.0         10.0                 1.0         20.0   \n",
       "\n",
       "   pt_SPKF  pt_SLLT_CODE  \n",
       "0      5.0           1.0  \n",
       "1      4.0           3.0  \n",
       "2      4.0           1.0  \n",
       "3      4.0           3.0  \n",
       "4      4.0           3.0  \n",
       "\n",
       "[5 rows x 37 columns]"
      ]
     },
     "execution_count": 18,
     "metadata": {},
     "output_type": "execute_result"
    }
   ],
   "source": [
    "pd.read_csv(path / 'rg-3k-gwas-export.cols.csv').head()"
   ]
  },
  {
   "cell_type": "markdown",
   "metadata": {},
   "source": [
    "Variant data shouldn't be needed for much, but it's here:"
   ]
  },
  {
   "cell_type": "code",
   "execution_count": 20,
   "metadata": {},
   "outputs": [
    {
     "data": {
      "text/html": [
       "<div>\n",
       "<style scoped>\n",
       "    .dataframe tbody tr th:only-of-type {\n",
       "        vertical-align: middle;\n",
       "    }\n",
       "\n",
       "    .dataframe tbody tr th {\n",
       "        vertical-align: top;\n",
       "    }\n",
       "\n",
       "    .dataframe thead th {\n",
       "        text-align: right;\n",
       "    }\n",
       "</style>\n",
       "<table border=\"1\" class=\"dataframe\">\n",
       "  <thead>\n",
       "    <tr style=\"text-align: right;\">\n",
       "      <th></th>\n",
       "      <th>locus.contig</th>\n",
       "      <th>locus.position</th>\n",
       "      <th>alleles</th>\n",
       "      <th>rsid</th>\n",
       "      <th>cm_position</th>\n",
       "    </tr>\n",
       "  </thead>\n",
       "  <tbody>\n",
       "    <tr>\n",
       "      <th>0</th>\n",
       "      <td>1</td>\n",
       "      <td>1151</td>\n",
       "      <td>['C', 'A']</td>\n",
       "      <td>1151</td>\n",
       "      <td>0.0</td>\n",
       "    </tr>\n",
       "    <tr>\n",
       "      <th>1</th>\n",
       "      <td>1</td>\n",
       "      <td>1178</td>\n",
       "      <td>['G', 'T']</td>\n",
       "      <td>1178</td>\n",
       "      <td>0.0</td>\n",
       "    </tr>\n",
       "    <tr>\n",
       "      <th>2</th>\n",
       "      <td>1</td>\n",
       "      <td>1203</td>\n",
       "      <td>['T', 'C']</td>\n",
       "      <td>1203</td>\n",
       "      <td>0.0</td>\n",
       "    </tr>\n",
       "    <tr>\n",
       "      <th>3</th>\n",
       "      <td>1</td>\n",
       "      <td>1248</td>\n",
       "      <td>['G', 'A']</td>\n",
       "      <td>1248</td>\n",
       "      <td>0.0</td>\n",
       "    </tr>\n",
       "    <tr>\n",
       "      <th>4</th>\n",
       "      <td>1</td>\n",
       "      <td>1282</td>\n",
       "      <td>['G', 'A']</td>\n",
       "      <td>1282</td>\n",
       "      <td>0.0</td>\n",
       "    </tr>\n",
       "  </tbody>\n",
       "</table>\n",
       "</div>"
      ],
      "text/plain": [
       "   locus.contig  locus.position     alleles  rsid  cm_position\n",
       "0             1            1151  ['C', 'A']  1151          0.0\n",
       "1             1            1178  ['G', 'T']  1178          0.0\n",
       "2             1            1203  ['T', 'C']  1203          0.0\n",
       "3             1            1248  ['G', 'A']  1248          0.0\n",
       "4             1            1282  ['G', 'A']  1282          0.0"
      ]
     },
     "execution_count": 20,
     "metadata": {},
     "output_type": "execute_result"
    }
   ],
   "source": [
    "pd.read_csv(path / 'rg-3k-gwas-export.rows.csv.gz').head()"
   ]
  },
  {
   "cell_type": "markdown",
   "metadata": {},
   "source": [
    "### Zarr"
   ]
  },
  {
   "cell_type": "markdown",
   "metadata": {},
   "source": [
    "Call data (dense and mean imputed in this case) can be sliced from a zarr array:"
   ]
  },
  {
   "cell_type": "code",
   "execution_count": 29,
   "metadata": {},
   "outputs": [
    {
     "data": {
      "text/plain": [
       "array([[0, 0, 0, 0, 0],\n",
       "       [0, 0, 0, 0, 0],\n",
       "       [0, 2, 0, 2, 0],\n",
       "       [0, 0, 0, 0, 0],\n",
       "       [0, 2, 0, 0, 0],\n",
       "       [0, 0, 0, 0, 0],\n",
       "       [0, 0, 0, 0, 0],\n",
       "       [0, 2, 0, 2, 0],\n",
       "       [0, 0, 0, 0, 0],\n",
       "       [0, 2, 0, 2, 0]], dtype=int8)"
      ]
     },
     "execution_count": 29,
     "metadata": {},
     "output_type": "execute_result"
    }
   ],
   "source": [
    "gt = zarr.open(str(path / 'rg-3k-gwas-export.calls.zarr'), mode='r')\n",
    "# Get calls for 10 variants and 5 samples\n",
    "gt[5:15, 5:10]"
   ]
  },
  {
   "cell_type": "markdown",
   "metadata": {},
   "source": [
    "### Selecting Phenotypes"
   ]
  },
  {
   "cell_type": "markdown",
   "metadata": {},
   "source": [
    "Pick a phenotype:\n",
    "    \n",
    "- Definitions are in https://s3-ap-southeast-1.amazonaws.com/oryzasnp-atcg-irri-org/3kRG-phenotypes/3kRG_PhenotypeData_v20170411.xlsx\n",
    "    - The \">2007 Dictionary\" sheet\n",
    "- Choose one with low sparsity\n"
   ]
  },
  {
   "cell_type": "code",
   "execution_count": 28,
   "metadata": {},
   "outputs": [
    {
     "name": "stdout",
     "output_type": "stream",
     "text": [
      "<class 'pandas.core.frame.DataFrame'>\n",
      "RangeIndex: 2113 entries, 0 to 2112\n",
      "Data columns (total 37 columns):\n",
      "s                      2113 non-null object\n",
      "acc_seq_no             2113 non-null int64\n",
      "acc_stock_id           2113 non-null int64\n",
      "acc_gs_acc             2113 non-null float64\n",
      "acc_gs_variety_name    2113 non-null object\n",
      "acc_igrc_acc_src       2113 non-null int64\n",
      "pt_APANTH_REPRO        91 non-null float64\n",
      "pt_APSH                133 non-null float64\n",
      "pt_APCO_REV_POST       552 non-null float64\n",
      "pt_APCO_REV_REPRO      2108 non-null float64\n",
      "pt_AWCO_LREV           133 non-null float64\n",
      "pt_AWCO_REV            2112 non-null float64\n",
      "pt_AWDIST              30 non-null float64\n",
      "pt_BLANTHPR_VEG        133 non-null float64\n",
      "pt_BLANTHDI_VEG        13 non-null float64\n",
      "pt_BLPUB_VEG           2112 non-null float64\n",
      "pt_BLSCO_ANTH_VEG      133 non-null float64\n",
      "pt_BLSCO_REV_VEG       2111 non-null float64\n",
      "pt_CCO_REV_VEG         2110 non-null float64\n",
      "pt_CUAN_REPRO          2111 non-null float64\n",
      "pt_ENDO                1976 non-null float64\n",
      "pt_FLA_EREPRO          133 non-null float64\n",
      "pt_FLA_REPRO           2109 non-null float64\n",
      "pt_INANTH              133 non-null float64\n",
      "pt_LIGCO_REV_VEG       2111 non-null float64\n",
      "pt_LIGSH               1430 non-null float64\n",
      "pt_LPCO_REV_POST       2109 non-null float64\n",
      "pt_LPPUB               1430 non-null float64\n",
      "pt_LSEN                2110 non-null float64\n",
      "pt_NOANTH              133 non-null float64\n",
      "pt_PEX_REPRO           2112 non-null float64\n",
      "pt_PTH                 2109 non-null float64\n",
      "pt_SCCO_REV            1985 non-null float64\n",
      "pt_SECOND_BR_REPRO     1427 non-null float64\n",
      "pt_SLCO_REV            1914 non-null float64\n",
      "pt_SPKF                2111 non-null float64\n",
      "pt_SLLT_CODE           2109 non-null float64\n",
      "dtypes: float64(32), int64(3), object(2)\n",
      "memory usage: 610.9+ KB\n"
     ]
    }
   ],
   "source": [
    "df = pd.read_csv(path / 'rg-3k-gwas-export.cols.csv')\n",
    "df.info()"
   ]
  },
  {
   "cell_type": "code",
   "execution_count": 35,
   "metadata": {},
   "outputs": [
    {
     "data": {
      "text/plain": [
       "((1000, 2109), dtype('int8'))"
      ]
     },
     "execution_count": 35,
     "metadata": {},
     "output_type": "execute_result"
    }
   ],
   "source": [
    "# First 1k variants with samples having data for this phenotype\n",
    "mask = df['pt_FLA_REPRO'].notnull()\n",
    "gtp = gt[:1000][:,mask]\n",
    "gtp.shape, gtp.dtype"
   ]
  }
 ],
 "metadata": {
  "kernelspec": {
   "display_name": "Python 3",
   "language": "python",
   "name": "python3"
  },
  "language_info": {
   "codemirror_mode": {
    "name": "ipython",
    "version": 3
   },
   "file_extension": ".py",
   "mimetype": "text/x-python",
   "name": "python",
   "nbconvert_exporter": "python",
   "pygments_lexer": "ipython3",
   "version": "3.7.6"
  }
 },
 "nbformat": 4,
 "nbformat_minor": 4
}
