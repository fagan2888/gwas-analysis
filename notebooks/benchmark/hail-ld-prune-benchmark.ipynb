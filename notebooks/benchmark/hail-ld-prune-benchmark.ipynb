{
 "cells": [
  {
   "cell_type": "code",
   "execution_count": 1,
   "metadata": {},
   "outputs": [
    {
     "name": "stderr",
     "output_type": "stream",
     "text": [
      "Running on Apache Spark version 2.4.4\n",
      "SparkUI available at http://0d77c1e309dd:4040\n",
      "Welcome to\n",
      "     __  __     <>__\n",
      "    / /_/ /__  __/ /\n",
      "   / __  / _ `/ / /\n",
      "  /_/ /_/\\_,_/_/_/   version 0.2.32-a5876a0a2853\n",
      "LOGGING: writing to /home/eczech/repos/gwas-analysis/notebooks/benchmark/hail-20200508-1313-0.2.32-a5876a0a2853.log\n"
     ]
    }
   ],
   "source": [
    "import os\n",
    "import hail as hl\n",
    "%run {os.environ['NB_DIR']}/nb.py\n",
    "%run $TUTORIAL_DIR/files.py\n",
    "hail_init()"
   ]
  },
  {
   "cell_type": "markdown",
   "metadata": {},
   "source": [
    "### HapMap"
   ]
  },
  {
   "cell_type": "code",
   "execution_count": 3,
   "metadata": {},
   "outputs": [
    {
     "data": {
      "text/plain": [
       "('/home/eczech/data/gwas/tutorial/1_QC_GWAS', 'HapMap_3_r3_1')"
      ]
     },
     "execution_count": 3,
     "metadata": {},
     "output_type": "execute_result"
    }
   ],
   "source": [
    "data_dir, file = TUTORIAL_1_QC_DIR, QC0_FILE\n",
    "data_dir, file"
   ]
  },
  {
   "cell_type": "code",
   "execution_count": 3,
   "metadata": {},
   "outputs": [
    {
     "name": "stderr",
     "output_type": "stream",
     "text": [
      "2020-05-06 23:04:11 Hail: INFO: Found 165 samples in fam file.\n",
      "2020-05-06 23:04:11 Hail: INFO: Found 1457897 variants in bim file.\n"
     ]
    }
   ],
   "source": [
    "mt = hl.import_plink(\n",
    "    osp.join(data_dir, file + '.bed'),\n",
    "    osp.join(data_dir, file + '.bim'),\n",
    "    osp.join(data_dir, file + '.fam'),\n",
    "    skip_invalid_loci=False,\n",
    "    reference_genome='hapmap3_hg18'\n",
    ")"
   ]
  },
  {
   "cell_type": "code",
   "execution_count": 4,
   "metadata": {},
   "outputs": [
    {
     "name": "stderr",
     "output_type": "stream",
     "text": [
      "2020-05-06 23:04:13 Hail: INFO: ld_prune: running local pruning stage with max queue size of 729445 variants\n",
      "2020-05-06 23:04:21 Hail: INFO: Coerced sorted dataset\n",
      "2020-05-06 23:04:39 Hail: INFO: wrote table with 197157 rows in 2 partitions to file:/tmp/hail.8Suf2oQzhbzR/cjcZOus19z\n",
      "2020-05-06 23:04:45 Hail: INFO: Coerced sorted dataset\n",
      "2020-05-06 23:05:26 Hail: INFO: Wrote all 49 blocks of 197157 x 165 matrix with block size 4096.\n",
      "2020-05-06 23:07:39 Hail: INFO: wrote table with 9 rows in 97 partitions to file:/tmp/hail.8Suf2oQzhbzR/K30WwKXTbf\n"
     ]
    },
    {
     "name": "stdout",
     "output_type": "stream",
     "text": [
      "CPU times: user 13.9 s, sys: 5.93 s, total: 19.9 s\n",
      "Wall time: 3min 27s\n"
     ]
    },
    {
     "name": "stderr",
     "output_type": "stream",
     "text": [
      "2020-05-06 23:07:40 Hail: INFO: wrote table with 197152 rows in 2 partitions to /tmp/ld_prune_res.ht\n"
     ]
    }
   ],
   "source": [
    "%%time\n",
    "ht = hl.ld_prune(mt.GT, bp_window_size=1_000_000, r2=0.2)\n",
    "ht.write('/tmp/ld_prune_res_hapmap.ht', overwrite=True)"
   ]
  },
  {
   "cell_type": "markdown",
   "metadata": {},
   "source": [
    "### 1KG"
   ]
  },
  {
   "cell_type": "code",
   "execution_count": 2,
   "metadata": {},
   "outputs": [
    {
     "data": {
      "text/plain": [
       "('/home/eczech/data/gwas/tutorial/2_PS_GWAS',\n",
       " 'ALL.2of4intersection.20100804.genotypes')"
      ]
     },
     "execution_count": 2,
     "metadata": {},
     "output_type": "execute_result"
    }
   ],
   "source": [
    "data_dir, file = TUTORIAL_2_PS_DIR, PS1_1KG_RAW_FILE\n",
    "data_dir, file"
   ]
  },
  {
   "cell_type": "code",
   "execution_count": 3,
   "metadata": {},
   "outputs": [
    {
     "name": "stderr",
     "output_type": "stream",
     "text": [
      "2020-05-08 13:15:15 Hail: INFO: Found 629 samples in fam file.\n",
      "2020-05-08 13:15:15 Hail: INFO: Found 25488488 variants in bim file.\n"
     ]
    }
   ],
   "source": [
    "mt = hl.import_plink(\n",
    "    osp.join(data_dir, file + '.bed'),\n",
    "    osp.join(data_dir, file + '.bim'),\n",
    "    osp.join(data_dir, file + '.fam'),\n",
    "    skip_invalid_loci=False\n",
    ")"
   ]
  },
  {
   "cell_type": "code",
   "execution_count": 4,
   "metadata": {},
   "outputs": [
    {
     "name": "stderr",
     "output_type": "stream",
     "text": [
      "2020-05-08 13:15:16 Hail: INFO: ld_prune: running local pruning stage with max queue size of 322639 variants\n",
      "2020-05-08 13:17:19 Hail: INFO: Coerced sorted dataset\n",
      "2020-05-08 13:36:25 Hail: INFO: wrote table with 3108926 rows in 120 partitions to file:/tmp/hail.BeOPffWjtDgh/grvEGHSnL2\n",
      "2020-05-08 13:38:01 Hail: INFO: Coerced sorted dataset\n",
      "2020-05-08 13:48:33 Hail: INFO: Wrote all 760 blocks of 3108926 x 629 matrix with block size 4096.\n",
      "2020-05-08 14:36:27 Hail: INFO: wrote table with 60332 rows in 1521 partitions to file:/tmp/hail.BeOPffWjtDgh/Xh4OVC8Etu\n"
     ]
    },
    {
     "name": "stdout",
     "output_type": "stream",
     "text": [
      "CPU times: user 3min 47s, sys: 1min 39s, total: 5min 26s\n",
      "Wall time: 1h 21min 20s\n"
     ]
    },
    {
     "name": "stderr",
     "output_type": "stream",
     "text": [
      "2020-05-08 14:36:36 Hail: INFO: wrote table with 3073532 rows in 120 partitions to /tmp/ld_prune_res_1kg.ht\n"
     ]
    }
   ],
   "source": [
    "%%time\n",
    "ht = hl.ld_prune(mt.GT, bp_window_size=1_000_000, r2=0.2)\n",
    "ht.write('/tmp/ld_prune_res_1kg.ht', overwrite=True)"
   ]
  }
 ],
 "metadata": {
  "kernelspec": {
   "display_name": "Python 3",
   "language": "python",
   "name": "python3"
  },
  "language_info": {
   "codemirror_mode": {
    "name": "ipython",
    "version": 3
   },
   "file_extension": ".py",
   "mimetype": "text/x-python",
   "name": "python",
   "nbconvert_exporter": "python",
   "pygments_lexer": "ipython3",
   "version": "3.7.6"
  }
 },
 "nbformat": 4,
 "nbformat_minor": 4
}
