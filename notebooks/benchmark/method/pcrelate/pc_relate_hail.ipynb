{
 "cells": [
  {
   "cell_type": "markdown",
   "metadata": {},
   "source": [
    "##### Command used to run docker image:\n",
    "\n",
    "```bash\n",
    "> pwd\n",
    "/home/rav/projects/gwas-analysis\n",
    "> sudo docker run --user $(id -u):$(id -g) --rm -ti -v $(pwd):/home/$USER/repos/gwas-analysis -v \n",
    "$HOME/.ivy2:/home/$USER/.ivy2 -p 8888:8888 -p 4040:4040 -p 4041:4041 -p 8787:8787 -p 8080:8080 -p 8079:8079 -p 8849:8849 -v $HOME/projects/:/home/$USER/data gwas-analysis\n",
    "```"
   ]
  },
  {
   "cell_type": "code",
   "execution_count": 1,
   "metadata": {},
   "outputs": [],
   "source": [
    "%load_ext autoreload\n",
    "%autoreload 2"
   ]
  },
  {
   "cell_type": "code",
   "execution_count": 1,
   "metadata": {},
   "outputs": [
    {
     "data": {
      "text/plain": [
       "{'platform': 'Linux',\n",
       " 'platform-release': '5.0.0-1034-gcp',\n",
       " 'platform-version': '#35-Ubuntu SMP Tue Mar 17 03:56:45 UTC 2020',\n",
       " 'architecture': 'x86_64',\n",
       " 'processor': 8,\n",
       " 'processor_mhz': '2000.174',\n",
       " 'ram': '31 GB'}"
      ]
     },
     "execution_count": 1,
     "metadata": {},
     "output_type": "execute_result"
    }
   ],
   "source": [
    "import os\n",
    "import sys\n",
    "import json\n",
    "module_path = os.path.abspath(os.path.join('..'))\n",
    "if module_path not in sys.path:\n",
    "    sys.path.append(module_path)\n",
    "\n",
    "from vm_utils import get_vm_info\n",
    "json.loads(get_vm_info())"
   ]
  },
  {
   "cell_type": "code",
   "execution_count": 2,
   "metadata": {},
   "outputs": [
    {
     "name": "stderr",
     "output_type": "stream",
     "text": [
      "Running on Apache Spark version 2.4.4\n",
      "SparkUI available at http://2175f48b66f7:4040\n",
      "Welcome to\n",
      "     __  __     <>__\n",
      "    / /_/ /__  __/ /\n",
      "   / __  / _ `/ / /\n",
      "  /_/ /_/\\_,_/_/_/   version 0.2.32-a5876a0a2853\n",
      "LOGGING: writing to /home/rav/repos/gwas-analysis/notebooks/benchmark/method/pcrelate/hail-20200424-1242-0.2.32-a5876a0a2853.log\n"
     ]
    }
   ],
   "source": [
    "import hail as hl\n",
    "import pandas as pd\n",
    "import numpy as np\n",
    "import plotnine as pn\n",
    "import matplotlib.pyplot as plt\n",
    "hl.init() "
   ]
  },
  {
   "cell_type": "code",
   "execution_count": 3,
   "metadata": {},
   "outputs": [],
   "source": [
    "from pathlib import Path\n",
    "import shutil\n",
    "import glob\n",
    "import os\n",
    "\n",
    "def write_mt(path: Path, n_samples: int, n_variants: int, n_populations: int) -> None:\n",
    "    mt = hl.balding_nichols_model(n_populations=n_populations, n_samples=n_samples, n_variants=n_variants)\n",
    "    mt.write(path.as_posix(), overwrite=True)\n",
    "    \n",
    "def get_mt(n_samples: int, n_variants: int, n_populations: int) -> hl.MatrixTable:\n",
    "    path_mt = Path(f\"{Path.home().as_posix()}/data/tmp/mt_{n_samples}_{n_variants}_{n_populations}.mt\")\n",
    "    if not path_mt.exists():\n",
    "        write_mt(path_mt, n_samples, n_variants, n_populations)\n",
    "    return hl.read_matrix_table(path_mt.as_posix())\n",
    "\n",
    "def clean_hail_tmp():\n",
    "    dir_list = glob.iglob(Path(\"/tmp\").joinpath(\"hail*\").as_posix())\n",
    "    for path in dir_list:\n",
    "        if os.path.isdir(path):\n",
    "            print(f\"Deleting hail tmp dir: {path}\")\n",
    "            shutil.rmtree(path)"
   ]
  },
  {
   "cell_type": "code",
   "execution_count": 4,
   "metadata": {},
   "outputs": [],
   "source": [
    "import time\n",
    "import tempfile\n",
    "from pathlib import Path\n",
    "import shutil\n",
    "from bench_utils import Experiment, Measurment\n",
    "\n",
    "def do_experiment(experiment_name:str, samples: int, variants: int, populations: int) -> None:\n",
    "    with Experiment(experiment_name) as experiment:\n",
    "        try:\n",
    "            mt = get_mt(n_samples=samples, n_variants=variants, n_populations=populations)\n",
    "            # here we assume that there is no recent relatedness in the sample, which should not\n",
    "            # matter for the purpose of the benchmark\n",
    "            start = time.time()\n",
    "            _, scores, _ = hl.methods.hwe_normalized_pca(mt.GT, k=10, compute_loadings=False)\n",
    "            pca_time = time.time() - start\n",
    "            print(f\"PCA took s:{samples}, v:{variants}, p:{populations} : {pca_time:.2f} seconds\")\n",
    "            start = time.time()\n",
    "            pc_relate_result = hl.methods.pc_relate(mt.GT, scores_expr=scores[mt.col_key].scores, min_individual_maf=0.01)\n",
    "            n_rows = pc_relate_result.count()\n",
    "            print(f\"Result row count: {n_rows}\")\n",
    "            pc_relate_time = time.time() - start\n",
    "            experiment.add_measurment(Measurment(samples=samples, variants=variants, population=populations, pca_time=pca_time, pc_relate_time=pc_relate_time, num_rows=n_rows))\n",
    "        finally:\n",
    "            clean_hail_tmp()"
   ]
  },
  {
   "cell_type": "code",
   "execution_count": 5,
   "metadata": {},
   "outputs": [
    {
     "name": "stderr",
     "output_type": "stream",
     "text": [
      "2020-04-24 12:42:47 Hail: INFO: hwe_normalized_pca: running PCA using 100 variants.\n",
      "2020-04-24 12:42:48 Hail: INFO: pca: running PCA with 10 components...\n"
     ]
    },
    {
     "name": "stdout",
     "output_type": "stream",
     "text": [
      "PCA took s:100, v:100, p:2 : 9.28 seconds\n"
     ]
    },
    {
     "name": "stderr",
     "output_type": "stream",
     "text": [
      "2020-04-24 12:42:55 Hail: INFO: Wrote all 1 blocks of 100 x 100 matrix with block size 4096.\n",
      "2020-04-24 12:42:55 Hail: INFO: wrote matrix with 11 rows and 100 columns as 1 block of size 4096 to file:/tmp/hail.JkDu3HbxEqH3/12ucXHvQHd.bm\n",
      "2020-04-24 12:42:55 Hail: INFO: wrote matrix with 100 rows and 100 columns as 1 block of size 4096 to file:/tmp/hail.JkDu3HbxEqH3/Spbt8ML5GH.bm\n",
      "2020-04-24 12:42:55 Hail: INFO: wrote matrix with 100 rows and 100 columns as 1 block of size 4096 to file:/tmp/hail.JkDu3HbxEqH3/vihCDOR7tg.bm\n",
      "2020-04-24 12:42:55 Hail: INFO: wrote matrix with 100 rows and 100 columns as 1 block of size 4096 to file:/tmp/hail.JkDu3HbxEqH3/E2dzJrghUl.bm\n",
      "2020-04-24 12:42:55 Hail: INFO: wrote matrix with 100 rows and 100 columns as 1 block of size 4096 to file:/tmp/hail.JkDu3HbxEqH3/N9mPgJLgJD.bm\n",
      "2020-04-24 12:42:55 Hail: INFO: wrote matrix with 100 rows and 100 columns as 1 block of size 4096 to file:/tmp/hail.JkDu3HbxEqH3/dLssfzm2VT.bm\n",
      "2020-04-24 12:42:56 Hail: INFO: wrote matrix with 100 rows and 100 columns as 1 block of size 4096 to file:/tmp/hail.JkDu3HbxEqH3/Js6FJfnnrK.bm\n",
      "2020-04-24 12:42:56 Hail: INFO: wrote matrix with 100 rows and 100 columns as 1 block of size 4096 to file:/tmp/hail.JkDu3HbxEqH3/PfsBoLOMMq.bm\n",
      "2020-04-24 12:42:56 Hail: INFO: wrote matrix with 100 rows and 100 columns as 1 block of size 4096 to file:/tmp/hail.JkDu3HbxEqH3/wyWjUuUECT.bm\n",
      "2020-04-24 12:42:56 Hail: INFO: wrote matrix with 100 rows and 100 columns as 1 block of size 4096 to file:/tmp/hail.JkDu3HbxEqH3/gKS2chZZo4.bm\n",
      "2020-04-24 12:42:56 Hail: INFO: wrote matrix with 100 rows and 100 columns as 1 block of size 4096 to file:/tmp/hail.JkDu3HbxEqH3/i1ch2BqeSf.bm\n",
      "2020-04-24 12:42:56 Hail: INFO: wrote matrix with 100 rows and 100 columns as 1 block of size 4096 to file:/tmp/hail.JkDu3HbxEqH3/upZ8cQkiyq.bm\n",
      "2020-04-24 12:42:56 Hail: INFO: Ordering unsorted dataset with network shuffle\n"
     ]
    },
    {
     "name": "stdout",
     "output_type": "stream",
     "text": [
      "Result row count: 4950\n",
      "Deleting hail tmp dir: /tmp/hail.JkDu3HbxEqH3\n"
     ]
    }
   ],
   "source": [
    "do_experiment(\"test\", 100, 100, 2)"
   ]
  },
  {
   "cell_type": "code",
   "execution_count": null,
   "metadata": {
    "scrolled": true
   },
   "outputs": [
    {
     "name": "stderr",
     "output_type": "stream",
     "text": [
      "2020-04-23 15:27:42 Hail: INFO: balding_nichols_model: generating genotypes for 10 populations, 1000 samples, and 1000 variants...\n",
      "2020-04-23 15:27:42 Hail: INFO: Coerced sorted dataset\n",
      "2020-04-23 15:27:43 Hail: INFO: wrote matrix table with 1000 rows and 1000 columns in 8 partitions to /home/rav/data/tmp/mt_1000_1000_10.mt\n",
      "2020-04-23 15:27:43 Hail: INFO: hwe_normalized_pca: running PCA using 1000 variants.\n",
      "2020-04-23 15:27:44 Hail: INFO: pca: running PCA with 10 components...\n"
     ]
    },
    {
     "name": "stdout",
     "output_type": "stream",
     "text": [
      "PCA took s:1000, v:1000, p:10 : 6.28 seconds\n"
     ]
    },
    {
     "name": "stderr",
     "output_type": "stream",
     "text": [
      "2020-04-23 15:27:50 Hail: INFO: Wrote all 1 blocks of 1000 x 1000 matrix with block size 4096.\n",
      "2020-04-23 15:27:51 Hail: INFO: wrote matrix with 11 rows and 1000 columns as 1 block of size 4096 to file:/tmp/hail.Y2Dh5hqGGSs3/cC5uLznRV3.bm\n",
      "2020-04-23 15:27:51 Hail: INFO: wrote matrix with 1000 rows and 1000 columns as 1 block of size 4096 to file:/tmp/hail.Y2Dh5hqGGSs3/Y9jtcTTOB0.bm\n",
      "2020-04-23 15:27:51 Hail: INFO: wrote matrix with 1000 rows and 1000 columns as 1 block of size 4096 to file:/tmp/hail.Y2Dh5hqGGSs3/0PrhSCPADZ.bm\n",
      "2020-04-23 15:27:51 Hail: INFO: wrote matrix with 1000 rows and 1000 columns as 1 block of size 4096 to file:/tmp/hail.Y2Dh5hqGGSs3/uXck1hlyN0.bm\n",
      "2020-04-23 15:27:51 Hail: INFO: wrote matrix with 1000 rows and 1000 columns as 1 block of size 4096 to file:/tmp/hail.Y2Dh5hqGGSs3/aiSKLu8693.bm\n",
      "2020-04-23 15:27:52 Hail: INFO: wrote matrix with 1000 rows and 1000 columns as 1 block of size 4096 to file:/tmp/hail.Y2Dh5hqGGSs3/MM4z8nkuU7.bm\n",
      "2020-04-23 15:27:52 Hail: INFO: wrote matrix with 1000 rows and 1000 columns as 1 block of size 4096 to file:/tmp/hail.Y2Dh5hqGGSs3/g8bUuttztZ.bm\n",
      "2020-04-23 15:27:52 Hail: INFO: wrote matrix with 1000 rows and 1000 columns as 1 block of size 4096 to file:/tmp/hail.Y2Dh5hqGGSs3/Xk7wypuvB7.bm\n",
      "2020-04-23 15:27:52 Hail: INFO: wrote matrix with 1000 rows and 1000 columns as 1 block of size 4096 to file:/tmp/hail.Y2Dh5hqGGSs3/ZEQC0g2ww0.bm\n",
      "2020-04-23 15:27:53 Hail: INFO: wrote matrix with 1000 rows and 1000 columns as 1 block of size 4096 to file:/tmp/hail.Y2Dh5hqGGSs3/907JCJZXw9.bm\n",
      "2020-04-23 15:27:53 Hail: INFO: wrote matrix with 1000 rows and 1000 columns as 1 block of size 4096 to file:/tmp/hail.Y2Dh5hqGGSs3/MAr2LcDspA.bm\n",
      "2020-04-23 15:27:53 Hail: INFO: wrote matrix with 1000 rows and 1000 columns as 1 block of size 4096 to file:/tmp/hail.Y2Dh5hqGGSs3/Tg2XhweC0J.bm\n",
      "2020-04-23 15:27:54 Hail: INFO: Ordering unsorted dataset with network shuffle\n",
      "2020-04-23 15:27:59 Hail: INFO: Coerced sorted dataset\n",
      "2020-04-23 15:28:03 Hail: INFO: wrote table with 499500 rows in 1 partition to /tmp/tmpcve4rxkd/pc_relate_result\n",
      "2020-04-23 15:28:03 Hail: INFO: balding_nichols_model: generating genotypes for 10 populations, 1000 samples, and 2000 variants...\n",
      "2020-04-23 15:28:03 Hail: INFO: Coerced sorted dataset\n"
     ]
    },
    {
     "name": "stdout",
     "output_type": "stream",
     "text": [
      "Deleting pc_relate results: /tmp/tmpcve4rxkd/pc_relate_result\n",
      "Deleting hail tmp dir: /tmp/hail.Y2Dh5hqGGSs3\n"
     ]
    },
    {
     "name": "stderr",
     "output_type": "stream",
     "text": [
      "2020-04-23 15:28:04 Hail: INFO: wrote matrix table with 2000 rows and 1000 columns in 8 partitions to /home/rav/data/tmp/mt_1000_2000_10.mt\n",
      "2020-04-23 15:28:04 Hail: INFO: hwe_normalized_pca: running PCA using 2000 variants.\n",
      "2020-04-23 15:28:05 Hail: INFO: pca: running PCA with 10 components...\n"
     ]
    },
    {
     "name": "stdout",
     "output_type": "stream",
     "text": [
      "PCA took s:1000, v:2000, p:10 : 5.77 seconds\n"
     ]
    },
    {
     "name": "stderr",
     "output_type": "stream",
     "text": [
      "2020-04-23 15:28:11 Hail: INFO: Wrote all 1 blocks of 2000 x 1000 matrix with block size 4096.\n",
      "2020-04-23 15:28:11 Hail: INFO: wrote matrix with 11 rows and 2000 columns as 1 block of size 4096 to file:/tmp/hail.Y2Dh5hqGGSs3/xq93CNZb9n.bm\n",
      "2020-04-23 15:28:11 Hail: INFO: wrote matrix with 2000 rows and 1000 columns as 1 block of size 4096 to file:/tmp/hail.Y2Dh5hqGGSs3/9u6sO1ul0k.bm\n",
      "2020-04-23 15:28:11 Hail: INFO: wrote matrix with 2000 rows and 1000 columns as 1 block of size 4096 to file:/tmp/hail.Y2Dh5hqGGSs3/eg94zbjugD.bm\n",
      "2020-04-23 15:28:12 Hail: INFO: wrote matrix with 1000 rows and 1000 columns as 1 block of size 4096 to file:/tmp/hail.Y2Dh5hqGGSs3/emUaYnCW0G.bm\n",
      "2020-04-23 15:28:12 Hail: INFO: wrote matrix with 1000 rows and 1000 columns as 1 block of size 4096 to file:/tmp/hail.Y2Dh5hqGGSs3/qky0WmaVIt.bm\n",
      "2020-04-23 15:28:12 Hail: INFO: wrote matrix with 1000 rows and 1000 columns as 1 block of size 4096 to file:/tmp/hail.Y2Dh5hqGGSs3/3uvEqYjW53.bm\n",
      "2020-04-23 15:28:13 Hail: INFO: wrote matrix with 1000 rows and 1000 columns as 1 block of size 4096 to file:/tmp/hail.Y2Dh5hqGGSs3/dspk7GnhFx.bm\n",
      "2020-04-23 15:28:13 Hail: INFO: wrote matrix with 1000 rows and 1000 columns as 1 block of size 4096 to file:/tmp/hail.Y2Dh5hqGGSs3/75l6Qwkjns.bm\n",
      "2020-04-23 15:28:14 Hail: INFO: wrote matrix with 1000 rows and 1000 columns as 1 block of size 4096 to file:/tmp/hail.Y2Dh5hqGGSs3/qoAtNQEket.bm\n",
      "2020-04-23 15:28:14 Hail: INFO: wrote matrix with 1000 rows and 1000 columns as 1 block of size 4096 to file:/tmp/hail.Y2Dh5hqGGSs3/vScinqVqZj.bm\n",
      "2020-04-23 15:28:15 Hail: INFO: wrote matrix with 1000 rows and 1000 columns as 1 block of size 4096 to file:/tmp/hail.Y2Dh5hqGGSs3/kT62GhxCFU.bm\n",
      "2020-04-23 15:28:15 Hail: INFO: wrote matrix with 1000 rows and 1000 columns as 1 block of size 4096 to file:/tmp/hail.Y2Dh5hqGGSs3/txV2vJbzVE.bm\n",
      "2020-04-23 15:28:16 Hail: INFO: Ordering unsorted dataset with network shuffle\n",
      "2020-04-23 15:28:21 Hail: INFO: Coerced sorted dataset\n",
      "2020-04-23 15:28:25 Hail: INFO: wrote table with 499500 rows in 1 partition to /tmp/tmpiibur8uo/pc_relate_result\n",
      "2020-04-23 15:28:25 Hail: INFO: balding_nichols_model: generating genotypes for 10 populations, 1000 samples, and 3000 variants...\n"
     ]
    },
    {
     "name": "stdout",
     "output_type": "stream",
     "text": [
      "Deleting pc_relate results: /tmp/tmpiibur8uo/pc_relate_result\n",
      "Deleting hail tmp dir: /tmp/hail.Y2Dh5hqGGSs3\n"
     ]
    },
    {
     "name": "stderr",
     "output_type": "stream",
     "text": [
      "2020-04-23 15:28:25 Hail: INFO: Coerced sorted dataset\n",
      "2020-04-23 15:28:26 Hail: INFO: wrote matrix table with 3000 rows and 1000 columns in 8 partitions to /home/rav/data/tmp/mt_1000_3000_10.mt\n",
      "2020-04-23 15:28:26 Hail: INFO: hwe_normalized_pca: running PCA using 3000 variants.\n",
      "2020-04-23 15:28:27 Hail: INFO: pca: running PCA with 10 components...\n"
     ]
    },
    {
     "name": "stdout",
     "output_type": "stream",
     "text": [
      "PCA took s:1000, v:3000, p:10 : 5.96 seconds\n"
     ]
    },
    {
     "name": "stderr",
     "output_type": "stream",
     "text": [
      "2020-04-23 15:28:33 Hail: INFO: Wrote all 1 blocks of 3000 x 1000 matrix with block size 4096.\n",
      "2020-04-23 15:28:34 Hail: INFO: wrote matrix with 11 rows and 3000 columns as 1 block of size 4096 to file:/tmp/hail.Y2Dh5hqGGSs3/CX7FnRR7wk.bm\n",
      "2020-04-23 15:28:34 Hail: INFO: wrote matrix with 3000 rows and 1000 columns as 1 block of size 4096 to file:/tmp/hail.Y2Dh5hqGGSs3/PCSUSrWQNk.bm\n",
      "2020-04-23 15:28:34 Hail: INFO: wrote matrix with 3000 rows and 1000 columns as 1 block of size 4096 to file:/tmp/hail.Y2Dh5hqGGSs3/rmwrHf9xp4.bm\n",
      "2020-04-23 15:28:35 Hail: INFO: wrote matrix with 1000 rows and 1000 columns as 1 block of size 4096 to file:/tmp/hail.Y2Dh5hqGGSs3/clStd8efZC.bm\n",
      "2020-04-23 15:28:35 Hail: INFO: wrote matrix with 1000 rows and 1000 columns as 1 block of size 4096 to file:/tmp/hail.Y2Dh5hqGGSs3/ScFPtviWSz.bm\n",
      "2020-04-23 15:28:35 Hail: INFO: wrote matrix with 1000 rows and 1000 columns as 1 block of size 4096 to file:/tmp/hail.Y2Dh5hqGGSs3/qnZCEYuYwB.bm\n",
      "2020-04-23 15:28:37 Hail: INFO: wrote matrix with 1000 rows and 1000 columns as 1 block of size 4096 to file:/tmp/hail.Y2Dh5hqGGSs3/zrwv7H9L84.bm\n",
      "2020-04-23 15:28:38 Hail: INFO: wrote matrix with 1000 rows and 1000 columns as 1 block of size 4096 to file:/tmp/hail.Y2Dh5hqGGSs3/5iv1qyJ7IX.bm\n",
      "2020-04-23 15:28:38 Hail: INFO: wrote matrix with 1000 rows and 1000 columns as 1 block of size 4096 to file:/tmp/hail.Y2Dh5hqGGSs3/yalVOQRwGQ.bm\n",
      "2020-04-23 15:28:39 Hail: INFO: wrote matrix with 1000 rows and 1000 columns as 1 block of size 4096 to file:/tmp/hail.Y2Dh5hqGGSs3/T1UcwhVmpD.bm\n",
      "2020-04-23 15:28:39 Hail: INFO: wrote matrix with 1000 rows and 1000 columns as 1 block of size 4096 to file:/tmp/hail.Y2Dh5hqGGSs3/YhYyNUCgaX.bm\n",
      "2020-04-23 15:28:40 Hail: INFO: wrote matrix with 1000 rows and 1000 columns as 1 block of size 4096 to file:/tmp/hail.Y2Dh5hqGGSs3/zLeVgfsM77.bm\n",
      "2020-04-23 15:28:40 Hail: INFO: Ordering unsorted dataset with network shuffle\n",
      "2020-04-23 15:28:45 Hail: INFO: Coerced sorted dataset\n",
      "2020-04-23 15:28:49 Hail: INFO: wrote table with 499500 rows in 1 partition to /tmp/tmpruyw4k76/pc_relate_result\n",
      "2020-04-23 15:28:49 Hail: INFO: balding_nichols_model: generating genotypes for 10 populations, 1000 samples, and 4000 variants...\n"
     ]
    },
    {
     "name": "stdout",
     "output_type": "stream",
     "text": [
      "Deleting pc_relate results: /tmp/tmpruyw4k76/pc_relate_result\n",
      "Deleting hail tmp dir: /tmp/hail.Y2Dh5hqGGSs3\n"
     ]
    },
    {
     "name": "stderr",
     "output_type": "stream",
     "text": [
      "2020-04-23 15:28:49 Hail: INFO: Coerced sorted dataset\n",
      "2020-04-23 15:28:50 Hail: INFO: wrote matrix table with 4000 rows and 1000 columns in 8 partitions to /home/rav/data/tmp/mt_1000_4000_10.mt\n",
      "2020-04-23 15:28:50 Hail: INFO: hwe_normalized_pca: running PCA using 4000 variants.\n",
      "2020-04-23 15:28:51 Hail: INFO: pca: running PCA with 10 components...\n"
     ]
    },
    {
     "name": "stdout",
     "output_type": "stream",
     "text": [
      "PCA took s:1000, v:4000, p:10 : 6.80 seconds\n"
     ]
    },
    {
     "name": "stderr",
     "output_type": "stream",
     "text": [
      "2020-04-23 15:28:58 Hail: INFO: Wrote all 1 blocks of 4000 x 1000 matrix with block size 4096.\n",
      "2020-04-23 15:28:59 Hail: INFO: wrote matrix with 11 rows and 4000 columns as 1 block of size 4096 to file:/tmp/hail.Y2Dh5hqGGSs3/YYnahql7cO.bm\n",
      "2020-04-23 15:28:59 Hail: INFO: wrote matrix with 4000 rows and 1000 columns as 1 block of size 4096 to file:/tmp/hail.Y2Dh5hqGGSs3/1Gong4nX1K.bm\n",
      "2020-04-23 15:28:59 Hail: INFO: wrote matrix with 4000 rows and 1000 columns as 1 block of size 4096 to file:/tmp/hail.Y2Dh5hqGGSs3/t204mOUsaF.bm\n",
      "2020-04-23 15:29:00 Hail: INFO: wrote matrix with 1000 rows and 1000 columns as 1 block of size 4096 to file:/tmp/hail.Y2Dh5hqGGSs3/U0LBjcMU4O.bm\n",
      "2020-04-23 15:29:01 Hail: INFO: wrote matrix with 1000 rows and 1000 columns as 1 block of size 4096 to file:/tmp/hail.Y2Dh5hqGGSs3/YBxjmkgYEO.bm\n",
      "2020-04-23 15:29:01 Hail: INFO: wrote matrix with 1000 rows and 1000 columns as 1 block of size 4096 to file:/tmp/hail.Y2Dh5hqGGSs3/Le176PfYdZ.bm\n",
      "2020-04-23 15:29:03 Hail: INFO: wrote matrix with 1000 rows and 1000 columns as 1 block of size 4096 to file:/tmp/hail.Y2Dh5hqGGSs3/t3ezcXcq8c.bm\n",
      "2020-04-23 15:29:03 Hail: INFO: wrote matrix with 1000 rows and 1000 columns as 1 block of size 4096 to file:/tmp/hail.Y2Dh5hqGGSs3/E7yTi0UrdZ.bm\n",
      "2020-04-23 15:29:03 Hail: INFO: wrote matrix with 1000 rows and 1000 columns as 1 block of size 4096 to file:/tmp/hail.Y2Dh5hqGGSs3/BQeuOW3Wid.bm\n",
      "2020-04-23 15:29:05 Hail: INFO: wrote matrix with 1000 rows and 1000 columns as 1 block of size 4096 to file:/tmp/hail.Y2Dh5hqGGSs3/wodOVIN05e.bm\n",
      "2020-04-23 15:29:06 Hail: INFO: wrote matrix with 1000 rows and 1000 columns as 1 block of size 4096 to file:/tmp/hail.Y2Dh5hqGGSs3/ROt8G5i01O.bm\n",
      "2020-04-23 15:29:06 Hail: INFO: wrote matrix with 1000 rows and 1000 columns as 1 block of size 4096 to file:/tmp/hail.Y2Dh5hqGGSs3/k1OKQtNcmk.bm\n",
      "2020-04-23 15:29:07 Hail: INFO: Ordering unsorted dataset with network shuffle\n",
      "2020-04-23 15:29:12 Hail: INFO: Coerced sorted dataset\n",
      "2020-04-23 15:29:15 Hail: INFO: wrote table with 499500 rows in 1 partition to /tmp/tmpayxjgnzf/pc_relate_result\n",
      "2020-04-23 15:29:15 Hail: INFO: balding_nichols_model: generating genotypes for 10 populations, 1000 samples, and 5000 variants...\n"
     ]
    },
    {
     "name": "stdout",
     "output_type": "stream",
     "text": [
      "Deleting pc_relate results: /tmp/tmpayxjgnzf/pc_relate_result\n",
      "Deleting hail tmp dir: /tmp/hail.Y2Dh5hqGGSs3\n"
     ]
    },
    {
     "name": "stderr",
     "output_type": "stream",
     "text": [
      "2020-04-23 15:29:16 Hail: INFO: Coerced sorted dataset\n",
      "2020-04-23 15:29:17 Hail: INFO: wrote matrix table with 5000 rows and 1000 columns in 8 partitions to /home/rav/data/tmp/mt_1000_5000_10.mt\n",
      "2020-04-23 15:29:17 Hail: INFO: hwe_normalized_pca: running PCA using 5000 variants.\n",
      "2020-04-23 15:29:17 Hail: INFO: pca: running PCA with 10 components...\n"
     ]
    },
    {
     "name": "stdout",
     "output_type": "stream",
     "text": [
      "PCA took s:1000, v:5000, p:10 : 7.73 seconds\n"
     ]
    },
    {
     "name": "stderr",
     "output_type": "stream",
     "text": [
      "2020-04-23 15:29:26 Hail: INFO: Wrote all 2 blocks of 5000 x 1000 matrix with block size 4096.\n",
      "2020-04-23 15:29:26 Hail: INFO: wrote matrix with 11 rows and 5000 columns as 2 blocks of size 4096 to file:/tmp/hail.Y2Dh5hqGGSs3/178152i4II.bm\n",
      "2020-04-23 15:29:26 Hail: INFO: wrote matrix with 5000 rows and 1000 columns as 2 blocks of size 4096 to file:/tmp/hail.Y2Dh5hqGGSs3/lsRdfUWuPx.bm\n",
      "2020-04-23 15:29:27 Hail: INFO: wrote matrix with 5000 rows and 1000 columns as 2 blocks of size 4096 to file:/tmp/hail.Y2Dh5hqGGSs3/XrjVqnbmUj.bm\n",
      "2020-04-23 15:29:28 Hail: INFO: wrote matrix with 1000 rows and 1000 columns as 1 block of size 4096 to file:/tmp/hail.Y2Dh5hqGGSs3/705W6zfZCh.bm\n",
      "2020-04-23 15:29:29 Hail: INFO: wrote matrix with 1000 rows and 1000 columns as 1 block of size 4096 to file:/tmp/hail.Y2Dh5hqGGSs3/dYNByhSeT5.bm\n",
      "2020-04-23 15:29:29 Hail: INFO: wrote matrix with 1000 rows and 1000 columns as 1 block of size 4096 to file:/tmp/hail.Y2Dh5hqGGSs3/7TQfnhExtJ.bm\n",
      "2020-04-23 15:29:31 Hail: INFO: wrote matrix with 1000 rows and 1000 columns as 1 block of size 4096 to file:/tmp/hail.Y2Dh5hqGGSs3/cKTsJezckE.bm\n",
      "2020-04-23 15:29:32 Hail: INFO: wrote matrix with 1000 rows and 1000 columns as 1 block of size 4096 to file:/tmp/hail.Y2Dh5hqGGSs3/iBTndfSrjB.bm\n",
      "2020-04-23 15:29:32 Hail: INFO: wrote matrix with 1000 rows and 1000 columns as 1 block of size 4096 to file:/tmp/hail.Y2Dh5hqGGSs3/PLMEU5I0BR.bm\n",
      "2020-04-23 15:29:33 Hail: INFO: wrote matrix with 1000 rows and 1000 columns as 1 block of size 4096 to file:/tmp/hail.Y2Dh5hqGGSs3/gGs4VvDhiY.bm\n",
      "2020-04-23 15:29:35 Hail: INFO: wrote matrix with 1000 rows and 1000 columns as 1 block of size 4096 to file:/tmp/hail.Y2Dh5hqGGSs3/kTESrMklSp.bm\n",
      "2020-04-23 15:29:35 Hail: INFO: wrote matrix with 1000 rows and 1000 columns as 1 block of size 4096 to file:/tmp/hail.Y2Dh5hqGGSs3/tjWgXEN7Yb.bm\n",
      "2020-04-23 15:29:36 Hail: INFO: Ordering unsorted dataset with network shuffle\n",
      "2020-04-23 15:29:41 Hail: INFO: Coerced sorted dataset\n",
      "2020-04-23 15:29:44 Hail: INFO: wrote table with 499500 rows in 1 partition to /tmp/tmp82nps2sr/pc_relate_result\n",
      "2020-04-23 15:29:44 Hail: INFO: balding_nichols_model: generating genotypes for 10 populations, 1000 samples, and 6000 variants...\n"
     ]
    },
    {
     "name": "stdout",
     "output_type": "stream",
     "text": [
      "Deleting pc_relate results: /tmp/tmp82nps2sr/pc_relate_result\n",
      "Deleting hail tmp dir: /tmp/hail.Y2Dh5hqGGSs3\n"
     ]
    },
    {
     "name": "stderr",
     "output_type": "stream",
     "text": [
      "2020-04-23 15:29:44 Hail: INFO: Coerced sorted dataset\n",
      "2020-04-23 15:29:46 Hail: INFO: wrote matrix table with 6000 rows and 1000 columns in 8 partitions to /home/rav/data/tmp/mt_1000_6000_10.mt\n",
      "2020-04-23 15:29:46 Hail: INFO: hwe_normalized_pca: running PCA using 6000 variants.\n",
      "2020-04-23 15:29:47 Hail: INFO: pca: running PCA with 10 components...\n"
     ]
    },
    {
     "name": "stdout",
     "output_type": "stream",
     "text": [
      "PCA took s:1000, v:6000, p:10 : 5.99 seconds\n"
     ]
    },
    {
     "name": "stderr",
     "output_type": "stream",
     "text": [
      "2020-04-23 15:29:53 Hail: INFO: Wrote all 2 blocks of 6000 x 1000 matrix with block size 4096.\n",
      "2020-04-23 15:29:54 Hail: INFO: wrote matrix with 11 rows and 6000 columns as 2 blocks of size 4096 to file:/tmp/hail.Y2Dh5hqGGSs3/vnV6CjYXEg.bm\n",
      "2020-04-23 15:29:54 Hail: INFO: wrote matrix with 6000 rows and 1000 columns as 2 blocks of size 4096 to file:/tmp/hail.Y2Dh5hqGGSs3/2ElhuRF1XB.bm\n",
      "2020-04-23 15:29:54 Hail: INFO: wrote matrix with 6000 rows and 1000 columns as 2 blocks of size 4096 to file:/tmp/hail.Y2Dh5hqGGSs3/Uzq3UbVYSI.bm\n",
      "2020-04-23 15:29:55 Hail: INFO: wrote matrix with 1000 rows and 1000 columns as 1 block of size 4096 to file:/tmp/hail.Y2Dh5hqGGSs3/5maD87EEgt.bm\n",
      "2020-04-23 15:29:57 Hail: INFO: wrote matrix with 1000 rows and 1000 columns as 1 block of size 4096 to file:/tmp/hail.Y2Dh5hqGGSs3/GC2Hnz9Rt7.bm\n",
      "2020-04-23 15:29:57 Hail: INFO: wrote matrix with 1000 rows and 1000 columns as 1 block of size 4096 to file:/tmp/hail.Y2Dh5hqGGSs3/7QjGb8ko6e.bm\n",
      "2020-04-23 15:29:59 Hail: INFO: wrote matrix with 1000 rows and 1000 columns as 1 block of size 4096 to file:/tmp/hail.Y2Dh5hqGGSs3/mTIR8qj6iP.bm\n",
      "2020-04-23 15:30:01 Hail: INFO: wrote matrix with 1000 rows and 1000 columns as 1 block of size 4096 to file:/tmp/hail.Y2Dh5hqGGSs3/3LlAGhIe9v.bm\n",
      "2020-04-23 15:30:01 Hail: INFO: wrote matrix with 1000 rows and 1000 columns as 1 block of size 4096 to file:/tmp/hail.Y2Dh5hqGGSs3/dNaIrnAuCm.bm\n",
      "2020-04-23 15:30:03 Hail: INFO: wrote matrix with 1000 rows and 1000 columns as 1 block of size 4096 to file:/tmp/hail.Y2Dh5hqGGSs3/bj6CV00bym.bm\n",
      "2020-04-23 15:30:04 Hail: INFO: wrote matrix with 1000 rows and 1000 columns as 1 block of size 4096 to file:/tmp/hail.Y2Dh5hqGGSs3/emUvyehc4Z.bm\n",
      "2020-04-23 15:30:04 Hail: INFO: wrote matrix with 1000 rows and 1000 columns as 1 block of size 4096 to file:/tmp/hail.Y2Dh5hqGGSs3/tLYHQFmnE2.bm\n",
      "2020-04-23 15:30:05 Hail: INFO: Ordering unsorted dataset with network shuffle\n",
      "2020-04-23 15:30:10 Hail: INFO: Coerced sorted dataset\n",
      "2020-04-23 15:30:14 Hail: INFO: wrote table with 499500 rows in 1 partition to /tmp/tmpad1ofj05/pc_relate_result\n",
      "2020-04-23 15:30:14 Hail: INFO: balding_nichols_model: generating genotypes for 10 populations, 1000 samples, and 7000 variants...\n"
     ]
    },
    {
     "name": "stdout",
     "output_type": "stream",
     "text": [
      "Deleting pc_relate results: /tmp/tmpad1ofj05/pc_relate_result\n",
      "Deleting hail tmp dir: /tmp/hail.Y2Dh5hqGGSs3\n"
     ]
    },
    {
     "name": "stderr",
     "output_type": "stream",
     "text": [
      "2020-04-23 15:30:14 Hail: INFO: Coerced sorted dataset\n",
      "2020-04-23 15:30:15 Hail: INFO: wrote matrix table with 7000 rows and 1000 columns in 8 partitions to /home/rav/data/tmp/mt_1000_7000_10.mt\n",
      "2020-04-23 15:30:16 Hail: INFO: hwe_normalized_pca: running PCA using 7000 variants.\n",
      "2020-04-23 15:30:16 Hail: INFO: pca: running PCA with 10 components...\n"
     ]
    },
    {
     "name": "stdout",
     "output_type": "stream",
     "text": [
      "PCA took s:1000, v:7000, p:10 : 7.31 seconds\n"
     ]
    },
    {
     "name": "stderr",
     "output_type": "stream",
     "text": [
      "2020-04-23 15:30:24 Hail: INFO: Wrote all 2 blocks of 7000 x 1000 matrix with block size 4096.\n",
      "2020-04-23 15:30:24 Hail: INFO: wrote matrix with 11 rows and 7000 columns as 2 blocks of size 4096 to file:/tmp/hail.Y2Dh5hqGGSs3/Q42ry8cncC.bm\n",
      "2020-04-23 15:30:25 Hail: INFO: wrote matrix with 7000 rows and 1000 columns as 2 blocks of size 4096 to file:/tmp/hail.Y2Dh5hqGGSs3/aGQoojBRYH.bm\n",
      "2020-04-23 15:30:25 Hail: INFO: wrote matrix with 7000 rows and 1000 columns as 2 blocks of size 4096 to file:/tmp/hail.Y2Dh5hqGGSs3/P4dzMiT0rL.bm\n",
      "2020-04-23 15:30:27 Hail: INFO: wrote matrix with 1000 rows and 1000 columns as 1 block of size 4096 to file:/tmp/hail.Y2Dh5hqGGSs3/OX2YrltNUd.bm\n",
      "2020-04-23 15:30:28 Hail: INFO: wrote matrix with 1000 rows and 1000 columns as 1 block of size 4096 to file:/tmp/hail.Y2Dh5hqGGSs3/hjCqSjIJMn.bm\n",
      "2020-04-23 15:30:28 Hail: INFO: wrote matrix with 1000 rows and 1000 columns as 1 block of size 4096 to file:/tmp/hail.Y2Dh5hqGGSs3/K21b7db7dF.bm\n",
      "2020-04-23 15:30:30 Hail: INFO: wrote matrix with 1000 rows and 1000 columns as 1 block of size 4096 to file:/tmp/hail.Y2Dh5hqGGSs3/6AON2OT6wY.bm\n",
      "2020-04-23 15:30:32 Hail: INFO: wrote matrix with 1000 rows and 1000 columns as 1 block of size 4096 to file:/tmp/hail.Y2Dh5hqGGSs3/tJ8URiVyEp.bm\n",
      "2020-04-23 15:30:32 Hail: INFO: wrote matrix with 1000 rows and 1000 columns as 1 block of size 4096 to file:/tmp/hail.Y2Dh5hqGGSs3/d3Y1jMlRba.bm\n",
      "2020-04-23 15:30:34 Hail: INFO: wrote matrix with 1000 rows and 1000 columns as 1 block of size 4096 to file:/tmp/hail.Y2Dh5hqGGSs3/QZmQyqwQVT.bm\n",
      "2020-04-23 15:30:36 Hail: INFO: wrote matrix with 1000 rows and 1000 columns as 1 block of size 4096 to file:/tmp/hail.Y2Dh5hqGGSs3/BsIOgYJbju.bm\n",
      "2020-04-23 15:30:36 Hail: INFO: wrote matrix with 1000 rows and 1000 columns as 1 block of size 4096 to file:/tmp/hail.Y2Dh5hqGGSs3/z8w5bQc6AN.bm\n",
      "2020-04-23 15:30:37 Hail: INFO: Ordering unsorted dataset with network shuffle\n",
      "2020-04-23 15:30:43 Hail: INFO: Coerced sorted dataset\n",
      "2020-04-23 15:30:46 Hail: INFO: wrote table with 499500 rows in 1 partition to /tmp/tmp65dcv812/pc_relate_result\n",
      "2020-04-23 15:30:46 Hail: INFO: balding_nichols_model: generating genotypes for 10 populations, 1000 samples, and 8000 variants...\n"
     ]
    },
    {
     "name": "stdout",
     "output_type": "stream",
     "text": [
      "Deleting pc_relate results: /tmp/tmp65dcv812/pc_relate_result\n",
      "Deleting hail tmp dir: /tmp/hail.Y2Dh5hqGGSs3\n"
     ]
    },
    {
     "name": "stderr",
     "output_type": "stream",
     "text": [
      "2020-04-23 15:30:46 Hail: INFO: Coerced sorted dataset\n",
      "2020-04-23 15:30:48 Hail: INFO: wrote matrix table with 8000 rows and 1000 columns in 8 partitions to /home/rav/data/tmp/mt_1000_8000_10.mt\n",
      "2020-04-23 15:30:48 Hail: INFO: hwe_normalized_pca: running PCA using 8000 variants.\n",
      "2020-04-23 15:30:49 Hail: INFO: pca: running PCA with 10 components...\n"
     ]
    },
    {
     "name": "stdout",
     "output_type": "stream",
     "text": [
      "PCA took s:1000, v:8000, p:10 : 7.01 seconds\n"
     ]
    },
    {
     "name": "stderr",
     "output_type": "stream",
     "text": [
      "2020-04-23 15:30:56 Hail: INFO: Wrote all 2 blocks of 8000 x 1000 matrix with block size 4096.\n",
      "2020-04-23 15:30:57 Hail: INFO: wrote matrix with 11 rows and 8000 columns as 2 blocks of size 4096 to file:/tmp/hail.Y2Dh5hqGGSs3/L7oyyYjqAW.bm\n",
      "2020-04-23 15:30:57 Hail: INFO: wrote matrix with 8000 rows and 1000 columns as 2 blocks of size 4096 to file:/tmp/hail.Y2Dh5hqGGSs3/uQFOlGNiGf.bm\n",
      "2020-04-23 15:30:57 Hail: INFO: wrote matrix with 8000 rows and 1000 columns as 2 blocks of size 4096 to file:/tmp/hail.Y2Dh5hqGGSs3/SzM7dc62Mn.bm\n",
      "2020-04-23 15:30:59 Hail: INFO: wrote matrix with 1000 rows and 1000 columns as 1 block of size 4096 to file:/tmp/hail.Y2Dh5hqGGSs3/4j6K37eND2.bm\n",
      "2020-04-23 15:31:01 Hail: INFO: wrote matrix with 1000 rows and 1000 columns as 1 block of size 4096 to file:/tmp/hail.Y2Dh5hqGGSs3/6tQdDpioNz.bm\n",
      "2020-04-23 15:31:01 Hail: INFO: wrote matrix with 1000 rows and 1000 columns as 1 block of size 4096 to file:/tmp/hail.Y2Dh5hqGGSs3/1r4VeOtGgI.bm\n",
      "2020-04-23 15:31:04 Hail: INFO: wrote matrix with 1000 rows and 1000 columns as 1 block of size 4096 to file:/tmp/hail.Y2Dh5hqGGSs3/W5TDwtafRc.bm\n",
      "2020-04-23 15:31:05 Hail: INFO: wrote matrix with 1000 rows and 1000 columns as 1 block of size 4096 to file:/tmp/hail.Y2Dh5hqGGSs3/iW3XOV1Zlt.bm\n",
      "2020-04-23 15:31:05 Hail: INFO: wrote matrix with 1000 rows and 1000 columns as 1 block of size 4096 to file:/tmp/hail.Y2Dh5hqGGSs3/r7YGVITa4L.bm\n",
      "2020-04-23 15:31:08 Hail: INFO: wrote matrix with 1000 rows and 1000 columns as 1 block of size 4096 to file:/tmp/hail.Y2Dh5hqGGSs3/zpgO4d3LTk.bm\n",
      "2020-04-23 15:31:10 Hail: INFO: wrote matrix with 1000 rows and 1000 columns as 1 block of size 4096 to file:/tmp/hail.Y2Dh5hqGGSs3/bJOORqeEW2.bm\n",
      "2020-04-23 15:31:10 Hail: INFO: wrote matrix with 1000 rows and 1000 columns as 1 block of size 4096 to file:/tmp/hail.Y2Dh5hqGGSs3/22XkEJU2we.bm\n",
      "2020-04-23 15:31:11 Hail: INFO: Ordering unsorted dataset with network shuffle\n",
      "2020-04-23 15:31:16 Hail: INFO: Coerced sorted dataset\n",
      "2020-04-23 15:31:19 Hail: INFO: wrote table with 499500 rows in 1 partition to /tmp/tmpogm4afr2/pc_relate_result\n",
      "2020-04-23 15:31:19 Hail: INFO: balding_nichols_model: generating genotypes for 10 populations, 1000 samples, and 9000 variants...\n"
     ]
    },
    {
     "name": "stdout",
     "output_type": "stream",
     "text": [
      "Deleting pc_relate results: /tmp/tmpogm4afr2/pc_relate_result\n",
      "Deleting hail tmp dir: /tmp/hail.Y2Dh5hqGGSs3\n"
     ]
    },
    {
     "name": "stderr",
     "output_type": "stream",
     "text": [
      "2020-04-23 15:31:20 Hail: INFO: Coerced sorted dataset\n",
      "2020-04-23 15:31:21 Hail: INFO: wrote matrix table with 9000 rows and 1000 columns in 8 partitions to /home/rav/data/tmp/mt_1000_9000_10.mt\n",
      "2020-04-23 15:31:22 Hail: INFO: hwe_normalized_pca: running PCA using 9000 variants.\n",
      "2020-04-23 15:31:22 Hail: INFO: pca: running PCA with 10 components...\n"
     ]
    },
    {
     "name": "stdout",
     "output_type": "stream",
     "text": [
      "PCA took s:1000, v:9000, p:10 : 7.72 seconds\n"
     ]
    },
    {
     "name": "stderr",
     "output_type": "stream",
     "text": [
      "2020-04-23 15:31:31 Hail: INFO: Wrote all 3 blocks of 9000 x 1000 matrix with block size 4096.\n",
      "2020-04-23 15:31:31 Hail: INFO: wrote matrix with 11 rows and 9000 columns as 3 blocks of size 4096 to file:/tmp/hail.Y2Dh5hqGGSs3/M8NUnZkwxX.bm\n",
      "2020-04-23 15:31:31 Hail: INFO: wrote matrix with 9000 rows and 1000 columns as 3 blocks of size 4096 to file:/tmp/hail.Y2Dh5hqGGSs3/ppHJBj8ig1.bm\n",
      "2020-04-23 15:31:31 Hail: INFO: wrote matrix with 9000 rows and 1000 columns as 3 blocks of size 4096 to file:/tmp/hail.Y2Dh5hqGGSs3/ZCVMKyr6bv.bm\n",
      "2020-04-23 15:31:34 Hail: INFO: wrote matrix with 1000 rows and 1000 columns as 1 block of size 4096 to file:/tmp/hail.Y2Dh5hqGGSs3/dy1IB5vb43.bm\n",
      "2020-04-23 15:31:36 Hail: INFO: wrote matrix with 1000 rows and 1000 columns as 1 block of size 4096 to file:/tmp/hail.Y2Dh5hqGGSs3/0gdUsQfLkX.bm\n",
      "2020-04-23 15:31:36 Hail: INFO: wrote matrix with 1000 rows and 1000 columns as 1 block of size 4096 to file:/tmp/hail.Y2Dh5hqGGSs3/KTHo1mSCJ2.bm\n",
      "2020-04-23 15:31:38 Hail: INFO: wrote matrix with 1000 rows and 1000 columns as 1 block of size 4096 to file:/tmp/hail.Y2Dh5hqGGSs3/TOSJcoUiw2.bm\n",
      "2020-04-23 15:31:40 Hail: INFO: wrote matrix with 1000 rows and 1000 columns as 1 block of size 4096 to file:/tmp/hail.Y2Dh5hqGGSs3/DbpbFHdyHF.bm\n",
      "2020-04-23 15:31:40 Hail: INFO: wrote matrix with 1000 rows and 1000 columns as 1 block of size 4096 to file:/tmp/hail.Y2Dh5hqGGSs3/MfTayEWeLa.bm\n",
      "2020-04-23 15:31:43 Hail: INFO: wrote matrix with 1000 rows and 1000 columns as 1 block of size 4096 to file:/tmp/hail.Y2Dh5hqGGSs3/xs9Ka14g6H.bm\n",
      "2020-04-23 15:31:46 Hail: INFO: wrote matrix with 1000 rows and 1000 columns as 1 block of size 4096 to file:/tmp/hail.Y2Dh5hqGGSs3/ADQllE6igh.bm\n",
      "2020-04-23 15:31:46 Hail: INFO: wrote matrix with 1000 rows and 1000 columns as 1 block of size 4096 to file:/tmp/hail.Y2Dh5hqGGSs3/FurhQv46yz.bm\n",
      "2020-04-23 15:31:47 Hail: INFO: Ordering unsorted dataset with network shuffle\n",
      "2020-04-23 15:31:52 Hail: INFO: Coerced sorted dataset\n",
      "2020-04-23 15:31:56 Hail: INFO: wrote table with 499500 rows in 1 partition to /tmp/tmpla9oqf7_/pc_relate_result\n",
      "2020-04-23 15:31:56 Hail: INFO: balding_nichols_model: generating genotypes for 10 populations, 1000 samples, and 10000 variants...\n"
     ]
    },
    {
     "name": "stdout",
     "output_type": "stream",
     "text": [
      "Deleting pc_relate results: /tmp/tmpla9oqf7_/pc_relate_result\n",
      "Deleting hail tmp dir: /tmp/hail.Y2Dh5hqGGSs3\n"
     ]
    },
    {
     "name": "stderr",
     "output_type": "stream",
     "text": [
      "2020-04-23 15:31:56 Hail: INFO: Coerced sorted dataset\n",
      "2020-04-23 15:31:58 Hail: INFO: wrote matrix table with 10000 rows and 1000 columns in 8 partitions to /home/rav/data/tmp/mt_1000_10000_10.mt\n",
      "2020-04-23 15:31:58 Hail: INFO: hwe_normalized_pca: running PCA using 10000 variants.\n",
      "2020-04-23 15:31:59 Hail: INFO: pca: running PCA with 10 components...\n"
     ]
    },
    {
     "name": "stdout",
     "output_type": "stream",
     "text": [
      "PCA took s:1000, v:10000, p:10 : 6.67 seconds\n"
     ]
    },
    {
     "name": "stderr",
     "output_type": "stream",
     "text": [
      "2020-04-23 15:32:06 Hail: INFO: Wrote all 3 blocks of 10000 x 1000 matrix with block size 4096.\n",
      "2020-04-23 15:32:06 Hail: INFO: wrote matrix with 11 rows and 10000 columns as 3 blocks of size 4096 to file:/tmp/hail.Y2Dh5hqGGSs3/8IpQfZsbBt.bm\n",
      "2020-04-23 15:32:06 Hail: INFO: wrote matrix with 10000 rows and 1000 columns as 3 blocks of size 4096 to file:/tmp/hail.Y2Dh5hqGGSs3/iPTxeIYfUv.bm\n",
      "2020-04-23 15:32:07 Hail: INFO: wrote matrix with 10000 rows and 1000 columns as 3 blocks of size 4096 to file:/tmp/hail.Y2Dh5hqGGSs3/aDgu4IGdc5.bm\n",
      "2020-04-23 15:32:09 Hail: INFO: wrote matrix with 1000 rows and 1000 columns as 1 block of size 4096 to file:/tmp/hail.Y2Dh5hqGGSs3/kSVilBpoCu.bm\n",
      "2020-04-23 15:32:11 Hail: INFO: wrote matrix with 1000 rows and 1000 columns as 1 block of size 4096 to file:/tmp/hail.Y2Dh5hqGGSs3/4zxFZ3i1Oa.bm\n",
      "2020-04-23 15:32:11 Hail: INFO: wrote matrix with 1000 rows and 1000 columns as 1 block of size 4096 to file:/tmp/hail.Y2Dh5hqGGSs3/V2qQNXtPbC.bm\n",
      "2020-04-23 15:32:16 Hail: INFO: wrote matrix with 1000 rows and 1000 columns as 1 block of size 4096 to file:/tmp/hail.Y2Dh5hqGGSs3/UxeMy3N60z.bm\n",
      "2020-04-23 15:32:18 Hail: INFO: wrote matrix with 1000 rows and 1000 columns as 1 block of size 4096 to file:/tmp/hail.Y2Dh5hqGGSs3/9laCdlBOje.bm\n",
      "2020-04-23 15:32:18 Hail: INFO: wrote matrix with 1000 rows and 1000 columns as 1 block of size 4096 to file:/tmp/hail.Y2Dh5hqGGSs3/xVVLFVJ3N5.bm\n",
      "2020-04-23 15:32:21 Hail: INFO: wrote matrix with 1000 rows and 1000 columns as 1 block of size 4096 to file:/tmp/hail.Y2Dh5hqGGSs3/xJHtfupNDK.bm\n",
      "2020-04-23 15:32:23 Hail: INFO: wrote matrix with 1000 rows and 1000 columns as 1 block of size 4096 to file:/tmp/hail.Y2Dh5hqGGSs3/3JdVJsDvYF.bm\n",
      "2020-04-23 15:32:24 Hail: INFO: wrote matrix with 1000 rows and 1000 columns as 1 block of size 4096 to file:/tmp/hail.Y2Dh5hqGGSs3/nnfFsovqSE.bm\n",
      "2020-04-23 15:32:24 Hail: INFO: Ordering unsorted dataset with network shuffle\n",
      "2020-04-23 15:32:29 Hail: INFO: Coerced sorted dataset\n",
      "2020-04-23 15:32:33 Hail: INFO: wrote table with 499500 rows in 1 partition to /tmp/tmpca53d52i/pc_relate_result\n",
      "2020-04-23 15:32:33 Hail: INFO: balding_nichols_model: generating genotypes for 10 populations, 2000 samples, and 1000 variants...\n"
     ]
    },
    {
     "name": "stdout",
     "output_type": "stream",
     "text": [
      "Deleting pc_relate results: /tmp/tmpca53d52i/pc_relate_result\n",
      "Deleting hail tmp dir: /tmp/hail.Y2Dh5hqGGSs3\n"
     ]
    },
    {
     "name": "stderr",
     "output_type": "stream",
     "text": [
      "2020-04-23 15:32:33 Hail: INFO: Coerced sorted dataset\n",
      "2020-04-23 15:32:34 Hail: INFO: wrote matrix table with 1000 rows and 2000 columns in 8 partitions to /home/rav/data/tmp/mt_2000_1000_10.mt\n",
      "2020-04-23 15:32:34 Hail: INFO: hwe_normalized_pca: running PCA using 1000 variants.\n",
      "2020-04-23 15:32:35 Hail: INFO: pca: running PCA with 10 components...\n"
     ]
    },
    {
     "name": "stdout",
     "output_type": "stream",
     "text": [
      "PCA took s:2000, v:1000, p:10 : 5.98 seconds\n"
     ]
    },
    {
     "name": "stderr",
     "output_type": "stream",
     "text": [
      "2020-04-23 15:32:42 Hail: INFO: Wrote all 1 blocks of 1000 x 2000 matrix with block size 4096.\n",
      "2020-04-23 15:32:42 Hail: INFO: wrote matrix with 11 rows and 1000 columns as 1 block of size 4096 to file:/tmp/hail.Y2Dh5hqGGSs3/fNA1kvgFs8.bm\n",
      "2020-04-23 15:32:42 Hail: INFO: wrote matrix with 1000 rows and 2000 columns as 1 block of size 4096 to file:/tmp/hail.Y2Dh5hqGGSs3/ATRLB4VZ3I.bm\n",
      "2020-04-23 15:32:42 Hail: INFO: wrote matrix with 1000 rows and 2000 columns as 1 block of size 4096 to file:/tmp/hail.Y2Dh5hqGGSs3/AnEkOSIMFs.bm\n",
      "2020-04-23 15:32:43 Hail: INFO: wrote matrix with 2000 rows and 2000 columns as 1 block of size 4096 to file:/tmp/hail.Y2Dh5hqGGSs3/QQqhmD1whP.bm\n",
      "2020-04-23 15:32:44 Hail: INFO: wrote matrix with 2000 rows and 2000 columns as 1 block of size 4096 to file:/tmp/hail.Y2Dh5hqGGSs3/EUyXrnvV0C.bm\n",
      "2020-04-23 15:32:44 Hail: INFO: wrote matrix with 2000 rows and 2000 columns as 1 block of size 4096 to file:/tmp/hail.Y2Dh5hqGGSs3/LQrh3v0ITa.bm\n",
      "2020-04-23 15:32:45 Hail: INFO: wrote matrix with 2000 rows and 2000 columns as 1 block of size 4096 to file:/tmp/hail.Y2Dh5hqGGSs3/UD0WvVCMxW.bm\n",
      "2020-04-23 15:32:46 Hail: INFO: wrote matrix with 2000 rows and 2000 columns as 1 block of size 4096 to file:/tmp/hail.Y2Dh5hqGGSs3/XejJcWMgij.bm\n",
      "2020-04-23 15:32:46 Hail: INFO: wrote matrix with 2000 rows and 2000 columns as 1 block of size 4096 to file:/tmp/hail.Y2Dh5hqGGSs3/dA8wennapp.bm\n",
      "2020-04-23 15:32:48 Hail: INFO: wrote matrix with 2000 rows and 2000 columns as 1 block of size 4096 to file:/tmp/hail.Y2Dh5hqGGSs3/oL89pc4JmF.bm\n",
      "2020-04-23 15:32:49 Hail: INFO: wrote matrix with 2000 rows and 2000 columns as 1 block of size 4096 to file:/tmp/hail.Y2Dh5hqGGSs3/TYa5dd1Glr.bm\n",
      "2020-04-23 15:32:49 Hail: INFO: wrote matrix with 2000 rows and 2000 columns as 1 block of size 4096 to file:/tmp/hail.Y2Dh5hqGGSs3/gc3ithTMrH.bm\n",
      "2020-04-23 15:32:53 Hail: INFO: Ordering unsorted dataset with network shuffle\n",
      "2020-04-23 15:33:12 Hail: INFO: Coerced sorted dataset\n",
      "2020-04-23 15:33:26 Hail: INFO: wrote table with 1999000 rows in 1 partition to /tmp/tmp5obapbav/pc_relate_result\n",
      "2020-04-23 15:33:26 Hail: INFO: balding_nichols_model: generating genotypes for 10 populations, 2000 samples, and 2000 variants...\n"
     ]
    },
    {
     "name": "stdout",
     "output_type": "stream",
     "text": [
      "Deleting pc_relate results: /tmp/tmp5obapbav/pc_relate_result\n",
      "Deleting hail tmp dir: /tmp/hail.Y2Dh5hqGGSs3\n"
     ]
    },
    {
     "name": "stderr",
     "output_type": "stream",
     "text": [
      "2020-04-23 15:33:26 Hail: INFO: Coerced sorted dataset\n",
      "2020-04-23 15:33:27 Hail: INFO: wrote matrix table with 2000 rows and 2000 columns in 8 partitions to /home/rav/data/tmp/mt_2000_2000_10.mt\n",
      "2020-04-23 15:33:27 Hail: INFO: hwe_normalized_pca: running PCA using 2000 variants.\n",
      "2020-04-23 15:33:28 Hail: INFO: pca: running PCA with 10 components...\n"
     ]
    },
    {
     "name": "stdout",
     "output_type": "stream",
     "text": [
      "PCA took s:2000, v:2000, p:10 : 6.10 seconds\n"
     ]
    },
    {
     "name": "stderr",
     "output_type": "stream",
     "text": [
      "2020-04-23 15:33:35 Hail: INFO: Wrote all 1 blocks of 2000 x 2000 matrix with block size 4096.\n",
      "2020-04-23 15:33:35 Hail: INFO: wrote matrix with 11 rows and 2000 columns as 1 block of size 4096 to file:/tmp/hail.Y2Dh5hqGGSs3/4dVfZ0lw3u.bm\n",
      "2020-04-23 15:33:35 Hail: INFO: wrote matrix with 2000 rows and 2000 columns as 1 block of size 4096 to file:/tmp/hail.Y2Dh5hqGGSs3/AoksXmagZy.bm\n",
      "2020-04-23 15:33:36 Hail: INFO: wrote matrix with 2000 rows and 2000 columns as 1 block of size 4096 to file:/tmp/hail.Y2Dh5hqGGSs3/que968p4Zw.bm\n",
      "2020-04-23 15:33:38 Hail: INFO: wrote matrix with 2000 rows and 2000 columns as 1 block of size 4096 to file:/tmp/hail.Y2Dh5hqGGSs3/qIwAVomrUx.bm\n",
      "2020-04-23 15:33:39 Hail: INFO: wrote matrix with 2000 rows and 2000 columns as 1 block of size 4096 to file:/tmp/hail.Y2Dh5hqGGSs3/tDmm7BTeNY.bm\n",
      "2020-04-23 15:33:39 Hail: INFO: wrote matrix with 2000 rows and 2000 columns as 1 block of size 4096 to file:/tmp/hail.Y2Dh5hqGGSs3/v4VdzXQN3S.bm\n",
      "2020-04-23 15:33:42 Hail: INFO: wrote matrix with 2000 rows and 2000 columns as 1 block of size 4096 to file:/tmp/hail.Y2Dh5hqGGSs3/C9Ed8HCVec.bm\n",
      "2020-04-23 15:33:43 Hail: INFO: wrote matrix with 2000 rows and 2000 columns as 1 block of size 4096 to file:/tmp/hail.Y2Dh5hqGGSs3/olygt8CBhA.bm\n",
      "2020-04-23 15:33:43 Hail: INFO: wrote matrix with 2000 rows and 2000 columns as 1 block of size 4096 to file:/tmp/hail.Y2Dh5hqGGSs3/aIP8eS5jLu.bm\n",
      "2020-04-23 15:33:45 Hail: INFO: wrote matrix with 2000 rows and 2000 columns as 1 block of size 4096 to file:/tmp/hail.Y2Dh5hqGGSs3/a5MRIte8yI.bm\n",
      "2020-04-23 15:33:47 Hail: INFO: wrote matrix with 2000 rows and 2000 columns as 1 block of size 4096 to file:/tmp/hail.Y2Dh5hqGGSs3/ULRkqy6O6h.bm\n",
      "2020-04-23 15:33:48 Hail: INFO: wrote matrix with 2000 rows and 2000 columns as 1 block of size 4096 to file:/tmp/hail.Y2Dh5hqGGSs3/Uw5MoJ2KAU.bm\n",
      "2020-04-23 15:33:51 Hail: INFO: Ordering unsorted dataset with network shuffle\n",
      "2020-04-23 15:34:11 Hail: INFO: Coerced sorted dataset\n",
      "2020-04-23 15:34:24 Hail: INFO: wrote table with 1999000 rows in 1 partition to /tmp/tmprluxxjkg/pc_relate_result\n",
      "2020-04-23 15:34:25 Hail: INFO: balding_nichols_model: generating genotypes for 10 populations, 2000 samples, and 3000 variants...\n"
     ]
    },
    {
     "name": "stdout",
     "output_type": "stream",
     "text": [
      "Deleting pc_relate results: /tmp/tmprluxxjkg/pc_relate_result\n",
      "Deleting hail tmp dir: /tmp/hail.Y2Dh5hqGGSs3\n"
     ]
    },
    {
     "name": "stderr",
     "output_type": "stream",
     "text": [
      "2020-04-23 15:34:25 Hail: INFO: Coerced sorted dataset\n",
      "2020-04-23 15:34:26 Hail: INFO: wrote matrix table with 3000 rows and 2000 columns in 8 partitions to /home/rav/data/tmp/mt_2000_3000_10.mt\n",
      "2020-04-23 15:34:26 Hail: INFO: hwe_normalized_pca: running PCA using 3000 variants.\n",
      "2020-04-23 15:34:27 Hail: INFO: pca: running PCA with 10 components...\n"
     ]
    },
    {
     "name": "stdout",
     "output_type": "stream",
     "text": [
      "PCA took s:2000, v:3000, p:10 : 7.84 seconds\n"
     ]
    },
    {
     "name": "stderr",
     "output_type": "stream",
     "text": [
      "2020-04-23 15:34:36 Hail: INFO: Wrote all 1 blocks of 3000 x 2000 matrix with block size 4096.\n",
      "2020-04-23 15:34:37 Hail: INFO: wrote matrix with 11 rows and 3000 columns as 1 block of size 4096 to file:/tmp/hail.Y2Dh5hqGGSs3/odHH24tXZF.bm\n",
      "2020-04-23 15:34:37 Hail: INFO: wrote matrix with 3000 rows and 2000 columns as 1 block of size 4096 to file:/tmp/hail.Y2Dh5hqGGSs3/sjYJBvXoD5.bm\n",
      "2020-04-23 15:34:37 Hail: INFO: wrote matrix with 3000 rows and 2000 columns as 1 block of size 4096 to file:/tmp/hail.Y2Dh5hqGGSs3/VM3Sp5GOkB.bm\n",
      "2020-04-23 15:34:40 Hail: INFO: wrote matrix with 2000 rows and 2000 columns as 1 block of size 4096 to file:/tmp/hail.Y2Dh5hqGGSs3/gUpxoKjzNS.bm\n",
      "2020-04-23 15:34:42 Hail: INFO: wrote matrix with 2000 rows and 2000 columns as 1 block of size 4096 to file:/tmp/hail.Y2Dh5hqGGSs3/bqjVJpXbEj.bm\n",
      "2020-04-23 15:34:42 Hail: INFO: wrote matrix with 2000 rows and 2000 columns as 1 block of size 4096 to file:/tmp/hail.Y2Dh5hqGGSs3/AYb6wxWTxm.bm\n",
      "2020-04-23 15:34:46 Hail: INFO: wrote matrix with 2000 rows and 2000 columns as 1 block of size 4096 to file:/tmp/hail.Y2Dh5hqGGSs3/JNMF78uYIV.bm\n",
      "2020-04-23 15:34:48 Hail: INFO: wrote matrix with 2000 rows and 2000 columns as 1 block of size 4096 to file:/tmp/hail.Y2Dh5hqGGSs3/oA7d0fKw3I.bm\n",
      "2020-04-23 15:34:48 Hail: INFO: wrote matrix with 2000 rows and 2000 columns as 1 block of size 4096 to file:/tmp/hail.Y2Dh5hqGGSs3/zU1ogI9PFX.bm\n",
      "2020-04-23 15:34:51 Hail: INFO: wrote matrix with 2000 rows and 2000 columns as 1 block of size 4096 to file:/tmp/hail.Y2Dh5hqGGSs3/JbqirbVS4f.bm\n",
      "2020-04-23 15:34:54 Hail: INFO: wrote matrix with 2000 rows and 2000 columns as 1 block of size 4096 to file:/tmp/hail.Y2Dh5hqGGSs3/v3csjPo06t.bm\n",
      "2020-04-23 15:34:54 Hail: INFO: wrote matrix with 2000 rows and 2000 columns as 1 block of size 4096 to file:/tmp/hail.Y2Dh5hqGGSs3/QXfxfgmSgV.bm\n",
      "2020-04-23 15:34:58 Hail: INFO: Ordering unsorted dataset with network shuffle\n",
      "2020-04-23 15:35:17 Hail: INFO: Coerced sorted dataset\n",
      "2020-04-23 15:35:31 Hail: INFO: wrote table with 1999000 rows in 1 partition to /tmp/tmpv_i0mvtp/pc_relate_result\n",
      "2020-04-23 15:35:31 Hail: INFO: balding_nichols_model: generating genotypes for 10 populations, 2000 samples, and 4000 variants...\n"
     ]
    },
    {
     "name": "stdout",
     "output_type": "stream",
     "text": [
      "Deleting pc_relate results: /tmp/tmpv_i0mvtp/pc_relate_result\n",
      "Deleting hail tmp dir: /tmp/hail.Y2Dh5hqGGSs3\n"
     ]
    },
    {
     "name": "stderr",
     "output_type": "stream",
     "text": [
      "2020-04-23 15:35:31 Hail: INFO: Coerced sorted dataset\n",
      "2020-04-23 15:35:33 Hail: INFO: wrote matrix table with 4000 rows and 2000 columns in 8 partitions to /home/rav/data/tmp/mt_2000_4000_10.mt\n",
      "2020-04-23 15:35:33 Hail: INFO: hwe_normalized_pca: running PCA using 4000 variants.\n",
      "2020-04-23 15:35:34 Hail: INFO: pca: running PCA with 10 components...\n"
     ]
    },
    {
     "name": "stdout",
     "output_type": "stream",
     "text": [
      "PCA took s:2000, v:4000, p:10 : 7.48 seconds\n"
     ]
    },
    {
     "name": "stderr",
     "output_type": "stream",
     "text": [
      "2020-04-23 15:35:43 Hail: INFO: Wrote all 1 blocks of 4000 x 2000 matrix with block size 4096.\n",
      "2020-04-23 15:35:43 Hail: INFO: wrote matrix with 11 rows and 4000 columns as 1 block of size 4096 to file:/tmp/hail.Y2Dh5hqGGSs3/p3kIpXS9qu.bm\n",
      "2020-04-23 15:35:43 Hail: INFO: wrote matrix with 4000 rows and 2000 columns as 1 block of size 4096 to file:/tmp/hail.Y2Dh5hqGGSs3/t4jzTwSzif.bm\n",
      "2020-04-23 15:35:44 Hail: INFO: wrote matrix with 4000 rows and 2000 columns as 1 block of size 4096 to file:/tmp/hail.Y2Dh5hqGGSs3/qGq4Dz6TV9.bm\n",
      "2020-04-23 15:35:47 Hail: INFO: wrote matrix with 2000 rows and 2000 columns as 1 block of size 4096 to file:/tmp/hail.Y2Dh5hqGGSs3/Ets7X7Fjy7.bm\n",
      "2020-04-23 15:35:51 Hail: INFO: wrote matrix with 2000 rows and 2000 columns as 1 block of size 4096 to file:/tmp/hail.Y2Dh5hqGGSs3/f0xNsGxYSJ.bm\n",
      "2020-04-23 15:35:51 Hail: INFO: wrote matrix with 2000 rows and 2000 columns as 1 block of size 4096 to file:/tmp/hail.Y2Dh5hqGGSs3/4BlfCdhazB.bm\n",
      "2020-04-23 15:35:55 Hail: INFO: wrote matrix with 2000 rows and 2000 columns as 1 block of size 4096 to file:/tmp/hail.Y2Dh5hqGGSs3/fzOyv3f4on.bm\n",
      "2020-04-23 15:35:58 Hail: INFO: wrote matrix with 2000 rows and 2000 columns as 1 block of size 4096 to file:/tmp/hail.Y2Dh5hqGGSs3/tQuPt7u9Fq.bm\n",
      "2020-04-23 15:35:59 Hail: INFO: wrote matrix with 2000 rows and 2000 columns as 1 block of size 4096 to file:/tmp/hail.Y2Dh5hqGGSs3/6dg2S9aETb.bm\n",
      "2020-04-23 15:36:03 Hail: INFO: wrote matrix with 2000 rows and 2000 columns as 1 block of size 4096 to file:/tmp/hail.Y2Dh5hqGGSs3/dJeTyt1owF.bm\n",
      "2020-04-23 15:36:06 Hail: INFO: wrote matrix with 2000 rows and 2000 columns as 1 block of size 4096 to file:/tmp/hail.Y2Dh5hqGGSs3/BF81OSAq5z.bm\n",
      "2020-04-23 15:36:07 Hail: INFO: wrote matrix with 2000 rows and 2000 columns as 1 block of size 4096 to file:/tmp/hail.Y2Dh5hqGGSs3/WJWFGWNBXe.bm\n",
      "2020-04-23 15:36:11 Hail: INFO: Ordering unsorted dataset with network shuffle\n",
      "2020-04-23 15:36:30 Hail: INFO: Coerced sorted dataset\n",
      "2020-04-23 15:36:43 Hail: INFO: wrote table with 1999000 rows in 1 partition to /tmp/tmpzve89pjj/pc_relate_result\n",
      "2020-04-23 15:36:43 Hail: INFO: balding_nichols_model: generating genotypes for 10 populations, 2000 samples, and 5000 variants...\n"
     ]
    },
    {
     "name": "stdout",
     "output_type": "stream",
     "text": [
      "Deleting pc_relate results: /tmp/tmpzve89pjj/pc_relate_result\n",
      "Deleting hail tmp dir: /tmp/hail.Y2Dh5hqGGSs3\n"
     ]
    },
    {
     "name": "stderr",
     "output_type": "stream",
     "text": [
      "2020-04-23 15:36:44 Hail: INFO: Coerced sorted dataset\n",
      "2020-04-23 15:36:46 Hail: INFO: wrote matrix table with 5000 rows and 2000 columns in 8 partitions to /home/rav/data/tmp/mt_2000_5000_10.mt\n",
      "2020-04-23 15:36:46 Hail: INFO: hwe_normalized_pca: running PCA using 5000 variants.\n",
      "2020-04-23 15:36:47 Hail: INFO: pca: running PCA with 10 components...\n"
     ]
    },
    {
     "name": "stdout",
     "output_type": "stream",
     "text": [
      "PCA took s:2000, v:5000, p:10 : 8.29 seconds\n"
     ]
    },
    {
     "name": "stderr",
     "output_type": "stream",
     "text": [
      "2020-04-23 15:36:57 Hail: INFO: Wrote all 2 blocks of 5000 x 2000 matrix with block size 4096.\n",
      "2020-04-23 15:36:57 Hail: INFO: wrote matrix with 11 rows and 5000 columns as 2 blocks of size 4096 to file:/tmp/hail.Y2Dh5hqGGSs3/gyZ7iSv84u.bm\n",
      "2020-04-23 15:36:58 Hail: INFO: wrote matrix with 5000 rows and 2000 columns as 2 blocks of size 4096 to file:/tmp/hail.Y2Dh5hqGGSs3/4NnjsP0LUT.bm\n",
      "2020-04-23 15:36:58 Hail: INFO: wrote matrix with 5000 rows and 2000 columns as 2 blocks of size 4096 to file:/tmp/hail.Y2Dh5hqGGSs3/jWZWvBqKBZ.bm\n",
      "2020-04-23 15:37:02 Hail: INFO: wrote matrix with 2000 rows and 2000 columns as 1 block of size 4096 to file:/tmp/hail.Y2Dh5hqGGSs3/vZlKwpGS2R.bm\n",
      "2020-04-23 15:37:07 Hail: INFO: wrote matrix with 2000 rows and 2000 columns as 1 block of size 4096 to file:/tmp/hail.Y2Dh5hqGGSs3/hqnQylVmO0.bm\n",
      "2020-04-23 15:37:07 Hail: INFO: wrote matrix with 2000 rows and 2000 columns as 1 block of size 4096 to file:/tmp/hail.Y2Dh5hqGGSs3/lejW5xVgYT.bm\n",
      "2020-04-23 15:37:12 Hail: INFO: wrote matrix with 2000 rows and 2000 columns as 1 block of size 4096 to file:/tmp/hail.Y2Dh5hqGGSs3/5zAJywFz8m.bm\n",
      "2020-04-23 15:37:16 Hail: INFO: wrote matrix with 2000 rows and 2000 columns as 1 block of size 4096 to file:/tmp/hail.Y2Dh5hqGGSs3/Rs4IJpM4SI.bm\n",
      "2020-04-23 15:37:16 Hail: INFO: wrote matrix with 2000 rows and 2000 columns as 1 block of size 4096 to file:/tmp/hail.Y2Dh5hqGGSs3/ioD3JpdUA9.bm\n",
      "2020-04-23 15:37:21 Hail: INFO: wrote matrix with 2000 rows and 2000 columns as 1 block of size 4096 to file:/tmp/hail.Y2Dh5hqGGSs3/3p5A8vChAC.bm\n",
      "2020-04-23 15:37:26 Hail: INFO: wrote matrix with 2000 rows and 2000 columns as 1 block of size 4096 to file:/tmp/hail.Y2Dh5hqGGSs3/UiL5x4Uiyw.bm\n",
      "2020-04-23 15:37:26 Hail: INFO: wrote matrix with 2000 rows and 2000 columns as 1 block of size 4096 to file:/tmp/hail.Y2Dh5hqGGSs3/HWgyWLJkOK.bm\n",
      "2020-04-23 15:37:30 Hail: INFO: Ordering unsorted dataset with network shuffle\n",
      "2020-04-23 15:37:49 Hail: INFO: Coerced sorted dataset\n",
      "2020-04-23 15:38:02 Hail: INFO: wrote table with 1999000 rows in 1 partition to /tmp/tmpwzgc6fh7/pc_relate_result\n",
      "2020-04-23 15:38:02 Hail: INFO: balding_nichols_model: generating genotypes for 10 populations, 2000 samples, and 6000 variants...\n"
     ]
    },
    {
     "name": "stdout",
     "output_type": "stream",
     "text": [
      "Deleting pc_relate results: /tmp/tmpwzgc6fh7/pc_relate_result\n",
      "Deleting hail tmp dir: /tmp/hail.Y2Dh5hqGGSs3\n"
     ]
    },
    {
     "name": "stderr",
     "output_type": "stream",
     "text": [
      "2020-04-23 15:38:03 Hail: INFO: Coerced sorted dataset\n",
      "2020-04-23 15:38:05 Hail: INFO: wrote matrix table with 6000 rows and 2000 columns in 8 partitions to /home/rav/data/tmp/mt_2000_6000_10.mt\n",
      "2020-04-23 15:38:05 Hail: INFO: hwe_normalized_pca: running PCA using 6000 variants.\n",
      "2020-04-23 15:38:06 Hail: INFO: pca: running PCA with 10 components...\n"
     ]
    },
    {
     "name": "stdout",
     "output_type": "stream",
     "text": [
      "PCA took s:2000, v:6000, p:10 : 10.09 seconds\n"
     ]
    },
    {
     "name": "stderr",
     "output_type": "stream",
     "text": [
      "2020-04-23 15:38:18 Hail: INFO: Wrote all 2 blocks of 6000 x 2000 matrix with block size 4096.\n",
      "2020-04-23 15:38:19 Hail: INFO: wrote matrix with 11 rows and 6000 columns as 2 blocks of size 4096 to file:/tmp/hail.Y2Dh5hqGGSs3/ocNhayCeaW.bm\n",
      "2020-04-23 15:38:19 Hail: INFO: wrote matrix with 6000 rows and 2000 columns as 2 blocks of size 4096 to file:/tmp/hail.Y2Dh5hqGGSs3/ogHyOQ5Jfk.bm\n",
      "2020-04-23 15:38:19 Hail: INFO: wrote matrix with 6000 rows and 2000 columns as 2 blocks of size 4096 to file:/tmp/hail.Y2Dh5hqGGSs3/DCn6qgCf5o.bm\n",
      "2020-04-23 15:38:25 Hail: INFO: wrote matrix with 2000 rows and 2000 columns as 1 block of size 4096 to file:/tmp/hail.Y2Dh5hqGGSs3/uc96QqXPuf.bm\n",
      "2020-04-23 15:38:30 Hail: INFO: wrote matrix with 2000 rows and 2000 columns as 1 block of size 4096 to file:/tmp/hail.Y2Dh5hqGGSs3/dIwNcouiZ1.bm\n",
      "2020-04-23 15:38:30 Hail: INFO: wrote matrix with 2000 rows and 2000 columns as 1 block of size 4096 to file:/tmp/hail.Y2Dh5hqGGSs3/xNRv0rEAd6.bm\n",
      "2020-04-23 15:38:36 Hail: INFO: wrote matrix with 2000 rows and 2000 columns as 1 block of size 4096 to file:/tmp/hail.Y2Dh5hqGGSs3/NwJQ2p4ZxN.bm\n",
      "2020-04-23 15:38:41 Hail: INFO: wrote matrix with 2000 rows and 2000 columns as 1 block of size 4096 to file:/tmp/hail.Y2Dh5hqGGSs3/Zyt7xMFCgW.bm\n",
      "2020-04-23 15:38:41 Hail: INFO: wrote matrix with 2000 rows and 2000 columns as 1 block of size 4096 to file:/tmp/hail.Y2Dh5hqGGSs3/uoTa9TyJlQ.bm\n",
      "2020-04-23 15:38:47 Hail: INFO: wrote matrix with 2000 rows and 2000 columns as 1 block of size 4096 to file:/tmp/hail.Y2Dh5hqGGSs3/7oNCuM1xZp.bm\n",
      "2020-04-23 15:38:53 Hail: INFO: wrote matrix with 2000 rows and 2000 columns as 1 block of size 4096 to file:/tmp/hail.Y2Dh5hqGGSs3/PcFj0AmLjF.bm\n",
      "2020-04-23 15:38:53 Hail: INFO: wrote matrix with 2000 rows and 2000 columns as 1 block of size 4096 to file:/tmp/hail.Y2Dh5hqGGSs3/zV05TMwBv0.bm\n",
      "2020-04-23 15:38:57 Hail: INFO: Ordering unsorted dataset with network shuffle\n",
      "2020-04-23 15:39:16 Hail: INFO: Coerced sorted dataset\n",
      "2020-04-23 15:39:32 Hail: INFO: wrote table with 1999000 rows in 1 partition to /tmp/tmpywi0kwdq/pc_relate_result\n",
      "2020-04-23 15:39:32 Hail: INFO: balding_nichols_model: generating genotypes for 10 populations, 2000 samples, and 7000 variants...\n"
     ]
    },
    {
     "name": "stdout",
     "output_type": "stream",
     "text": [
      "Deleting pc_relate results: /tmp/tmpywi0kwdq/pc_relate_result\n",
      "Deleting hail tmp dir: /tmp/hail.Y2Dh5hqGGSs3\n"
     ]
    },
    {
     "name": "stderr",
     "output_type": "stream",
     "text": [
      "2020-04-23 15:39:32 Hail: INFO: Coerced sorted dataset\n",
      "2020-04-23 15:39:35 Hail: INFO: wrote matrix table with 7000 rows and 2000 columns in 8 partitions to /home/rav/data/tmp/mt_2000_7000_10.mt\n",
      "2020-04-23 15:39:35 Hail: INFO: hwe_normalized_pca: running PCA using 7000 variants.\n",
      "2020-04-23 15:39:36 Hail: INFO: pca: running PCA with 10 components...\n"
     ]
    },
    {
     "name": "stdout",
     "output_type": "stream",
     "text": [
      "PCA took s:2000, v:7000, p:10 : 11.69 seconds\n"
     ]
    },
    {
     "name": "stderr",
     "output_type": "stream",
     "text": [
      "2020-04-23 15:39:50 Hail: INFO: Wrote all 2 blocks of 7000 x 2000 matrix with block size 4096.\n",
      "2020-04-23 15:39:50 Hail: INFO: wrote matrix with 11 rows and 7000 columns as 2 blocks of size 4096 to file:/tmp/hail.Y2Dh5hqGGSs3/lhqoSt4fnn.bm\n",
      "2020-04-23 15:39:50 Hail: INFO: wrote matrix with 7000 rows and 2000 columns as 2 blocks of size 4096 to file:/tmp/hail.Y2Dh5hqGGSs3/FdxWhB1H8B.bm\n",
      "2020-04-23 15:39:51 Hail: INFO: wrote matrix with 7000 rows and 2000 columns as 2 blocks of size 4096 to file:/tmp/hail.Y2Dh5hqGGSs3/lg4OC8qKnA.bm\n",
      "2020-04-23 15:39:57 Hail: INFO: wrote matrix with 2000 rows and 2000 columns as 1 block of size 4096 to file:/tmp/hail.Y2Dh5hqGGSs3/nN5mhDs7bV.bm\n",
      "2020-04-23 15:40:03 Hail: INFO: wrote matrix with 2000 rows and 2000 columns as 1 block of size 4096 to file:/tmp/hail.Y2Dh5hqGGSs3/7RHliER57S.bm\n",
      "2020-04-23 15:40:03 Hail: INFO: wrote matrix with 2000 rows and 2000 columns as 1 block of size 4096 to file:/tmp/hail.Y2Dh5hqGGSs3/2z3rM66apf.bm\n",
      "2020-04-23 15:40:10 Hail: INFO: wrote matrix with 2000 rows and 2000 columns as 1 block of size 4096 to file:/tmp/hail.Y2Dh5hqGGSs3/UjMLyLtdDM.bm\n",
      "2020-04-23 15:40:16 Hail: INFO: wrote matrix with 2000 rows and 2000 columns as 1 block of size 4096 to file:/tmp/hail.Y2Dh5hqGGSs3/WpFhUd9BI0.bm\n",
      "2020-04-23 15:40:16 Hail: INFO: wrote matrix with 2000 rows and 2000 columns as 1 block of size 4096 to file:/tmp/hail.Y2Dh5hqGGSs3/Sh1a8bkT9i.bm\n",
      "2020-04-23 15:40:23 Hail: INFO: wrote matrix with 2000 rows and 2000 columns as 1 block of size 4096 to file:/tmp/hail.Y2Dh5hqGGSs3/MaJnnwsohB.bm\n",
      "2020-04-23 15:40:30 Hail: INFO: wrote matrix with 2000 rows and 2000 columns as 1 block of size 4096 to file:/tmp/hail.Y2Dh5hqGGSs3/mZdI5KFBn3.bm\n",
      "2020-04-23 15:40:30 Hail: INFO: wrote matrix with 2000 rows and 2000 columns as 1 block of size 4096 to file:/tmp/hail.Y2Dh5hqGGSs3/cCAr0WqDG8.bm\n",
      "2020-04-23 15:40:34 Hail: INFO: Ordering unsorted dataset with network shuffle\n",
      "2020-04-23 15:40:53 Hail: INFO: Coerced sorted dataset\n",
      "2020-04-23 15:41:06 Hail: INFO: wrote table with 1999000 rows in 1 partition to /tmp/tmpynui2sf7/pc_relate_result\n",
      "2020-04-23 15:41:07 Hail: INFO: balding_nichols_model: generating genotypes for 10 populations, 2000 samples, and 8000 variants...\n"
     ]
    },
    {
     "name": "stdout",
     "output_type": "stream",
     "text": [
      "Deleting pc_relate results: /tmp/tmpynui2sf7/pc_relate_result\n",
      "Deleting hail tmp dir: /tmp/hail.Y2Dh5hqGGSs3\n"
     ]
    },
    {
     "name": "stderr",
     "output_type": "stream",
     "text": [
      "2020-04-23 15:41:07 Hail: INFO: Coerced sorted dataset\n",
      "2020-04-23 15:41:10 Hail: INFO: wrote matrix table with 8000 rows and 2000 columns in 8 partitions to /home/rav/data/tmp/mt_2000_8000_10.mt\n",
      "2020-04-23 15:41:10 Hail: INFO: hwe_normalized_pca: running PCA using 8000 variants.\n",
      "2020-04-23 15:41:11 Hail: INFO: pca: running PCA with 10 components...\n"
     ]
    },
    {
     "name": "stdout",
     "output_type": "stream",
     "text": [
      "PCA took s:2000, v:8000, p:10 : 10.91 seconds\n"
     ]
    },
    {
     "name": "stderr",
     "output_type": "stream",
     "text": [
      "2020-04-23 15:41:24 Hail: INFO: Wrote all 2 blocks of 8000 x 2000 matrix with block size 4096.\n",
      "2020-04-23 15:41:24 Hail: INFO: wrote matrix with 11 rows and 8000 columns as 2 blocks of size 4096 to file:/tmp/hail.Y2Dh5hqGGSs3/WHjzRB18NU.bm\n",
      "2020-04-23 15:41:25 Hail: INFO: wrote matrix with 8000 rows and 2000 columns as 2 blocks of size 4096 to file:/tmp/hail.Y2Dh5hqGGSs3/8ixAaHhCbx.bm\n",
      "2020-04-23 15:41:25 Hail: INFO: wrote matrix with 8000 rows and 2000 columns as 2 blocks of size 4096 to file:/tmp/hail.Y2Dh5hqGGSs3/TOFYRay4ZK.bm\n",
      "2020-04-23 15:41:32 Hail: INFO: wrote matrix with 2000 rows and 2000 columns as 1 block of size 4096 to file:/tmp/hail.Y2Dh5hqGGSs3/gfAK03aMWg.bm\n",
      "2020-04-23 15:41:39 Hail: INFO: wrote matrix with 2000 rows and 2000 columns as 1 block of size 4096 to file:/tmp/hail.Y2Dh5hqGGSs3/gEEHzNlc9d.bm\n",
      "2020-04-23 15:41:39 Hail: INFO: wrote matrix with 2000 rows and 2000 columns as 1 block of size 4096 to file:/tmp/hail.Y2Dh5hqGGSs3/Eol8uMUoSm.bm\n",
      "2020-04-23 15:41:47 Hail: INFO: wrote matrix with 2000 rows and 2000 columns as 1 block of size 4096 to file:/tmp/hail.Y2Dh5hqGGSs3/XgQ7EZxN9w.bm\n",
      "2020-04-23 15:41:54 Hail: INFO: wrote matrix with 2000 rows and 2000 columns as 1 block of size 4096 to file:/tmp/hail.Y2Dh5hqGGSs3/pDS5vgFLrh.bm\n",
      "2020-04-23 15:41:54 Hail: INFO: wrote matrix with 2000 rows and 2000 columns as 1 block of size 4096 to file:/tmp/hail.Y2Dh5hqGGSs3/ALrID94hSJ.bm\n",
      "2020-04-23 15:42:01 Hail: INFO: wrote matrix with 2000 rows and 2000 columns as 1 block of size 4096 to file:/tmp/hail.Y2Dh5hqGGSs3/CugmhsEztB.bm\n",
      "2020-04-23 15:42:09 Hail: INFO: wrote matrix with 2000 rows and 2000 columns as 1 block of size 4096 to file:/tmp/hail.Y2Dh5hqGGSs3/wi6WsVqjyH.bm\n",
      "2020-04-23 15:42:09 Hail: INFO: wrote matrix with 2000 rows and 2000 columns as 1 block of size 4096 to file:/tmp/hail.Y2Dh5hqGGSs3/sozGaD5Egs.bm\n",
      "2020-04-23 15:42:13 Hail: INFO: Ordering unsorted dataset with network shuffle\n",
      "2020-04-23 15:42:32 Hail: INFO: Coerced sorted dataset\n",
      "2020-04-23 15:42:46 Hail: INFO: wrote table with 1999000 rows in 1 partition to /tmp/tmpdj__eirm/pc_relate_result\n",
      "2020-04-23 15:42:46 Hail: INFO: balding_nichols_model: generating genotypes for 10 populations, 2000 samples, and 9000 variants...\n"
     ]
    },
    {
     "name": "stdout",
     "output_type": "stream",
     "text": [
      "Deleting pc_relate results: /tmp/tmpdj__eirm/pc_relate_result\n",
      "Deleting hail tmp dir: /tmp/hail.Y2Dh5hqGGSs3\n"
     ]
    },
    {
     "name": "stderr",
     "output_type": "stream",
     "text": [
      "2020-04-23 15:42:46 Hail: INFO: Coerced sorted dataset\n",
      "2020-04-23 15:42:49 Hail: INFO: wrote matrix table with 9000 rows and 2000 columns in 8 partitions to /home/rav/data/tmp/mt_2000_9000_10.mt\n",
      "2020-04-23 15:42:50 Hail: INFO: hwe_normalized_pca: running PCA using 9000 variants.\n",
      "2020-04-23 15:42:51 Hail: INFO: pca: running PCA with 10 components...\n"
     ]
    },
    {
     "name": "stdout",
     "output_type": "stream",
     "text": [
      "PCA took s:2000, v:9000, p:10 : 13.83 seconds\n"
     ]
    },
    {
     "name": "stderr",
     "output_type": "stream",
     "text": [
      "2020-04-23 15:43:06 Hail: INFO: Wrote all 3 blocks of 9000 x 2000 matrix with block size 4096.\n",
      "2020-04-23 15:43:07 Hail: INFO: wrote matrix with 11 rows and 9000 columns as 3 blocks of size 4096 to file:/tmp/hail.Y2Dh5hqGGSs3/3tchk0cKSX.bm\n",
      "2020-04-23 15:43:07 Hail: INFO: wrote matrix with 9000 rows and 2000 columns as 3 blocks of size 4096 to file:/tmp/hail.Y2Dh5hqGGSs3/6vVypPcSsZ.bm\n",
      "2020-04-23 15:43:08 Hail: INFO: wrote matrix with 9000 rows and 2000 columns as 3 blocks of size 4096 to file:/tmp/hail.Y2Dh5hqGGSs3/cS0kNNyaKG.bm\n",
      "2020-04-23 15:43:16 Hail: INFO: wrote matrix with 2000 rows and 2000 columns as 1 block of size 4096 to file:/tmp/hail.Y2Dh5hqGGSs3/13b5ky0hqm.bm\n",
      "2020-04-23 15:43:23 Hail: INFO: wrote matrix with 2000 rows and 2000 columns as 1 block of size 4096 to file:/tmp/hail.Y2Dh5hqGGSs3/t80ulUb8et.bm\n",
      "2020-04-23 15:43:23 Hail: INFO: wrote matrix with 2000 rows and 2000 columns as 1 block of size 4096 to file:/tmp/hail.Y2Dh5hqGGSs3/H34XP1r1jA.bm\n",
      "2020-04-23 15:43:33 Hail: INFO: wrote matrix with 2000 rows and 2000 columns as 1 block of size 4096 to file:/tmp/hail.Y2Dh5hqGGSs3/FUfu8UYkuZ.bm\n",
      "2020-04-23 15:43:40 Hail: INFO: wrote matrix with 2000 rows and 2000 columns as 1 block of size 4096 to file:/tmp/hail.Y2Dh5hqGGSs3/oHXsQmsmsH.bm\n",
      "2020-04-23 15:43:40 Hail: INFO: wrote matrix with 2000 rows and 2000 columns as 1 block of size 4096 to file:/tmp/hail.Y2Dh5hqGGSs3/0AGVPkHcR5.bm\n",
      "2020-04-23 15:43:49 Hail: INFO: wrote matrix with 2000 rows and 2000 columns as 1 block of size 4096 to file:/tmp/hail.Y2Dh5hqGGSs3/3r4Hzwybj3.bm\n",
      "2020-04-23 15:43:57 Hail: INFO: wrote matrix with 2000 rows and 2000 columns as 1 block of size 4096 to file:/tmp/hail.Y2Dh5hqGGSs3/UdmgTnD3RM.bm\n",
      "2020-04-23 15:43:57 Hail: INFO: wrote matrix with 2000 rows and 2000 columns as 1 block of size 4096 to file:/tmp/hail.Y2Dh5hqGGSs3/QsybKKYAZc.bm\n",
      "2020-04-23 15:44:01 Hail: INFO: Ordering unsorted dataset with network shuffle\n",
      "2020-04-23 15:44:20 Hail: INFO: Coerced sorted dataset\n",
      "2020-04-23 15:44:34 Hail: INFO: wrote table with 1999000 rows in 1 partition to /tmp/tmp603v5esn/pc_relate_result\n",
      "2020-04-23 15:44:34 Hail: INFO: balding_nichols_model: generating genotypes for 10 populations, 2000 samples, and 10000 variants...\n"
     ]
    },
    {
     "name": "stdout",
     "output_type": "stream",
     "text": [
      "Deleting pc_relate results: /tmp/tmp603v5esn/pc_relate_result\n",
      "Deleting hail tmp dir: /tmp/hail.Y2Dh5hqGGSs3\n"
     ]
    },
    {
     "name": "stderr",
     "output_type": "stream",
     "text": [
      "2020-04-23 15:44:34 Hail: INFO: Coerced sorted dataset\n",
      "2020-04-23 15:44:38 Hail: INFO: wrote matrix table with 10000 rows and 2000 columns in 8 partitions to /home/rav/data/tmp/mt_2000_10000_10.mt\n",
      "2020-04-23 15:44:38 Hail: INFO: hwe_normalized_pca: running PCA using 10000 variants.\n",
      "2020-04-23 15:44:39 Hail: INFO: pca: running PCA with 10 components...\n"
     ]
    },
    {
     "name": "stdout",
     "output_type": "stream",
     "text": [
      "PCA took s:2000, v:10000, p:10 : 8.46 seconds\n"
     ]
    },
    {
     "name": "stderr",
     "output_type": "stream",
     "text": [
      "2020-04-23 15:44:49 Hail: INFO: Wrote all 3 blocks of 10000 x 2000 matrix with block size 4096.\n",
      "2020-04-23 15:44:50 Hail: INFO: wrote matrix with 11 rows and 10000 columns as 3 blocks of size 4096 to file:/tmp/hail.Y2Dh5hqGGSs3/EGLUVJwkVu.bm\n",
      "2020-04-23 15:44:50 Hail: INFO: wrote matrix with 10000 rows and 2000 columns as 3 blocks of size 4096 to file:/tmp/hail.Y2Dh5hqGGSs3/JzMps86nzs.bm\n",
      "2020-04-23 15:44:51 Hail: INFO: wrote matrix with 10000 rows and 2000 columns as 3 blocks of size 4096 to file:/tmp/hail.Y2Dh5hqGGSs3/3Oftvou40H.bm\n",
      "2020-04-23 15:44:59 Hail: INFO: wrote matrix with 2000 rows and 2000 columns as 1 block of size 4096 to file:/tmp/hail.Y2Dh5hqGGSs3/MGTKCR3SQe.bm\n",
      "2020-04-23 15:45:07 Hail: INFO: wrote matrix with 2000 rows and 2000 columns as 1 block of size 4096 to file:/tmp/hail.Y2Dh5hqGGSs3/BLU5w8R4Ue.bm\n",
      "2020-04-23 15:45:08 Hail: INFO: wrote matrix with 2000 rows and 2000 columns as 1 block of size 4096 to file:/tmp/hail.Y2Dh5hqGGSs3/Dku7aZrUX9.bm\n",
      "2020-04-23 15:45:18 Hail: INFO: wrote matrix with 2000 rows and 2000 columns as 1 block of size 4096 to file:/tmp/hail.Y2Dh5hqGGSs3/sm4k62DN0Y.bm\n",
      "2020-04-23 15:45:26 Hail: INFO: wrote matrix with 2000 rows and 2000 columns as 1 block of size 4096 to file:/tmp/hail.Y2Dh5hqGGSs3/rJ9dwOtrcG.bm\n",
      "2020-04-23 15:45:26 Hail: INFO: wrote matrix with 2000 rows and 2000 columns as 1 block of size 4096 to file:/tmp/hail.Y2Dh5hqGGSs3/gmdUhUXp6z.bm\n",
      "2020-04-23 15:45:36 Hail: INFO: wrote matrix with 2000 rows and 2000 columns as 1 block of size 4096 to file:/tmp/hail.Y2Dh5hqGGSs3/iXHJ3JvnB0.bm\n",
      "2020-04-23 15:45:45 Hail: INFO: wrote matrix with 2000 rows and 2000 columns as 1 block of size 4096 to file:/tmp/hail.Y2Dh5hqGGSs3/L4FRtKCe85.bm\n",
      "2020-04-23 15:45:46 Hail: INFO: wrote matrix with 2000 rows and 2000 columns as 1 block of size 4096 to file:/tmp/hail.Y2Dh5hqGGSs3/5ojeT69vA8.bm\n",
      "2020-04-23 15:45:49 Hail: INFO: Ordering unsorted dataset with network shuffle\n",
      "2020-04-23 15:46:08 Hail: INFO: Coerced sorted dataset\n",
      "2020-04-23 15:46:22 Hail: INFO: wrote table with 1999000 rows in 1 partition to /tmp/tmpbokrkh87/pc_relate_result\n",
      "2020-04-23 15:46:22 Hail: INFO: balding_nichols_model: generating genotypes for 10 populations, 3000 samples, and 1000 variants...\n"
     ]
    },
    {
     "name": "stdout",
     "output_type": "stream",
     "text": [
      "Deleting pc_relate results: /tmp/tmpbokrkh87/pc_relate_result\n",
      "Deleting hail tmp dir: /tmp/hail.Y2Dh5hqGGSs3\n"
     ]
    },
    {
     "name": "stderr",
     "output_type": "stream",
     "text": [
      "2020-04-23 15:46:22 Hail: INFO: Coerced sorted dataset\n",
      "2020-04-23 15:46:24 Hail: INFO: wrote matrix table with 1000 rows and 3000 columns in 8 partitions to /home/rav/data/tmp/mt_3000_1000_10.mt\n",
      "2020-04-23 15:46:24 Hail: INFO: hwe_normalized_pca: running PCA using 1000 variants.\n",
      "2020-04-23 15:46:25 Hail: INFO: pca: running PCA with 10 components...\n"
     ]
    },
    {
     "name": "stdout",
     "output_type": "stream",
     "text": [
      "PCA took s:3000, v:1000, p:10 : 5.42 seconds\n"
     ]
    },
    {
     "name": "stderr",
     "output_type": "stream",
     "text": [
      "2020-04-23 15:46:31 Hail: INFO: Wrote all 1 blocks of 1000 x 3000 matrix with block size 4096.\n",
      "2020-04-23 15:46:32 Hail: INFO: wrote matrix with 11 rows and 1000 columns as 1 block of size 4096 to file:/tmp/hail.Y2Dh5hqGGSs3/ApSgdQddxo.bm\n",
      "2020-04-23 15:46:32 Hail: INFO: wrote matrix with 1000 rows and 3000 columns as 1 block of size 4096 to file:/tmp/hail.Y2Dh5hqGGSs3/IAyCS7LhZz.bm\n",
      "2020-04-23 15:46:32 Hail: INFO: wrote matrix with 1000 rows and 3000 columns as 1 block of size 4096 to file:/tmp/hail.Y2Dh5hqGGSs3/39bv7iq5l4.bm\n",
      "2020-04-23 15:46:34 Hail: INFO: wrote matrix with 3000 rows and 3000 columns as 1 block of size 4096 to file:/tmp/hail.Y2Dh5hqGGSs3/AZYfyVY611.bm\n",
      "2020-04-23 15:46:36 Hail: INFO: wrote matrix with 3000 rows and 3000 columns as 1 block of size 4096 to file:/tmp/hail.Y2Dh5hqGGSs3/j3hEEEb6QX.bm\n",
      "2020-04-23 15:46:37 Hail: INFO: wrote matrix with 3000 rows and 3000 columns as 1 block of size 4096 to file:/tmp/hail.Y2Dh5hqGGSs3/6OHq7tgLqS.bm\n",
      "2020-04-23 15:46:39 Hail: INFO: wrote matrix with 3000 rows and 3000 columns as 1 block of size 4096 to file:/tmp/hail.Y2Dh5hqGGSs3/bSgE7cVfa9.bm\n",
      "2020-04-23 15:46:41 Hail: INFO: wrote matrix with 3000 rows and 3000 columns as 1 block of size 4096 to file:/tmp/hail.Y2Dh5hqGGSs3/Dm1OquO0rT.bm\n",
      "2020-04-23 15:46:41 Hail: INFO: wrote matrix with 3000 rows and 3000 columns as 1 block of size 4096 to file:/tmp/hail.Y2Dh5hqGGSs3/5cPA8rcxJF.bm\n",
      "2020-04-23 15:46:43 Hail: INFO: wrote matrix with 3000 rows and 3000 columns as 1 block of size 4096 to file:/tmp/hail.Y2Dh5hqGGSs3/1OLGIfPtYT.bm\n",
      "2020-04-23 15:46:46 Hail: INFO: wrote matrix with 3000 rows and 3000 columns as 1 block of size 4096 to file:/tmp/hail.Y2Dh5hqGGSs3/PiXLsDgKpz.bm\n",
      "2020-04-23 15:46:46 Hail: INFO: wrote matrix with 3000 rows and 3000 columns as 1 block of size 4096 to file:/tmp/hail.Y2Dh5hqGGSs3/Jj09RIr84j.bm\n",
      "2020-04-23 15:46:55 Hail: INFO: Ordering unsorted dataset with network shuffle\n",
      "2020-04-23 15:47:37 Hail: INFO: Coerced sorted dataset\n",
      "2020-04-23 15:48:08 Hail: INFO: wrote table with 4498500 rows in 1 partition to /tmp/tmp26o3jzke/pc_relate_result\n",
      "2020-04-23 15:48:08 Hail: INFO: balding_nichols_model: generating genotypes for 10 populations, 3000 samples, and 2000 variants...\n"
     ]
    },
    {
     "name": "stdout",
     "output_type": "stream",
     "text": [
      "Deleting pc_relate results: /tmp/tmp26o3jzke/pc_relate_result\n",
      "Deleting hail tmp dir: /tmp/hail.Y2Dh5hqGGSs3\n"
     ]
    },
    {
     "name": "stderr",
     "output_type": "stream",
     "text": [
      "2020-04-23 15:48:08 Hail: INFO: Coerced sorted dataset\n",
      "2020-04-23 15:48:11 Hail: INFO: wrote matrix table with 2000 rows and 3000 columns in 8 partitions to /home/rav/data/tmp/mt_3000_2000_10.mt\n",
      "2020-04-23 15:48:11 Hail: INFO: hwe_normalized_pca: running PCA using 2000 variants.\n",
      "2020-04-23 15:48:12 Hail: INFO: pca: running PCA with 10 components...\n"
     ]
    },
    {
     "name": "stdout",
     "output_type": "stream",
     "text": [
      "PCA took s:3000, v:2000, p:10 : 8.98 seconds\n"
     ]
    },
    {
     "name": "stderr",
     "output_type": "stream",
     "text": [
      "2020-04-23 15:48:23 Hail: INFO: Wrote all 1 blocks of 2000 x 3000 matrix with block size 4096.\n",
      "2020-04-23 15:48:24 Hail: INFO: wrote matrix with 11 rows and 2000 columns as 1 block of size 4096 to file:/tmp/hail.Y2Dh5hqGGSs3/3JEghdu9AI.bm\n",
      "2020-04-23 15:48:24 Hail: INFO: wrote matrix with 2000 rows and 3000 columns as 1 block of size 4096 to file:/tmp/hail.Y2Dh5hqGGSs3/Q8fz6zNiWH.bm\n",
      "2020-04-23 15:48:24 Hail: INFO: wrote matrix with 2000 rows and 3000 columns as 1 block of size 4096 to file:/tmp/hail.Y2Dh5hqGGSs3/AJWQUPpEs3.bm\n",
      "2020-04-23 15:48:28 Hail: INFO: wrote matrix with 3000 rows and 3000 columns as 1 block of size 4096 to file:/tmp/hail.Y2Dh5hqGGSs3/VIz4S9PHfB.bm\n",
      "2020-04-23 15:48:32 Hail: INFO: wrote matrix with 3000 rows and 3000 columns as 1 block of size 4096 to file:/tmp/hail.Y2Dh5hqGGSs3/ciuk2qaslX.bm\n",
      "2020-04-23 15:48:32 Hail: INFO: wrote matrix with 3000 rows and 3000 columns as 1 block of size 4096 to file:/tmp/hail.Y2Dh5hqGGSs3/rd3GVD5ucJ.bm\n",
      "2020-04-23 15:48:37 Hail: INFO: wrote matrix with 3000 rows and 3000 columns as 1 block of size 4096 to file:/tmp/hail.Y2Dh5hqGGSs3/BXZ67LjFVo.bm\n",
      "2020-04-23 15:48:40 Hail: INFO: wrote matrix with 3000 rows and 3000 columns as 1 block of size 4096 to file:/tmp/hail.Y2Dh5hqGGSs3/WjOMLpMVuD.bm\n",
      "2020-04-23 15:48:41 Hail: INFO: wrote matrix with 3000 rows and 3000 columns as 1 block of size 4096 to file:/tmp/hail.Y2Dh5hqGGSs3/0sXyxUN96A.bm\n",
      "2020-04-23 15:48:45 Hail: INFO: wrote matrix with 3000 rows and 3000 columns as 1 block of size 4096 to file:/tmp/hail.Y2Dh5hqGGSs3/fbBmtwM0VY.bm\n",
      "2020-04-23 15:48:49 Hail: INFO: wrote matrix with 3000 rows and 3000 columns as 1 block of size 4096 to file:/tmp/hail.Y2Dh5hqGGSs3/gmgQTiWxOY.bm\n",
      "2020-04-23 15:48:50 Hail: INFO: wrote matrix with 3000 rows and 3000 columns as 1 block of size 4096 to file:/tmp/hail.Y2Dh5hqGGSs3/uHctAhzIM4.bm\n",
      "2020-04-23 15:48:58 Hail: INFO: Ordering unsorted dataset with network shuffle\n",
      "2020-04-23 15:49:45 Hail: INFO: Coerced sorted dataset\n",
      "2020-04-23 15:50:16 Hail: INFO: wrote table with 4498500 rows in 1 partition to /tmp/tmp6ider75e/pc_relate_result\n",
      "2020-04-23 15:50:16 Hail: INFO: balding_nichols_model: generating genotypes for 10 populations, 3000 samples, and 3000 variants...\n"
     ]
    },
    {
     "name": "stdout",
     "output_type": "stream",
     "text": [
      "Deleting pc_relate results: /tmp/tmp6ider75e/pc_relate_result\n",
      "Deleting hail tmp dir: /tmp/hail.Y2Dh5hqGGSs3\n"
     ]
    },
    {
     "name": "stderr",
     "output_type": "stream",
     "text": [
      "2020-04-23 15:50:16 Hail: INFO: Coerced sorted dataset\n",
      "2020-04-23 15:50:19 Hail: INFO: wrote matrix table with 3000 rows and 3000 columns in 8 partitions to /home/rav/data/tmp/mt_3000_3000_10.mt\n",
      "2020-04-23 15:50:19 Hail: INFO: hwe_normalized_pca: running PCA using 3000 variants.\n",
      "2020-04-23 15:50:20 Hail: INFO: pca: running PCA with 10 components...\n"
     ]
    },
    {
     "name": "stdout",
     "output_type": "stream",
     "text": [
      "PCA took s:3000, v:3000, p:10 : 8.72 seconds\n"
     ]
    },
    {
     "name": "stderr",
     "output_type": "stream",
     "text": [
      "2020-04-23 15:50:31 Hail: INFO: Wrote all 1 blocks of 3000 x 3000 matrix with block size 4096.\n",
      "2020-04-23 15:50:32 Hail: INFO: wrote matrix with 11 rows and 3000 columns as 1 block of size 4096 to file:/tmp/hail.Y2Dh5hqGGSs3/Yiao3TE8HU.bm\n",
      "2020-04-23 15:50:32 Hail: INFO: wrote matrix with 3000 rows and 3000 columns as 1 block of size 4096 to file:/tmp/hail.Y2Dh5hqGGSs3/gMzVQ4Xwgp.bm\n",
      "2020-04-23 15:50:33 Hail: INFO: wrote matrix with 3000 rows and 3000 columns as 1 block of size 4096 to file:/tmp/hail.Y2Dh5hqGGSs3/aMTfMrCYFo.bm\n",
      "2020-04-23 15:50:38 Hail: INFO: wrote matrix with 3000 rows and 3000 columns as 1 block of size 4096 to file:/tmp/hail.Y2Dh5hqGGSs3/ZnLecT6h8K.bm\n",
      "2020-04-23 15:50:44 Hail: INFO: wrote matrix with 3000 rows and 3000 columns as 1 block of size 4096 to file:/tmp/hail.Y2Dh5hqGGSs3/qnPw8M4E53.bm\n",
      "2020-04-23 15:50:44 Hail: INFO: wrote matrix with 3000 rows and 3000 columns as 1 block of size 4096 to file:/tmp/hail.Y2Dh5hqGGSs3/EPA72dYCd6.bm\n",
      "2020-04-23 15:50:51 Hail: INFO: wrote matrix with 3000 rows and 3000 columns as 1 block of size 4096 to file:/tmp/hail.Y2Dh5hqGGSs3/GjB3JtyAPe.bm\n",
      "2020-04-23 15:50:56 Hail: INFO: wrote matrix with 3000 rows and 3000 columns as 1 block of size 4096 to file:/tmp/hail.Y2Dh5hqGGSs3/gvDPpNDKHX.bm\n",
      "2020-04-23 15:50:57 Hail: INFO: wrote matrix with 3000 rows and 3000 columns as 1 block of size 4096 to file:/tmp/hail.Y2Dh5hqGGSs3/ExUNDbTx6f.bm\n",
      "2020-04-23 15:51:03 Hail: INFO: wrote matrix with 3000 rows and 3000 columns as 1 block of size 4096 to file:/tmp/hail.Y2Dh5hqGGSs3/NbjamXmXT0.bm\n",
      "2020-04-23 15:51:09 Hail: INFO: wrote matrix with 3000 rows and 3000 columns as 1 block of size 4096 to file:/tmp/hail.Y2Dh5hqGGSs3/Qq8MNzMm9S.bm\n",
      "2020-04-23 15:51:10 Hail: INFO: wrote matrix with 3000 rows and 3000 columns as 1 block of size 4096 to file:/tmp/hail.Y2Dh5hqGGSs3/D10tcgRFcV.bm\n",
      "2020-04-23 15:51:18 Hail: INFO: Ordering unsorted dataset with network shuffle\n",
      "2020-04-23 15:52:00 Hail: INFO: Coerced sorted dataset\n",
      "2020-04-23 15:52:31 Hail: INFO: wrote table with 4498500 rows in 1 partition to /tmp/tmpcyng_uol/pc_relate_result\n",
      "2020-04-23 15:52:32 Hail: INFO: balding_nichols_model: generating genotypes for 10 populations, 3000 samples, and 4000 variants...\n"
     ]
    },
    {
     "name": "stdout",
     "output_type": "stream",
     "text": [
      "Deleting pc_relate results: /tmp/tmpcyng_uol/pc_relate_result\n",
      "Deleting hail tmp dir: /tmp/hail.Y2Dh5hqGGSs3\n"
     ]
    },
    {
     "name": "stderr",
     "output_type": "stream",
     "text": [
      "2020-04-23 15:52:32 Hail: INFO: Coerced sorted dataset\n",
      "2020-04-23 15:52:35 Hail: INFO: wrote matrix table with 4000 rows and 3000 columns in 8 partitions to /home/rav/data/tmp/mt_3000_4000_10.mt\n",
      "2020-04-23 15:52:35 Hail: INFO: hwe_normalized_pca: running PCA using 4000 variants.\n",
      "2020-04-23 15:52:37 Hail: INFO: pca: running PCA with 10 components...\n"
     ]
    },
    {
     "name": "stdout",
     "output_type": "stream",
     "text": [
      "PCA took s:3000, v:4000, p:10 : 9.96 seconds\n"
     ]
    },
    {
     "name": "stderr",
     "output_type": "stream",
     "text": [
      "2020-04-23 15:52:49 Hail: INFO: Wrote all 1 blocks of 4000 x 3000 matrix with block size 4096.\n",
      "2020-04-23 15:52:50 Hail: INFO: wrote matrix with 11 rows and 4000 columns as 1 block of size 4096 to file:/tmp/hail.Y2Dh5hqGGSs3/TWt9i4bpKu.bm\n",
      "2020-04-23 15:52:50 Hail: INFO: wrote matrix with 4000 rows and 3000 columns as 1 block of size 4096 to file:/tmp/hail.Y2Dh5hqGGSs3/C64UZCi1az.bm\n",
      "2020-04-23 15:52:50 Hail: INFO: wrote matrix with 4000 rows and 3000 columns as 1 block of size 4096 to file:/tmp/hail.Y2Dh5hqGGSs3/5Un42TzfRW.bm\n",
      "2020-04-23 15:52:58 Hail: INFO: wrote matrix with 3000 rows and 3000 columns as 1 block of size 4096 to file:/tmp/hail.Y2Dh5hqGGSs3/xewFGqTffv.bm\n",
      "2020-04-23 15:53:05 Hail: INFO: wrote matrix with 3000 rows and 3000 columns as 1 block of size 4096 to file:/tmp/hail.Y2Dh5hqGGSs3/FBErRm6Fx7.bm\n",
      "2020-04-23 15:53:06 Hail: INFO: wrote matrix with 3000 rows and 3000 columns as 1 block of size 4096 to file:/tmp/hail.Y2Dh5hqGGSs3/9FB808fEV4.bm\n",
      "2020-04-23 15:53:15 Hail: INFO: wrote matrix with 3000 rows and 3000 columns as 1 block of size 4096 to file:/tmp/hail.Y2Dh5hqGGSs3/tYchKL99Qg.bm\n",
      "2020-04-23 15:53:22 Hail: INFO: wrote matrix with 3000 rows and 3000 columns as 1 block of size 4096 to file:/tmp/hail.Y2Dh5hqGGSs3/0FlO3CcHWL.bm\n",
      "2020-04-23 15:53:22 Hail: INFO: wrote matrix with 3000 rows and 3000 columns as 1 block of size 4096 to file:/tmp/hail.Y2Dh5hqGGSs3/hn78a0PxnO.bm\n",
      "2020-04-23 15:53:30 Hail: INFO: wrote matrix with 3000 rows and 3000 columns as 1 block of size 4096 to file:/tmp/hail.Y2Dh5hqGGSs3/TRLSowUDOa.bm\n",
      "2020-04-23 15:53:39 Hail: INFO: wrote matrix with 3000 rows and 3000 columns as 1 block of size 4096 to file:/tmp/hail.Y2Dh5hqGGSs3/oN0tIoq1L5.bm\n",
      "2020-04-23 15:53:40 Hail: INFO: wrote matrix with 3000 rows and 3000 columns as 1 block of size 4096 to file:/tmp/hail.Y2Dh5hqGGSs3/XJFqFRqhul.bm\n",
      "2020-04-23 15:53:48 Hail: INFO: Ordering unsorted dataset with network shuffle\n",
      "2020-04-23 15:54:31 Hail: INFO: Coerced sorted dataset\n",
      "2020-04-23 15:55:01 Hail: INFO: wrote table with 4498500 rows in 1 partition to /tmp/tmppfg4bfrj/pc_relate_result\n",
      "2020-04-23 15:55:01 Hail: INFO: balding_nichols_model: generating genotypes for 10 populations, 3000 samples, and 5000 variants...\n"
     ]
    },
    {
     "name": "stdout",
     "output_type": "stream",
     "text": [
      "Deleting pc_relate results: /tmp/tmppfg4bfrj/pc_relate_result\n",
      "Deleting hail tmp dir: /tmp/hail.Y2Dh5hqGGSs3\n"
     ]
    },
    {
     "name": "stderr",
     "output_type": "stream",
     "text": [
      "2020-04-23 15:55:02 Hail: INFO: Coerced sorted dataset\n",
      "2020-04-23 15:55:05 Hail: INFO: wrote matrix table with 5000 rows and 3000 columns in 8 partitions to /home/rav/data/tmp/mt_3000_5000_10.mt\n",
      "2020-04-23 15:55:06 Hail: INFO: hwe_normalized_pca: running PCA using 5000 variants.\n",
      "2020-04-23 15:55:07 Hail: INFO: pca: running PCA with 10 components...\n"
     ]
    },
    {
     "name": "stdout",
     "output_type": "stream",
     "text": [
      "PCA took s:3000, v:5000, p:10 : 10.09 seconds\n"
     ]
    },
    {
     "name": "stderr",
     "output_type": "stream",
     "text": [
      "2020-04-23 15:55:20 Hail: INFO: Wrote all 2 blocks of 5000 x 3000 matrix with block size 4096.\n",
      "2020-04-23 15:55:20 Hail: INFO: wrote matrix with 11 rows and 5000 columns as 2 blocks of size 4096 to file:/tmp/hail.Y2Dh5hqGGSs3/NCFo3iC2M1.bm\n",
      "2020-04-23 15:55:21 Hail: INFO: wrote matrix with 5000 rows and 3000 columns as 2 blocks of size 4096 to file:/tmp/hail.Y2Dh5hqGGSs3/D1ZUDSpflF.bm\n",
      "2020-04-23 15:55:21 Hail: INFO: wrote matrix with 5000 rows and 3000 columns as 2 blocks of size 4096 to file:/tmp/hail.Y2Dh5hqGGSs3/T4Kqwmwo5I.bm\n",
      "2020-04-23 15:55:31 Hail: INFO: wrote matrix with 3000 rows and 3000 columns as 1 block of size 4096 to file:/tmp/hail.Y2Dh5hqGGSs3/Ta2Ay3e5h9.bm\n",
      "2020-04-23 15:55:40 Hail: INFO: wrote matrix with 3000 rows and 3000 columns as 1 block of size 4096 to file:/tmp/hail.Y2Dh5hqGGSs3/klFjsR3GXq.bm\n",
      "2020-04-23 15:55:40 Hail: INFO: wrote matrix with 3000 rows and 3000 columns as 1 block of size 4096 to file:/tmp/hail.Y2Dh5hqGGSs3/Xe94TRPfib.bm\n",
      "2020-04-23 15:55:51 Hail: INFO: wrote matrix with 3000 rows and 3000 columns as 1 block of size 4096 to file:/tmp/hail.Y2Dh5hqGGSs3/zim2mTNodm.bm\n",
      "2020-04-23 15:56:00 Hail: INFO: wrote matrix with 3000 rows and 3000 columns as 1 block of size 4096 to file:/tmp/hail.Y2Dh5hqGGSs3/HhRgFHxcnL.bm\n",
      "2020-04-23 15:56:01 Hail: INFO: wrote matrix with 3000 rows and 3000 columns as 1 block of size 4096 to file:/tmp/hail.Y2Dh5hqGGSs3/QidHjqP6Al.bm\n",
      "2020-04-23 15:56:11 Hail: INFO: wrote matrix with 3000 rows and 3000 columns as 1 block of size 4096 to file:/tmp/hail.Y2Dh5hqGGSs3/CM2RgSRxQF.bm\n",
      "2020-04-23 15:56:21 Hail: INFO: wrote matrix with 3000 rows and 3000 columns as 1 block of size 4096 to file:/tmp/hail.Y2Dh5hqGGSs3/1tr1J2x0Z3.bm\n",
      "2020-04-23 15:56:22 Hail: INFO: wrote matrix with 3000 rows and 3000 columns as 1 block of size 4096 to file:/tmp/hail.Y2Dh5hqGGSs3/3VxFnU5PmG.bm\n",
      "2020-04-23 15:56:30 Hail: INFO: Ordering unsorted dataset with network shuffle\n",
      "2020-04-23 15:57:13 Hail: INFO: Coerced sorted dataset\n",
      "2020-04-23 15:57:44 Hail: INFO: wrote table with 4498500 rows in 1 partition to /tmp/tmp723grbeu/pc_relate_result\n",
      "2020-04-23 15:57:44 Hail: INFO: balding_nichols_model: generating genotypes for 10 populations, 3000 samples, and 6000 variants...\n"
     ]
    },
    {
     "name": "stdout",
     "output_type": "stream",
     "text": [
      "Deleting pc_relate results: /tmp/tmp723grbeu/pc_relate_result\n",
      "Deleting hail tmp dir: /tmp/hail.Y2Dh5hqGGSs3\n"
     ]
    },
    {
     "name": "stderr",
     "output_type": "stream",
     "text": [
      "2020-04-23 15:57:44 Hail: INFO: Coerced sorted dataset\n",
      "2020-04-23 15:57:48 Hail: INFO: wrote matrix table with 6000 rows and 3000 columns in 8 partitions to /home/rav/data/tmp/mt_3000_6000_10.mt\n",
      "2020-04-23 15:57:49 Hail: INFO: hwe_normalized_pca: running PCA using 6000 variants.\n",
      "2020-04-23 15:57:50 Hail: INFO: pca: running PCA with 10 components...\n"
     ]
    },
    {
     "name": "stdout",
     "output_type": "stream",
     "text": [
      "PCA took s:3000, v:6000, p:10 : 10.29 seconds\n"
     ]
    },
    {
     "name": "stderr",
     "output_type": "stream",
     "text": [
      "2020-04-23 15:58:03 Hail: INFO: Wrote all 2 blocks of 6000 x 3000 matrix with block size 4096.\n",
      "2020-04-23 15:58:04 Hail: INFO: wrote matrix with 11 rows and 6000 columns as 2 blocks of size 4096 to file:/tmp/hail.Y2Dh5hqGGSs3/uvLQNChQu4.bm\n",
      "2020-04-23 15:58:04 Hail: INFO: wrote matrix with 6000 rows and 3000 columns as 2 blocks of size 4096 to file:/tmp/hail.Y2Dh5hqGGSs3/WOQZXoHrH0.bm\n",
      "2020-04-23 15:58:05 Hail: INFO: wrote matrix with 6000 rows and 3000 columns as 2 blocks of size 4096 to file:/tmp/hail.Y2Dh5hqGGSs3/zbDmGt9h43.bm\n",
      "2020-04-23 15:58:16 Hail: INFO: wrote matrix with 3000 rows and 3000 columns as 1 block of size 4096 to file:/tmp/hail.Y2Dh5hqGGSs3/oqN6NbQVHR.bm\n",
      "2020-04-23 15:58:27 Hail: INFO: wrote matrix with 3000 rows and 3000 columns as 1 block of size 4096 to file:/tmp/hail.Y2Dh5hqGGSs3/iasvo9mjgq.bm\n",
      "2020-04-23 15:58:27 Hail: INFO: wrote matrix with 3000 rows and 3000 columns as 1 block of size 4096 to file:/tmp/hail.Y2Dh5hqGGSs3/MzccnOObE1.bm\n",
      "2020-04-23 15:58:40 Hail: INFO: wrote matrix with 3000 rows and 3000 columns as 1 block of size 4096 to file:/tmp/hail.Y2Dh5hqGGSs3/sAvKVCHHwb.bm\n",
      "2020-04-23 15:58:51 Hail: INFO: wrote matrix with 3000 rows and 3000 columns as 1 block of size 4096 to file:/tmp/hail.Y2Dh5hqGGSs3/SpREmqWEI7.bm\n",
      "2020-04-23 15:58:51 Hail: INFO: wrote matrix with 3000 rows and 3000 columns as 1 block of size 4096 to file:/tmp/hail.Y2Dh5hqGGSs3/p5rksjNjeY.bm\n",
      "2020-04-23 15:59:04 Hail: INFO: wrote matrix with 3000 rows and 3000 columns as 1 block of size 4096 to file:/tmp/hail.Y2Dh5hqGGSs3/HFr37YrYXK.bm\n",
      "2020-04-23 15:59:16 Hail: INFO: wrote matrix with 3000 rows and 3000 columns as 1 block of size 4096 to file:/tmp/hail.Y2Dh5hqGGSs3/6vHjG4zh0E.bm\n",
      "2020-04-23 15:59:17 Hail: INFO: wrote matrix with 3000 rows and 3000 columns as 1 block of size 4096 to file:/tmp/hail.Y2Dh5hqGGSs3/KU7q8tqBQG.bm\n",
      "2020-04-23 15:59:25 Hail: INFO: Ordering unsorted dataset with network shuffle\n",
      "2020-04-23 16:00:08 Hail: INFO: Coerced sorted dataset\n",
      "2020-04-23 16:00:38 Hail: INFO: wrote table with 4498500 rows in 1 partition to /tmp/tmp7ze3rfcz/pc_relate_result\n",
      "2020-04-23 16:00:38 Hail: INFO: balding_nichols_model: generating genotypes for 10 populations, 3000 samples, and 7000 variants...\n"
     ]
    },
    {
     "name": "stdout",
     "output_type": "stream",
     "text": [
      "Deleting pc_relate results: /tmp/tmp7ze3rfcz/pc_relate_result\n",
      "Deleting hail tmp dir: /tmp/hail.Y2Dh5hqGGSs3\n"
     ]
    },
    {
     "name": "stderr",
     "output_type": "stream",
     "text": [
      "2020-04-23 16:00:39 Hail: INFO: Coerced sorted dataset\n",
      "2020-04-23 16:00:43 Hail: INFO: wrote matrix table with 7000 rows and 3000 columns in 8 partitions to /home/rav/data/tmp/mt_3000_7000_10.mt\n",
      "2020-04-23 16:00:43 Hail: INFO: hwe_normalized_pca: running PCA using 7000 variants.\n",
      "2020-04-23 16:00:45 Hail: INFO: pca: running PCA with 10 components...\n"
     ]
    },
    {
     "name": "stdout",
     "output_type": "stream",
     "text": [
      "PCA took s:3000, v:7000, p:10 : 11.97 seconds\n"
     ]
    },
    {
     "name": "stderr",
     "output_type": "stream",
     "text": [
      "2020-04-23 16:00:59 Hail: INFO: Wrote all 2 blocks of 7000 x 3000 matrix with block size 4096.\n",
      "2020-04-23 16:01:00 Hail: INFO: wrote matrix with 11 rows and 7000 columns as 2 blocks of size 4096 to file:/tmp/hail.Y2Dh5hqGGSs3/q8IzskJqxj.bm\n",
      "2020-04-23 16:01:01 Hail: INFO: wrote matrix with 7000 rows and 3000 columns as 2 blocks of size 4096 to file:/tmp/hail.Y2Dh5hqGGSs3/I3uX2NFsQl.bm\n",
      "2020-04-23 16:01:01 Hail: INFO: wrote matrix with 7000 rows and 3000 columns as 2 blocks of size 4096 to file:/tmp/hail.Y2Dh5hqGGSs3/0WgzgmrteI.bm\n",
      "2020-04-23 16:01:14 Hail: INFO: wrote matrix with 3000 rows and 3000 columns as 1 block of size 4096 to file:/tmp/hail.Y2Dh5hqGGSs3/9N60G6HeTV.bm\n",
      "2020-04-23 16:01:27 Hail: INFO: wrote matrix with 3000 rows and 3000 columns as 1 block of size 4096 to file:/tmp/hail.Y2Dh5hqGGSs3/QibQpfFRkc.bm\n",
      "2020-04-23 16:01:28 Hail: INFO: wrote matrix with 3000 rows and 3000 columns as 1 block of size 4096 to file:/tmp/hail.Y2Dh5hqGGSs3/hLE2SLCxFH.bm\n",
      "2020-04-23 16:01:43 Hail: INFO: wrote matrix with 3000 rows and 3000 columns as 1 block of size 4096 to file:/tmp/hail.Y2Dh5hqGGSs3/uXB57gST94.bm\n",
      "2020-04-23 16:01:55 Hail: INFO: wrote matrix with 3000 rows and 3000 columns as 1 block of size 4096 to file:/tmp/hail.Y2Dh5hqGGSs3/o7ikzLwWga.bm\n",
      "2020-04-23 16:01:56 Hail: INFO: wrote matrix with 3000 rows and 3000 columns as 1 block of size 4096 to file:/tmp/hail.Y2Dh5hqGGSs3/4kSIBx8v8s.bm\n",
      "2020-04-23 16:02:10 Hail: INFO: wrote matrix with 3000 rows and 3000 columns as 1 block of size 4096 to file:/tmp/hail.Y2Dh5hqGGSs3/kVUqTndp9B.bm\n",
      "2020-04-23 16:02:24 Hail: INFO: wrote matrix with 3000 rows and 3000 columns as 1 block of size 4096 to file:/tmp/hail.Y2Dh5hqGGSs3/fzpRY4XdZf.bm\n",
      "2020-04-23 16:02:25 Hail: INFO: wrote matrix with 3000 rows and 3000 columns as 1 block of size 4096 to file:/tmp/hail.Y2Dh5hqGGSs3/DWgfBVnDjD.bm\n",
      "2020-04-23 16:02:33 Hail: INFO: Ordering unsorted dataset with network shuffle\n",
      "2020-04-23 16:03:15 Hail: INFO: Coerced sorted dataset\n",
      "2020-04-23 16:03:46 Hail: INFO: wrote table with 4498500 rows in 1 partition to /tmp/tmppftemis4/pc_relate_result\n",
      "2020-04-23 16:03:46 Hail: INFO: balding_nichols_model: generating genotypes for 10 populations, 3000 samples, and 8000 variants...\n"
     ]
    },
    {
     "name": "stdout",
     "output_type": "stream",
     "text": [
      "Deleting pc_relate results: /tmp/tmppftemis4/pc_relate_result\n",
      "Deleting hail tmp dir: /tmp/hail.Y2Dh5hqGGSs3\n"
     ]
    },
    {
     "name": "stderr",
     "output_type": "stream",
     "text": [
      "2020-04-23 16:03:46 Hail: INFO: Coerced sorted dataset\n",
      "2020-04-23 16:03:51 Hail: INFO: wrote matrix table with 8000 rows and 3000 columns in 8 partitions to /home/rav/data/tmp/mt_3000_8000_10.mt\n",
      "2020-04-23 16:03:51 Hail: INFO: hwe_normalized_pca: running PCA using 8000 variants.\n",
      "2020-04-23 16:03:53 Hail: INFO: pca: running PCA with 10 components...\n"
     ]
    },
    {
     "name": "stdout",
     "output_type": "stream",
     "text": [
      "PCA took s:3000, v:8000, p:10 : 10.32 seconds\n"
     ]
    },
    {
     "name": "stderr",
     "output_type": "stream",
     "text": [
      "2020-04-23 16:04:06 Hail: INFO: Wrote all 2 blocks of 8000 x 3000 matrix with block size 4096.\n",
      "2020-04-23 16:04:07 Hail: INFO: wrote matrix with 11 rows and 8000 columns as 2 blocks of size 4096 to file:/tmp/hail.Y2Dh5hqGGSs3/OJ672HZKiu.bm\n",
      "2020-04-23 16:04:07 Hail: INFO: wrote matrix with 8000 rows and 3000 columns as 2 blocks of size 4096 to file:/tmp/hail.Y2Dh5hqGGSs3/HrTWuTaTdW.bm\n",
      "2020-04-23 16:04:08 Hail: INFO: wrote matrix with 8000 rows and 3000 columns as 2 blocks of size 4096 to file:/tmp/hail.Y2Dh5hqGGSs3/yBvKADJTm4.bm\n",
      "2020-04-23 16:04:23 Hail: INFO: wrote matrix with 3000 rows and 3000 columns as 1 block of size 4096 to file:/tmp/hail.Y2Dh5hqGGSs3/Os75yvepRk.bm\n",
      "2020-04-23 16:04:38 Hail: INFO: wrote matrix with 3000 rows and 3000 columns as 1 block of size 4096 to file:/tmp/hail.Y2Dh5hqGGSs3/eWGd6lcWBp.bm\n",
      "2020-04-23 16:04:38 Hail: INFO: wrote matrix with 3000 rows and 3000 columns as 1 block of size 4096 to file:/tmp/hail.Y2Dh5hqGGSs3/DVTRBmTPgF.bm\n",
      "2020-04-23 16:04:55 Hail: INFO: wrote matrix with 3000 rows and 3000 columns as 1 block of size 4096 to file:/tmp/hail.Y2Dh5hqGGSs3/imeSQEhmis.bm\n",
      "2020-04-23 16:05:10 Hail: INFO: wrote matrix with 3000 rows and 3000 columns as 1 block of size 4096 to file:/tmp/hail.Y2Dh5hqGGSs3/GTMajjEbQi.bm\n",
      "2020-04-23 16:05:10 Hail: INFO: wrote matrix with 3000 rows and 3000 columns as 1 block of size 4096 to file:/tmp/hail.Y2Dh5hqGGSs3/e8DsjTl3Yo.bm\n",
      "2020-04-23 16:05:26 Hail: INFO: wrote matrix with 3000 rows and 3000 columns as 1 block of size 4096 to file:/tmp/hail.Y2Dh5hqGGSs3/Pa6o0z8xid.bm\n",
      "2020-04-23 16:05:42 Hail: INFO: wrote matrix with 3000 rows and 3000 columns as 1 block of size 4096 to file:/tmp/hail.Y2Dh5hqGGSs3/1o5HVaYGGx.bm\n",
      "2020-04-23 16:05:43 Hail: INFO: wrote matrix with 3000 rows and 3000 columns as 1 block of size 4096 to file:/tmp/hail.Y2Dh5hqGGSs3/roByepGe75.bm\n",
      "2020-04-23 16:05:51 Hail: INFO: Ordering unsorted dataset with network shuffle\n",
      "2020-04-23 16:06:33 Hail: INFO: Coerced sorted dataset\n",
      "2020-04-23 16:07:04 Hail: INFO: wrote table with 4498500 rows in 1 partition to /tmp/tmpezooog6u/pc_relate_result\n",
      "2020-04-23 16:07:04 Hail: INFO: balding_nichols_model: generating genotypes for 10 populations, 3000 samples, and 9000 variants...\n"
     ]
    },
    {
     "name": "stdout",
     "output_type": "stream",
     "text": [
      "Deleting pc_relate results: /tmp/tmpezooog6u/pc_relate_result\n",
      "Deleting hail tmp dir: /tmp/hail.Y2Dh5hqGGSs3\n"
     ]
    },
    {
     "name": "stderr",
     "output_type": "stream",
     "text": [
      "2020-04-23 16:07:04 Hail: INFO: Coerced sorted dataset\n",
      "2020-04-23 16:07:10 Hail: INFO: wrote matrix table with 9000 rows and 3000 columns in 8 partitions to /home/rav/data/tmp/mt_3000_9000_10.mt\n",
      "2020-04-23 16:07:10 Hail: INFO: hwe_normalized_pca: running PCA using 9000 variants.\n",
      "2020-04-23 16:07:12 Hail: INFO: pca: running PCA with 10 components...\n"
     ]
    },
    {
     "name": "stdout",
     "output_type": "stream",
     "text": [
      "PCA took s:3000, v:9000, p:10 : 15.64 seconds\n"
     ]
    },
    {
     "name": "stderr",
     "output_type": "stream",
     "text": [
      "2020-04-23 16:07:30 Hail: INFO: Wrote all 3 blocks of 9000 x 3000 matrix with block size 4096.\n",
      "2020-04-23 16:07:31 Hail: INFO: wrote matrix with 11 rows and 9000 columns as 3 blocks of size 4096 to file:/tmp/hail.Y2Dh5hqGGSs3/EgeRbwtfsB.bm\n",
      "2020-04-23 16:07:31 Hail: INFO: wrote matrix with 9000 rows and 3000 columns as 3 blocks of size 4096 to file:/tmp/hail.Y2Dh5hqGGSs3/9d0DWIPEby.bm\n",
      "2020-04-23 16:07:32 Hail: INFO: wrote matrix with 9000 rows and 3000 columns as 3 blocks of size 4096 to file:/tmp/hail.Y2Dh5hqGGSs3/HkQ68Dtifv.bm\n",
      "2020-04-23 16:07:49 Hail: INFO: wrote matrix with 3000 rows and 3000 columns as 1 block of size 4096 to file:/tmp/hail.Y2Dh5hqGGSs3/g7R0MriTyT.bm\n",
      "2020-04-23 16:08:05 Hail: INFO: wrote matrix with 3000 rows and 3000 columns as 1 block of size 4096 to file:/tmp/hail.Y2Dh5hqGGSs3/6Yea1oAGyO.bm\n",
      "2020-04-23 16:08:06 Hail: INFO: wrote matrix with 3000 rows and 3000 columns as 1 block of size 4096 to file:/tmp/hail.Y2Dh5hqGGSs3/EDghjbtLNI.bm\n",
      "2020-04-23 16:08:25 Hail: INFO: wrote matrix with 3000 rows and 3000 columns as 1 block of size 4096 to file:/tmp/hail.Y2Dh5hqGGSs3/RhMDNcM0Ke.bm\n",
      "2020-04-23 16:08:41 Hail: INFO: wrote matrix with 3000 rows and 3000 columns as 1 block of size 4096 to file:/tmp/hail.Y2Dh5hqGGSs3/jvyeQEP940.bm\n",
      "2020-04-23 16:08:42 Hail: INFO: wrote matrix with 3000 rows and 3000 columns as 1 block of size 4096 to file:/tmp/hail.Y2Dh5hqGGSs3/sAKrGcwVN6.bm\n",
      "2020-04-23 16:09:00 Hail: INFO: wrote matrix with 3000 rows and 3000 columns as 1 block of size 4096 to file:/tmp/hail.Y2Dh5hqGGSs3/ZbQYmw6q8C.bm\n",
      "2020-04-23 16:09:18 Hail: INFO: wrote matrix with 3000 rows and 3000 columns as 1 block of size 4096 to file:/tmp/hail.Y2Dh5hqGGSs3/LVhIbIjgq0.bm\n",
      "2020-04-23 16:09:19 Hail: INFO: wrote matrix with 3000 rows and 3000 columns as 1 block of size 4096 to file:/tmp/hail.Y2Dh5hqGGSs3/g8c5qT2Fvm.bm\n",
      "2020-04-23 16:09:27 Hail: INFO: Ordering unsorted dataset with network shuffle\n",
      "2020-04-23 16:10:10 Hail: INFO: Coerced sorted dataset\n",
      "2020-04-23 16:10:40 Hail: INFO: wrote table with 4498500 rows in 1 partition to /tmp/tmp8wrve1m0/pc_relate_result\n",
      "2020-04-23 16:10:40 Hail: INFO: balding_nichols_model: generating genotypes for 10 populations, 3000 samples, and 10000 variants...\n"
     ]
    },
    {
     "name": "stdout",
     "output_type": "stream",
     "text": [
      "Deleting pc_relate results: /tmp/tmp8wrve1m0/pc_relate_result\n",
      "Deleting hail tmp dir: /tmp/hail.Y2Dh5hqGGSs3\n"
     ]
    },
    {
     "name": "stderr",
     "output_type": "stream",
     "text": [
      "2020-04-23 16:10:41 Hail: INFO: Coerced sorted dataset\n",
      "2020-04-23 16:10:46 Hail: INFO: wrote matrix table with 10000 rows and 3000 columns in 8 partitions to /home/rav/data/tmp/mt_3000_10000_10.mt\n",
      "2020-04-23 16:10:47 Hail: INFO: hwe_normalized_pca: running PCA using 10000 variants.\n",
      "2020-04-23 16:10:49 Hail: INFO: pca: running PCA with 10 components...\n"
     ]
    },
    {
     "name": "stdout",
     "output_type": "stream",
     "text": [
      "PCA took s:3000, v:10000, p:10 : 13.94 seconds\n"
     ]
    },
    {
     "name": "stderr",
     "output_type": "stream",
     "text": [
      "2020-04-23 16:11:06 Hail: INFO: Wrote all 3 blocks of 10000 x 3000 matrix with block size 4096.\n",
      "2020-04-23 16:11:06 Hail: INFO: wrote matrix with 11 rows and 10000 columns as 3 blocks of size 4096 to file:/tmp/hail.Y2Dh5hqGGSs3/iNYHQU9qA1.bm\n",
      "2020-04-23 16:11:07 Hail: INFO: wrote matrix with 10000 rows and 3000 columns as 3 blocks of size 4096 to file:/tmp/hail.Y2Dh5hqGGSs3/s7NDmbz1rB.bm\n",
      "2020-04-23 16:11:07 Hail: INFO: wrote matrix with 10000 rows and 3000 columns as 3 blocks of size 4096 to file:/tmp/hail.Y2Dh5hqGGSs3/gtIlgfjkFV.bm\n",
      "2020-04-23 16:11:26 Hail: INFO: wrote matrix with 3000 rows and 3000 columns as 1 block of size 4096 to file:/tmp/hail.Y2Dh5hqGGSs3/dBlQg6yO6L.bm\n",
      "2020-04-23 16:11:44 Hail: INFO: wrote matrix with 3000 rows and 3000 columns as 1 block of size 4096 to file:/tmp/hail.Y2Dh5hqGGSs3/BhMBFkjD1G.bm\n",
      "2020-04-23 16:11:45 Hail: INFO: wrote matrix with 3000 rows and 3000 columns as 1 block of size 4096 to file:/tmp/hail.Y2Dh5hqGGSs3/hihfs5swPq.bm\n",
      "2020-04-23 16:12:06 Hail: INFO: wrote matrix with 3000 rows and 3000 columns as 1 block of size 4096 to file:/tmp/hail.Y2Dh5hqGGSs3/9RYvBDpEnR.bm\n",
      "2020-04-23 16:12:24 Hail: INFO: wrote matrix with 3000 rows and 3000 columns as 1 block of size 4096 to file:/tmp/hail.Y2Dh5hqGGSs3/7kLUO2FEz6.bm\n",
      "2020-04-23 16:12:24 Hail: INFO: wrote matrix with 3000 rows and 3000 columns as 1 block of size 4096 to file:/tmp/hail.Y2Dh5hqGGSs3/0HCaeudspt.bm\n",
      "2020-04-23 16:12:45 Hail: INFO: wrote matrix with 3000 rows and 3000 columns as 1 block of size 4096 to file:/tmp/hail.Y2Dh5hqGGSs3/G0JdpimSJ3.bm\n",
      "2020-04-23 16:13:05 Hail: INFO: wrote matrix with 3000 rows and 3000 columns as 1 block of size 4096 to file:/tmp/hail.Y2Dh5hqGGSs3/qQlZR3JSto.bm\n",
      "2020-04-23 16:13:06 Hail: INFO: wrote matrix with 3000 rows and 3000 columns as 1 block of size 4096 to file:/tmp/hail.Y2Dh5hqGGSs3/eGFPMMm7lO.bm\n",
      "2020-04-23 16:13:14 Hail: INFO: Ordering unsorted dataset with network shuffle\n",
      "2020-04-23 16:13:56 Hail: INFO: Coerced sorted dataset\n",
      "2020-04-23 16:14:27 Hail: INFO: wrote table with 4498500 rows in 1 partition to /tmp/tmphhhlcmmk/pc_relate_result\n",
      "2020-04-23 16:14:27 Hail: INFO: balding_nichols_model: generating genotypes for 10 populations, 4000 samples, and 1000 variants...\n"
     ]
    },
    {
     "name": "stdout",
     "output_type": "stream",
     "text": [
      "Deleting pc_relate results: /tmp/tmphhhlcmmk/pc_relate_result\n",
      "Deleting hail tmp dir: /tmp/hail.Y2Dh5hqGGSs3\n"
     ]
    },
    {
     "name": "stderr",
     "output_type": "stream",
     "text": [
      "2020-04-23 16:14:28 Hail: INFO: Coerced sorted dataset\n",
      "2020-04-23 16:14:30 Hail: INFO: wrote matrix table with 1000 rows and 4000 columns in 8 partitions to /home/rav/data/tmp/mt_4000_1000_10.mt\n",
      "2020-04-23 16:14:30 Hail: INFO: hwe_normalized_pca: running PCA using 1000 variants.\n",
      "2020-04-23 16:14:32 Hail: INFO: pca: running PCA with 10 components...\n"
     ]
    },
    {
     "name": "stdout",
     "output_type": "stream",
     "text": [
      "PCA took s:4000, v:1000, p:10 : 6.84 seconds\n"
     ]
    },
    {
     "name": "stderr",
     "output_type": "stream",
     "text": [
      "2020-04-23 16:14:40 Hail: INFO: Wrote all 1 blocks of 1000 x 4000 matrix with block size 4096.\n",
      "2020-04-23 16:14:41 Hail: INFO: wrote matrix with 11 rows and 1000 columns as 1 block of size 4096 to file:/tmp/hail.Y2Dh5hqGGSs3/TiyIdDOp7g.bm\n",
      "2020-04-23 16:14:41 Hail: INFO: wrote matrix with 1000 rows and 4000 columns as 1 block of size 4096 to file:/tmp/hail.Y2Dh5hqGGSs3/0xSMnh46bB.bm\n",
      "2020-04-23 16:14:42 Hail: INFO: wrote matrix with 1000 rows and 4000 columns as 1 block of size 4096 to file:/tmp/hail.Y2Dh5hqGGSs3/h3Eu9lQLPn.bm\n",
      "2020-04-23 16:14:45 Hail: INFO: wrote matrix with 4000 rows and 4000 columns as 1 block of size 4096 to file:/tmp/hail.Y2Dh5hqGGSs3/ScrBPRZb0W.bm\n",
      "2020-04-23 16:14:49 Hail: INFO: wrote matrix with 4000 rows and 4000 columns as 1 block of size 4096 to file:/tmp/hail.Y2Dh5hqGGSs3/oo8kX353Ve.bm\n",
      "2020-04-23 16:14:49 Hail: INFO: wrote matrix with 4000 rows and 4000 columns as 1 block of size 4096 to file:/tmp/hail.Y2Dh5hqGGSs3/GblBZ4dd5r.bm\n",
      "2020-04-23 16:14:53 Hail: INFO: wrote matrix with 4000 rows and 4000 columns as 1 block of size 4096 to file:/tmp/hail.Y2Dh5hqGGSs3/n8C4zGqmnJ.bm\n",
      "2020-04-23 16:14:56 Hail: INFO: wrote matrix with 4000 rows and 4000 columns as 1 block of size 4096 to file:/tmp/hail.Y2Dh5hqGGSs3/W3FsLvBzC4.bm\n",
      "2020-04-23 16:14:57 Hail: INFO: wrote matrix with 4000 rows and 4000 columns as 1 block of size 4096 to file:/tmp/hail.Y2Dh5hqGGSs3/7pPCBlJr4g.bm\n",
      "2020-04-23 16:15:01 Hail: INFO: wrote matrix with 4000 rows and 4000 columns as 1 block of size 4096 to file:/tmp/hail.Y2Dh5hqGGSs3/FJOSC3q6NP.bm\n",
      "2020-04-23 16:15:05 Hail: INFO: wrote matrix with 4000 rows and 4000 columns as 1 block of size 4096 to file:/tmp/hail.Y2Dh5hqGGSs3/cC507i31DD.bm\n",
      "2020-04-23 16:15:06 Hail: INFO: wrote matrix with 4000 rows and 4000 columns as 1 block of size 4096 to file:/tmp/hail.Y2Dh5hqGGSs3/8QuhNJPkN1.bm\n",
      "2020-04-23 16:15:21 Hail: INFO: Ordering unsorted dataset with network shuffle\n",
      "2020-04-23 16:16:36 Hail: INFO: Coerced sorted dataset\n",
      "2020-04-23 16:17:30 Hail: INFO: wrote table with 7998000 rows in 1 partition to /tmp/tmpny0mhpu6/pc_relate_result\n",
      "2020-04-23 16:17:30 Hail: INFO: balding_nichols_model: generating genotypes for 10 populations, 4000 samples, and 2000 variants...\n"
     ]
    },
    {
     "name": "stdout",
     "output_type": "stream",
     "text": [
      "Deleting pc_relate results: /tmp/tmpny0mhpu6/pc_relate_result\n",
      "Deleting hail tmp dir: /tmp/hail.Y2Dh5hqGGSs3\n"
     ]
    },
    {
     "name": "stderr",
     "output_type": "stream",
     "text": [
      "2020-04-23 16:17:30 Hail: INFO: Coerced sorted dataset\n",
      "2020-04-23 16:17:33 Hail: INFO: wrote matrix table with 2000 rows and 4000 columns in 8 partitions to /home/rav/data/tmp/mt_4000_2000_10.mt\n",
      "2020-04-23 16:17:34 Hail: INFO: hwe_normalized_pca: running PCA using 2000 variants.\n",
      "2020-04-23 16:17:35 Hail: INFO: pca: running PCA with 10 components...\n"
     ]
    },
    {
     "name": "stdout",
     "output_type": "stream",
     "text": [
      "PCA took s:4000, v:2000, p:10 : 8.66 seconds\n"
     ]
    },
    {
     "name": "stderr",
     "output_type": "stream",
     "text": [
      "2020-04-23 16:17:46 Hail: INFO: Wrote all 1 blocks of 2000 x 4000 matrix with block size 4096.\n",
      "2020-04-23 16:17:47 Hail: INFO: wrote matrix with 11 rows and 2000 columns as 1 block of size 4096 to file:/tmp/hail.Y2Dh5hqGGSs3/y21NmY0lm1.bm\n",
      "2020-04-23 16:17:47 Hail: INFO: wrote matrix with 2000 rows and 4000 columns as 1 block of size 4096 to file:/tmp/hail.Y2Dh5hqGGSs3/CULr4Y45vK.bm\n",
      "2020-04-23 16:17:47 Hail: INFO: wrote matrix with 2000 rows and 4000 columns as 1 block of size 4096 to file:/tmp/hail.Y2Dh5hqGGSs3/fh0E0gaalO.bm\n",
      "2020-04-23 16:17:54 Hail: INFO: wrote matrix with 4000 rows and 4000 columns as 1 block of size 4096 to file:/tmp/hail.Y2Dh5hqGGSs3/KmzzTloluC.bm\n",
      "2020-04-23 16:18:01 Hail: INFO: wrote matrix with 4000 rows and 4000 columns as 1 block of size 4096 to file:/tmp/hail.Y2Dh5hqGGSs3/ewRkkhuqIk.bm\n",
      "2020-04-23 16:18:01 Hail: INFO: wrote matrix with 4000 rows and 4000 columns as 1 block of size 4096 to file:/tmp/hail.Y2Dh5hqGGSs3/XQbge6XMtG.bm\n",
      "2020-04-23 16:18:09 Hail: INFO: wrote matrix with 4000 rows and 4000 columns as 1 block of size 4096 to file:/tmp/hail.Y2Dh5hqGGSs3/6o95I0m16i.bm\n",
      "2020-04-23 16:18:15 Hail: INFO: wrote matrix with 4000 rows and 4000 columns as 1 block of size 4096 to file:/tmp/hail.Y2Dh5hqGGSs3/qOv1mayDF6.bm\n",
      "2020-04-23 16:18:16 Hail: INFO: wrote matrix with 4000 rows and 4000 columns as 1 block of size 4096 to file:/tmp/hail.Y2Dh5hqGGSs3/ZhtYCi3d5J.bm\n",
      "2020-04-23 16:18:23 Hail: INFO: wrote matrix with 4000 rows and 4000 columns as 1 block of size 4096 to file:/tmp/hail.Y2Dh5hqGGSs3/fsNa9k5SYx.bm\n",
      "2020-04-23 16:18:30 Hail: INFO: wrote matrix with 4000 rows and 4000 columns as 1 block of size 4096 to file:/tmp/hail.Y2Dh5hqGGSs3/FYelPEBtWP.bm\n",
      "2020-04-23 16:18:32 Hail: INFO: wrote matrix with 4000 rows and 4000 columns as 1 block of size 4096 to file:/tmp/hail.Y2Dh5hqGGSs3/1UNbZbcUdS.bm\n",
      "2020-04-23 16:18:47 Hail: INFO: Ordering unsorted dataset with network shuffle\n",
      "2020-04-23 16:20:02 Hail: INFO: Coerced sorted dataset\n",
      "2020-04-23 16:20:57 Hail: INFO: wrote table with 7998000 rows in 1 partition to /tmp/tmpdnmy92qn/pc_relate_result\n"
     ]
    },
    {
     "name": "stdout",
     "output_type": "stream",
     "text": [
      "Deleting pc_relate results: /tmp/tmpdnmy92qn/pc_relate_result\n",
      "Deleting hail tmp dir: /tmp/hail.Y2Dh5hqGGSs3\n"
     ]
    },
    {
     "name": "stderr",
     "output_type": "stream",
     "text": [
      "2020-04-23 16:20:57 Hail: INFO: balding_nichols_model: generating genotypes for 10 populations, 4000 samples, and 3000 variants...\n",
      "2020-04-23 16:20:58 Hail: INFO: Coerced sorted dataset\n",
      "2020-04-23 16:21:01 Hail: INFO: wrote matrix table with 3000 rows and 4000 columns in 8 partitions to /home/rav/data/tmp/mt_4000_3000_10.mt\n",
      "2020-04-23 16:21:01 Hail: INFO: hwe_normalized_pca: running PCA using 3000 variants.\n",
      "2020-04-23 16:21:03 Hail: INFO: pca: running PCA with 10 components...\n"
     ]
    },
    {
     "name": "stdout",
     "output_type": "stream",
     "text": [
      "PCA took s:4000, v:3000, p:10 : 9.46 seconds\n"
     ]
    },
    {
     "name": "stderr",
     "output_type": "stream",
     "text": [
      "2020-04-23 16:21:15 Hail: INFO: Wrote all 1 blocks of 3000 x 4000 matrix with block size 4096.\n",
      "2020-04-23 16:21:16 Hail: INFO: wrote matrix with 11 rows and 3000 columns as 1 block of size 4096 to file:/tmp/hail.Y2Dh5hqGGSs3/CTcn5XQs5a.bm\n",
      "2020-04-23 16:21:16 Hail: INFO: wrote matrix with 3000 rows and 4000 columns as 1 block of size 4096 to file:/tmp/hail.Y2Dh5hqGGSs3/gNNiAIVGUC.bm\n",
      "2020-04-23 16:21:17 Hail: INFO: wrote matrix with 3000 rows and 4000 columns as 1 block of size 4096 to file:/tmp/hail.Y2Dh5hqGGSs3/Lwimx83CHC.bm\n",
      "2020-04-23 16:21:27 Hail: INFO: wrote matrix with 4000 rows and 4000 columns as 1 block of size 4096 to file:/tmp/hail.Y2Dh5hqGGSs3/JuRmyF98GY.bm\n",
      "2020-04-23 16:21:37 Hail: INFO: wrote matrix with 4000 rows and 4000 columns as 1 block of size 4096 to file:/tmp/hail.Y2Dh5hqGGSs3/QMhXzFWju2.bm\n",
      "2020-04-23 16:21:37 Hail: INFO: wrote matrix with 4000 rows and 4000 columns as 1 block of size 4096 to file:/tmp/hail.Y2Dh5hqGGSs3/Q35KfxpAig.bm\n",
      "2020-04-23 16:21:49 Hail: INFO: wrote matrix with 4000 rows and 4000 columns as 1 block of size 4096 to file:/tmp/hail.Y2Dh5hqGGSs3/7yYq3FIDaf.bm\n",
      "2020-04-23 16:21:58 Hail: INFO: wrote matrix with 4000 rows and 4000 columns as 1 block of size 4096 to file:/tmp/hail.Y2Dh5hqGGSs3/qboRY9lv1s.bm\n",
      "2020-04-23 16:21:59 Hail: INFO: wrote matrix with 4000 rows and 4000 columns as 1 block of size 4096 to file:/tmp/hail.Y2Dh5hqGGSs3/MGbTcUAE4r.bm\n",
      "2020-04-23 16:22:10 Hail: INFO: wrote matrix with 4000 rows and 4000 columns as 1 block of size 4096 to file:/tmp/hail.Y2Dh5hqGGSs3/UcKlvmahrb.bm\n",
      "2020-04-23 16:22:20 Hail: INFO: wrote matrix with 4000 rows and 4000 columns as 1 block of size 4096 to file:/tmp/hail.Y2Dh5hqGGSs3/XhiWxdwks9.bm\n",
      "2020-04-23 16:22:22 Hail: INFO: wrote matrix with 4000 rows and 4000 columns as 1 block of size 4096 to file:/tmp/hail.Y2Dh5hqGGSs3/jNeQLl22Tc.bm\n",
      "2020-04-23 16:22:37 Hail: INFO: Ordering unsorted dataset with network shuffle\n",
      "2020-04-23 16:24:03 Hail: INFO: Coerced sorted dataset\n",
      "2020-04-23 16:24:56 Hail: INFO: wrote table with 7998000 rows in 1 partition to /tmp/tmpmts2r2l6/pc_relate_result\n"
     ]
    },
    {
     "name": "stdout",
     "output_type": "stream",
     "text": [
      "Deleting pc_relate results: /tmp/tmpmts2r2l6/pc_relate_result\n",
      "Deleting hail tmp dir: /tmp/hail.Y2Dh5hqGGSs3\n"
     ]
    },
    {
     "name": "stderr",
     "output_type": "stream",
     "text": [
      "2020-04-23 16:24:56 Hail: INFO: balding_nichols_model: generating genotypes for 10 populations, 4000 samples, and 4000 variants...\n",
      "2020-04-23 16:24:56 Hail: INFO: Coerced sorted dataset\n",
      "2020-04-23 16:25:00 Hail: INFO: wrote matrix table with 4000 rows and 4000 columns in 8 partitions to /home/rav/data/tmp/mt_4000_4000_10.mt\n",
      "2020-04-23 16:25:01 Hail: INFO: hwe_normalized_pca: running PCA using 4000 variants.\n",
      "2020-04-23 16:25:03 Hail: INFO: pca: running PCA with 10 components...\n"
     ]
    },
    {
     "name": "stdout",
     "output_type": "stream",
     "text": [
      "PCA took s:4000, v:4000, p:10 : 11.14 seconds\n"
     ]
    },
    {
     "name": "stderr",
     "output_type": "stream",
     "text": [
      "2020-04-23 16:25:17 Hail: INFO: Wrote all 1 blocks of 4000 x 4000 matrix with block size 4096.\n",
      "2020-04-23 16:25:18 Hail: INFO: wrote matrix with 11 rows and 4000 columns as 1 block of size 4096 to file:/tmp/hail.Y2Dh5hqGGSs3/othNp7MN1t.bm\n",
      "2020-04-23 16:25:18 Hail: INFO: wrote matrix with 4000 rows and 4000 columns as 1 block of size 4096 to file:/tmp/hail.Y2Dh5hqGGSs3/MDoMlYr4dN.bm\n",
      "2020-04-23 16:25:19 Hail: INFO: wrote matrix with 4000 rows and 4000 columns as 1 block of size 4096 to file:/tmp/hail.Y2Dh5hqGGSs3/z4HCslbzTZ.bm\n",
      "2020-04-23 16:25:32 Hail: INFO: wrote matrix with 4000 rows and 4000 columns as 1 block of size 4096 to file:/tmp/hail.Y2Dh5hqGGSs3/vFsJMb7XXg.bm\n",
      "2020-04-23 16:25:46 Hail: INFO: wrote matrix with 4000 rows and 4000 columns as 1 block of size 4096 to file:/tmp/hail.Y2Dh5hqGGSs3/LoYJArT50W.bm\n",
      "2020-04-23 16:25:46 Hail: INFO: wrote matrix with 4000 rows and 4000 columns as 1 block of size 4096 to file:/tmp/hail.Y2Dh5hqGGSs3/BXO3q38wk8.bm\n",
      "2020-04-23 16:26:01 Hail: INFO: wrote matrix with 4000 rows and 4000 columns as 1 block of size 4096 to file:/tmp/hail.Y2Dh5hqGGSs3/u3qVZtoprn.bm\n",
      "2020-04-23 16:26:14 Hail: INFO: wrote matrix with 4000 rows and 4000 columns as 1 block of size 4096 to file:/tmp/hail.Y2Dh5hqGGSs3/2PBQWVwb6c.bm\n",
      "2020-04-23 16:26:14 Hail: INFO: wrote matrix with 4000 rows and 4000 columns as 1 block of size 4096 to file:/tmp/hail.Y2Dh5hqGGSs3/5PyQT0Wi86.bm\n",
      "2020-04-23 16:26:29 Hail: INFO: wrote matrix with 4000 rows and 4000 columns as 1 block of size 4096 to file:/tmp/hail.Y2Dh5hqGGSs3/1gxiTiUR2n.bm\n",
      "2020-04-23 16:26:43 Hail: INFO: wrote matrix with 4000 rows and 4000 columns as 1 block of size 4096 to file:/tmp/hail.Y2Dh5hqGGSs3/JeNggCInBC.bm\n",
      "2020-04-23 16:26:44 Hail: INFO: wrote matrix with 4000 rows and 4000 columns as 1 block of size 4096 to file:/tmp/hail.Y2Dh5hqGGSs3/vAj0vnOni8.bm\n",
      "2020-04-23 16:26:59 Hail: INFO: Ordering unsorted dataset with network shuffle\n",
      "2020-04-23 16:28:15 Hail: INFO: Coerced sorted dataset\n",
      "2020-04-23 16:29:12 Hail: INFO: wrote table with 7998000 rows in 1 partition to /tmp/tmp9qmteypp/pc_relate_result\n"
     ]
    },
    {
     "name": "stdout",
     "output_type": "stream",
     "text": [
      "Deleting pc_relate results: /tmp/tmp9qmteypp/pc_relate_result\n",
      "Deleting hail tmp dir: /tmp/hail.Y2Dh5hqGGSs3\n"
     ]
    },
    {
     "name": "stderr",
     "output_type": "stream",
     "text": [
      "2020-04-23 16:29:12 Hail: INFO: balding_nichols_model: generating genotypes for 10 populations, 4000 samples, and 5000 variants...\n",
      "2020-04-23 16:29:12 Hail: INFO: Coerced sorted dataset\n",
      "2020-04-23 16:29:16 Hail: INFO: wrote matrix table with 5000 rows and 4000 columns in 8 partitions to /home/rav/data/tmp/mt_4000_5000_10.mt\n",
      "2020-04-23 16:29:17 Hail: INFO: hwe_normalized_pca: running PCA using 5000 variants.\n",
      "2020-04-23 16:29:19 Hail: INFO: pca: running PCA with 10 components...\n"
     ]
    },
    {
     "name": "stdout",
     "output_type": "stream",
     "text": [
      "PCA took s:4000, v:5000, p:10 : 12.69 seconds\n"
     ]
    },
    {
     "name": "stderr",
     "output_type": "stream",
     "text": [
      "2020-04-23 16:29:35 Hail: INFO: Wrote all 2 blocks of 5000 x 4000 matrix with block size 4096.\n",
      "2020-04-23 16:29:36 Hail: INFO: wrote matrix with 11 rows and 5000 columns as 2 blocks of size 4096 to file:/tmp/hail.Y2Dh5hqGGSs3/WhifduxSja.bm\n",
      "2020-04-23 16:29:36 Hail: INFO: wrote matrix with 5000 rows and 4000 columns as 2 blocks of size 4096 to file:/tmp/hail.Y2Dh5hqGGSs3/bntIvFLKgP.bm\n",
      "2020-04-23 16:29:37 Hail: INFO: wrote matrix with 5000 rows and 4000 columns as 2 blocks of size 4096 to file:/tmp/hail.Y2Dh5hqGGSs3/NBNbRn6363.bm\n",
      "2020-04-23 16:29:54 Hail: INFO: wrote matrix with 4000 rows and 4000 columns as 1 block of size 4096 to file:/tmp/hail.Y2Dh5hqGGSs3/1gOcbdlSzH.bm\n",
      "2020-04-23 16:30:10 Hail: INFO: wrote matrix with 4000 rows and 4000 columns as 1 block of size 4096 to file:/tmp/hail.Y2Dh5hqGGSs3/ghrBiqyyNn.bm\n",
      "2020-04-23 16:30:11 Hail: INFO: wrote matrix with 4000 rows and 4000 columns as 1 block of size 4096 to file:/tmp/hail.Y2Dh5hqGGSs3/0TXs9JUg9C.bm\n",
      "2020-04-23 16:30:29 Hail: INFO: wrote matrix with 4000 rows and 4000 columns as 1 block of size 4096 to file:/tmp/hail.Y2Dh5hqGGSs3/ZruGd9eJ62.bm\n",
      "2020-04-23 16:30:45 Hail: INFO: wrote matrix with 4000 rows and 4000 columns as 1 block of size 4096 to file:/tmp/hail.Y2Dh5hqGGSs3/qCZiVFVRdx.bm\n",
      "2020-04-23 16:30:46 Hail: INFO: wrote matrix with 4000 rows and 4000 columns as 1 block of size 4096 to file:/tmp/hail.Y2Dh5hqGGSs3/a0IwUaaHdV.bm\n",
      "2020-04-23 16:31:03 Hail: INFO: wrote matrix with 4000 rows and 4000 columns as 1 block of size 4096 to file:/tmp/hail.Y2Dh5hqGGSs3/wxkFVVcLhN.bm\n",
      "2020-04-23 16:31:21 Hail: INFO: wrote matrix with 4000 rows and 4000 columns as 1 block of size 4096 to file:/tmp/hail.Y2Dh5hqGGSs3/yVEJySPobm.bm\n",
      "2020-04-23 16:31:22 Hail: INFO: wrote matrix with 4000 rows and 4000 columns as 1 block of size 4096 to file:/tmp/hail.Y2Dh5hqGGSs3/Fo8DgvWvBT.bm\n",
      "2020-04-23 16:31:37 Hail: INFO: Ordering unsorted dataset with network shuffle\n",
      "2020-04-23 16:32:52 Hail: INFO: Coerced sorted dataset\n",
      "2020-04-23 16:33:46 Hail: INFO: wrote table with 7998000 rows in 1 partition to /tmp/tmpc3__rwiq/pc_relate_result\n"
     ]
    },
    {
     "name": "stdout",
     "output_type": "stream",
     "text": [
      "Deleting pc_relate results: /tmp/tmpc3__rwiq/pc_relate_result\n",
      "Deleting hail tmp dir: /tmp/hail.Y2Dh5hqGGSs3\n"
     ]
    },
    {
     "name": "stderr",
     "output_type": "stream",
     "text": [
      "2020-04-23 16:33:46 Hail: INFO: balding_nichols_model: generating genotypes for 10 populations, 4000 samples, and 6000 variants...\n",
      "2020-04-23 16:33:46 Hail: INFO: Coerced sorted dataset\n",
      "2020-04-23 16:33:52 Hail: INFO: wrote matrix table with 6000 rows and 4000 columns in 8 partitions to /home/rav/data/tmp/mt_4000_6000_10.mt\n",
      "2020-04-23 16:33:52 Hail: INFO: hwe_normalized_pca: running PCA using 6000 variants.\n",
      "2020-04-23 16:33:54 Hail: INFO: pca: running PCA with 10 components...\n"
     ]
    },
    {
     "name": "stdout",
     "output_type": "stream",
     "text": [
      "PCA took s:4000, v:6000, p:10 : 12.19 seconds\n"
     ]
    },
    {
     "name": "stderr",
     "output_type": "stream",
     "text": [
      "2020-04-23 16:34:10 Hail: INFO: Wrote all 2 blocks of 6000 x 4000 matrix with block size 4096.\n",
      "2020-04-23 16:34:11 Hail: INFO: wrote matrix with 11 rows and 6000 columns as 2 blocks of size 4096 to file:/tmp/hail.Y2Dh5hqGGSs3/UqjAk88aXA.bm\n",
      "2020-04-23 16:34:11 Hail: INFO: wrote matrix with 6000 rows and 4000 columns as 2 blocks of size 4096 to file:/tmp/hail.Y2Dh5hqGGSs3/yNyXX72I7Y.bm\n",
      "2020-04-23 16:34:12 Hail: INFO: wrote matrix with 6000 rows and 4000 columns as 2 blocks of size 4096 to file:/tmp/hail.Y2Dh5hqGGSs3/YlcJpLqdXw.bm\n",
      "2020-04-23 16:34:32 Hail: INFO: wrote matrix with 4000 rows and 4000 columns as 1 block of size 4096 to file:/tmp/hail.Y2Dh5hqGGSs3/UEHXJwHzFV.bm\n",
      "2020-04-23 16:34:51 Hail: INFO: wrote matrix with 4000 rows and 4000 columns as 1 block of size 4096 to file:/tmp/hail.Y2Dh5hqGGSs3/Mc4C3Zi34g.bm\n",
      "2020-04-23 16:34:52 Hail: INFO: wrote matrix with 4000 rows and 4000 columns as 1 block of size 4096 to file:/tmp/hail.Y2Dh5hqGGSs3/jiRfsPV61G.bm\n",
      "2020-04-23 16:35:14 Hail: INFO: wrote matrix with 4000 rows and 4000 columns as 1 block of size 4096 to file:/tmp/hail.Y2Dh5hqGGSs3/7h6nIAOrA6.bm\n",
      "2020-04-23 16:35:33 Hail: INFO: wrote matrix with 4000 rows and 4000 columns as 1 block of size 4096 to file:/tmp/hail.Y2Dh5hqGGSs3/Wjmtu2ECf9.bm\n",
      "2020-04-23 16:35:34 Hail: INFO: wrote matrix with 4000 rows and 4000 columns as 1 block of size 4096 to file:/tmp/hail.Y2Dh5hqGGSs3/8E1o3AEmGW.bm\n",
      "2020-04-23 16:35:55 Hail: INFO: wrote matrix with 4000 rows and 4000 columns as 1 block of size 4096 to file:/tmp/hail.Y2Dh5hqGGSs3/mmV2baPQkF.bm\n",
      "2020-04-23 16:36:16 Hail: INFO: wrote matrix with 4000 rows and 4000 columns as 1 block of size 4096 to file:/tmp/hail.Y2Dh5hqGGSs3/NAJwSalZCu.bm\n",
      "2020-04-23 16:36:17 Hail: INFO: wrote matrix with 4000 rows and 4000 columns as 1 block of size 4096 to file:/tmp/hail.Y2Dh5hqGGSs3/ajibsYX4wS.bm\n",
      "2020-04-23 16:36:32 Hail: INFO: Ordering unsorted dataset with network shuffle\n",
      "2020-04-23 16:37:47 Hail: INFO: Coerced sorted dataset\n",
      "2020-04-23 16:38:41 Hail: INFO: wrote table with 7998000 rows in 1 partition to /tmp/tmpgk0yf4vz/pc_relate_result\n"
     ]
    },
    {
     "name": "stdout",
     "output_type": "stream",
     "text": [
      "Deleting pc_relate results: /tmp/tmpgk0yf4vz/pc_relate_result\n",
      "Deleting hail tmp dir: /tmp/hail.Y2Dh5hqGGSs3\n"
     ]
    },
    {
     "name": "stderr",
     "output_type": "stream",
     "text": [
      "2020-04-23 16:38:42 Hail: INFO: balding_nichols_model: generating genotypes for 10 populations, 4000 samples, and 7000 variants...\n",
      "2020-04-23 16:38:42 Hail: INFO: Coerced sorted dataset\n",
      "2020-04-23 16:38:48 Hail: INFO: wrote matrix table with 7000 rows and 4000 columns in 8 partitions to /home/rav/data/tmp/mt_4000_7000_10.mt\n",
      "2020-04-23 16:38:48 Hail: INFO: hwe_normalized_pca: running PCA using 7000 variants.\n",
      "2020-04-23 16:38:50 Hail: INFO: pca: running PCA with 10 components...\n"
     ]
    },
    {
     "name": "stdout",
     "output_type": "stream",
     "text": [
      "PCA took s:4000, v:7000, p:10 : 16.51 seconds\n"
     ]
    },
    {
     "name": "stderr",
     "output_type": "stream",
     "text": [
      "2020-04-23 16:39:10 Hail: INFO: Wrote all 2 blocks of 7000 x 4000 matrix with block size 4096.\n",
      "2020-04-23 16:39:11 Hail: INFO: wrote matrix with 11 rows and 7000 columns as 2 blocks of size 4096 to file:/tmp/hail.Y2Dh5hqGGSs3/yTZhgmqI3t.bm\n",
      "2020-04-23 16:39:12 Hail: INFO: wrote matrix with 7000 rows and 4000 columns as 2 blocks of size 4096 to file:/tmp/hail.Y2Dh5hqGGSs3/rBLHHwXASN.bm\n",
      "2020-04-23 16:39:12 Hail: INFO: wrote matrix with 7000 rows and 4000 columns as 2 blocks of size 4096 to file:/tmp/hail.Y2Dh5hqGGSs3/C9NRvQBL0M.bm\n",
      "2020-04-23 16:39:36 Hail: INFO: wrote matrix with 4000 rows and 4000 columns as 1 block of size 4096 to file:/tmp/hail.Y2Dh5hqGGSs3/Z5KJKnSsK8.bm\n",
      "2020-04-23 16:39:58 Hail: INFO: wrote matrix with 4000 rows and 4000 columns as 1 block of size 4096 to file:/tmp/hail.Y2Dh5hqGGSs3/pAIVT34tgA.bm\n",
      "2020-04-23 16:39:59 Hail: INFO: wrote matrix with 4000 rows and 4000 columns as 1 block of size 4096 to file:/tmp/hail.Y2Dh5hqGGSs3/pjBoHwK8C2.bm\n",
      "2020-04-23 16:40:25 Hail: INFO: wrote matrix with 4000 rows and 4000 columns as 1 block of size 4096 to file:/tmp/hail.Y2Dh5hqGGSs3/2qNCDvzkMI.bm\n",
      "2020-04-23 16:40:47 Hail: INFO: wrote matrix with 4000 rows and 4000 columns as 1 block of size 4096 to file:/tmp/hail.Y2Dh5hqGGSs3/MSaaxZr0Rh.bm\n",
      "2020-04-23 16:40:48 Hail: INFO: wrote matrix with 4000 rows and 4000 columns as 1 block of size 4096 to file:/tmp/hail.Y2Dh5hqGGSs3/pN6IsSWCiZ.bm\n",
      "2020-04-23 16:41:12 Hail: INFO: wrote matrix with 4000 rows and 4000 columns as 1 block of size 4096 to file:/tmp/hail.Y2Dh5hqGGSs3/PjNeimK5c6.bm\n",
      "2020-04-23 16:41:36 Hail: INFO: wrote matrix with 4000 rows and 4000 columns as 1 block of size 4096 to file:/tmp/hail.Y2Dh5hqGGSs3/iWpRYTfjbJ.bm\n",
      "2020-04-23 16:41:38 Hail: INFO: wrote matrix with 4000 rows and 4000 columns as 1 block of size 4096 to file:/tmp/hail.Y2Dh5hqGGSs3/dHGJLpOrCx.bm\n",
      "2020-04-23 16:41:53 Hail: INFO: Ordering unsorted dataset with network shuffle\n",
      "2020-04-23 16:43:10 Hail: INFO: Coerced sorted dataset\n",
      "2020-04-23 16:44:04 Hail: INFO: wrote table with 7998000 rows in 1 partition to /tmp/tmp4llnjb1j/pc_relate_result\n"
     ]
    },
    {
     "name": "stdout",
     "output_type": "stream",
     "text": [
      "Deleting pc_relate results: /tmp/tmp4llnjb1j/pc_relate_result\n",
      "Deleting hail tmp dir: /tmp/hail.Y2Dh5hqGGSs3\n"
     ]
    },
    {
     "name": "stderr",
     "output_type": "stream",
     "text": [
      "2020-04-23 16:44:04 Hail: INFO: balding_nichols_model: generating genotypes for 10 populations, 4000 samples, and 8000 variants...\n",
      "2020-04-23 16:44:05 Hail: INFO: Coerced sorted dataset\n",
      "2020-04-23 16:44:11 Hail: INFO: wrote matrix table with 8000 rows and 4000 columns in 8 partitions to /home/rav/data/tmp/mt_4000_8000_10.mt\n",
      "2020-04-23 16:44:11 Hail: INFO: hwe_normalized_pca: running PCA using 8000 variants.\n",
      "2020-04-23 16:44:14 Hail: INFO: pca: running PCA with 10 components...\n"
     ]
    },
    {
     "name": "stdout",
     "output_type": "stream",
     "text": [
      "PCA took s:4000, v:8000, p:10 : 13.22 seconds\n"
     ]
    },
    {
     "name": "stderr",
     "output_type": "stream",
     "text": [
      "2020-04-23 16:44:30 Hail: INFO: Wrote all 2 blocks of 8000 x 4000 matrix with block size 4096.\n",
      "2020-04-23 16:44:31 Hail: INFO: wrote matrix with 11 rows and 8000 columns as 2 blocks of size 4096 to file:/tmp/hail.Y2Dh5hqGGSs3/uGShnW9TEh.bm\n",
      "2020-04-23 16:44:32 Hail: INFO: wrote matrix with 8000 rows and 4000 columns as 2 blocks of size 4096 to file:/tmp/hail.Y2Dh5hqGGSs3/QXQUekbW4l.bm\n",
      "2020-04-23 16:44:33 Hail: INFO: wrote matrix with 8000 rows and 4000 columns as 2 blocks of size 4096 to file:/tmp/hail.Y2Dh5hqGGSs3/4cyDxOqjaS.bm\n",
      "2020-04-23 16:44:59 Hail: INFO: wrote matrix with 4000 rows and 4000 columns as 1 block of size 4096 to file:/tmp/hail.Y2Dh5hqGGSs3/Cx64J39tM6.bm\n",
      "2020-04-23 16:45:25 Hail: INFO: wrote matrix with 4000 rows and 4000 columns as 1 block of size 4096 to file:/tmp/hail.Y2Dh5hqGGSs3/JTeCJLypgi.bm\n",
      "2020-04-23 16:45:26 Hail: INFO: wrote matrix with 4000 rows and 4000 columns as 1 block of size 4096 to file:/tmp/hail.Y2Dh5hqGGSs3/kyfKsTOSOB.bm\n",
      "2020-04-23 16:45:55 Hail: INFO: wrote matrix with 4000 rows and 4000 columns as 1 block of size 4096 to file:/tmp/hail.Y2Dh5hqGGSs3/Uzk5TSfPLs.bm\n",
      "2020-04-23 16:46:21 Hail: INFO: wrote matrix with 4000 rows and 4000 columns as 1 block of size 4096 to file:/tmp/hail.Y2Dh5hqGGSs3/oeFXdqIE9P.bm\n",
      "2020-04-23 16:46:21 Hail: INFO: wrote matrix with 4000 rows and 4000 columns as 1 block of size 4096 to file:/tmp/hail.Y2Dh5hqGGSs3/kK8iVQdvwI.bm\n",
      "2020-04-23 16:46:49 Hail: INFO: wrote matrix with 4000 rows and 4000 columns as 1 block of size 4096 to file:/tmp/hail.Y2Dh5hqGGSs3/PIVo6jQEI9.bm\n",
      "2020-04-23 16:47:17 Hail: INFO: wrote matrix with 4000 rows and 4000 columns as 1 block of size 4096 to file:/tmp/hail.Y2Dh5hqGGSs3/v4zl9FUfGM.bm\n",
      "2020-04-23 16:47:18 Hail: INFO: wrote matrix with 4000 rows and 4000 columns as 1 block of size 4096 to file:/tmp/hail.Y2Dh5hqGGSs3/DhUVe0XvJG.bm\n",
      "2020-04-23 16:47:33 Hail: INFO: Ordering unsorted dataset with network shuffle\n",
      "2020-04-23 16:48:50 Hail: INFO: Coerced sorted dataset\n",
      "2020-04-23 16:49:45 Hail: INFO: wrote table with 7998000 rows in 1 partition to /tmp/tmpfdyzlybj/pc_relate_result\n"
     ]
    },
    {
     "name": "stdout",
     "output_type": "stream",
     "text": [
      "Deleting pc_relate results: /tmp/tmpfdyzlybj/pc_relate_result\n",
      "Deleting hail tmp dir: /tmp/hail.Y2Dh5hqGGSs3\n"
     ]
    },
    {
     "name": "stderr",
     "output_type": "stream",
     "text": [
      "2020-04-23 16:49:45 Hail: INFO: balding_nichols_model: generating genotypes for 10 populations, 4000 samples, and 9000 variants...\n",
      "2020-04-23 16:49:45 Hail: INFO: Coerced sorted dataset\n",
      "2020-04-23 16:49:52 Hail: INFO: wrote matrix table with 9000 rows and 4000 columns in 8 partitions to /home/rav/data/tmp/mt_4000_9000_10.mt\n",
      "2020-04-23 16:49:53 Hail: INFO: hwe_normalized_pca: running PCA using 9000 variants.\n",
      "2020-04-23 16:49:55 Hail: INFO: pca: running PCA with 10 components...\n"
     ]
    },
    {
     "name": "stdout",
     "output_type": "stream",
     "text": [
      "PCA took s:4000, v:9000, p:10 : 16.07 seconds\n"
     ]
    },
    {
     "name": "stderr",
     "output_type": "stream",
     "text": [
      "2020-04-23 16:50:15 Hail: INFO: Wrote all 3 blocks of 9000 x 4000 matrix with block size 4096.\n",
      "2020-04-23 16:50:16 Hail: INFO: wrote matrix with 11 rows and 9000 columns as 3 blocks of size 4096 to file:/tmp/hail.Y2Dh5hqGGSs3/3SQdKrkSgg.bm\n",
      "2020-04-23 16:50:16 Hail: INFO: wrote matrix with 9000 rows and 4000 columns as 3 blocks of size 4096 to file:/tmp/hail.Y2Dh5hqGGSs3/D2qI8gQKoM.bm\n",
      "2020-04-23 16:50:17 Hail: INFO: wrote matrix with 9000 rows and 4000 columns as 3 blocks of size 4096 to file:/tmp/hail.Y2Dh5hqGGSs3/Tj6XpmyFTv.bm\n",
      "2020-04-23 16:50:47 Hail: INFO: wrote matrix with 4000 rows and 4000 columns as 1 block of size 4096 to file:/tmp/hail.Y2Dh5hqGGSs3/YPLJeUxPfU.bm\n",
      "2020-04-23 16:51:16 Hail: INFO: wrote matrix with 4000 rows and 4000 columns as 1 block of size 4096 to file:/tmp/hail.Y2Dh5hqGGSs3/XOhFicztdO.bm\n",
      "2020-04-23 16:51:16 Hail: INFO: wrote matrix with 4000 rows and 4000 columns as 1 block of size 4096 to file:/tmp/hail.Y2Dh5hqGGSs3/iUYclpnJBC.bm\n",
      "2020-04-23 16:51:50 Hail: INFO: wrote matrix with 4000 rows and 4000 columns as 1 block of size 4096 to file:/tmp/hail.Y2Dh5hqGGSs3/4XTtKBuCoN.bm\n",
      "2020-04-23 16:52:19 Hail: INFO: wrote matrix with 4000 rows and 4000 columns as 1 block of size 4096 to file:/tmp/hail.Y2Dh5hqGGSs3/NDn0Qq1Loj.bm\n",
      "2020-04-23 16:52:20 Hail: INFO: wrote matrix with 4000 rows and 4000 columns as 1 block of size 4096 to file:/tmp/hail.Y2Dh5hqGGSs3/lzwdQcjHJ4.bm\n",
      "2020-04-23 16:52:51 Hail: INFO: wrote matrix with 4000 rows and 4000 columns as 1 block of size 4096 to file:/tmp/hail.Y2Dh5hqGGSs3/2PznSCC6D7.bm\n",
      "2020-04-23 16:53:22 Hail: INFO: wrote matrix with 4000 rows and 4000 columns as 1 block of size 4096 to file:/tmp/hail.Y2Dh5hqGGSs3/B5cN700Y1g.bm\n",
      "2020-04-23 16:53:24 Hail: INFO: wrote matrix with 4000 rows and 4000 columns as 1 block of size 4096 to file:/tmp/hail.Y2Dh5hqGGSs3/mCszCgOOti.bm\n",
      "2020-04-23 16:53:48 Hail: INFO: Ordering unsorted dataset with network shuffle\n",
      "2020-04-23 16:55:11 Hail: INFO: Coerced sorted dataset\n",
      "2020-04-23 16:56:06 Hail: INFO: wrote table with 7998000 rows in 1 partition to /tmp/tmpuf433b7v/pc_relate_result\n"
     ]
    },
    {
     "name": "stdout",
     "output_type": "stream",
     "text": [
      "Deleting pc_relate results: /tmp/tmpuf433b7v/pc_relate_result\n",
      "Deleting hail tmp dir: /tmp/hail.Y2Dh5hqGGSs3\n"
     ]
    },
    {
     "name": "stderr",
     "output_type": "stream",
     "text": [
      "2020-04-23 16:56:06 Hail: INFO: balding_nichols_model: generating genotypes for 10 populations, 4000 samples, and 10000 variants...\n",
      "2020-04-23 16:56:06 Hail: INFO: Coerced sorted dataset\n",
      "2020-04-23 16:56:14 Hail: INFO: wrote matrix table with 10000 rows and 4000 columns in 8 partitions to /home/rav/data/tmp/mt_4000_10000_10.mt\n",
      "2020-04-23 16:56:14 Hail: INFO: hwe_normalized_pca: running PCA using 10000 variants.\n",
      "2020-04-23 16:56:17 Hail: INFO: pca: running PCA with 10 components...\n"
     ]
    },
    {
     "name": "stdout",
     "output_type": "stream",
     "text": [
      "PCA took s:4000, v:10000, p:10 : 17.30 seconds\n"
     ]
    },
    {
     "name": "stderr",
     "output_type": "stream",
     "text": [
      "2020-04-23 16:56:38 Hail: INFO: Wrote all 3 blocks of 10000 x 4000 matrix with block size 4096.\n",
      "2020-04-23 16:56:39 Hail: INFO: wrote matrix with 11 rows and 10000 columns as 3 blocks of size 4096 to file:/tmp/hail.Y2Dh5hqGGSs3/HEY8VEbYf4.bm\n",
      "2020-04-23 16:56:39 Hail: INFO: wrote matrix with 10000 rows and 4000 columns as 3 blocks of size 4096 to file:/tmp/hail.Y2Dh5hqGGSs3/TWDPNgmioo.bm\n",
      "2020-04-23 16:56:40 Hail: INFO: wrote matrix with 10000 rows and 4000 columns as 3 blocks of size 4096 to file:/tmp/hail.Y2Dh5hqGGSs3/WkcYVdmN9D.bm\n",
      "2020-04-23 16:57:13 Hail: INFO: wrote matrix with 4000 rows and 4000 columns as 1 block of size 4096 to file:/tmp/hail.Y2Dh5hqGGSs3/skvv1X2RF6.bm\n",
      "2020-04-23 16:57:45 Hail: INFO: wrote matrix with 4000 rows and 4000 columns as 1 block of size 4096 to file:/tmp/hail.Y2Dh5hqGGSs3/N8HEtQDxmV.bm\n",
      "2020-04-23 16:57:46 Hail: INFO: wrote matrix with 4000 rows and 4000 columns as 1 block of size 4096 to file:/tmp/hail.Y2Dh5hqGGSs3/YNFYDLiVEE.bm\n",
      "2020-04-23 16:58:23 Hail: INFO: wrote matrix with 4000 rows and 4000 columns as 1 block of size 4096 to file:/tmp/hail.Y2Dh5hqGGSs3/mg80EoyCU2.bm\n",
      "2020-04-23 16:58:55 Hail: INFO: wrote matrix with 4000 rows and 4000 columns as 1 block of size 4096 to file:/tmp/hail.Y2Dh5hqGGSs3/Akir8bJQ0i.bm\n",
      "2020-04-23 16:58:55 Hail: INFO: wrote matrix with 4000 rows and 4000 columns as 1 block of size 4096 to file:/tmp/hail.Y2Dh5hqGGSs3/AI2UpZb3f4.bm\n",
      "2020-04-23 16:59:30 Hail: INFO: wrote matrix with 4000 rows and 4000 columns as 1 block of size 4096 to file:/tmp/hail.Y2Dh5hqGGSs3/j4ttN2gRJG.bm\n",
      "2020-04-23 17:00:05 Hail: INFO: wrote matrix with 4000 rows and 4000 columns as 1 block of size 4096 to file:/tmp/hail.Y2Dh5hqGGSs3/krRxKk5DCA.bm\n",
      "2020-04-23 17:00:07 Hail: INFO: wrote matrix with 4000 rows and 4000 columns as 1 block of size 4096 to file:/tmp/hail.Y2Dh5hqGGSs3/OlOpaiZN2g.bm\n",
      "2020-04-23 17:00:22 Hail: INFO: Ordering unsorted dataset with network shuffle\n",
      "2020-04-23 17:01:41 Hail: INFO: Coerced sorted dataset\n",
      "2020-04-23 17:02:35 Hail: INFO: wrote table with 7998000 rows in 1 partition to /tmp/tmpa89m8exk/pc_relate_result\n"
     ]
    },
    {
     "name": "stdout",
     "output_type": "stream",
     "text": [
      "Deleting pc_relate results: /tmp/tmpa89m8exk/pc_relate_result\n",
      "Deleting hail tmp dir: /tmp/hail.Y2Dh5hqGGSs3\n"
     ]
    },
    {
     "name": "stderr",
     "output_type": "stream",
     "text": [
      "2020-04-23 17:02:36 Hail: INFO: balding_nichols_model: generating genotypes for 10 populations, 5000 samples, and 1000 variants...\n",
      "2020-04-23 17:02:36 Hail: INFO: Coerced sorted dataset\n",
      "2020-04-23 17:02:39 Hail: INFO: wrote matrix table with 1000 rows and 5000 columns in 8 partitions to /home/rav/data/tmp/mt_5000_1000_10.mt\n",
      "2020-04-23 17:02:39 Hail: INFO: hwe_normalized_pca: running PCA using 1000 variants.\n",
      "2020-04-23 17:02:41 Hail: INFO: pca: running PCA with 10 components...\n"
     ]
    },
    {
     "name": "stdout",
     "output_type": "stream",
     "text": [
      "PCA took s:5000, v:1000, p:10 : 7.45 seconds\n"
     ]
    },
    {
     "name": "stderr",
     "output_type": "stream",
     "text": [
      "2020-04-23 17:02:50 Hail: INFO: Wrote all 2 blocks of 1000 x 5000 matrix with block size 4096.\n",
      "2020-04-23 17:02:51 Hail: INFO: wrote matrix with 11 rows and 1000 columns as 1 block of size 4096 to file:/tmp/hail.Y2Dh5hqGGSs3/0G50ws5HI1.bm\n",
      "2020-04-23 17:02:51 Hail: INFO: wrote matrix with 1000 rows and 5000 columns as 2 blocks of size 4096 to file:/tmp/hail.Y2Dh5hqGGSs3/9CIHCQMw4G.bm\n",
      "2020-04-23 17:02:52 Hail: INFO: wrote matrix with 1000 rows and 5000 columns as 2 blocks of size 4096 to file:/tmp/hail.Y2Dh5hqGGSs3/oa4a80qPjK.bm\n",
      "2020-04-23 17:02:55 Hail: INFO: wrote matrix with 5000 rows and 5000 columns as 4 blocks of size 4096 to file:/tmp/hail.Y2Dh5hqGGSs3/B0ynbl77hx.bm\n",
      "2020-04-23 17:02:59 Hail: INFO: wrote matrix with 5000 rows and 5000 columns as 4 blocks of size 4096 to file:/tmp/hail.Y2Dh5hqGGSs3/iWnuaqaJdY.bm\n",
      "2020-04-23 17:02:59 Hail: INFO: wrote matrix with 5000 rows and 5000 columns as 4 blocks of size 4096 to file:/tmp/hail.Y2Dh5hqGGSs3/19Gwi1F4LC.bm\n",
      "2020-04-23 17:03:04 Hail: INFO: wrote matrix with 5000 rows and 5000 columns as 4 blocks of size 4096 to file:/tmp/hail.Y2Dh5hqGGSs3/4AEZds3P3G.bm\n",
      "2020-04-23 17:03:07 Hail: INFO: wrote matrix with 5000 rows and 5000 columns as 4 blocks of size 4096 to file:/tmp/hail.Y2Dh5hqGGSs3/DxtqYSOWy8.bm\n",
      "2020-04-23 17:03:08 Hail: INFO: wrote matrix with 5000 rows and 5000 columns as 4 blocks of size 4096 to file:/tmp/hail.Y2Dh5hqGGSs3/Cad8IlhFjB.bm\n",
      "2020-04-23 17:03:12 Hail: INFO: wrote matrix with 5000 rows and 5000 columns as 4 blocks of size 4096 to file:/tmp/hail.Y2Dh5hqGGSs3/gvyumycLUo.bm\n",
      "2020-04-23 17:03:16 Hail: INFO: wrote matrix with 5000 rows and 5000 columns as 4 blocks of size 4096 to file:/tmp/hail.Y2Dh5hqGGSs3/wVnOhg6U1x.bm\n",
      "2020-04-23 17:03:18 Hail: INFO: wrote matrix with 5000 rows and 5000 columns as 4 blocks of size 4096 to file:/tmp/hail.Y2Dh5hqGGSs3/2Uun8HqwEK.bm\n",
      "2020-04-23 17:03:33 Hail: INFO: Ordering unsorted dataset with network shuffle\n",
      "2020-04-23 17:04:51 Hail: INFO: Coerced sorted dataset\n",
      "2020-04-23 17:05:29 Hail: INFO: wrote table with 12497500 rows in 4 partitions to /tmp/tmp7hnij8nq/pc_relate_result\n"
     ]
    },
    {
     "name": "stdout",
     "output_type": "stream",
     "text": [
      "Deleting pc_relate results: /tmp/tmp7hnij8nq/pc_relate_result\n",
      "Deleting hail tmp dir: /tmp/hail.Y2Dh5hqGGSs3\n"
     ]
    },
    {
     "name": "stderr",
     "output_type": "stream",
     "text": [
      "2020-04-23 17:05:30 Hail: INFO: balding_nichols_model: generating genotypes for 10 populations, 5000 samples, and 2000 variants...\n",
      "2020-04-23 17:05:30 Hail: INFO: Coerced sorted dataset\n",
      "2020-04-23 17:05:33 Hail: INFO: wrote matrix table with 2000 rows and 5000 columns in 8 partitions to /home/rav/data/tmp/mt_5000_2000_10.mt\n",
      "2020-04-23 17:05:34 Hail: INFO: hwe_normalized_pca: running PCA using 2000 variants.\n",
      "2020-04-23 17:05:36 Hail: INFO: pca: running PCA with 10 components...\n"
     ]
    },
    {
     "name": "stdout",
     "output_type": "stream",
     "text": [
      "PCA took s:5000, v:2000, p:10 : 9.25 seconds\n"
     ]
    },
    {
     "name": "stderr",
     "output_type": "stream",
     "text": [
      "2020-04-23 17:05:47 Hail: INFO: Wrote all 2 blocks of 2000 x 5000 matrix with block size 4096.\n",
      "2020-04-23 17:05:48 Hail: INFO: wrote matrix with 11 rows and 2000 columns as 1 block of size 4096 to file:/tmp/hail.Y2Dh5hqGGSs3/7b68evC5un.bm\n",
      "2020-04-23 17:05:49 Hail: INFO: wrote matrix with 2000 rows and 5000 columns as 2 blocks of size 4096 to file:/tmp/hail.Y2Dh5hqGGSs3/euCzNegEpv.bm\n",
      "2020-04-23 17:05:49 Hail: INFO: wrote matrix with 2000 rows and 5000 columns as 2 blocks of size 4096 to file:/tmp/hail.Y2Dh5hqGGSs3/JzgMf0icMG.bm\n",
      "2020-04-23 17:05:56 Hail: INFO: wrote matrix with 5000 rows and 5000 columns as 4 blocks of size 4096 to file:/tmp/hail.Y2Dh5hqGGSs3/PSF7UYsBQv.bm\n",
      "2020-04-23 17:06:03 Hail: INFO: wrote matrix with 5000 rows and 5000 columns as 4 blocks of size 4096 to file:/tmp/hail.Y2Dh5hqGGSs3/h17Qo41Ko3.bm\n",
      "2020-04-23 17:06:04 Hail: INFO: wrote matrix with 5000 rows and 5000 columns as 4 blocks of size 4096 to file:/tmp/hail.Y2Dh5hqGGSs3/x4DEDWh35s.bm\n",
      "2020-04-23 17:06:12 Hail: INFO: wrote matrix with 5000 rows and 5000 columns as 4 blocks of size 4096 to file:/tmp/hail.Y2Dh5hqGGSs3/IxNJ5PhPkX.bm\n",
      "2020-04-23 17:06:19 Hail: INFO: wrote matrix with 5000 rows and 5000 columns as 4 blocks of size 4096 to file:/tmp/hail.Y2Dh5hqGGSs3/VNWe0kTGni.bm\n",
      "2020-04-23 17:06:20 Hail: INFO: wrote matrix with 5000 rows and 5000 columns as 4 blocks of size 4096 to file:/tmp/hail.Y2Dh5hqGGSs3/YiG74MDjsP.bm\n",
      "2020-04-23 17:06:28 Hail: INFO: wrote matrix with 5000 rows and 5000 columns as 4 blocks of size 4096 to file:/tmp/hail.Y2Dh5hqGGSs3/ojFBRB2NJn.bm\n",
      "2020-04-23 17:06:35 Hail: INFO: wrote matrix with 5000 rows and 5000 columns as 4 blocks of size 4096 to file:/tmp/hail.Y2Dh5hqGGSs3/mZFCjccuPY.bm\n",
      "2020-04-23 17:06:37 Hail: INFO: wrote matrix with 5000 rows and 5000 columns as 4 blocks of size 4096 to file:/tmp/hail.Y2Dh5hqGGSs3/lGkpJ2Dymj.bm\n",
      "2020-04-23 17:06:53 Hail: INFO: Ordering unsorted dataset with network shuffle\n",
      "2020-04-23 17:08:00 Hail: INFO: Coerced sorted dataset\n",
      "2020-04-23 17:08:40 Hail: INFO: wrote table with 12497500 rows in 4 partitions to /tmp/tmpc78tsh4j/pc_relate_result\n"
     ]
    },
    {
     "name": "stdout",
     "output_type": "stream",
     "text": [
      "Deleting pc_relate results: /tmp/tmpc78tsh4j/pc_relate_result\n",
      "Deleting hail tmp dir: /tmp/hail.Y2Dh5hqGGSs3\n"
     ]
    },
    {
     "name": "stderr",
     "output_type": "stream",
     "text": [
      "2020-04-23 17:08:40 Hail: INFO: balding_nichols_model: generating genotypes for 10 populations, 5000 samples, and 3000 variants...\n",
      "2020-04-23 17:08:40 Hail: INFO: Coerced sorted dataset\n",
      "2020-04-23 17:08:44 Hail: INFO: wrote matrix table with 3000 rows and 5000 columns in 8 partitions to /home/rav/data/tmp/mt_5000_3000_10.mt\n",
      "2020-04-23 17:08:45 Hail: INFO: hwe_normalized_pca: running PCA using 3000 variants.\n",
      "2020-04-23 17:08:47 Hail: INFO: pca: running PCA with 10 components...\n"
     ]
    },
    {
     "name": "stdout",
     "output_type": "stream",
     "text": [
      "PCA took s:5000, v:3000, p:10 : 10.66 seconds\n"
     ]
    },
    {
     "name": "stderr",
     "output_type": "stream",
     "text": [
      "2020-04-23 17:09:00 Hail: INFO: Wrote all 2 blocks of 3000 x 5000 matrix with block size 4096.\n",
      "2020-04-23 17:09:02 Hail: INFO: wrote matrix with 11 rows and 3000 columns as 1 block of size 4096 to file:/tmp/hail.Y2Dh5hqGGSs3/ofJyQk5EBq.bm\n",
      "2020-04-23 17:09:02 Hail: INFO: wrote matrix with 3000 rows and 5000 columns as 2 blocks of size 4096 to file:/tmp/hail.Y2Dh5hqGGSs3/TvEryJBoSo.bm\n",
      "2020-04-23 17:09:02 Hail: INFO: wrote matrix with 3000 rows and 5000 columns as 2 blocks of size 4096 to file:/tmp/hail.Y2Dh5hqGGSs3/xFlvCuzKyJ.bm\n",
      "2020-04-23 17:09:13 Hail: INFO: wrote matrix with 5000 rows and 5000 columns as 4 blocks of size 4096 to file:/tmp/hail.Y2Dh5hqGGSs3/p8zds1WoT8.bm\n",
      "2020-04-23 17:09:24 Hail: INFO: wrote matrix with 5000 rows and 5000 columns as 4 blocks of size 4096 to file:/tmp/hail.Y2Dh5hqGGSs3/4A75Jf5264.bm\n",
      "2020-04-23 17:09:24 Hail: INFO: wrote matrix with 5000 rows and 5000 columns as 4 blocks of size 4096 to file:/tmp/hail.Y2Dh5hqGGSs3/9H8z5qUIE9.bm\n",
      "2020-04-23 17:09:37 Hail: INFO: wrote matrix with 5000 rows and 5000 columns as 4 blocks of size 4096 to file:/tmp/hail.Y2Dh5hqGGSs3/sbTQslphyb.bm\n",
      "2020-04-23 17:09:47 Hail: INFO: wrote matrix with 5000 rows and 5000 columns as 4 blocks of size 4096 to file:/tmp/hail.Y2Dh5hqGGSs3/EDHfiLcp1I.bm\n",
      "2020-04-23 17:09:48 Hail: INFO: wrote matrix with 5000 rows and 5000 columns as 4 blocks of size 4096 to file:/tmp/hail.Y2Dh5hqGGSs3/qJGuCutd6g.bm\n",
      "2020-04-23 17:09:59 Hail: INFO: wrote matrix with 5000 rows and 5000 columns as 4 blocks of size 4096 to file:/tmp/hail.Y2Dh5hqGGSs3/i3JtEToGCB.bm\n",
      "2020-04-23 17:10:10 Hail: INFO: wrote matrix with 5000 rows and 5000 columns as 4 blocks of size 4096 to file:/tmp/hail.Y2Dh5hqGGSs3/A3A8eS0cAI.bm\n",
      "2020-04-23 17:10:12 Hail: INFO: wrote matrix with 5000 rows and 5000 columns as 4 blocks of size 4096 to file:/tmp/hail.Y2Dh5hqGGSs3/4eq7LWIXzu.bm\n",
      "2020-04-23 17:10:28 Hail: INFO: Ordering unsorted dataset with network shuffle\n",
      "2020-04-23 17:11:36 Hail: INFO: Coerced sorted dataset\n",
      "2020-04-23 17:12:14 Hail: INFO: wrote table with 12497500 rows in 4 partitions to /tmp/tmpq_tio8h5/pc_relate_result\n"
     ]
    },
    {
     "name": "stdout",
     "output_type": "stream",
     "text": [
      "Deleting pc_relate results: /tmp/tmpq_tio8h5/pc_relate_result\n",
      "Deleting hail tmp dir: /tmp/hail.Y2Dh5hqGGSs3\n"
     ]
    },
    {
     "name": "stderr",
     "output_type": "stream",
     "text": [
      "2020-04-23 17:12:15 Hail: INFO: balding_nichols_model: generating genotypes for 10 populations, 5000 samples, and 4000 variants...\n",
      "2020-04-23 17:12:16 Hail: INFO: Coerced sorted dataset\n",
      "2020-04-23 17:12:21 Hail: INFO: wrote matrix table with 4000 rows and 5000 columns in 8 partitions to /home/rav/data/tmp/mt_5000_4000_10.mt\n",
      "2020-04-23 17:12:21 Hail: INFO: hwe_normalized_pca: running PCA using 4000 variants.\n",
      "2020-04-23 17:12:23 Hail: INFO: pca: running PCA with 10 components...\n"
     ]
    },
    {
     "name": "stdout",
     "output_type": "stream",
     "text": [
      "PCA took s:5000, v:4000, p:10 : 11.62 seconds\n"
     ]
    },
    {
     "name": "stderr",
     "output_type": "stream",
     "text": [
      "2020-04-23 17:12:38 Hail: INFO: Wrote all 2 blocks of 4000 x 5000 matrix with block size 4096.\n",
      "2020-04-23 17:12:40 Hail: INFO: wrote matrix with 11 rows and 4000 columns as 1 block of size 4096 to file:/tmp/hail.Y2Dh5hqGGSs3/ZDTJW8iaAp.bm\n",
      "2020-04-23 17:12:40 Hail: INFO: wrote matrix with 4000 rows and 5000 columns as 2 blocks of size 4096 to file:/tmp/hail.Y2Dh5hqGGSs3/FS5O9s8CiK.bm\n",
      "2020-04-23 17:12:41 Hail: INFO: wrote matrix with 4000 rows and 5000 columns as 2 blocks of size 4096 to file:/tmp/hail.Y2Dh5hqGGSs3/sRVu6rW4Xr.bm\n",
      "2020-04-23 17:12:55 Hail: INFO: wrote matrix with 5000 rows and 5000 columns as 4 blocks of size 4096 to file:/tmp/hail.Y2Dh5hqGGSs3/Fr0YT48C2Z.bm\n",
      "2020-04-23 17:13:09 Hail: INFO: wrote matrix with 5000 rows and 5000 columns as 4 blocks of size 4096 to file:/tmp/hail.Y2Dh5hqGGSs3/f9qlP1rUJ1.bm\n",
      "2020-04-23 17:13:09 Hail: INFO: wrote matrix with 5000 rows and 5000 columns as 4 blocks of size 4096 to file:/tmp/hail.Y2Dh5hqGGSs3/JAslZBjPrd.bm\n",
      "2020-04-23 17:13:26 Hail: INFO: wrote matrix with 5000 rows and 5000 columns as 4 blocks of size 4096 to file:/tmp/hail.Y2Dh5hqGGSs3/6gPUJN9UlS.bm\n",
      "2020-04-23 17:13:40 Hail: INFO: wrote matrix with 5000 rows and 5000 columns as 4 blocks of size 4096 to file:/tmp/hail.Y2Dh5hqGGSs3/GJZkZRv3Mk.bm\n",
      "2020-04-23 17:13:41 Hail: INFO: wrote matrix with 5000 rows and 5000 columns as 4 blocks of size 4096 to file:/tmp/hail.Y2Dh5hqGGSs3/0oWmjcnncJ.bm\n",
      "2020-04-23 17:13:56 Hail: INFO: wrote matrix with 5000 rows and 5000 columns as 4 blocks of size 4096 to file:/tmp/hail.Y2Dh5hqGGSs3/t8vIyFK3w8.bm\n",
      "2020-04-23 17:14:10 Hail: INFO: wrote matrix with 5000 rows and 5000 columns as 4 blocks of size 4096 to file:/tmp/hail.Y2Dh5hqGGSs3/wPkuQPbuSQ.bm\n",
      "2020-04-23 17:14:12 Hail: INFO: wrote matrix with 5000 rows and 5000 columns as 4 blocks of size 4096 to file:/tmp/hail.Y2Dh5hqGGSs3/XZDLpbaevD.bm\n",
      "2020-04-23 17:14:28 Hail: INFO: Ordering unsorted dataset with network shuffle\n",
      "2020-04-23 17:15:36 Hail: INFO: Coerced sorted dataset\n",
      "2020-04-23 17:16:15 Hail: INFO: wrote table with 12497500 rows in 4 partitions to /tmp/tmpumzr_0kz/pc_relate_result\n"
     ]
    },
    {
     "name": "stdout",
     "output_type": "stream",
     "text": [
      "Deleting pc_relate results: /tmp/tmpumzr_0kz/pc_relate_result\n",
      "Deleting hail tmp dir: /tmp/hail.Y2Dh5hqGGSs3\n"
     ]
    },
    {
     "name": "stderr",
     "output_type": "stream",
     "text": [
      "2020-04-23 17:16:16 Hail: INFO: hwe_normalized_pca: running PCA using 5000 variants.\n",
      "2020-04-23 17:16:18 Hail: INFO: pca: running PCA with 10 components...\n"
     ]
    },
    {
     "name": "stdout",
     "output_type": "stream",
     "text": [
      "PCA took s:5000, v:5000, p:10 : 13.76 seconds\n"
     ]
    },
    {
     "name": "stderr",
     "output_type": "stream",
     "text": [
      "2020-04-23 17:16:36 Hail: INFO: Wrote all 4 blocks of 5000 x 5000 matrix with block size 4096.\n",
      "2020-04-23 17:16:37 Hail: INFO: wrote matrix with 11 rows and 5000 columns as 2 blocks of size 4096 to file:/tmp/hail.Y2Dh5hqGGSs3/ItKdXmcbtP.bm\n",
      "2020-04-23 17:16:37 Hail: INFO: wrote matrix with 5000 rows and 5000 columns as 4 blocks of size 4096 to file:/tmp/hail.Y2Dh5hqGGSs3/LAMm7jAFNz.bm\n",
      "2020-04-23 17:16:38 Hail: INFO: wrote matrix with 5000 rows and 5000 columns as 4 blocks of size 4096 to file:/tmp/hail.Y2Dh5hqGGSs3/cnou7l8aFY.bm\n",
      "2020-04-23 17:16:56 Hail: INFO: wrote matrix with 5000 rows and 5000 columns as 4 blocks of size 4096 to file:/tmp/hail.Y2Dh5hqGGSs3/wvaC86Xwxb.bm\n",
      "2020-04-23 17:17:13 Hail: INFO: wrote matrix with 5000 rows and 5000 columns as 4 blocks of size 4096 to file:/tmp/hail.Y2Dh5hqGGSs3/PNliJx7HuP.bm\n",
      "2020-04-23 17:17:13 Hail: INFO: wrote matrix with 5000 rows and 5000 columns as 4 blocks of size 4096 to file:/tmp/hail.Y2Dh5hqGGSs3/lNz5ZyTSN8.bm\n",
      "2020-04-23 17:17:33 Hail: INFO: wrote matrix with 5000 rows and 5000 columns as 4 blocks of size 4096 to file:/tmp/hail.Y2Dh5hqGGSs3/kDMkgisVPE.bm\n",
      "2020-04-23 17:17:50 Hail: INFO: wrote matrix with 5000 rows and 5000 columns as 4 blocks of size 4096 to file:/tmp/hail.Y2Dh5hqGGSs3/Zgeznilu3H.bm\n",
      "2020-04-23 17:17:51 Hail: INFO: wrote matrix with 5000 rows and 5000 columns as 4 blocks of size 4096 to file:/tmp/hail.Y2Dh5hqGGSs3/umNuC30Z8Y.bm\n",
      "2020-04-23 17:18:10 Hail: INFO: wrote matrix with 5000 rows and 5000 columns as 4 blocks of size 4096 to file:/tmp/hail.Y2Dh5hqGGSs3/8539Z5FN14.bm\n",
      "2020-04-23 17:18:29 Hail: INFO: wrote matrix with 5000 rows and 5000 columns as 4 blocks of size 4096 to file:/tmp/hail.Y2Dh5hqGGSs3/9sshCTCLbn.bm\n",
      "2020-04-23 17:18:31 Hail: INFO: wrote matrix with 5000 rows and 5000 columns as 4 blocks of size 4096 to file:/tmp/hail.Y2Dh5hqGGSs3/yi2scFhJDK.bm\n",
      "2020-04-23 17:18:47 Hail: INFO: Ordering unsorted dataset with network shuffle\n",
      "2020-04-23 17:19:53 Hail: INFO: Coerced sorted dataset\n",
      "2020-04-23 17:20:31 Hail: INFO: wrote table with 12497500 rows in 4 partitions to /tmp/tmpobz1gz44/pc_relate_result\n"
     ]
    },
    {
     "name": "stdout",
     "output_type": "stream",
     "text": [
      "Deleting pc_relate results: /tmp/tmpobz1gz44/pc_relate_result\n",
      "Deleting hail tmp dir: /tmp/hail.Y2Dh5hqGGSs3\n"
     ]
    },
    {
     "name": "stderr",
     "output_type": "stream",
     "text": [
      "2020-04-23 17:20:32 Hail: INFO: balding_nichols_model: generating genotypes for 10 populations, 5000 samples, and 6000 variants...\n",
      "2020-04-23 17:20:32 Hail: INFO: Coerced sorted dataset\n",
      "2020-04-23 17:20:38 Hail: INFO: wrote matrix table with 6000 rows and 5000 columns in 8 partitions to /home/rav/data/tmp/mt_5000_6000_10.mt\n",
      "2020-04-23 17:20:38 Hail: INFO: hwe_normalized_pca: running PCA using 6000 variants.\n",
      "2020-04-23 17:20:41 Hail: INFO: pca: running PCA with 10 components...\n"
     ]
    },
    {
     "name": "stdout",
     "output_type": "stream",
     "text": [
      "PCA took s:5000, v:6000, p:10 : 13.76 seconds\n"
     ]
    },
    {
     "name": "stderr",
     "output_type": "stream",
     "text": [
      "2020-04-23 17:20:58 Hail: INFO: Wrote all 4 blocks of 6000 x 5000 matrix with block size 4096.\n",
      "2020-04-23 17:21:00 Hail: INFO: wrote matrix with 11 rows and 6000 columns as 2 blocks of size 4096 to file:/tmp/hail.Y2Dh5hqGGSs3/Jw3F9cdQOt.bm\n",
      "2020-04-23 17:21:01 Hail: INFO: wrote matrix with 6000 rows and 5000 columns as 4 blocks of size 4096 to file:/tmp/hail.Y2Dh5hqGGSs3/3H6YmEqoZ1.bm\n",
      "2020-04-23 17:21:01 Hail: INFO: wrote matrix with 6000 rows and 5000 columns as 4 blocks of size 4096 to file:/tmp/hail.Y2Dh5hqGGSs3/Dy0zGR43JP.bm\n",
      "2020-04-23 17:21:22 Hail: INFO: wrote matrix with 5000 rows and 5000 columns as 4 blocks of size 4096 to file:/tmp/hail.Y2Dh5hqGGSs3/b3fWQVlWOF.bm\n",
      "2020-04-23 17:21:42 Hail: INFO: wrote matrix with 5000 rows and 5000 columns as 4 blocks of size 4096 to file:/tmp/hail.Y2Dh5hqGGSs3/kGzCKxNJ55.bm\n",
      "2020-04-23 17:21:43 Hail: INFO: wrote matrix with 5000 rows and 5000 columns as 4 blocks of size 4096 to file:/tmp/hail.Y2Dh5hqGGSs3/Sx0OxfLtS1.bm\n",
      "2020-04-23 17:22:06 Hail: INFO: wrote matrix with 5000 rows and 5000 columns as 4 blocks of size 4096 to file:/tmp/hail.Y2Dh5hqGGSs3/15CSykubWQ.bm\n",
      "2020-04-23 17:22:26 Hail: INFO: wrote matrix with 5000 rows and 5000 columns as 4 blocks of size 4096 to file:/tmp/hail.Y2Dh5hqGGSs3/sF6PzIwN01.bm\n",
      "2020-04-23 17:22:27 Hail: INFO: wrote matrix with 5000 rows and 5000 columns as 4 blocks of size 4096 to file:/tmp/hail.Y2Dh5hqGGSs3/u2UCDT9FQm.bm\n",
      "2020-04-23 17:22:49 Hail: INFO: wrote matrix with 5000 rows and 5000 columns as 4 blocks of size 4096 to file:/tmp/hail.Y2Dh5hqGGSs3/UDIUq1LwKN.bm\n",
      "2020-04-23 17:23:12 Hail: INFO: wrote matrix with 5000 rows and 5000 columns as 4 blocks of size 4096 to file:/tmp/hail.Y2Dh5hqGGSs3/Hbi0xowGvA.bm\n",
      "2020-04-23 17:23:14 Hail: INFO: wrote matrix with 5000 rows and 5000 columns as 4 blocks of size 4096 to file:/tmp/hail.Y2Dh5hqGGSs3/LbGdy36x5Z.bm\n",
      "2020-04-23 17:23:29 Hail: INFO: Ordering unsorted dataset with network shuffle\n",
      "2020-04-23 17:24:36 Hail: INFO: Coerced sorted dataset\n",
      "2020-04-23 17:25:15 Hail: INFO: wrote table with 12497500 rows in 4 partitions to /tmp/tmp6vqjtjpk/pc_relate_result\n"
     ]
    },
    {
     "name": "stdout",
     "output_type": "stream",
     "text": [
      "Deleting pc_relate results: /tmp/tmp6vqjtjpk/pc_relate_result\n",
      "Deleting hail tmp dir: /tmp/hail.Y2Dh5hqGGSs3\n"
     ]
    },
    {
     "name": "stderr",
     "output_type": "stream",
     "text": [
      "2020-04-23 17:25:15 Hail: INFO: balding_nichols_model: generating genotypes for 10 populations, 5000 samples, and 7000 variants...\n",
      "2020-04-23 17:25:15 Hail: INFO: Coerced sorted dataset\n",
      "2020-04-23 17:25:22 Hail: INFO: wrote matrix table with 7000 rows and 5000 columns in 8 partitions to /home/rav/data/tmp/mt_5000_7000_10.mt\n",
      "2020-04-23 17:25:23 Hail: INFO: hwe_normalized_pca: running PCA using 7000 variants.\n",
      "2020-04-23 17:25:25 Hail: INFO: pca: running PCA with 10 components...\n"
     ]
    },
    {
     "name": "stdout",
     "output_type": "stream",
     "text": [
      "PCA took s:5000, v:7000, p:10 : 15.72 seconds\n"
     ]
    },
    {
     "name": "stderr",
     "output_type": "stream",
     "text": [
      "2020-04-23 17:25:45 Hail: INFO: Wrote all 4 blocks of 7000 x 5000 matrix with block size 4096.\n",
      "2020-04-23 17:25:46 Hail: INFO: wrote matrix with 11 rows and 7000 columns as 2 blocks of size 4096 to file:/tmp/hail.Y2Dh5hqGGSs3/9lmmCIN016.bm\n",
      "2020-04-23 17:25:46 Hail: INFO: wrote matrix with 7000 rows and 5000 columns as 4 blocks of size 4096 to file:/tmp/hail.Y2Dh5hqGGSs3/TRZO7Z7K47.bm\n",
      "2020-04-23 17:25:47 Hail: INFO: wrote matrix with 7000 rows and 5000 columns as 4 blocks of size 4096 to file:/tmp/hail.Y2Dh5hqGGSs3/jce1FSbd40.bm\n",
      "2020-04-23 17:26:12 Hail: INFO: wrote matrix with 5000 rows and 5000 columns as 4 blocks of size 4096 to file:/tmp/hail.Y2Dh5hqGGSs3/wXbAmpwblt.bm\n",
      "2020-04-23 17:26:35 Hail: INFO: wrote matrix with 5000 rows and 5000 columns as 4 blocks of size 4096 to file:/tmp/hail.Y2Dh5hqGGSs3/MqqCLw1yFJ.bm\n",
      "2020-04-23 17:26:36 Hail: INFO: wrote matrix with 5000 rows and 5000 columns as 4 blocks of size 4096 to file:/tmp/hail.Y2Dh5hqGGSs3/lanlv8g935.bm\n",
      "2020-04-23 17:27:02 Hail: INFO: wrote matrix with 5000 rows and 5000 columns as 4 blocks of size 4096 to file:/tmp/hail.Y2Dh5hqGGSs3/AUeiG4PNaq.bm\n",
      "2020-04-23 17:27:26 Hail: INFO: wrote matrix with 5000 rows and 5000 columns as 4 blocks of size 4096 to file:/tmp/hail.Y2Dh5hqGGSs3/dHVGskJk3O.bm\n",
      "2020-04-23 17:27:27 Hail: INFO: wrote matrix with 5000 rows and 5000 columns as 4 blocks of size 4096 to file:/tmp/hail.Y2Dh5hqGGSs3/KfeqP40cVQ.bm\n",
      "2020-04-23 17:27:53 Hail: INFO: wrote matrix with 5000 rows and 5000 columns as 4 blocks of size 4096 to file:/tmp/hail.Y2Dh5hqGGSs3/WwfEvWQRqh.bm\n",
      "2020-04-23 17:28:19 Hail: INFO: wrote matrix with 5000 rows and 5000 columns as 4 blocks of size 4096 to file:/tmp/hail.Y2Dh5hqGGSs3/WfxIjDZWnl.bm\n",
      "2020-04-23 17:28:21 Hail: INFO: wrote matrix with 5000 rows and 5000 columns as 4 blocks of size 4096 to file:/tmp/hail.Y2Dh5hqGGSs3/qbrA4o1yYa.bm\n",
      "2020-04-23 17:28:37 Hail: INFO: Ordering unsorted dataset with network shuffle\n",
      "2020-04-23 17:29:44 Hail: INFO: Coerced sorted dataset\n",
      "2020-04-23 17:30:30 Hail: INFO: wrote table with 12497500 rows in 4 partitions to /tmp/tmp3cegr4fw/pc_relate_result\n"
     ]
    },
    {
     "name": "stdout",
     "output_type": "stream",
     "text": [
      "Deleting pc_relate results: /tmp/tmp3cegr4fw/pc_relate_result\n",
      "Deleting hail tmp dir: /tmp/hail.Y2Dh5hqGGSs3\n"
     ]
    },
    {
     "name": "stderr",
     "output_type": "stream",
     "text": [
      "2020-04-23 17:30:30 Hail: INFO: balding_nichols_model: generating genotypes for 10 populations, 5000 samples, and 8000 variants...\n",
      "2020-04-23 17:30:31 Hail: INFO: Coerced sorted dataset\n",
      "2020-04-23 17:30:39 Hail: INFO: wrote matrix table with 8000 rows and 5000 columns in 8 partitions to /home/rav/data/tmp/mt_5000_8000_10.mt\n",
      "2020-04-23 17:30:39 Hail: INFO: hwe_normalized_pca: running PCA using 8000 variants.\n",
      "2020-04-23 17:30:42 Hail: INFO: pca: running PCA with 10 components...\n"
     ]
    },
    {
     "name": "stdout",
     "output_type": "stream",
     "text": [
      "PCA took s:5000, v:8000, p:10 : 15.23 seconds\n"
     ]
    },
    {
     "name": "stderr",
     "output_type": "stream",
     "text": [
      "2020-04-23 17:31:01 Hail: INFO: Wrote all 4 blocks of 8000 x 5000 matrix with block size 4096.\n",
      "2020-04-23 17:31:02 Hail: INFO: wrote matrix with 11 rows and 8000 columns as 2 blocks of size 4096 to file:/tmp/hail.Y2Dh5hqGGSs3/9mMGSjhm75.bm\n",
      "2020-04-23 17:31:03 Hail: INFO: wrote matrix with 8000 rows and 5000 columns as 4 blocks of size 4096 to file:/tmp/hail.Y2Dh5hqGGSs3/sFbv4bhB7y.bm\n",
      "2020-04-23 17:31:04 Hail: INFO: wrote matrix with 8000 rows and 5000 columns as 4 blocks of size 4096 to file:/tmp/hail.Y2Dh5hqGGSs3/TCNiroAUKF.bm\n",
      "2020-04-23 17:31:31 Hail: INFO: wrote matrix with 5000 rows and 5000 columns as 4 blocks of size 4096 to file:/tmp/hail.Y2Dh5hqGGSs3/SSQZlSaYLK.bm\n",
      "2020-04-23 17:31:58 Hail: INFO: wrote matrix with 5000 rows and 5000 columns as 4 blocks of size 4096 to file:/tmp/hail.Y2Dh5hqGGSs3/aYXF2Kbyq0.bm\n",
      "2020-04-23 17:31:59 Hail: INFO: wrote matrix with 5000 rows and 5000 columns as 4 blocks of size 4096 to file:/tmp/hail.Y2Dh5hqGGSs3/vjOPrAty7i.bm\n",
      "2020-04-23 17:32:29 Hail: INFO: wrote matrix with 5000 rows and 5000 columns as 4 blocks of size 4096 to file:/tmp/hail.Y2Dh5hqGGSs3/hevV9J3Wd6.bm\n",
      "2020-04-23 17:32:55 Hail: INFO: wrote matrix with 5000 rows and 5000 columns as 4 blocks of size 4096 to file:/tmp/hail.Y2Dh5hqGGSs3/35S3Kk6jBT.bm\n",
      "2020-04-23 17:32:56 Hail: INFO: wrote matrix with 5000 rows and 5000 columns as 4 blocks of size 4096 to file:/tmp/hail.Y2Dh5hqGGSs3/msZBJtjTkc.bm\n",
      "2020-04-23 17:33:25 Hail: INFO: wrote matrix with 5000 rows and 5000 columns as 4 blocks of size 4096 to file:/tmp/hail.Y2Dh5hqGGSs3/xHBhwJuEjE.bm\n",
      "2020-04-23 17:34:13 Hail: INFO: Ordering unsorted dataset with network shuffle\n",
      "2020-04-23 17:35:20 Hail: INFO: Coerced sorted dataset\n",
      "2020-04-23 17:36:08 Hail: INFO: wrote table with 12497500 rows in 4 partitions to /tmp/tmpzfdxeokv/pc_relate_result\n"
     ]
    },
    {
     "name": "stdout",
     "output_type": "stream",
     "text": [
      "Deleting pc_relate results: /tmp/tmpzfdxeokv/pc_relate_result\n",
      "Deleting hail tmp dir: /tmp/hail.Y2Dh5hqGGSs3\n"
     ]
    },
    {
     "name": "stderr",
     "output_type": "stream",
     "text": [
      "2020-04-23 17:36:08 Hail: INFO: balding_nichols_model: generating genotypes for 10 populations, 5000 samples, and 9000 variants...\n",
      "2020-04-23 17:36:09 Hail: INFO: Coerced sorted dataset\n",
      "2020-04-23 17:36:17 Hail: INFO: wrote matrix table with 9000 rows and 5000 columns in 8 partitions to /home/rav/data/tmp/mt_5000_9000_10.mt\n",
      "2020-04-23 17:36:17 Hail: INFO: hwe_normalized_pca: running PCA using 9000 variants.\n",
      "2020-04-23 17:36:20 Hail: INFO: pca: running PCA with 10 components...\n"
     ]
    },
    {
     "name": "stdout",
     "output_type": "stream",
     "text": [
      "PCA took s:5000, v:9000, p:10 : 18.26 seconds\n"
     ]
    },
    {
     "name": "stderr",
     "output_type": "stream",
     "text": [
      "2020-04-23 17:36:43 Hail: INFO: Wrote all 6 blocks of 9000 x 5000 matrix with block size 4096.\n",
      "2020-04-23 17:36:45 Hail: INFO: wrote matrix with 11 rows and 9000 columns as 3 blocks of size 4096 to file:/tmp/hail.Y2Dh5hqGGSs3/8Pqp2iF9e0.bm\n",
      "2020-04-23 17:36:45 Hail: INFO: wrote matrix with 9000 rows and 5000 columns as 6 blocks of size 4096 to file:/tmp/hail.Y2Dh5hqGGSs3/iP3ilzMIcW.bm\n",
      "2020-04-23 17:36:46 Hail: INFO: wrote matrix with 9000 rows and 5000 columns as 6 blocks of size 4096 to file:/tmp/hail.Y2Dh5hqGGSs3/dDTfoIuPKQ.bm\n",
      "2020-04-23 17:37:17 Hail: INFO: wrote matrix with 5000 rows and 5000 columns as 4 blocks of size 4096 to file:/tmp/hail.Y2Dh5hqGGSs3/erG0PZxp52.bm\n",
      "2020-04-23 17:37:47 Hail: INFO: wrote matrix with 5000 rows and 5000 columns as 4 blocks of size 4096 to file:/tmp/hail.Y2Dh5hqGGSs3/4bzIN69vQE.bm\n",
      "2020-04-23 17:37:48 Hail: INFO: wrote matrix with 5000 rows and 5000 columns as 4 blocks of size 4096 to file:/tmp/hail.Y2Dh5hqGGSs3/Rc4jAeTZk3.bm\n",
      "2020-04-23 17:38:21 Hail: INFO: wrote matrix with 5000 rows and 5000 columns as 4 blocks of size 4096 to file:/tmp/hail.Y2Dh5hqGGSs3/jDNO1YBvuh.bm\n",
      "2020-04-23 17:38:51 Hail: INFO: wrote matrix with 5000 rows and 5000 columns as 4 blocks of size 4096 to file:/tmp/hail.Y2Dh5hqGGSs3/L5coTt67aF.bm\n",
      "2020-04-23 17:38:51 Hail: INFO: wrote matrix with 5000 rows and 5000 columns as 4 blocks of size 4096 to file:/tmp/hail.Y2Dh5hqGGSs3/mI1PaflO66.bm\n",
      "2020-04-23 17:39:25 Hail: INFO: wrote matrix with 5000 rows and 5000 columns as 4 blocks of size 4096 to file:/tmp/hail.Y2Dh5hqGGSs3/JK17e78EpB.bm\n",
      "2020-04-23 17:39:57 Hail: INFO: wrote matrix with 5000 rows and 5000 columns as 4 blocks of size 4096 to file:/tmp/hail.Y2Dh5hqGGSs3/VjOg5SvHEw.bm\n",
      "2020-04-23 17:39:59 Hail: INFO: wrote matrix with 5000 rows and 5000 columns as 4 blocks of size 4096 to file:/tmp/hail.Y2Dh5hqGGSs3/8MTJpn9KvW.bm\n",
      "2020-04-23 17:40:15 Hail: INFO: Ordering unsorted dataset with network shuffle\n",
      "2020-04-23 17:41:23 Hail: INFO: Coerced sorted dataset\n",
      "2020-04-23 17:42:01 Hail: INFO: wrote table with 12497500 rows in 4 partitions to /tmp/tmpiud64ati/pc_relate_result\n"
     ]
    },
    {
     "name": "stdout",
     "output_type": "stream",
     "text": [
      "Deleting pc_relate results: /tmp/tmpiud64ati/pc_relate_result\n",
      "Deleting hail tmp dir: /tmp/hail.Y2Dh5hqGGSs3\n"
     ]
    },
    {
     "name": "stderr",
     "output_type": "stream",
     "text": [
      "2020-04-23 17:42:02 Hail: INFO: hwe_normalized_pca: running PCA using 10000 variants.\n",
      "2020-04-23 17:42:05 Hail: INFO: pca: running PCA with 10 components...\n"
     ]
    },
    {
     "name": "stdout",
     "output_type": "stream",
     "text": [
      "PCA took s:5000, v:10000, p:10 : 18.24 seconds\n"
     ]
    },
    {
     "name": "stderr",
     "output_type": "stream",
     "text": [
      "2020-04-23 17:42:28 Hail: INFO: Wrote all 6 blocks of 10000 x 5000 matrix with block size 4096.\n",
      "2020-04-23 17:42:29 Hail: INFO: wrote matrix with 11 rows and 10000 columns as 3 blocks of size 4096 to file:/tmp/hail.Y2Dh5hqGGSs3/H7vr6UA12s.bm\n",
      "2020-04-23 17:42:29 Hail: INFO: wrote matrix with 10000 rows and 5000 columns as 6 blocks of size 4096 to file:/tmp/hail.Y2Dh5hqGGSs3/sVvRrBt4M4.bm\n",
      "2020-04-23 17:42:31 Hail: INFO: wrote matrix with 10000 rows and 5000 columns as 6 blocks of size 4096 to file:/tmp/hail.Y2Dh5hqGGSs3/4ph5WEDbfL.bm\n",
      "2020-04-23 17:43:05 Hail: INFO: wrote matrix with 5000 rows and 5000 columns as 4 blocks of size 4096 to file:/tmp/hail.Y2Dh5hqGGSs3/d59NhFSX97.bm\n",
      "2020-04-23 17:43:38 Hail: INFO: wrote matrix with 5000 rows and 5000 columns as 4 blocks of size 4096 to file:/tmp/hail.Y2Dh5hqGGSs3/VgbwLNqBhY.bm\n",
      "2020-04-23 17:43:39 Hail: INFO: wrote matrix with 5000 rows and 5000 columns as 4 blocks of size 4096 to file:/tmp/hail.Y2Dh5hqGGSs3/eRdyjQ6ZNV.bm\n",
      "2020-04-23 17:44:16 Hail: INFO: wrote matrix with 5000 rows and 5000 columns as 4 blocks of size 4096 to file:/tmp/hail.Y2Dh5hqGGSs3/AbIHQtbdGn.bm\n",
      "2020-04-23 17:44:49 Hail: INFO: wrote matrix with 5000 rows and 5000 columns as 4 blocks of size 4096 to file:/tmp/hail.Y2Dh5hqGGSs3/d3zT3WZIRA.bm\n",
      "2020-04-23 17:44:50 Hail: INFO: wrote matrix with 5000 rows and 5000 columns as 4 blocks of size 4096 to file:/tmp/hail.Y2Dh5hqGGSs3/SPriQBpgS2.bm\n",
      "2020-04-23 17:45:28 Hail: INFO: wrote matrix with 5000 rows and 5000 columns as 4 blocks of size 4096 to file:/tmp/hail.Y2Dh5hqGGSs3/Gy5JIfSofV.bm\n",
      "2020-04-23 17:46:04 Hail: INFO: wrote matrix with 5000 rows and 5000 columns as 4 blocks of size 4096 to file:/tmp/hail.Y2Dh5hqGGSs3/j4jGjB4rpV.bm\n",
      "2020-04-23 17:46:06 Hail: INFO: wrote matrix with 5000 rows and 5000 columns as 4 blocks of size 4096 to file:/tmp/hail.Y2Dh5hqGGSs3/XOHm5zA9h7.bm\n",
      "2020-04-23 17:46:22 Hail: INFO: Ordering unsorted dataset with network shuffle\n",
      "2020-04-23 17:47:28 Hail: INFO: Coerced sorted dataset\n",
      "2020-04-23 17:48:06 Hail: INFO: wrote table with 12497500 rows in 4 partitions to /tmp/tmpgxldewfp/pc_relate_result\n"
     ]
    },
    {
     "name": "stdout",
     "output_type": "stream",
     "text": [
      "Deleting pc_relate results: /tmp/tmpgxldewfp/pc_relate_result\n",
      "Deleting hail tmp dir: /tmp/hail.Y2Dh5hqGGSs3\n"
     ]
    },
    {
     "name": "stderr",
     "output_type": "stream",
     "text": [
      "2020-04-23 17:48:06 Hail: INFO: balding_nichols_model: generating genotypes for 10 populations, 6000 samples, and 1000 variants...\n",
      "2020-04-23 17:48:07 Hail: INFO: Coerced sorted dataset\n",
      "2020-04-23 17:48:10 Hail: INFO: wrote matrix table with 1000 rows and 6000 columns in 8 partitions to /home/rav/data/tmp/mt_6000_1000_10.mt\n",
      "2020-04-23 17:48:10 Hail: INFO: hwe_normalized_pca: running PCA using 1000 variants.\n",
      "2020-04-23 17:48:12 Hail: INFO: pca: running PCA with 10 components...\n"
     ]
    },
    {
     "name": "stdout",
     "output_type": "stream",
     "text": [
      "PCA took s:6000, v:1000, p:10 : 8.46 seconds\n"
     ]
    },
    {
     "name": "stderr",
     "output_type": "stream",
     "text": [
      "2020-04-23 17:48:23 Hail: INFO: Wrote all 2 blocks of 1000 x 6000 matrix with block size 4096.\n",
      "2020-04-23 17:48:24 Hail: INFO: wrote matrix with 11 rows and 1000 columns as 1 block of size 4096 to file:/tmp/hail.Y2Dh5hqGGSs3/boiIRFWF6h.bm\n",
      "2020-04-23 17:48:24 Hail: INFO: wrote matrix with 1000 rows and 6000 columns as 2 blocks of size 4096 to file:/tmp/hail.Y2Dh5hqGGSs3/ibauS3PgAv.bm\n",
      "2020-04-23 17:48:24 Hail: INFO: wrote matrix with 1000 rows and 6000 columns as 2 blocks of size 4096 to file:/tmp/hail.Y2Dh5hqGGSs3/KmCp5om1qe.bm\n",
      "2020-04-23 17:48:28 Hail: INFO: wrote matrix with 6000 rows and 6000 columns as 4 blocks of size 4096 to file:/tmp/hail.Y2Dh5hqGGSs3/o7Cz1aR1JT.bm\n",
      "2020-04-23 17:48:32 Hail: INFO: wrote matrix with 6000 rows and 6000 columns as 4 blocks of size 4096 to file:/tmp/hail.Y2Dh5hqGGSs3/uskRB3hWjv.bm\n",
      "2020-04-23 17:48:32 Hail: INFO: wrote matrix with 6000 rows and 6000 columns as 4 blocks of size 4096 to file:/tmp/hail.Y2Dh5hqGGSs3/yeN0SU6szV.bm\n",
      "2020-04-23 17:48:37 Hail: INFO: wrote matrix with 6000 rows and 6000 columns as 4 blocks of size 4096 to file:/tmp/hail.Y2Dh5hqGGSs3/zMsZJzca0E.bm\n",
      "2020-04-23 17:48:40 Hail: INFO: wrote matrix with 6000 rows and 6000 columns as 4 blocks of size 4096 to file:/tmp/hail.Y2Dh5hqGGSs3/xPctYGN2p1.bm\n",
      "2020-04-23 17:48:41 Hail: INFO: wrote matrix with 6000 rows and 6000 columns as 4 blocks of size 4096 to file:/tmp/hail.Y2Dh5hqGGSs3/EoMp8Rxh0g.bm\n",
      "2020-04-23 17:48:45 Hail: INFO: wrote matrix with 6000 rows and 6000 columns as 4 blocks of size 4096 to file:/tmp/hail.Y2Dh5hqGGSs3/WmWDHEkwVx.bm\n",
      "2020-04-23 17:48:49 Hail: INFO: wrote matrix with 6000 rows and 6000 columns as 4 blocks of size 4096 to file:/tmp/hail.Y2Dh5hqGGSs3/HvjLIdM4C1.bm\n",
      "2020-04-23 17:48:51 Hail: INFO: wrote matrix with 6000 rows and 6000 columns as 4 blocks of size 4096 to file:/tmp/hail.Y2Dh5hqGGSs3/rAIyE88GpU.bm\n",
      "2020-04-23 17:49:07 Hail: INFO: Ordering unsorted dataset with network shuffle\n",
      "2020-04-23 17:50:31 Hail: INFO: Coerced sorted dataset\n",
      "2020-04-23 17:51:30 Hail: INFO: wrote table with 17997000 rows in 4 partitions to /tmp/tmpw6nrl9og/pc_relate_result\n"
     ]
    },
    {
     "name": "stdout",
     "output_type": "stream",
     "text": [
      "Deleting pc_relate results: /tmp/tmpw6nrl9og/pc_relate_result\n",
      "Deleting hail tmp dir: /tmp/hail.Y2Dh5hqGGSs3\n"
     ]
    },
    {
     "name": "stderr",
     "output_type": "stream",
     "text": [
      "2020-04-23 17:51:31 Hail: INFO: balding_nichols_model: generating genotypes for 10 populations, 6000 samples, and 2000 variants...\n",
      "2020-04-23 17:51:31 Hail: INFO: Coerced sorted dataset\n",
      "2020-04-23 17:51:35 Hail: INFO: wrote matrix table with 2000 rows and 6000 columns in 8 partitions to /home/rav/data/tmp/mt_6000_2000_10.mt\n",
      "2020-04-23 17:51:35 Hail: INFO: hwe_normalized_pca: running PCA using 2000 variants.\n",
      "2020-04-23 17:51:37 Hail: INFO: pca: running PCA with 10 components...\n"
     ]
    },
    {
     "name": "stdout",
     "output_type": "stream",
     "text": [
      "PCA took s:6000, v:2000, p:10 : 10.65 seconds\n"
     ]
    },
    {
     "name": "stderr",
     "output_type": "stream",
     "text": [
      "2020-04-23 17:51:51 Hail: INFO: Wrote all 2 blocks of 2000 x 6000 matrix with block size 4096.\n",
      "2020-04-23 17:51:52 Hail: INFO: wrote matrix with 11 rows and 2000 columns as 1 block of size 4096 to file:/tmp/hail.Y2Dh5hqGGSs3/mAuYwBdlI0.bm\n",
      "2020-04-23 17:51:53 Hail: INFO: wrote matrix with 2000 rows and 6000 columns as 2 blocks of size 4096 to file:/tmp/hail.Y2Dh5hqGGSs3/mxuUxwya0s.bm\n",
      "2020-04-23 17:51:53 Hail: INFO: wrote matrix with 2000 rows and 6000 columns as 2 blocks of size 4096 to file:/tmp/hail.Y2Dh5hqGGSs3/D4b8Baa1kE.bm\n",
      "2020-04-23 17:52:00 Hail: INFO: wrote matrix with 6000 rows and 6000 columns as 4 blocks of size 4096 to file:/tmp/hail.Y2Dh5hqGGSs3/hvFxoAJW4J.bm\n",
      "2020-04-23 17:52:08 Hail: INFO: wrote matrix with 6000 rows and 6000 columns as 4 blocks of size 4096 to file:/tmp/hail.Y2Dh5hqGGSs3/sTgFW1kWUe.bm\n",
      "2020-04-23 17:52:08 Hail: INFO: wrote matrix with 6000 rows and 6000 columns as 4 blocks of size 4096 to file:/tmp/hail.Y2Dh5hqGGSs3/2hrP7hDpZH.bm\n",
      "2020-04-23 17:52:18 Hail: INFO: wrote matrix with 6000 rows and 6000 columns as 4 blocks of size 4096 to file:/tmp/hail.Y2Dh5hqGGSs3/jzaMINLUae.bm\n",
      "2020-04-23 17:52:25 Hail: INFO: wrote matrix with 6000 rows and 6000 columns as 4 blocks of size 4096 to file:/tmp/hail.Y2Dh5hqGGSs3/MjICrxYzqQ.bm\n",
      "2020-04-23 17:52:25 Hail: INFO: wrote matrix with 6000 rows and 6000 columns as 4 blocks of size 4096 to file:/tmp/hail.Y2Dh5hqGGSs3/oPOapF2qgl.bm\n",
      "2020-04-23 17:52:33 Hail: INFO: wrote matrix with 6000 rows and 6000 columns as 4 blocks of size 4096 to file:/tmp/hail.Y2Dh5hqGGSs3/xhZCwQ5xhA.bm\n",
      "2020-04-23 17:52:41 Hail: INFO: wrote matrix with 6000 rows and 6000 columns as 4 blocks of size 4096 to file:/tmp/hail.Y2Dh5hqGGSs3/e7MFoQlemw.bm\n",
      "2020-04-23 17:52:43 Hail: INFO: wrote matrix with 6000 rows and 6000 columns as 4 blocks of size 4096 to file:/tmp/hail.Y2Dh5hqGGSs3/HaRmdQHYmd.bm\n",
      "2020-04-23 17:53:01 Hail: INFO: Ordering unsorted dataset with network shuffle\n",
      "2020-04-23 17:54:39 Hail: INFO: Coerced sorted dataset\n",
      "2020-04-23 17:55:37 Hail: INFO: wrote table with 17997000 rows in 4 partitions to /tmp/tmp50e3nxgm/pc_relate_result\n"
     ]
    },
    {
     "name": "stdout",
     "output_type": "stream",
     "text": [
      "Deleting pc_relate results: /tmp/tmp50e3nxgm/pc_relate_result\n",
      "Deleting hail tmp dir: /tmp/hail.Y2Dh5hqGGSs3\n"
     ]
    },
    {
     "name": "stderr",
     "output_type": "stream",
     "text": [
      "2020-04-23 17:55:38 Hail: INFO: balding_nichols_model: generating genotypes for 10 populations, 6000 samples, and 3000 variants...\n",
      "2020-04-23 17:55:38 Hail: INFO: Coerced sorted dataset\n",
      "2020-04-23 17:55:43 Hail: INFO: wrote matrix table with 3000 rows and 6000 columns in 8 partitions to /home/rav/data/tmp/mt_6000_3000_10.mt\n",
      "2020-04-23 17:55:43 Hail: INFO: hwe_normalized_pca: running PCA using 3000 variants.\n",
      "2020-04-23 17:55:45 Hail: INFO: pca: running PCA with 10 components...\n"
     ]
    },
    {
     "name": "stdout",
     "output_type": "stream",
     "text": [
      "PCA took s:6000, v:3000, p:10 : 12.64 seconds\n"
     ]
    },
    {
     "name": "stderr",
     "output_type": "stream",
     "text": [
      "2020-04-23 17:56:02 Hail: INFO: Wrote all 2 blocks of 3000 x 6000 matrix with block size 4096.\n",
      "2020-04-23 17:56:03 Hail: INFO: wrote matrix with 11 rows and 3000 columns as 1 block of size 4096 to file:/tmp/hail.Y2Dh5hqGGSs3/gC5fAsIjDL.bm\n",
      "2020-04-23 17:56:03 Hail: INFO: wrote matrix with 3000 rows and 6000 columns as 2 blocks of size 4096 to file:/tmp/hail.Y2Dh5hqGGSs3/lmnsCtquj8.bm\n",
      "2020-04-23 17:56:04 Hail: INFO: wrote matrix with 3000 rows and 6000 columns as 2 blocks of size 4096 to file:/tmp/hail.Y2Dh5hqGGSs3/VtfcNOuIXG.bm\n",
      "2020-04-23 17:56:17 Hail: INFO: wrote matrix with 6000 rows and 6000 columns as 4 blocks of size 4096 to file:/tmp/hail.Y2Dh5hqGGSs3/QRWIBCgVS4.bm\n",
      "2020-04-23 17:56:27 Hail: INFO: wrote matrix with 6000 rows and 6000 columns as 4 blocks of size 4096 to file:/tmp/hail.Y2Dh5hqGGSs3/CijOtNxFR4.bm\n",
      "2020-04-23 17:56:28 Hail: INFO: wrote matrix with 6000 rows and 6000 columns as 4 blocks of size 4096 to file:/tmp/hail.Y2Dh5hqGGSs3/CvBN9Gll65.bm\n",
      "2020-04-23 17:56:40 Hail: INFO: wrote matrix with 6000 rows and 6000 columns as 4 blocks of size 4096 to file:/tmp/hail.Y2Dh5hqGGSs3/ZaUtRKJyWX.bm\n",
      "2020-04-23 17:56:50 Hail: INFO: wrote matrix with 6000 rows and 6000 columns as 4 blocks of size 4096 to file:/tmp/hail.Y2Dh5hqGGSs3/MQeEVMrBRL.bm\n",
      "2020-04-23 17:56:51 Hail: INFO: wrote matrix with 6000 rows and 6000 columns as 4 blocks of size 4096 to file:/tmp/hail.Y2Dh5hqGGSs3/JdmH1c8sYY.bm\n",
      "2020-04-23 17:57:03 Hail: INFO: wrote matrix with 6000 rows and 6000 columns as 4 blocks of size 4096 to file:/tmp/hail.Y2Dh5hqGGSs3/mJuac9ov1c.bm\n",
      "2020-04-23 17:57:14 Hail: INFO: wrote matrix with 6000 rows and 6000 columns as 4 blocks of size 4096 to file:/tmp/hail.Y2Dh5hqGGSs3/Ewim5uQkgm.bm\n",
      "2020-04-23 17:57:15 Hail: INFO: wrote matrix with 6000 rows and 6000 columns as 4 blocks of size 4096 to file:/tmp/hail.Y2Dh5hqGGSs3/Pob6BvyUEL.bm\n",
      "2020-04-23 17:57:34 Hail: INFO: Ordering unsorted dataset with network shuffle\n",
      "2020-04-23 17:58:50 Hail: INFO: Coerced sorted dataset\n",
      "2020-04-23 17:59:49 Hail: INFO: wrote table with 17997000 rows in 4 partitions to /tmp/tmptmpai0er/pc_relate_result\n"
     ]
    },
    {
     "name": "stdout",
     "output_type": "stream",
     "text": [
      "Deleting pc_relate results: /tmp/tmptmpai0er/pc_relate_result\n",
      "Deleting hail tmp dir: /tmp/hail.Y2Dh5hqGGSs3\n"
     ]
    },
    {
     "name": "stderr",
     "output_type": "stream",
     "text": [
      "2020-04-23 17:59:49 Hail: INFO: balding_nichols_model: generating genotypes for 10 populations, 6000 samples, and 4000 variants...\n",
      "2020-04-23 17:59:49 Hail: INFO: Coerced sorted dataset\n",
      "2020-04-23 17:59:55 Hail: INFO: wrote matrix table with 4000 rows and 6000 columns in 8 partitions to /home/rav/data/tmp/mt_6000_4000_10.mt\n",
      "2020-04-23 17:59:55 Hail: INFO: hwe_normalized_pca: running PCA using 4000 variants.\n",
      "2020-04-23 17:59:58 Hail: INFO: pca: running PCA with 10 components...\n"
     ]
    },
    {
     "name": "stdout",
     "output_type": "stream",
     "text": [
      "PCA took s:6000, v:4000, p:10 : 12.89 seconds\n"
     ]
    },
    {
     "name": "stderr",
     "output_type": "stream",
     "text": [
      "2020-04-23 18:00:15 Hail: INFO: Wrote all 2 blocks of 4000 x 6000 matrix with block size 4096.\n",
      "2020-04-23 18:00:17 Hail: INFO: wrote matrix with 11 rows and 4000 columns as 1 block of size 4096 to file:/tmp/hail.Y2Dh5hqGGSs3/3kjiUX62dS.bm\n",
      "2020-04-23 18:00:17 Hail: INFO: wrote matrix with 4000 rows and 6000 columns as 2 blocks of size 4096 to file:/tmp/hail.Y2Dh5hqGGSs3/yltBxxk9IL.bm\n",
      "2020-04-23 18:00:18 Hail: INFO: wrote matrix with 4000 rows and 6000 columns as 2 blocks of size 4096 to file:/tmp/hail.Y2Dh5hqGGSs3/SfhC3OqbPE.bm\n",
      "2020-04-23 18:00:33 Hail: INFO: wrote matrix with 6000 rows and 6000 columns as 4 blocks of size 4096 to file:/tmp/hail.Y2Dh5hqGGSs3/KaI6RT4L05.bm\n",
      "2020-04-23 18:00:47 Hail: INFO: wrote matrix with 6000 rows and 6000 columns as 4 blocks of size 4096 to file:/tmp/hail.Y2Dh5hqGGSs3/vYrIKCTHKF.bm\n",
      "2020-04-23 18:00:47 Hail: INFO: wrote matrix with 6000 rows and 6000 columns as 4 blocks of size 4096 to file:/tmp/hail.Y2Dh5hqGGSs3/3wfpk4GEso.bm\n",
      "2020-04-23 18:01:04 Hail: INFO: wrote matrix with 6000 rows and 6000 columns as 4 blocks of size 4096 to file:/tmp/hail.Y2Dh5hqGGSs3/WbELzMNvxV.bm\n",
      "2020-04-23 18:01:18 Hail: INFO: wrote matrix with 6000 rows and 6000 columns as 4 blocks of size 4096 to file:/tmp/hail.Y2Dh5hqGGSs3/voH2sy4c2h.bm\n",
      "2020-04-23 18:01:18 Hail: INFO: wrote matrix with 6000 rows and 6000 columns as 4 blocks of size 4096 to file:/tmp/hail.Y2Dh5hqGGSs3/id5hTOE7um.bm\n",
      "2020-04-23 18:01:34 Hail: INFO: wrote matrix with 6000 rows and 6000 columns as 4 blocks of size 4096 to file:/tmp/hail.Y2Dh5hqGGSs3/EJitQgJWpL.bm\n",
      "2020-04-23 18:01:49 Hail: INFO: wrote matrix with 6000 rows and 6000 columns as 4 blocks of size 4096 to file:/tmp/hail.Y2Dh5hqGGSs3/vROxqZl7xY.bm\n",
      "2020-04-23 18:01:50 Hail: INFO: wrote matrix with 6000 rows and 6000 columns as 4 blocks of size 4096 to file:/tmp/hail.Y2Dh5hqGGSs3/5dozf0tYKI.bm\n",
      "2020-04-23 18:02:06 Hail: INFO: Ordering unsorted dataset with network shuffle\n",
      "2020-04-23 18:03:33 Hail: INFO: Coerced sorted dataset\n",
      "2020-04-23 18:04:33 Hail: INFO: wrote table with 17997000 rows in 4 partitions to /tmp/tmpw5ob4uw1/pc_relate_result\n"
     ]
    },
    {
     "name": "stdout",
     "output_type": "stream",
     "text": [
      "Deleting pc_relate results: /tmp/tmpw5ob4uw1/pc_relate_result\n",
      "Deleting hail tmp dir: /tmp/hail.Y2Dh5hqGGSs3\n"
     ]
    },
    {
     "name": "stderr",
     "output_type": "stream",
     "text": [
      "2020-04-23 18:04:33 Hail: INFO: balding_nichols_model: generating genotypes for 10 populations, 6000 samples, and 5000 variants...\n",
      "2020-04-23 18:04:34 Hail: INFO: Coerced sorted dataset\n",
      "2020-04-23 18:04:40 Hail: INFO: wrote matrix table with 5000 rows and 6000 columns in 8 partitions to /home/rav/data/tmp/mt_6000_5000_10.mt\n",
      "2020-04-23 18:04:40 Hail: INFO: hwe_normalized_pca: running PCA using 5000 variants.\n",
      "2020-04-23 18:04:43 Hail: INFO: pca: running PCA with 10 components...\n"
     ]
    },
    {
     "name": "stdout",
     "output_type": "stream",
     "text": [
      "PCA took s:6000, v:5000, p:10 : 15.37 seconds\n"
     ]
    },
    {
     "name": "stderr",
     "output_type": "stream",
     "text": [
      "2020-04-23 18:05:03 Hail: INFO: Wrote all 4 blocks of 5000 x 6000 matrix with block size 4096.\n",
      "2020-04-23 18:05:04 Hail: INFO: wrote matrix with 11 rows and 5000 columns as 2 blocks of size 4096 to file:/tmp/hail.Y2Dh5hqGGSs3/LSd3BLPnJv.bm\n",
      "2020-04-23 18:05:05 Hail: INFO: wrote matrix with 5000 rows and 6000 columns as 4 blocks of size 4096 to file:/tmp/hail.Y2Dh5hqGGSs3/7XEoZscp1M.bm\n",
      "2020-04-23 18:05:06 Hail: INFO: wrote matrix with 5000 rows and 6000 columns as 4 blocks of size 4096 to file:/tmp/hail.Y2Dh5hqGGSs3/pZG8obYzC1.bm\n",
      "2020-04-23 18:05:23 Hail: INFO: wrote matrix with 6000 rows and 6000 columns as 4 blocks of size 4096 to file:/tmp/hail.Y2Dh5hqGGSs3/Kdw209uDrW.bm\n",
      "2020-04-23 18:05:40 Hail: INFO: wrote matrix with 6000 rows and 6000 columns as 4 blocks of size 4096 to file:/tmp/hail.Y2Dh5hqGGSs3/9bauANUyAC.bm\n",
      "2020-04-23 18:05:41 Hail: INFO: wrote matrix with 6000 rows and 6000 columns as 4 blocks of size 4096 to file:/tmp/hail.Y2Dh5hqGGSs3/6yzV4GuMR6.bm\n",
      "2020-04-23 18:06:02 Hail: INFO: wrote matrix with 6000 rows and 6000 columns as 4 blocks of size 4096 to file:/tmp/hail.Y2Dh5hqGGSs3/pUBqwTeRTn.bm\n",
      "2020-04-23 18:06:18 Hail: INFO: wrote matrix with 6000 rows and 6000 columns as 4 blocks of size 4096 to file:/tmp/hail.Y2Dh5hqGGSs3/XZXVQo50sB.bm\n",
      "2020-04-23 18:06:19 Hail: INFO: wrote matrix with 6000 rows and 6000 columns as 4 blocks of size 4096 to file:/tmp/hail.Y2Dh5hqGGSs3/ICg8f5mu2a.bm\n",
      "2020-04-23 18:06:38 Hail: INFO: wrote matrix with 6000 rows and 6000 columns as 4 blocks of size 4096 to file:/tmp/hail.Y2Dh5hqGGSs3/JBAwMii7Iy.bm\n",
      "2020-04-23 18:06:56 Hail: INFO: wrote matrix with 6000 rows and 6000 columns as 4 blocks of size 4096 to file:/tmp/hail.Y2Dh5hqGGSs3/ViqRvfh0uS.bm\n",
      "2020-04-23 18:06:58 Hail: INFO: wrote matrix with 6000 rows and 6000 columns as 4 blocks of size 4096 to file:/tmp/hail.Y2Dh5hqGGSs3/ubqgEwRIri.bm\n",
      "2020-04-23 18:07:15 Hail: INFO: Ordering unsorted dataset with network shuffle\n",
      "2020-04-23 18:08:44 Hail: INFO: Coerced sorted dataset\n",
      "2020-04-23 18:09:37 Hail: INFO: wrote table with 17997000 rows in 4 partitions to /tmp/tmp464njf6k/pc_relate_result\n"
     ]
    },
    {
     "name": "stdout",
     "output_type": "stream",
     "text": [
      "Deleting pc_relate results: /tmp/tmp464njf6k/pc_relate_result\n",
      "Deleting hail tmp dir: /tmp/hail.Y2Dh5hqGGSs3\n"
     ]
    },
    {
     "name": "stderr",
     "output_type": "stream",
     "text": [
      "2020-04-23 18:09:38 Hail: INFO: balding_nichols_model: generating genotypes for 10 populations, 6000 samples, and 6000 variants...\n",
      "2020-04-23 18:09:38 Hail: INFO: Coerced sorted dataset\n",
      "2020-04-23 18:09:46 Hail: INFO: wrote matrix table with 6000 rows and 6000 columns in 8 partitions to /home/rav/data/tmp/mt_6000_6000_10.mt\n",
      "2020-04-23 18:09:46 Hail: INFO: hwe_normalized_pca: running PCA using 6000 variants.\n",
      "2020-04-23 18:09:49 Hail: INFO: pca: running PCA with 10 components...\n"
     ]
    },
    {
     "name": "stdout",
     "output_type": "stream",
     "text": [
      "PCA took s:6000, v:6000, p:10 : 15.06 seconds\n"
     ]
    },
    {
     "name": "stderr",
     "output_type": "stream",
     "text": [
      "2020-04-23 18:10:09 Hail: INFO: Wrote all 4 blocks of 6000 x 6000 matrix with block size 4096.\n",
      "2020-04-23 18:10:10 Hail: INFO: wrote matrix with 11 rows and 6000 columns as 2 blocks of size 4096 to file:/tmp/hail.Y2Dh5hqGGSs3/HyjNoUxblg.bm\n",
      "2020-04-23 18:10:11 Hail: INFO: wrote matrix with 6000 rows and 6000 columns as 4 blocks of size 4096 to file:/tmp/hail.Y2Dh5hqGGSs3/egzQqUicvg.bm\n",
      "2020-04-23 18:10:11 Hail: INFO: wrote matrix with 6000 rows and 6000 columns as 4 blocks of size 4096 to file:/tmp/hail.Y2Dh5hqGGSs3/wzU5K2mgLl.bm\n",
      "2020-04-23 18:10:33 Hail: INFO: wrote matrix with 6000 rows and 6000 columns as 4 blocks of size 4096 to file:/tmp/hail.Y2Dh5hqGGSs3/2Xv0Efo9mz.bm\n",
      "2020-04-23 18:10:53 Hail: INFO: wrote matrix with 6000 rows and 6000 columns as 4 blocks of size 4096 to file:/tmp/hail.Y2Dh5hqGGSs3/WTjrRZzauh.bm\n",
      "2020-04-23 18:10:54 Hail: INFO: wrote matrix with 6000 rows and 6000 columns as 4 blocks of size 4096 to file:/tmp/hail.Y2Dh5hqGGSs3/Tm2nRZ69WW.bm\n",
      "2020-04-23 18:11:19 Hail: INFO: wrote matrix with 6000 rows and 6000 columns as 4 blocks of size 4096 to file:/tmp/hail.Y2Dh5hqGGSs3/SBKU8pbbGk.bm\n",
      "2020-04-23 18:11:40 Hail: INFO: wrote matrix with 6000 rows and 6000 columns as 4 blocks of size 4096 to file:/tmp/hail.Y2Dh5hqGGSs3/3a4QVDGQHa.bm\n",
      "2020-04-23 18:11:40 Hail: INFO: wrote matrix with 6000 rows and 6000 columns as 4 blocks of size 4096 to file:/tmp/hail.Y2Dh5hqGGSs3/GtZzIkJUSi.bm\n",
      "2020-04-23 18:12:06 Hail: INFO: wrote matrix with 6000 rows and 6000 columns as 4 blocks of size 4096 to file:/tmp/hail.Y2Dh5hqGGSs3/jaVnS3aKoZ.bm\n",
      "2020-04-23 18:12:29 Hail: INFO: wrote matrix with 6000 rows and 6000 columns as 4 blocks of size 4096 to file:/tmp/hail.Y2Dh5hqGGSs3/RzMrx1Vds3.bm\n",
      "2020-04-23 18:12:30 Hail: INFO: wrote matrix with 6000 rows and 6000 columns as 4 blocks of size 4096 to file:/tmp/hail.Y2Dh5hqGGSs3/N2szvVfEuy.bm\n",
      "2020-04-23 18:12:47 Hail: INFO: Ordering unsorted dataset with network shuffle\n"
     ]
    }
   ],
   "source": [
    "for s in range(1000, 10001, 1000):\n",
    "    for v in range(1000, 10001, 1000):\n",
    "        do_experiment(\"simple_pop_10_1000_to_10000_cross_cpu_8_ram_31\", samples=s, variants=v, populations=10)"
   ]
  },
  {
   "cell_type": "code",
   "execution_count": 7,
   "metadata": {
    "scrolled": true
   },
   "outputs": [
    {
     "name": "stderr",
     "output_type": "stream",
     "text": [
      "2020-04-23 18:28:16 Hail: INFO: hwe_normalized_pca: running PCA using 5000 variants.\n",
      "2020-04-23 18:28:17 Hail: INFO: pca: running PCA with 10 components...\n"
     ]
    },
    {
     "name": "stdout",
     "output_type": "stream",
     "text": [
      "PCA took s:1000, v:5000, p:10 : 10.59 seconds\n"
     ]
    },
    {
     "name": "stderr",
     "output_type": "stream",
     "text": [
      "2020-04-23 18:28:28 Hail: INFO: Wrote all 2 blocks of 5000 x 1000 matrix with block size 4096.\n",
      "2020-04-23 18:28:28 Hail: INFO: wrote matrix with 11 rows and 5000 columns as 2 blocks of size 4096 to file:/tmp/hail.1R6u1BF3Na8F/Lqs9oBTS6K.bm\n",
      "2020-04-23 18:28:28 Hail: INFO: wrote matrix with 5000 rows and 1000 columns as 2 blocks of size 4096 to file:/tmp/hail.1R6u1BF3Na8F/fWzD3kRfZ9.bm\n",
      "2020-04-23 18:28:29 Hail: INFO: wrote matrix with 5000 rows and 1000 columns as 2 blocks of size 4096 to file:/tmp/hail.1R6u1BF3Na8F/Mf3ETwDNJy.bm\n",
      "2020-04-23 18:28:30 Hail: INFO: wrote matrix with 1000 rows and 1000 columns as 1 block of size 4096 to file:/tmp/hail.1R6u1BF3Na8F/VTdteCAnJH.bm\n",
      "2020-04-23 18:28:31 Hail: INFO: wrote matrix with 1000 rows and 1000 columns as 1 block of size 4096 to file:/tmp/hail.1R6u1BF3Na8F/3adlFOsrRc.bm\n",
      "2020-04-23 18:28:31 Hail: INFO: wrote matrix with 1000 rows and 1000 columns as 1 block of size 4096 to file:/tmp/hail.1R6u1BF3Na8F/AhPd8QSjUD.bm\n",
      "2020-04-23 18:28:33 Hail: INFO: wrote matrix with 1000 rows and 1000 columns as 1 block of size 4096 to file:/tmp/hail.1R6u1BF3Na8F/JBPXznB85N.bm\n",
      "2020-04-23 18:28:34 Hail: INFO: wrote matrix with 1000 rows and 1000 columns as 1 block of size 4096 to file:/tmp/hail.1R6u1BF3Na8F/zyQRYeuUiy.bm\n",
      "2020-04-23 18:28:34 Hail: INFO: wrote matrix with 1000 rows and 1000 columns as 1 block of size 4096 to file:/tmp/hail.1R6u1BF3Na8F/MoWmOvF5Js.bm\n",
      "2020-04-23 18:28:36 Hail: INFO: wrote matrix with 1000 rows and 1000 columns as 1 block of size 4096 to file:/tmp/hail.1R6u1BF3Na8F/2m4escAeUT.bm\n",
      "2020-04-23 18:28:37 Hail: INFO: wrote matrix with 1000 rows and 1000 columns as 1 block of size 4096 to file:/tmp/hail.1R6u1BF3Na8F/8zTUO7HTMb.bm\n",
      "2020-04-23 18:28:37 Hail: INFO: wrote matrix with 1000 rows and 1000 columns as 1 block of size 4096 to file:/tmp/hail.1R6u1BF3Na8F/fEh1guZ6wJ.bm\n",
      "2020-04-23 18:28:39 Hail: INFO: Ordering unsorted dataset with network shuffle\n",
      "2020-04-23 18:28:43 Hail: INFO: Coerced sorted dataset\n",
      "2020-04-23 18:28:47 Hail: INFO: wrote table with 499500 rows in 1 partition to /tmp/tmpjxkgmddy/pc_relate_result\n"
     ]
    },
    {
     "name": "stdout",
     "output_type": "stream",
     "text": [
      "Deleting pc_relate results: /tmp/tmpjxkgmddy/pc_relate_result\n",
      "Deleting hail tmp dir: /tmp/hail.1R6u1BF3Na8F\n"
     ]
    },
    {
     "name": "stderr",
     "output_type": "stream",
     "text": [
      "2020-04-23 18:28:48 Hail: INFO: hwe_normalized_pca: running PCA using 10000 variants.\n",
      "2020-04-23 18:28:49 Hail: INFO: pca: running PCA with 10 components...\n"
     ]
    },
    {
     "name": "stdout",
     "output_type": "stream",
     "text": [
      "PCA took s:2000, v:10000, p:10 : 9.91 seconds\n"
     ]
    },
    {
     "name": "stderr",
     "output_type": "stream",
     "text": [
      "2020-04-23 18:29:00 Hail: INFO: Wrote all 3 blocks of 10000 x 2000 matrix with block size 4096.\n",
      "2020-04-23 18:29:00 Hail: INFO: wrote matrix with 11 rows and 10000 columns as 3 blocks of size 4096 to file:/tmp/hail.1R6u1BF3Na8F/1R0St08BR2.bm\n",
      "2020-04-23 18:29:01 Hail: INFO: wrote matrix with 10000 rows and 2000 columns as 3 blocks of size 4096 to file:/tmp/hail.1R6u1BF3Na8F/v4DyB9pSMY.bm\n",
      "2020-04-23 18:29:01 Hail: INFO: wrote matrix with 10000 rows and 2000 columns as 3 blocks of size 4096 to file:/tmp/hail.1R6u1BF3Na8F/MrjpbpPdXi.bm\n",
      "2020-04-23 18:29:10 Hail: INFO: wrote matrix with 2000 rows and 2000 columns as 1 block of size 4096 to file:/tmp/hail.1R6u1BF3Na8F/6b41LbukBr.bm\n",
      "2020-04-23 18:29:18 Hail: INFO: wrote matrix with 2000 rows and 2000 columns as 1 block of size 4096 to file:/tmp/hail.1R6u1BF3Na8F/oSjIsQCw7e.bm\n",
      "2020-04-23 18:29:19 Hail: INFO: wrote matrix with 2000 rows and 2000 columns as 1 block of size 4096 to file:/tmp/hail.1R6u1BF3Na8F/RiUhUYkedZ.bm\n",
      "2020-04-23 18:29:29 Hail: INFO: wrote matrix with 2000 rows and 2000 columns as 1 block of size 4096 to file:/tmp/hail.1R6u1BF3Na8F/bRMYRP5Flr.bm\n",
      "2020-04-23 18:29:37 Hail: INFO: wrote matrix with 2000 rows and 2000 columns as 1 block of size 4096 to file:/tmp/hail.1R6u1BF3Na8F/lti7kugz0n.bm\n",
      "2020-04-23 18:29:38 Hail: INFO: wrote matrix with 2000 rows and 2000 columns as 1 block of size 4096 to file:/tmp/hail.1R6u1BF3Na8F/weACPjZiSa.bm\n",
      "2020-04-23 18:29:47 Hail: INFO: wrote matrix with 2000 rows and 2000 columns as 1 block of size 4096 to file:/tmp/hail.1R6u1BF3Na8F/UcmojdQxKL.bm\n",
      "2020-04-23 18:29:56 Hail: INFO: wrote matrix with 2000 rows and 2000 columns as 1 block of size 4096 to file:/tmp/hail.1R6u1BF3Na8F/riHP6ZE3pw.bm\n",
      "2020-04-23 18:29:57 Hail: INFO: wrote matrix with 2000 rows and 2000 columns as 1 block of size 4096 to file:/tmp/hail.1R6u1BF3Na8F/PK2PBSqMvw.bm\n",
      "2020-04-23 18:30:00 Hail: INFO: Ordering unsorted dataset with network shuffle\n",
      "2020-04-23 18:30:18 Hail: INFO: Coerced sorted dataset\n",
      "2020-04-23 18:30:31 Hail: INFO: wrote table with 1999000 rows in 1 partition to /tmp/tmpfsr_jbxe/pc_relate_result\n",
      "2020-04-23 18:30:31 Hail: INFO: balding_nichols_model: generating genotypes for 10 populations, 3000 samples, and 15000 variants...\n"
     ]
    },
    {
     "name": "stdout",
     "output_type": "stream",
     "text": [
      "Deleting pc_relate results: /tmp/tmpfsr_jbxe/pc_relate_result\n",
      "Deleting hail tmp dir: /tmp/hail.1R6u1BF3Na8F\n"
     ]
    },
    {
     "name": "stderr",
     "output_type": "stream",
     "text": [
      "2020-04-23 18:30:32 Hail: INFO: Coerced sorted dataset\n",
      "2020-04-23 18:30:40 Hail: INFO: wrote matrix table with 15000 rows and 3000 columns in 8 partitions to /home/rav/data/tmp/mt_3000_15000_10.mt\n",
      "2020-04-23 18:30:40 Hail: INFO: hwe_normalized_pca: running PCA using 15000 variants.\n",
      "2020-04-23 18:30:42 Hail: INFO: pca: running PCA with 10 components...\n"
     ]
    },
    {
     "name": "stdout",
     "output_type": "stream",
     "text": [
      "PCA took s:3000, v:15000, p:10 : 17.08 seconds\n"
     ]
    },
    {
     "name": "stderr",
     "output_type": "stream",
     "text": [
      "2020-04-23 18:31:01 Hail: INFO: Wrote all 4 blocks of 15000 x 3000 matrix with block size 4096.\n",
      "2020-04-23 18:31:02 Hail: INFO: wrote matrix with 11 rows and 15000 columns as 4 blocks of size 4096 to file:/tmp/hail.1R6u1BF3Na8F/geQ6j1pXoR.bm\n",
      "2020-04-23 18:31:02 Hail: INFO: wrote matrix with 15000 rows and 3000 columns as 4 blocks of size 4096 to file:/tmp/hail.1R6u1BF3Na8F/1uTd8BMRbz.bm\n",
      "2020-04-23 18:31:03 Hail: INFO: wrote matrix with 15000 rows and 3000 columns as 4 blocks of size 4096 to file:/tmp/hail.1R6u1BF3Na8F/tR8ikDiHHD.bm\n",
      "2020-04-23 18:31:32 Hail: INFO: wrote matrix with 3000 rows and 3000 columns as 1 block of size 4096 to file:/tmp/hail.1R6u1BF3Na8F/OKxowwPIrn.bm\n",
      "2020-04-23 18:31:59 Hail: INFO: wrote matrix with 3000 rows and 3000 columns as 1 block of size 4096 to file:/tmp/hail.1R6u1BF3Na8F/8pQddr3wpQ.bm\n",
      "2020-04-23 18:31:59 Hail: INFO: wrote matrix with 3000 rows and 3000 columns as 1 block of size 4096 to file:/tmp/hail.1R6u1BF3Na8F/UVGJ78UEVX.bm\n",
      "2020-04-23 18:32:33 Hail: INFO: wrote matrix with 3000 rows and 3000 columns as 1 block of size 4096 to file:/tmp/hail.1R6u1BF3Na8F/ncVsjqm2GU.bm\n",
      "2020-04-23 18:33:00 Hail: INFO: wrote matrix with 3000 rows and 3000 columns as 1 block of size 4096 to file:/tmp/hail.1R6u1BF3Na8F/SDR51wgDXl.bm\n",
      "2020-04-23 18:33:00 Hail: INFO: wrote matrix with 3000 rows and 3000 columns as 1 block of size 4096 to file:/tmp/hail.1R6u1BF3Na8F/c3JtnJEuBu.bm\n",
      "2020-04-23 18:33:30 Hail: INFO: wrote matrix with 3000 rows and 3000 columns as 1 block of size 4096 to file:/tmp/hail.1R6u1BF3Na8F/fllAwK3B84.bm\n",
      "2020-04-23 18:34:00 Hail: INFO: wrote matrix with 3000 rows and 3000 columns as 1 block of size 4096 to file:/tmp/hail.1R6u1BF3Na8F/sGFkJjc6Bp.bm\n",
      "2020-04-23 18:34:01 Hail: INFO: wrote matrix with 3000 rows and 3000 columns as 1 block of size 4096 to file:/tmp/hail.1R6u1BF3Na8F/km7dlJ5DAu.bm\n",
      "2020-04-23 18:34:10 Hail: INFO: Ordering unsorted dataset with network shuffle\n",
      "2020-04-23 18:34:50 Hail: INFO: Coerced sorted dataset\n",
      "2020-04-23 18:35:21 Hail: INFO: wrote table with 4498500 rows in 1 partition to /tmp/tmpoml4o2sz/pc_relate_result\n"
     ]
    },
    {
     "name": "stdout",
     "output_type": "stream",
     "text": [
      "Deleting pc_relate results: /tmp/tmpoml4o2sz/pc_relate_result\n",
      "Deleting hail tmp dir: /tmp/hail.1R6u1BF3Na8F\n"
     ]
    },
    {
     "name": "stderr",
     "output_type": "stream",
     "text": [
      "2020-04-23 18:35:21 Hail: INFO: balding_nichols_model: generating genotypes for 10 populations, 4000 samples, and 20000 variants...\n",
      "2020-04-23 18:35:22 Hail: INFO: Coerced sorted dataset\n",
      "2020-04-23 18:35:34 Hail: INFO: wrote matrix table with 20000 rows and 4000 columns in 8 partitions to /home/rav/data/tmp/mt_4000_20000_10.mt\n",
      "2020-04-23 18:35:35 Hail: INFO: hwe_normalized_pca: running PCA using 20000 variants.\n",
      "2020-04-23 18:35:37 Hail: INFO: pca: running PCA with 10 components...\n"
     ]
    },
    {
     "name": "stdout",
     "output_type": "stream",
     "text": [
      "PCA took s:4000, v:20000, p:10 : 22.88 seconds\n"
     ]
    },
    {
     "name": "stderr",
     "output_type": "stream",
     "text": [
      "2020-04-23 18:36:04 Hail: INFO: Wrote all 5 blocks of 20000 x 4000 matrix with block size 4096.\n",
      "2020-04-23 18:36:05 Hail: INFO: wrote matrix with 11 rows and 20000 columns as 5 blocks of size 4096 to file:/tmp/hail.1R6u1BF3Na8F/lfBrQWXNIb.bm\n",
      "2020-04-23 18:36:05 Hail: INFO: wrote matrix with 20000 rows and 4000 columns as 5 blocks of size 4096 to file:/tmp/hail.1R6u1BF3Na8F/9yzp0Psnad.bm\n",
      "2020-04-23 18:36:06 Hail: INFO: wrote matrix with 20000 rows and 4000 columns as 5 blocks of size 4096 to file:/tmp/hail.1R6u1BF3Na8F/NKtM6X1fqI.bm\n",
      "2020-04-23 18:37:12 Hail: INFO: wrote matrix with 4000 rows and 4000 columns as 1 block of size 4096 to file:/tmp/hail.1R6u1BF3Na8F/MXc20Wjjx4.bm\n",
      "2020-04-23 18:38:17 Hail: INFO: wrote matrix with 4000 rows and 4000 columns as 1 block of size 4096 to file:/tmp/hail.1R6u1BF3Na8F/Q4TahfY6LQ.bm\n",
      "2020-04-23 18:38:18 Hail: INFO: wrote matrix with 4000 rows and 4000 columns as 1 block of size 4096 to file:/tmp/hail.1R6u1BF3Na8F/vIRYRzr2Za.bm\n",
      "2020-04-23 18:39:33 Hail: INFO: wrote matrix with 4000 rows and 4000 columns as 1 block of size 4096 to file:/tmp/hail.1R6u1BF3Na8F/28cRRQO7bs.bm\n",
      "2020-04-23 18:40:37 Hail: INFO: wrote matrix with 4000 rows and 4000 columns as 1 block of size 4096 to file:/tmp/hail.1R6u1BF3Na8F/syEqFyGstp.bm\n",
      "2020-04-23 18:40:38 Hail: INFO: wrote matrix with 4000 rows and 4000 columns as 1 block of size 4096 to file:/tmp/hail.1R6u1BF3Na8F/9Xwo5OhqP0.bm\n",
      "2020-04-23 18:41:47 Hail: INFO: wrote matrix with 4000 rows and 4000 columns as 1 block of size 4096 to file:/tmp/hail.1R6u1BF3Na8F/HgHH1ED0Ep.bm\n",
      "2020-04-23 18:42:55 Hail: INFO: wrote matrix with 4000 rows and 4000 columns as 1 block of size 4096 to file:/tmp/hail.1R6u1BF3Na8F/5j7jqRUA2M.bm\n",
      "2020-04-23 18:42:57 Hail: INFO: wrote matrix with 4000 rows and 4000 columns as 1 block of size 4096 to file:/tmp/hail.1R6u1BF3Na8F/mrG9UwGDvr.bm\n",
      "2020-04-23 18:43:12 Hail: INFO: Ordering unsorted dataset with network shuffle\n",
      "2020-04-23 18:44:26 Hail: INFO: Coerced sorted dataset\n",
      "2020-04-23 18:45:19 Hail: INFO: wrote table with 7998000 rows in 1 partition to /tmp/tmpk67e7tug/pc_relate_result\n"
     ]
    },
    {
     "name": "stdout",
     "output_type": "stream",
     "text": [
      "Deleting pc_relate results: /tmp/tmpk67e7tug/pc_relate_result\n",
      "Deleting hail tmp dir: /tmp/hail.1R6u1BF3Na8F\n"
     ]
    },
    {
     "name": "stderr",
     "output_type": "stream",
     "text": [
      "2020-04-23 18:45:21 Hail: INFO: hwe_normalized_pca: running PCA using 25000 variants.\n",
      "2020-04-23 18:45:24 Hail: INFO: pca: running PCA with 10 components...\n"
     ]
    },
    {
     "name": "stdout",
     "output_type": "stream",
     "text": [
      "PCA took s:5000, v:25000, p:10 : 28.75 seconds\n"
     ]
    },
    {
     "name": "stderr",
     "output_type": "stream",
     "text": [
      "2020-04-23 18:45:58 Hail: INFO: Wrote all 14 blocks of 25000 x 5000 matrix with block size 4096.\n",
      "2020-04-23 18:46:00 Hail: INFO: wrote matrix with 11 rows and 25000 columns as 7 blocks of size 4096 to file:/tmp/hail.1R6u1BF3Na8F/PMzQQL5ghT.bm\n",
      "2020-04-23 18:46:01 Hail: INFO: wrote matrix with 25000 rows and 5000 columns as 14 blocks of size 4096 to file:/tmp/hail.1R6u1BF3Na8F/bfZiazrNMy.bm\n",
      "2020-04-23 18:46:02 Hail: INFO: wrote matrix with 25000 rows and 5000 columns as 14 blocks of size 4096 to file:/tmp/hail.1R6u1BF3Na8F/E3VUfUzftV.bm\n",
      "2020-04-23 18:47:26 Hail: INFO: wrote matrix with 5000 rows and 5000 columns as 4 blocks of size 4096 to file:/tmp/hail.1R6u1BF3Na8F/xBwBjj3eO8.bm\n",
      "2020-04-23 18:48:49 Hail: INFO: wrote matrix with 5000 rows and 5000 columns as 4 blocks of size 4096 to file:/tmp/hail.1R6u1BF3Na8F/LOodFXyhUy.bm\n",
      "2020-04-23 18:48:50 Hail: INFO: wrote matrix with 5000 rows and 5000 columns as 4 blocks of size 4096 to file:/tmp/hail.1R6u1BF3Na8F/loHNoT7sph.bm\n",
      "2020-04-23 18:50:21 Hail: INFO: wrote matrix with 5000 rows and 5000 columns as 4 blocks of size 4096 to file:/tmp/hail.1R6u1BF3Na8F/vg5o47N2G9.bm\n",
      "2020-04-23 18:51:44 Hail: INFO: wrote matrix with 5000 rows and 5000 columns as 4 blocks of size 4096 to file:/tmp/hail.1R6u1BF3Na8F/fjOzM30PRw.bm\n",
      "2020-04-23 18:51:44 Hail: INFO: wrote matrix with 5000 rows and 5000 columns as 4 blocks of size 4096 to file:/tmp/hail.1R6u1BF3Na8F/6UeZA8585c.bm\n",
      "2020-04-23 18:53:16 Hail: INFO: wrote matrix with 5000 rows and 5000 columns as 4 blocks of size 4096 to file:/tmp/hail.1R6u1BF3Na8F/XLTRotTAQY.bm\n",
      "2020-04-23 18:54:45 Hail: INFO: wrote matrix with 5000 rows and 5000 columns as 4 blocks of size 4096 to file:/tmp/hail.1R6u1BF3Na8F/JiTeSazar7.bm\n",
      "2020-04-23 18:54:47 Hail: INFO: wrote matrix with 5000 rows and 5000 columns as 4 blocks of size 4096 to file:/tmp/hail.1R6u1BF3Na8F/fVkns37bAC.bm\n",
      "2020-04-23 18:55:04 Hail: INFO: Ordering unsorted dataset with network shuffle\n",
      "2020-04-23 18:56:08 Hail: INFO: Coerced sorted dataset\n",
      "2020-04-23 18:56:54 Hail: INFO: wrote table with 12497500 rows in 4 partitions to /tmp/tmpfzltui0u/pc_relate_result\n"
     ]
    },
    {
     "name": "stdout",
     "output_type": "stream",
     "text": [
      "Deleting pc_relate results: /tmp/tmpfzltui0u/pc_relate_result\n",
      "Deleting hail tmp dir: /tmp/hail.1R6u1BF3Na8F\n"
     ]
    },
    {
     "name": "stderr",
     "output_type": "stream",
     "text": [
      "2020-04-23 18:56:55 Hail: INFO: balding_nichols_model: generating genotypes for 10 populations, 6000 samples, and 30000 variants...\n",
      "2020-04-23 18:56:56 Hail: INFO: Coerced sorted dataset\n",
      "2020-04-23 18:57:21 Hail: INFO: wrote matrix table with 30000 rows and 6000 columns in 8 partitions to /home/rav/data/tmp/mt_6000_30000_10.mt\n",
      "2020-04-23 18:57:23 Hail: INFO: hwe_normalized_pca: running PCA using 30000 variants.\n",
      "2020-04-23 18:57:27 Hail: INFO: pca: running PCA with 10 components...\n"
     ]
    },
    {
     "name": "stdout",
     "output_type": "stream",
     "text": [
      "PCA took s:6000, v:30000, p:10 : 42.13 seconds\n"
     ]
    },
    {
     "name": "stderr",
     "output_type": "stream",
     "text": [
      "2020-04-23 18:58:16 Hail: INFO: Wrote all 16 blocks of 30000 x 6000 matrix with block size 4096.\n",
      "2020-04-23 18:58:17 Hail: INFO: wrote matrix with 11 rows and 30000 columns as 8 blocks of size 4096 to file:/tmp/hail.1R6u1BF3Na8F/ta8Yn6YeBk.bm\n",
      "2020-04-23 18:58:18 Hail: INFO: wrote matrix with 30000 rows and 6000 columns as 16 blocks of size 4096 to file:/tmp/hail.1R6u1BF3Na8F/fkLEfaHwlt.bm\n",
      "2020-04-23 18:58:20 Hail: INFO: wrote matrix with 30000 rows and 6000 columns as 16 blocks of size 4096 to file:/tmp/hail.1R6u1BF3Na8F/gHPhtin6s8.bm\n",
      "2020-04-23 19:00:01 Hail: INFO: wrote matrix with 6000 rows and 6000 columns as 4 blocks of size 4096 to file:/tmp/hail.1R6u1BF3Na8F/1XwWRqNUbS.bm\n",
      "2020-04-23 19:01:43 Hail: INFO: wrote matrix with 6000 rows and 6000 columns as 4 blocks of size 4096 to file:/tmp/hail.1R6u1BF3Na8F/Z7Er448Zvh.bm\n",
      "2020-04-23 19:01:44 Hail: INFO: wrote matrix with 6000 rows and 6000 columns as 4 blocks of size 4096 to file:/tmp/hail.1R6u1BF3Na8F/r8E0ER5nTj.bm\n",
      "2020-04-23 19:03:39 Hail: INFO: wrote matrix with 6000 rows and 6000 columns as 4 blocks of size 4096 to file:/tmp/hail.1R6u1BF3Na8F/vPryzMyvWq.bm\n",
      "2020-04-23 19:05:21 Hail: INFO: wrote matrix with 6000 rows and 6000 columns as 4 blocks of size 4096 to file:/tmp/hail.1R6u1BF3Na8F/qcyZqS00qG.bm\n",
      "2020-04-23 19:05:21 Hail: INFO: wrote matrix with 6000 rows and 6000 columns as 4 blocks of size 4096 to file:/tmp/hail.1R6u1BF3Na8F/rvNFGtq8DB.bm\n",
      "2020-04-23 19:07:12 Hail: INFO: wrote matrix with 6000 rows and 6000 columns as 4 blocks of size 4096 to file:/tmp/hail.1R6u1BF3Na8F/nxb9IqFgh8.bm\n",
      "2020-04-23 19:09:04 Hail: INFO: wrote matrix with 6000 rows and 6000 columns as 4 blocks of size 4096 to file:/tmp/hail.1R6u1BF3Na8F/QyQLumtW5u.bm\n",
      "2020-04-23 19:09:05 Hail: INFO: wrote matrix with 6000 rows and 6000 columns as 4 blocks of size 4096 to file:/tmp/hail.1R6u1BF3Na8F/KxxthHqT60.bm\n",
      "2020-04-23 19:09:22 Hail: INFO: Ordering unsorted dataset with network shuffle\n",
      "2020-04-23 19:10:34 Hail: INFO: Coerced sorted dataset\n",
      "2020-04-23 19:11:33 Hail: INFO: wrote table with 17997000 rows in 4 partitions to /tmp/tmp7rc5nl4b/pc_relate_result\n"
     ]
    },
    {
     "name": "stdout",
     "output_type": "stream",
     "text": [
      "Deleting pc_relate results: /tmp/tmp7rc5nl4b/pc_relate_result\n",
      "Deleting hail tmp dir: /tmp/hail.1R6u1BF3Na8F\n"
     ]
    },
    {
     "name": "stderr",
     "output_type": "stream",
     "text": [
      "2020-04-23 19:11:34 Hail: INFO: balding_nichols_model: generating genotypes for 10 populations, 7000 samples, and 35000 variants...\n",
      "2020-04-23 19:11:35 Hail: INFO: Coerced sorted dataset\n",
      "2020-04-23 19:12:11 Hail: INFO: wrote matrix table with 35000 rows and 7000 columns in 8 partitions to /home/rav/data/tmp/mt_7000_35000_10.mt\n",
      "2020-04-23 19:12:14 Hail: INFO: hwe_normalized_pca: running PCA using 35000 variants.\n",
      "2020-04-23 19:12:19 Hail: INFO: pca: running PCA with 10 components...\n"
     ]
    },
    {
     "name": "stdout",
     "output_type": "stream",
     "text": [
      "PCA took s:7000, v:35000, p:10 : 67.89 seconds\n"
     ]
    },
    {
     "name": "stderr",
     "output_type": "stream",
     "text": [
      "2020-04-23 19:13:35 Hail: INFO: Wrote all 18 blocks of 35000 x 7000 matrix with block size 4096.\n",
      "2020-04-23 19:13:37 Hail: INFO: wrote matrix with 11 rows and 35000 columns as 9 blocks of size 4096 to file:/tmp/hail.1R6u1BF3Na8F/9t9CEqfl1C.bm\n",
      "2020-04-23 19:13:39 Hail: INFO: wrote matrix with 35000 rows and 7000 columns as 18 blocks of size 4096 to file:/tmp/hail.1R6u1BF3Na8F/AT3c3Pj37R.bm\n",
      "2020-04-23 19:13:42 Hail: INFO: wrote matrix with 35000 rows and 7000 columns as 18 blocks of size 4096 to file:/tmp/hail.1R6u1BF3Na8F/XJt3nXJS6N.bm\n",
      "2020-04-23 19:15:45 Hail: INFO: wrote matrix with 7000 rows and 7000 columns as 4 blocks of size 4096 to file:/tmp/hail.1R6u1BF3Na8F/n77h4N3PHj.bm\n",
      "2020-04-23 19:17:44 Hail: INFO: wrote matrix with 7000 rows and 7000 columns as 4 blocks of size 4096 to file:/tmp/hail.1R6u1BF3Na8F/2qCqOk0tkE.bm\n",
      "2020-04-23 19:17:45 Hail: INFO: wrote matrix with 7000 rows and 7000 columns as 4 blocks of size 4096 to file:/tmp/hail.1R6u1BF3Na8F/RtRTJBJFC9.bm\n",
      "2020-04-23 19:20:10 Hail: INFO: wrote matrix with 7000 rows and 7000 columns as 4 blocks of size 4096 to file:/tmp/hail.1R6u1BF3Na8F/Jp5HFOqJbH.bm\n",
      "2020-04-23 19:22:09 Hail: INFO: wrote matrix with 7000 rows and 7000 columns as 4 blocks of size 4096 to file:/tmp/hail.1R6u1BF3Na8F/fmiWxfUPZl.bm\n",
      "2020-04-23 19:22:10 Hail: INFO: wrote matrix with 7000 rows and 7000 columns as 4 blocks of size 4096 to file:/tmp/hail.1R6u1BF3Na8F/6ClhVkrENN.bm\n",
      "2020-04-23 19:24:24 Hail: INFO: wrote matrix with 7000 rows and 7000 columns as 4 blocks of size 4096 to file:/tmp/hail.1R6u1BF3Na8F/DtDZ5csEqK.bm\n",
      "2020-04-23 19:26:34 Hail: INFO: wrote matrix with 7000 rows and 7000 columns as 4 blocks of size 4096 to file:/tmp/hail.1R6u1BF3Na8F/6Yo6CHYPnz.bm\n",
      "2020-04-23 19:26:38 Hail: INFO: wrote matrix with 7000 rows and 7000 columns as 4 blocks of size 4096 to file:/tmp/hail.1R6u1BF3Na8F/u4Aw2zrhU2.bm\n",
      "2020-04-23 19:27:03 Hail: INFO: Ordering unsorted dataset with network shuffle\n",
      "2020-04-23 19:28:58 Hail: INFO: Coerced sorted dataset\n"
     ]
    },
    {
     "name": "stdout",
     "output_type": "stream",
     "text": [
      "Deleting pc_relate results: /tmp/tmpuhf2v1xm/pc_relate_result\n",
      "Deleting hail tmp dir: /tmp/hail.1R6u1BF3Na8F\n"
     ]
    },
    {
     "name": "stderr",
     "output_type": "stream",
     "text": [
      "2020-04-23 19:30:15 Hail: INFO: wrote table with 24496500 rows in 4 partitions to /tmp/tmpuhf2v1xm/pc_relate_result\n",
      "2020-04-23 19:30:15 Hail: INFO: balding_nichols_model: generating genotypes for 10 populations, 8000 samples, and 40000 variants...\n",
      "2020-04-23 19:30:16 Hail: INFO: Coerced sorted dataset\n",
      "2020-04-23 19:31:02 Hail: INFO: wrote matrix table with 40000 rows and 8000 columns in 8 partitions to /home/rav/data/tmp/mt_8000_40000_10.mt\n",
      "2020-04-23 19:31:06 Hail: INFO: hwe_normalized_pca: running PCA using 40000 variants.\n",
      "2020-04-23 19:31:13 Hail: INFO: pca: running PCA with 10 components...\n"
     ]
    },
    {
     "name": "stdout",
     "output_type": "stream",
     "text": [
      "PCA took s:8000, v:40000, p:10 : 81.87 seconds\n"
     ]
    },
    {
     "name": "stderr",
     "output_type": "stream",
     "text": [
      "2020-04-23 19:32:49 Hail: INFO: Wrote all 20 blocks of 40000 x 8000 matrix with block size 4096.\n",
      "2020-04-23 19:32:52 Hail: INFO: wrote matrix with 11 rows and 40000 columns as 10 blocks of size 4096 to file:/tmp/hail.1R6u1BF3Na8F/IJrt61HFLV.bm\n",
      "2020-04-23 19:32:53 Hail: INFO: wrote matrix with 40000 rows and 8000 columns as 20 blocks of size 4096 to file:/tmp/hail.1R6u1BF3Na8F/R2dKedGNiy.bm\n",
      "2020-04-23 19:33:02 Hail: INFO: wrote matrix with 40000 rows and 8000 columns as 20 blocks of size 4096 to file:/tmp/hail.1R6u1BF3Na8F/6dB2E6aKXa.bm\n",
      "2020-04-23 19:35:23 Hail: INFO: wrote matrix with 8000 rows and 8000 columns as 4 blocks of size 4096 to file:/tmp/hail.1R6u1BF3Na8F/kHoBw1fPP1.bm\n",
      "2020-04-23 19:37:45 Hail: INFO: wrote matrix with 8000 rows and 8000 columns as 4 blocks of size 4096 to file:/tmp/hail.1R6u1BF3Na8F/pZbGwr7sen.bm\n",
      "2020-04-23 19:37:48 Hail: INFO: wrote matrix with 8000 rows and 8000 columns as 4 blocks of size 4096 to file:/tmp/hail.1R6u1BF3Na8F/5xQGdo92CQ.bm\n",
      "ERROR:root:Exception while sending command.\n",
      "Traceback (most recent call last):\n",
      "  File \"/opt/conda/envs/gwas/lib/python3.7/site-packages/py4j/java_gateway.py\", line 1159, in send_command\n",
      "    raise Py4JNetworkError(\"Answer from Java side is empty\")\n",
      "py4j.protocol.Py4JNetworkError: Answer from Java side is empty\n",
      "\n",
      "During handling of the above exception, another exception occurred:\n",
      "\n",
      "Traceback (most recent call last):\n",
      "  File \"/opt/conda/envs/gwas/lib/python3.7/site-packages/py4j/java_gateway.py\", line 985, in send_command\n",
      "    response = connection.send_command(command)\n",
      "  File \"/opt/conda/envs/gwas/lib/python3.7/site-packages/py4j/java_gateway.py\", line 1164, in send_command\n",
      "    \"Error while receiving\", e, proto.ERROR_ON_RECEIVE)\n",
      "py4j.protocol.Py4JNetworkError: Error while receiving\n"
     ]
    },
    {
     "name": "stdout",
     "output_type": "stream",
     "text": [
      "Deleting hail tmp dir: /tmp/hail.1R6u1BF3Na8F\n"
     ]
    },
    {
     "ename": "Py4JError",
     "evalue": "An error occurred while calling o806.executeJSON",
     "output_type": "error",
     "traceback": [
      "\u001b[0;31m---------------------------------------------------------------------------\u001b[0m",
      "\u001b[0;31mPy4JError\u001b[0m                                 Traceback (most recent call last)",
      "\u001b[0;32m<ipython-input-7-fe1b741176dd>\u001b[0m in \u001b[0;36m<module>\u001b[0;34m\u001b[0m\n\u001b[1;32m      2\u001b[0m     \u001b[0msamples\u001b[0m \u001b[0;34m=\u001b[0m \u001b[0mi\u001b[0m\u001b[0;34m\u001b[0m\u001b[0;34m\u001b[0m\u001b[0m\n\u001b[1;32m      3\u001b[0m     \u001b[0mvariants\u001b[0m \u001b[0;34m=\u001b[0m \u001b[0msamples\u001b[0m \u001b[0;34m*\u001b[0m \u001b[0;36m5\u001b[0m\u001b[0;34m\u001b[0m\u001b[0;34m\u001b[0m\u001b[0m\n\u001b[0;32m----> 4\u001b[0;31m     \u001b[0mdo_experiment\u001b[0m\u001b[0;34m(\u001b[0m\u001b[0;34m\"simple_1_to_5_sample_to_variant_cpu_8_ram_31\"\u001b[0m\u001b[0;34m,\u001b[0m \u001b[0msamples\u001b[0m\u001b[0;34m=\u001b[0m\u001b[0msamples\u001b[0m\u001b[0;34m,\u001b[0m \u001b[0mvariants\u001b[0m\u001b[0;34m=\u001b[0m\u001b[0mvariants\u001b[0m\u001b[0;34m,\u001b[0m \u001b[0mpopulations\u001b[0m\u001b[0;34m=\u001b[0m\u001b[0;36m10\u001b[0m\u001b[0;34m)\u001b[0m\u001b[0;34m\u001b[0m\u001b[0;34m\u001b[0m\u001b[0m\n\u001b[0m",
      "\u001b[0;32m<ipython-input-5-23eac10fcab2>\u001b[0m in \u001b[0;36mdo_experiment\u001b[0;34m(experiment_name, samples, variants, populations)\u001b[0m\n\u001b[1;32m     18\u001b[0m             \u001b[0mpc_relate_result\u001b[0m \u001b[0;34m=\u001b[0m \u001b[0mhl\u001b[0m\u001b[0;34m.\u001b[0m\u001b[0mmethods\u001b[0m\u001b[0;34m.\u001b[0m\u001b[0mpc_relate\u001b[0m\u001b[0;34m(\u001b[0m\u001b[0mmt\u001b[0m\u001b[0;34m.\u001b[0m\u001b[0mGT\u001b[0m\u001b[0;34m,\u001b[0m \u001b[0mscores_expr\u001b[0m\u001b[0;34m=\u001b[0m\u001b[0mscores\u001b[0m\u001b[0;34m[\u001b[0m\u001b[0mmt\u001b[0m\u001b[0;34m.\u001b[0m\u001b[0mcol_key\u001b[0m\u001b[0;34m]\u001b[0m\u001b[0;34m.\u001b[0m\u001b[0mscores\u001b[0m\u001b[0;34m,\u001b[0m \u001b[0mmin_individual_maf\u001b[0m\u001b[0;34m=\u001b[0m\u001b[0;36m0.01\u001b[0m\u001b[0;34m)\u001b[0m\u001b[0;34m\u001b[0m\u001b[0;34m\u001b[0m\u001b[0m\n\u001b[1;32m     19\u001b[0m             \u001b[0mtmp_dir\u001b[0m \u001b[0;34m=\u001b[0m \u001b[0mPath\u001b[0m\u001b[0;34m(\u001b[0m\u001b[0mtempfile\u001b[0m\u001b[0;34m.\u001b[0m\u001b[0mmkdtemp\u001b[0m\u001b[0;34m(\u001b[0m\u001b[0;34m)\u001b[0m\u001b[0;34m)\u001b[0m\u001b[0;34m.\u001b[0m\u001b[0mjoinpath\u001b[0m\u001b[0;34m(\u001b[0m\u001b[0;34m\"pc_relate_result\"\u001b[0m\u001b[0;34m)\u001b[0m\u001b[0;34m\u001b[0m\u001b[0;34m\u001b[0m\u001b[0m\n\u001b[0;32m---> 20\u001b[0;31m             \u001b[0mpc_relate_result\u001b[0m\u001b[0;34m.\u001b[0m\u001b[0mwrite\u001b[0m\u001b[0;34m(\u001b[0m\u001b[0mtmp_dir\u001b[0m\u001b[0;34m.\u001b[0m\u001b[0mas_posix\u001b[0m\u001b[0;34m(\u001b[0m\u001b[0;34m)\u001b[0m\u001b[0;34m)\u001b[0m\u001b[0;34m\u001b[0m\u001b[0;34m\u001b[0m\u001b[0m\n\u001b[0m\u001b[1;32m     21\u001b[0m             \u001b[0mpc_relate_time\u001b[0m \u001b[0;34m=\u001b[0m \u001b[0mtime\u001b[0m\u001b[0;34m.\u001b[0m\u001b[0mtime\u001b[0m\u001b[0;34m(\u001b[0m\u001b[0;34m)\u001b[0m \u001b[0;34m-\u001b[0m \u001b[0mstart\u001b[0m\u001b[0;34m\u001b[0m\u001b[0;34m\u001b[0m\u001b[0m\n\u001b[1;32m     22\u001b[0m             \u001b[0mprint\u001b[0m\u001b[0;34m(\u001b[0m\u001b[0;34mf\"Deleting pc_relate results: {tmp_dir.as_posix()}\"\u001b[0m\u001b[0;34m)\u001b[0m\u001b[0;34m\u001b[0m\u001b[0;34m\u001b[0m\u001b[0m\n",
      "\u001b[0;32m<decorator-gen-1053>\u001b[0m in \u001b[0;36mwrite\u001b[0;34m(self, output, overwrite, stage_locally, _codec_spec)\u001b[0m\n",
      "\u001b[0;32m/opt/conda/envs/gwas/lib/python3.7/site-packages/hail/typecheck/check.py\u001b[0m in \u001b[0;36mwrapper\u001b[0;34m(__original_func, *args, **kwargs)\u001b[0m\n\u001b[1;32m    583\u001b[0m     \u001b[0;32mdef\u001b[0m \u001b[0mwrapper\u001b[0m\u001b[0;34m(\u001b[0m\u001b[0m__original_func\u001b[0m\u001b[0;34m,\u001b[0m \u001b[0;34m*\u001b[0m\u001b[0margs\u001b[0m\u001b[0;34m,\u001b[0m \u001b[0;34m**\u001b[0m\u001b[0mkwargs\u001b[0m\u001b[0;34m)\u001b[0m\u001b[0;34m:\u001b[0m\u001b[0;34m\u001b[0m\u001b[0;34m\u001b[0m\u001b[0m\n\u001b[1;32m    584\u001b[0m         \u001b[0margs_\u001b[0m\u001b[0;34m,\u001b[0m \u001b[0mkwargs_\u001b[0m \u001b[0;34m=\u001b[0m \u001b[0mcheck_all\u001b[0m\u001b[0;34m(\u001b[0m\u001b[0m__original_func\u001b[0m\u001b[0;34m,\u001b[0m \u001b[0margs\u001b[0m\u001b[0;34m,\u001b[0m \u001b[0mkwargs\u001b[0m\u001b[0;34m,\u001b[0m \u001b[0mcheckers\u001b[0m\u001b[0;34m,\u001b[0m \u001b[0mis_method\u001b[0m\u001b[0;34m=\u001b[0m\u001b[0mis_method\u001b[0m\u001b[0;34m)\u001b[0m\u001b[0;34m\u001b[0m\u001b[0;34m\u001b[0m\u001b[0m\n\u001b[0;32m--> 585\u001b[0;31m         \u001b[0;32mreturn\u001b[0m \u001b[0m__original_func\u001b[0m\u001b[0;34m(\u001b[0m\u001b[0;34m*\u001b[0m\u001b[0margs_\u001b[0m\u001b[0;34m,\u001b[0m \u001b[0;34m**\u001b[0m\u001b[0mkwargs_\u001b[0m\u001b[0;34m)\u001b[0m\u001b[0;34m\u001b[0m\u001b[0;34m\u001b[0m\u001b[0m\n\u001b[0m\u001b[1;32m    586\u001b[0m \u001b[0;34m\u001b[0m\u001b[0m\n\u001b[1;32m    587\u001b[0m     \u001b[0;32mreturn\u001b[0m \u001b[0mwrapper\u001b[0m\u001b[0;34m\u001b[0m\u001b[0;34m\u001b[0m\u001b[0m\n",
      "\u001b[0;32m/opt/conda/envs/gwas/lib/python3.7/site-packages/hail/table.py\u001b[0m in \u001b[0;36mwrite\u001b[0;34m(self, output, overwrite, stage_locally, _codec_spec)\u001b[0m\n\u001b[1;32m   1216\u001b[0m         \"\"\"\n\u001b[1;32m   1217\u001b[0m \u001b[0;34m\u001b[0m\u001b[0m\n\u001b[0;32m-> 1218\u001b[0;31m         \u001b[0mEnv\u001b[0m\u001b[0;34m.\u001b[0m\u001b[0mbackend\u001b[0m\u001b[0;34m(\u001b[0m\u001b[0;34m)\u001b[0m\u001b[0;34m.\u001b[0m\u001b[0mexecute\u001b[0m\u001b[0;34m(\u001b[0m\u001b[0mTableWrite\u001b[0m\u001b[0;34m(\u001b[0m\u001b[0mself\u001b[0m\u001b[0;34m.\u001b[0m\u001b[0m_tir\u001b[0m\u001b[0;34m,\u001b[0m \u001b[0mTableNativeWriter\u001b[0m\u001b[0;34m(\u001b[0m\u001b[0moutput\u001b[0m\u001b[0;34m,\u001b[0m \u001b[0moverwrite\u001b[0m\u001b[0;34m,\u001b[0m \u001b[0mstage_locally\u001b[0m\u001b[0;34m,\u001b[0m \u001b[0m_codec_spec\u001b[0m\u001b[0;34m)\u001b[0m\u001b[0;34m)\u001b[0m\u001b[0;34m)\u001b[0m\u001b[0;34m\u001b[0m\u001b[0;34m\u001b[0m\u001b[0m\n\u001b[0m\u001b[1;32m   1219\u001b[0m \u001b[0;34m\u001b[0m\u001b[0m\n\u001b[1;32m   1220\u001b[0m     \u001b[0;32mdef\u001b[0m \u001b[0m_show\u001b[0m\u001b[0;34m(\u001b[0m\u001b[0mself\u001b[0m\u001b[0;34m,\u001b[0m \u001b[0mn\u001b[0m\u001b[0;34m,\u001b[0m \u001b[0mwidth\u001b[0m\u001b[0;34m,\u001b[0m \u001b[0mtruncate\u001b[0m\u001b[0;34m,\u001b[0m \u001b[0mtypes\u001b[0m\u001b[0;34m)\u001b[0m\u001b[0;34m:\u001b[0m\u001b[0;34m\u001b[0m\u001b[0;34m\u001b[0m\u001b[0m\n",
      "\u001b[0;32m/opt/conda/envs/gwas/lib/python3.7/site-packages/hail/backend/backend.py\u001b[0m in \u001b[0;36mexecute\u001b[0;34m(self, ir, timed)\u001b[0m\n\u001b[1;32m    107\u001b[0m \u001b[0;34m\u001b[0m\u001b[0m\n\u001b[1;32m    108\u001b[0m     \u001b[0;32mdef\u001b[0m \u001b[0mexecute\u001b[0m\u001b[0;34m(\u001b[0m\u001b[0mself\u001b[0m\u001b[0;34m,\u001b[0m \u001b[0mir\u001b[0m\u001b[0;34m,\u001b[0m \u001b[0mtimed\u001b[0m\u001b[0;34m=\u001b[0m\u001b[0;32mFalse\u001b[0m\u001b[0;34m)\u001b[0m\u001b[0;34m:\u001b[0m\u001b[0;34m\u001b[0m\u001b[0;34m\u001b[0m\u001b[0m\n\u001b[0;32m--> 109\u001b[0;31m         \u001b[0mresult\u001b[0m \u001b[0;34m=\u001b[0m \u001b[0mjson\u001b[0m\u001b[0;34m.\u001b[0m\u001b[0mloads\u001b[0m\u001b[0;34m(\u001b[0m\u001b[0mEnv\u001b[0m\u001b[0;34m.\u001b[0m\u001b[0mhc\u001b[0m\u001b[0;34m(\u001b[0m\u001b[0;34m)\u001b[0m\u001b[0;34m.\u001b[0m\u001b[0m_jhc\u001b[0m\u001b[0;34m.\u001b[0m\u001b[0mbackend\u001b[0m\u001b[0;34m(\u001b[0m\u001b[0;34m)\u001b[0m\u001b[0;34m.\u001b[0m\u001b[0mexecuteJSON\u001b[0m\u001b[0;34m(\u001b[0m\u001b[0mself\u001b[0m\u001b[0;34m.\u001b[0m\u001b[0m_to_java_ir\u001b[0m\u001b[0;34m(\u001b[0m\u001b[0mir\u001b[0m\u001b[0;34m)\u001b[0m\u001b[0;34m)\u001b[0m\u001b[0;34m)\u001b[0m\u001b[0;34m\u001b[0m\u001b[0;34m\u001b[0m\u001b[0m\n\u001b[0m\u001b[1;32m    110\u001b[0m         \u001b[0mvalue\u001b[0m \u001b[0;34m=\u001b[0m \u001b[0mir\u001b[0m\u001b[0;34m.\u001b[0m\u001b[0mtyp\u001b[0m\u001b[0;34m.\u001b[0m\u001b[0m_from_json\u001b[0m\u001b[0;34m(\u001b[0m\u001b[0mresult\u001b[0m\u001b[0;34m[\u001b[0m\u001b[0;34m'value'\u001b[0m\u001b[0;34m]\u001b[0m\u001b[0;34m)\u001b[0m\u001b[0;34m\u001b[0m\u001b[0;34m\u001b[0m\u001b[0m\n\u001b[1;32m    111\u001b[0m         \u001b[0mtimings\u001b[0m \u001b[0;34m=\u001b[0m \u001b[0mresult\u001b[0m\u001b[0;34m[\u001b[0m\u001b[0;34m'timings'\u001b[0m\u001b[0;34m]\u001b[0m\u001b[0;34m\u001b[0m\u001b[0;34m\u001b[0m\u001b[0m\n",
      "\u001b[0;32m/opt/conda/envs/gwas/lib/python3.7/site-packages/py4j/java_gateway.py\u001b[0m in \u001b[0;36m__call__\u001b[0;34m(self, *args)\u001b[0m\n\u001b[1;32m   1255\u001b[0m         \u001b[0manswer\u001b[0m \u001b[0;34m=\u001b[0m \u001b[0mself\u001b[0m\u001b[0;34m.\u001b[0m\u001b[0mgateway_client\u001b[0m\u001b[0;34m.\u001b[0m\u001b[0msend_command\u001b[0m\u001b[0;34m(\u001b[0m\u001b[0mcommand\u001b[0m\u001b[0;34m)\u001b[0m\u001b[0;34m\u001b[0m\u001b[0;34m\u001b[0m\u001b[0m\n\u001b[1;32m   1256\u001b[0m         return_value = get_return_value(\n\u001b[0;32m-> 1257\u001b[0;31m             answer, self.gateway_client, self.target_id, self.name)\n\u001b[0m\u001b[1;32m   1258\u001b[0m \u001b[0;34m\u001b[0m\u001b[0m\n\u001b[1;32m   1259\u001b[0m         \u001b[0;32mfor\u001b[0m \u001b[0mtemp_arg\u001b[0m \u001b[0;32min\u001b[0m \u001b[0mtemp_args\u001b[0m\u001b[0;34m:\u001b[0m\u001b[0;34m\u001b[0m\u001b[0;34m\u001b[0m\u001b[0m\n",
      "\u001b[0;32m/opt/conda/envs/gwas/lib/python3.7/site-packages/hail/utils/java.py\u001b[0m in \u001b[0;36mdeco\u001b[0;34m(*args, **kwargs)\u001b[0m\n\u001b[1;32m    211\u001b[0m         \u001b[0;32mimport\u001b[0m \u001b[0mpyspark\u001b[0m\u001b[0;34m\u001b[0m\u001b[0;34m\u001b[0m\u001b[0m\n\u001b[1;32m    212\u001b[0m         \u001b[0;32mtry\u001b[0m\u001b[0;34m:\u001b[0m\u001b[0;34m\u001b[0m\u001b[0;34m\u001b[0m\u001b[0m\n\u001b[0;32m--> 213\u001b[0;31m             \u001b[0;32mreturn\u001b[0m \u001b[0mf\u001b[0m\u001b[0;34m(\u001b[0m\u001b[0;34m*\u001b[0m\u001b[0margs\u001b[0m\u001b[0;34m,\u001b[0m \u001b[0;34m**\u001b[0m\u001b[0mkwargs\u001b[0m\u001b[0;34m)\u001b[0m\u001b[0;34m\u001b[0m\u001b[0;34m\u001b[0m\u001b[0m\n\u001b[0m\u001b[1;32m    214\u001b[0m         \u001b[0;32mexcept\u001b[0m \u001b[0mpy4j\u001b[0m\u001b[0;34m.\u001b[0m\u001b[0mprotocol\u001b[0m\u001b[0;34m.\u001b[0m\u001b[0mPy4JJavaError\u001b[0m \u001b[0;32mas\u001b[0m \u001b[0me\u001b[0m\u001b[0;34m:\u001b[0m\u001b[0;34m\u001b[0m\u001b[0;34m\u001b[0m\u001b[0m\n\u001b[1;32m    215\u001b[0m             \u001b[0ms\u001b[0m \u001b[0;34m=\u001b[0m \u001b[0me\u001b[0m\u001b[0;34m.\u001b[0m\u001b[0mjava_exception\u001b[0m\u001b[0;34m.\u001b[0m\u001b[0mtoString\u001b[0m\u001b[0;34m(\u001b[0m\u001b[0;34m)\u001b[0m\u001b[0;34m\u001b[0m\u001b[0;34m\u001b[0m\u001b[0m\n",
      "\u001b[0;32m/opt/conda/envs/gwas/lib/python3.7/site-packages/py4j/protocol.py\u001b[0m in \u001b[0;36mget_return_value\u001b[0;34m(answer, gateway_client, target_id, name)\u001b[0m\n\u001b[1;32m    334\u001b[0m             raise Py4JError(\n\u001b[1;32m    335\u001b[0m                 \u001b[0;34m\"An error occurred while calling {0}{1}{2}\"\u001b[0m\u001b[0;34m.\u001b[0m\u001b[0;34m\u001b[0m\u001b[0;34m\u001b[0m\u001b[0m\n\u001b[0;32m--> 336\u001b[0;31m                 format(target_id, \".\", name))\n\u001b[0m\u001b[1;32m    337\u001b[0m     \u001b[0;32melse\u001b[0m\u001b[0;34m:\u001b[0m\u001b[0;34m\u001b[0m\u001b[0;34m\u001b[0m\u001b[0m\n\u001b[1;32m    338\u001b[0m         \u001b[0mtype\u001b[0m \u001b[0;34m=\u001b[0m \u001b[0manswer\u001b[0m\u001b[0;34m[\u001b[0m\u001b[0;36m1\u001b[0m\u001b[0;34m]\u001b[0m\u001b[0;34m\u001b[0m\u001b[0;34m\u001b[0m\u001b[0m\n",
      "\u001b[0;31mPy4JError\u001b[0m: An error occurred while calling o806.executeJSON"
     ]
    }
   ],
   "source": [
    "for i in range(1000, 30001, 1000):\n",
    "    samples = i\n",
    "    variants = samples * 5\n",
    "    do_experiment(\"simple_1_to_5_sample_to_variant_cpu_8_ram_31\", samples=samples, variants=variants, populations=10)"
   ]
  },
  {
   "cell_type": "code",
   "execution_count": 6,
   "metadata": {
    "scrolled": true
   },
   "outputs": [
    {
     "name": "stderr",
     "output_type": "stream",
     "text": [
      "2020-04-24 02:40:26 Hail: INFO: hwe_normalized_pca: running PCA using 10000 variants.\n",
      "2020-04-24 02:40:27 Hail: INFO: pca: running PCA with 10 components...\n"
     ]
    },
    {
     "name": "stdout",
     "output_type": "stream",
     "text": [
      "PCA took s:1000, v:10000, p:10 : 15.42 seconds\n"
     ]
    },
    {
     "name": "stderr",
     "output_type": "stream",
     "text": [
      "2020-04-24 02:40:40 Hail: INFO: Wrote all 3 blocks of 10000 x 1000 matrix with block size 4096.\n",
      "2020-04-24 02:40:41 Hail: INFO: wrote matrix with 11 rows and 10000 columns as 3 blocks of size 4096 to file:/tmp/hail.rnK2opE09VTK/0WW9Kafui7.bm\n",
      "2020-04-24 02:40:42 Hail: INFO: wrote matrix with 10000 rows and 1000 columns as 3 blocks of size 4096 to file:/tmp/hail.rnK2opE09VTK/pTFYpc5Coa.bm\n",
      "2020-04-24 02:40:42 Hail: INFO: wrote matrix with 10000 rows and 1000 columns as 3 blocks of size 4096 to file:/tmp/hail.rnK2opE09VTK/YCNn0HQKqV.bm\n",
      "2020-04-24 02:40:44 Hail: INFO: wrote matrix with 1000 rows and 1000 columns as 1 block of size 4096 to file:/tmp/hail.rnK2opE09VTK/1cauyIwC9W.bm\n",
      "2020-04-24 02:40:46 Hail: INFO: wrote matrix with 1000 rows and 1000 columns as 1 block of size 4096 to file:/tmp/hail.rnK2opE09VTK/wGQwM3Al6W.bm\n",
      "2020-04-24 02:40:46 Hail: INFO: wrote matrix with 1000 rows and 1000 columns as 1 block of size 4096 to file:/tmp/hail.rnK2opE09VTK/JER5f25v6w.bm\n",
      "2020-04-24 02:40:51 Hail: INFO: wrote matrix with 1000 rows and 1000 columns as 1 block of size 4096 to file:/tmp/hail.rnK2opE09VTK/ERfLPFRpRV.bm\n",
      "2020-04-24 02:40:53 Hail: INFO: wrote matrix with 1000 rows and 1000 columns as 1 block of size 4096 to file:/tmp/hail.rnK2opE09VTK/PDDADaVCEc.bm\n",
      "2020-04-24 02:40:53 Hail: INFO: wrote matrix with 1000 rows and 1000 columns as 1 block of size 4096 to file:/tmp/hail.rnK2opE09VTK/gXyiUnyrbL.bm\n",
      "2020-04-24 02:40:56 Hail: INFO: wrote matrix with 1000 rows and 1000 columns as 1 block of size 4096 to file:/tmp/hail.rnK2opE09VTK/qfZBihIzf1.bm\n",
      "2020-04-24 02:40:58 Hail: INFO: wrote matrix with 1000 rows and 1000 columns as 1 block of size 4096 to file:/tmp/hail.rnK2opE09VTK/Inie4ofPyO.bm\n",
      "2020-04-24 02:40:59 Hail: INFO: wrote matrix with 1000 rows and 1000 columns as 1 block of size 4096 to file:/tmp/hail.rnK2opE09VTK/YjKvEKxL1L.bm\n",
      "2020-04-24 02:41:00 Hail: INFO: Ordering unsorted dataset with network shuffle\n",
      "2020-04-24 02:41:04 Hail: INFO: Coerced sorted dataset\n",
      "2020-04-24 02:41:08 Hail: INFO: wrote table with 499500 rows in 1 partition to /tmp/tmpq31y3eut/pc_relate_result\n",
      "2020-04-24 02:41:08 Hail: INFO: balding_nichols_model: generating genotypes for 10 populations, 1500 samples, and 10000 variants...\n"
     ]
    },
    {
     "name": "stdout",
     "output_type": "stream",
     "text": [
      "Deleting pc_relate results: /tmp/tmpq31y3eut/pc_relate_result\n",
      "Deleting hail tmp dir: /tmp/hail.rnK2opE09VTK\n"
     ]
    },
    {
     "name": "stderr",
     "output_type": "stream",
     "text": [
      "2020-04-24 02:41:09 Hail: INFO: Coerced sorted dataset\n",
      "2020-04-24 02:41:12 Hail: INFO: wrote matrix table with 10000 rows and 1500 columns in 8 partitions to /home/rav/data/tmp/mt_1500_10000_10.mt\n",
      "2020-04-24 02:41:12 Hail: INFO: hwe_normalized_pca: running PCA using 10000 variants.\n",
      "2020-04-24 02:41:13 Hail: INFO: pca: running PCA with 10 components...\n"
     ]
    },
    {
     "name": "stdout",
     "output_type": "stream",
     "text": [
      "PCA took s:1500, v:10000, p:10 : 11.48 seconds\n"
     ]
    },
    {
     "name": "stderr",
     "output_type": "stream",
     "text": [
      "2020-04-24 02:41:25 Hail: INFO: Wrote all 3 blocks of 10000 x 1500 matrix with block size 4096.\n",
      "2020-04-24 02:41:26 Hail: INFO: wrote matrix with 11 rows and 10000 columns as 3 blocks of size 4096 to file:/tmp/hail.rnK2opE09VTK/0yBW2PSyUz.bm\n",
      "2020-04-24 02:41:26 Hail: INFO: wrote matrix with 10000 rows and 1500 columns as 3 blocks of size 4096 to file:/tmp/hail.rnK2opE09VTK/jBTrWk0YJp.bm\n",
      "2020-04-24 02:41:26 Hail: INFO: wrote matrix with 10000 rows and 1500 columns as 3 blocks of size 4096 to file:/tmp/hail.rnK2opE09VTK/yIf5gC3Pl4.bm\n",
      "2020-04-24 02:41:31 Hail: INFO: wrote matrix with 1500 rows and 1500 columns as 1 block of size 4096 to file:/tmp/hail.rnK2opE09VTK/hrwOljeg0i.bm\n",
      "2020-04-24 02:41:36 Hail: INFO: wrote matrix with 1500 rows and 1500 columns as 1 block of size 4096 to file:/tmp/hail.rnK2opE09VTK/hV40dtMbgG.bm\n",
      "2020-04-24 02:41:36 Hail: INFO: wrote matrix with 1500 rows and 1500 columns as 1 block of size 4096 to file:/tmp/hail.rnK2opE09VTK/eWuwCnb7JL.bm\n",
      "2020-04-24 02:41:44 Hail: INFO: wrote matrix with 1500 rows and 1500 columns as 1 block of size 4096 to file:/tmp/hail.rnK2opE09VTK/tosqnIatxl.bm\n",
      "2020-04-24 02:41:48 Hail: INFO: wrote matrix with 1500 rows and 1500 columns as 1 block of size 4096 to file:/tmp/hail.rnK2opE09VTK/pTcX0eJjXE.bm\n",
      "2020-04-24 02:41:49 Hail: INFO: wrote matrix with 1500 rows and 1500 columns as 1 block of size 4096 to file:/tmp/hail.rnK2opE09VTK/6zaCce2Z4A.bm\n",
      "2020-04-24 02:41:54 Hail: INFO: wrote matrix with 1500 rows and 1500 columns as 1 block of size 4096 to file:/tmp/hail.rnK2opE09VTK/cpzS7NmEOw.bm\n",
      "2020-04-24 02:42:00 Hail: INFO: wrote matrix with 1500 rows and 1500 columns as 1 block of size 4096 to file:/tmp/hail.rnK2opE09VTK/aVgblBvupW.bm\n",
      "2020-04-24 02:42:00 Hail: INFO: wrote matrix with 1500 rows and 1500 columns as 1 block of size 4096 to file:/tmp/hail.rnK2opE09VTK/IERDxLWQGb.bm\n",
      "2020-04-24 02:42:02 Hail: INFO: Ordering unsorted dataset with network shuffle\n",
      "2020-04-24 02:42:12 Hail: INFO: Coerced sorted dataset\n",
      "2020-04-24 02:42:20 Hail: INFO: wrote table with 1124250 rows in 1 partition to /tmp/tmpf1_yqmik/pc_relate_result\n"
     ]
    },
    {
     "name": "stdout",
     "output_type": "stream",
     "text": [
      "Deleting pc_relate results: /tmp/tmpf1_yqmik/pc_relate_result\n",
      "Deleting hail tmp dir: /tmp/hail.rnK2opE09VTK\n"
     ]
    },
    {
     "name": "stderr",
     "output_type": "stream",
     "text": [
      "2020-04-24 02:42:20 Hail: INFO: hwe_normalized_pca: running PCA using 10000 variants.\n",
      "2020-04-24 02:42:21 Hail: INFO: pca: running PCA with 10 components...\n"
     ]
    },
    {
     "name": "stdout",
     "output_type": "stream",
     "text": [
      "PCA took s:2000, v:10000, p:10 : 9.40 seconds\n"
     ]
    },
    {
     "name": "stderr",
     "output_type": "stream",
     "text": [
      "2020-04-24 02:42:32 Hail: INFO: Wrote all 3 blocks of 10000 x 2000 matrix with block size 4096.\n",
      "2020-04-24 02:42:33 Hail: INFO: wrote matrix with 11 rows and 10000 columns as 3 blocks of size 4096 to file:/tmp/hail.rnK2opE09VTK/jhiDknRc8n.bm\n",
      "2020-04-24 02:42:33 Hail: INFO: wrote matrix with 10000 rows and 2000 columns as 3 blocks of size 4096 to file:/tmp/hail.rnK2opE09VTK/oDT98mlhP6.bm\n",
      "2020-04-24 02:42:34 Hail: INFO: wrote matrix with 10000 rows and 2000 columns as 3 blocks of size 4096 to file:/tmp/hail.rnK2opE09VTK/S6pbqATPGr.bm\n",
      "2020-04-24 02:42:42 Hail: INFO: wrote matrix with 2000 rows and 2000 columns as 1 block of size 4096 to file:/tmp/hail.rnK2opE09VTK/UeJdvRUlKq.bm\n",
      "2020-04-24 02:42:51 Hail: INFO: wrote matrix with 2000 rows and 2000 columns as 1 block of size 4096 to file:/tmp/hail.rnK2opE09VTK/QE7xUdw5IW.bm\n",
      "2020-04-24 02:42:51 Hail: INFO: wrote matrix with 2000 rows and 2000 columns as 1 block of size 4096 to file:/tmp/hail.rnK2opE09VTK/OUnI9Cre3s.bm\n",
      "2020-04-24 02:43:02 Hail: INFO: wrote matrix with 2000 rows and 2000 columns as 1 block of size 4096 to file:/tmp/hail.rnK2opE09VTK/f0Sz0ntaXx.bm\n",
      "2020-04-24 02:43:10 Hail: INFO: wrote matrix with 2000 rows and 2000 columns as 1 block of size 4096 to file:/tmp/hail.rnK2opE09VTK/pDZqEAitOU.bm\n",
      "2020-04-24 02:43:11 Hail: INFO: wrote matrix with 2000 rows and 2000 columns as 1 block of size 4096 to file:/tmp/hail.rnK2opE09VTK/I5nVQgbOFJ.bm\n",
      "2020-04-24 02:43:21 Hail: INFO: wrote matrix with 2000 rows and 2000 columns as 1 block of size 4096 to file:/tmp/hail.rnK2opE09VTK/bzDHg6C8w8.bm\n",
      "2020-04-24 02:43:30 Hail: INFO: wrote matrix with 2000 rows and 2000 columns as 1 block of size 4096 to file:/tmp/hail.rnK2opE09VTK/IVNr0hpMSV.bm\n",
      "2020-04-24 02:43:30 Hail: INFO: wrote matrix with 2000 rows and 2000 columns as 1 block of size 4096 to file:/tmp/hail.rnK2opE09VTK/5jPC6e40iK.bm\n",
      "2020-04-24 02:43:34 Hail: INFO: Ordering unsorted dataset with network shuffle\n",
      "2020-04-24 02:43:52 Hail: INFO: Coerced sorted dataset\n",
      "2020-04-24 02:44:05 Hail: INFO: wrote table with 1999000 rows in 1 partition to /tmp/tmp0te9dqzj/pc_relate_result\n",
      "2020-04-24 02:44:05 Hail: INFO: balding_nichols_model: generating genotypes for 10 populations, 2500 samples, and 10000 variants...\n"
     ]
    },
    {
     "name": "stdout",
     "output_type": "stream",
     "text": [
      "Deleting pc_relate results: /tmp/tmp0te9dqzj/pc_relate_result\n",
      "Deleting hail tmp dir: /tmp/hail.rnK2opE09VTK\n"
     ]
    },
    {
     "name": "stderr",
     "output_type": "stream",
     "text": [
      "2020-04-24 02:44:06 Hail: INFO: Coerced sorted dataset\n",
      "2020-04-24 02:44:10 Hail: INFO: wrote matrix table with 10000 rows and 2500 columns in 8 partitions to /home/rav/data/tmp/mt_2500_10000_10.mt\n",
      "2020-04-24 02:44:10 Hail: INFO: hwe_normalized_pca: running PCA using 10000 variants.\n",
      "2020-04-24 02:44:12 Hail: INFO: pca: running PCA with 10 components...\n"
     ]
    },
    {
     "name": "stdout",
     "output_type": "stream",
     "text": [
      "PCA took s:2500, v:10000, p:10 : 14.82 seconds\n"
     ]
    },
    {
     "name": "stderr",
     "output_type": "stream",
     "text": [
      "2020-04-24 02:44:28 Hail: INFO: Wrote all 3 blocks of 10000 x 2500 matrix with block size 4096.\n",
      "2020-04-24 02:44:29 Hail: INFO: wrote matrix with 11 rows and 10000 columns as 3 blocks of size 4096 to file:/tmp/hail.rnK2opE09VTK/NWd2S7K23b.bm\n",
      "2020-04-24 02:44:29 Hail: INFO: wrote matrix with 10000 rows and 2500 columns as 3 blocks of size 4096 to file:/tmp/hail.rnK2opE09VTK/ZLBBRq06W5.bm\n",
      "2020-04-24 02:44:30 Hail: INFO: wrote matrix with 10000 rows and 2500 columns as 3 blocks of size 4096 to file:/tmp/hail.rnK2opE09VTK/mCZtyFaMuR.bm\n",
      "2020-04-24 02:44:43 Hail: INFO: wrote matrix with 2500 rows and 2500 columns as 1 block of size 4096 to file:/tmp/hail.rnK2opE09VTK/pcOHbyQZpa.bm\n",
      "2020-04-24 02:44:56 Hail: INFO: wrote matrix with 2500 rows and 2500 columns as 1 block of size 4096 to file:/tmp/hail.rnK2opE09VTK/vmPlGOAgKd.bm\n",
      "2020-04-24 02:44:56 Hail: INFO: wrote matrix with 2500 rows and 2500 columns as 1 block of size 4096 to file:/tmp/hail.rnK2opE09VTK/hKpgocmetu.bm\n",
      "2020-04-24 02:45:12 Hail: INFO: wrote matrix with 2500 rows and 2500 columns as 1 block of size 4096 to file:/tmp/hail.rnK2opE09VTK/2msA4FsSRN.bm\n",
      "2020-04-24 02:45:25 Hail: INFO: wrote matrix with 2500 rows and 2500 columns as 1 block of size 4096 to file:/tmp/hail.rnK2opE09VTK/FHLPft5Usm.bm\n",
      "2020-04-24 02:45:25 Hail: INFO: wrote matrix with 2500 rows and 2500 columns as 1 block of size 4096 to file:/tmp/hail.rnK2opE09VTK/COejzp1tDR.bm\n",
      "2020-04-24 02:45:40 Hail: INFO: wrote matrix with 2500 rows and 2500 columns as 1 block of size 4096 to file:/tmp/hail.rnK2opE09VTK/7J7QwKvnF0.bm\n",
      "2020-04-24 02:45:55 Hail: INFO: wrote matrix with 2500 rows and 2500 columns as 1 block of size 4096 to file:/tmp/hail.rnK2opE09VTK/0C8WQQWZLY.bm\n",
      "2020-04-24 02:45:56 Hail: INFO: wrote matrix with 2500 rows and 2500 columns as 1 block of size 4096 to file:/tmp/hail.rnK2opE09VTK/LJ0hyqhTaJ.bm\n",
      "2020-04-24 02:46:01 Hail: INFO: Ordering unsorted dataset with network shuffle\n",
      "2020-04-24 02:46:30 Hail: INFO: Coerced sorted dataset\n",
      "2020-04-24 02:46:54 Hail: INFO: wrote table with 3123750 rows in 1 partition to /tmp/tmps2dh2ez_/pc_relate_result\n"
     ]
    },
    {
     "name": "stdout",
     "output_type": "stream",
     "text": [
      "Deleting pc_relate results: /tmp/tmps2dh2ez_/pc_relate_result\n",
      "Deleting hail tmp dir: /tmp/hail.rnK2opE09VTK\n"
     ]
    },
    {
     "name": "stderr",
     "output_type": "stream",
     "text": [
      "2020-04-24 02:46:55 Hail: INFO: hwe_normalized_pca: running PCA using 10000 variants.\n",
      "2020-04-24 02:46:56 Hail: INFO: pca: running PCA with 10 components...\n"
     ]
    },
    {
     "name": "stdout",
     "output_type": "stream",
     "text": [
      "PCA took s:3000, v:10000, p:10 : 13.18 seconds\n"
     ]
    },
    {
     "name": "stderr",
     "output_type": "stream",
     "text": [
      "2020-04-24 02:47:12 Hail: INFO: Wrote all 3 blocks of 10000 x 3000 matrix with block size 4096.\n",
      "2020-04-24 02:47:12 Hail: INFO: wrote matrix with 11 rows and 10000 columns as 3 blocks of size 4096 to file:/tmp/hail.rnK2opE09VTK/AYR4cfEIV3.bm\n",
      "2020-04-24 02:47:13 Hail: INFO: wrote matrix with 10000 rows and 3000 columns as 3 blocks of size 4096 to file:/tmp/hail.rnK2opE09VTK/FCnPh92TUU.bm\n",
      "2020-04-24 02:47:13 Hail: INFO: wrote matrix with 10000 rows and 3000 columns as 3 blocks of size 4096 to file:/tmp/hail.rnK2opE09VTK/tluBEVbNOy.bm\n",
      "2020-04-24 02:47:32 Hail: INFO: wrote matrix with 3000 rows and 3000 columns as 1 block of size 4096 to file:/tmp/hail.rnK2opE09VTK/8F2PCIw06E.bm\n",
      "2020-04-24 02:47:51 Hail: INFO: wrote matrix with 3000 rows and 3000 columns as 1 block of size 4096 to file:/tmp/hail.rnK2opE09VTK/sIIuvmmPrO.bm\n",
      "2020-04-24 02:47:51 Hail: INFO: wrote matrix with 3000 rows and 3000 columns as 1 block of size 4096 to file:/tmp/hail.rnK2opE09VTK/2jXm1lQRyp.bm\n",
      "2020-04-24 02:48:15 Hail: INFO: wrote matrix with 3000 rows and 3000 columns as 1 block of size 4096 to file:/tmp/hail.rnK2opE09VTK/T6hHSTx8tM.bm\n",
      "2020-04-24 02:48:33 Hail: INFO: wrote matrix with 3000 rows and 3000 columns as 1 block of size 4096 to file:/tmp/hail.rnK2opE09VTK/trY8rhHqej.bm\n",
      "2020-04-24 02:48:33 Hail: INFO: wrote matrix with 3000 rows and 3000 columns as 1 block of size 4096 to file:/tmp/hail.rnK2opE09VTK/suK6IOJrFd.bm\n",
      "2020-04-24 02:48:54 Hail: INFO: wrote matrix with 3000 rows and 3000 columns as 1 block of size 4096 to file:/tmp/hail.rnK2opE09VTK/E9NFeMhQoM.bm\n",
      "2020-04-24 02:49:14 Hail: INFO: wrote matrix with 3000 rows and 3000 columns as 1 block of size 4096 to file:/tmp/hail.rnK2opE09VTK/pkNeZ7qVSR.bm\n",
      "2020-04-24 02:49:15 Hail: INFO: wrote matrix with 3000 rows and 3000 columns as 1 block of size 4096 to file:/tmp/hail.rnK2opE09VTK/jVx9wFduUe.bm\n",
      "2020-04-24 02:49:23 Hail: INFO: Ordering unsorted dataset with network shuffle\n",
      "2020-04-24 02:50:05 Hail: INFO: Coerced sorted dataset\n",
      "2020-04-24 02:50:34 Hail: INFO: wrote table with 4498500 rows in 1 partition to /tmp/tmpea4oqzq1/pc_relate_result\n",
      "2020-04-24 02:50:34 Hail: INFO: balding_nichols_model: generating genotypes for 10 populations, 3500 samples, and 10000 variants...\n"
     ]
    },
    {
     "name": "stdout",
     "output_type": "stream",
     "text": [
      "Deleting pc_relate results: /tmp/tmpea4oqzq1/pc_relate_result\n",
      "Deleting hail tmp dir: /tmp/hail.rnK2opE09VTK\n"
     ]
    },
    {
     "name": "stderr",
     "output_type": "stream",
     "text": [
      "2020-04-24 02:50:35 Hail: INFO: Coerced sorted dataset\n",
      "2020-04-24 02:50:40 Hail: INFO: wrote matrix table with 10000 rows and 3500 columns in 8 partitions to /home/rav/data/tmp/mt_3500_10000_10.mt\n",
      "2020-04-24 02:50:41 Hail: INFO: hwe_normalized_pca: running PCA using 10000 variants.\n",
      "2020-04-24 02:50:42 Hail: INFO: pca: running PCA with 10 components...\n"
     ]
    },
    {
     "name": "stdout",
     "output_type": "stream",
     "text": [
      "PCA took s:3500, v:10000, p:10 : 15.29 seconds\n"
     ]
    },
    {
     "name": "stderr",
     "output_type": "stream",
     "text": [
      "2020-04-24 02:50:59 Hail: INFO: Wrote all 3 blocks of 10000 x 3500 matrix with block size 4096.\n",
      "2020-04-24 02:51:00 Hail: INFO: wrote matrix with 11 rows and 10000 columns as 3 blocks of size 4096 to file:/tmp/hail.rnK2opE09VTK/tkhoM9GIBs.bm\n",
      "2020-04-24 02:51:01 Hail: INFO: wrote matrix with 10000 rows and 3500 columns as 3 blocks of size 4096 to file:/tmp/hail.rnK2opE09VTK/lurbhNEfO1.bm\n",
      "2020-04-24 02:51:02 Hail: INFO: wrote matrix with 10000 rows and 3500 columns as 3 blocks of size 4096 to file:/tmp/hail.rnK2opE09VTK/bPLxhDNmc8.bm\n",
      "2020-04-24 02:51:27 Hail: INFO: wrote matrix with 3500 rows and 3500 columns as 1 block of size 4096 to file:/tmp/hail.rnK2opE09VTK/IPFWEYblmK.bm\n",
      "2020-04-24 02:51:52 Hail: INFO: wrote matrix with 3500 rows and 3500 columns as 1 block of size 4096 to file:/tmp/hail.rnK2opE09VTK/TPi5RFoA5i.bm\n",
      "2020-04-24 02:51:52 Hail: INFO: wrote matrix with 3500 rows and 3500 columns as 1 block of size 4096 to file:/tmp/hail.rnK2opE09VTK/X2pesuwFsx.bm\n",
      "2020-04-24 02:52:23 Hail: INFO: wrote matrix with 3500 rows and 3500 columns as 1 block of size 4096 to file:/tmp/hail.rnK2opE09VTK/AfKzGd6G1I.bm\n",
      "2020-04-24 02:52:47 Hail: INFO: wrote matrix with 3500 rows and 3500 columns as 1 block of size 4096 to file:/tmp/hail.rnK2opE09VTK/WjPLuJwJlD.bm\n",
      "2020-04-24 02:52:48 Hail: INFO: wrote matrix with 3500 rows and 3500 columns as 1 block of size 4096 to file:/tmp/hail.rnK2opE09VTK/38dM4NIoEG.bm\n",
      "2020-04-24 02:53:15 Hail: INFO: wrote matrix with 3500 rows and 3500 columns as 1 block of size 4096 to file:/tmp/hail.rnK2opE09VTK/bJGkdoGrqP.bm\n",
      "2020-04-24 02:53:42 Hail: INFO: wrote matrix with 3500 rows and 3500 columns as 1 block of size 4096 to file:/tmp/hail.rnK2opE09VTK/MLZYTHmn4l.bm\n",
      "2020-04-24 02:53:43 Hail: INFO: wrote matrix with 3500 rows and 3500 columns as 1 block of size 4096 to file:/tmp/hail.rnK2opE09VTK/cKL7yx3Hd5.bm\n",
      "2020-04-24 02:53:57 Hail: INFO: Ordering unsorted dataset with network shuffle\n",
      "2020-04-24 02:54:51 Hail: INFO: Coerced sorted dataset\n",
      "2020-04-24 02:55:31 Hail: INFO: wrote table with 6123250 rows in 1 partition to /tmp/tmpuy836stt/pc_relate_result\n"
     ]
    },
    {
     "name": "stdout",
     "output_type": "stream",
     "text": [
      "Deleting pc_relate results: /tmp/tmpuy836stt/pc_relate_result\n",
      "Deleting hail tmp dir: /tmp/hail.rnK2opE09VTK\n"
     ]
    },
    {
     "name": "stderr",
     "output_type": "stream",
     "text": [
      "2020-04-24 02:55:32 Hail: INFO: hwe_normalized_pca: running PCA using 10000 variants.\n",
      "2020-04-24 02:55:34 Hail: INFO: pca: running PCA with 10 components...\n"
     ]
    },
    {
     "name": "stdout",
     "output_type": "stream",
     "text": [
      "PCA took s:4000, v:10000, p:10 : 18.80 seconds\n"
     ]
    },
    {
     "name": "stderr",
     "output_type": "stream",
     "text": [
      "2020-04-24 02:55:55 Hail: INFO: Wrote all 3 blocks of 10000 x 4000 matrix with block size 4096.\n",
      "2020-04-24 02:55:56 Hail: INFO: wrote matrix with 11 rows and 10000 columns as 3 blocks of size 4096 to file:/tmp/hail.rnK2opE09VTK/CEBFNDBegO.bm\n",
      "2020-04-24 02:55:56 Hail: INFO: wrote matrix with 10000 rows and 4000 columns as 3 blocks of size 4096 to file:/tmp/hail.rnK2opE09VTK/UUo0LPPE6y.bm\n",
      "2020-04-24 02:55:57 Hail: INFO: wrote matrix with 10000 rows and 4000 columns as 3 blocks of size 4096 to file:/tmp/hail.rnK2opE09VTK/yXVhTxt70E.bm\n",
      "2020-04-24 02:56:30 Hail: INFO: wrote matrix with 4000 rows and 4000 columns as 1 block of size 4096 to file:/tmp/hail.rnK2opE09VTK/FZ3bJkQSfV.bm\n",
      "2020-04-24 02:57:03 Hail: INFO: wrote matrix with 4000 rows and 4000 columns as 1 block of size 4096 to file:/tmp/hail.rnK2opE09VTK/2Hvhn8TPNu.bm\n",
      "2020-04-24 02:57:03 Hail: INFO: wrote matrix with 4000 rows and 4000 columns as 1 block of size 4096 to file:/tmp/hail.rnK2opE09VTK/hwAecIyaEJ.bm\n",
      "2020-04-24 02:57:43 Hail: INFO: wrote matrix with 4000 rows and 4000 columns as 1 block of size 4096 to file:/tmp/hail.rnK2opE09VTK/AvA7pWmHte.bm\n",
      "2020-04-24 02:58:15 Hail: INFO: wrote matrix with 4000 rows and 4000 columns as 1 block of size 4096 to file:/tmp/hail.rnK2opE09VTK/03WmsAvFEi.bm\n",
      "2020-04-24 02:58:16 Hail: INFO: wrote matrix with 4000 rows and 4000 columns as 1 block of size 4096 to file:/tmp/hail.rnK2opE09VTK/sCWlSJionz.bm\n",
      "2020-04-24 02:58:51 Hail: INFO: wrote matrix with 4000 rows and 4000 columns as 1 block of size 4096 to file:/tmp/hail.rnK2opE09VTK/2NMBcYBTyL.bm\n",
      "2020-04-24 02:59:27 Hail: INFO: wrote matrix with 4000 rows and 4000 columns as 1 block of size 4096 to file:/tmp/hail.rnK2opE09VTK/UVlRgA6KN6.bm\n",
      "2020-04-24 02:59:29 Hail: INFO: wrote matrix with 4000 rows and 4000 columns as 1 block of size 4096 to file:/tmp/hail.rnK2opE09VTK/1O3zJyp4l1.bm\n",
      "2020-04-24 02:59:44 Hail: INFO: Ordering unsorted dataset with network shuffle\n",
      "2020-04-24 03:00:55 Hail: INFO: Coerced sorted dataset\n",
      "2020-04-24 03:01:47 Hail: INFO: wrote table with 7998000 rows in 1 partition to /tmp/tmpxhqz6r90/pc_relate_result\n"
     ]
    },
    {
     "name": "stdout",
     "output_type": "stream",
     "text": [
      "Deleting pc_relate results: /tmp/tmpxhqz6r90/pc_relate_result\n",
      "Deleting hail tmp dir: /tmp/hail.rnK2opE09VTK\n"
     ]
    },
    {
     "name": "stderr",
     "output_type": "stream",
     "text": [
      "2020-04-24 03:01:47 Hail: INFO: balding_nichols_model: generating genotypes for 10 populations, 4500 samples, and 10000 variants...\n",
      "2020-04-24 03:01:48 Hail: INFO: Coerced sorted dataset\n",
      "2020-04-24 03:01:55 Hail: INFO: wrote matrix table with 10000 rows and 4500 columns in 8 partitions to /home/rav/data/tmp/mt_4500_10000_10.mt\n",
      "2020-04-24 03:01:56 Hail: INFO: hwe_normalized_pca: running PCA using 10000 variants.\n",
      "2020-04-24 03:01:57 Hail: INFO: pca: running PCA with 10 components...\n"
     ]
    },
    {
     "name": "stdout",
     "output_type": "stream",
     "text": [
      "PCA took s:4500, v:10000, p:10 : 17.20 seconds\n"
     ]
    },
    {
     "name": "stderr",
     "output_type": "stream",
     "text": [
      "2020-04-24 03:02:17 Hail: INFO: Wrote all 6 blocks of 10000 x 4500 matrix with block size 4096.\n",
      "2020-04-24 03:02:18 Hail: INFO: wrote matrix with 11 rows and 10000 columns as 3 blocks of size 4096 to file:/tmp/hail.rnK2opE09VTK/U3JYCJ6Y4J.bm\n",
      "2020-04-24 03:02:19 Hail: INFO: wrote matrix with 10000 rows and 4500 columns as 6 blocks of size 4096 to file:/tmp/hail.rnK2opE09VTK/kPWvvVICGj.bm\n",
      "2020-04-24 03:02:20 Hail: INFO: wrote matrix with 10000 rows and 4500 columns as 6 blocks of size 4096 to file:/tmp/hail.rnK2opE09VTK/5cNWhvFbSR.bm\n",
      "2020-04-24 03:02:54 Hail: INFO: wrote matrix with 4500 rows and 4500 columns as 4 blocks of size 4096 to file:/tmp/hail.rnK2opE09VTK/H31rlIhjQn.bm\n",
      "2020-04-24 03:03:27 Hail: INFO: wrote matrix with 4500 rows and 4500 columns as 4 blocks of size 4096 to file:/tmp/hail.rnK2opE09VTK/ba3FhpGhIy.bm\n",
      "2020-04-24 03:03:28 Hail: INFO: wrote matrix with 4500 rows and 4500 columns as 4 blocks of size 4096 to file:/tmp/hail.rnK2opE09VTK/cct4yQzLf0.bm\n",
      "2020-04-24 03:04:05 Hail: INFO: wrote matrix with 4500 rows and 4500 columns as 4 blocks of size 4096 to file:/tmp/hail.rnK2opE09VTK/tjJf3aWUvl.bm\n",
      "2020-04-24 03:04:40 Hail: INFO: wrote matrix with 4500 rows and 4500 columns as 4 blocks of size 4096 to file:/tmp/hail.rnK2opE09VTK/taYgxkBckK.bm\n",
      "2020-04-24 03:04:40 Hail: INFO: wrote matrix with 4500 rows and 4500 columns as 4 blocks of size 4096 to file:/tmp/hail.rnK2opE09VTK/QmiBLe1rFU.bm\n",
      "2020-04-24 03:05:17 Hail: INFO: wrote matrix with 4500 rows and 4500 columns as 4 blocks of size 4096 to file:/tmp/hail.rnK2opE09VTK/fiTPl3hXdd.bm\n",
      "2020-04-24 03:05:55 Hail: INFO: wrote matrix with 4500 rows and 4500 columns as 4 blocks of size 4096 to file:/tmp/hail.rnK2opE09VTK/RHQ9Lbvuiv.bm\n",
      "2020-04-24 03:05:57 Hail: INFO: wrote matrix with 4500 rows and 4500 columns as 4 blocks of size 4096 to file:/tmp/hail.rnK2opE09VTK/bpiZjIFkbW.bm\n",
      "2020-04-24 03:06:13 Hail: INFO: Ordering unsorted dataset with network shuffle\n",
      "2020-04-24 03:07:15 Hail: INFO: Coerced sorted dataset\n",
      "2020-04-24 03:07:54 Hail: INFO: wrote table with 10122750 rows in 4 partitions to /tmp/tmphhif8_4p/pc_relate_result\n"
     ]
    },
    {
     "name": "stdout",
     "output_type": "stream",
     "text": [
      "Deleting pc_relate results: /tmp/tmphhif8_4p/pc_relate_result\n",
      "Deleting hail tmp dir: /tmp/hail.rnK2opE09VTK\n"
     ]
    },
    {
     "name": "stderr",
     "output_type": "stream",
     "text": [
      "2020-04-24 03:07:55 Hail: INFO: hwe_normalized_pca: running PCA using 10000 variants.\n",
      "2020-04-24 03:07:57 Hail: INFO: pca: running PCA with 10 components...\n"
     ]
    },
    {
     "name": "stdout",
     "output_type": "stream",
     "text": [
      "PCA took s:5000, v:10000, p:10 : 17.20 seconds\n"
     ]
    },
    {
     "name": "stderr",
     "output_type": "stream",
     "text": [
      "2020-04-24 03:08:17 Hail: INFO: Wrote all 6 blocks of 10000 x 5000 matrix with block size 4096.\n",
      "2020-04-24 03:08:18 Hail: INFO: wrote matrix with 11 rows and 10000 columns as 3 blocks of size 4096 to file:/tmp/hail.rnK2opE09VTK/dTXoTvo0y6.bm\n",
      "2020-04-24 03:08:18 Hail: INFO: wrote matrix with 10000 rows and 5000 columns as 6 blocks of size 4096 to file:/tmp/hail.rnK2opE09VTK/gpBPy6oeoS.bm\n",
      "2020-04-24 03:08:19 Hail: INFO: wrote matrix with 10000 rows and 5000 columns as 6 blocks of size 4096 to file:/tmp/hail.rnK2opE09VTK/XiDRcS9nzK.bm\n",
      "2020-04-24 03:08:54 Hail: INFO: wrote matrix with 5000 rows and 5000 columns as 4 blocks of size 4096 to file:/tmp/hail.rnK2opE09VTK/UejLpAN1lO.bm\n",
      "2020-04-24 03:09:28 Hail: INFO: wrote matrix with 5000 rows and 5000 columns as 4 blocks of size 4096 to file:/tmp/hail.rnK2opE09VTK/EiexxWh7MH.bm\n",
      "2020-04-24 03:09:28 Hail: INFO: wrote matrix with 5000 rows and 5000 columns as 4 blocks of size 4096 to file:/tmp/hail.rnK2opE09VTK/haRcuWhDeS.bm\n",
      "2020-04-24 03:10:05 Hail: INFO: wrote matrix with 5000 rows and 5000 columns as 4 blocks of size 4096 to file:/tmp/hail.rnK2opE09VTK/kste1v9Tbu.bm\n",
      "2020-04-24 03:10:39 Hail: INFO: wrote matrix with 5000 rows and 5000 columns as 4 blocks of size 4096 to file:/tmp/hail.rnK2opE09VTK/x6vF5TkRSZ.bm\n",
      "2020-04-24 03:10:40 Hail: INFO: wrote matrix with 5000 rows and 5000 columns as 4 blocks of size 4096 to file:/tmp/hail.rnK2opE09VTK/7nIX6sPbCo.bm\n",
      "2020-04-24 03:11:17 Hail: INFO: wrote matrix with 5000 rows and 5000 columns as 4 blocks of size 4096 to file:/tmp/hail.rnK2opE09VTK/HSAJ4Kt3yq.bm\n",
      "2020-04-24 03:11:54 Hail: INFO: wrote matrix with 5000 rows and 5000 columns as 4 blocks of size 4096 to file:/tmp/hail.rnK2opE09VTK/5NZrQmJDCk.bm\n",
      "2020-04-24 03:11:58 Hail: INFO: wrote matrix with 5000 rows and 5000 columns as 4 blocks of size 4096 to file:/tmp/hail.rnK2opE09VTK/wp0qD3KJZt.bm\n",
      "2020-04-24 03:12:13 Hail: INFO: Ordering unsorted dataset with network shuffle\n",
      "2020-04-24 03:13:19 Hail: INFO: Coerced sorted dataset\n",
      "2020-04-24 03:13:55 Hail: INFO: wrote table with 12497500 rows in 4 partitions to /tmp/tmpmp8bn2ji/pc_relate_result\n"
     ]
    },
    {
     "name": "stdout",
     "output_type": "stream",
     "text": [
      "Deleting pc_relate results: /tmp/tmpmp8bn2ji/pc_relate_result\n",
      "Deleting hail tmp dir: /tmp/hail.rnK2opE09VTK\n"
     ]
    },
    {
     "name": "stderr",
     "output_type": "stream",
     "text": [
      "2020-04-24 03:13:56 Hail: INFO: balding_nichols_model: generating genotypes for 10 populations, 5500 samples, and 10000 variants...\n",
      "2020-04-24 03:13:56 Hail: INFO: Coerced sorted dataset\n",
      "2020-04-24 03:14:07 Hail: INFO: wrote matrix table with 10000 rows and 5500 columns in 8 partitions to /home/rav/data/tmp/mt_5500_10000_10.mt\n",
      "2020-04-24 03:14:07 Hail: INFO: hwe_normalized_pca: running PCA using 10000 variants.\n",
      "2020-04-24 03:14:09 Hail: INFO: pca: running PCA with 10 components...\n"
     ]
    },
    {
     "name": "stdout",
     "output_type": "stream",
     "text": [
      "PCA took s:5500, v:10000, p:10 : 17.91 seconds\n"
     ]
    },
    {
     "name": "stderr",
     "output_type": "stream",
     "text": [
      "2020-04-24 03:14:30 Hail: INFO: Wrote all 6 blocks of 10000 x 5500 matrix with block size 4096.\n",
      "2020-04-24 03:14:32 Hail: INFO: wrote matrix with 11 rows and 10000 columns as 3 blocks of size 4096 to file:/tmp/hail.rnK2opE09VTK/NHwySdhr8v.bm\n",
      "2020-04-24 03:14:32 Hail: INFO: wrote matrix with 10000 rows and 5500 columns as 6 blocks of size 4096 to file:/tmp/hail.rnK2opE09VTK/aNdqzKnaz6.bm\n",
      "2020-04-24 03:14:33 Hail: INFO: wrote matrix with 10000 rows and 5500 columns as 6 blocks of size 4096 to file:/tmp/hail.rnK2opE09VTK/NyoaNoSlRg.bm\n",
      "2020-04-24 03:15:07 Hail: INFO: wrote matrix with 5500 rows and 5500 columns as 4 blocks of size 4096 to file:/tmp/hail.rnK2opE09VTK/VQMf4EcsZQ.bm\n",
      "2020-04-24 03:15:41 Hail: INFO: wrote matrix with 5500 rows and 5500 columns as 4 blocks of size 4096 to file:/tmp/hail.rnK2opE09VTK/5ybeNCXwKR.bm\n",
      "2020-04-24 03:15:42 Hail: INFO: wrote matrix with 5500 rows and 5500 columns as 4 blocks of size 4096 to file:/tmp/hail.rnK2opE09VTK/sIojeeB56k.bm\n",
      "2020-04-24 03:16:19 Hail: INFO: wrote matrix with 5500 rows and 5500 columns as 4 blocks of size 4096 to file:/tmp/hail.rnK2opE09VTK/An5SfOr7Nt.bm\n",
      "2020-04-24 03:16:53 Hail: INFO: wrote matrix with 5500 rows and 5500 columns as 4 blocks of size 4096 to file:/tmp/hail.rnK2opE09VTK/YiSfpTB74Q.bm\n",
      "2020-04-24 03:16:54 Hail: INFO: wrote matrix with 5500 rows and 5500 columns as 4 blocks of size 4096 to file:/tmp/hail.rnK2opE09VTK/ssHK6xiIti.bm\n",
      "2020-04-24 03:17:32 Hail: INFO: wrote matrix with 5500 rows and 5500 columns as 4 blocks of size 4096 to file:/tmp/hail.rnK2opE09VTK/RtXx1I3cNP.bm\n",
      "2020-04-24 03:18:09 Hail: INFO: wrote matrix with 5500 rows and 5500 columns as 4 blocks of size 4096 to file:/tmp/hail.rnK2opE09VTK/9pjnPB9hCX.bm\n",
      "2020-04-24 03:18:11 Hail: INFO: wrote matrix with 5500 rows and 5500 columns as 4 blocks of size 4096 to file:/tmp/hail.rnK2opE09VTK/1ishhEFEui.bm\n",
      "2020-04-24 03:18:27 Hail: INFO: Ordering unsorted dataset with network shuffle\n",
      "2020-04-24 03:19:35 Hail: INFO: Coerced sorted dataset\n",
      "2020-04-24 03:20:26 Hail: INFO: wrote table with 15122250 rows in 4 partitions to /tmp/tmpcxv8uowh/pc_relate_result\n"
     ]
    },
    {
     "name": "stdout",
     "output_type": "stream",
     "text": [
      "Deleting pc_relate results: /tmp/tmpcxv8uowh/pc_relate_result\n",
      "Deleting hail tmp dir: /tmp/hail.rnK2opE09VTK\n"
     ]
    },
    {
     "name": "stderr",
     "output_type": "stream",
     "text": [
      "2020-04-24 03:20:26 Hail: INFO: balding_nichols_model: generating genotypes for 10 populations, 6000 samples, and 10000 variants...\n",
      "2020-04-24 03:20:27 Hail: INFO: Coerced sorted dataset\n",
      "2020-04-24 03:20:37 Hail: INFO: wrote matrix table with 10000 rows and 6000 columns in 8 partitions to /home/rav/data/tmp/mt_6000_10000_10.mt\n",
      "2020-04-24 03:20:37 Hail: INFO: hwe_normalized_pca: running PCA using 10000 variants.\n",
      "2020-04-24 03:20:40 Hail: INFO: pca: running PCA with 10 components...\n"
     ]
    },
    {
     "name": "stdout",
     "output_type": "stream",
     "text": [
      "PCA took s:6000, v:10000, p:10 : 22.32 seconds\n"
     ]
    },
    {
     "name": "stderr",
     "output_type": "stream",
     "text": [
      "2020-04-24 03:21:05 Hail: INFO: Wrote all 6 blocks of 10000 x 6000 matrix with block size 4096.\n",
      "2020-04-24 03:21:07 Hail: INFO: wrote matrix with 11 rows and 10000 columns as 3 blocks of size 4096 to file:/tmp/hail.rnK2opE09VTK/GMWlm5KMLm.bm\n",
      "2020-04-24 03:21:07 Hail: INFO: wrote matrix with 10000 rows and 6000 columns as 6 blocks of size 4096 to file:/tmp/hail.rnK2opE09VTK/q62cbyAroh.bm\n",
      "2020-04-24 03:21:08 Hail: INFO: wrote matrix with 10000 rows and 6000 columns as 6 blocks of size 4096 to file:/tmp/hail.rnK2opE09VTK/hN95jZhCnU.bm\n",
      "2020-04-24 03:21:43 Hail: INFO: wrote matrix with 6000 rows and 6000 columns as 4 blocks of size 4096 to file:/tmp/hail.rnK2opE09VTK/8S2uGI6sLq.bm\n",
      "2020-04-24 03:22:16 Hail: INFO: wrote matrix with 6000 rows and 6000 columns as 4 blocks of size 4096 to file:/tmp/hail.rnK2opE09VTK/LV8tXg50aa.bm\n",
      "2020-04-24 03:22:17 Hail: INFO: wrote matrix with 6000 rows and 6000 columns as 4 blocks of size 4096 to file:/tmp/hail.rnK2opE09VTK/4Pn3G32fpq.bm\n",
      "2020-04-24 03:22:55 Hail: INFO: wrote matrix with 6000 rows and 6000 columns as 4 blocks of size 4096 to file:/tmp/hail.rnK2opE09VTK/kADiFgGEYK.bm\n",
      "2020-04-24 03:23:29 Hail: INFO: wrote matrix with 6000 rows and 6000 columns as 4 blocks of size 4096 to file:/tmp/hail.rnK2opE09VTK/Y9JvybZsse.bm\n",
      "2020-04-24 03:23:30 Hail: INFO: wrote matrix with 6000 rows and 6000 columns as 4 blocks of size 4096 to file:/tmp/hail.rnK2opE09VTK/3ADoDf18uu.bm\n",
      "2020-04-24 03:24:11 Hail: INFO: wrote matrix with 6000 rows and 6000 columns as 4 blocks of size 4096 to file:/tmp/hail.rnK2opE09VTK/hu1dHiFAgw.bm\n",
      "2020-04-24 03:24:48 Hail: INFO: wrote matrix with 6000 rows and 6000 columns as 4 blocks of size 4096 to file:/tmp/hail.rnK2opE09VTK/nrp8BOy88T.bm\n",
      "2020-04-24 03:24:49 Hail: INFO: wrote matrix with 6000 rows and 6000 columns as 4 blocks of size 4096 to file:/tmp/hail.rnK2opE09VTK/j1t2FZsVdZ.bm\n",
      "2020-04-24 03:25:06 Hail: INFO: Ordering unsorted dataset with network shuffle\n",
      "2020-04-24 03:26:22 Hail: INFO: Coerced sorted dataset\n",
      "2020-04-24 03:27:24 Hail: INFO: wrote table with 17997000 rows in 4 partitions to /tmp/tmpv9bqlshb/pc_relate_result\n"
     ]
    },
    {
     "name": "stdout",
     "output_type": "stream",
     "text": [
      "Deleting pc_relate results: /tmp/tmpv9bqlshb/pc_relate_result\n",
      "Deleting hail tmp dir: /tmp/hail.rnK2opE09VTK\n"
     ]
    },
    {
     "name": "stderr",
     "output_type": "stream",
     "text": [
      "2020-04-24 03:27:25 Hail: INFO: balding_nichols_model: generating genotypes for 10 populations, 6500 samples, and 10000 variants...\n",
      "2020-04-24 03:27:25 Hail: INFO: Coerced sorted dataset\n",
      "2020-04-24 03:27:35 Hail: INFO: wrote matrix table with 10000 rows and 6500 columns in 8 partitions to /home/rav/data/tmp/mt_6500_10000_10.mt\n",
      "2020-04-24 03:27:36 Hail: INFO: hwe_normalized_pca: running PCA using 10000 variants.\n",
      "2020-04-24 03:27:38 Hail: INFO: pca: running PCA with 10 components...\n"
     ]
    },
    {
     "name": "stdout",
     "output_type": "stream",
     "text": [
      "PCA took s:6500, v:10000, p:10 : 21.28 seconds\n"
     ]
    },
    {
     "name": "stderr",
     "output_type": "stream",
     "text": [
      "2020-04-24 03:28:03 Hail: INFO: Wrote all 6 blocks of 10000 x 6500 matrix with block size 4096.\n",
      "2020-04-24 03:28:05 Hail: INFO: wrote matrix with 11 rows and 10000 columns as 3 blocks of size 4096 to file:/tmp/hail.rnK2opE09VTK/BlGnOFTz0N.bm\n",
      "2020-04-24 03:28:05 Hail: INFO: wrote matrix with 10000 rows and 6500 columns as 6 blocks of size 4096 to file:/tmp/hail.rnK2opE09VTK/Ylc7Wiq9ZE.bm\n",
      "2020-04-24 03:28:06 Hail: INFO: wrote matrix with 10000 rows and 6500 columns as 6 blocks of size 4096 to file:/tmp/hail.rnK2opE09VTK/KZd31J8FyL.bm\n",
      "2020-04-24 03:28:40 Hail: INFO: wrote matrix with 6500 rows and 6500 columns as 4 blocks of size 4096 to file:/tmp/hail.rnK2opE09VTK/8ukrCXfQHs.bm\n",
      "2020-04-24 03:29:15 Hail: INFO: wrote matrix with 6500 rows and 6500 columns as 4 blocks of size 4096 to file:/tmp/hail.rnK2opE09VTK/ECQqk5TrMj.bm\n",
      "2020-04-24 03:29:16 Hail: INFO: wrote matrix with 6500 rows and 6500 columns as 4 blocks of size 4096 to file:/tmp/hail.rnK2opE09VTK/MTCLMxyRhE.bm\n",
      "2020-04-24 03:29:58 Hail: INFO: wrote matrix with 6500 rows and 6500 columns as 4 blocks of size 4096 to file:/tmp/hail.rnK2opE09VTK/lSbRHMq18Y.bm\n",
      "2020-04-24 03:30:32 Hail: INFO: wrote matrix with 6500 rows and 6500 columns as 4 blocks of size 4096 to file:/tmp/hail.rnK2opE09VTK/TtIsbEPSw6.bm\n",
      "2020-04-24 03:30:32 Hail: INFO: wrote matrix with 6500 rows and 6500 columns as 4 blocks of size 4096 to file:/tmp/hail.rnK2opE09VTK/l0S2yPy9AO.bm\n",
      "2020-04-24 03:31:10 Hail: INFO: wrote matrix with 6500 rows and 6500 columns as 4 blocks of size 4096 to file:/tmp/hail.rnK2opE09VTK/G2TSlxTrlH.bm\n",
      "2020-04-24 03:31:51 Hail: INFO: wrote matrix with 6500 rows and 6500 columns as 4 blocks of size 4096 to file:/tmp/hail.rnK2opE09VTK/DhNVJwvlzu.bm\n",
      "2020-04-24 03:31:53 Hail: INFO: wrote matrix with 6500 rows and 6500 columns as 4 blocks of size 4096 to file:/tmp/hail.rnK2opE09VTK/Um0IafdT38.bm\n",
      "2020-04-24 03:32:11 Hail: INFO: Ordering unsorted dataset with network shuffle\n",
      "2020-04-24 03:33:51 Hail: INFO: Coerced sorted dataset\n",
      "2020-04-24 03:34:56 Hail: INFO: wrote table with 21121750 rows in 4 partitions to /tmp/tmp5y5woa2_/pc_relate_result\n"
     ]
    },
    {
     "name": "stdout",
     "output_type": "stream",
     "text": [
      "Deleting pc_relate results: /tmp/tmp5y5woa2_/pc_relate_result\n",
      "Deleting hail tmp dir: /tmp/hail.rnK2opE09VTK\n"
     ]
    },
    {
     "name": "stderr",
     "output_type": "stream",
     "text": [
      "2020-04-24 03:34:56 Hail: INFO: balding_nichols_model: generating genotypes for 10 populations, 7000 samples, and 10000 variants...\n",
      "2020-04-24 03:34:57 Hail: INFO: Coerced sorted dataset\n",
      "2020-04-24 03:35:08 Hail: INFO: wrote matrix table with 10000 rows and 7000 columns in 8 partitions to /home/rav/data/tmp/mt_7000_10000_10.mt\n",
      "2020-04-24 03:35:09 Hail: INFO: hwe_normalized_pca: running PCA using 10000 variants.\n",
      "2020-04-24 03:35:11 Hail: INFO: pca: running PCA with 10 components...\n"
     ]
    },
    {
     "name": "stdout",
     "output_type": "stream",
     "text": [
      "PCA took s:7000, v:10000, p:10 : 21.18 seconds\n"
     ]
    },
    {
     "name": "stderr",
     "output_type": "stream",
     "text": [
      "2020-04-24 03:35:36 Hail: INFO: Wrote all 6 blocks of 10000 x 7000 matrix with block size 4096.\n",
      "2020-04-24 03:35:38 Hail: INFO: wrote matrix with 11 rows and 10000 columns as 3 blocks of size 4096 to file:/tmp/hail.rnK2opE09VTK/W2XnNhSdi6.bm\n",
      "2020-04-24 03:35:39 Hail: INFO: wrote matrix with 10000 rows and 7000 columns as 6 blocks of size 4096 to file:/tmp/hail.rnK2opE09VTK/X7ZOSXdTvV.bm\n",
      "2020-04-24 03:35:40 Hail: INFO: wrote matrix with 10000 rows and 7000 columns as 6 blocks of size 4096 to file:/tmp/hail.rnK2opE09VTK/HlOc5kQLDW.bm\n",
      "2020-04-24 03:36:14 Hail: INFO: wrote matrix with 7000 rows and 7000 columns as 4 blocks of size 4096 to file:/tmp/hail.rnK2opE09VTK/BDYmwG55Ui.bm\n",
      "2020-04-24 03:36:48 Hail: INFO: wrote matrix with 7000 rows and 7000 columns as 4 blocks of size 4096 to file:/tmp/hail.rnK2opE09VTK/7nC4ns3G1u.bm\n",
      "2020-04-24 03:36:49 Hail: INFO: wrote matrix with 7000 rows and 7000 columns as 4 blocks of size 4096 to file:/tmp/hail.rnK2opE09VTK/QOAtgRUcuY.bm\n",
      "2020-04-24 03:37:36 Hail: INFO: wrote matrix with 7000 rows and 7000 columns as 4 blocks of size 4096 to file:/tmp/hail.rnK2opE09VTK/enLwq8orXP.bm\n",
      "2020-04-24 03:38:13 Hail: INFO: wrote matrix with 7000 rows and 7000 columns as 4 blocks of size 4096 to file:/tmp/hail.rnK2opE09VTK/VlIS4DDl1E.bm\n",
      "2020-04-24 03:38:13 Hail: INFO: wrote matrix with 7000 rows and 7000 columns as 4 blocks of size 4096 to file:/tmp/hail.rnK2opE09VTK/5YszpHdfsf.bm\n",
      "2020-04-24 03:38:55 Hail: INFO: wrote matrix with 7000 rows and 7000 columns as 4 blocks of size 4096 to file:/tmp/hail.rnK2opE09VTK/Oc0d9hUaWb.bm\n",
      "2020-04-24 03:39:36 Hail: INFO: wrote matrix with 7000 rows and 7000 columns as 4 blocks of size 4096 to file:/tmp/hail.rnK2opE09VTK/npfkPvHYLw.bm\n",
      "2020-04-24 03:39:39 Hail: INFO: wrote matrix with 7000 rows and 7000 columns as 4 blocks of size 4096 to file:/tmp/hail.rnK2opE09VTK/sIPD4Ff8vZ.bm\n",
      "2020-04-24 03:40:06 Hail: INFO: Ordering unsorted dataset with network shuffle\n",
      "2020-04-24 03:42:09 Hail: INFO: Coerced sorted dataset\n",
      "2020-04-24 03:43:22 Hail: INFO: wrote table with 24496500 rows in 4 partitions to /tmp/tmpphlcqc_i/pc_relate_result\n"
     ]
    },
    {
     "name": "stdout",
     "output_type": "stream",
     "text": [
      "Deleting pc_relate results: /tmp/tmpphlcqc_i/pc_relate_result\n",
      "Deleting hail tmp dir: /tmp/hail.rnK2opE09VTK\n"
     ]
    },
    {
     "name": "stderr",
     "output_type": "stream",
     "text": [
      "2020-04-24 03:43:23 Hail: INFO: balding_nichols_model: generating genotypes for 10 populations, 7500 samples, and 10000 variants...\n",
      "2020-04-24 03:43:24 Hail: INFO: Coerced sorted dataset\n",
      "2020-04-24 03:43:37 Hail: INFO: wrote matrix table with 10000 rows and 7500 columns in 8 partitions to /home/rav/data/tmp/mt_7500_10000_10.mt\n",
      "2020-04-24 03:43:38 Hail: INFO: hwe_normalized_pca: running PCA using 10000 variants.\n",
      "2020-04-24 03:43:41 Hail: INFO: pca: running PCA with 10 components...\n"
     ]
    },
    {
     "name": "stdout",
     "output_type": "stream",
     "text": [
      "PCA took s:7500, v:10000, p:10 : 25.56 seconds\n"
     ]
    },
    {
     "name": "stderr",
     "output_type": "stream",
     "text": [
      "2020-04-24 03:44:11 Hail: INFO: Wrote all 6 blocks of 10000 x 7500 matrix with block size 4096.\n",
      "2020-04-24 03:44:12 Hail: INFO: wrote matrix with 11 rows and 10000 columns as 3 blocks of size 4096 to file:/tmp/hail.rnK2opE09VTK/h7htbWReAJ.bm\n",
      "2020-04-24 03:44:13 Hail: INFO: wrote matrix with 10000 rows and 7500 columns as 6 blocks of size 4096 to file:/tmp/hail.rnK2opE09VTK/QSW68rhD6k.bm\n",
      "2020-04-24 03:44:14 Hail: INFO: wrote matrix with 10000 rows and 7500 columns as 6 blocks of size 4096 to file:/tmp/hail.rnK2opE09VTK/nQh73nshgj.bm\n",
      "2020-04-24 03:44:53 Hail: INFO: wrote matrix with 7500 rows and 7500 columns as 4 blocks of size 4096 to file:/tmp/hail.rnK2opE09VTK/bM1Zw93DeQ.bm\n",
      "2020-04-24 03:45:30 Hail: INFO: wrote matrix with 7500 rows and 7500 columns as 4 blocks of size 4096 to file:/tmp/hail.rnK2opE09VTK/pWzutJ5635.bm\n",
      "2020-04-24 03:45:30 Hail: INFO: wrote matrix with 7500 rows and 7500 columns as 4 blocks of size 4096 to file:/tmp/hail.rnK2opE09VTK/P2GJwnYbrs.bm\n",
      "2020-04-24 03:46:16 Hail: INFO: wrote matrix with 7500 rows and 7500 columns as 4 blocks of size 4096 to file:/tmp/hail.rnK2opE09VTK/hYr7iSKIuX.bm\n",
      "2020-04-24 03:46:53 Hail: INFO: wrote matrix with 7500 rows and 7500 columns as 4 blocks of size 4096 to file:/tmp/hail.rnK2opE09VTK/H3oEmoeS2I.bm\n",
      "2020-04-24 03:46:54 Hail: INFO: wrote matrix with 7500 rows and 7500 columns as 4 blocks of size 4096 to file:/tmp/hail.rnK2opE09VTK/UrFt0Q0V93.bm\n",
      "2020-04-24 03:47:35 Hail: INFO: wrote matrix with 7500 rows and 7500 columns as 4 blocks of size 4096 to file:/tmp/hail.rnK2opE09VTK/cj3hfxSnMO.bm\n",
      "2020-04-24 03:48:16 Hail: INFO: wrote matrix with 7500 rows and 7500 columns as 4 blocks of size 4096 to file:/tmp/hail.rnK2opE09VTK/76WxwTMfJH.bm\n",
      "2020-04-24 03:48:18 Hail: INFO: wrote matrix with 7500 rows and 7500 columns as 4 blocks of size 4096 to file:/tmp/hail.rnK2opE09VTK/bArxckSFoX.bm\n",
      "2020-04-24 03:48:46 Hail: INFO: Ordering unsorted dataset with network shuffle\n",
      "2020-04-24 03:51:19 Hail: INFO: Coerced sorted dataset\n",
      "2020-04-24 03:52:23 Hail: INFO: wrote table with 28121250 rows in 4 partitions to /tmp/tmpz96xmqwx/pc_relate_result\n"
     ]
    },
    {
     "name": "stdout",
     "output_type": "stream",
     "text": [
      "Deleting pc_relate results: /tmp/tmpz96xmqwx/pc_relate_result\n",
      "Deleting hail tmp dir: /tmp/hail.rnK2opE09VTK\n"
     ]
    },
    {
     "name": "stderr",
     "output_type": "stream",
     "text": [
      "2020-04-24 03:52:24 Hail: INFO: balding_nichols_model: generating genotypes for 10 populations, 8000 samples, and 10000 variants...\n",
      "2020-04-24 03:52:25 Hail: INFO: Coerced sorted dataset\n",
      "2020-04-24 03:52:39 Hail: INFO: wrote matrix table with 10000 rows and 8000 columns in 8 partitions to /home/rav/data/tmp/mt_8000_10000_10.mt\n",
      "2020-04-24 03:52:40 Hail: INFO: hwe_normalized_pca: running PCA using 10000 variants.\n",
      "2020-04-24 03:52:43 Hail: INFO: pca: running PCA with 10 components...\n"
     ]
    },
    {
     "name": "stdout",
     "output_type": "stream",
     "text": [
      "PCA took s:8000, v:10000, p:10 : 25.65 seconds\n"
     ]
    },
    {
     "name": "stderr",
     "output_type": "stream",
     "text": [
      "2020-04-24 03:53:13 Hail: INFO: Wrote all 6 blocks of 10000 x 8000 matrix with block size 4096.\n",
      "2020-04-24 03:53:15 Hail: INFO: wrote matrix with 11 rows and 10000 columns as 3 blocks of size 4096 to file:/tmp/hail.rnK2opE09VTK/8EmnrmePil.bm\n",
      "2020-04-24 03:53:16 Hail: INFO: wrote matrix with 10000 rows and 8000 columns as 6 blocks of size 4096 to file:/tmp/hail.rnK2opE09VTK/fddMh7VWTF.bm\n",
      "2020-04-24 03:53:17 Hail: INFO: wrote matrix with 10000 rows and 8000 columns as 6 blocks of size 4096 to file:/tmp/hail.rnK2opE09VTK/XB9AKDLvr7.bm\n",
      "2020-04-24 03:53:59 Hail: INFO: wrote matrix with 8000 rows and 8000 columns as 4 blocks of size 4096 to file:/tmp/hail.rnK2opE09VTK/NBDxmtZ4AR.bm\n",
      "2020-04-24 03:54:36 Hail: INFO: wrote matrix with 8000 rows and 8000 columns as 4 blocks of size 4096 to file:/tmp/hail.rnK2opE09VTK/KyFBk0GZgD.bm\n",
      "2020-04-24 03:54:37 Hail: INFO: wrote matrix with 8000 rows and 8000 columns as 4 blocks of size 4096 to file:/tmp/hail.rnK2opE09VTK/5eFPToHVo5.bm\n",
      "2020-04-24 03:55:32 Hail: INFO: wrote matrix with 8000 rows and 8000 columns as 4 blocks of size 4096 to file:/tmp/hail.rnK2opE09VTK/DFt31ixJwk.bm\n",
      "2020-04-24 03:56:09 Hail: INFO: wrote matrix with 8000 rows and 8000 columns as 4 blocks of size 4096 to file:/tmp/hail.rnK2opE09VTK/C4wGVOadYX.bm\n",
      "2020-04-24 03:56:11 Hail: INFO: wrote matrix with 8000 rows and 8000 columns as 4 blocks of size 4096 to file:/tmp/hail.rnK2opE09VTK/PoGM78llok.bm\n",
      "2020-04-24 03:57:05 Hail: INFO: wrote matrix with 8000 rows and 8000 columns as 4 blocks of size 4096 to file:/tmp/hail.rnK2opE09VTK/vO6065ce8j.bm\n",
      "2020-04-24 03:57:49 Hail: INFO: wrote matrix with 8000 rows and 8000 columns as 4 blocks of size 4096 to file:/tmp/hail.rnK2opE09VTK/EqlYHpsMSA.bm\n",
      "2020-04-24 03:57:51 Hail: INFO: wrote matrix with 8000 rows and 8000 columns as 4 blocks of size 4096 to file:/tmp/hail.rnK2opE09VTK/vYCSPB5ete.bm\n",
      "2020-04-24 03:58:24 Hail: INFO: Ordering unsorted dataset with network shuffle\n",
      "2020-04-24 04:01:00 Hail: INFO: Coerced sorted dataset\n",
      "2020-04-24 04:02:12 Hail: INFO: wrote table with 31996000 rows in 4 partitions to /tmp/tmp_utkrf2w/pc_relate_result\n"
     ]
    },
    {
     "name": "stdout",
     "output_type": "stream",
     "text": [
      "Deleting pc_relate results: /tmp/tmp_utkrf2w/pc_relate_result\n",
      "Deleting hail tmp dir: /tmp/hail.rnK2opE09VTK\n"
     ]
    },
    {
     "name": "stderr",
     "output_type": "stream",
     "text": [
      "2020-04-24 04:02:12 Hail: INFO: balding_nichols_model: generating genotypes for 10 populations, 8500 samples, and 10000 variants...\n",
      "2020-04-24 04:02:13 Hail: INFO: Coerced sorted dataset\n",
      "2020-04-24 04:02:28 Hail: INFO: wrote matrix table with 10000 rows and 8500 columns in 8 partitions to /home/rav/data/tmp/mt_8500_10000_10.mt\n",
      "2020-04-24 04:02:30 Hail: INFO: hwe_normalized_pca: running PCA using 10000 variants.\n",
      "2020-04-24 04:02:33 Hail: INFO: pca: running PCA with 10 components...\n"
     ]
    },
    {
     "name": "stdout",
     "output_type": "stream",
     "text": [
      "PCA took s:8500, v:10000, p:10 : 25.76 seconds\n"
     ]
    },
    {
     "name": "stderr",
     "output_type": "stream",
     "text": [
      "2020-04-24 04:03:03 Hail: INFO: Wrote all 9 blocks of 10000 x 8500 matrix with block size 4096.\n",
      "2020-04-24 04:03:05 Hail: INFO: wrote matrix with 11 rows and 10000 columns as 3 blocks of size 4096 to file:/tmp/hail.rnK2opE09VTK/RkOwBEGOJv.bm\n",
      "2020-04-24 04:03:06 Hail: INFO: wrote matrix with 10000 rows and 8500 columns as 9 blocks of size 4096 to file:/tmp/hail.rnK2opE09VTK/MbmafMjAC9.bm\n",
      "2020-04-24 04:03:08 Hail: INFO: wrote matrix with 10000 rows and 8500 columns as 9 blocks of size 4096 to file:/tmp/hail.rnK2opE09VTK/9vAjR06bgH.bm\n",
      "2020-04-24 04:03:50 Hail: INFO: wrote matrix with 8500 rows and 8500 columns as 9 blocks of size 4096 to file:/tmp/hail.rnK2opE09VTK/FIxp7uKttr.bm\n",
      "2020-04-24 04:04:31 Hail: INFO: wrote matrix with 8500 rows and 8500 columns as 9 blocks of size 4096 to file:/tmp/hail.rnK2opE09VTK/6qRZ26ArmM.bm\n",
      "2020-04-24 04:04:32 Hail: INFO: wrote matrix with 8500 rows and 8500 columns as 9 blocks of size 4096 to file:/tmp/hail.rnK2opE09VTK/Qjcy9fZ7Z7.bm\n",
      "2020-04-24 04:05:37 Hail: INFO: wrote matrix with 8500 rows and 8500 columns as 9 blocks of size 4096 to file:/tmp/hail.rnK2opE09VTK/tT9v9Se69M.bm\n",
      "2020-04-24 04:06:20 Hail: INFO: wrote matrix with 8500 rows and 8500 columns as 9 blocks of size 4096 to file:/tmp/hail.rnK2opE09VTK/8LttvGR0h6.bm\n",
      "2020-04-24 04:06:21 Hail: INFO: wrote matrix with 8500 rows and 8500 columns as 9 blocks of size 4096 to file:/tmp/hail.rnK2opE09VTK/fMCIlmwBD7.bm\n",
      "2020-04-24 04:07:08 Hail: INFO: wrote matrix with 8500 rows and 8500 columns as 9 blocks of size 4096 to file:/tmp/hail.rnK2opE09VTK/7UWJScp0mQ.bm\n",
      "ERROR:root:Exception while sending command.\n",
      "Traceback (most recent call last):\n",
      "  File \"/opt/conda/envs/gwas/lib/python3.7/site-packages/py4j/java_gateway.py\", line 1159, in send_command\n",
      "    raise Py4JNetworkError(\"Answer from Java side is empty\")\n",
      "py4j.protocol.Py4JNetworkError: Answer from Java side is empty\n",
      "\n",
      "During handling of the above exception, another exception occurred:\n",
      "\n",
      "Traceback (most recent call last):\n",
      "  File \"/opt/conda/envs/gwas/lib/python3.7/site-packages/py4j/java_gateway.py\", line 985, in send_command\n",
      "    response = connection.send_command(command)\n",
      "  File \"/opt/conda/envs/gwas/lib/python3.7/site-packages/py4j/java_gateway.py\", line 1164, in send_command\n",
      "    \"Error while receiving\", e, proto.ERROR_ON_RECEIVE)\n",
      "py4j.protocol.Py4JNetworkError: Error while receiving\n"
     ]
    },
    {
     "name": "stdout",
     "output_type": "stream",
     "text": [
      "Deleting hail tmp dir: /tmp/hail.rnK2opE09VTK\n"
     ]
    },
    {
     "ename": "Py4JError",
     "evalue": "An error occurred while calling o1451.executeJSON",
     "output_type": "error",
     "traceback": [
      "\u001b[0;31m---------------------------------------------------------------------------\u001b[0m",
      "\u001b[0;31mPy4JError\u001b[0m                                 Traceback (most recent call last)",
      "\u001b[0;32m<ipython-input-6-e210d7391d75>\u001b[0m in \u001b[0;36m<module>\u001b[0;34m\u001b[0m\n\u001b[1;32m      3\u001b[0m     \u001b[0msamples\u001b[0m \u001b[0;34m=\u001b[0m \u001b[0mi\u001b[0m\u001b[0;34m\u001b[0m\u001b[0;34m\u001b[0m\u001b[0m\n\u001b[1;32m      4\u001b[0m     \u001b[0mvariants\u001b[0m \u001b[0;34m=\u001b[0m \u001b[0;36m10000\u001b[0m\u001b[0;34m\u001b[0m\u001b[0;34m\u001b[0m\u001b[0m\n\u001b[0;32m----> 5\u001b[0;31m     \u001b[0mdo_experiment\u001b[0m\u001b[0;34m(\u001b[0m\u001b[0;34m\"simple_fixed_variants_10k_cpu_8_ram_31\"\u001b[0m\u001b[0;34m,\u001b[0m \u001b[0msamples\u001b[0m\u001b[0;34m=\u001b[0m\u001b[0msamples\u001b[0m\u001b[0;34m,\u001b[0m \u001b[0mvariants\u001b[0m\u001b[0;34m=\u001b[0m\u001b[0mvariants\u001b[0m\u001b[0;34m,\u001b[0m \u001b[0mpopulations\u001b[0m\u001b[0;34m=\u001b[0m\u001b[0;36m10\u001b[0m\u001b[0;34m)\u001b[0m\u001b[0;34m\u001b[0m\u001b[0;34m\u001b[0m\u001b[0m\n\u001b[0m",
      "\u001b[0;32m<ipython-input-5-23eac10fcab2>\u001b[0m in \u001b[0;36mdo_experiment\u001b[0;34m(experiment_name, samples, variants, populations)\u001b[0m\n\u001b[1;32m     18\u001b[0m             \u001b[0mpc_relate_result\u001b[0m \u001b[0;34m=\u001b[0m \u001b[0mhl\u001b[0m\u001b[0;34m.\u001b[0m\u001b[0mmethods\u001b[0m\u001b[0;34m.\u001b[0m\u001b[0mpc_relate\u001b[0m\u001b[0;34m(\u001b[0m\u001b[0mmt\u001b[0m\u001b[0;34m.\u001b[0m\u001b[0mGT\u001b[0m\u001b[0;34m,\u001b[0m \u001b[0mscores_expr\u001b[0m\u001b[0;34m=\u001b[0m\u001b[0mscores\u001b[0m\u001b[0;34m[\u001b[0m\u001b[0mmt\u001b[0m\u001b[0;34m.\u001b[0m\u001b[0mcol_key\u001b[0m\u001b[0;34m]\u001b[0m\u001b[0;34m.\u001b[0m\u001b[0mscores\u001b[0m\u001b[0;34m,\u001b[0m \u001b[0mmin_individual_maf\u001b[0m\u001b[0;34m=\u001b[0m\u001b[0;36m0.01\u001b[0m\u001b[0;34m)\u001b[0m\u001b[0;34m\u001b[0m\u001b[0;34m\u001b[0m\u001b[0m\n\u001b[1;32m     19\u001b[0m             \u001b[0mtmp_dir\u001b[0m \u001b[0;34m=\u001b[0m \u001b[0mPath\u001b[0m\u001b[0;34m(\u001b[0m\u001b[0mtempfile\u001b[0m\u001b[0;34m.\u001b[0m\u001b[0mmkdtemp\u001b[0m\u001b[0;34m(\u001b[0m\u001b[0;34m)\u001b[0m\u001b[0;34m)\u001b[0m\u001b[0;34m.\u001b[0m\u001b[0mjoinpath\u001b[0m\u001b[0;34m(\u001b[0m\u001b[0;34m\"pc_relate_result\"\u001b[0m\u001b[0;34m)\u001b[0m\u001b[0;34m\u001b[0m\u001b[0;34m\u001b[0m\u001b[0m\n\u001b[0;32m---> 20\u001b[0;31m             \u001b[0mpc_relate_result\u001b[0m\u001b[0;34m.\u001b[0m\u001b[0mwrite\u001b[0m\u001b[0;34m(\u001b[0m\u001b[0mtmp_dir\u001b[0m\u001b[0;34m.\u001b[0m\u001b[0mas_posix\u001b[0m\u001b[0;34m(\u001b[0m\u001b[0;34m)\u001b[0m\u001b[0;34m)\u001b[0m\u001b[0;34m\u001b[0m\u001b[0;34m\u001b[0m\u001b[0m\n\u001b[0m\u001b[1;32m     21\u001b[0m             \u001b[0mpc_relate_time\u001b[0m \u001b[0;34m=\u001b[0m \u001b[0mtime\u001b[0m\u001b[0;34m.\u001b[0m\u001b[0mtime\u001b[0m\u001b[0;34m(\u001b[0m\u001b[0;34m)\u001b[0m \u001b[0;34m-\u001b[0m \u001b[0mstart\u001b[0m\u001b[0;34m\u001b[0m\u001b[0;34m\u001b[0m\u001b[0m\n\u001b[1;32m     22\u001b[0m             \u001b[0mprint\u001b[0m\u001b[0;34m(\u001b[0m\u001b[0;34mf\"Deleting pc_relate results: {tmp_dir.as_posix()}\"\u001b[0m\u001b[0;34m)\u001b[0m\u001b[0;34m\u001b[0m\u001b[0;34m\u001b[0m\u001b[0m\n",
      "\u001b[0;32m<decorator-gen-1053>\u001b[0m in \u001b[0;36mwrite\u001b[0;34m(self, output, overwrite, stage_locally, _codec_spec)\u001b[0m\n",
      "\u001b[0;32m/opt/conda/envs/gwas/lib/python3.7/site-packages/hail/typecheck/check.py\u001b[0m in \u001b[0;36mwrapper\u001b[0;34m(__original_func, *args, **kwargs)\u001b[0m\n\u001b[1;32m    583\u001b[0m     \u001b[0;32mdef\u001b[0m \u001b[0mwrapper\u001b[0m\u001b[0;34m(\u001b[0m\u001b[0m__original_func\u001b[0m\u001b[0;34m,\u001b[0m \u001b[0;34m*\u001b[0m\u001b[0margs\u001b[0m\u001b[0;34m,\u001b[0m \u001b[0;34m**\u001b[0m\u001b[0mkwargs\u001b[0m\u001b[0;34m)\u001b[0m\u001b[0;34m:\u001b[0m\u001b[0;34m\u001b[0m\u001b[0;34m\u001b[0m\u001b[0m\n\u001b[1;32m    584\u001b[0m         \u001b[0margs_\u001b[0m\u001b[0;34m,\u001b[0m \u001b[0mkwargs_\u001b[0m \u001b[0;34m=\u001b[0m \u001b[0mcheck_all\u001b[0m\u001b[0;34m(\u001b[0m\u001b[0m__original_func\u001b[0m\u001b[0;34m,\u001b[0m \u001b[0margs\u001b[0m\u001b[0;34m,\u001b[0m \u001b[0mkwargs\u001b[0m\u001b[0;34m,\u001b[0m \u001b[0mcheckers\u001b[0m\u001b[0;34m,\u001b[0m \u001b[0mis_method\u001b[0m\u001b[0;34m=\u001b[0m\u001b[0mis_method\u001b[0m\u001b[0;34m)\u001b[0m\u001b[0;34m\u001b[0m\u001b[0;34m\u001b[0m\u001b[0m\n\u001b[0;32m--> 585\u001b[0;31m         \u001b[0;32mreturn\u001b[0m \u001b[0m__original_func\u001b[0m\u001b[0;34m(\u001b[0m\u001b[0;34m*\u001b[0m\u001b[0margs_\u001b[0m\u001b[0;34m,\u001b[0m \u001b[0;34m**\u001b[0m\u001b[0mkwargs_\u001b[0m\u001b[0;34m)\u001b[0m\u001b[0;34m\u001b[0m\u001b[0;34m\u001b[0m\u001b[0m\n\u001b[0m\u001b[1;32m    586\u001b[0m \u001b[0;34m\u001b[0m\u001b[0m\n\u001b[1;32m    587\u001b[0m     \u001b[0;32mreturn\u001b[0m \u001b[0mwrapper\u001b[0m\u001b[0;34m\u001b[0m\u001b[0;34m\u001b[0m\u001b[0m\n",
      "\u001b[0;32m/opt/conda/envs/gwas/lib/python3.7/site-packages/hail/table.py\u001b[0m in \u001b[0;36mwrite\u001b[0;34m(self, output, overwrite, stage_locally, _codec_spec)\u001b[0m\n\u001b[1;32m   1216\u001b[0m         \"\"\"\n\u001b[1;32m   1217\u001b[0m \u001b[0;34m\u001b[0m\u001b[0m\n\u001b[0;32m-> 1218\u001b[0;31m         \u001b[0mEnv\u001b[0m\u001b[0;34m.\u001b[0m\u001b[0mbackend\u001b[0m\u001b[0;34m(\u001b[0m\u001b[0;34m)\u001b[0m\u001b[0;34m.\u001b[0m\u001b[0mexecute\u001b[0m\u001b[0;34m(\u001b[0m\u001b[0mTableWrite\u001b[0m\u001b[0;34m(\u001b[0m\u001b[0mself\u001b[0m\u001b[0;34m.\u001b[0m\u001b[0m_tir\u001b[0m\u001b[0;34m,\u001b[0m \u001b[0mTableNativeWriter\u001b[0m\u001b[0;34m(\u001b[0m\u001b[0moutput\u001b[0m\u001b[0;34m,\u001b[0m \u001b[0moverwrite\u001b[0m\u001b[0;34m,\u001b[0m \u001b[0mstage_locally\u001b[0m\u001b[0;34m,\u001b[0m \u001b[0m_codec_spec\u001b[0m\u001b[0;34m)\u001b[0m\u001b[0;34m)\u001b[0m\u001b[0;34m)\u001b[0m\u001b[0;34m\u001b[0m\u001b[0;34m\u001b[0m\u001b[0m\n\u001b[0m\u001b[1;32m   1219\u001b[0m \u001b[0;34m\u001b[0m\u001b[0m\n\u001b[1;32m   1220\u001b[0m     \u001b[0;32mdef\u001b[0m \u001b[0m_show\u001b[0m\u001b[0;34m(\u001b[0m\u001b[0mself\u001b[0m\u001b[0;34m,\u001b[0m \u001b[0mn\u001b[0m\u001b[0;34m,\u001b[0m \u001b[0mwidth\u001b[0m\u001b[0;34m,\u001b[0m \u001b[0mtruncate\u001b[0m\u001b[0;34m,\u001b[0m \u001b[0mtypes\u001b[0m\u001b[0;34m)\u001b[0m\u001b[0;34m:\u001b[0m\u001b[0;34m\u001b[0m\u001b[0;34m\u001b[0m\u001b[0m\n",
      "\u001b[0;32m/opt/conda/envs/gwas/lib/python3.7/site-packages/hail/backend/backend.py\u001b[0m in \u001b[0;36mexecute\u001b[0;34m(self, ir, timed)\u001b[0m\n\u001b[1;32m    107\u001b[0m \u001b[0;34m\u001b[0m\u001b[0m\n\u001b[1;32m    108\u001b[0m     \u001b[0;32mdef\u001b[0m \u001b[0mexecute\u001b[0m\u001b[0;34m(\u001b[0m\u001b[0mself\u001b[0m\u001b[0;34m,\u001b[0m \u001b[0mir\u001b[0m\u001b[0;34m,\u001b[0m \u001b[0mtimed\u001b[0m\u001b[0;34m=\u001b[0m\u001b[0;32mFalse\u001b[0m\u001b[0;34m)\u001b[0m\u001b[0;34m:\u001b[0m\u001b[0;34m\u001b[0m\u001b[0;34m\u001b[0m\u001b[0m\n\u001b[0;32m--> 109\u001b[0;31m         \u001b[0mresult\u001b[0m \u001b[0;34m=\u001b[0m \u001b[0mjson\u001b[0m\u001b[0;34m.\u001b[0m\u001b[0mloads\u001b[0m\u001b[0;34m(\u001b[0m\u001b[0mEnv\u001b[0m\u001b[0;34m.\u001b[0m\u001b[0mhc\u001b[0m\u001b[0;34m(\u001b[0m\u001b[0;34m)\u001b[0m\u001b[0;34m.\u001b[0m\u001b[0m_jhc\u001b[0m\u001b[0;34m.\u001b[0m\u001b[0mbackend\u001b[0m\u001b[0;34m(\u001b[0m\u001b[0;34m)\u001b[0m\u001b[0;34m.\u001b[0m\u001b[0mexecuteJSON\u001b[0m\u001b[0;34m(\u001b[0m\u001b[0mself\u001b[0m\u001b[0;34m.\u001b[0m\u001b[0m_to_java_ir\u001b[0m\u001b[0;34m(\u001b[0m\u001b[0mir\u001b[0m\u001b[0;34m)\u001b[0m\u001b[0;34m)\u001b[0m\u001b[0;34m)\u001b[0m\u001b[0;34m\u001b[0m\u001b[0;34m\u001b[0m\u001b[0m\n\u001b[0m\u001b[1;32m    110\u001b[0m         \u001b[0mvalue\u001b[0m \u001b[0;34m=\u001b[0m \u001b[0mir\u001b[0m\u001b[0;34m.\u001b[0m\u001b[0mtyp\u001b[0m\u001b[0;34m.\u001b[0m\u001b[0m_from_json\u001b[0m\u001b[0;34m(\u001b[0m\u001b[0mresult\u001b[0m\u001b[0;34m[\u001b[0m\u001b[0;34m'value'\u001b[0m\u001b[0;34m]\u001b[0m\u001b[0;34m)\u001b[0m\u001b[0;34m\u001b[0m\u001b[0;34m\u001b[0m\u001b[0m\n\u001b[1;32m    111\u001b[0m         \u001b[0mtimings\u001b[0m \u001b[0;34m=\u001b[0m \u001b[0mresult\u001b[0m\u001b[0;34m[\u001b[0m\u001b[0;34m'timings'\u001b[0m\u001b[0;34m]\u001b[0m\u001b[0;34m\u001b[0m\u001b[0;34m\u001b[0m\u001b[0m\n",
      "\u001b[0;32m/opt/conda/envs/gwas/lib/python3.7/site-packages/py4j/java_gateway.py\u001b[0m in \u001b[0;36m__call__\u001b[0;34m(self, *args)\u001b[0m\n\u001b[1;32m   1255\u001b[0m         \u001b[0manswer\u001b[0m \u001b[0;34m=\u001b[0m \u001b[0mself\u001b[0m\u001b[0;34m.\u001b[0m\u001b[0mgateway_client\u001b[0m\u001b[0;34m.\u001b[0m\u001b[0msend_command\u001b[0m\u001b[0;34m(\u001b[0m\u001b[0mcommand\u001b[0m\u001b[0;34m)\u001b[0m\u001b[0;34m\u001b[0m\u001b[0;34m\u001b[0m\u001b[0m\n\u001b[1;32m   1256\u001b[0m         return_value = get_return_value(\n\u001b[0;32m-> 1257\u001b[0;31m             answer, self.gateway_client, self.target_id, self.name)\n\u001b[0m\u001b[1;32m   1258\u001b[0m \u001b[0;34m\u001b[0m\u001b[0m\n\u001b[1;32m   1259\u001b[0m         \u001b[0;32mfor\u001b[0m \u001b[0mtemp_arg\u001b[0m \u001b[0;32min\u001b[0m \u001b[0mtemp_args\u001b[0m\u001b[0;34m:\u001b[0m\u001b[0;34m\u001b[0m\u001b[0;34m\u001b[0m\u001b[0m\n",
      "\u001b[0;32m/opt/conda/envs/gwas/lib/python3.7/site-packages/hail/utils/java.py\u001b[0m in \u001b[0;36mdeco\u001b[0;34m(*args, **kwargs)\u001b[0m\n\u001b[1;32m    211\u001b[0m         \u001b[0;32mimport\u001b[0m \u001b[0mpyspark\u001b[0m\u001b[0;34m\u001b[0m\u001b[0;34m\u001b[0m\u001b[0m\n\u001b[1;32m    212\u001b[0m         \u001b[0;32mtry\u001b[0m\u001b[0;34m:\u001b[0m\u001b[0;34m\u001b[0m\u001b[0;34m\u001b[0m\u001b[0m\n\u001b[0;32m--> 213\u001b[0;31m             \u001b[0;32mreturn\u001b[0m \u001b[0mf\u001b[0m\u001b[0;34m(\u001b[0m\u001b[0;34m*\u001b[0m\u001b[0margs\u001b[0m\u001b[0;34m,\u001b[0m \u001b[0;34m**\u001b[0m\u001b[0mkwargs\u001b[0m\u001b[0;34m)\u001b[0m\u001b[0;34m\u001b[0m\u001b[0;34m\u001b[0m\u001b[0m\n\u001b[0m\u001b[1;32m    214\u001b[0m         \u001b[0;32mexcept\u001b[0m \u001b[0mpy4j\u001b[0m\u001b[0;34m.\u001b[0m\u001b[0mprotocol\u001b[0m\u001b[0;34m.\u001b[0m\u001b[0mPy4JJavaError\u001b[0m \u001b[0;32mas\u001b[0m \u001b[0me\u001b[0m\u001b[0;34m:\u001b[0m\u001b[0;34m\u001b[0m\u001b[0;34m\u001b[0m\u001b[0m\n\u001b[1;32m    215\u001b[0m             \u001b[0ms\u001b[0m \u001b[0;34m=\u001b[0m \u001b[0me\u001b[0m\u001b[0;34m.\u001b[0m\u001b[0mjava_exception\u001b[0m\u001b[0;34m.\u001b[0m\u001b[0mtoString\u001b[0m\u001b[0;34m(\u001b[0m\u001b[0;34m)\u001b[0m\u001b[0;34m\u001b[0m\u001b[0;34m\u001b[0m\u001b[0m\n",
      "\u001b[0;32m/opt/conda/envs/gwas/lib/python3.7/site-packages/py4j/protocol.py\u001b[0m in \u001b[0;36mget_return_value\u001b[0;34m(answer, gateway_client, target_id, name)\u001b[0m\n\u001b[1;32m    334\u001b[0m             raise Py4JError(\n\u001b[1;32m    335\u001b[0m                 \u001b[0;34m\"An error occurred while calling {0}{1}{2}\"\u001b[0m\u001b[0;34m.\u001b[0m\u001b[0;34m\u001b[0m\u001b[0;34m\u001b[0m\u001b[0m\n\u001b[0;32m--> 336\u001b[0;31m                 format(target_id, \".\", name))\n\u001b[0m\u001b[1;32m    337\u001b[0m     \u001b[0;32melse\u001b[0m\u001b[0;34m:\u001b[0m\u001b[0;34m\u001b[0m\u001b[0;34m\u001b[0m\u001b[0m\n\u001b[1;32m    338\u001b[0m         \u001b[0mtype\u001b[0m \u001b[0;34m=\u001b[0m \u001b[0manswer\u001b[0m\u001b[0;34m[\u001b[0m\u001b[0;36m1\u001b[0m\u001b[0;34m]\u001b[0m\u001b[0;34m\u001b[0m\u001b[0;34m\u001b[0m\u001b[0m\n",
      "\u001b[0;31mPy4JError\u001b[0m: An error occurred while calling o1451.executeJSON"
     ]
    }
   ],
   "source": [
    "# Fixed variants = 10k\n",
    "for i in range(1000, 10001, 500):\n",
    "    samples = i\n",
    "    variants = 10000\n",
    "    do_experiment(\"simple_fixed_variants_10k_cpu_8_ram_31\", samples=samples, variants=variants, populations=10)"
   ]
  },
  {
   "cell_type": "code",
   "execution_count": 5,
   "metadata": {
    "scrolled": true
   },
   "outputs": [
    {
     "name": "stderr",
     "output_type": "stream",
     "text": [
      "2020-04-24 05:02:30 Hail: INFO: hwe_normalized_pca: running PCA using 1000 variants.\n",
      "2020-04-24 05:02:32 Hail: INFO: pca: running PCA with 10 components...\n"
     ]
    },
    {
     "name": "stdout",
     "output_type": "stream",
     "text": [
      "PCA took s:2000, v:1000, p:10 : 15.29 seconds\n"
     ]
    },
    {
     "name": "stderr",
     "output_type": "stream",
     "text": [
      "2020-04-24 05:02:45 Hail: INFO: Wrote all 1 blocks of 1000 x 2000 matrix with block size 4096.\n",
      "2020-04-24 05:02:46 Hail: INFO: wrote matrix with 11 rows and 1000 columns as 1 block of size 4096 to file:/tmp/hail.sVrGxaLZ4jVW/PH75Dq8pMm.bm\n",
      "2020-04-24 05:02:46 Hail: INFO: wrote matrix with 1000 rows and 2000 columns as 1 block of size 4096 to file:/tmp/hail.sVrGxaLZ4jVW/dc8a2J8YGl.bm\n",
      "2020-04-24 05:02:46 Hail: INFO: wrote matrix with 1000 rows and 2000 columns as 1 block of size 4096 to file:/tmp/hail.sVrGxaLZ4jVW/D0KloM8Slr.bm\n",
      "2020-04-24 05:02:47 Hail: INFO: wrote matrix with 2000 rows and 2000 columns as 1 block of size 4096 to file:/tmp/hail.sVrGxaLZ4jVW/GckgRPHU2m.bm\n",
      "2020-04-24 05:02:48 Hail: INFO: wrote matrix with 2000 rows and 2000 columns as 1 block of size 4096 to file:/tmp/hail.sVrGxaLZ4jVW/ujwTW5WxU0.bm\n",
      "2020-04-24 05:02:48 Hail: INFO: wrote matrix with 2000 rows and 2000 columns as 1 block of size 4096 to file:/tmp/hail.sVrGxaLZ4jVW/BtPefVYp8r.bm\n",
      "2020-04-24 05:02:49 Hail: INFO: wrote matrix with 2000 rows and 2000 columns as 1 block of size 4096 to file:/tmp/hail.sVrGxaLZ4jVW/P74Rf6tcXN.bm\n",
      "2020-04-24 05:02:50 Hail: INFO: wrote matrix with 2000 rows and 2000 columns as 1 block of size 4096 to file:/tmp/hail.sVrGxaLZ4jVW/uB80tyzpMa.bm\n",
      "2020-04-24 05:02:51 Hail: INFO: wrote matrix with 2000 rows and 2000 columns as 1 block of size 4096 to file:/tmp/hail.sVrGxaLZ4jVW/kUV4lqlMyA.bm\n",
      "2020-04-24 05:02:52 Hail: INFO: wrote matrix with 2000 rows and 2000 columns as 1 block of size 4096 to file:/tmp/hail.sVrGxaLZ4jVW/NQUEqLwt3I.bm\n",
      "2020-04-24 05:02:53 Hail: INFO: wrote matrix with 2000 rows and 2000 columns as 1 block of size 4096 to file:/tmp/hail.sVrGxaLZ4jVW/yjeoTsN8os.bm\n",
      "2020-04-24 05:02:53 Hail: INFO: wrote matrix with 2000 rows and 2000 columns as 1 block of size 4096 to file:/tmp/hail.sVrGxaLZ4jVW/SJfx8nsuiE.bm\n",
      "2020-04-24 05:02:58 Hail: INFO: Ordering unsorted dataset with network shuffle\n",
      "2020-04-24 05:03:18 Hail: INFO: Coerced sorted dataset\n",
      "2020-04-24 05:03:31 Hail: INFO: wrote table with 1999000 rows in 1 partition to /tmp/tmp592tc38h/pc_relate_result\n",
      "2020-04-24 05:03:31 Hail: INFO: balding_nichols_model: generating genotypes for 10 populations, 2000 samples, and 1500 variants...\n"
     ]
    },
    {
     "name": "stdout",
     "output_type": "stream",
     "text": [
      "Deleting pc_relate results: /tmp/tmp592tc38h/pc_relate_result\n",
      "Deleting hail tmp dir: /tmp/hail.sVrGxaLZ4jVW\n"
     ]
    },
    {
     "name": "stderr",
     "output_type": "stream",
     "text": [
      "2020-04-24 05:03:31 Hail: INFO: Coerced sorted dataset\n",
      "2020-04-24 05:03:33 Hail: INFO: wrote matrix table with 1500 rows and 2000 columns in 8 partitions to /home/rav/data/tmp/mt_2000_1500_10.mt\n",
      "2020-04-24 05:03:33 Hail: INFO: hwe_normalized_pca: running PCA using 1500 variants.\n",
      "2020-04-24 05:03:34 Hail: INFO: pca: running PCA with 10 components...\n"
     ]
    },
    {
     "name": "stdout",
     "output_type": "stream",
     "text": [
      "PCA took s:2000, v:1500, p:10 : 6.68 seconds\n"
     ]
    },
    {
     "name": "stderr",
     "output_type": "stream",
     "text": [
      "2020-04-24 05:03:41 Hail: INFO: Wrote all 1 blocks of 1500 x 2000 matrix with block size 4096.\n",
      "2020-04-24 05:03:42 Hail: INFO: wrote matrix with 11 rows and 1500 columns as 1 block of size 4096 to file:/tmp/hail.sVrGxaLZ4jVW/FHCIDVO8OJ.bm\n",
      "2020-04-24 05:03:42 Hail: INFO: wrote matrix with 1500 rows and 2000 columns as 1 block of size 4096 to file:/tmp/hail.sVrGxaLZ4jVW/s0blPfMUzE.bm\n",
      "2020-04-24 05:03:42 Hail: INFO: wrote matrix with 1500 rows and 2000 columns as 1 block of size 4096 to file:/tmp/hail.sVrGxaLZ4jVW/B7QhGdgntf.bm\n",
      "2020-04-24 05:03:44 Hail: INFO: wrote matrix with 2000 rows and 2000 columns as 1 block of size 4096 to file:/tmp/hail.sVrGxaLZ4jVW/orJraLsaNE.bm\n",
      "2020-04-24 05:03:45 Hail: INFO: wrote matrix with 2000 rows and 2000 columns as 1 block of size 4096 to file:/tmp/hail.sVrGxaLZ4jVW/Wx8vjFIR8S.bm\n",
      "2020-04-24 05:03:45 Hail: INFO: wrote matrix with 2000 rows and 2000 columns as 1 block of size 4096 to file:/tmp/hail.sVrGxaLZ4jVW/b8z4T7hjkR.bm\n",
      "2020-04-24 05:03:47 Hail: INFO: wrote matrix with 2000 rows and 2000 columns as 1 block of size 4096 to file:/tmp/hail.sVrGxaLZ4jVW/Kjf5xw6cBo.bm\n",
      "2020-04-24 05:03:48 Hail: INFO: wrote matrix with 2000 rows and 2000 columns as 1 block of size 4096 to file:/tmp/hail.sVrGxaLZ4jVW/VBTTlHDN1A.bm\n",
      "2020-04-24 05:03:48 Hail: INFO: wrote matrix with 2000 rows and 2000 columns as 1 block of size 4096 to file:/tmp/hail.sVrGxaLZ4jVW/3MkdmnpBb0.bm\n",
      "2020-04-24 05:03:50 Hail: INFO: wrote matrix with 2000 rows and 2000 columns as 1 block of size 4096 to file:/tmp/hail.sVrGxaLZ4jVW/tgnBakCkSn.bm\n",
      "2020-04-24 05:03:52 Hail: INFO: wrote matrix with 2000 rows and 2000 columns as 1 block of size 4096 to file:/tmp/hail.sVrGxaLZ4jVW/KhpUZS0Tb1.bm\n",
      "2020-04-24 05:03:52 Hail: INFO: wrote matrix with 2000 rows and 2000 columns as 1 block of size 4096 to file:/tmp/hail.sVrGxaLZ4jVW/lc3479uJLS.bm\n",
      "2020-04-24 05:03:56 Hail: INFO: Ordering unsorted dataset with network shuffle\n",
      "2020-04-24 05:04:13 Hail: INFO: Coerced sorted dataset\n",
      "2020-04-24 05:04:27 Hail: INFO: wrote table with 1999000 rows in 1 partition to /tmp/tmplnvi6w6c/pc_relate_result\n"
     ]
    },
    {
     "name": "stdout",
     "output_type": "stream",
     "text": [
      "Deleting pc_relate results: /tmp/tmplnvi6w6c/pc_relate_result\n",
      "Deleting hail tmp dir: /tmp/hail.sVrGxaLZ4jVW\n"
     ]
    },
    {
     "name": "stderr",
     "output_type": "stream",
     "text": [
      "2020-04-24 05:04:27 Hail: INFO: hwe_normalized_pca: running PCA using 2000 variants.\n",
      "2020-04-24 05:04:28 Hail: INFO: pca: running PCA with 10 components...\n"
     ]
    },
    {
     "name": "stdout",
     "output_type": "stream",
     "text": [
      "PCA took s:2000, v:2000, p:10 : 8.16 seconds\n"
     ]
    },
    {
     "name": "stderr",
     "output_type": "stream",
     "text": [
      "2020-04-24 05:04:37 Hail: INFO: Wrote all 1 blocks of 2000 x 2000 matrix with block size 4096.\n",
      "2020-04-24 05:04:38 Hail: INFO: wrote matrix with 11 rows and 2000 columns as 1 block of size 4096 to file:/tmp/hail.sVrGxaLZ4jVW/7wvfREkDdP.bm\n",
      "2020-04-24 05:04:38 Hail: INFO: wrote matrix with 2000 rows and 2000 columns as 1 block of size 4096 to file:/tmp/hail.sVrGxaLZ4jVW/p26Ob18Ia4.bm\n",
      "2020-04-24 05:04:38 Hail: INFO: wrote matrix with 2000 rows and 2000 columns as 1 block of size 4096 to file:/tmp/hail.sVrGxaLZ4jVW/XiWWzesWRb.bm\n",
      "2020-04-24 05:04:40 Hail: INFO: wrote matrix with 2000 rows and 2000 columns as 1 block of size 4096 to file:/tmp/hail.sVrGxaLZ4jVW/IllPDBgGli.bm\n",
      "2020-04-24 05:04:42 Hail: INFO: wrote matrix with 2000 rows and 2000 columns as 1 block of size 4096 to file:/tmp/hail.sVrGxaLZ4jVW/J0IOWlfwie.bm\n",
      "2020-04-24 05:04:42 Hail: INFO: wrote matrix with 2000 rows and 2000 columns as 1 block of size 4096 to file:/tmp/hail.sVrGxaLZ4jVW/74yDVVWqZz.bm\n",
      "2020-04-24 05:04:44 Hail: INFO: wrote matrix with 2000 rows and 2000 columns as 1 block of size 4096 to file:/tmp/hail.sVrGxaLZ4jVW/KaR8Gq35eE.bm\n",
      "2020-04-24 05:04:46 Hail: INFO: wrote matrix with 2000 rows and 2000 columns as 1 block of size 4096 to file:/tmp/hail.sVrGxaLZ4jVW/HkSfIKrESH.bm\n",
      "2020-04-24 05:04:46 Hail: INFO: wrote matrix with 2000 rows and 2000 columns as 1 block of size 4096 to file:/tmp/hail.sVrGxaLZ4jVW/sRfha9c1Pk.bm\n",
      "2020-04-24 05:04:48 Hail: INFO: wrote matrix with 2000 rows and 2000 columns as 1 block of size 4096 to file:/tmp/hail.sVrGxaLZ4jVW/tEL5vo7T3o.bm\n",
      "2020-04-24 05:04:50 Hail: INFO: wrote matrix with 2000 rows and 2000 columns as 1 block of size 4096 to file:/tmp/hail.sVrGxaLZ4jVW/rxIYnb8cKg.bm\n",
      "2020-04-24 05:04:51 Hail: INFO: wrote matrix with 2000 rows and 2000 columns as 1 block of size 4096 to file:/tmp/hail.sVrGxaLZ4jVW/Rj5Gq9zafR.bm\n",
      "2020-04-24 05:04:54 Hail: INFO: Ordering unsorted dataset with network shuffle\n",
      "2020-04-24 05:05:12 Hail: INFO: Coerced sorted dataset\n",
      "2020-04-24 05:05:25 Hail: INFO: wrote table with 1999000 rows in 1 partition to /tmp/tmpedgnu249/pc_relate_result\n",
      "2020-04-24 05:05:25 Hail: INFO: balding_nichols_model: generating genotypes for 10 populations, 2000 samples, and 2500 variants...\n"
     ]
    },
    {
     "name": "stdout",
     "output_type": "stream",
     "text": [
      "Deleting pc_relate results: /tmp/tmpedgnu249/pc_relate_result\n",
      "Deleting hail tmp dir: /tmp/hail.sVrGxaLZ4jVW\n"
     ]
    },
    {
     "name": "stderr",
     "output_type": "stream",
     "text": [
      "2020-04-24 05:05:25 Hail: INFO: Coerced sorted dataset\n",
      "2020-04-24 05:05:27 Hail: INFO: wrote matrix table with 2500 rows and 2000 columns in 8 partitions to /home/rav/data/tmp/mt_2000_2500_10.mt\n",
      "2020-04-24 05:05:27 Hail: INFO: hwe_normalized_pca: running PCA using 2500 variants.\n",
      "2020-04-24 05:05:28 Hail: INFO: pca: running PCA with 10 components...\n"
     ]
    },
    {
     "name": "stdout",
     "output_type": "stream",
     "text": [
      "PCA took s:2000, v:2500, p:10 : 7.73 seconds\n"
     ]
    },
    {
     "name": "stderr",
     "output_type": "stream",
     "text": [
      "2020-04-24 05:05:36 Hail: INFO: Wrote all 1 blocks of 2500 x 2000 matrix with block size 4096.\n",
      "2020-04-24 05:05:37 Hail: INFO: wrote matrix with 11 rows and 2500 columns as 1 block of size 4096 to file:/tmp/hail.sVrGxaLZ4jVW/BceUKaquzI.bm\n",
      "2020-04-24 05:05:37 Hail: INFO: wrote matrix with 2500 rows and 2000 columns as 1 block of size 4096 to file:/tmp/hail.sVrGxaLZ4jVW/TEWXhttxHL.bm\n",
      "2020-04-24 05:05:37 Hail: INFO: wrote matrix with 2500 rows and 2000 columns as 1 block of size 4096 to file:/tmp/hail.sVrGxaLZ4jVW/jSdJ0osbc0.bm\n",
      "2020-04-24 05:05:40 Hail: INFO: wrote matrix with 2000 rows and 2000 columns as 1 block of size 4096 to file:/tmp/hail.sVrGxaLZ4jVW/nc6xRelval.bm\n",
      "2020-04-24 05:05:42 Hail: INFO: wrote matrix with 2000 rows and 2000 columns as 1 block of size 4096 to file:/tmp/hail.sVrGxaLZ4jVW/3vgiP6jkqx.bm\n",
      "2020-04-24 05:05:42 Hail: INFO: wrote matrix with 2000 rows and 2000 columns as 1 block of size 4096 to file:/tmp/hail.sVrGxaLZ4jVW/QWTacgilRK.bm\n",
      "2020-04-24 05:05:45 Hail: INFO: wrote matrix with 2000 rows and 2000 columns as 1 block of size 4096 to file:/tmp/hail.sVrGxaLZ4jVW/GnoVqiDA3Y.bm\n",
      "2020-04-24 05:05:47 Hail: INFO: wrote matrix with 2000 rows and 2000 columns as 1 block of size 4096 to file:/tmp/hail.sVrGxaLZ4jVW/X2afgz324r.bm\n",
      "2020-04-24 05:05:47 Hail: INFO: wrote matrix with 2000 rows and 2000 columns as 1 block of size 4096 to file:/tmp/hail.sVrGxaLZ4jVW/tMVGvA0G57.bm\n",
      "2020-04-24 05:05:50 Hail: INFO: wrote matrix with 2000 rows and 2000 columns as 1 block of size 4096 to file:/tmp/hail.sVrGxaLZ4jVW/QddYkXnbuJ.bm\n",
      "2020-04-24 05:05:52 Hail: INFO: wrote matrix with 2000 rows and 2000 columns as 1 block of size 4096 to file:/tmp/hail.sVrGxaLZ4jVW/MatOO2ZkVh.bm\n",
      "2020-04-24 05:05:53 Hail: INFO: wrote matrix with 2000 rows and 2000 columns as 1 block of size 4096 to file:/tmp/hail.sVrGxaLZ4jVW/rIH42aJ3rt.bm\n",
      "2020-04-24 05:05:56 Hail: INFO: Ordering unsorted dataset with network shuffle\n",
      "2020-04-24 05:06:15 Hail: INFO: Coerced sorted dataset\n",
      "2020-04-24 05:06:28 Hail: INFO: wrote table with 1999000 rows in 1 partition to /tmp/tmp78u_1th0/pc_relate_result\n"
     ]
    },
    {
     "name": "stdout",
     "output_type": "stream",
     "text": [
      "Deleting pc_relate results: /tmp/tmp78u_1th0/pc_relate_result\n",
      "Deleting hail tmp dir: /tmp/hail.sVrGxaLZ4jVW\n"
     ]
    },
    {
     "name": "stderr",
     "output_type": "stream",
     "text": [
      "2020-04-24 05:06:28 Hail: INFO: hwe_normalized_pca: running PCA using 3000 variants.\n",
      "2020-04-24 05:06:29 Hail: INFO: pca: running PCA with 10 components...\n"
     ]
    },
    {
     "name": "stdout",
     "output_type": "stream",
     "text": [
      "PCA took s:2000, v:3000, p:10 : 8.76 seconds\n"
     ]
    },
    {
     "name": "stderr",
     "output_type": "stream",
     "text": [
      "2020-04-24 05:06:39 Hail: INFO: Wrote all 1 blocks of 3000 x 2000 matrix with block size 4096.\n",
      "2020-04-24 05:06:39 Hail: INFO: wrote matrix with 11 rows and 3000 columns as 1 block of size 4096 to file:/tmp/hail.sVrGxaLZ4jVW/WAl9dYq4k2.bm\n",
      "2020-04-24 05:06:39 Hail: INFO: wrote matrix with 3000 rows and 2000 columns as 1 block of size 4096 to file:/tmp/hail.sVrGxaLZ4jVW/JDDzyXztWa.bm\n",
      "2020-04-24 05:06:40 Hail: INFO: wrote matrix with 3000 rows and 2000 columns as 1 block of size 4096 to file:/tmp/hail.sVrGxaLZ4jVW/cNptR0EIWb.bm\n",
      "2020-04-24 05:06:42 Hail: INFO: wrote matrix with 2000 rows and 2000 columns as 1 block of size 4096 to file:/tmp/hail.sVrGxaLZ4jVW/ETPFoBI6nJ.bm\n",
      "2020-04-24 05:06:45 Hail: INFO: wrote matrix with 2000 rows and 2000 columns as 1 block of size 4096 to file:/tmp/hail.sVrGxaLZ4jVW/TY2zPH0WgM.bm\n",
      "2020-04-24 05:06:45 Hail: INFO: wrote matrix with 2000 rows and 2000 columns as 1 block of size 4096 to file:/tmp/hail.sVrGxaLZ4jVW/NnaGOWZ73W.bm\n",
      "2020-04-24 05:06:48 Hail: INFO: wrote matrix with 2000 rows and 2000 columns as 1 block of size 4096 to file:/tmp/hail.sVrGxaLZ4jVW/JFb4p3y9RZ.bm\n",
      "2020-04-24 05:06:51 Hail: INFO: wrote matrix with 2000 rows and 2000 columns as 1 block of size 4096 to file:/tmp/hail.sVrGxaLZ4jVW/fUOauXEgdR.bm\n",
      "2020-04-24 05:06:51 Hail: INFO: wrote matrix with 2000 rows and 2000 columns as 1 block of size 4096 to file:/tmp/hail.sVrGxaLZ4jVW/ozcCm8lbQz.bm\n",
      "2020-04-24 05:06:54 Hail: INFO: wrote matrix with 2000 rows and 2000 columns as 1 block of size 4096 to file:/tmp/hail.sVrGxaLZ4jVW/VrbJPkVjGJ.bm\n",
      "2020-04-24 05:06:57 Hail: INFO: wrote matrix with 2000 rows and 2000 columns as 1 block of size 4096 to file:/tmp/hail.sVrGxaLZ4jVW/pkUgTTWvdG.bm\n",
      "2020-04-24 05:06:57 Hail: INFO: wrote matrix with 2000 rows and 2000 columns as 1 block of size 4096 to file:/tmp/hail.sVrGxaLZ4jVW/9k3nyB6WoH.bm\n",
      "2020-04-24 05:07:01 Hail: INFO: Ordering unsorted dataset with network shuffle\n",
      "2020-04-24 05:07:20 Hail: INFO: Coerced sorted dataset\n",
      "2020-04-24 05:07:33 Hail: INFO: wrote table with 1999000 rows in 1 partition to /tmp/tmpu7b8gs18/pc_relate_result\n",
      "2020-04-24 05:07:33 Hail: INFO: balding_nichols_model: generating genotypes for 10 populations, 2000 samples, and 3500 variants...\n"
     ]
    },
    {
     "name": "stdout",
     "output_type": "stream",
     "text": [
      "Deleting pc_relate results: /tmp/tmpu7b8gs18/pc_relate_result\n",
      "Deleting hail tmp dir: /tmp/hail.sVrGxaLZ4jVW\n"
     ]
    },
    {
     "name": "stderr",
     "output_type": "stream",
     "text": [
      "2020-04-24 05:07:33 Hail: INFO: Coerced sorted dataset\n",
      "2020-04-24 05:07:35 Hail: INFO: wrote matrix table with 3500 rows and 2000 columns in 8 partitions to /home/rav/data/tmp/mt_2000_3500_10.mt\n",
      "2020-04-24 05:07:35 Hail: INFO: hwe_normalized_pca: running PCA using 3500 variants.\n",
      "2020-04-24 05:07:36 Hail: INFO: pca: running PCA with 10 components...\n"
     ]
    },
    {
     "name": "stdout",
     "output_type": "stream",
     "text": [
      "PCA took s:2000, v:3500, p:10 : 7.55 seconds\n"
     ]
    },
    {
     "name": "stderr",
     "output_type": "stream",
     "text": [
      "2020-04-24 05:07:45 Hail: INFO: Wrote all 1 blocks of 3500 x 2000 matrix with block size 4096.\n",
      "2020-04-24 05:07:45 Hail: INFO: wrote matrix with 11 rows and 3500 columns as 1 block of size 4096 to file:/tmp/hail.sVrGxaLZ4jVW/WL9pSC8ytW.bm\n",
      "2020-04-24 05:07:45 Hail: INFO: wrote matrix with 3500 rows and 2000 columns as 1 block of size 4096 to file:/tmp/hail.sVrGxaLZ4jVW/lbKnbDcNJZ.bm\n",
      "2020-04-24 05:07:46 Hail: INFO: wrote matrix with 3500 rows and 2000 columns as 1 block of size 4096 to file:/tmp/hail.sVrGxaLZ4jVW/0aJB2szJET.bm\n",
      "2020-04-24 05:07:49 Hail: INFO: wrote matrix with 2000 rows and 2000 columns as 1 block of size 4096 to file:/tmp/hail.sVrGxaLZ4jVW/82T7kCoBhA.bm\n",
      "2020-04-24 05:07:52 Hail: INFO: wrote matrix with 2000 rows and 2000 columns as 1 block of size 4096 to file:/tmp/hail.sVrGxaLZ4jVW/XLP1phk4ck.bm\n",
      "2020-04-24 05:07:52 Hail: INFO: wrote matrix with 2000 rows and 2000 columns as 1 block of size 4096 to file:/tmp/hail.sVrGxaLZ4jVW/4A6QpuI2KP.bm\n",
      "2020-04-24 05:07:56 Hail: INFO: wrote matrix with 2000 rows and 2000 columns as 1 block of size 4096 to file:/tmp/hail.sVrGxaLZ4jVW/U9w9loaHpe.bm\n",
      "2020-04-24 05:07:59 Hail: INFO: wrote matrix with 2000 rows and 2000 columns as 1 block of size 4096 to file:/tmp/hail.sVrGxaLZ4jVW/y4lnYV8kGX.bm\n",
      "2020-04-24 05:07:59 Hail: INFO: wrote matrix with 2000 rows and 2000 columns as 1 block of size 4096 to file:/tmp/hail.sVrGxaLZ4jVW/CGUfNLApUe.bm\n",
      "2020-04-24 05:08:03 Hail: INFO: wrote matrix with 2000 rows and 2000 columns as 1 block of size 4096 to file:/tmp/hail.sVrGxaLZ4jVW/sG5ylbIjJG.bm\n",
      "2020-04-24 05:08:06 Hail: INFO: wrote matrix with 2000 rows and 2000 columns as 1 block of size 4096 to file:/tmp/hail.sVrGxaLZ4jVW/rUFr5pL3D0.bm\n",
      "2020-04-24 05:08:07 Hail: INFO: wrote matrix with 2000 rows and 2000 columns as 1 block of size 4096 to file:/tmp/hail.sVrGxaLZ4jVW/YanARNkJGL.bm\n",
      "2020-04-24 05:08:10 Hail: INFO: Ordering unsorted dataset with network shuffle\n",
      "2020-04-24 05:08:32 Hail: INFO: Coerced sorted dataset\n",
      "2020-04-24 05:08:45 Hail: INFO: wrote table with 1999000 rows in 1 partition to /tmp/tmps5qq64pu/pc_relate_result\n"
     ]
    },
    {
     "name": "stdout",
     "output_type": "stream",
     "text": [
      "Deleting pc_relate results: /tmp/tmps5qq64pu/pc_relate_result\n",
      "Deleting hail tmp dir: /tmp/hail.sVrGxaLZ4jVW\n"
     ]
    },
    {
     "name": "stderr",
     "output_type": "stream",
     "text": [
      "2020-04-24 05:08:46 Hail: INFO: hwe_normalized_pca: running PCA using 4000 variants.\n",
      "2020-04-24 05:08:46 Hail: INFO: pca: running PCA with 10 components...\n"
     ]
    },
    {
     "name": "stdout",
     "output_type": "stream",
     "text": [
      "PCA took s:2000, v:4000, p:10 : 7.98 seconds\n"
     ]
    },
    {
     "name": "stderr",
     "output_type": "stream",
     "text": [
      "2020-04-24 05:08:56 Hail: INFO: Wrote all 1 blocks of 4000 x 2000 matrix with block size 4096.\n",
      "2020-04-24 05:08:56 Hail: INFO: wrote matrix with 11 rows and 4000 columns as 1 block of size 4096 to file:/tmp/hail.sVrGxaLZ4jVW/sWOoEtrlTL.bm\n",
      "2020-04-24 05:08:56 Hail: INFO: wrote matrix with 4000 rows and 2000 columns as 1 block of size 4096 to file:/tmp/hail.sVrGxaLZ4jVW/4wioatrYxB.bm\n",
      "2020-04-24 05:08:57 Hail: INFO: wrote matrix with 4000 rows and 2000 columns as 1 block of size 4096 to file:/tmp/hail.sVrGxaLZ4jVW/8HfnnZRirQ.bm\n",
      "2020-04-24 05:09:00 Hail: INFO: wrote matrix with 2000 rows and 2000 columns as 1 block of size 4096 to file:/tmp/hail.sVrGxaLZ4jVW/Tai5V0sP33.bm\n",
      "2020-04-24 05:09:04 Hail: INFO: wrote matrix with 2000 rows and 2000 columns as 1 block of size 4096 to file:/tmp/hail.sVrGxaLZ4jVW/iDkgjDPQl2.bm\n",
      "2020-04-24 05:09:04 Hail: INFO: wrote matrix with 2000 rows and 2000 columns as 1 block of size 4096 to file:/tmp/hail.sVrGxaLZ4jVW/6MR9NtkeaT.bm\n",
      "2020-04-24 05:09:09 Hail: INFO: wrote matrix with 2000 rows and 2000 columns as 1 block of size 4096 to file:/tmp/hail.sVrGxaLZ4jVW/b5bJuntgZi.bm\n",
      "2020-04-24 05:09:12 Hail: INFO: wrote matrix with 2000 rows and 2000 columns as 1 block of size 4096 to file:/tmp/hail.sVrGxaLZ4jVW/5EpPMMCjlO.bm\n",
      "2020-04-24 05:09:12 Hail: INFO: wrote matrix with 2000 rows and 2000 columns as 1 block of size 4096 to file:/tmp/hail.sVrGxaLZ4jVW/gTg0PuXQqc.bm\n",
      "2020-04-24 05:09:16 Hail: INFO: wrote matrix with 2000 rows and 2000 columns as 1 block of size 4096 to file:/tmp/hail.sVrGxaLZ4jVW/u4TkVJcYep.bm\n",
      "2020-04-24 05:09:20 Hail: INFO: wrote matrix with 2000 rows and 2000 columns as 1 block of size 4096 to file:/tmp/hail.sVrGxaLZ4jVW/OFzhqmcn1k.bm\n",
      "2020-04-24 05:09:20 Hail: INFO: wrote matrix with 2000 rows and 2000 columns as 1 block of size 4096 to file:/tmp/hail.sVrGxaLZ4jVW/EbN9xVzzfG.bm\n",
      "2020-04-24 05:09:24 Hail: INFO: Ordering unsorted dataset with network shuffle\n",
      "2020-04-24 05:09:42 Hail: INFO: Coerced sorted dataset\n",
      "2020-04-24 05:09:56 Hail: INFO: wrote table with 1999000 rows in 1 partition to /tmp/tmp2oxxdqxe/pc_relate_result\n",
      "2020-04-24 05:09:56 Hail: INFO: balding_nichols_model: generating genotypes for 10 populations, 2000 samples, and 4500 variants...\n"
     ]
    },
    {
     "name": "stdout",
     "output_type": "stream",
     "text": [
      "Deleting pc_relate results: /tmp/tmp2oxxdqxe/pc_relate_result\n",
      "Deleting hail tmp dir: /tmp/hail.sVrGxaLZ4jVW\n"
     ]
    },
    {
     "name": "stderr",
     "output_type": "stream",
     "text": [
      "2020-04-24 05:09:56 Hail: INFO: Coerced sorted dataset\n",
      "2020-04-24 05:09:58 Hail: INFO: wrote matrix table with 4500 rows and 2000 columns in 8 partitions to /home/rav/data/tmp/mt_2000_4500_10.mt\n",
      "2020-04-24 05:09:58 Hail: INFO: hwe_normalized_pca: running PCA using 4500 variants.\n",
      "2020-04-24 05:09:59 Hail: INFO: pca: running PCA with 10 components...\n"
     ]
    },
    {
     "name": "stdout",
     "output_type": "stream",
     "text": [
      "PCA took s:2000, v:4500, p:10 : 9.00 seconds\n"
     ]
    },
    {
     "name": "stderr",
     "output_type": "stream",
     "text": [
      "2020-04-24 05:10:09 Hail: INFO: Wrote all 2 blocks of 4500 x 2000 matrix with block size 4096.\n",
      "2020-04-24 05:10:10 Hail: INFO: wrote matrix with 11 rows and 4500 columns as 2 blocks of size 4096 to file:/tmp/hail.sVrGxaLZ4jVW/Y3DFcPe6BD.bm\n",
      "2020-04-24 05:10:10 Hail: INFO: wrote matrix with 4500 rows and 2000 columns as 2 blocks of size 4096 to file:/tmp/hail.sVrGxaLZ4jVW/FyD9HXNPs1.bm\n",
      "2020-04-24 05:10:11 Hail: INFO: wrote matrix with 4500 rows and 2000 columns as 2 blocks of size 4096 to file:/tmp/hail.sVrGxaLZ4jVW/lMFyKuE6xH.bm\n",
      "2020-04-24 05:10:15 Hail: INFO: wrote matrix with 2000 rows and 2000 columns as 1 block of size 4096 to file:/tmp/hail.sVrGxaLZ4jVW/XEnC703XpP.bm\n",
      "2020-04-24 05:10:19 Hail: INFO: wrote matrix with 2000 rows and 2000 columns as 1 block of size 4096 to file:/tmp/hail.sVrGxaLZ4jVW/fgRklN6Jno.bm\n",
      "2020-04-24 05:10:19 Hail: INFO: wrote matrix with 2000 rows and 2000 columns as 1 block of size 4096 to file:/tmp/hail.sVrGxaLZ4jVW/sjRb2l8vDx.bm\n",
      "2020-04-24 05:10:24 Hail: INFO: wrote matrix with 2000 rows and 2000 columns as 1 block of size 4096 to file:/tmp/hail.sVrGxaLZ4jVW/GF0pedu3AB.bm\n",
      "2020-04-24 05:10:28 Hail: INFO: wrote matrix with 2000 rows and 2000 columns as 1 block of size 4096 to file:/tmp/hail.sVrGxaLZ4jVW/iZUHzQuyy6.bm\n",
      "2020-04-24 05:10:28 Hail: INFO: wrote matrix with 2000 rows and 2000 columns as 1 block of size 4096 to file:/tmp/hail.sVrGxaLZ4jVW/h1cKPe88Mh.bm\n",
      "2020-04-24 05:10:32 Hail: INFO: wrote matrix with 2000 rows and 2000 columns as 1 block of size 4096 to file:/tmp/hail.sVrGxaLZ4jVW/cUlQlAUIPh.bm\n",
      "2020-04-24 05:10:36 Hail: INFO: wrote matrix with 2000 rows and 2000 columns as 1 block of size 4096 to file:/tmp/hail.sVrGxaLZ4jVW/JwAiH4bP75.bm\n",
      "2020-04-24 05:10:37 Hail: INFO: wrote matrix with 2000 rows and 2000 columns as 1 block of size 4096 to file:/tmp/hail.sVrGxaLZ4jVW/8dxcCMEHhw.bm\n",
      "2020-04-24 05:10:40 Hail: INFO: Ordering unsorted dataset with network shuffle\n",
      "2020-04-24 05:10:58 Hail: INFO: Coerced sorted dataset\n",
      "2020-04-24 05:11:12 Hail: INFO: wrote table with 1999000 rows in 1 partition to /tmp/tmppdvzw12f/pc_relate_result\n"
     ]
    },
    {
     "name": "stdout",
     "output_type": "stream",
     "text": [
      "Deleting pc_relate results: /tmp/tmppdvzw12f/pc_relate_result\n",
      "Deleting hail tmp dir: /tmp/hail.sVrGxaLZ4jVW\n"
     ]
    },
    {
     "name": "stderr",
     "output_type": "stream",
     "text": [
      "2020-04-24 05:11:12 Hail: INFO: hwe_normalized_pca: running PCA using 5000 variants.\n",
      "2020-04-24 05:11:13 Hail: INFO: pca: running PCA with 10 components...\n"
     ]
    },
    {
     "name": "stdout",
     "output_type": "stream",
     "text": [
      "PCA took s:2000, v:5000, p:10 : 9.51 seconds\n"
     ]
    },
    {
     "name": "stderr",
     "output_type": "stream",
     "text": [
      "2020-04-24 05:11:24 Hail: INFO: Wrote all 2 blocks of 5000 x 2000 matrix with block size 4096.\n",
      "2020-04-24 05:11:24 Hail: INFO: wrote matrix with 11 rows and 5000 columns as 2 blocks of size 4096 to file:/tmp/hail.sVrGxaLZ4jVW/JPIVAnBvF0.bm\n",
      "2020-04-24 05:11:24 Hail: INFO: wrote matrix with 5000 rows and 2000 columns as 2 blocks of size 4096 to file:/tmp/hail.sVrGxaLZ4jVW/Gptzl7oAnT.bm\n",
      "2020-04-24 05:11:25 Hail: INFO: wrote matrix with 5000 rows and 2000 columns as 2 blocks of size 4096 to file:/tmp/hail.sVrGxaLZ4jVW/gJ2cAbGxPM.bm\n",
      "2020-04-24 05:11:29 Hail: INFO: wrote matrix with 2000 rows and 2000 columns as 1 block of size 4096 to file:/tmp/hail.sVrGxaLZ4jVW/jts0FC4wgq.bm\n",
      "2020-04-24 05:11:33 Hail: INFO: wrote matrix with 2000 rows and 2000 columns as 1 block of size 4096 to file:/tmp/hail.sVrGxaLZ4jVW/F3TACkDfIG.bm\n",
      "2020-04-24 05:11:34 Hail: INFO: wrote matrix with 2000 rows and 2000 columns as 1 block of size 4096 to file:/tmp/hail.sVrGxaLZ4jVW/iDTCBqPZ3L.bm\n",
      "2020-04-24 05:11:39 Hail: INFO: wrote matrix with 2000 rows and 2000 columns as 1 block of size 4096 to file:/tmp/hail.sVrGxaLZ4jVW/T1L8Q62I2x.bm\n",
      "2020-04-24 05:11:43 Hail: INFO: wrote matrix with 2000 rows and 2000 columns as 1 block of size 4096 to file:/tmp/hail.sVrGxaLZ4jVW/SQFRnpPVnU.bm\n",
      "2020-04-24 05:11:43 Hail: INFO: wrote matrix with 2000 rows and 2000 columns as 1 block of size 4096 to file:/tmp/hail.sVrGxaLZ4jVW/uel59cqGPo.bm\n",
      "2020-04-24 05:11:48 Hail: INFO: wrote matrix with 2000 rows and 2000 columns as 1 block of size 4096 to file:/tmp/hail.sVrGxaLZ4jVW/nnl9miRuSi.bm\n",
      "2020-04-24 05:11:53 Hail: INFO: wrote matrix with 2000 rows and 2000 columns as 1 block of size 4096 to file:/tmp/hail.sVrGxaLZ4jVW/jmWhtLXRtG.bm\n",
      "2020-04-24 05:11:54 Hail: INFO: wrote matrix with 2000 rows and 2000 columns as 1 block of size 4096 to file:/tmp/hail.sVrGxaLZ4jVW/fVoM4MCgay.bm\n",
      "2020-04-24 05:11:57 Hail: INFO: Ordering unsorted dataset with network shuffle\n",
      "2020-04-24 05:12:15 Hail: INFO: Coerced sorted dataset\n",
      "2020-04-24 05:12:28 Hail: INFO: wrote table with 1999000 rows in 1 partition to /tmp/tmpho_fb1bx/pc_relate_result\n",
      "2020-04-24 05:12:28 Hail: INFO: balding_nichols_model: generating genotypes for 10 populations, 2000 samples, and 5500 variants...\n"
     ]
    },
    {
     "name": "stdout",
     "output_type": "stream",
     "text": [
      "Deleting pc_relate results: /tmp/tmpho_fb1bx/pc_relate_result\n",
      "Deleting hail tmp dir: /tmp/hail.sVrGxaLZ4jVW\n"
     ]
    },
    {
     "name": "stderr",
     "output_type": "stream",
     "text": [
      "2020-04-24 05:12:28 Hail: INFO: Coerced sorted dataset\n",
      "2020-04-24 05:12:31 Hail: INFO: wrote matrix table with 5500 rows and 2000 columns in 8 partitions to /home/rav/data/tmp/mt_2000_5500_10.mt\n",
      "2020-04-24 05:12:31 Hail: INFO: hwe_normalized_pca: running PCA using 5500 variants.\n",
      "2020-04-24 05:12:32 Hail: INFO: pca: running PCA with 10 components...\n"
     ]
    },
    {
     "name": "stdout",
     "output_type": "stream",
     "text": [
      "PCA took s:2000, v:5500, p:10 : 8.86 seconds\n"
     ]
    },
    {
     "name": "stderr",
     "output_type": "stream",
     "text": [
      "2020-04-24 05:12:42 Hail: INFO: Wrote all 2 blocks of 5500 x 2000 matrix with block size 4096.\n",
      "2020-04-24 05:12:42 Hail: INFO: wrote matrix with 11 rows and 5500 columns as 2 blocks of size 4096 to file:/tmp/hail.sVrGxaLZ4jVW/qAavWBaOZI.bm\n",
      "2020-04-24 05:12:43 Hail: INFO: wrote matrix with 5500 rows and 2000 columns as 2 blocks of size 4096 to file:/tmp/hail.sVrGxaLZ4jVW/WAwSyQ98lL.bm\n",
      "2020-04-24 05:12:43 Hail: INFO: wrote matrix with 5500 rows and 2000 columns as 2 blocks of size 4096 to file:/tmp/hail.sVrGxaLZ4jVW/qBX0Btp01m.bm\n",
      "2020-04-24 05:12:48 Hail: INFO: wrote matrix with 2000 rows and 2000 columns as 1 block of size 4096 to file:/tmp/hail.sVrGxaLZ4jVW/oagjxiUFvH.bm\n",
      "2020-04-24 05:12:53 Hail: INFO: wrote matrix with 2000 rows and 2000 columns as 1 block of size 4096 to file:/tmp/hail.sVrGxaLZ4jVW/I0JAdJU9Mi.bm\n",
      "2020-04-24 05:12:53 Hail: INFO: wrote matrix with 2000 rows and 2000 columns as 1 block of size 4096 to file:/tmp/hail.sVrGxaLZ4jVW/Wl7fiYs86M.bm\n",
      "2020-04-24 05:12:59 Hail: INFO: wrote matrix with 2000 rows and 2000 columns as 1 block of size 4096 to file:/tmp/hail.sVrGxaLZ4jVW/F8qUaw20Rb.bm\n",
      "2020-04-24 05:13:03 Hail: INFO: wrote matrix with 2000 rows and 2000 columns as 1 block of size 4096 to file:/tmp/hail.sVrGxaLZ4jVW/ErH6gybFW5.bm\n",
      "2020-04-24 05:13:03 Hail: INFO: wrote matrix with 2000 rows and 2000 columns as 1 block of size 4096 to file:/tmp/hail.sVrGxaLZ4jVW/MEAdEwpg8w.bm\n",
      "2020-04-24 05:13:09 Hail: INFO: wrote matrix with 2000 rows and 2000 columns as 1 block of size 4096 to file:/tmp/hail.sVrGxaLZ4jVW/3cN3FT8BsF.bm\n",
      "2020-04-24 05:13:14 Hail: INFO: wrote matrix with 2000 rows and 2000 columns as 1 block of size 4096 to file:/tmp/hail.sVrGxaLZ4jVW/YOk5280r5m.bm\n",
      "2020-04-24 05:13:15 Hail: INFO: wrote matrix with 2000 rows and 2000 columns as 1 block of size 4096 to file:/tmp/hail.sVrGxaLZ4jVW/kEVSV5Ured.bm\n",
      "2020-04-24 05:13:18 Hail: INFO: Ordering unsorted dataset with network shuffle\n",
      "2020-04-24 05:13:37 Hail: INFO: Coerced sorted dataset\n",
      "2020-04-24 05:13:50 Hail: INFO: wrote table with 1999000 rows in 1 partition to /tmp/tmpy6sfnr4p/pc_relate_result\n"
     ]
    },
    {
     "name": "stdout",
     "output_type": "stream",
     "text": [
      "Deleting pc_relate results: /tmp/tmpy6sfnr4p/pc_relate_result\n",
      "Deleting hail tmp dir: /tmp/hail.sVrGxaLZ4jVW\n"
     ]
    },
    {
     "name": "stderr",
     "output_type": "stream",
     "text": [
      "2020-04-24 05:13:50 Hail: INFO: hwe_normalized_pca: running PCA using 6000 variants.\n",
      "2020-04-24 05:13:51 Hail: INFO: pca: running PCA with 10 components...\n"
     ]
    },
    {
     "name": "stdout",
     "output_type": "stream",
     "text": [
      "PCA took s:2000, v:6000, p:10 : 9.47 seconds\n"
     ]
    },
    {
     "name": "stderr",
     "output_type": "stream",
     "text": [
      "2020-04-24 05:14:02 Hail: INFO: Wrote all 2 blocks of 6000 x 2000 matrix with block size 4096.\n",
      "2020-04-24 05:14:02 Hail: INFO: wrote matrix with 11 rows and 6000 columns as 2 blocks of size 4096 to file:/tmp/hail.sVrGxaLZ4jVW/a9HwvnCMos.bm\n",
      "2020-04-24 05:14:03 Hail: INFO: wrote matrix with 6000 rows and 2000 columns as 2 blocks of size 4096 to file:/tmp/hail.sVrGxaLZ4jVW/caAkKmmNtW.bm\n",
      "2020-04-24 05:14:03 Hail: INFO: wrote matrix with 6000 rows and 2000 columns as 2 blocks of size 4096 to file:/tmp/hail.sVrGxaLZ4jVW/yYsOc6YGTb.bm\n",
      "2020-04-24 05:14:08 Hail: INFO: wrote matrix with 2000 rows and 2000 columns as 1 block of size 4096 to file:/tmp/hail.sVrGxaLZ4jVW/ofFo0jKQjk.bm\n",
      "2020-04-24 05:14:13 Hail: INFO: wrote matrix with 2000 rows and 2000 columns as 1 block of size 4096 to file:/tmp/hail.sVrGxaLZ4jVW/336NjqON4H.bm\n",
      "2020-04-24 05:14:14 Hail: INFO: wrote matrix with 2000 rows and 2000 columns as 1 block of size 4096 to file:/tmp/hail.sVrGxaLZ4jVW/G1LRO6I9Fo.bm\n",
      "2020-04-24 05:14:20 Hail: INFO: wrote matrix with 2000 rows and 2000 columns as 1 block of size 4096 to file:/tmp/hail.sVrGxaLZ4jVW/uWdXfAVRn3.bm\n",
      "2020-04-24 05:14:25 Hail: INFO: wrote matrix with 2000 rows and 2000 columns as 1 block of size 4096 to file:/tmp/hail.sVrGxaLZ4jVW/nGSYEXxeno.bm\n",
      "2020-04-24 05:14:25 Hail: INFO: wrote matrix with 2000 rows and 2000 columns as 1 block of size 4096 to file:/tmp/hail.sVrGxaLZ4jVW/oERWh1FWYa.bm\n",
      "2020-04-24 05:14:31 Hail: INFO: wrote matrix with 2000 rows and 2000 columns as 1 block of size 4096 to file:/tmp/hail.sVrGxaLZ4jVW/4Es9RylO5W.bm\n",
      "2020-04-24 05:14:37 Hail: INFO: wrote matrix with 2000 rows and 2000 columns as 1 block of size 4096 to file:/tmp/hail.sVrGxaLZ4jVW/x3UiSGepft.bm\n",
      "2020-04-24 05:14:37 Hail: INFO: wrote matrix with 2000 rows and 2000 columns as 1 block of size 4096 to file:/tmp/hail.sVrGxaLZ4jVW/wXDOC03Ryp.bm\n",
      "2020-04-24 05:14:41 Hail: INFO: Ordering unsorted dataset with network shuffle\n",
      "2020-04-24 05:15:00 Hail: INFO: Coerced sorted dataset\n",
      "2020-04-24 05:15:13 Hail: INFO: wrote table with 1999000 rows in 1 partition to /tmp/tmpbfvyi994/pc_relate_result\n",
      "2020-04-24 05:15:13 Hail: INFO: balding_nichols_model: generating genotypes for 10 populations, 2000 samples, and 6500 variants...\n"
     ]
    },
    {
     "name": "stdout",
     "output_type": "stream",
     "text": [
      "Deleting pc_relate results: /tmp/tmpbfvyi994/pc_relate_result\n",
      "Deleting hail tmp dir: /tmp/hail.sVrGxaLZ4jVW\n"
     ]
    },
    {
     "name": "stderr",
     "output_type": "stream",
     "text": [
      "2020-04-24 05:15:13 Hail: INFO: Coerced sorted dataset\n",
      "2020-04-24 05:15:15 Hail: INFO: wrote matrix table with 6500 rows and 2000 columns in 8 partitions to /home/rav/data/tmp/mt_2000_6500_10.mt\n",
      "2020-04-24 05:15:16 Hail: INFO: hwe_normalized_pca: running PCA using 6500 variants.\n",
      "2020-04-24 05:15:17 Hail: INFO: pca: running PCA with 10 components...\n"
     ]
    },
    {
     "name": "stdout",
     "output_type": "stream",
     "text": [
      "PCA took s:2000, v:6500, p:10 : 9.59 seconds\n"
     ]
    },
    {
     "name": "stderr",
     "output_type": "stream",
     "text": [
      "2020-04-24 05:15:28 Hail: INFO: Wrote all 2 blocks of 6500 x 2000 matrix with block size 4096.\n",
      "2020-04-24 05:15:28 Hail: INFO: wrote matrix with 11 rows and 6500 columns as 2 blocks of size 4096 to file:/tmp/hail.sVrGxaLZ4jVW/ZrGRGKSCoe.bm\n",
      "2020-04-24 05:15:28 Hail: INFO: wrote matrix with 6500 rows and 2000 columns as 2 blocks of size 4096 to file:/tmp/hail.sVrGxaLZ4jVW/fQgfw3TDjO.bm\n",
      "2020-04-24 05:15:29 Hail: INFO: wrote matrix with 6500 rows and 2000 columns as 2 blocks of size 4096 to file:/tmp/hail.sVrGxaLZ4jVW/r3Rru84QQa.bm\n",
      "2020-04-24 05:15:35 Hail: INFO: wrote matrix with 2000 rows and 2000 columns as 1 block of size 4096 to file:/tmp/hail.sVrGxaLZ4jVW/W4liENJijG.bm\n",
      "2020-04-24 05:15:40 Hail: INFO: wrote matrix with 2000 rows and 2000 columns as 1 block of size 4096 to file:/tmp/hail.sVrGxaLZ4jVW/phMwxBiBHb.bm\n",
      "2020-04-24 05:15:40 Hail: INFO: wrote matrix with 2000 rows and 2000 columns as 1 block of size 4096 to file:/tmp/hail.sVrGxaLZ4jVW/6zq9ELIhUZ.bm\n",
      "2020-04-24 05:15:47 Hail: INFO: wrote matrix with 2000 rows and 2000 columns as 1 block of size 4096 to file:/tmp/hail.sVrGxaLZ4jVW/k4qix894Uf.bm\n",
      "2020-04-24 05:15:53 Hail: INFO: wrote matrix with 2000 rows and 2000 columns as 1 block of size 4096 to file:/tmp/hail.sVrGxaLZ4jVW/Yr58UFn57U.bm\n",
      "2020-04-24 05:15:53 Hail: INFO: wrote matrix with 2000 rows and 2000 columns as 1 block of size 4096 to file:/tmp/hail.sVrGxaLZ4jVW/tJ6rYjCU8B.bm\n",
      "2020-04-24 05:16:00 Hail: INFO: wrote matrix with 2000 rows and 2000 columns as 1 block of size 4096 to file:/tmp/hail.sVrGxaLZ4jVW/Toya2AkDFh.bm\n",
      "2020-04-24 05:16:06 Hail: INFO: wrote matrix with 2000 rows and 2000 columns as 1 block of size 4096 to file:/tmp/hail.sVrGxaLZ4jVW/GFvxrfsujw.bm\n",
      "2020-04-24 05:16:07 Hail: INFO: wrote matrix with 2000 rows and 2000 columns as 1 block of size 4096 to file:/tmp/hail.sVrGxaLZ4jVW/BEZ5DFIafQ.bm\n",
      "2020-04-24 05:16:10 Hail: INFO: Ordering unsorted dataset with network shuffle\n",
      "2020-04-24 05:16:29 Hail: INFO: Coerced sorted dataset\n",
      "2020-04-24 05:16:42 Hail: INFO: wrote table with 1999000 rows in 1 partition to /tmp/tmpn0gnt6e8/pc_relate_result\n"
     ]
    },
    {
     "name": "stdout",
     "output_type": "stream",
     "text": [
      "Deleting pc_relate results: /tmp/tmpn0gnt6e8/pc_relate_result\n",
      "Deleting hail tmp dir: /tmp/hail.sVrGxaLZ4jVW\n"
     ]
    },
    {
     "name": "stderr",
     "output_type": "stream",
     "text": [
      "2020-04-24 05:16:42 Hail: INFO: hwe_normalized_pca: running PCA using 7000 variants.\n",
      "2020-04-24 05:16:43 Hail: INFO: pca: running PCA with 10 components...\n"
     ]
    },
    {
     "name": "stdout",
     "output_type": "stream",
     "text": [
      "PCA took s:2000, v:7000, p:10 : 11.51 seconds\n"
     ]
    },
    {
     "name": "stderr",
     "output_type": "stream",
     "text": [
      "2020-04-24 05:16:56 Hail: INFO: Wrote all 2 blocks of 7000 x 2000 matrix with block size 4096.\n",
      "2020-04-24 05:16:57 Hail: INFO: wrote matrix with 11 rows and 7000 columns as 2 blocks of size 4096 to file:/tmp/hail.sVrGxaLZ4jVW/y6CiZtYgzN.bm\n",
      "2020-04-24 05:16:57 Hail: INFO: wrote matrix with 7000 rows and 2000 columns as 2 blocks of size 4096 to file:/tmp/hail.sVrGxaLZ4jVW/kNZriJL3BH.bm\n",
      "2020-04-24 05:16:58 Hail: INFO: wrote matrix with 7000 rows and 2000 columns as 2 blocks of size 4096 to file:/tmp/hail.sVrGxaLZ4jVW/19wZLFjlEz.bm\n",
      "2020-04-24 05:17:04 Hail: INFO: wrote matrix with 2000 rows and 2000 columns as 1 block of size 4096 to file:/tmp/hail.sVrGxaLZ4jVW/gP6EWraZvI.bm\n",
      "2020-04-24 05:17:10 Hail: INFO: wrote matrix with 2000 rows and 2000 columns as 1 block of size 4096 to file:/tmp/hail.sVrGxaLZ4jVW/hKED5Mm42A.bm\n",
      "2020-04-24 05:17:10 Hail: INFO: wrote matrix with 2000 rows and 2000 columns as 1 block of size 4096 to file:/tmp/hail.sVrGxaLZ4jVW/DABStHp0aS.bm\n",
      "2020-04-24 05:17:17 Hail: INFO: wrote matrix with 2000 rows and 2000 columns as 1 block of size 4096 to file:/tmp/hail.sVrGxaLZ4jVW/oJ3TfVE1Pc.bm\n",
      "2020-04-24 05:17:23 Hail: INFO: wrote matrix with 2000 rows and 2000 columns as 1 block of size 4096 to file:/tmp/hail.sVrGxaLZ4jVW/B46w5G1F32.bm\n",
      "2020-04-24 05:17:23 Hail: INFO: wrote matrix with 2000 rows and 2000 columns as 1 block of size 4096 to file:/tmp/hail.sVrGxaLZ4jVW/TfSgwvrbzj.bm\n",
      "2020-04-24 05:17:30 Hail: INFO: wrote matrix with 2000 rows and 2000 columns as 1 block of size 4096 to file:/tmp/hail.sVrGxaLZ4jVW/Zqqoi3lm8g.bm\n",
      "2020-04-24 05:17:37 Hail: INFO: wrote matrix with 2000 rows and 2000 columns as 1 block of size 4096 to file:/tmp/hail.sVrGxaLZ4jVW/GnnvwmMr4U.bm\n",
      "2020-04-24 05:17:37 Hail: INFO: wrote matrix with 2000 rows and 2000 columns as 1 block of size 4096 to file:/tmp/hail.sVrGxaLZ4jVW/cf0wDAxJvV.bm\n",
      "2020-04-24 05:17:41 Hail: INFO: Ordering unsorted dataset with network shuffle\n",
      "2020-04-24 05:17:59 Hail: INFO: Coerced sorted dataset\n",
      "2020-04-24 05:18:12 Hail: INFO: wrote table with 1999000 rows in 1 partition to /tmp/tmpyesw50j3/pc_relate_result\n",
      "2020-04-24 05:18:12 Hail: INFO: balding_nichols_model: generating genotypes for 10 populations, 2000 samples, and 7500 variants...\n"
     ]
    },
    {
     "name": "stdout",
     "output_type": "stream",
     "text": [
      "Deleting pc_relate results: /tmp/tmpyesw50j3/pc_relate_result\n",
      "Deleting hail tmp dir: /tmp/hail.sVrGxaLZ4jVW\n"
     ]
    },
    {
     "name": "stderr",
     "output_type": "stream",
     "text": [
      "2020-04-24 05:18:13 Hail: INFO: Coerced sorted dataset\n",
      "2020-04-24 05:18:15 Hail: INFO: wrote matrix table with 7500 rows and 2000 columns in 8 partitions to /home/rav/data/tmp/mt_2000_7500_10.mt\n",
      "2020-04-24 05:18:16 Hail: INFO: hwe_normalized_pca: running PCA using 7500 variants.\n",
      "2020-04-24 05:18:17 Hail: INFO: pca: running PCA with 10 components...\n"
     ]
    },
    {
     "name": "stdout",
     "output_type": "stream",
     "text": [
      "PCA took s:2000, v:7500, p:10 : 10.60 seconds\n"
     ]
    },
    {
     "name": "stderr",
     "output_type": "stream",
     "text": [
      "2020-04-24 05:18:29 Hail: INFO: Wrote all 2 blocks of 7500 x 2000 matrix with block size 4096.\n",
      "2020-04-24 05:18:29 Hail: INFO: wrote matrix with 11 rows and 7500 columns as 2 blocks of size 4096 to file:/tmp/hail.sVrGxaLZ4jVW/VVsKHVh2yB.bm\n",
      "2020-04-24 05:18:30 Hail: INFO: wrote matrix with 7500 rows and 2000 columns as 2 blocks of size 4096 to file:/tmp/hail.sVrGxaLZ4jVW/QsBEYOJbHL.bm\n",
      "2020-04-24 05:18:30 Hail: INFO: wrote matrix with 7500 rows and 2000 columns as 2 blocks of size 4096 to file:/tmp/hail.sVrGxaLZ4jVW/E4FCQI23KK.bm\n",
      "2020-04-24 05:18:37 Hail: INFO: wrote matrix with 2000 rows and 2000 columns as 1 block of size 4096 to file:/tmp/hail.sVrGxaLZ4jVW/rNkD1Xr6rR.bm\n",
      "2020-04-24 05:18:43 Hail: INFO: wrote matrix with 2000 rows and 2000 columns as 1 block of size 4096 to file:/tmp/hail.sVrGxaLZ4jVW/T6wZprHSBF.bm\n",
      "2020-04-24 05:18:43 Hail: INFO: wrote matrix with 2000 rows and 2000 columns as 1 block of size 4096 to file:/tmp/hail.sVrGxaLZ4jVW/q6p6vOeqMc.bm\n",
      "2020-04-24 05:18:51 Hail: INFO: wrote matrix with 2000 rows and 2000 columns as 1 block of size 4096 to file:/tmp/hail.sVrGxaLZ4jVW/QiarcjARli.bm\n",
      "2020-04-24 05:18:57 Hail: INFO: wrote matrix with 2000 rows and 2000 columns as 1 block of size 4096 to file:/tmp/hail.sVrGxaLZ4jVW/60YvXk1kBH.bm\n",
      "2020-04-24 05:18:58 Hail: INFO: wrote matrix with 2000 rows and 2000 columns as 1 block of size 4096 to file:/tmp/hail.sVrGxaLZ4jVW/HzMEzw9eg7.bm\n",
      "2020-04-24 05:19:05 Hail: INFO: wrote matrix with 2000 rows and 2000 columns as 1 block of size 4096 to file:/tmp/hail.sVrGxaLZ4jVW/FbC58NUFZc.bm\n",
      "2020-04-24 05:19:12 Hail: INFO: wrote matrix with 2000 rows and 2000 columns as 1 block of size 4096 to file:/tmp/hail.sVrGxaLZ4jVW/Zgf4MhIm57.bm\n",
      "2020-04-24 05:19:13 Hail: INFO: wrote matrix with 2000 rows and 2000 columns as 1 block of size 4096 to file:/tmp/hail.sVrGxaLZ4jVW/D6TgE7R2kh.bm\n",
      "2020-04-24 05:19:16 Hail: INFO: Ordering unsorted dataset with network shuffle\n",
      "2020-04-24 05:19:35 Hail: INFO: Coerced sorted dataset\n",
      "2020-04-24 05:19:48 Hail: INFO: wrote table with 1999000 rows in 1 partition to /tmp/tmpiaw4ol6t/pc_relate_result\n"
     ]
    },
    {
     "name": "stdout",
     "output_type": "stream",
     "text": [
      "Deleting pc_relate results: /tmp/tmpiaw4ol6t/pc_relate_result\n",
      "Deleting hail tmp dir: /tmp/hail.sVrGxaLZ4jVW\n"
     ]
    },
    {
     "name": "stderr",
     "output_type": "stream",
     "text": [
      "2020-04-24 05:19:49 Hail: INFO: hwe_normalized_pca: running PCA using 8000 variants.\n",
      "2020-04-24 05:19:49 Hail: INFO: pca: running PCA with 10 components...\n"
     ]
    },
    {
     "name": "stdout",
     "output_type": "stream",
     "text": [
      "PCA took s:2000, v:8000, p:10 : 11.17 seconds\n"
     ]
    },
    {
     "name": "stderr",
     "output_type": "stream",
     "text": [
      "2020-04-24 05:20:02 Hail: INFO: Wrote all 2 blocks of 8000 x 2000 matrix with block size 4096.\n",
      "2020-04-24 05:20:03 Hail: INFO: wrote matrix with 11 rows and 8000 columns as 2 blocks of size 4096 to file:/tmp/hail.sVrGxaLZ4jVW/3yRg9q3M4R.bm\n",
      "2020-04-24 05:20:03 Hail: INFO: wrote matrix with 8000 rows and 2000 columns as 2 blocks of size 4096 to file:/tmp/hail.sVrGxaLZ4jVW/5druG8n0fE.bm\n",
      "2020-04-24 05:20:03 Hail: INFO: wrote matrix with 8000 rows and 2000 columns as 2 blocks of size 4096 to file:/tmp/hail.sVrGxaLZ4jVW/sUdqBbcTif.bm\n",
      "2020-04-24 05:20:11 Hail: INFO: wrote matrix with 2000 rows and 2000 columns as 1 block of size 4096 to file:/tmp/hail.sVrGxaLZ4jVW/SH3vt2SB4N.bm\n",
      "2020-04-24 05:20:17 Hail: INFO: wrote matrix with 2000 rows and 2000 columns as 1 block of size 4096 to file:/tmp/hail.sVrGxaLZ4jVW/kDVHkuD6Sa.bm\n",
      "2020-04-24 05:20:17 Hail: INFO: wrote matrix with 2000 rows and 2000 columns as 1 block of size 4096 to file:/tmp/hail.sVrGxaLZ4jVW/ThooTC37fU.bm\n",
      "2020-04-24 05:20:26 Hail: INFO: wrote matrix with 2000 rows and 2000 columns as 1 block of size 4096 to file:/tmp/hail.sVrGxaLZ4jVW/tbyE2LoVB7.bm\n",
      "2020-04-24 05:20:33 Hail: INFO: wrote matrix with 2000 rows and 2000 columns as 1 block of size 4096 to file:/tmp/hail.sVrGxaLZ4jVW/3TzF2iVISt.bm\n",
      "2020-04-24 05:20:33 Hail: INFO: wrote matrix with 2000 rows and 2000 columns as 1 block of size 4096 to file:/tmp/hail.sVrGxaLZ4jVW/dATF26E0PM.bm\n",
      "2020-04-24 05:20:41 Hail: INFO: wrote matrix with 2000 rows and 2000 columns as 1 block of size 4096 to file:/tmp/hail.sVrGxaLZ4jVW/ui397shq2R.bm\n",
      "2020-04-24 05:20:48 Hail: INFO: wrote matrix with 2000 rows and 2000 columns as 1 block of size 4096 to file:/tmp/hail.sVrGxaLZ4jVW/bTOWUH0YOp.bm\n",
      "2020-04-24 05:20:49 Hail: INFO: wrote matrix with 2000 rows and 2000 columns as 1 block of size 4096 to file:/tmp/hail.sVrGxaLZ4jVW/393rpoRfOV.bm\n",
      "2020-04-24 05:20:52 Hail: INFO: Ordering unsorted dataset with network shuffle\n",
      "2020-04-24 05:21:11 Hail: INFO: Coerced sorted dataset\n",
      "2020-04-24 05:21:24 Hail: INFO: wrote table with 1999000 rows in 1 partition to /tmp/tmpk2kx9k72/pc_relate_result\n",
      "2020-04-24 05:21:24 Hail: INFO: balding_nichols_model: generating genotypes for 10 populations, 2000 samples, and 8500 variants...\n"
     ]
    },
    {
     "name": "stdout",
     "output_type": "stream",
     "text": [
      "Deleting pc_relate results: /tmp/tmpk2kx9k72/pc_relate_result\n",
      "Deleting hail tmp dir: /tmp/hail.sVrGxaLZ4jVW\n"
     ]
    },
    {
     "name": "stderr",
     "output_type": "stream",
     "text": [
      "2020-04-24 05:21:25 Hail: INFO: Coerced sorted dataset\n",
      "2020-04-24 05:21:28 Hail: INFO: wrote matrix table with 8500 rows and 2000 columns in 8 partitions to /home/rav/data/tmp/mt_2000_8500_10.mt\n",
      "2020-04-24 05:21:28 Hail: INFO: hwe_normalized_pca: running PCA using 8500 variants.\n",
      "2020-04-24 05:21:29 Hail: INFO: pca: running PCA with 10 components...\n"
     ]
    },
    {
     "name": "stdout",
     "output_type": "stream",
     "text": [
      "PCA took s:2000, v:8500, p:10 : 9.98 seconds\n"
     ]
    },
    {
     "name": "stderr",
     "output_type": "stream",
     "text": [
      "2020-04-24 05:21:40 Hail: INFO: Wrote all 3 blocks of 8500 x 2000 matrix with block size 4096.\n",
      "2020-04-24 05:21:41 Hail: INFO: wrote matrix with 11 rows and 8500 columns as 3 blocks of size 4096 to file:/tmp/hail.sVrGxaLZ4jVW/xMQ4nj0fDP.bm\n",
      "2020-04-24 05:21:41 Hail: INFO: wrote matrix with 8500 rows and 2000 columns as 3 blocks of size 4096 to file:/tmp/hail.sVrGxaLZ4jVW/YiZ12Hzq3h.bm\n",
      "2020-04-24 05:21:42 Hail: INFO: wrote matrix with 8500 rows and 2000 columns as 3 blocks of size 4096 to file:/tmp/hail.sVrGxaLZ4jVW/1iiTJBpY8X.bm\n",
      "2020-04-24 05:21:49 Hail: INFO: wrote matrix with 2000 rows and 2000 columns as 1 block of size 4096 to file:/tmp/hail.sVrGxaLZ4jVW/LairJNSzkz.bm\n",
      "2020-04-24 05:21:56 Hail: INFO: wrote matrix with 2000 rows and 2000 columns as 1 block of size 4096 to file:/tmp/hail.sVrGxaLZ4jVW/PB4IdeQlPK.bm\n",
      "2020-04-24 05:21:56 Hail: INFO: wrote matrix with 2000 rows and 2000 columns as 1 block of size 4096 to file:/tmp/hail.sVrGxaLZ4jVW/dncdccpj3N.bm\n",
      "2020-04-24 05:22:06 Hail: INFO: wrote matrix with 2000 rows and 2000 columns as 1 block of size 4096 to file:/tmp/hail.sVrGxaLZ4jVW/VVgWf0sdnV.bm\n",
      "2020-04-24 05:22:13 Hail: INFO: wrote matrix with 2000 rows and 2000 columns as 1 block of size 4096 to file:/tmp/hail.sVrGxaLZ4jVW/PlwTA0Ny0f.bm\n",
      "2020-04-24 05:22:13 Hail: INFO: wrote matrix with 2000 rows and 2000 columns as 1 block of size 4096 to file:/tmp/hail.sVrGxaLZ4jVW/iCyOcW3Gnd.bm\n",
      "2020-04-24 05:22:21 Hail: INFO: wrote matrix with 2000 rows and 2000 columns as 1 block of size 4096 to file:/tmp/hail.sVrGxaLZ4jVW/DNReLGCvD6.bm\n",
      "2020-04-24 05:22:29 Hail: INFO: wrote matrix with 2000 rows and 2000 columns as 1 block of size 4096 to file:/tmp/hail.sVrGxaLZ4jVW/JRo9Aic6Es.bm\n",
      "2020-04-24 05:22:30 Hail: INFO: wrote matrix with 2000 rows and 2000 columns as 1 block of size 4096 to file:/tmp/hail.sVrGxaLZ4jVW/yHgounj2Y6.bm\n",
      "2020-04-24 05:22:33 Hail: INFO: Ordering unsorted dataset with network shuffle\n",
      "2020-04-24 05:22:52 Hail: INFO: Coerced sorted dataset\n",
      "2020-04-24 05:23:05 Hail: INFO: wrote table with 1999000 rows in 1 partition to /tmp/tmpzf1c7ya0/pc_relate_result\n"
     ]
    },
    {
     "name": "stdout",
     "output_type": "stream",
     "text": [
      "Deleting pc_relate results: /tmp/tmpzf1c7ya0/pc_relate_result\n",
      "Deleting hail tmp dir: /tmp/hail.sVrGxaLZ4jVW\n"
     ]
    },
    {
     "name": "stderr",
     "output_type": "stream",
     "text": [
      "2020-04-24 05:23:06 Hail: INFO: hwe_normalized_pca: running PCA using 9000 variants.\n",
      "2020-04-24 05:23:07 Hail: INFO: pca: running PCA with 10 components...\n"
     ]
    },
    {
     "name": "stdout",
     "output_type": "stream",
     "text": [
      "PCA took s:2000, v:9000, p:10 : 13.71 seconds\n"
     ]
    },
    {
     "name": "stderr",
     "output_type": "stream",
     "text": [
      "2020-04-24 05:23:22 Hail: INFO: Wrote all 3 blocks of 9000 x 2000 matrix with block size 4096.\n",
      "2020-04-24 05:23:23 Hail: INFO: wrote matrix with 11 rows and 9000 columns as 3 blocks of size 4096 to file:/tmp/hail.sVrGxaLZ4jVW/sD5y2GEZQt.bm\n",
      "2020-04-24 05:23:23 Hail: INFO: wrote matrix with 9000 rows and 2000 columns as 3 blocks of size 4096 to file:/tmp/hail.sVrGxaLZ4jVW/NlasHfGhsT.bm\n",
      "2020-04-24 05:23:23 Hail: INFO: wrote matrix with 9000 rows and 2000 columns as 3 blocks of size 4096 to file:/tmp/hail.sVrGxaLZ4jVW/eYXvHEOjiq.bm\n",
      "2020-04-24 05:23:31 Hail: INFO: wrote matrix with 2000 rows and 2000 columns as 1 block of size 4096 to file:/tmp/hail.sVrGxaLZ4jVW/y4VhJZFcA7.bm\n",
      "2020-04-24 05:23:39 Hail: INFO: wrote matrix with 2000 rows and 2000 columns as 1 block of size 4096 to file:/tmp/hail.sVrGxaLZ4jVW/EOWA9S3xLY.bm\n",
      "2020-04-24 05:23:39 Hail: INFO: wrote matrix with 2000 rows and 2000 columns as 1 block of size 4096 to file:/tmp/hail.sVrGxaLZ4jVW/ilEwuah9BT.bm\n",
      "2020-04-24 05:23:49 Hail: INFO: wrote matrix with 2000 rows and 2000 columns as 1 block of size 4096 to file:/tmp/hail.sVrGxaLZ4jVW/HzLgYR18kb.bm\n",
      "2020-04-24 05:23:56 Hail: INFO: wrote matrix with 2000 rows and 2000 columns as 1 block of size 4096 to file:/tmp/hail.sVrGxaLZ4jVW/mVJifF2HNs.bm\n",
      "2020-04-24 05:23:56 Hail: INFO: wrote matrix with 2000 rows and 2000 columns as 1 block of size 4096 to file:/tmp/hail.sVrGxaLZ4jVW/DptYRQHevE.bm\n",
      "2020-04-24 05:24:05 Hail: INFO: wrote matrix with 2000 rows and 2000 columns as 1 block of size 4096 to file:/tmp/hail.sVrGxaLZ4jVW/S4SZb5DYBw.bm\n",
      "2020-04-24 05:24:14 Hail: INFO: wrote matrix with 2000 rows and 2000 columns as 1 block of size 4096 to file:/tmp/hail.sVrGxaLZ4jVW/9PjqIyjoyV.bm\n",
      "2020-04-24 05:24:14 Hail: INFO: wrote matrix with 2000 rows and 2000 columns as 1 block of size 4096 to file:/tmp/hail.sVrGxaLZ4jVW/2J0MvKyGq1.bm\n",
      "2020-04-24 05:24:18 Hail: INFO: Ordering unsorted dataset with network shuffle\n",
      "2020-04-24 05:24:36 Hail: INFO: Coerced sorted dataset\n",
      "2020-04-24 05:24:50 Hail: INFO: wrote table with 1999000 rows in 1 partition to /tmp/tmpfp4zxh19/pc_relate_result\n",
      "2020-04-24 05:24:50 Hail: INFO: balding_nichols_model: generating genotypes for 10 populations, 2000 samples, and 9500 variants...\n"
     ]
    },
    {
     "name": "stdout",
     "output_type": "stream",
     "text": [
      "Deleting pc_relate results: /tmp/tmpfp4zxh19/pc_relate_result\n",
      "Deleting hail tmp dir: /tmp/hail.sVrGxaLZ4jVW\n"
     ]
    },
    {
     "name": "stderr",
     "output_type": "stream",
     "text": [
      "2020-04-24 05:24:50 Hail: INFO: Coerced sorted dataset\n",
      "2020-04-24 05:24:53 Hail: INFO: wrote matrix table with 9500 rows and 2000 columns in 8 partitions to /home/rav/data/tmp/mt_2000_9500_10.mt\n",
      "2020-04-24 05:24:54 Hail: INFO: hwe_normalized_pca: running PCA using 9500 variants.\n",
      "2020-04-24 05:24:55 Hail: INFO: pca: running PCA with 10 components...\n"
     ]
    },
    {
     "name": "stdout",
     "output_type": "stream",
     "text": [
      "PCA took s:2000, v:9500, p:10 : 11.33 seconds\n"
     ]
    },
    {
     "name": "stderr",
     "output_type": "stream",
     "text": [
      "2020-04-24 05:25:07 Hail: INFO: Wrote all 3 blocks of 9500 x 2000 matrix with block size 4096.\n",
      "2020-04-24 05:25:08 Hail: INFO: wrote matrix with 11 rows and 9500 columns as 3 blocks of size 4096 to file:/tmp/hail.sVrGxaLZ4jVW/36dCD7PSNZ.bm\n",
      "2020-04-24 05:25:08 Hail: INFO: wrote matrix with 9500 rows and 2000 columns as 3 blocks of size 4096 to file:/tmp/hail.sVrGxaLZ4jVW/WaYKKxtFWY.bm\n",
      "2020-04-24 05:25:09 Hail: INFO: wrote matrix with 9500 rows and 2000 columns as 3 blocks of size 4096 to file:/tmp/hail.sVrGxaLZ4jVW/GMisrMJQin.bm\n",
      "2020-04-24 05:25:17 Hail: INFO: wrote matrix with 2000 rows and 2000 columns as 1 block of size 4096 to file:/tmp/hail.sVrGxaLZ4jVW/lyZs0L47Tv.bm\n",
      "2020-04-24 05:25:25 Hail: INFO: wrote matrix with 2000 rows and 2000 columns as 1 block of size 4096 to file:/tmp/hail.sVrGxaLZ4jVW/txgI0JRIO7.bm\n",
      "2020-04-24 05:25:25 Hail: INFO: wrote matrix with 2000 rows and 2000 columns as 1 block of size 4096 to file:/tmp/hail.sVrGxaLZ4jVW/eZVDaGvL16.bm\n",
      "2020-04-24 05:25:36 Hail: INFO: wrote matrix with 2000 rows and 2000 columns as 1 block of size 4096 to file:/tmp/hail.sVrGxaLZ4jVW/LwAUCb98ME.bm\n",
      "2020-04-24 05:25:44 Hail: INFO: wrote matrix with 2000 rows and 2000 columns as 1 block of size 4096 to file:/tmp/hail.sVrGxaLZ4jVW/Dowop3glyt.bm\n",
      "2020-04-24 05:25:44 Hail: INFO: wrote matrix with 2000 rows and 2000 columns as 1 block of size 4096 to file:/tmp/hail.sVrGxaLZ4jVW/aM1X3h4vlh.bm\n",
      "2020-04-24 05:25:53 Hail: INFO: wrote matrix with 2000 rows and 2000 columns as 1 block of size 4096 to file:/tmp/hail.sVrGxaLZ4jVW/U6Eyh88SPV.bm\n",
      "2020-04-24 05:26:02 Hail: INFO: wrote matrix with 2000 rows and 2000 columns as 1 block of size 4096 to file:/tmp/hail.sVrGxaLZ4jVW/fetUX6foya.bm\n",
      "2020-04-24 05:26:03 Hail: INFO: wrote matrix with 2000 rows and 2000 columns as 1 block of size 4096 to file:/tmp/hail.sVrGxaLZ4jVW/Y9mklmH8Up.bm\n",
      "2020-04-24 05:26:06 Hail: INFO: Ordering unsorted dataset with network shuffle\n",
      "2020-04-24 05:26:25 Hail: INFO: Coerced sorted dataset\n",
      "2020-04-24 05:26:38 Hail: INFO: wrote table with 1999000 rows in 1 partition to /tmp/tmpvs4g2kfw/pc_relate_result\n"
     ]
    },
    {
     "name": "stdout",
     "output_type": "stream",
     "text": [
      "Deleting pc_relate results: /tmp/tmpvs4g2kfw/pc_relate_result\n",
      "Deleting hail tmp dir: /tmp/hail.sVrGxaLZ4jVW\n"
     ]
    },
    {
     "name": "stderr",
     "output_type": "stream",
     "text": [
      "2020-04-24 05:26:38 Hail: INFO: hwe_normalized_pca: running PCA using 10000 variants.\n",
      "2020-04-24 05:26:39 Hail: INFO: pca: running PCA with 10 components...\n"
     ]
    },
    {
     "name": "stdout",
     "output_type": "stream",
     "text": [
      "PCA took s:2000, v:10000, p:10 : 8.60 seconds\n"
     ]
    },
    {
     "name": "stderr",
     "output_type": "stream",
     "text": [
      "2020-04-24 05:26:49 Hail: INFO: Wrote all 3 blocks of 10000 x 2000 matrix with block size 4096.\n",
      "2020-04-24 05:26:50 Hail: INFO: wrote matrix with 11 rows and 10000 columns as 3 blocks of size 4096 to file:/tmp/hail.sVrGxaLZ4jVW/z8FwYkw0Xn.bm\n",
      "2020-04-24 05:26:50 Hail: INFO: wrote matrix with 10000 rows and 2000 columns as 3 blocks of size 4096 to file:/tmp/hail.sVrGxaLZ4jVW/DKNiWDLcz8.bm\n",
      "2020-04-24 05:26:51 Hail: INFO: wrote matrix with 10000 rows and 2000 columns as 3 blocks of size 4096 to file:/tmp/hail.sVrGxaLZ4jVW/3iOyvw3hfE.bm\n",
      "2020-04-24 05:26:59 Hail: INFO: wrote matrix with 2000 rows and 2000 columns as 1 block of size 4096 to file:/tmp/hail.sVrGxaLZ4jVW/JFQfQUuyXX.bm\n",
      "2020-04-24 05:27:08 Hail: INFO: wrote matrix with 2000 rows and 2000 columns as 1 block of size 4096 to file:/tmp/hail.sVrGxaLZ4jVW/mGiXo9ThdR.bm\n",
      "2020-04-24 05:27:08 Hail: INFO: wrote matrix with 2000 rows and 2000 columns as 1 block of size 4096 to file:/tmp/hail.sVrGxaLZ4jVW/ErJnT4EQwu.bm\n",
      "2020-04-24 05:27:19 Hail: INFO: wrote matrix with 2000 rows and 2000 columns as 1 block of size 4096 to file:/tmp/hail.sVrGxaLZ4jVW/yf7RLQj16z.bm\n",
      "2020-04-24 05:27:27 Hail: INFO: wrote matrix with 2000 rows and 2000 columns as 1 block of size 4096 to file:/tmp/hail.sVrGxaLZ4jVW/zCJ77WqHys.bm\n",
      "2020-04-24 05:27:27 Hail: INFO: wrote matrix with 2000 rows and 2000 columns as 1 block of size 4096 to file:/tmp/hail.sVrGxaLZ4jVW/OYUfkjhIaQ.bm\n",
      "2020-04-24 05:27:37 Hail: INFO: wrote matrix with 2000 rows and 2000 columns as 1 block of size 4096 to file:/tmp/hail.sVrGxaLZ4jVW/jfkvlfr0L7.bm\n",
      "2020-04-24 05:27:47 Hail: INFO: wrote matrix with 2000 rows and 2000 columns as 1 block of size 4096 to file:/tmp/hail.sVrGxaLZ4jVW/gB9Ga6CzFQ.bm\n",
      "2020-04-24 05:27:47 Hail: INFO: wrote matrix with 2000 rows and 2000 columns as 1 block of size 4096 to file:/tmp/hail.sVrGxaLZ4jVW/9duLjppAyn.bm\n",
      "2020-04-24 05:27:50 Hail: INFO: Ordering unsorted dataset with network shuffle\n",
      "2020-04-24 05:28:11 Hail: INFO: Coerced sorted dataset\n",
      "2020-04-24 05:28:25 Hail: INFO: wrote table with 1999000 rows in 1 partition to /tmp/tmptrjvbmmn/pc_relate_result\n",
      "2020-04-24 05:28:25 Hail: INFO: balding_nichols_model: generating genotypes for 10 populations, 2000 samples, and 10500 variants...\n"
     ]
    },
    {
     "name": "stdout",
     "output_type": "stream",
     "text": [
      "Deleting pc_relate results: /tmp/tmptrjvbmmn/pc_relate_result\n",
      "Deleting hail tmp dir: /tmp/hail.sVrGxaLZ4jVW\n"
     ]
    },
    {
     "name": "stderr",
     "output_type": "stream",
     "text": [
      "2020-04-24 05:28:25 Hail: INFO: Coerced sorted dataset\n",
      "2020-04-24 05:28:30 Hail: INFO: wrote matrix table with 10500 rows and 2000 columns in 8 partitions to /home/rav/data/tmp/mt_2000_10500_10.mt\n",
      "2020-04-24 05:28:30 Hail: INFO: hwe_normalized_pca: running PCA using 10500 variants.\n",
      "2020-04-24 05:28:31 Hail: INFO: pca: running PCA with 10 components...\n"
     ]
    },
    {
     "name": "stdout",
     "output_type": "stream",
     "text": [
      "PCA took s:2000, v:10500, p:10 : 10.89 seconds\n"
     ]
    },
    {
     "name": "stderr",
     "output_type": "stream",
     "text": [
      "2020-04-24 05:28:43 Hail: INFO: Wrote all 3 blocks of 10500 x 2000 matrix with block size 4096.\n",
      "2020-04-24 05:28:44 Hail: INFO: wrote matrix with 11 rows and 10500 columns as 3 blocks of size 4096 to file:/tmp/hail.sVrGxaLZ4jVW/zmdI57SOao.bm\n",
      "2020-04-24 05:28:44 Hail: INFO: wrote matrix with 10500 rows and 2000 columns as 3 blocks of size 4096 to file:/tmp/hail.sVrGxaLZ4jVW/G3nvCw4rWF.bm\n",
      "2020-04-24 05:28:45 Hail: INFO: wrote matrix with 10500 rows and 2000 columns as 3 blocks of size 4096 to file:/tmp/hail.sVrGxaLZ4jVW/0lBdYy2uw3.bm\n",
      "2020-04-24 05:28:54 Hail: INFO: wrote matrix with 2000 rows and 2000 columns as 1 block of size 4096 to file:/tmp/hail.sVrGxaLZ4jVW/u3EvTuK7IR.bm\n",
      "2020-04-24 05:29:03 Hail: INFO: wrote matrix with 2000 rows and 2000 columns as 1 block of size 4096 to file:/tmp/hail.sVrGxaLZ4jVW/1ITLwCELKe.bm\n",
      "2020-04-24 05:29:03 Hail: INFO: wrote matrix with 2000 rows and 2000 columns as 1 block of size 4096 to file:/tmp/hail.sVrGxaLZ4jVW/0VWhjFtSM4.bm\n",
      "2020-04-24 05:29:14 Hail: INFO: wrote matrix with 2000 rows and 2000 columns as 1 block of size 4096 to file:/tmp/hail.sVrGxaLZ4jVW/l6hqhzqJsh.bm\n",
      "2020-04-24 05:29:23 Hail: INFO: wrote matrix with 2000 rows and 2000 columns as 1 block of size 4096 to file:/tmp/hail.sVrGxaLZ4jVW/fBn5oHs9mO.bm\n",
      "2020-04-24 05:29:23 Hail: INFO: wrote matrix with 2000 rows and 2000 columns as 1 block of size 4096 to file:/tmp/hail.sVrGxaLZ4jVW/9I5LDS06y3.bm\n",
      "2020-04-24 05:29:33 Hail: INFO: wrote matrix with 2000 rows and 2000 columns as 1 block of size 4096 to file:/tmp/hail.sVrGxaLZ4jVW/JyoqH82biu.bm\n",
      "2020-04-24 05:29:43 Hail: INFO: wrote matrix with 2000 rows and 2000 columns as 1 block of size 4096 to file:/tmp/hail.sVrGxaLZ4jVW/RrVkTfBK0s.bm\n",
      "2020-04-24 05:29:44 Hail: INFO: wrote matrix with 2000 rows and 2000 columns as 1 block of size 4096 to file:/tmp/hail.sVrGxaLZ4jVW/FRvvVMPQLe.bm\n",
      "2020-04-24 05:29:47 Hail: INFO: Ordering unsorted dataset with network shuffle\n",
      "2020-04-24 05:30:06 Hail: INFO: Coerced sorted dataset\n",
      "2020-04-24 05:30:20 Hail: INFO: wrote table with 1999000 rows in 1 partition to /tmp/tmpnsdof72p/pc_relate_result\n",
      "2020-04-24 05:30:20 Hail: INFO: balding_nichols_model: generating genotypes for 10 populations, 2000 samples, and 11000 variants...\n"
     ]
    },
    {
     "name": "stdout",
     "output_type": "stream",
     "text": [
      "Deleting pc_relate results: /tmp/tmpnsdof72p/pc_relate_result\n",
      "Deleting hail tmp dir: /tmp/hail.sVrGxaLZ4jVW\n"
     ]
    },
    {
     "name": "stderr",
     "output_type": "stream",
     "text": [
      "2020-04-24 05:30:20 Hail: INFO: Coerced sorted dataset\n",
      "2020-04-24 05:30:24 Hail: INFO: wrote matrix table with 11000 rows and 2000 columns in 8 partitions to /home/rav/data/tmp/mt_2000_11000_10.mt\n",
      "2020-04-24 05:30:24 Hail: INFO: hwe_normalized_pca: running PCA using 11000 variants.\n",
      "2020-04-24 05:30:25 Hail: INFO: pca: running PCA with 10 components...\n"
     ]
    },
    {
     "name": "stdout",
     "output_type": "stream",
     "text": [
      "PCA took s:2000, v:11000, p:10 : 14.80 seconds\n"
     ]
    },
    {
     "name": "stderr",
     "output_type": "stream",
     "text": [
      "2020-04-24 05:30:41 Hail: INFO: Wrote all 3 blocks of 11000 x 2000 matrix with block size 4096.\n",
      "2020-04-24 05:30:42 Hail: INFO: wrote matrix with 11 rows and 11000 columns as 3 blocks of size 4096 to file:/tmp/hail.sVrGxaLZ4jVW/5FZ3EKcfnB.bm\n",
      "2020-04-24 05:30:42 Hail: INFO: wrote matrix with 11000 rows and 2000 columns as 3 blocks of size 4096 to file:/tmp/hail.sVrGxaLZ4jVW/PkFRPyAJsk.bm\n",
      "2020-04-24 05:30:43 Hail: INFO: wrote matrix with 11000 rows and 2000 columns as 3 blocks of size 4096 to file:/tmp/hail.sVrGxaLZ4jVW/0wv3425v5Y.bm\n",
      "2020-04-24 05:30:53 Hail: INFO: wrote matrix with 2000 rows and 2000 columns as 1 block of size 4096 to file:/tmp/hail.sVrGxaLZ4jVW/jHhhy3TcWZ.bm\n",
      "2020-04-24 05:31:02 Hail: INFO: wrote matrix with 2000 rows and 2000 columns as 1 block of size 4096 to file:/tmp/hail.sVrGxaLZ4jVW/OdtUus7VFC.bm\n",
      "2020-04-24 05:31:02 Hail: INFO: wrote matrix with 2000 rows and 2000 columns as 1 block of size 4096 to file:/tmp/hail.sVrGxaLZ4jVW/kv6EnxbAT6.bm\n",
      "2020-04-24 05:31:14 Hail: INFO: wrote matrix with 2000 rows and 2000 columns as 1 block of size 4096 to file:/tmp/hail.sVrGxaLZ4jVW/kgPvqRkmLU.bm\n",
      "2020-04-24 05:31:23 Hail: INFO: wrote matrix with 2000 rows and 2000 columns as 1 block of size 4096 to file:/tmp/hail.sVrGxaLZ4jVW/DP3gpjBOKC.bm\n",
      "2020-04-24 05:31:24 Hail: INFO: wrote matrix with 2000 rows and 2000 columns as 1 block of size 4096 to file:/tmp/hail.sVrGxaLZ4jVW/6sxqHAmzta.bm\n",
      "2020-04-24 05:31:34 Hail: INFO: wrote matrix with 2000 rows and 2000 columns as 1 block of size 4096 to file:/tmp/hail.sVrGxaLZ4jVW/NNQaTVLBlh.bm\n",
      "2020-04-24 05:31:45 Hail: INFO: wrote matrix with 2000 rows and 2000 columns as 1 block of size 4096 to file:/tmp/hail.sVrGxaLZ4jVW/d4EempcFpy.bm\n",
      "2020-04-24 05:31:45 Hail: INFO: wrote matrix with 2000 rows and 2000 columns as 1 block of size 4096 to file:/tmp/hail.sVrGxaLZ4jVW/wxEcvjmgvS.bm\n",
      "2020-04-24 05:31:49 Hail: INFO: Ordering unsorted dataset with network shuffle\n",
      "2020-04-24 05:32:07 Hail: INFO: Coerced sorted dataset\n",
      "2020-04-24 05:32:20 Hail: INFO: wrote table with 1999000 rows in 1 partition to /tmp/tmpk7oe71s_/pc_relate_result\n",
      "2020-04-24 05:32:20 Hail: INFO: balding_nichols_model: generating genotypes for 10 populations, 2000 samples, and 11500 variants...\n"
     ]
    },
    {
     "name": "stdout",
     "output_type": "stream",
     "text": [
      "Deleting pc_relate results: /tmp/tmpk7oe71s_/pc_relate_result\n",
      "Deleting hail tmp dir: /tmp/hail.sVrGxaLZ4jVW\n"
     ]
    },
    {
     "name": "stderr",
     "output_type": "stream",
     "text": [
      "2020-04-24 05:32:21 Hail: INFO: Coerced sorted dataset\n",
      "2020-04-24 05:32:25 Hail: INFO: wrote matrix table with 11500 rows and 2000 columns in 8 partitions to /home/rav/data/tmp/mt_2000_11500_10.mt\n",
      "2020-04-24 05:32:25 Hail: INFO: hwe_normalized_pca: running PCA using 11500 variants.\n",
      "2020-04-24 05:32:26 Hail: INFO: pca: running PCA with 10 components...\n"
     ]
    },
    {
     "name": "stdout",
     "output_type": "stream",
     "text": [
      "PCA took s:2000, v:11500, p:10 : 12.30 seconds\n"
     ]
    },
    {
     "name": "stderr",
     "output_type": "stream",
     "text": [
      "2020-04-24 05:32:40 Hail: INFO: Wrote all 3 blocks of 11500 x 2000 matrix with block size 4096.\n",
      "2020-04-24 05:32:40 Hail: INFO: wrote matrix with 11 rows and 11500 columns as 3 blocks of size 4096 to file:/tmp/hail.sVrGxaLZ4jVW/nHW8BCDLkL.bm\n",
      "2020-04-24 05:32:41 Hail: INFO: wrote matrix with 11500 rows and 2000 columns as 3 blocks of size 4096 to file:/tmp/hail.sVrGxaLZ4jVW/EVvdrJRNhG.bm\n",
      "2020-04-24 05:32:41 Hail: INFO: wrote matrix with 11500 rows and 2000 columns as 3 blocks of size 4096 to file:/tmp/hail.sVrGxaLZ4jVW/LmqLoK2Loa.bm\n",
      "2020-04-24 05:32:51 Hail: INFO: wrote matrix with 2000 rows and 2000 columns as 1 block of size 4096 to file:/tmp/hail.sVrGxaLZ4jVW/IyCI8uMdH4.bm\n",
      "2020-04-24 05:33:01 Hail: INFO: wrote matrix with 2000 rows and 2000 columns as 1 block of size 4096 to file:/tmp/hail.sVrGxaLZ4jVW/g04ne8hemD.bm\n",
      "2020-04-24 05:33:01 Hail: INFO: wrote matrix with 2000 rows and 2000 columns as 1 block of size 4096 to file:/tmp/hail.sVrGxaLZ4jVW/xBsPgxwoK1.bm\n",
      "2020-04-24 05:33:13 Hail: INFO: wrote matrix with 2000 rows and 2000 columns as 1 block of size 4096 to file:/tmp/hail.sVrGxaLZ4jVW/oBfl7ZbDYU.bm\n",
      "2020-04-24 05:33:23 Hail: INFO: wrote matrix with 2000 rows and 2000 columns as 1 block of size 4096 to file:/tmp/hail.sVrGxaLZ4jVW/aBA8qJiaK4.bm\n",
      "2020-04-24 05:33:23 Hail: INFO: wrote matrix with 2000 rows and 2000 columns as 1 block of size 4096 to file:/tmp/hail.sVrGxaLZ4jVW/OhfzEwLEt9.bm\n",
      "2020-04-24 05:33:34 Hail: INFO: wrote matrix with 2000 rows and 2000 columns as 1 block of size 4096 to file:/tmp/hail.sVrGxaLZ4jVW/85PL9HyHyB.bm\n",
      "2020-04-24 05:33:45 Hail: INFO: wrote matrix with 2000 rows and 2000 columns as 1 block of size 4096 to file:/tmp/hail.sVrGxaLZ4jVW/6hj0Qi67rC.bm\n",
      "2020-04-24 05:33:46 Hail: INFO: wrote matrix with 2000 rows and 2000 columns as 1 block of size 4096 to file:/tmp/hail.sVrGxaLZ4jVW/dPXOktXnzv.bm\n",
      "2020-04-24 05:33:49 Hail: INFO: Ordering unsorted dataset with network shuffle\n",
      "2020-04-24 05:34:07 Hail: INFO: Coerced sorted dataset\n",
      "2020-04-24 05:34:21 Hail: INFO: wrote table with 1999000 rows in 1 partition to /tmp/tmpkrlze2nk/pc_relate_result\n",
      "2020-04-24 05:34:21 Hail: INFO: balding_nichols_model: generating genotypes for 10 populations, 2000 samples, and 12000 variants...\n"
     ]
    },
    {
     "name": "stdout",
     "output_type": "stream",
     "text": [
      "Deleting pc_relate results: /tmp/tmpkrlze2nk/pc_relate_result\n",
      "Deleting hail tmp dir: /tmp/hail.sVrGxaLZ4jVW\n"
     ]
    },
    {
     "name": "stderr",
     "output_type": "stream",
     "text": [
      "2020-04-24 05:34:21 Hail: INFO: Coerced sorted dataset\n",
      "2020-04-24 05:34:25 Hail: INFO: wrote matrix table with 12000 rows and 2000 columns in 8 partitions to /home/rav/data/tmp/mt_2000_12000_10.mt\n",
      "2020-04-24 05:34:25 Hail: INFO: hwe_normalized_pca: running PCA using 12000 variants.\n",
      "2020-04-24 05:34:26 Hail: INFO: pca: running PCA with 10 components...\n"
     ]
    },
    {
     "name": "stdout",
     "output_type": "stream",
     "text": [
      "PCA took s:2000, v:12000, p:10 : 13.41 seconds\n"
     ]
    },
    {
     "name": "stderr",
     "output_type": "stream",
     "text": [
      "2020-04-24 05:34:41 Hail: INFO: Wrote all 3 blocks of 12000 x 2000 matrix with block size 4096.\n",
      "2020-04-24 05:34:42 Hail: INFO: wrote matrix with 11 rows and 12000 columns as 3 blocks of size 4096 to file:/tmp/hail.sVrGxaLZ4jVW/imeEyI0vaV.bm\n",
      "2020-04-24 05:34:42 Hail: INFO: wrote matrix with 12000 rows and 2000 columns as 3 blocks of size 4096 to file:/tmp/hail.sVrGxaLZ4jVW/5eqMNpMXE4.bm\n",
      "2020-04-24 05:34:43 Hail: INFO: wrote matrix with 12000 rows and 2000 columns as 3 blocks of size 4096 to file:/tmp/hail.sVrGxaLZ4jVW/BRTtibeo99.bm\n",
      "2020-04-24 05:34:53 Hail: INFO: wrote matrix with 2000 rows and 2000 columns as 1 block of size 4096 to file:/tmp/hail.sVrGxaLZ4jVW/oX2QSuDVqA.bm\n",
      "2020-04-24 05:35:03 Hail: INFO: wrote matrix with 2000 rows and 2000 columns as 1 block of size 4096 to file:/tmp/hail.sVrGxaLZ4jVW/5u3m4wKaHZ.bm\n",
      "2020-04-24 05:35:03 Hail: INFO: wrote matrix with 2000 rows and 2000 columns as 1 block of size 4096 to file:/tmp/hail.sVrGxaLZ4jVW/C60y7Qr8Hb.bm\n",
      "2020-04-24 05:35:17 Hail: INFO: wrote matrix with 2000 rows and 2000 columns as 1 block of size 4096 to file:/tmp/hail.sVrGxaLZ4jVW/4YgHeHL64H.bm\n",
      "2020-04-24 05:35:26 Hail: INFO: wrote matrix with 2000 rows and 2000 columns as 1 block of size 4096 to file:/tmp/hail.sVrGxaLZ4jVW/qBJejPoRkE.bm\n",
      "2020-04-24 05:35:26 Hail: INFO: wrote matrix with 2000 rows and 2000 columns as 1 block of size 4096 to file:/tmp/hail.sVrGxaLZ4jVW/9lL3kr9wm4.bm\n",
      "2020-04-24 05:35:38 Hail: INFO: wrote matrix with 2000 rows and 2000 columns as 1 block of size 4096 to file:/tmp/hail.sVrGxaLZ4jVW/zanUWIbTJ5.bm\n",
      "2020-04-24 05:35:50 Hail: INFO: wrote matrix with 2000 rows and 2000 columns as 1 block of size 4096 to file:/tmp/hail.sVrGxaLZ4jVW/M7ByHk6RGT.bm\n",
      "2020-04-24 05:35:50 Hail: INFO: wrote matrix with 2000 rows and 2000 columns as 1 block of size 4096 to file:/tmp/hail.sVrGxaLZ4jVW/oiyeRNoN7J.bm\n",
      "2020-04-24 05:35:53 Hail: INFO: Ordering unsorted dataset with network shuffle\n",
      "2020-04-24 05:36:12 Hail: INFO: Coerced sorted dataset\n",
      "2020-04-24 05:36:25 Hail: INFO: wrote table with 1999000 rows in 1 partition to /tmp/tmp8cayrat5/pc_relate_result\n",
      "2020-04-24 05:36:25 Hail: INFO: balding_nichols_model: generating genotypes for 10 populations, 2000 samples, and 12500 variants...\n"
     ]
    },
    {
     "name": "stdout",
     "output_type": "stream",
     "text": [
      "Deleting pc_relate results: /tmp/tmp8cayrat5/pc_relate_result\n",
      "Deleting hail tmp dir: /tmp/hail.sVrGxaLZ4jVW\n"
     ]
    },
    {
     "name": "stderr",
     "output_type": "stream",
     "text": [
      "2020-04-24 05:36:25 Hail: INFO: Coerced sorted dataset\n",
      "2020-04-24 05:36:29 Hail: INFO: wrote matrix table with 12500 rows and 2000 columns in 8 partitions to /home/rav/data/tmp/mt_2000_12500_10.mt\n",
      "2020-04-24 05:36:29 Hail: INFO: hwe_normalized_pca: running PCA using 12500 variants.\n",
      "2020-04-24 05:36:31 Hail: INFO: pca: running PCA with 10 components...\n"
     ]
    },
    {
     "name": "stdout",
     "output_type": "stream",
     "text": [
      "PCA took s:2000, v:12500, p:10 : 13.11 seconds\n"
     ]
    },
    {
     "name": "stderr",
     "output_type": "stream",
     "text": [
      "2020-04-24 05:36:45 Hail: INFO: Wrote all 4 blocks of 12500 x 2000 matrix with block size 4096.\n",
      "2020-04-24 05:36:46 Hail: INFO: wrote matrix with 11 rows and 12500 columns as 4 blocks of size 4096 to file:/tmp/hail.sVrGxaLZ4jVW/ZslD0kpZSS.bm\n",
      "2020-04-24 05:36:46 Hail: INFO: wrote matrix with 12500 rows and 2000 columns as 4 blocks of size 4096 to file:/tmp/hail.sVrGxaLZ4jVW/oVgO7tZzYt.bm\n",
      "2020-04-24 05:36:47 Hail: INFO: wrote matrix with 12500 rows and 2000 columns as 4 blocks of size 4096 to file:/tmp/hail.sVrGxaLZ4jVW/pt806u3pY1.bm\n",
      "2020-04-24 05:36:58 Hail: INFO: wrote matrix with 2000 rows and 2000 columns as 1 block of size 4096 to file:/tmp/hail.sVrGxaLZ4jVW/61JoiRHnng.bm\n",
      "2020-04-24 05:37:08 Hail: INFO: wrote matrix with 2000 rows and 2000 columns as 1 block of size 4096 to file:/tmp/hail.sVrGxaLZ4jVW/HHiZ5dZIQf.bm\n",
      "2020-04-24 05:37:08 Hail: INFO: wrote matrix with 2000 rows and 2000 columns as 1 block of size 4096 to file:/tmp/hail.sVrGxaLZ4jVW/KkTgmG4UWC.bm\n",
      "2020-04-24 05:37:22 Hail: INFO: wrote matrix with 2000 rows and 2000 columns as 1 block of size 4096 to file:/tmp/hail.sVrGxaLZ4jVW/UWzpzyoceV.bm\n",
      "2020-04-24 05:37:32 Hail: INFO: wrote matrix with 2000 rows and 2000 columns as 1 block of size 4096 to file:/tmp/hail.sVrGxaLZ4jVW/oWAyiW2y1F.bm\n",
      "2020-04-24 05:37:32 Hail: INFO: wrote matrix with 2000 rows and 2000 columns as 1 block of size 4096 to file:/tmp/hail.sVrGxaLZ4jVW/U136QnKNXX.bm\n",
      "2020-04-24 05:37:44 Hail: INFO: wrote matrix with 2000 rows and 2000 columns as 1 block of size 4096 to file:/tmp/hail.sVrGxaLZ4jVW/d3LxwJQhrp.bm\n",
      "2020-04-24 05:37:56 Hail: INFO: wrote matrix with 2000 rows and 2000 columns as 1 block of size 4096 to file:/tmp/hail.sVrGxaLZ4jVW/pqWFDzM1tq.bm\n",
      "2020-04-24 05:37:57 Hail: INFO: wrote matrix with 2000 rows and 2000 columns as 1 block of size 4096 to file:/tmp/hail.sVrGxaLZ4jVW/u29YTgzxHG.bm\n",
      "2020-04-24 05:38:00 Hail: INFO: Ordering unsorted dataset with network shuffle\n",
      "2020-04-24 05:38:19 Hail: INFO: Coerced sorted dataset\n",
      "2020-04-24 05:38:32 Hail: INFO: wrote table with 1999000 rows in 1 partition to /tmp/tmpfsk2e_tl/pc_relate_result\n",
      "2020-04-24 05:38:32 Hail: INFO: balding_nichols_model: generating genotypes for 10 populations, 2000 samples, and 13000 variants...\n"
     ]
    },
    {
     "name": "stdout",
     "output_type": "stream",
     "text": [
      "Deleting pc_relate results: /tmp/tmpfsk2e_tl/pc_relate_result\n",
      "Deleting hail tmp dir: /tmp/hail.sVrGxaLZ4jVW\n"
     ]
    },
    {
     "name": "stderr",
     "output_type": "stream",
     "text": [
      "2020-04-24 05:38:32 Hail: INFO: Coerced sorted dataset\n",
      "2020-04-24 05:38:36 Hail: INFO: wrote matrix table with 13000 rows and 2000 columns in 8 partitions to /home/rav/data/tmp/mt_2000_13000_10.mt\n",
      "2020-04-24 05:38:37 Hail: INFO: hwe_normalized_pca: running PCA using 13000 variants.\n",
      "2020-04-24 05:38:38 Hail: INFO: pca: running PCA with 10 components...\n"
     ]
    },
    {
     "name": "stdout",
     "output_type": "stream",
     "text": [
      "PCA took s:2000, v:13000, p:10 : 10.88 seconds\n"
     ]
    },
    {
     "name": "stderr",
     "output_type": "stream",
     "text": [
      "2020-04-24 05:38:51 Hail: INFO: Wrote all 4 blocks of 13000 x 2000 matrix with block size 4096.\n",
      "2020-04-24 05:38:51 Hail: INFO: wrote matrix with 11 rows and 13000 columns as 4 blocks of size 4096 to file:/tmp/hail.sVrGxaLZ4jVW/zwUZpA9uKe.bm\n",
      "2020-04-24 05:38:51 Hail: INFO: wrote matrix with 13000 rows and 2000 columns as 4 blocks of size 4096 to file:/tmp/hail.sVrGxaLZ4jVW/hxPPXahZ4V.bm\n",
      "2020-04-24 05:38:52 Hail: INFO: wrote matrix with 13000 rows and 2000 columns as 4 blocks of size 4096 to file:/tmp/hail.sVrGxaLZ4jVW/hOVZPbLals.bm\n",
      "2020-04-24 05:39:03 Hail: INFO: wrote matrix with 2000 rows and 2000 columns as 1 block of size 4096 to file:/tmp/hail.sVrGxaLZ4jVW/MsGR5ZYlRw.bm\n",
      "2020-04-24 05:39:14 Hail: INFO: wrote matrix with 2000 rows and 2000 columns as 1 block of size 4096 to file:/tmp/hail.sVrGxaLZ4jVW/WYvFKHHxFc.bm\n",
      "2020-04-24 05:39:14 Hail: INFO: wrote matrix with 2000 rows and 2000 columns as 1 block of size 4096 to file:/tmp/hail.sVrGxaLZ4jVW/r9ZJsPACwd.bm\n",
      "2020-04-24 05:39:29 Hail: INFO: wrote matrix with 2000 rows and 2000 columns as 1 block of size 4096 to file:/tmp/hail.sVrGxaLZ4jVW/Z8FO77FjeC.bm\n",
      "2020-04-24 05:39:39 Hail: INFO: wrote matrix with 2000 rows and 2000 columns as 1 block of size 4096 to file:/tmp/hail.sVrGxaLZ4jVW/g74m9HyS2t.bm\n",
      "2020-04-24 05:39:40 Hail: INFO: wrote matrix with 2000 rows and 2000 columns as 1 block of size 4096 to file:/tmp/hail.sVrGxaLZ4jVW/1GKQrrvPVZ.bm\n",
      "2020-04-24 05:39:52 Hail: INFO: wrote matrix with 2000 rows and 2000 columns as 1 block of size 4096 to file:/tmp/hail.sVrGxaLZ4jVW/0PwphrlMhd.bm\n",
      "2020-04-24 05:40:05 Hail: INFO: wrote matrix with 2000 rows and 2000 columns as 1 block of size 4096 to file:/tmp/hail.sVrGxaLZ4jVW/M15ZTxVN3S.bm\n",
      "2020-04-24 05:40:05 Hail: INFO: wrote matrix with 2000 rows and 2000 columns as 1 block of size 4096 to file:/tmp/hail.sVrGxaLZ4jVW/0N3hTz6Dx8.bm\n",
      "2020-04-24 05:40:08 Hail: INFO: Ordering unsorted dataset with network shuffle\n",
      "2020-04-24 05:40:27 Hail: INFO: Coerced sorted dataset\n",
      "2020-04-24 05:40:40 Hail: INFO: wrote table with 1999000 rows in 1 partition to /tmp/tmpvxw8jz2y/pc_relate_result\n",
      "2020-04-24 05:40:40 Hail: INFO: balding_nichols_model: generating genotypes for 10 populations, 2000 samples, and 13500 variants...\n"
     ]
    },
    {
     "name": "stdout",
     "output_type": "stream",
     "text": [
      "Deleting pc_relate results: /tmp/tmpvxw8jz2y/pc_relate_result\n",
      "Deleting hail tmp dir: /tmp/hail.sVrGxaLZ4jVW\n"
     ]
    },
    {
     "name": "stderr",
     "output_type": "stream",
     "text": [
      "2020-04-24 05:40:40 Hail: INFO: Coerced sorted dataset\n",
      "2020-04-24 05:40:45 Hail: INFO: wrote matrix table with 13500 rows and 2000 columns in 8 partitions to /home/rav/data/tmp/mt_2000_13500_10.mt\n",
      "2020-04-24 05:40:45 Hail: INFO: hwe_normalized_pca: running PCA using 13500 variants.\n",
      "2020-04-24 05:40:46 Hail: INFO: pca: running PCA with 10 components...\n"
     ]
    },
    {
     "name": "stdout",
     "output_type": "stream",
     "text": [
      "PCA took s:2000, v:13500, p:10 : 12.21 seconds\n"
     ]
    },
    {
     "name": "stderr",
     "output_type": "stream",
     "text": [
      "2020-04-24 05:41:00 Hail: INFO: Wrote all 4 blocks of 13500 x 2000 matrix with block size 4096.\n",
      "2020-04-24 05:41:01 Hail: INFO: wrote matrix with 11 rows and 13500 columns as 4 blocks of size 4096 to file:/tmp/hail.sVrGxaLZ4jVW/xw1mZBy46P.bm\n",
      "2020-04-24 05:41:01 Hail: INFO: wrote matrix with 13500 rows and 2000 columns as 4 blocks of size 4096 to file:/tmp/hail.sVrGxaLZ4jVW/Hd3hRcqMOW.bm\n",
      "2020-04-24 05:41:02 Hail: INFO: wrote matrix with 13500 rows and 2000 columns as 4 blocks of size 4096 to file:/tmp/hail.sVrGxaLZ4jVW/pK5SDCE8eS.bm\n",
      "2020-04-24 05:41:13 Hail: INFO: wrote matrix with 2000 rows and 2000 columns as 1 block of size 4096 to file:/tmp/hail.sVrGxaLZ4jVW/67lDnqWJhc.bm\n",
      "2020-04-24 05:41:25 Hail: INFO: wrote matrix with 2000 rows and 2000 columns as 1 block of size 4096 to file:/tmp/hail.sVrGxaLZ4jVW/hn768zNCec.bm\n",
      "2020-04-24 05:41:25 Hail: INFO: wrote matrix with 2000 rows and 2000 columns as 1 block of size 4096 to file:/tmp/hail.sVrGxaLZ4jVW/EMR7TQkOK3.bm\n",
      "2020-04-24 05:41:40 Hail: INFO: wrote matrix with 2000 rows and 2000 columns as 1 block of size 4096 to file:/tmp/hail.sVrGxaLZ4jVW/oKY03EJnOv.bm\n",
      "2020-04-24 05:41:51 Hail: INFO: wrote matrix with 2000 rows and 2000 columns as 1 block of size 4096 to file:/tmp/hail.sVrGxaLZ4jVW/pAmZTBrCqa.bm\n",
      "2020-04-24 05:41:51 Hail: INFO: wrote matrix with 2000 rows and 2000 columns as 1 block of size 4096 to file:/tmp/hail.sVrGxaLZ4jVW/zgj20ymvk9.bm\n",
      "2020-04-24 05:42:04 Hail: INFO: wrote matrix with 2000 rows and 2000 columns as 1 block of size 4096 to file:/tmp/hail.sVrGxaLZ4jVW/bMjApVPUrJ.bm\n",
      "2020-04-24 05:42:17 Hail: INFO: wrote matrix with 2000 rows and 2000 columns as 1 block of size 4096 to file:/tmp/hail.sVrGxaLZ4jVW/nCHy5fBPeS.bm\n",
      "2020-04-24 05:42:17 Hail: INFO: wrote matrix with 2000 rows and 2000 columns as 1 block of size 4096 to file:/tmp/hail.sVrGxaLZ4jVW/kxuKGOcp6M.bm\n",
      "2020-04-24 05:42:21 Hail: INFO: Ordering unsorted dataset with network shuffle\n",
      "2020-04-24 05:42:39 Hail: INFO: Coerced sorted dataset\n",
      "2020-04-24 05:42:52 Hail: INFO: wrote table with 1999000 rows in 1 partition to /tmp/tmpuscn8p92/pc_relate_result\n",
      "2020-04-24 05:42:52 Hail: INFO: balding_nichols_model: generating genotypes for 10 populations, 2000 samples, and 14000 variants...\n"
     ]
    },
    {
     "name": "stdout",
     "output_type": "stream",
     "text": [
      "Deleting pc_relate results: /tmp/tmpuscn8p92/pc_relate_result\n",
      "Deleting hail tmp dir: /tmp/hail.sVrGxaLZ4jVW\n"
     ]
    },
    {
     "name": "stderr",
     "output_type": "stream",
     "text": [
      "2020-04-24 05:42:52 Hail: INFO: Coerced sorted dataset\n",
      "2020-04-24 05:42:57 Hail: INFO: wrote matrix table with 14000 rows and 2000 columns in 8 partitions to /home/rav/data/tmp/mt_2000_14000_10.mt\n",
      "2020-04-24 05:42:57 Hail: INFO: hwe_normalized_pca: running PCA using 14000 variants.\n",
      "2020-04-24 05:42:58 Hail: INFO: pca: running PCA with 10 components...\n"
     ]
    },
    {
     "name": "stdout",
     "output_type": "stream",
     "text": [
      "PCA took s:2000, v:14000, p:10 : 10.52 seconds\n"
     ]
    },
    {
     "name": "stderr",
     "output_type": "stream",
     "text": [
      "2020-04-24 05:43:11 Hail: INFO: Wrote all 4 blocks of 14000 x 2000 matrix with block size 4096.\n",
      "2020-04-24 05:43:11 Hail: INFO: wrote matrix with 11 rows and 14000 columns as 4 blocks of size 4096 to file:/tmp/hail.sVrGxaLZ4jVW/kcdopFxxaJ.bm\n",
      "2020-04-24 05:43:12 Hail: INFO: wrote matrix with 14000 rows and 2000 columns as 4 blocks of size 4096 to file:/tmp/hail.sVrGxaLZ4jVW/I9cgErEbbG.bm\n",
      "2020-04-24 05:43:12 Hail: INFO: wrote matrix with 14000 rows and 2000 columns as 4 blocks of size 4096 to file:/tmp/hail.sVrGxaLZ4jVW/BrEUcYAeFP.bm\n",
      "2020-04-24 05:43:25 Hail: INFO: wrote matrix with 2000 rows and 2000 columns as 1 block of size 4096 to file:/tmp/hail.sVrGxaLZ4jVW/CE56kHSQVh.bm\n",
      "2020-04-24 05:43:36 Hail: INFO: wrote matrix with 2000 rows and 2000 columns as 1 block of size 4096 to file:/tmp/hail.sVrGxaLZ4jVW/zmMimFZcaT.bm\n",
      "2020-04-24 05:43:36 Hail: INFO: wrote matrix with 2000 rows and 2000 columns as 1 block of size 4096 to file:/tmp/hail.sVrGxaLZ4jVW/uV8L748njJ.bm\n",
      "2020-04-24 05:43:52 Hail: INFO: wrote matrix with 2000 rows and 2000 columns as 1 block of size 4096 to file:/tmp/hail.sVrGxaLZ4jVW/LAKBjyIqGo.bm\n",
      "2020-04-24 05:44:03 Hail: INFO: wrote matrix with 2000 rows and 2000 columns as 1 block of size 4096 to file:/tmp/hail.sVrGxaLZ4jVW/d1vlkb0R6z.bm\n",
      "2020-04-24 05:44:03 Hail: INFO: wrote matrix with 2000 rows and 2000 columns as 1 block of size 4096 to file:/tmp/hail.sVrGxaLZ4jVW/ljObjgKNuJ.bm\n",
      "2020-04-24 05:44:17 Hail: INFO: wrote matrix with 2000 rows and 2000 columns as 1 block of size 4096 to file:/tmp/hail.sVrGxaLZ4jVW/uWs44wuou1.bm\n",
      "2020-04-24 05:44:30 Hail: INFO: wrote matrix with 2000 rows and 2000 columns as 1 block of size 4096 to file:/tmp/hail.sVrGxaLZ4jVW/XcaFh0iyhr.bm\n",
      "2020-04-24 05:44:31 Hail: INFO: wrote matrix with 2000 rows and 2000 columns as 1 block of size 4096 to file:/tmp/hail.sVrGxaLZ4jVW/8NOeFgPkrf.bm\n",
      "2020-04-24 05:44:35 Hail: INFO: Ordering unsorted dataset with network shuffle\n",
      "2020-04-24 05:44:53 Hail: INFO: Coerced sorted dataset\n",
      "2020-04-24 05:45:07 Hail: INFO: wrote table with 1999000 rows in 1 partition to /tmp/tmpdqs1uhrt/pc_relate_result\n",
      "2020-04-24 05:45:07 Hail: INFO: balding_nichols_model: generating genotypes for 10 populations, 2000 samples, and 14500 variants...\n"
     ]
    },
    {
     "name": "stdout",
     "output_type": "stream",
     "text": [
      "Deleting pc_relate results: /tmp/tmpdqs1uhrt/pc_relate_result\n",
      "Deleting hail tmp dir: /tmp/hail.sVrGxaLZ4jVW\n"
     ]
    },
    {
     "name": "stderr",
     "output_type": "stream",
     "text": [
      "2020-04-24 05:45:07 Hail: INFO: Coerced sorted dataset\n",
      "2020-04-24 05:45:12 Hail: INFO: wrote matrix table with 14500 rows and 2000 columns in 8 partitions to /home/rav/data/tmp/mt_2000_14500_10.mt\n",
      "2020-04-24 05:45:12 Hail: INFO: hwe_normalized_pca: running PCA using 14500 variants.\n",
      "2020-04-24 05:45:13 Hail: INFO: pca: running PCA with 10 components...\n"
     ]
    },
    {
     "name": "stdout",
     "output_type": "stream",
     "text": [
      "PCA took s:2000, v:14500, p:10 : 14.25 seconds\n"
     ]
    },
    {
     "name": "stderr",
     "output_type": "stream",
     "text": [
      "2020-04-24 05:45:29 Hail: INFO: Wrote all 4 blocks of 14500 x 2000 matrix with block size 4096.\n",
      "2020-04-24 05:45:30 Hail: INFO: wrote matrix with 11 rows and 14500 columns as 4 blocks of size 4096 to file:/tmp/hail.sVrGxaLZ4jVW/YUTAlZU65M.bm\n",
      "2020-04-24 05:45:30 Hail: INFO: wrote matrix with 14500 rows and 2000 columns as 4 blocks of size 4096 to file:/tmp/hail.sVrGxaLZ4jVW/b4xhI454kt.bm\n",
      "2020-04-24 05:45:30 Hail: INFO: wrote matrix with 14500 rows and 2000 columns as 4 blocks of size 4096 to file:/tmp/hail.sVrGxaLZ4jVW/nyaHYL0eZ1.bm\n",
      "2020-04-24 05:45:43 Hail: INFO: wrote matrix with 2000 rows and 2000 columns as 1 block of size 4096 to file:/tmp/hail.sVrGxaLZ4jVW/T2CuybejjH.bm\n",
      "2020-04-24 05:45:55 Hail: INFO: wrote matrix with 2000 rows and 2000 columns as 1 block of size 4096 to file:/tmp/hail.sVrGxaLZ4jVW/47t91cMLTU.bm\n",
      "2020-04-24 05:45:55 Hail: INFO: wrote matrix with 2000 rows and 2000 columns as 1 block of size 4096 to file:/tmp/hail.sVrGxaLZ4jVW/m1b5OU9FO8.bm\n",
      "2020-04-24 05:46:11 Hail: INFO: wrote matrix with 2000 rows and 2000 columns as 1 block of size 4096 to file:/tmp/hail.sVrGxaLZ4jVW/PBpUtF6aHb.bm\n",
      "2020-04-24 05:46:23 Hail: INFO: wrote matrix with 2000 rows and 2000 columns as 1 block of size 4096 to file:/tmp/hail.sVrGxaLZ4jVW/6j314OlWjo.bm\n",
      "2020-04-24 05:46:23 Hail: INFO: wrote matrix with 2000 rows and 2000 columns as 1 block of size 4096 to file:/tmp/hail.sVrGxaLZ4jVW/rEf1NbSfyu.bm\n",
      "2020-04-24 05:46:37 Hail: INFO: wrote matrix with 2000 rows and 2000 columns as 1 block of size 4096 to file:/tmp/hail.sVrGxaLZ4jVW/Wk6CaD9Pje.bm\n",
      "2020-04-24 05:46:51 Hail: INFO: wrote matrix with 2000 rows and 2000 columns as 1 block of size 4096 to file:/tmp/hail.sVrGxaLZ4jVW/pDokAMsqWB.bm\n",
      "2020-04-24 05:46:51 Hail: INFO: wrote matrix with 2000 rows and 2000 columns as 1 block of size 4096 to file:/tmp/hail.sVrGxaLZ4jVW/lL1aR79BXq.bm\n",
      "2020-04-24 05:46:55 Hail: INFO: Ordering unsorted dataset with network shuffle\n",
      "2020-04-24 05:47:13 Hail: INFO: Coerced sorted dataset\n",
      "2020-04-24 05:47:27 Hail: INFO: wrote table with 1999000 rows in 1 partition to /tmp/tmpt3lozgyn/pc_relate_result\n",
      "2020-04-24 05:47:27 Hail: INFO: balding_nichols_model: generating genotypes for 10 populations, 2000 samples, and 15000 variants...\n"
     ]
    },
    {
     "name": "stdout",
     "output_type": "stream",
     "text": [
      "Deleting pc_relate results: /tmp/tmpt3lozgyn/pc_relate_result\n",
      "Deleting hail tmp dir: /tmp/hail.sVrGxaLZ4jVW\n"
     ]
    },
    {
     "name": "stderr",
     "output_type": "stream",
     "text": [
      "2020-04-24 05:47:27 Hail: INFO: Coerced sorted dataset\n",
      "2020-04-24 05:47:32 Hail: INFO: wrote matrix table with 15000 rows and 2000 columns in 8 partitions to /home/rav/data/tmp/mt_2000_15000_10.mt\n",
      "2020-04-24 05:47:32 Hail: INFO: hwe_normalized_pca: running PCA using 15000 variants.\n",
      "2020-04-24 05:47:33 Hail: INFO: pca: running PCA with 10 components...\n"
     ]
    },
    {
     "name": "stdout",
     "output_type": "stream",
     "text": [
      "PCA took s:2000, v:15000, p:10 : 13.18 seconds\n"
     ]
    },
    {
     "name": "stderr",
     "output_type": "stream",
     "text": [
      "2020-04-24 05:47:48 Hail: INFO: Wrote all 4 blocks of 15000 x 2000 matrix with block size 4096.\n",
      "2020-04-24 05:47:49 Hail: INFO: wrote matrix with 11 rows and 15000 columns as 4 blocks of size 4096 to file:/tmp/hail.sVrGxaLZ4jVW/dWRUP1iJHu.bm\n",
      "2020-04-24 05:47:49 Hail: INFO: wrote matrix with 15000 rows and 2000 columns as 4 blocks of size 4096 to file:/tmp/hail.sVrGxaLZ4jVW/87F98rgSQW.bm\n",
      "2020-04-24 05:47:49 Hail: INFO: wrote matrix with 15000 rows and 2000 columns as 4 blocks of size 4096 to file:/tmp/hail.sVrGxaLZ4jVW/9KcuuhbQo3.bm\n",
      "2020-04-24 05:48:02 Hail: INFO: wrote matrix with 2000 rows and 2000 columns as 1 block of size 4096 to file:/tmp/hail.sVrGxaLZ4jVW/IFwyZO6Cbz.bm\n",
      "2020-04-24 05:48:15 Hail: INFO: wrote matrix with 2000 rows and 2000 columns as 1 block of size 4096 to file:/tmp/hail.sVrGxaLZ4jVW/PfthhqvtiL.bm\n",
      "2020-04-24 05:48:15 Hail: INFO: wrote matrix with 2000 rows and 2000 columns as 1 block of size 4096 to file:/tmp/hail.sVrGxaLZ4jVW/HK4udHuLKd.bm\n",
      "2020-04-24 05:48:31 Hail: INFO: wrote matrix with 2000 rows and 2000 columns as 1 block of size 4096 to file:/tmp/hail.sVrGxaLZ4jVW/V0ll41IlLS.bm\n",
      "2020-04-24 05:48:44 Hail: INFO: wrote matrix with 2000 rows and 2000 columns as 1 block of size 4096 to file:/tmp/hail.sVrGxaLZ4jVW/JPSMixWqmA.bm\n",
      "2020-04-24 05:48:44 Hail: INFO: wrote matrix with 2000 rows and 2000 columns as 1 block of size 4096 to file:/tmp/hail.sVrGxaLZ4jVW/W06gYicToR.bm\n",
      "2020-04-24 05:48:59 Hail: INFO: wrote matrix with 2000 rows and 2000 columns as 1 block of size 4096 to file:/tmp/hail.sVrGxaLZ4jVW/NdIxrhn0Dg.bm\n",
      "2020-04-24 05:49:13 Hail: INFO: wrote matrix with 2000 rows and 2000 columns as 1 block of size 4096 to file:/tmp/hail.sVrGxaLZ4jVW/v4zRoWy3cp.bm\n",
      "2020-04-24 05:49:13 Hail: INFO: wrote matrix with 2000 rows and 2000 columns as 1 block of size 4096 to file:/tmp/hail.sVrGxaLZ4jVW/xH26tz78t6.bm\n",
      "2020-04-24 05:49:17 Hail: INFO: Ordering unsorted dataset with network shuffle\n",
      "2020-04-24 05:49:35 Hail: INFO: Coerced sorted dataset\n",
      "2020-04-24 05:49:49 Hail: INFO: wrote table with 1999000 rows in 1 partition to /tmp/tmpjc9p2tj2/pc_relate_result\n",
      "2020-04-24 05:49:49 Hail: INFO: balding_nichols_model: generating genotypes for 10 populations, 2000 samples, and 15500 variants...\n"
     ]
    },
    {
     "name": "stdout",
     "output_type": "stream",
     "text": [
      "Deleting pc_relate results: /tmp/tmpjc9p2tj2/pc_relate_result\n",
      "Deleting hail tmp dir: /tmp/hail.sVrGxaLZ4jVW\n"
     ]
    },
    {
     "name": "stderr",
     "output_type": "stream",
     "text": [
      "2020-04-24 05:49:49 Hail: INFO: Coerced sorted dataset\n",
      "2020-04-24 05:49:54 Hail: INFO: wrote matrix table with 15500 rows and 2000 columns in 8 partitions to /home/rav/data/tmp/mt_2000_15500_10.mt\n",
      "2020-04-24 05:49:55 Hail: INFO: hwe_normalized_pca: running PCA using 15500 variants.\n",
      "2020-04-24 05:49:56 Hail: INFO: pca: running PCA with 10 components...\n"
     ]
    },
    {
     "name": "stdout",
     "output_type": "stream",
     "text": [
      "PCA took s:2000, v:15500, p:10 : 16.35 seconds\n"
     ]
    },
    {
     "name": "stderr",
     "output_type": "stream",
     "text": [
      "2020-04-24 05:50:14 Hail: INFO: Wrote all 4 blocks of 15500 x 2000 matrix with block size 4096.\n",
      "2020-04-24 05:50:14 Hail: INFO: wrote matrix with 11 rows and 15500 columns as 4 blocks of size 4096 to file:/tmp/hail.sVrGxaLZ4jVW/SYcNGenHbM.bm\n",
      "2020-04-24 05:50:15 Hail: INFO: wrote matrix with 15500 rows and 2000 columns as 4 blocks of size 4096 to file:/tmp/hail.sVrGxaLZ4jVW/WUP8RLnnQO.bm\n",
      "2020-04-24 05:50:15 Hail: INFO: wrote matrix with 15500 rows and 2000 columns as 4 blocks of size 4096 to file:/tmp/hail.sVrGxaLZ4jVW/jMQDNA12TO.bm\n",
      "2020-04-24 05:50:28 Hail: INFO: wrote matrix with 2000 rows and 2000 columns as 1 block of size 4096 to file:/tmp/hail.sVrGxaLZ4jVW/XixVDYwnpW.bm\n",
      "2020-04-24 05:50:41 Hail: INFO: wrote matrix with 2000 rows and 2000 columns as 1 block of size 4096 to file:/tmp/hail.sVrGxaLZ4jVW/gjCgARrDfR.bm\n",
      "2020-04-24 05:50:41 Hail: INFO: wrote matrix with 2000 rows and 2000 columns as 1 block of size 4096 to file:/tmp/hail.sVrGxaLZ4jVW/A6qxIHH31b.bm\n",
      "2020-04-24 05:50:59 Hail: INFO: wrote matrix with 2000 rows and 2000 columns as 1 block of size 4096 to file:/tmp/hail.sVrGxaLZ4jVW/tnlSBmqlVe.bm\n",
      "2020-04-24 05:51:11 Hail: INFO: wrote matrix with 2000 rows and 2000 columns as 1 block of size 4096 to file:/tmp/hail.sVrGxaLZ4jVW/CuIbOZu2gm.bm\n",
      "2020-04-24 05:51:11 Hail: INFO: wrote matrix with 2000 rows and 2000 columns as 1 block of size 4096 to file:/tmp/hail.sVrGxaLZ4jVW/aeSfsCKIK6.bm\n",
      "2020-04-24 05:51:26 Hail: INFO: wrote matrix with 2000 rows and 2000 columns as 1 block of size 4096 to file:/tmp/hail.sVrGxaLZ4jVW/EwY809z8s7.bm\n",
      "2020-04-24 05:51:41 Hail: INFO: wrote matrix with 2000 rows and 2000 columns as 1 block of size 4096 to file:/tmp/hail.sVrGxaLZ4jVW/dDHn3nN9QK.bm\n",
      "2020-04-24 05:51:41 Hail: INFO: wrote matrix with 2000 rows and 2000 columns as 1 block of size 4096 to file:/tmp/hail.sVrGxaLZ4jVW/TMWg9Xy7k1.bm\n",
      "2020-04-24 05:51:45 Hail: INFO: Ordering unsorted dataset with network shuffle\n",
      "2020-04-24 05:52:03 Hail: INFO: Coerced sorted dataset\n",
      "2020-04-24 05:52:16 Hail: INFO: wrote table with 1999000 rows in 1 partition to /tmp/tmpur9pfqe7/pc_relate_result\n",
      "2020-04-24 05:52:16 Hail: INFO: balding_nichols_model: generating genotypes for 10 populations, 2000 samples, and 16000 variants...\n"
     ]
    },
    {
     "name": "stdout",
     "output_type": "stream",
     "text": [
      "Deleting pc_relate results: /tmp/tmpur9pfqe7/pc_relate_result\n",
      "Deleting hail tmp dir: /tmp/hail.sVrGxaLZ4jVW\n"
     ]
    },
    {
     "name": "stderr",
     "output_type": "stream",
     "text": [
      "2020-04-24 05:52:17 Hail: INFO: Coerced sorted dataset\n",
      "2020-04-24 05:52:22 Hail: INFO: wrote matrix table with 16000 rows and 2000 columns in 8 partitions to /home/rav/data/tmp/mt_2000_16000_10.mt\n",
      "2020-04-24 05:52:22 Hail: INFO: hwe_normalized_pca: running PCA using 16000 variants.\n",
      "2020-04-24 05:52:23 Hail: INFO: pca: running PCA with 10 components...\n"
     ]
    },
    {
     "name": "stdout",
     "output_type": "stream",
     "text": [
      "PCA took s:2000, v:16000, p:10 : 13.19 seconds\n"
     ]
    },
    {
     "name": "stderr",
     "output_type": "stream",
     "text": [
      "2020-04-24 05:52:38 Hail: INFO: Wrote all 4 blocks of 16000 x 2000 matrix with block size 4096.\n",
      "2020-04-24 05:52:39 Hail: INFO: wrote matrix with 11 rows and 16000 columns as 4 blocks of size 4096 to file:/tmp/hail.sVrGxaLZ4jVW/ME7KHMiDb0.bm\n",
      "2020-04-24 05:52:39 Hail: INFO: wrote matrix with 16000 rows and 2000 columns as 4 blocks of size 4096 to file:/tmp/hail.sVrGxaLZ4jVW/DaqS3gSOT2.bm\n",
      "2020-04-24 05:52:40 Hail: INFO: wrote matrix with 16000 rows and 2000 columns as 4 blocks of size 4096 to file:/tmp/hail.sVrGxaLZ4jVW/knW9KDXG6U.bm\n",
      "2020-04-24 05:52:53 Hail: INFO: wrote matrix with 2000 rows and 2000 columns as 1 block of size 4096 to file:/tmp/hail.sVrGxaLZ4jVW/qPhGKnQBRo.bm\n",
      "2020-04-24 05:53:07 Hail: INFO: wrote matrix with 2000 rows and 2000 columns as 1 block of size 4096 to file:/tmp/hail.sVrGxaLZ4jVW/WGdXMgqXr4.bm\n",
      "2020-04-24 05:53:07 Hail: INFO: wrote matrix with 2000 rows and 2000 columns as 1 block of size 4096 to file:/tmp/hail.sVrGxaLZ4jVW/xsvTNbMUOi.bm\n",
      "2020-04-24 05:53:24 Hail: INFO: wrote matrix with 2000 rows and 2000 columns as 1 block of size 4096 to file:/tmp/hail.sVrGxaLZ4jVW/OOd5wasXjB.bm\n",
      "2020-04-24 05:53:37 Hail: INFO: wrote matrix with 2000 rows and 2000 columns as 1 block of size 4096 to file:/tmp/hail.sVrGxaLZ4jVW/SuMqchmbap.bm\n",
      "2020-04-24 05:53:38 Hail: INFO: wrote matrix with 2000 rows and 2000 columns as 1 block of size 4096 to file:/tmp/hail.sVrGxaLZ4jVW/nIk3h2jQVz.bm\n",
      "2020-04-24 05:53:53 Hail: INFO: wrote matrix with 2000 rows and 2000 columns as 1 block of size 4096 to file:/tmp/hail.sVrGxaLZ4jVW/Upk0AwCKVl.bm\n",
      "2020-04-24 05:54:08 Hail: INFO: wrote matrix with 2000 rows and 2000 columns as 1 block of size 4096 to file:/tmp/hail.sVrGxaLZ4jVW/EAvG3qh1Go.bm\n",
      "2020-04-24 05:54:09 Hail: INFO: wrote matrix with 2000 rows and 2000 columns as 1 block of size 4096 to file:/tmp/hail.sVrGxaLZ4jVW/VHJkM4HioX.bm\n",
      "2020-04-24 05:54:12 Hail: INFO: Ordering unsorted dataset with network shuffle\n",
      "2020-04-24 05:54:30 Hail: INFO: Coerced sorted dataset\n",
      "2020-04-24 05:54:44 Hail: INFO: wrote table with 1999000 rows in 1 partition to /tmp/tmpzwkoqr97/pc_relate_result\n",
      "2020-04-24 05:54:44 Hail: INFO: balding_nichols_model: generating genotypes for 10 populations, 2000 samples, and 16500 variants...\n"
     ]
    },
    {
     "name": "stdout",
     "output_type": "stream",
     "text": [
      "Deleting pc_relate results: /tmp/tmpzwkoqr97/pc_relate_result\n",
      "Deleting hail tmp dir: /tmp/hail.sVrGxaLZ4jVW\n"
     ]
    },
    {
     "name": "stderr",
     "output_type": "stream",
     "text": [
      "2020-04-24 05:54:44 Hail: INFO: Coerced sorted dataset\n",
      "2020-04-24 05:54:49 Hail: INFO: wrote matrix table with 16500 rows and 2000 columns in 8 partitions to /home/rav/data/tmp/mt_2000_16500_10.mt\n",
      "2020-04-24 05:54:50 Hail: INFO: hwe_normalized_pca: running PCA using 16500 variants.\n",
      "2020-04-24 05:54:51 Hail: INFO: pca: running PCA with 10 components...\n"
     ]
    },
    {
     "name": "stdout",
     "output_type": "stream",
     "text": [
      "PCA took s:2000, v:16500, p:10 : 14.09 seconds\n"
     ]
    },
    {
     "name": "stderr",
     "output_type": "stream",
     "text": [
      "2020-04-24 05:55:06 Hail: INFO: Wrote all 5 blocks of 16500 x 2000 matrix with block size 4096.\n",
      "2020-04-24 05:55:07 Hail: INFO: wrote matrix with 11 rows and 16500 columns as 5 blocks of size 4096 to file:/tmp/hail.sVrGxaLZ4jVW/ahigSDGIoA.bm\n",
      "2020-04-24 05:55:07 Hail: INFO: wrote matrix with 16500 rows and 2000 columns as 5 blocks of size 4096 to file:/tmp/hail.sVrGxaLZ4jVW/k2TY0CEdey.bm\n",
      "2020-04-24 05:55:08 Hail: INFO: wrote matrix with 16500 rows and 2000 columns as 5 blocks of size 4096 to file:/tmp/hail.sVrGxaLZ4jVW/DuXbBZydTQ.bm\n",
      "2020-04-24 05:55:23 Hail: INFO: wrote matrix with 2000 rows and 2000 columns as 1 block of size 4096 to file:/tmp/hail.sVrGxaLZ4jVW/6sog1IzvH4.bm\n",
      "2020-04-24 05:55:36 Hail: INFO: wrote matrix with 2000 rows and 2000 columns as 1 block of size 4096 to file:/tmp/hail.sVrGxaLZ4jVW/4EQ4UEoKFg.bm\n",
      "2020-04-24 05:55:37 Hail: INFO: wrote matrix with 2000 rows and 2000 columns as 1 block of size 4096 to file:/tmp/hail.sVrGxaLZ4jVW/ozlMRi1dgO.bm\n",
      "2020-04-24 05:55:55 Hail: INFO: wrote matrix with 2000 rows and 2000 columns as 1 block of size 4096 to file:/tmp/hail.sVrGxaLZ4jVW/BjNiDjiGnr.bm\n",
      "2020-04-24 05:56:08 Hail: INFO: wrote matrix with 2000 rows and 2000 columns as 1 block of size 4096 to file:/tmp/hail.sVrGxaLZ4jVW/G0c7U6iGnk.bm\n",
      "2020-04-24 05:56:08 Hail: INFO: wrote matrix with 2000 rows and 2000 columns as 1 block of size 4096 to file:/tmp/hail.sVrGxaLZ4jVW/lfQu4kZk2d.bm\n",
      "2020-04-24 05:56:24 Hail: INFO: wrote matrix with 2000 rows and 2000 columns as 1 block of size 4096 to file:/tmp/hail.sVrGxaLZ4jVW/IIXWT4dBRh.bm\n",
      "2020-04-24 05:56:41 Hail: INFO: wrote matrix with 2000 rows and 2000 columns as 1 block of size 4096 to file:/tmp/hail.sVrGxaLZ4jVW/RkONTCsnPj.bm\n",
      "2020-04-24 05:56:41 Hail: INFO: wrote matrix with 2000 rows and 2000 columns as 1 block of size 4096 to file:/tmp/hail.sVrGxaLZ4jVW/uLEsfulaUg.bm\n",
      "2020-04-24 05:56:45 Hail: INFO: Ordering unsorted dataset with network shuffle\n",
      "2020-04-24 05:57:03 Hail: INFO: Coerced sorted dataset\n",
      "2020-04-24 05:57:17 Hail: INFO: wrote table with 1999000 rows in 1 partition to /tmp/tmpguxjdkse/pc_relate_result\n",
      "2020-04-24 05:57:17 Hail: INFO: balding_nichols_model: generating genotypes for 10 populations, 2000 samples, and 17000 variants...\n"
     ]
    },
    {
     "name": "stdout",
     "output_type": "stream",
     "text": [
      "Deleting pc_relate results: /tmp/tmpguxjdkse/pc_relate_result\n",
      "Deleting hail tmp dir: /tmp/hail.sVrGxaLZ4jVW\n"
     ]
    },
    {
     "name": "stderr",
     "output_type": "stream",
     "text": [
      "2020-04-24 05:57:17 Hail: INFO: Coerced sorted dataset\n",
      "2020-04-24 05:57:22 Hail: INFO: wrote matrix table with 17000 rows and 2000 columns in 8 partitions to /home/rav/data/tmp/mt_2000_17000_10.mt\n",
      "2020-04-24 05:57:23 Hail: INFO: hwe_normalized_pca: running PCA using 17000 variants.\n",
      "2020-04-24 05:57:24 Hail: INFO: pca: running PCA with 10 components...\n"
     ]
    },
    {
     "name": "stdout",
     "output_type": "stream",
     "text": [
      "PCA took s:2000, v:17000, p:10 : 15.49 seconds\n"
     ]
    },
    {
     "name": "stderr",
     "output_type": "stream",
     "text": [
      "2020-04-24 05:57:41 Hail: INFO: Wrote all 5 blocks of 17000 x 2000 matrix with block size 4096.\n",
      "2020-04-24 05:57:42 Hail: INFO: wrote matrix with 11 rows and 17000 columns as 5 blocks of size 4096 to file:/tmp/hail.sVrGxaLZ4jVW/aBb7sRxs2c.bm\n",
      "2020-04-24 05:57:42 Hail: INFO: wrote matrix with 17000 rows and 2000 columns as 5 blocks of size 4096 to file:/tmp/hail.sVrGxaLZ4jVW/ipHGV29X55.bm\n",
      "2020-04-24 05:57:42 Hail: INFO: wrote matrix with 17000 rows and 2000 columns as 5 blocks of size 4096 to file:/tmp/hail.sVrGxaLZ4jVW/RkhmGEUO0J.bm\n",
      "2020-04-24 05:57:57 Hail: INFO: wrote matrix with 2000 rows and 2000 columns as 1 block of size 4096 to file:/tmp/hail.sVrGxaLZ4jVW/lgbjhwfUmA.bm\n",
      "2020-04-24 05:58:11 Hail: INFO: wrote matrix with 2000 rows and 2000 columns as 1 block of size 4096 to file:/tmp/hail.sVrGxaLZ4jVW/AAkLcleyYE.bm\n",
      "2020-04-24 05:58:11 Hail: INFO: wrote matrix with 2000 rows and 2000 columns as 1 block of size 4096 to file:/tmp/hail.sVrGxaLZ4jVW/euJicGSVdl.bm\n",
      "2020-04-24 05:58:30 Hail: INFO: wrote matrix with 2000 rows and 2000 columns as 1 block of size 4096 to file:/tmp/hail.sVrGxaLZ4jVW/dPdRkEdSPk.bm\n",
      "2020-04-24 05:58:44 Hail: INFO: wrote matrix with 2000 rows and 2000 columns as 1 block of size 4096 to file:/tmp/hail.sVrGxaLZ4jVW/WFGMUKTzNS.bm\n",
      "2020-04-24 05:58:44 Hail: INFO: wrote matrix with 2000 rows and 2000 columns as 1 block of size 4096 to file:/tmp/hail.sVrGxaLZ4jVW/k2K1H8VxSd.bm\n",
      "2020-04-24 05:59:01 Hail: INFO: wrote matrix with 2000 rows and 2000 columns as 1 block of size 4096 to file:/tmp/hail.sVrGxaLZ4jVW/n7SK8WPE7C.bm\n",
      "2020-04-24 05:59:17 Hail: INFO: wrote matrix with 2000 rows and 2000 columns as 1 block of size 4096 to file:/tmp/hail.sVrGxaLZ4jVW/BvLER4sHCc.bm\n",
      "2020-04-24 05:59:17 Hail: INFO: wrote matrix with 2000 rows and 2000 columns as 1 block of size 4096 to file:/tmp/hail.sVrGxaLZ4jVW/60BUM5Pfyq.bm\n",
      "2020-04-24 05:59:21 Hail: INFO: Ordering unsorted dataset with network shuffle\n",
      "2020-04-24 05:59:39 Hail: INFO: Coerced sorted dataset\n",
      "2020-04-24 05:59:53 Hail: INFO: wrote table with 1999000 rows in 1 partition to /tmp/tmppmw8autk/pc_relate_result\n",
      "2020-04-24 05:59:53 Hail: INFO: balding_nichols_model: generating genotypes for 10 populations, 2000 samples, and 17500 variants...\n"
     ]
    },
    {
     "name": "stdout",
     "output_type": "stream",
     "text": [
      "Deleting pc_relate results: /tmp/tmppmw8autk/pc_relate_result\n",
      "Deleting hail tmp dir: /tmp/hail.sVrGxaLZ4jVW\n"
     ]
    },
    {
     "name": "stderr",
     "output_type": "stream",
     "text": [
      "2020-04-24 05:59:53 Hail: INFO: Coerced sorted dataset\n",
      "2020-04-24 05:59:59 Hail: INFO: wrote matrix table with 17500 rows and 2000 columns in 8 partitions to /home/rav/data/tmp/mt_2000_17500_10.mt\n",
      "2020-04-24 05:59:59 Hail: INFO: hwe_normalized_pca: running PCA using 17500 variants.\n",
      "2020-04-24 06:00:00 Hail: INFO: pca: running PCA with 10 components...\n"
     ]
    },
    {
     "name": "stdout",
     "output_type": "stream",
     "text": [
      "PCA took s:2000, v:17500, p:10 : 19.46 seconds\n"
     ]
    },
    {
     "name": "stderr",
     "output_type": "stream",
     "text": [
      "2020-04-24 06:00:22 Hail: INFO: Wrote all 5 blocks of 17500 x 2000 matrix with block size 4096.\n",
      "2020-04-24 06:00:22 Hail: INFO: wrote matrix with 11 rows and 17500 columns as 5 blocks of size 4096 to file:/tmp/hail.sVrGxaLZ4jVW/XQoeYgCRsI.bm\n",
      "2020-04-24 06:00:23 Hail: INFO: wrote matrix with 17500 rows and 2000 columns as 5 blocks of size 4096 to file:/tmp/hail.sVrGxaLZ4jVW/kHdKPfTjxR.bm\n",
      "2020-04-24 06:00:23 Hail: INFO: wrote matrix with 17500 rows and 2000 columns as 5 blocks of size 4096 to file:/tmp/hail.sVrGxaLZ4jVW/SrWNuuULKM.bm\n",
      "2020-04-24 06:00:38 Hail: INFO: wrote matrix with 2000 rows and 2000 columns as 1 block of size 4096 to file:/tmp/hail.sVrGxaLZ4jVW/HdmLVRLPJM.bm\n",
      "2020-04-24 06:00:53 Hail: INFO: wrote matrix with 2000 rows and 2000 columns as 1 block of size 4096 to file:/tmp/hail.sVrGxaLZ4jVW/W8n4EGwJJZ.bm\n",
      "2020-04-24 06:00:53 Hail: INFO: wrote matrix with 2000 rows and 2000 columns as 1 block of size 4096 to file:/tmp/hail.sVrGxaLZ4jVW/e3gybCqkD0.bm\n",
      "2020-04-24 06:01:12 Hail: INFO: wrote matrix with 2000 rows and 2000 columns as 1 block of size 4096 to file:/tmp/hail.sVrGxaLZ4jVW/qYAIwyUi91.bm\n",
      "2020-04-24 06:01:26 Hail: INFO: wrote matrix with 2000 rows and 2000 columns as 1 block of size 4096 to file:/tmp/hail.sVrGxaLZ4jVW/9ADu1WgJRP.bm\n",
      "2020-04-24 06:01:26 Hail: INFO: wrote matrix with 2000 rows and 2000 columns as 1 block of size 4096 to file:/tmp/hail.sVrGxaLZ4jVW/5CNAKubaXq.bm\n",
      "2020-04-24 06:01:44 Hail: INFO: wrote matrix with 2000 rows and 2000 columns as 1 block of size 4096 to file:/tmp/hail.sVrGxaLZ4jVW/YPif1eGvh3.bm\n",
      "2020-04-24 06:02:00 Hail: INFO: wrote matrix with 2000 rows and 2000 columns as 1 block of size 4096 to file:/tmp/hail.sVrGxaLZ4jVW/WrgCgodsXD.bm\n",
      "2020-04-24 06:02:01 Hail: INFO: wrote matrix with 2000 rows and 2000 columns as 1 block of size 4096 to file:/tmp/hail.sVrGxaLZ4jVW/ravbPVoVcN.bm\n",
      "2020-04-24 06:02:04 Hail: INFO: Ordering unsorted dataset with network shuffle\n",
      "2020-04-24 06:02:23 Hail: INFO: Coerced sorted dataset\n",
      "2020-04-24 06:02:39 Hail: INFO: wrote table with 1999000 rows in 1 partition to /tmp/tmpshkscxbp/pc_relate_result\n",
      "2020-04-24 06:02:39 Hail: INFO: balding_nichols_model: generating genotypes for 10 populations, 2000 samples, and 18000 variants...\n"
     ]
    },
    {
     "name": "stdout",
     "output_type": "stream",
     "text": [
      "Deleting pc_relate results: /tmp/tmpshkscxbp/pc_relate_result\n",
      "Deleting hail tmp dir: /tmp/hail.sVrGxaLZ4jVW\n"
     ]
    },
    {
     "name": "stderr",
     "output_type": "stream",
     "text": [
      "2020-04-24 06:02:39 Hail: INFO: Coerced sorted dataset\n",
      "2020-04-24 06:02:45 Hail: INFO: wrote matrix table with 18000 rows and 2000 columns in 8 partitions to /home/rav/data/tmp/mt_2000_18000_10.mt\n",
      "2020-04-24 06:02:45 Hail: INFO: hwe_normalized_pca: running PCA using 18000 variants.\n",
      "2020-04-24 06:02:46 Hail: INFO: pca: running PCA with 10 components...\n"
     ]
    },
    {
     "name": "stdout",
     "output_type": "stream",
     "text": [
      "PCA took s:2000, v:18000, p:10 : 12.82 seconds\n"
     ]
    },
    {
     "name": "stderr",
     "output_type": "stream",
     "text": [
      "2020-04-24 06:03:01 Hail: INFO: Wrote all 5 blocks of 18000 x 2000 matrix with block size 4096.\n",
      "2020-04-24 06:03:02 Hail: INFO: wrote matrix with 11 rows and 18000 columns as 5 blocks of size 4096 to file:/tmp/hail.sVrGxaLZ4jVW/VqCPIIIbxo.bm\n",
      "2020-04-24 06:03:02 Hail: INFO: wrote matrix with 18000 rows and 2000 columns as 5 blocks of size 4096 to file:/tmp/hail.sVrGxaLZ4jVW/HbO1EkUDEN.bm\n",
      "2020-04-24 06:03:03 Hail: INFO: wrote matrix with 18000 rows and 2000 columns as 5 blocks of size 4096 to file:/tmp/hail.sVrGxaLZ4jVW/oM5jINAd0q.bm\n",
      "2020-04-24 06:03:18 Hail: INFO: wrote matrix with 2000 rows and 2000 columns as 1 block of size 4096 to file:/tmp/hail.sVrGxaLZ4jVW/3Vh16Q2pJm.bm\n",
      "2020-04-24 06:03:33 Hail: INFO: wrote matrix with 2000 rows and 2000 columns as 1 block of size 4096 to file:/tmp/hail.sVrGxaLZ4jVW/KYoltBFop0.bm\n",
      "2020-04-24 06:03:34 Hail: INFO: wrote matrix with 2000 rows and 2000 columns as 1 block of size 4096 to file:/tmp/hail.sVrGxaLZ4jVW/xbiaqvlYsT.bm\n",
      "2020-04-24 06:03:54 Hail: INFO: wrote matrix with 2000 rows and 2000 columns as 1 block of size 4096 to file:/tmp/hail.sVrGxaLZ4jVW/v5XT23LGY7.bm\n",
      "2020-04-24 06:04:08 Hail: INFO: wrote matrix with 2000 rows and 2000 columns as 1 block of size 4096 to file:/tmp/hail.sVrGxaLZ4jVW/Bt8BnlO9U0.bm\n",
      "2020-04-24 06:04:08 Hail: INFO: wrote matrix with 2000 rows and 2000 columns as 1 block of size 4096 to file:/tmp/hail.sVrGxaLZ4jVW/mPuvG1CGwW.bm\n",
      "2020-04-24 06:04:26 Hail: INFO: wrote matrix with 2000 rows and 2000 columns as 1 block of size 4096 to file:/tmp/hail.sVrGxaLZ4jVW/8BSsqkjI5D.bm\n",
      "2020-04-24 06:04:43 Hail: INFO: wrote matrix with 2000 rows and 2000 columns as 1 block of size 4096 to file:/tmp/hail.sVrGxaLZ4jVW/dUmPETRTCi.bm\n",
      "2020-04-24 06:04:43 Hail: INFO: wrote matrix with 2000 rows and 2000 columns as 1 block of size 4096 to file:/tmp/hail.sVrGxaLZ4jVW/0WUuP1bT2K.bm\n",
      "2020-04-24 06:04:47 Hail: INFO: Ordering unsorted dataset with network shuffle\n",
      "2020-04-24 06:05:05 Hail: INFO: Coerced sorted dataset\n",
      "2020-04-24 06:05:19 Hail: INFO: wrote table with 1999000 rows in 1 partition to /tmp/tmpsebek0ym/pc_relate_result\n",
      "2020-04-24 06:05:19 Hail: INFO: balding_nichols_model: generating genotypes for 10 populations, 2000 samples, and 18500 variants...\n"
     ]
    },
    {
     "name": "stdout",
     "output_type": "stream",
     "text": [
      "Deleting pc_relate results: /tmp/tmpsebek0ym/pc_relate_result\n",
      "Deleting hail tmp dir: /tmp/hail.sVrGxaLZ4jVW\n"
     ]
    },
    {
     "name": "stderr",
     "output_type": "stream",
     "text": [
      "2020-04-24 06:05:19 Hail: INFO: Coerced sorted dataset\n",
      "2020-04-24 06:05:25 Hail: INFO: wrote matrix table with 18500 rows and 2000 columns in 8 partitions to /home/rav/data/tmp/mt_2000_18500_10.mt\n",
      "2020-04-24 06:05:25 Hail: INFO: hwe_normalized_pca: running PCA using 18500 variants.\n",
      "2020-04-24 06:05:26 Hail: INFO: pca: running PCA with 10 components...\n"
     ]
    },
    {
     "name": "stdout",
     "output_type": "stream",
     "text": [
      "PCA took s:2000, v:18500, p:10 : 14.13 seconds\n"
     ]
    },
    {
     "name": "stderr",
     "output_type": "stream",
     "text": [
      "2020-04-24 06:05:43 Hail: INFO: Wrote all 5 blocks of 18500 x 2000 matrix with block size 4096.\n",
      "2020-04-24 06:05:43 Hail: INFO: wrote matrix with 11 rows and 18500 columns as 5 blocks of size 4096 to file:/tmp/hail.sVrGxaLZ4jVW/WnX2qV80ur.bm\n",
      "2020-04-24 06:05:44 Hail: INFO: wrote matrix with 18500 rows and 2000 columns as 5 blocks of size 4096 to file:/tmp/hail.sVrGxaLZ4jVW/jwtH9FzC7Y.bm\n",
      "2020-04-24 06:05:44 Hail: INFO: wrote matrix with 18500 rows and 2000 columns as 5 blocks of size 4096 to file:/tmp/hail.sVrGxaLZ4jVW/oOA5eSJiF5.bm\n",
      "2020-04-24 06:06:00 Hail: INFO: wrote matrix with 2000 rows and 2000 columns as 1 block of size 4096 to file:/tmp/hail.sVrGxaLZ4jVW/J6dscdFlhg.bm\n",
      "2020-04-24 06:06:16 Hail: INFO: wrote matrix with 2000 rows and 2000 columns as 1 block of size 4096 to file:/tmp/hail.sVrGxaLZ4jVW/JN6ivqGMqK.bm\n",
      "2020-04-24 06:06:16 Hail: INFO: wrote matrix with 2000 rows and 2000 columns as 1 block of size 4096 to file:/tmp/hail.sVrGxaLZ4jVW/0cqtZcc1Aa.bm\n",
      "2020-04-24 06:06:36 Hail: INFO: wrote matrix with 2000 rows and 2000 columns as 1 block of size 4096 to file:/tmp/hail.sVrGxaLZ4jVW/wBjDIU0eYc.bm\n",
      "2020-04-24 06:06:51 Hail: INFO: wrote matrix with 2000 rows and 2000 columns as 1 block of size 4096 to file:/tmp/hail.sVrGxaLZ4jVW/8bQbfdRyiu.bm\n",
      "2020-04-24 06:06:51 Hail: INFO: wrote matrix with 2000 rows and 2000 columns as 1 block of size 4096 to file:/tmp/hail.sVrGxaLZ4jVW/urw9BtySwI.bm\n",
      "2020-04-24 06:07:09 Hail: INFO: wrote matrix with 2000 rows and 2000 columns as 1 block of size 4096 to file:/tmp/hail.sVrGxaLZ4jVW/u9iT1pldRJ.bm\n",
      "2020-04-24 06:07:27 Hail: INFO: wrote matrix with 2000 rows and 2000 columns as 1 block of size 4096 to file:/tmp/hail.sVrGxaLZ4jVW/LZkHjoutCb.bm\n",
      "2020-04-24 06:07:27 Hail: INFO: wrote matrix with 2000 rows and 2000 columns as 1 block of size 4096 to file:/tmp/hail.sVrGxaLZ4jVW/OzmUT2URhj.bm\n",
      "2020-04-24 06:07:31 Hail: INFO: Ordering unsorted dataset with network shuffle\n",
      "2020-04-24 06:07:49 Hail: INFO: Coerced sorted dataset\n",
      "2020-04-24 06:08:03 Hail: INFO: wrote table with 1999000 rows in 1 partition to /tmp/tmp59utf6xf/pc_relate_result\n",
      "2020-04-24 06:08:03 Hail: INFO: balding_nichols_model: generating genotypes for 10 populations, 2000 samples, and 19000 variants...\n"
     ]
    },
    {
     "name": "stdout",
     "output_type": "stream",
     "text": [
      "Deleting pc_relate results: /tmp/tmp59utf6xf/pc_relate_result\n",
      "Deleting hail tmp dir: /tmp/hail.sVrGxaLZ4jVW\n"
     ]
    },
    {
     "name": "stderr",
     "output_type": "stream",
     "text": [
      "2020-04-24 06:08:03 Hail: INFO: Coerced sorted dataset\n",
      "2020-04-24 06:08:09 Hail: INFO: wrote matrix table with 19000 rows and 2000 columns in 8 partitions to /home/rav/data/tmp/mt_2000_19000_10.mt\n",
      "2020-04-24 06:08:10 Hail: INFO: hwe_normalized_pca: running PCA using 19000 variants.\n",
      "2020-04-24 06:08:11 Hail: INFO: pca: running PCA with 10 components...\n"
     ]
    },
    {
     "name": "stdout",
     "output_type": "stream",
     "text": [
      "PCA took s:2000, v:19000, p:10 : 13.03 seconds\n"
     ]
    },
    {
     "name": "stderr",
     "output_type": "stream",
     "text": [
      "2020-04-24 06:08:26 Hail: INFO: Wrote all 5 blocks of 19000 x 2000 matrix with block size 4096.\n",
      "2020-04-24 06:08:27 Hail: INFO: wrote matrix with 11 rows and 19000 columns as 5 blocks of size 4096 to file:/tmp/hail.sVrGxaLZ4jVW/FTrTKBPzXb.bm\n",
      "2020-04-24 06:08:27 Hail: INFO: wrote matrix with 19000 rows and 2000 columns as 5 blocks of size 4096 to file:/tmp/hail.sVrGxaLZ4jVW/gF7hKdNzPM.bm\n",
      "2020-04-24 06:08:28 Hail: INFO: wrote matrix with 19000 rows and 2000 columns as 5 blocks of size 4096 to file:/tmp/hail.sVrGxaLZ4jVW/54n4DcnW27.bm\n",
      "2020-04-24 06:08:44 Hail: INFO: wrote matrix with 2000 rows and 2000 columns as 1 block of size 4096 to file:/tmp/hail.sVrGxaLZ4jVW/NmSvHKXrad.bm\n",
      "2020-04-24 06:09:00 Hail: INFO: wrote matrix with 2000 rows and 2000 columns as 1 block of size 4096 to file:/tmp/hail.sVrGxaLZ4jVW/2tCoou2cxH.bm\n",
      "2020-04-24 06:09:00 Hail: INFO: wrote matrix with 2000 rows and 2000 columns as 1 block of size 4096 to file:/tmp/hail.sVrGxaLZ4jVW/HsknAGEXXv.bm\n",
      "2020-04-24 06:09:21 Hail: INFO: wrote matrix with 2000 rows and 2000 columns as 1 block of size 4096 to file:/tmp/hail.sVrGxaLZ4jVW/aZ7rzRXDK0.bm\n",
      "2020-04-24 06:09:36 Hail: INFO: wrote matrix with 2000 rows and 2000 columns as 1 block of size 4096 to file:/tmp/hail.sVrGxaLZ4jVW/T15bX32Yvp.bm\n",
      "2020-04-24 06:09:37 Hail: INFO: wrote matrix with 2000 rows and 2000 columns as 1 block of size 4096 to file:/tmp/hail.sVrGxaLZ4jVW/zcxKNErnG8.bm\n",
      "2020-04-24 06:09:55 Hail: INFO: wrote matrix with 2000 rows and 2000 columns as 1 block of size 4096 to file:/tmp/hail.sVrGxaLZ4jVW/WVWDNX28on.bm\n",
      "2020-04-24 06:10:13 Hail: INFO: wrote matrix with 2000 rows and 2000 columns as 1 block of size 4096 to file:/tmp/hail.sVrGxaLZ4jVW/wJuRetREog.bm\n",
      "2020-04-24 06:10:14 Hail: INFO: wrote matrix with 2000 rows and 2000 columns as 1 block of size 4096 to file:/tmp/hail.sVrGxaLZ4jVW/QDoYr7kETB.bm\n",
      "2020-04-24 06:10:17 Hail: INFO: Ordering unsorted dataset with network shuffle\n",
      "2020-04-24 06:10:36 Hail: INFO: Coerced sorted dataset\n",
      "2020-04-24 06:10:49 Hail: INFO: wrote table with 1999000 rows in 1 partition to /tmp/tmp5dsvfy57/pc_relate_result\n",
      "2020-04-24 06:10:49 Hail: INFO: balding_nichols_model: generating genotypes for 10 populations, 2000 samples, and 19500 variants...\n"
     ]
    },
    {
     "name": "stdout",
     "output_type": "stream",
     "text": [
      "Deleting pc_relate results: /tmp/tmp5dsvfy57/pc_relate_result\n",
      "Deleting hail tmp dir: /tmp/hail.sVrGxaLZ4jVW\n"
     ]
    },
    {
     "name": "stderr",
     "output_type": "stream",
     "text": [
      "2020-04-24 06:10:49 Hail: INFO: Coerced sorted dataset\n",
      "2020-04-24 06:10:55 Hail: INFO: wrote matrix table with 19500 rows and 2000 columns in 8 partitions to /home/rav/data/tmp/mt_2000_19500_10.mt\n",
      "2020-04-24 06:10:56 Hail: INFO: hwe_normalized_pca: running PCA using 19500 variants.\n",
      "2020-04-24 06:10:57 Hail: INFO: pca: running PCA with 10 components...\n"
     ]
    },
    {
     "name": "stdout",
     "output_type": "stream",
     "text": [
      "PCA took s:2000, v:19500, p:10 : 14.35 seconds\n"
     ]
    },
    {
     "name": "stderr",
     "output_type": "stream",
     "text": [
      "2020-04-24 06:11:14 Hail: INFO: Wrote all 5 blocks of 19500 x 2000 matrix with block size 4096.\n",
      "2020-04-24 06:11:14 Hail: INFO: wrote matrix with 11 rows and 19500 columns as 5 blocks of size 4096 to file:/tmp/hail.sVrGxaLZ4jVW/6wkbXh39XT.bm\n",
      "2020-04-24 06:11:15 Hail: INFO: wrote matrix with 19500 rows and 2000 columns as 5 blocks of size 4096 to file:/tmp/hail.sVrGxaLZ4jVW/phz4E7dacU.bm\n",
      "2020-04-24 06:11:15 Hail: INFO: wrote matrix with 19500 rows and 2000 columns as 5 blocks of size 4096 to file:/tmp/hail.sVrGxaLZ4jVW/SWnn2JRc80.bm\n",
      "2020-04-24 06:11:32 Hail: INFO: wrote matrix with 2000 rows and 2000 columns as 1 block of size 4096 to file:/tmp/hail.sVrGxaLZ4jVW/b7xlPwbTMy.bm\n",
      "2020-04-24 06:11:48 Hail: INFO: wrote matrix with 2000 rows and 2000 columns as 1 block of size 4096 to file:/tmp/hail.sVrGxaLZ4jVW/zJs7yE9Zo2.bm\n",
      "2020-04-24 06:11:49 Hail: INFO: wrote matrix with 2000 rows and 2000 columns as 1 block of size 4096 to file:/tmp/hail.sVrGxaLZ4jVW/WQWWLOVTH1.bm\n",
      "2020-04-24 06:12:10 Hail: INFO: wrote matrix with 2000 rows and 2000 columns as 1 block of size 4096 to file:/tmp/hail.sVrGxaLZ4jVW/T6hRH1IiTK.bm\n",
      "2020-04-24 06:12:26 Hail: INFO: wrote matrix with 2000 rows and 2000 columns as 1 block of size 4096 to file:/tmp/hail.sVrGxaLZ4jVW/3O31axu8Ao.bm\n",
      "2020-04-24 06:12:26 Hail: INFO: wrote matrix with 2000 rows and 2000 columns as 1 block of size 4096 to file:/tmp/hail.sVrGxaLZ4jVW/ptXpJq44hu.bm\n",
      "2020-04-24 06:12:45 Hail: INFO: wrote matrix with 2000 rows and 2000 columns as 1 block of size 4096 to file:/tmp/hail.sVrGxaLZ4jVW/evGQ7qiszX.bm\n",
      "2020-04-24 06:13:03 Hail: INFO: wrote matrix with 2000 rows and 2000 columns as 1 block of size 4096 to file:/tmp/hail.sVrGxaLZ4jVW/RL0Ip6jWwk.bm\n",
      "2020-04-24 06:13:03 Hail: INFO: wrote matrix with 2000 rows and 2000 columns as 1 block of size 4096 to file:/tmp/hail.sVrGxaLZ4jVW/BlKlypgveq.bm\n",
      "2020-04-24 06:13:07 Hail: INFO: Ordering unsorted dataset with network shuffle\n",
      "2020-04-24 06:13:25 Hail: INFO: Coerced sorted dataset\n",
      "2020-04-24 06:13:39 Hail: INFO: wrote table with 1999000 rows in 1 partition to /tmp/tmp8w5pptvk/pc_relate_result\n",
      "2020-04-24 06:13:39 Hail: INFO: balding_nichols_model: generating genotypes for 10 populations, 2000 samples, and 20000 variants...\n"
     ]
    },
    {
     "name": "stdout",
     "output_type": "stream",
     "text": [
      "Deleting pc_relate results: /tmp/tmp8w5pptvk/pc_relate_result\n",
      "Deleting hail tmp dir: /tmp/hail.sVrGxaLZ4jVW\n"
     ]
    },
    {
     "name": "stderr",
     "output_type": "stream",
     "text": [
      "2020-04-24 06:13:39 Hail: INFO: Coerced sorted dataset\n",
      "2020-04-24 06:13:45 Hail: INFO: wrote matrix table with 20000 rows and 2000 columns in 8 partitions to /home/rav/data/tmp/mt_2000_20000_10.mt\n",
      "2020-04-24 06:13:46 Hail: INFO: hwe_normalized_pca: running PCA using 20000 variants.\n",
      "2020-04-24 06:13:47 Hail: INFO: pca: running PCA with 10 components...\n"
     ]
    },
    {
     "name": "stdout",
     "output_type": "stream",
     "text": [
      "PCA took s:2000, v:20000, p:10 : 17.53 seconds\n"
     ]
    },
    {
     "name": "stderr",
     "output_type": "stream",
     "text": [
      "2020-04-24 06:14:06 Hail: INFO: Wrote all 5 blocks of 20000 x 2000 matrix with block size 4096.\n",
      "2020-04-24 06:14:07 Hail: INFO: wrote matrix with 11 rows and 20000 columns as 5 blocks of size 4096 to file:/tmp/hail.sVrGxaLZ4jVW/xvRDav5RKk.bm\n",
      "2020-04-24 06:14:07 Hail: INFO: wrote matrix with 20000 rows and 2000 columns as 5 blocks of size 4096 to file:/tmp/hail.sVrGxaLZ4jVW/MAhBor4i0r.bm\n",
      "2020-04-24 06:14:08 Hail: INFO: wrote matrix with 20000 rows and 2000 columns as 5 blocks of size 4096 to file:/tmp/hail.sVrGxaLZ4jVW/Cm7X9vVciy.bm\n",
      "2020-04-24 06:14:25 Hail: INFO: wrote matrix with 2000 rows and 2000 columns as 1 block of size 4096 to file:/tmp/hail.sVrGxaLZ4jVW/pvc2EI5iZm.bm\n",
      "2020-04-24 06:14:42 Hail: INFO: wrote matrix with 2000 rows and 2000 columns as 1 block of size 4096 to file:/tmp/hail.sVrGxaLZ4jVW/lwWt7sP8SD.bm\n",
      "2020-04-24 06:14:42 Hail: INFO: wrote matrix with 2000 rows and 2000 columns as 1 block of size 4096 to file:/tmp/hail.sVrGxaLZ4jVW/3KFczzRezT.bm\n",
      "2020-04-24 06:15:04 Hail: INFO: wrote matrix with 2000 rows and 2000 columns as 1 block of size 4096 to file:/tmp/hail.sVrGxaLZ4jVW/ryz2H084O6.bm\n",
      "2020-04-24 06:15:20 Hail: INFO: wrote matrix with 2000 rows and 2000 columns as 1 block of size 4096 to file:/tmp/hail.sVrGxaLZ4jVW/0kTxu9jwKz.bm\n",
      "2020-04-24 06:15:21 Hail: INFO: wrote matrix with 2000 rows and 2000 columns as 1 block of size 4096 to file:/tmp/hail.sVrGxaLZ4jVW/pi16Fxf1c1.bm\n",
      "2020-04-24 06:15:40 Hail: INFO: wrote matrix with 2000 rows and 2000 columns as 1 block of size 4096 to file:/tmp/hail.sVrGxaLZ4jVW/xkig6JgLOT.bm\n",
      "2020-04-24 06:15:59 Hail: INFO: wrote matrix with 2000 rows and 2000 columns as 1 block of size 4096 to file:/tmp/hail.sVrGxaLZ4jVW/1hfGcBTgxg.bm\n",
      "2020-04-24 06:15:59 Hail: INFO: wrote matrix with 2000 rows and 2000 columns as 1 block of size 4096 to file:/tmp/hail.sVrGxaLZ4jVW/uVKSHjDUT9.bm\n",
      "2020-04-24 06:16:03 Hail: INFO: Ordering unsorted dataset with network shuffle\n",
      "2020-04-24 06:16:21 Hail: INFO: Coerced sorted dataset\n"
     ]
    },
    {
     "name": "stdout",
     "output_type": "stream",
     "text": [
      "Deleting pc_relate results: /tmp/tmp0h0cigug/pc_relate_result\n",
      "Deleting hail tmp dir: /tmp/hail.sVrGxaLZ4jVW\n"
     ]
    },
    {
     "name": "stderr",
     "output_type": "stream",
     "text": [
      "2020-04-24 06:16:35 Hail: INFO: wrote table with 1999000 rows in 1 partition to /tmp/tmp0h0cigug/pc_relate_result\n"
     ]
    }
   ],
   "source": [
    "# Fixed samples = 10k\n",
    "for i in range(1000, 20001, 500):\n",
    "    samples = 2000\n",
    "    variants = i\n",
    "    do_experiment(\"simple_fixed_samples_20k_cpu_8_ram_31\", samples=samples, variants=variants, populations=10)"
   ]
  },
  {
   "cell_type": "code",
   "execution_count": 5,
   "metadata": {
    "scrolled": true
   },
   "outputs": [
    {
     "name": "stderr",
     "output_type": "stream",
     "text": [
      "2020-04-24 11:57:44 Hail: INFO: hwe_normalized_pca: running PCA using 2000 variants.\n",
      "2020-04-24 11:57:48 Hail: INFO: pca: running PCA with 10 components...\n"
     ]
    },
    {
     "name": "stdout",
     "output_type": "stream",
     "text": [
      "PCA took s:9000, v:2000, p:10 : 26.93 seconds\n"
     ]
    },
    {
     "name": "stderr",
     "output_type": "stream",
     "text": [
      "2020-04-24 11:58:12 Hail: INFO: Wrote all 3 blocks of 2000 x 9000 matrix with block size 4096.\n",
      "2020-04-24 11:58:14 Hail: INFO: wrote matrix with 11 rows and 2000 columns as 1 block of size 4096 to file:/tmp/hail.ocbgR3r85To4/tCfpvOXmRO.bm\n",
      "2020-04-24 11:58:15 Hail: INFO: wrote matrix with 2000 rows and 9000 columns as 3 blocks of size 4096 to file:/tmp/hail.ocbgR3r85To4/K0yIAVqSUI.bm\n",
      "2020-04-24 11:58:15 Hail: INFO: wrote matrix with 2000 rows and 9000 columns as 3 blocks of size 4096 to file:/tmp/hail.ocbgR3r85To4/wBpZxBLpAL.bm\n",
      "2020-04-24 11:58:25 Hail: INFO: wrote matrix with 9000 rows and 9000 columns as 9 blocks of size 4096 to file:/tmp/hail.ocbgR3r85To4/2djeX8E9I9.bm\n",
      "2020-04-24 11:58:34 Hail: INFO: wrote matrix with 9000 rows and 9000 columns as 9 blocks of size 4096 to file:/tmp/hail.ocbgR3r85To4/HML5FML6LM.bm\n",
      "2020-04-24 11:58:35 Hail: INFO: wrote matrix with 9000 rows and 9000 columns as 9 blocks of size 4096 to file:/tmp/hail.ocbgR3r85To4/qCQCcFJ0hz.bm\n",
      "2020-04-24 11:58:46 Hail: INFO: wrote matrix with 9000 rows and 9000 columns as 9 blocks of size 4096 to file:/tmp/hail.ocbgR3r85To4/5kGrwD6Kn5.bm\n",
      "2020-04-24 11:58:55 Hail: INFO: wrote matrix with 9000 rows and 9000 columns as 9 blocks of size 4096 to file:/tmp/hail.ocbgR3r85To4/h54Kt6WvtX.bm\n",
      "2020-04-24 11:58:56 Hail: INFO: wrote matrix with 9000 rows and 9000 columns as 9 blocks of size 4096 to file:/tmp/hail.ocbgR3r85To4/UlnN1qkcuq.bm\n",
      "2020-04-24 11:59:08 Hail: INFO: wrote matrix with 9000 rows and 9000 columns as 9 blocks of size 4096 to file:/tmp/hail.ocbgR3r85To4/uFBIViqfgD.bm\n",
      "2020-04-24 11:59:18 Hail: INFO: wrote matrix with 9000 rows and 9000 columns as 9 blocks of size 4096 to file:/tmp/hail.ocbgR3r85To4/BcMzkOWkjg.bm\n",
      "2020-04-24 11:59:22 Hail: INFO: wrote matrix with 9000 rows and 9000 columns as 9 blocks of size 4096 to file:/tmp/hail.ocbgR3r85To4/dLn7TtV5Hc.bm\n",
      "2020-04-24 12:00:19 Hail: INFO: Ordering unsorted dataset with network shuffle\n"
     ]
    },
    {
     "name": "stdout",
     "output_type": "stream",
     "text": [
      "Result row count: 40495500\n",
      "Deleting hail tmp dir: /tmp/hail.ocbgR3r85To4\n"
     ]
    },
    {
     "name": "stderr",
     "output_type": "stream",
     "text": [
      "2020-04-24 12:03:06 Hail: INFO: balding_nichols_model: generating genotypes for 10 populations, 9500 samples, and 2000 variants...\n",
      "2020-04-24 12:03:07 Hail: INFO: Coerced sorted dataset\n",
      "2020-04-24 12:03:13 Hail: INFO: wrote matrix table with 2000 rows and 9500 columns in 8 partitions to /home/rav/data/tmp/mt_9500_2000_10.mt\n",
      "2020-04-24 12:03:13 Hail: INFO: hwe_normalized_pca: running PCA using 2000 variants.\n",
      "2020-04-24 12:03:15 Hail: INFO: pca: running PCA with 10 components...\n"
     ]
    },
    {
     "name": "stdout",
     "output_type": "stream",
     "text": [
      "PCA took s:9500, v:2000, p:10 : 13.85 seconds\n"
     ]
    },
    {
     "name": "stderr",
     "output_type": "stream",
     "text": [
      "2020-04-24 12:03:32 Hail: INFO: Wrote all 3 blocks of 2000 x 9500 matrix with block size 4096.\n",
      "2020-04-24 12:03:34 Hail: INFO: wrote matrix with 11 rows and 2000 columns as 1 block of size 4096 to file:/tmp/hail.ocbgR3r85To4/Zk0o0pJbIE.bm\n",
      "2020-04-24 12:03:35 Hail: INFO: wrote matrix with 2000 rows and 9500 columns as 3 blocks of size 4096 to file:/tmp/hail.ocbgR3r85To4/lARDHzG1SQ.bm\n",
      "2020-04-24 12:03:35 Hail: INFO: wrote matrix with 2000 rows and 9500 columns as 3 blocks of size 4096 to file:/tmp/hail.ocbgR3r85To4/DgiWjRH6Kc.bm\n",
      "2020-04-24 12:03:45 Hail: INFO: wrote matrix with 9500 rows and 9500 columns as 9 blocks of size 4096 to file:/tmp/hail.ocbgR3r85To4/qN8El07oHs.bm\n",
      "2020-04-24 12:03:56 Hail: INFO: wrote matrix with 9500 rows and 9500 columns as 9 blocks of size 4096 to file:/tmp/hail.ocbgR3r85To4/jSe1EyzC51.bm\n",
      "2020-04-24 12:03:57 Hail: INFO: wrote matrix with 9500 rows and 9500 columns as 9 blocks of size 4096 to file:/tmp/hail.ocbgR3r85To4/b8iKhdgest.bm\n",
      "2020-04-24 12:04:09 Hail: INFO: wrote matrix with 9500 rows and 9500 columns as 9 blocks of size 4096 to file:/tmp/hail.ocbgR3r85To4/TcUbT95z3g.bm\n",
      "2020-04-24 12:04:19 Hail: INFO: wrote matrix with 9500 rows and 9500 columns as 9 blocks of size 4096 to file:/tmp/hail.ocbgR3r85To4/mxS2EwlowM.bm\n",
      "2020-04-24 12:04:20 Hail: INFO: wrote matrix with 9500 rows and 9500 columns as 9 blocks of size 4096 to file:/tmp/hail.ocbgR3r85To4/C5ErTYJc2R.bm\n",
      "2020-04-24 12:04:31 Hail: INFO: wrote matrix with 9500 rows and 9500 columns as 9 blocks of size 4096 to file:/tmp/hail.ocbgR3r85To4/kVyBS0o81r.bm\n",
      "2020-04-24 12:04:42 Hail: INFO: wrote matrix with 9500 rows and 9500 columns as 9 blocks of size 4096 to file:/tmp/hail.ocbgR3r85To4/SGtUrCrZp7.bm\n",
      "2020-04-24 12:04:45 Hail: INFO: wrote matrix with 9500 rows and 9500 columns as 9 blocks of size 4096 to file:/tmp/hail.ocbgR3r85To4/1Rj7KfRP4C.bm\n",
      "2020-04-24 12:05:31 Hail: INFO: Ordering unsorted dataset with network shuffle\n"
     ]
    },
    {
     "name": "stdout",
     "output_type": "stream",
     "text": [
      "Result row count: 45120250\n",
      "Deleting hail tmp dir: /tmp/hail.ocbgR3r85To4\n"
     ]
    },
    {
     "name": "stderr",
     "output_type": "stream",
     "text": [
      "2020-04-24 12:08:14 Hail: INFO: balding_nichols_model: generating genotypes for 10 populations, 10000 samples, and 2000 variants...\n",
      "2020-04-24 12:08:15 Hail: INFO: Coerced sorted dataset\n",
      "2020-04-24 12:08:20 Hail: INFO: wrote matrix table with 2000 rows and 10000 columns in 8 partitions to /home/rav/data/tmp/mt_10000_2000_10.mt\n",
      "2020-04-24 12:08:20 Hail: INFO: hwe_normalized_pca: running PCA using 2000 variants.\n",
      "2020-04-24 12:08:22 Hail: INFO: pca: running PCA with 10 components...\n"
     ]
    },
    {
     "name": "stdout",
     "output_type": "stream",
     "text": [
      "PCA took s:10000, v:2000, p:10 : 15.44 seconds\n"
     ]
    },
    {
     "name": "stderr",
     "output_type": "stream",
     "text": [
      "2020-04-24 12:08:41 Hail: INFO: Wrote all 3 blocks of 2000 x 10000 matrix with block size 4096.\n",
      "2020-04-24 12:08:42 Hail: INFO: wrote matrix with 11 rows and 2000 columns as 1 block of size 4096 to file:/tmp/hail.ocbgR3r85To4/ibXbic7WrA.bm\n",
      "2020-04-24 12:08:43 Hail: INFO: wrote matrix with 2000 rows and 10000 columns as 3 blocks of size 4096 to file:/tmp/hail.ocbgR3r85To4/2quBxrxPNU.bm\n",
      "2020-04-24 12:08:43 Hail: INFO: wrote matrix with 2000 rows and 10000 columns as 3 blocks of size 4096 to file:/tmp/hail.ocbgR3r85To4/0KJ3WFw29a.bm\n",
      "2020-04-24 12:08:55 Hail: INFO: wrote matrix with 10000 rows and 10000 columns as 9 blocks of size 4096 to file:/tmp/hail.ocbgR3r85To4/xbwGFgjdOj.bm\n",
      "2020-04-24 12:09:06 Hail: INFO: wrote matrix with 10000 rows and 10000 columns as 9 blocks of size 4096 to file:/tmp/hail.ocbgR3r85To4/ZiLxKJePDa.bm\n",
      "2020-04-24 12:09:08 Hail: INFO: wrote matrix with 10000 rows and 10000 columns as 9 blocks of size 4096 to file:/tmp/hail.ocbgR3r85To4/HsjldXcB6c.bm\n",
      "2020-04-24 12:09:21 Hail: INFO: wrote matrix with 10000 rows and 10000 columns as 9 blocks of size 4096 to file:/tmp/hail.ocbgR3r85To4/LVHnIqXSon.bm\n",
      "2020-04-24 12:09:33 Hail: INFO: wrote matrix with 10000 rows and 10000 columns as 9 blocks of size 4096 to file:/tmp/hail.ocbgR3r85To4/YwZS2hLaPV.bm\n",
      "2020-04-24 12:09:34 Hail: INFO: wrote matrix with 10000 rows and 10000 columns as 9 blocks of size 4096 to file:/tmp/hail.ocbgR3r85To4/Ti6ZDaAljE.bm\n",
      "2020-04-24 12:09:47 Hail: INFO: wrote matrix with 10000 rows and 10000 columns as 9 blocks of size 4096 to file:/tmp/hail.ocbgR3r85To4/mzA5x4tlRM.bm\n",
      "2020-04-24 12:09:59 Hail: INFO: wrote matrix with 10000 rows and 10000 columns as 9 blocks of size 4096 to file:/tmp/hail.ocbgR3r85To4/ZQiRMVC6bq.bm\n",
      "2020-04-24 12:10:04 Hail: INFO: wrote matrix with 10000 rows and 10000 columns as 9 blocks of size 4096 to file:/tmp/hail.ocbgR3r85To4/S35qhWAgax.bm\n",
      "2020-04-24 12:10:58 Hail: INFO: Ordering unsorted dataset with network shuffle\n"
     ]
    },
    {
     "name": "stdout",
     "output_type": "stream",
     "text": [
      "Result row count: 49995000\n",
      "Deleting hail tmp dir: /tmp/hail.ocbgR3r85To4\n"
     ]
    },
    {
     "name": "stderr",
     "output_type": "stream",
     "text": [
      "2020-04-24 12:13:39 Hail: INFO: balding_nichols_model: generating genotypes for 10 populations, 10500 samples, and 2000 variants...\n",
      "2020-04-24 12:13:40 Hail: INFO: Coerced sorted dataset\n",
      "2020-04-24 12:13:47 Hail: INFO: wrote matrix table with 2000 rows and 10500 columns in 8 partitions to /home/rav/data/tmp/mt_10500_2000_10.mt\n",
      "2020-04-24 12:13:48 Hail: INFO: hwe_normalized_pca: running PCA using 2000 variants.\n",
      "2020-04-24 12:13:50 Hail: INFO: pca: running PCA with 10 components...\n"
     ]
    },
    {
     "name": "stdout",
     "output_type": "stream",
     "text": [
      "PCA took s:10500, v:2000, p:10 : 14.83 seconds\n"
     ]
    },
    {
     "name": "stderr",
     "output_type": "stream",
     "text": [
      "2020-04-24 12:14:08 Hail: INFO: Wrote all 3 blocks of 2000 x 10500 matrix with block size 4096.\n",
      "2020-04-24 12:14:10 Hail: INFO: wrote matrix with 11 rows and 2000 columns as 1 block of size 4096 to file:/tmp/hail.ocbgR3r85To4/AbQOgfzp63.bm\n",
      "2020-04-24 12:14:10 Hail: INFO: wrote matrix with 2000 rows and 10500 columns as 3 blocks of size 4096 to file:/tmp/hail.ocbgR3r85To4/udrPWg4MQU.bm\n",
      "2020-04-24 12:14:11 Hail: INFO: wrote matrix with 2000 rows and 10500 columns as 3 blocks of size 4096 to file:/tmp/hail.ocbgR3r85To4/ro9mps38NV.bm\n",
      "2020-04-24 12:14:23 Hail: INFO: wrote matrix with 10500 rows and 10500 columns as 9 blocks of size 4096 to file:/tmp/hail.ocbgR3r85To4/yWDYkPsVda.bm\n",
      "2020-04-24 12:14:36 Hail: INFO: wrote matrix with 10500 rows and 10500 columns as 9 blocks of size 4096 to file:/tmp/hail.ocbgR3r85To4/casuGt07OS.bm\n",
      "2020-04-24 12:14:37 Hail: INFO: wrote matrix with 10500 rows and 10500 columns as 9 blocks of size 4096 to file:/tmp/hail.ocbgR3r85To4/i0rfle1kpc.bm\n",
      "2020-04-24 12:14:52 Hail: INFO: wrote matrix with 10500 rows and 10500 columns as 9 blocks of size 4096 to file:/tmp/hail.ocbgR3r85To4/opYROc15MP.bm\n",
      "2020-04-24 12:15:05 Hail: INFO: wrote matrix with 10500 rows and 10500 columns as 9 blocks of size 4096 to file:/tmp/hail.ocbgR3r85To4/UfwuYVl5U0.bm\n",
      "2020-04-24 12:15:07 Hail: INFO: wrote matrix with 10500 rows and 10500 columns as 9 blocks of size 4096 to file:/tmp/hail.ocbgR3r85To4/4mUrqMwFsM.bm\n",
      "2020-04-24 12:15:20 Hail: INFO: wrote matrix with 10500 rows and 10500 columns as 9 blocks of size 4096 to file:/tmp/hail.ocbgR3r85To4/5nGDnaeF1e.bm\n",
      "2020-04-24 12:15:34 Hail: INFO: wrote matrix with 10500 rows and 10500 columns as 9 blocks of size 4096 to file:/tmp/hail.ocbgR3r85To4/SAFVCcGSTL.bm\n",
      "2020-04-24 12:15:40 Hail: INFO: wrote matrix with 10500 rows and 10500 columns as 9 blocks of size 4096 to file:/tmp/hail.ocbgR3r85To4/3fyGK5Bcdk.bm\n",
      "ERROR:root:Exception while sending command.\n",
      "Traceback (most recent call last):\n",
      "  File \"/opt/conda/envs/gwas/lib/python3.7/site-packages/py4j/java_gateway.py\", line 1159, in send_command\n",
      "    raise Py4JNetworkError(\"Answer from Java side is empty\")\n",
      "py4j.protocol.Py4JNetworkError: Answer from Java side is empty\n",
      "\n",
      "During handling of the above exception, another exception occurred:\n",
      "\n",
      "Traceback (most recent call last):\n",
      "  File \"/opt/conda/envs/gwas/lib/python3.7/site-packages/py4j/java_gateway.py\", line 985, in send_command\n",
      "    response = connection.send_command(command)\n",
      "  File \"/opt/conda/envs/gwas/lib/python3.7/site-packages/py4j/java_gateway.py\", line 1164, in send_command\n",
      "    \"Error while receiving\", e, proto.ERROR_ON_RECEIVE)\n",
      "py4j.protocol.Py4JNetworkError: Error while receiving\n"
     ]
    },
    {
     "name": "stdout",
     "output_type": "stream",
     "text": [
      "Deleting hail tmp dir: /tmp/hail.ocbgR3r85To4\n"
     ]
    },
    {
     "ename": "Py4JError",
     "evalue": "An error occurred while calling o391.executeJSON",
     "output_type": "error",
     "traceback": [
      "\u001b[0;31m---------------------------------------------------------------------------\u001b[0m",
      "\u001b[0;31mPy4JError\u001b[0m                                 Traceback (most recent call last)",
      "\u001b[0;32m<ipython-input-5-76a50ffa72bd>\u001b[0m in \u001b[0;36m<module>\u001b[0;34m\u001b[0m\n\u001b[1;32m      3\u001b[0m     \u001b[0msamples\u001b[0m \u001b[0;34m=\u001b[0m \u001b[0mi\u001b[0m\u001b[0;34m\u001b[0m\u001b[0;34m\u001b[0m\u001b[0m\n\u001b[1;32m      4\u001b[0m     \u001b[0mvariants\u001b[0m \u001b[0;34m=\u001b[0m \u001b[0;36m2000\u001b[0m\u001b[0;34m\u001b[0m\u001b[0;34m\u001b[0m\u001b[0m\n\u001b[0;32m----> 5\u001b[0;31m     \u001b[0mdo_experiment\u001b[0m\u001b[0;34m(\u001b[0m\u001b[0;34m\"simple_fixed_variants_2k_cpu_8_ram_31\"\u001b[0m\u001b[0;34m,\u001b[0m \u001b[0msamples\u001b[0m\u001b[0;34m=\u001b[0m\u001b[0msamples\u001b[0m\u001b[0;34m,\u001b[0m \u001b[0mvariants\u001b[0m\u001b[0;34m=\u001b[0m\u001b[0mvariants\u001b[0m\u001b[0;34m,\u001b[0m \u001b[0mpopulations\u001b[0m\u001b[0;34m=\u001b[0m\u001b[0;36m10\u001b[0m\u001b[0;34m)\u001b[0m\u001b[0;34m\u001b[0m\u001b[0;34m\u001b[0m\u001b[0m\n\u001b[0m",
      "\u001b[0;32m<ipython-input-4-c3166d9bd4a4>\u001b[0m in \u001b[0;36mdo_experiment\u001b[0;34m(experiment_name, samples, variants, populations)\u001b[0m\n\u001b[1;32m     17\u001b[0m             \u001b[0mstart\u001b[0m \u001b[0;34m=\u001b[0m \u001b[0mtime\u001b[0m\u001b[0;34m.\u001b[0m\u001b[0mtime\u001b[0m\u001b[0;34m(\u001b[0m\u001b[0;34m)\u001b[0m\u001b[0;34m\u001b[0m\u001b[0;34m\u001b[0m\u001b[0m\n\u001b[1;32m     18\u001b[0m             \u001b[0mpc_relate_result\u001b[0m \u001b[0;34m=\u001b[0m \u001b[0mhl\u001b[0m\u001b[0;34m.\u001b[0m\u001b[0mmethods\u001b[0m\u001b[0;34m.\u001b[0m\u001b[0mpc_relate\u001b[0m\u001b[0;34m(\u001b[0m\u001b[0mmt\u001b[0m\u001b[0;34m.\u001b[0m\u001b[0mGT\u001b[0m\u001b[0;34m,\u001b[0m \u001b[0mscores_expr\u001b[0m\u001b[0;34m=\u001b[0m\u001b[0mscores\u001b[0m\u001b[0;34m[\u001b[0m\u001b[0mmt\u001b[0m\u001b[0;34m.\u001b[0m\u001b[0mcol_key\u001b[0m\u001b[0;34m]\u001b[0m\u001b[0;34m.\u001b[0m\u001b[0mscores\u001b[0m\u001b[0;34m,\u001b[0m \u001b[0mmin_individual_maf\u001b[0m\u001b[0;34m=\u001b[0m\u001b[0;36m0.01\u001b[0m\u001b[0;34m)\u001b[0m\u001b[0;34m\u001b[0m\u001b[0;34m\u001b[0m\u001b[0m\n\u001b[0;32m---> 19\u001b[0;31m             \u001b[0mn_rows\u001b[0m \u001b[0;34m=\u001b[0m \u001b[0mpc_relate_result\u001b[0m\u001b[0;34m.\u001b[0m\u001b[0mcount\u001b[0m\u001b[0;34m(\u001b[0m\u001b[0;34m)\u001b[0m\u001b[0;34m\u001b[0m\u001b[0;34m\u001b[0m\u001b[0m\n\u001b[0m\u001b[1;32m     20\u001b[0m             \u001b[0mprint\u001b[0m\u001b[0;34m(\u001b[0m\u001b[0;34mf\"Result row count: {n_rows}\"\u001b[0m\u001b[0;34m)\u001b[0m\u001b[0;34m\u001b[0m\u001b[0;34m\u001b[0m\u001b[0m\n\u001b[1;32m     21\u001b[0m             \u001b[0mpc_relate_time\u001b[0m \u001b[0;34m=\u001b[0m \u001b[0mtime\u001b[0m\u001b[0;34m.\u001b[0m\u001b[0mtime\u001b[0m\u001b[0;34m(\u001b[0m\u001b[0;34m)\u001b[0m \u001b[0;34m-\u001b[0m \u001b[0mstart\u001b[0m\u001b[0;34m\u001b[0m\u001b[0;34m\u001b[0m\u001b[0m\n",
      "\u001b[0;32m/opt/conda/envs/gwas/lib/python3.7/site-packages/hail/table.py\u001b[0m in \u001b[0;36mcount\u001b[0;34m(self)\u001b[0m\n\u001b[1;32m    420\u001b[0m         \u001b[0;34m:\u001b[0m\u001b[0mobj\u001b[0m\u001b[0;34m:\u001b[0m\u001b[0;31m`\u001b[0m\u001b[0mint\u001b[0m\u001b[0;31m`\u001b[0m\u001b[0;34m\u001b[0m\u001b[0;34m\u001b[0m\u001b[0m\n\u001b[1;32m    421\u001b[0m         \"\"\"\n\u001b[0;32m--> 422\u001b[0;31m         \u001b[0;32mreturn\u001b[0m \u001b[0mEnv\u001b[0m\u001b[0;34m.\u001b[0m\u001b[0mbackend\u001b[0m\u001b[0;34m(\u001b[0m\u001b[0;34m)\u001b[0m\u001b[0;34m.\u001b[0m\u001b[0mexecute\u001b[0m\u001b[0;34m(\u001b[0m\u001b[0mTableCount\u001b[0m\u001b[0;34m(\u001b[0m\u001b[0mself\u001b[0m\u001b[0;34m.\u001b[0m\u001b[0m_tir\u001b[0m\u001b[0;34m)\u001b[0m\u001b[0;34m)\u001b[0m\u001b[0;34m\u001b[0m\u001b[0;34m\u001b[0m\u001b[0m\n\u001b[0m\u001b[1;32m    423\u001b[0m \u001b[0;34m\u001b[0m\u001b[0m\n\u001b[1;32m    424\u001b[0m     \u001b[0;32mdef\u001b[0m \u001b[0m_force_count\u001b[0m\u001b[0;34m(\u001b[0m\u001b[0mself\u001b[0m\u001b[0;34m)\u001b[0m\u001b[0;34m:\u001b[0m\u001b[0;34m\u001b[0m\u001b[0;34m\u001b[0m\u001b[0m\n",
      "\u001b[0;32m/opt/conda/envs/gwas/lib/python3.7/site-packages/hail/backend/backend.py\u001b[0m in \u001b[0;36mexecute\u001b[0;34m(self, ir, timed)\u001b[0m\n\u001b[1;32m    107\u001b[0m \u001b[0;34m\u001b[0m\u001b[0m\n\u001b[1;32m    108\u001b[0m     \u001b[0;32mdef\u001b[0m \u001b[0mexecute\u001b[0m\u001b[0;34m(\u001b[0m\u001b[0mself\u001b[0m\u001b[0;34m,\u001b[0m \u001b[0mir\u001b[0m\u001b[0;34m,\u001b[0m \u001b[0mtimed\u001b[0m\u001b[0;34m=\u001b[0m\u001b[0;32mFalse\u001b[0m\u001b[0;34m)\u001b[0m\u001b[0;34m:\u001b[0m\u001b[0;34m\u001b[0m\u001b[0;34m\u001b[0m\u001b[0m\n\u001b[0;32m--> 109\u001b[0;31m         \u001b[0mresult\u001b[0m \u001b[0;34m=\u001b[0m \u001b[0mjson\u001b[0m\u001b[0;34m.\u001b[0m\u001b[0mloads\u001b[0m\u001b[0;34m(\u001b[0m\u001b[0mEnv\u001b[0m\u001b[0;34m.\u001b[0m\u001b[0mhc\u001b[0m\u001b[0;34m(\u001b[0m\u001b[0;34m)\u001b[0m\u001b[0;34m.\u001b[0m\u001b[0m_jhc\u001b[0m\u001b[0;34m.\u001b[0m\u001b[0mbackend\u001b[0m\u001b[0;34m(\u001b[0m\u001b[0;34m)\u001b[0m\u001b[0;34m.\u001b[0m\u001b[0mexecuteJSON\u001b[0m\u001b[0;34m(\u001b[0m\u001b[0mself\u001b[0m\u001b[0;34m.\u001b[0m\u001b[0m_to_java_ir\u001b[0m\u001b[0;34m(\u001b[0m\u001b[0mir\u001b[0m\u001b[0;34m)\u001b[0m\u001b[0;34m)\u001b[0m\u001b[0;34m)\u001b[0m\u001b[0;34m\u001b[0m\u001b[0;34m\u001b[0m\u001b[0m\n\u001b[0m\u001b[1;32m    110\u001b[0m         \u001b[0mvalue\u001b[0m \u001b[0;34m=\u001b[0m \u001b[0mir\u001b[0m\u001b[0;34m.\u001b[0m\u001b[0mtyp\u001b[0m\u001b[0;34m.\u001b[0m\u001b[0m_from_json\u001b[0m\u001b[0;34m(\u001b[0m\u001b[0mresult\u001b[0m\u001b[0;34m[\u001b[0m\u001b[0;34m'value'\u001b[0m\u001b[0;34m]\u001b[0m\u001b[0;34m)\u001b[0m\u001b[0;34m\u001b[0m\u001b[0;34m\u001b[0m\u001b[0m\n\u001b[1;32m    111\u001b[0m         \u001b[0mtimings\u001b[0m \u001b[0;34m=\u001b[0m \u001b[0mresult\u001b[0m\u001b[0;34m[\u001b[0m\u001b[0;34m'timings'\u001b[0m\u001b[0;34m]\u001b[0m\u001b[0;34m\u001b[0m\u001b[0;34m\u001b[0m\u001b[0m\n",
      "\u001b[0;32m/opt/conda/envs/gwas/lib/python3.7/site-packages/py4j/java_gateway.py\u001b[0m in \u001b[0;36m__call__\u001b[0;34m(self, *args)\u001b[0m\n\u001b[1;32m   1255\u001b[0m         \u001b[0manswer\u001b[0m \u001b[0;34m=\u001b[0m \u001b[0mself\u001b[0m\u001b[0;34m.\u001b[0m\u001b[0mgateway_client\u001b[0m\u001b[0;34m.\u001b[0m\u001b[0msend_command\u001b[0m\u001b[0;34m(\u001b[0m\u001b[0mcommand\u001b[0m\u001b[0;34m)\u001b[0m\u001b[0;34m\u001b[0m\u001b[0;34m\u001b[0m\u001b[0m\n\u001b[1;32m   1256\u001b[0m         return_value = get_return_value(\n\u001b[0;32m-> 1257\u001b[0;31m             answer, self.gateway_client, self.target_id, self.name)\n\u001b[0m\u001b[1;32m   1258\u001b[0m \u001b[0;34m\u001b[0m\u001b[0m\n\u001b[1;32m   1259\u001b[0m         \u001b[0;32mfor\u001b[0m \u001b[0mtemp_arg\u001b[0m \u001b[0;32min\u001b[0m \u001b[0mtemp_args\u001b[0m\u001b[0;34m:\u001b[0m\u001b[0;34m\u001b[0m\u001b[0;34m\u001b[0m\u001b[0m\n",
      "\u001b[0;32m/opt/conda/envs/gwas/lib/python3.7/site-packages/hail/utils/java.py\u001b[0m in \u001b[0;36mdeco\u001b[0;34m(*args, **kwargs)\u001b[0m\n\u001b[1;32m    211\u001b[0m         \u001b[0;32mimport\u001b[0m \u001b[0mpyspark\u001b[0m\u001b[0;34m\u001b[0m\u001b[0;34m\u001b[0m\u001b[0m\n\u001b[1;32m    212\u001b[0m         \u001b[0;32mtry\u001b[0m\u001b[0;34m:\u001b[0m\u001b[0;34m\u001b[0m\u001b[0;34m\u001b[0m\u001b[0m\n\u001b[0;32m--> 213\u001b[0;31m             \u001b[0;32mreturn\u001b[0m \u001b[0mf\u001b[0m\u001b[0;34m(\u001b[0m\u001b[0;34m*\u001b[0m\u001b[0margs\u001b[0m\u001b[0;34m,\u001b[0m \u001b[0;34m**\u001b[0m\u001b[0mkwargs\u001b[0m\u001b[0;34m)\u001b[0m\u001b[0;34m\u001b[0m\u001b[0;34m\u001b[0m\u001b[0m\n\u001b[0m\u001b[1;32m    214\u001b[0m         \u001b[0;32mexcept\u001b[0m \u001b[0mpy4j\u001b[0m\u001b[0;34m.\u001b[0m\u001b[0mprotocol\u001b[0m\u001b[0;34m.\u001b[0m\u001b[0mPy4JJavaError\u001b[0m \u001b[0;32mas\u001b[0m \u001b[0me\u001b[0m\u001b[0;34m:\u001b[0m\u001b[0;34m\u001b[0m\u001b[0;34m\u001b[0m\u001b[0m\n\u001b[1;32m    215\u001b[0m             \u001b[0ms\u001b[0m \u001b[0;34m=\u001b[0m \u001b[0me\u001b[0m\u001b[0;34m.\u001b[0m\u001b[0mjava_exception\u001b[0m\u001b[0;34m.\u001b[0m\u001b[0mtoString\u001b[0m\u001b[0;34m(\u001b[0m\u001b[0;34m)\u001b[0m\u001b[0;34m\u001b[0m\u001b[0;34m\u001b[0m\u001b[0m\n",
      "\u001b[0;32m/opt/conda/envs/gwas/lib/python3.7/site-packages/py4j/protocol.py\u001b[0m in \u001b[0;36mget_return_value\u001b[0;34m(answer, gateway_client, target_id, name)\u001b[0m\n\u001b[1;32m    334\u001b[0m             raise Py4JError(\n\u001b[1;32m    335\u001b[0m                 \u001b[0;34m\"An error occurred while calling {0}{1}{2}\"\u001b[0m\u001b[0;34m.\u001b[0m\u001b[0;34m\u001b[0m\u001b[0;34m\u001b[0m\u001b[0m\n\u001b[0;32m--> 336\u001b[0;31m                 format(target_id, \".\", name))\n\u001b[0m\u001b[1;32m    337\u001b[0m     \u001b[0;32melse\u001b[0m\u001b[0;34m:\u001b[0m\u001b[0;34m\u001b[0m\u001b[0;34m\u001b[0m\u001b[0m\n\u001b[1;32m    338\u001b[0m         \u001b[0mtype\u001b[0m \u001b[0;34m=\u001b[0m \u001b[0manswer\u001b[0m\u001b[0;34m[\u001b[0m\u001b[0;36m1\u001b[0m\u001b[0;34m]\u001b[0m\u001b[0;34m\u001b[0m\u001b[0;34m\u001b[0m\u001b[0m\n",
      "\u001b[0;31mPy4JError\u001b[0m: An error occurred while calling o391.executeJSON"
     ]
    }
   ],
   "source": [
    "# Fixed variants = 2k\n",
    "for i in range(9000, 20001, 500):\n",
    "    samples = i\n",
    "    variants = 2000\n",
    "    do_experiment(\"simple_fixed_variants_2k_cpu_8_ram_31\", samples=samples, variants=variants, populations=10)"
   ]
  },
  {
   "cell_type": "code",
   "execution_count": null,
   "metadata": {},
   "outputs": [],
   "source": [
    "# pure spark pca\n",
    "from pyspark.mllib.linalg.distributed import RowMatrix\n",
    "#from pyspark.mllib.random.RandomRDDs import RandomRDDs\n",
    "from pyspark.mllib.random import RandomRDDs\n",
    "\n",
    "sc = hl.spark_context()\n",
    "mat = RowMatrix(RandomRDDs.uniformVectorRDD(sc, 5000, 5000, numPartitions=200))\n",
    "pc = mat.computePrincipalComponents(10)\n",
    "projected = mat.multiply(pc)"
   ]
  }
 ],
 "metadata": {
  "kernelspec": {
   "display_name": "Python 3",
   "language": "python",
   "name": "python3"
  },
  "language_info": {
   "codemirror_mode": {
    "name": "ipython",
    "version": 3
   },
   "file_extension": ".py",
   "mimetype": "text/x-python",
   "name": "python",
   "nbconvert_exporter": "python",
   "pygments_lexer": "ipython3",
   "version": "3.7.6"
  }
 },
 "nbformat": 4,
 "nbformat_minor": 4
}
