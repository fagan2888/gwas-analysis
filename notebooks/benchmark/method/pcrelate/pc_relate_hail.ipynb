{
 "cells": [
  {
   "cell_type": "markdown",
   "metadata": {},
   "source": [
    "##### Command used to run docker image:\n",
    "\n",
    "```bash\n",
    "> pwd\n",
    "/home/rav/projects/gwas-analysis\n",
    "> sudo docker run --user $(id -u):$(id -g) --rm -ti -v $(pwd):/home/$USER/repos/gwas-analysis -v \n",
    "$HOME/.ivy2:/home/$USER/.ivy2 -p 8888:8888 -p 4040:4040 -p 4041:4041 -p 8787:8787 -p 8080:8080 -p 8079:8079 -p 8849:8849 -v $HOME/projects/:/home/$USER/data gwas-analysis\n",
    "```"
   ]
  },
  {
   "cell_type": "code",
   "execution_count": 1,
   "metadata": {},
   "outputs": [],
   "source": [
    "%load_ext autoreload\n",
    "%autoreload 2"
   ]
  },
  {
   "cell_type": "code",
   "execution_count": 1,
   "metadata": {},
   "outputs": [
    {
     "data": {
      "text/plain": [
       "{'platform': 'Linux',\n",
       " 'platform-release': '5.0.0-1034-gcp',\n",
       " 'platform-version': '#35-Ubuntu SMP Tue Mar 17 03:56:45 UTC 2020',\n",
       " 'architecture': 'x86_64',\n",
       " 'processor': 8,\n",
       " 'processor_mhz': '2000.174',\n",
       " 'ram': '31 GB'}"
      ]
     },
     "execution_count": 1,
     "metadata": {},
     "output_type": "execute_result"
    }
   ],
   "source": [
    "import os\n",
    "import sys\n",
    "import json\n",
    "module_path = os.path.abspath(os.path.join('..'))\n",
    "if module_path not in sys.path:\n",
    "    sys.path.append(module_path)\n",
    "\n",
    "from vm_utils import get_vm_info\n",
    "json.loads(get_vm_info())"
   ]
  },
  {
   "cell_type": "code",
   "execution_count": 2,
   "metadata": {},
   "outputs": [
    {
     "name": "stderr",
     "output_type": "stream",
     "text": [
      "Running on Apache Spark version 2.4.4\n",
      "SparkUI available at http://2175f48b66f7:4040\n",
      "Welcome to\n",
      "     __  __     <>__\n",
      "    / /_/ /__  __/ /\n",
      "   / __  / _ `/ / /\n",
      "  /_/ /_/\\_,_/_/_/   version 0.2.32-a5876a0a2853\n",
      "LOGGING: writing to /home/rav/repos/gwas-analysis/notebooks/benchmark/method/pcrelate/hail-20200424-1805-0.2.32-a5876a0a2853.log\n"
     ]
    }
   ],
   "source": [
    "import hail as hl\n",
    "import pandas as pd\n",
    "import numpy as np\n",
    "import plotnine as pn\n",
    "import matplotlib.pyplot as plt\n",
    "hl.init() "
   ]
  },
  {
   "cell_type": "code",
   "execution_count": 3,
   "metadata": {},
   "outputs": [],
   "source": [
    "from pathlib import Path\n",
    "import shutil\n",
    "import glob\n",
    "import os\n",
    "\n",
    "def write_mt(path: Path, n_samples: int, n_variants: int, n_populations: int) -> None:\n",
    "    mt = hl.balding_nichols_model(n_populations=n_populations, n_samples=n_samples, n_variants=n_variants)\n",
    "    mt.write(path.as_posix(), overwrite=True)\n",
    "    \n",
    "def get_mt(n_samples: int, n_variants: int, n_populations: int) -> hl.MatrixTable:\n",
    "    path_mt = Path(f\"{Path.home().as_posix()}/data/tmp/mt_{n_samples}_{n_variants}_{n_populations}.mt\")\n",
    "    if not path_mt.exists():\n",
    "        write_mt(path_mt, n_samples, n_variants, n_populations)\n",
    "    return hl.read_matrix_table(path_mt.as_posix())\n",
    "\n",
    "def clean_hail_tmp():\n",
    "    dir_list = glob.iglob(Path(\"/tmp\").joinpath(\"hail*\").as_posix())\n",
    "    for path in dir_list:\n",
    "        if os.path.isdir(path):\n",
    "            print(f\"Deleting hail tmp dir: {path}\")\n",
    "            shutil.rmtree(path)"
   ]
  },
  {
   "cell_type": "code",
   "execution_count": 4,
   "metadata": {},
   "outputs": [],
   "source": [
    "import time\n",
    "import tempfile\n",
    "from pathlib import Path\n",
    "import shutil\n",
    "from bench_utils import Experiment, Measurment\n",
    "\n",
    "def do_experiment(experiment_name:str, samples: int, variants: int, populations: int, block_size: int = 4096) -> None:\n",
    "    with Experiment(experiment_name) as experiment:\n",
    "        try:\n",
    "            mt = get_mt(n_samples=samples, n_variants=variants, n_populations=populations)\n",
    "            # here we assume that there is no recent relatedness in the sample, which should not\n",
    "            # matter for the purpose of the benchmark\n",
    "            start = time.time()\n",
    "            _, scores, _ = hl.methods.hwe_normalized_pca(mt.GT, k=10, compute_loadings=False)\n",
    "            pca_time = time.time() - start\n",
    "            print(f\"PCA took s:{samples}, v:{variants}, p:{populations} : {pca_time:.2f} seconds\")\n",
    "            start = time.time()\n",
    "            pc_relate_result = hl.methods.pc_relate(mt.GT, scores_expr=scores[mt.col_key].scores, min_individual_maf=0.0, block_size=block_size)\n",
    "            tmp_dir = Path(tempfile.mkdtemp()).joinpath(\"pc_relate_result\")\n",
    "            pc_relate_result.write(tmp_dir.as_posix())\n",
    "            pc_relate_time = time.time() - start\n",
    "            print(f\"Deleting pc_relate results: {tmp_dir.as_posix()}\")\n",
    "            n_rows = None\n",
    "            shutil.rmtree(tmp_dir)\n",
    "            experiment.add_measurment(Measurment(samples=samples, variants=variants, population=populations, pca_time=pca_time, pc_relate_time=pc_relate_time, num_rows=n_rows))\n",
    "        finally:\n",
    "            clean_hail_tmp()"
   ]
  },
  {
   "cell_type": "code",
   "execution_count": 9,
   "metadata": {},
   "outputs": [
    {
     "name": "stderr",
     "output_type": "stream",
     "text": [
      "2020-04-24 17:18:04 Hail: INFO: hwe_normalized_pca: running PCA using 100 variants.\n",
      "2020-04-24 17:18:04 Hail: INFO: pca: running PCA with 10 components...\n"
     ]
    },
    {
     "name": "stdout",
     "output_type": "stream",
     "text": [
      "PCA took s:100, v:100, p:2 : 8.95 seconds\n"
     ]
    },
    {
     "name": "stderr",
     "output_type": "stream",
     "text": [
      "2020-04-24 17:18:11 Hail: INFO: Wrote all 1 blocks of 100 x 100 matrix with block size 4096.\n",
      "2020-04-24 17:18:12 Hail: INFO: wrote matrix with 11 rows and 100 columns as 1 block of size 4096 to file:/tmp/hail.GXgR4Pd2q9HV/yJzccApuSF.bm\n",
      "2020-04-24 17:18:12 Hail: INFO: wrote matrix with 100 rows and 100 columns as 1 block of size 4096 to file:/tmp/hail.GXgR4Pd2q9HV/0vxvtcMZCu.bm\n",
      "2020-04-24 17:18:12 Hail: INFO: wrote matrix with 100 rows and 100 columns as 1 block of size 4096 to file:/tmp/hail.GXgR4Pd2q9HV/Mynco0KksJ.bm\n",
      "2020-04-24 17:18:12 Hail: INFO: wrote matrix with 100 rows and 100 columns as 1 block of size 4096 to file:/tmp/hail.GXgR4Pd2q9HV/fGHDWn6jFU.bm\n",
      "2020-04-24 17:18:12 Hail: INFO: wrote matrix with 100 rows and 100 columns as 1 block of size 4096 to file:/tmp/hail.GXgR4Pd2q9HV/CS5ZMks1ZU.bm\n",
      "2020-04-24 17:18:12 Hail: INFO: wrote matrix with 100 rows and 100 columns as 1 block of size 4096 to file:/tmp/hail.GXgR4Pd2q9HV/eb8v54UndA.bm\n",
      "2020-04-24 17:18:12 Hail: INFO: wrote matrix with 100 rows and 100 columns as 1 block of size 4096 to file:/tmp/hail.GXgR4Pd2q9HV/ggeLK3SnVr.bm\n",
      "2020-04-24 17:18:12 Hail: INFO: wrote matrix with 100 rows and 100 columns as 1 block of size 4096 to file:/tmp/hail.GXgR4Pd2q9HV/LmmwwK3Bg9.bm\n",
      "2020-04-24 17:18:12 Hail: INFO: wrote matrix with 100 rows and 100 columns as 1 block of size 4096 to file:/tmp/hail.GXgR4Pd2q9HV/e1QP2soIDR.bm\n",
      "2020-04-24 17:18:12 Hail: INFO: wrote matrix with 100 rows and 100 columns as 1 block of size 4096 to file:/tmp/hail.GXgR4Pd2q9HV/AxZLiX1oAI.bm\n",
      "2020-04-24 17:18:13 Hail: INFO: wrote matrix with 100 rows and 100 columns as 1 block of size 4096 to file:/tmp/hail.GXgR4Pd2q9HV/MwdxUblY9N.bm\n",
      "2020-04-24 17:18:13 Hail: INFO: wrote matrix with 100 rows and 100 columns as 1 block of size 4096 to file:/tmp/hail.GXgR4Pd2q9HV/APr7mkwbw3.bm\n",
      "2020-04-24 17:18:13 Hail: INFO: Ordering unsorted dataset with network shuffle\n",
      "2020-04-24 17:18:13 Hail: INFO: Coerced sorted dataset\n",
      "2020-04-24 17:18:13 Hail: INFO: wrote table with 4950 rows in 1 partition to /tmp/tmpdgk8pxjw/pc_relate_result\n"
     ]
    },
    {
     "name": "stdout",
     "output_type": "stream",
     "text": [
      "Deleting pc_relate results: /tmp/tmpdgk8pxjw/pc_relate_result\n",
      "Deleting hail tmp dir: /tmp/hail.lSI8hItnvyNe\n",
      "Deleting hail tmp dir: /tmp/hail.GXgR4Pd2q9HV\n"
     ]
    }
   ],
   "source": [
    "do_experiment(\"test\", 100, 100, 2)"
   ]
  },
  {
   "cell_type": "code",
   "execution_count": null,
   "metadata": {
    "scrolled": true
   },
   "outputs": [
    {
     "name": "stderr",
     "output_type": "stream",
     "text": [
      "2020-04-23 15:27:42 Hail: INFO: balding_nichols_model: generating genotypes for 10 populations, 1000 samples, and 1000 variants...\n",
      "2020-04-23 15:27:42 Hail: INFO: Coerced sorted dataset\n",
      "2020-04-23 15:27:43 Hail: INFO: wrote matrix table with 1000 rows and 1000 columns in 8 partitions to /home/rav/data/tmp/mt_1000_1000_10.mt\n",
      "2020-04-23 15:27:43 Hail: INFO: hwe_normalized_pca: running PCA using 1000 variants.\n",
      "2020-04-23 15:27:44 Hail: INFO: pca: running PCA with 10 components...\n"
     ]
    },
    {
     "name": "stdout",
     "output_type": "stream",
     "text": [
      "PCA took s:1000, v:1000, p:10 : 6.28 seconds\n"
     ]
    },
    {
     "name": "stderr",
     "output_type": "stream",
     "text": [
      "2020-04-23 15:27:50 Hail: INFO: Wrote all 1 blocks of 1000 x 1000 matrix with block size 4096.\n",
      "2020-04-23 15:27:51 Hail: INFO: wrote matrix with 11 rows and 1000 columns as 1 block of size 4096 to file:/tmp/hail.Y2Dh5hqGGSs3/cC5uLznRV3.bm\n",
      "2020-04-23 15:27:51 Hail: INFO: wrote matrix with 1000 rows and 1000 columns as 1 block of size 4096 to file:/tmp/hail.Y2Dh5hqGGSs3/Y9jtcTTOB0.bm\n",
      "2020-04-23 15:27:51 Hail: INFO: wrote matrix with 1000 rows and 1000 columns as 1 block of size 4096 to file:/tmp/hail.Y2Dh5hqGGSs3/0PrhSCPADZ.bm\n",
      "2020-04-23 15:27:51 Hail: INFO: wrote matrix with 1000 rows and 1000 columns as 1 block of size 4096 to file:/tmp/hail.Y2Dh5hqGGSs3/uXck1hlyN0.bm\n",
      "2020-04-23 15:27:51 Hail: INFO: wrote matrix with 1000 rows and 1000 columns as 1 block of size 4096 to file:/tmp/hail.Y2Dh5hqGGSs3/aiSKLu8693.bm\n",
      "2020-04-23 15:27:52 Hail: INFO: wrote matrix with 1000 rows and 1000 columns as 1 block of size 4096 to file:/tmp/hail.Y2Dh5hqGGSs3/MM4z8nkuU7.bm\n",
      "2020-04-23 15:27:52 Hail: INFO: wrote matrix with 1000 rows and 1000 columns as 1 block of size 4096 to file:/tmp/hail.Y2Dh5hqGGSs3/g8bUuttztZ.bm\n",
      "2020-04-23 15:27:52 Hail: INFO: wrote matrix with 1000 rows and 1000 columns as 1 block of size 4096 to file:/tmp/hail.Y2Dh5hqGGSs3/Xk7wypuvB7.bm\n",
      "2020-04-23 15:27:52 Hail: INFO: wrote matrix with 1000 rows and 1000 columns as 1 block of size 4096 to file:/tmp/hail.Y2Dh5hqGGSs3/ZEQC0g2ww0.bm\n",
      "2020-04-23 15:27:53 Hail: INFO: wrote matrix with 1000 rows and 1000 columns as 1 block of size 4096 to file:/tmp/hail.Y2Dh5hqGGSs3/907JCJZXw9.bm\n",
      "2020-04-23 15:27:53 Hail: INFO: wrote matrix with 1000 rows and 1000 columns as 1 block of size 4096 to file:/tmp/hail.Y2Dh5hqGGSs3/MAr2LcDspA.bm\n",
      "2020-04-23 15:27:53 Hail: INFO: wrote matrix with 1000 rows and 1000 columns as 1 block of size 4096 to file:/tmp/hail.Y2Dh5hqGGSs3/Tg2XhweC0J.bm\n",
      "2020-04-23 15:27:54 Hail: INFO: Ordering unsorted dataset with network shuffle\n",
      "2020-04-23 15:27:59 Hail: INFO: Coerced sorted dataset\n",
      "2020-04-23 15:28:03 Hail: INFO: wrote table with 499500 rows in 1 partition to /tmp/tmpcve4rxkd/pc_relate_result\n",
      "2020-04-23 15:28:03 Hail: INFO: balding_nichols_model: generating genotypes for 10 populations, 1000 samples, and 2000 variants...\n",
      "2020-04-23 15:28:03 Hail: INFO: Coerced sorted dataset\n"
     ]
    },
    {
     "name": "stdout",
     "output_type": "stream",
     "text": [
      "Deleting pc_relate results: /tmp/tmpcve4rxkd/pc_relate_result\n",
      "Deleting hail tmp dir: /tmp/hail.Y2Dh5hqGGSs3\n"
     ]
    },
    {
     "name": "stderr",
     "output_type": "stream",
     "text": [
      "2020-04-23 15:28:04 Hail: INFO: wrote matrix table with 2000 rows and 1000 columns in 8 partitions to /home/rav/data/tmp/mt_1000_2000_10.mt\n",
      "2020-04-23 15:28:04 Hail: INFO: hwe_normalized_pca: running PCA using 2000 variants.\n",
      "2020-04-23 15:28:05 Hail: INFO: pca: running PCA with 10 components...\n"
     ]
    },
    {
     "name": "stdout",
     "output_type": "stream",
     "text": [
      "PCA took s:1000, v:2000, p:10 : 5.77 seconds\n"
     ]
    },
    {
     "name": "stderr",
     "output_type": "stream",
     "text": [
      "2020-04-23 15:28:11 Hail: INFO: Wrote all 1 blocks of 2000 x 1000 matrix with block size 4096.\n",
      "2020-04-23 15:28:11 Hail: INFO: wrote matrix with 11 rows and 2000 columns as 1 block of size 4096 to file:/tmp/hail.Y2Dh5hqGGSs3/xq93CNZb9n.bm\n",
      "2020-04-23 15:28:11 Hail: INFO: wrote matrix with 2000 rows and 1000 columns as 1 block of size 4096 to file:/tmp/hail.Y2Dh5hqGGSs3/9u6sO1ul0k.bm\n",
      "2020-04-23 15:28:11 Hail: INFO: wrote matrix with 2000 rows and 1000 columns as 1 block of size 4096 to file:/tmp/hail.Y2Dh5hqGGSs3/eg94zbjugD.bm\n",
      "2020-04-23 15:28:12 Hail: INFO: wrote matrix with 1000 rows and 1000 columns as 1 block of size 4096 to file:/tmp/hail.Y2Dh5hqGGSs3/emUaYnCW0G.bm\n",
      "2020-04-23 15:28:12 Hail: INFO: wrote matrix with 1000 rows and 1000 columns as 1 block of size 4096 to file:/tmp/hail.Y2Dh5hqGGSs3/qky0WmaVIt.bm\n",
      "2020-04-23 15:28:12 Hail: INFO: wrote matrix with 1000 rows and 1000 columns as 1 block of size 4096 to file:/tmp/hail.Y2Dh5hqGGSs3/3uvEqYjW53.bm\n",
      "2020-04-23 15:28:13 Hail: INFO: wrote matrix with 1000 rows and 1000 columns as 1 block of size 4096 to file:/tmp/hail.Y2Dh5hqGGSs3/dspk7GnhFx.bm\n",
      "2020-04-23 15:28:13 Hail: INFO: wrote matrix with 1000 rows and 1000 columns as 1 block of size 4096 to file:/tmp/hail.Y2Dh5hqGGSs3/75l6Qwkjns.bm\n",
      "2020-04-23 15:28:14 Hail: INFO: wrote matrix with 1000 rows and 1000 columns as 1 block of size 4096 to file:/tmp/hail.Y2Dh5hqGGSs3/qoAtNQEket.bm\n",
      "2020-04-23 15:28:14 Hail: INFO: wrote matrix with 1000 rows and 1000 columns as 1 block of size 4096 to file:/tmp/hail.Y2Dh5hqGGSs3/vScinqVqZj.bm\n",
      "2020-04-23 15:28:15 Hail: INFO: wrote matrix with 1000 rows and 1000 columns as 1 block of size 4096 to file:/tmp/hail.Y2Dh5hqGGSs3/kT62GhxCFU.bm\n",
      "2020-04-23 15:28:15 Hail: INFO: wrote matrix with 1000 rows and 1000 columns as 1 block of size 4096 to file:/tmp/hail.Y2Dh5hqGGSs3/txV2vJbzVE.bm\n",
      "2020-04-23 15:28:16 Hail: INFO: Ordering unsorted dataset with network shuffle\n",
      "2020-04-23 15:28:21 Hail: INFO: Coerced sorted dataset\n",
      "2020-04-23 15:28:25 Hail: INFO: wrote table with 499500 rows in 1 partition to /tmp/tmpiibur8uo/pc_relate_result\n",
      "2020-04-23 15:28:25 Hail: INFO: balding_nichols_model: generating genotypes for 10 populations, 1000 samples, and 3000 variants...\n"
     ]
    },
    {
     "name": "stdout",
     "output_type": "stream",
     "text": [
      "Deleting pc_relate results: /tmp/tmpiibur8uo/pc_relate_result\n",
      "Deleting hail tmp dir: /tmp/hail.Y2Dh5hqGGSs3\n"
     ]
    },
    {
     "name": "stderr",
     "output_type": "stream",
     "text": [
      "2020-04-23 15:28:25 Hail: INFO: Coerced sorted dataset\n",
      "2020-04-23 15:28:26 Hail: INFO: wrote matrix table with 3000 rows and 1000 columns in 8 partitions to /home/rav/data/tmp/mt_1000_3000_10.mt\n",
      "2020-04-23 15:28:26 Hail: INFO: hwe_normalized_pca: running PCA using 3000 variants.\n",
      "2020-04-23 15:28:27 Hail: INFO: pca: running PCA with 10 components...\n"
     ]
    },
    {
     "name": "stdout",
     "output_type": "stream",
     "text": [
      "PCA took s:1000, v:3000, p:10 : 5.96 seconds\n"
     ]
    },
    {
     "name": "stderr",
     "output_type": "stream",
     "text": [
      "2020-04-23 15:28:33 Hail: INFO: Wrote all 1 blocks of 3000 x 1000 matrix with block size 4096.\n",
      "2020-04-23 15:28:34 Hail: INFO: wrote matrix with 11 rows and 3000 columns as 1 block of size 4096 to file:/tmp/hail.Y2Dh5hqGGSs3/CX7FnRR7wk.bm\n",
      "2020-04-23 15:28:34 Hail: INFO: wrote matrix with 3000 rows and 1000 columns as 1 block of size 4096 to file:/tmp/hail.Y2Dh5hqGGSs3/PCSUSrWQNk.bm\n",
      "2020-04-23 15:28:34 Hail: INFO: wrote matrix with 3000 rows and 1000 columns as 1 block of size 4096 to file:/tmp/hail.Y2Dh5hqGGSs3/rmwrHf9xp4.bm\n",
      "2020-04-23 15:28:35 Hail: INFO: wrote matrix with 1000 rows and 1000 columns as 1 block of size 4096 to file:/tmp/hail.Y2Dh5hqGGSs3/clStd8efZC.bm\n",
      "2020-04-23 15:28:35 Hail: INFO: wrote matrix with 1000 rows and 1000 columns as 1 block of size 4096 to file:/tmp/hail.Y2Dh5hqGGSs3/ScFPtviWSz.bm\n",
      "2020-04-23 15:28:35 Hail: INFO: wrote matrix with 1000 rows and 1000 columns as 1 block of size 4096 to file:/tmp/hail.Y2Dh5hqGGSs3/qnZCEYuYwB.bm\n",
      "2020-04-23 15:28:37 Hail: INFO: wrote matrix with 1000 rows and 1000 columns as 1 block of size 4096 to file:/tmp/hail.Y2Dh5hqGGSs3/zrwv7H9L84.bm\n",
      "2020-04-23 15:28:38 Hail: INFO: wrote matrix with 1000 rows and 1000 columns as 1 block of size 4096 to file:/tmp/hail.Y2Dh5hqGGSs3/5iv1qyJ7IX.bm\n",
      "2020-04-23 15:28:38 Hail: INFO: wrote matrix with 1000 rows and 1000 columns as 1 block of size 4096 to file:/tmp/hail.Y2Dh5hqGGSs3/yalVOQRwGQ.bm\n",
      "2020-04-23 15:28:39 Hail: INFO: wrote matrix with 1000 rows and 1000 columns as 1 block of size 4096 to file:/tmp/hail.Y2Dh5hqGGSs3/T1UcwhVmpD.bm\n",
      "2020-04-23 15:28:39 Hail: INFO: wrote matrix with 1000 rows and 1000 columns as 1 block of size 4096 to file:/tmp/hail.Y2Dh5hqGGSs3/YhYyNUCgaX.bm\n",
      "2020-04-23 15:28:40 Hail: INFO: wrote matrix with 1000 rows and 1000 columns as 1 block of size 4096 to file:/tmp/hail.Y2Dh5hqGGSs3/zLeVgfsM77.bm\n",
      "2020-04-23 15:28:40 Hail: INFO: Ordering unsorted dataset with network shuffle\n",
      "2020-04-23 15:28:45 Hail: INFO: Coerced sorted dataset\n",
      "2020-04-23 15:28:49 Hail: INFO: wrote table with 499500 rows in 1 partition to /tmp/tmpruyw4k76/pc_relate_result\n",
      "2020-04-23 15:28:49 Hail: INFO: balding_nichols_model: generating genotypes for 10 populations, 1000 samples, and 4000 variants...\n"
     ]
    },
    {
     "name": "stdout",
     "output_type": "stream",
     "text": [
      "Deleting pc_relate results: /tmp/tmpruyw4k76/pc_relate_result\n",
      "Deleting hail tmp dir: /tmp/hail.Y2Dh5hqGGSs3\n"
     ]
    },
    {
     "name": "stderr",
     "output_type": "stream",
     "text": [
      "2020-04-23 15:28:49 Hail: INFO: Coerced sorted dataset\n",
      "2020-04-23 15:28:50 Hail: INFO: wrote matrix table with 4000 rows and 1000 columns in 8 partitions to /home/rav/data/tmp/mt_1000_4000_10.mt\n",
      "2020-04-23 15:28:50 Hail: INFO: hwe_normalized_pca: running PCA using 4000 variants.\n",
      "2020-04-23 15:28:51 Hail: INFO: pca: running PCA with 10 components...\n"
     ]
    },
    {
     "name": "stdout",
     "output_type": "stream",
     "text": [
      "PCA took s:1000, v:4000, p:10 : 6.80 seconds\n"
     ]
    },
    {
     "name": "stderr",
     "output_type": "stream",
     "text": [
      "2020-04-23 15:28:58 Hail: INFO: Wrote all 1 blocks of 4000 x 1000 matrix with block size 4096.\n",
      "2020-04-23 15:28:59 Hail: INFO: wrote matrix with 11 rows and 4000 columns as 1 block of size 4096 to file:/tmp/hail.Y2Dh5hqGGSs3/YYnahql7cO.bm\n",
      "2020-04-23 15:28:59 Hail: INFO: wrote matrix with 4000 rows and 1000 columns as 1 block of size 4096 to file:/tmp/hail.Y2Dh5hqGGSs3/1Gong4nX1K.bm\n",
      "2020-04-23 15:28:59 Hail: INFO: wrote matrix with 4000 rows and 1000 columns as 1 block of size 4096 to file:/tmp/hail.Y2Dh5hqGGSs3/t204mOUsaF.bm\n",
      "2020-04-23 15:29:00 Hail: INFO: wrote matrix with 1000 rows and 1000 columns as 1 block of size 4096 to file:/tmp/hail.Y2Dh5hqGGSs3/U0LBjcMU4O.bm\n",
      "2020-04-23 15:29:01 Hail: INFO: wrote matrix with 1000 rows and 1000 columns as 1 block of size 4096 to file:/tmp/hail.Y2Dh5hqGGSs3/YBxjmkgYEO.bm\n",
      "2020-04-23 15:29:01 Hail: INFO: wrote matrix with 1000 rows and 1000 columns as 1 block of size 4096 to file:/tmp/hail.Y2Dh5hqGGSs3/Le176PfYdZ.bm\n",
      "2020-04-23 15:29:03 Hail: INFO: wrote matrix with 1000 rows and 1000 columns as 1 block of size 4096 to file:/tmp/hail.Y2Dh5hqGGSs3/t3ezcXcq8c.bm\n",
      "2020-04-23 15:29:03 Hail: INFO: wrote matrix with 1000 rows and 1000 columns as 1 block of size 4096 to file:/tmp/hail.Y2Dh5hqGGSs3/E7yTi0UrdZ.bm\n",
      "2020-04-23 15:29:03 Hail: INFO: wrote matrix with 1000 rows and 1000 columns as 1 block of size 4096 to file:/tmp/hail.Y2Dh5hqGGSs3/BQeuOW3Wid.bm\n",
      "2020-04-23 15:29:05 Hail: INFO: wrote matrix with 1000 rows and 1000 columns as 1 block of size 4096 to file:/tmp/hail.Y2Dh5hqGGSs3/wodOVIN05e.bm\n",
      "2020-04-23 15:29:06 Hail: INFO: wrote matrix with 1000 rows and 1000 columns as 1 block of size 4096 to file:/tmp/hail.Y2Dh5hqGGSs3/ROt8G5i01O.bm\n",
      "2020-04-23 15:29:06 Hail: INFO: wrote matrix with 1000 rows and 1000 columns as 1 block of size 4096 to file:/tmp/hail.Y2Dh5hqGGSs3/k1OKQtNcmk.bm\n",
      "2020-04-23 15:29:07 Hail: INFO: Ordering unsorted dataset with network shuffle\n",
      "2020-04-23 15:29:12 Hail: INFO: Coerced sorted dataset\n",
      "2020-04-23 15:29:15 Hail: INFO: wrote table with 499500 rows in 1 partition to /tmp/tmpayxjgnzf/pc_relate_result\n",
      "2020-04-23 15:29:15 Hail: INFO: balding_nichols_model: generating genotypes for 10 populations, 1000 samples, and 5000 variants...\n"
     ]
    },
    {
     "name": "stdout",
     "output_type": "stream",
     "text": [
      "Deleting pc_relate results: /tmp/tmpayxjgnzf/pc_relate_result\n",
      "Deleting hail tmp dir: /tmp/hail.Y2Dh5hqGGSs3\n"
     ]
    },
    {
     "name": "stderr",
     "output_type": "stream",
     "text": [
      "2020-04-23 15:29:16 Hail: INFO: Coerced sorted dataset\n",
      "2020-04-23 15:29:17 Hail: INFO: wrote matrix table with 5000 rows and 1000 columns in 8 partitions to /home/rav/data/tmp/mt_1000_5000_10.mt\n",
      "2020-04-23 15:29:17 Hail: INFO: hwe_normalized_pca: running PCA using 5000 variants.\n",
      "2020-04-23 15:29:17 Hail: INFO: pca: running PCA with 10 components...\n"
     ]
    },
    {
     "name": "stdout",
     "output_type": "stream",
     "text": [
      "PCA took s:1000, v:5000, p:10 : 7.73 seconds\n"
     ]
    },
    {
     "name": "stderr",
     "output_type": "stream",
     "text": [
      "2020-04-23 15:29:26 Hail: INFO: Wrote all 2 blocks of 5000 x 1000 matrix with block size 4096.\n",
      "2020-04-23 15:29:26 Hail: INFO: wrote matrix with 11 rows and 5000 columns as 2 blocks of size 4096 to file:/tmp/hail.Y2Dh5hqGGSs3/178152i4II.bm\n",
      "2020-04-23 15:29:26 Hail: INFO: wrote matrix with 5000 rows and 1000 columns as 2 blocks of size 4096 to file:/tmp/hail.Y2Dh5hqGGSs3/lsRdfUWuPx.bm\n",
      "2020-04-23 15:29:27 Hail: INFO: wrote matrix with 5000 rows and 1000 columns as 2 blocks of size 4096 to file:/tmp/hail.Y2Dh5hqGGSs3/XrjVqnbmUj.bm\n",
      "2020-04-23 15:29:28 Hail: INFO: wrote matrix with 1000 rows and 1000 columns as 1 block of size 4096 to file:/tmp/hail.Y2Dh5hqGGSs3/705W6zfZCh.bm\n",
      "2020-04-23 15:29:29 Hail: INFO: wrote matrix with 1000 rows and 1000 columns as 1 block of size 4096 to file:/tmp/hail.Y2Dh5hqGGSs3/dYNByhSeT5.bm\n",
      "2020-04-23 15:29:29 Hail: INFO: wrote matrix with 1000 rows and 1000 columns as 1 block of size 4096 to file:/tmp/hail.Y2Dh5hqGGSs3/7TQfnhExtJ.bm\n",
      "2020-04-23 15:29:31 Hail: INFO: wrote matrix with 1000 rows and 1000 columns as 1 block of size 4096 to file:/tmp/hail.Y2Dh5hqGGSs3/cKTsJezckE.bm\n",
      "2020-04-23 15:29:32 Hail: INFO: wrote matrix with 1000 rows and 1000 columns as 1 block of size 4096 to file:/tmp/hail.Y2Dh5hqGGSs3/iBTndfSrjB.bm\n",
      "2020-04-23 15:29:32 Hail: INFO: wrote matrix with 1000 rows and 1000 columns as 1 block of size 4096 to file:/tmp/hail.Y2Dh5hqGGSs3/PLMEU5I0BR.bm\n",
      "2020-04-23 15:29:33 Hail: INFO: wrote matrix with 1000 rows and 1000 columns as 1 block of size 4096 to file:/tmp/hail.Y2Dh5hqGGSs3/gGs4VvDhiY.bm\n",
      "2020-04-23 15:29:35 Hail: INFO: wrote matrix with 1000 rows and 1000 columns as 1 block of size 4096 to file:/tmp/hail.Y2Dh5hqGGSs3/kTESrMklSp.bm\n",
      "2020-04-23 15:29:35 Hail: INFO: wrote matrix with 1000 rows and 1000 columns as 1 block of size 4096 to file:/tmp/hail.Y2Dh5hqGGSs3/tjWgXEN7Yb.bm\n",
      "2020-04-23 15:29:36 Hail: INFO: Ordering unsorted dataset with network shuffle\n",
      "2020-04-23 15:29:41 Hail: INFO: Coerced sorted dataset\n",
      "2020-04-23 15:29:44 Hail: INFO: wrote table with 499500 rows in 1 partition to /tmp/tmp82nps2sr/pc_relate_result\n",
      "2020-04-23 15:29:44 Hail: INFO: balding_nichols_model: generating genotypes for 10 populations, 1000 samples, and 6000 variants...\n"
     ]
    },
    {
     "name": "stdout",
     "output_type": "stream",
     "text": [
      "Deleting pc_relate results: /tmp/tmp82nps2sr/pc_relate_result\n",
      "Deleting hail tmp dir: /tmp/hail.Y2Dh5hqGGSs3\n"
     ]
    },
    {
     "name": "stderr",
     "output_type": "stream",
     "text": [
      "2020-04-23 15:29:44 Hail: INFO: Coerced sorted dataset\n",
      "2020-04-23 15:29:46 Hail: INFO: wrote matrix table with 6000 rows and 1000 columns in 8 partitions to /home/rav/data/tmp/mt_1000_6000_10.mt\n",
      "2020-04-23 15:29:46 Hail: INFO: hwe_normalized_pca: running PCA using 6000 variants.\n",
      "2020-04-23 15:29:47 Hail: INFO: pca: running PCA with 10 components...\n"
     ]
    },
    {
     "name": "stdout",
     "output_type": "stream",
     "text": [
      "PCA took s:1000, v:6000, p:10 : 5.99 seconds\n"
     ]
    },
    {
     "name": "stderr",
     "output_type": "stream",
     "text": [
      "2020-04-23 15:29:53 Hail: INFO: Wrote all 2 blocks of 6000 x 1000 matrix with block size 4096.\n",
      "2020-04-23 15:29:54 Hail: INFO: wrote matrix with 11 rows and 6000 columns as 2 blocks of size 4096 to file:/tmp/hail.Y2Dh5hqGGSs3/vnV6CjYXEg.bm\n",
      "2020-04-23 15:29:54 Hail: INFO: wrote matrix with 6000 rows and 1000 columns as 2 blocks of size 4096 to file:/tmp/hail.Y2Dh5hqGGSs3/2ElhuRF1XB.bm\n",
      "2020-04-23 15:29:54 Hail: INFO: wrote matrix with 6000 rows and 1000 columns as 2 blocks of size 4096 to file:/tmp/hail.Y2Dh5hqGGSs3/Uzq3UbVYSI.bm\n",
      "2020-04-23 15:29:55 Hail: INFO: wrote matrix with 1000 rows and 1000 columns as 1 block of size 4096 to file:/tmp/hail.Y2Dh5hqGGSs3/5maD87EEgt.bm\n",
      "2020-04-23 15:29:57 Hail: INFO: wrote matrix with 1000 rows and 1000 columns as 1 block of size 4096 to file:/tmp/hail.Y2Dh5hqGGSs3/GC2Hnz9Rt7.bm\n",
      "2020-04-23 15:29:57 Hail: INFO: wrote matrix with 1000 rows and 1000 columns as 1 block of size 4096 to file:/tmp/hail.Y2Dh5hqGGSs3/7QjGb8ko6e.bm\n",
      "2020-04-23 15:29:59 Hail: INFO: wrote matrix with 1000 rows and 1000 columns as 1 block of size 4096 to file:/tmp/hail.Y2Dh5hqGGSs3/mTIR8qj6iP.bm\n",
      "2020-04-23 15:30:01 Hail: INFO: wrote matrix with 1000 rows and 1000 columns as 1 block of size 4096 to file:/tmp/hail.Y2Dh5hqGGSs3/3LlAGhIe9v.bm\n",
      "2020-04-23 15:30:01 Hail: INFO: wrote matrix with 1000 rows and 1000 columns as 1 block of size 4096 to file:/tmp/hail.Y2Dh5hqGGSs3/dNaIrnAuCm.bm\n",
      "2020-04-23 15:30:03 Hail: INFO: wrote matrix with 1000 rows and 1000 columns as 1 block of size 4096 to file:/tmp/hail.Y2Dh5hqGGSs3/bj6CV00bym.bm\n",
      "2020-04-23 15:30:04 Hail: INFO: wrote matrix with 1000 rows and 1000 columns as 1 block of size 4096 to file:/tmp/hail.Y2Dh5hqGGSs3/emUvyehc4Z.bm\n",
      "2020-04-23 15:30:04 Hail: INFO: wrote matrix with 1000 rows and 1000 columns as 1 block of size 4096 to file:/tmp/hail.Y2Dh5hqGGSs3/tLYHQFmnE2.bm\n",
      "2020-04-23 15:30:05 Hail: INFO: Ordering unsorted dataset with network shuffle\n",
      "2020-04-23 15:30:10 Hail: INFO: Coerced sorted dataset\n",
      "2020-04-23 15:30:14 Hail: INFO: wrote table with 499500 rows in 1 partition to /tmp/tmpad1ofj05/pc_relate_result\n",
      "2020-04-23 15:30:14 Hail: INFO: balding_nichols_model: generating genotypes for 10 populations, 1000 samples, and 7000 variants...\n"
     ]
    },
    {
     "name": "stdout",
     "output_type": "stream",
     "text": [
      "Deleting pc_relate results: /tmp/tmpad1ofj05/pc_relate_result\n",
      "Deleting hail tmp dir: /tmp/hail.Y2Dh5hqGGSs3\n"
     ]
    },
    {
     "name": "stderr",
     "output_type": "stream",
     "text": [
      "2020-04-23 15:30:14 Hail: INFO: Coerced sorted dataset\n",
      "2020-04-23 15:30:15 Hail: INFO: wrote matrix table with 7000 rows and 1000 columns in 8 partitions to /home/rav/data/tmp/mt_1000_7000_10.mt\n",
      "2020-04-23 15:30:16 Hail: INFO: hwe_normalized_pca: running PCA using 7000 variants.\n",
      "2020-04-23 15:30:16 Hail: INFO: pca: running PCA with 10 components...\n"
     ]
    },
    {
     "name": "stdout",
     "output_type": "stream",
     "text": [
      "PCA took s:1000, v:7000, p:10 : 7.31 seconds\n"
     ]
    },
    {
     "name": "stderr",
     "output_type": "stream",
     "text": [
      "2020-04-23 15:30:24 Hail: INFO: Wrote all 2 blocks of 7000 x 1000 matrix with block size 4096.\n",
      "2020-04-23 15:30:24 Hail: INFO: wrote matrix with 11 rows and 7000 columns as 2 blocks of size 4096 to file:/tmp/hail.Y2Dh5hqGGSs3/Q42ry8cncC.bm\n",
      "2020-04-23 15:30:25 Hail: INFO: wrote matrix with 7000 rows and 1000 columns as 2 blocks of size 4096 to file:/tmp/hail.Y2Dh5hqGGSs3/aGQoojBRYH.bm\n",
      "2020-04-23 15:30:25 Hail: INFO: wrote matrix with 7000 rows and 1000 columns as 2 blocks of size 4096 to file:/tmp/hail.Y2Dh5hqGGSs3/P4dzMiT0rL.bm\n",
      "2020-04-23 15:30:27 Hail: INFO: wrote matrix with 1000 rows and 1000 columns as 1 block of size 4096 to file:/tmp/hail.Y2Dh5hqGGSs3/OX2YrltNUd.bm\n",
      "2020-04-23 15:30:28 Hail: INFO: wrote matrix with 1000 rows and 1000 columns as 1 block of size 4096 to file:/tmp/hail.Y2Dh5hqGGSs3/hjCqSjIJMn.bm\n",
      "2020-04-23 15:30:28 Hail: INFO: wrote matrix with 1000 rows and 1000 columns as 1 block of size 4096 to file:/tmp/hail.Y2Dh5hqGGSs3/K21b7db7dF.bm\n",
      "2020-04-23 15:30:30 Hail: INFO: wrote matrix with 1000 rows and 1000 columns as 1 block of size 4096 to file:/tmp/hail.Y2Dh5hqGGSs3/6AON2OT6wY.bm\n",
      "2020-04-23 15:30:32 Hail: INFO: wrote matrix with 1000 rows and 1000 columns as 1 block of size 4096 to file:/tmp/hail.Y2Dh5hqGGSs3/tJ8URiVyEp.bm\n",
      "2020-04-23 15:30:32 Hail: INFO: wrote matrix with 1000 rows and 1000 columns as 1 block of size 4096 to file:/tmp/hail.Y2Dh5hqGGSs3/d3Y1jMlRba.bm\n",
      "2020-04-23 15:30:34 Hail: INFO: wrote matrix with 1000 rows and 1000 columns as 1 block of size 4096 to file:/tmp/hail.Y2Dh5hqGGSs3/QZmQyqwQVT.bm\n",
      "2020-04-23 15:30:36 Hail: INFO: wrote matrix with 1000 rows and 1000 columns as 1 block of size 4096 to file:/tmp/hail.Y2Dh5hqGGSs3/BsIOgYJbju.bm\n",
      "2020-04-23 15:30:36 Hail: INFO: wrote matrix with 1000 rows and 1000 columns as 1 block of size 4096 to file:/tmp/hail.Y2Dh5hqGGSs3/z8w5bQc6AN.bm\n",
      "2020-04-23 15:30:37 Hail: INFO: Ordering unsorted dataset with network shuffle\n",
      "2020-04-23 15:30:43 Hail: INFO: Coerced sorted dataset\n",
      "2020-04-23 15:30:46 Hail: INFO: wrote table with 499500 rows in 1 partition to /tmp/tmp65dcv812/pc_relate_result\n",
      "2020-04-23 15:30:46 Hail: INFO: balding_nichols_model: generating genotypes for 10 populations, 1000 samples, and 8000 variants...\n"
     ]
    },
    {
     "name": "stdout",
     "output_type": "stream",
     "text": [
      "Deleting pc_relate results: /tmp/tmp65dcv812/pc_relate_result\n",
      "Deleting hail tmp dir: /tmp/hail.Y2Dh5hqGGSs3\n"
     ]
    },
    {
     "name": "stderr",
     "output_type": "stream",
     "text": [
      "2020-04-23 15:30:46 Hail: INFO: Coerced sorted dataset\n",
      "2020-04-23 15:30:48 Hail: INFO: wrote matrix table with 8000 rows and 1000 columns in 8 partitions to /home/rav/data/tmp/mt_1000_8000_10.mt\n",
      "2020-04-23 15:30:48 Hail: INFO: hwe_normalized_pca: running PCA using 8000 variants.\n",
      "2020-04-23 15:30:49 Hail: INFO: pca: running PCA with 10 components...\n"
     ]
    },
    {
     "name": "stdout",
     "output_type": "stream",
     "text": [
      "PCA took s:1000, v:8000, p:10 : 7.01 seconds\n"
     ]
    },
    {
     "name": "stderr",
     "output_type": "stream",
     "text": [
      "2020-04-23 15:30:56 Hail: INFO: Wrote all 2 blocks of 8000 x 1000 matrix with block size 4096.\n",
      "2020-04-23 15:30:57 Hail: INFO: wrote matrix with 11 rows and 8000 columns as 2 blocks of size 4096 to file:/tmp/hail.Y2Dh5hqGGSs3/L7oyyYjqAW.bm\n",
      "2020-04-23 15:30:57 Hail: INFO: wrote matrix with 8000 rows and 1000 columns as 2 blocks of size 4096 to file:/tmp/hail.Y2Dh5hqGGSs3/uQFOlGNiGf.bm\n",
      "2020-04-23 15:30:57 Hail: INFO: wrote matrix with 8000 rows and 1000 columns as 2 blocks of size 4096 to file:/tmp/hail.Y2Dh5hqGGSs3/SzM7dc62Mn.bm\n",
      "2020-04-23 15:30:59 Hail: INFO: wrote matrix with 1000 rows and 1000 columns as 1 block of size 4096 to file:/tmp/hail.Y2Dh5hqGGSs3/4j6K37eND2.bm\n",
      "2020-04-23 15:31:01 Hail: INFO: wrote matrix with 1000 rows and 1000 columns as 1 block of size 4096 to file:/tmp/hail.Y2Dh5hqGGSs3/6tQdDpioNz.bm\n",
      "2020-04-23 15:31:01 Hail: INFO: wrote matrix with 1000 rows and 1000 columns as 1 block of size 4096 to file:/tmp/hail.Y2Dh5hqGGSs3/1r4VeOtGgI.bm\n",
      "2020-04-23 15:31:04 Hail: INFO: wrote matrix with 1000 rows and 1000 columns as 1 block of size 4096 to file:/tmp/hail.Y2Dh5hqGGSs3/W5TDwtafRc.bm\n",
      "2020-04-23 15:31:05 Hail: INFO: wrote matrix with 1000 rows and 1000 columns as 1 block of size 4096 to file:/tmp/hail.Y2Dh5hqGGSs3/iW3XOV1Zlt.bm\n",
      "2020-04-23 15:31:05 Hail: INFO: wrote matrix with 1000 rows and 1000 columns as 1 block of size 4096 to file:/tmp/hail.Y2Dh5hqGGSs3/r7YGVITa4L.bm\n",
      "2020-04-23 15:31:08 Hail: INFO: wrote matrix with 1000 rows and 1000 columns as 1 block of size 4096 to file:/tmp/hail.Y2Dh5hqGGSs3/zpgO4d3LTk.bm\n",
      "2020-04-23 15:31:10 Hail: INFO: wrote matrix with 1000 rows and 1000 columns as 1 block of size 4096 to file:/tmp/hail.Y2Dh5hqGGSs3/bJOORqeEW2.bm\n",
      "2020-04-23 15:31:10 Hail: INFO: wrote matrix with 1000 rows and 1000 columns as 1 block of size 4096 to file:/tmp/hail.Y2Dh5hqGGSs3/22XkEJU2we.bm\n",
      "2020-04-23 15:31:11 Hail: INFO: Ordering unsorted dataset with network shuffle\n",
      "2020-04-23 15:31:16 Hail: INFO: Coerced sorted dataset\n",
      "2020-04-23 15:31:19 Hail: INFO: wrote table with 499500 rows in 1 partition to /tmp/tmpogm4afr2/pc_relate_result\n",
      "2020-04-23 15:31:19 Hail: INFO: balding_nichols_model: generating genotypes for 10 populations, 1000 samples, and 9000 variants...\n"
     ]
    },
    {
     "name": "stdout",
     "output_type": "stream",
     "text": [
      "Deleting pc_relate results: /tmp/tmpogm4afr2/pc_relate_result\n",
      "Deleting hail tmp dir: /tmp/hail.Y2Dh5hqGGSs3\n"
     ]
    },
    {
     "name": "stderr",
     "output_type": "stream",
     "text": [
      "2020-04-23 15:31:20 Hail: INFO: Coerced sorted dataset\n",
      "2020-04-23 15:31:21 Hail: INFO: wrote matrix table with 9000 rows and 1000 columns in 8 partitions to /home/rav/data/tmp/mt_1000_9000_10.mt\n",
      "2020-04-23 15:31:22 Hail: INFO: hwe_normalized_pca: running PCA using 9000 variants.\n",
      "2020-04-23 15:31:22 Hail: INFO: pca: running PCA with 10 components...\n"
     ]
    },
    {
     "name": "stdout",
     "output_type": "stream",
     "text": [
      "PCA took s:1000, v:9000, p:10 : 7.72 seconds\n"
     ]
    },
    {
     "name": "stderr",
     "output_type": "stream",
     "text": [
      "2020-04-23 15:31:31 Hail: INFO: Wrote all 3 blocks of 9000 x 1000 matrix with block size 4096.\n",
      "2020-04-23 15:31:31 Hail: INFO: wrote matrix with 11 rows and 9000 columns as 3 blocks of size 4096 to file:/tmp/hail.Y2Dh5hqGGSs3/M8NUnZkwxX.bm\n",
      "2020-04-23 15:31:31 Hail: INFO: wrote matrix with 9000 rows and 1000 columns as 3 blocks of size 4096 to file:/tmp/hail.Y2Dh5hqGGSs3/ppHJBj8ig1.bm\n",
      "2020-04-23 15:31:31 Hail: INFO: wrote matrix with 9000 rows and 1000 columns as 3 blocks of size 4096 to file:/tmp/hail.Y2Dh5hqGGSs3/ZCVMKyr6bv.bm\n",
      "2020-04-23 15:31:34 Hail: INFO: wrote matrix with 1000 rows and 1000 columns as 1 block of size 4096 to file:/tmp/hail.Y2Dh5hqGGSs3/dy1IB5vb43.bm\n",
      "2020-04-23 15:31:36 Hail: INFO: wrote matrix with 1000 rows and 1000 columns as 1 block of size 4096 to file:/tmp/hail.Y2Dh5hqGGSs3/0gdUsQfLkX.bm\n",
      "2020-04-23 15:31:36 Hail: INFO: wrote matrix with 1000 rows and 1000 columns as 1 block of size 4096 to file:/tmp/hail.Y2Dh5hqGGSs3/KTHo1mSCJ2.bm\n",
      "2020-04-23 15:31:38 Hail: INFO: wrote matrix with 1000 rows and 1000 columns as 1 block of size 4096 to file:/tmp/hail.Y2Dh5hqGGSs3/TOSJcoUiw2.bm\n",
      "2020-04-23 15:31:40 Hail: INFO: wrote matrix with 1000 rows and 1000 columns as 1 block of size 4096 to file:/tmp/hail.Y2Dh5hqGGSs3/DbpbFHdyHF.bm\n",
      "2020-04-23 15:31:40 Hail: INFO: wrote matrix with 1000 rows and 1000 columns as 1 block of size 4096 to file:/tmp/hail.Y2Dh5hqGGSs3/MfTayEWeLa.bm\n",
      "2020-04-23 15:31:43 Hail: INFO: wrote matrix with 1000 rows and 1000 columns as 1 block of size 4096 to file:/tmp/hail.Y2Dh5hqGGSs3/xs9Ka14g6H.bm\n",
      "2020-04-23 15:31:46 Hail: INFO: wrote matrix with 1000 rows and 1000 columns as 1 block of size 4096 to file:/tmp/hail.Y2Dh5hqGGSs3/ADQllE6igh.bm\n",
      "2020-04-23 15:31:46 Hail: INFO: wrote matrix with 1000 rows and 1000 columns as 1 block of size 4096 to file:/tmp/hail.Y2Dh5hqGGSs3/FurhQv46yz.bm\n",
      "2020-04-23 15:31:47 Hail: INFO: Ordering unsorted dataset with network shuffle\n",
      "2020-04-23 15:31:52 Hail: INFO: Coerced sorted dataset\n",
      "2020-04-23 15:31:56 Hail: INFO: wrote table with 499500 rows in 1 partition to /tmp/tmpla9oqf7_/pc_relate_result\n",
      "2020-04-23 15:31:56 Hail: INFO: balding_nichols_model: generating genotypes for 10 populations, 1000 samples, and 10000 variants...\n"
     ]
    },
    {
     "name": "stdout",
     "output_type": "stream",
     "text": [
      "Deleting pc_relate results: /tmp/tmpla9oqf7_/pc_relate_result\n",
      "Deleting hail tmp dir: /tmp/hail.Y2Dh5hqGGSs3\n"
     ]
    },
    {
     "name": "stderr",
     "output_type": "stream",
     "text": [
      "2020-04-23 15:31:56 Hail: INFO: Coerced sorted dataset\n",
      "2020-04-23 15:31:58 Hail: INFO: wrote matrix table with 10000 rows and 1000 columns in 8 partitions to /home/rav/data/tmp/mt_1000_10000_10.mt\n",
      "2020-04-23 15:31:58 Hail: INFO: hwe_normalized_pca: running PCA using 10000 variants.\n",
      "2020-04-23 15:31:59 Hail: INFO: pca: running PCA with 10 components...\n"
     ]
    },
    {
     "name": "stdout",
     "output_type": "stream",
     "text": [
      "PCA took s:1000, v:10000, p:10 : 6.67 seconds\n"
     ]
    },
    {
     "name": "stderr",
     "output_type": "stream",
     "text": [
      "2020-04-23 15:32:06 Hail: INFO: Wrote all 3 blocks of 10000 x 1000 matrix with block size 4096.\n",
      "2020-04-23 15:32:06 Hail: INFO: wrote matrix with 11 rows and 10000 columns as 3 blocks of size 4096 to file:/tmp/hail.Y2Dh5hqGGSs3/8IpQfZsbBt.bm\n",
      "2020-04-23 15:32:06 Hail: INFO: wrote matrix with 10000 rows and 1000 columns as 3 blocks of size 4096 to file:/tmp/hail.Y2Dh5hqGGSs3/iPTxeIYfUv.bm\n",
      "2020-04-23 15:32:07 Hail: INFO: wrote matrix with 10000 rows and 1000 columns as 3 blocks of size 4096 to file:/tmp/hail.Y2Dh5hqGGSs3/aDgu4IGdc5.bm\n",
      "2020-04-23 15:32:09 Hail: INFO: wrote matrix with 1000 rows and 1000 columns as 1 block of size 4096 to file:/tmp/hail.Y2Dh5hqGGSs3/kSVilBpoCu.bm\n",
      "2020-04-23 15:32:11 Hail: INFO: wrote matrix with 1000 rows and 1000 columns as 1 block of size 4096 to file:/tmp/hail.Y2Dh5hqGGSs3/4zxFZ3i1Oa.bm\n",
      "2020-04-23 15:32:11 Hail: INFO: wrote matrix with 1000 rows and 1000 columns as 1 block of size 4096 to file:/tmp/hail.Y2Dh5hqGGSs3/V2qQNXtPbC.bm\n",
      "2020-04-23 15:32:16 Hail: INFO: wrote matrix with 1000 rows and 1000 columns as 1 block of size 4096 to file:/tmp/hail.Y2Dh5hqGGSs3/UxeMy3N60z.bm\n",
      "2020-04-23 15:32:18 Hail: INFO: wrote matrix with 1000 rows and 1000 columns as 1 block of size 4096 to file:/tmp/hail.Y2Dh5hqGGSs3/9laCdlBOje.bm\n",
      "2020-04-23 15:32:18 Hail: INFO: wrote matrix with 1000 rows and 1000 columns as 1 block of size 4096 to file:/tmp/hail.Y2Dh5hqGGSs3/xVVLFVJ3N5.bm\n",
      "2020-04-23 15:32:21 Hail: INFO: wrote matrix with 1000 rows and 1000 columns as 1 block of size 4096 to file:/tmp/hail.Y2Dh5hqGGSs3/xJHtfupNDK.bm\n",
      "2020-04-23 15:32:23 Hail: INFO: wrote matrix with 1000 rows and 1000 columns as 1 block of size 4096 to file:/tmp/hail.Y2Dh5hqGGSs3/3JdVJsDvYF.bm\n",
      "2020-04-23 15:32:24 Hail: INFO: wrote matrix with 1000 rows and 1000 columns as 1 block of size 4096 to file:/tmp/hail.Y2Dh5hqGGSs3/nnfFsovqSE.bm\n",
      "2020-04-23 15:32:24 Hail: INFO: Ordering unsorted dataset with network shuffle\n",
      "2020-04-23 15:32:29 Hail: INFO: Coerced sorted dataset\n",
      "2020-04-23 15:32:33 Hail: INFO: wrote table with 499500 rows in 1 partition to /tmp/tmpca53d52i/pc_relate_result\n",
      "2020-04-23 15:32:33 Hail: INFO: balding_nichols_model: generating genotypes for 10 populations, 2000 samples, and 1000 variants...\n"
     ]
    },
    {
     "name": "stdout",
     "output_type": "stream",
     "text": [
      "Deleting pc_relate results: /tmp/tmpca53d52i/pc_relate_result\n",
      "Deleting hail tmp dir: /tmp/hail.Y2Dh5hqGGSs3\n"
     ]
    },
    {
     "name": "stderr",
     "output_type": "stream",
     "text": [
      "2020-04-23 15:32:33 Hail: INFO: Coerced sorted dataset\n",
      "2020-04-23 15:32:34 Hail: INFO: wrote matrix table with 1000 rows and 2000 columns in 8 partitions to /home/rav/data/tmp/mt_2000_1000_10.mt\n",
      "2020-04-23 15:32:34 Hail: INFO: hwe_normalized_pca: running PCA using 1000 variants.\n",
      "2020-04-23 15:32:35 Hail: INFO: pca: running PCA with 10 components...\n"
     ]
    },
    {
     "name": "stdout",
     "output_type": "stream",
     "text": [
      "PCA took s:2000, v:1000, p:10 : 5.98 seconds\n"
     ]
    },
    {
     "name": "stderr",
     "output_type": "stream",
     "text": [
      "2020-04-23 15:32:42 Hail: INFO: Wrote all 1 blocks of 1000 x 2000 matrix with block size 4096.\n",
      "2020-04-23 15:32:42 Hail: INFO: wrote matrix with 11 rows and 1000 columns as 1 block of size 4096 to file:/tmp/hail.Y2Dh5hqGGSs3/fNA1kvgFs8.bm\n",
      "2020-04-23 15:32:42 Hail: INFO: wrote matrix with 1000 rows and 2000 columns as 1 block of size 4096 to file:/tmp/hail.Y2Dh5hqGGSs3/ATRLB4VZ3I.bm\n",
      "2020-04-23 15:32:42 Hail: INFO: wrote matrix with 1000 rows and 2000 columns as 1 block of size 4096 to file:/tmp/hail.Y2Dh5hqGGSs3/AnEkOSIMFs.bm\n",
      "2020-04-23 15:32:43 Hail: INFO: wrote matrix with 2000 rows and 2000 columns as 1 block of size 4096 to file:/tmp/hail.Y2Dh5hqGGSs3/QQqhmD1whP.bm\n",
      "2020-04-23 15:32:44 Hail: INFO: wrote matrix with 2000 rows and 2000 columns as 1 block of size 4096 to file:/tmp/hail.Y2Dh5hqGGSs3/EUyXrnvV0C.bm\n",
      "2020-04-23 15:32:44 Hail: INFO: wrote matrix with 2000 rows and 2000 columns as 1 block of size 4096 to file:/tmp/hail.Y2Dh5hqGGSs3/LQrh3v0ITa.bm\n",
      "2020-04-23 15:32:45 Hail: INFO: wrote matrix with 2000 rows and 2000 columns as 1 block of size 4096 to file:/tmp/hail.Y2Dh5hqGGSs3/UD0WvVCMxW.bm\n",
      "2020-04-23 15:32:46 Hail: INFO: wrote matrix with 2000 rows and 2000 columns as 1 block of size 4096 to file:/tmp/hail.Y2Dh5hqGGSs3/XejJcWMgij.bm\n",
      "2020-04-23 15:32:46 Hail: INFO: wrote matrix with 2000 rows and 2000 columns as 1 block of size 4096 to file:/tmp/hail.Y2Dh5hqGGSs3/dA8wennapp.bm\n",
      "2020-04-23 15:32:48 Hail: INFO: wrote matrix with 2000 rows and 2000 columns as 1 block of size 4096 to file:/tmp/hail.Y2Dh5hqGGSs3/oL89pc4JmF.bm\n",
      "2020-04-23 15:32:49 Hail: INFO: wrote matrix with 2000 rows and 2000 columns as 1 block of size 4096 to file:/tmp/hail.Y2Dh5hqGGSs3/TYa5dd1Glr.bm\n",
      "2020-04-23 15:32:49 Hail: INFO: wrote matrix with 2000 rows and 2000 columns as 1 block of size 4096 to file:/tmp/hail.Y2Dh5hqGGSs3/gc3ithTMrH.bm\n",
      "2020-04-23 15:32:53 Hail: INFO: Ordering unsorted dataset with network shuffle\n",
      "2020-04-23 15:33:12 Hail: INFO: Coerced sorted dataset\n",
      "2020-04-23 15:33:26 Hail: INFO: wrote table with 1999000 rows in 1 partition to /tmp/tmp5obapbav/pc_relate_result\n",
      "2020-04-23 15:33:26 Hail: INFO: balding_nichols_model: generating genotypes for 10 populations, 2000 samples, and 2000 variants...\n"
     ]
    },
    {
     "name": "stdout",
     "output_type": "stream",
     "text": [
      "Deleting pc_relate results: /tmp/tmp5obapbav/pc_relate_result\n",
      "Deleting hail tmp dir: /tmp/hail.Y2Dh5hqGGSs3\n"
     ]
    },
    {
     "name": "stderr",
     "output_type": "stream",
     "text": [
      "2020-04-23 15:33:26 Hail: INFO: Coerced sorted dataset\n",
      "2020-04-23 15:33:27 Hail: INFO: wrote matrix table with 2000 rows and 2000 columns in 8 partitions to /home/rav/data/tmp/mt_2000_2000_10.mt\n",
      "2020-04-23 15:33:27 Hail: INFO: hwe_normalized_pca: running PCA using 2000 variants.\n",
      "2020-04-23 15:33:28 Hail: INFO: pca: running PCA with 10 components...\n"
     ]
    },
    {
     "name": "stdout",
     "output_type": "stream",
     "text": [
      "PCA took s:2000, v:2000, p:10 : 6.10 seconds\n"
     ]
    },
    {
     "name": "stderr",
     "output_type": "stream",
     "text": [
      "2020-04-23 15:33:35 Hail: INFO: Wrote all 1 blocks of 2000 x 2000 matrix with block size 4096.\n",
      "2020-04-23 15:33:35 Hail: INFO: wrote matrix with 11 rows and 2000 columns as 1 block of size 4096 to file:/tmp/hail.Y2Dh5hqGGSs3/4dVfZ0lw3u.bm\n",
      "2020-04-23 15:33:35 Hail: INFO: wrote matrix with 2000 rows and 2000 columns as 1 block of size 4096 to file:/tmp/hail.Y2Dh5hqGGSs3/AoksXmagZy.bm\n",
      "2020-04-23 15:33:36 Hail: INFO: wrote matrix with 2000 rows and 2000 columns as 1 block of size 4096 to file:/tmp/hail.Y2Dh5hqGGSs3/que968p4Zw.bm\n",
      "2020-04-23 15:33:38 Hail: INFO: wrote matrix with 2000 rows and 2000 columns as 1 block of size 4096 to file:/tmp/hail.Y2Dh5hqGGSs3/qIwAVomrUx.bm\n",
      "2020-04-23 15:33:39 Hail: INFO: wrote matrix with 2000 rows and 2000 columns as 1 block of size 4096 to file:/tmp/hail.Y2Dh5hqGGSs3/tDmm7BTeNY.bm\n",
      "2020-04-23 15:33:39 Hail: INFO: wrote matrix with 2000 rows and 2000 columns as 1 block of size 4096 to file:/tmp/hail.Y2Dh5hqGGSs3/v4VdzXQN3S.bm\n",
      "2020-04-23 15:33:42 Hail: INFO: wrote matrix with 2000 rows and 2000 columns as 1 block of size 4096 to file:/tmp/hail.Y2Dh5hqGGSs3/C9Ed8HCVec.bm\n",
      "2020-04-23 15:33:43 Hail: INFO: wrote matrix with 2000 rows and 2000 columns as 1 block of size 4096 to file:/tmp/hail.Y2Dh5hqGGSs3/olygt8CBhA.bm\n",
      "2020-04-23 15:33:43 Hail: INFO: wrote matrix with 2000 rows and 2000 columns as 1 block of size 4096 to file:/tmp/hail.Y2Dh5hqGGSs3/aIP8eS5jLu.bm\n",
      "2020-04-23 15:33:45 Hail: INFO: wrote matrix with 2000 rows and 2000 columns as 1 block of size 4096 to file:/tmp/hail.Y2Dh5hqGGSs3/a5MRIte8yI.bm\n",
      "2020-04-23 15:33:47 Hail: INFO: wrote matrix with 2000 rows and 2000 columns as 1 block of size 4096 to file:/tmp/hail.Y2Dh5hqGGSs3/ULRkqy6O6h.bm\n",
      "2020-04-23 15:33:48 Hail: INFO: wrote matrix with 2000 rows and 2000 columns as 1 block of size 4096 to file:/tmp/hail.Y2Dh5hqGGSs3/Uw5MoJ2KAU.bm\n",
      "2020-04-23 15:33:51 Hail: INFO: Ordering unsorted dataset with network shuffle\n",
      "2020-04-23 15:34:11 Hail: INFO: Coerced sorted dataset\n",
      "2020-04-23 15:34:24 Hail: INFO: wrote table with 1999000 rows in 1 partition to /tmp/tmprluxxjkg/pc_relate_result\n",
      "2020-04-23 15:34:25 Hail: INFO: balding_nichols_model: generating genotypes for 10 populations, 2000 samples, and 3000 variants...\n"
     ]
    },
    {
     "name": "stdout",
     "output_type": "stream",
     "text": [
      "Deleting pc_relate results: /tmp/tmprluxxjkg/pc_relate_result\n",
      "Deleting hail tmp dir: /tmp/hail.Y2Dh5hqGGSs3\n"
     ]
    },
    {
     "name": "stderr",
     "output_type": "stream",
     "text": [
      "2020-04-23 15:34:25 Hail: INFO: Coerced sorted dataset\n",
      "2020-04-23 15:34:26 Hail: INFO: wrote matrix table with 3000 rows and 2000 columns in 8 partitions to /home/rav/data/tmp/mt_2000_3000_10.mt\n",
      "2020-04-23 15:34:26 Hail: INFO: hwe_normalized_pca: running PCA using 3000 variants.\n",
      "2020-04-23 15:34:27 Hail: INFO: pca: running PCA with 10 components...\n"
     ]
    },
    {
     "name": "stdout",
     "output_type": "stream",
     "text": [
      "PCA took s:2000, v:3000, p:10 : 7.84 seconds\n"
     ]
    },
    {
     "name": "stderr",
     "output_type": "stream",
     "text": [
      "2020-04-23 15:34:36 Hail: INFO: Wrote all 1 blocks of 3000 x 2000 matrix with block size 4096.\n",
      "2020-04-23 15:34:37 Hail: INFO: wrote matrix with 11 rows and 3000 columns as 1 block of size 4096 to file:/tmp/hail.Y2Dh5hqGGSs3/odHH24tXZF.bm\n",
      "2020-04-23 15:34:37 Hail: INFO: wrote matrix with 3000 rows and 2000 columns as 1 block of size 4096 to file:/tmp/hail.Y2Dh5hqGGSs3/sjYJBvXoD5.bm\n",
      "2020-04-23 15:34:37 Hail: INFO: wrote matrix with 3000 rows and 2000 columns as 1 block of size 4096 to file:/tmp/hail.Y2Dh5hqGGSs3/VM3Sp5GOkB.bm\n",
      "2020-04-23 15:34:40 Hail: INFO: wrote matrix with 2000 rows and 2000 columns as 1 block of size 4096 to file:/tmp/hail.Y2Dh5hqGGSs3/gUpxoKjzNS.bm\n",
      "2020-04-23 15:34:42 Hail: INFO: wrote matrix with 2000 rows and 2000 columns as 1 block of size 4096 to file:/tmp/hail.Y2Dh5hqGGSs3/bqjVJpXbEj.bm\n",
      "2020-04-23 15:34:42 Hail: INFO: wrote matrix with 2000 rows and 2000 columns as 1 block of size 4096 to file:/tmp/hail.Y2Dh5hqGGSs3/AYb6wxWTxm.bm\n",
      "2020-04-23 15:34:46 Hail: INFO: wrote matrix with 2000 rows and 2000 columns as 1 block of size 4096 to file:/tmp/hail.Y2Dh5hqGGSs3/JNMF78uYIV.bm\n",
      "2020-04-23 15:34:48 Hail: INFO: wrote matrix with 2000 rows and 2000 columns as 1 block of size 4096 to file:/tmp/hail.Y2Dh5hqGGSs3/oA7d0fKw3I.bm\n",
      "2020-04-23 15:34:48 Hail: INFO: wrote matrix with 2000 rows and 2000 columns as 1 block of size 4096 to file:/tmp/hail.Y2Dh5hqGGSs3/zU1ogI9PFX.bm\n",
      "2020-04-23 15:34:51 Hail: INFO: wrote matrix with 2000 rows and 2000 columns as 1 block of size 4096 to file:/tmp/hail.Y2Dh5hqGGSs3/JbqirbVS4f.bm\n",
      "2020-04-23 15:34:54 Hail: INFO: wrote matrix with 2000 rows and 2000 columns as 1 block of size 4096 to file:/tmp/hail.Y2Dh5hqGGSs3/v3csjPo06t.bm\n",
      "2020-04-23 15:34:54 Hail: INFO: wrote matrix with 2000 rows and 2000 columns as 1 block of size 4096 to file:/tmp/hail.Y2Dh5hqGGSs3/QXfxfgmSgV.bm\n",
      "2020-04-23 15:34:58 Hail: INFO: Ordering unsorted dataset with network shuffle\n",
      "2020-04-23 15:35:17 Hail: INFO: Coerced sorted dataset\n",
      "2020-04-23 15:35:31 Hail: INFO: wrote table with 1999000 rows in 1 partition to /tmp/tmpv_i0mvtp/pc_relate_result\n",
      "2020-04-23 15:35:31 Hail: INFO: balding_nichols_model: generating genotypes for 10 populations, 2000 samples, and 4000 variants...\n"
     ]
    },
    {
     "name": "stdout",
     "output_type": "stream",
     "text": [
      "Deleting pc_relate results: /tmp/tmpv_i0mvtp/pc_relate_result\n",
      "Deleting hail tmp dir: /tmp/hail.Y2Dh5hqGGSs3\n"
     ]
    },
    {
     "name": "stderr",
     "output_type": "stream",
     "text": [
      "2020-04-23 15:35:31 Hail: INFO: Coerced sorted dataset\n",
      "2020-04-23 15:35:33 Hail: INFO: wrote matrix table with 4000 rows and 2000 columns in 8 partitions to /home/rav/data/tmp/mt_2000_4000_10.mt\n",
      "2020-04-23 15:35:33 Hail: INFO: hwe_normalized_pca: running PCA using 4000 variants.\n",
      "2020-04-23 15:35:34 Hail: INFO: pca: running PCA with 10 components...\n"
     ]
    },
    {
     "name": "stdout",
     "output_type": "stream",
     "text": [
      "PCA took s:2000, v:4000, p:10 : 7.48 seconds\n"
     ]
    },
    {
     "name": "stderr",
     "output_type": "stream",
     "text": [
      "2020-04-23 15:35:43 Hail: INFO: Wrote all 1 blocks of 4000 x 2000 matrix with block size 4096.\n",
      "2020-04-23 15:35:43 Hail: INFO: wrote matrix with 11 rows and 4000 columns as 1 block of size 4096 to file:/tmp/hail.Y2Dh5hqGGSs3/p3kIpXS9qu.bm\n",
      "2020-04-23 15:35:43 Hail: INFO: wrote matrix with 4000 rows and 2000 columns as 1 block of size 4096 to file:/tmp/hail.Y2Dh5hqGGSs3/t4jzTwSzif.bm\n",
      "2020-04-23 15:35:44 Hail: INFO: wrote matrix with 4000 rows and 2000 columns as 1 block of size 4096 to file:/tmp/hail.Y2Dh5hqGGSs3/qGq4Dz6TV9.bm\n",
      "2020-04-23 15:35:47 Hail: INFO: wrote matrix with 2000 rows and 2000 columns as 1 block of size 4096 to file:/tmp/hail.Y2Dh5hqGGSs3/Ets7X7Fjy7.bm\n",
      "2020-04-23 15:35:51 Hail: INFO: wrote matrix with 2000 rows and 2000 columns as 1 block of size 4096 to file:/tmp/hail.Y2Dh5hqGGSs3/f0xNsGxYSJ.bm\n",
      "2020-04-23 15:35:51 Hail: INFO: wrote matrix with 2000 rows and 2000 columns as 1 block of size 4096 to file:/tmp/hail.Y2Dh5hqGGSs3/4BlfCdhazB.bm\n",
      "2020-04-23 15:35:55 Hail: INFO: wrote matrix with 2000 rows and 2000 columns as 1 block of size 4096 to file:/tmp/hail.Y2Dh5hqGGSs3/fzOyv3f4on.bm\n",
      "2020-04-23 15:35:58 Hail: INFO: wrote matrix with 2000 rows and 2000 columns as 1 block of size 4096 to file:/tmp/hail.Y2Dh5hqGGSs3/tQuPt7u9Fq.bm\n",
      "2020-04-23 15:35:59 Hail: INFO: wrote matrix with 2000 rows and 2000 columns as 1 block of size 4096 to file:/tmp/hail.Y2Dh5hqGGSs3/6dg2S9aETb.bm\n",
      "2020-04-23 15:36:03 Hail: INFO: wrote matrix with 2000 rows and 2000 columns as 1 block of size 4096 to file:/tmp/hail.Y2Dh5hqGGSs3/dJeTyt1owF.bm\n",
      "2020-04-23 15:36:06 Hail: INFO: wrote matrix with 2000 rows and 2000 columns as 1 block of size 4096 to file:/tmp/hail.Y2Dh5hqGGSs3/BF81OSAq5z.bm\n",
      "2020-04-23 15:36:07 Hail: INFO: wrote matrix with 2000 rows and 2000 columns as 1 block of size 4096 to file:/tmp/hail.Y2Dh5hqGGSs3/WJWFGWNBXe.bm\n",
      "2020-04-23 15:36:11 Hail: INFO: Ordering unsorted dataset with network shuffle\n",
      "2020-04-23 15:36:30 Hail: INFO: Coerced sorted dataset\n",
      "2020-04-23 15:36:43 Hail: INFO: wrote table with 1999000 rows in 1 partition to /tmp/tmpzve89pjj/pc_relate_result\n",
      "2020-04-23 15:36:43 Hail: INFO: balding_nichols_model: generating genotypes for 10 populations, 2000 samples, and 5000 variants...\n"
     ]
    },
    {
     "name": "stdout",
     "output_type": "stream",
     "text": [
      "Deleting pc_relate results: /tmp/tmpzve89pjj/pc_relate_result\n",
      "Deleting hail tmp dir: /tmp/hail.Y2Dh5hqGGSs3\n"
     ]
    },
    {
     "name": "stderr",
     "output_type": "stream",
     "text": [
      "2020-04-23 15:36:44 Hail: INFO: Coerced sorted dataset\n",
      "2020-04-23 15:36:46 Hail: INFO: wrote matrix table with 5000 rows and 2000 columns in 8 partitions to /home/rav/data/tmp/mt_2000_5000_10.mt\n",
      "2020-04-23 15:36:46 Hail: INFO: hwe_normalized_pca: running PCA using 5000 variants.\n",
      "2020-04-23 15:36:47 Hail: INFO: pca: running PCA with 10 components...\n"
     ]
    },
    {
     "name": "stdout",
     "output_type": "stream",
     "text": [
      "PCA took s:2000, v:5000, p:10 : 8.29 seconds\n"
     ]
    },
    {
     "name": "stderr",
     "output_type": "stream",
     "text": [
      "2020-04-23 15:36:57 Hail: INFO: Wrote all 2 blocks of 5000 x 2000 matrix with block size 4096.\n",
      "2020-04-23 15:36:57 Hail: INFO: wrote matrix with 11 rows and 5000 columns as 2 blocks of size 4096 to file:/tmp/hail.Y2Dh5hqGGSs3/gyZ7iSv84u.bm\n",
      "2020-04-23 15:36:58 Hail: INFO: wrote matrix with 5000 rows and 2000 columns as 2 blocks of size 4096 to file:/tmp/hail.Y2Dh5hqGGSs3/4NnjsP0LUT.bm\n",
      "2020-04-23 15:36:58 Hail: INFO: wrote matrix with 5000 rows and 2000 columns as 2 blocks of size 4096 to file:/tmp/hail.Y2Dh5hqGGSs3/jWZWvBqKBZ.bm\n",
      "2020-04-23 15:37:02 Hail: INFO: wrote matrix with 2000 rows and 2000 columns as 1 block of size 4096 to file:/tmp/hail.Y2Dh5hqGGSs3/vZlKwpGS2R.bm\n",
      "2020-04-23 15:37:07 Hail: INFO: wrote matrix with 2000 rows and 2000 columns as 1 block of size 4096 to file:/tmp/hail.Y2Dh5hqGGSs3/hqnQylVmO0.bm\n",
      "2020-04-23 15:37:07 Hail: INFO: wrote matrix with 2000 rows and 2000 columns as 1 block of size 4096 to file:/tmp/hail.Y2Dh5hqGGSs3/lejW5xVgYT.bm\n",
      "2020-04-23 15:37:12 Hail: INFO: wrote matrix with 2000 rows and 2000 columns as 1 block of size 4096 to file:/tmp/hail.Y2Dh5hqGGSs3/5zAJywFz8m.bm\n",
      "2020-04-23 15:37:16 Hail: INFO: wrote matrix with 2000 rows and 2000 columns as 1 block of size 4096 to file:/tmp/hail.Y2Dh5hqGGSs3/Rs4IJpM4SI.bm\n",
      "2020-04-23 15:37:16 Hail: INFO: wrote matrix with 2000 rows and 2000 columns as 1 block of size 4096 to file:/tmp/hail.Y2Dh5hqGGSs3/ioD3JpdUA9.bm\n",
      "2020-04-23 15:37:21 Hail: INFO: wrote matrix with 2000 rows and 2000 columns as 1 block of size 4096 to file:/tmp/hail.Y2Dh5hqGGSs3/3p5A8vChAC.bm\n",
      "2020-04-23 15:37:26 Hail: INFO: wrote matrix with 2000 rows and 2000 columns as 1 block of size 4096 to file:/tmp/hail.Y2Dh5hqGGSs3/UiL5x4Uiyw.bm\n",
      "2020-04-23 15:37:26 Hail: INFO: wrote matrix with 2000 rows and 2000 columns as 1 block of size 4096 to file:/tmp/hail.Y2Dh5hqGGSs3/HWgyWLJkOK.bm\n",
      "2020-04-23 15:37:30 Hail: INFO: Ordering unsorted dataset with network shuffle\n",
      "2020-04-23 15:37:49 Hail: INFO: Coerced sorted dataset\n",
      "2020-04-23 15:38:02 Hail: INFO: wrote table with 1999000 rows in 1 partition to /tmp/tmpwzgc6fh7/pc_relate_result\n",
      "2020-04-23 15:38:02 Hail: INFO: balding_nichols_model: generating genotypes for 10 populations, 2000 samples, and 6000 variants...\n"
     ]
    },
    {
     "name": "stdout",
     "output_type": "stream",
     "text": [
      "Deleting pc_relate results: /tmp/tmpwzgc6fh7/pc_relate_result\n",
      "Deleting hail tmp dir: /tmp/hail.Y2Dh5hqGGSs3\n"
     ]
    },
    {
     "name": "stderr",
     "output_type": "stream",
     "text": [
      "2020-04-23 15:38:03 Hail: INFO: Coerced sorted dataset\n",
      "2020-04-23 15:38:05 Hail: INFO: wrote matrix table with 6000 rows and 2000 columns in 8 partitions to /home/rav/data/tmp/mt_2000_6000_10.mt\n",
      "2020-04-23 15:38:05 Hail: INFO: hwe_normalized_pca: running PCA using 6000 variants.\n",
      "2020-04-23 15:38:06 Hail: INFO: pca: running PCA with 10 components...\n"
     ]
    },
    {
     "name": "stdout",
     "output_type": "stream",
     "text": [
      "PCA took s:2000, v:6000, p:10 : 10.09 seconds\n"
     ]
    },
    {
     "name": "stderr",
     "output_type": "stream",
     "text": [
      "2020-04-23 15:38:18 Hail: INFO: Wrote all 2 blocks of 6000 x 2000 matrix with block size 4096.\n",
      "2020-04-23 15:38:19 Hail: INFO: wrote matrix with 11 rows and 6000 columns as 2 blocks of size 4096 to file:/tmp/hail.Y2Dh5hqGGSs3/ocNhayCeaW.bm\n",
      "2020-04-23 15:38:19 Hail: INFO: wrote matrix with 6000 rows and 2000 columns as 2 blocks of size 4096 to file:/tmp/hail.Y2Dh5hqGGSs3/ogHyOQ5Jfk.bm\n",
      "2020-04-23 15:38:19 Hail: INFO: wrote matrix with 6000 rows and 2000 columns as 2 blocks of size 4096 to file:/tmp/hail.Y2Dh5hqGGSs3/DCn6qgCf5o.bm\n",
      "2020-04-23 15:38:25 Hail: INFO: wrote matrix with 2000 rows and 2000 columns as 1 block of size 4096 to file:/tmp/hail.Y2Dh5hqGGSs3/uc96QqXPuf.bm\n",
      "2020-04-23 15:38:30 Hail: INFO: wrote matrix with 2000 rows and 2000 columns as 1 block of size 4096 to file:/tmp/hail.Y2Dh5hqGGSs3/dIwNcouiZ1.bm\n",
      "2020-04-23 15:38:30 Hail: INFO: wrote matrix with 2000 rows and 2000 columns as 1 block of size 4096 to file:/tmp/hail.Y2Dh5hqGGSs3/xNRv0rEAd6.bm\n",
      "2020-04-23 15:38:36 Hail: INFO: wrote matrix with 2000 rows and 2000 columns as 1 block of size 4096 to file:/tmp/hail.Y2Dh5hqGGSs3/NwJQ2p4ZxN.bm\n",
      "2020-04-23 15:38:41 Hail: INFO: wrote matrix with 2000 rows and 2000 columns as 1 block of size 4096 to file:/tmp/hail.Y2Dh5hqGGSs3/Zyt7xMFCgW.bm\n",
      "2020-04-23 15:38:41 Hail: INFO: wrote matrix with 2000 rows and 2000 columns as 1 block of size 4096 to file:/tmp/hail.Y2Dh5hqGGSs3/uoTa9TyJlQ.bm\n",
      "2020-04-23 15:38:47 Hail: INFO: wrote matrix with 2000 rows and 2000 columns as 1 block of size 4096 to file:/tmp/hail.Y2Dh5hqGGSs3/7oNCuM1xZp.bm\n",
      "2020-04-23 15:38:53 Hail: INFO: wrote matrix with 2000 rows and 2000 columns as 1 block of size 4096 to file:/tmp/hail.Y2Dh5hqGGSs3/PcFj0AmLjF.bm\n",
      "2020-04-23 15:38:53 Hail: INFO: wrote matrix with 2000 rows and 2000 columns as 1 block of size 4096 to file:/tmp/hail.Y2Dh5hqGGSs3/zV05TMwBv0.bm\n",
      "2020-04-23 15:38:57 Hail: INFO: Ordering unsorted dataset with network shuffle\n",
      "2020-04-23 15:39:16 Hail: INFO: Coerced sorted dataset\n",
      "2020-04-23 15:39:32 Hail: INFO: wrote table with 1999000 rows in 1 partition to /tmp/tmpywi0kwdq/pc_relate_result\n",
      "2020-04-23 15:39:32 Hail: INFO: balding_nichols_model: generating genotypes for 10 populations, 2000 samples, and 7000 variants...\n"
     ]
    },
    {
     "name": "stdout",
     "output_type": "stream",
     "text": [
      "Deleting pc_relate results: /tmp/tmpywi0kwdq/pc_relate_result\n",
      "Deleting hail tmp dir: /tmp/hail.Y2Dh5hqGGSs3\n"
     ]
    },
    {
     "name": "stderr",
     "output_type": "stream",
     "text": [
      "2020-04-23 15:39:32 Hail: INFO: Coerced sorted dataset\n",
      "2020-04-23 15:39:35 Hail: INFO: wrote matrix table with 7000 rows and 2000 columns in 8 partitions to /home/rav/data/tmp/mt_2000_7000_10.mt\n",
      "2020-04-23 15:39:35 Hail: INFO: hwe_normalized_pca: running PCA using 7000 variants.\n",
      "2020-04-23 15:39:36 Hail: INFO: pca: running PCA with 10 components...\n"
     ]
    },
    {
     "name": "stdout",
     "output_type": "stream",
     "text": [
      "PCA took s:2000, v:7000, p:10 : 11.69 seconds\n"
     ]
    },
    {
     "name": "stderr",
     "output_type": "stream",
     "text": [
      "2020-04-23 15:39:50 Hail: INFO: Wrote all 2 blocks of 7000 x 2000 matrix with block size 4096.\n",
      "2020-04-23 15:39:50 Hail: INFO: wrote matrix with 11 rows and 7000 columns as 2 blocks of size 4096 to file:/tmp/hail.Y2Dh5hqGGSs3/lhqoSt4fnn.bm\n",
      "2020-04-23 15:39:50 Hail: INFO: wrote matrix with 7000 rows and 2000 columns as 2 blocks of size 4096 to file:/tmp/hail.Y2Dh5hqGGSs3/FdxWhB1H8B.bm\n",
      "2020-04-23 15:39:51 Hail: INFO: wrote matrix with 7000 rows and 2000 columns as 2 blocks of size 4096 to file:/tmp/hail.Y2Dh5hqGGSs3/lg4OC8qKnA.bm\n",
      "2020-04-23 15:39:57 Hail: INFO: wrote matrix with 2000 rows and 2000 columns as 1 block of size 4096 to file:/tmp/hail.Y2Dh5hqGGSs3/nN5mhDs7bV.bm\n",
      "2020-04-23 15:40:03 Hail: INFO: wrote matrix with 2000 rows and 2000 columns as 1 block of size 4096 to file:/tmp/hail.Y2Dh5hqGGSs3/7RHliER57S.bm\n",
      "2020-04-23 15:40:03 Hail: INFO: wrote matrix with 2000 rows and 2000 columns as 1 block of size 4096 to file:/tmp/hail.Y2Dh5hqGGSs3/2z3rM66apf.bm\n",
      "2020-04-23 15:40:10 Hail: INFO: wrote matrix with 2000 rows and 2000 columns as 1 block of size 4096 to file:/tmp/hail.Y2Dh5hqGGSs3/UjMLyLtdDM.bm\n",
      "2020-04-23 15:40:16 Hail: INFO: wrote matrix with 2000 rows and 2000 columns as 1 block of size 4096 to file:/tmp/hail.Y2Dh5hqGGSs3/WpFhUd9BI0.bm\n",
      "2020-04-23 15:40:16 Hail: INFO: wrote matrix with 2000 rows and 2000 columns as 1 block of size 4096 to file:/tmp/hail.Y2Dh5hqGGSs3/Sh1a8bkT9i.bm\n",
      "2020-04-23 15:40:23 Hail: INFO: wrote matrix with 2000 rows and 2000 columns as 1 block of size 4096 to file:/tmp/hail.Y2Dh5hqGGSs3/MaJnnwsohB.bm\n",
      "2020-04-23 15:40:30 Hail: INFO: wrote matrix with 2000 rows and 2000 columns as 1 block of size 4096 to file:/tmp/hail.Y2Dh5hqGGSs3/mZdI5KFBn3.bm\n",
      "2020-04-23 15:40:30 Hail: INFO: wrote matrix with 2000 rows and 2000 columns as 1 block of size 4096 to file:/tmp/hail.Y2Dh5hqGGSs3/cCAr0WqDG8.bm\n",
      "2020-04-23 15:40:34 Hail: INFO: Ordering unsorted dataset with network shuffle\n",
      "2020-04-23 15:40:53 Hail: INFO: Coerced sorted dataset\n",
      "2020-04-23 15:41:06 Hail: INFO: wrote table with 1999000 rows in 1 partition to /tmp/tmpynui2sf7/pc_relate_result\n",
      "2020-04-23 15:41:07 Hail: INFO: balding_nichols_model: generating genotypes for 10 populations, 2000 samples, and 8000 variants...\n"
     ]
    },
    {
     "name": "stdout",
     "output_type": "stream",
     "text": [
      "Deleting pc_relate results: /tmp/tmpynui2sf7/pc_relate_result\n",
      "Deleting hail tmp dir: /tmp/hail.Y2Dh5hqGGSs3\n"
     ]
    },
    {
     "name": "stderr",
     "output_type": "stream",
     "text": [
      "2020-04-23 15:41:07 Hail: INFO: Coerced sorted dataset\n",
      "2020-04-23 15:41:10 Hail: INFO: wrote matrix table with 8000 rows and 2000 columns in 8 partitions to /home/rav/data/tmp/mt_2000_8000_10.mt\n",
      "2020-04-23 15:41:10 Hail: INFO: hwe_normalized_pca: running PCA using 8000 variants.\n",
      "2020-04-23 15:41:11 Hail: INFO: pca: running PCA with 10 components...\n"
     ]
    },
    {
     "name": "stdout",
     "output_type": "stream",
     "text": [
      "PCA took s:2000, v:8000, p:10 : 10.91 seconds\n"
     ]
    },
    {
     "name": "stderr",
     "output_type": "stream",
     "text": [
      "2020-04-23 15:41:24 Hail: INFO: Wrote all 2 blocks of 8000 x 2000 matrix with block size 4096.\n",
      "2020-04-23 15:41:24 Hail: INFO: wrote matrix with 11 rows and 8000 columns as 2 blocks of size 4096 to file:/tmp/hail.Y2Dh5hqGGSs3/WHjzRB18NU.bm\n",
      "2020-04-23 15:41:25 Hail: INFO: wrote matrix with 8000 rows and 2000 columns as 2 blocks of size 4096 to file:/tmp/hail.Y2Dh5hqGGSs3/8ixAaHhCbx.bm\n",
      "2020-04-23 15:41:25 Hail: INFO: wrote matrix with 8000 rows and 2000 columns as 2 blocks of size 4096 to file:/tmp/hail.Y2Dh5hqGGSs3/TOFYRay4ZK.bm\n",
      "2020-04-23 15:41:32 Hail: INFO: wrote matrix with 2000 rows and 2000 columns as 1 block of size 4096 to file:/tmp/hail.Y2Dh5hqGGSs3/gfAK03aMWg.bm\n",
      "2020-04-23 15:41:39 Hail: INFO: wrote matrix with 2000 rows and 2000 columns as 1 block of size 4096 to file:/tmp/hail.Y2Dh5hqGGSs3/gEEHzNlc9d.bm\n",
      "2020-04-23 15:41:39 Hail: INFO: wrote matrix with 2000 rows and 2000 columns as 1 block of size 4096 to file:/tmp/hail.Y2Dh5hqGGSs3/Eol8uMUoSm.bm\n",
      "2020-04-23 15:41:47 Hail: INFO: wrote matrix with 2000 rows and 2000 columns as 1 block of size 4096 to file:/tmp/hail.Y2Dh5hqGGSs3/XgQ7EZxN9w.bm\n",
      "2020-04-23 15:41:54 Hail: INFO: wrote matrix with 2000 rows and 2000 columns as 1 block of size 4096 to file:/tmp/hail.Y2Dh5hqGGSs3/pDS5vgFLrh.bm\n",
      "2020-04-23 15:41:54 Hail: INFO: wrote matrix with 2000 rows and 2000 columns as 1 block of size 4096 to file:/tmp/hail.Y2Dh5hqGGSs3/ALrID94hSJ.bm\n",
      "2020-04-23 15:42:01 Hail: INFO: wrote matrix with 2000 rows and 2000 columns as 1 block of size 4096 to file:/tmp/hail.Y2Dh5hqGGSs3/CugmhsEztB.bm\n",
      "2020-04-23 15:42:09 Hail: INFO: wrote matrix with 2000 rows and 2000 columns as 1 block of size 4096 to file:/tmp/hail.Y2Dh5hqGGSs3/wi6WsVqjyH.bm\n",
      "2020-04-23 15:42:09 Hail: INFO: wrote matrix with 2000 rows and 2000 columns as 1 block of size 4096 to file:/tmp/hail.Y2Dh5hqGGSs3/sozGaD5Egs.bm\n",
      "2020-04-23 15:42:13 Hail: INFO: Ordering unsorted dataset with network shuffle\n",
      "2020-04-23 15:42:32 Hail: INFO: Coerced sorted dataset\n",
      "2020-04-23 15:42:46 Hail: INFO: wrote table with 1999000 rows in 1 partition to /tmp/tmpdj__eirm/pc_relate_result\n",
      "2020-04-23 15:42:46 Hail: INFO: balding_nichols_model: generating genotypes for 10 populations, 2000 samples, and 9000 variants...\n"
     ]
    },
    {
     "name": "stdout",
     "output_type": "stream",
     "text": [
      "Deleting pc_relate results: /tmp/tmpdj__eirm/pc_relate_result\n",
      "Deleting hail tmp dir: /tmp/hail.Y2Dh5hqGGSs3\n"
     ]
    },
    {
     "name": "stderr",
     "output_type": "stream",
     "text": [
      "2020-04-23 15:42:46 Hail: INFO: Coerced sorted dataset\n",
      "2020-04-23 15:42:49 Hail: INFO: wrote matrix table with 9000 rows and 2000 columns in 8 partitions to /home/rav/data/tmp/mt_2000_9000_10.mt\n",
      "2020-04-23 15:42:50 Hail: INFO: hwe_normalized_pca: running PCA using 9000 variants.\n",
      "2020-04-23 15:42:51 Hail: INFO: pca: running PCA with 10 components...\n"
     ]
    },
    {
     "name": "stdout",
     "output_type": "stream",
     "text": [
      "PCA took s:2000, v:9000, p:10 : 13.83 seconds\n"
     ]
    },
    {
     "name": "stderr",
     "output_type": "stream",
     "text": [
      "2020-04-23 15:43:06 Hail: INFO: Wrote all 3 blocks of 9000 x 2000 matrix with block size 4096.\n",
      "2020-04-23 15:43:07 Hail: INFO: wrote matrix with 11 rows and 9000 columns as 3 blocks of size 4096 to file:/tmp/hail.Y2Dh5hqGGSs3/3tchk0cKSX.bm\n",
      "2020-04-23 15:43:07 Hail: INFO: wrote matrix with 9000 rows and 2000 columns as 3 blocks of size 4096 to file:/tmp/hail.Y2Dh5hqGGSs3/6vVypPcSsZ.bm\n",
      "2020-04-23 15:43:08 Hail: INFO: wrote matrix with 9000 rows and 2000 columns as 3 blocks of size 4096 to file:/tmp/hail.Y2Dh5hqGGSs3/cS0kNNyaKG.bm\n",
      "2020-04-23 15:43:16 Hail: INFO: wrote matrix with 2000 rows and 2000 columns as 1 block of size 4096 to file:/tmp/hail.Y2Dh5hqGGSs3/13b5ky0hqm.bm\n",
      "2020-04-23 15:43:23 Hail: INFO: wrote matrix with 2000 rows and 2000 columns as 1 block of size 4096 to file:/tmp/hail.Y2Dh5hqGGSs3/t80ulUb8et.bm\n",
      "2020-04-23 15:43:23 Hail: INFO: wrote matrix with 2000 rows and 2000 columns as 1 block of size 4096 to file:/tmp/hail.Y2Dh5hqGGSs3/H34XP1r1jA.bm\n",
      "2020-04-23 15:43:33 Hail: INFO: wrote matrix with 2000 rows and 2000 columns as 1 block of size 4096 to file:/tmp/hail.Y2Dh5hqGGSs3/FUfu8UYkuZ.bm\n",
      "2020-04-23 15:43:40 Hail: INFO: wrote matrix with 2000 rows and 2000 columns as 1 block of size 4096 to file:/tmp/hail.Y2Dh5hqGGSs3/oHXsQmsmsH.bm\n",
      "2020-04-23 15:43:40 Hail: INFO: wrote matrix with 2000 rows and 2000 columns as 1 block of size 4096 to file:/tmp/hail.Y2Dh5hqGGSs3/0AGVPkHcR5.bm\n",
      "2020-04-23 15:43:49 Hail: INFO: wrote matrix with 2000 rows and 2000 columns as 1 block of size 4096 to file:/tmp/hail.Y2Dh5hqGGSs3/3r4Hzwybj3.bm\n",
      "2020-04-23 15:43:57 Hail: INFO: wrote matrix with 2000 rows and 2000 columns as 1 block of size 4096 to file:/tmp/hail.Y2Dh5hqGGSs3/UdmgTnD3RM.bm\n",
      "2020-04-23 15:43:57 Hail: INFO: wrote matrix with 2000 rows and 2000 columns as 1 block of size 4096 to file:/tmp/hail.Y2Dh5hqGGSs3/QsybKKYAZc.bm\n",
      "2020-04-23 15:44:01 Hail: INFO: Ordering unsorted dataset with network shuffle\n",
      "2020-04-23 15:44:20 Hail: INFO: Coerced sorted dataset\n",
      "2020-04-23 15:44:34 Hail: INFO: wrote table with 1999000 rows in 1 partition to /tmp/tmp603v5esn/pc_relate_result\n",
      "2020-04-23 15:44:34 Hail: INFO: balding_nichols_model: generating genotypes for 10 populations, 2000 samples, and 10000 variants...\n"
     ]
    },
    {
     "name": "stdout",
     "output_type": "stream",
     "text": [
      "Deleting pc_relate results: /tmp/tmp603v5esn/pc_relate_result\n",
      "Deleting hail tmp dir: /tmp/hail.Y2Dh5hqGGSs3\n"
     ]
    },
    {
     "name": "stderr",
     "output_type": "stream",
     "text": [
      "2020-04-23 15:44:34 Hail: INFO: Coerced sorted dataset\n",
      "2020-04-23 15:44:38 Hail: INFO: wrote matrix table with 10000 rows and 2000 columns in 8 partitions to /home/rav/data/tmp/mt_2000_10000_10.mt\n",
      "2020-04-23 15:44:38 Hail: INFO: hwe_normalized_pca: running PCA using 10000 variants.\n",
      "2020-04-23 15:44:39 Hail: INFO: pca: running PCA with 10 components...\n"
     ]
    },
    {
     "name": "stdout",
     "output_type": "stream",
     "text": [
      "PCA took s:2000, v:10000, p:10 : 8.46 seconds\n"
     ]
    },
    {
     "name": "stderr",
     "output_type": "stream",
     "text": [
      "2020-04-23 15:44:49 Hail: INFO: Wrote all 3 blocks of 10000 x 2000 matrix with block size 4096.\n",
      "2020-04-23 15:44:50 Hail: INFO: wrote matrix with 11 rows and 10000 columns as 3 blocks of size 4096 to file:/tmp/hail.Y2Dh5hqGGSs3/EGLUVJwkVu.bm\n",
      "2020-04-23 15:44:50 Hail: INFO: wrote matrix with 10000 rows and 2000 columns as 3 blocks of size 4096 to file:/tmp/hail.Y2Dh5hqGGSs3/JzMps86nzs.bm\n",
      "2020-04-23 15:44:51 Hail: INFO: wrote matrix with 10000 rows and 2000 columns as 3 blocks of size 4096 to file:/tmp/hail.Y2Dh5hqGGSs3/3Oftvou40H.bm\n",
      "2020-04-23 15:44:59 Hail: INFO: wrote matrix with 2000 rows and 2000 columns as 1 block of size 4096 to file:/tmp/hail.Y2Dh5hqGGSs3/MGTKCR3SQe.bm\n",
      "2020-04-23 15:45:07 Hail: INFO: wrote matrix with 2000 rows and 2000 columns as 1 block of size 4096 to file:/tmp/hail.Y2Dh5hqGGSs3/BLU5w8R4Ue.bm\n",
      "2020-04-23 15:45:08 Hail: INFO: wrote matrix with 2000 rows and 2000 columns as 1 block of size 4096 to file:/tmp/hail.Y2Dh5hqGGSs3/Dku7aZrUX9.bm\n",
      "2020-04-23 15:45:18 Hail: INFO: wrote matrix with 2000 rows and 2000 columns as 1 block of size 4096 to file:/tmp/hail.Y2Dh5hqGGSs3/sm4k62DN0Y.bm\n",
      "2020-04-23 15:45:26 Hail: INFO: wrote matrix with 2000 rows and 2000 columns as 1 block of size 4096 to file:/tmp/hail.Y2Dh5hqGGSs3/rJ9dwOtrcG.bm\n",
      "2020-04-23 15:45:26 Hail: INFO: wrote matrix with 2000 rows and 2000 columns as 1 block of size 4096 to file:/tmp/hail.Y2Dh5hqGGSs3/gmdUhUXp6z.bm\n",
      "2020-04-23 15:45:36 Hail: INFO: wrote matrix with 2000 rows and 2000 columns as 1 block of size 4096 to file:/tmp/hail.Y2Dh5hqGGSs3/iXHJ3JvnB0.bm\n",
      "2020-04-23 15:45:45 Hail: INFO: wrote matrix with 2000 rows and 2000 columns as 1 block of size 4096 to file:/tmp/hail.Y2Dh5hqGGSs3/L4FRtKCe85.bm\n",
      "2020-04-23 15:45:46 Hail: INFO: wrote matrix with 2000 rows and 2000 columns as 1 block of size 4096 to file:/tmp/hail.Y2Dh5hqGGSs3/5ojeT69vA8.bm\n",
      "2020-04-23 15:45:49 Hail: INFO: Ordering unsorted dataset with network shuffle\n",
      "2020-04-23 15:46:08 Hail: INFO: Coerced sorted dataset\n",
      "2020-04-23 15:46:22 Hail: INFO: wrote table with 1999000 rows in 1 partition to /tmp/tmpbokrkh87/pc_relate_result\n",
      "2020-04-23 15:46:22 Hail: INFO: balding_nichols_model: generating genotypes for 10 populations, 3000 samples, and 1000 variants...\n"
     ]
    },
    {
     "name": "stdout",
     "output_type": "stream",
     "text": [
      "Deleting pc_relate results: /tmp/tmpbokrkh87/pc_relate_result\n",
      "Deleting hail tmp dir: /tmp/hail.Y2Dh5hqGGSs3\n"
     ]
    },
    {
     "name": "stderr",
     "output_type": "stream",
     "text": [
      "2020-04-23 15:46:22 Hail: INFO: Coerced sorted dataset\n",
      "2020-04-23 15:46:24 Hail: INFO: wrote matrix table with 1000 rows and 3000 columns in 8 partitions to /home/rav/data/tmp/mt_3000_1000_10.mt\n",
      "2020-04-23 15:46:24 Hail: INFO: hwe_normalized_pca: running PCA using 1000 variants.\n",
      "2020-04-23 15:46:25 Hail: INFO: pca: running PCA with 10 components...\n"
     ]
    },
    {
     "name": "stdout",
     "output_type": "stream",
     "text": [
      "PCA took s:3000, v:1000, p:10 : 5.42 seconds\n"
     ]
    },
    {
     "name": "stderr",
     "output_type": "stream",
     "text": [
      "2020-04-23 15:46:31 Hail: INFO: Wrote all 1 blocks of 1000 x 3000 matrix with block size 4096.\n",
      "2020-04-23 15:46:32 Hail: INFO: wrote matrix with 11 rows and 1000 columns as 1 block of size 4096 to file:/tmp/hail.Y2Dh5hqGGSs3/ApSgdQddxo.bm\n",
      "2020-04-23 15:46:32 Hail: INFO: wrote matrix with 1000 rows and 3000 columns as 1 block of size 4096 to file:/tmp/hail.Y2Dh5hqGGSs3/IAyCS7LhZz.bm\n",
      "2020-04-23 15:46:32 Hail: INFO: wrote matrix with 1000 rows and 3000 columns as 1 block of size 4096 to file:/tmp/hail.Y2Dh5hqGGSs3/39bv7iq5l4.bm\n",
      "2020-04-23 15:46:34 Hail: INFO: wrote matrix with 3000 rows and 3000 columns as 1 block of size 4096 to file:/tmp/hail.Y2Dh5hqGGSs3/AZYfyVY611.bm\n",
      "2020-04-23 15:46:36 Hail: INFO: wrote matrix with 3000 rows and 3000 columns as 1 block of size 4096 to file:/tmp/hail.Y2Dh5hqGGSs3/j3hEEEb6QX.bm\n",
      "2020-04-23 15:46:37 Hail: INFO: wrote matrix with 3000 rows and 3000 columns as 1 block of size 4096 to file:/tmp/hail.Y2Dh5hqGGSs3/6OHq7tgLqS.bm\n",
      "2020-04-23 15:46:39 Hail: INFO: wrote matrix with 3000 rows and 3000 columns as 1 block of size 4096 to file:/tmp/hail.Y2Dh5hqGGSs3/bSgE7cVfa9.bm\n",
      "2020-04-23 15:46:41 Hail: INFO: wrote matrix with 3000 rows and 3000 columns as 1 block of size 4096 to file:/tmp/hail.Y2Dh5hqGGSs3/Dm1OquO0rT.bm\n",
      "2020-04-23 15:46:41 Hail: INFO: wrote matrix with 3000 rows and 3000 columns as 1 block of size 4096 to file:/tmp/hail.Y2Dh5hqGGSs3/5cPA8rcxJF.bm\n",
      "2020-04-23 15:46:43 Hail: INFO: wrote matrix with 3000 rows and 3000 columns as 1 block of size 4096 to file:/tmp/hail.Y2Dh5hqGGSs3/1OLGIfPtYT.bm\n",
      "2020-04-23 15:46:46 Hail: INFO: wrote matrix with 3000 rows and 3000 columns as 1 block of size 4096 to file:/tmp/hail.Y2Dh5hqGGSs3/PiXLsDgKpz.bm\n",
      "2020-04-23 15:46:46 Hail: INFO: wrote matrix with 3000 rows and 3000 columns as 1 block of size 4096 to file:/tmp/hail.Y2Dh5hqGGSs3/Jj09RIr84j.bm\n",
      "2020-04-23 15:46:55 Hail: INFO: Ordering unsorted dataset with network shuffle\n",
      "2020-04-23 15:47:37 Hail: INFO: Coerced sorted dataset\n",
      "2020-04-23 15:48:08 Hail: INFO: wrote table with 4498500 rows in 1 partition to /tmp/tmp26o3jzke/pc_relate_result\n",
      "2020-04-23 15:48:08 Hail: INFO: balding_nichols_model: generating genotypes for 10 populations, 3000 samples, and 2000 variants...\n"
     ]
    },
    {
     "name": "stdout",
     "output_type": "stream",
     "text": [
      "Deleting pc_relate results: /tmp/tmp26o3jzke/pc_relate_result\n",
      "Deleting hail tmp dir: /tmp/hail.Y2Dh5hqGGSs3\n"
     ]
    },
    {
     "name": "stderr",
     "output_type": "stream",
     "text": [
      "2020-04-23 15:48:08 Hail: INFO: Coerced sorted dataset\n",
      "2020-04-23 15:48:11 Hail: INFO: wrote matrix table with 2000 rows and 3000 columns in 8 partitions to /home/rav/data/tmp/mt_3000_2000_10.mt\n",
      "2020-04-23 15:48:11 Hail: INFO: hwe_normalized_pca: running PCA using 2000 variants.\n",
      "2020-04-23 15:48:12 Hail: INFO: pca: running PCA with 10 components...\n"
     ]
    },
    {
     "name": "stdout",
     "output_type": "stream",
     "text": [
      "PCA took s:3000, v:2000, p:10 : 8.98 seconds\n"
     ]
    },
    {
     "name": "stderr",
     "output_type": "stream",
     "text": [
      "2020-04-23 15:48:23 Hail: INFO: Wrote all 1 blocks of 2000 x 3000 matrix with block size 4096.\n",
      "2020-04-23 15:48:24 Hail: INFO: wrote matrix with 11 rows and 2000 columns as 1 block of size 4096 to file:/tmp/hail.Y2Dh5hqGGSs3/3JEghdu9AI.bm\n",
      "2020-04-23 15:48:24 Hail: INFO: wrote matrix with 2000 rows and 3000 columns as 1 block of size 4096 to file:/tmp/hail.Y2Dh5hqGGSs3/Q8fz6zNiWH.bm\n",
      "2020-04-23 15:48:24 Hail: INFO: wrote matrix with 2000 rows and 3000 columns as 1 block of size 4096 to file:/tmp/hail.Y2Dh5hqGGSs3/AJWQUPpEs3.bm\n",
      "2020-04-23 15:48:28 Hail: INFO: wrote matrix with 3000 rows and 3000 columns as 1 block of size 4096 to file:/tmp/hail.Y2Dh5hqGGSs3/VIz4S9PHfB.bm\n",
      "2020-04-23 15:48:32 Hail: INFO: wrote matrix with 3000 rows and 3000 columns as 1 block of size 4096 to file:/tmp/hail.Y2Dh5hqGGSs3/ciuk2qaslX.bm\n",
      "2020-04-23 15:48:32 Hail: INFO: wrote matrix with 3000 rows and 3000 columns as 1 block of size 4096 to file:/tmp/hail.Y2Dh5hqGGSs3/rd3GVD5ucJ.bm\n",
      "2020-04-23 15:48:37 Hail: INFO: wrote matrix with 3000 rows and 3000 columns as 1 block of size 4096 to file:/tmp/hail.Y2Dh5hqGGSs3/BXZ67LjFVo.bm\n",
      "2020-04-23 15:48:40 Hail: INFO: wrote matrix with 3000 rows and 3000 columns as 1 block of size 4096 to file:/tmp/hail.Y2Dh5hqGGSs3/WjOMLpMVuD.bm\n",
      "2020-04-23 15:48:41 Hail: INFO: wrote matrix with 3000 rows and 3000 columns as 1 block of size 4096 to file:/tmp/hail.Y2Dh5hqGGSs3/0sXyxUN96A.bm\n",
      "2020-04-23 15:48:45 Hail: INFO: wrote matrix with 3000 rows and 3000 columns as 1 block of size 4096 to file:/tmp/hail.Y2Dh5hqGGSs3/fbBmtwM0VY.bm\n",
      "2020-04-23 15:48:49 Hail: INFO: wrote matrix with 3000 rows and 3000 columns as 1 block of size 4096 to file:/tmp/hail.Y2Dh5hqGGSs3/gmgQTiWxOY.bm\n",
      "2020-04-23 15:48:50 Hail: INFO: wrote matrix with 3000 rows and 3000 columns as 1 block of size 4096 to file:/tmp/hail.Y2Dh5hqGGSs3/uHctAhzIM4.bm\n",
      "2020-04-23 15:48:58 Hail: INFO: Ordering unsorted dataset with network shuffle\n",
      "2020-04-23 15:49:45 Hail: INFO: Coerced sorted dataset\n",
      "2020-04-23 15:50:16 Hail: INFO: wrote table with 4498500 rows in 1 partition to /tmp/tmp6ider75e/pc_relate_result\n",
      "2020-04-23 15:50:16 Hail: INFO: balding_nichols_model: generating genotypes for 10 populations, 3000 samples, and 3000 variants...\n"
     ]
    },
    {
     "name": "stdout",
     "output_type": "stream",
     "text": [
      "Deleting pc_relate results: /tmp/tmp6ider75e/pc_relate_result\n",
      "Deleting hail tmp dir: /tmp/hail.Y2Dh5hqGGSs3\n"
     ]
    },
    {
     "name": "stderr",
     "output_type": "stream",
     "text": [
      "2020-04-23 15:50:16 Hail: INFO: Coerced sorted dataset\n",
      "2020-04-23 15:50:19 Hail: INFO: wrote matrix table with 3000 rows and 3000 columns in 8 partitions to /home/rav/data/tmp/mt_3000_3000_10.mt\n",
      "2020-04-23 15:50:19 Hail: INFO: hwe_normalized_pca: running PCA using 3000 variants.\n",
      "2020-04-23 15:50:20 Hail: INFO: pca: running PCA with 10 components...\n"
     ]
    },
    {
     "name": "stdout",
     "output_type": "stream",
     "text": [
      "PCA took s:3000, v:3000, p:10 : 8.72 seconds\n"
     ]
    },
    {
     "name": "stderr",
     "output_type": "stream",
     "text": [
      "2020-04-23 15:50:31 Hail: INFO: Wrote all 1 blocks of 3000 x 3000 matrix with block size 4096.\n",
      "2020-04-23 15:50:32 Hail: INFO: wrote matrix with 11 rows and 3000 columns as 1 block of size 4096 to file:/tmp/hail.Y2Dh5hqGGSs3/Yiao3TE8HU.bm\n",
      "2020-04-23 15:50:32 Hail: INFO: wrote matrix with 3000 rows and 3000 columns as 1 block of size 4096 to file:/tmp/hail.Y2Dh5hqGGSs3/gMzVQ4Xwgp.bm\n",
      "2020-04-23 15:50:33 Hail: INFO: wrote matrix with 3000 rows and 3000 columns as 1 block of size 4096 to file:/tmp/hail.Y2Dh5hqGGSs3/aMTfMrCYFo.bm\n",
      "2020-04-23 15:50:38 Hail: INFO: wrote matrix with 3000 rows and 3000 columns as 1 block of size 4096 to file:/tmp/hail.Y2Dh5hqGGSs3/ZnLecT6h8K.bm\n",
      "2020-04-23 15:50:44 Hail: INFO: wrote matrix with 3000 rows and 3000 columns as 1 block of size 4096 to file:/tmp/hail.Y2Dh5hqGGSs3/qnPw8M4E53.bm\n",
      "2020-04-23 15:50:44 Hail: INFO: wrote matrix with 3000 rows and 3000 columns as 1 block of size 4096 to file:/tmp/hail.Y2Dh5hqGGSs3/EPA72dYCd6.bm\n",
      "2020-04-23 15:50:51 Hail: INFO: wrote matrix with 3000 rows and 3000 columns as 1 block of size 4096 to file:/tmp/hail.Y2Dh5hqGGSs3/GjB3JtyAPe.bm\n",
      "2020-04-23 15:50:56 Hail: INFO: wrote matrix with 3000 rows and 3000 columns as 1 block of size 4096 to file:/tmp/hail.Y2Dh5hqGGSs3/gvDPpNDKHX.bm\n",
      "2020-04-23 15:50:57 Hail: INFO: wrote matrix with 3000 rows and 3000 columns as 1 block of size 4096 to file:/tmp/hail.Y2Dh5hqGGSs3/ExUNDbTx6f.bm\n",
      "2020-04-23 15:51:03 Hail: INFO: wrote matrix with 3000 rows and 3000 columns as 1 block of size 4096 to file:/tmp/hail.Y2Dh5hqGGSs3/NbjamXmXT0.bm\n",
      "2020-04-23 15:51:09 Hail: INFO: wrote matrix with 3000 rows and 3000 columns as 1 block of size 4096 to file:/tmp/hail.Y2Dh5hqGGSs3/Qq8MNzMm9S.bm\n",
      "2020-04-23 15:51:10 Hail: INFO: wrote matrix with 3000 rows and 3000 columns as 1 block of size 4096 to file:/tmp/hail.Y2Dh5hqGGSs3/D10tcgRFcV.bm\n",
      "2020-04-23 15:51:18 Hail: INFO: Ordering unsorted dataset with network shuffle\n",
      "2020-04-23 15:52:00 Hail: INFO: Coerced sorted dataset\n",
      "2020-04-23 15:52:31 Hail: INFO: wrote table with 4498500 rows in 1 partition to /tmp/tmpcyng_uol/pc_relate_result\n",
      "2020-04-23 15:52:32 Hail: INFO: balding_nichols_model: generating genotypes for 10 populations, 3000 samples, and 4000 variants...\n"
     ]
    },
    {
     "name": "stdout",
     "output_type": "stream",
     "text": [
      "Deleting pc_relate results: /tmp/tmpcyng_uol/pc_relate_result\n",
      "Deleting hail tmp dir: /tmp/hail.Y2Dh5hqGGSs3\n"
     ]
    },
    {
     "name": "stderr",
     "output_type": "stream",
     "text": [
      "2020-04-23 15:52:32 Hail: INFO: Coerced sorted dataset\n",
      "2020-04-23 15:52:35 Hail: INFO: wrote matrix table with 4000 rows and 3000 columns in 8 partitions to /home/rav/data/tmp/mt_3000_4000_10.mt\n",
      "2020-04-23 15:52:35 Hail: INFO: hwe_normalized_pca: running PCA using 4000 variants.\n",
      "2020-04-23 15:52:37 Hail: INFO: pca: running PCA with 10 components...\n"
     ]
    },
    {
     "name": "stdout",
     "output_type": "stream",
     "text": [
      "PCA took s:3000, v:4000, p:10 : 9.96 seconds\n"
     ]
    },
    {
     "name": "stderr",
     "output_type": "stream",
     "text": [
      "2020-04-23 15:52:49 Hail: INFO: Wrote all 1 blocks of 4000 x 3000 matrix with block size 4096.\n",
      "2020-04-23 15:52:50 Hail: INFO: wrote matrix with 11 rows and 4000 columns as 1 block of size 4096 to file:/tmp/hail.Y2Dh5hqGGSs3/TWt9i4bpKu.bm\n",
      "2020-04-23 15:52:50 Hail: INFO: wrote matrix with 4000 rows and 3000 columns as 1 block of size 4096 to file:/tmp/hail.Y2Dh5hqGGSs3/C64UZCi1az.bm\n",
      "2020-04-23 15:52:50 Hail: INFO: wrote matrix with 4000 rows and 3000 columns as 1 block of size 4096 to file:/tmp/hail.Y2Dh5hqGGSs3/5Un42TzfRW.bm\n",
      "2020-04-23 15:52:58 Hail: INFO: wrote matrix with 3000 rows and 3000 columns as 1 block of size 4096 to file:/tmp/hail.Y2Dh5hqGGSs3/xewFGqTffv.bm\n",
      "2020-04-23 15:53:05 Hail: INFO: wrote matrix with 3000 rows and 3000 columns as 1 block of size 4096 to file:/tmp/hail.Y2Dh5hqGGSs3/FBErRm6Fx7.bm\n",
      "2020-04-23 15:53:06 Hail: INFO: wrote matrix with 3000 rows and 3000 columns as 1 block of size 4096 to file:/tmp/hail.Y2Dh5hqGGSs3/9FB808fEV4.bm\n",
      "2020-04-23 15:53:15 Hail: INFO: wrote matrix with 3000 rows and 3000 columns as 1 block of size 4096 to file:/tmp/hail.Y2Dh5hqGGSs3/tYchKL99Qg.bm\n",
      "2020-04-23 15:53:22 Hail: INFO: wrote matrix with 3000 rows and 3000 columns as 1 block of size 4096 to file:/tmp/hail.Y2Dh5hqGGSs3/0FlO3CcHWL.bm\n",
      "2020-04-23 15:53:22 Hail: INFO: wrote matrix with 3000 rows and 3000 columns as 1 block of size 4096 to file:/tmp/hail.Y2Dh5hqGGSs3/hn78a0PxnO.bm\n",
      "2020-04-23 15:53:30 Hail: INFO: wrote matrix with 3000 rows and 3000 columns as 1 block of size 4096 to file:/tmp/hail.Y2Dh5hqGGSs3/TRLSowUDOa.bm\n",
      "2020-04-23 15:53:39 Hail: INFO: wrote matrix with 3000 rows and 3000 columns as 1 block of size 4096 to file:/tmp/hail.Y2Dh5hqGGSs3/oN0tIoq1L5.bm\n",
      "2020-04-23 15:53:40 Hail: INFO: wrote matrix with 3000 rows and 3000 columns as 1 block of size 4096 to file:/tmp/hail.Y2Dh5hqGGSs3/XJFqFRqhul.bm\n",
      "2020-04-23 15:53:48 Hail: INFO: Ordering unsorted dataset with network shuffle\n",
      "2020-04-23 15:54:31 Hail: INFO: Coerced sorted dataset\n",
      "2020-04-23 15:55:01 Hail: INFO: wrote table with 4498500 rows in 1 partition to /tmp/tmppfg4bfrj/pc_relate_result\n",
      "2020-04-23 15:55:01 Hail: INFO: balding_nichols_model: generating genotypes for 10 populations, 3000 samples, and 5000 variants...\n"
     ]
    },
    {
     "name": "stdout",
     "output_type": "stream",
     "text": [
      "Deleting pc_relate results: /tmp/tmppfg4bfrj/pc_relate_result\n",
      "Deleting hail tmp dir: /tmp/hail.Y2Dh5hqGGSs3\n"
     ]
    },
    {
     "name": "stderr",
     "output_type": "stream",
     "text": [
      "2020-04-23 15:55:02 Hail: INFO: Coerced sorted dataset\n",
      "2020-04-23 15:55:05 Hail: INFO: wrote matrix table with 5000 rows and 3000 columns in 8 partitions to /home/rav/data/tmp/mt_3000_5000_10.mt\n",
      "2020-04-23 15:55:06 Hail: INFO: hwe_normalized_pca: running PCA using 5000 variants.\n",
      "2020-04-23 15:55:07 Hail: INFO: pca: running PCA with 10 components...\n"
     ]
    },
    {
     "name": "stdout",
     "output_type": "stream",
     "text": [
      "PCA took s:3000, v:5000, p:10 : 10.09 seconds\n"
     ]
    },
    {
     "name": "stderr",
     "output_type": "stream",
     "text": [
      "2020-04-23 15:55:20 Hail: INFO: Wrote all 2 blocks of 5000 x 3000 matrix with block size 4096.\n",
      "2020-04-23 15:55:20 Hail: INFO: wrote matrix with 11 rows and 5000 columns as 2 blocks of size 4096 to file:/tmp/hail.Y2Dh5hqGGSs3/NCFo3iC2M1.bm\n",
      "2020-04-23 15:55:21 Hail: INFO: wrote matrix with 5000 rows and 3000 columns as 2 blocks of size 4096 to file:/tmp/hail.Y2Dh5hqGGSs3/D1ZUDSpflF.bm\n",
      "2020-04-23 15:55:21 Hail: INFO: wrote matrix with 5000 rows and 3000 columns as 2 blocks of size 4096 to file:/tmp/hail.Y2Dh5hqGGSs3/T4Kqwmwo5I.bm\n",
      "2020-04-23 15:55:31 Hail: INFO: wrote matrix with 3000 rows and 3000 columns as 1 block of size 4096 to file:/tmp/hail.Y2Dh5hqGGSs3/Ta2Ay3e5h9.bm\n",
      "2020-04-23 15:55:40 Hail: INFO: wrote matrix with 3000 rows and 3000 columns as 1 block of size 4096 to file:/tmp/hail.Y2Dh5hqGGSs3/klFjsR3GXq.bm\n",
      "2020-04-23 15:55:40 Hail: INFO: wrote matrix with 3000 rows and 3000 columns as 1 block of size 4096 to file:/tmp/hail.Y2Dh5hqGGSs3/Xe94TRPfib.bm\n",
      "2020-04-23 15:55:51 Hail: INFO: wrote matrix with 3000 rows and 3000 columns as 1 block of size 4096 to file:/tmp/hail.Y2Dh5hqGGSs3/zim2mTNodm.bm\n",
      "2020-04-23 15:56:00 Hail: INFO: wrote matrix with 3000 rows and 3000 columns as 1 block of size 4096 to file:/tmp/hail.Y2Dh5hqGGSs3/HhRgFHxcnL.bm\n",
      "2020-04-23 15:56:01 Hail: INFO: wrote matrix with 3000 rows and 3000 columns as 1 block of size 4096 to file:/tmp/hail.Y2Dh5hqGGSs3/QidHjqP6Al.bm\n",
      "2020-04-23 15:56:11 Hail: INFO: wrote matrix with 3000 rows and 3000 columns as 1 block of size 4096 to file:/tmp/hail.Y2Dh5hqGGSs3/CM2RgSRxQF.bm\n",
      "2020-04-23 15:56:21 Hail: INFO: wrote matrix with 3000 rows and 3000 columns as 1 block of size 4096 to file:/tmp/hail.Y2Dh5hqGGSs3/1tr1J2x0Z3.bm\n",
      "2020-04-23 15:56:22 Hail: INFO: wrote matrix with 3000 rows and 3000 columns as 1 block of size 4096 to file:/tmp/hail.Y2Dh5hqGGSs3/3VxFnU5PmG.bm\n",
      "2020-04-23 15:56:30 Hail: INFO: Ordering unsorted dataset with network shuffle\n",
      "2020-04-23 15:57:13 Hail: INFO: Coerced sorted dataset\n",
      "2020-04-23 15:57:44 Hail: INFO: wrote table with 4498500 rows in 1 partition to /tmp/tmp723grbeu/pc_relate_result\n",
      "2020-04-23 15:57:44 Hail: INFO: balding_nichols_model: generating genotypes for 10 populations, 3000 samples, and 6000 variants...\n"
     ]
    },
    {
     "name": "stdout",
     "output_type": "stream",
     "text": [
      "Deleting pc_relate results: /tmp/tmp723grbeu/pc_relate_result\n",
      "Deleting hail tmp dir: /tmp/hail.Y2Dh5hqGGSs3\n"
     ]
    },
    {
     "name": "stderr",
     "output_type": "stream",
     "text": [
      "2020-04-23 15:57:44 Hail: INFO: Coerced sorted dataset\n",
      "2020-04-23 15:57:48 Hail: INFO: wrote matrix table with 6000 rows and 3000 columns in 8 partitions to /home/rav/data/tmp/mt_3000_6000_10.mt\n",
      "2020-04-23 15:57:49 Hail: INFO: hwe_normalized_pca: running PCA using 6000 variants.\n",
      "2020-04-23 15:57:50 Hail: INFO: pca: running PCA with 10 components...\n"
     ]
    },
    {
     "name": "stdout",
     "output_type": "stream",
     "text": [
      "PCA took s:3000, v:6000, p:10 : 10.29 seconds\n"
     ]
    },
    {
     "name": "stderr",
     "output_type": "stream",
     "text": [
      "2020-04-23 15:58:03 Hail: INFO: Wrote all 2 blocks of 6000 x 3000 matrix with block size 4096.\n",
      "2020-04-23 15:58:04 Hail: INFO: wrote matrix with 11 rows and 6000 columns as 2 blocks of size 4096 to file:/tmp/hail.Y2Dh5hqGGSs3/uvLQNChQu4.bm\n",
      "2020-04-23 15:58:04 Hail: INFO: wrote matrix with 6000 rows and 3000 columns as 2 blocks of size 4096 to file:/tmp/hail.Y2Dh5hqGGSs3/WOQZXoHrH0.bm\n",
      "2020-04-23 15:58:05 Hail: INFO: wrote matrix with 6000 rows and 3000 columns as 2 blocks of size 4096 to file:/tmp/hail.Y2Dh5hqGGSs3/zbDmGt9h43.bm\n",
      "2020-04-23 15:58:16 Hail: INFO: wrote matrix with 3000 rows and 3000 columns as 1 block of size 4096 to file:/tmp/hail.Y2Dh5hqGGSs3/oqN6NbQVHR.bm\n",
      "2020-04-23 15:58:27 Hail: INFO: wrote matrix with 3000 rows and 3000 columns as 1 block of size 4096 to file:/tmp/hail.Y2Dh5hqGGSs3/iasvo9mjgq.bm\n",
      "2020-04-23 15:58:27 Hail: INFO: wrote matrix with 3000 rows and 3000 columns as 1 block of size 4096 to file:/tmp/hail.Y2Dh5hqGGSs3/MzccnOObE1.bm\n",
      "2020-04-23 15:58:40 Hail: INFO: wrote matrix with 3000 rows and 3000 columns as 1 block of size 4096 to file:/tmp/hail.Y2Dh5hqGGSs3/sAvKVCHHwb.bm\n",
      "2020-04-23 15:58:51 Hail: INFO: wrote matrix with 3000 rows and 3000 columns as 1 block of size 4096 to file:/tmp/hail.Y2Dh5hqGGSs3/SpREmqWEI7.bm\n",
      "2020-04-23 15:58:51 Hail: INFO: wrote matrix with 3000 rows and 3000 columns as 1 block of size 4096 to file:/tmp/hail.Y2Dh5hqGGSs3/p5rksjNjeY.bm\n",
      "2020-04-23 15:59:04 Hail: INFO: wrote matrix with 3000 rows and 3000 columns as 1 block of size 4096 to file:/tmp/hail.Y2Dh5hqGGSs3/HFr37YrYXK.bm\n",
      "2020-04-23 15:59:16 Hail: INFO: wrote matrix with 3000 rows and 3000 columns as 1 block of size 4096 to file:/tmp/hail.Y2Dh5hqGGSs3/6vHjG4zh0E.bm\n",
      "2020-04-23 15:59:17 Hail: INFO: wrote matrix with 3000 rows and 3000 columns as 1 block of size 4096 to file:/tmp/hail.Y2Dh5hqGGSs3/KU7q8tqBQG.bm\n",
      "2020-04-23 15:59:25 Hail: INFO: Ordering unsorted dataset with network shuffle\n",
      "2020-04-23 16:00:08 Hail: INFO: Coerced sorted dataset\n",
      "2020-04-23 16:00:38 Hail: INFO: wrote table with 4498500 rows in 1 partition to /tmp/tmp7ze3rfcz/pc_relate_result\n",
      "2020-04-23 16:00:38 Hail: INFO: balding_nichols_model: generating genotypes for 10 populations, 3000 samples, and 7000 variants...\n"
     ]
    },
    {
     "name": "stdout",
     "output_type": "stream",
     "text": [
      "Deleting pc_relate results: /tmp/tmp7ze3rfcz/pc_relate_result\n",
      "Deleting hail tmp dir: /tmp/hail.Y2Dh5hqGGSs3\n"
     ]
    },
    {
     "name": "stderr",
     "output_type": "stream",
     "text": [
      "2020-04-23 16:00:39 Hail: INFO: Coerced sorted dataset\n",
      "2020-04-23 16:00:43 Hail: INFO: wrote matrix table with 7000 rows and 3000 columns in 8 partitions to /home/rav/data/tmp/mt_3000_7000_10.mt\n",
      "2020-04-23 16:00:43 Hail: INFO: hwe_normalized_pca: running PCA using 7000 variants.\n",
      "2020-04-23 16:00:45 Hail: INFO: pca: running PCA with 10 components...\n"
     ]
    },
    {
     "name": "stdout",
     "output_type": "stream",
     "text": [
      "PCA took s:3000, v:7000, p:10 : 11.97 seconds\n"
     ]
    },
    {
     "name": "stderr",
     "output_type": "stream",
     "text": [
      "2020-04-23 16:00:59 Hail: INFO: Wrote all 2 blocks of 7000 x 3000 matrix with block size 4096.\n",
      "2020-04-23 16:01:00 Hail: INFO: wrote matrix with 11 rows and 7000 columns as 2 blocks of size 4096 to file:/tmp/hail.Y2Dh5hqGGSs3/q8IzskJqxj.bm\n",
      "2020-04-23 16:01:01 Hail: INFO: wrote matrix with 7000 rows and 3000 columns as 2 blocks of size 4096 to file:/tmp/hail.Y2Dh5hqGGSs3/I3uX2NFsQl.bm\n",
      "2020-04-23 16:01:01 Hail: INFO: wrote matrix with 7000 rows and 3000 columns as 2 blocks of size 4096 to file:/tmp/hail.Y2Dh5hqGGSs3/0WgzgmrteI.bm\n",
      "2020-04-23 16:01:14 Hail: INFO: wrote matrix with 3000 rows and 3000 columns as 1 block of size 4096 to file:/tmp/hail.Y2Dh5hqGGSs3/9N60G6HeTV.bm\n",
      "2020-04-23 16:01:27 Hail: INFO: wrote matrix with 3000 rows and 3000 columns as 1 block of size 4096 to file:/tmp/hail.Y2Dh5hqGGSs3/QibQpfFRkc.bm\n",
      "2020-04-23 16:01:28 Hail: INFO: wrote matrix with 3000 rows and 3000 columns as 1 block of size 4096 to file:/tmp/hail.Y2Dh5hqGGSs3/hLE2SLCxFH.bm\n",
      "2020-04-23 16:01:43 Hail: INFO: wrote matrix with 3000 rows and 3000 columns as 1 block of size 4096 to file:/tmp/hail.Y2Dh5hqGGSs3/uXB57gST94.bm\n",
      "2020-04-23 16:01:55 Hail: INFO: wrote matrix with 3000 rows and 3000 columns as 1 block of size 4096 to file:/tmp/hail.Y2Dh5hqGGSs3/o7ikzLwWga.bm\n",
      "2020-04-23 16:01:56 Hail: INFO: wrote matrix with 3000 rows and 3000 columns as 1 block of size 4096 to file:/tmp/hail.Y2Dh5hqGGSs3/4kSIBx8v8s.bm\n",
      "2020-04-23 16:02:10 Hail: INFO: wrote matrix with 3000 rows and 3000 columns as 1 block of size 4096 to file:/tmp/hail.Y2Dh5hqGGSs3/kVUqTndp9B.bm\n",
      "2020-04-23 16:02:24 Hail: INFO: wrote matrix with 3000 rows and 3000 columns as 1 block of size 4096 to file:/tmp/hail.Y2Dh5hqGGSs3/fzpRY4XdZf.bm\n",
      "2020-04-23 16:02:25 Hail: INFO: wrote matrix with 3000 rows and 3000 columns as 1 block of size 4096 to file:/tmp/hail.Y2Dh5hqGGSs3/DWgfBVnDjD.bm\n",
      "2020-04-23 16:02:33 Hail: INFO: Ordering unsorted dataset with network shuffle\n",
      "2020-04-23 16:03:15 Hail: INFO: Coerced sorted dataset\n",
      "2020-04-23 16:03:46 Hail: INFO: wrote table with 4498500 rows in 1 partition to /tmp/tmppftemis4/pc_relate_result\n",
      "2020-04-23 16:03:46 Hail: INFO: balding_nichols_model: generating genotypes for 10 populations, 3000 samples, and 8000 variants...\n"
     ]
    },
    {
     "name": "stdout",
     "output_type": "stream",
     "text": [
      "Deleting pc_relate results: /tmp/tmppftemis4/pc_relate_result\n",
      "Deleting hail tmp dir: /tmp/hail.Y2Dh5hqGGSs3\n"
     ]
    },
    {
     "name": "stderr",
     "output_type": "stream",
     "text": [
      "2020-04-23 16:03:46 Hail: INFO: Coerced sorted dataset\n",
      "2020-04-23 16:03:51 Hail: INFO: wrote matrix table with 8000 rows and 3000 columns in 8 partitions to /home/rav/data/tmp/mt_3000_8000_10.mt\n",
      "2020-04-23 16:03:51 Hail: INFO: hwe_normalized_pca: running PCA using 8000 variants.\n",
      "2020-04-23 16:03:53 Hail: INFO: pca: running PCA with 10 components...\n"
     ]
    },
    {
     "name": "stdout",
     "output_type": "stream",
     "text": [
      "PCA took s:3000, v:8000, p:10 : 10.32 seconds\n"
     ]
    },
    {
     "name": "stderr",
     "output_type": "stream",
     "text": [
      "2020-04-23 16:04:06 Hail: INFO: Wrote all 2 blocks of 8000 x 3000 matrix with block size 4096.\n",
      "2020-04-23 16:04:07 Hail: INFO: wrote matrix with 11 rows and 8000 columns as 2 blocks of size 4096 to file:/tmp/hail.Y2Dh5hqGGSs3/OJ672HZKiu.bm\n",
      "2020-04-23 16:04:07 Hail: INFO: wrote matrix with 8000 rows and 3000 columns as 2 blocks of size 4096 to file:/tmp/hail.Y2Dh5hqGGSs3/HrTWuTaTdW.bm\n",
      "2020-04-23 16:04:08 Hail: INFO: wrote matrix with 8000 rows and 3000 columns as 2 blocks of size 4096 to file:/tmp/hail.Y2Dh5hqGGSs3/yBvKADJTm4.bm\n",
      "2020-04-23 16:04:23 Hail: INFO: wrote matrix with 3000 rows and 3000 columns as 1 block of size 4096 to file:/tmp/hail.Y2Dh5hqGGSs3/Os75yvepRk.bm\n",
      "2020-04-23 16:04:38 Hail: INFO: wrote matrix with 3000 rows and 3000 columns as 1 block of size 4096 to file:/tmp/hail.Y2Dh5hqGGSs3/eWGd6lcWBp.bm\n",
      "2020-04-23 16:04:38 Hail: INFO: wrote matrix with 3000 rows and 3000 columns as 1 block of size 4096 to file:/tmp/hail.Y2Dh5hqGGSs3/DVTRBmTPgF.bm\n",
      "2020-04-23 16:04:55 Hail: INFO: wrote matrix with 3000 rows and 3000 columns as 1 block of size 4096 to file:/tmp/hail.Y2Dh5hqGGSs3/imeSQEhmis.bm\n",
      "2020-04-23 16:05:10 Hail: INFO: wrote matrix with 3000 rows and 3000 columns as 1 block of size 4096 to file:/tmp/hail.Y2Dh5hqGGSs3/GTMajjEbQi.bm\n",
      "2020-04-23 16:05:10 Hail: INFO: wrote matrix with 3000 rows and 3000 columns as 1 block of size 4096 to file:/tmp/hail.Y2Dh5hqGGSs3/e8DsjTl3Yo.bm\n",
      "2020-04-23 16:05:26 Hail: INFO: wrote matrix with 3000 rows and 3000 columns as 1 block of size 4096 to file:/tmp/hail.Y2Dh5hqGGSs3/Pa6o0z8xid.bm\n",
      "2020-04-23 16:05:42 Hail: INFO: wrote matrix with 3000 rows and 3000 columns as 1 block of size 4096 to file:/tmp/hail.Y2Dh5hqGGSs3/1o5HVaYGGx.bm\n",
      "2020-04-23 16:05:43 Hail: INFO: wrote matrix with 3000 rows and 3000 columns as 1 block of size 4096 to file:/tmp/hail.Y2Dh5hqGGSs3/roByepGe75.bm\n",
      "2020-04-23 16:05:51 Hail: INFO: Ordering unsorted dataset with network shuffle\n",
      "2020-04-23 16:06:33 Hail: INFO: Coerced sorted dataset\n",
      "2020-04-23 16:07:04 Hail: INFO: wrote table with 4498500 rows in 1 partition to /tmp/tmpezooog6u/pc_relate_result\n",
      "2020-04-23 16:07:04 Hail: INFO: balding_nichols_model: generating genotypes for 10 populations, 3000 samples, and 9000 variants...\n"
     ]
    },
    {
     "name": "stdout",
     "output_type": "stream",
     "text": [
      "Deleting pc_relate results: /tmp/tmpezooog6u/pc_relate_result\n",
      "Deleting hail tmp dir: /tmp/hail.Y2Dh5hqGGSs3\n"
     ]
    },
    {
     "name": "stderr",
     "output_type": "stream",
     "text": [
      "2020-04-23 16:07:04 Hail: INFO: Coerced sorted dataset\n",
      "2020-04-23 16:07:10 Hail: INFO: wrote matrix table with 9000 rows and 3000 columns in 8 partitions to /home/rav/data/tmp/mt_3000_9000_10.mt\n",
      "2020-04-23 16:07:10 Hail: INFO: hwe_normalized_pca: running PCA using 9000 variants.\n",
      "2020-04-23 16:07:12 Hail: INFO: pca: running PCA with 10 components...\n"
     ]
    },
    {
     "name": "stdout",
     "output_type": "stream",
     "text": [
      "PCA took s:3000, v:9000, p:10 : 15.64 seconds\n"
     ]
    },
    {
     "name": "stderr",
     "output_type": "stream",
     "text": [
      "2020-04-23 16:07:30 Hail: INFO: Wrote all 3 blocks of 9000 x 3000 matrix with block size 4096.\n",
      "2020-04-23 16:07:31 Hail: INFO: wrote matrix with 11 rows and 9000 columns as 3 blocks of size 4096 to file:/tmp/hail.Y2Dh5hqGGSs3/EgeRbwtfsB.bm\n",
      "2020-04-23 16:07:31 Hail: INFO: wrote matrix with 9000 rows and 3000 columns as 3 blocks of size 4096 to file:/tmp/hail.Y2Dh5hqGGSs3/9d0DWIPEby.bm\n",
      "2020-04-23 16:07:32 Hail: INFO: wrote matrix with 9000 rows and 3000 columns as 3 blocks of size 4096 to file:/tmp/hail.Y2Dh5hqGGSs3/HkQ68Dtifv.bm\n",
      "2020-04-23 16:07:49 Hail: INFO: wrote matrix with 3000 rows and 3000 columns as 1 block of size 4096 to file:/tmp/hail.Y2Dh5hqGGSs3/g7R0MriTyT.bm\n",
      "2020-04-23 16:08:05 Hail: INFO: wrote matrix with 3000 rows and 3000 columns as 1 block of size 4096 to file:/tmp/hail.Y2Dh5hqGGSs3/6Yea1oAGyO.bm\n",
      "2020-04-23 16:08:06 Hail: INFO: wrote matrix with 3000 rows and 3000 columns as 1 block of size 4096 to file:/tmp/hail.Y2Dh5hqGGSs3/EDghjbtLNI.bm\n",
      "2020-04-23 16:08:25 Hail: INFO: wrote matrix with 3000 rows and 3000 columns as 1 block of size 4096 to file:/tmp/hail.Y2Dh5hqGGSs3/RhMDNcM0Ke.bm\n",
      "2020-04-23 16:08:41 Hail: INFO: wrote matrix with 3000 rows and 3000 columns as 1 block of size 4096 to file:/tmp/hail.Y2Dh5hqGGSs3/jvyeQEP940.bm\n",
      "2020-04-23 16:08:42 Hail: INFO: wrote matrix with 3000 rows and 3000 columns as 1 block of size 4096 to file:/tmp/hail.Y2Dh5hqGGSs3/sAKrGcwVN6.bm\n",
      "2020-04-23 16:09:00 Hail: INFO: wrote matrix with 3000 rows and 3000 columns as 1 block of size 4096 to file:/tmp/hail.Y2Dh5hqGGSs3/ZbQYmw6q8C.bm\n",
      "2020-04-23 16:09:18 Hail: INFO: wrote matrix with 3000 rows and 3000 columns as 1 block of size 4096 to file:/tmp/hail.Y2Dh5hqGGSs3/LVhIbIjgq0.bm\n",
      "2020-04-23 16:09:19 Hail: INFO: wrote matrix with 3000 rows and 3000 columns as 1 block of size 4096 to file:/tmp/hail.Y2Dh5hqGGSs3/g8c5qT2Fvm.bm\n",
      "2020-04-23 16:09:27 Hail: INFO: Ordering unsorted dataset with network shuffle\n",
      "2020-04-23 16:10:10 Hail: INFO: Coerced sorted dataset\n",
      "2020-04-23 16:10:40 Hail: INFO: wrote table with 4498500 rows in 1 partition to /tmp/tmp8wrve1m0/pc_relate_result\n",
      "2020-04-23 16:10:40 Hail: INFO: balding_nichols_model: generating genotypes for 10 populations, 3000 samples, and 10000 variants...\n"
     ]
    },
    {
     "name": "stdout",
     "output_type": "stream",
     "text": [
      "Deleting pc_relate results: /tmp/tmp8wrve1m0/pc_relate_result\n",
      "Deleting hail tmp dir: /tmp/hail.Y2Dh5hqGGSs3\n"
     ]
    },
    {
     "name": "stderr",
     "output_type": "stream",
     "text": [
      "2020-04-23 16:10:41 Hail: INFO: Coerced sorted dataset\n",
      "2020-04-23 16:10:46 Hail: INFO: wrote matrix table with 10000 rows and 3000 columns in 8 partitions to /home/rav/data/tmp/mt_3000_10000_10.mt\n",
      "2020-04-23 16:10:47 Hail: INFO: hwe_normalized_pca: running PCA using 10000 variants.\n",
      "2020-04-23 16:10:49 Hail: INFO: pca: running PCA with 10 components...\n"
     ]
    },
    {
     "name": "stdout",
     "output_type": "stream",
     "text": [
      "PCA took s:3000, v:10000, p:10 : 13.94 seconds\n"
     ]
    },
    {
     "name": "stderr",
     "output_type": "stream",
     "text": [
      "2020-04-23 16:11:06 Hail: INFO: Wrote all 3 blocks of 10000 x 3000 matrix with block size 4096.\n",
      "2020-04-23 16:11:06 Hail: INFO: wrote matrix with 11 rows and 10000 columns as 3 blocks of size 4096 to file:/tmp/hail.Y2Dh5hqGGSs3/iNYHQU9qA1.bm\n",
      "2020-04-23 16:11:07 Hail: INFO: wrote matrix with 10000 rows and 3000 columns as 3 blocks of size 4096 to file:/tmp/hail.Y2Dh5hqGGSs3/s7NDmbz1rB.bm\n",
      "2020-04-23 16:11:07 Hail: INFO: wrote matrix with 10000 rows and 3000 columns as 3 blocks of size 4096 to file:/tmp/hail.Y2Dh5hqGGSs3/gtIlgfjkFV.bm\n",
      "2020-04-23 16:11:26 Hail: INFO: wrote matrix with 3000 rows and 3000 columns as 1 block of size 4096 to file:/tmp/hail.Y2Dh5hqGGSs3/dBlQg6yO6L.bm\n",
      "2020-04-23 16:11:44 Hail: INFO: wrote matrix with 3000 rows and 3000 columns as 1 block of size 4096 to file:/tmp/hail.Y2Dh5hqGGSs3/BhMBFkjD1G.bm\n",
      "2020-04-23 16:11:45 Hail: INFO: wrote matrix with 3000 rows and 3000 columns as 1 block of size 4096 to file:/tmp/hail.Y2Dh5hqGGSs3/hihfs5swPq.bm\n",
      "2020-04-23 16:12:06 Hail: INFO: wrote matrix with 3000 rows and 3000 columns as 1 block of size 4096 to file:/tmp/hail.Y2Dh5hqGGSs3/9RYvBDpEnR.bm\n",
      "2020-04-23 16:12:24 Hail: INFO: wrote matrix with 3000 rows and 3000 columns as 1 block of size 4096 to file:/tmp/hail.Y2Dh5hqGGSs3/7kLUO2FEz6.bm\n",
      "2020-04-23 16:12:24 Hail: INFO: wrote matrix with 3000 rows and 3000 columns as 1 block of size 4096 to file:/tmp/hail.Y2Dh5hqGGSs3/0HCaeudspt.bm\n",
      "2020-04-23 16:12:45 Hail: INFO: wrote matrix with 3000 rows and 3000 columns as 1 block of size 4096 to file:/tmp/hail.Y2Dh5hqGGSs3/G0JdpimSJ3.bm\n",
      "2020-04-23 16:13:05 Hail: INFO: wrote matrix with 3000 rows and 3000 columns as 1 block of size 4096 to file:/tmp/hail.Y2Dh5hqGGSs3/qQlZR3JSto.bm\n",
      "2020-04-23 16:13:06 Hail: INFO: wrote matrix with 3000 rows and 3000 columns as 1 block of size 4096 to file:/tmp/hail.Y2Dh5hqGGSs3/eGFPMMm7lO.bm\n",
      "2020-04-23 16:13:14 Hail: INFO: Ordering unsorted dataset with network shuffle\n",
      "2020-04-23 16:13:56 Hail: INFO: Coerced sorted dataset\n",
      "2020-04-23 16:14:27 Hail: INFO: wrote table with 4498500 rows in 1 partition to /tmp/tmphhhlcmmk/pc_relate_result\n",
      "2020-04-23 16:14:27 Hail: INFO: balding_nichols_model: generating genotypes for 10 populations, 4000 samples, and 1000 variants...\n"
     ]
    },
    {
     "name": "stdout",
     "output_type": "stream",
     "text": [
      "Deleting pc_relate results: /tmp/tmphhhlcmmk/pc_relate_result\n",
      "Deleting hail tmp dir: /tmp/hail.Y2Dh5hqGGSs3\n"
     ]
    },
    {
     "name": "stderr",
     "output_type": "stream",
     "text": [
      "2020-04-23 16:14:28 Hail: INFO: Coerced sorted dataset\n",
      "2020-04-23 16:14:30 Hail: INFO: wrote matrix table with 1000 rows and 4000 columns in 8 partitions to /home/rav/data/tmp/mt_4000_1000_10.mt\n",
      "2020-04-23 16:14:30 Hail: INFO: hwe_normalized_pca: running PCA using 1000 variants.\n",
      "2020-04-23 16:14:32 Hail: INFO: pca: running PCA with 10 components...\n"
     ]
    },
    {
     "name": "stdout",
     "output_type": "stream",
     "text": [
      "PCA took s:4000, v:1000, p:10 : 6.84 seconds\n"
     ]
    },
    {
     "name": "stderr",
     "output_type": "stream",
     "text": [
      "2020-04-23 16:14:40 Hail: INFO: Wrote all 1 blocks of 1000 x 4000 matrix with block size 4096.\n",
      "2020-04-23 16:14:41 Hail: INFO: wrote matrix with 11 rows and 1000 columns as 1 block of size 4096 to file:/tmp/hail.Y2Dh5hqGGSs3/TiyIdDOp7g.bm\n",
      "2020-04-23 16:14:41 Hail: INFO: wrote matrix with 1000 rows and 4000 columns as 1 block of size 4096 to file:/tmp/hail.Y2Dh5hqGGSs3/0xSMnh46bB.bm\n",
      "2020-04-23 16:14:42 Hail: INFO: wrote matrix with 1000 rows and 4000 columns as 1 block of size 4096 to file:/tmp/hail.Y2Dh5hqGGSs3/h3Eu9lQLPn.bm\n",
      "2020-04-23 16:14:45 Hail: INFO: wrote matrix with 4000 rows and 4000 columns as 1 block of size 4096 to file:/tmp/hail.Y2Dh5hqGGSs3/ScrBPRZb0W.bm\n",
      "2020-04-23 16:14:49 Hail: INFO: wrote matrix with 4000 rows and 4000 columns as 1 block of size 4096 to file:/tmp/hail.Y2Dh5hqGGSs3/oo8kX353Ve.bm\n",
      "2020-04-23 16:14:49 Hail: INFO: wrote matrix with 4000 rows and 4000 columns as 1 block of size 4096 to file:/tmp/hail.Y2Dh5hqGGSs3/GblBZ4dd5r.bm\n",
      "2020-04-23 16:14:53 Hail: INFO: wrote matrix with 4000 rows and 4000 columns as 1 block of size 4096 to file:/tmp/hail.Y2Dh5hqGGSs3/n8C4zGqmnJ.bm\n",
      "2020-04-23 16:14:56 Hail: INFO: wrote matrix with 4000 rows and 4000 columns as 1 block of size 4096 to file:/tmp/hail.Y2Dh5hqGGSs3/W3FsLvBzC4.bm\n",
      "2020-04-23 16:14:57 Hail: INFO: wrote matrix with 4000 rows and 4000 columns as 1 block of size 4096 to file:/tmp/hail.Y2Dh5hqGGSs3/7pPCBlJr4g.bm\n",
      "2020-04-23 16:15:01 Hail: INFO: wrote matrix with 4000 rows and 4000 columns as 1 block of size 4096 to file:/tmp/hail.Y2Dh5hqGGSs3/FJOSC3q6NP.bm\n",
      "2020-04-23 16:15:05 Hail: INFO: wrote matrix with 4000 rows and 4000 columns as 1 block of size 4096 to file:/tmp/hail.Y2Dh5hqGGSs3/cC507i31DD.bm\n",
      "2020-04-23 16:15:06 Hail: INFO: wrote matrix with 4000 rows and 4000 columns as 1 block of size 4096 to file:/tmp/hail.Y2Dh5hqGGSs3/8QuhNJPkN1.bm\n",
      "2020-04-23 16:15:21 Hail: INFO: Ordering unsorted dataset with network shuffle\n",
      "2020-04-23 16:16:36 Hail: INFO: Coerced sorted dataset\n",
      "2020-04-23 16:17:30 Hail: INFO: wrote table with 7998000 rows in 1 partition to /tmp/tmpny0mhpu6/pc_relate_result\n",
      "2020-04-23 16:17:30 Hail: INFO: balding_nichols_model: generating genotypes for 10 populations, 4000 samples, and 2000 variants...\n"
     ]
    },
    {
     "name": "stdout",
     "output_type": "stream",
     "text": [
      "Deleting pc_relate results: /tmp/tmpny0mhpu6/pc_relate_result\n",
      "Deleting hail tmp dir: /tmp/hail.Y2Dh5hqGGSs3\n"
     ]
    },
    {
     "name": "stderr",
     "output_type": "stream",
     "text": [
      "2020-04-23 16:17:30 Hail: INFO: Coerced sorted dataset\n",
      "2020-04-23 16:17:33 Hail: INFO: wrote matrix table with 2000 rows and 4000 columns in 8 partitions to /home/rav/data/tmp/mt_4000_2000_10.mt\n",
      "2020-04-23 16:17:34 Hail: INFO: hwe_normalized_pca: running PCA using 2000 variants.\n",
      "2020-04-23 16:17:35 Hail: INFO: pca: running PCA with 10 components...\n"
     ]
    },
    {
     "name": "stdout",
     "output_type": "stream",
     "text": [
      "PCA took s:4000, v:2000, p:10 : 8.66 seconds\n"
     ]
    },
    {
     "name": "stderr",
     "output_type": "stream",
     "text": [
      "2020-04-23 16:17:46 Hail: INFO: Wrote all 1 blocks of 2000 x 4000 matrix with block size 4096.\n",
      "2020-04-23 16:17:47 Hail: INFO: wrote matrix with 11 rows and 2000 columns as 1 block of size 4096 to file:/tmp/hail.Y2Dh5hqGGSs3/y21NmY0lm1.bm\n",
      "2020-04-23 16:17:47 Hail: INFO: wrote matrix with 2000 rows and 4000 columns as 1 block of size 4096 to file:/tmp/hail.Y2Dh5hqGGSs3/CULr4Y45vK.bm\n",
      "2020-04-23 16:17:47 Hail: INFO: wrote matrix with 2000 rows and 4000 columns as 1 block of size 4096 to file:/tmp/hail.Y2Dh5hqGGSs3/fh0E0gaalO.bm\n",
      "2020-04-23 16:17:54 Hail: INFO: wrote matrix with 4000 rows and 4000 columns as 1 block of size 4096 to file:/tmp/hail.Y2Dh5hqGGSs3/KmzzTloluC.bm\n",
      "2020-04-23 16:18:01 Hail: INFO: wrote matrix with 4000 rows and 4000 columns as 1 block of size 4096 to file:/tmp/hail.Y2Dh5hqGGSs3/ewRkkhuqIk.bm\n",
      "2020-04-23 16:18:01 Hail: INFO: wrote matrix with 4000 rows and 4000 columns as 1 block of size 4096 to file:/tmp/hail.Y2Dh5hqGGSs3/XQbge6XMtG.bm\n",
      "2020-04-23 16:18:09 Hail: INFO: wrote matrix with 4000 rows and 4000 columns as 1 block of size 4096 to file:/tmp/hail.Y2Dh5hqGGSs3/6o95I0m16i.bm\n",
      "2020-04-23 16:18:15 Hail: INFO: wrote matrix with 4000 rows and 4000 columns as 1 block of size 4096 to file:/tmp/hail.Y2Dh5hqGGSs3/qOv1mayDF6.bm\n",
      "2020-04-23 16:18:16 Hail: INFO: wrote matrix with 4000 rows and 4000 columns as 1 block of size 4096 to file:/tmp/hail.Y2Dh5hqGGSs3/ZhtYCi3d5J.bm\n",
      "2020-04-23 16:18:23 Hail: INFO: wrote matrix with 4000 rows and 4000 columns as 1 block of size 4096 to file:/tmp/hail.Y2Dh5hqGGSs3/fsNa9k5SYx.bm\n",
      "2020-04-23 16:18:30 Hail: INFO: wrote matrix with 4000 rows and 4000 columns as 1 block of size 4096 to file:/tmp/hail.Y2Dh5hqGGSs3/FYelPEBtWP.bm\n",
      "2020-04-23 16:18:32 Hail: INFO: wrote matrix with 4000 rows and 4000 columns as 1 block of size 4096 to file:/tmp/hail.Y2Dh5hqGGSs3/1UNbZbcUdS.bm\n",
      "2020-04-23 16:18:47 Hail: INFO: Ordering unsorted dataset with network shuffle\n",
      "2020-04-23 16:20:02 Hail: INFO: Coerced sorted dataset\n",
      "2020-04-23 16:20:57 Hail: INFO: wrote table with 7998000 rows in 1 partition to /tmp/tmpdnmy92qn/pc_relate_result\n"
     ]
    },
    {
     "name": "stdout",
     "output_type": "stream",
     "text": [
      "Deleting pc_relate results: /tmp/tmpdnmy92qn/pc_relate_result\n",
      "Deleting hail tmp dir: /tmp/hail.Y2Dh5hqGGSs3\n"
     ]
    },
    {
     "name": "stderr",
     "output_type": "stream",
     "text": [
      "2020-04-23 16:20:57 Hail: INFO: balding_nichols_model: generating genotypes for 10 populations, 4000 samples, and 3000 variants...\n",
      "2020-04-23 16:20:58 Hail: INFO: Coerced sorted dataset\n",
      "2020-04-23 16:21:01 Hail: INFO: wrote matrix table with 3000 rows and 4000 columns in 8 partitions to /home/rav/data/tmp/mt_4000_3000_10.mt\n",
      "2020-04-23 16:21:01 Hail: INFO: hwe_normalized_pca: running PCA using 3000 variants.\n",
      "2020-04-23 16:21:03 Hail: INFO: pca: running PCA with 10 components...\n"
     ]
    },
    {
     "name": "stdout",
     "output_type": "stream",
     "text": [
      "PCA took s:4000, v:3000, p:10 : 9.46 seconds\n"
     ]
    },
    {
     "name": "stderr",
     "output_type": "stream",
     "text": [
      "2020-04-23 16:21:15 Hail: INFO: Wrote all 1 blocks of 3000 x 4000 matrix with block size 4096.\n",
      "2020-04-23 16:21:16 Hail: INFO: wrote matrix with 11 rows and 3000 columns as 1 block of size 4096 to file:/tmp/hail.Y2Dh5hqGGSs3/CTcn5XQs5a.bm\n",
      "2020-04-23 16:21:16 Hail: INFO: wrote matrix with 3000 rows and 4000 columns as 1 block of size 4096 to file:/tmp/hail.Y2Dh5hqGGSs3/gNNiAIVGUC.bm\n",
      "2020-04-23 16:21:17 Hail: INFO: wrote matrix with 3000 rows and 4000 columns as 1 block of size 4096 to file:/tmp/hail.Y2Dh5hqGGSs3/Lwimx83CHC.bm\n",
      "2020-04-23 16:21:27 Hail: INFO: wrote matrix with 4000 rows and 4000 columns as 1 block of size 4096 to file:/tmp/hail.Y2Dh5hqGGSs3/JuRmyF98GY.bm\n",
      "2020-04-23 16:21:37 Hail: INFO: wrote matrix with 4000 rows and 4000 columns as 1 block of size 4096 to file:/tmp/hail.Y2Dh5hqGGSs3/QMhXzFWju2.bm\n",
      "2020-04-23 16:21:37 Hail: INFO: wrote matrix with 4000 rows and 4000 columns as 1 block of size 4096 to file:/tmp/hail.Y2Dh5hqGGSs3/Q35KfxpAig.bm\n",
      "2020-04-23 16:21:49 Hail: INFO: wrote matrix with 4000 rows and 4000 columns as 1 block of size 4096 to file:/tmp/hail.Y2Dh5hqGGSs3/7yYq3FIDaf.bm\n",
      "2020-04-23 16:21:58 Hail: INFO: wrote matrix with 4000 rows and 4000 columns as 1 block of size 4096 to file:/tmp/hail.Y2Dh5hqGGSs3/qboRY9lv1s.bm\n",
      "2020-04-23 16:21:59 Hail: INFO: wrote matrix with 4000 rows and 4000 columns as 1 block of size 4096 to file:/tmp/hail.Y2Dh5hqGGSs3/MGbTcUAE4r.bm\n",
      "2020-04-23 16:22:10 Hail: INFO: wrote matrix with 4000 rows and 4000 columns as 1 block of size 4096 to file:/tmp/hail.Y2Dh5hqGGSs3/UcKlvmahrb.bm\n",
      "2020-04-23 16:22:20 Hail: INFO: wrote matrix with 4000 rows and 4000 columns as 1 block of size 4096 to file:/tmp/hail.Y2Dh5hqGGSs3/XhiWxdwks9.bm\n",
      "2020-04-23 16:22:22 Hail: INFO: wrote matrix with 4000 rows and 4000 columns as 1 block of size 4096 to file:/tmp/hail.Y2Dh5hqGGSs3/jNeQLl22Tc.bm\n",
      "2020-04-23 16:22:37 Hail: INFO: Ordering unsorted dataset with network shuffle\n",
      "2020-04-23 16:24:03 Hail: INFO: Coerced sorted dataset\n",
      "2020-04-23 16:24:56 Hail: INFO: wrote table with 7998000 rows in 1 partition to /tmp/tmpmts2r2l6/pc_relate_result\n"
     ]
    },
    {
     "name": "stdout",
     "output_type": "stream",
     "text": [
      "Deleting pc_relate results: /tmp/tmpmts2r2l6/pc_relate_result\n",
      "Deleting hail tmp dir: /tmp/hail.Y2Dh5hqGGSs3\n"
     ]
    },
    {
     "name": "stderr",
     "output_type": "stream",
     "text": [
      "2020-04-23 16:24:56 Hail: INFO: balding_nichols_model: generating genotypes for 10 populations, 4000 samples, and 4000 variants...\n",
      "2020-04-23 16:24:56 Hail: INFO: Coerced sorted dataset\n",
      "2020-04-23 16:25:00 Hail: INFO: wrote matrix table with 4000 rows and 4000 columns in 8 partitions to /home/rav/data/tmp/mt_4000_4000_10.mt\n",
      "2020-04-23 16:25:01 Hail: INFO: hwe_normalized_pca: running PCA using 4000 variants.\n",
      "2020-04-23 16:25:03 Hail: INFO: pca: running PCA with 10 components...\n"
     ]
    },
    {
     "name": "stdout",
     "output_type": "stream",
     "text": [
      "PCA took s:4000, v:4000, p:10 : 11.14 seconds\n"
     ]
    },
    {
     "name": "stderr",
     "output_type": "stream",
     "text": [
      "2020-04-23 16:25:17 Hail: INFO: Wrote all 1 blocks of 4000 x 4000 matrix with block size 4096.\n",
      "2020-04-23 16:25:18 Hail: INFO: wrote matrix with 11 rows and 4000 columns as 1 block of size 4096 to file:/tmp/hail.Y2Dh5hqGGSs3/othNp7MN1t.bm\n",
      "2020-04-23 16:25:18 Hail: INFO: wrote matrix with 4000 rows and 4000 columns as 1 block of size 4096 to file:/tmp/hail.Y2Dh5hqGGSs3/MDoMlYr4dN.bm\n",
      "2020-04-23 16:25:19 Hail: INFO: wrote matrix with 4000 rows and 4000 columns as 1 block of size 4096 to file:/tmp/hail.Y2Dh5hqGGSs3/z4HCslbzTZ.bm\n",
      "2020-04-23 16:25:32 Hail: INFO: wrote matrix with 4000 rows and 4000 columns as 1 block of size 4096 to file:/tmp/hail.Y2Dh5hqGGSs3/vFsJMb7XXg.bm\n",
      "2020-04-23 16:25:46 Hail: INFO: wrote matrix with 4000 rows and 4000 columns as 1 block of size 4096 to file:/tmp/hail.Y2Dh5hqGGSs3/LoYJArT50W.bm\n",
      "2020-04-23 16:25:46 Hail: INFO: wrote matrix with 4000 rows and 4000 columns as 1 block of size 4096 to file:/tmp/hail.Y2Dh5hqGGSs3/BXO3q38wk8.bm\n",
      "2020-04-23 16:26:01 Hail: INFO: wrote matrix with 4000 rows and 4000 columns as 1 block of size 4096 to file:/tmp/hail.Y2Dh5hqGGSs3/u3qVZtoprn.bm\n",
      "2020-04-23 16:26:14 Hail: INFO: wrote matrix with 4000 rows and 4000 columns as 1 block of size 4096 to file:/tmp/hail.Y2Dh5hqGGSs3/2PBQWVwb6c.bm\n",
      "2020-04-23 16:26:14 Hail: INFO: wrote matrix with 4000 rows and 4000 columns as 1 block of size 4096 to file:/tmp/hail.Y2Dh5hqGGSs3/5PyQT0Wi86.bm\n",
      "2020-04-23 16:26:29 Hail: INFO: wrote matrix with 4000 rows and 4000 columns as 1 block of size 4096 to file:/tmp/hail.Y2Dh5hqGGSs3/1gxiTiUR2n.bm\n",
      "2020-04-23 16:26:43 Hail: INFO: wrote matrix with 4000 rows and 4000 columns as 1 block of size 4096 to file:/tmp/hail.Y2Dh5hqGGSs3/JeNggCInBC.bm\n",
      "2020-04-23 16:26:44 Hail: INFO: wrote matrix with 4000 rows and 4000 columns as 1 block of size 4096 to file:/tmp/hail.Y2Dh5hqGGSs3/vAj0vnOni8.bm\n",
      "2020-04-23 16:26:59 Hail: INFO: Ordering unsorted dataset with network shuffle\n",
      "2020-04-23 16:28:15 Hail: INFO: Coerced sorted dataset\n",
      "2020-04-23 16:29:12 Hail: INFO: wrote table with 7998000 rows in 1 partition to /tmp/tmp9qmteypp/pc_relate_result\n"
     ]
    },
    {
     "name": "stdout",
     "output_type": "stream",
     "text": [
      "Deleting pc_relate results: /tmp/tmp9qmteypp/pc_relate_result\n",
      "Deleting hail tmp dir: /tmp/hail.Y2Dh5hqGGSs3\n"
     ]
    },
    {
     "name": "stderr",
     "output_type": "stream",
     "text": [
      "2020-04-23 16:29:12 Hail: INFO: balding_nichols_model: generating genotypes for 10 populations, 4000 samples, and 5000 variants...\n",
      "2020-04-23 16:29:12 Hail: INFO: Coerced sorted dataset\n",
      "2020-04-23 16:29:16 Hail: INFO: wrote matrix table with 5000 rows and 4000 columns in 8 partitions to /home/rav/data/tmp/mt_4000_5000_10.mt\n",
      "2020-04-23 16:29:17 Hail: INFO: hwe_normalized_pca: running PCA using 5000 variants.\n",
      "2020-04-23 16:29:19 Hail: INFO: pca: running PCA with 10 components...\n"
     ]
    },
    {
     "name": "stdout",
     "output_type": "stream",
     "text": [
      "PCA took s:4000, v:5000, p:10 : 12.69 seconds\n"
     ]
    },
    {
     "name": "stderr",
     "output_type": "stream",
     "text": [
      "2020-04-23 16:29:35 Hail: INFO: Wrote all 2 blocks of 5000 x 4000 matrix with block size 4096.\n",
      "2020-04-23 16:29:36 Hail: INFO: wrote matrix with 11 rows and 5000 columns as 2 blocks of size 4096 to file:/tmp/hail.Y2Dh5hqGGSs3/WhifduxSja.bm\n",
      "2020-04-23 16:29:36 Hail: INFO: wrote matrix with 5000 rows and 4000 columns as 2 blocks of size 4096 to file:/tmp/hail.Y2Dh5hqGGSs3/bntIvFLKgP.bm\n",
      "2020-04-23 16:29:37 Hail: INFO: wrote matrix with 5000 rows and 4000 columns as 2 blocks of size 4096 to file:/tmp/hail.Y2Dh5hqGGSs3/NBNbRn6363.bm\n",
      "2020-04-23 16:29:54 Hail: INFO: wrote matrix with 4000 rows and 4000 columns as 1 block of size 4096 to file:/tmp/hail.Y2Dh5hqGGSs3/1gOcbdlSzH.bm\n",
      "2020-04-23 16:30:10 Hail: INFO: wrote matrix with 4000 rows and 4000 columns as 1 block of size 4096 to file:/tmp/hail.Y2Dh5hqGGSs3/ghrBiqyyNn.bm\n",
      "2020-04-23 16:30:11 Hail: INFO: wrote matrix with 4000 rows and 4000 columns as 1 block of size 4096 to file:/tmp/hail.Y2Dh5hqGGSs3/0TXs9JUg9C.bm\n",
      "2020-04-23 16:30:29 Hail: INFO: wrote matrix with 4000 rows and 4000 columns as 1 block of size 4096 to file:/tmp/hail.Y2Dh5hqGGSs3/ZruGd9eJ62.bm\n",
      "2020-04-23 16:30:45 Hail: INFO: wrote matrix with 4000 rows and 4000 columns as 1 block of size 4096 to file:/tmp/hail.Y2Dh5hqGGSs3/qCZiVFVRdx.bm\n",
      "2020-04-23 16:30:46 Hail: INFO: wrote matrix with 4000 rows and 4000 columns as 1 block of size 4096 to file:/tmp/hail.Y2Dh5hqGGSs3/a0IwUaaHdV.bm\n",
      "2020-04-23 16:31:03 Hail: INFO: wrote matrix with 4000 rows and 4000 columns as 1 block of size 4096 to file:/tmp/hail.Y2Dh5hqGGSs3/wxkFVVcLhN.bm\n",
      "2020-04-23 16:31:21 Hail: INFO: wrote matrix with 4000 rows and 4000 columns as 1 block of size 4096 to file:/tmp/hail.Y2Dh5hqGGSs3/yVEJySPobm.bm\n",
      "2020-04-23 16:31:22 Hail: INFO: wrote matrix with 4000 rows and 4000 columns as 1 block of size 4096 to file:/tmp/hail.Y2Dh5hqGGSs3/Fo8DgvWvBT.bm\n",
      "2020-04-23 16:31:37 Hail: INFO: Ordering unsorted dataset with network shuffle\n",
      "2020-04-23 16:32:52 Hail: INFO: Coerced sorted dataset\n",
      "2020-04-23 16:33:46 Hail: INFO: wrote table with 7998000 rows in 1 partition to /tmp/tmpc3__rwiq/pc_relate_result\n"
     ]
    },
    {
     "name": "stdout",
     "output_type": "stream",
     "text": [
      "Deleting pc_relate results: /tmp/tmpc3__rwiq/pc_relate_result\n",
      "Deleting hail tmp dir: /tmp/hail.Y2Dh5hqGGSs3\n"
     ]
    },
    {
     "name": "stderr",
     "output_type": "stream",
     "text": [
      "2020-04-23 16:33:46 Hail: INFO: balding_nichols_model: generating genotypes for 10 populations, 4000 samples, and 6000 variants...\n",
      "2020-04-23 16:33:46 Hail: INFO: Coerced sorted dataset\n",
      "2020-04-23 16:33:52 Hail: INFO: wrote matrix table with 6000 rows and 4000 columns in 8 partitions to /home/rav/data/tmp/mt_4000_6000_10.mt\n",
      "2020-04-23 16:33:52 Hail: INFO: hwe_normalized_pca: running PCA using 6000 variants.\n",
      "2020-04-23 16:33:54 Hail: INFO: pca: running PCA with 10 components...\n"
     ]
    },
    {
     "name": "stdout",
     "output_type": "stream",
     "text": [
      "PCA took s:4000, v:6000, p:10 : 12.19 seconds\n"
     ]
    },
    {
     "name": "stderr",
     "output_type": "stream",
     "text": [
      "2020-04-23 16:34:10 Hail: INFO: Wrote all 2 blocks of 6000 x 4000 matrix with block size 4096.\n",
      "2020-04-23 16:34:11 Hail: INFO: wrote matrix with 11 rows and 6000 columns as 2 blocks of size 4096 to file:/tmp/hail.Y2Dh5hqGGSs3/UqjAk88aXA.bm\n",
      "2020-04-23 16:34:11 Hail: INFO: wrote matrix with 6000 rows and 4000 columns as 2 blocks of size 4096 to file:/tmp/hail.Y2Dh5hqGGSs3/yNyXX72I7Y.bm\n",
      "2020-04-23 16:34:12 Hail: INFO: wrote matrix with 6000 rows and 4000 columns as 2 blocks of size 4096 to file:/tmp/hail.Y2Dh5hqGGSs3/YlcJpLqdXw.bm\n",
      "2020-04-23 16:34:32 Hail: INFO: wrote matrix with 4000 rows and 4000 columns as 1 block of size 4096 to file:/tmp/hail.Y2Dh5hqGGSs3/UEHXJwHzFV.bm\n",
      "2020-04-23 16:34:51 Hail: INFO: wrote matrix with 4000 rows and 4000 columns as 1 block of size 4096 to file:/tmp/hail.Y2Dh5hqGGSs3/Mc4C3Zi34g.bm\n",
      "2020-04-23 16:34:52 Hail: INFO: wrote matrix with 4000 rows and 4000 columns as 1 block of size 4096 to file:/tmp/hail.Y2Dh5hqGGSs3/jiRfsPV61G.bm\n",
      "2020-04-23 16:35:14 Hail: INFO: wrote matrix with 4000 rows and 4000 columns as 1 block of size 4096 to file:/tmp/hail.Y2Dh5hqGGSs3/7h6nIAOrA6.bm\n",
      "2020-04-23 16:35:33 Hail: INFO: wrote matrix with 4000 rows and 4000 columns as 1 block of size 4096 to file:/tmp/hail.Y2Dh5hqGGSs3/Wjmtu2ECf9.bm\n",
      "2020-04-23 16:35:34 Hail: INFO: wrote matrix with 4000 rows and 4000 columns as 1 block of size 4096 to file:/tmp/hail.Y2Dh5hqGGSs3/8E1o3AEmGW.bm\n",
      "2020-04-23 16:35:55 Hail: INFO: wrote matrix with 4000 rows and 4000 columns as 1 block of size 4096 to file:/tmp/hail.Y2Dh5hqGGSs3/mmV2baPQkF.bm\n",
      "2020-04-23 16:36:16 Hail: INFO: wrote matrix with 4000 rows and 4000 columns as 1 block of size 4096 to file:/tmp/hail.Y2Dh5hqGGSs3/NAJwSalZCu.bm\n",
      "2020-04-23 16:36:17 Hail: INFO: wrote matrix with 4000 rows and 4000 columns as 1 block of size 4096 to file:/tmp/hail.Y2Dh5hqGGSs3/ajibsYX4wS.bm\n",
      "2020-04-23 16:36:32 Hail: INFO: Ordering unsorted dataset with network shuffle\n",
      "2020-04-23 16:37:47 Hail: INFO: Coerced sorted dataset\n",
      "2020-04-23 16:38:41 Hail: INFO: wrote table with 7998000 rows in 1 partition to /tmp/tmpgk0yf4vz/pc_relate_result\n"
     ]
    },
    {
     "name": "stdout",
     "output_type": "stream",
     "text": [
      "Deleting pc_relate results: /tmp/tmpgk0yf4vz/pc_relate_result\n",
      "Deleting hail tmp dir: /tmp/hail.Y2Dh5hqGGSs3\n"
     ]
    },
    {
     "name": "stderr",
     "output_type": "stream",
     "text": [
      "2020-04-23 16:38:42 Hail: INFO: balding_nichols_model: generating genotypes for 10 populations, 4000 samples, and 7000 variants...\n",
      "2020-04-23 16:38:42 Hail: INFO: Coerced sorted dataset\n",
      "2020-04-23 16:38:48 Hail: INFO: wrote matrix table with 7000 rows and 4000 columns in 8 partitions to /home/rav/data/tmp/mt_4000_7000_10.mt\n",
      "2020-04-23 16:38:48 Hail: INFO: hwe_normalized_pca: running PCA using 7000 variants.\n",
      "2020-04-23 16:38:50 Hail: INFO: pca: running PCA with 10 components...\n"
     ]
    },
    {
     "name": "stdout",
     "output_type": "stream",
     "text": [
      "PCA took s:4000, v:7000, p:10 : 16.51 seconds\n"
     ]
    },
    {
     "name": "stderr",
     "output_type": "stream",
     "text": [
      "2020-04-23 16:39:10 Hail: INFO: Wrote all 2 blocks of 7000 x 4000 matrix with block size 4096.\n",
      "2020-04-23 16:39:11 Hail: INFO: wrote matrix with 11 rows and 7000 columns as 2 blocks of size 4096 to file:/tmp/hail.Y2Dh5hqGGSs3/yTZhgmqI3t.bm\n",
      "2020-04-23 16:39:12 Hail: INFO: wrote matrix with 7000 rows and 4000 columns as 2 blocks of size 4096 to file:/tmp/hail.Y2Dh5hqGGSs3/rBLHHwXASN.bm\n",
      "2020-04-23 16:39:12 Hail: INFO: wrote matrix with 7000 rows and 4000 columns as 2 blocks of size 4096 to file:/tmp/hail.Y2Dh5hqGGSs3/C9NRvQBL0M.bm\n",
      "2020-04-23 16:39:36 Hail: INFO: wrote matrix with 4000 rows and 4000 columns as 1 block of size 4096 to file:/tmp/hail.Y2Dh5hqGGSs3/Z5KJKnSsK8.bm\n",
      "2020-04-23 16:39:58 Hail: INFO: wrote matrix with 4000 rows and 4000 columns as 1 block of size 4096 to file:/tmp/hail.Y2Dh5hqGGSs3/pAIVT34tgA.bm\n",
      "2020-04-23 16:39:59 Hail: INFO: wrote matrix with 4000 rows and 4000 columns as 1 block of size 4096 to file:/tmp/hail.Y2Dh5hqGGSs3/pjBoHwK8C2.bm\n",
      "2020-04-23 16:40:25 Hail: INFO: wrote matrix with 4000 rows and 4000 columns as 1 block of size 4096 to file:/tmp/hail.Y2Dh5hqGGSs3/2qNCDvzkMI.bm\n",
      "2020-04-23 16:40:47 Hail: INFO: wrote matrix with 4000 rows and 4000 columns as 1 block of size 4096 to file:/tmp/hail.Y2Dh5hqGGSs3/MSaaxZr0Rh.bm\n",
      "2020-04-23 16:40:48 Hail: INFO: wrote matrix with 4000 rows and 4000 columns as 1 block of size 4096 to file:/tmp/hail.Y2Dh5hqGGSs3/pN6IsSWCiZ.bm\n",
      "2020-04-23 16:41:12 Hail: INFO: wrote matrix with 4000 rows and 4000 columns as 1 block of size 4096 to file:/tmp/hail.Y2Dh5hqGGSs3/PjNeimK5c6.bm\n",
      "2020-04-23 16:41:36 Hail: INFO: wrote matrix with 4000 rows and 4000 columns as 1 block of size 4096 to file:/tmp/hail.Y2Dh5hqGGSs3/iWpRYTfjbJ.bm\n",
      "2020-04-23 16:41:38 Hail: INFO: wrote matrix with 4000 rows and 4000 columns as 1 block of size 4096 to file:/tmp/hail.Y2Dh5hqGGSs3/dHGJLpOrCx.bm\n",
      "2020-04-23 16:41:53 Hail: INFO: Ordering unsorted dataset with network shuffle\n",
      "2020-04-23 16:43:10 Hail: INFO: Coerced sorted dataset\n",
      "2020-04-23 16:44:04 Hail: INFO: wrote table with 7998000 rows in 1 partition to /tmp/tmp4llnjb1j/pc_relate_result\n"
     ]
    },
    {
     "name": "stdout",
     "output_type": "stream",
     "text": [
      "Deleting pc_relate results: /tmp/tmp4llnjb1j/pc_relate_result\n",
      "Deleting hail tmp dir: /tmp/hail.Y2Dh5hqGGSs3\n"
     ]
    },
    {
     "name": "stderr",
     "output_type": "stream",
     "text": [
      "2020-04-23 16:44:04 Hail: INFO: balding_nichols_model: generating genotypes for 10 populations, 4000 samples, and 8000 variants...\n",
      "2020-04-23 16:44:05 Hail: INFO: Coerced sorted dataset\n",
      "2020-04-23 16:44:11 Hail: INFO: wrote matrix table with 8000 rows and 4000 columns in 8 partitions to /home/rav/data/tmp/mt_4000_8000_10.mt\n",
      "2020-04-23 16:44:11 Hail: INFO: hwe_normalized_pca: running PCA using 8000 variants.\n",
      "2020-04-23 16:44:14 Hail: INFO: pca: running PCA with 10 components...\n"
     ]
    },
    {
     "name": "stdout",
     "output_type": "stream",
     "text": [
      "PCA took s:4000, v:8000, p:10 : 13.22 seconds\n"
     ]
    },
    {
     "name": "stderr",
     "output_type": "stream",
     "text": [
      "2020-04-23 16:44:30 Hail: INFO: Wrote all 2 blocks of 8000 x 4000 matrix with block size 4096.\n",
      "2020-04-23 16:44:31 Hail: INFO: wrote matrix with 11 rows and 8000 columns as 2 blocks of size 4096 to file:/tmp/hail.Y2Dh5hqGGSs3/uGShnW9TEh.bm\n",
      "2020-04-23 16:44:32 Hail: INFO: wrote matrix with 8000 rows and 4000 columns as 2 blocks of size 4096 to file:/tmp/hail.Y2Dh5hqGGSs3/QXQUekbW4l.bm\n",
      "2020-04-23 16:44:33 Hail: INFO: wrote matrix with 8000 rows and 4000 columns as 2 blocks of size 4096 to file:/tmp/hail.Y2Dh5hqGGSs3/4cyDxOqjaS.bm\n",
      "2020-04-23 16:44:59 Hail: INFO: wrote matrix with 4000 rows and 4000 columns as 1 block of size 4096 to file:/tmp/hail.Y2Dh5hqGGSs3/Cx64J39tM6.bm\n",
      "2020-04-23 16:45:25 Hail: INFO: wrote matrix with 4000 rows and 4000 columns as 1 block of size 4096 to file:/tmp/hail.Y2Dh5hqGGSs3/JTeCJLypgi.bm\n",
      "2020-04-23 16:45:26 Hail: INFO: wrote matrix with 4000 rows and 4000 columns as 1 block of size 4096 to file:/tmp/hail.Y2Dh5hqGGSs3/kyfKsTOSOB.bm\n",
      "2020-04-23 16:45:55 Hail: INFO: wrote matrix with 4000 rows and 4000 columns as 1 block of size 4096 to file:/tmp/hail.Y2Dh5hqGGSs3/Uzk5TSfPLs.bm\n",
      "2020-04-23 16:46:21 Hail: INFO: wrote matrix with 4000 rows and 4000 columns as 1 block of size 4096 to file:/tmp/hail.Y2Dh5hqGGSs3/oeFXdqIE9P.bm\n",
      "2020-04-23 16:46:21 Hail: INFO: wrote matrix with 4000 rows and 4000 columns as 1 block of size 4096 to file:/tmp/hail.Y2Dh5hqGGSs3/kK8iVQdvwI.bm\n",
      "2020-04-23 16:46:49 Hail: INFO: wrote matrix with 4000 rows and 4000 columns as 1 block of size 4096 to file:/tmp/hail.Y2Dh5hqGGSs3/PIVo6jQEI9.bm\n",
      "2020-04-23 16:47:17 Hail: INFO: wrote matrix with 4000 rows and 4000 columns as 1 block of size 4096 to file:/tmp/hail.Y2Dh5hqGGSs3/v4zl9FUfGM.bm\n",
      "2020-04-23 16:47:18 Hail: INFO: wrote matrix with 4000 rows and 4000 columns as 1 block of size 4096 to file:/tmp/hail.Y2Dh5hqGGSs3/DhUVe0XvJG.bm\n",
      "2020-04-23 16:47:33 Hail: INFO: Ordering unsorted dataset with network shuffle\n",
      "2020-04-23 16:48:50 Hail: INFO: Coerced sorted dataset\n",
      "2020-04-23 16:49:45 Hail: INFO: wrote table with 7998000 rows in 1 partition to /tmp/tmpfdyzlybj/pc_relate_result\n"
     ]
    },
    {
     "name": "stdout",
     "output_type": "stream",
     "text": [
      "Deleting pc_relate results: /tmp/tmpfdyzlybj/pc_relate_result\n",
      "Deleting hail tmp dir: /tmp/hail.Y2Dh5hqGGSs3\n"
     ]
    },
    {
     "name": "stderr",
     "output_type": "stream",
     "text": [
      "2020-04-23 16:49:45 Hail: INFO: balding_nichols_model: generating genotypes for 10 populations, 4000 samples, and 9000 variants...\n",
      "2020-04-23 16:49:45 Hail: INFO: Coerced sorted dataset\n",
      "2020-04-23 16:49:52 Hail: INFO: wrote matrix table with 9000 rows and 4000 columns in 8 partitions to /home/rav/data/tmp/mt_4000_9000_10.mt\n",
      "2020-04-23 16:49:53 Hail: INFO: hwe_normalized_pca: running PCA using 9000 variants.\n",
      "2020-04-23 16:49:55 Hail: INFO: pca: running PCA with 10 components...\n"
     ]
    },
    {
     "name": "stdout",
     "output_type": "stream",
     "text": [
      "PCA took s:4000, v:9000, p:10 : 16.07 seconds\n"
     ]
    },
    {
     "name": "stderr",
     "output_type": "stream",
     "text": [
      "2020-04-23 16:50:15 Hail: INFO: Wrote all 3 blocks of 9000 x 4000 matrix with block size 4096.\n",
      "2020-04-23 16:50:16 Hail: INFO: wrote matrix with 11 rows and 9000 columns as 3 blocks of size 4096 to file:/tmp/hail.Y2Dh5hqGGSs3/3SQdKrkSgg.bm\n",
      "2020-04-23 16:50:16 Hail: INFO: wrote matrix with 9000 rows and 4000 columns as 3 blocks of size 4096 to file:/tmp/hail.Y2Dh5hqGGSs3/D2qI8gQKoM.bm\n",
      "2020-04-23 16:50:17 Hail: INFO: wrote matrix with 9000 rows and 4000 columns as 3 blocks of size 4096 to file:/tmp/hail.Y2Dh5hqGGSs3/Tj6XpmyFTv.bm\n",
      "2020-04-23 16:50:47 Hail: INFO: wrote matrix with 4000 rows and 4000 columns as 1 block of size 4096 to file:/tmp/hail.Y2Dh5hqGGSs3/YPLJeUxPfU.bm\n",
      "2020-04-23 16:51:16 Hail: INFO: wrote matrix with 4000 rows and 4000 columns as 1 block of size 4096 to file:/tmp/hail.Y2Dh5hqGGSs3/XOhFicztdO.bm\n",
      "2020-04-23 16:51:16 Hail: INFO: wrote matrix with 4000 rows and 4000 columns as 1 block of size 4096 to file:/tmp/hail.Y2Dh5hqGGSs3/iUYclpnJBC.bm\n",
      "2020-04-23 16:51:50 Hail: INFO: wrote matrix with 4000 rows and 4000 columns as 1 block of size 4096 to file:/tmp/hail.Y2Dh5hqGGSs3/4XTtKBuCoN.bm\n",
      "2020-04-23 16:52:19 Hail: INFO: wrote matrix with 4000 rows and 4000 columns as 1 block of size 4096 to file:/tmp/hail.Y2Dh5hqGGSs3/NDn0Qq1Loj.bm\n",
      "2020-04-23 16:52:20 Hail: INFO: wrote matrix with 4000 rows and 4000 columns as 1 block of size 4096 to file:/tmp/hail.Y2Dh5hqGGSs3/lzwdQcjHJ4.bm\n",
      "2020-04-23 16:52:51 Hail: INFO: wrote matrix with 4000 rows and 4000 columns as 1 block of size 4096 to file:/tmp/hail.Y2Dh5hqGGSs3/2PznSCC6D7.bm\n",
      "2020-04-23 16:53:22 Hail: INFO: wrote matrix with 4000 rows and 4000 columns as 1 block of size 4096 to file:/tmp/hail.Y2Dh5hqGGSs3/B5cN700Y1g.bm\n",
      "2020-04-23 16:53:24 Hail: INFO: wrote matrix with 4000 rows and 4000 columns as 1 block of size 4096 to file:/tmp/hail.Y2Dh5hqGGSs3/mCszCgOOti.bm\n",
      "2020-04-23 16:53:48 Hail: INFO: Ordering unsorted dataset with network shuffle\n",
      "2020-04-23 16:55:11 Hail: INFO: Coerced sorted dataset\n",
      "2020-04-23 16:56:06 Hail: INFO: wrote table with 7998000 rows in 1 partition to /tmp/tmpuf433b7v/pc_relate_result\n"
     ]
    },
    {
     "name": "stdout",
     "output_type": "stream",
     "text": [
      "Deleting pc_relate results: /tmp/tmpuf433b7v/pc_relate_result\n",
      "Deleting hail tmp dir: /tmp/hail.Y2Dh5hqGGSs3\n"
     ]
    },
    {
     "name": "stderr",
     "output_type": "stream",
     "text": [
      "2020-04-23 16:56:06 Hail: INFO: balding_nichols_model: generating genotypes for 10 populations, 4000 samples, and 10000 variants...\n",
      "2020-04-23 16:56:06 Hail: INFO: Coerced sorted dataset\n",
      "2020-04-23 16:56:14 Hail: INFO: wrote matrix table with 10000 rows and 4000 columns in 8 partitions to /home/rav/data/tmp/mt_4000_10000_10.mt\n",
      "2020-04-23 16:56:14 Hail: INFO: hwe_normalized_pca: running PCA using 10000 variants.\n",
      "2020-04-23 16:56:17 Hail: INFO: pca: running PCA with 10 components...\n"
     ]
    },
    {
     "name": "stdout",
     "output_type": "stream",
     "text": [
      "PCA took s:4000, v:10000, p:10 : 17.30 seconds\n"
     ]
    },
    {
     "name": "stderr",
     "output_type": "stream",
     "text": [
      "2020-04-23 16:56:38 Hail: INFO: Wrote all 3 blocks of 10000 x 4000 matrix with block size 4096.\n",
      "2020-04-23 16:56:39 Hail: INFO: wrote matrix with 11 rows and 10000 columns as 3 blocks of size 4096 to file:/tmp/hail.Y2Dh5hqGGSs3/HEY8VEbYf4.bm\n",
      "2020-04-23 16:56:39 Hail: INFO: wrote matrix with 10000 rows and 4000 columns as 3 blocks of size 4096 to file:/tmp/hail.Y2Dh5hqGGSs3/TWDPNgmioo.bm\n",
      "2020-04-23 16:56:40 Hail: INFO: wrote matrix with 10000 rows and 4000 columns as 3 blocks of size 4096 to file:/tmp/hail.Y2Dh5hqGGSs3/WkcYVdmN9D.bm\n",
      "2020-04-23 16:57:13 Hail: INFO: wrote matrix with 4000 rows and 4000 columns as 1 block of size 4096 to file:/tmp/hail.Y2Dh5hqGGSs3/skvv1X2RF6.bm\n",
      "2020-04-23 16:57:45 Hail: INFO: wrote matrix with 4000 rows and 4000 columns as 1 block of size 4096 to file:/tmp/hail.Y2Dh5hqGGSs3/N8HEtQDxmV.bm\n",
      "2020-04-23 16:57:46 Hail: INFO: wrote matrix with 4000 rows and 4000 columns as 1 block of size 4096 to file:/tmp/hail.Y2Dh5hqGGSs3/YNFYDLiVEE.bm\n",
      "2020-04-23 16:58:23 Hail: INFO: wrote matrix with 4000 rows and 4000 columns as 1 block of size 4096 to file:/tmp/hail.Y2Dh5hqGGSs3/mg80EoyCU2.bm\n",
      "2020-04-23 16:58:55 Hail: INFO: wrote matrix with 4000 rows and 4000 columns as 1 block of size 4096 to file:/tmp/hail.Y2Dh5hqGGSs3/Akir8bJQ0i.bm\n",
      "2020-04-23 16:58:55 Hail: INFO: wrote matrix with 4000 rows and 4000 columns as 1 block of size 4096 to file:/tmp/hail.Y2Dh5hqGGSs3/AI2UpZb3f4.bm\n",
      "2020-04-23 16:59:30 Hail: INFO: wrote matrix with 4000 rows and 4000 columns as 1 block of size 4096 to file:/tmp/hail.Y2Dh5hqGGSs3/j4ttN2gRJG.bm\n",
      "2020-04-23 17:00:05 Hail: INFO: wrote matrix with 4000 rows and 4000 columns as 1 block of size 4096 to file:/tmp/hail.Y2Dh5hqGGSs3/krRxKk5DCA.bm\n",
      "2020-04-23 17:00:07 Hail: INFO: wrote matrix with 4000 rows and 4000 columns as 1 block of size 4096 to file:/tmp/hail.Y2Dh5hqGGSs3/OlOpaiZN2g.bm\n",
      "2020-04-23 17:00:22 Hail: INFO: Ordering unsorted dataset with network shuffle\n",
      "2020-04-23 17:01:41 Hail: INFO: Coerced sorted dataset\n",
      "2020-04-23 17:02:35 Hail: INFO: wrote table with 7998000 rows in 1 partition to /tmp/tmpa89m8exk/pc_relate_result\n"
     ]
    },
    {
     "name": "stdout",
     "output_type": "stream",
     "text": [
      "Deleting pc_relate results: /tmp/tmpa89m8exk/pc_relate_result\n",
      "Deleting hail tmp dir: /tmp/hail.Y2Dh5hqGGSs3\n"
     ]
    },
    {
     "name": "stderr",
     "output_type": "stream",
     "text": [
      "2020-04-23 17:02:36 Hail: INFO: balding_nichols_model: generating genotypes for 10 populations, 5000 samples, and 1000 variants...\n",
      "2020-04-23 17:02:36 Hail: INFO: Coerced sorted dataset\n",
      "2020-04-23 17:02:39 Hail: INFO: wrote matrix table with 1000 rows and 5000 columns in 8 partitions to /home/rav/data/tmp/mt_5000_1000_10.mt\n",
      "2020-04-23 17:02:39 Hail: INFO: hwe_normalized_pca: running PCA using 1000 variants.\n",
      "2020-04-23 17:02:41 Hail: INFO: pca: running PCA with 10 components...\n"
     ]
    },
    {
     "name": "stdout",
     "output_type": "stream",
     "text": [
      "PCA took s:5000, v:1000, p:10 : 7.45 seconds\n"
     ]
    },
    {
     "name": "stderr",
     "output_type": "stream",
     "text": [
      "2020-04-23 17:02:50 Hail: INFO: Wrote all 2 blocks of 1000 x 5000 matrix with block size 4096.\n",
      "2020-04-23 17:02:51 Hail: INFO: wrote matrix with 11 rows and 1000 columns as 1 block of size 4096 to file:/tmp/hail.Y2Dh5hqGGSs3/0G50ws5HI1.bm\n",
      "2020-04-23 17:02:51 Hail: INFO: wrote matrix with 1000 rows and 5000 columns as 2 blocks of size 4096 to file:/tmp/hail.Y2Dh5hqGGSs3/9CIHCQMw4G.bm\n",
      "2020-04-23 17:02:52 Hail: INFO: wrote matrix with 1000 rows and 5000 columns as 2 blocks of size 4096 to file:/tmp/hail.Y2Dh5hqGGSs3/oa4a80qPjK.bm\n",
      "2020-04-23 17:02:55 Hail: INFO: wrote matrix with 5000 rows and 5000 columns as 4 blocks of size 4096 to file:/tmp/hail.Y2Dh5hqGGSs3/B0ynbl77hx.bm\n",
      "2020-04-23 17:02:59 Hail: INFO: wrote matrix with 5000 rows and 5000 columns as 4 blocks of size 4096 to file:/tmp/hail.Y2Dh5hqGGSs3/iWnuaqaJdY.bm\n",
      "2020-04-23 17:02:59 Hail: INFO: wrote matrix with 5000 rows and 5000 columns as 4 blocks of size 4096 to file:/tmp/hail.Y2Dh5hqGGSs3/19Gwi1F4LC.bm\n",
      "2020-04-23 17:03:04 Hail: INFO: wrote matrix with 5000 rows and 5000 columns as 4 blocks of size 4096 to file:/tmp/hail.Y2Dh5hqGGSs3/4AEZds3P3G.bm\n",
      "2020-04-23 17:03:07 Hail: INFO: wrote matrix with 5000 rows and 5000 columns as 4 blocks of size 4096 to file:/tmp/hail.Y2Dh5hqGGSs3/DxtqYSOWy8.bm\n",
      "2020-04-23 17:03:08 Hail: INFO: wrote matrix with 5000 rows and 5000 columns as 4 blocks of size 4096 to file:/tmp/hail.Y2Dh5hqGGSs3/Cad8IlhFjB.bm\n",
      "2020-04-23 17:03:12 Hail: INFO: wrote matrix with 5000 rows and 5000 columns as 4 blocks of size 4096 to file:/tmp/hail.Y2Dh5hqGGSs3/gvyumycLUo.bm\n",
      "2020-04-23 17:03:16 Hail: INFO: wrote matrix with 5000 rows and 5000 columns as 4 blocks of size 4096 to file:/tmp/hail.Y2Dh5hqGGSs3/wVnOhg6U1x.bm\n",
      "2020-04-23 17:03:18 Hail: INFO: wrote matrix with 5000 rows and 5000 columns as 4 blocks of size 4096 to file:/tmp/hail.Y2Dh5hqGGSs3/2Uun8HqwEK.bm\n",
      "2020-04-23 17:03:33 Hail: INFO: Ordering unsorted dataset with network shuffle\n",
      "2020-04-23 17:04:51 Hail: INFO: Coerced sorted dataset\n",
      "2020-04-23 17:05:29 Hail: INFO: wrote table with 12497500 rows in 4 partitions to /tmp/tmp7hnij8nq/pc_relate_result\n"
     ]
    },
    {
     "name": "stdout",
     "output_type": "stream",
     "text": [
      "Deleting pc_relate results: /tmp/tmp7hnij8nq/pc_relate_result\n",
      "Deleting hail tmp dir: /tmp/hail.Y2Dh5hqGGSs3\n"
     ]
    },
    {
     "name": "stderr",
     "output_type": "stream",
     "text": [
      "2020-04-23 17:05:30 Hail: INFO: balding_nichols_model: generating genotypes for 10 populations, 5000 samples, and 2000 variants...\n",
      "2020-04-23 17:05:30 Hail: INFO: Coerced sorted dataset\n",
      "2020-04-23 17:05:33 Hail: INFO: wrote matrix table with 2000 rows and 5000 columns in 8 partitions to /home/rav/data/tmp/mt_5000_2000_10.mt\n",
      "2020-04-23 17:05:34 Hail: INFO: hwe_normalized_pca: running PCA using 2000 variants.\n",
      "2020-04-23 17:05:36 Hail: INFO: pca: running PCA with 10 components...\n"
     ]
    },
    {
     "name": "stdout",
     "output_type": "stream",
     "text": [
      "PCA took s:5000, v:2000, p:10 : 9.25 seconds\n"
     ]
    },
    {
     "name": "stderr",
     "output_type": "stream",
     "text": [
      "2020-04-23 17:05:47 Hail: INFO: Wrote all 2 blocks of 2000 x 5000 matrix with block size 4096.\n",
      "2020-04-23 17:05:48 Hail: INFO: wrote matrix with 11 rows and 2000 columns as 1 block of size 4096 to file:/tmp/hail.Y2Dh5hqGGSs3/7b68evC5un.bm\n",
      "2020-04-23 17:05:49 Hail: INFO: wrote matrix with 2000 rows and 5000 columns as 2 blocks of size 4096 to file:/tmp/hail.Y2Dh5hqGGSs3/euCzNegEpv.bm\n",
      "2020-04-23 17:05:49 Hail: INFO: wrote matrix with 2000 rows and 5000 columns as 2 blocks of size 4096 to file:/tmp/hail.Y2Dh5hqGGSs3/JzgMf0icMG.bm\n",
      "2020-04-23 17:05:56 Hail: INFO: wrote matrix with 5000 rows and 5000 columns as 4 blocks of size 4096 to file:/tmp/hail.Y2Dh5hqGGSs3/PSF7UYsBQv.bm\n",
      "2020-04-23 17:06:03 Hail: INFO: wrote matrix with 5000 rows and 5000 columns as 4 blocks of size 4096 to file:/tmp/hail.Y2Dh5hqGGSs3/h17Qo41Ko3.bm\n",
      "2020-04-23 17:06:04 Hail: INFO: wrote matrix with 5000 rows and 5000 columns as 4 blocks of size 4096 to file:/tmp/hail.Y2Dh5hqGGSs3/x4DEDWh35s.bm\n",
      "2020-04-23 17:06:12 Hail: INFO: wrote matrix with 5000 rows and 5000 columns as 4 blocks of size 4096 to file:/tmp/hail.Y2Dh5hqGGSs3/IxNJ5PhPkX.bm\n",
      "2020-04-23 17:06:19 Hail: INFO: wrote matrix with 5000 rows and 5000 columns as 4 blocks of size 4096 to file:/tmp/hail.Y2Dh5hqGGSs3/VNWe0kTGni.bm\n",
      "2020-04-23 17:06:20 Hail: INFO: wrote matrix with 5000 rows and 5000 columns as 4 blocks of size 4096 to file:/tmp/hail.Y2Dh5hqGGSs3/YiG74MDjsP.bm\n",
      "2020-04-23 17:06:28 Hail: INFO: wrote matrix with 5000 rows and 5000 columns as 4 blocks of size 4096 to file:/tmp/hail.Y2Dh5hqGGSs3/ojFBRB2NJn.bm\n",
      "2020-04-23 17:06:35 Hail: INFO: wrote matrix with 5000 rows and 5000 columns as 4 blocks of size 4096 to file:/tmp/hail.Y2Dh5hqGGSs3/mZFCjccuPY.bm\n",
      "2020-04-23 17:06:37 Hail: INFO: wrote matrix with 5000 rows and 5000 columns as 4 blocks of size 4096 to file:/tmp/hail.Y2Dh5hqGGSs3/lGkpJ2Dymj.bm\n",
      "2020-04-23 17:06:53 Hail: INFO: Ordering unsorted dataset with network shuffle\n",
      "2020-04-23 17:08:00 Hail: INFO: Coerced sorted dataset\n",
      "2020-04-23 17:08:40 Hail: INFO: wrote table with 12497500 rows in 4 partitions to /tmp/tmpc78tsh4j/pc_relate_result\n"
     ]
    },
    {
     "name": "stdout",
     "output_type": "stream",
     "text": [
      "Deleting pc_relate results: /tmp/tmpc78tsh4j/pc_relate_result\n",
      "Deleting hail tmp dir: /tmp/hail.Y2Dh5hqGGSs3\n"
     ]
    },
    {
     "name": "stderr",
     "output_type": "stream",
     "text": [
      "2020-04-23 17:08:40 Hail: INFO: balding_nichols_model: generating genotypes for 10 populations, 5000 samples, and 3000 variants...\n",
      "2020-04-23 17:08:40 Hail: INFO: Coerced sorted dataset\n",
      "2020-04-23 17:08:44 Hail: INFO: wrote matrix table with 3000 rows and 5000 columns in 8 partitions to /home/rav/data/tmp/mt_5000_3000_10.mt\n",
      "2020-04-23 17:08:45 Hail: INFO: hwe_normalized_pca: running PCA using 3000 variants.\n",
      "2020-04-23 17:08:47 Hail: INFO: pca: running PCA with 10 components...\n"
     ]
    },
    {
     "name": "stdout",
     "output_type": "stream",
     "text": [
      "PCA took s:5000, v:3000, p:10 : 10.66 seconds\n"
     ]
    },
    {
     "name": "stderr",
     "output_type": "stream",
     "text": [
      "2020-04-23 17:09:00 Hail: INFO: Wrote all 2 blocks of 3000 x 5000 matrix with block size 4096.\n",
      "2020-04-23 17:09:02 Hail: INFO: wrote matrix with 11 rows and 3000 columns as 1 block of size 4096 to file:/tmp/hail.Y2Dh5hqGGSs3/ofJyQk5EBq.bm\n",
      "2020-04-23 17:09:02 Hail: INFO: wrote matrix with 3000 rows and 5000 columns as 2 blocks of size 4096 to file:/tmp/hail.Y2Dh5hqGGSs3/TvEryJBoSo.bm\n",
      "2020-04-23 17:09:02 Hail: INFO: wrote matrix with 3000 rows and 5000 columns as 2 blocks of size 4096 to file:/tmp/hail.Y2Dh5hqGGSs3/xFlvCuzKyJ.bm\n",
      "2020-04-23 17:09:13 Hail: INFO: wrote matrix with 5000 rows and 5000 columns as 4 blocks of size 4096 to file:/tmp/hail.Y2Dh5hqGGSs3/p8zds1WoT8.bm\n",
      "2020-04-23 17:09:24 Hail: INFO: wrote matrix with 5000 rows and 5000 columns as 4 blocks of size 4096 to file:/tmp/hail.Y2Dh5hqGGSs3/4A75Jf5264.bm\n",
      "2020-04-23 17:09:24 Hail: INFO: wrote matrix with 5000 rows and 5000 columns as 4 blocks of size 4096 to file:/tmp/hail.Y2Dh5hqGGSs3/9H8z5qUIE9.bm\n",
      "2020-04-23 17:09:37 Hail: INFO: wrote matrix with 5000 rows and 5000 columns as 4 blocks of size 4096 to file:/tmp/hail.Y2Dh5hqGGSs3/sbTQslphyb.bm\n",
      "2020-04-23 17:09:47 Hail: INFO: wrote matrix with 5000 rows and 5000 columns as 4 blocks of size 4096 to file:/tmp/hail.Y2Dh5hqGGSs3/EDHfiLcp1I.bm\n",
      "2020-04-23 17:09:48 Hail: INFO: wrote matrix with 5000 rows and 5000 columns as 4 blocks of size 4096 to file:/tmp/hail.Y2Dh5hqGGSs3/qJGuCutd6g.bm\n",
      "2020-04-23 17:09:59 Hail: INFO: wrote matrix with 5000 rows and 5000 columns as 4 blocks of size 4096 to file:/tmp/hail.Y2Dh5hqGGSs3/i3JtEToGCB.bm\n",
      "2020-04-23 17:10:10 Hail: INFO: wrote matrix with 5000 rows and 5000 columns as 4 blocks of size 4096 to file:/tmp/hail.Y2Dh5hqGGSs3/A3A8eS0cAI.bm\n",
      "2020-04-23 17:10:12 Hail: INFO: wrote matrix with 5000 rows and 5000 columns as 4 blocks of size 4096 to file:/tmp/hail.Y2Dh5hqGGSs3/4eq7LWIXzu.bm\n",
      "2020-04-23 17:10:28 Hail: INFO: Ordering unsorted dataset with network shuffle\n",
      "2020-04-23 17:11:36 Hail: INFO: Coerced sorted dataset\n",
      "2020-04-23 17:12:14 Hail: INFO: wrote table with 12497500 rows in 4 partitions to /tmp/tmpq_tio8h5/pc_relate_result\n"
     ]
    },
    {
     "name": "stdout",
     "output_type": "stream",
     "text": [
      "Deleting pc_relate results: /tmp/tmpq_tio8h5/pc_relate_result\n",
      "Deleting hail tmp dir: /tmp/hail.Y2Dh5hqGGSs3\n"
     ]
    },
    {
     "name": "stderr",
     "output_type": "stream",
     "text": [
      "2020-04-23 17:12:15 Hail: INFO: balding_nichols_model: generating genotypes for 10 populations, 5000 samples, and 4000 variants...\n",
      "2020-04-23 17:12:16 Hail: INFO: Coerced sorted dataset\n",
      "2020-04-23 17:12:21 Hail: INFO: wrote matrix table with 4000 rows and 5000 columns in 8 partitions to /home/rav/data/tmp/mt_5000_4000_10.mt\n",
      "2020-04-23 17:12:21 Hail: INFO: hwe_normalized_pca: running PCA using 4000 variants.\n",
      "2020-04-23 17:12:23 Hail: INFO: pca: running PCA with 10 components...\n"
     ]
    },
    {
     "name": "stdout",
     "output_type": "stream",
     "text": [
      "PCA took s:5000, v:4000, p:10 : 11.62 seconds\n"
     ]
    },
    {
     "name": "stderr",
     "output_type": "stream",
     "text": [
      "2020-04-23 17:12:38 Hail: INFO: Wrote all 2 blocks of 4000 x 5000 matrix with block size 4096.\n",
      "2020-04-23 17:12:40 Hail: INFO: wrote matrix with 11 rows and 4000 columns as 1 block of size 4096 to file:/tmp/hail.Y2Dh5hqGGSs3/ZDTJW8iaAp.bm\n",
      "2020-04-23 17:12:40 Hail: INFO: wrote matrix with 4000 rows and 5000 columns as 2 blocks of size 4096 to file:/tmp/hail.Y2Dh5hqGGSs3/FS5O9s8CiK.bm\n",
      "2020-04-23 17:12:41 Hail: INFO: wrote matrix with 4000 rows and 5000 columns as 2 blocks of size 4096 to file:/tmp/hail.Y2Dh5hqGGSs3/sRVu6rW4Xr.bm\n",
      "2020-04-23 17:12:55 Hail: INFO: wrote matrix with 5000 rows and 5000 columns as 4 blocks of size 4096 to file:/tmp/hail.Y2Dh5hqGGSs3/Fr0YT48C2Z.bm\n",
      "2020-04-23 17:13:09 Hail: INFO: wrote matrix with 5000 rows and 5000 columns as 4 blocks of size 4096 to file:/tmp/hail.Y2Dh5hqGGSs3/f9qlP1rUJ1.bm\n",
      "2020-04-23 17:13:09 Hail: INFO: wrote matrix with 5000 rows and 5000 columns as 4 blocks of size 4096 to file:/tmp/hail.Y2Dh5hqGGSs3/JAslZBjPrd.bm\n",
      "2020-04-23 17:13:26 Hail: INFO: wrote matrix with 5000 rows and 5000 columns as 4 blocks of size 4096 to file:/tmp/hail.Y2Dh5hqGGSs3/6gPUJN9UlS.bm\n",
      "2020-04-23 17:13:40 Hail: INFO: wrote matrix with 5000 rows and 5000 columns as 4 blocks of size 4096 to file:/tmp/hail.Y2Dh5hqGGSs3/GJZkZRv3Mk.bm\n",
      "2020-04-23 17:13:41 Hail: INFO: wrote matrix with 5000 rows and 5000 columns as 4 blocks of size 4096 to file:/tmp/hail.Y2Dh5hqGGSs3/0oWmjcnncJ.bm\n",
      "2020-04-23 17:13:56 Hail: INFO: wrote matrix with 5000 rows and 5000 columns as 4 blocks of size 4096 to file:/tmp/hail.Y2Dh5hqGGSs3/t8vIyFK3w8.bm\n",
      "2020-04-23 17:14:10 Hail: INFO: wrote matrix with 5000 rows and 5000 columns as 4 blocks of size 4096 to file:/tmp/hail.Y2Dh5hqGGSs3/wPkuQPbuSQ.bm\n",
      "2020-04-23 17:14:12 Hail: INFO: wrote matrix with 5000 rows and 5000 columns as 4 blocks of size 4096 to file:/tmp/hail.Y2Dh5hqGGSs3/XZDLpbaevD.bm\n",
      "2020-04-23 17:14:28 Hail: INFO: Ordering unsorted dataset with network shuffle\n",
      "2020-04-23 17:15:36 Hail: INFO: Coerced sorted dataset\n",
      "2020-04-23 17:16:15 Hail: INFO: wrote table with 12497500 rows in 4 partitions to /tmp/tmpumzr_0kz/pc_relate_result\n"
     ]
    },
    {
     "name": "stdout",
     "output_type": "stream",
     "text": [
      "Deleting pc_relate results: /tmp/tmpumzr_0kz/pc_relate_result\n",
      "Deleting hail tmp dir: /tmp/hail.Y2Dh5hqGGSs3\n"
     ]
    },
    {
     "name": "stderr",
     "output_type": "stream",
     "text": [
      "2020-04-23 17:16:16 Hail: INFO: hwe_normalized_pca: running PCA using 5000 variants.\n",
      "2020-04-23 17:16:18 Hail: INFO: pca: running PCA with 10 components...\n"
     ]
    },
    {
     "name": "stdout",
     "output_type": "stream",
     "text": [
      "PCA took s:5000, v:5000, p:10 : 13.76 seconds\n"
     ]
    },
    {
     "name": "stderr",
     "output_type": "stream",
     "text": [
      "2020-04-23 17:16:36 Hail: INFO: Wrote all 4 blocks of 5000 x 5000 matrix with block size 4096.\n",
      "2020-04-23 17:16:37 Hail: INFO: wrote matrix with 11 rows and 5000 columns as 2 blocks of size 4096 to file:/tmp/hail.Y2Dh5hqGGSs3/ItKdXmcbtP.bm\n",
      "2020-04-23 17:16:37 Hail: INFO: wrote matrix with 5000 rows and 5000 columns as 4 blocks of size 4096 to file:/tmp/hail.Y2Dh5hqGGSs3/LAMm7jAFNz.bm\n",
      "2020-04-23 17:16:38 Hail: INFO: wrote matrix with 5000 rows and 5000 columns as 4 blocks of size 4096 to file:/tmp/hail.Y2Dh5hqGGSs3/cnou7l8aFY.bm\n",
      "2020-04-23 17:16:56 Hail: INFO: wrote matrix with 5000 rows and 5000 columns as 4 blocks of size 4096 to file:/tmp/hail.Y2Dh5hqGGSs3/wvaC86Xwxb.bm\n",
      "2020-04-23 17:17:13 Hail: INFO: wrote matrix with 5000 rows and 5000 columns as 4 blocks of size 4096 to file:/tmp/hail.Y2Dh5hqGGSs3/PNliJx7HuP.bm\n",
      "2020-04-23 17:17:13 Hail: INFO: wrote matrix with 5000 rows and 5000 columns as 4 blocks of size 4096 to file:/tmp/hail.Y2Dh5hqGGSs3/lNz5ZyTSN8.bm\n",
      "2020-04-23 17:17:33 Hail: INFO: wrote matrix with 5000 rows and 5000 columns as 4 blocks of size 4096 to file:/tmp/hail.Y2Dh5hqGGSs3/kDMkgisVPE.bm\n",
      "2020-04-23 17:17:50 Hail: INFO: wrote matrix with 5000 rows and 5000 columns as 4 blocks of size 4096 to file:/tmp/hail.Y2Dh5hqGGSs3/Zgeznilu3H.bm\n",
      "2020-04-23 17:17:51 Hail: INFO: wrote matrix with 5000 rows and 5000 columns as 4 blocks of size 4096 to file:/tmp/hail.Y2Dh5hqGGSs3/umNuC30Z8Y.bm\n",
      "2020-04-23 17:18:10 Hail: INFO: wrote matrix with 5000 rows and 5000 columns as 4 blocks of size 4096 to file:/tmp/hail.Y2Dh5hqGGSs3/8539Z5FN14.bm\n",
      "2020-04-23 17:18:29 Hail: INFO: wrote matrix with 5000 rows and 5000 columns as 4 blocks of size 4096 to file:/tmp/hail.Y2Dh5hqGGSs3/9sshCTCLbn.bm\n",
      "2020-04-23 17:18:31 Hail: INFO: wrote matrix with 5000 rows and 5000 columns as 4 blocks of size 4096 to file:/tmp/hail.Y2Dh5hqGGSs3/yi2scFhJDK.bm\n",
      "2020-04-23 17:18:47 Hail: INFO: Ordering unsorted dataset with network shuffle\n",
      "2020-04-23 17:19:53 Hail: INFO: Coerced sorted dataset\n",
      "2020-04-23 17:20:31 Hail: INFO: wrote table with 12497500 rows in 4 partitions to /tmp/tmpobz1gz44/pc_relate_result\n"
     ]
    },
    {
     "name": "stdout",
     "output_type": "stream",
     "text": [
      "Deleting pc_relate results: /tmp/tmpobz1gz44/pc_relate_result\n",
      "Deleting hail tmp dir: /tmp/hail.Y2Dh5hqGGSs3\n"
     ]
    },
    {
     "name": "stderr",
     "output_type": "stream",
     "text": [
      "2020-04-23 17:20:32 Hail: INFO: balding_nichols_model: generating genotypes for 10 populations, 5000 samples, and 6000 variants...\n",
      "2020-04-23 17:20:32 Hail: INFO: Coerced sorted dataset\n",
      "2020-04-23 17:20:38 Hail: INFO: wrote matrix table with 6000 rows and 5000 columns in 8 partitions to /home/rav/data/tmp/mt_5000_6000_10.mt\n",
      "2020-04-23 17:20:38 Hail: INFO: hwe_normalized_pca: running PCA using 6000 variants.\n",
      "2020-04-23 17:20:41 Hail: INFO: pca: running PCA with 10 components...\n"
     ]
    },
    {
     "name": "stdout",
     "output_type": "stream",
     "text": [
      "PCA took s:5000, v:6000, p:10 : 13.76 seconds\n"
     ]
    },
    {
     "name": "stderr",
     "output_type": "stream",
     "text": [
      "2020-04-23 17:20:58 Hail: INFO: Wrote all 4 blocks of 6000 x 5000 matrix with block size 4096.\n",
      "2020-04-23 17:21:00 Hail: INFO: wrote matrix with 11 rows and 6000 columns as 2 blocks of size 4096 to file:/tmp/hail.Y2Dh5hqGGSs3/Jw3F9cdQOt.bm\n",
      "2020-04-23 17:21:01 Hail: INFO: wrote matrix with 6000 rows and 5000 columns as 4 blocks of size 4096 to file:/tmp/hail.Y2Dh5hqGGSs3/3H6YmEqoZ1.bm\n",
      "2020-04-23 17:21:01 Hail: INFO: wrote matrix with 6000 rows and 5000 columns as 4 blocks of size 4096 to file:/tmp/hail.Y2Dh5hqGGSs3/Dy0zGR43JP.bm\n",
      "2020-04-23 17:21:22 Hail: INFO: wrote matrix with 5000 rows and 5000 columns as 4 blocks of size 4096 to file:/tmp/hail.Y2Dh5hqGGSs3/b3fWQVlWOF.bm\n",
      "2020-04-23 17:21:42 Hail: INFO: wrote matrix with 5000 rows and 5000 columns as 4 blocks of size 4096 to file:/tmp/hail.Y2Dh5hqGGSs3/kGzCKxNJ55.bm\n",
      "2020-04-23 17:21:43 Hail: INFO: wrote matrix with 5000 rows and 5000 columns as 4 blocks of size 4096 to file:/tmp/hail.Y2Dh5hqGGSs3/Sx0OxfLtS1.bm\n",
      "2020-04-23 17:22:06 Hail: INFO: wrote matrix with 5000 rows and 5000 columns as 4 blocks of size 4096 to file:/tmp/hail.Y2Dh5hqGGSs3/15CSykubWQ.bm\n",
      "2020-04-23 17:22:26 Hail: INFO: wrote matrix with 5000 rows and 5000 columns as 4 blocks of size 4096 to file:/tmp/hail.Y2Dh5hqGGSs3/sF6PzIwN01.bm\n",
      "2020-04-23 17:22:27 Hail: INFO: wrote matrix with 5000 rows and 5000 columns as 4 blocks of size 4096 to file:/tmp/hail.Y2Dh5hqGGSs3/u2UCDT9FQm.bm\n",
      "2020-04-23 17:22:49 Hail: INFO: wrote matrix with 5000 rows and 5000 columns as 4 blocks of size 4096 to file:/tmp/hail.Y2Dh5hqGGSs3/UDIUq1LwKN.bm\n",
      "2020-04-23 17:23:12 Hail: INFO: wrote matrix with 5000 rows and 5000 columns as 4 blocks of size 4096 to file:/tmp/hail.Y2Dh5hqGGSs3/Hbi0xowGvA.bm\n",
      "2020-04-23 17:23:14 Hail: INFO: wrote matrix with 5000 rows and 5000 columns as 4 blocks of size 4096 to file:/tmp/hail.Y2Dh5hqGGSs3/LbGdy36x5Z.bm\n",
      "2020-04-23 17:23:29 Hail: INFO: Ordering unsorted dataset with network shuffle\n",
      "2020-04-23 17:24:36 Hail: INFO: Coerced sorted dataset\n",
      "2020-04-23 17:25:15 Hail: INFO: wrote table with 12497500 rows in 4 partitions to /tmp/tmp6vqjtjpk/pc_relate_result\n"
     ]
    },
    {
     "name": "stdout",
     "output_type": "stream",
     "text": [
      "Deleting pc_relate results: /tmp/tmp6vqjtjpk/pc_relate_result\n",
      "Deleting hail tmp dir: /tmp/hail.Y2Dh5hqGGSs3\n"
     ]
    },
    {
     "name": "stderr",
     "output_type": "stream",
     "text": [
      "2020-04-23 17:25:15 Hail: INFO: balding_nichols_model: generating genotypes for 10 populations, 5000 samples, and 7000 variants...\n",
      "2020-04-23 17:25:15 Hail: INFO: Coerced sorted dataset\n",
      "2020-04-23 17:25:22 Hail: INFO: wrote matrix table with 7000 rows and 5000 columns in 8 partitions to /home/rav/data/tmp/mt_5000_7000_10.mt\n",
      "2020-04-23 17:25:23 Hail: INFO: hwe_normalized_pca: running PCA using 7000 variants.\n",
      "2020-04-23 17:25:25 Hail: INFO: pca: running PCA with 10 components...\n"
     ]
    },
    {
     "name": "stdout",
     "output_type": "stream",
     "text": [
      "PCA took s:5000, v:7000, p:10 : 15.72 seconds\n"
     ]
    },
    {
     "name": "stderr",
     "output_type": "stream",
     "text": [
      "2020-04-23 17:25:45 Hail: INFO: Wrote all 4 blocks of 7000 x 5000 matrix with block size 4096.\n",
      "2020-04-23 17:25:46 Hail: INFO: wrote matrix with 11 rows and 7000 columns as 2 blocks of size 4096 to file:/tmp/hail.Y2Dh5hqGGSs3/9lmmCIN016.bm\n",
      "2020-04-23 17:25:46 Hail: INFO: wrote matrix with 7000 rows and 5000 columns as 4 blocks of size 4096 to file:/tmp/hail.Y2Dh5hqGGSs3/TRZO7Z7K47.bm\n",
      "2020-04-23 17:25:47 Hail: INFO: wrote matrix with 7000 rows and 5000 columns as 4 blocks of size 4096 to file:/tmp/hail.Y2Dh5hqGGSs3/jce1FSbd40.bm\n",
      "2020-04-23 17:26:12 Hail: INFO: wrote matrix with 5000 rows and 5000 columns as 4 blocks of size 4096 to file:/tmp/hail.Y2Dh5hqGGSs3/wXbAmpwblt.bm\n",
      "2020-04-23 17:26:35 Hail: INFO: wrote matrix with 5000 rows and 5000 columns as 4 blocks of size 4096 to file:/tmp/hail.Y2Dh5hqGGSs3/MqqCLw1yFJ.bm\n",
      "2020-04-23 17:26:36 Hail: INFO: wrote matrix with 5000 rows and 5000 columns as 4 blocks of size 4096 to file:/tmp/hail.Y2Dh5hqGGSs3/lanlv8g935.bm\n",
      "2020-04-23 17:27:02 Hail: INFO: wrote matrix with 5000 rows and 5000 columns as 4 blocks of size 4096 to file:/tmp/hail.Y2Dh5hqGGSs3/AUeiG4PNaq.bm\n",
      "2020-04-23 17:27:26 Hail: INFO: wrote matrix with 5000 rows and 5000 columns as 4 blocks of size 4096 to file:/tmp/hail.Y2Dh5hqGGSs3/dHVGskJk3O.bm\n",
      "2020-04-23 17:27:27 Hail: INFO: wrote matrix with 5000 rows and 5000 columns as 4 blocks of size 4096 to file:/tmp/hail.Y2Dh5hqGGSs3/KfeqP40cVQ.bm\n",
      "2020-04-23 17:27:53 Hail: INFO: wrote matrix with 5000 rows and 5000 columns as 4 blocks of size 4096 to file:/tmp/hail.Y2Dh5hqGGSs3/WwfEvWQRqh.bm\n",
      "2020-04-23 17:28:19 Hail: INFO: wrote matrix with 5000 rows and 5000 columns as 4 blocks of size 4096 to file:/tmp/hail.Y2Dh5hqGGSs3/WfxIjDZWnl.bm\n",
      "2020-04-23 17:28:21 Hail: INFO: wrote matrix with 5000 rows and 5000 columns as 4 blocks of size 4096 to file:/tmp/hail.Y2Dh5hqGGSs3/qbrA4o1yYa.bm\n",
      "2020-04-23 17:28:37 Hail: INFO: Ordering unsorted dataset with network shuffle\n",
      "2020-04-23 17:29:44 Hail: INFO: Coerced sorted dataset\n",
      "2020-04-23 17:30:30 Hail: INFO: wrote table with 12497500 rows in 4 partitions to /tmp/tmp3cegr4fw/pc_relate_result\n"
     ]
    },
    {
     "name": "stdout",
     "output_type": "stream",
     "text": [
      "Deleting pc_relate results: /tmp/tmp3cegr4fw/pc_relate_result\n",
      "Deleting hail tmp dir: /tmp/hail.Y2Dh5hqGGSs3\n"
     ]
    },
    {
     "name": "stderr",
     "output_type": "stream",
     "text": [
      "2020-04-23 17:30:30 Hail: INFO: balding_nichols_model: generating genotypes for 10 populations, 5000 samples, and 8000 variants...\n",
      "2020-04-23 17:30:31 Hail: INFO: Coerced sorted dataset\n",
      "2020-04-23 17:30:39 Hail: INFO: wrote matrix table with 8000 rows and 5000 columns in 8 partitions to /home/rav/data/tmp/mt_5000_8000_10.mt\n",
      "2020-04-23 17:30:39 Hail: INFO: hwe_normalized_pca: running PCA using 8000 variants.\n",
      "2020-04-23 17:30:42 Hail: INFO: pca: running PCA with 10 components...\n"
     ]
    },
    {
     "name": "stdout",
     "output_type": "stream",
     "text": [
      "PCA took s:5000, v:8000, p:10 : 15.23 seconds\n"
     ]
    },
    {
     "name": "stderr",
     "output_type": "stream",
     "text": [
      "2020-04-23 17:31:01 Hail: INFO: Wrote all 4 blocks of 8000 x 5000 matrix with block size 4096.\n",
      "2020-04-23 17:31:02 Hail: INFO: wrote matrix with 11 rows and 8000 columns as 2 blocks of size 4096 to file:/tmp/hail.Y2Dh5hqGGSs3/9mMGSjhm75.bm\n",
      "2020-04-23 17:31:03 Hail: INFO: wrote matrix with 8000 rows and 5000 columns as 4 blocks of size 4096 to file:/tmp/hail.Y2Dh5hqGGSs3/sFbv4bhB7y.bm\n",
      "2020-04-23 17:31:04 Hail: INFO: wrote matrix with 8000 rows and 5000 columns as 4 blocks of size 4096 to file:/tmp/hail.Y2Dh5hqGGSs3/TCNiroAUKF.bm\n",
      "2020-04-23 17:31:31 Hail: INFO: wrote matrix with 5000 rows and 5000 columns as 4 blocks of size 4096 to file:/tmp/hail.Y2Dh5hqGGSs3/SSQZlSaYLK.bm\n",
      "2020-04-23 17:31:58 Hail: INFO: wrote matrix with 5000 rows and 5000 columns as 4 blocks of size 4096 to file:/tmp/hail.Y2Dh5hqGGSs3/aYXF2Kbyq0.bm\n",
      "2020-04-23 17:31:59 Hail: INFO: wrote matrix with 5000 rows and 5000 columns as 4 blocks of size 4096 to file:/tmp/hail.Y2Dh5hqGGSs3/vjOPrAty7i.bm\n",
      "2020-04-23 17:32:29 Hail: INFO: wrote matrix with 5000 rows and 5000 columns as 4 blocks of size 4096 to file:/tmp/hail.Y2Dh5hqGGSs3/hevV9J3Wd6.bm\n",
      "2020-04-23 17:32:55 Hail: INFO: wrote matrix with 5000 rows and 5000 columns as 4 blocks of size 4096 to file:/tmp/hail.Y2Dh5hqGGSs3/35S3Kk6jBT.bm\n",
      "2020-04-23 17:32:56 Hail: INFO: wrote matrix with 5000 rows and 5000 columns as 4 blocks of size 4096 to file:/tmp/hail.Y2Dh5hqGGSs3/msZBJtjTkc.bm\n",
      "2020-04-23 17:33:25 Hail: INFO: wrote matrix with 5000 rows and 5000 columns as 4 blocks of size 4096 to file:/tmp/hail.Y2Dh5hqGGSs3/xHBhwJuEjE.bm\n",
      "2020-04-23 17:34:13 Hail: INFO: Ordering unsorted dataset with network shuffle\n",
      "2020-04-23 17:35:20 Hail: INFO: Coerced sorted dataset\n",
      "2020-04-23 17:36:08 Hail: INFO: wrote table with 12497500 rows in 4 partitions to /tmp/tmpzfdxeokv/pc_relate_result\n"
     ]
    },
    {
     "name": "stdout",
     "output_type": "stream",
     "text": [
      "Deleting pc_relate results: /tmp/tmpzfdxeokv/pc_relate_result\n",
      "Deleting hail tmp dir: /tmp/hail.Y2Dh5hqGGSs3\n"
     ]
    },
    {
     "name": "stderr",
     "output_type": "stream",
     "text": [
      "2020-04-23 17:36:08 Hail: INFO: balding_nichols_model: generating genotypes for 10 populations, 5000 samples, and 9000 variants...\n",
      "2020-04-23 17:36:09 Hail: INFO: Coerced sorted dataset\n",
      "2020-04-23 17:36:17 Hail: INFO: wrote matrix table with 9000 rows and 5000 columns in 8 partitions to /home/rav/data/tmp/mt_5000_9000_10.mt\n",
      "2020-04-23 17:36:17 Hail: INFO: hwe_normalized_pca: running PCA using 9000 variants.\n",
      "2020-04-23 17:36:20 Hail: INFO: pca: running PCA with 10 components...\n"
     ]
    },
    {
     "name": "stdout",
     "output_type": "stream",
     "text": [
      "PCA took s:5000, v:9000, p:10 : 18.26 seconds\n"
     ]
    },
    {
     "name": "stderr",
     "output_type": "stream",
     "text": [
      "2020-04-23 17:36:43 Hail: INFO: Wrote all 6 blocks of 9000 x 5000 matrix with block size 4096.\n",
      "2020-04-23 17:36:45 Hail: INFO: wrote matrix with 11 rows and 9000 columns as 3 blocks of size 4096 to file:/tmp/hail.Y2Dh5hqGGSs3/8Pqp2iF9e0.bm\n",
      "2020-04-23 17:36:45 Hail: INFO: wrote matrix with 9000 rows and 5000 columns as 6 blocks of size 4096 to file:/tmp/hail.Y2Dh5hqGGSs3/iP3ilzMIcW.bm\n",
      "2020-04-23 17:36:46 Hail: INFO: wrote matrix with 9000 rows and 5000 columns as 6 blocks of size 4096 to file:/tmp/hail.Y2Dh5hqGGSs3/dDTfoIuPKQ.bm\n",
      "2020-04-23 17:37:17 Hail: INFO: wrote matrix with 5000 rows and 5000 columns as 4 blocks of size 4096 to file:/tmp/hail.Y2Dh5hqGGSs3/erG0PZxp52.bm\n",
      "2020-04-23 17:37:47 Hail: INFO: wrote matrix with 5000 rows and 5000 columns as 4 blocks of size 4096 to file:/tmp/hail.Y2Dh5hqGGSs3/4bzIN69vQE.bm\n",
      "2020-04-23 17:37:48 Hail: INFO: wrote matrix with 5000 rows and 5000 columns as 4 blocks of size 4096 to file:/tmp/hail.Y2Dh5hqGGSs3/Rc4jAeTZk3.bm\n",
      "2020-04-23 17:38:21 Hail: INFO: wrote matrix with 5000 rows and 5000 columns as 4 blocks of size 4096 to file:/tmp/hail.Y2Dh5hqGGSs3/jDNO1YBvuh.bm\n",
      "2020-04-23 17:38:51 Hail: INFO: wrote matrix with 5000 rows and 5000 columns as 4 blocks of size 4096 to file:/tmp/hail.Y2Dh5hqGGSs3/L5coTt67aF.bm\n",
      "2020-04-23 17:38:51 Hail: INFO: wrote matrix with 5000 rows and 5000 columns as 4 blocks of size 4096 to file:/tmp/hail.Y2Dh5hqGGSs3/mI1PaflO66.bm\n",
      "2020-04-23 17:39:25 Hail: INFO: wrote matrix with 5000 rows and 5000 columns as 4 blocks of size 4096 to file:/tmp/hail.Y2Dh5hqGGSs3/JK17e78EpB.bm\n",
      "2020-04-23 17:39:57 Hail: INFO: wrote matrix with 5000 rows and 5000 columns as 4 blocks of size 4096 to file:/tmp/hail.Y2Dh5hqGGSs3/VjOg5SvHEw.bm\n",
      "2020-04-23 17:39:59 Hail: INFO: wrote matrix with 5000 rows and 5000 columns as 4 blocks of size 4096 to file:/tmp/hail.Y2Dh5hqGGSs3/8MTJpn9KvW.bm\n",
      "2020-04-23 17:40:15 Hail: INFO: Ordering unsorted dataset with network shuffle\n",
      "2020-04-23 17:41:23 Hail: INFO: Coerced sorted dataset\n",
      "2020-04-23 17:42:01 Hail: INFO: wrote table with 12497500 rows in 4 partitions to /tmp/tmpiud64ati/pc_relate_result\n"
     ]
    },
    {
     "name": "stdout",
     "output_type": "stream",
     "text": [
      "Deleting pc_relate results: /tmp/tmpiud64ati/pc_relate_result\n",
      "Deleting hail tmp dir: /tmp/hail.Y2Dh5hqGGSs3\n"
     ]
    },
    {
     "name": "stderr",
     "output_type": "stream",
     "text": [
      "2020-04-23 17:42:02 Hail: INFO: hwe_normalized_pca: running PCA using 10000 variants.\n",
      "2020-04-23 17:42:05 Hail: INFO: pca: running PCA with 10 components...\n"
     ]
    },
    {
     "name": "stdout",
     "output_type": "stream",
     "text": [
      "PCA took s:5000, v:10000, p:10 : 18.24 seconds\n"
     ]
    },
    {
     "name": "stderr",
     "output_type": "stream",
     "text": [
      "2020-04-23 17:42:28 Hail: INFO: Wrote all 6 blocks of 10000 x 5000 matrix with block size 4096.\n",
      "2020-04-23 17:42:29 Hail: INFO: wrote matrix with 11 rows and 10000 columns as 3 blocks of size 4096 to file:/tmp/hail.Y2Dh5hqGGSs3/H7vr6UA12s.bm\n",
      "2020-04-23 17:42:29 Hail: INFO: wrote matrix with 10000 rows and 5000 columns as 6 blocks of size 4096 to file:/tmp/hail.Y2Dh5hqGGSs3/sVvRrBt4M4.bm\n",
      "2020-04-23 17:42:31 Hail: INFO: wrote matrix with 10000 rows and 5000 columns as 6 blocks of size 4096 to file:/tmp/hail.Y2Dh5hqGGSs3/4ph5WEDbfL.bm\n",
      "2020-04-23 17:43:05 Hail: INFO: wrote matrix with 5000 rows and 5000 columns as 4 blocks of size 4096 to file:/tmp/hail.Y2Dh5hqGGSs3/d59NhFSX97.bm\n",
      "2020-04-23 17:43:38 Hail: INFO: wrote matrix with 5000 rows and 5000 columns as 4 blocks of size 4096 to file:/tmp/hail.Y2Dh5hqGGSs3/VgbwLNqBhY.bm\n",
      "2020-04-23 17:43:39 Hail: INFO: wrote matrix with 5000 rows and 5000 columns as 4 blocks of size 4096 to file:/tmp/hail.Y2Dh5hqGGSs3/eRdyjQ6ZNV.bm\n",
      "2020-04-23 17:44:16 Hail: INFO: wrote matrix with 5000 rows and 5000 columns as 4 blocks of size 4096 to file:/tmp/hail.Y2Dh5hqGGSs3/AbIHQtbdGn.bm\n",
      "2020-04-23 17:44:49 Hail: INFO: wrote matrix with 5000 rows and 5000 columns as 4 blocks of size 4096 to file:/tmp/hail.Y2Dh5hqGGSs3/d3zT3WZIRA.bm\n",
      "2020-04-23 17:44:50 Hail: INFO: wrote matrix with 5000 rows and 5000 columns as 4 blocks of size 4096 to file:/tmp/hail.Y2Dh5hqGGSs3/SPriQBpgS2.bm\n",
      "2020-04-23 17:45:28 Hail: INFO: wrote matrix with 5000 rows and 5000 columns as 4 blocks of size 4096 to file:/tmp/hail.Y2Dh5hqGGSs3/Gy5JIfSofV.bm\n",
      "2020-04-23 17:46:04 Hail: INFO: wrote matrix with 5000 rows and 5000 columns as 4 blocks of size 4096 to file:/tmp/hail.Y2Dh5hqGGSs3/j4jGjB4rpV.bm\n",
      "2020-04-23 17:46:06 Hail: INFO: wrote matrix with 5000 rows and 5000 columns as 4 blocks of size 4096 to file:/tmp/hail.Y2Dh5hqGGSs3/XOHm5zA9h7.bm\n",
      "2020-04-23 17:46:22 Hail: INFO: Ordering unsorted dataset with network shuffle\n",
      "2020-04-23 17:47:28 Hail: INFO: Coerced sorted dataset\n",
      "2020-04-23 17:48:06 Hail: INFO: wrote table with 12497500 rows in 4 partitions to /tmp/tmpgxldewfp/pc_relate_result\n"
     ]
    },
    {
     "name": "stdout",
     "output_type": "stream",
     "text": [
      "Deleting pc_relate results: /tmp/tmpgxldewfp/pc_relate_result\n",
      "Deleting hail tmp dir: /tmp/hail.Y2Dh5hqGGSs3\n"
     ]
    },
    {
     "name": "stderr",
     "output_type": "stream",
     "text": [
      "2020-04-23 17:48:06 Hail: INFO: balding_nichols_model: generating genotypes for 10 populations, 6000 samples, and 1000 variants...\n",
      "2020-04-23 17:48:07 Hail: INFO: Coerced sorted dataset\n",
      "2020-04-23 17:48:10 Hail: INFO: wrote matrix table with 1000 rows and 6000 columns in 8 partitions to /home/rav/data/tmp/mt_6000_1000_10.mt\n",
      "2020-04-23 17:48:10 Hail: INFO: hwe_normalized_pca: running PCA using 1000 variants.\n",
      "2020-04-23 17:48:12 Hail: INFO: pca: running PCA with 10 components...\n"
     ]
    },
    {
     "name": "stdout",
     "output_type": "stream",
     "text": [
      "PCA took s:6000, v:1000, p:10 : 8.46 seconds\n"
     ]
    },
    {
     "name": "stderr",
     "output_type": "stream",
     "text": [
      "2020-04-23 17:48:23 Hail: INFO: Wrote all 2 blocks of 1000 x 6000 matrix with block size 4096.\n",
      "2020-04-23 17:48:24 Hail: INFO: wrote matrix with 11 rows and 1000 columns as 1 block of size 4096 to file:/tmp/hail.Y2Dh5hqGGSs3/boiIRFWF6h.bm\n",
      "2020-04-23 17:48:24 Hail: INFO: wrote matrix with 1000 rows and 6000 columns as 2 blocks of size 4096 to file:/tmp/hail.Y2Dh5hqGGSs3/ibauS3PgAv.bm\n",
      "2020-04-23 17:48:24 Hail: INFO: wrote matrix with 1000 rows and 6000 columns as 2 blocks of size 4096 to file:/tmp/hail.Y2Dh5hqGGSs3/KmCp5om1qe.bm\n",
      "2020-04-23 17:48:28 Hail: INFO: wrote matrix with 6000 rows and 6000 columns as 4 blocks of size 4096 to file:/tmp/hail.Y2Dh5hqGGSs3/o7Cz1aR1JT.bm\n",
      "2020-04-23 17:48:32 Hail: INFO: wrote matrix with 6000 rows and 6000 columns as 4 blocks of size 4096 to file:/tmp/hail.Y2Dh5hqGGSs3/uskRB3hWjv.bm\n",
      "2020-04-23 17:48:32 Hail: INFO: wrote matrix with 6000 rows and 6000 columns as 4 blocks of size 4096 to file:/tmp/hail.Y2Dh5hqGGSs3/yeN0SU6szV.bm\n",
      "2020-04-23 17:48:37 Hail: INFO: wrote matrix with 6000 rows and 6000 columns as 4 blocks of size 4096 to file:/tmp/hail.Y2Dh5hqGGSs3/zMsZJzca0E.bm\n",
      "2020-04-23 17:48:40 Hail: INFO: wrote matrix with 6000 rows and 6000 columns as 4 blocks of size 4096 to file:/tmp/hail.Y2Dh5hqGGSs3/xPctYGN2p1.bm\n",
      "2020-04-23 17:48:41 Hail: INFO: wrote matrix with 6000 rows and 6000 columns as 4 blocks of size 4096 to file:/tmp/hail.Y2Dh5hqGGSs3/EoMp8Rxh0g.bm\n",
      "2020-04-23 17:48:45 Hail: INFO: wrote matrix with 6000 rows and 6000 columns as 4 blocks of size 4096 to file:/tmp/hail.Y2Dh5hqGGSs3/WmWDHEkwVx.bm\n",
      "2020-04-23 17:48:49 Hail: INFO: wrote matrix with 6000 rows and 6000 columns as 4 blocks of size 4096 to file:/tmp/hail.Y2Dh5hqGGSs3/HvjLIdM4C1.bm\n",
      "2020-04-23 17:48:51 Hail: INFO: wrote matrix with 6000 rows and 6000 columns as 4 blocks of size 4096 to file:/tmp/hail.Y2Dh5hqGGSs3/rAIyE88GpU.bm\n",
      "2020-04-23 17:49:07 Hail: INFO: Ordering unsorted dataset with network shuffle\n",
      "2020-04-23 17:50:31 Hail: INFO: Coerced sorted dataset\n",
      "2020-04-23 17:51:30 Hail: INFO: wrote table with 17997000 rows in 4 partitions to /tmp/tmpw6nrl9og/pc_relate_result\n"
     ]
    },
    {
     "name": "stdout",
     "output_type": "stream",
     "text": [
      "Deleting pc_relate results: /tmp/tmpw6nrl9og/pc_relate_result\n",
      "Deleting hail tmp dir: /tmp/hail.Y2Dh5hqGGSs3\n"
     ]
    },
    {
     "name": "stderr",
     "output_type": "stream",
     "text": [
      "2020-04-23 17:51:31 Hail: INFO: balding_nichols_model: generating genotypes for 10 populations, 6000 samples, and 2000 variants...\n",
      "2020-04-23 17:51:31 Hail: INFO: Coerced sorted dataset\n",
      "2020-04-23 17:51:35 Hail: INFO: wrote matrix table with 2000 rows and 6000 columns in 8 partitions to /home/rav/data/tmp/mt_6000_2000_10.mt\n",
      "2020-04-23 17:51:35 Hail: INFO: hwe_normalized_pca: running PCA using 2000 variants.\n",
      "2020-04-23 17:51:37 Hail: INFO: pca: running PCA with 10 components...\n"
     ]
    },
    {
     "name": "stdout",
     "output_type": "stream",
     "text": [
      "PCA took s:6000, v:2000, p:10 : 10.65 seconds\n"
     ]
    },
    {
     "name": "stderr",
     "output_type": "stream",
     "text": [
      "2020-04-23 17:51:51 Hail: INFO: Wrote all 2 blocks of 2000 x 6000 matrix with block size 4096.\n",
      "2020-04-23 17:51:52 Hail: INFO: wrote matrix with 11 rows and 2000 columns as 1 block of size 4096 to file:/tmp/hail.Y2Dh5hqGGSs3/mAuYwBdlI0.bm\n",
      "2020-04-23 17:51:53 Hail: INFO: wrote matrix with 2000 rows and 6000 columns as 2 blocks of size 4096 to file:/tmp/hail.Y2Dh5hqGGSs3/mxuUxwya0s.bm\n",
      "2020-04-23 17:51:53 Hail: INFO: wrote matrix with 2000 rows and 6000 columns as 2 blocks of size 4096 to file:/tmp/hail.Y2Dh5hqGGSs3/D4b8Baa1kE.bm\n",
      "2020-04-23 17:52:00 Hail: INFO: wrote matrix with 6000 rows and 6000 columns as 4 blocks of size 4096 to file:/tmp/hail.Y2Dh5hqGGSs3/hvFxoAJW4J.bm\n",
      "2020-04-23 17:52:08 Hail: INFO: wrote matrix with 6000 rows and 6000 columns as 4 blocks of size 4096 to file:/tmp/hail.Y2Dh5hqGGSs3/sTgFW1kWUe.bm\n",
      "2020-04-23 17:52:08 Hail: INFO: wrote matrix with 6000 rows and 6000 columns as 4 blocks of size 4096 to file:/tmp/hail.Y2Dh5hqGGSs3/2hrP7hDpZH.bm\n",
      "2020-04-23 17:52:18 Hail: INFO: wrote matrix with 6000 rows and 6000 columns as 4 blocks of size 4096 to file:/tmp/hail.Y2Dh5hqGGSs3/jzaMINLUae.bm\n",
      "2020-04-23 17:52:25 Hail: INFO: wrote matrix with 6000 rows and 6000 columns as 4 blocks of size 4096 to file:/tmp/hail.Y2Dh5hqGGSs3/MjICrxYzqQ.bm\n",
      "2020-04-23 17:52:25 Hail: INFO: wrote matrix with 6000 rows and 6000 columns as 4 blocks of size 4096 to file:/tmp/hail.Y2Dh5hqGGSs3/oPOapF2qgl.bm\n",
      "2020-04-23 17:52:33 Hail: INFO: wrote matrix with 6000 rows and 6000 columns as 4 blocks of size 4096 to file:/tmp/hail.Y2Dh5hqGGSs3/xhZCwQ5xhA.bm\n",
      "2020-04-23 17:52:41 Hail: INFO: wrote matrix with 6000 rows and 6000 columns as 4 blocks of size 4096 to file:/tmp/hail.Y2Dh5hqGGSs3/e7MFoQlemw.bm\n",
      "2020-04-23 17:52:43 Hail: INFO: wrote matrix with 6000 rows and 6000 columns as 4 blocks of size 4096 to file:/tmp/hail.Y2Dh5hqGGSs3/HaRmdQHYmd.bm\n",
      "2020-04-23 17:53:01 Hail: INFO: Ordering unsorted dataset with network shuffle\n",
      "2020-04-23 17:54:39 Hail: INFO: Coerced sorted dataset\n",
      "2020-04-23 17:55:37 Hail: INFO: wrote table with 17997000 rows in 4 partitions to /tmp/tmp50e3nxgm/pc_relate_result\n"
     ]
    },
    {
     "name": "stdout",
     "output_type": "stream",
     "text": [
      "Deleting pc_relate results: /tmp/tmp50e3nxgm/pc_relate_result\n",
      "Deleting hail tmp dir: /tmp/hail.Y2Dh5hqGGSs3\n"
     ]
    },
    {
     "name": "stderr",
     "output_type": "stream",
     "text": [
      "2020-04-23 17:55:38 Hail: INFO: balding_nichols_model: generating genotypes for 10 populations, 6000 samples, and 3000 variants...\n",
      "2020-04-23 17:55:38 Hail: INFO: Coerced sorted dataset\n",
      "2020-04-23 17:55:43 Hail: INFO: wrote matrix table with 3000 rows and 6000 columns in 8 partitions to /home/rav/data/tmp/mt_6000_3000_10.mt\n",
      "2020-04-23 17:55:43 Hail: INFO: hwe_normalized_pca: running PCA using 3000 variants.\n",
      "2020-04-23 17:55:45 Hail: INFO: pca: running PCA with 10 components...\n"
     ]
    },
    {
     "name": "stdout",
     "output_type": "stream",
     "text": [
      "PCA took s:6000, v:3000, p:10 : 12.64 seconds\n"
     ]
    },
    {
     "name": "stderr",
     "output_type": "stream",
     "text": [
      "2020-04-23 17:56:02 Hail: INFO: Wrote all 2 blocks of 3000 x 6000 matrix with block size 4096.\n",
      "2020-04-23 17:56:03 Hail: INFO: wrote matrix with 11 rows and 3000 columns as 1 block of size 4096 to file:/tmp/hail.Y2Dh5hqGGSs3/gC5fAsIjDL.bm\n",
      "2020-04-23 17:56:03 Hail: INFO: wrote matrix with 3000 rows and 6000 columns as 2 blocks of size 4096 to file:/tmp/hail.Y2Dh5hqGGSs3/lmnsCtquj8.bm\n",
      "2020-04-23 17:56:04 Hail: INFO: wrote matrix with 3000 rows and 6000 columns as 2 blocks of size 4096 to file:/tmp/hail.Y2Dh5hqGGSs3/VtfcNOuIXG.bm\n",
      "2020-04-23 17:56:17 Hail: INFO: wrote matrix with 6000 rows and 6000 columns as 4 blocks of size 4096 to file:/tmp/hail.Y2Dh5hqGGSs3/QRWIBCgVS4.bm\n",
      "2020-04-23 17:56:27 Hail: INFO: wrote matrix with 6000 rows and 6000 columns as 4 blocks of size 4096 to file:/tmp/hail.Y2Dh5hqGGSs3/CijOtNxFR4.bm\n",
      "2020-04-23 17:56:28 Hail: INFO: wrote matrix with 6000 rows and 6000 columns as 4 blocks of size 4096 to file:/tmp/hail.Y2Dh5hqGGSs3/CvBN9Gll65.bm\n",
      "2020-04-23 17:56:40 Hail: INFO: wrote matrix with 6000 rows and 6000 columns as 4 blocks of size 4096 to file:/tmp/hail.Y2Dh5hqGGSs3/ZaUtRKJyWX.bm\n",
      "2020-04-23 17:56:50 Hail: INFO: wrote matrix with 6000 rows and 6000 columns as 4 blocks of size 4096 to file:/tmp/hail.Y2Dh5hqGGSs3/MQeEVMrBRL.bm\n",
      "2020-04-23 17:56:51 Hail: INFO: wrote matrix with 6000 rows and 6000 columns as 4 blocks of size 4096 to file:/tmp/hail.Y2Dh5hqGGSs3/JdmH1c8sYY.bm\n",
      "2020-04-23 17:57:03 Hail: INFO: wrote matrix with 6000 rows and 6000 columns as 4 blocks of size 4096 to file:/tmp/hail.Y2Dh5hqGGSs3/mJuac9ov1c.bm\n",
      "2020-04-23 17:57:14 Hail: INFO: wrote matrix with 6000 rows and 6000 columns as 4 blocks of size 4096 to file:/tmp/hail.Y2Dh5hqGGSs3/Ewim5uQkgm.bm\n",
      "2020-04-23 17:57:15 Hail: INFO: wrote matrix with 6000 rows and 6000 columns as 4 blocks of size 4096 to file:/tmp/hail.Y2Dh5hqGGSs3/Pob6BvyUEL.bm\n",
      "2020-04-23 17:57:34 Hail: INFO: Ordering unsorted dataset with network shuffle\n",
      "2020-04-23 17:58:50 Hail: INFO: Coerced sorted dataset\n",
      "2020-04-23 17:59:49 Hail: INFO: wrote table with 17997000 rows in 4 partitions to /tmp/tmptmpai0er/pc_relate_result\n"
     ]
    },
    {
     "name": "stdout",
     "output_type": "stream",
     "text": [
      "Deleting pc_relate results: /tmp/tmptmpai0er/pc_relate_result\n",
      "Deleting hail tmp dir: /tmp/hail.Y2Dh5hqGGSs3\n"
     ]
    },
    {
     "name": "stderr",
     "output_type": "stream",
     "text": [
      "2020-04-23 17:59:49 Hail: INFO: balding_nichols_model: generating genotypes for 10 populations, 6000 samples, and 4000 variants...\n",
      "2020-04-23 17:59:49 Hail: INFO: Coerced sorted dataset\n",
      "2020-04-23 17:59:55 Hail: INFO: wrote matrix table with 4000 rows and 6000 columns in 8 partitions to /home/rav/data/tmp/mt_6000_4000_10.mt\n",
      "2020-04-23 17:59:55 Hail: INFO: hwe_normalized_pca: running PCA using 4000 variants.\n",
      "2020-04-23 17:59:58 Hail: INFO: pca: running PCA with 10 components...\n"
     ]
    },
    {
     "name": "stdout",
     "output_type": "stream",
     "text": [
      "PCA took s:6000, v:4000, p:10 : 12.89 seconds\n"
     ]
    },
    {
     "name": "stderr",
     "output_type": "stream",
     "text": [
      "2020-04-23 18:00:15 Hail: INFO: Wrote all 2 blocks of 4000 x 6000 matrix with block size 4096.\n",
      "2020-04-23 18:00:17 Hail: INFO: wrote matrix with 11 rows and 4000 columns as 1 block of size 4096 to file:/tmp/hail.Y2Dh5hqGGSs3/3kjiUX62dS.bm\n",
      "2020-04-23 18:00:17 Hail: INFO: wrote matrix with 4000 rows and 6000 columns as 2 blocks of size 4096 to file:/tmp/hail.Y2Dh5hqGGSs3/yltBxxk9IL.bm\n",
      "2020-04-23 18:00:18 Hail: INFO: wrote matrix with 4000 rows and 6000 columns as 2 blocks of size 4096 to file:/tmp/hail.Y2Dh5hqGGSs3/SfhC3OqbPE.bm\n",
      "2020-04-23 18:00:33 Hail: INFO: wrote matrix with 6000 rows and 6000 columns as 4 blocks of size 4096 to file:/tmp/hail.Y2Dh5hqGGSs3/KaI6RT4L05.bm\n",
      "2020-04-23 18:00:47 Hail: INFO: wrote matrix with 6000 rows and 6000 columns as 4 blocks of size 4096 to file:/tmp/hail.Y2Dh5hqGGSs3/vYrIKCTHKF.bm\n",
      "2020-04-23 18:00:47 Hail: INFO: wrote matrix with 6000 rows and 6000 columns as 4 blocks of size 4096 to file:/tmp/hail.Y2Dh5hqGGSs3/3wfpk4GEso.bm\n",
      "2020-04-23 18:01:04 Hail: INFO: wrote matrix with 6000 rows and 6000 columns as 4 blocks of size 4096 to file:/tmp/hail.Y2Dh5hqGGSs3/WbELzMNvxV.bm\n",
      "2020-04-23 18:01:18 Hail: INFO: wrote matrix with 6000 rows and 6000 columns as 4 blocks of size 4096 to file:/tmp/hail.Y2Dh5hqGGSs3/voH2sy4c2h.bm\n",
      "2020-04-23 18:01:18 Hail: INFO: wrote matrix with 6000 rows and 6000 columns as 4 blocks of size 4096 to file:/tmp/hail.Y2Dh5hqGGSs3/id5hTOE7um.bm\n",
      "2020-04-23 18:01:34 Hail: INFO: wrote matrix with 6000 rows and 6000 columns as 4 blocks of size 4096 to file:/tmp/hail.Y2Dh5hqGGSs3/EJitQgJWpL.bm\n",
      "2020-04-23 18:01:49 Hail: INFO: wrote matrix with 6000 rows and 6000 columns as 4 blocks of size 4096 to file:/tmp/hail.Y2Dh5hqGGSs3/vROxqZl7xY.bm\n",
      "2020-04-23 18:01:50 Hail: INFO: wrote matrix with 6000 rows and 6000 columns as 4 blocks of size 4096 to file:/tmp/hail.Y2Dh5hqGGSs3/5dozf0tYKI.bm\n",
      "2020-04-23 18:02:06 Hail: INFO: Ordering unsorted dataset with network shuffle\n",
      "2020-04-23 18:03:33 Hail: INFO: Coerced sorted dataset\n",
      "2020-04-23 18:04:33 Hail: INFO: wrote table with 17997000 rows in 4 partitions to /tmp/tmpw5ob4uw1/pc_relate_result\n"
     ]
    },
    {
     "name": "stdout",
     "output_type": "stream",
     "text": [
      "Deleting pc_relate results: /tmp/tmpw5ob4uw1/pc_relate_result\n",
      "Deleting hail tmp dir: /tmp/hail.Y2Dh5hqGGSs3\n"
     ]
    },
    {
     "name": "stderr",
     "output_type": "stream",
     "text": [
      "2020-04-23 18:04:33 Hail: INFO: balding_nichols_model: generating genotypes for 10 populations, 6000 samples, and 5000 variants...\n",
      "2020-04-23 18:04:34 Hail: INFO: Coerced sorted dataset\n",
      "2020-04-23 18:04:40 Hail: INFO: wrote matrix table with 5000 rows and 6000 columns in 8 partitions to /home/rav/data/tmp/mt_6000_5000_10.mt\n",
      "2020-04-23 18:04:40 Hail: INFO: hwe_normalized_pca: running PCA using 5000 variants.\n",
      "2020-04-23 18:04:43 Hail: INFO: pca: running PCA with 10 components...\n"
     ]
    },
    {
     "name": "stdout",
     "output_type": "stream",
     "text": [
      "PCA took s:6000, v:5000, p:10 : 15.37 seconds\n"
     ]
    },
    {
     "name": "stderr",
     "output_type": "stream",
     "text": [
      "2020-04-23 18:05:03 Hail: INFO: Wrote all 4 blocks of 5000 x 6000 matrix with block size 4096.\n",
      "2020-04-23 18:05:04 Hail: INFO: wrote matrix with 11 rows and 5000 columns as 2 blocks of size 4096 to file:/tmp/hail.Y2Dh5hqGGSs3/LSd3BLPnJv.bm\n",
      "2020-04-23 18:05:05 Hail: INFO: wrote matrix with 5000 rows and 6000 columns as 4 blocks of size 4096 to file:/tmp/hail.Y2Dh5hqGGSs3/7XEoZscp1M.bm\n",
      "2020-04-23 18:05:06 Hail: INFO: wrote matrix with 5000 rows and 6000 columns as 4 blocks of size 4096 to file:/tmp/hail.Y2Dh5hqGGSs3/pZG8obYzC1.bm\n",
      "2020-04-23 18:05:23 Hail: INFO: wrote matrix with 6000 rows and 6000 columns as 4 blocks of size 4096 to file:/tmp/hail.Y2Dh5hqGGSs3/Kdw209uDrW.bm\n",
      "2020-04-23 18:05:40 Hail: INFO: wrote matrix with 6000 rows and 6000 columns as 4 blocks of size 4096 to file:/tmp/hail.Y2Dh5hqGGSs3/9bauANUyAC.bm\n",
      "2020-04-23 18:05:41 Hail: INFO: wrote matrix with 6000 rows and 6000 columns as 4 blocks of size 4096 to file:/tmp/hail.Y2Dh5hqGGSs3/6yzV4GuMR6.bm\n",
      "2020-04-23 18:06:02 Hail: INFO: wrote matrix with 6000 rows and 6000 columns as 4 blocks of size 4096 to file:/tmp/hail.Y2Dh5hqGGSs3/pUBqwTeRTn.bm\n",
      "2020-04-23 18:06:18 Hail: INFO: wrote matrix with 6000 rows and 6000 columns as 4 blocks of size 4096 to file:/tmp/hail.Y2Dh5hqGGSs3/XZXVQo50sB.bm\n",
      "2020-04-23 18:06:19 Hail: INFO: wrote matrix with 6000 rows and 6000 columns as 4 blocks of size 4096 to file:/tmp/hail.Y2Dh5hqGGSs3/ICg8f5mu2a.bm\n",
      "2020-04-23 18:06:38 Hail: INFO: wrote matrix with 6000 rows and 6000 columns as 4 blocks of size 4096 to file:/tmp/hail.Y2Dh5hqGGSs3/JBAwMii7Iy.bm\n",
      "2020-04-23 18:06:56 Hail: INFO: wrote matrix with 6000 rows and 6000 columns as 4 blocks of size 4096 to file:/tmp/hail.Y2Dh5hqGGSs3/ViqRvfh0uS.bm\n",
      "2020-04-23 18:06:58 Hail: INFO: wrote matrix with 6000 rows and 6000 columns as 4 blocks of size 4096 to file:/tmp/hail.Y2Dh5hqGGSs3/ubqgEwRIri.bm\n",
      "2020-04-23 18:07:15 Hail: INFO: Ordering unsorted dataset with network shuffle\n",
      "2020-04-23 18:08:44 Hail: INFO: Coerced sorted dataset\n",
      "2020-04-23 18:09:37 Hail: INFO: wrote table with 17997000 rows in 4 partitions to /tmp/tmp464njf6k/pc_relate_result\n"
     ]
    },
    {
     "name": "stdout",
     "output_type": "stream",
     "text": [
      "Deleting pc_relate results: /tmp/tmp464njf6k/pc_relate_result\n",
      "Deleting hail tmp dir: /tmp/hail.Y2Dh5hqGGSs3\n"
     ]
    },
    {
     "name": "stderr",
     "output_type": "stream",
     "text": [
      "2020-04-23 18:09:38 Hail: INFO: balding_nichols_model: generating genotypes for 10 populations, 6000 samples, and 6000 variants...\n",
      "2020-04-23 18:09:38 Hail: INFO: Coerced sorted dataset\n",
      "2020-04-23 18:09:46 Hail: INFO: wrote matrix table with 6000 rows and 6000 columns in 8 partitions to /home/rav/data/tmp/mt_6000_6000_10.mt\n",
      "2020-04-23 18:09:46 Hail: INFO: hwe_normalized_pca: running PCA using 6000 variants.\n",
      "2020-04-23 18:09:49 Hail: INFO: pca: running PCA with 10 components...\n"
     ]
    },
    {
     "name": "stdout",
     "output_type": "stream",
     "text": [
      "PCA took s:6000, v:6000, p:10 : 15.06 seconds\n"
     ]
    },
    {
     "name": "stderr",
     "output_type": "stream",
     "text": [
      "2020-04-23 18:10:09 Hail: INFO: Wrote all 4 blocks of 6000 x 6000 matrix with block size 4096.\n",
      "2020-04-23 18:10:10 Hail: INFO: wrote matrix with 11 rows and 6000 columns as 2 blocks of size 4096 to file:/tmp/hail.Y2Dh5hqGGSs3/HyjNoUxblg.bm\n",
      "2020-04-23 18:10:11 Hail: INFO: wrote matrix with 6000 rows and 6000 columns as 4 blocks of size 4096 to file:/tmp/hail.Y2Dh5hqGGSs3/egzQqUicvg.bm\n",
      "2020-04-23 18:10:11 Hail: INFO: wrote matrix with 6000 rows and 6000 columns as 4 blocks of size 4096 to file:/tmp/hail.Y2Dh5hqGGSs3/wzU5K2mgLl.bm\n",
      "2020-04-23 18:10:33 Hail: INFO: wrote matrix with 6000 rows and 6000 columns as 4 blocks of size 4096 to file:/tmp/hail.Y2Dh5hqGGSs3/2Xv0Efo9mz.bm\n",
      "2020-04-23 18:10:53 Hail: INFO: wrote matrix with 6000 rows and 6000 columns as 4 blocks of size 4096 to file:/tmp/hail.Y2Dh5hqGGSs3/WTjrRZzauh.bm\n",
      "2020-04-23 18:10:54 Hail: INFO: wrote matrix with 6000 rows and 6000 columns as 4 blocks of size 4096 to file:/tmp/hail.Y2Dh5hqGGSs3/Tm2nRZ69WW.bm\n",
      "2020-04-23 18:11:19 Hail: INFO: wrote matrix with 6000 rows and 6000 columns as 4 blocks of size 4096 to file:/tmp/hail.Y2Dh5hqGGSs3/SBKU8pbbGk.bm\n",
      "2020-04-23 18:11:40 Hail: INFO: wrote matrix with 6000 rows and 6000 columns as 4 blocks of size 4096 to file:/tmp/hail.Y2Dh5hqGGSs3/3a4QVDGQHa.bm\n",
      "2020-04-23 18:11:40 Hail: INFO: wrote matrix with 6000 rows and 6000 columns as 4 blocks of size 4096 to file:/tmp/hail.Y2Dh5hqGGSs3/GtZzIkJUSi.bm\n",
      "2020-04-23 18:12:06 Hail: INFO: wrote matrix with 6000 rows and 6000 columns as 4 blocks of size 4096 to file:/tmp/hail.Y2Dh5hqGGSs3/jaVnS3aKoZ.bm\n",
      "2020-04-23 18:12:29 Hail: INFO: wrote matrix with 6000 rows and 6000 columns as 4 blocks of size 4096 to file:/tmp/hail.Y2Dh5hqGGSs3/RzMrx1Vds3.bm\n",
      "2020-04-23 18:12:30 Hail: INFO: wrote matrix with 6000 rows and 6000 columns as 4 blocks of size 4096 to file:/tmp/hail.Y2Dh5hqGGSs3/N2szvVfEuy.bm\n",
      "2020-04-23 18:12:47 Hail: INFO: Ordering unsorted dataset with network shuffle\n"
     ]
    }
   ],
   "source": [
    "for s in range(1000, 10001, 1000):\n",
    "    for v in range(1000, 10001, 1000):\n",
    "        do_experiment(\"simple_pop_10_1000_to_10000_cross_cpu_8_ram_31\", samples=s, variants=v, populations=10)"
   ]
  },
  {
   "cell_type": "code",
   "execution_count": 7,
   "metadata": {
    "scrolled": true
   },
   "outputs": [
    {
     "name": "stderr",
     "output_type": "stream",
     "text": [
      "2020-04-23 18:28:16 Hail: INFO: hwe_normalized_pca: running PCA using 5000 variants.\n",
      "2020-04-23 18:28:17 Hail: INFO: pca: running PCA with 10 components...\n"
     ]
    },
    {
     "name": "stdout",
     "output_type": "stream",
     "text": [
      "PCA took s:1000, v:5000, p:10 : 10.59 seconds\n"
     ]
    },
    {
     "name": "stderr",
     "output_type": "stream",
     "text": [
      "2020-04-23 18:28:28 Hail: INFO: Wrote all 2 blocks of 5000 x 1000 matrix with block size 4096.\n",
      "2020-04-23 18:28:28 Hail: INFO: wrote matrix with 11 rows and 5000 columns as 2 blocks of size 4096 to file:/tmp/hail.1R6u1BF3Na8F/Lqs9oBTS6K.bm\n",
      "2020-04-23 18:28:28 Hail: INFO: wrote matrix with 5000 rows and 1000 columns as 2 blocks of size 4096 to file:/tmp/hail.1R6u1BF3Na8F/fWzD3kRfZ9.bm\n",
      "2020-04-23 18:28:29 Hail: INFO: wrote matrix with 5000 rows and 1000 columns as 2 blocks of size 4096 to file:/tmp/hail.1R6u1BF3Na8F/Mf3ETwDNJy.bm\n",
      "2020-04-23 18:28:30 Hail: INFO: wrote matrix with 1000 rows and 1000 columns as 1 block of size 4096 to file:/tmp/hail.1R6u1BF3Na8F/VTdteCAnJH.bm\n",
      "2020-04-23 18:28:31 Hail: INFO: wrote matrix with 1000 rows and 1000 columns as 1 block of size 4096 to file:/tmp/hail.1R6u1BF3Na8F/3adlFOsrRc.bm\n",
      "2020-04-23 18:28:31 Hail: INFO: wrote matrix with 1000 rows and 1000 columns as 1 block of size 4096 to file:/tmp/hail.1R6u1BF3Na8F/AhPd8QSjUD.bm\n",
      "2020-04-23 18:28:33 Hail: INFO: wrote matrix with 1000 rows and 1000 columns as 1 block of size 4096 to file:/tmp/hail.1R6u1BF3Na8F/JBPXznB85N.bm\n",
      "2020-04-23 18:28:34 Hail: INFO: wrote matrix with 1000 rows and 1000 columns as 1 block of size 4096 to file:/tmp/hail.1R6u1BF3Na8F/zyQRYeuUiy.bm\n",
      "2020-04-23 18:28:34 Hail: INFO: wrote matrix with 1000 rows and 1000 columns as 1 block of size 4096 to file:/tmp/hail.1R6u1BF3Na8F/MoWmOvF5Js.bm\n",
      "2020-04-23 18:28:36 Hail: INFO: wrote matrix with 1000 rows and 1000 columns as 1 block of size 4096 to file:/tmp/hail.1R6u1BF3Na8F/2m4escAeUT.bm\n",
      "2020-04-23 18:28:37 Hail: INFO: wrote matrix with 1000 rows and 1000 columns as 1 block of size 4096 to file:/tmp/hail.1R6u1BF3Na8F/8zTUO7HTMb.bm\n",
      "2020-04-23 18:28:37 Hail: INFO: wrote matrix with 1000 rows and 1000 columns as 1 block of size 4096 to file:/tmp/hail.1R6u1BF3Na8F/fEh1guZ6wJ.bm\n",
      "2020-04-23 18:28:39 Hail: INFO: Ordering unsorted dataset with network shuffle\n",
      "2020-04-23 18:28:43 Hail: INFO: Coerced sorted dataset\n",
      "2020-04-23 18:28:47 Hail: INFO: wrote table with 499500 rows in 1 partition to /tmp/tmpjxkgmddy/pc_relate_result\n"
     ]
    },
    {
     "name": "stdout",
     "output_type": "stream",
     "text": [
      "Deleting pc_relate results: /tmp/tmpjxkgmddy/pc_relate_result\n",
      "Deleting hail tmp dir: /tmp/hail.1R6u1BF3Na8F\n"
     ]
    },
    {
     "name": "stderr",
     "output_type": "stream",
     "text": [
      "2020-04-23 18:28:48 Hail: INFO: hwe_normalized_pca: running PCA using 10000 variants.\n",
      "2020-04-23 18:28:49 Hail: INFO: pca: running PCA with 10 components...\n"
     ]
    },
    {
     "name": "stdout",
     "output_type": "stream",
     "text": [
      "PCA took s:2000, v:10000, p:10 : 9.91 seconds\n"
     ]
    },
    {
     "name": "stderr",
     "output_type": "stream",
     "text": [
      "2020-04-23 18:29:00 Hail: INFO: Wrote all 3 blocks of 10000 x 2000 matrix with block size 4096.\n",
      "2020-04-23 18:29:00 Hail: INFO: wrote matrix with 11 rows and 10000 columns as 3 blocks of size 4096 to file:/tmp/hail.1R6u1BF3Na8F/1R0St08BR2.bm\n",
      "2020-04-23 18:29:01 Hail: INFO: wrote matrix with 10000 rows and 2000 columns as 3 blocks of size 4096 to file:/tmp/hail.1R6u1BF3Na8F/v4DyB9pSMY.bm\n",
      "2020-04-23 18:29:01 Hail: INFO: wrote matrix with 10000 rows and 2000 columns as 3 blocks of size 4096 to file:/tmp/hail.1R6u1BF3Na8F/MrjpbpPdXi.bm\n",
      "2020-04-23 18:29:10 Hail: INFO: wrote matrix with 2000 rows and 2000 columns as 1 block of size 4096 to file:/tmp/hail.1R6u1BF3Na8F/6b41LbukBr.bm\n",
      "2020-04-23 18:29:18 Hail: INFO: wrote matrix with 2000 rows and 2000 columns as 1 block of size 4096 to file:/tmp/hail.1R6u1BF3Na8F/oSjIsQCw7e.bm\n",
      "2020-04-23 18:29:19 Hail: INFO: wrote matrix with 2000 rows and 2000 columns as 1 block of size 4096 to file:/tmp/hail.1R6u1BF3Na8F/RiUhUYkedZ.bm\n",
      "2020-04-23 18:29:29 Hail: INFO: wrote matrix with 2000 rows and 2000 columns as 1 block of size 4096 to file:/tmp/hail.1R6u1BF3Na8F/bRMYRP5Flr.bm\n",
      "2020-04-23 18:29:37 Hail: INFO: wrote matrix with 2000 rows and 2000 columns as 1 block of size 4096 to file:/tmp/hail.1R6u1BF3Na8F/lti7kugz0n.bm\n",
      "2020-04-23 18:29:38 Hail: INFO: wrote matrix with 2000 rows and 2000 columns as 1 block of size 4096 to file:/tmp/hail.1R6u1BF3Na8F/weACPjZiSa.bm\n",
      "2020-04-23 18:29:47 Hail: INFO: wrote matrix with 2000 rows and 2000 columns as 1 block of size 4096 to file:/tmp/hail.1R6u1BF3Na8F/UcmojdQxKL.bm\n",
      "2020-04-23 18:29:56 Hail: INFO: wrote matrix with 2000 rows and 2000 columns as 1 block of size 4096 to file:/tmp/hail.1R6u1BF3Na8F/riHP6ZE3pw.bm\n",
      "2020-04-23 18:29:57 Hail: INFO: wrote matrix with 2000 rows and 2000 columns as 1 block of size 4096 to file:/tmp/hail.1R6u1BF3Na8F/PK2PBSqMvw.bm\n",
      "2020-04-23 18:30:00 Hail: INFO: Ordering unsorted dataset with network shuffle\n",
      "2020-04-23 18:30:18 Hail: INFO: Coerced sorted dataset\n",
      "2020-04-23 18:30:31 Hail: INFO: wrote table with 1999000 rows in 1 partition to /tmp/tmpfsr_jbxe/pc_relate_result\n",
      "2020-04-23 18:30:31 Hail: INFO: balding_nichols_model: generating genotypes for 10 populations, 3000 samples, and 15000 variants...\n"
     ]
    },
    {
     "name": "stdout",
     "output_type": "stream",
     "text": [
      "Deleting pc_relate results: /tmp/tmpfsr_jbxe/pc_relate_result\n",
      "Deleting hail tmp dir: /tmp/hail.1R6u1BF3Na8F\n"
     ]
    },
    {
     "name": "stderr",
     "output_type": "stream",
     "text": [
      "2020-04-23 18:30:32 Hail: INFO: Coerced sorted dataset\n",
      "2020-04-23 18:30:40 Hail: INFO: wrote matrix table with 15000 rows and 3000 columns in 8 partitions to /home/rav/data/tmp/mt_3000_15000_10.mt\n",
      "2020-04-23 18:30:40 Hail: INFO: hwe_normalized_pca: running PCA using 15000 variants.\n",
      "2020-04-23 18:30:42 Hail: INFO: pca: running PCA with 10 components...\n"
     ]
    },
    {
     "name": "stdout",
     "output_type": "stream",
     "text": [
      "PCA took s:3000, v:15000, p:10 : 17.08 seconds\n"
     ]
    },
    {
     "name": "stderr",
     "output_type": "stream",
     "text": [
      "2020-04-23 18:31:01 Hail: INFO: Wrote all 4 blocks of 15000 x 3000 matrix with block size 4096.\n",
      "2020-04-23 18:31:02 Hail: INFO: wrote matrix with 11 rows and 15000 columns as 4 blocks of size 4096 to file:/tmp/hail.1R6u1BF3Na8F/geQ6j1pXoR.bm\n",
      "2020-04-23 18:31:02 Hail: INFO: wrote matrix with 15000 rows and 3000 columns as 4 blocks of size 4096 to file:/tmp/hail.1R6u1BF3Na8F/1uTd8BMRbz.bm\n",
      "2020-04-23 18:31:03 Hail: INFO: wrote matrix with 15000 rows and 3000 columns as 4 blocks of size 4096 to file:/tmp/hail.1R6u1BF3Na8F/tR8ikDiHHD.bm\n",
      "2020-04-23 18:31:32 Hail: INFO: wrote matrix with 3000 rows and 3000 columns as 1 block of size 4096 to file:/tmp/hail.1R6u1BF3Na8F/OKxowwPIrn.bm\n",
      "2020-04-23 18:31:59 Hail: INFO: wrote matrix with 3000 rows and 3000 columns as 1 block of size 4096 to file:/tmp/hail.1R6u1BF3Na8F/8pQddr3wpQ.bm\n",
      "2020-04-23 18:31:59 Hail: INFO: wrote matrix with 3000 rows and 3000 columns as 1 block of size 4096 to file:/tmp/hail.1R6u1BF3Na8F/UVGJ78UEVX.bm\n",
      "2020-04-23 18:32:33 Hail: INFO: wrote matrix with 3000 rows and 3000 columns as 1 block of size 4096 to file:/tmp/hail.1R6u1BF3Na8F/ncVsjqm2GU.bm\n",
      "2020-04-23 18:33:00 Hail: INFO: wrote matrix with 3000 rows and 3000 columns as 1 block of size 4096 to file:/tmp/hail.1R6u1BF3Na8F/SDR51wgDXl.bm\n",
      "2020-04-23 18:33:00 Hail: INFO: wrote matrix with 3000 rows and 3000 columns as 1 block of size 4096 to file:/tmp/hail.1R6u1BF3Na8F/c3JtnJEuBu.bm\n",
      "2020-04-23 18:33:30 Hail: INFO: wrote matrix with 3000 rows and 3000 columns as 1 block of size 4096 to file:/tmp/hail.1R6u1BF3Na8F/fllAwK3B84.bm\n",
      "2020-04-23 18:34:00 Hail: INFO: wrote matrix with 3000 rows and 3000 columns as 1 block of size 4096 to file:/tmp/hail.1R6u1BF3Na8F/sGFkJjc6Bp.bm\n",
      "2020-04-23 18:34:01 Hail: INFO: wrote matrix with 3000 rows and 3000 columns as 1 block of size 4096 to file:/tmp/hail.1R6u1BF3Na8F/km7dlJ5DAu.bm\n",
      "2020-04-23 18:34:10 Hail: INFO: Ordering unsorted dataset with network shuffle\n",
      "2020-04-23 18:34:50 Hail: INFO: Coerced sorted dataset\n",
      "2020-04-23 18:35:21 Hail: INFO: wrote table with 4498500 rows in 1 partition to /tmp/tmpoml4o2sz/pc_relate_result\n"
     ]
    },
    {
     "name": "stdout",
     "output_type": "stream",
     "text": [
      "Deleting pc_relate results: /tmp/tmpoml4o2sz/pc_relate_result\n",
      "Deleting hail tmp dir: /tmp/hail.1R6u1BF3Na8F\n"
     ]
    },
    {
     "name": "stderr",
     "output_type": "stream",
     "text": [
      "2020-04-23 18:35:21 Hail: INFO: balding_nichols_model: generating genotypes for 10 populations, 4000 samples, and 20000 variants...\n",
      "2020-04-23 18:35:22 Hail: INFO: Coerced sorted dataset\n",
      "2020-04-23 18:35:34 Hail: INFO: wrote matrix table with 20000 rows and 4000 columns in 8 partitions to /home/rav/data/tmp/mt_4000_20000_10.mt\n",
      "2020-04-23 18:35:35 Hail: INFO: hwe_normalized_pca: running PCA using 20000 variants.\n",
      "2020-04-23 18:35:37 Hail: INFO: pca: running PCA with 10 components...\n"
     ]
    },
    {
     "name": "stdout",
     "output_type": "stream",
     "text": [
      "PCA took s:4000, v:20000, p:10 : 22.88 seconds\n"
     ]
    },
    {
     "name": "stderr",
     "output_type": "stream",
     "text": [
      "2020-04-23 18:36:04 Hail: INFO: Wrote all 5 blocks of 20000 x 4000 matrix with block size 4096.\n",
      "2020-04-23 18:36:05 Hail: INFO: wrote matrix with 11 rows and 20000 columns as 5 blocks of size 4096 to file:/tmp/hail.1R6u1BF3Na8F/lfBrQWXNIb.bm\n",
      "2020-04-23 18:36:05 Hail: INFO: wrote matrix with 20000 rows and 4000 columns as 5 blocks of size 4096 to file:/tmp/hail.1R6u1BF3Na8F/9yzp0Psnad.bm\n",
      "2020-04-23 18:36:06 Hail: INFO: wrote matrix with 20000 rows and 4000 columns as 5 blocks of size 4096 to file:/tmp/hail.1R6u1BF3Na8F/NKtM6X1fqI.bm\n",
      "2020-04-23 18:37:12 Hail: INFO: wrote matrix with 4000 rows and 4000 columns as 1 block of size 4096 to file:/tmp/hail.1R6u1BF3Na8F/MXc20Wjjx4.bm\n",
      "2020-04-23 18:38:17 Hail: INFO: wrote matrix with 4000 rows and 4000 columns as 1 block of size 4096 to file:/tmp/hail.1R6u1BF3Na8F/Q4TahfY6LQ.bm\n",
      "2020-04-23 18:38:18 Hail: INFO: wrote matrix with 4000 rows and 4000 columns as 1 block of size 4096 to file:/tmp/hail.1R6u1BF3Na8F/vIRYRzr2Za.bm\n",
      "2020-04-23 18:39:33 Hail: INFO: wrote matrix with 4000 rows and 4000 columns as 1 block of size 4096 to file:/tmp/hail.1R6u1BF3Na8F/28cRRQO7bs.bm\n",
      "2020-04-23 18:40:37 Hail: INFO: wrote matrix with 4000 rows and 4000 columns as 1 block of size 4096 to file:/tmp/hail.1R6u1BF3Na8F/syEqFyGstp.bm\n",
      "2020-04-23 18:40:38 Hail: INFO: wrote matrix with 4000 rows and 4000 columns as 1 block of size 4096 to file:/tmp/hail.1R6u1BF3Na8F/9Xwo5OhqP0.bm\n",
      "2020-04-23 18:41:47 Hail: INFO: wrote matrix with 4000 rows and 4000 columns as 1 block of size 4096 to file:/tmp/hail.1R6u1BF3Na8F/HgHH1ED0Ep.bm\n",
      "2020-04-23 18:42:55 Hail: INFO: wrote matrix with 4000 rows and 4000 columns as 1 block of size 4096 to file:/tmp/hail.1R6u1BF3Na8F/5j7jqRUA2M.bm\n",
      "2020-04-23 18:42:57 Hail: INFO: wrote matrix with 4000 rows and 4000 columns as 1 block of size 4096 to file:/tmp/hail.1R6u1BF3Na8F/mrG9UwGDvr.bm\n",
      "2020-04-23 18:43:12 Hail: INFO: Ordering unsorted dataset with network shuffle\n",
      "2020-04-23 18:44:26 Hail: INFO: Coerced sorted dataset\n",
      "2020-04-23 18:45:19 Hail: INFO: wrote table with 7998000 rows in 1 partition to /tmp/tmpk67e7tug/pc_relate_result\n"
     ]
    },
    {
     "name": "stdout",
     "output_type": "stream",
     "text": [
      "Deleting pc_relate results: /tmp/tmpk67e7tug/pc_relate_result\n",
      "Deleting hail tmp dir: /tmp/hail.1R6u1BF3Na8F\n"
     ]
    },
    {
     "name": "stderr",
     "output_type": "stream",
     "text": [
      "2020-04-23 18:45:21 Hail: INFO: hwe_normalized_pca: running PCA using 25000 variants.\n",
      "2020-04-23 18:45:24 Hail: INFO: pca: running PCA with 10 components...\n"
     ]
    },
    {
     "name": "stdout",
     "output_type": "stream",
     "text": [
      "PCA took s:5000, v:25000, p:10 : 28.75 seconds\n"
     ]
    },
    {
     "name": "stderr",
     "output_type": "stream",
     "text": [
      "2020-04-23 18:45:58 Hail: INFO: Wrote all 14 blocks of 25000 x 5000 matrix with block size 4096.\n",
      "2020-04-23 18:46:00 Hail: INFO: wrote matrix with 11 rows and 25000 columns as 7 blocks of size 4096 to file:/tmp/hail.1R6u1BF3Na8F/PMzQQL5ghT.bm\n",
      "2020-04-23 18:46:01 Hail: INFO: wrote matrix with 25000 rows and 5000 columns as 14 blocks of size 4096 to file:/tmp/hail.1R6u1BF3Na8F/bfZiazrNMy.bm\n",
      "2020-04-23 18:46:02 Hail: INFO: wrote matrix with 25000 rows and 5000 columns as 14 blocks of size 4096 to file:/tmp/hail.1R6u1BF3Na8F/E3VUfUzftV.bm\n",
      "2020-04-23 18:47:26 Hail: INFO: wrote matrix with 5000 rows and 5000 columns as 4 blocks of size 4096 to file:/tmp/hail.1R6u1BF3Na8F/xBwBjj3eO8.bm\n",
      "2020-04-23 18:48:49 Hail: INFO: wrote matrix with 5000 rows and 5000 columns as 4 blocks of size 4096 to file:/tmp/hail.1R6u1BF3Na8F/LOodFXyhUy.bm\n",
      "2020-04-23 18:48:50 Hail: INFO: wrote matrix with 5000 rows and 5000 columns as 4 blocks of size 4096 to file:/tmp/hail.1R6u1BF3Na8F/loHNoT7sph.bm\n",
      "2020-04-23 18:50:21 Hail: INFO: wrote matrix with 5000 rows and 5000 columns as 4 blocks of size 4096 to file:/tmp/hail.1R6u1BF3Na8F/vg5o47N2G9.bm\n",
      "2020-04-23 18:51:44 Hail: INFO: wrote matrix with 5000 rows and 5000 columns as 4 blocks of size 4096 to file:/tmp/hail.1R6u1BF3Na8F/fjOzM30PRw.bm\n",
      "2020-04-23 18:51:44 Hail: INFO: wrote matrix with 5000 rows and 5000 columns as 4 blocks of size 4096 to file:/tmp/hail.1R6u1BF3Na8F/6UeZA8585c.bm\n",
      "2020-04-23 18:53:16 Hail: INFO: wrote matrix with 5000 rows and 5000 columns as 4 blocks of size 4096 to file:/tmp/hail.1R6u1BF3Na8F/XLTRotTAQY.bm\n",
      "2020-04-23 18:54:45 Hail: INFO: wrote matrix with 5000 rows and 5000 columns as 4 blocks of size 4096 to file:/tmp/hail.1R6u1BF3Na8F/JiTeSazar7.bm\n",
      "2020-04-23 18:54:47 Hail: INFO: wrote matrix with 5000 rows and 5000 columns as 4 blocks of size 4096 to file:/tmp/hail.1R6u1BF3Na8F/fVkns37bAC.bm\n",
      "2020-04-23 18:55:04 Hail: INFO: Ordering unsorted dataset with network shuffle\n",
      "2020-04-23 18:56:08 Hail: INFO: Coerced sorted dataset\n",
      "2020-04-23 18:56:54 Hail: INFO: wrote table with 12497500 rows in 4 partitions to /tmp/tmpfzltui0u/pc_relate_result\n"
     ]
    },
    {
     "name": "stdout",
     "output_type": "stream",
     "text": [
      "Deleting pc_relate results: /tmp/tmpfzltui0u/pc_relate_result\n",
      "Deleting hail tmp dir: /tmp/hail.1R6u1BF3Na8F\n"
     ]
    },
    {
     "name": "stderr",
     "output_type": "stream",
     "text": [
      "2020-04-23 18:56:55 Hail: INFO: balding_nichols_model: generating genotypes for 10 populations, 6000 samples, and 30000 variants...\n",
      "2020-04-23 18:56:56 Hail: INFO: Coerced sorted dataset\n",
      "2020-04-23 18:57:21 Hail: INFO: wrote matrix table with 30000 rows and 6000 columns in 8 partitions to /home/rav/data/tmp/mt_6000_30000_10.mt\n",
      "2020-04-23 18:57:23 Hail: INFO: hwe_normalized_pca: running PCA using 30000 variants.\n",
      "2020-04-23 18:57:27 Hail: INFO: pca: running PCA with 10 components...\n"
     ]
    },
    {
     "name": "stdout",
     "output_type": "stream",
     "text": [
      "PCA took s:6000, v:30000, p:10 : 42.13 seconds\n"
     ]
    },
    {
     "name": "stderr",
     "output_type": "stream",
     "text": [
      "2020-04-23 18:58:16 Hail: INFO: Wrote all 16 blocks of 30000 x 6000 matrix with block size 4096.\n",
      "2020-04-23 18:58:17 Hail: INFO: wrote matrix with 11 rows and 30000 columns as 8 blocks of size 4096 to file:/tmp/hail.1R6u1BF3Na8F/ta8Yn6YeBk.bm\n",
      "2020-04-23 18:58:18 Hail: INFO: wrote matrix with 30000 rows and 6000 columns as 16 blocks of size 4096 to file:/tmp/hail.1R6u1BF3Na8F/fkLEfaHwlt.bm\n",
      "2020-04-23 18:58:20 Hail: INFO: wrote matrix with 30000 rows and 6000 columns as 16 blocks of size 4096 to file:/tmp/hail.1R6u1BF3Na8F/gHPhtin6s8.bm\n",
      "2020-04-23 19:00:01 Hail: INFO: wrote matrix with 6000 rows and 6000 columns as 4 blocks of size 4096 to file:/tmp/hail.1R6u1BF3Na8F/1XwWRqNUbS.bm\n",
      "2020-04-23 19:01:43 Hail: INFO: wrote matrix with 6000 rows and 6000 columns as 4 blocks of size 4096 to file:/tmp/hail.1R6u1BF3Na8F/Z7Er448Zvh.bm\n",
      "2020-04-23 19:01:44 Hail: INFO: wrote matrix with 6000 rows and 6000 columns as 4 blocks of size 4096 to file:/tmp/hail.1R6u1BF3Na8F/r8E0ER5nTj.bm\n",
      "2020-04-23 19:03:39 Hail: INFO: wrote matrix with 6000 rows and 6000 columns as 4 blocks of size 4096 to file:/tmp/hail.1R6u1BF3Na8F/vPryzMyvWq.bm\n",
      "2020-04-23 19:05:21 Hail: INFO: wrote matrix with 6000 rows and 6000 columns as 4 blocks of size 4096 to file:/tmp/hail.1R6u1BF3Na8F/qcyZqS00qG.bm\n",
      "2020-04-23 19:05:21 Hail: INFO: wrote matrix with 6000 rows and 6000 columns as 4 blocks of size 4096 to file:/tmp/hail.1R6u1BF3Na8F/rvNFGtq8DB.bm\n",
      "2020-04-23 19:07:12 Hail: INFO: wrote matrix with 6000 rows and 6000 columns as 4 blocks of size 4096 to file:/tmp/hail.1R6u1BF3Na8F/nxb9IqFgh8.bm\n",
      "2020-04-23 19:09:04 Hail: INFO: wrote matrix with 6000 rows and 6000 columns as 4 blocks of size 4096 to file:/tmp/hail.1R6u1BF3Na8F/QyQLumtW5u.bm\n",
      "2020-04-23 19:09:05 Hail: INFO: wrote matrix with 6000 rows and 6000 columns as 4 blocks of size 4096 to file:/tmp/hail.1R6u1BF3Na8F/KxxthHqT60.bm\n",
      "2020-04-23 19:09:22 Hail: INFO: Ordering unsorted dataset with network shuffle\n",
      "2020-04-23 19:10:34 Hail: INFO: Coerced sorted dataset\n",
      "2020-04-23 19:11:33 Hail: INFO: wrote table with 17997000 rows in 4 partitions to /tmp/tmp7rc5nl4b/pc_relate_result\n"
     ]
    },
    {
     "name": "stdout",
     "output_type": "stream",
     "text": [
      "Deleting pc_relate results: /tmp/tmp7rc5nl4b/pc_relate_result\n",
      "Deleting hail tmp dir: /tmp/hail.1R6u1BF3Na8F\n"
     ]
    },
    {
     "name": "stderr",
     "output_type": "stream",
     "text": [
      "2020-04-23 19:11:34 Hail: INFO: balding_nichols_model: generating genotypes for 10 populations, 7000 samples, and 35000 variants...\n",
      "2020-04-23 19:11:35 Hail: INFO: Coerced sorted dataset\n",
      "2020-04-23 19:12:11 Hail: INFO: wrote matrix table with 35000 rows and 7000 columns in 8 partitions to /home/rav/data/tmp/mt_7000_35000_10.mt\n",
      "2020-04-23 19:12:14 Hail: INFO: hwe_normalized_pca: running PCA using 35000 variants.\n",
      "2020-04-23 19:12:19 Hail: INFO: pca: running PCA with 10 components...\n"
     ]
    },
    {
     "name": "stdout",
     "output_type": "stream",
     "text": [
      "PCA took s:7000, v:35000, p:10 : 67.89 seconds\n"
     ]
    },
    {
     "name": "stderr",
     "output_type": "stream",
     "text": [
      "2020-04-23 19:13:35 Hail: INFO: Wrote all 18 blocks of 35000 x 7000 matrix with block size 4096.\n",
      "2020-04-23 19:13:37 Hail: INFO: wrote matrix with 11 rows and 35000 columns as 9 blocks of size 4096 to file:/tmp/hail.1R6u1BF3Na8F/9t9CEqfl1C.bm\n",
      "2020-04-23 19:13:39 Hail: INFO: wrote matrix with 35000 rows and 7000 columns as 18 blocks of size 4096 to file:/tmp/hail.1R6u1BF3Na8F/AT3c3Pj37R.bm\n",
      "2020-04-23 19:13:42 Hail: INFO: wrote matrix with 35000 rows and 7000 columns as 18 blocks of size 4096 to file:/tmp/hail.1R6u1BF3Na8F/XJt3nXJS6N.bm\n",
      "2020-04-23 19:15:45 Hail: INFO: wrote matrix with 7000 rows and 7000 columns as 4 blocks of size 4096 to file:/tmp/hail.1R6u1BF3Na8F/n77h4N3PHj.bm\n",
      "2020-04-23 19:17:44 Hail: INFO: wrote matrix with 7000 rows and 7000 columns as 4 blocks of size 4096 to file:/tmp/hail.1R6u1BF3Na8F/2qCqOk0tkE.bm\n",
      "2020-04-23 19:17:45 Hail: INFO: wrote matrix with 7000 rows and 7000 columns as 4 blocks of size 4096 to file:/tmp/hail.1R6u1BF3Na8F/RtRTJBJFC9.bm\n",
      "2020-04-23 19:20:10 Hail: INFO: wrote matrix with 7000 rows and 7000 columns as 4 blocks of size 4096 to file:/tmp/hail.1R6u1BF3Na8F/Jp5HFOqJbH.bm\n",
      "2020-04-23 19:22:09 Hail: INFO: wrote matrix with 7000 rows and 7000 columns as 4 blocks of size 4096 to file:/tmp/hail.1R6u1BF3Na8F/fmiWxfUPZl.bm\n",
      "2020-04-23 19:22:10 Hail: INFO: wrote matrix with 7000 rows and 7000 columns as 4 blocks of size 4096 to file:/tmp/hail.1R6u1BF3Na8F/6ClhVkrENN.bm\n",
      "2020-04-23 19:24:24 Hail: INFO: wrote matrix with 7000 rows and 7000 columns as 4 blocks of size 4096 to file:/tmp/hail.1R6u1BF3Na8F/DtDZ5csEqK.bm\n",
      "2020-04-23 19:26:34 Hail: INFO: wrote matrix with 7000 rows and 7000 columns as 4 blocks of size 4096 to file:/tmp/hail.1R6u1BF3Na8F/6Yo6CHYPnz.bm\n",
      "2020-04-23 19:26:38 Hail: INFO: wrote matrix with 7000 rows and 7000 columns as 4 blocks of size 4096 to file:/tmp/hail.1R6u1BF3Na8F/u4Aw2zrhU2.bm\n",
      "2020-04-23 19:27:03 Hail: INFO: Ordering unsorted dataset with network shuffle\n",
      "2020-04-23 19:28:58 Hail: INFO: Coerced sorted dataset\n"
     ]
    },
    {
     "name": "stdout",
     "output_type": "stream",
     "text": [
      "Deleting pc_relate results: /tmp/tmpuhf2v1xm/pc_relate_result\n",
      "Deleting hail tmp dir: /tmp/hail.1R6u1BF3Na8F\n"
     ]
    },
    {
     "name": "stderr",
     "output_type": "stream",
     "text": [
      "2020-04-23 19:30:15 Hail: INFO: wrote table with 24496500 rows in 4 partitions to /tmp/tmpuhf2v1xm/pc_relate_result\n",
      "2020-04-23 19:30:15 Hail: INFO: balding_nichols_model: generating genotypes for 10 populations, 8000 samples, and 40000 variants...\n",
      "2020-04-23 19:30:16 Hail: INFO: Coerced sorted dataset\n",
      "2020-04-23 19:31:02 Hail: INFO: wrote matrix table with 40000 rows and 8000 columns in 8 partitions to /home/rav/data/tmp/mt_8000_40000_10.mt\n",
      "2020-04-23 19:31:06 Hail: INFO: hwe_normalized_pca: running PCA using 40000 variants.\n",
      "2020-04-23 19:31:13 Hail: INFO: pca: running PCA with 10 components...\n"
     ]
    },
    {
     "name": "stdout",
     "output_type": "stream",
     "text": [
      "PCA took s:8000, v:40000, p:10 : 81.87 seconds\n"
     ]
    },
    {
     "name": "stderr",
     "output_type": "stream",
     "text": [
      "2020-04-23 19:32:49 Hail: INFO: Wrote all 20 blocks of 40000 x 8000 matrix with block size 4096.\n",
      "2020-04-23 19:32:52 Hail: INFO: wrote matrix with 11 rows and 40000 columns as 10 blocks of size 4096 to file:/tmp/hail.1R6u1BF3Na8F/IJrt61HFLV.bm\n",
      "2020-04-23 19:32:53 Hail: INFO: wrote matrix with 40000 rows and 8000 columns as 20 blocks of size 4096 to file:/tmp/hail.1R6u1BF3Na8F/R2dKedGNiy.bm\n",
      "2020-04-23 19:33:02 Hail: INFO: wrote matrix with 40000 rows and 8000 columns as 20 blocks of size 4096 to file:/tmp/hail.1R6u1BF3Na8F/6dB2E6aKXa.bm\n",
      "2020-04-23 19:35:23 Hail: INFO: wrote matrix with 8000 rows and 8000 columns as 4 blocks of size 4096 to file:/tmp/hail.1R6u1BF3Na8F/kHoBw1fPP1.bm\n",
      "2020-04-23 19:37:45 Hail: INFO: wrote matrix with 8000 rows and 8000 columns as 4 blocks of size 4096 to file:/tmp/hail.1R6u1BF3Na8F/pZbGwr7sen.bm\n",
      "2020-04-23 19:37:48 Hail: INFO: wrote matrix with 8000 rows and 8000 columns as 4 blocks of size 4096 to file:/tmp/hail.1R6u1BF3Na8F/5xQGdo92CQ.bm\n",
      "ERROR:root:Exception while sending command.\n",
      "Traceback (most recent call last):\n",
      "  File \"/opt/conda/envs/gwas/lib/python3.7/site-packages/py4j/java_gateway.py\", line 1159, in send_command\n",
      "    raise Py4JNetworkError(\"Answer from Java side is empty\")\n",
      "py4j.protocol.Py4JNetworkError: Answer from Java side is empty\n",
      "\n",
      "During handling of the above exception, another exception occurred:\n",
      "\n",
      "Traceback (most recent call last):\n",
      "  File \"/opt/conda/envs/gwas/lib/python3.7/site-packages/py4j/java_gateway.py\", line 985, in send_command\n",
      "    response = connection.send_command(command)\n",
      "  File \"/opt/conda/envs/gwas/lib/python3.7/site-packages/py4j/java_gateway.py\", line 1164, in send_command\n",
      "    \"Error while receiving\", e, proto.ERROR_ON_RECEIVE)\n",
      "py4j.protocol.Py4JNetworkError: Error while receiving\n"
     ]
    },
    {
     "name": "stdout",
     "output_type": "stream",
     "text": [
      "Deleting hail tmp dir: /tmp/hail.1R6u1BF3Na8F\n"
     ]
    },
    {
     "ename": "Py4JError",
     "evalue": "An error occurred while calling o806.executeJSON",
     "output_type": "error",
     "traceback": [
      "\u001b[0;31m---------------------------------------------------------------------------\u001b[0m",
      "\u001b[0;31mPy4JError\u001b[0m                                 Traceback (most recent call last)",
      "\u001b[0;32m<ipython-input-7-fe1b741176dd>\u001b[0m in \u001b[0;36m<module>\u001b[0;34m\u001b[0m\n\u001b[1;32m      2\u001b[0m     \u001b[0msamples\u001b[0m \u001b[0;34m=\u001b[0m \u001b[0mi\u001b[0m\u001b[0;34m\u001b[0m\u001b[0;34m\u001b[0m\u001b[0m\n\u001b[1;32m      3\u001b[0m     \u001b[0mvariants\u001b[0m \u001b[0;34m=\u001b[0m \u001b[0msamples\u001b[0m \u001b[0;34m*\u001b[0m \u001b[0;36m5\u001b[0m\u001b[0;34m\u001b[0m\u001b[0;34m\u001b[0m\u001b[0m\n\u001b[0;32m----> 4\u001b[0;31m     \u001b[0mdo_experiment\u001b[0m\u001b[0;34m(\u001b[0m\u001b[0;34m\"simple_1_to_5_sample_to_variant_cpu_8_ram_31\"\u001b[0m\u001b[0;34m,\u001b[0m \u001b[0msamples\u001b[0m\u001b[0;34m=\u001b[0m\u001b[0msamples\u001b[0m\u001b[0;34m,\u001b[0m \u001b[0mvariants\u001b[0m\u001b[0;34m=\u001b[0m\u001b[0mvariants\u001b[0m\u001b[0;34m,\u001b[0m \u001b[0mpopulations\u001b[0m\u001b[0;34m=\u001b[0m\u001b[0;36m10\u001b[0m\u001b[0;34m)\u001b[0m\u001b[0;34m\u001b[0m\u001b[0;34m\u001b[0m\u001b[0m\n\u001b[0m",
      "\u001b[0;32m<ipython-input-5-23eac10fcab2>\u001b[0m in \u001b[0;36mdo_experiment\u001b[0;34m(experiment_name, samples, variants, populations)\u001b[0m\n\u001b[1;32m     18\u001b[0m             \u001b[0mpc_relate_result\u001b[0m \u001b[0;34m=\u001b[0m \u001b[0mhl\u001b[0m\u001b[0;34m.\u001b[0m\u001b[0mmethods\u001b[0m\u001b[0;34m.\u001b[0m\u001b[0mpc_relate\u001b[0m\u001b[0;34m(\u001b[0m\u001b[0mmt\u001b[0m\u001b[0;34m.\u001b[0m\u001b[0mGT\u001b[0m\u001b[0;34m,\u001b[0m \u001b[0mscores_expr\u001b[0m\u001b[0;34m=\u001b[0m\u001b[0mscores\u001b[0m\u001b[0;34m[\u001b[0m\u001b[0mmt\u001b[0m\u001b[0;34m.\u001b[0m\u001b[0mcol_key\u001b[0m\u001b[0;34m]\u001b[0m\u001b[0;34m.\u001b[0m\u001b[0mscores\u001b[0m\u001b[0;34m,\u001b[0m \u001b[0mmin_individual_maf\u001b[0m\u001b[0;34m=\u001b[0m\u001b[0;36m0.01\u001b[0m\u001b[0;34m)\u001b[0m\u001b[0;34m\u001b[0m\u001b[0;34m\u001b[0m\u001b[0m\n\u001b[1;32m     19\u001b[0m             \u001b[0mtmp_dir\u001b[0m \u001b[0;34m=\u001b[0m \u001b[0mPath\u001b[0m\u001b[0;34m(\u001b[0m\u001b[0mtempfile\u001b[0m\u001b[0;34m.\u001b[0m\u001b[0mmkdtemp\u001b[0m\u001b[0;34m(\u001b[0m\u001b[0;34m)\u001b[0m\u001b[0;34m)\u001b[0m\u001b[0;34m.\u001b[0m\u001b[0mjoinpath\u001b[0m\u001b[0;34m(\u001b[0m\u001b[0;34m\"pc_relate_result\"\u001b[0m\u001b[0;34m)\u001b[0m\u001b[0;34m\u001b[0m\u001b[0;34m\u001b[0m\u001b[0m\n\u001b[0;32m---> 20\u001b[0;31m             \u001b[0mpc_relate_result\u001b[0m\u001b[0;34m.\u001b[0m\u001b[0mwrite\u001b[0m\u001b[0;34m(\u001b[0m\u001b[0mtmp_dir\u001b[0m\u001b[0;34m.\u001b[0m\u001b[0mas_posix\u001b[0m\u001b[0;34m(\u001b[0m\u001b[0;34m)\u001b[0m\u001b[0;34m)\u001b[0m\u001b[0;34m\u001b[0m\u001b[0;34m\u001b[0m\u001b[0m\n\u001b[0m\u001b[1;32m     21\u001b[0m             \u001b[0mpc_relate_time\u001b[0m \u001b[0;34m=\u001b[0m \u001b[0mtime\u001b[0m\u001b[0;34m.\u001b[0m\u001b[0mtime\u001b[0m\u001b[0;34m(\u001b[0m\u001b[0;34m)\u001b[0m \u001b[0;34m-\u001b[0m \u001b[0mstart\u001b[0m\u001b[0;34m\u001b[0m\u001b[0;34m\u001b[0m\u001b[0m\n\u001b[1;32m     22\u001b[0m             \u001b[0mprint\u001b[0m\u001b[0;34m(\u001b[0m\u001b[0;34mf\"Deleting pc_relate results: {tmp_dir.as_posix()}\"\u001b[0m\u001b[0;34m)\u001b[0m\u001b[0;34m\u001b[0m\u001b[0;34m\u001b[0m\u001b[0m\n",
      "\u001b[0;32m<decorator-gen-1053>\u001b[0m in \u001b[0;36mwrite\u001b[0;34m(self, output, overwrite, stage_locally, _codec_spec)\u001b[0m\n",
      "\u001b[0;32m/opt/conda/envs/gwas/lib/python3.7/site-packages/hail/typecheck/check.py\u001b[0m in \u001b[0;36mwrapper\u001b[0;34m(__original_func, *args, **kwargs)\u001b[0m\n\u001b[1;32m    583\u001b[0m     \u001b[0;32mdef\u001b[0m \u001b[0mwrapper\u001b[0m\u001b[0;34m(\u001b[0m\u001b[0m__original_func\u001b[0m\u001b[0;34m,\u001b[0m \u001b[0;34m*\u001b[0m\u001b[0margs\u001b[0m\u001b[0;34m,\u001b[0m \u001b[0;34m**\u001b[0m\u001b[0mkwargs\u001b[0m\u001b[0;34m)\u001b[0m\u001b[0;34m:\u001b[0m\u001b[0;34m\u001b[0m\u001b[0;34m\u001b[0m\u001b[0m\n\u001b[1;32m    584\u001b[0m         \u001b[0margs_\u001b[0m\u001b[0;34m,\u001b[0m \u001b[0mkwargs_\u001b[0m \u001b[0;34m=\u001b[0m \u001b[0mcheck_all\u001b[0m\u001b[0;34m(\u001b[0m\u001b[0m__original_func\u001b[0m\u001b[0;34m,\u001b[0m \u001b[0margs\u001b[0m\u001b[0;34m,\u001b[0m \u001b[0mkwargs\u001b[0m\u001b[0;34m,\u001b[0m \u001b[0mcheckers\u001b[0m\u001b[0;34m,\u001b[0m \u001b[0mis_method\u001b[0m\u001b[0;34m=\u001b[0m\u001b[0mis_method\u001b[0m\u001b[0;34m)\u001b[0m\u001b[0;34m\u001b[0m\u001b[0;34m\u001b[0m\u001b[0m\n\u001b[0;32m--> 585\u001b[0;31m         \u001b[0;32mreturn\u001b[0m \u001b[0m__original_func\u001b[0m\u001b[0;34m(\u001b[0m\u001b[0;34m*\u001b[0m\u001b[0margs_\u001b[0m\u001b[0;34m,\u001b[0m \u001b[0;34m**\u001b[0m\u001b[0mkwargs_\u001b[0m\u001b[0;34m)\u001b[0m\u001b[0;34m\u001b[0m\u001b[0;34m\u001b[0m\u001b[0m\n\u001b[0m\u001b[1;32m    586\u001b[0m \u001b[0;34m\u001b[0m\u001b[0m\n\u001b[1;32m    587\u001b[0m     \u001b[0;32mreturn\u001b[0m \u001b[0mwrapper\u001b[0m\u001b[0;34m\u001b[0m\u001b[0;34m\u001b[0m\u001b[0m\n",
      "\u001b[0;32m/opt/conda/envs/gwas/lib/python3.7/site-packages/hail/table.py\u001b[0m in \u001b[0;36mwrite\u001b[0;34m(self, output, overwrite, stage_locally, _codec_spec)\u001b[0m\n\u001b[1;32m   1216\u001b[0m         \"\"\"\n\u001b[1;32m   1217\u001b[0m \u001b[0;34m\u001b[0m\u001b[0m\n\u001b[0;32m-> 1218\u001b[0;31m         \u001b[0mEnv\u001b[0m\u001b[0;34m.\u001b[0m\u001b[0mbackend\u001b[0m\u001b[0;34m(\u001b[0m\u001b[0;34m)\u001b[0m\u001b[0;34m.\u001b[0m\u001b[0mexecute\u001b[0m\u001b[0;34m(\u001b[0m\u001b[0mTableWrite\u001b[0m\u001b[0;34m(\u001b[0m\u001b[0mself\u001b[0m\u001b[0;34m.\u001b[0m\u001b[0m_tir\u001b[0m\u001b[0;34m,\u001b[0m \u001b[0mTableNativeWriter\u001b[0m\u001b[0;34m(\u001b[0m\u001b[0moutput\u001b[0m\u001b[0;34m,\u001b[0m \u001b[0moverwrite\u001b[0m\u001b[0;34m,\u001b[0m \u001b[0mstage_locally\u001b[0m\u001b[0;34m,\u001b[0m \u001b[0m_codec_spec\u001b[0m\u001b[0;34m)\u001b[0m\u001b[0;34m)\u001b[0m\u001b[0;34m)\u001b[0m\u001b[0;34m\u001b[0m\u001b[0;34m\u001b[0m\u001b[0m\n\u001b[0m\u001b[1;32m   1219\u001b[0m \u001b[0;34m\u001b[0m\u001b[0m\n\u001b[1;32m   1220\u001b[0m     \u001b[0;32mdef\u001b[0m \u001b[0m_show\u001b[0m\u001b[0;34m(\u001b[0m\u001b[0mself\u001b[0m\u001b[0;34m,\u001b[0m \u001b[0mn\u001b[0m\u001b[0;34m,\u001b[0m \u001b[0mwidth\u001b[0m\u001b[0;34m,\u001b[0m \u001b[0mtruncate\u001b[0m\u001b[0;34m,\u001b[0m \u001b[0mtypes\u001b[0m\u001b[0;34m)\u001b[0m\u001b[0;34m:\u001b[0m\u001b[0;34m\u001b[0m\u001b[0;34m\u001b[0m\u001b[0m\n",
      "\u001b[0;32m/opt/conda/envs/gwas/lib/python3.7/site-packages/hail/backend/backend.py\u001b[0m in \u001b[0;36mexecute\u001b[0;34m(self, ir, timed)\u001b[0m\n\u001b[1;32m    107\u001b[0m \u001b[0;34m\u001b[0m\u001b[0m\n\u001b[1;32m    108\u001b[0m     \u001b[0;32mdef\u001b[0m \u001b[0mexecute\u001b[0m\u001b[0;34m(\u001b[0m\u001b[0mself\u001b[0m\u001b[0;34m,\u001b[0m \u001b[0mir\u001b[0m\u001b[0;34m,\u001b[0m \u001b[0mtimed\u001b[0m\u001b[0;34m=\u001b[0m\u001b[0;32mFalse\u001b[0m\u001b[0;34m)\u001b[0m\u001b[0;34m:\u001b[0m\u001b[0;34m\u001b[0m\u001b[0;34m\u001b[0m\u001b[0m\n\u001b[0;32m--> 109\u001b[0;31m         \u001b[0mresult\u001b[0m \u001b[0;34m=\u001b[0m \u001b[0mjson\u001b[0m\u001b[0;34m.\u001b[0m\u001b[0mloads\u001b[0m\u001b[0;34m(\u001b[0m\u001b[0mEnv\u001b[0m\u001b[0;34m.\u001b[0m\u001b[0mhc\u001b[0m\u001b[0;34m(\u001b[0m\u001b[0;34m)\u001b[0m\u001b[0;34m.\u001b[0m\u001b[0m_jhc\u001b[0m\u001b[0;34m.\u001b[0m\u001b[0mbackend\u001b[0m\u001b[0;34m(\u001b[0m\u001b[0;34m)\u001b[0m\u001b[0;34m.\u001b[0m\u001b[0mexecuteJSON\u001b[0m\u001b[0;34m(\u001b[0m\u001b[0mself\u001b[0m\u001b[0;34m.\u001b[0m\u001b[0m_to_java_ir\u001b[0m\u001b[0;34m(\u001b[0m\u001b[0mir\u001b[0m\u001b[0;34m)\u001b[0m\u001b[0;34m)\u001b[0m\u001b[0;34m)\u001b[0m\u001b[0;34m\u001b[0m\u001b[0;34m\u001b[0m\u001b[0m\n\u001b[0m\u001b[1;32m    110\u001b[0m         \u001b[0mvalue\u001b[0m \u001b[0;34m=\u001b[0m \u001b[0mir\u001b[0m\u001b[0;34m.\u001b[0m\u001b[0mtyp\u001b[0m\u001b[0;34m.\u001b[0m\u001b[0m_from_json\u001b[0m\u001b[0;34m(\u001b[0m\u001b[0mresult\u001b[0m\u001b[0;34m[\u001b[0m\u001b[0;34m'value'\u001b[0m\u001b[0;34m]\u001b[0m\u001b[0;34m)\u001b[0m\u001b[0;34m\u001b[0m\u001b[0;34m\u001b[0m\u001b[0m\n\u001b[1;32m    111\u001b[0m         \u001b[0mtimings\u001b[0m \u001b[0;34m=\u001b[0m \u001b[0mresult\u001b[0m\u001b[0;34m[\u001b[0m\u001b[0;34m'timings'\u001b[0m\u001b[0;34m]\u001b[0m\u001b[0;34m\u001b[0m\u001b[0;34m\u001b[0m\u001b[0m\n",
      "\u001b[0;32m/opt/conda/envs/gwas/lib/python3.7/site-packages/py4j/java_gateway.py\u001b[0m in \u001b[0;36m__call__\u001b[0;34m(self, *args)\u001b[0m\n\u001b[1;32m   1255\u001b[0m         \u001b[0manswer\u001b[0m \u001b[0;34m=\u001b[0m \u001b[0mself\u001b[0m\u001b[0;34m.\u001b[0m\u001b[0mgateway_client\u001b[0m\u001b[0;34m.\u001b[0m\u001b[0msend_command\u001b[0m\u001b[0;34m(\u001b[0m\u001b[0mcommand\u001b[0m\u001b[0;34m)\u001b[0m\u001b[0;34m\u001b[0m\u001b[0;34m\u001b[0m\u001b[0m\n\u001b[1;32m   1256\u001b[0m         return_value = get_return_value(\n\u001b[0;32m-> 1257\u001b[0;31m             answer, self.gateway_client, self.target_id, self.name)\n\u001b[0m\u001b[1;32m   1258\u001b[0m \u001b[0;34m\u001b[0m\u001b[0m\n\u001b[1;32m   1259\u001b[0m         \u001b[0;32mfor\u001b[0m \u001b[0mtemp_arg\u001b[0m \u001b[0;32min\u001b[0m \u001b[0mtemp_args\u001b[0m\u001b[0;34m:\u001b[0m\u001b[0;34m\u001b[0m\u001b[0;34m\u001b[0m\u001b[0m\n",
      "\u001b[0;32m/opt/conda/envs/gwas/lib/python3.7/site-packages/hail/utils/java.py\u001b[0m in \u001b[0;36mdeco\u001b[0;34m(*args, **kwargs)\u001b[0m\n\u001b[1;32m    211\u001b[0m         \u001b[0;32mimport\u001b[0m \u001b[0mpyspark\u001b[0m\u001b[0;34m\u001b[0m\u001b[0;34m\u001b[0m\u001b[0m\n\u001b[1;32m    212\u001b[0m         \u001b[0;32mtry\u001b[0m\u001b[0;34m:\u001b[0m\u001b[0;34m\u001b[0m\u001b[0;34m\u001b[0m\u001b[0m\n\u001b[0;32m--> 213\u001b[0;31m             \u001b[0;32mreturn\u001b[0m \u001b[0mf\u001b[0m\u001b[0;34m(\u001b[0m\u001b[0;34m*\u001b[0m\u001b[0margs\u001b[0m\u001b[0;34m,\u001b[0m \u001b[0;34m**\u001b[0m\u001b[0mkwargs\u001b[0m\u001b[0;34m)\u001b[0m\u001b[0;34m\u001b[0m\u001b[0;34m\u001b[0m\u001b[0m\n\u001b[0m\u001b[1;32m    214\u001b[0m         \u001b[0;32mexcept\u001b[0m \u001b[0mpy4j\u001b[0m\u001b[0;34m.\u001b[0m\u001b[0mprotocol\u001b[0m\u001b[0;34m.\u001b[0m\u001b[0mPy4JJavaError\u001b[0m \u001b[0;32mas\u001b[0m \u001b[0me\u001b[0m\u001b[0;34m:\u001b[0m\u001b[0;34m\u001b[0m\u001b[0;34m\u001b[0m\u001b[0m\n\u001b[1;32m    215\u001b[0m             \u001b[0ms\u001b[0m \u001b[0;34m=\u001b[0m \u001b[0me\u001b[0m\u001b[0;34m.\u001b[0m\u001b[0mjava_exception\u001b[0m\u001b[0;34m.\u001b[0m\u001b[0mtoString\u001b[0m\u001b[0;34m(\u001b[0m\u001b[0;34m)\u001b[0m\u001b[0;34m\u001b[0m\u001b[0;34m\u001b[0m\u001b[0m\n",
      "\u001b[0;32m/opt/conda/envs/gwas/lib/python3.7/site-packages/py4j/protocol.py\u001b[0m in \u001b[0;36mget_return_value\u001b[0;34m(answer, gateway_client, target_id, name)\u001b[0m\n\u001b[1;32m    334\u001b[0m             raise Py4JError(\n\u001b[1;32m    335\u001b[0m                 \u001b[0;34m\"An error occurred while calling {0}{1}{2}\"\u001b[0m\u001b[0;34m.\u001b[0m\u001b[0;34m\u001b[0m\u001b[0;34m\u001b[0m\u001b[0m\n\u001b[0;32m--> 336\u001b[0;31m                 format(target_id, \".\", name))\n\u001b[0m\u001b[1;32m    337\u001b[0m     \u001b[0;32melse\u001b[0m\u001b[0;34m:\u001b[0m\u001b[0;34m\u001b[0m\u001b[0;34m\u001b[0m\u001b[0m\n\u001b[1;32m    338\u001b[0m         \u001b[0mtype\u001b[0m \u001b[0;34m=\u001b[0m \u001b[0manswer\u001b[0m\u001b[0;34m[\u001b[0m\u001b[0;36m1\u001b[0m\u001b[0;34m]\u001b[0m\u001b[0;34m\u001b[0m\u001b[0;34m\u001b[0m\u001b[0m\n",
      "\u001b[0;31mPy4JError\u001b[0m: An error occurred while calling o806.executeJSON"
     ]
    }
   ],
   "source": [
    "for i in range(1000, 30001, 1000):\n",
    "    samples = i\n",
    "    variants = samples * 5\n",
    "    do_experiment(\"simple_1_to_5_sample_to_variant_cpu_8_ram_31\", samples=samples, variants=variants, populations=10)"
   ]
  },
  {
   "cell_type": "code",
   "execution_count": 6,
   "metadata": {
    "scrolled": true
   },
   "outputs": [
    {
     "name": "stderr",
     "output_type": "stream",
     "text": [
      "2020-04-24 02:40:26 Hail: INFO: hwe_normalized_pca: running PCA using 10000 variants.\n",
      "2020-04-24 02:40:27 Hail: INFO: pca: running PCA with 10 components...\n"
     ]
    },
    {
     "name": "stdout",
     "output_type": "stream",
     "text": [
      "PCA took s:1000, v:10000, p:10 : 15.42 seconds\n"
     ]
    },
    {
     "name": "stderr",
     "output_type": "stream",
     "text": [
      "2020-04-24 02:40:40 Hail: INFO: Wrote all 3 blocks of 10000 x 1000 matrix with block size 4096.\n",
      "2020-04-24 02:40:41 Hail: INFO: wrote matrix with 11 rows and 10000 columns as 3 blocks of size 4096 to file:/tmp/hail.rnK2opE09VTK/0WW9Kafui7.bm\n",
      "2020-04-24 02:40:42 Hail: INFO: wrote matrix with 10000 rows and 1000 columns as 3 blocks of size 4096 to file:/tmp/hail.rnK2opE09VTK/pTFYpc5Coa.bm\n",
      "2020-04-24 02:40:42 Hail: INFO: wrote matrix with 10000 rows and 1000 columns as 3 blocks of size 4096 to file:/tmp/hail.rnK2opE09VTK/YCNn0HQKqV.bm\n",
      "2020-04-24 02:40:44 Hail: INFO: wrote matrix with 1000 rows and 1000 columns as 1 block of size 4096 to file:/tmp/hail.rnK2opE09VTK/1cauyIwC9W.bm\n",
      "2020-04-24 02:40:46 Hail: INFO: wrote matrix with 1000 rows and 1000 columns as 1 block of size 4096 to file:/tmp/hail.rnK2opE09VTK/wGQwM3Al6W.bm\n",
      "2020-04-24 02:40:46 Hail: INFO: wrote matrix with 1000 rows and 1000 columns as 1 block of size 4096 to file:/tmp/hail.rnK2opE09VTK/JER5f25v6w.bm\n",
      "2020-04-24 02:40:51 Hail: INFO: wrote matrix with 1000 rows and 1000 columns as 1 block of size 4096 to file:/tmp/hail.rnK2opE09VTK/ERfLPFRpRV.bm\n",
      "2020-04-24 02:40:53 Hail: INFO: wrote matrix with 1000 rows and 1000 columns as 1 block of size 4096 to file:/tmp/hail.rnK2opE09VTK/PDDADaVCEc.bm\n",
      "2020-04-24 02:40:53 Hail: INFO: wrote matrix with 1000 rows and 1000 columns as 1 block of size 4096 to file:/tmp/hail.rnK2opE09VTK/gXyiUnyrbL.bm\n",
      "2020-04-24 02:40:56 Hail: INFO: wrote matrix with 1000 rows and 1000 columns as 1 block of size 4096 to file:/tmp/hail.rnK2opE09VTK/qfZBihIzf1.bm\n",
      "2020-04-24 02:40:58 Hail: INFO: wrote matrix with 1000 rows and 1000 columns as 1 block of size 4096 to file:/tmp/hail.rnK2opE09VTK/Inie4ofPyO.bm\n",
      "2020-04-24 02:40:59 Hail: INFO: wrote matrix with 1000 rows and 1000 columns as 1 block of size 4096 to file:/tmp/hail.rnK2opE09VTK/YjKvEKxL1L.bm\n",
      "2020-04-24 02:41:00 Hail: INFO: Ordering unsorted dataset with network shuffle\n",
      "2020-04-24 02:41:04 Hail: INFO: Coerced sorted dataset\n",
      "2020-04-24 02:41:08 Hail: INFO: wrote table with 499500 rows in 1 partition to /tmp/tmpq31y3eut/pc_relate_result\n",
      "2020-04-24 02:41:08 Hail: INFO: balding_nichols_model: generating genotypes for 10 populations, 1500 samples, and 10000 variants...\n"
     ]
    },
    {
     "name": "stdout",
     "output_type": "stream",
     "text": [
      "Deleting pc_relate results: /tmp/tmpq31y3eut/pc_relate_result\n",
      "Deleting hail tmp dir: /tmp/hail.rnK2opE09VTK\n"
     ]
    },
    {
     "name": "stderr",
     "output_type": "stream",
     "text": [
      "2020-04-24 02:41:09 Hail: INFO: Coerced sorted dataset\n",
      "2020-04-24 02:41:12 Hail: INFO: wrote matrix table with 10000 rows and 1500 columns in 8 partitions to /home/rav/data/tmp/mt_1500_10000_10.mt\n",
      "2020-04-24 02:41:12 Hail: INFO: hwe_normalized_pca: running PCA using 10000 variants.\n",
      "2020-04-24 02:41:13 Hail: INFO: pca: running PCA with 10 components...\n"
     ]
    },
    {
     "name": "stdout",
     "output_type": "stream",
     "text": [
      "PCA took s:1500, v:10000, p:10 : 11.48 seconds\n"
     ]
    },
    {
     "name": "stderr",
     "output_type": "stream",
     "text": [
      "2020-04-24 02:41:25 Hail: INFO: Wrote all 3 blocks of 10000 x 1500 matrix with block size 4096.\n",
      "2020-04-24 02:41:26 Hail: INFO: wrote matrix with 11 rows and 10000 columns as 3 blocks of size 4096 to file:/tmp/hail.rnK2opE09VTK/0yBW2PSyUz.bm\n",
      "2020-04-24 02:41:26 Hail: INFO: wrote matrix with 10000 rows and 1500 columns as 3 blocks of size 4096 to file:/tmp/hail.rnK2opE09VTK/jBTrWk0YJp.bm\n",
      "2020-04-24 02:41:26 Hail: INFO: wrote matrix with 10000 rows and 1500 columns as 3 blocks of size 4096 to file:/tmp/hail.rnK2opE09VTK/yIf5gC3Pl4.bm\n",
      "2020-04-24 02:41:31 Hail: INFO: wrote matrix with 1500 rows and 1500 columns as 1 block of size 4096 to file:/tmp/hail.rnK2opE09VTK/hrwOljeg0i.bm\n",
      "2020-04-24 02:41:36 Hail: INFO: wrote matrix with 1500 rows and 1500 columns as 1 block of size 4096 to file:/tmp/hail.rnK2opE09VTK/hV40dtMbgG.bm\n",
      "2020-04-24 02:41:36 Hail: INFO: wrote matrix with 1500 rows and 1500 columns as 1 block of size 4096 to file:/tmp/hail.rnK2opE09VTK/eWuwCnb7JL.bm\n",
      "2020-04-24 02:41:44 Hail: INFO: wrote matrix with 1500 rows and 1500 columns as 1 block of size 4096 to file:/tmp/hail.rnK2opE09VTK/tosqnIatxl.bm\n",
      "2020-04-24 02:41:48 Hail: INFO: wrote matrix with 1500 rows and 1500 columns as 1 block of size 4096 to file:/tmp/hail.rnK2opE09VTK/pTcX0eJjXE.bm\n",
      "2020-04-24 02:41:49 Hail: INFO: wrote matrix with 1500 rows and 1500 columns as 1 block of size 4096 to file:/tmp/hail.rnK2opE09VTK/6zaCce2Z4A.bm\n",
      "2020-04-24 02:41:54 Hail: INFO: wrote matrix with 1500 rows and 1500 columns as 1 block of size 4096 to file:/tmp/hail.rnK2opE09VTK/cpzS7NmEOw.bm\n",
      "2020-04-24 02:42:00 Hail: INFO: wrote matrix with 1500 rows and 1500 columns as 1 block of size 4096 to file:/tmp/hail.rnK2opE09VTK/aVgblBvupW.bm\n",
      "2020-04-24 02:42:00 Hail: INFO: wrote matrix with 1500 rows and 1500 columns as 1 block of size 4096 to file:/tmp/hail.rnK2opE09VTK/IERDxLWQGb.bm\n",
      "2020-04-24 02:42:02 Hail: INFO: Ordering unsorted dataset with network shuffle\n",
      "2020-04-24 02:42:12 Hail: INFO: Coerced sorted dataset\n",
      "2020-04-24 02:42:20 Hail: INFO: wrote table with 1124250 rows in 1 partition to /tmp/tmpf1_yqmik/pc_relate_result\n"
     ]
    },
    {
     "name": "stdout",
     "output_type": "stream",
     "text": [
      "Deleting pc_relate results: /tmp/tmpf1_yqmik/pc_relate_result\n",
      "Deleting hail tmp dir: /tmp/hail.rnK2opE09VTK\n"
     ]
    },
    {
     "name": "stderr",
     "output_type": "stream",
     "text": [
      "2020-04-24 02:42:20 Hail: INFO: hwe_normalized_pca: running PCA using 10000 variants.\n",
      "2020-04-24 02:42:21 Hail: INFO: pca: running PCA with 10 components...\n"
     ]
    },
    {
     "name": "stdout",
     "output_type": "stream",
     "text": [
      "PCA took s:2000, v:10000, p:10 : 9.40 seconds\n"
     ]
    },
    {
     "name": "stderr",
     "output_type": "stream",
     "text": [
      "2020-04-24 02:42:32 Hail: INFO: Wrote all 3 blocks of 10000 x 2000 matrix with block size 4096.\n",
      "2020-04-24 02:42:33 Hail: INFO: wrote matrix with 11 rows and 10000 columns as 3 blocks of size 4096 to file:/tmp/hail.rnK2opE09VTK/jhiDknRc8n.bm\n",
      "2020-04-24 02:42:33 Hail: INFO: wrote matrix with 10000 rows and 2000 columns as 3 blocks of size 4096 to file:/tmp/hail.rnK2opE09VTK/oDT98mlhP6.bm\n",
      "2020-04-24 02:42:34 Hail: INFO: wrote matrix with 10000 rows and 2000 columns as 3 blocks of size 4096 to file:/tmp/hail.rnK2opE09VTK/S6pbqATPGr.bm\n",
      "2020-04-24 02:42:42 Hail: INFO: wrote matrix with 2000 rows and 2000 columns as 1 block of size 4096 to file:/tmp/hail.rnK2opE09VTK/UeJdvRUlKq.bm\n",
      "2020-04-24 02:42:51 Hail: INFO: wrote matrix with 2000 rows and 2000 columns as 1 block of size 4096 to file:/tmp/hail.rnK2opE09VTK/QE7xUdw5IW.bm\n",
      "2020-04-24 02:42:51 Hail: INFO: wrote matrix with 2000 rows and 2000 columns as 1 block of size 4096 to file:/tmp/hail.rnK2opE09VTK/OUnI9Cre3s.bm\n",
      "2020-04-24 02:43:02 Hail: INFO: wrote matrix with 2000 rows and 2000 columns as 1 block of size 4096 to file:/tmp/hail.rnK2opE09VTK/f0Sz0ntaXx.bm\n",
      "2020-04-24 02:43:10 Hail: INFO: wrote matrix with 2000 rows and 2000 columns as 1 block of size 4096 to file:/tmp/hail.rnK2opE09VTK/pDZqEAitOU.bm\n",
      "2020-04-24 02:43:11 Hail: INFO: wrote matrix with 2000 rows and 2000 columns as 1 block of size 4096 to file:/tmp/hail.rnK2opE09VTK/I5nVQgbOFJ.bm\n",
      "2020-04-24 02:43:21 Hail: INFO: wrote matrix with 2000 rows and 2000 columns as 1 block of size 4096 to file:/tmp/hail.rnK2opE09VTK/bzDHg6C8w8.bm\n",
      "2020-04-24 02:43:30 Hail: INFO: wrote matrix with 2000 rows and 2000 columns as 1 block of size 4096 to file:/tmp/hail.rnK2opE09VTK/IVNr0hpMSV.bm\n",
      "2020-04-24 02:43:30 Hail: INFO: wrote matrix with 2000 rows and 2000 columns as 1 block of size 4096 to file:/tmp/hail.rnK2opE09VTK/5jPC6e40iK.bm\n",
      "2020-04-24 02:43:34 Hail: INFO: Ordering unsorted dataset with network shuffle\n",
      "2020-04-24 02:43:52 Hail: INFO: Coerced sorted dataset\n",
      "2020-04-24 02:44:05 Hail: INFO: wrote table with 1999000 rows in 1 partition to /tmp/tmp0te9dqzj/pc_relate_result\n",
      "2020-04-24 02:44:05 Hail: INFO: balding_nichols_model: generating genotypes for 10 populations, 2500 samples, and 10000 variants...\n"
     ]
    },
    {
     "name": "stdout",
     "output_type": "stream",
     "text": [
      "Deleting pc_relate results: /tmp/tmp0te9dqzj/pc_relate_result\n",
      "Deleting hail tmp dir: /tmp/hail.rnK2opE09VTK\n"
     ]
    },
    {
     "name": "stderr",
     "output_type": "stream",
     "text": [
      "2020-04-24 02:44:06 Hail: INFO: Coerced sorted dataset\n",
      "2020-04-24 02:44:10 Hail: INFO: wrote matrix table with 10000 rows and 2500 columns in 8 partitions to /home/rav/data/tmp/mt_2500_10000_10.mt\n",
      "2020-04-24 02:44:10 Hail: INFO: hwe_normalized_pca: running PCA using 10000 variants.\n",
      "2020-04-24 02:44:12 Hail: INFO: pca: running PCA with 10 components...\n"
     ]
    },
    {
     "name": "stdout",
     "output_type": "stream",
     "text": [
      "PCA took s:2500, v:10000, p:10 : 14.82 seconds\n"
     ]
    },
    {
     "name": "stderr",
     "output_type": "stream",
     "text": [
      "2020-04-24 02:44:28 Hail: INFO: Wrote all 3 blocks of 10000 x 2500 matrix with block size 4096.\n",
      "2020-04-24 02:44:29 Hail: INFO: wrote matrix with 11 rows and 10000 columns as 3 blocks of size 4096 to file:/tmp/hail.rnK2opE09VTK/NWd2S7K23b.bm\n",
      "2020-04-24 02:44:29 Hail: INFO: wrote matrix with 10000 rows and 2500 columns as 3 blocks of size 4096 to file:/tmp/hail.rnK2opE09VTK/ZLBBRq06W5.bm\n",
      "2020-04-24 02:44:30 Hail: INFO: wrote matrix with 10000 rows and 2500 columns as 3 blocks of size 4096 to file:/tmp/hail.rnK2opE09VTK/mCZtyFaMuR.bm\n",
      "2020-04-24 02:44:43 Hail: INFO: wrote matrix with 2500 rows and 2500 columns as 1 block of size 4096 to file:/tmp/hail.rnK2opE09VTK/pcOHbyQZpa.bm\n",
      "2020-04-24 02:44:56 Hail: INFO: wrote matrix with 2500 rows and 2500 columns as 1 block of size 4096 to file:/tmp/hail.rnK2opE09VTK/vmPlGOAgKd.bm\n",
      "2020-04-24 02:44:56 Hail: INFO: wrote matrix with 2500 rows and 2500 columns as 1 block of size 4096 to file:/tmp/hail.rnK2opE09VTK/hKpgocmetu.bm\n",
      "2020-04-24 02:45:12 Hail: INFO: wrote matrix with 2500 rows and 2500 columns as 1 block of size 4096 to file:/tmp/hail.rnK2opE09VTK/2msA4FsSRN.bm\n",
      "2020-04-24 02:45:25 Hail: INFO: wrote matrix with 2500 rows and 2500 columns as 1 block of size 4096 to file:/tmp/hail.rnK2opE09VTK/FHLPft5Usm.bm\n",
      "2020-04-24 02:45:25 Hail: INFO: wrote matrix with 2500 rows and 2500 columns as 1 block of size 4096 to file:/tmp/hail.rnK2opE09VTK/COejzp1tDR.bm\n",
      "2020-04-24 02:45:40 Hail: INFO: wrote matrix with 2500 rows and 2500 columns as 1 block of size 4096 to file:/tmp/hail.rnK2opE09VTK/7J7QwKvnF0.bm\n",
      "2020-04-24 02:45:55 Hail: INFO: wrote matrix with 2500 rows and 2500 columns as 1 block of size 4096 to file:/tmp/hail.rnK2opE09VTK/0C8WQQWZLY.bm\n",
      "2020-04-24 02:45:56 Hail: INFO: wrote matrix with 2500 rows and 2500 columns as 1 block of size 4096 to file:/tmp/hail.rnK2opE09VTK/LJ0hyqhTaJ.bm\n",
      "2020-04-24 02:46:01 Hail: INFO: Ordering unsorted dataset with network shuffle\n",
      "2020-04-24 02:46:30 Hail: INFO: Coerced sorted dataset\n",
      "2020-04-24 02:46:54 Hail: INFO: wrote table with 3123750 rows in 1 partition to /tmp/tmps2dh2ez_/pc_relate_result\n"
     ]
    },
    {
     "name": "stdout",
     "output_type": "stream",
     "text": [
      "Deleting pc_relate results: /tmp/tmps2dh2ez_/pc_relate_result\n",
      "Deleting hail tmp dir: /tmp/hail.rnK2opE09VTK\n"
     ]
    },
    {
     "name": "stderr",
     "output_type": "stream",
     "text": [
      "2020-04-24 02:46:55 Hail: INFO: hwe_normalized_pca: running PCA using 10000 variants.\n",
      "2020-04-24 02:46:56 Hail: INFO: pca: running PCA with 10 components...\n"
     ]
    },
    {
     "name": "stdout",
     "output_type": "stream",
     "text": [
      "PCA took s:3000, v:10000, p:10 : 13.18 seconds\n"
     ]
    },
    {
     "name": "stderr",
     "output_type": "stream",
     "text": [
      "2020-04-24 02:47:12 Hail: INFO: Wrote all 3 blocks of 10000 x 3000 matrix with block size 4096.\n",
      "2020-04-24 02:47:12 Hail: INFO: wrote matrix with 11 rows and 10000 columns as 3 blocks of size 4096 to file:/tmp/hail.rnK2opE09VTK/AYR4cfEIV3.bm\n",
      "2020-04-24 02:47:13 Hail: INFO: wrote matrix with 10000 rows and 3000 columns as 3 blocks of size 4096 to file:/tmp/hail.rnK2opE09VTK/FCnPh92TUU.bm\n",
      "2020-04-24 02:47:13 Hail: INFO: wrote matrix with 10000 rows and 3000 columns as 3 blocks of size 4096 to file:/tmp/hail.rnK2opE09VTK/tluBEVbNOy.bm\n",
      "2020-04-24 02:47:32 Hail: INFO: wrote matrix with 3000 rows and 3000 columns as 1 block of size 4096 to file:/tmp/hail.rnK2opE09VTK/8F2PCIw06E.bm\n",
      "2020-04-24 02:47:51 Hail: INFO: wrote matrix with 3000 rows and 3000 columns as 1 block of size 4096 to file:/tmp/hail.rnK2opE09VTK/sIIuvmmPrO.bm\n",
      "2020-04-24 02:47:51 Hail: INFO: wrote matrix with 3000 rows and 3000 columns as 1 block of size 4096 to file:/tmp/hail.rnK2opE09VTK/2jXm1lQRyp.bm\n",
      "2020-04-24 02:48:15 Hail: INFO: wrote matrix with 3000 rows and 3000 columns as 1 block of size 4096 to file:/tmp/hail.rnK2opE09VTK/T6hHSTx8tM.bm\n",
      "2020-04-24 02:48:33 Hail: INFO: wrote matrix with 3000 rows and 3000 columns as 1 block of size 4096 to file:/tmp/hail.rnK2opE09VTK/trY8rhHqej.bm\n",
      "2020-04-24 02:48:33 Hail: INFO: wrote matrix with 3000 rows and 3000 columns as 1 block of size 4096 to file:/tmp/hail.rnK2opE09VTK/suK6IOJrFd.bm\n",
      "2020-04-24 02:48:54 Hail: INFO: wrote matrix with 3000 rows and 3000 columns as 1 block of size 4096 to file:/tmp/hail.rnK2opE09VTK/E9NFeMhQoM.bm\n",
      "2020-04-24 02:49:14 Hail: INFO: wrote matrix with 3000 rows and 3000 columns as 1 block of size 4096 to file:/tmp/hail.rnK2opE09VTK/pkNeZ7qVSR.bm\n",
      "2020-04-24 02:49:15 Hail: INFO: wrote matrix with 3000 rows and 3000 columns as 1 block of size 4096 to file:/tmp/hail.rnK2opE09VTK/jVx9wFduUe.bm\n",
      "2020-04-24 02:49:23 Hail: INFO: Ordering unsorted dataset with network shuffle\n",
      "2020-04-24 02:50:05 Hail: INFO: Coerced sorted dataset\n",
      "2020-04-24 02:50:34 Hail: INFO: wrote table with 4498500 rows in 1 partition to /tmp/tmpea4oqzq1/pc_relate_result\n",
      "2020-04-24 02:50:34 Hail: INFO: balding_nichols_model: generating genotypes for 10 populations, 3500 samples, and 10000 variants...\n"
     ]
    },
    {
     "name": "stdout",
     "output_type": "stream",
     "text": [
      "Deleting pc_relate results: /tmp/tmpea4oqzq1/pc_relate_result\n",
      "Deleting hail tmp dir: /tmp/hail.rnK2opE09VTK\n"
     ]
    },
    {
     "name": "stderr",
     "output_type": "stream",
     "text": [
      "2020-04-24 02:50:35 Hail: INFO: Coerced sorted dataset\n",
      "2020-04-24 02:50:40 Hail: INFO: wrote matrix table with 10000 rows and 3500 columns in 8 partitions to /home/rav/data/tmp/mt_3500_10000_10.mt\n",
      "2020-04-24 02:50:41 Hail: INFO: hwe_normalized_pca: running PCA using 10000 variants.\n",
      "2020-04-24 02:50:42 Hail: INFO: pca: running PCA with 10 components...\n"
     ]
    },
    {
     "name": "stdout",
     "output_type": "stream",
     "text": [
      "PCA took s:3500, v:10000, p:10 : 15.29 seconds\n"
     ]
    },
    {
     "name": "stderr",
     "output_type": "stream",
     "text": [
      "2020-04-24 02:50:59 Hail: INFO: Wrote all 3 blocks of 10000 x 3500 matrix with block size 4096.\n",
      "2020-04-24 02:51:00 Hail: INFO: wrote matrix with 11 rows and 10000 columns as 3 blocks of size 4096 to file:/tmp/hail.rnK2opE09VTK/tkhoM9GIBs.bm\n",
      "2020-04-24 02:51:01 Hail: INFO: wrote matrix with 10000 rows and 3500 columns as 3 blocks of size 4096 to file:/tmp/hail.rnK2opE09VTK/lurbhNEfO1.bm\n",
      "2020-04-24 02:51:02 Hail: INFO: wrote matrix with 10000 rows and 3500 columns as 3 blocks of size 4096 to file:/tmp/hail.rnK2opE09VTK/bPLxhDNmc8.bm\n",
      "2020-04-24 02:51:27 Hail: INFO: wrote matrix with 3500 rows and 3500 columns as 1 block of size 4096 to file:/tmp/hail.rnK2opE09VTK/IPFWEYblmK.bm\n",
      "2020-04-24 02:51:52 Hail: INFO: wrote matrix with 3500 rows and 3500 columns as 1 block of size 4096 to file:/tmp/hail.rnK2opE09VTK/TPi5RFoA5i.bm\n",
      "2020-04-24 02:51:52 Hail: INFO: wrote matrix with 3500 rows and 3500 columns as 1 block of size 4096 to file:/tmp/hail.rnK2opE09VTK/X2pesuwFsx.bm\n",
      "2020-04-24 02:52:23 Hail: INFO: wrote matrix with 3500 rows and 3500 columns as 1 block of size 4096 to file:/tmp/hail.rnK2opE09VTK/AfKzGd6G1I.bm\n",
      "2020-04-24 02:52:47 Hail: INFO: wrote matrix with 3500 rows and 3500 columns as 1 block of size 4096 to file:/tmp/hail.rnK2opE09VTK/WjPLuJwJlD.bm\n",
      "2020-04-24 02:52:48 Hail: INFO: wrote matrix with 3500 rows and 3500 columns as 1 block of size 4096 to file:/tmp/hail.rnK2opE09VTK/38dM4NIoEG.bm\n",
      "2020-04-24 02:53:15 Hail: INFO: wrote matrix with 3500 rows and 3500 columns as 1 block of size 4096 to file:/tmp/hail.rnK2opE09VTK/bJGkdoGrqP.bm\n",
      "2020-04-24 02:53:42 Hail: INFO: wrote matrix with 3500 rows and 3500 columns as 1 block of size 4096 to file:/tmp/hail.rnK2opE09VTK/MLZYTHmn4l.bm\n",
      "2020-04-24 02:53:43 Hail: INFO: wrote matrix with 3500 rows and 3500 columns as 1 block of size 4096 to file:/tmp/hail.rnK2opE09VTK/cKL7yx3Hd5.bm\n",
      "2020-04-24 02:53:57 Hail: INFO: Ordering unsorted dataset with network shuffle\n",
      "2020-04-24 02:54:51 Hail: INFO: Coerced sorted dataset\n",
      "2020-04-24 02:55:31 Hail: INFO: wrote table with 6123250 rows in 1 partition to /tmp/tmpuy836stt/pc_relate_result\n"
     ]
    },
    {
     "name": "stdout",
     "output_type": "stream",
     "text": [
      "Deleting pc_relate results: /tmp/tmpuy836stt/pc_relate_result\n",
      "Deleting hail tmp dir: /tmp/hail.rnK2opE09VTK\n"
     ]
    },
    {
     "name": "stderr",
     "output_type": "stream",
     "text": [
      "2020-04-24 02:55:32 Hail: INFO: hwe_normalized_pca: running PCA using 10000 variants.\n",
      "2020-04-24 02:55:34 Hail: INFO: pca: running PCA with 10 components...\n"
     ]
    },
    {
     "name": "stdout",
     "output_type": "stream",
     "text": [
      "PCA took s:4000, v:10000, p:10 : 18.80 seconds\n"
     ]
    },
    {
     "name": "stderr",
     "output_type": "stream",
     "text": [
      "2020-04-24 02:55:55 Hail: INFO: Wrote all 3 blocks of 10000 x 4000 matrix with block size 4096.\n",
      "2020-04-24 02:55:56 Hail: INFO: wrote matrix with 11 rows and 10000 columns as 3 blocks of size 4096 to file:/tmp/hail.rnK2opE09VTK/CEBFNDBegO.bm\n",
      "2020-04-24 02:55:56 Hail: INFO: wrote matrix with 10000 rows and 4000 columns as 3 blocks of size 4096 to file:/tmp/hail.rnK2opE09VTK/UUo0LPPE6y.bm\n",
      "2020-04-24 02:55:57 Hail: INFO: wrote matrix with 10000 rows and 4000 columns as 3 blocks of size 4096 to file:/tmp/hail.rnK2opE09VTK/yXVhTxt70E.bm\n",
      "2020-04-24 02:56:30 Hail: INFO: wrote matrix with 4000 rows and 4000 columns as 1 block of size 4096 to file:/tmp/hail.rnK2opE09VTK/FZ3bJkQSfV.bm\n",
      "2020-04-24 02:57:03 Hail: INFO: wrote matrix with 4000 rows and 4000 columns as 1 block of size 4096 to file:/tmp/hail.rnK2opE09VTK/2Hvhn8TPNu.bm\n",
      "2020-04-24 02:57:03 Hail: INFO: wrote matrix with 4000 rows and 4000 columns as 1 block of size 4096 to file:/tmp/hail.rnK2opE09VTK/hwAecIyaEJ.bm\n",
      "2020-04-24 02:57:43 Hail: INFO: wrote matrix with 4000 rows and 4000 columns as 1 block of size 4096 to file:/tmp/hail.rnK2opE09VTK/AvA7pWmHte.bm\n",
      "2020-04-24 02:58:15 Hail: INFO: wrote matrix with 4000 rows and 4000 columns as 1 block of size 4096 to file:/tmp/hail.rnK2opE09VTK/03WmsAvFEi.bm\n",
      "2020-04-24 02:58:16 Hail: INFO: wrote matrix with 4000 rows and 4000 columns as 1 block of size 4096 to file:/tmp/hail.rnK2opE09VTK/sCWlSJionz.bm\n",
      "2020-04-24 02:58:51 Hail: INFO: wrote matrix with 4000 rows and 4000 columns as 1 block of size 4096 to file:/tmp/hail.rnK2opE09VTK/2NMBcYBTyL.bm\n",
      "2020-04-24 02:59:27 Hail: INFO: wrote matrix with 4000 rows and 4000 columns as 1 block of size 4096 to file:/tmp/hail.rnK2opE09VTK/UVlRgA6KN6.bm\n",
      "2020-04-24 02:59:29 Hail: INFO: wrote matrix with 4000 rows and 4000 columns as 1 block of size 4096 to file:/tmp/hail.rnK2opE09VTK/1O3zJyp4l1.bm\n",
      "2020-04-24 02:59:44 Hail: INFO: Ordering unsorted dataset with network shuffle\n",
      "2020-04-24 03:00:55 Hail: INFO: Coerced sorted dataset\n",
      "2020-04-24 03:01:47 Hail: INFO: wrote table with 7998000 rows in 1 partition to /tmp/tmpxhqz6r90/pc_relate_result\n"
     ]
    },
    {
     "name": "stdout",
     "output_type": "stream",
     "text": [
      "Deleting pc_relate results: /tmp/tmpxhqz6r90/pc_relate_result\n",
      "Deleting hail tmp dir: /tmp/hail.rnK2opE09VTK\n"
     ]
    },
    {
     "name": "stderr",
     "output_type": "stream",
     "text": [
      "2020-04-24 03:01:47 Hail: INFO: balding_nichols_model: generating genotypes for 10 populations, 4500 samples, and 10000 variants...\n",
      "2020-04-24 03:01:48 Hail: INFO: Coerced sorted dataset\n",
      "2020-04-24 03:01:55 Hail: INFO: wrote matrix table with 10000 rows and 4500 columns in 8 partitions to /home/rav/data/tmp/mt_4500_10000_10.mt\n",
      "2020-04-24 03:01:56 Hail: INFO: hwe_normalized_pca: running PCA using 10000 variants.\n",
      "2020-04-24 03:01:57 Hail: INFO: pca: running PCA with 10 components...\n"
     ]
    },
    {
     "name": "stdout",
     "output_type": "stream",
     "text": [
      "PCA took s:4500, v:10000, p:10 : 17.20 seconds\n"
     ]
    },
    {
     "name": "stderr",
     "output_type": "stream",
     "text": [
      "2020-04-24 03:02:17 Hail: INFO: Wrote all 6 blocks of 10000 x 4500 matrix with block size 4096.\n",
      "2020-04-24 03:02:18 Hail: INFO: wrote matrix with 11 rows and 10000 columns as 3 blocks of size 4096 to file:/tmp/hail.rnK2opE09VTK/U3JYCJ6Y4J.bm\n",
      "2020-04-24 03:02:19 Hail: INFO: wrote matrix with 10000 rows and 4500 columns as 6 blocks of size 4096 to file:/tmp/hail.rnK2opE09VTK/kPWvvVICGj.bm\n",
      "2020-04-24 03:02:20 Hail: INFO: wrote matrix with 10000 rows and 4500 columns as 6 blocks of size 4096 to file:/tmp/hail.rnK2opE09VTK/5cNWhvFbSR.bm\n",
      "2020-04-24 03:02:54 Hail: INFO: wrote matrix with 4500 rows and 4500 columns as 4 blocks of size 4096 to file:/tmp/hail.rnK2opE09VTK/H31rlIhjQn.bm\n",
      "2020-04-24 03:03:27 Hail: INFO: wrote matrix with 4500 rows and 4500 columns as 4 blocks of size 4096 to file:/tmp/hail.rnK2opE09VTK/ba3FhpGhIy.bm\n",
      "2020-04-24 03:03:28 Hail: INFO: wrote matrix with 4500 rows and 4500 columns as 4 blocks of size 4096 to file:/tmp/hail.rnK2opE09VTK/cct4yQzLf0.bm\n",
      "2020-04-24 03:04:05 Hail: INFO: wrote matrix with 4500 rows and 4500 columns as 4 blocks of size 4096 to file:/tmp/hail.rnK2opE09VTK/tjJf3aWUvl.bm\n",
      "2020-04-24 03:04:40 Hail: INFO: wrote matrix with 4500 rows and 4500 columns as 4 blocks of size 4096 to file:/tmp/hail.rnK2opE09VTK/taYgxkBckK.bm\n",
      "2020-04-24 03:04:40 Hail: INFO: wrote matrix with 4500 rows and 4500 columns as 4 blocks of size 4096 to file:/tmp/hail.rnK2opE09VTK/QmiBLe1rFU.bm\n",
      "2020-04-24 03:05:17 Hail: INFO: wrote matrix with 4500 rows and 4500 columns as 4 blocks of size 4096 to file:/tmp/hail.rnK2opE09VTK/fiTPl3hXdd.bm\n",
      "2020-04-24 03:05:55 Hail: INFO: wrote matrix with 4500 rows and 4500 columns as 4 blocks of size 4096 to file:/tmp/hail.rnK2opE09VTK/RHQ9Lbvuiv.bm\n",
      "2020-04-24 03:05:57 Hail: INFO: wrote matrix with 4500 rows and 4500 columns as 4 blocks of size 4096 to file:/tmp/hail.rnK2opE09VTK/bpiZjIFkbW.bm\n",
      "2020-04-24 03:06:13 Hail: INFO: Ordering unsorted dataset with network shuffle\n",
      "2020-04-24 03:07:15 Hail: INFO: Coerced sorted dataset\n",
      "2020-04-24 03:07:54 Hail: INFO: wrote table with 10122750 rows in 4 partitions to /tmp/tmphhif8_4p/pc_relate_result\n"
     ]
    },
    {
     "name": "stdout",
     "output_type": "stream",
     "text": [
      "Deleting pc_relate results: /tmp/tmphhif8_4p/pc_relate_result\n",
      "Deleting hail tmp dir: /tmp/hail.rnK2opE09VTK\n"
     ]
    },
    {
     "name": "stderr",
     "output_type": "stream",
     "text": [
      "2020-04-24 03:07:55 Hail: INFO: hwe_normalized_pca: running PCA using 10000 variants.\n",
      "2020-04-24 03:07:57 Hail: INFO: pca: running PCA with 10 components...\n"
     ]
    },
    {
     "name": "stdout",
     "output_type": "stream",
     "text": [
      "PCA took s:5000, v:10000, p:10 : 17.20 seconds\n"
     ]
    },
    {
     "name": "stderr",
     "output_type": "stream",
     "text": [
      "2020-04-24 03:08:17 Hail: INFO: Wrote all 6 blocks of 10000 x 5000 matrix with block size 4096.\n",
      "2020-04-24 03:08:18 Hail: INFO: wrote matrix with 11 rows and 10000 columns as 3 blocks of size 4096 to file:/tmp/hail.rnK2opE09VTK/dTXoTvo0y6.bm\n",
      "2020-04-24 03:08:18 Hail: INFO: wrote matrix with 10000 rows and 5000 columns as 6 blocks of size 4096 to file:/tmp/hail.rnK2opE09VTK/gpBPy6oeoS.bm\n",
      "2020-04-24 03:08:19 Hail: INFO: wrote matrix with 10000 rows and 5000 columns as 6 blocks of size 4096 to file:/tmp/hail.rnK2opE09VTK/XiDRcS9nzK.bm\n",
      "2020-04-24 03:08:54 Hail: INFO: wrote matrix with 5000 rows and 5000 columns as 4 blocks of size 4096 to file:/tmp/hail.rnK2opE09VTK/UejLpAN1lO.bm\n",
      "2020-04-24 03:09:28 Hail: INFO: wrote matrix with 5000 rows and 5000 columns as 4 blocks of size 4096 to file:/tmp/hail.rnK2opE09VTK/EiexxWh7MH.bm\n",
      "2020-04-24 03:09:28 Hail: INFO: wrote matrix with 5000 rows and 5000 columns as 4 blocks of size 4096 to file:/tmp/hail.rnK2opE09VTK/haRcuWhDeS.bm\n",
      "2020-04-24 03:10:05 Hail: INFO: wrote matrix with 5000 rows and 5000 columns as 4 blocks of size 4096 to file:/tmp/hail.rnK2opE09VTK/kste1v9Tbu.bm\n",
      "2020-04-24 03:10:39 Hail: INFO: wrote matrix with 5000 rows and 5000 columns as 4 blocks of size 4096 to file:/tmp/hail.rnK2opE09VTK/x6vF5TkRSZ.bm\n",
      "2020-04-24 03:10:40 Hail: INFO: wrote matrix with 5000 rows and 5000 columns as 4 blocks of size 4096 to file:/tmp/hail.rnK2opE09VTK/7nIX6sPbCo.bm\n",
      "2020-04-24 03:11:17 Hail: INFO: wrote matrix with 5000 rows and 5000 columns as 4 blocks of size 4096 to file:/tmp/hail.rnK2opE09VTK/HSAJ4Kt3yq.bm\n",
      "2020-04-24 03:11:54 Hail: INFO: wrote matrix with 5000 rows and 5000 columns as 4 blocks of size 4096 to file:/tmp/hail.rnK2opE09VTK/5NZrQmJDCk.bm\n",
      "2020-04-24 03:11:58 Hail: INFO: wrote matrix with 5000 rows and 5000 columns as 4 blocks of size 4096 to file:/tmp/hail.rnK2opE09VTK/wp0qD3KJZt.bm\n",
      "2020-04-24 03:12:13 Hail: INFO: Ordering unsorted dataset with network shuffle\n",
      "2020-04-24 03:13:19 Hail: INFO: Coerced sorted dataset\n",
      "2020-04-24 03:13:55 Hail: INFO: wrote table with 12497500 rows in 4 partitions to /tmp/tmpmp8bn2ji/pc_relate_result\n"
     ]
    },
    {
     "name": "stdout",
     "output_type": "stream",
     "text": [
      "Deleting pc_relate results: /tmp/tmpmp8bn2ji/pc_relate_result\n",
      "Deleting hail tmp dir: /tmp/hail.rnK2opE09VTK\n"
     ]
    },
    {
     "name": "stderr",
     "output_type": "stream",
     "text": [
      "2020-04-24 03:13:56 Hail: INFO: balding_nichols_model: generating genotypes for 10 populations, 5500 samples, and 10000 variants...\n",
      "2020-04-24 03:13:56 Hail: INFO: Coerced sorted dataset\n",
      "2020-04-24 03:14:07 Hail: INFO: wrote matrix table with 10000 rows and 5500 columns in 8 partitions to /home/rav/data/tmp/mt_5500_10000_10.mt\n",
      "2020-04-24 03:14:07 Hail: INFO: hwe_normalized_pca: running PCA using 10000 variants.\n",
      "2020-04-24 03:14:09 Hail: INFO: pca: running PCA with 10 components...\n"
     ]
    },
    {
     "name": "stdout",
     "output_type": "stream",
     "text": [
      "PCA took s:5500, v:10000, p:10 : 17.91 seconds\n"
     ]
    },
    {
     "name": "stderr",
     "output_type": "stream",
     "text": [
      "2020-04-24 03:14:30 Hail: INFO: Wrote all 6 blocks of 10000 x 5500 matrix with block size 4096.\n",
      "2020-04-24 03:14:32 Hail: INFO: wrote matrix with 11 rows and 10000 columns as 3 blocks of size 4096 to file:/tmp/hail.rnK2opE09VTK/NHwySdhr8v.bm\n",
      "2020-04-24 03:14:32 Hail: INFO: wrote matrix with 10000 rows and 5500 columns as 6 blocks of size 4096 to file:/tmp/hail.rnK2opE09VTK/aNdqzKnaz6.bm\n",
      "2020-04-24 03:14:33 Hail: INFO: wrote matrix with 10000 rows and 5500 columns as 6 blocks of size 4096 to file:/tmp/hail.rnK2opE09VTK/NyoaNoSlRg.bm\n",
      "2020-04-24 03:15:07 Hail: INFO: wrote matrix with 5500 rows and 5500 columns as 4 blocks of size 4096 to file:/tmp/hail.rnK2opE09VTK/VQMf4EcsZQ.bm\n",
      "2020-04-24 03:15:41 Hail: INFO: wrote matrix with 5500 rows and 5500 columns as 4 blocks of size 4096 to file:/tmp/hail.rnK2opE09VTK/5ybeNCXwKR.bm\n",
      "2020-04-24 03:15:42 Hail: INFO: wrote matrix with 5500 rows and 5500 columns as 4 blocks of size 4096 to file:/tmp/hail.rnK2opE09VTK/sIojeeB56k.bm\n",
      "2020-04-24 03:16:19 Hail: INFO: wrote matrix with 5500 rows and 5500 columns as 4 blocks of size 4096 to file:/tmp/hail.rnK2opE09VTK/An5SfOr7Nt.bm\n",
      "2020-04-24 03:16:53 Hail: INFO: wrote matrix with 5500 rows and 5500 columns as 4 blocks of size 4096 to file:/tmp/hail.rnK2opE09VTK/YiSfpTB74Q.bm\n",
      "2020-04-24 03:16:54 Hail: INFO: wrote matrix with 5500 rows and 5500 columns as 4 blocks of size 4096 to file:/tmp/hail.rnK2opE09VTK/ssHK6xiIti.bm\n",
      "2020-04-24 03:17:32 Hail: INFO: wrote matrix with 5500 rows and 5500 columns as 4 blocks of size 4096 to file:/tmp/hail.rnK2opE09VTK/RtXx1I3cNP.bm\n",
      "2020-04-24 03:18:09 Hail: INFO: wrote matrix with 5500 rows and 5500 columns as 4 blocks of size 4096 to file:/tmp/hail.rnK2opE09VTK/9pjnPB9hCX.bm\n",
      "2020-04-24 03:18:11 Hail: INFO: wrote matrix with 5500 rows and 5500 columns as 4 blocks of size 4096 to file:/tmp/hail.rnK2opE09VTK/1ishhEFEui.bm\n",
      "2020-04-24 03:18:27 Hail: INFO: Ordering unsorted dataset with network shuffle\n",
      "2020-04-24 03:19:35 Hail: INFO: Coerced sorted dataset\n",
      "2020-04-24 03:20:26 Hail: INFO: wrote table with 15122250 rows in 4 partitions to /tmp/tmpcxv8uowh/pc_relate_result\n"
     ]
    },
    {
     "name": "stdout",
     "output_type": "stream",
     "text": [
      "Deleting pc_relate results: /tmp/tmpcxv8uowh/pc_relate_result\n",
      "Deleting hail tmp dir: /tmp/hail.rnK2opE09VTK\n"
     ]
    },
    {
     "name": "stderr",
     "output_type": "stream",
     "text": [
      "2020-04-24 03:20:26 Hail: INFO: balding_nichols_model: generating genotypes for 10 populations, 6000 samples, and 10000 variants...\n",
      "2020-04-24 03:20:27 Hail: INFO: Coerced sorted dataset\n",
      "2020-04-24 03:20:37 Hail: INFO: wrote matrix table with 10000 rows and 6000 columns in 8 partitions to /home/rav/data/tmp/mt_6000_10000_10.mt\n",
      "2020-04-24 03:20:37 Hail: INFO: hwe_normalized_pca: running PCA using 10000 variants.\n",
      "2020-04-24 03:20:40 Hail: INFO: pca: running PCA with 10 components...\n"
     ]
    },
    {
     "name": "stdout",
     "output_type": "stream",
     "text": [
      "PCA took s:6000, v:10000, p:10 : 22.32 seconds\n"
     ]
    },
    {
     "name": "stderr",
     "output_type": "stream",
     "text": [
      "2020-04-24 03:21:05 Hail: INFO: Wrote all 6 blocks of 10000 x 6000 matrix with block size 4096.\n",
      "2020-04-24 03:21:07 Hail: INFO: wrote matrix with 11 rows and 10000 columns as 3 blocks of size 4096 to file:/tmp/hail.rnK2opE09VTK/GMWlm5KMLm.bm\n",
      "2020-04-24 03:21:07 Hail: INFO: wrote matrix with 10000 rows and 6000 columns as 6 blocks of size 4096 to file:/tmp/hail.rnK2opE09VTK/q62cbyAroh.bm\n",
      "2020-04-24 03:21:08 Hail: INFO: wrote matrix with 10000 rows and 6000 columns as 6 blocks of size 4096 to file:/tmp/hail.rnK2opE09VTK/hN95jZhCnU.bm\n",
      "2020-04-24 03:21:43 Hail: INFO: wrote matrix with 6000 rows and 6000 columns as 4 blocks of size 4096 to file:/tmp/hail.rnK2opE09VTK/8S2uGI6sLq.bm\n",
      "2020-04-24 03:22:16 Hail: INFO: wrote matrix with 6000 rows and 6000 columns as 4 blocks of size 4096 to file:/tmp/hail.rnK2opE09VTK/LV8tXg50aa.bm\n",
      "2020-04-24 03:22:17 Hail: INFO: wrote matrix with 6000 rows and 6000 columns as 4 blocks of size 4096 to file:/tmp/hail.rnK2opE09VTK/4Pn3G32fpq.bm\n",
      "2020-04-24 03:22:55 Hail: INFO: wrote matrix with 6000 rows and 6000 columns as 4 blocks of size 4096 to file:/tmp/hail.rnK2opE09VTK/kADiFgGEYK.bm\n",
      "2020-04-24 03:23:29 Hail: INFO: wrote matrix with 6000 rows and 6000 columns as 4 blocks of size 4096 to file:/tmp/hail.rnK2opE09VTK/Y9JvybZsse.bm\n",
      "2020-04-24 03:23:30 Hail: INFO: wrote matrix with 6000 rows and 6000 columns as 4 blocks of size 4096 to file:/tmp/hail.rnK2opE09VTK/3ADoDf18uu.bm\n",
      "2020-04-24 03:24:11 Hail: INFO: wrote matrix with 6000 rows and 6000 columns as 4 blocks of size 4096 to file:/tmp/hail.rnK2opE09VTK/hu1dHiFAgw.bm\n",
      "2020-04-24 03:24:48 Hail: INFO: wrote matrix with 6000 rows and 6000 columns as 4 blocks of size 4096 to file:/tmp/hail.rnK2opE09VTK/nrp8BOy88T.bm\n",
      "2020-04-24 03:24:49 Hail: INFO: wrote matrix with 6000 rows and 6000 columns as 4 blocks of size 4096 to file:/tmp/hail.rnK2opE09VTK/j1t2FZsVdZ.bm\n",
      "2020-04-24 03:25:06 Hail: INFO: Ordering unsorted dataset with network shuffle\n",
      "2020-04-24 03:26:22 Hail: INFO: Coerced sorted dataset\n",
      "2020-04-24 03:27:24 Hail: INFO: wrote table with 17997000 rows in 4 partitions to /tmp/tmpv9bqlshb/pc_relate_result\n"
     ]
    },
    {
     "name": "stdout",
     "output_type": "stream",
     "text": [
      "Deleting pc_relate results: /tmp/tmpv9bqlshb/pc_relate_result\n",
      "Deleting hail tmp dir: /tmp/hail.rnK2opE09VTK\n"
     ]
    },
    {
     "name": "stderr",
     "output_type": "stream",
     "text": [
      "2020-04-24 03:27:25 Hail: INFO: balding_nichols_model: generating genotypes for 10 populations, 6500 samples, and 10000 variants...\n",
      "2020-04-24 03:27:25 Hail: INFO: Coerced sorted dataset\n",
      "2020-04-24 03:27:35 Hail: INFO: wrote matrix table with 10000 rows and 6500 columns in 8 partitions to /home/rav/data/tmp/mt_6500_10000_10.mt\n",
      "2020-04-24 03:27:36 Hail: INFO: hwe_normalized_pca: running PCA using 10000 variants.\n",
      "2020-04-24 03:27:38 Hail: INFO: pca: running PCA with 10 components...\n"
     ]
    },
    {
     "name": "stdout",
     "output_type": "stream",
     "text": [
      "PCA took s:6500, v:10000, p:10 : 21.28 seconds\n"
     ]
    },
    {
     "name": "stderr",
     "output_type": "stream",
     "text": [
      "2020-04-24 03:28:03 Hail: INFO: Wrote all 6 blocks of 10000 x 6500 matrix with block size 4096.\n",
      "2020-04-24 03:28:05 Hail: INFO: wrote matrix with 11 rows and 10000 columns as 3 blocks of size 4096 to file:/tmp/hail.rnK2opE09VTK/BlGnOFTz0N.bm\n",
      "2020-04-24 03:28:05 Hail: INFO: wrote matrix with 10000 rows and 6500 columns as 6 blocks of size 4096 to file:/tmp/hail.rnK2opE09VTK/Ylc7Wiq9ZE.bm\n",
      "2020-04-24 03:28:06 Hail: INFO: wrote matrix with 10000 rows and 6500 columns as 6 blocks of size 4096 to file:/tmp/hail.rnK2opE09VTK/KZd31J8FyL.bm\n",
      "2020-04-24 03:28:40 Hail: INFO: wrote matrix with 6500 rows and 6500 columns as 4 blocks of size 4096 to file:/tmp/hail.rnK2opE09VTK/8ukrCXfQHs.bm\n",
      "2020-04-24 03:29:15 Hail: INFO: wrote matrix with 6500 rows and 6500 columns as 4 blocks of size 4096 to file:/tmp/hail.rnK2opE09VTK/ECQqk5TrMj.bm\n",
      "2020-04-24 03:29:16 Hail: INFO: wrote matrix with 6500 rows and 6500 columns as 4 blocks of size 4096 to file:/tmp/hail.rnK2opE09VTK/MTCLMxyRhE.bm\n",
      "2020-04-24 03:29:58 Hail: INFO: wrote matrix with 6500 rows and 6500 columns as 4 blocks of size 4096 to file:/tmp/hail.rnK2opE09VTK/lSbRHMq18Y.bm\n",
      "2020-04-24 03:30:32 Hail: INFO: wrote matrix with 6500 rows and 6500 columns as 4 blocks of size 4096 to file:/tmp/hail.rnK2opE09VTK/TtIsbEPSw6.bm\n",
      "2020-04-24 03:30:32 Hail: INFO: wrote matrix with 6500 rows and 6500 columns as 4 blocks of size 4096 to file:/tmp/hail.rnK2opE09VTK/l0S2yPy9AO.bm\n",
      "2020-04-24 03:31:10 Hail: INFO: wrote matrix with 6500 rows and 6500 columns as 4 blocks of size 4096 to file:/tmp/hail.rnK2opE09VTK/G2TSlxTrlH.bm\n",
      "2020-04-24 03:31:51 Hail: INFO: wrote matrix with 6500 rows and 6500 columns as 4 blocks of size 4096 to file:/tmp/hail.rnK2opE09VTK/DhNVJwvlzu.bm\n",
      "2020-04-24 03:31:53 Hail: INFO: wrote matrix with 6500 rows and 6500 columns as 4 blocks of size 4096 to file:/tmp/hail.rnK2opE09VTK/Um0IafdT38.bm\n",
      "2020-04-24 03:32:11 Hail: INFO: Ordering unsorted dataset with network shuffle\n",
      "2020-04-24 03:33:51 Hail: INFO: Coerced sorted dataset\n",
      "2020-04-24 03:34:56 Hail: INFO: wrote table with 21121750 rows in 4 partitions to /tmp/tmp5y5woa2_/pc_relate_result\n"
     ]
    },
    {
     "name": "stdout",
     "output_type": "stream",
     "text": [
      "Deleting pc_relate results: /tmp/tmp5y5woa2_/pc_relate_result\n",
      "Deleting hail tmp dir: /tmp/hail.rnK2opE09VTK\n"
     ]
    },
    {
     "name": "stderr",
     "output_type": "stream",
     "text": [
      "2020-04-24 03:34:56 Hail: INFO: balding_nichols_model: generating genotypes for 10 populations, 7000 samples, and 10000 variants...\n",
      "2020-04-24 03:34:57 Hail: INFO: Coerced sorted dataset\n",
      "2020-04-24 03:35:08 Hail: INFO: wrote matrix table with 10000 rows and 7000 columns in 8 partitions to /home/rav/data/tmp/mt_7000_10000_10.mt\n",
      "2020-04-24 03:35:09 Hail: INFO: hwe_normalized_pca: running PCA using 10000 variants.\n",
      "2020-04-24 03:35:11 Hail: INFO: pca: running PCA with 10 components...\n"
     ]
    },
    {
     "name": "stdout",
     "output_type": "stream",
     "text": [
      "PCA took s:7000, v:10000, p:10 : 21.18 seconds\n"
     ]
    },
    {
     "name": "stderr",
     "output_type": "stream",
     "text": [
      "2020-04-24 03:35:36 Hail: INFO: Wrote all 6 blocks of 10000 x 7000 matrix with block size 4096.\n",
      "2020-04-24 03:35:38 Hail: INFO: wrote matrix with 11 rows and 10000 columns as 3 blocks of size 4096 to file:/tmp/hail.rnK2opE09VTK/W2XnNhSdi6.bm\n",
      "2020-04-24 03:35:39 Hail: INFO: wrote matrix with 10000 rows and 7000 columns as 6 blocks of size 4096 to file:/tmp/hail.rnK2opE09VTK/X7ZOSXdTvV.bm\n",
      "2020-04-24 03:35:40 Hail: INFO: wrote matrix with 10000 rows and 7000 columns as 6 blocks of size 4096 to file:/tmp/hail.rnK2opE09VTK/HlOc5kQLDW.bm\n",
      "2020-04-24 03:36:14 Hail: INFO: wrote matrix with 7000 rows and 7000 columns as 4 blocks of size 4096 to file:/tmp/hail.rnK2opE09VTK/BDYmwG55Ui.bm\n",
      "2020-04-24 03:36:48 Hail: INFO: wrote matrix with 7000 rows and 7000 columns as 4 blocks of size 4096 to file:/tmp/hail.rnK2opE09VTK/7nC4ns3G1u.bm\n",
      "2020-04-24 03:36:49 Hail: INFO: wrote matrix with 7000 rows and 7000 columns as 4 blocks of size 4096 to file:/tmp/hail.rnK2opE09VTK/QOAtgRUcuY.bm\n",
      "2020-04-24 03:37:36 Hail: INFO: wrote matrix with 7000 rows and 7000 columns as 4 blocks of size 4096 to file:/tmp/hail.rnK2opE09VTK/enLwq8orXP.bm\n",
      "2020-04-24 03:38:13 Hail: INFO: wrote matrix with 7000 rows and 7000 columns as 4 blocks of size 4096 to file:/tmp/hail.rnK2opE09VTK/VlIS4DDl1E.bm\n",
      "2020-04-24 03:38:13 Hail: INFO: wrote matrix with 7000 rows and 7000 columns as 4 blocks of size 4096 to file:/tmp/hail.rnK2opE09VTK/5YszpHdfsf.bm\n",
      "2020-04-24 03:38:55 Hail: INFO: wrote matrix with 7000 rows and 7000 columns as 4 blocks of size 4096 to file:/tmp/hail.rnK2opE09VTK/Oc0d9hUaWb.bm\n",
      "2020-04-24 03:39:36 Hail: INFO: wrote matrix with 7000 rows and 7000 columns as 4 blocks of size 4096 to file:/tmp/hail.rnK2opE09VTK/npfkPvHYLw.bm\n",
      "2020-04-24 03:39:39 Hail: INFO: wrote matrix with 7000 rows and 7000 columns as 4 blocks of size 4096 to file:/tmp/hail.rnK2opE09VTK/sIPD4Ff8vZ.bm\n",
      "2020-04-24 03:40:06 Hail: INFO: Ordering unsorted dataset with network shuffle\n",
      "2020-04-24 03:42:09 Hail: INFO: Coerced sorted dataset\n",
      "2020-04-24 03:43:22 Hail: INFO: wrote table with 24496500 rows in 4 partitions to /tmp/tmpphlcqc_i/pc_relate_result\n"
     ]
    },
    {
     "name": "stdout",
     "output_type": "stream",
     "text": [
      "Deleting pc_relate results: /tmp/tmpphlcqc_i/pc_relate_result\n",
      "Deleting hail tmp dir: /tmp/hail.rnK2opE09VTK\n"
     ]
    },
    {
     "name": "stderr",
     "output_type": "stream",
     "text": [
      "2020-04-24 03:43:23 Hail: INFO: balding_nichols_model: generating genotypes for 10 populations, 7500 samples, and 10000 variants...\n",
      "2020-04-24 03:43:24 Hail: INFO: Coerced sorted dataset\n",
      "2020-04-24 03:43:37 Hail: INFO: wrote matrix table with 10000 rows and 7500 columns in 8 partitions to /home/rav/data/tmp/mt_7500_10000_10.mt\n",
      "2020-04-24 03:43:38 Hail: INFO: hwe_normalized_pca: running PCA using 10000 variants.\n",
      "2020-04-24 03:43:41 Hail: INFO: pca: running PCA with 10 components...\n"
     ]
    },
    {
     "name": "stdout",
     "output_type": "stream",
     "text": [
      "PCA took s:7500, v:10000, p:10 : 25.56 seconds\n"
     ]
    },
    {
     "name": "stderr",
     "output_type": "stream",
     "text": [
      "2020-04-24 03:44:11 Hail: INFO: Wrote all 6 blocks of 10000 x 7500 matrix with block size 4096.\n",
      "2020-04-24 03:44:12 Hail: INFO: wrote matrix with 11 rows and 10000 columns as 3 blocks of size 4096 to file:/tmp/hail.rnK2opE09VTK/h7htbWReAJ.bm\n",
      "2020-04-24 03:44:13 Hail: INFO: wrote matrix with 10000 rows and 7500 columns as 6 blocks of size 4096 to file:/tmp/hail.rnK2opE09VTK/QSW68rhD6k.bm\n",
      "2020-04-24 03:44:14 Hail: INFO: wrote matrix with 10000 rows and 7500 columns as 6 blocks of size 4096 to file:/tmp/hail.rnK2opE09VTK/nQh73nshgj.bm\n",
      "2020-04-24 03:44:53 Hail: INFO: wrote matrix with 7500 rows and 7500 columns as 4 blocks of size 4096 to file:/tmp/hail.rnK2opE09VTK/bM1Zw93DeQ.bm\n",
      "2020-04-24 03:45:30 Hail: INFO: wrote matrix with 7500 rows and 7500 columns as 4 blocks of size 4096 to file:/tmp/hail.rnK2opE09VTK/pWzutJ5635.bm\n",
      "2020-04-24 03:45:30 Hail: INFO: wrote matrix with 7500 rows and 7500 columns as 4 blocks of size 4096 to file:/tmp/hail.rnK2opE09VTK/P2GJwnYbrs.bm\n",
      "2020-04-24 03:46:16 Hail: INFO: wrote matrix with 7500 rows and 7500 columns as 4 blocks of size 4096 to file:/tmp/hail.rnK2opE09VTK/hYr7iSKIuX.bm\n",
      "2020-04-24 03:46:53 Hail: INFO: wrote matrix with 7500 rows and 7500 columns as 4 blocks of size 4096 to file:/tmp/hail.rnK2opE09VTK/H3oEmoeS2I.bm\n",
      "2020-04-24 03:46:54 Hail: INFO: wrote matrix with 7500 rows and 7500 columns as 4 blocks of size 4096 to file:/tmp/hail.rnK2opE09VTK/UrFt0Q0V93.bm\n",
      "2020-04-24 03:47:35 Hail: INFO: wrote matrix with 7500 rows and 7500 columns as 4 blocks of size 4096 to file:/tmp/hail.rnK2opE09VTK/cj3hfxSnMO.bm\n",
      "2020-04-24 03:48:16 Hail: INFO: wrote matrix with 7500 rows and 7500 columns as 4 blocks of size 4096 to file:/tmp/hail.rnK2opE09VTK/76WxwTMfJH.bm\n",
      "2020-04-24 03:48:18 Hail: INFO: wrote matrix with 7500 rows and 7500 columns as 4 blocks of size 4096 to file:/tmp/hail.rnK2opE09VTK/bArxckSFoX.bm\n",
      "2020-04-24 03:48:46 Hail: INFO: Ordering unsorted dataset with network shuffle\n",
      "2020-04-24 03:51:19 Hail: INFO: Coerced sorted dataset\n",
      "2020-04-24 03:52:23 Hail: INFO: wrote table with 28121250 rows in 4 partitions to /tmp/tmpz96xmqwx/pc_relate_result\n"
     ]
    },
    {
     "name": "stdout",
     "output_type": "stream",
     "text": [
      "Deleting pc_relate results: /tmp/tmpz96xmqwx/pc_relate_result\n",
      "Deleting hail tmp dir: /tmp/hail.rnK2opE09VTK\n"
     ]
    },
    {
     "name": "stderr",
     "output_type": "stream",
     "text": [
      "2020-04-24 03:52:24 Hail: INFO: balding_nichols_model: generating genotypes for 10 populations, 8000 samples, and 10000 variants...\n",
      "2020-04-24 03:52:25 Hail: INFO: Coerced sorted dataset\n",
      "2020-04-24 03:52:39 Hail: INFO: wrote matrix table with 10000 rows and 8000 columns in 8 partitions to /home/rav/data/tmp/mt_8000_10000_10.mt\n",
      "2020-04-24 03:52:40 Hail: INFO: hwe_normalized_pca: running PCA using 10000 variants.\n",
      "2020-04-24 03:52:43 Hail: INFO: pca: running PCA with 10 components...\n"
     ]
    },
    {
     "name": "stdout",
     "output_type": "stream",
     "text": [
      "PCA took s:8000, v:10000, p:10 : 25.65 seconds\n"
     ]
    },
    {
     "name": "stderr",
     "output_type": "stream",
     "text": [
      "2020-04-24 03:53:13 Hail: INFO: Wrote all 6 blocks of 10000 x 8000 matrix with block size 4096.\n",
      "2020-04-24 03:53:15 Hail: INFO: wrote matrix with 11 rows and 10000 columns as 3 blocks of size 4096 to file:/tmp/hail.rnK2opE09VTK/8EmnrmePil.bm\n",
      "2020-04-24 03:53:16 Hail: INFO: wrote matrix with 10000 rows and 8000 columns as 6 blocks of size 4096 to file:/tmp/hail.rnK2opE09VTK/fddMh7VWTF.bm\n",
      "2020-04-24 03:53:17 Hail: INFO: wrote matrix with 10000 rows and 8000 columns as 6 blocks of size 4096 to file:/tmp/hail.rnK2opE09VTK/XB9AKDLvr7.bm\n",
      "2020-04-24 03:53:59 Hail: INFO: wrote matrix with 8000 rows and 8000 columns as 4 blocks of size 4096 to file:/tmp/hail.rnK2opE09VTK/NBDxmtZ4AR.bm\n",
      "2020-04-24 03:54:36 Hail: INFO: wrote matrix with 8000 rows and 8000 columns as 4 blocks of size 4096 to file:/tmp/hail.rnK2opE09VTK/KyFBk0GZgD.bm\n",
      "2020-04-24 03:54:37 Hail: INFO: wrote matrix with 8000 rows and 8000 columns as 4 blocks of size 4096 to file:/tmp/hail.rnK2opE09VTK/5eFPToHVo5.bm\n",
      "2020-04-24 03:55:32 Hail: INFO: wrote matrix with 8000 rows and 8000 columns as 4 blocks of size 4096 to file:/tmp/hail.rnK2opE09VTK/DFt31ixJwk.bm\n",
      "2020-04-24 03:56:09 Hail: INFO: wrote matrix with 8000 rows and 8000 columns as 4 blocks of size 4096 to file:/tmp/hail.rnK2opE09VTK/C4wGVOadYX.bm\n",
      "2020-04-24 03:56:11 Hail: INFO: wrote matrix with 8000 rows and 8000 columns as 4 blocks of size 4096 to file:/tmp/hail.rnK2opE09VTK/PoGM78llok.bm\n",
      "2020-04-24 03:57:05 Hail: INFO: wrote matrix with 8000 rows and 8000 columns as 4 blocks of size 4096 to file:/tmp/hail.rnK2opE09VTK/vO6065ce8j.bm\n",
      "2020-04-24 03:57:49 Hail: INFO: wrote matrix with 8000 rows and 8000 columns as 4 blocks of size 4096 to file:/tmp/hail.rnK2opE09VTK/EqlYHpsMSA.bm\n",
      "2020-04-24 03:57:51 Hail: INFO: wrote matrix with 8000 rows and 8000 columns as 4 blocks of size 4096 to file:/tmp/hail.rnK2opE09VTK/vYCSPB5ete.bm\n",
      "2020-04-24 03:58:24 Hail: INFO: Ordering unsorted dataset with network shuffle\n",
      "2020-04-24 04:01:00 Hail: INFO: Coerced sorted dataset\n",
      "2020-04-24 04:02:12 Hail: INFO: wrote table with 31996000 rows in 4 partitions to /tmp/tmp_utkrf2w/pc_relate_result\n"
     ]
    },
    {
     "name": "stdout",
     "output_type": "stream",
     "text": [
      "Deleting pc_relate results: /tmp/tmp_utkrf2w/pc_relate_result\n",
      "Deleting hail tmp dir: /tmp/hail.rnK2opE09VTK\n"
     ]
    },
    {
     "name": "stderr",
     "output_type": "stream",
     "text": [
      "2020-04-24 04:02:12 Hail: INFO: balding_nichols_model: generating genotypes for 10 populations, 8500 samples, and 10000 variants...\n",
      "2020-04-24 04:02:13 Hail: INFO: Coerced sorted dataset\n",
      "2020-04-24 04:02:28 Hail: INFO: wrote matrix table with 10000 rows and 8500 columns in 8 partitions to /home/rav/data/tmp/mt_8500_10000_10.mt\n",
      "2020-04-24 04:02:30 Hail: INFO: hwe_normalized_pca: running PCA using 10000 variants.\n",
      "2020-04-24 04:02:33 Hail: INFO: pca: running PCA with 10 components...\n"
     ]
    },
    {
     "name": "stdout",
     "output_type": "stream",
     "text": [
      "PCA took s:8500, v:10000, p:10 : 25.76 seconds\n"
     ]
    },
    {
     "name": "stderr",
     "output_type": "stream",
     "text": [
      "2020-04-24 04:03:03 Hail: INFO: Wrote all 9 blocks of 10000 x 8500 matrix with block size 4096.\n",
      "2020-04-24 04:03:05 Hail: INFO: wrote matrix with 11 rows and 10000 columns as 3 blocks of size 4096 to file:/tmp/hail.rnK2opE09VTK/RkOwBEGOJv.bm\n",
      "2020-04-24 04:03:06 Hail: INFO: wrote matrix with 10000 rows and 8500 columns as 9 blocks of size 4096 to file:/tmp/hail.rnK2opE09VTK/MbmafMjAC9.bm\n",
      "2020-04-24 04:03:08 Hail: INFO: wrote matrix with 10000 rows and 8500 columns as 9 blocks of size 4096 to file:/tmp/hail.rnK2opE09VTK/9vAjR06bgH.bm\n",
      "2020-04-24 04:03:50 Hail: INFO: wrote matrix with 8500 rows and 8500 columns as 9 blocks of size 4096 to file:/tmp/hail.rnK2opE09VTK/FIxp7uKttr.bm\n",
      "2020-04-24 04:04:31 Hail: INFO: wrote matrix with 8500 rows and 8500 columns as 9 blocks of size 4096 to file:/tmp/hail.rnK2opE09VTK/6qRZ26ArmM.bm\n",
      "2020-04-24 04:04:32 Hail: INFO: wrote matrix with 8500 rows and 8500 columns as 9 blocks of size 4096 to file:/tmp/hail.rnK2opE09VTK/Qjcy9fZ7Z7.bm\n",
      "2020-04-24 04:05:37 Hail: INFO: wrote matrix with 8500 rows and 8500 columns as 9 blocks of size 4096 to file:/tmp/hail.rnK2opE09VTK/tT9v9Se69M.bm\n",
      "2020-04-24 04:06:20 Hail: INFO: wrote matrix with 8500 rows and 8500 columns as 9 blocks of size 4096 to file:/tmp/hail.rnK2opE09VTK/8LttvGR0h6.bm\n",
      "2020-04-24 04:06:21 Hail: INFO: wrote matrix with 8500 rows and 8500 columns as 9 blocks of size 4096 to file:/tmp/hail.rnK2opE09VTK/fMCIlmwBD7.bm\n",
      "2020-04-24 04:07:08 Hail: INFO: wrote matrix with 8500 rows and 8500 columns as 9 blocks of size 4096 to file:/tmp/hail.rnK2opE09VTK/7UWJScp0mQ.bm\n",
      "ERROR:root:Exception while sending command.\n",
      "Traceback (most recent call last):\n",
      "  File \"/opt/conda/envs/gwas/lib/python3.7/site-packages/py4j/java_gateway.py\", line 1159, in send_command\n",
      "    raise Py4JNetworkError(\"Answer from Java side is empty\")\n",
      "py4j.protocol.Py4JNetworkError: Answer from Java side is empty\n",
      "\n",
      "During handling of the above exception, another exception occurred:\n",
      "\n",
      "Traceback (most recent call last):\n",
      "  File \"/opt/conda/envs/gwas/lib/python3.7/site-packages/py4j/java_gateway.py\", line 985, in send_command\n",
      "    response = connection.send_command(command)\n",
      "  File \"/opt/conda/envs/gwas/lib/python3.7/site-packages/py4j/java_gateway.py\", line 1164, in send_command\n",
      "    \"Error while receiving\", e, proto.ERROR_ON_RECEIVE)\n",
      "py4j.protocol.Py4JNetworkError: Error while receiving\n"
     ]
    },
    {
     "name": "stdout",
     "output_type": "stream",
     "text": [
      "Deleting hail tmp dir: /tmp/hail.rnK2opE09VTK\n"
     ]
    },
    {
     "ename": "Py4JError",
     "evalue": "An error occurred while calling o1451.executeJSON",
     "output_type": "error",
     "traceback": [
      "\u001b[0;31m---------------------------------------------------------------------------\u001b[0m",
      "\u001b[0;31mPy4JError\u001b[0m                                 Traceback (most recent call last)",
      "\u001b[0;32m<ipython-input-6-e210d7391d75>\u001b[0m in \u001b[0;36m<module>\u001b[0;34m\u001b[0m\n\u001b[1;32m      3\u001b[0m     \u001b[0msamples\u001b[0m \u001b[0;34m=\u001b[0m \u001b[0mi\u001b[0m\u001b[0;34m\u001b[0m\u001b[0;34m\u001b[0m\u001b[0m\n\u001b[1;32m      4\u001b[0m     \u001b[0mvariants\u001b[0m \u001b[0;34m=\u001b[0m \u001b[0;36m10000\u001b[0m\u001b[0;34m\u001b[0m\u001b[0;34m\u001b[0m\u001b[0m\n\u001b[0;32m----> 5\u001b[0;31m     \u001b[0mdo_experiment\u001b[0m\u001b[0;34m(\u001b[0m\u001b[0;34m\"simple_fixed_variants_10k_cpu_8_ram_31\"\u001b[0m\u001b[0;34m,\u001b[0m \u001b[0msamples\u001b[0m\u001b[0;34m=\u001b[0m\u001b[0msamples\u001b[0m\u001b[0;34m,\u001b[0m \u001b[0mvariants\u001b[0m\u001b[0;34m=\u001b[0m\u001b[0mvariants\u001b[0m\u001b[0;34m,\u001b[0m \u001b[0mpopulations\u001b[0m\u001b[0;34m=\u001b[0m\u001b[0;36m10\u001b[0m\u001b[0;34m)\u001b[0m\u001b[0;34m\u001b[0m\u001b[0;34m\u001b[0m\u001b[0m\n\u001b[0m",
      "\u001b[0;32m<ipython-input-5-23eac10fcab2>\u001b[0m in \u001b[0;36mdo_experiment\u001b[0;34m(experiment_name, samples, variants, populations)\u001b[0m\n\u001b[1;32m     18\u001b[0m             \u001b[0mpc_relate_result\u001b[0m \u001b[0;34m=\u001b[0m \u001b[0mhl\u001b[0m\u001b[0;34m.\u001b[0m\u001b[0mmethods\u001b[0m\u001b[0;34m.\u001b[0m\u001b[0mpc_relate\u001b[0m\u001b[0;34m(\u001b[0m\u001b[0mmt\u001b[0m\u001b[0;34m.\u001b[0m\u001b[0mGT\u001b[0m\u001b[0;34m,\u001b[0m \u001b[0mscores_expr\u001b[0m\u001b[0;34m=\u001b[0m\u001b[0mscores\u001b[0m\u001b[0;34m[\u001b[0m\u001b[0mmt\u001b[0m\u001b[0;34m.\u001b[0m\u001b[0mcol_key\u001b[0m\u001b[0;34m]\u001b[0m\u001b[0;34m.\u001b[0m\u001b[0mscores\u001b[0m\u001b[0;34m,\u001b[0m \u001b[0mmin_individual_maf\u001b[0m\u001b[0;34m=\u001b[0m\u001b[0;36m0.01\u001b[0m\u001b[0;34m)\u001b[0m\u001b[0;34m\u001b[0m\u001b[0;34m\u001b[0m\u001b[0m\n\u001b[1;32m     19\u001b[0m             \u001b[0mtmp_dir\u001b[0m \u001b[0;34m=\u001b[0m \u001b[0mPath\u001b[0m\u001b[0;34m(\u001b[0m\u001b[0mtempfile\u001b[0m\u001b[0;34m.\u001b[0m\u001b[0mmkdtemp\u001b[0m\u001b[0;34m(\u001b[0m\u001b[0;34m)\u001b[0m\u001b[0;34m)\u001b[0m\u001b[0;34m.\u001b[0m\u001b[0mjoinpath\u001b[0m\u001b[0;34m(\u001b[0m\u001b[0;34m\"pc_relate_result\"\u001b[0m\u001b[0;34m)\u001b[0m\u001b[0;34m\u001b[0m\u001b[0;34m\u001b[0m\u001b[0m\n\u001b[0;32m---> 20\u001b[0;31m             \u001b[0mpc_relate_result\u001b[0m\u001b[0;34m.\u001b[0m\u001b[0mwrite\u001b[0m\u001b[0;34m(\u001b[0m\u001b[0mtmp_dir\u001b[0m\u001b[0;34m.\u001b[0m\u001b[0mas_posix\u001b[0m\u001b[0;34m(\u001b[0m\u001b[0;34m)\u001b[0m\u001b[0;34m)\u001b[0m\u001b[0;34m\u001b[0m\u001b[0;34m\u001b[0m\u001b[0m\n\u001b[0m\u001b[1;32m     21\u001b[0m             \u001b[0mpc_relate_time\u001b[0m \u001b[0;34m=\u001b[0m \u001b[0mtime\u001b[0m\u001b[0;34m.\u001b[0m\u001b[0mtime\u001b[0m\u001b[0;34m(\u001b[0m\u001b[0;34m)\u001b[0m \u001b[0;34m-\u001b[0m \u001b[0mstart\u001b[0m\u001b[0;34m\u001b[0m\u001b[0;34m\u001b[0m\u001b[0m\n\u001b[1;32m     22\u001b[0m             \u001b[0mprint\u001b[0m\u001b[0;34m(\u001b[0m\u001b[0;34mf\"Deleting pc_relate results: {tmp_dir.as_posix()}\"\u001b[0m\u001b[0;34m)\u001b[0m\u001b[0;34m\u001b[0m\u001b[0;34m\u001b[0m\u001b[0m\n",
      "\u001b[0;32m<decorator-gen-1053>\u001b[0m in \u001b[0;36mwrite\u001b[0;34m(self, output, overwrite, stage_locally, _codec_spec)\u001b[0m\n",
      "\u001b[0;32m/opt/conda/envs/gwas/lib/python3.7/site-packages/hail/typecheck/check.py\u001b[0m in \u001b[0;36mwrapper\u001b[0;34m(__original_func, *args, **kwargs)\u001b[0m\n\u001b[1;32m    583\u001b[0m     \u001b[0;32mdef\u001b[0m \u001b[0mwrapper\u001b[0m\u001b[0;34m(\u001b[0m\u001b[0m__original_func\u001b[0m\u001b[0;34m,\u001b[0m \u001b[0;34m*\u001b[0m\u001b[0margs\u001b[0m\u001b[0;34m,\u001b[0m \u001b[0;34m**\u001b[0m\u001b[0mkwargs\u001b[0m\u001b[0;34m)\u001b[0m\u001b[0;34m:\u001b[0m\u001b[0;34m\u001b[0m\u001b[0;34m\u001b[0m\u001b[0m\n\u001b[1;32m    584\u001b[0m         \u001b[0margs_\u001b[0m\u001b[0;34m,\u001b[0m \u001b[0mkwargs_\u001b[0m \u001b[0;34m=\u001b[0m \u001b[0mcheck_all\u001b[0m\u001b[0;34m(\u001b[0m\u001b[0m__original_func\u001b[0m\u001b[0;34m,\u001b[0m \u001b[0margs\u001b[0m\u001b[0;34m,\u001b[0m \u001b[0mkwargs\u001b[0m\u001b[0;34m,\u001b[0m \u001b[0mcheckers\u001b[0m\u001b[0;34m,\u001b[0m \u001b[0mis_method\u001b[0m\u001b[0;34m=\u001b[0m\u001b[0mis_method\u001b[0m\u001b[0;34m)\u001b[0m\u001b[0;34m\u001b[0m\u001b[0;34m\u001b[0m\u001b[0m\n\u001b[0;32m--> 585\u001b[0;31m         \u001b[0;32mreturn\u001b[0m \u001b[0m__original_func\u001b[0m\u001b[0;34m(\u001b[0m\u001b[0;34m*\u001b[0m\u001b[0margs_\u001b[0m\u001b[0;34m,\u001b[0m \u001b[0;34m**\u001b[0m\u001b[0mkwargs_\u001b[0m\u001b[0;34m)\u001b[0m\u001b[0;34m\u001b[0m\u001b[0;34m\u001b[0m\u001b[0m\n\u001b[0m\u001b[1;32m    586\u001b[0m \u001b[0;34m\u001b[0m\u001b[0m\n\u001b[1;32m    587\u001b[0m     \u001b[0;32mreturn\u001b[0m \u001b[0mwrapper\u001b[0m\u001b[0;34m\u001b[0m\u001b[0;34m\u001b[0m\u001b[0m\n",
      "\u001b[0;32m/opt/conda/envs/gwas/lib/python3.7/site-packages/hail/table.py\u001b[0m in \u001b[0;36mwrite\u001b[0;34m(self, output, overwrite, stage_locally, _codec_spec)\u001b[0m\n\u001b[1;32m   1216\u001b[0m         \"\"\"\n\u001b[1;32m   1217\u001b[0m \u001b[0;34m\u001b[0m\u001b[0m\n\u001b[0;32m-> 1218\u001b[0;31m         \u001b[0mEnv\u001b[0m\u001b[0;34m.\u001b[0m\u001b[0mbackend\u001b[0m\u001b[0;34m(\u001b[0m\u001b[0;34m)\u001b[0m\u001b[0;34m.\u001b[0m\u001b[0mexecute\u001b[0m\u001b[0;34m(\u001b[0m\u001b[0mTableWrite\u001b[0m\u001b[0;34m(\u001b[0m\u001b[0mself\u001b[0m\u001b[0;34m.\u001b[0m\u001b[0m_tir\u001b[0m\u001b[0;34m,\u001b[0m \u001b[0mTableNativeWriter\u001b[0m\u001b[0;34m(\u001b[0m\u001b[0moutput\u001b[0m\u001b[0;34m,\u001b[0m \u001b[0moverwrite\u001b[0m\u001b[0;34m,\u001b[0m \u001b[0mstage_locally\u001b[0m\u001b[0;34m,\u001b[0m \u001b[0m_codec_spec\u001b[0m\u001b[0;34m)\u001b[0m\u001b[0;34m)\u001b[0m\u001b[0;34m)\u001b[0m\u001b[0;34m\u001b[0m\u001b[0;34m\u001b[0m\u001b[0m\n\u001b[0m\u001b[1;32m   1219\u001b[0m \u001b[0;34m\u001b[0m\u001b[0m\n\u001b[1;32m   1220\u001b[0m     \u001b[0;32mdef\u001b[0m \u001b[0m_show\u001b[0m\u001b[0;34m(\u001b[0m\u001b[0mself\u001b[0m\u001b[0;34m,\u001b[0m \u001b[0mn\u001b[0m\u001b[0;34m,\u001b[0m \u001b[0mwidth\u001b[0m\u001b[0;34m,\u001b[0m \u001b[0mtruncate\u001b[0m\u001b[0;34m,\u001b[0m \u001b[0mtypes\u001b[0m\u001b[0;34m)\u001b[0m\u001b[0;34m:\u001b[0m\u001b[0;34m\u001b[0m\u001b[0;34m\u001b[0m\u001b[0m\n",
      "\u001b[0;32m/opt/conda/envs/gwas/lib/python3.7/site-packages/hail/backend/backend.py\u001b[0m in \u001b[0;36mexecute\u001b[0;34m(self, ir, timed)\u001b[0m\n\u001b[1;32m    107\u001b[0m \u001b[0;34m\u001b[0m\u001b[0m\n\u001b[1;32m    108\u001b[0m     \u001b[0;32mdef\u001b[0m \u001b[0mexecute\u001b[0m\u001b[0;34m(\u001b[0m\u001b[0mself\u001b[0m\u001b[0;34m,\u001b[0m \u001b[0mir\u001b[0m\u001b[0;34m,\u001b[0m \u001b[0mtimed\u001b[0m\u001b[0;34m=\u001b[0m\u001b[0;32mFalse\u001b[0m\u001b[0;34m)\u001b[0m\u001b[0;34m:\u001b[0m\u001b[0;34m\u001b[0m\u001b[0;34m\u001b[0m\u001b[0m\n\u001b[0;32m--> 109\u001b[0;31m         \u001b[0mresult\u001b[0m \u001b[0;34m=\u001b[0m \u001b[0mjson\u001b[0m\u001b[0;34m.\u001b[0m\u001b[0mloads\u001b[0m\u001b[0;34m(\u001b[0m\u001b[0mEnv\u001b[0m\u001b[0;34m.\u001b[0m\u001b[0mhc\u001b[0m\u001b[0;34m(\u001b[0m\u001b[0;34m)\u001b[0m\u001b[0;34m.\u001b[0m\u001b[0m_jhc\u001b[0m\u001b[0;34m.\u001b[0m\u001b[0mbackend\u001b[0m\u001b[0;34m(\u001b[0m\u001b[0;34m)\u001b[0m\u001b[0;34m.\u001b[0m\u001b[0mexecuteJSON\u001b[0m\u001b[0;34m(\u001b[0m\u001b[0mself\u001b[0m\u001b[0;34m.\u001b[0m\u001b[0m_to_java_ir\u001b[0m\u001b[0;34m(\u001b[0m\u001b[0mir\u001b[0m\u001b[0;34m)\u001b[0m\u001b[0;34m)\u001b[0m\u001b[0;34m)\u001b[0m\u001b[0;34m\u001b[0m\u001b[0;34m\u001b[0m\u001b[0m\n\u001b[0m\u001b[1;32m    110\u001b[0m         \u001b[0mvalue\u001b[0m \u001b[0;34m=\u001b[0m \u001b[0mir\u001b[0m\u001b[0;34m.\u001b[0m\u001b[0mtyp\u001b[0m\u001b[0;34m.\u001b[0m\u001b[0m_from_json\u001b[0m\u001b[0;34m(\u001b[0m\u001b[0mresult\u001b[0m\u001b[0;34m[\u001b[0m\u001b[0;34m'value'\u001b[0m\u001b[0;34m]\u001b[0m\u001b[0;34m)\u001b[0m\u001b[0;34m\u001b[0m\u001b[0;34m\u001b[0m\u001b[0m\n\u001b[1;32m    111\u001b[0m         \u001b[0mtimings\u001b[0m \u001b[0;34m=\u001b[0m \u001b[0mresult\u001b[0m\u001b[0;34m[\u001b[0m\u001b[0;34m'timings'\u001b[0m\u001b[0;34m]\u001b[0m\u001b[0;34m\u001b[0m\u001b[0;34m\u001b[0m\u001b[0m\n",
      "\u001b[0;32m/opt/conda/envs/gwas/lib/python3.7/site-packages/py4j/java_gateway.py\u001b[0m in \u001b[0;36m__call__\u001b[0;34m(self, *args)\u001b[0m\n\u001b[1;32m   1255\u001b[0m         \u001b[0manswer\u001b[0m \u001b[0;34m=\u001b[0m \u001b[0mself\u001b[0m\u001b[0;34m.\u001b[0m\u001b[0mgateway_client\u001b[0m\u001b[0;34m.\u001b[0m\u001b[0msend_command\u001b[0m\u001b[0;34m(\u001b[0m\u001b[0mcommand\u001b[0m\u001b[0;34m)\u001b[0m\u001b[0;34m\u001b[0m\u001b[0;34m\u001b[0m\u001b[0m\n\u001b[1;32m   1256\u001b[0m         return_value = get_return_value(\n\u001b[0;32m-> 1257\u001b[0;31m             answer, self.gateway_client, self.target_id, self.name)\n\u001b[0m\u001b[1;32m   1258\u001b[0m \u001b[0;34m\u001b[0m\u001b[0m\n\u001b[1;32m   1259\u001b[0m         \u001b[0;32mfor\u001b[0m \u001b[0mtemp_arg\u001b[0m \u001b[0;32min\u001b[0m \u001b[0mtemp_args\u001b[0m\u001b[0;34m:\u001b[0m\u001b[0;34m\u001b[0m\u001b[0;34m\u001b[0m\u001b[0m\n",
      "\u001b[0;32m/opt/conda/envs/gwas/lib/python3.7/site-packages/hail/utils/java.py\u001b[0m in \u001b[0;36mdeco\u001b[0;34m(*args, **kwargs)\u001b[0m\n\u001b[1;32m    211\u001b[0m         \u001b[0;32mimport\u001b[0m \u001b[0mpyspark\u001b[0m\u001b[0;34m\u001b[0m\u001b[0;34m\u001b[0m\u001b[0m\n\u001b[1;32m    212\u001b[0m         \u001b[0;32mtry\u001b[0m\u001b[0;34m:\u001b[0m\u001b[0;34m\u001b[0m\u001b[0;34m\u001b[0m\u001b[0m\n\u001b[0;32m--> 213\u001b[0;31m             \u001b[0;32mreturn\u001b[0m \u001b[0mf\u001b[0m\u001b[0;34m(\u001b[0m\u001b[0;34m*\u001b[0m\u001b[0margs\u001b[0m\u001b[0;34m,\u001b[0m \u001b[0;34m**\u001b[0m\u001b[0mkwargs\u001b[0m\u001b[0;34m)\u001b[0m\u001b[0;34m\u001b[0m\u001b[0;34m\u001b[0m\u001b[0m\n\u001b[0m\u001b[1;32m    214\u001b[0m         \u001b[0;32mexcept\u001b[0m \u001b[0mpy4j\u001b[0m\u001b[0;34m.\u001b[0m\u001b[0mprotocol\u001b[0m\u001b[0;34m.\u001b[0m\u001b[0mPy4JJavaError\u001b[0m \u001b[0;32mas\u001b[0m \u001b[0me\u001b[0m\u001b[0;34m:\u001b[0m\u001b[0;34m\u001b[0m\u001b[0;34m\u001b[0m\u001b[0m\n\u001b[1;32m    215\u001b[0m             \u001b[0ms\u001b[0m \u001b[0;34m=\u001b[0m \u001b[0me\u001b[0m\u001b[0;34m.\u001b[0m\u001b[0mjava_exception\u001b[0m\u001b[0;34m.\u001b[0m\u001b[0mtoString\u001b[0m\u001b[0;34m(\u001b[0m\u001b[0;34m)\u001b[0m\u001b[0;34m\u001b[0m\u001b[0;34m\u001b[0m\u001b[0m\n",
      "\u001b[0;32m/opt/conda/envs/gwas/lib/python3.7/site-packages/py4j/protocol.py\u001b[0m in \u001b[0;36mget_return_value\u001b[0;34m(answer, gateway_client, target_id, name)\u001b[0m\n\u001b[1;32m    334\u001b[0m             raise Py4JError(\n\u001b[1;32m    335\u001b[0m                 \u001b[0;34m\"An error occurred while calling {0}{1}{2}\"\u001b[0m\u001b[0;34m.\u001b[0m\u001b[0;34m\u001b[0m\u001b[0;34m\u001b[0m\u001b[0m\n\u001b[0;32m--> 336\u001b[0;31m                 format(target_id, \".\", name))\n\u001b[0m\u001b[1;32m    337\u001b[0m     \u001b[0;32melse\u001b[0m\u001b[0;34m:\u001b[0m\u001b[0;34m\u001b[0m\u001b[0;34m\u001b[0m\u001b[0m\n\u001b[1;32m    338\u001b[0m         \u001b[0mtype\u001b[0m \u001b[0;34m=\u001b[0m \u001b[0manswer\u001b[0m\u001b[0;34m[\u001b[0m\u001b[0;36m1\u001b[0m\u001b[0;34m]\u001b[0m\u001b[0;34m\u001b[0m\u001b[0;34m\u001b[0m\u001b[0m\n",
      "\u001b[0;31mPy4JError\u001b[0m: An error occurred while calling o1451.executeJSON"
     ]
    }
   ],
   "source": [
    "# Fixed variants = 10k\n",
    "for i in range(1000, 10001, 500):\n",
    "    samples = i\n",
    "    variants = 10000\n",
    "    do_experiment(\"simple_fixed_variants_10k_cpu_8_ram_31\", samples=samples, variants=variants, populations=10)"
   ]
  },
  {
   "cell_type": "code",
   "execution_count": 5,
   "metadata": {
    "scrolled": true
   },
   "outputs": [
    {
     "name": "stderr",
     "output_type": "stream",
     "text": [
      "2020-04-24 05:02:30 Hail: INFO: hwe_normalized_pca: running PCA using 1000 variants.\n",
      "2020-04-24 05:02:32 Hail: INFO: pca: running PCA with 10 components...\n"
     ]
    },
    {
     "name": "stdout",
     "output_type": "stream",
     "text": [
      "PCA took s:2000, v:1000, p:10 : 15.29 seconds\n"
     ]
    },
    {
     "name": "stderr",
     "output_type": "stream",
     "text": [
      "2020-04-24 05:02:45 Hail: INFO: Wrote all 1 blocks of 1000 x 2000 matrix with block size 4096.\n",
      "2020-04-24 05:02:46 Hail: INFO: wrote matrix with 11 rows and 1000 columns as 1 block of size 4096 to file:/tmp/hail.sVrGxaLZ4jVW/PH75Dq8pMm.bm\n",
      "2020-04-24 05:02:46 Hail: INFO: wrote matrix with 1000 rows and 2000 columns as 1 block of size 4096 to file:/tmp/hail.sVrGxaLZ4jVW/dc8a2J8YGl.bm\n",
      "2020-04-24 05:02:46 Hail: INFO: wrote matrix with 1000 rows and 2000 columns as 1 block of size 4096 to file:/tmp/hail.sVrGxaLZ4jVW/D0KloM8Slr.bm\n",
      "2020-04-24 05:02:47 Hail: INFO: wrote matrix with 2000 rows and 2000 columns as 1 block of size 4096 to file:/tmp/hail.sVrGxaLZ4jVW/GckgRPHU2m.bm\n",
      "2020-04-24 05:02:48 Hail: INFO: wrote matrix with 2000 rows and 2000 columns as 1 block of size 4096 to file:/tmp/hail.sVrGxaLZ4jVW/ujwTW5WxU0.bm\n",
      "2020-04-24 05:02:48 Hail: INFO: wrote matrix with 2000 rows and 2000 columns as 1 block of size 4096 to file:/tmp/hail.sVrGxaLZ4jVW/BtPefVYp8r.bm\n",
      "2020-04-24 05:02:49 Hail: INFO: wrote matrix with 2000 rows and 2000 columns as 1 block of size 4096 to file:/tmp/hail.sVrGxaLZ4jVW/P74Rf6tcXN.bm\n",
      "2020-04-24 05:02:50 Hail: INFO: wrote matrix with 2000 rows and 2000 columns as 1 block of size 4096 to file:/tmp/hail.sVrGxaLZ4jVW/uB80tyzpMa.bm\n",
      "2020-04-24 05:02:51 Hail: INFO: wrote matrix with 2000 rows and 2000 columns as 1 block of size 4096 to file:/tmp/hail.sVrGxaLZ4jVW/kUV4lqlMyA.bm\n",
      "2020-04-24 05:02:52 Hail: INFO: wrote matrix with 2000 rows and 2000 columns as 1 block of size 4096 to file:/tmp/hail.sVrGxaLZ4jVW/NQUEqLwt3I.bm\n",
      "2020-04-24 05:02:53 Hail: INFO: wrote matrix with 2000 rows and 2000 columns as 1 block of size 4096 to file:/tmp/hail.sVrGxaLZ4jVW/yjeoTsN8os.bm\n",
      "2020-04-24 05:02:53 Hail: INFO: wrote matrix with 2000 rows and 2000 columns as 1 block of size 4096 to file:/tmp/hail.sVrGxaLZ4jVW/SJfx8nsuiE.bm\n",
      "2020-04-24 05:02:58 Hail: INFO: Ordering unsorted dataset with network shuffle\n",
      "2020-04-24 05:03:18 Hail: INFO: Coerced sorted dataset\n",
      "2020-04-24 05:03:31 Hail: INFO: wrote table with 1999000 rows in 1 partition to /tmp/tmp592tc38h/pc_relate_result\n",
      "2020-04-24 05:03:31 Hail: INFO: balding_nichols_model: generating genotypes for 10 populations, 2000 samples, and 1500 variants...\n"
     ]
    },
    {
     "name": "stdout",
     "output_type": "stream",
     "text": [
      "Deleting pc_relate results: /tmp/tmp592tc38h/pc_relate_result\n",
      "Deleting hail tmp dir: /tmp/hail.sVrGxaLZ4jVW\n"
     ]
    },
    {
     "name": "stderr",
     "output_type": "stream",
     "text": [
      "2020-04-24 05:03:31 Hail: INFO: Coerced sorted dataset\n",
      "2020-04-24 05:03:33 Hail: INFO: wrote matrix table with 1500 rows and 2000 columns in 8 partitions to /home/rav/data/tmp/mt_2000_1500_10.mt\n",
      "2020-04-24 05:03:33 Hail: INFO: hwe_normalized_pca: running PCA using 1500 variants.\n",
      "2020-04-24 05:03:34 Hail: INFO: pca: running PCA with 10 components...\n"
     ]
    },
    {
     "name": "stdout",
     "output_type": "stream",
     "text": [
      "PCA took s:2000, v:1500, p:10 : 6.68 seconds\n"
     ]
    },
    {
     "name": "stderr",
     "output_type": "stream",
     "text": [
      "2020-04-24 05:03:41 Hail: INFO: Wrote all 1 blocks of 1500 x 2000 matrix with block size 4096.\n",
      "2020-04-24 05:03:42 Hail: INFO: wrote matrix with 11 rows and 1500 columns as 1 block of size 4096 to file:/tmp/hail.sVrGxaLZ4jVW/FHCIDVO8OJ.bm\n",
      "2020-04-24 05:03:42 Hail: INFO: wrote matrix with 1500 rows and 2000 columns as 1 block of size 4096 to file:/tmp/hail.sVrGxaLZ4jVW/s0blPfMUzE.bm\n",
      "2020-04-24 05:03:42 Hail: INFO: wrote matrix with 1500 rows and 2000 columns as 1 block of size 4096 to file:/tmp/hail.sVrGxaLZ4jVW/B7QhGdgntf.bm\n",
      "2020-04-24 05:03:44 Hail: INFO: wrote matrix with 2000 rows and 2000 columns as 1 block of size 4096 to file:/tmp/hail.sVrGxaLZ4jVW/orJraLsaNE.bm\n",
      "2020-04-24 05:03:45 Hail: INFO: wrote matrix with 2000 rows and 2000 columns as 1 block of size 4096 to file:/tmp/hail.sVrGxaLZ4jVW/Wx8vjFIR8S.bm\n",
      "2020-04-24 05:03:45 Hail: INFO: wrote matrix with 2000 rows and 2000 columns as 1 block of size 4096 to file:/tmp/hail.sVrGxaLZ4jVW/b8z4T7hjkR.bm\n",
      "2020-04-24 05:03:47 Hail: INFO: wrote matrix with 2000 rows and 2000 columns as 1 block of size 4096 to file:/tmp/hail.sVrGxaLZ4jVW/Kjf5xw6cBo.bm\n",
      "2020-04-24 05:03:48 Hail: INFO: wrote matrix with 2000 rows and 2000 columns as 1 block of size 4096 to file:/tmp/hail.sVrGxaLZ4jVW/VBTTlHDN1A.bm\n",
      "2020-04-24 05:03:48 Hail: INFO: wrote matrix with 2000 rows and 2000 columns as 1 block of size 4096 to file:/tmp/hail.sVrGxaLZ4jVW/3MkdmnpBb0.bm\n",
      "2020-04-24 05:03:50 Hail: INFO: wrote matrix with 2000 rows and 2000 columns as 1 block of size 4096 to file:/tmp/hail.sVrGxaLZ4jVW/tgnBakCkSn.bm\n",
      "2020-04-24 05:03:52 Hail: INFO: wrote matrix with 2000 rows and 2000 columns as 1 block of size 4096 to file:/tmp/hail.sVrGxaLZ4jVW/KhpUZS0Tb1.bm\n",
      "2020-04-24 05:03:52 Hail: INFO: wrote matrix with 2000 rows and 2000 columns as 1 block of size 4096 to file:/tmp/hail.sVrGxaLZ4jVW/lc3479uJLS.bm\n",
      "2020-04-24 05:03:56 Hail: INFO: Ordering unsorted dataset with network shuffle\n",
      "2020-04-24 05:04:13 Hail: INFO: Coerced sorted dataset\n",
      "2020-04-24 05:04:27 Hail: INFO: wrote table with 1999000 rows in 1 partition to /tmp/tmplnvi6w6c/pc_relate_result\n"
     ]
    },
    {
     "name": "stdout",
     "output_type": "stream",
     "text": [
      "Deleting pc_relate results: /tmp/tmplnvi6w6c/pc_relate_result\n",
      "Deleting hail tmp dir: /tmp/hail.sVrGxaLZ4jVW\n"
     ]
    },
    {
     "name": "stderr",
     "output_type": "stream",
     "text": [
      "2020-04-24 05:04:27 Hail: INFO: hwe_normalized_pca: running PCA using 2000 variants.\n",
      "2020-04-24 05:04:28 Hail: INFO: pca: running PCA with 10 components...\n"
     ]
    },
    {
     "name": "stdout",
     "output_type": "stream",
     "text": [
      "PCA took s:2000, v:2000, p:10 : 8.16 seconds\n"
     ]
    },
    {
     "name": "stderr",
     "output_type": "stream",
     "text": [
      "2020-04-24 05:04:37 Hail: INFO: Wrote all 1 blocks of 2000 x 2000 matrix with block size 4096.\n",
      "2020-04-24 05:04:38 Hail: INFO: wrote matrix with 11 rows and 2000 columns as 1 block of size 4096 to file:/tmp/hail.sVrGxaLZ4jVW/7wvfREkDdP.bm\n",
      "2020-04-24 05:04:38 Hail: INFO: wrote matrix with 2000 rows and 2000 columns as 1 block of size 4096 to file:/tmp/hail.sVrGxaLZ4jVW/p26Ob18Ia4.bm\n",
      "2020-04-24 05:04:38 Hail: INFO: wrote matrix with 2000 rows and 2000 columns as 1 block of size 4096 to file:/tmp/hail.sVrGxaLZ4jVW/XiWWzesWRb.bm\n",
      "2020-04-24 05:04:40 Hail: INFO: wrote matrix with 2000 rows and 2000 columns as 1 block of size 4096 to file:/tmp/hail.sVrGxaLZ4jVW/IllPDBgGli.bm\n",
      "2020-04-24 05:04:42 Hail: INFO: wrote matrix with 2000 rows and 2000 columns as 1 block of size 4096 to file:/tmp/hail.sVrGxaLZ4jVW/J0IOWlfwie.bm\n",
      "2020-04-24 05:04:42 Hail: INFO: wrote matrix with 2000 rows and 2000 columns as 1 block of size 4096 to file:/tmp/hail.sVrGxaLZ4jVW/74yDVVWqZz.bm\n",
      "2020-04-24 05:04:44 Hail: INFO: wrote matrix with 2000 rows and 2000 columns as 1 block of size 4096 to file:/tmp/hail.sVrGxaLZ4jVW/KaR8Gq35eE.bm\n",
      "2020-04-24 05:04:46 Hail: INFO: wrote matrix with 2000 rows and 2000 columns as 1 block of size 4096 to file:/tmp/hail.sVrGxaLZ4jVW/HkSfIKrESH.bm\n",
      "2020-04-24 05:04:46 Hail: INFO: wrote matrix with 2000 rows and 2000 columns as 1 block of size 4096 to file:/tmp/hail.sVrGxaLZ4jVW/sRfha9c1Pk.bm\n",
      "2020-04-24 05:04:48 Hail: INFO: wrote matrix with 2000 rows and 2000 columns as 1 block of size 4096 to file:/tmp/hail.sVrGxaLZ4jVW/tEL5vo7T3o.bm\n",
      "2020-04-24 05:04:50 Hail: INFO: wrote matrix with 2000 rows and 2000 columns as 1 block of size 4096 to file:/tmp/hail.sVrGxaLZ4jVW/rxIYnb8cKg.bm\n",
      "2020-04-24 05:04:51 Hail: INFO: wrote matrix with 2000 rows and 2000 columns as 1 block of size 4096 to file:/tmp/hail.sVrGxaLZ4jVW/Rj5Gq9zafR.bm\n",
      "2020-04-24 05:04:54 Hail: INFO: Ordering unsorted dataset with network shuffle\n",
      "2020-04-24 05:05:12 Hail: INFO: Coerced sorted dataset\n",
      "2020-04-24 05:05:25 Hail: INFO: wrote table with 1999000 rows in 1 partition to /tmp/tmpedgnu249/pc_relate_result\n",
      "2020-04-24 05:05:25 Hail: INFO: balding_nichols_model: generating genotypes for 10 populations, 2000 samples, and 2500 variants...\n"
     ]
    },
    {
     "name": "stdout",
     "output_type": "stream",
     "text": [
      "Deleting pc_relate results: /tmp/tmpedgnu249/pc_relate_result\n",
      "Deleting hail tmp dir: /tmp/hail.sVrGxaLZ4jVW\n"
     ]
    },
    {
     "name": "stderr",
     "output_type": "stream",
     "text": [
      "2020-04-24 05:05:25 Hail: INFO: Coerced sorted dataset\n",
      "2020-04-24 05:05:27 Hail: INFO: wrote matrix table with 2500 rows and 2000 columns in 8 partitions to /home/rav/data/tmp/mt_2000_2500_10.mt\n",
      "2020-04-24 05:05:27 Hail: INFO: hwe_normalized_pca: running PCA using 2500 variants.\n",
      "2020-04-24 05:05:28 Hail: INFO: pca: running PCA with 10 components...\n"
     ]
    },
    {
     "name": "stdout",
     "output_type": "stream",
     "text": [
      "PCA took s:2000, v:2500, p:10 : 7.73 seconds\n"
     ]
    },
    {
     "name": "stderr",
     "output_type": "stream",
     "text": [
      "2020-04-24 05:05:36 Hail: INFO: Wrote all 1 blocks of 2500 x 2000 matrix with block size 4096.\n",
      "2020-04-24 05:05:37 Hail: INFO: wrote matrix with 11 rows and 2500 columns as 1 block of size 4096 to file:/tmp/hail.sVrGxaLZ4jVW/BceUKaquzI.bm\n",
      "2020-04-24 05:05:37 Hail: INFO: wrote matrix with 2500 rows and 2000 columns as 1 block of size 4096 to file:/tmp/hail.sVrGxaLZ4jVW/TEWXhttxHL.bm\n",
      "2020-04-24 05:05:37 Hail: INFO: wrote matrix with 2500 rows and 2000 columns as 1 block of size 4096 to file:/tmp/hail.sVrGxaLZ4jVW/jSdJ0osbc0.bm\n",
      "2020-04-24 05:05:40 Hail: INFO: wrote matrix with 2000 rows and 2000 columns as 1 block of size 4096 to file:/tmp/hail.sVrGxaLZ4jVW/nc6xRelval.bm\n",
      "2020-04-24 05:05:42 Hail: INFO: wrote matrix with 2000 rows and 2000 columns as 1 block of size 4096 to file:/tmp/hail.sVrGxaLZ4jVW/3vgiP6jkqx.bm\n",
      "2020-04-24 05:05:42 Hail: INFO: wrote matrix with 2000 rows and 2000 columns as 1 block of size 4096 to file:/tmp/hail.sVrGxaLZ4jVW/QWTacgilRK.bm\n",
      "2020-04-24 05:05:45 Hail: INFO: wrote matrix with 2000 rows and 2000 columns as 1 block of size 4096 to file:/tmp/hail.sVrGxaLZ4jVW/GnoVqiDA3Y.bm\n",
      "2020-04-24 05:05:47 Hail: INFO: wrote matrix with 2000 rows and 2000 columns as 1 block of size 4096 to file:/tmp/hail.sVrGxaLZ4jVW/X2afgz324r.bm\n",
      "2020-04-24 05:05:47 Hail: INFO: wrote matrix with 2000 rows and 2000 columns as 1 block of size 4096 to file:/tmp/hail.sVrGxaLZ4jVW/tMVGvA0G57.bm\n",
      "2020-04-24 05:05:50 Hail: INFO: wrote matrix with 2000 rows and 2000 columns as 1 block of size 4096 to file:/tmp/hail.sVrGxaLZ4jVW/QddYkXnbuJ.bm\n",
      "2020-04-24 05:05:52 Hail: INFO: wrote matrix with 2000 rows and 2000 columns as 1 block of size 4096 to file:/tmp/hail.sVrGxaLZ4jVW/MatOO2ZkVh.bm\n",
      "2020-04-24 05:05:53 Hail: INFO: wrote matrix with 2000 rows and 2000 columns as 1 block of size 4096 to file:/tmp/hail.sVrGxaLZ4jVW/rIH42aJ3rt.bm\n",
      "2020-04-24 05:05:56 Hail: INFO: Ordering unsorted dataset with network shuffle\n",
      "2020-04-24 05:06:15 Hail: INFO: Coerced sorted dataset\n",
      "2020-04-24 05:06:28 Hail: INFO: wrote table with 1999000 rows in 1 partition to /tmp/tmp78u_1th0/pc_relate_result\n"
     ]
    },
    {
     "name": "stdout",
     "output_type": "stream",
     "text": [
      "Deleting pc_relate results: /tmp/tmp78u_1th0/pc_relate_result\n",
      "Deleting hail tmp dir: /tmp/hail.sVrGxaLZ4jVW\n"
     ]
    },
    {
     "name": "stderr",
     "output_type": "stream",
     "text": [
      "2020-04-24 05:06:28 Hail: INFO: hwe_normalized_pca: running PCA using 3000 variants.\n",
      "2020-04-24 05:06:29 Hail: INFO: pca: running PCA with 10 components...\n"
     ]
    },
    {
     "name": "stdout",
     "output_type": "stream",
     "text": [
      "PCA took s:2000, v:3000, p:10 : 8.76 seconds\n"
     ]
    },
    {
     "name": "stderr",
     "output_type": "stream",
     "text": [
      "2020-04-24 05:06:39 Hail: INFO: Wrote all 1 blocks of 3000 x 2000 matrix with block size 4096.\n",
      "2020-04-24 05:06:39 Hail: INFO: wrote matrix with 11 rows and 3000 columns as 1 block of size 4096 to file:/tmp/hail.sVrGxaLZ4jVW/WAl9dYq4k2.bm\n",
      "2020-04-24 05:06:39 Hail: INFO: wrote matrix with 3000 rows and 2000 columns as 1 block of size 4096 to file:/tmp/hail.sVrGxaLZ4jVW/JDDzyXztWa.bm\n",
      "2020-04-24 05:06:40 Hail: INFO: wrote matrix with 3000 rows and 2000 columns as 1 block of size 4096 to file:/tmp/hail.sVrGxaLZ4jVW/cNptR0EIWb.bm\n",
      "2020-04-24 05:06:42 Hail: INFO: wrote matrix with 2000 rows and 2000 columns as 1 block of size 4096 to file:/tmp/hail.sVrGxaLZ4jVW/ETPFoBI6nJ.bm\n",
      "2020-04-24 05:06:45 Hail: INFO: wrote matrix with 2000 rows and 2000 columns as 1 block of size 4096 to file:/tmp/hail.sVrGxaLZ4jVW/TY2zPH0WgM.bm\n",
      "2020-04-24 05:06:45 Hail: INFO: wrote matrix with 2000 rows and 2000 columns as 1 block of size 4096 to file:/tmp/hail.sVrGxaLZ4jVW/NnaGOWZ73W.bm\n",
      "2020-04-24 05:06:48 Hail: INFO: wrote matrix with 2000 rows and 2000 columns as 1 block of size 4096 to file:/tmp/hail.sVrGxaLZ4jVW/JFb4p3y9RZ.bm\n",
      "2020-04-24 05:06:51 Hail: INFO: wrote matrix with 2000 rows and 2000 columns as 1 block of size 4096 to file:/tmp/hail.sVrGxaLZ4jVW/fUOauXEgdR.bm\n",
      "2020-04-24 05:06:51 Hail: INFO: wrote matrix with 2000 rows and 2000 columns as 1 block of size 4096 to file:/tmp/hail.sVrGxaLZ4jVW/ozcCm8lbQz.bm\n",
      "2020-04-24 05:06:54 Hail: INFO: wrote matrix with 2000 rows and 2000 columns as 1 block of size 4096 to file:/tmp/hail.sVrGxaLZ4jVW/VrbJPkVjGJ.bm\n",
      "2020-04-24 05:06:57 Hail: INFO: wrote matrix with 2000 rows and 2000 columns as 1 block of size 4096 to file:/tmp/hail.sVrGxaLZ4jVW/pkUgTTWvdG.bm\n",
      "2020-04-24 05:06:57 Hail: INFO: wrote matrix with 2000 rows and 2000 columns as 1 block of size 4096 to file:/tmp/hail.sVrGxaLZ4jVW/9k3nyB6WoH.bm\n",
      "2020-04-24 05:07:01 Hail: INFO: Ordering unsorted dataset with network shuffle\n",
      "2020-04-24 05:07:20 Hail: INFO: Coerced sorted dataset\n",
      "2020-04-24 05:07:33 Hail: INFO: wrote table with 1999000 rows in 1 partition to /tmp/tmpu7b8gs18/pc_relate_result\n",
      "2020-04-24 05:07:33 Hail: INFO: balding_nichols_model: generating genotypes for 10 populations, 2000 samples, and 3500 variants...\n"
     ]
    },
    {
     "name": "stdout",
     "output_type": "stream",
     "text": [
      "Deleting pc_relate results: /tmp/tmpu7b8gs18/pc_relate_result\n",
      "Deleting hail tmp dir: /tmp/hail.sVrGxaLZ4jVW\n"
     ]
    },
    {
     "name": "stderr",
     "output_type": "stream",
     "text": [
      "2020-04-24 05:07:33 Hail: INFO: Coerced sorted dataset\n",
      "2020-04-24 05:07:35 Hail: INFO: wrote matrix table with 3500 rows and 2000 columns in 8 partitions to /home/rav/data/tmp/mt_2000_3500_10.mt\n",
      "2020-04-24 05:07:35 Hail: INFO: hwe_normalized_pca: running PCA using 3500 variants.\n",
      "2020-04-24 05:07:36 Hail: INFO: pca: running PCA with 10 components...\n"
     ]
    },
    {
     "name": "stdout",
     "output_type": "stream",
     "text": [
      "PCA took s:2000, v:3500, p:10 : 7.55 seconds\n"
     ]
    },
    {
     "name": "stderr",
     "output_type": "stream",
     "text": [
      "2020-04-24 05:07:45 Hail: INFO: Wrote all 1 blocks of 3500 x 2000 matrix with block size 4096.\n",
      "2020-04-24 05:07:45 Hail: INFO: wrote matrix with 11 rows and 3500 columns as 1 block of size 4096 to file:/tmp/hail.sVrGxaLZ4jVW/WL9pSC8ytW.bm\n",
      "2020-04-24 05:07:45 Hail: INFO: wrote matrix with 3500 rows and 2000 columns as 1 block of size 4096 to file:/tmp/hail.sVrGxaLZ4jVW/lbKnbDcNJZ.bm\n",
      "2020-04-24 05:07:46 Hail: INFO: wrote matrix with 3500 rows and 2000 columns as 1 block of size 4096 to file:/tmp/hail.sVrGxaLZ4jVW/0aJB2szJET.bm\n",
      "2020-04-24 05:07:49 Hail: INFO: wrote matrix with 2000 rows and 2000 columns as 1 block of size 4096 to file:/tmp/hail.sVrGxaLZ4jVW/82T7kCoBhA.bm\n",
      "2020-04-24 05:07:52 Hail: INFO: wrote matrix with 2000 rows and 2000 columns as 1 block of size 4096 to file:/tmp/hail.sVrGxaLZ4jVW/XLP1phk4ck.bm\n",
      "2020-04-24 05:07:52 Hail: INFO: wrote matrix with 2000 rows and 2000 columns as 1 block of size 4096 to file:/tmp/hail.sVrGxaLZ4jVW/4A6QpuI2KP.bm\n",
      "2020-04-24 05:07:56 Hail: INFO: wrote matrix with 2000 rows and 2000 columns as 1 block of size 4096 to file:/tmp/hail.sVrGxaLZ4jVW/U9w9loaHpe.bm\n",
      "2020-04-24 05:07:59 Hail: INFO: wrote matrix with 2000 rows and 2000 columns as 1 block of size 4096 to file:/tmp/hail.sVrGxaLZ4jVW/y4lnYV8kGX.bm\n",
      "2020-04-24 05:07:59 Hail: INFO: wrote matrix with 2000 rows and 2000 columns as 1 block of size 4096 to file:/tmp/hail.sVrGxaLZ4jVW/CGUfNLApUe.bm\n",
      "2020-04-24 05:08:03 Hail: INFO: wrote matrix with 2000 rows and 2000 columns as 1 block of size 4096 to file:/tmp/hail.sVrGxaLZ4jVW/sG5ylbIjJG.bm\n",
      "2020-04-24 05:08:06 Hail: INFO: wrote matrix with 2000 rows and 2000 columns as 1 block of size 4096 to file:/tmp/hail.sVrGxaLZ4jVW/rUFr5pL3D0.bm\n",
      "2020-04-24 05:08:07 Hail: INFO: wrote matrix with 2000 rows and 2000 columns as 1 block of size 4096 to file:/tmp/hail.sVrGxaLZ4jVW/YanARNkJGL.bm\n",
      "2020-04-24 05:08:10 Hail: INFO: Ordering unsorted dataset with network shuffle\n",
      "2020-04-24 05:08:32 Hail: INFO: Coerced sorted dataset\n",
      "2020-04-24 05:08:45 Hail: INFO: wrote table with 1999000 rows in 1 partition to /tmp/tmps5qq64pu/pc_relate_result\n"
     ]
    },
    {
     "name": "stdout",
     "output_type": "stream",
     "text": [
      "Deleting pc_relate results: /tmp/tmps5qq64pu/pc_relate_result\n",
      "Deleting hail tmp dir: /tmp/hail.sVrGxaLZ4jVW\n"
     ]
    },
    {
     "name": "stderr",
     "output_type": "stream",
     "text": [
      "2020-04-24 05:08:46 Hail: INFO: hwe_normalized_pca: running PCA using 4000 variants.\n",
      "2020-04-24 05:08:46 Hail: INFO: pca: running PCA with 10 components...\n"
     ]
    },
    {
     "name": "stdout",
     "output_type": "stream",
     "text": [
      "PCA took s:2000, v:4000, p:10 : 7.98 seconds\n"
     ]
    },
    {
     "name": "stderr",
     "output_type": "stream",
     "text": [
      "2020-04-24 05:08:56 Hail: INFO: Wrote all 1 blocks of 4000 x 2000 matrix with block size 4096.\n",
      "2020-04-24 05:08:56 Hail: INFO: wrote matrix with 11 rows and 4000 columns as 1 block of size 4096 to file:/tmp/hail.sVrGxaLZ4jVW/sWOoEtrlTL.bm\n",
      "2020-04-24 05:08:56 Hail: INFO: wrote matrix with 4000 rows and 2000 columns as 1 block of size 4096 to file:/tmp/hail.sVrGxaLZ4jVW/4wioatrYxB.bm\n",
      "2020-04-24 05:08:57 Hail: INFO: wrote matrix with 4000 rows and 2000 columns as 1 block of size 4096 to file:/tmp/hail.sVrGxaLZ4jVW/8HfnnZRirQ.bm\n",
      "2020-04-24 05:09:00 Hail: INFO: wrote matrix with 2000 rows and 2000 columns as 1 block of size 4096 to file:/tmp/hail.sVrGxaLZ4jVW/Tai5V0sP33.bm\n",
      "2020-04-24 05:09:04 Hail: INFO: wrote matrix with 2000 rows and 2000 columns as 1 block of size 4096 to file:/tmp/hail.sVrGxaLZ4jVW/iDkgjDPQl2.bm\n",
      "2020-04-24 05:09:04 Hail: INFO: wrote matrix with 2000 rows and 2000 columns as 1 block of size 4096 to file:/tmp/hail.sVrGxaLZ4jVW/6MR9NtkeaT.bm\n",
      "2020-04-24 05:09:09 Hail: INFO: wrote matrix with 2000 rows and 2000 columns as 1 block of size 4096 to file:/tmp/hail.sVrGxaLZ4jVW/b5bJuntgZi.bm\n",
      "2020-04-24 05:09:12 Hail: INFO: wrote matrix with 2000 rows and 2000 columns as 1 block of size 4096 to file:/tmp/hail.sVrGxaLZ4jVW/5EpPMMCjlO.bm\n",
      "2020-04-24 05:09:12 Hail: INFO: wrote matrix with 2000 rows and 2000 columns as 1 block of size 4096 to file:/tmp/hail.sVrGxaLZ4jVW/gTg0PuXQqc.bm\n",
      "2020-04-24 05:09:16 Hail: INFO: wrote matrix with 2000 rows and 2000 columns as 1 block of size 4096 to file:/tmp/hail.sVrGxaLZ4jVW/u4TkVJcYep.bm\n",
      "2020-04-24 05:09:20 Hail: INFO: wrote matrix with 2000 rows and 2000 columns as 1 block of size 4096 to file:/tmp/hail.sVrGxaLZ4jVW/OFzhqmcn1k.bm\n",
      "2020-04-24 05:09:20 Hail: INFO: wrote matrix with 2000 rows and 2000 columns as 1 block of size 4096 to file:/tmp/hail.sVrGxaLZ4jVW/EbN9xVzzfG.bm\n",
      "2020-04-24 05:09:24 Hail: INFO: Ordering unsorted dataset with network shuffle\n",
      "2020-04-24 05:09:42 Hail: INFO: Coerced sorted dataset\n",
      "2020-04-24 05:09:56 Hail: INFO: wrote table with 1999000 rows in 1 partition to /tmp/tmp2oxxdqxe/pc_relate_result\n",
      "2020-04-24 05:09:56 Hail: INFO: balding_nichols_model: generating genotypes for 10 populations, 2000 samples, and 4500 variants...\n"
     ]
    },
    {
     "name": "stdout",
     "output_type": "stream",
     "text": [
      "Deleting pc_relate results: /tmp/tmp2oxxdqxe/pc_relate_result\n",
      "Deleting hail tmp dir: /tmp/hail.sVrGxaLZ4jVW\n"
     ]
    },
    {
     "name": "stderr",
     "output_type": "stream",
     "text": [
      "2020-04-24 05:09:56 Hail: INFO: Coerced sorted dataset\n",
      "2020-04-24 05:09:58 Hail: INFO: wrote matrix table with 4500 rows and 2000 columns in 8 partitions to /home/rav/data/tmp/mt_2000_4500_10.mt\n",
      "2020-04-24 05:09:58 Hail: INFO: hwe_normalized_pca: running PCA using 4500 variants.\n",
      "2020-04-24 05:09:59 Hail: INFO: pca: running PCA with 10 components...\n"
     ]
    },
    {
     "name": "stdout",
     "output_type": "stream",
     "text": [
      "PCA took s:2000, v:4500, p:10 : 9.00 seconds\n"
     ]
    },
    {
     "name": "stderr",
     "output_type": "stream",
     "text": [
      "2020-04-24 05:10:09 Hail: INFO: Wrote all 2 blocks of 4500 x 2000 matrix with block size 4096.\n",
      "2020-04-24 05:10:10 Hail: INFO: wrote matrix with 11 rows and 4500 columns as 2 blocks of size 4096 to file:/tmp/hail.sVrGxaLZ4jVW/Y3DFcPe6BD.bm\n",
      "2020-04-24 05:10:10 Hail: INFO: wrote matrix with 4500 rows and 2000 columns as 2 blocks of size 4096 to file:/tmp/hail.sVrGxaLZ4jVW/FyD9HXNPs1.bm\n",
      "2020-04-24 05:10:11 Hail: INFO: wrote matrix with 4500 rows and 2000 columns as 2 blocks of size 4096 to file:/tmp/hail.sVrGxaLZ4jVW/lMFyKuE6xH.bm\n",
      "2020-04-24 05:10:15 Hail: INFO: wrote matrix with 2000 rows and 2000 columns as 1 block of size 4096 to file:/tmp/hail.sVrGxaLZ4jVW/XEnC703XpP.bm\n",
      "2020-04-24 05:10:19 Hail: INFO: wrote matrix with 2000 rows and 2000 columns as 1 block of size 4096 to file:/tmp/hail.sVrGxaLZ4jVW/fgRklN6Jno.bm\n",
      "2020-04-24 05:10:19 Hail: INFO: wrote matrix with 2000 rows and 2000 columns as 1 block of size 4096 to file:/tmp/hail.sVrGxaLZ4jVW/sjRb2l8vDx.bm\n",
      "2020-04-24 05:10:24 Hail: INFO: wrote matrix with 2000 rows and 2000 columns as 1 block of size 4096 to file:/tmp/hail.sVrGxaLZ4jVW/GF0pedu3AB.bm\n",
      "2020-04-24 05:10:28 Hail: INFO: wrote matrix with 2000 rows and 2000 columns as 1 block of size 4096 to file:/tmp/hail.sVrGxaLZ4jVW/iZUHzQuyy6.bm\n",
      "2020-04-24 05:10:28 Hail: INFO: wrote matrix with 2000 rows and 2000 columns as 1 block of size 4096 to file:/tmp/hail.sVrGxaLZ4jVW/h1cKPe88Mh.bm\n",
      "2020-04-24 05:10:32 Hail: INFO: wrote matrix with 2000 rows and 2000 columns as 1 block of size 4096 to file:/tmp/hail.sVrGxaLZ4jVW/cUlQlAUIPh.bm\n",
      "2020-04-24 05:10:36 Hail: INFO: wrote matrix with 2000 rows and 2000 columns as 1 block of size 4096 to file:/tmp/hail.sVrGxaLZ4jVW/JwAiH4bP75.bm\n",
      "2020-04-24 05:10:37 Hail: INFO: wrote matrix with 2000 rows and 2000 columns as 1 block of size 4096 to file:/tmp/hail.sVrGxaLZ4jVW/8dxcCMEHhw.bm\n",
      "2020-04-24 05:10:40 Hail: INFO: Ordering unsorted dataset with network shuffle\n",
      "2020-04-24 05:10:58 Hail: INFO: Coerced sorted dataset\n",
      "2020-04-24 05:11:12 Hail: INFO: wrote table with 1999000 rows in 1 partition to /tmp/tmppdvzw12f/pc_relate_result\n"
     ]
    },
    {
     "name": "stdout",
     "output_type": "stream",
     "text": [
      "Deleting pc_relate results: /tmp/tmppdvzw12f/pc_relate_result\n",
      "Deleting hail tmp dir: /tmp/hail.sVrGxaLZ4jVW\n"
     ]
    },
    {
     "name": "stderr",
     "output_type": "stream",
     "text": [
      "2020-04-24 05:11:12 Hail: INFO: hwe_normalized_pca: running PCA using 5000 variants.\n",
      "2020-04-24 05:11:13 Hail: INFO: pca: running PCA with 10 components...\n"
     ]
    },
    {
     "name": "stdout",
     "output_type": "stream",
     "text": [
      "PCA took s:2000, v:5000, p:10 : 9.51 seconds\n"
     ]
    },
    {
     "name": "stderr",
     "output_type": "stream",
     "text": [
      "2020-04-24 05:11:24 Hail: INFO: Wrote all 2 blocks of 5000 x 2000 matrix with block size 4096.\n",
      "2020-04-24 05:11:24 Hail: INFO: wrote matrix with 11 rows and 5000 columns as 2 blocks of size 4096 to file:/tmp/hail.sVrGxaLZ4jVW/JPIVAnBvF0.bm\n",
      "2020-04-24 05:11:24 Hail: INFO: wrote matrix with 5000 rows and 2000 columns as 2 blocks of size 4096 to file:/tmp/hail.sVrGxaLZ4jVW/Gptzl7oAnT.bm\n",
      "2020-04-24 05:11:25 Hail: INFO: wrote matrix with 5000 rows and 2000 columns as 2 blocks of size 4096 to file:/tmp/hail.sVrGxaLZ4jVW/gJ2cAbGxPM.bm\n",
      "2020-04-24 05:11:29 Hail: INFO: wrote matrix with 2000 rows and 2000 columns as 1 block of size 4096 to file:/tmp/hail.sVrGxaLZ4jVW/jts0FC4wgq.bm\n",
      "2020-04-24 05:11:33 Hail: INFO: wrote matrix with 2000 rows and 2000 columns as 1 block of size 4096 to file:/tmp/hail.sVrGxaLZ4jVW/F3TACkDfIG.bm\n",
      "2020-04-24 05:11:34 Hail: INFO: wrote matrix with 2000 rows and 2000 columns as 1 block of size 4096 to file:/tmp/hail.sVrGxaLZ4jVW/iDTCBqPZ3L.bm\n",
      "2020-04-24 05:11:39 Hail: INFO: wrote matrix with 2000 rows and 2000 columns as 1 block of size 4096 to file:/tmp/hail.sVrGxaLZ4jVW/T1L8Q62I2x.bm\n",
      "2020-04-24 05:11:43 Hail: INFO: wrote matrix with 2000 rows and 2000 columns as 1 block of size 4096 to file:/tmp/hail.sVrGxaLZ4jVW/SQFRnpPVnU.bm\n",
      "2020-04-24 05:11:43 Hail: INFO: wrote matrix with 2000 rows and 2000 columns as 1 block of size 4096 to file:/tmp/hail.sVrGxaLZ4jVW/uel59cqGPo.bm\n",
      "2020-04-24 05:11:48 Hail: INFO: wrote matrix with 2000 rows and 2000 columns as 1 block of size 4096 to file:/tmp/hail.sVrGxaLZ4jVW/nnl9miRuSi.bm\n",
      "2020-04-24 05:11:53 Hail: INFO: wrote matrix with 2000 rows and 2000 columns as 1 block of size 4096 to file:/tmp/hail.sVrGxaLZ4jVW/jmWhtLXRtG.bm\n",
      "2020-04-24 05:11:54 Hail: INFO: wrote matrix with 2000 rows and 2000 columns as 1 block of size 4096 to file:/tmp/hail.sVrGxaLZ4jVW/fVoM4MCgay.bm\n",
      "2020-04-24 05:11:57 Hail: INFO: Ordering unsorted dataset with network shuffle\n",
      "2020-04-24 05:12:15 Hail: INFO: Coerced sorted dataset\n",
      "2020-04-24 05:12:28 Hail: INFO: wrote table with 1999000 rows in 1 partition to /tmp/tmpho_fb1bx/pc_relate_result\n",
      "2020-04-24 05:12:28 Hail: INFO: balding_nichols_model: generating genotypes for 10 populations, 2000 samples, and 5500 variants...\n"
     ]
    },
    {
     "name": "stdout",
     "output_type": "stream",
     "text": [
      "Deleting pc_relate results: /tmp/tmpho_fb1bx/pc_relate_result\n",
      "Deleting hail tmp dir: /tmp/hail.sVrGxaLZ4jVW\n"
     ]
    },
    {
     "name": "stderr",
     "output_type": "stream",
     "text": [
      "2020-04-24 05:12:28 Hail: INFO: Coerced sorted dataset\n",
      "2020-04-24 05:12:31 Hail: INFO: wrote matrix table with 5500 rows and 2000 columns in 8 partitions to /home/rav/data/tmp/mt_2000_5500_10.mt\n",
      "2020-04-24 05:12:31 Hail: INFO: hwe_normalized_pca: running PCA using 5500 variants.\n",
      "2020-04-24 05:12:32 Hail: INFO: pca: running PCA with 10 components...\n"
     ]
    },
    {
     "name": "stdout",
     "output_type": "stream",
     "text": [
      "PCA took s:2000, v:5500, p:10 : 8.86 seconds\n"
     ]
    },
    {
     "name": "stderr",
     "output_type": "stream",
     "text": [
      "2020-04-24 05:12:42 Hail: INFO: Wrote all 2 blocks of 5500 x 2000 matrix with block size 4096.\n",
      "2020-04-24 05:12:42 Hail: INFO: wrote matrix with 11 rows and 5500 columns as 2 blocks of size 4096 to file:/tmp/hail.sVrGxaLZ4jVW/qAavWBaOZI.bm\n",
      "2020-04-24 05:12:43 Hail: INFO: wrote matrix with 5500 rows and 2000 columns as 2 blocks of size 4096 to file:/tmp/hail.sVrGxaLZ4jVW/WAwSyQ98lL.bm\n",
      "2020-04-24 05:12:43 Hail: INFO: wrote matrix with 5500 rows and 2000 columns as 2 blocks of size 4096 to file:/tmp/hail.sVrGxaLZ4jVW/qBX0Btp01m.bm\n",
      "2020-04-24 05:12:48 Hail: INFO: wrote matrix with 2000 rows and 2000 columns as 1 block of size 4096 to file:/tmp/hail.sVrGxaLZ4jVW/oagjxiUFvH.bm\n",
      "2020-04-24 05:12:53 Hail: INFO: wrote matrix with 2000 rows and 2000 columns as 1 block of size 4096 to file:/tmp/hail.sVrGxaLZ4jVW/I0JAdJU9Mi.bm\n",
      "2020-04-24 05:12:53 Hail: INFO: wrote matrix with 2000 rows and 2000 columns as 1 block of size 4096 to file:/tmp/hail.sVrGxaLZ4jVW/Wl7fiYs86M.bm\n",
      "2020-04-24 05:12:59 Hail: INFO: wrote matrix with 2000 rows and 2000 columns as 1 block of size 4096 to file:/tmp/hail.sVrGxaLZ4jVW/F8qUaw20Rb.bm\n",
      "2020-04-24 05:13:03 Hail: INFO: wrote matrix with 2000 rows and 2000 columns as 1 block of size 4096 to file:/tmp/hail.sVrGxaLZ4jVW/ErH6gybFW5.bm\n",
      "2020-04-24 05:13:03 Hail: INFO: wrote matrix with 2000 rows and 2000 columns as 1 block of size 4096 to file:/tmp/hail.sVrGxaLZ4jVW/MEAdEwpg8w.bm\n",
      "2020-04-24 05:13:09 Hail: INFO: wrote matrix with 2000 rows and 2000 columns as 1 block of size 4096 to file:/tmp/hail.sVrGxaLZ4jVW/3cN3FT8BsF.bm\n",
      "2020-04-24 05:13:14 Hail: INFO: wrote matrix with 2000 rows and 2000 columns as 1 block of size 4096 to file:/tmp/hail.sVrGxaLZ4jVW/YOk5280r5m.bm\n",
      "2020-04-24 05:13:15 Hail: INFO: wrote matrix with 2000 rows and 2000 columns as 1 block of size 4096 to file:/tmp/hail.sVrGxaLZ4jVW/kEVSV5Ured.bm\n",
      "2020-04-24 05:13:18 Hail: INFO: Ordering unsorted dataset with network shuffle\n",
      "2020-04-24 05:13:37 Hail: INFO: Coerced sorted dataset\n",
      "2020-04-24 05:13:50 Hail: INFO: wrote table with 1999000 rows in 1 partition to /tmp/tmpy6sfnr4p/pc_relate_result\n"
     ]
    },
    {
     "name": "stdout",
     "output_type": "stream",
     "text": [
      "Deleting pc_relate results: /tmp/tmpy6sfnr4p/pc_relate_result\n",
      "Deleting hail tmp dir: /tmp/hail.sVrGxaLZ4jVW\n"
     ]
    },
    {
     "name": "stderr",
     "output_type": "stream",
     "text": [
      "2020-04-24 05:13:50 Hail: INFO: hwe_normalized_pca: running PCA using 6000 variants.\n",
      "2020-04-24 05:13:51 Hail: INFO: pca: running PCA with 10 components...\n"
     ]
    },
    {
     "name": "stdout",
     "output_type": "stream",
     "text": [
      "PCA took s:2000, v:6000, p:10 : 9.47 seconds\n"
     ]
    },
    {
     "name": "stderr",
     "output_type": "stream",
     "text": [
      "2020-04-24 05:14:02 Hail: INFO: Wrote all 2 blocks of 6000 x 2000 matrix with block size 4096.\n",
      "2020-04-24 05:14:02 Hail: INFO: wrote matrix with 11 rows and 6000 columns as 2 blocks of size 4096 to file:/tmp/hail.sVrGxaLZ4jVW/a9HwvnCMos.bm\n",
      "2020-04-24 05:14:03 Hail: INFO: wrote matrix with 6000 rows and 2000 columns as 2 blocks of size 4096 to file:/tmp/hail.sVrGxaLZ4jVW/caAkKmmNtW.bm\n",
      "2020-04-24 05:14:03 Hail: INFO: wrote matrix with 6000 rows and 2000 columns as 2 blocks of size 4096 to file:/tmp/hail.sVrGxaLZ4jVW/yYsOc6YGTb.bm\n",
      "2020-04-24 05:14:08 Hail: INFO: wrote matrix with 2000 rows and 2000 columns as 1 block of size 4096 to file:/tmp/hail.sVrGxaLZ4jVW/ofFo0jKQjk.bm\n",
      "2020-04-24 05:14:13 Hail: INFO: wrote matrix with 2000 rows and 2000 columns as 1 block of size 4096 to file:/tmp/hail.sVrGxaLZ4jVW/336NjqON4H.bm\n",
      "2020-04-24 05:14:14 Hail: INFO: wrote matrix with 2000 rows and 2000 columns as 1 block of size 4096 to file:/tmp/hail.sVrGxaLZ4jVW/G1LRO6I9Fo.bm\n",
      "2020-04-24 05:14:20 Hail: INFO: wrote matrix with 2000 rows and 2000 columns as 1 block of size 4096 to file:/tmp/hail.sVrGxaLZ4jVW/uWdXfAVRn3.bm\n",
      "2020-04-24 05:14:25 Hail: INFO: wrote matrix with 2000 rows and 2000 columns as 1 block of size 4096 to file:/tmp/hail.sVrGxaLZ4jVW/nGSYEXxeno.bm\n",
      "2020-04-24 05:14:25 Hail: INFO: wrote matrix with 2000 rows and 2000 columns as 1 block of size 4096 to file:/tmp/hail.sVrGxaLZ4jVW/oERWh1FWYa.bm\n",
      "2020-04-24 05:14:31 Hail: INFO: wrote matrix with 2000 rows and 2000 columns as 1 block of size 4096 to file:/tmp/hail.sVrGxaLZ4jVW/4Es9RylO5W.bm\n",
      "2020-04-24 05:14:37 Hail: INFO: wrote matrix with 2000 rows and 2000 columns as 1 block of size 4096 to file:/tmp/hail.sVrGxaLZ4jVW/x3UiSGepft.bm\n",
      "2020-04-24 05:14:37 Hail: INFO: wrote matrix with 2000 rows and 2000 columns as 1 block of size 4096 to file:/tmp/hail.sVrGxaLZ4jVW/wXDOC03Ryp.bm\n",
      "2020-04-24 05:14:41 Hail: INFO: Ordering unsorted dataset with network shuffle\n",
      "2020-04-24 05:15:00 Hail: INFO: Coerced sorted dataset\n",
      "2020-04-24 05:15:13 Hail: INFO: wrote table with 1999000 rows in 1 partition to /tmp/tmpbfvyi994/pc_relate_result\n",
      "2020-04-24 05:15:13 Hail: INFO: balding_nichols_model: generating genotypes for 10 populations, 2000 samples, and 6500 variants...\n"
     ]
    },
    {
     "name": "stdout",
     "output_type": "stream",
     "text": [
      "Deleting pc_relate results: /tmp/tmpbfvyi994/pc_relate_result\n",
      "Deleting hail tmp dir: /tmp/hail.sVrGxaLZ4jVW\n"
     ]
    },
    {
     "name": "stderr",
     "output_type": "stream",
     "text": [
      "2020-04-24 05:15:13 Hail: INFO: Coerced sorted dataset\n",
      "2020-04-24 05:15:15 Hail: INFO: wrote matrix table with 6500 rows and 2000 columns in 8 partitions to /home/rav/data/tmp/mt_2000_6500_10.mt\n",
      "2020-04-24 05:15:16 Hail: INFO: hwe_normalized_pca: running PCA using 6500 variants.\n",
      "2020-04-24 05:15:17 Hail: INFO: pca: running PCA with 10 components...\n"
     ]
    },
    {
     "name": "stdout",
     "output_type": "stream",
     "text": [
      "PCA took s:2000, v:6500, p:10 : 9.59 seconds\n"
     ]
    },
    {
     "name": "stderr",
     "output_type": "stream",
     "text": [
      "2020-04-24 05:15:28 Hail: INFO: Wrote all 2 blocks of 6500 x 2000 matrix with block size 4096.\n",
      "2020-04-24 05:15:28 Hail: INFO: wrote matrix with 11 rows and 6500 columns as 2 blocks of size 4096 to file:/tmp/hail.sVrGxaLZ4jVW/ZrGRGKSCoe.bm\n",
      "2020-04-24 05:15:28 Hail: INFO: wrote matrix with 6500 rows and 2000 columns as 2 blocks of size 4096 to file:/tmp/hail.sVrGxaLZ4jVW/fQgfw3TDjO.bm\n",
      "2020-04-24 05:15:29 Hail: INFO: wrote matrix with 6500 rows and 2000 columns as 2 blocks of size 4096 to file:/tmp/hail.sVrGxaLZ4jVW/r3Rru84QQa.bm\n",
      "2020-04-24 05:15:35 Hail: INFO: wrote matrix with 2000 rows and 2000 columns as 1 block of size 4096 to file:/tmp/hail.sVrGxaLZ4jVW/W4liENJijG.bm\n",
      "2020-04-24 05:15:40 Hail: INFO: wrote matrix with 2000 rows and 2000 columns as 1 block of size 4096 to file:/tmp/hail.sVrGxaLZ4jVW/phMwxBiBHb.bm\n",
      "2020-04-24 05:15:40 Hail: INFO: wrote matrix with 2000 rows and 2000 columns as 1 block of size 4096 to file:/tmp/hail.sVrGxaLZ4jVW/6zq9ELIhUZ.bm\n",
      "2020-04-24 05:15:47 Hail: INFO: wrote matrix with 2000 rows and 2000 columns as 1 block of size 4096 to file:/tmp/hail.sVrGxaLZ4jVW/k4qix894Uf.bm\n",
      "2020-04-24 05:15:53 Hail: INFO: wrote matrix with 2000 rows and 2000 columns as 1 block of size 4096 to file:/tmp/hail.sVrGxaLZ4jVW/Yr58UFn57U.bm\n",
      "2020-04-24 05:15:53 Hail: INFO: wrote matrix with 2000 rows and 2000 columns as 1 block of size 4096 to file:/tmp/hail.sVrGxaLZ4jVW/tJ6rYjCU8B.bm\n",
      "2020-04-24 05:16:00 Hail: INFO: wrote matrix with 2000 rows and 2000 columns as 1 block of size 4096 to file:/tmp/hail.sVrGxaLZ4jVW/Toya2AkDFh.bm\n",
      "2020-04-24 05:16:06 Hail: INFO: wrote matrix with 2000 rows and 2000 columns as 1 block of size 4096 to file:/tmp/hail.sVrGxaLZ4jVW/GFvxrfsujw.bm\n",
      "2020-04-24 05:16:07 Hail: INFO: wrote matrix with 2000 rows and 2000 columns as 1 block of size 4096 to file:/tmp/hail.sVrGxaLZ4jVW/BEZ5DFIafQ.bm\n",
      "2020-04-24 05:16:10 Hail: INFO: Ordering unsorted dataset with network shuffle\n",
      "2020-04-24 05:16:29 Hail: INFO: Coerced sorted dataset\n",
      "2020-04-24 05:16:42 Hail: INFO: wrote table with 1999000 rows in 1 partition to /tmp/tmpn0gnt6e8/pc_relate_result\n"
     ]
    },
    {
     "name": "stdout",
     "output_type": "stream",
     "text": [
      "Deleting pc_relate results: /tmp/tmpn0gnt6e8/pc_relate_result\n",
      "Deleting hail tmp dir: /tmp/hail.sVrGxaLZ4jVW\n"
     ]
    },
    {
     "name": "stderr",
     "output_type": "stream",
     "text": [
      "2020-04-24 05:16:42 Hail: INFO: hwe_normalized_pca: running PCA using 7000 variants.\n",
      "2020-04-24 05:16:43 Hail: INFO: pca: running PCA with 10 components...\n"
     ]
    },
    {
     "name": "stdout",
     "output_type": "stream",
     "text": [
      "PCA took s:2000, v:7000, p:10 : 11.51 seconds\n"
     ]
    },
    {
     "name": "stderr",
     "output_type": "stream",
     "text": [
      "2020-04-24 05:16:56 Hail: INFO: Wrote all 2 blocks of 7000 x 2000 matrix with block size 4096.\n",
      "2020-04-24 05:16:57 Hail: INFO: wrote matrix with 11 rows and 7000 columns as 2 blocks of size 4096 to file:/tmp/hail.sVrGxaLZ4jVW/y6CiZtYgzN.bm\n",
      "2020-04-24 05:16:57 Hail: INFO: wrote matrix with 7000 rows and 2000 columns as 2 blocks of size 4096 to file:/tmp/hail.sVrGxaLZ4jVW/kNZriJL3BH.bm\n",
      "2020-04-24 05:16:58 Hail: INFO: wrote matrix with 7000 rows and 2000 columns as 2 blocks of size 4096 to file:/tmp/hail.sVrGxaLZ4jVW/19wZLFjlEz.bm\n",
      "2020-04-24 05:17:04 Hail: INFO: wrote matrix with 2000 rows and 2000 columns as 1 block of size 4096 to file:/tmp/hail.sVrGxaLZ4jVW/gP6EWraZvI.bm\n",
      "2020-04-24 05:17:10 Hail: INFO: wrote matrix with 2000 rows and 2000 columns as 1 block of size 4096 to file:/tmp/hail.sVrGxaLZ4jVW/hKED5Mm42A.bm\n",
      "2020-04-24 05:17:10 Hail: INFO: wrote matrix with 2000 rows and 2000 columns as 1 block of size 4096 to file:/tmp/hail.sVrGxaLZ4jVW/DABStHp0aS.bm\n",
      "2020-04-24 05:17:17 Hail: INFO: wrote matrix with 2000 rows and 2000 columns as 1 block of size 4096 to file:/tmp/hail.sVrGxaLZ4jVW/oJ3TfVE1Pc.bm\n",
      "2020-04-24 05:17:23 Hail: INFO: wrote matrix with 2000 rows and 2000 columns as 1 block of size 4096 to file:/tmp/hail.sVrGxaLZ4jVW/B46w5G1F32.bm\n",
      "2020-04-24 05:17:23 Hail: INFO: wrote matrix with 2000 rows and 2000 columns as 1 block of size 4096 to file:/tmp/hail.sVrGxaLZ4jVW/TfSgwvrbzj.bm\n",
      "2020-04-24 05:17:30 Hail: INFO: wrote matrix with 2000 rows and 2000 columns as 1 block of size 4096 to file:/tmp/hail.sVrGxaLZ4jVW/Zqqoi3lm8g.bm\n",
      "2020-04-24 05:17:37 Hail: INFO: wrote matrix with 2000 rows and 2000 columns as 1 block of size 4096 to file:/tmp/hail.sVrGxaLZ4jVW/GnnvwmMr4U.bm\n",
      "2020-04-24 05:17:37 Hail: INFO: wrote matrix with 2000 rows and 2000 columns as 1 block of size 4096 to file:/tmp/hail.sVrGxaLZ4jVW/cf0wDAxJvV.bm\n",
      "2020-04-24 05:17:41 Hail: INFO: Ordering unsorted dataset with network shuffle\n",
      "2020-04-24 05:17:59 Hail: INFO: Coerced sorted dataset\n",
      "2020-04-24 05:18:12 Hail: INFO: wrote table with 1999000 rows in 1 partition to /tmp/tmpyesw50j3/pc_relate_result\n",
      "2020-04-24 05:18:12 Hail: INFO: balding_nichols_model: generating genotypes for 10 populations, 2000 samples, and 7500 variants...\n"
     ]
    },
    {
     "name": "stdout",
     "output_type": "stream",
     "text": [
      "Deleting pc_relate results: /tmp/tmpyesw50j3/pc_relate_result\n",
      "Deleting hail tmp dir: /tmp/hail.sVrGxaLZ4jVW\n"
     ]
    },
    {
     "name": "stderr",
     "output_type": "stream",
     "text": [
      "2020-04-24 05:18:13 Hail: INFO: Coerced sorted dataset\n",
      "2020-04-24 05:18:15 Hail: INFO: wrote matrix table with 7500 rows and 2000 columns in 8 partitions to /home/rav/data/tmp/mt_2000_7500_10.mt\n",
      "2020-04-24 05:18:16 Hail: INFO: hwe_normalized_pca: running PCA using 7500 variants.\n",
      "2020-04-24 05:18:17 Hail: INFO: pca: running PCA with 10 components...\n"
     ]
    },
    {
     "name": "stdout",
     "output_type": "stream",
     "text": [
      "PCA took s:2000, v:7500, p:10 : 10.60 seconds\n"
     ]
    },
    {
     "name": "stderr",
     "output_type": "stream",
     "text": [
      "2020-04-24 05:18:29 Hail: INFO: Wrote all 2 blocks of 7500 x 2000 matrix with block size 4096.\n",
      "2020-04-24 05:18:29 Hail: INFO: wrote matrix with 11 rows and 7500 columns as 2 blocks of size 4096 to file:/tmp/hail.sVrGxaLZ4jVW/VVsKHVh2yB.bm\n",
      "2020-04-24 05:18:30 Hail: INFO: wrote matrix with 7500 rows and 2000 columns as 2 blocks of size 4096 to file:/tmp/hail.sVrGxaLZ4jVW/QsBEYOJbHL.bm\n",
      "2020-04-24 05:18:30 Hail: INFO: wrote matrix with 7500 rows and 2000 columns as 2 blocks of size 4096 to file:/tmp/hail.sVrGxaLZ4jVW/E4FCQI23KK.bm\n",
      "2020-04-24 05:18:37 Hail: INFO: wrote matrix with 2000 rows and 2000 columns as 1 block of size 4096 to file:/tmp/hail.sVrGxaLZ4jVW/rNkD1Xr6rR.bm\n",
      "2020-04-24 05:18:43 Hail: INFO: wrote matrix with 2000 rows and 2000 columns as 1 block of size 4096 to file:/tmp/hail.sVrGxaLZ4jVW/T6wZprHSBF.bm\n",
      "2020-04-24 05:18:43 Hail: INFO: wrote matrix with 2000 rows and 2000 columns as 1 block of size 4096 to file:/tmp/hail.sVrGxaLZ4jVW/q6p6vOeqMc.bm\n",
      "2020-04-24 05:18:51 Hail: INFO: wrote matrix with 2000 rows and 2000 columns as 1 block of size 4096 to file:/tmp/hail.sVrGxaLZ4jVW/QiarcjARli.bm\n",
      "2020-04-24 05:18:57 Hail: INFO: wrote matrix with 2000 rows and 2000 columns as 1 block of size 4096 to file:/tmp/hail.sVrGxaLZ4jVW/60YvXk1kBH.bm\n",
      "2020-04-24 05:18:58 Hail: INFO: wrote matrix with 2000 rows and 2000 columns as 1 block of size 4096 to file:/tmp/hail.sVrGxaLZ4jVW/HzMEzw9eg7.bm\n",
      "2020-04-24 05:19:05 Hail: INFO: wrote matrix with 2000 rows and 2000 columns as 1 block of size 4096 to file:/tmp/hail.sVrGxaLZ4jVW/FbC58NUFZc.bm\n",
      "2020-04-24 05:19:12 Hail: INFO: wrote matrix with 2000 rows and 2000 columns as 1 block of size 4096 to file:/tmp/hail.sVrGxaLZ4jVW/Zgf4MhIm57.bm\n",
      "2020-04-24 05:19:13 Hail: INFO: wrote matrix with 2000 rows and 2000 columns as 1 block of size 4096 to file:/tmp/hail.sVrGxaLZ4jVW/D6TgE7R2kh.bm\n",
      "2020-04-24 05:19:16 Hail: INFO: Ordering unsorted dataset with network shuffle\n",
      "2020-04-24 05:19:35 Hail: INFO: Coerced sorted dataset\n",
      "2020-04-24 05:19:48 Hail: INFO: wrote table with 1999000 rows in 1 partition to /tmp/tmpiaw4ol6t/pc_relate_result\n"
     ]
    },
    {
     "name": "stdout",
     "output_type": "stream",
     "text": [
      "Deleting pc_relate results: /tmp/tmpiaw4ol6t/pc_relate_result\n",
      "Deleting hail tmp dir: /tmp/hail.sVrGxaLZ4jVW\n"
     ]
    },
    {
     "name": "stderr",
     "output_type": "stream",
     "text": [
      "2020-04-24 05:19:49 Hail: INFO: hwe_normalized_pca: running PCA using 8000 variants.\n",
      "2020-04-24 05:19:49 Hail: INFO: pca: running PCA with 10 components...\n"
     ]
    },
    {
     "name": "stdout",
     "output_type": "stream",
     "text": [
      "PCA took s:2000, v:8000, p:10 : 11.17 seconds\n"
     ]
    },
    {
     "name": "stderr",
     "output_type": "stream",
     "text": [
      "2020-04-24 05:20:02 Hail: INFO: Wrote all 2 blocks of 8000 x 2000 matrix with block size 4096.\n",
      "2020-04-24 05:20:03 Hail: INFO: wrote matrix with 11 rows and 8000 columns as 2 blocks of size 4096 to file:/tmp/hail.sVrGxaLZ4jVW/3yRg9q3M4R.bm\n",
      "2020-04-24 05:20:03 Hail: INFO: wrote matrix with 8000 rows and 2000 columns as 2 blocks of size 4096 to file:/tmp/hail.sVrGxaLZ4jVW/5druG8n0fE.bm\n",
      "2020-04-24 05:20:03 Hail: INFO: wrote matrix with 8000 rows and 2000 columns as 2 blocks of size 4096 to file:/tmp/hail.sVrGxaLZ4jVW/sUdqBbcTif.bm\n",
      "2020-04-24 05:20:11 Hail: INFO: wrote matrix with 2000 rows and 2000 columns as 1 block of size 4096 to file:/tmp/hail.sVrGxaLZ4jVW/SH3vt2SB4N.bm\n",
      "2020-04-24 05:20:17 Hail: INFO: wrote matrix with 2000 rows and 2000 columns as 1 block of size 4096 to file:/tmp/hail.sVrGxaLZ4jVW/kDVHkuD6Sa.bm\n",
      "2020-04-24 05:20:17 Hail: INFO: wrote matrix with 2000 rows and 2000 columns as 1 block of size 4096 to file:/tmp/hail.sVrGxaLZ4jVW/ThooTC37fU.bm\n",
      "2020-04-24 05:20:26 Hail: INFO: wrote matrix with 2000 rows and 2000 columns as 1 block of size 4096 to file:/tmp/hail.sVrGxaLZ4jVW/tbyE2LoVB7.bm\n",
      "2020-04-24 05:20:33 Hail: INFO: wrote matrix with 2000 rows and 2000 columns as 1 block of size 4096 to file:/tmp/hail.sVrGxaLZ4jVW/3TzF2iVISt.bm\n",
      "2020-04-24 05:20:33 Hail: INFO: wrote matrix with 2000 rows and 2000 columns as 1 block of size 4096 to file:/tmp/hail.sVrGxaLZ4jVW/dATF26E0PM.bm\n",
      "2020-04-24 05:20:41 Hail: INFO: wrote matrix with 2000 rows and 2000 columns as 1 block of size 4096 to file:/tmp/hail.sVrGxaLZ4jVW/ui397shq2R.bm\n",
      "2020-04-24 05:20:48 Hail: INFO: wrote matrix with 2000 rows and 2000 columns as 1 block of size 4096 to file:/tmp/hail.sVrGxaLZ4jVW/bTOWUH0YOp.bm\n",
      "2020-04-24 05:20:49 Hail: INFO: wrote matrix with 2000 rows and 2000 columns as 1 block of size 4096 to file:/tmp/hail.sVrGxaLZ4jVW/393rpoRfOV.bm\n",
      "2020-04-24 05:20:52 Hail: INFO: Ordering unsorted dataset with network shuffle\n",
      "2020-04-24 05:21:11 Hail: INFO: Coerced sorted dataset\n",
      "2020-04-24 05:21:24 Hail: INFO: wrote table with 1999000 rows in 1 partition to /tmp/tmpk2kx9k72/pc_relate_result\n",
      "2020-04-24 05:21:24 Hail: INFO: balding_nichols_model: generating genotypes for 10 populations, 2000 samples, and 8500 variants...\n"
     ]
    },
    {
     "name": "stdout",
     "output_type": "stream",
     "text": [
      "Deleting pc_relate results: /tmp/tmpk2kx9k72/pc_relate_result\n",
      "Deleting hail tmp dir: /tmp/hail.sVrGxaLZ4jVW\n"
     ]
    },
    {
     "name": "stderr",
     "output_type": "stream",
     "text": [
      "2020-04-24 05:21:25 Hail: INFO: Coerced sorted dataset\n",
      "2020-04-24 05:21:28 Hail: INFO: wrote matrix table with 8500 rows and 2000 columns in 8 partitions to /home/rav/data/tmp/mt_2000_8500_10.mt\n",
      "2020-04-24 05:21:28 Hail: INFO: hwe_normalized_pca: running PCA using 8500 variants.\n",
      "2020-04-24 05:21:29 Hail: INFO: pca: running PCA with 10 components...\n"
     ]
    },
    {
     "name": "stdout",
     "output_type": "stream",
     "text": [
      "PCA took s:2000, v:8500, p:10 : 9.98 seconds\n"
     ]
    },
    {
     "name": "stderr",
     "output_type": "stream",
     "text": [
      "2020-04-24 05:21:40 Hail: INFO: Wrote all 3 blocks of 8500 x 2000 matrix with block size 4096.\n",
      "2020-04-24 05:21:41 Hail: INFO: wrote matrix with 11 rows and 8500 columns as 3 blocks of size 4096 to file:/tmp/hail.sVrGxaLZ4jVW/xMQ4nj0fDP.bm\n",
      "2020-04-24 05:21:41 Hail: INFO: wrote matrix with 8500 rows and 2000 columns as 3 blocks of size 4096 to file:/tmp/hail.sVrGxaLZ4jVW/YiZ12Hzq3h.bm\n",
      "2020-04-24 05:21:42 Hail: INFO: wrote matrix with 8500 rows and 2000 columns as 3 blocks of size 4096 to file:/tmp/hail.sVrGxaLZ4jVW/1iiTJBpY8X.bm\n",
      "2020-04-24 05:21:49 Hail: INFO: wrote matrix with 2000 rows and 2000 columns as 1 block of size 4096 to file:/tmp/hail.sVrGxaLZ4jVW/LairJNSzkz.bm\n",
      "2020-04-24 05:21:56 Hail: INFO: wrote matrix with 2000 rows and 2000 columns as 1 block of size 4096 to file:/tmp/hail.sVrGxaLZ4jVW/PB4IdeQlPK.bm\n",
      "2020-04-24 05:21:56 Hail: INFO: wrote matrix with 2000 rows and 2000 columns as 1 block of size 4096 to file:/tmp/hail.sVrGxaLZ4jVW/dncdccpj3N.bm\n",
      "2020-04-24 05:22:06 Hail: INFO: wrote matrix with 2000 rows and 2000 columns as 1 block of size 4096 to file:/tmp/hail.sVrGxaLZ4jVW/VVgWf0sdnV.bm\n",
      "2020-04-24 05:22:13 Hail: INFO: wrote matrix with 2000 rows and 2000 columns as 1 block of size 4096 to file:/tmp/hail.sVrGxaLZ4jVW/PlwTA0Ny0f.bm\n",
      "2020-04-24 05:22:13 Hail: INFO: wrote matrix with 2000 rows and 2000 columns as 1 block of size 4096 to file:/tmp/hail.sVrGxaLZ4jVW/iCyOcW3Gnd.bm\n",
      "2020-04-24 05:22:21 Hail: INFO: wrote matrix with 2000 rows and 2000 columns as 1 block of size 4096 to file:/tmp/hail.sVrGxaLZ4jVW/DNReLGCvD6.bm\n",
      "2020-04-24 05:22:29 Hail: INFO: wrote matrix with 2000 rows and 2000 columns as 1 block of size 4096 to file:/tmp/hail.sVrGxaLZ4jVW/JRo9Aic6Es.bm\n",
      "2020-04-24 05:22:30 Hail: INFO: wrote matrix with 2000 rows and 2000 columns as 1 block of size 4096 to file:/tmp/hail.sVrGxaLZ4jVW/yHgounj2Y6.bm\n",
      "2020-04-24 05:22:33 Hail: INFO: Ordering unsorted dataset with network shuffle\n",
      "2020-04-24 05:22:52 Hail: INFO: Coerced sorted dataset\n",
      "2020-04-24 05:23:05 Hail: INFO: wrote table with 1999000 rows in 1 partition to /tmp/tmpzf1c7ya0/pc_relate_result\n"
     ]
    },
    {
     "name": "stdout",
     "output_type": "stream",
     "text": [
      "Deleting pc_relate results: /tmp/tmpzf1c7ya0/pc_relate_result\n",
      "Deleting hail tmp dir: /tmp/hail.sVrGxaLZ4jVW\n"
     ]
    },
    {
     "name": "stderr",
     "output_type": "stream",
     "text": [
      "2020-04-24 05:23:06 Hail: INFO: hwe_normalized_pca: running PCA using 9000 variants.\n",
      "2020-04-24 05:23:07 Hail: INFO: pca: running PCA with 10 components...\n"
     ]
    },
    {
     "name": "stdout",
     "output_type": "stream",
     "text": [
      "PCA took s:2000, v:9000, p:10 : 13.71 seconds\n"
     ]
    },
    {
     "name": "stderr",
     "output_type": "stream",
     "text": [
      "2020-04-24 05:23:22 Hail: INFO: Wrote all 3 blocks of 9000 x 2000 matrix with block size 4096.\n",
      "2020-04-24 05:23:23 Hail: INFO: wrote matrix with 11 rows and 9000 columns as 3 blocks of size 4096 to file:/tmp/hail.sVrGxaLZ4jVW/sD5y2GEZQt.bm\n",
      "2020-04-24 05:23:23 Hail: INFO: wrote matrix with 9000 rows and 2000 columns as 3 blocks of size 4096 to file:/tmp/hail.sVrGxaLZ4jVW/NlasHfGhsT.bm\n",
      "2020-04-24 05:23:23 Hail: INFO: wrote matrix with 9000 rows and 2000 columns as 3 blocks of size 4096 to file:/tmp/hail.sVrGxaLZ4jVW/eYXvHEOjiq.bm\n",
      "2020-04-24 05:23:31 Hail: INFO: wrote matrix with 2000 rows and 2000 columns as 1 block of size 4096 to file:/tmp/hail.sVrGxaLZ4jVW/y4VhJZFcA7.bm\n",
      "2020-04-24 05:23:39 Hail: INFO: wrote matrix with 2000 rows and 2000 columns as 1 block of size 4096 to file:/tmp/hail.sVrGxaLZ4jVW/EOWA9S3xLY.bm\n",
      "2020-04-24 05:23:39 Hail: INFO: wrote matrix with 2000 rows and 2000 columns as 1 block of size 4096 to file:/tmp/hail.sVrGxaLZ4jVW/ilEwuah9BT.bm\n",
      "2020-04-24 05:23:49 Hail: INFO: wrote matrix with 2000 rows and 2000 columns as 1 block of size 4096 to file:/tmp/hail.sVrGxaLZ4jVW/HzLgYR18kb.bm\n",
      "2020-04-24 05:23:56 Hail: INFO: wrote matrix with 2000 rows and 2000 columns as 1 block of size 4096 to file:/tmp/hail.sVrGxaLZ4jVW/mVJifF2HNs.bm\n",
      "2020-04-24 05:23:56 Hail: INFO: wrote matrix with 2000 rows and 2000 columns as 1 block of size 4096 to file:/tmp/hail.sVrGxaLZ4jVW/DptYRQHevE.bm\n",
      "2020-04-24 05:24:05 Hail: INFO: wrote matrix with 2000 rows and 2000 columns as 1 block of size 4096 to file:/tmp/hail.sVrGxaLZ4jVW/S4SZb5DYBw.bm\n",
      "2020-04-24 05:24:14 Hail: INFO: wrote matrix with 2000 rows and 2000 columns as 1 block of size 4096 to file:/tmp/hail.sVrGxaLZ4jVW/9PjqIyjoyV.bm\n",
      "2020-04-24 05:24:14 Hail: INFO: wrote matrix with 2000 rows and 2000 columns as 1 block of size 4096 to file:/tmp/hail.sVrGxaLZ4jVW/2J0MvKyGq1.bm\n",
      "2020-04-24 05:24:18 Hail: INFO: Ordering unsorted dataset with network shuffle\n",
      "2020-04-24 05:24:36 Hail: INFO: Coerced sorted dataset\n",
      "2020-04-24 05:24:50 Hail: INFO: wrote table with 1999000 rows in 1 partition to /tmp/tmpfp4zxh19/pc_relate_result\n",
      "2020-04-24 05:24:50 Hail: INFO: balding_nichols_model: generating genotypes for 10 populations, 2000 samples, and 9500 variants...\n"
     ]
    },
    {
     "name": "stdout",
     "output_type": "stream",
     "text": [
      "Deleting pc_relate results: /tmp/tmpfp4zxh19/pc_relate_result\n",
      "Deleting hail tmp dir: /tmp/hail.sVrGxaLZ4jVW\n"
     ]
    },
    {
     "name": "stderr",
     "output_type": "stream",
     "text": [
      "2020-04-24 05:24:50 Hail: INFO: Coerced sorted dataset\n",
      "2020-04-24 05:24:53 Hail: INFO: wrote matrix table with 9500 rows and 2000 columns in 8 partitions to /home/rav/data/tmp/mt_2000_9500_10.mt\n",
      "2020-04-24 05:24:54 Hail: INFO: hwe_normalized_pca: running PCA using 9500 variants.\n",
      "2020-04-24 05:24:55 Hail: INFO: pca: running PCA with 10 components...\n"
     ]
    },
    {
     "name": "stdout",
     "output_type": "stream",
     "text": [
      "PCA took s:2000, v:9500, p:10 : 11.33 seconds\n"
     ]
    },
    {
     "name": "stderr",
     "output_type": "stream",
     "text": [
      "2020-04-24 05:25:07 Hail: INFO: Wrote all 3 blocks of 9500 x 2000 matrix with block size 4096.\n",
      "2020-04-24 05:25:08 Hail: INFO: wrote matrix with 11 rows and 9500 columns as 3 blocks of size 4096 to file:/tmp/hail.sVrGxaLZ4jVW/36dCD7PSNZ.bm\n",
      "2020-04-24 05:25:08 Hail: INFO: wrote matrix with 9500 rows and 2000 columns as 3 blocks of size 4096 to file:/tmp/hail.sVrGxaLZ4jVW/WaYKKxtFWY.bm\n",
      "2020-04-24 05:25:09 Hail: INFO: wrote matrix with 9500 rows and 2000 columns as 3 blocks of size 4096 to file:/tmp/hail.sVrGxaLZ4jVW/GMisrMJQin.bm\n",
      "2020-04-24 05:25:17 Hail: INFO: wrote matrix with 2000 rows and 2000 columns as 1 block of size 4096 to file:/tmp/hail.sVrGxaLZ4jVW/lyZs0L47Tv.bm\n",
      "2020-04-24 05:25:25 Hail: INFO: wrote matrix with 2000 rows and 2000 columns as 1 block of size 4096 to file:/tmp/hail.sVrGxaLZ4jVW/txgI0JRIO7.bm\n",
      "2020-04-24 05:25:25 Hail: INFO: wrote matrix with 2000 rows and 2000 columns as 1 block of size 4096 to file:/tmp/hail.sVrGxaLZ4jVW/eZVDaGvL16.bm\n",
      "2020-04-24 05:25:36 Hail: INFO: wrote matrix with 2000 rows and 2000 columns as 1 block of size 4096 to file:/tmp/hail.sVrGxaLZ4jVW/LwAUCb98ME.bm\n",
      "2020-04-24 05:25:44 Hail: INFO: wrote matrix with 2000 rows and 2000 columns as 1 block of size 4096 to file:/tmp/hail.sVrGxaLZ4jVW/Dowop3glyt.bm\n",
      "2020-04-24 05:25:44 Hail: INFO: wrote matrix with 2000 rows and 2000 columns as 1 block of size 4096 to file:/tmp/hail.sVrGxaLZ4jVW/aM1X3h4vlh.bm\n",
      "2020-04-24 05:25:53 Hail: INFO: wrote matrix with 2000 rows and 2000 columns as 1 block of size 4096 to file:/tmp/hail.sVrGxaLZ4jVW/U6Eyh88SPV.bm\n",
      "2020-04-24 05:26:02 Hail: INFO: wrote matrix with 2000 rows and 2000 columns as 1 block of size 4096 to file:/tmp/hail.sVrGxaLZ4jVW/fetUX6foya.bm\n",
      "2020-04-24 05:26:03 Hail: INFO: wrote matrix with 2000 rows and 2000 columns as 1 block of size 4096 to file:/tmp/hail.sVrGxaLZ4jVW/Y9mklmH8Up.bm\n",
      "2020-04-24 05:26:06 Hail: INFO: Ordering unsorted dataset with network shuffle\n",
      "2020-04-24 05:26:25 Hail: INFO: Coerced sorted dataset\n",
      "2020-04-24 05:26:38 Hail: INFO: wrote table with 1999000 rows in 1 partition to /tmp/tmpvs4g2kfw/pc_relate_result\n"
     ]
    },
    {
     "name": "stdout",
     "output_type": "stream",
     "text": [
      "Deleting pc_relate results: /tmp/tmpvs4g2kfw/pc_relate_result\n",
      "Deleting hail tmp dir: /tmp/hail.sVrGxaLZ4jVW\n"
     ]
    },
    {
     "name": "stderr",
     "output_type": "stream",
     "text": [
      "2020-04-24 05:26:38 Hail: INFO: hwe_normalized_pca: running PCA using 10000 variants.\n",
      "2020-04-24 05:26:39 Hail: INFO: pca: running PCA with 10 components...\n"
     ]
    },
    {
     "name": "stdout",
     "output_type": "stream",
     "text": [
      "PCA took s:2000, v:10000, p:10 : 8.60 seconds\n"
     ]
    },
    {
     "name": "stderr",
     "output_type": "stream",
     "text": [
      "2020-04-24 05:26:49 Hail: INFO: Wrote all 3 blocks of 10000 x 2000 matrix with block size 4096.\n",
      "2020-04-24 05:26:50 Hail: INFO: wrote matrix with 11 rows and 10000 columns as 3 blocks of size 4096 to file:/tmp/hail.sVrGxaLZ4jVW/z8FwYkw0Xn.bm\n",
      "2020-04-24 05:26:50 Hail: INFO: wrote matrix with 10000 rows and 2000 columns as 3 blocks of size 4096 to file:/tmp/hail.sVrGxaLZ4jVW/DKNiWDLcz8.bm\n",
      "2020-04-24 05:26:51 Hail: INFO: wrote matrix with 10000 rows and 2000 columns as 3 blocks of size 4096 to file:/tmp/hail.sVrGxaLZ4jVW/3iOyvw3hfE.bm\n",
      "2020-04-24 05:26:59 Hail: INFO: wrote matrix with 2000 rows and 2000 columns as 1 block of size 4096 to file:/tmp/hail.sVrGxaLZ4jVW/JFQfQUuyXX.bm\n",
      "2020-04-24 05:27:08 Hail: INFO: wrote matrix with 2000 rows and 2000 columns as 1 block of size 4096 to file:/tmp/hail.sVrGxaLZ4jVW/mGiXo9ThdR.bm\n",
      "2020-04-24 05:27:08 Hail: INFO: wrote matrix with 2000 rows and 2000 columns as 1 block of size 4096 to file:/tmp/hail.sVrGxaLZ4jVW/ErJnT4EQwu.bm\n",
      "2020-04-24 05:27:19 Hail: INFO: wrote matrix with 2000 rows and 2000 columns as 1 block of size 4096 to file:/tmp/hail.sVrGxaLZ4jVW/yf7RLQj16z.bm\n",
      "2020-04-24 05:27:27 Hail: INFO: wrote matrix with 2000 rows and 2000 columns as 1 block of size 4096 to file:/tmp/hail.sVrGxaLZ4jVW/zCJ77WqHys.bm\n",
      "2020-04-24 05:27:27 Hail: INFO: wrote matrix with 2000 rows and 2000 columns as 1 block of size 4096 to file:/tmp/hail.sVrGxaLZ4jVW/OYUfkjhIaQ.bm\n",
      "2020-04-24 05:27:37 Hail: INFO: wrote matrix with 2000 rows and 2000 columns as 1 block of size 4096 to file:/tmp/hail.sVrGxaLZ4jVW/jfkvlfr0L7.bm\n",
      "2020-04-24 05:27:47 Hail: INFO: wrote matrix with 2000 rows and 2000 columns as 1 block of size 4096 to file:/tmp/hail.sVrGxaLZ4jVW/gB9Ga6CzFQ.bm\n",
      "2020-04-24 05:27:47 Hail: INFO: wrote matrix with 2000 rows and 2000 columns as 1 block of size 4096 to file:/tmp/hail.sVrGxaLZ4jVW/9duLjppAyn.bm\n",
      "2020-04-24 05:27:50 Hail: INFO: Ordering unsorted dataset with network shuffle\n",
      "2020-04-24 05:28:11 Hail: INFO: Coerced sorted dataset\n",
      "2020-04-24 05:28:25 Hail: INFO: wrote table with 1999000 rows in 1 partition to /tmp/tmptrjvbmmn/pc_relate_result\n",
      "2020-04-24 05:28:25 Hail: INFO: balding_nichols_model: generating genotypes for 10 populations, 2000 samples, and 10500 variants...\n"
     ]
    },
    {
     "name": "stdout",
     "output_type": "stream",
     "text": [
      "Deleting pc_relate results: /tmp/tmptrjvbmmn/pc_relate_result\n",
      "Deleting hail tmp dir: /tmp/hail.sVrGxaLZ4jVW\n"
     ]
    },
    {
     "name": "stderr",
     "output_type": "stream",
     "text": [
      "2020-04-24 05:28:25 Hail: INFO: Coerced sorted dataset\n",
      "2020-04-24 05:28:30 Hail: INFO: wrote matrix table with 10500 rows and 2000 columns in 8 partitions to /home/rav/data/tmp/mt_2000_10500_10.mt\n",
      "2020-04-24 05:28:30 Hail: INFO: hwe_normalized_pca: running PCA using 10500 variants.\n",
      "2020-04-24 05:28:31 Hail: INFO: pca: running PCA with 10 components...\n"
     ]
    },
    {
     "name": "stdout",
     "output_type": "stream",
     "text": [
      "PCA took s:2000, v:10500, p:10 : 10.89 seconds\n"
     ]
    },
    {
     "name": "stderr",
     "output_type": "stream",
     "text": [
      "2020-04-24 05:28:43 Hail: INFO: Wrote all 3 blocks of 10500 x 2000 matrix with block size 4096.\n",
      "2020-04-24 05:28:44 Hail: INFO: wrote matrix with 11 rows and 10500 columns as 3 blocks of size 4096 to file:/tmp/hail.sVrGxaLZ4jVW/zmdI57SOao.bm\n",
      "2020-04-24 05:28:44 Hail: INFO: wrote matrix with 10500 rows and 2000 columns as 3 blocks of size 4096 to file:/tmp/hail.sVrGxaLZ4jVW/G3nvCw4rWF.bm\n",
      "2020-04-24 05:28:45 Hail: INFO: wrote matrix with 10500 rows and 2000 columns as 3 blocks of size 4096 to file:/tmp/hail.sVrGxaLZ4jVW/0lBdYy2uw3.bm\n",
      "2020-04-24 05:28:54 Hail: INFO: wrote matrix with 2000 rows and 2000 columns as 1 block of size 4096 to file:/tmp/hail.sVrGxaLZ4jVW/u3EvTuK7IR.bm\n",
      "2020-04-24 05:29:03 Hail: INFO: wrote matrix with 2000 rows and 2000 columns as 1 block of size 4096 to file:/tmp/hail.sVrGxaLZ4jVW/1ITLwCELKe.bm\n",
      "2020-04-24 05:29:03 Hail: INFO: wrote matrix with 2000 rows and 2000 columns as 1 block of size 4096 to file:/tmp/hail.sVrGxaLZ4jVW/0VWhjFtSM4.bm\n",
      "2020-04-24 05:29:14 Hail: INFO: wrote matrix with 2000 rows and 2000 columns as 1 block of size 4096 to file:/tmp/hail.sVrGxaLZ4jVW/l6hqhzqJsh.bm\n",
      "2020-04-24 05:29:23 Hail: INFO: wrote matrix with 2000 rows and 2000 columns as 1 block of size 4096 to file:/tmp/hail.sVrGxaLZ4jVW/fBn5oHs9mO.bm\n",
      "2020-04-24 05:29:23 Hail: INFO: wrote matrix with 2000 rows and 2000 columns as 1 block of size 4096 to file:/tmp/hail.sVrGxaLZ4jVW/9I5LDS06y3.bm\n",
      "2020-04-24 05:29:33 Hail: INFO: wrote matrix with 2000 rows and 2000 columns as 1 block of size 4096 to file:/tmp/hail.sVrGxaLZ4jVW/JyoqH82biu.bm\n",
      "2020-04-24 05:29:43 Hail: INFO: wrote matrix with 2000 rows and 2000 columns as 1 block of size 4096 to file:/tmp/hail.sVrGxaLZ4jVW/RrVkTfBK0s.bm\n",
      "2020-04-24 05:29:44 Hail: INFO: wrote matrix with 2000 rows and 2000 columns as 1 block of size 4096 to file:/tmp/hail.sVrGxaLZ4jVW/FRvvVMPQLe.bm\n",
      "2020-04-24 05:29:47 Hail: INFO: Ordering unsorted dataset with network shuffle\n",
      "2020-04-24 05:30:06 Hail: INFO: Coerced sorted dataset\n",
      "2020-04-24 05:30:20 Hail: INFO: wrote table with 1999000 rows in 1 partition to /tmp/tmpnsdof72p/pc_relate_result\n",
      "2020-04-24 05:30:20 Hail: INFO: balding_nichols_model: generating genotypes for 10 populations, 2000 samples, and 11000 variants...\n"
     ]
    },
    {
     "name": "stdout",
     "output_type": "stream",
     "text": [
      "Deleting pc_relate results: /tmp/tmpnsdof72p/pc_relate_result\n",
      "Deleting hail tmp dir: /tmp/hail.sVrGxaLZ4jVW\n"
     ]
    },
    {
     "name": "stderr",
     "output_type": "stream",
     "text": [
      "2020-04-24 05:30:20 Hail: INFO: Coerced sorted dataset\n",
      "2020-04-24 05:30:24 Hail: INFO: wrote matrix table with 11000 rows and 2000 columns in 8 partitions to /home/rav/data/tmp/mt_2000_11000_10.mt\n",
      "2020-04-24 05:30:24 Hail: INFO: hwe_normalized_pca: running PCA using 11000 variants.\n",
      "2020-04-24 05:30:25 Hail: INFO: pca: running PCA with 10 components...\n"
     ]
    },
    {
     "name": "stdout",
     "output_type": "stream",
     "text": [
      "PCA took s:2000, v:11000, p:10 : 14.80 seconds\n"
     ]
    },
    {
     "name": "stderr",
     "output_type": "stream",
     "text": [
      "2020-04-24 05:30:41 Hail: INFO: Wrote all 3 blocks of 11000 x 2000 matrix with block size 4096.\n",
      "2020-04-24 05:30:42 Hail: INFO: wrote matrix with 11 rows and 11000 columns as 3 blocks of size 4096 to file:/tmp/hail.sVrGxaLZ4jVW/5FZ3EKcfnB.bm\n",
      "2020-04-24 05:30:42 Hail: INFO: wrote matrix with 11000 rows and 2000 columns as 3 blocks of size 4096 to file:/tmp/hail.sVrGxaLZ4jVW/PkFRPyAJsk.bm\n",
      "2020-04-24 05:30:43 Hail: INFO: wrote matrix with 11000 rows and 2000 columns as 3 blocks of size 4096 to file:/tmp/hail.sVrGxaLZ4jVW/0wv3425v5Y.bm\n",
      "2020-04-24 05:30:53 Hail: INFO: wrote matrix with 2000 rows and 2000 columns as 1 block of size 4096 to file:/tmp/hail.sVrGxaLZ4jVW/jHhhy3TcWZ.bm\n",
      "2020-04-24 05:31:02 Hail: INFO: wrote matrix with 2000 rows and 2000 columns as 1 block of size 4096 to file:/tmp/hail.sVrGxaLZ4jVW/OdtUus7VFC.bm\n",
      "2020-04-24 05:31:02 Hail: INFO: wrote matrix with 2000 rows and 2000 columns as 1 block of size 4096 to file:/tmp/hail.sVrGxaLZ4jVW/kv6EnxbAT6.bm\n",
      "2020-04-24 05:31:14 Hail: INFO: wrote matrix with 2000 rows and 2000 columns as 1 block of size 4096 to file:/tmp/hail.sVrGxaLZ4jVW/kgPvqRkmLU.bm\n",
      "2020-04-24 05:31:23 Hail: INFO: wrote matrix with 2000 rows and 2000 columns as 1 block of size 4096 to file:/tmp/hail.sVrGxaLZ4jVW/DP3gpjBOKC.bm\n",
      "2020-04-24 05:31:24 Hail: INFO: wrote matrix with 2000 rows and 2000 columns as 1 block of size 4096 to file:/tmp/hail.sVrGxaLZ4jVW/6sxqHAmzta.bm\n",
      "2020-04-24 05:31:34 Hail: INFO: wrote matrix with 2000 rows and 2000 columns as 1 block of size 4096 to file:/tmp/hail.sVrGxaLZ4jVW/NNQaTVLBlh.bm\n",
      "2020-04-24 05:31:45 Hail: INFO: wrote matrix with 2000 rows and 2000 columns as 1 block of size 4096 to file:/tmp/hail.sVrGxaLZ4jVW/d4EempcFpy.bm\n",
      "2020-04-24 05:31:45 Hail: INFO: wrote matrix with 2000 rows and 2000 columns as 1 block of size 4096 to file:/tmp/hail.sVrGxaLZ4jVW/wxEcvjmgvS.bm\n",
      "2020-04-24 05:31:49 Hail: INFO: Ordering unsorted dataset with network shuffle\n",
      "2020-04-24 05:32:07 Hail: INFO: Coerced sorted dataset\n",
      "2020-04-24 05:32:20 Hail: INFO: wrote table with 1999000 rows in 1 partition to /tmp/tmpk7oe71s_/pc_relate_result\n",
      "2020-04-24 05:32:20 Hail: INFO: balding_nichols_model: generating genotypes for 10 populations, 2000 samples, and 11500 variants...\n"
     ]
    },
    {
     "name": "stdout",
     "output_type": "stream",
     "text": [
      "Deleting pc_relate results: /tmp/tmpk7oe71s_/pc_relate_result\n",
      "Deleting hail tmp dir: /tmp/hail.sVrGxaLZ4jVW\n"
     ]
    },
    {
     "name": "stderr",
     "output_type": "stream",
     "text": [
      "2020-04-24 05:32:21 Hail: INFO: Coerced sorted dataset\n",
      "2020-04-24 05:32:25 Hail: INFO: wrote matrix table with 11500 rows and 2000 columns in 8 partitions to /home/rav/data/tmp/mt_2000_11500_10.mt\n",
      "2020-04-24 05:32:25 Hail: INFO: hwe_normalized_pca: running PCA using 11500 variants.\n",
      "2020-04-24 05:32:26 Hail: INFO: pca: running PCA with 10 components...\n"
     ]
    },
    {
     "name": "stdout",
     "output_type": "stream",
     "text": [
      "PCA took s:2000, v:11500, p:10 : 12.30 seconds\n"
     ]
    },
    {
     "name": "stderr",
     "output_type": "stream",
     "text": [
      "2020-04-24 05:32:40 Hail: INFO: Wrote all 3 blocks of 11500 x 2000 matrix with block size 4096.\n",
      "2020-04-24 05:32:40 Hail: INFO: wrote matrix with 11 rows and 11500 columns as 3 blocks of size 4096 to file:/tmp/hail.sVrGxaLZ4jVW/nHW8BCDLkL.bm\n",
      "2020-04-24 05:32:41 Hail: INFO: wrote matrix with 11500 rows and 2000 columns as 3 blocks of size 4096 to file:/tmp/hail.sVrGxaLZ4jVW/EVvdrJRNhG.bm\n",
      "2020-04-24 05:32:41 Hail: INFO: wrote matrix with 11500 rows and 2000 columns as 3 blocks of size 4096 to file:/tmp/hail.sVrGxaLZ4jVW/LmqLoK2Loa.bm\n",
      "2020-04-24 05:32:51 Hail: INFO: wrote matrix with 2000 rows and 2000 columns as 1 block of size 4096 to file:/tmp/hail.sVrGxaLZ4jVW/IyCI8uMdH4.bm\n",
      "2020-04-24 05:33:01 Hail: INFO: wrote matrix with 2000 rows and 2000 columns as 1 block of size 4096 to file:/tmp/hail.sVrGxaLZ4jVW/g04ne8hemD.bm\n",
      "2020-04-24 05:33:01 Hail: INFO: wrote matrix with 2000 rows and 2000 columns as 1 block of size 4096 to file:/tmp/hail.sVrGxaLZ4jVW/xBsPgxwoK1.bm\n",
      "2020-04-24 05:33:13 Hail: INFO: wrote matrix with 2000 rows and 2000 columns as 1 block of size 4096 to file:/tmp/hail.sVrGxaLZ4jVW/oBfl7ZbDYU.bm\n",
      "2020-04-24 05:33:23 Hail: INFO: wrote matrix with 2000 rows and 2000 columns as 1 block of size 4096 to file:/tmp/hail.sVrGxaLZ4jVW/aBA8qJiaK4.bm\n",
      "2020-04-24 05:33:23 Hail: INFO: wrote matrix with 2000 rows and 2000 columns as 1 block of size 4096 to file:/tmp/hail.sVrGxaLZ4jVW/OhfzEwLEt9.bm\n",
      "2020-04-24 05:33:34 Hail: INFO: wrote matrix with 2000 rows and 2000 columns as 1 block of size 4096 to file:/tmp/hail.sVrGxaLZ4jVW/85PL9HyHyB.bm\n",
      "2020-04-24 05:33:45 Hail: INFO: wrote matrix with 2000 rows and 2000 columns as 1 block of size 4096 to file:/tmp/hail.sVrGxaLZ4jVW/6hj0Qi67rC.bm\n",
      "2020-04-24 05:33:46 Hail: INFO: wrote matrix with 2000 rows and 2000 columns as 1 block of size 4096 to file:/tmp/hail.sVrGxaLZ4jVW/dPXOktXnzv.bm\n",
      "2020-04-24 05:33:49 Hail: INFO: Ordering unsorted dataset with network shuffle\n",
      "2020-04-24 05:34:07 Hail: INFO: Coerced sorted dataset\n",
      "2020-04-24 05:34:21 Hail: INFO: wrote table with 1999000 rows in 1 partition to /tmp/tmpkrlze2nk/pc_relate_result\n",
      "2020-04-24 05:34:21 Hail: INFO: balding_nichols_model: generating genotypes for 10 populations, 2000 samples, and 12000 variants...\n"
     ]
    },
    {
     "name": "stdout",
     "output_type": "stream",
     "text": [
      "Deleting pc_relate results: /tmp/tmpkrlze2nk/pc_relate_result\n",
      "Deleting hail tmp dir: /tmp/hail.sVrGxaLZ4jVW\n"
     ]
    },
    {
     "name": "stderr",
     "output_type": "stream",
     "text": [
      "2020-04-24 05:34:21 Hail: INFO: Coerced sorted dataset\n",
      "2020-04-24 05:34:25 Hail: INFO: wrote matrix table with 12000 rows and 2000 columns in 8 partitions to /home/rav/data/tmp/mt_2000_12000_10.mt\n",
      "2020-04-24 05:34:25 Hail: INFO: hwe_normalized_pca: running PCA using 12000 variants.\n",
      "2020-04-24 05:34:26 Hail: INFO: pca: running PCA with 10 components...\n"
     ]
    },
    {
     "name": "stdout",
     "output_type": "stream",
     "text": [
      "PCA took s:2000, v:12000, p:10 : 13.41 seconds\n"
     ]
    },
    {
     "name": "stderr",
     "output_type": "stream",
     "text": [
      "2020-04-24 05:34:41 Hail: INFO: Wrote all 3 blocks of 12000 x 2000 matrix with block size 4096.\n",
      "2020-04-24 05:34:42 Hail: INFO: wrote matrix with 11 rows and 12000 columns as 3 blocks of size 4096 to file:/tmp/hail.sVrGxaLZ4jVW/imeEyI0vaV.bm\n",
      "2020-04-24 05:34:42 Hail: INFO: wrote matrix with 12000 rows and 2000 columns as 3 blocks of size 4096 to file:/tmp/hail.sVrGxaLZ4jVW/5eqMNpMXE4.bm\n",
      "2020-04-24 05:34:43 Hail: INFO: wrote matrix with 12000 rows and 2000 columns as 3 blocks of size 4096 to file:/tmp/hail.sVrGxaLZ4jVW/BRTtibeo99.bm\n",
      "2020-04-24 05:34:53 Hail: INFO: wrote matrix with 2000 rows and 2000 columns as 1 block of size 4096 to file:/tmp/hail.sVrGxaLZ4jVW/oX2QSuDVqA.bm\n",
      "2020-04-24 05:35:03 Hail: INFO: wrote matrix with 2000 rows and 2000 columns as 1 block of size 4096 to file:/tmp/hail.sVrGxaLZ4jVW/5u3m4wKaHZ.bm\n",
      "2020-04-24 05:35:03 Hail: INFO: wrote matrix with 2000 rows and 2000 columns as 1 block of size 4096 to file:/tmp/hail.sVrGxaLZ4jVW/C60y7Qr8Hb.bm\n",
      "2020-04-24 05:35:17 Hail: INFO: wrote matrix with 2000 rows and 2000 columns as 1 block of size 4096 to file:/tmp/hail.sVrGxaLZ4jVW/4YgHeHL64H.bm\n",
      "2020-04-24 05:35:26 Hail: INFO: wrote matrix with 2000 rows and 2000 columns as 1 block of size 4096 to file:/tmp/hail.sVrGxaLZ4jVW/qBJejPoRkE.bm\n",
      "2020-04-24 05:35:26 Hail: INFO: wrote matrix with 2000 rows and 2000 columns as 1 block of size 4096 to file:/tmp/hail.sVrGxaLZ4jVW/9lL3kr9wm4.bm\n",
      "2020-04-24 05:35:38 Hail: INFO: wrote matrix with 2000 rows and 2000 columns as 1 block of size 4096 to file:/tmp/hail.sVrGxaLZ4jVW/zanUWIbTJ5.bm\n",
      "2020-04-24 05:35:50 Hail: INFO: wrote matrix with 2000 rows and 2000 columns as 1 block of size 4096 to file:/tmp/hail.sVrGxaLZ4jVW/M7ByHk6RGT.bm\n",
      "2020-04-24 05:35:50 Hail: INFO: wrote matrix with 2000 rows and 2000 columns as 1 block of size 4096 to file:/tmp/hail.sVrGxaLZ4jVW/oiyeRNoN7J.bm\n",
      "2020-04-24 05:35:53 Hail: INFO: Ordering unsorted dataset with network shuffle\n",
      "2020-04-24 05:36:12 Hail: INFO: Coerced sorted dataset\n",
      "2020-04-24 05:36:25 Hail: INFO: wrote table with 1999000 rows in 1 partition to /tmp/tmp8cayrat5/pc_relate_result\n",
      "2020-04-24 05:36:25 Hail: INFO: balding_nichols_model: generating genotypes for 10 populations, 2000 samples, and 12500 variants...\n"
     ]
    },
    {
     "name": "stdout",
     "output_type": "stream",
     "text": [
      "Deleting pc_relate results: /tmp/tmp8cayrat5/pc_relate_result\n",
      "Deleting hail tmp dir: /tmp/hail.sVrGxaLZ4jVW\n"
     ]
    },
    {
     "name": "stderr",
     "output_type": "stream",
     "text": [
      "2020-04-24 05:36:25 Hail: INFO: Coerced sorted dataset\n",
      "2020-04-24 05:36:29 Hail: INFO: wrote matrix table with 12500 rows and 2000 columns in 8 partitions to /home/rav/data/tmp/mt_2000_12500_10.mt\n",
      "2020-04-24 05:36:29 Hail: INFO: hwe_normalized_pca: running PCA using 12500 variants.\n",
      "2020-04-24 05:36:31 Hail: INFO: pca: running PCA with 10 components...\n"
     ]
    },
    {
     "name": "stdout",
     "output_type": "stream",
     "text": [
      "PCA took s:2000, v:12500, p:10 : 13.11 seconds\n"
     ]
    },
    {
     "name": "stderr",
     "output_type": "stream",
     "text": [
      "2020-04-24 05:36:45 Hail: INFO: Wrote all 4 blocks of 12500 x 2000 matrix with block size 4096.\n",
      "2020-04-24 05:36:46 Hail: INFO: wrote matrix with 11 rows and 12500 columns as 4 blocks of size 4096 to file:/tmp/hail.sVrGxaLZ4jVW/ZslD0kpZSS.bm\n",
      "2020-04-24 05:36:46 Hail: INFO: wrote matrix with 12500 rows and 2000 columns as 4 blocks of size 4096 to file:/tmp/hail.sVrGxaLZ4jVW/oVgO7tZzYt.bm\n",
      "2020-04-24 05:36:47 Hail: INFO: wrote matrix with 12500 rows and 2000 columns as 4 blocks of size 4096 to file:/tmp/hail.sVrGxaLZ4jVW/pt806u3pY1.bm\n",
      "2020-04-24 05:36:58 Hail: INFO: wrote matrix with 2000 rows and 2000 columns as 1 block of size 4096 to file:/tmp/hail.sVrGxaLZ4jVW/61JoiRHnng.bm\n",
      "2020-04-24 05:37:08 Hail: INFO: wrote matrix with 2000 rows and 2000 columns as 1 block of size 4096 to file:/tmp/hail.sVrGxaLZ4jVW/HHiZ5dZIQf.bm\n",
      "2020-04-24 05:37:08 Hail: INFO: wrote matrix with 2000 rows and 2000 columns as 1 block of size 4096 to file:/tmp/hail.sVrGxaLZ4jVW/KkTgmG4UWC.bm\n",
      "2020-04-24 05:37:22 Hail: INFO: wrote matrix with 2000 rows and 2000 columns as 1 block of size 4096 to file:/tmp/hail.sVrGxaLZ4jVW/UWzpzyoceV.bm\n",
      "2020-04-24 05:37:32 Hail: INFO: wrote matrix with 2000 rows and 2000 columns as 1 block of size 4096 to file:/tmp/hail.sVrGxaLZ4jVW/oWAyiW2y1F.bm\n",
      "2020-04-24 05:37:32 Hail: INFO: wrote matrix with 2000 rows and 2000 columns as 1 block of size 4096 to file:/tmp/hail.sVrGxaLZ4jVW/U136QnKNXX.bm\n",
      "2020-04-24 05:37:44 Hail: INFO: wrote matrix with 2000 rows and 2000 columns as 1 block of size 4096 to file:/tmp/hail.sVrGxaLZ4jVW/d3LxwJQhrp.bm\n",
      "2020-04-24 05:37:56 Hail: INFO: wrote matrix with 2000 rows and 2000 columns as 1 block of size 4096 to file:/tmp/hail.sVrGxaLZ4jVW/pqWFDzM1tq.bm\n",
      "2020-04-24 05:37:57 Hail: INFO: wrote matrix with 2000 rows and 2000 columns as 1 block of size 4096 to file:/tmp/hail.sVrGxaLZ4jVW/u29YTgzxHG.bm\n",
      "2020-04-24 05:38:00 Hail: INFO: Ordering unsorted dataset with network shuffle\n",
      "2020-04-24 05:38:19 Hail: INFO: Coerced sorted dataset\n",
      "2020-04-24 05:38:32 Hail: INFO: wrote table with 1999000 rows in 1 partition to /tmp/tmpfsk2e_tl/pc_relate_result\n",
      "2020-04-24 05:38:32 Hail: INFO: balding_nichols_model: generating genotypes for 10 populations, 2000 samples, and 13000 variants...\n"
     ]
    },
    {
     "name": "stdout",
     "output_type": "stream",
     "text": [
      "Deleting pc_relate results: /tmp/tmpfsk2e_tl/pc_relate_result\n",
      "Deleting hail tmp dir: /tmp/hail.sVrGxaLZ4jVW\n"
     ]
    },
    {
     "name": "stderr",
     "output_type": "stream",
     "text": [
      "2020-04-24 05:38:32 Hail: INFO: Coerced sorted dataset\n",
      "2020-04-24 05:38:36 Hail: INFO: wrote matrix table with 13000 rows and 2000 columns in 8 partitions to /home/rav/data/tmp/mt_2000_13000_10.mt\n",
      "2020-04-24 05:38:37 Hail: INFO: hwe_normalized_pca: running PCA using 13000 variants.\n",
      "2020-04-24 05:38:38 Hail: INFO: pca: running PCA with 10 components...\n"
     ]
    },
    {
     "name": "stdout",
     "output_type": "stream",
     "text": [
      "PCA took s:2000, v:13000, p:10 : 10.88 seconds\n"
     ]
    },
    {
     "name": "stderr",
     "output_type": "stream",
     "text": [
      "2020-04-24 05:38:51 Hail: INFO: Wrote all 4 blocks of 13000 x 2000 matrix with block size 4096.\n",
      "2020-04-24 05:38:51 Hail: INFO: wrote matrix with 11 rows and 13000 columns as 4 blocks of size 4096 to file:/tmp/hail.sVrGxaLZ4jVW/zwUZpA9uKe.bm\n",
      "2020-04-24 05:38:51 Hail: INFO: wrote matrix with 13000 rows and 2000 columns as 4 blocks of size 4096 to file:/tmp/hail.sVrGxaLZ4jVW/hxPPXahZ4V.bm\n",
      "2020-04-24 05:38:52 Hail: INFO: wrote matrix with 13000 rows and 2000 columns as 4 blocks of size 4096 to file:/tmp/hail.sVrGxaLZ4jVW/hOVZPbLals.bm\n",
      "2020-04-24 05:39:03 Hail: INFO: wrote matrix with 2000 rows and 2000 columns as 1 block of size 4096 to file:/tmp/hail.sVrGxaLZ4jVW/MsGR5ZYlRw.bm\n",
      "2020-04-24 05:39:14 Hail: INFO: wrote matrix with 2000 rows and 2000 columns as 1 block of size 4096 to file:/tmp/hail.sVrGxaLZ4jVW/WYvFKHHxFc.bm\n",
      "2020-04-24 05:39:14 Hail: INFO: wrote matrix with 2000 rows and 2000 columns as 1 block of size 4096 to file:/tmp/hail.sVrGxaLZ4jVW/r9ZJsPACwd.bm\n",
      "2020-04-24 05:39:29 Hail: INFO: wrote matrix with 2000 rows and 2000 columns as 1 block of size 4096 to file:/tmp/hail.sVrGxaLZ4jVW/Z8FO77FjeC.bm\n",
      "2020-04-24 05:39:39 Hail: INFO: wrote matrix with 2000 rows and 2000 columns as 1 block of size 4096 to file:/tmp/hail.sVrGxaLZ4jVW/g74m9HyS2t.bm\n",
      "2020-04-24 05:39:40 Hail: INFO: wrote matrix with 2000 rows and 2000 columns as 1 block of size 4096 to file:/tmp/hail.sVrGxaLZ4jVW/1GKQrrvPVZ.bm\n",
      "2020-04-24 05:39:52 Hail: INFO: wrote matrix with 2000 rows and 2000 columns as 1 block of size 4096 to file:/tmp/hail.sVrGxaLZ4jVW/0PwphrlMhd.bm\n",
      "2020-04-24 05:40:05 Hail: INFO: wrote matrix with 2000 rows and 2000 columns as 1 block of size 4096 to file:/tmp/hail.sVrGxaLZ4jVW/M15ZTxVN3S.bm\n",
      "2020-04-24 05:40:05 Hail: INFO: wrote matrix with 2000 rows and 2000 columns as 1 block of size 4096 to file:/tmp/hail.sVrGxaLZ4jVW/0N3hTz6Dx8.bm\n",
      "2020-04-24 05:40:08 Hail: INFO: Ordering unsorted dataset with network shuffle\n",
      "2020-04-24 05:40:27 Hail: INFO: Coerced sorted dataset\n",
      "2020-04-24 05:40:40 Hail: INFO: wrote table with 1999000 rows in 1 partition to /tmp/tmpvxw8jz2y/pc_relate_result\n",
      "2020-04-24 05:40:40 Hail: INFO: balding_nichols_model: generating genotypes for 10 populations, 2000 samples, and 13500 variants...\n"
     ]
    },
    {
     "name": "stdout",
     "output_type": "stream",
     "text": [
      "Deleting pc_relate results: /tmp/tmpvxw8jz2y/pc_relate_result\n",
      "Deleting hail tmp dir: /tmp/hail.sVrGxaLZ4jVW\n"
     ]
    },
    {
     "name": "stderr",
     "output_type": "stream",
     "text": [
      "2020-04-24 05:40:40 Hail: INFO: Coerced sorted dataset\n",
      "2020-04-24 05:40:45 Hail: INFO: wrote matrix table with 13500 rows and 2000 columns in 8 partitions to /home/rav/data/tmp/mt_2000_13500_10.mt\n",
      "2020-04-24 05:40:45 Hail: INFO: hwe_normalized_pca: running PCA using 13500 variants.\n",
      "2020-04-24 05:40:46 Hail: INFO: pca: running PCA with 10 components...\n"
     ]
    },
    {
     "name": "stdout",
     "output_type": "stream",
     "text": [
      "PCA took s:2000, v:13500, p:10 : 12.21 seconds\n"
     ]
    },
    {
     "name": "stderr",
     "output_type": "stream",
     "text": [
      "2020-04-24 05:41:00 Hail: INFO: Wrote all 4 blocks of 13500 x 2000 matrix with block size 4096.\n",
      "2020-04-24 05:41:01 Hail: INFO: wrote matrix with 11 rows and 13500 columns as 4 blocks of size 4096 to file:/tmp/hail.sVrGxaLZ4jVW/xw1mZBy46P.bm\n",
      "2020-04-24 05:41:01 Hail: INFO: wrote matrix with 13500 rows and 2000 columns as 4 blocks of size 4096 to file:/tmp/hail.sVrGxaLZ4jVW/Hd3hRcqMOW.bm\n",
      "2020-04-24 05:41:02 Hail: INFO: wrote matrix with 13500 rows and 2000 columns as 4 blocks of size 4096 to file:/tmp/hail.sVrGxaLZ4jVW/pK5SDCE8eS.bm\n",
      "2020-04-24 05:41:13 Hail: INFO: wrote matrix with 2000 rows and 2000 columns as 1 block of size 4096 to file:/tmp/hail.sVrGxaLZ4jVW/67lDnqWJhc.bm\n",
      "2020-04-24 05:41:25 Hail: INFO: wrote matrix with 2000 rows and 2000 columns as 1 block of size 4096 to file:/tmp/hail.sVrGxaLZ4jVW/hn768zNCec.bm\n",
      "2020-04-24 05:41:25 Hail: INFO: wrote matrix with 2000 rows and 2000 columns as 1 block of size 4096 to file:/tmp/hail.sVrGxaLZ4jVW/EMR7TQkOK3.bm\n",
      "2020-04-24 05:41:40 Hail: INFO: wrote matrix with 2000 rows and 2000 columns as 1 block of size 4096 to file:/tmp/hail.sVrGxaLZ4jVW/oKY03EJnOv.bm\n",
      "2020-04-24 05:41:51 Hail: INFO: wrote matrix with 2000 rows and 2000 columns as 1 block of size 4096 to file:/tmp/hail.sVrGxaLZ4jVW/pAmZTBrCqa.bm\n",
      "2020-04-24 05:41:51 Hail: INFO: wrote matrix with 2000 rows and 2000 columns as 1 block of size 4096 to file:/tmp/hail.sVrGxaLZ4jVW/zgj20ymvk9.bm\n",
      "2020-04-24 05:42:04 Hail: INFO: wrote matrix with 2000 rows and 2000 columns as 1 block of size 4096 to file:/tmp/hail.sVrGxaLZ4jVW/bMjApVPUrJ.bm\n",
      "2020-04-24 05:42:17 Hail: INFO: wrote matrix with 2000 rows and 2000 columns as 1 block of size 4096 to file:/tmp/hail.sVrGxaLZ4jVW/nCHy5fBPeS.bm\n",
      "2020-04-24 05:42:17 Hail: INFO: wrote matrix with 2000 rows and 2000 columns as 1 block of size 4096 to file:/tmp/hail.sVrGxaLZ4jVW/kxuKGOcp6M.bm\n",
      "2020-04-24 05:42:21 Hail: INFO: Ordering unsorted dataset with network shuffle\n",
      "2020-04-24 05:42:39 Hail: INFO: Coerced sorted dataset\n",
      "2020-04-24 05:42:52 Hail: INFO: wrote table with 1999000 rows in 1 partition to /tmp/tmpuscn8p92/pc_relate_result\n",
      "2020-04-24 05:42:52 Hail: INFO: balding_nichols_model: generating genotypes for 10 populations, 2000 samples, and 14000 variants...\n"
     ]
    },
    {
     "name": "stdout",
     "output_type": "stream",
     "text": [
      "Deleting pc_relate results: /tmp/tmpuscn8p92/pc_relate_result\n",
      "Deleting hail tmp dir: /tmp/hail.sVrGxaLZ4jVW\n"
     ]
    },
    {
     "name": "stderr",
     "output_type": "stream",
     "text": [
      "2020-04-24 05:42:52 Hail: INFO: Coerced sorted dataset\n",
      "2020-04-24 05:42:57 Hail: INFO: wrote matrix table with 14000 rows and 2000 columns in 8 partitions to /home/rav/data/tmp/mt_2000_14000_10.mt\n",
      "2020-04-24 05:42:57 Hail: INFO: hwe_normalized_pca: running PCA using 14000 variants.\n",
      "2020-04-24 05:42:58 Hail: INFO: pca: running PCA with 10 components...\n"
     ]
    },
    {
     "name": "stdout",
     "output_type": "stream",
     "text": [
      "PCA took s:2000, v:14000, p:10 : 10.52 seconds\n"
     ]
    },
    {
     "name": "stderr",
     "output_type": "stream",
     "text": [
      "2020-04-24 05:43:11 Hail: INFO: Wrote all 4 blocks of 14000 x 2000 matrix with block size 4096.\n",
      "2020-04-24 05:43:11 Hail: INFO: wrote matrix with 11 rows and 14000 columns as 4 blocks of size 4096 to file:/tmp/hail.sVrGxaLZ4jVW/kcdopFxxaJ.bm\n",
      "2020-04-24 05:43:12 Hail: INFO: wrote matrix with 14000 rows and 2000 columns as 4 blocks of size 4096 to file:/tmp/hail.sVrGxaLZ4jVW/I9cgErEbbG.bm\n",
      "2020-04-24 05:43:12 Hail: INFO: wrote matrix with 14000 rows and 2000 columns as 4 blocks of size 4096 to file:/tmp/hail.sVrGxaLZ4jVW/BrEUcYAeFP.bm\n",
      "2020-04-24 05:43:25 Hail: INFO: wrote matrix with 2000 rows and 2000 columns as 1 block of size 4096 to file:/tmp/hail.sVrGxaLZ4jVW/CE56kHSQVh.bm\n",
      "2020-04-24 05:43:36 Hail: INFO: wrote matrix with 2000 rows and 2000 columns as 1 block of size 4096 to file:/tmp/hail.sVrGxaLZ4jVW/zmMimFZcaT.bm\n",
      "2020-04-24 05:43:36 Hail: INFO: wrote matrix with 2000 rows and 2000 columns as 1 block of size 4096 to file:/tmp/hail.sVrGxaLZ4jVW/uV8L748njJ.bm\n",
      "2020-04-24 05:43:52 Hail: INFO: wrote matrix with 2000 rows and 2000 columns as 1 block of size 4096 to file:/tmp/hail.sVrGxaLZ4jVW/LAKBjyIqGo.bm\n",
      "2020-04-24 05:44:03 Hail: INFO: wrote matrix with 2000 rows and 2000 columns as 1 block of size 4096 to file:/tmp/hail.sVrGxaLZ4jVW/d1vlkb0R6z.bm\n",
      "2020-04-24 05:44:03 Hail: INFO: wrote matrix with 2000 rows and 2000 columns as 1 block of size 4096 to file:/tmp/hail.sVrGxaLZ4jVW/ljObjgKNuJ.bm\n",
      "2020-04-24 05:44:17 Hail: INFO: wrote matrix with 2000 rows and 2000 columns as 1 block of size 4096 to file:/tmp/hail.sVrGxaLZ4jVW/uWs44wuou1.bm\n",
      "2020-04-24 05:44:30 Hail: INFO: wrote matrix with 2000 rows and 2000 columns as 1 block of size 4096 to file:/tmp/hail.sVrGxaLZ4jVW/XcaFh0iyhr.bm\n",
      "2020-04-24 05:44:31 Hail: INFO: wrote matrix with 2000 rows and 2000 columns as 1 block of size 4096 to file:/tmp/hail.sVrGxaLZ4jVW/8NOeFgPkrf.bm\n",
      "2020-04-24 05:44:35 Hail: INFO: Ordering unsorted dataset with network shuffle\n",
      "2020-04-24 05:44:53 Hail: INFO: Coerced sorted dataset\n",
      "2020-04-24 05:45:07 Hail: INFO: wrote table with 1999000 rows in 1 partition to /tmp/tmpdqs1uhrt/pc_relate_result\n",
      "2020-04-24 05:45:07 Hail: INFO: balding_nichols_model: generating genotypes for 10 populations, 2000 samples, and 14500 variants...\n"
     ]
    },
    {
     "name": "stdout",
     "output_type": "stream",
     "text": [
      "Deleting pc_relate results: /tmp/tmpdqs1uhrt/pc_relate_result\n",
      "Deleting hail tmp dir: /tmp/hail.sVrGxaLZ4jVW\n"
     ]
    },
    {
     "name": "stderr",
     "output_type": "stream",
     "text": [
      "2020-04-24 05:45:07 Hail: INFO: Coerced sorted dataset\n",
      "2020-04-24 05:45:12 Hail: INFO: wrote matrix table with 14500 rows and 2000 columns in 8 partitions to /home/rav/data/tmp/mt_2000_14500_10.mt\n",
      "2020-04-24 05:45:12 Hail: INFO: hwe_normalized_pca: running PCA using 14500 variants.\n",
      "2020-04-24 05:45:13 Hail: INFO: pca: running PCA with 10 components...\n"
     ]
    },
    {
     "name": "stdout",
     "output_type": "stream",
     "text": [
      "PCA took s:2000, v:14500, p:10 : 14.25 seconds\n"
     ]
    },
    {
     "name": "stderr",
     "output_type": "stream",
     "text": [
      "2020-04-24 05:45:29 Hail: INFO: Wrote all 4 blocks of 14500 x 2000 matrix with block size 4096.\n",
      "2020-04-24 05:45:30 Hail: INFO: wrote matrix with 11 rows and 14500 columns as 4 blocks of size 4096 to file:/tmp/hail.sVrGxaLZ4jVW/YUTAlZU65M.bm\n",
      "2020-04-24 05:45:30 Hail: INFO: wrote matrix with 14500 rows and 2000 columns as 4 blocks of size 4096 to file:/tmp/hail.sVrGxaLZ4jVW/b4xhI454kt.bm\n",
      "2020-04-24 05:45:30 Hail: INFO: wrote matrix with 14500 rows and 2000 columns as 4 blocks of size 4096 to file:/tmp/hail.sVrGxaLZ4jVW/nyaHYL0eZ1.bm\n",
      "2020-04-24 05:45:43 Hail: INFO: wrote matrix with 2000 rows and 2000 columns as 1 block of size 4096 to file:/tmp/hail.sVrGxaLZ4jVW/T2CuybejjH.bm\n",
      "2020-04-24 05:45:55 Hail: INFO: wrote matrix with 2000 rows and 2000 columns as 1 block of size 4096 to file:/tmp/hail.sVrGxaLZ4jVW/47t91cMLTU.bm\n",
      "2020-04-24 05:45:55 Hail: INFO: wrote matrix with 2000 rows and 2000 columns as 1 block of size 4096 to file:/tmp/hail.sVrGxaLZ4jVW/m1b5OU9FO8.bm\n",
      "2020-04-24 05:46:11 Hail: INFO: wrote matrix with 2000 rows and 2000 columns as 1 block of size 4096 to file:/tmp/hail.sVrGxaLZ4jVW/PBpUtF6aHb.bm\n",
      "2020-04-24 05:46:23 Hail: INFO: wrote matrix with 2000 rows and 2000 columns as 1 block of size 4096 to file:/tmp/hail.sVrGxaLZ4jVW/6j314OlWjo.bm\n",
      "2020-04-24 05:46:23 Hail: INFO: wrote matrix with 2000 rows and 2000 columns as 1 block of size 4096 to file:/tmp/hail.sVrGxaLZ4jVW/rEf1NbSfyu.bm\n",
      "2020-04-24 05:46:37 Hail: INFO: wrote matrix with 2000 rows and 2000 columns as 1 block of size 4096 to file:/tmp/hail.sVrGxaLZ4jVW/Wk6CaD9Pje.bm\n",
      "2020-04-24 05:46:51 Hail: INFO: wrote matrix with 2000 rows and 2000 columns as 1 block of size 4096 to file:/tmp/hail.sVrGxaLZ4jVW/pDokAMsqWB.bm\n",
      "2020-04-24 05:46:51 Hail: INFO: wrote matrix with 2000 rows and 2000 columns as 1 block of size 4096 to file:/tmp/hail.sVrGxaLZ4jVW/lL1aR79BXq.bm\n",
      "2020-04-24 05:46:55 Hail: INFO: Ordering unsorted dataset with network shuffle\n",
      "2020-04-24 05:47:13 Hail: INFO: Coerced sorted dataset\n",
      "2020-04-24 05:47:27 Hail: INFO: wrote table with 1999000 rows in 1 partition to /tmp/tmpt3lozgyn/pc_relate_result\n",
      "2020-04-24 05:47:27 Hail: INFO: balding_nichols_model: generating genotypes for 10 populations, 2000 samples, and 15000 variants...\n"
     ]
    },
    {
     "name": "stdout",
     "output_type": "stream",
     "text": [
      "Deleting pc_relate results: /tmp/tmpt3lozgyn/pc_relate_result\n",
      "Deleting hail tmp dir: /tmp/hail.sVrGxaLZ4jVW\n"
     ]
    },
    {
     "name": "stderr",
     "output_type": "stream",
     "text": [
      "2020-04-24 05:47:27 Hail: INFO: Coerced sorted dataset\n",
      "2020-04-24 05:47:32 Hail: INFO: wrote matrix table with 15000 rows and 2000 columns in 8 partitions to /home/rav/data/tmp/mt_2000_15000_10.mt\n",
      "2020-04-24 05:47:32 Hail: INFO: hwe_normalized_pca: running PCA using 15000 variants.\n",
      "2020-04-24 05:47:33 Hail: INFO: pca: running PCA with 10 components...\n"
     ]
    },
    {
     "name": "stdout",
     "output_type": "stream",
     "text": [
      "PCA took s:2000, v:15000, p:10 : 13.18 seconds\n"
     ]
    },
    {
     "name": "stderr",
     "output_type": "stream",
     "text": [
      "2020-04-24 05:47:48 Hail: INFO: Wrote all 4 blocks of 15000 x 2000 matrix with block size 4096.\n",
      "2020-04-24 05:47:49 Hail: INFO: wrote matrix with 11 rows and 15000 columns as 4 blocks of size 4096 to file:/tmp/hail.sVrGxaLZ4jVW/dWRUP1iJHu.bm\n",
      "2020-04-24 05:47:49 Hail: INFO: wrote matrix with 15000 rows and 2000 columns as 4 blocks of size 4096 to file:/tmp/hail.sVrGxaLZ4jVW/87F98rgSQW.bm\n",
      "2020-04-24 05:47:49 Hail: INFO: wrote matrix with 15000 rows and 2000 columns as 4 blocks of size 4096 to file:/tmp/hail.sVrGxaLZ4jVW/9KcuuhbQo3.bm\n",
      "2020-04-24 05:48:02 Hail: INFO: wrote matrix with 2000 rows and 2000 columns as 1 block of size 4096 to file:/tmp/hail.sVrGxaLZ4jVW/IFwyZO6Cbz.bm\n",
      "2020-04-24 05:48:15 Hail: INFO: wrote matrix with 2000 rows and 2000 columns as 1 block of size 4096 to file:/tmp/hail.sVrGxaLZ4jVW/PfthhqvtiL.bm\n",
      "2020-04-24 05:48:15 Hail: INFO: wrote matrix with 2000 rows and 2000 columns as 1 block of size 4096 to file:/tmp/hail.sVrGxaLZ4jVW/HK4udHuLKd.bm\n",
      "2020-04-24 05:48:31 Hail: INFO: wrote matrix with 2000 rows and 2000 columns as 1 block of size 4096 to file:/tmp/hail.sVrGxaLZ4jVW/V0ll41IlLS.bm\n",
      "2020-04-24 05:48:44 Hail: INFO: wrote matrix with 2000 rows and 2000 columns as 1 block of size 4096 to file:/tmp/hail.sVrGxaLZ4jVW/JPSMixWqmA.bm\n",
      "2020-04-24 05:48:44 Hail: INFO: wrote matrix with 2000 rows and 2000 columns as 1 block of size 4096 to file:/tmp/hail.sVrGxaLZ4jVW/W06gYicToR.bm\n",
      "2020-04-24 05:48:59 Hail: INFO: wrote matrix with 2000 rows and 2000 columns as 1 block of size 4096 to file:/tmp/hail.sVrGxaLZ4jVW/NdIxrhn0Dg.bm\n",
      "2020-04-24 05:49:13 Hail: INFO: wrote matrix with 2000 rows and 2000 columns as 1 block of size 4096 to file:/tmp/hail.sVrGxaLZ4jVW/v4zRoWy3cp.bm\n",
      "2020-04-24 05:49:13 Hail: INFO: wrote matrix with 2000 rows and 2000 columns as 1 block of size 4096 to file:/tmp/hail.sVrGxaLZ4jVW/xH26tz78t6.bm\n",
      "2020-04-24 05:49:17 Hail: INFO: Ordering unsorted dataset with network shuffle\n",
      "2020-04-24 05:49:35 Hail: INFO: Coerced sorted dataset\n",
      "2020-04-24 05:49:49 Hail: INFO: wrote table with 1999000 rows in 1 partition to /tmp/tmpjc9p2tj2/pc_relate_result\n",
      "2020-04-24 05:49:49 Hail: INFO: balding_nichols_model: generating genotypes for 10 populations, 2000 samples, and 15500 variants...\n"
     ]
    },
    {
     "name": "stdout",
     "output_type": "stream",
     "text": [
      "Deleting pc_relate results: /tmp/tmpjc9p2tj2/pc_relate_result\n",
      "Deleting hail tmp dir: /tmp/hail.sVrGxaLZ4jVW\n"
     ]
    },
    {
     "name": "stderr",
     "output_type": "stream",
     "text": [
      "2020-04-24 05:49:49 Hail: INFO: Coerced sorted dataset\n",
      "2020-04-24 05:49:54 Hail: INFO: wrote matrix table with 15500 rows and 2000 columns in 8 partitions to /home/rav/data/tmp/mt_2000_15500_10.mt\n",
      "2020-04-24 05:49:55 Hail: INFO: hwe_normalized_pca: running PCA using 15500 variants.\n",
      "2020-04-24 05:49:56 Hail: INFO: pca: running PCA with 10 components...\n"
     ]
    },
    {
     "name": "stdout",
     "output_type": "stream",
     "text": [
      "PCA took s:2000, v:15500, p:10 : 16.35 seconds\n"
     ]
    },
    {
     "name": "stderr",
     "output_type": "stream",
     "text": [
      "2020-04-24 05:50:14 Hail: INFO: Wrote all 4 blocks of 15500 x 2000 matrix with block size 4096.\n",
      "2020-04-24 05:50:14 Hail: INFO: wrote matrix with 11 rows and 15500 columns as 4 blocks of size 4096 to file:/tmp/hail.sVrGxaLZ4jVW/SYcNGenHbM.bm\n",
      "2020-04-24 05:50:15 Hail: INFO: wrote matrix with 15500 rows and 2000 columns as 4 blocks of size 4096 to file:/tmp/hail.sVrGxaLZ4jVW/WUP8RLnnQO.bm\n",
      "2020-04-24 05:50:15 Hail: INFO: wrote matrix with 15500 rows and 2000 columns as 4 blocks of size 4096 to file:/tmp/hail.sVrGxaLZ4jVW/jMQDNA12TO.bm\n",
      "2020-04-24 05:50:28 Hail: INFO: wrote matrix with 2000 rows and 2000 columns as 1 block of size 4096 to file:/tmp/hail.sVrGxaLZ4jVW/XixVDYwnpW.bm\n",
      "2020-04-24 05:50:41 Hail: INFO: wrote matrix with 2000 rows and 2000 columns as 1 block of size 4096 to file:/tmp/hail.sVrGxaLZ4jVW/gjCgARrDfR.bm\n",
      "2020-04-24 05:50:41 Hail: INFO: wrote matrix with 2000 rows and 2000 columns as 1 block of size 4096 to file:/tmp/hail.sVrGxaLZ4jVW/A6qxIHH31b.bm\n",
      "2020-04-24 05:50:59 Hail: INFO: wrote matrix with 2000 rows and 2000 columns as 1 block of size 4096 to file:/tmp/hail.sVrGxaLZ4jVW/tnlSBmqlVe.bm\n",
      "2020-04-24 05:51:11 Hail: INFO: wrote matrix with 2000 rows and 2000 columns as 1 block of size 4096 to file:/tmp/hail.sVrGxaLZ4jVW/CuIbOZu2gm.bm\n",
      "2020-04-24 05:51:11 Hail: INFO: wrote matrix with 2000 rows and 2000 columns as 1 block of size 4096 to file:/tmp/hail.sVrGxaLZ4jVW/aeSfsCKIK6.bm\n",
      "2020-04-24 05:51:26 Hail: INFO: wrote matrix with 2000 rows and 2000 columns as 1 block of size 4096 to file:/tmp/hail.sVrGxaLZ4jVW/EwY809z8s7.bm\n",
      "2020-04-24 05:51:41 Hail: INFO: wrote matrix with 2000 rows and 2000 columns as 1 block of size 4096 to file:/tmp/hail.sVrGxaLZ4jVW/dDHn3nN9QK.bm\n",
      "2020-04-24 05:51:41 Hail: INFO: wrote matrix with 2000 rows and 2000 columns as 1 block of size 4096 to file:/tmp/hail.sVrGxaLZ4jVW/TMWg9Xy7k1.bm\n",
      "2020-04-24 05:51:45 Hail: INFO: Ordering unsorted dataset with network shuffle\n",
      "2020-04-24 05:52:03 Hail: INFO: Coerced sorted dataset\n",
      "2020-04-24 05:52:16 Hail: INFO: wrote table with 1999000 rows in 1 partition to /tmp/tmpur9pfqe7/pc_relate_result\n",
      "2020-04-24 05:52:16 Hail: INFO: balding_nichols_model: generating genotypes for 10 populations, 2000 samples, and 16000 variants...\n"
     ]
    },
    {
     "name": "stdout",
     "output_type": "stream",
     "text": [
      "Deleting pc_relate results: /tmp/tmpur9pfqe7/pc_relate_result\n",
      "Deleting hail tmp dir: /tmp/hail.sVrGxaLZ4jVW\n"
     ]
    },
    {
     "name": "stderr",
     "output_type": "stream",
     "text": [
      "2020-04-24 05:52:17 Hail: INFO: Coerced sorted dataset\n",
      "2020-04-24 05:52:22 Hail: INFO: wrote matrix table with 16000 rows and 2000 columns in 8 partitions to /home/rav/data/tmp/mt_2000_16000_10.mt\n",
      "2020-04-24 05:52:22 Hail: INFO: hwe_normalized_pca: running PCA using 16000 variants.\n",
      "2020-04-24 05:52:23 Hail: INFO: pca: running PCA with 10 components...\n"
     ]
    },
    {
     "name": "stdout",
     "output_type": "stream",
     "text": [
      "PCA took s:2000, v:16000, p:10 : 13.19 seconds\n"
     ]
    },
    {
     "name": "stderr",
     "output_type": "stream",
     "text": [
      "2020-04-24 05:52:38 Hail: INFO: Wrote all 4 blocks of 16000 x 2000 matrix with block size 4096.\n",
      "2020-04-24 05:52:39 Hail: INFO: wrote matrix with 11 rows and 16000 columns as 4 blocks of size 4096 to file:/tmp/hail.sVrGxaLZ4jVW/ME7KHMiDb0.bm\n",
      "2020-04-24 05:52:39 Hail: INFO: wrote matrix with 16000 rows and 2000 columns as 4 blocks of size 4096 to file:/tmp/hail.sVrGxaLZ4jVW/DaqS3gSOT2.bm\n",
      "2020-04-24 05:52:40 Hail: INFO: wrote matrix with 16000 rows and 2000 columns as 4 blocks of size 4096 to file:/tmp/hail.sVrGxaLZ4jVW/knW9KDXG6U.bm\n",
      "2020-04-24 05:52:53 Hail: INFO: wrote matrix with 2000 rows and 2000 columns as 1 block of size 4096 to file:/tmp/hail.sVrGxaLZ4jVW/qPhGKnQBRo.bm\n",
      "2020-04-24 05:53:07 Hail: INFO: wrote matrix with 2000 rows and 2000 columns as 1 block of size 4096 to file:/tmp/hail.sVrGxaLZ4jVW/WGdXMgqXr4.bm\n",
      "2020-04-24 05:53:07 Hail: INFO: wrote matrix with 2000 rows and 2000 columns as 1 block of size 4096 to file:/tmp/hail.sVrGxaLZ4jVW/xsvTNbMUOi.bm\n",
      "2020-04-24 05:53:24 Hail: INFO: wrote matrix with 2000 rows and 2000 columns as 1 block of size 4096 to file:/tmp/hail.sVrGxaLZ4jVW/OOd5wasXjB.bm\n",
      "2020-04-24 05:53:37 Hail: INFO: wrote matrix with 2000 rows and 2000 columns as 1 block of size 4096 to file:/tmp/hail.sVrGxaLZ4jVW/SuMqchmbap.bm\n",
      "2020-04-24 05:53:38 Hail: INFO: wrote matrix with 2000 rows and 2000 columns as 1 block of size 4096 to file:/tmp/hail.sVrGxaLZ4jVW/nIk3h2jQVz.bm\n",
      "2020-04-24 05:53:53 Hail: INFO: wrote matrix with 2000 rows and 2000 columns as 1 block of size 4096 to file:/tmp/hail.sVrGxaLZ4jVW/Upk0AwCKVl.bm\n",
      "2020-04-24 05:54:08 Hail: INFO: wrote matrix with 2000 rows and 2000 columns as 1 block of size 4096 to file:/tmp/hail.sVrGxaLZ4jVW/EAvG3qh1Go.bm\n",
      "2020-04-24 05:54:09 Hail: INFO: wrote matrix with 2000 rows and 2000 columns as 1 block of size 4096 to file:/tmp/hail.sVrGxaLZ4jVW/VHJkM4HioX.bm\n",
      "2020-04-24 05:54:12 Hail: INFO: Ordering unsorted dataset with network shuffle\n",
      "2020-04-24 05:54:30 Hail: INFO: Coerced sorted dataset\n",
      "2020-04-24 05:54:44 Hail: INFO: wrote table with 1999000 rows in 1 partition to /tmp/tmpzwkoqr97/pc_relate_result\n",
      "2020-04-24 05:54:44 Hail: INFO: balding_nichols_model: generating genotypes for 10 populations, 2000 samples, and 16500 variants...\n"
     ]
    },
    {
     "name": "stdout",
     "output_type": "stream",
     "text": [
      "Deleting pc_relate results: /tmp/tmpzwkoqr97/pc_relate_result\n",
      "Deleting hail tmp dir: /tmp/hail.sVrGxaLZ4jVW\n"
     ]
    },
    {
     "name": "stderr",
     "output_type": "stream",
     "text": [
      "2020-04-24 05:54:44 Hail: INFO: Coerced sorted dataset\n",
      "2020-04-24 05:54:49 Hail: INFO: wrote matrix table with 16500 rows and 2000 columns in 8 partitions to /home/rav/data/tmp/mt_2000_16500_10.mt\n",
      "2020-04-24 05:54:50 Hail: INFO: hwe_normalized_pca: running PCA using 16500 variants.\n",
      "2020-04-24 05:54:51 Hail: INFO: pca: running PCA with 10 components...\n"
     ]
    },
    {
     "name": "stdout",
     "output_type": "stream",
     "text": [
      "PCA took s:2000, v:16500, p:10 : 14.09 seconds\n"
     ]
    },
    {
     "name": "stderr",
     "output_type": "stream",
     "text": [
      "2020-04-24 05:55:06 Hail: INFO: Wrote all 5 blocks of 16500 x 2000 matrix with block size 4096.\n",
      "2020-04-24 05:55:07 Hail: INFO: wrote matrix with 11 rows and 16500 columns as 5 blocks of size 4096 to file:/tmp/hail.sVrGxaLZ4jVW/ahigSDGIoA.bm\n",
      "2020-04-24 05:55:07 Hail: INFO: wrote matrix with 16500 rows and 2000 columns as 5 blocks of size 4096 to file:/tmp/hail.sVrGxaLZ4jVW/k2TY0CEdey.bm\n",
      "2020-04-24 05:55:08 Hail: INFO: wrote matrix with 16500 rows and 2000 columns as 5 blocks of size 4096 to file:/tmp/hail.sVrGxaLZ4jVW/DuXbBZydTQ.bm\n",
      "2020-04-24 05:55:23 Hail: INFO: wrote matrix with 2000 rows and 2000 columns as 1 block of size 4096 to file:/tmp/hail.sVrGxaLZ4jVW/6sog1IzvH4.bm\n",
      "2020-04-24 05:55:36 Hail: INFO: wrote matrix with 2000 rows and 2000 columns as 1 block of size 4096 to file:/tmp/hail.sVrGxaLZ4jVW/4EQ4UEoKFg.bm\n",
      "2020-04-24 05:55:37 Hail: INFO: wrote matrix with 2000 rows and 2000 columns as 1 block of size 4096 to file:/tmp/hail.sVrGxaLZ4jVW/ozlMRi1dgO.bm\n",
      "2020-04-24 05:55:55 Hail: INFO: wrote matrix with 2000 rows and 2000 columns as 1 block of size 4096 to file:/tmp/hail.sVrGxaLZ4jVW/BjNiDjiGnr.bm\n",
      "2020-04-24 05:56:08 Hail: INFO: wrote matrix with 2000 rows and 2000 columns as 1 block of size 4096 to file:/tmp/hail.sVrGxaLZ4jVW/G0c7U6iGnk.bm\n",
      "2020-04-24 05:56:08 Hail: INFO: wrote matrix with 2000 rows and 2000 columns as 1 block of size 4096 to file:/tmp/hail.sVrGxaLZ4jVW/lfQu4kZk2d.bm\n",
      "2020-04-24 05:56:24 Hail: INFO: wrote matrix with 2000 rows and 2000 columns as 1 block of size 4096 to file:/tmp/hail.sVrGxaLZ4jVW/IIXWT4dBRh.bm\n",
      "2020-04-24 05:56:41 Hail: INFO: wrote matrix with 2000 rows and 2000 columns as 1 block of size 4096 to file:/tmp/hail.sVrGxaLZ4jVW/RkONTCsnPj.bm\n",
      "2020-04-24 05:56:41 Hail: INFO: wrote matrix with 2000 rows and 2000 columns as 1 block of size 4096 to file:/tmp/hail.sVrGxaLZ4jVW/uLEsfulaUg.bm\n",
      "2020-04-24 05:56:45 Hail: INFO: Ordering unsorted dataset with network shuffle\n",
      "2020-04-24 05:57:03 Hail: INFO: Coerced sorted dataset\n",
      "2020-04-24 05:57:17 Hail: INFO: wrote table with 1999000 rows in 1 partition to /tmp/tmpguxjdkse/pc_relate_result\n",
      "2020-04-24 05:57:17 Hail: INFO: balding_nichols_model: generating genotypes for 10 populations, 2000 samples, and 17000 variants...\n"
     ]
    },
    {
     "name": "stdout",
     "output_type": "stream",
     "text": [
      "Deleting pc_relate results: /tmp/tmpguxjdkse/pc_relate_result\n",
      "Deleting hail tmp dir: /tmp/hail.sVrGxaLZ4jVW\n"
     ]
    },
    {
     "name": "stderr",
     "output_type": "stream",
     "text": [
      "2020-04-24 05:57:17 Hail: INFO: Coerced sorted dataset\n",
      "2020-04-24 05:57:22 Hail: INFO: wrote matrix table with 17000 rows and 2000 columns in 8 partitions to /home/rav/data/tmp/mt_2000_17000_10.mt\n",
      "2020-04-24 05:57:23 Hail: INFO: hwe_normalized_pca: running PCA using 17000 variants.\n",
      "2020-04-24 05:57:24 Hail: INFO: pca: running PCA with 10 components...\n"
     ]
    },
    {
     "name": "stdout",
     "output_type": "stream",
     "text": [
      "PCA took s:2000, v:17000, p:10 : 15.49 seconds\n"
     ]
    },
    {
     "name": "stderr",
     "output_type": "stream",
     "text": [
      "2020-04-24 05:57:41 Hail: INFO: Wrote all 5 blocks of 17000 x 2000 matrix with block size 4096.\n",
      "2020-04-24 05:57:42 Hail: INFO: wrote matrix with 11 rows and 17000 columns as 5 blocks of size 4096 to file:/tmp/hail.sVrGxaLZ4jVW/aBb7sRxs2c.bm\n",
      "2020-04-24 05:57:42 Hail: INFO: wrote matrix with 17000 rows and 2000 columns as 5 blocks of size 4096 to file:/tmp/hail.sVrGxaLZ4jVW/ipHGV29X55.bm\n",
      "2020-04-24 05:57:42 Hail: INFO: wrote matrix with 17000 rows and 2000 columns as 5 blocks of size 4096 to file:/tmp/hail.sVrGxaLZ4jVW/RkhmGEUO0J.bm\n",
      "2020-04-24 05:57:57 Hail: INFO: wrote matrix with 2000 rows and 2000 columns as 1 block of size 4096 to file:/tmp/hail.sVrGxaLZ4jVW/lgbjhwfUmA.bm\n",
      "2020-04-24 05:58:11 Hail: INFO: wrote matrix with 2000 rows and 2000 columns as 1 block of size 4096 to file:/tmp/hail.sVrGxaLZ4jVW/AAkLcleyYE.bm\n",
      "2020-04-24 05:58:11 Hail: INFO: wrote matrix with 2000 rows and 2000 columns as 1 block of size 4096 to file:/tmp/hail.sVrGxaLZ4jVW/euJicGSVdl.bm\n",
      "2020-04-24 05:58:30 Hail: INFO: wrote matrix with 2000 rows and 2000 columns as 1 block of size 4096 to file:/tmp/hail.sVrGxaLZ4jVW/dPdRkEdSPk.bm\n",
      "2020-04-24 05:58:44 Hail: INFO: wrote matrix with 2000 rows and 2000 columns as 1 block of size 4096 to file:/tmp/hail.sVrGxaLZ4jVW/WFGMUKTzNS.bm\n",
      "2020-04-24 05:58:44 Hail: INFO: wrote matrix with 2000 rows and 2000 columns as 1 block of size 4096 to file:/tmp/hail.sVrGxaLZ4jVW/k2K1H8VxSd.bm\n",
      "2020-04-24 05:59:01 Hail: INFO: wrote matrix with 2000 rows and 2000 columns as 1 block of size 4096 to file:/tmp/hail.sVrGxaLZ4jVW/n7SK8WPE7C.bm\n",
      "2020-04-24 05:59:17 Hail: INFO: wrote matrix with 2000 rows and 2000 columns as 1 block of size 4096 to file:/tmp/hail.sVrGxaLZ4jVW/BvLER4sHCc.bm\n",
      "2020-04-24 05:59:17 Hail: INFO: wrote matrix with 2000 rows and 2000 columns as 1 block of size 4096 to file:/tmp/hail.sVrGxaLZ4jVW/60BUM5Pfyq.bm\n",
      "2020-04-24 05:59:21 Hail: INFO: Ordering unsorted dataset with network shuffle\n",
      "2020-04-24 05:59:39 Hail: INFO: Coerced sorted dataset\n",
      "2020-04-24 05:59:53 Hail: INFO: wrote table with 1999000 rows in 1 partition to /tmp/tmppmw8autk/pc_relate_result\n",
      "2020-04-24 05:59:53 Hail: INFO: balding_nichols_model: generating genotypes for 10 populations, 2000 samples, and 17500 variants...\n"
     ]
    },
    {
     "name": "stdout",
     "output_type": "stream",
     "text": [
      "Deleting pc_relate results: /tmp/tmppmw8autk/pc_relate_result\n",
      "Deleting hail tmp dir: /tmp/hail.sVrGxaLZ4jVW\n"
     ]
    },
    {
     "name": "stderr",
     "output_type": "stream",
     "text": [
      "2020-04-24 05:59:53 Hail: INFO: Coerced sorted dataset\n",
      "2020-04-24 05:59:59 Hail: INFO: wrote matrix table with 17500 rows and 2000 columns in 8 partitions to /home/rav/data/tmp/mt_2000_17500_10.mt\n",
      "2020-04-24 05:59:59 Hail: INFO: hwe_normalized_pca: running PCA using 17500 variants.\n",
      "2020-04-24 06:00:00 Hail: INFO: pca: running PCA with 10 components...\n"
     ]
    },
    {
     "name": "stdout",
     "output_type": "stream",
     "text": [
      "PCA took s:2000, v:17500, p:10 : 19.46 seconds\n"
     ]
    },
    {
     "name": "stderr",
     "output_type": "stream",
     "text": [
      "2020-04-24 06:00:22 Hail: INFO: Wrote all 5 blocks of 17500 x 2000 matrix with block size 4096.\n",
      "2020-04-24 06:00:22 Hail: INFO: wrote matrix with 11 rows and 17500 columns as 5 blocks of size 4096 to file:/tmp/hail.sVrGxaLZ4jVW/XQoeYgCRsI.bm\n",
      "2020-04-24 06:00:23 Hail: INFO: wrote matrix with 17500 rows and 2000 columns as 5 blocks of size 4096 to file:/tmp/hail.sVrGxaLZ4jVW/kHdKPfTjxR.bm\n",
      "2020-04-24 06:00:23 Hail: INFO: wrote matrix with 17500 rows and 2000 columns as 5 blocks of size 4096 to file:/tmp/hail.sVrGxaLZ4jVW/SrWNuuULKM.bm\n",
      "2020-04-24 06:00:38 Hail: INFO: wrote matrix with 2000 rows and 2000 columns as 1 block of size 4096 to file:/tmp/hail.sVrGxaLZ4jVW/HdmLVRLPJM.bm\n",
      "2020-04-24 06:00:53 Hail: INFO: wrote matrix with 2000 rows and 2000 columns as 1 block of size 4096 to file:/tmp/hail.sVrGxaLZ4jVW/W8n4EGwJJZ.bm\n",
      "2020-04-24 06:00:53 Hail: INFO: wrote matrix with 2000 rows and 2000 columns as 1 block of size 4096 to file:/tmp/hail.sVrGxaLZ4jVW/e3gybCqkD0.bm\n",
      "2020-04-24 06:01:12 Hail: INFO: wrote matrix with 2000 rows and 2000 columns as 1 block of size 4096 to file:/tmp/hail.sVrGxaLZ4jVW/qYAIwyUi91.bm\n",
      "2020-04-24 06:01:26 Hail: INFO: wrote matrix with 2000 rows and 2000 columns as 1 block of size 4096 to file:/tmp/hail.sVrGxaLZ4jVW/9ADu1WgJRP.bm\n",
      "2020-04-24 06:01:26 Hail: INFO: wrote matrix with 2000 rows and 2000 columns as 1 block of size 4096 to file:/tmp/hail.sVrGxaLZ4jVW/5CNAKubaXq.bm\n",
      "2020-04-24 06:01:44 Hail: INFO: wrote matrix with 2000 rows and 2000 columns as 1 block of size 4096 to file:/tmp/hail.sVrGxaLZ4jVW/YPif1eGvh3.bm\n",
      "2020-04-24 06:02:00 Hail: INFO: wrote matrix with 2000 rows and 2000 columns as 1 block of size 4096 to file:/tmp/hail.sVrGxaLZ4jVW/WrgCgodsXD.bm\n",
      "2020-04-24 06:02:01 Hail: INFO: wrote matrix with 2000 rows and 2000 columns as 1 block of size 4096 to file:/tmp/hail.sVrGxaLZ4jVW/ravbPVoVcN.bm\n",
      "2020-04-24 06:02:04 Hail: INFO: Ordering unsorted dataset with network shuffle\n",
      "2020-04-24 06:02:23 Hail: INFO: Coerced sorted dataset\n",
      "2020-04-24 06:02:39 Hail: INFO: wrote table with 1999000 rows in 1 partition to /tmp/tmpshkscxbp/pc_relate_result\n",
      "2020-04-24 06:02:39 Hail: INFO: balding_nichols_model: generating genotypes for 10 populations, 2000 samples, and 18000 variants...\n"
     ]
    },
    {
     "name": "stdout",
     "output_type": "stream",
     "text": [
      "Deleting pc_relate results: /tmp/tmpshkscxbp/pc_relate_result\n",
      "Deleting hail tmp dir: /tmp/hail.sVrGxaLZ4jVW\n"
     ]
    },
    {
     "name": "stderr",
     "output_type": "stream",
     "text": [
      "2020-04-24 06:02:39 Hail: INFO: Coerced sorted dataset\n",
      "2020-04-24 06:02:45 Hail: INFO: wrote matrix table with 18000 rows and 2000 columns in 8 partitions to /home/rav/data/tmp/mt_2000_18000_10.mt\n",
      "2020-04-24 06:02:45 Hail: INFO: hwe_normalized_pca: running PCA using 18000 variants.\n",
      "2020-04-24 06:02:46 Hail: INFO: pca: running PCA with 10 components...\n"
     ]
    },
    {
     "name": "stdout",
     "output_type": "stream",
     "text": [
      "PCA took s:2000, v:18000, p:10 : 12.82 seconds\n"
     ]
    },
    {
     "name": "stderr",
     "output_type": "stream",
     "text": [
      "2020-04-24 06:03:01 Hail: INFO: Wrote all 5 blocks of 18000 x 2000 matrix with block size 4096.\n",
      "2020-04-24 06:03:02 Hail: INFO: wrote matrix with 11 rows and 18000 columns as 5 blocks of size 4096 to file:/tmp/hail.sVrGxaLZ4jVW/VqCPIIIbxo.bm\n",
      "2020-04-24 06:03:02 Hail: INFO: wrote matrix with 18000 rows and 2000 columns as 5 blocks of size 4096 to file:/tmp/hail.sVrGxaLZ4jVW/HbO1EkUDEN.bm\n",
      "2020-04-24 06:03:03 Hail: INFO: wrote matrix with 18000 rows and 2000 columns as 5 blocks of size 4096 to file:/tmp/hail.sVrGxaLZ4jVW/oM5jINAd0q.bm\n",
      "2020-04-24 06:03:18 Hail: INFO: wrote matrix with 2000 rows and 2000 columns as 1 block of size 4096 to file:/tmp/hail.sVrGxaLZ4jVW/3Vh16Q2pJm.bm\n",
      "2020-04-24 06:03:33 Hail: INFO: wrote matrix with 2000 rows and 2000 columns as 1 block of size 4096 to file:/tmp/hail.sVrGxaLZ4jVW/KYoltBFop0.bm\n",
      "2020-04-24 06:03:34 Hail: INFO: wrote matrix with 2000 rows and 2000 columns as 1 block of size 4096 to file:/tmp/hail.sVrGxaLZ4jVW/xbiaqvlYsT.bm\n",
      "2020-04-24 06:03:54 Hail: INFO: wrote matrix with 2000 rows and 2000 columns as 1 block of size 4096 to file:/tmp/hail.sVrGxaLZ4jVW/v5XT23LGY7.bm\n",
      "2020-04-24 06:04:08 Hail: INFO: wrote matrix with 2000 rows and 2000 columns as 1 block of size 4096 to file:/tmp/hail.sVrGxaLZ4jVW/Bt8BnlO9U0.bm\n",
      "2020-04-24 06:04:08 Hail: INFO: wrote matrix with 2000 rows and 2000 columns as 1 block of size 4096 to file:/tmp/hail.sVrGxaLZ4jVW/mPuvG1CGwW.bm\n",
      "2020-04-24 06:04:26 Hail: INFO: wrote matrix with 2000 rows and 2000 columns as 1 block of size 4096 to file:/tmp/hail.sVrGxaLZ4jVW/8BSsqkjI5D.bm\n",
      "2020-04-24 06:04:43 Hail: INFO: wrote matrix with 2000 rows and 2000 columns as 1 block of size 4096 to file:/tmp/hail.sVrGxaLZ4jVW/dUmPETRTCi.bm\n",
      "2020-04-24 06:04:43 Hail: INFO: wrote matrix with 2000 rows and 2000 columns as 1 block of size 4096 to file:/tmp/hail.sVrGxaLZ4jVW/0WUuP1bT2K.bm\n",
      "2020-04-24 06:04:47 Hail: INFO: Ordering unsorted dataset with network shuffle\n",
      "2020-04-24 06:05:05 Hail: INFO: Coerced sorted dataset\n",
      "2020-04-24 06:05:19 Hail: INFO: wrote table with 1999000 rows in 1 partition to /tmp/tmpsebek0ym/pc_relate_result\n",
      "2020-04-24 06:05:19 Hail: INFO: balding_nichols_model: generating genotypes for 10 populations, 2000 samples, and 18500 variants...\n"
     ]
    },
    {
     "name": "stdout",
     "output_type": "stream",
     "text": [
      "Deleting pc_relate results: /tmp/tmpsebek0ym/pc_relate_result\n",
      "Deleting hail tmp dir: /tmp/hail.sVrGxaLZ4jVW\n"
     ]
    },
    {
     "name": "stderr",
     "output_type": "stream",
     "text": [
      "2020-04-24 06:05:19 Hail: INFO: Coerced sorted dataset\n",
      "2020-04-24 06:05:25 Hail: INFO: wrote matrix table with 18500 rows and 2000 columns in 8 partitions to /home/rav/data/tmp/mt_2000_18500_10.mt\n",
      "2020-04-24 06:05:25 Hail: INFO: hwe_normalized_pca: running PCA using 18500 variants.\n",
      "2020-04-24 06:05:26 Hail: INFO: pca: running PCA with 10 components...\n"
     ]
    },
    {
     "name": "stdout",
     "output_type": "stream",
     "text": [
      "PCA took s:2000, v:18500, p:10 : 14.13 seconds\n"
     ]
    },
    {
     "name": "stderr",
     "output_type": "stream",
     "text": [
      "2020-04-24 06:05:43 Hail: INFO: Wrote all 5 blocks of 18500 x 2000 matrix with block size 4096.\n",
      "2020-04-24 06:05:43 Hail: INFO: wrote matrix with 11 rows and 18500 columns as 5 blocks of size 4096 to file:/tmp/hail.sVrGxaLZ4jVW/WnX2qV80ur.bm\n",
      "2020-04-24 06:05:44 Hail: INFO: wrote matrix with 18500 rows and 2000 columns as 5 blocks of size 4096 to file:/tmp/hail.sVrGxaLZ4jVW/jwtH9FzC7Y.bm\n",
      "2020-04-24 06:05:44 Hail: INFO: wrote matrix with 18500 rows and 2000 columns as 5 blocks of size 4096 to file:/tmp/hail.sVrGxaLZ4jVW/oOA5eSJiF5.bm\n",
      "2020-04-24 06:06:00 Hail: INFO: wrote matrix with 2000 rows and 2000 columns as 1 block of size 4096 to file:/tmp/hail.sVrGxaLZ4jVW/J6dscdFlhg.bm\n",
      "2020-04-24 06:06:16 Hail: INFO: wrote matrix with 2000 rows and 2000 columns as 1 block of size 4096 to file:/tmp/hail.sVrGxaLZ4jVW/JN6ivqGMqK.bm\n",
      "2020-04-24 06:06:16 Hail: INFO: wrote matrix with 2000 rows and 2000 columns as 1 block of size 4096 to file:/tmp/hail.sVrGxaLZ4jVW/0cqtZcc1Aa.bm\n",
      "2020-04-24 06:06:36 Hail: INFO: wrote matrix with 2000 rows and 2000 columns as 1 block of size 4096 to file:/tmp/hail.sVrGxaLZ4jVW/wBjDIU0eYc.bm\n",
      "2020-04-24 06:06:51 Hail: INFO: wrote matrix with 2000 rows and 2000 columns as 1 block of size 4096 to file:/tmp/hail.sVrGxaLZ4jVW/8bQbfdRyiu.bm\n",
      "2020-04-24 06:06:51 Hail: INFO: wrote matrix with 2000 rows and 2000 columns as 1 block of size 4096 to file:/tmp/hail.sVrGxaLZ4jVW/urw9BtySwI.bm\n",
      "2020-04-24 06:07:09 Hail: INFO: wrote matrix with 2000 rows and 2000 columns as 1 block of size 4096 to file:/tmp/hail.sVrGxaLZ4jVW/u9iT1pldRJ.bm\n",
      "2020-04-24 06:07:27 Hail: INFO: wrote matrix with 2000 rows and 2000 columns as 1 block of size 4096 to file:/tmp/hail.sVrGxaLZ4jVW/LZkHjoutCb.bm\n",
      "2020-04-24 06:07:27 Hail: INFO: wrote matrix with 2000 rows and 2000 columns as 1 block of size 4096 to file:/tmp/hail.sVrGxaLZ4jVW/OzmUT2URhj.bm\n",
      "2020-04-24 06:07:31 Hail: INFO: Ordering unsorted dataset with network shuffle\n",
      "2020-04-24 06:07:49 Hail: INFO: Coerced sorted dataset\n",
      "2020-04-24 06:08:03 Hail: INFO: wrote table with 1999000 rows in 1 partition to /tmp/tmp59utf6xf/pc_relate_result\n",
      "2020-04-24 06:08:03 Hail: INFO: balding_nichols_model: generating genotypes for 10 populations, 2000 samples, and 19000 variants...\n"
     ]
    },
    {
     "name": "stdout",
     "output_type": "stream",
     "text": [
      "Deleting pc_relate results: /tmp/tmp59utf6xf/pc_relate_result\n",
      "Deleting hail tmp dir: /tmp/hail.sVrGxaLZ4jVW\n"
     ]
    },
    {
     "name": "stderr",
     "output_type": "stream",
     "text": [
      "2020-04-24 06:08:03 Hail: INFO: Coerced sorted dataset\n",
      "2020-04-24 06:08:09 Hail: INFO: wrote matrix table with 19000 rows and 2000 columns in 8 partitions to /home/rav/data/tmp/mt_2000_19000_10.mt\n",
      "2020-04-24 06:08:10 Hail: INFO: hwe_normalized_pca: running PCA using 19000 variants.\n",
      "2020-04-24 06:08:11 Hail: INFO: pca: running PCA with 10 components...\n"
     ]
    },
    {
     "name": "stdout",
     "output_type": "stream",
     "text": [
      "PCA took s:2000, v:19000, p:10 : 13.03 seconds\n"
     ]
    },
    {
     "name": "stderr",
     "output_type": "stream",
     "text": [
      "2020-04-24 06:08:26 Hail: INFO: Wrote all 5 blocks of 19000 x 2000 matrix with block size 4096.\n",
      "2020-04-24 06:08:27 Hail: INFO: wrote matrix with 11 rows and 19000 columns as 5 blocks of size 4096 to file:/tmp/hail.sVrGxaLZ4jVW/FTrTKBPzXb.bm\n",
      "2020-04-24 06:08:27 Hail: INFO: wrote matrix with 19000 rows and 2000 columns as 5 blocks of size 4096 to file:/tmp/hail.sVrGxaLZ4jVW/gF7hKdNzPM.bm\n",
      "2020-04-24 06:08:28 Hail: INFO: wrote matrix with 19000 rows and 2000 columns as 5 blocks of size 4096 to file:/tmp/hail.sVrGxaLZ4jVW/54n4DcnW27.bm\n",
      "2020-04-24 06:08:44 Hail: INFO: wrote matrix with 2000 rows and 2000 columns as 1 block of size 4096 to file:/tmp/hail.sVrGxaLZ4jVW/NmSvHKXrad.bm\n",
      "2020-04-24 06:09:00 Hail: INFO: wrote matrix with 2000 rows and 2000 columns as 1 block of size 4096 to file:/tmp/hail.sVrGxaLZ4jVW/2tCoou2cxH.bm\n",
      "2020-04-24 06:09:00 Hail: INFO: wrote matrix with 2000 rows and 2000 columns as 1 block of size 4096 to file:/tmp/hail.sVrGxaLZ4jVW/HsknAGEXXv.bm\n",
      "2020-04-24 06:09:21 Hail: INFO: wrote matrix with 2000 rows and 2000 columns as 1 block of size 4096 to file:/tmp/hail.sVrGxaLZ4jVW/aZ7rzRXDK0.bm\n",
      "2020-04-24 06:09:36 Hail: INFO: wrote matrix with 2000 rows and 2000 columns as 1 block of size 4096 to file:/tmp/hail.sVrGxaLZ4jVW/T15bX32Yvp.bm\n",
      "2020-04-24 06:09:37 Hail: INFO: wrote matrix with 2000 rows and 2000 columns as 1 block of size 4096 to file:/tmp/hail.sVrGxaLZ4jVW/zcxKNErnG8.bm\n",
      "2020-04-24 06:09:55 Hail: INFO: wrote matrix with 2000 rows and 2000 columns as 1 block of size 4096 to file:/tmp/hail.sVrGxaLZ4jVW/WVWDNX28on.bm\n",
      "2020-04-24 06:10:13 Hail: INFO: wrote matrix with 2000 rows and 2000 columns as 1 block of size 4096 to file:/tmp/hail.sVrGxaLZ4jVW/wJuRetREog.bm\n",
      "2020-04-24 06:10:14 Hail: INFO: wrote matrix with 2000 rows and 2000 columns as 1 block of size 4096 to file:/tmp/hail.sVrGxaLZ4jVW/QDoYr7kETB.bm\n",
      "2020-04-24 06:10:17 Hail: INFO: Ordering unsorted dataset with network shuffle\n",
      "2020-04-24 06:10:36 Hail: INFO: Coerced sorted dataset\n",
      "2020-04-24 06:10:49 Hail: INFO: wrote table with 1999000 rows in 1 partition to /tmp/tmp5dsvfy57/pc_relate_result\n",
      "2020-04-24 06:10:49 Hail: INFO: balding_nichols_model: generating genotypes for 10 populations, 2000 samples, and 19500 variants...\n"
     ]
    },
    {
     "name": "stdout",
     "output_type": "stream",
     "text": [
      "Deleting pc_relate results: /tmp/tmp5dsvfy57/pc_relate_result\n",
      "Deleting hail tmp dir: /tmp/hail.sVrGxaLZ4jVW\n"
     ]
    },
    {
     "name": "stderr",
     "output_type": "stream",
     "text": [
      "2020-04-24 06:10:49 Hail: INFO: Coerced sorted dataset\n",
      "2020-04-24 06:10:55 Hail: INFO: wrote matrix table with 19500 rows and 2000 columns in 8 partitions to /home/rav/data/tmp/mt_2000_19500_10.mt\n",
      "2020-04-24 06:10:56 Hail: INFO: hwe_normalized_pca: running PCA using 19500 variants.\n",
      "2020-04-24 06:10:57 Hail: INFO: pca: running PCA with 10 components...\n"
     ]
    },
    {
     "name": "stdout",
     "output_type": "stream",
     "text": [
      "PCA took s:2000, v:19500, p:10 : 14.35 seconds\n"
     ]
    },
    {
     "name": "stderr",
     "output_type": "stream",
     "text": [
      "2020-04-24 06:11:14 Hail: INFO: Wrote all 5 blocks of 19500 x 2000 matrix with block size 4096.\n",
      "2020-04-24 06:11:14 Hail: INFO: wrote matrix with 11 rows and 19500 columns as 5 blocks of size 4096 to file:/tmp/hail.sVrGxaLZ4jVW/6wkbXh39XT.bm\n",
      "2020-04-24 06:11:15 Hail: INFO: wrote matrix with 19500 rows and 2000 columns as 5 blocks of size 4096 to file:/tmp/hail.sVrGxaLZ4jVW/phz4E7dacU.bm\n",
      "2020-04-24 06:11:15 Hail: INFO: wrote matrix with 19500 rows and 2000 columns as 5 blocks of size 4096 to file:/tmp/hail.sVrGxaLZ4jVW/SWnn2JRc80.bm\n",
      "2020-04-24 06:11:32 Hail: INFO: wrote matrix with 2000 rows and 2000 columns as 1 block of size 4096 to file:/tmp/hail.sVrGxaLZ4jVW/b7xlPwbTMy.bm\n",
      "2020-04-24 06:11:48 Hail: INFO: wrote matrix with 2000 rows and 2000 columns as 1 block of size 4096 to file:/tmp/hail.sVrGxaLZ4jVW/zJs7yE9Zo2.bm\n",
      "2020-04-24 06:11:49 Hail: INFO: wrote matrix with 2000 rows and 2000 columns as 1 block of size 4096 to file:/tmp/hail.sVrGxaLZ4jVW/WQWWLOVTH1.bm\n",
      "2020-04-24 06:12:10 Hail: INFO: wrote matrix with 2000 rows and 2000 columns as 1 block of size 4096 to file:/tmp/hail.sVrGxaLZ4jVW/T6hRH1IiTK.bm\n",
      "2020-04-24 06:12:26 Hail: INFO: wrote matrix with 2000 rows and 2000 columns as 1 block of size 4096 to file:/tmp/hail.sVrGxaLZ4jVW/3O31axu8Ao.bm\n",
      "2020-04-24 06:12:26 Hail: INFO: wrote matrix with 2000 rows and 2000 columns as 1 block of size 4096 to file:/tmp/hail.sVrGxaLZ4jVW/ptXpJq44hu.bm\n",
      "2020-04-24 06:12:45 Hail: INFO: wrote matrix with 2000 rows and 2000 columns as 1 block of size 4096 to file:/tmp/hail.sVrGxaLZ4jVW/evGQ7qiszX.bm\n",
      "2020-04-24 06:13:03 Hail: INFO: wrote matrix with 2000 rows and 2000 columns as 1 block of size 4096 to file:/tmp/hail.sVrGxaLZ4jVW/RL0Ip6jWwk.bm\n",
      "2020-04-24 06:13:03 Hail: INFO: wrote matrix with 2000 rows and 2000 columns as 1 block of size 4096 to file:/tmp/hail.sVrGxaLZ4jVW/BlKlypgveq.bm\n",
      "2020-04-24 06:13:07 Hail: INFO: Ordering unsorted dataset with network shuffle\n",
      "2020-04-24 06:13:25 Hail: INFO: Coerced sorted dataset\n",
      "2020-04-24 06:13:39 Hail: INFO: wrote table with 1999000 rows in 1 partition to /tmp/tmp8w5pptvk/pc_relate_result\n",
      "2020-04-24 06:13:39 Hail: INFO: balding_nichols_model: generating genotypes for 10 populations, 2000 samples, and 20000 variants...\n"
     ]
    },
    {
     "name": "stdout",
     "output_type": "stream",
     "text": [
      "Deleting pc_relate results: /tmp/tmp8w5pptvk/pc_relate_result\n",
      "Deleting hail tmp dir: /tmp/hail.sVrGxaLZ4jVW\n"
     ]
    },
    {
     "name": "stderr",
     "output_type": "stream",
     "text": [
      "2020-04-24 06:13:39 Hail: INFO: Coerced sorted dataset\n",
      "2020-04-24 06:13:45 Hail: INFO: wrote matrix table with 20000 rows and 2000 columns in 8 partitions to /home/rav/data/tmp/mt_2000_20000_10.mt\n",
      "2020-04-24 06:13:46 Hail: INFO: hwe_normalized_pca: running PCA using 20000 variants.\n",
      "2020-04-24 06:13:47 Hail: INFO: pca: running PCA with 10 components...\n"
     ]
    },
    {
     "name": "stdout",
     "output_type": "stream",
     "text": [
      "PCA took s:2000, v:20000, p:10 : 17.53 seconds\n"
     ]
    },
    {
     "name": "stderr",
     "output_type": "stream",
     "text": [
      "2020-04-24 06:14:06 Hail: INFO: Wrote all 5 blocks of 20000 x 2000 matrix with block size 4096.\n",
      "2020-04-24 06:14:07 Hail: INFO: wrote matrix with 11 rows and 20000 columns as 5 blocks of size 4096 to file:/tmp/hail.sVrGxaLZ4jVW/xvRDav5RKk.bm\n",
      "2020-04-24 06:14:07 Hail: INFO: wrote matrix with 20000 rows and 2000 columns as 5 blocks of size 4096 to file:/tmp/hail.sVrGxaLZ4jVW/MAhBor4i0r.bm\n",
      "2020-04-24 06:14:08 Hail: INFO: wrote matrix with 20000 rows and 2000 columns as 5 blocks of size 4096 to file:/tmp/hail.sVrGxaLZ4jVW/Cm7X9vVciy.bm\n",
      "2020-04-24 06:14:25 Hail: INFO: wrote matrix with 2000 rows and 2000 columns as 1 block of size 4096 to file:/tmp/hail.sVrGxaLZ4jVW/pvc2EI5iZm.bm\n",
      "2020-04-24 06:14:42 Hail: INFO: wrote matrix with 2000 rows and 2000 columns as 1 block of size 4096 to file:/tmp/hail.sVrGxaLZ4jVW/lwWt7sP8SD.bm\n",
      "2020-04-24 06:14:42 Hail: INFO: wrote matrix with 2000 rows and 2000 columns as 1 block of size 4096 to file:/tmp/hail.sVrGxaLZ4jVW/3KFczzRezT.bm\n",
      "2020-04-24 06:15:04 Hail: INFO: wrote matrix with 2000 rows and 2000 columns as 1 block of size 4096 to file:/tmp/hail.sVrGxaLZ4jVW/ryz2H084O6.bm\n",
      "2020-04-24 06:15:20 Hail: INFO: wrote matrix with 2000 rows and 2000 columns as 1 block of size 4096 to file:/tmp/hail.sVrGxaLZ4jVW/0kTxu9jwKz.bm\n",
      "2020-04-24 06:15:21 Hail: INFO: wrote matrix with 2000 rows and 2000 columns as 1 block of size 4096 to file:/tmp/hail.sVrGxaLZ4jVW/pi16Fxf1c1.bm\n",
      "2020-04-24 06:15:40 Hail: INFO: wrote matrix with 2000 rows and 2000 columns as 1 block of size 4096 to file:/tmp/hail.sVrGxaLZ4jVW/xkig6JgLOT.bm\n",
      "2020-04-24 06:15:59 Hail: INFO: wrote matrix with 2000 rows and 2000 columns as 1 block of size 4096 to file:/tmp/hail.sVrGxaLZ4jVW/1hfGcBTgxg.bm\n",
      "2020-04-24 06:15:59 Hail: INFO: wrote matrix with 2000 rows and 2000 columns as 1 block of size 4096 to file:/tmp/hail.sVrGxaLZ4jVW/uVKSHjDUT9.bm\n",
      "2020-04-24 06:16:03 Hail: INFO: Ordering unsorted dataset with network shuffle\n",
      "2020-04-24 06:16:21 Hail: INFO: Coerced sorted dataset\n"
     ]
    },
    {
     "name": "stdout",
     "output_type": "stream",
     "text": [
      "Deleting pc_relate results: /tmp/tmp0h0cigug/pc_relate_result\n",
      "Deleting hail tmp dir: /tmp/hail.sVrGxaLZ4jVW\n"
     ]
    },
    {
     "name": "stderr",
     "output_type": "stream",
     "text": [
      "2020-04-24 06:16:35 Hail: INFO: wrote table with 1999000 rows in 1 partition to /tmp/tmp0h0cigug/pc_relate_result\n"
     ]
    }
   ],
   "source": [
    "# Fixed samples = 2k\n",
    "for i in range(1000, 20001, 500):\n",
    "    samples = 2000\n",
    "    variants = i\n",
    "    do_experiment(\"simple_fixed_samples_20k_cpu_8_ram_31\", samples=samples, variants=variants, populations=10)"
   ]
  },
  {
   "cell_type": "code",
   "execution_count": null,
   "metadata": {
    "scrolled": true
   },
   "outputs": [
    {
     "name": "stderr",
     "output_type": "stream",
     "text": [
      "2020-04-24 14:57:19 Hail: INFO: hwe_normalized_pca: running PCA using 2000 variants.\n",
      "2020-04-24 14:57:19 Hail: INFO: pca: running PCA with 10 components...\n"
     ]
    },
    {
     "name": "stdout",
     "output_type": "stream",
     "text": [
      "PCA took s:1000, v:2000, p:10 : 7.21 seconds\n"
     ]
    },
    {
     "name": "stderr",
     "output_type": "stream",
     "text": [
      "2020-04-24 14:57:27 Hail: INFO: Wrote all 1 blocks of 2000 x 1000 matrix with block size 4096.\n",
      "2020-04-24 14:57:27 Hail: INFO: wrote matrix with 11 rows and 2000 columns as 1 block of size 4096 to file:/tmp/hail.UCzZIpmxAOC7/eVLXPOQ6qW.bm\n",
      "2020-04-24 14:57:27 Hail: INFO: wrote matrix with 2000 rows and 1000 columns as 1 block of size 4096 to file:/tmp/hail.UCzZIpmxAOC7/eUFGAPx9Xo.bm\n",
      "2020-04-24 14:57:28 Hail: INFO: wrote matrix with 2000 rows and 1000 columns as 1 block of size 4096 to file:/tmp/hail.UCzZIpmxAOC7/BthR51qQdV.bm\n",
      "2020-04-24 14:57:28 Hail: INFO: wrote matrix with 1000 rows and 1000 columns as 1 block of size 4096 to file:/tmp/hail.UCzZIpmxAOC7/1BduGmDDwo.bm\n",
      "2020-04-24 14:57:29 Hail: INFO: wrote matrix with 1000 rows and 1000 columns as 1 block of size 4096 to file:/tmp/hail.UCzZIpmxAOC7/kSzyzvMRHo.bm\n",
      "2020-04-24 14:57:29 Hail: INFO: wrote matrix with 1000 rows and 1000 columns as 1 block of size 4096 to file:/tmp/hail.UCzZIpmxAOC7/Y3WmOJJn4d.bm\n",
      "2020-04-24 14:57:29 Hail: INFO: wrote matrix with 1000 rows and 1000 columns as 1 block of size 4096 to file:/tmp/hail.UCzZIpmxAOC7/iPQOwBfaaU.bm\n",
      "2020-04-24 14:57:30 Hail: INFO: wrote matrix with 1000 rows and 1000 columns as 1 block of size 4096 to file:/tmp/hail.UCzZIpmxAOC7/dlVZ614P2m.bm\n",
      "2020-04-24 14:57:30 Hail: INFO: wrote matrix with 1000 rows and 1000 columns as 1 block of size 4096 to file:/tmp/hail.UCzZIpmxAOC7/Nif4wZJUDK.bm\n",
      "2020-04-24 14:57:31 Hail: INFO: wrote matrix with 1000 rows and 1000 columns as 1 block of size 4096 to file:/tmp/hail.UCzZIpmxAOC7/advcQj7r5J.bm\n",
      "2020-04-24 14:57:31 Hail: INFO: wrote matrix with 1000 rows and 1000 columns as 1 block of size 4096 to file:/tmp/hail.UCzZIpmxAOC7/IWYRetbCvi.bm\n",
      "2020-04-24 14:57:31 Hail: INFO: wrote matrix with 1000 rows and 1000 columns as 1 block of size 4096 to file:/tmp/hail.UCzZIpmxAOC7/sYBwn3PQgP.bm\n",
      "2020-04-24 14:57:32 Hail: INFO: Ordering unsorted dataset with network shuffle\n",
      "2020-04-24 14:57:37 Hail: INFO: Coerced sorted dataset\n",
      "2020-04-24 14:57:41 Hail: INFO: wrote table with 499500 rows in 1 partition to /tmp/tmp1uuw5caf/pc_relate_result\n"
     ]
    },
    {
     "name": "stdout",
     "output_type": "stream",
     "text": [
      "Deleting pc_relate results: /tmp/tmp1uuw5caf/pc_relate_result\n"
     ]
    },
    {
     "name": "stderr",
     "output_type": "stream",
     "text": [
      "2020-04-24 14:57:42 Hail: INFO: wrote matrix with 11 rows and 2000 columns as 1 block of size 4096 to file:/tmp/hail.UCzZIpmxAOC7/BgW6VYjLOW.bm\n",
      "2020-04-24 14:57:42 Hail: INFO: wrote matrix with 2000 rows and 1000 columns as 1 block of size 4096 to file:/tmp/hail.UCzZIpmxAOC7/JQhr7hasEP.bm\n",
      "2020-04-24 14:57:42 Hail: INFO: wrote matrix with 2000 rows and 1000 columns as 1 block of size 4096 to file:/tmp/hail.UCzZIpmxAOC7/nJlZ2UwwDo.bm\n",
      "2020-04-24 14:57:42 Hail: INFO: wrote matrix with 1000 rows and 1000 columns as 1 block of size 4096 to file:/tmp/hail.UCzZIpmxAOC7/C1lpgx6a3n.bm\n",
      "2020-04-24 14:57:43 Hail: INFO: wrote matrix with 1000 rows and 1000 columns as 1 block of size 4096 to file:/tmp/hail.UCzZIpmxAOC7/8vvJDNiOoH.bm\n",
      "2020-04-24 14:57:43 Hail: INFO: wrote matrix with 1000 rows and 1000 columns as 1 block of size 4096 to file:/tmp/hail.UCzZIpmxAOC7/Sqo9sI9Kea.bm\n",
      "2020-04-24 14:57:44 Hail: INFO: wrote matrix with 1000 rows and 1000 columns as 1 block of size 4096 to file:/tmp/hail.UCzZIpmxAOC7/0oOgSaw7LM.bm\n",
      "2020-04-24 14:57:44 Hail: INFO: wrote matrix with 1000 rows and 1000 columns as 1 block of size 4096 to file:/tmp/hail.UCzZIpmxAOC7/HiS3e8G85w.bm\n",
      "2020-04-24 14:57:44 Hail: INFO: wrote matrix with 1000 rows and 1000 columns as 1 block of size 4096 to file:/tmp/hail.UCzZIpmxAOC7/wUcW4p63q4.bm\n",
      "2020-04-24 14:57:45 Hail: INFO: wrote matrix with 1000 rows and 1000 columns as 1 block of size 4096 to file:/tmp/hail.UCzZIpmxAOC7/8U42ID11Kq.bm\n",
      "2020-04-24 14:57:45 Hail: INFO: wrote matrix with 1000 rows and 1000 columns as 1 block of size 4096 to file:/tmp/hail.UCzZIpmxAOC7/EM6RQRV9gJ.bm\n",
      "2020-04-24 14:57:46 Hail: INFO: wrote matrix with 1000 rows and 1000 columns as 1 block of size 4096 to file:/tmp/hail.UCzZIpmxAOC7/LIdj4blCxI.bm\n",
      "2020-04-24 14:57:47 Hail: INFO: Ordering unsorted dataset with network shuffle\n"
     ]
    },
    {
     "name": "stdout",
     "output_type": "stream",
     "text": [
      "Deleting hail tmp dir: /tmp/hail.UCzZIpmxAOC7\n"
     ]
    },
    {
     "name": "stderr",
     "output_type": "stream",
     "text": [
      "2020-04-24 14:57:50 Hail: INFO: hwe_normalized_pca: running PCA using 2000 variants.\n",
      "2020-04-24 14:57:51 Hail: INFO: pca: running PCA with 10 components...\n"
     ]
    },
    {
     "name": "stdout",
     "output_type": "stream",
     "text": [
      "PCA took s:1500, v:2000, p:10 : 6.56 seconds\n"
     ]
    },
    {
     "name": "stderr",
     "output_type": "stream",
     "text": [
      "2020-04-24 14:57:58 Hail: INFO: Wrote all 1 blocks of 2000 x 1500 matrix with block size 4096.\n",
      "2020-04-24 14:57:59 Hail: INFO: wrote matrix with 11 rows and 2000 columns as 1 block of size 4096 to file:/tmp/hail.UCzZIpmxAOC7/YuFVUU64RF.bm\n",
      "2020-04-24 14:57:59 Hail: INFO: wrote matrix with 2000 rows and 1500 columns as 1 block of size 4096 to file:/tmp/hail.UCzZIpmxAOC7/Sd7dek6B9U.bm\n",
      "2020-04-24 14:57:59 Hail: INFO: wrote matrix with 2000 rows and 1500 columns as 1 block of size 4096 to file:/tmp/hail.UCzZIpmxAOC7/fGhzFjM1NW.bm\n",
      "2020-04-24 14:58:00 Hail: INFO: wrote matrix with 1500 rows and 1500 columns as 1 block of size 4096 to file:/tmp/hail.UCzZIpmxAOC7/V2D3V4Z7fY.bm\n",
      "2020-04-24 14:58:01 Hail: INFO: wrote matrix with 1500 rows and 1500 columns as 1 block of size 4096 to file:/tmp/hail.UCzZIpmxAOC7/ogikyOattG.bm\n",
      "2020-04-24 14:58:01 Hail: INFO: wrote matrix with 1500 rows and 1500 columns as 1 block of size 4096 to file:/tmp/hail.UCzZIpmxAOC7/nu5mXriWxg.bm\n",
      "2020-04-24 14:58:02 Hail: INFO: wrote matrix with 1500 rows and 1500 columns as 1 block of size 4096 to file:/tmp/hail.UCzZIpmxAOC7/a0pSfXyfWd.bm\n",
      "2020-04-24 14:58:03 Hail: INFO: wrote matrix with 1500 rows and 1500 columns as 1 block of size 4096 to file:/tmp/hail.UCzZIpmxAOC7/mAgCNUAEtF.bm\n",
      "2020-04-24 14:58:04 Hail: INFO: wrote matrix with 1500 rows and 1500 columns as 1 block of size 4096 to file:/tmp/hail.UCzZIpmxAOC7/zAYPc7fe1K.bm\n",
      "2020-04-24 14:58:05 Hail: INFO: wrote matrix with 1500 rows and 1500 columns as 1 block of size 4096 to file:/tmp/hail.UCzZIpmxAOC7/tNr0CKKxHX.bm\n",
      "2020-04-24 14:58:06 Hail: INFO: wrote matrix with 1500 rows and 1500 columns as 1 block of size 4096 to file:/tmp/hail.UCzZIpmxAOC7/gzW2nErcn9.bm\n",
      "2020-04-24 14:58:06 Hail: INFO: wrote matrix with 1500 rows and 1500 columns as 1 block of size 4096 to file:/tmp/hail.UCzZIpmxAOC7/R6xUm9iQK4.bm\n",
      "2020-04-24 14:58:09 Hail: INFO: Ordering unsorted dataset with network shuffle\n",
      "2020-04-24 14:58:19 Hail: INFO: Coerced sorted dataset\n",
      "2020-04-24 14:58:26 Hail: INFO: wrote table with 1124250 rows in 1 partition to /tmp/tmpd3gjqjxz/pc_relate_result\n"
     ]
    },
    {
     "name": "stdout",
     "output_type": "stream",
     "text": [
      "Deleting pc_relate results: /tmp/tmpd3gjqjxz/pc_relate_result\n"
     ]
    },
    {
     "name": "stderr",
     "output_type": "stream",
     "text": [
      "2020-04-24 14:58:27 Hail: INFO: wrote matrix with 11 rows and 2000 columns as 1 block of size 4096 to file:/tmp/hail.UCzZIpmxAOC7/i9MNHeizjp.bm\n",
      "2020-04-24 14:58:27 Hail: INFO: wrote matrix with 2000 rows and 1500 columns as 1 block of size 4096 to file:/tmp/hail.UCzZIpmxAOC7/gvlyRy3iXo.bm\n",
      "2020-04-24 14:58:27 Hail: INFO: wrote matrix with 2000 rows and 1500 columns as 1 block of size 4096 to file:/tmp/hail.UCzZIpmxAOC7/xdFwgHGNpt.bm\n",
      "2020-04-24 14:58:28 Hail: INFO: wrote matrix with 1500 rows and 1500 columns as 1 block of size 4096 to file:/tmp/hail.UCzZIpmxAOC7/15xN7uRiMV.bm\n",
      "2020-04-24 14:58:29 Hail: INFO: wrote matrix with 1500 rows and 1500 columns as 1 block of size 4096 to file:/tmp/hail.UCzZIpmxAOC7/5x3WOhsh5i.bm\n",
      "2020-04-24 14:58:29 Hail: INFO: wrote matrix with 1500 rows and 1500 columns as 1 block of size 4096 to file:/tmp/hail.UCzZIpmxAOC7/59K1HLZfXN.bm\n",
      "2020-04-24 14:58:31 Hail: INFO: wrote matrix with 1500 rows and 1500 columns as 1 block of size 4096 to file:/tmp/hail.UCzZIpmxAOC7/mTFebUmHJu.bm\n",
      "2020-04-24 14:58:32 Hail: INFO: wrote matrix with 1500 rows and 1500 columns as 1 block of size 4096 to file:/tmp/hail.UCzZIpmxAOC7/yZWGWJWitr.bm\n",
      "2020-04-24 14:58:32 Hail: INFO: wrote matrix with 1500 rows and 1500 columns as 1 block of size 4096 to file:/tmp/hail.UCzZIpmxAOC7/HneMEirHXu.bm\n",
      "2020-04-24 14:58:34 Hail: INFO: wrote matrix with 1500 rows and 1500 columns as 1 block of size 4096 to file:/tmp/hail.UCzZIpmxAOC7/rMEkdUCZqp.bm\n",
      "2020-04-24 14:58:35 Hail: INFO: wrote matrix with 1500 rows and 1500 columns as 1 block of size 4096 to file:/tmp/hail.UCzZIpmxAOC7/AgJbmOuZLM.bm\n",
      "2020-04-24 14:58:35 Hail: INFO: wrote matrix with 1500 rows and 1500 columns as 1 block of size 4096 to file:/tmp/hail.UCzZIpmxAOC7/BxY9J7ijJ3.bm\n",
      "2020-04-24 14:58:37 Hail: INFO: Ordering unsorted dataset with network shuffle\n"
     ]
    },
    {
     "name": "stdout",
     "output_type": "stream",
     "text": [
      "Deleting hail tmp dir: /tmp/hail.UCzZIpmxAOC7\n"
     ]
    },
    {
     "name": "stderr",
     "output_type": "stream",
     "text": [
      "2020-04-24 14:58:44 Hail: INFO: hwe_normalized_pca: running PCA using 2000 variants.\n",
      "2020-04-24 14:58:45 Hail: INFO: pca: running PCA with 10 components...\n"
     ]
    },
    {
     "name": "stdout",
     "output_type": "stream",
     "text": [
      "PCA took s:2000, v:2000, p:10 : 7.16 seconds\n"
     ]
    },
    {
     "name": "stderr",
     "output_type": "stream",
     "text": [
      "2020-04-24 14:58:53 Hail: INFO: Wrote all 1 blocks of 2000 x 2000 matrix with block size 4096.\n",
      "2020-04-24 14:58:54 Hail: INFO: wrote matrix with 11 rows and 2000 columns as 1 block of size 4096 to file:/tmp/hail.UCzZIpmxAOC7/SDIHPSfjrg.bm\n",
      "2020-04-24 14:58:54 Hail: INFO: wrote matrix with 2000 rows and 2000 columns as 1 block of size 4096 to file:/tmp/hail.UCzZIpmxAOC7/3zWM2cc1x5.bm\n",
      "2020-04-24 14:58:54 Hail: INFO: wrote matrix with 2000 rows and 2000 columns as 1 block of size 4096 to file:/tmp/hail.UCzZIpmxAOC7/F1gl93EtlH.bm\n",
      "2020-04-24 14:58:56 Hail: INFO: wrote matrix with 2000 rows and 2000 columns as 1 block of size 4096 to file:/tmp/hail.UCzZIpmxAOC7/vTOK11xJ0S.bm\n",
      "2020-04-24 14:58:58 Hail: INFO: wrote matrix with 2000 rows and 2000 columns as 1 block of size 4096 to file:/tmp/hail.UCzZIpmxAOC7/un1qNR9FrD.bm\n",
      "2020-04-24 14:58:58 Hail: INFO: wrote matrix with 2000 rows and 2000 columns as 1 block of size 4096 to file:/tmp/hail.UCzZIpmxAOC7/zaGVzOV6c0.bm\n",
      "2020-04-24 14:59:00 Hail: INFO: wrote matrix with 2000 rows and 2000 columns as 1 block of size 4096 to file:/tmp/hail.UCzZIpmxAOC7/VOZ3EvdyH0.bm\n",
      "2020-04-24 14:59:02 Hail: INFO: wrote matrix with 2000 rows and 2000 columns as 1 block of size 4096 to file:/tmp/hail.UCzZIpmxAOC7/Eu0rseyPou.bm\n",
      "2020-04-24 14:59:02 Hail: INFO: wrote matrix with 2000 rows and 2000 columns as 1 block of size 4096 to file:/tmp/hail.UCzZIpmxAOC7/c4sE4vZkqx.bm\n",
      "2020-04-24 14:59:04 Hail: INFO: wrote matrix with 2000 rows and 2000 columns as 1 block of size 4096 to file:/tmp/hail.UCzZIpmxAOC7/bTnN0OiOI5.bm\n",
      "2020-04-24 14:59:06 Hail: INFO: wrote matrix with 2000 rows and 2000 columns as 1 block of size 4096 to file:/tmp/hail.UCzZIpmxAOC7/ojfc7X2BfM.bm\n",
      "2020-04-24 14:59:07 Hail: INFO: wrote matrix with 2000 rows and 2000 columns as 1 block of size 4096 to file:/tmp/hail.UCzZIpmxAOC7/3RbXxAl1k4.bm\n",
      "2020-04-24 14:59:10 Hail: INFO: Ordering unsorted dataset with network shuffle\n",
      "2020-04-24 14:59:30 Hail: INFO: Coerced sorted dataset\n",
      "2020-04-24 14:59:44 Hail: INFO: wrote table with 1999000 rows in 1 partition to /tmp/tmpv94l1737/pc_relate_result\n"
     ]
    },
    {
     "name": "stdout",
     "output_type": "stream",
     "text": [
      "Deleting pc_relate results: /tmp/tmpv94l1737/pc_relate_result\n"
     ]
    },
    {
     "name": "stderr",
     "output_type": "stream",
     "text": [
      "2020-04-24 14:59:44 Hail: INFO: wrote matrix with 11 rows and 2000 columns as 1 block of size 4096 to file:/tmp/hail.UCzZIpmxAOC7/6ZHFEkpyyc.bm\n",
      "2020-04-24 14:59:44 Hail: INFO: wrote matrix with 2000 rows and 2000 columns as 1 block of size 4096 to file:/tmp/hail.UCzZIpmxAOC7/AXX1zGHq8b.bm\n",
      "2020-04-24 14:59:44 Hail: INFO: wrote matrix with 2000 rows and 2000 columns as 1 block of size 4096 to file:/tmp/hail.UCzZIpmxAOC7/PBNcsGHUGu.bm\n",
      "2020-04-24 14:59:46 Hail: INFO: wrote matrix with 2000 rows and 2000 columns as 1 block of size 4096 to file:/tmp/hail.UCzZIpmxAOC7/LCeMbBYimy.bm\n",
      "2020-04-24 14:59:48 Hail: INFO: wrote matrix with 2000 rows and 2000 columns as 1 block of size 4096 to file:/tmp/hail.UCzZIpmxAOC7/CqUG3G1veE.bm\n",
      "2020-04-24 14:59:48 Hail: INFO: wrote matrix with 2000 rows and 2000 columns as 1 block of size 4096 to file:/tmp/hail.UCzZIpmxAOC7/pItY50delA.bm\n",
      "2020-04-24 14:59:51 Hail: INFO: wrote matrix with 2000 rows and 2000 columns as 1 block of size 4096 to file:/tmp/hail.UCzZIpmxAOC7/Jq0PW6EFCr.bm\n",
      "2020-04-24 14:59:52 Hail: INFO: wrote matrix with 2000 rows and 2000 columns as 1 block of size 4096 to file:/tmp/hail.UCzZIpmxAOC7/teCdPD7JNF.bm\n",
      "2020-04-24 14:59:53 Hail: INFO: wrote matrix with 2000 rows and 2000 columns as 1 block of size 4096 to file:/tmp/hail.UCzZIpmxAOC7/8aVsgt3T8V.bm\n",
      "2020-04-24 14:59:55 Hail: INFO: wrote matrix with 2000 rows and 2000 columns as 1 block of size 4096 to file:/tmp/hail.UCzZIpmxAOC7/5ubJlUWoEy.bm\n",
      "2020-04-24 14:59:57 Hail: INFO: wrote matrix with 2000 rows and 2000 columns as 1 block of size 4096 to file:/tmp/hail.UCzZIpmxAOC7/en1QHiRXAj.bm\n",
      "2020-04-24 14:59:57 Hail: INFO: wrote matrix with 2000 rows and 2000 columns as 1 block of size 4096 to file:/tmp/hail.UCzZIpmxAOC7/91tkU0xANX.bm\n",
      "2020-04-24 15:00:01 Hail: INFO: Ordering unsorted dataset with network shuffle\n"
     ]
    },
    {
     "name": "stdout",
     "output_type": "stream",
     "text": [
      "Deleting hail tmp dir: /tmp/hail.UCzZIpmxAOC7\n"
     ]
    },
    {
     "name": "stderr",
     "output_type": "stream",
     "text": [
      "2020-04-24 15:00:14 Hail: INFO: hwe_normalized_pca: running PCA using 2000 variants.\n",
      "2020-04-24 15:00:15 Hail: INFO: pca: running PCA with 10 components...\n"
     ]
    },
    {
     "name": "stdout",
     "output_type": "stream",
     "text": [
      "PCA took s:2500, v:2000, p:10 : 7.51 seconds\n"
     ]
    },
    {
     "name": "stderr",
     "output_type": "stream",
     "text": [
      "2020-04-24 15:00:23 Hail: INFO: Wrote all 1 blocks of 2000 x 2500 matrix with block size 4096.\n",
      "2020-04-24 15:00:24 Hail: INFO: wrote matrix with 11 rows and 2000 columns as 1 block of size 4096 to file:/tmp/hail.UCzZIpmxAOC7/m7ABqL0JOO.bm\n",
      "2020-04-24 15:00:24 Hail: INFO: wrote matrix with 2000 rows and 2500 columns as 1 block of size 4096 to file:/tmp/hail.UCzZIpmxAOC7/PH5dbi5NCx.bm\n",
      "2020-04-24 15:00:24 Hail: INFO: wrote matrix with 2000 rows and 2500 columns as 1 block of size 4096 to file:/tmp/hail.UCzZIpmxAOC7/hLtNyi3aBY.bm\n",
      "2020-04-24 15:00:27 Hail: INFO: wrote matrix with 2500 rows and 2500 columns as 1 block of size 4096 to file:/tmp/hail.UCzZIpmxAOC7/Ctlg9uSzXn.bm\n",
      "2020-04-24 15:00:30 Hail: INFO: wrote matrix with 2500 rows and 2500 columns as 1 block of size 4096 to file:/tmp/hail.UCzZIpmxAOC7/ipVkL1GkxK.bm\n",
      "2020-04-24 15:00:30 Hail: INFO: wrote matrix with 2500 rows and 2500 columns as 1 block of size 4096 to file:/tmp/hail.UCzZIpmxAOC7/ZJGdlSzoqy.bm\n",
      "2020-04-24 15:00:33 Hail: INFO: wrote matrix with 2500 rows and 2500 columns as 1 block of size 4096 to file:/tmp/hail.UCzZIpmxAOC7/lOs3BuDcBK.bm\n",
      "2020-04-24 15:00:36 Hail: INFO: wrote matrix with 2500 rows and 2500 columns as 1 block of size 4096 to file:/tmp/hail.UCzZIpmxAOC7/NHTHDCrG6i.bm\n",
      "2020-04-24 15:00:36 Hail: INFO: wrote matrix with 2500 rows and 2500 columns as 1 block of size 4096 to file:/tmp/hail.UCzZIpmxAOC7/enRceGPICZ.bm\n",
      "2020-04-24 15:00:39 Hail: INFO: wrote matrix with 2500 rows and 2500 columns as 1 block of size 4096 to file:/tmp/hail.UCzZIpmxAOC7/uxpvztcaWG.bm\n",
      "2020-04-24 15:00:42 Hail: INFO: wrote matrix with 2500 rows and 2500 columns as 1 block of size 4096 to file:/tmp/hail.UCzZIpmxAOC7/FR5Q17LSEq.bm\n",
      "2020-04-24 15:00:43 Hail: INFO: wrote matrix with 2500 rows and 2500 columns as 1 block of size 4096 to file:/tmp/hail.UCzZIpmxAOC7/vZJpBOKkKa.bm\n",
      "2020-04-24 15:00:48 Hail: INFO: Ordering unsorted dataset with network shuffle\n",
      "2020-04-24 15:01:15 Hail: INFO: Coerced sorted dataset\n",
      "2020-04-24 15:01:37 Hail: INFO: wrote table with 3123750 rows in 1 partition to /tmp/tmpzs8u20br/pc_relate_result\n"
     ]
    },
    {
     "name": "stdout",
     "output_type": "stream",
     "text": [
      "Deleting pc_relate results: /tmp/tmpzs8u20br/pc_relate_result\n"
     ]
    },
    {
     "name": "stderr",
     "output_type": "stream",
     "text": [
      "2020-04-24 15:01:38 Hail: INFO: wrote matrix with 11 rows and 2000 columns as 1 block of size 4096 to file:/tmp/hail.UCzZIpmxAOC7/J0c66hfUXa.bm\n",
      "2020-04-24 15:01:38 Hail: INFO: wrote matrix with 2000 rows and 2500 columns as 1 block of size 4096 to file:/tmp/hail.UCzZIpmxAOC7/vGSIPtpokE.bm\n",
      "2020-04-24 15:01:38 Hail: INFO: wrote matrix with 2000 rows and 2500 columns as 1 block of size 4096 to file:/tmp/hail.UCzZIpmxAOC7/OjLBJXOLrB.bm\n",
      "2020-04-24 15:01:41 Hail: INFO: wrote matrix with 2500 rows and 2500 columns as 1 block of size 4096 to file:/tmp/hail.UCzZIpmxAOC7/OpxchhS2hG.bm\n",
      "2020-04-24 15:01:44 Hail: INFO: wrote matrix with 2500 rows and 2500 columns as 1 block of size 4096 to file:/tmp/hail.UCzZIpmxAOC7/RXjRot6ZGA.bm\n",
      "2020-04-24 15:01:44 Hail: INFO: wrote matrix with 2500 rows and 2500 columns as 1 block of size 4096 to file:/tmp/hail.UCzZIpmxAOC7/sIhjt1SSI5.bm\n",
      "2020-04-24 15:01:48 Hail: INFO: wrote matrix with 2500 rows and 2500 columns as 1 block of size 4096 to file:/tmp/hail.UCzZIpmxAOC7/uTDulBEOtQ.bm\n",
      "2020-04-24 15:01:50 Hail: INFO: wrote matrix with 2500 rows and 2500 columns as 1 block of size 4096 to file:/tmp/hail.UCzZIpmxAOC7/tM2obdEkEr.bm\n",
      "2020-04-24 15:01:51 Hail: INFO: wrote matrix with 2500 rows and 2500 columns as 1 block of size 4096 to file:/tmp/hail.UCzZIpmxAOC7/WzwAdpXUyK.bm\n",
      "2020-04-24 15:01:54 Hail: INFO: wrote matrix with 2500 rows and 2500 columns as 1 block of size 4096 to file:/tmp/hail.UCzZIpmxAOC7/exiiZ2v8qK.bm\n",
      "2020-04-24 15:01:57 Hail: INFO: wrote matrix with 2500 rows and 2500 columns as 1 block of size 4096 to file:/tmp/hail.UCzZIpmxAOC7/yY1lIgkDxC.bm\n",
      "2020-04-24 15:01:57 Hail: INFO: wrote matrix with 2500 rows and 2500 columns as 1 block of size 4096 to file:/tmp/hail.UCzZIpmxAOC7/T7TEuEH2Mk.bm\n",
      "2020-04-24 15:02:03 Hail: INFO: Ordering unsorted dataset with network shuffle\n"
     ]
    },
    {
     "name": "stdout",
     "output_type": "stream",
     "text": [
      "Deleting hail tmp dir: /tmp/hail.UCzZIpmxAOC7\n"
     ]
    },
    {
     "name": "stderr",
     "output_type": "stream",
     "text": [
      "2020-04-24 15:02:24 Hail: INFO: hwe_normalized_pca: running PCA using 2000 variants.\n",
      "2020-04-24 15:02:25 Hail: INFO: pca: running PCA with 10 components...\n"
     ]
    },
    {
     "name": "stdout",
     "output_type": "stream",
     "text": [
      "PCA took s:3000, v:2000, p:10 : 9.36 seconds\n"
     ]
    },
    {
     "name": "stderr",
     "output_type": "stream",
     "text": [
      "2020-04-24 15:02:35 Hail: INFO: Wrote all 1 blocks of 2000 x 3000 matrix with block size 4096.\n",
      "2020-04-24 15:02:36 Hail: INFO: wrote matrix with 11 rows and 2000 columns as 1 block of size 4096 to file:/tmp/hail.UCzZIpmxAOC7/kvYBGOMZn0.bm\n",
      "2020-04-24 15:02:36 Hail: INFO: wrote matrix with 2000 rows and 3000 columns as 1 block of size 4096 to file:/tmp/hail.UCzZIpmxAOC7/Ipd9iA33Al.bm\n",
      "2020-04-24 15:02:36 Hail: INFO: wrote matrix with 2000 rows and 3000 columns as 1 block of size 4096 to file:/tmp/hail.UCzZIpmxAOC7/mcdV9nOAtG.bm\n",
      "2020-04-24 15:02:40 Hail: INFO: wrote matrix with 3000 rows and 3000 columns as 1 block of size 4096 to file:/tmp/hail.UCzZIpmxAOC7/3HzFhA6GPZ.bm\n",
      "2020-04-24 15:02:44 Hail: INFO: wrote matrix with 3000 rows and 3000 columns as 1 block of size 4096 to file:/tmp/hail.UCzZIpmxAOC7/7U6z6ZKCNB.bm\n",
      "2020-04-24 15:02:44 Hail: INFO: wrote matrix with 3000 rows and 3000 columns as 1 block of size 4096 to file:/tmp/hail.UCzZIpmxAOC7/sCSdDgttYY.bm\n",
      "2020-04-24 15:02:49 Hail: INFO: wrote matrix with 3000 rows and 3000 columns as 1 block of size 4096 to file:/tmp/hail.UCzZIpmxAOC7/Crqg26FDiO.bm\n",
      "2020-04-24 15:02:53 Hail: INFO: wrote matrix with 3000 rows and 3000 columns as 1 block of size 4096 to file:/tmp/hail.UCzZIpmxAOC7/QM31CDaOAp.bm\n",
      "2020-04-24 15:02:53 Hail: INFO: wrote matrix with 3000 rows and 3000 columns as 1 block of size 4096 to file:/tmp/hail.UCzZIpmxAOC7/UE4s0KSD31.bm\n",
      "2020-04-24 15:02:58 Hail: INFO: wrote matrix with 3000 rows and 3000 columns as 1 block of size 4096 to file:/tmp/hail.UCzZIpmxAOC7/JxaIUy9YRW.bm\n",
      "2020-04-24 15:03:02 Hail: INFO: wrote matrix with 3000 rows and 3000 columns as 1 block of size 4096 to file:/tmp/hail.UCzZIpmxAOC7/5hn12YyZze.bm\n",
      "2020-04-24 15:03:03 Hail: INFO: wrote matrix with 3000 rows and 3000 columns as 1 block of size 4096 to file:/tmp/hail.UCzZIpmxAOC7/YvPWSCkapv.bm\n",
      "2020-04-24 15:03:11 Hail: INFO: Ordering unsorted dataset with network shuffle\n",
      "2020-04-24 15:03:55 Hail: INFO: Coerced sorted dataset\n",
      "2020-04-24 15:04:26 Hail: INFO: wrote table with 4498500 rows in 1 partition to /tmp/tmp3r48kcmg/pc_relate_result\n"
     ]
    },
    {
     "name": "stdout",
     "output_type": "stream",
     "text": [
      "Deleting pc_relate results: /tmp/tmp3r48kcmg/pc_relate_result\n"
     ]
    },
    {
     "name": "stderr",
     "output_type": "stream",
     "text": [
      "2020-04-24 15:04:26 Hail: INFO: wrote matrix with 11 rows and 2000 columns as 1 block of size 4096 to file:/tmp/hail.UCzZIpmxAOC7/umolziNbiH.bm\n",
      "2020-04-24 15:04:26 Hail: INFO: wrote matrix with 2000 rows and 3000 columns as 1 block of size 4096 to file:/tmp/hail.UCzZIpmxAOC7/9LFp8I8TpP.bm\n",
      "2020-04-24 15:04:27 Hail: INFO: wrote matrix with 2000 rows and 3000 columns as 1 block of size 4096 to file:/tmp/hail.UCzZIpmxAOC7/P2oVqhoUeM.bm\n",
      "2020-04-24 15:04:31 Hail: INFO: wrote matrix with 3000 rows and 3000 columns as 1 block of size 4096 to file:/tmp/hail.UCzZIpmxAOC7/LGfM3zlO1Q.bm\n",
      "2020-04-24 15:04:35 Hail: INFO: wrote matrix with 3000 rows and 3000 columns as 1 block of size 4096 to file:/tmp/hail.UCzZIpmxAOC7/cDFTO1UpIa.bm\n",
      "2020-04-24 15:04:35 Hail: INFO: wrote matrix with 3000 rows and 3000 columns as 1 block of size 4096 to file:/tmp/hail.UCzZIpmxAOC7/Rc0ZtiP8Hm.bm\n",
      "2020-04-24 15:04:40 Hail: INFO: wrote matrix with 3000 rows and 3000 columns as 1 block of size 4096 to file:/tmp/hail.UCzZIpmxAOC7/eNBpXFaRFo.bm\n",
      "2020-04-24 15:04:43 Hail: INFO: wrote matrix with 3000 rows and 3000 columns as 1 block of size 4096 to file:/tmp/hail.UCzZIpmxAOC7/c8RHKbCcuv.bm\n",
      "2020-04-24 15:04:44 Hail: INFO: wrote matrix with 3000 rows and 3000 columns as 1 block of size 4096 to file:/tmp/hail.UCzZIpmxAOC7/0XQKYIw6HT.bm\n",
      "2020-04-24 15:04:48 Hail: INFO: wrote matrix with 3000 rows and 3000 columns as 1 block of size 4096 to file:/tmp/hail.UCzZIpmxAOC7/Z647daz75d.bm\n",
      "2020-04-24 15:04:52 Hail: INFO: wrote matrix with 3000 rows and 3000 columns as 1 block of size 4096 to file:/tmp/hail.UCzZIpmxAOC7/3xWMXD1Yrq.bm\n",
      "2020-04-24 15:04:53 Hail: INFO: wrote matrix with 3000 rows and 3000 columns as 1 block of size 4096 to file:/tmp/hail.UCzZIpmxAOC7/jBlMRLVE9J.bm\n",
      "2020-04-24 15:05:01 Hail: INFO: Ordering unsorted dataset with network shuffle\n"
     ]
    },
    {
     "name": "stdout",
     "output_type": "stream",
     "text": [
      "Deleting hail tmp dir: /tmp/hail.UCzZIpmxAOC7\n"
     ]
    },
    {
     "name": "stderr",
     "output_type": "stream",
     "text": [
      "2020-04-24 15:05:30 Hail: INFO: hwe_normalized_pca: running PCA using 2000 variants.\n",
      "2020-04-24 15:05:31 Hail: INFO: pca: running PCA with 10 components...\n"
     ]
    },
    {
     "name": "stdout",
     "output_type": "stream",
     "text": [
      "PCA took s:3500, v:2000, p:10 : 8.77 seconds\n"
     ]
    },
    {
     "name": "stderr",
     "output_type": "stream",
     "text": [
      "2020-04-24 15:05:41 Hail: INFO: Wrote all 1 blocks of 2000 x 3500 matrix with block size 4096.\n",
      "2020-04-24 15:05:42 Hail: INFO: wrote matrix with 11 rows and 2000 columns as 1 block of size 4096 to file:/tmp/hail.UCzZIpmxAOC7/LFI0jHQROO.bm\n",
      "2020-04-24 15:05:42 Hail: INFO: wrote matrix with 2000 rows and 3500 columns as 1 block of size 4096 to file:/tmp/hail.UCzZIpmxAOC7/XCncj9osbx.bm\n",
      "2020-04-24 15:05:43 Hail: INFO: wrote matrix with 2000 rows and 3500 columns as 1 block of size 4096 to file:/tmp/hail.UCzZIpmxAOC7/J8zZbnwYAk.bm\n",
      "2020-04-24 15:05:48 Hail: INFO: wrote matrix with 3500 rows and 3500 columns as 1 block of size 4096 to file:/tmp/hail.UCzZIpmxAOC7/F9NiiCixTH.bm\n",
      "2020-04-24 15:05:53 Hail: INFO: wrote matrix with 3500 rows and 3500 columns as 1 block of size 4096 to file:/tmp/hail.UCzZIpmxAOC7/lbI2aoHEUv.bm\n",
      "2020-04-24 15:05:54 Hail: INFO: wrote matrix with 3500 rows and 3500 columns as 1 block of size 4096 to file:/tmp/hail.UCzZIpmxAOC7/Qmaln6ZfY6.bm\n",
      "2020-04-24 15:06:00 Hail: INFO: wrote matrix with 3500 rows and 3500 columns as 1 block of size 4096 to file:/tmp/hail.UCzZIpmxAOC7/5DtntEd8Gw.bm\n",
      "2020-04-24 15:06:05 Hail: INFO: wrote matrix with 3500 rows and 3500 columns as 1 block of size 4096 to file:/tmp/hail.UCzZIpmxAOC7/GrtpamJC0Q.bm\n",
      "2020-04-24 15:06:06 Hail: INFO: wrote matrix with 3500 rows and 3500 columns as 1 block of size 4096 to file:/tmp/hail.UCzZIpmxAOC7/l4HXUa8o4t.bm\n",
      "2020-04-24 15:06:12 Hail: INFO: wrote matrix with 3500 rows and 3500 columns as 1 block of size 4096 to file:/tmp/hail.UCzZIpmxAOC7/uCR2hYbpnE.bm\n",
      "2020-04-24 15:06:17 Hail: INFO: wrote matrix with 3500 rows and 3500 columns as 1 block of size 4096 to file:/tmp/hail.UCzZIpmxAOC7/DpFgerHVnx.bm\n",
      "2020-04-24 15:06:19 Hail: INFO: wrote matrix with 3500 rows and 3500 columns as 1 block of size 4096 to file:/tmp/hail.UCzZIpmxAOC7/DT91iYTzyx.bm\n",
      "2020-04-24 15:06:30 Hail: INFO: Ordering unsorted dataset with network shuffle\n",
      "2020-04-24 15:07:24 Hail: INFO: Coerced sorted dataset\n",
      "2020-04-24 15:08:08 Hail: INFO: wrote table with 6123250 rows in 1 partition to /tmp/tmpf_7coimh/pc_relate_result\n"
     ]
    },
    {
     "name": "stdout",
     "output_type": "stream",
     "text": [
      "Deleting pc_relate results: /tmp/tmpf_7coimh/pc_relate_result\n"
     ]
    },
    {
     "name": "stderr",
     "output_type": "stream",
     "text": [
      "2020-04-24 15:08:08 Hail: INFO: wrote matrix with 11 rows and 2000 columns as 1 block of size 4096 to file:/tmp/hail.UCzZIpmxAOC7/JbCicrgZSw.bm\n",
      "2020-04-24 15:08:09 Hail: INFO: wrote matrix with 2000 rows and 3500 columns as 1 block of size 4096 to file:/tmp/hail.UCzZIpmxAOC7/HZnFnmdFws.bm\n",
      "2020-04-24 15:08:09 Hail: INFO: wrote matrix with 2000 rows and 3500 columns as 1 block of size 4096 to file:/tmp/hail.UCzZIpmxAOC7/MXDnqJ0pto.bm\n",
      "2020-04-24 15:08:15 Hail: INFO: wrote matrix with 3500 rows and 3500 columns as 1 block of size 4096 to file:/tmp/hail.UCzZIpmxAOC7/rB0pgZCIo7.bm\n",
      "2020-04-24 15:08:20 Hail: INFO: wrote matrix with 3500 rows and 3500 columns as 1 block of size 4096 to file:/tmp/hail.UCzZIpmxAOC7/EvlArF3Nl3.bm\n",
      "2020-04-24 15:08:21 Hail: INFO: wrote matrix with 3500 rows and 3500 columns as 1 block of size 4096 to file:/tmp/hail.UCzZIpmxAOC7/4Xixraspmz.bm\n",
      "2020-04-24 15:08:27 Hail: INFO: wrote matrix with 3500 rows and 3500 columns as 1 block of size 4096 to file:/tmp/hail.UCzZIpmxAOC7/u5ugxAaBjm.bm\n",
      "2020-04-24 15:08:32 Hail: INFO: wrote matrix with 3500 rows and 3500 columns as 1 block of size 4096 to file:/tmp/hail.UCzZIpmxAOC7/Ug9MOCkhWL.bm\n",
      "2020-04-24 15:08:33 Hail: INFO: wrote matrix with 3500 rows and 3500 columns as 1 block of size 4096 to file:/tmp/hail.UCzZIpmxAOC7/QCP4SmuwGi.bm\n",
      "2020-04-24 15:08:39 Hail: INFO: wrote matrix with 3500 rows and 3500 columns as 1 block of size 4096 to file:/tmp/hail.UCzZIpmxAOC7/aaPmfUXM7c.bm\n",
      "2020-04-24 15:08:44 Hail: INFO: wrote matrix with 3500 rows and 3500 columns as 1 block of size 4096 to file:/tmp/hail.UCzZIpmxAOC7/ERYL52xqDg.bm\n",
      "2020-04-24 15:08:47 Hail: INFO: wrote matrix with 3500 rows and 3500 columns as 1 block of size 4096 to file:/tmp/hail.UCzZIpmxAOC7/zAoy43nnnE.bm\n",
      "2020-04-24 15:09:00 Hail: INFO: Ordering unsorted dataset with network shuffle\n"
     ]
    },
    {
     "name": "stdout",
     "output_type": "stream",
     "text": [
      "Deleting hail tmp dir: /tmp/hail.UCzZIpmxAOC7\n"
     ]
    },
    {
     "name": "stderr",
     "output_type": "stream",
     "text": [
      "2020-04-24 15:09:41 Hail: INFO: hwe_normalized_pca: running PCA using 2000 variants.\n",
      "2020-04-24 15:09:42 Hail: INFO: pca: running PCA with 10 components...\n"
     ]
    },
    {
     "name": "stdout",
     "output_type": "stream",
     "text": [
      "PCA took s:4000, v:2000, p:10 : 10.05 seconds\n"
     ]
    },
    {
     "name": "stderr",
     "output_type": "stream",
     "text": [
      "2020-04-24 15:09:53 Hail: INFO: Wrote all 1 blocks of 2000 x 4000 matrix with block size 4096.\n",
      "2020-04-24 15:09:54 Hail: INFO: wrote matrix with 11 rows and 2000 columns as 1 block of size 4096 to file:/tmp/hail.UCzZIpmxAOC7/lP67FXYdCN.bm\n",
      "2020-04-24 15:09:54 Hail: INFO: wrote matrix with 2000 rows and 4000 columns as 1 block of size 4096 to file:/tmp/hail.UCzZIpmxAOC7/mBzXtNn51U.bm\n",
      "2020-04-24 15:09:55 Hail: INFO: wrote matrix with 2000 rows and 4000 columns as 1 block of size 4096 to file:/tmp/hail.UCzZIpmxAOC7/76436LrQoq.bm\n",
      "2020-04-24 15:10:02 Hail: INFO: wrote matrix with 4000 rows and 4000 columns as 1 block of size 4096 to file:/tmp/hail.UCzZIpmxAOC7/NrluC21eER.bm\n",
      "2020-04-24 15:10:08 Hail: INFO: wrote matrix with 4000 rows and 4000 columns as 1 block of size 4096 to file:/tmp/hail.UCzZIpmxAOC7/vNJaVSCABR.bm\n",
      "2020-04-24 15:10:09 Hail: INFO: wrote matrix with 4000 rows and 4000 columns as 1 block of size 4096 to file:/tmp/hail.UCzZIpmxAOC7/15V6lv1n3R.bm\n",
      "2020-04-24 15:10:17 Hail: INFO: wrote matrix with 4000 rows and 4000 columns as 1 block of size 4096 to file:/tmp/hail.UCzZIpmxAOC7/AxwFAP3Zzg.bm\n",
      "2020-04-24 15:10:23 Hail: INFO: wrote matrix with 4000 rows and 4000 columns as 1 block of size 4096 to file:/tmp/hail.UCzZIpmxAOC7/dX2VpQYKl5.bm\n",
      "2020-04-24 15:10:24 Hail: INFO: wrote matrix with 4000 rows and 4000 columns as 1 block of size 4096 to file:/tmp/hail.UCzZIpmxAOC7/85KLIybb0n.bm\n",
      "2020-04-24 15:10:31 Hail: INFO: wrote matrix with 4000 rows and 4000 columns as 1 block of size 4096 to file:/tmp/hail.UCzZIpmxAOC7/LQQyZ7WH35.bm\n",
      "2020-04-24 15:10:38 Hail: INFO: wrote matrix with 4000 rows and 4000 columns as 1 block of size 4096 to file:/tmp/hail.UCzZIpmxAOC7/KjrxRIlIT2.bm\n",
      "2020-04-24 15:10:41 Hail: INFO: wrote matrix with 4000 rows and 4000 columns as 1 block of size 4096 to file:/tmp/hail.UCzZIpmxAOC7/KqjJkAP7Lu.bm\n",
      "2020-04-24 15:10:55 Hail: INFO: Ordering unsorted dataset with network shuffle\n",
      "2020-04-24 15:12:06 Hail: INFO: Coerced sorted dataset\n",
      "2020-04-24 15:13:02 Hail: INFO: wrote table with 7998000 rows in 1 partition to /tmp/tmp8kv6vu_y/pc_relate_result\n"
     ]
    },
    {
     "name": "stdout",
     "output_type": "stream",
     "text": [
      "Deleting pc_relate results: /tmp/tmp8kv6vu_y/pc_relate_result\n"
     ]
    },
    {
     "name": "stderr",
     "output_type": "stream",
     "text": [
      "2020-04-24 15:13:02 Hail: INFO: wrote matrix with 11 rows and 2000 columns as 1 block of size 4096 to file:/tmp/hail.UCzZIpmxAOC7/v1QIIvdVcx.bm\n",
      "2020-04-24 15:13:02 Hail: INFO: wrote matrix with 2000 rows and 4000 columns as 1 block of size 4096 to file:/tmp/hail.UCzZIpmxAOC7/8ZbpoTmXFZ.bm\n",
      "2020-04-24 15:13:03 Hail: INFO: wrote matrix with 2000 rows and 4000 columns as 1 block of size 4096 to file:/tmp/hail.UCzZIpmxAOC7/WJ8osD7oHD.bm\n",
      "2020-04-24 15:13:10 Hail: INFO: wrote matrix with 4000 rows and 4000 columns as 1 block of size 4096 to file:/tmp/hail.UCzZIpmxAOC7/KVm207IGR8.bm\n",
      "2020-04-24 15:13:16 Hail: INFO: wrote matrix with 4000 rows and 4000 columns as 1 block of size 4096 to file:/tmp/hail.UCzZIpmxAOC7/fZOHdHYN5h.bm\n",
      "2020-04-24 15:13:17 Hail: INFO: wrote matrix with 4000 rows and 4000 columns as 1 block of size 4096 to file:/tmp/hail.UCzZIpmxAOC7/yV8705Jgmf.bm\n",
      "2020-04-24 15:13:25 Hail: INFO: wrote matrix with 4000 rows and 4000 columns as 1 block of size 4096 to file:/tmp/hail.UCzZIpmxAOC7/u7JQhb6976.bm\n",
      "2020-04-24 15:13:32 Hail: INFO: wrote matrix with 4000 rows and 4000 columns as 1 block of size 4096 to file:/tmp/hail.UCzZIpmxAOC7/lePToINNXg.bm\n",
      "2020-04-24 15:13:32 Hail: INFO: wrote matrix with 4000 rows and 4000 columns as 1 block of size 4096 to file:/tmp/hail.UCzZIpmxAOC7/Mq87HBPvyL.bm\n",
      "2020-04-24 15:13:41 Hail: INFO: wrote matrix with 4000 rows and 4000 columns as 1 block of size 4096 to file:/tmp/hail.UCzZIpmxAOC7/8EfsdBOT1l.bm\n",
      "2020-04-24 15:13:48 Hail: INFO: wrote matrix with 4000 rows and 4000 columns as 1 block of size 4096 to file:/tmp/hail.UCzZIpmxAOC7/KPrFy0LBYv.bm\n",
      "2020-04-24 15:13:50 Hail: INFO: wrote matrix with 4000 rows and 4000 columns as 1 block of size 4096 to file:/tmp/hail.UCzZIpmxAOC7/qSxpibehUS.bm\n",
      "2020-04-24 15:14:04 Hail: INFO: Ordering unsorted dataset with network shuffle\n"
     ]
    },
    {
     "name": "stdout",
     "output_type": "stream",
     "text": [
      "Deleting hail tmp dir: /tmp/hail.UCzZIpmxAOC7\n"
     ]
    },
    {
     "name": "stderr",
     "output_type": "stream",
     "text": [
      "2020-04-24 15:14:57 Hail: INFO: hwe_normalized_pca: running PCA using 2000 variants.\n",
      "2020-04-24 15:14:58 Hail: INFO: pca: running PCA with 10 components...\n"
     ]
    },
    {
     "name": "stdout",
     "output_type": "stream",
     "text": [
      "PCA took s:4500, v:2000, p:10 : 7.38 seconds\n"
     ]
    },
    {
     "name": "stderr",
     "output_type": "stream",
     "text": [
      "2020-04-24 15:15:07 Hail: INFO: Wrote all 2 blocks of 2000 x 4500 matrix with block size 4096.\n",
      "2020-04-24 15:15:08 Hail: INFO: wrote matrix with 11 rows and 2000 columns as 1 block of size 4096 to file:/tmp/hail.UCzZIpmxAOC7/x86vE0SS8Q.bm\n",
      "2020-04-24 15:15:08 Hail: INFO: wrote matrix with 2000 rows and 4500 columns as 2 blocks of size 4096 to file:/tmp/hail.UCzZIpmxAOC7/BjhfpX52rt.bm\n",
      "2020-04-24 15:15:09 Hail: INFO: wrote matrix with 2000 rows and 4500 columns as 2 blocks of size 4096 to file:/tmp/hail.UCzZIpmxAOC7/vyA7E6CX65.bm\n",
      "2020-04-24 15:15:16 Hail: INFO: wrote matrix with 4500 rows and 4500 columns as 4 blocks of size 4096 to file:/tmp/hail.UCzZIpmxAOC7/GVnuAAojF5.bm\n",
      "2020-04-24 15:15:23 Hail: INFO: wrote matrix with 4500 rows and 4500 columns as 4 blocks of size 4096 to file:/tmp/hail.UCzZIpmxAOC7/awlI0sfrrN.bm\n",
      "2020-04-24 15:15:24 Hail: INFO: wrote matrix with 4500 rows and 4500 columns as 4 blocks of size 4096 to file:/tmp/hail.UCzZIpmxAOC7/Z9OWtDcS3c.bm\n",
      "2020-04-24 15:15:32 Hail: INFO: wrote matrix with 4500 rows and 4500 columns as 4 blocks of size 4096 to file:/tmp/hail.UCzZIpmxAOC7/NxQ2zQuywo.bm\n",
      "2020-04-24 15:15:39 Hail: INFO: wrote matrix with 4500 rows and 4500 columns as 4 blocks of size 4096 to file:/tmp/hail.UCzZIpmxAOC7/7j3WPCepBa.bm\n",
      "2020-04-24 15:15:40 Hail: INFO: wrote matrix with 4500 rows and 4500 columns as 4 blocks of size 4096 to file:/tmp/hail.UCzZIpmxAOC7/48diLtmAHh.bm\n",
      "2020-04-24 15:15:48 Hail: INFO: wrote matrix with 4500 rows and 4500 columns as 4 blocks of size 4096 to file:/tmp/hail.UCzZIpmxAOC7/i1yof0N7qL.bm\n",
      "2020-04-24 15:15:55 Hail: INFO: wrote matrix with 4500 rows and 4500 columns as 4 blocks of size 4096 to file:/tmp/hail.UCzZIpmxAOC7/sE2pLAmg4X.bm\n",
      "2020-04-24 15:15:57 Hail: INFO: wrote matrix with 4500 rows and 4500 columns as 4 blocks of size 4096 to file:/tmp/hail.UCzZIpmxAOC7/enVJu40zjf.bm\n",
      "2020-04-24 15:16:13 Hail: INFO: Ordering unsorted dataset with network shuffle\n",
      "2020-04-24 15:17:21 Hail: INFO: Coerced sorted dataset\n",
      "2020-04-24 15:18:03 Hail: INFO: wrote table with 10122750 rows in 4 partitions to /tmp/tmpnrdlrgg5/pc_relate_result\n"
     ]
    },
    {
     "name": "stdout",
     "output_type": "stream",
     "text": [
      "Deleting pc_relate results: /tmp/tmpnrdlrgg5/pc_relate_result\n"
     ]
    },
    {
     "name": "stderr",
     "output_type": "stream",
     "text": [
      "2020-04-24 15:18:03 Hail: INFO: wrote matrix with 11 rows and 2000 columns as 1 block of size 4096 to file:/tmp/hail.UCzZIpmxAOC7/J8cYqMYL2S.bm\n",
      "2020-04-24 15:18:04 Hail: INFO: wrote matrix with 2000 rows and 4500 columns as 2 blocks of size 4096 to file:/tmp/hail.UCzZIpmxAOC7/5cmZrRaTo3.bm\n",
      "2020-04-24 15:18:04 Hail: INFO: wrote matrix with 2000 rows and 4500 columns as 2 blocks of size 4096 to file:/tmp/hail.UCzZIpmxAOC7/KS1WZgOqwe.bm\n",
      "2020-04-24 15:18:11 Hail: INFO: wrote matrix with 4500 rows and 4500 columns as 4 blocks of size 4096 to file:/tmp/hail.UCzZIpmxAOC7/Wr1k8FlAlT.bm\n",
      "2020-04-24 15:18:19 Hail: INFO: wrote matrix with 4500 rows and 4500 columns as 4 blocks of size 4096 to file:/tmp/hail.UCzZIpmxAOC7/Jw35VhZoBy.bm\n",
      "2020-04-24 15:18:19 Hail: INFO: wrote matrix with 4500 rows and 4500 columns as 4 blocks of size 4096 to file:/tmp/hail.UCzZIpmxAOC7/BO4AUmAb3M.bm\n",
      "2020-04-24 15:18:28 Hail: INFO: wrote matrix with 4500 rows and 4500 columns as 4 blocks of size 4096 to file:/tmp/hail.UCzZIpmxAOC7/lm4ICffura.bm\n",
      "2020-04-24 15:18:35 Hail: INFO: wrote matrix with 4500 rows and 4500 columns as 4 blocks of size 4096 to file:/tmp/hail.UCzZIpmxAOC7/pqXjQulcSh.bm\n",
      "2020-04-24 15:18:35 Hail: INFO: wrote matrix with 4500 rows and 4500 columns as 4 blocks of size 4096 to file:/tmp/hail.UCzZIpmxAOC7/lDmqjv4W1Q.bm\n",
      "2020-04-24 15:18:43 Hail: INFO: wrote matrix with 4500 rows and 4500 columns as 4 blocks of size 4096 to file:/tmp/hail.UCzZIpmxAOC7/cuK2hrMXgL.bm\n",
      "2020-04-24 15:18:51 Hail: INFO: wrote matrix with 4500 rows and 4500 columns as 4 blocks of size 4096 to file:/tmp/hail.UCzZIpmxAOC7/Ppi3R9HM5h.bm\n",
      "2020-04-24 15:18:53 Hail: INFO: wrote matrix with 4500 rows and 4500 columns as 4 blocks of size 4096 to file:/tmp/hail.UCzZIpmxAOC7/v5fHp3R5va.bm\n",
      "2020-04-24 15:19:08 Hail: INFO: Ordering unsorted dataset with network shuffle\n"
     ]
    },
    {
     "name": "stdout",
     "output_type": "stream",
     "text": [
      "Deleting hail tmp dir: /tmp/hail.UCzZIpmxAOC7\n"
     ]
    },
    {
     "name": "stderr",
     "output_type": "stream",
     "text": [
      "2020-04-24 15:19:57 Hail: INFO: hwe_normalized_pca: running PCA using 2000 variants.\n",
      "2020-04-24 15:19:58 Hail: INFO: pca: running PCA with 10 components...\n"
     ]
    },
    {
     "name": "stdout",
     "output_type": "stream",
     "text": [
      "PCA took s:5000, v:2000, p:10 : 9.30 seconds\n"
     ]
    },
    {
     "name": "stderr",
     "output_type": "stream",
     "text": [
      "2020-04-24 15:20:09 Hail: INFO: Wrote all 2 blocks of 2000 x 5000 matrix with block size 4096.\n",
      "2020-04-24 15:20:11 Hail: INFO: wrote matrix with 11 rows and 2000 columns as 1 block of size 4096 to file:/tmp/hail.UCzZIpmxAOC7/uVavAocLMi.bm\n",
      "2020-04-24 15:20:11 Hail: INFO: wrote matrix with 2000 rows and 5000 columns as 2 blocks of size 4096 to file:/tmp/hail.UCzZIpmxAOC7/ImE2BhrqK5.bm\n",
      "2020-04-24 15:20:11 Hail: INFO: wrote matrix with 2000 rows and 5000 columns as 2 blocks of size 4096 to file:/tmp/hail.UCzZIpmxAOC7/vFQYu8UoXJ.bm\n",
      "2020-04-24 15:20:19 Hail: INFO: wrote matrix with 5000 rows and 5000 columns as 4 blocks of size 4096 to file:/tmp/hail.UCzZIpmxAOC7/cCW4EuJ5F6.bm\n",
      "2020-04-24 15:20:27 Hail: INFO: wrote matrix with 5000 rows and 5000 columns as 4 blocks of size 4096 to file:/tmp/hail.UCzZIpmxAOC7/YsWdarHfZR.bm\n",
      "2020-04-24 15:20:27 Hail: INFO: wrote matrix with 5000 rows and 5000 columns as 4 blocks of size 4096 to file:/tmp/hail.UCzZIpmxAOC7/zLaVC7j7wd.bm\n",
      "2020-04-24 15:20:35 Hail: INFO: wrote matrix with 5000 rows and 5000 columns as 4 blocks of size 4096 to file:/tmp/hail.UCzZIpmxAOC7/LYcTN6HfHA.bm\n",
      "2020-04-24 15:20:42 Hail: INFO: wrote matrix with 5000 rows and 5000 columns as 4 blocks of size 4096 to file:/tmp/hail.UCzZIpmxAOC7/XFeBtThwG6.bm\n",
      "2020-04-24 15:20:43 Hail: INFO: wrote matrix with 5000 rows and 5000 columns as 4 blocks of size 4096 to file:/tmp/hail.UCzZIpmxAOC7/N0DyKPGApR.bm\n",
      "2020-04-24 15:20:52 Hail: INFO: wrote matrix with 5000 rows and 5000 columns as 4 blocks of size 4096 to file:/tmp/hail.UCzZIpmxAOC7/f1yzMFUEcA.bm\n",
      "2020-04-24 15:21:00 Hail: INFO: wrote matrix with 5000 rows and 5000 columns as 4 blocks of size 4096 to file:/tmp/hail.UCzZIpmxAOC7/CiMP7trY8b.bm\n",
      "2020-04-24 15:21:02 Hail: INFO: wrote matrix with 5000 rows and 5000 columns as 4 blocks of size 4096 to file:/tmp/hail.UCzZIpmxAOC7/lr03qyJ3sX.bm\n",
      "2020-04-24 15:21:18 Hail: INFO: Ordering unsorted dataset with network shuffle\n",
      "2020-04-24 15:22:20 Hail: INFO: Coerced sorted dataset\n",
      "2020-04-24 15:22:59 Hail: INFO: wrote table with 12497500 rows in 4 partitions to /tmp/tmp326gj8iv/pc_relate_result\n"
     ]
    },
    {
     "name": "stdout",
     "output_type": "stream",
     "text": [
      "Deleting pc_relate results: /tmp/tmp326gj8iv/pc_relate_result\n"
     ]
    },
    {
     "name": "stderr",
     "output_type": "stream",
     "text": [
      "2020-04-24 15:23:00 Hail: INFO: wrote matrix with 11 rows and 2000 columns as 1 block of size 4096 to file:/tmp/hail.UCzZIpmxAOC7/K1sOXym1Ih.bm\n",
      "2020-04-24 15:23:00 Hail: INFO: wrote matrix with 2000 rows and 5000 columns as 2 blocks of size 4096 to file:/tmp/hail.UCzZIpmxAOC7/XXyB5eHMx0.bm\n",
      "2020-04-24 15:23:00 Hail: INFO: wrote matrix with 2000 rows and 5000 columns as 2 blocks of size 4096 to file:/tmp/hail.UCzZIpmxAOC7/PEhPat4hRJ.bm\n",
      "2020-04-24 15:23:08 Hail: INFO: wrote matrix with 5000 rows and 5000 columns as 4 blocks of size 4096 to file:/tmp/hail.UCzZIpmxAOC7/lypp4aN0IR.bm\n",
      "2020-04-24 15:23:15 Hail: INFO: wrote matrix with 5000 rows and 5000 columns as 4 blocks of size 4096 to file:/tmp/hail.UCzZIpmxAOC7/DrW8Rw75aX.bm\n",
      "2020-04-24 15:23:16 Hail: INFO: wrote matrix with 5000 rows and 5000 columns as 4 blocks of size 4096 to file:/tmp/hail.UCzZIpmxAOC7/Ms6RaAkseU.bm\n",
      "2020-04-24 15:23:25 Hail: INFO: wrote matrix with 5000 rows and 5000 columns as 4 blocks of size 4096 to file:/tmp/hail.UCzZIpmxAOC7/mWUsv4qAUD.bm\n",
      "2020-04-24 15:23:32 Hail: INFO: wrote matrix with 5000 rows and 5000 columns as 4 blocks of size 4096 to file:/tmp/hail.UCzZIpmxAOC7/DTAxQhfeeL.bm\n",
      "2020-04-24 15:23:33 Hail: INFO: wrote matrix with 5000 rows and 5000 columns as 4 blocks of size 4096 to file:/tmp/hail.UCzZIpmxAOC7/pus63Ru3h2.bm\n",
      "2020-04-24 15:23:41 Hail: INFO: wrote matrix with 5000 rows and 5000 columns as 4 blocks of size 4096 to file:/tmp/hail.UCzZIpmxAOC7/efWq35ZMRA.bm\n",
      "2020-04-24 15:23:50 Hail: INFO: wrote matrix with 5000 rows and 5000 columns as 4 blocks of size 4096 to file:/tmp/hail.UCzZIpmxAOC7/oTScF1Wb8e.bm\n",
      "2020-04-24 15:23:52 Hail: INFO: wrote matrix with 5000 rows and 5000 columns as 4 blocks of size 4096 to file:/tmp/hail.UCzZIpmxAOC7/aaDWhkIigh.bm\n",
      "2020-04-24 15:24:07 Hail: INFO: Ordering unsorted dataset with network shuffle\n"
     ]
    },
    {
     "name": "stdout",
     "output_type": "stream",
     "text": [
      "Deleting hail tmp dir: /tmp/hail.UCzZIpmxAOC7\n"
     ]
    },
    {
     "name": "stderr",
     "output_type": "stream",
     "text": [
      "2020-04-24 15:25:08 Hail: INFO: hwe_normalized_pca: running PCA using 2000 variants.\n",
      "2020-04-24 15:25:09 Hail: INFO: pca: running PCA with 10 components...\n"
     ]
    },
    {
     "name": "stdout",
     "output_type": "stream",
     "text": [
      "PCA took s:5500, v:2000, p:10 : 9.83 seconds\n"
     ]
    },
    {
     "name": "stderr",
     "output_type": "stream",
     "text": [
      "2020-04-24 15:25:21 Hail: INFO: Wrote all 2 blocks of 2000 x 5500 matrix with block size 4096.\n",
      "2020-04-24 15:25:22 Hail: INFO: wrote matrix with 11 rows and 2000 columns as 1 block of size 4096 to file:/tmp/hail.UCzZIpmxAOC7/QEVosHH1Qp.bm\n",
      "2020-04-24 15:25:23 Hail: INFO: wrote matrix with 2000 rows and 5500 columns as 2 blocks of size 4096 to file:/tmp/hail.UCzZIpmxAOC7/IDCkheXZhl.bm\n",
      "2020-04-24 15:25:23 Hail: INFO: wrote matrix with 2000 rows and 5500 columns as 2 blocks of size 4096 to file:/tmp/hail.UCzZIpmxAOC7/9uSVL5nQB9.bm\n",
      "2020-04-24 15:25:30 Hail: INFO: wrote matrix with 5500 rows and 5500 columns as 4 blocks of size 4096 to file:/tmp/hail.UCzZIpmxAOC7/QmvBRVfJmN.bm\n",
      "2020-04-24 15:25:37 Hail: INFO: wrote matrix with 5500 rows and 5500 columns as 4 blocks of size 4096 to file:/tmp/hail.UCzZIpmxAOC7/6ODHzEWfVH.bm\n",
      "2020-04-24 15:25:38 Hail: INFO: wrote matrix with 5500 rows and 5500 columns as 4 blocks of size 4096 to file:/tmp/hail.UCzZIpmxAOC7/IvXtAjsFmw.bm\n",
      "2020-04-24 15:25:46 Hail: INFO: wrote matrix with 5500 rows and 5500 columns as 4 blocks of size 4096 to file:/tmp/hail.UCzZIpmxAOC7/p4XiulG9b1.bm\n",
      "2020-04-24 15:25:54 Hail: INFO: wrote matrix with 5500 rows and 5500 columns as 4 blocks of size 4096 to file:/tmp/hail.UCzZIpmxAOC7/PQnQDleoyU.bm\n",
      "2020-04-24 15:25:54 Hail: INFO: wrote matrix with 5500 rows and 5500 columns as 4 blocks of size 4096 to file:/tmp/hail.UCzZIpmxAOC7/gUTfKZveBU.bm\n",
      "2020-04-24 15:26:02 Hail: INFO: wrote matrix with 5500 rows and 5500 columns as 4 blocks of size 4096 to file:/tmp/hail.UCzZIpmxAOC7/TVfnDvJE4f.bm\n",
      "2020-04-24 15:26:10 Hail: INFO: wrote matrix with 5500 rows and 5500 columns as 4 blocks of size 4096 to file:/tmp/hail.UCzZIpmxAOC7/D1GevPrFp2.bm\n",
      "2020-04-24 15:26:11 Hail: INFO: wrote matrix with 5500 rows and 5500 columns as 4 blocks of size 4096 to file:/tmp/hail.UCzZIpmxAOC7/73yHygFatE.bm\n",
      "2020-04-24 15:26:27 Hail: INFO: Ordering unsorted dataset with network shuffle\n",
      "2020-04-24 15:27:35 Hail: INFO: Coerced sorted dataset\n",
      "2020-04-24 15:28:26 Hail: INFO: wrote table with 15122250 rows in 4 partitions to /tmp/tmpg5rw6o6q/pc_relate_result\n"
     ]
    },
    {
     "name": "stdout",
     "output_type": "stream",
     "text": [
      "Deleting pc_relate results: /tmp/tmpg5rw6o6q/pc_relate_result\n"
     ]
    },
    {
     "name": "stderr",
     "output_type": "stream",
     "text": [
      "2020-04-24 15:28:26 Hail: INFO: wrote matrix with 11 rows and 2000 columns as 1 block of size 4096 to file:/tmp/hail.UCzZIpmxAOC7/JsATCOMtij.bm\n",
      "2020-04-24 15:28:26 Hail: INFO: wrote matrix with 2000 rows and 5500 columns as 2 blocks of size 4096 to file:/tmp/hail.UCzZIpmxAOC7/UIsdZR4VjT.bm\n",
      "2020-04-24 15:28:27 Hail: INFO: wrote matrix with 2000 rows and 5500 columns as 2 blocks of size 4096 to file:/tmp/hail.UCzZIpmxAOC7/MYERzMPYjj.bm\n",
      "2020-04-24 15:28:34 Hail: INFO: wrote matrix with 5500 rows and 5500 columns as 4 blocks of size 4096 to file:/tmp/hail.UCzZIpmxAOC7/LCsoGJpJC8.bm\n",
      "2020-04-24 15:28:41 Hail: INFO: wrote matrix with 5500 rows and 5500 columns as 4 blocks of size 4096 to file:/tmp/hail.UCzZIpmxAOC7/RgBLm8hhfl.bm\n",
      "2020-04-24 15:28:42 Hail: INFO: wrote matrix with 5500 rows and 5500 columns as 4 blocks of size 4096 to file:/tmp/hail.UCzZIpmxAOC7/kBsWiG07gA.bm\n",
      "2020-04-24 15:28:50 Hail: INFO: wrote matrix with 5500 rows and 5500 columns as 4 blocks of size 4096 to file:/tmp/hail.UCzZIpmxAOC7/Gpxz20jRCk.bm\n",
      "2020-04-24 15:28:57 Hail: INFO: wrote matrix with 5500 rows and 5500 columns as 4 blocks of size 4096 to file:/tmp/hail.UCzZIpmxAOC7/2Cm37BrfLO.bm\n",
      "2020-04-24 15:28:58 Hail: INFO: wrote matrix with 5500 rows and 5500 columns as 4 blocks of size 4096 to file:/tmp/hail.UCzZIpmxAOC7/1SJi9QuK6n.bm\n",
      "2020-04-24 15:29:06 Hail: INFO: wrote matrix with 5500 rows and 5500 columns as 4 blocks of size 4096 to file:/tmp/hail.UCzZIpmxAOC7/OhN4QTCUuO.bm\n",
      "2020-04-24 15:29:14 Hail: INFO: wrote matrix with 5500 rows and 5500 columns as 4 blocks of size 4096 to file:/tmp/hail.UCzZIpmxAOC7/IKPzqR1eat.bm\n",
      "2020-04-24 15:29:16 Hail: INFO: wrote matrix with 5500 rows and 5500 columns as 4 blocks of size 4096 to file:/tmp/hail.UCzZIpmxAOC7/aPwNmo04St.bm\n",
      "2020-04-24 15:29:32 Hail: INFO: Ordering unsorted dataset with network shuffle\n"
     ]
    },
    {
     "name": "stdout",
     "output_type": "stream",
     "text": [
      "Deleting hail tmp dir: /tmp/hail.UCzZIpmxAOC7\n"
     ]
    },
    {
     "name": "stderr",
     "output_type": "stream",
     "text": [
      "2020-04-24 15:30:24 Hail: INFO: hwe_normalized_pca: running PCA using 2000 variants.\n",
      "2020-04-24 15:30:25 Hail: INFO: pca: running PCA with 10 components...\n"
     ]
    },
    {
     "name": "stdout",
     "output_type": "stream",
     "text": [
      "PCA took s:6000, v:2000, p:10 : 9.65 seconds\n"
     ]
    },
    {
     "name": "stderr",
     "output_type": "stream",
     "text": [
      "2020-04-24 15:30:37 Hail: INFO: Wrote all 2 blocks of 2000 x 6000 matrix with block size 4096.\n",
      "2020-04-24 15:30:38 Hail: INFO: wrote matrix with 11 rows and 2000 columns as 1 block of size 4096 to file:/tmp/hail.UCzZIpmxAOC7/rzKTg3VAY3.bm\n",
      "2020-04-24 15:30:38 Hail: INFO: wrote matrix with 2000 rows and 6000 columns as 2 blocks of size 4096 to file:/tmp/hail.UCzZIpmxAOC7/kBDcgAmPMG.bm\n",
      "2020-04-24 15:30:39 Hail: INFO: wrote matrix with 2000 rows and 6000 columns as 2 blocks of size 4096 to file:/tmp/hail.UCzZIpmxAOC7/Zyz0iey3s6.bm\n",
      "2020-04-24 15:30:46 Hail: INFO: wrote matrix with 6000 rows and 6000 columns as 4 blocks of size 4096 to file:/tmp/hail.UCzZIpmxAOC7/oz06OG4Cn6.bm\n",
      "2020-04-24 15:30:53 Hail: INFO: wrote matrix with 6000 rows and 6000 columns as 4 blocks of size 4096 to file:/tmp/hail.UCzZIpmxAOC7/yNxnnBWh4h.bm\n",
      "2020-04-24 15:30:54 Hail: INFO: wrote matrix with 6000 rows and 6000 columns as 4 blocks of size 4096 to file:/tmp/hail.UCzZIpmxAOC7/RGXJ2zxJm3.bm\n",
      "2020-04-24 15:31:02 Hail: INFO: wrote matrix with 6000 rows and 6000 columns as 4 blocks of size 4096 to file:/tmp/hail.UCzZIpmxAOC7/EKfkzg235n.bm\n",
      "2020-04-24 15:31:09 Hail: INFO: wrote matrix with 6000 rows and 6000 columns as 4 blocks of size 4096 to file:/tmp/hail.UCzZIpmxAOC7/jeA7KUFEeO.bm\n",
      "2020-04-24 15:31:10 Hail: INFO: wrote matrix with 6000 rows and 6000 columns as 4 blocks of size 4096 to file:/tmp/hail.UCzZIpmxAOC7/6i0IgZXDTQ.bm\n",
      "2020-04-24 15:31:18 Hail: INFO: wrote matrix with 6000 rows and 6000 columns as 4 blocks of size 4096 to file:/tmp/hail.UCzZIpmxAOC7/6NvjoNFoHP.bm\n",
      "2020-04-24 15:31:25 Hail: INFO: wrote matrix with 6000 rows and 6000 columns as 4 blocks of size 4096 to file:/tmp/hail.UCzZIpmxAOC7/RqHGGKs47X.bm\n",
      "2020-04-24 15:31:27 Hail: INFO: wrote matrix with 6000 rows and 6000 columns as 4 blocks of size 4096 to file:/tmp/hail.UCzZIpmxAOC7/hg6fLY1lHL.bm\n",
      "2020-04-24 15:31:57 Hail: INFO: Ordering unsorted dataset with network shuffle\n",
      "2020-04-24 15:33:19 Hail: INFO: Coerced sorted dataset\n",
      "2020-04-24 15:34:14 Hail: INFO: wrote table with 17997000 rows in 4 partitions to /tmp/tmp0_4vz2sw/pc_relate_result\n"
     ]
    },
    {
     "name": "stdout",
     "output_type": "stream",
     "text": [
      "Deleting pc_relate results: /tmp/tmp0_4vz2sw/pc_relate_result\n"
     ]
    },
    {
     "name": "stderr",
     "output_type": "stream",
     "text": [
      "2020-04-24 15:34:14 Hail: INFO: wrote matrix with 11 rows and 2000 columns as 1 block of size 4096 to file:/tmp/hail.UCzZIpmxAOC7/CeDcL9FyfX.bm\n",
      "2020-04-24 15:34:15 Hail: INFO: wrote matrix with 2000 rows and 6000 columns as 2 blocks of size 4096 to file:/tmp/hail.UCzZIpmxAOC7/w5RRzGwMrO.bm\n",
      "2020-04-24 15:34:15 Hail: INFO: wrote matrix with 2000 rows and 6000 columns as 2 blocks of size 4096 to file:/tmp/hail.UCzZIpmxAOC7/3afNocfUcO.bm\n",
      "2020-04-24 15:34:22 Hail: INFO: wrote matrix with 6000 rows and 6000 columns as 4 blocks of size 4096 to file:/tmp/hail.UCzZIpmxAOC7/QaWWbDb2GH.bm\n",
      "2020-04-24 15:34:30 Hail: INFO: wrote matrix with 6000 rows and 6000 columns as 4 blocks of size 4096 to file:/tmp/hail.UCzZIpmxAOC7/kU3pitXBoq.bm\n",
      "2020-04-24 15:34:31 Hail: INFO: wrote matrix with 6000 rows and 6000 columns as 4 blocks of size 4096 to file:/tmp/hail.UCzZIpmxAOC7/1RQt8520JL.bm\n",
      "2020-04-24 15:34:39 Hail: INFO: wrote matrix with 6000 rows and 6000 columns as 4 blocks of size 4096 to file:/tmp/hail.UCzZIpmxAOC7/rXImXNh0Yp.bm\n",
      "2020-04-24 15:34:46 Hail: INFO: wrote matrix with 6000 rows and 6000 columns as 4 blocks of size 4096 to file:/tmp/hail.UCzZIpmxAOC7/oo7IueZl9B.bm\n",
      "2020-04-24 15:34:47 Hail: INFO: wrote matrix with 6000 rows and 6000 columns as 4 blocks of size 4096 to file:/tmp/hail.UCzZIpmxAOC7/kvvbqXRfUE.bm\n",
      "2020-04-24 15:34:55 Hail: INFO: wrote matrix with 6000 rows and 6000 columns as 4 blocks of size 4096 to file:/tmp/hail.UCzZIpmxAOC7/3ApeGzSf2B.bm\n",
      "2020-04-24 15:35:04 Hail: INFO: wrote matrix with 6000 rows and 6000 columns as 4 blocks of size 4096 to file:/tmp/hail.UCzZIpmxAOC7/l2J8Wh2zSp.bm\n",
      "2020-04-24 15:35:06 Hail: INFO: wrote matrix with 6000 rows and 6000 columns as 4 blocks of size 4096 to file:/tmp/hail.UCzZIpmxAOC7/lSOYqEuqhp.bm\n",
      "2020-04-24 15:35:23 Hail: INFO: Ordering unsorted dataset with network shuffle\n"
     ]
    },
    {
     "name": "stdout",
     "output_type": "stream",
     "text": [
      "Deleting hail tmp dir: /tmp/hail.UCzZIpmxAOC7\n"
     ]
    },
    {
     "name": "stderr",
     "output_type": "stream",
     "text": [
      "2020-04-24 15:36:30 Hail: INFO: hwe_normalized_pca: running PCA using 2000 variants.\n",
      "2020-04-24 15:36:32 Hail: INFO: pca: running PCA with 10 components...\n"
     ]
    },
    {
     "name": "stdout",
     "output_type": "stream",
     "text": [
      "PCA took s:6500, v:2000, p:10 : 12.34 seconds\n"
     ]
    },
    {
     "name": "stderr",
     "output_type": "stream",
     "text": [
      "2020-04-24 15:36:47 Hail: INFO: Wrote all 2 blocks of 2000 x 6500 matrix with block size 4096.\n",
      "2020-04-24 15:36:48 Hail: INFO: wrote matrix with 11 rows and 2000 columns as 1 block of size 4096 to file:/tmp/hail.UCzZIpmxAOC7/4dLZLFzokn.bm\n",
      "2020-04-24 15:36:48 Hail: INFO: wrote matrix with 2000 rows and 6500 columns as 2 blocks of size 4096 to file:/tmp/hail.UCzZIpmxAOC7/KeAIQI0QuO.bm\n",
      "2020-04-24 15:36:49 Hail: INFO: wrote matrix with 2000 rows and 6500 columns as 2 blocks of size 4096 to file:/tmp/hail.UCzZIpmxAOC7/qPeuIp6Zvc.bm\n",
      "2020-04-24 15:36:56 Hail: INFO: wrote matrix with 6500 rows and 6500 columns as 4 blocks of size 4096 to file:/tmp/hail.UCzZIpmxAOC7/7Cj2Xkxbag.bm\n",
      "2020-04-24 15:37:03 Hail: INFO: wrote matrix with 6500 rows and 6500 columns as 4 blocks of size 4096 to file:/tmp/hail.UCzZIpmxAOC7/f8tewI4SCh.bm\n",
      "2020-04-24 15:37:04 Hail: INFO: wrote matrix with 6500 rows and 6500 columns as 4 blocks of size 4096 to file:/tmp/hail.UCzZIpmxAOC7/hKi0qWnm7t.bm\n",
      "2020-04-24 15:37:12 Hail: INFO: wrote matrix with 6500 rows and 6500 columns as 4 blocks of size 4096 to file:/tmp/hail.UCzZIpmxAOC7/iVZ5e40Ym3.bm\n",
      "2020-04-24 15:37:20 Hail: INFO: wrote matrix with 6500 rows and 6500 columns as 4 blocks of size 4096 to file:/tmp/hail.UCzZIpmxAOC7/O2rH2kBCO0.bm\n",
      "2020-04-24 15:37:20 Hail: INFO: wrote matrix with 6500 rows and 6500 columns as 4 blocks of size 4096 to file:/tmp/hail.UCzZIpmxAOC7/tXNk2SlxE7.bm\n",
      "2020-04-24 15:37:28 Hail: INFO: wrote matrix with 6500 rows and 6500 columns as 4 blocks of size 4096 to file:/tmp/hail.UCzZIpmxAOC7/cxABzPsFCr.bm\n",
      "2020-04-24 15:37:36 Hail: INFO: wrote matrix with 6500 rows and 6500 columns as 4 blocks of size 4096 to file:/tmp/hail.UCzZIpmxAOC7/qBuh6Vpy9o.bm\n",
      "2020-04-24 15:37:38 Hail: INFO: wrote matrix with 6500 rows and 6500 columns as 4 blocks of size 4096 to file:/tmp/hail.UCzZIpmxAOC7/oHlQXRQXTm.bm\n",
      "2020-04-24 15:37:57 Hail: INFO: Ordering unsorted dataset with network shuffle\n",
      "2020-04-24 15:39:33 Hail: INFO: Coerced sorted dataset\n",
      "2020-04-24 15:40:29 Hail: INFO: wrote table with 21121750 rows in 4 partitions to /tmp/tmprpj6c3bi/pc_relate_result\n"
     ]
    },
    {
     "name": "stdout",
     "output_type": "stream",
     "text": [
      "Deleting pc_relate results: /tmp/tmprpj6c3bi/pc_relate_result\n"
     ]
    },
    {
     "name": "stderr",
     "output_type": "stream",
     "text": [
      "2020-04-24 15:40:30 Hail: INFO: wrote matrix with 11 rows and 2000 columns as 1 block of size 4096 to file:/tmp/hail.UCzZIpmxAOC7/MbDPITwOV7.bm\n",
      "2020-04-24 15:40:30 Hail: INFO: wrote matrix with 2000 rows and 6500 columns as 2 blocks of size 4096 to file:/tmp/hail.UCzZIpmxAOC7/HK5C0lLUhB.bm\n",
      "2020-04-24 15:40:31 Hail: INFO: wrote matrix with 2000 rows and 6500 columns as 2 blocks of size 4096 to file:/tmp/hail.UCzZIpmxAOC7/hpMiUSwpDG.bm\n",
      "2020-04-24 15:40:38 Hail: INFO: wrote matrix with 6500 rows and 6500 columns as 4 blocks of size 4096 to file:/tmp/hail.UCzZIpmxAOC7/VQwFVgRz6N.bm\n",
      "2020-04-24 15:40:46 Hail: INFO: wrote matrix with 6500 rows and 6500 columns as 4 blocks of size 4096 to file:/tmp/hail.UCzZIpmxAOC7/oC4oWIthh5.bm\n",
      "2020-04-24 15:40:46 Hail: INFO: wrote matrix with 6500 rows and 6500 columns as 4 blocks of size 4096 to file:/tmp/hail.UCzZIpmxAOC7/bkkTMlBDt6.bm\n",
      "2020-04-24 15:40:56 Hail: INFO: wrote matrix with 6500 rows and 6500 columns as 4 blocks of size 4096 to file:/tmp/hail.UCzZIpmxAOC7/fj79EwqLpJ.bm\n",
      "2020-04-24 15:41:04 Hail: INFO: wrote matrix with 6500 rows and 6500 columns as 4 blocks of size 4096 to file:/tmp/hail.UCzZIpmxAOC7/XByobKTRl4.bm\n",
      "2020-04-24 15:41:04 Hail: INFO: wrote matrix with 6500 rows and 6500 columns as 4 blocks of size 4096 to file:/tmp/hail.UCzZIpmxAOC7/JxqhG0SCzd.bm\n",
      "2020-04-24 15:41:12 Hail: INFO: wrote matrix with 6500 rows and 6500 columns as 4 blocks of size 4096 to file:/tmp/hail.UCzZIpmxAOC7/AqQWS9ecKe.bm\n",
      "2020-04-24 15:41:20 Hail: INFO: wrote matrix with 6500 rows and 6500 columns as 4 blocks of size 4096 to file:/tmp/hail.UCzZIpmxAOC7/8fBrj3kDnF.bm\n",
      "2020-04-24 15:41:22 Hail: INFO: wrote matrix with 6500 rows and 6500 columns as 4 blocks of size 4096 to file:/tmp/hail.UCzZIpmxAOC7/oF7SJeMDTm.bm\n",
      "2020-04-24 15:41:41 Hail: INFO: Ordering unsorted dataset with network shuffle\n"
     ]
    },
    {
     "name": "stdout",
     "output_type": "stream",
     "text": [
      "Deleting hail tmp dir: /tmp/hail.UCzZIpmxAOC7\n"
     ]
    },
    {
     "name": "stderr",
     "output_type": "stream",
     "text": [
      "2020-04-24 15:43:05 Hail: INFO: hwe_normalized_pca: running PCA using 2000 variants.\n",
      "2020-04-24 15:43:07 Hail: INFO: pca: running PCA with 10 components...\n"
     ]
    },
    {
     "name": "stdout",
     "output_type": "stream",
     "text": [
      "PCA took s:7000, v:2000, p:10 : 9.37 seconds\n"
     ]
    },
    {
     "name": "stderr",
     "output_type": "stream",
     "text": [
      "2020-04-24 15:43:19 Hail: INFO: Wrote all 2 blocks of 2000 x 7000 matrix with block size 4096.\n",
      "2020-04-24 15:43:20 Hail: INFO: wrote matrix with 11 rows and 2000 columns as 1 block of size 4096 to file:/tmp/hail.UCzZIpmxAOC7/KFPadKNgM7.bm\n",
      "2020-04-24 15:43:20 Hail: INFO: wrote matrix with 2000 rows and 7000 columns as 2 blocks of size 4096 to file:/tmp/hail.UCzZIpmxAOC7/t8PjHZ338g.bm\n",
      "2020-04-24 15:43:21 Hail: INFO: wrote matrix with 2000 rows and 7000 columns as 2 blocks of size 4096 to file:/tmp/hail.UCzZIpmxAOC7/Pj4KouTVjz.bm\n",
      "2020-04-24 15:43:28 Hail: INFO: wrote matrix with 7000 rows and 7000 columns as 4 blocks of size 4096 to file:/tmp/hail.UCzZIpmxAOC7/sUSrmnxZbj.bm\n",
      "2020-04-24 15:43:36 Hail: INFO: wrote matrix with 7000 rows and 7000 columns as 4 blocks of size 4096 to file:/tmp/hail.UCzZIpmxAOC7/ZFJruZGrPI.bm\n",
      "2020-04-24 15:43:36 Hail: INFO: wrote matrix with 7000 rows and 7000 columns as 4 blocks of size 4096 to file:/tmp/hail.UCzZIpmxAOC7/UDD6GwhbAa.bm\n",
      "2020-04-24 15:43:45 Hail: INFO: wrote matrix with 7000 rows and 7000 columns as 4 blocks of size 4096 to file:/tmp/hail.UCzZIpmxAOC7/TOp6fYRDFV.bm\n",
      "2020-04-24 15:43:52 Hail: INFO: wrote matrix with 7000 rows and 7000 columns as 4 blocks of size 4096 to file:/tmp/hail.UCzZIpmxAOC7/0WYFxCe14Y.bm\n",
      "2020-04-24 15:43:52 Hail: INFO: wrote matrix with 7000 rows and 7000 columns as 4 blocks of size 4096 to file:/tmp/hail.UCzZIpmxAOC7/YOVj3yXObv.bm\n",
      "2020-04-24 15:44:00 Hail: INFO: wrote matrix with 7000 rows and 7000 columns as 4 blocks of size 4096 to file:/tmp/hail.UCzZIpmxAOC7/WC8ZdAg0j2.bm\n",
      "2020-04-24 15:44:08 Hail: INFO: wrote matrix with 7000 rows and 7000 columns as 4 blocks of size 4096 to file:/tmp/hail.UCzZIpmxAOC7/geA4OVT6Nu.bm\n",
      "2020-04-24 15:44:10 Hail: INFO: wrote matrix with 7000 rows and 7000 columns as 4 blocks of size 4096 to file:/tmp/hail.UCzZIpmxAOC7/whPFzSkneE.bm\n",
      "2020-04-24 15:44:34 Hail: INFO: Ordering unsorted dataset with network shuffle\n",
      "2020-04-24 15:46:25 Hail: INFO: Coerced sorted dataset\n",
      "2020-04-24 15:47:28 Hail: INFO: wrote table with 24496500 rows in 4 partitions to /tmp/tmpfnnfoun4/pc_relate_result\n"
     ]
    },
    {
     "name": "stdout",
     "output_type": "stream",
     "text": [
      "Deleting pc_relate results: /tmp/tmpfnnfoun4/pc_relate_result\n"
     ]
    },
    {
     "name": "stderr",
     "output_type": "stream",
     "text": [
      "2020-04-24 15:47:29 Hail: INFO: wrote matrix with 11 rows and 2000 columns as 1 block of size 4096 to file:/tmp/hail.UCzZIpmxAOC7/VGymu8GdGj.bm\n",
      "2020-04-24 15:47:29 Hail: INFO: wrote matrix with 2000 rows and 7000 columns as 2 blocks of size 4096 to file:/tmp/hail.UCzZIpmxAOC7/F6oFP8askd.bm\n",
      "2020-04-24 15:47:30 Hail: INFO: wrote matrix with 2000 rows and 7000 columns as 2 blocks of size 4096 to file:/tmp/hail.UCzZIpmxAOC7/DhtP8PbsEY.bm\n",
      "2020-04-24 15:47:37 Hail: INFO: wrote matrix with 7000 rows and 7000 columns as 4 blocks of size 4096 to file:/tmp/hail.UCzZIpmxAOC7/7d2lOCTy8L.bm\n",
      "2020-04-24 15:47:45 Hail: INFO: wrote matrix with 7000 rows and 7000 columns as 4 blocks of size 4096 to file:/tmp/hail.UCzZIpmxAOC7/Bt3J4JMQU4.bm\n",
      "2020-04-24 15:47:45 Hail: INFO: wrote matrix with 7000 rows and 7000 columns as 4 blocks of size 4096 to file:/tmp/hail.UCzZIpmxAOC7/gxgLB8sdAJ.bm\n",
      "2020-04-24 15:47:54 Hail: INFO: wrote matrix with 7000 rows and 7000 columns as 4 blocks of size 4096 to file:/tmp/hail.UCzZIpmxAOC7/1n8eNaguNQ.bm\n",
      "2020-04-24 15:48:01 Hail: INFO: wrote matrix with 7000 rows and 7000 columns as 4 blocks of size 4096 to file:/tmp/hail.UCzZIpmxAOC7/hovQ5AKGwV.bm\n",
      "2020-04-24 15:48:02 Hail: INFO: wrote matrix with 7000 rows and 7000 columns as 4 blocks of size 4096 to file:/tmp/hail.UCzZIpmxAOC7/UODjWDR5B3.bm\n",
      "2020-04-24 15:48:10 Hail: INFO: wrote matrix with 7000 rows and 7000 columns as 4 blocks of size 4096 to file:/tmp/hail.UCzZIpmxAOC7/OyfcRzdvdL.bm\n",
      "2020-04-24 15:48:17 Hail: INFO: wrote matrix with 7000 rows and 7000 columns as 4 blocks of size 4096 to file:/tmp/hail.UCzZIpmxAOC7/6tbbpUYRIz.bm\n",
      "2020-04-24 15:48:19 Hail: INFO: wrote matrix with 7000 rows and 7000 columns as 4 blocks of size 4096 to file:/tmp/hail.UCzZIpmxAOC7/4AttXfPNbt.bm\n",
      "2020-04-24 15:49:03 Hail: INFO: Ordering unsorted dataset with network shuffle\n"
     ]
    },
    {
     "name": "stdout",
     "output_type": "stream",
     "text": [
      "Deleting hail tmp dir: /tmp/hail.UCzZIpmxAOC7\n"
     ]
    },
    {
     "name": "stderr",
     "output_type": "stream",
     "text": [
      "2020-04-24 15:50:40 Hail: INFO: hwe_normalized_pca: running PCA using 2000 variants.\n",
      "2020-04-24 15:50:42 Hail: INFO: pca: running PCA with 10 components...\n"
     ]
    },
    {
     "name": "stdout",
     "output_type": "stream",
     "text": [
      "PCA took s:7500, v:2000, p:10 : 13.52 seconds\n"
     ]
    },
    {
     "name": "stderr",
     "output_type": "stream",
     "text": [
      "2020-04-24 15:50:58 Hail: INFO: Wrote all 2 blocks of 2000 x 7500 matrix with block size 4096.\n",
      "2020-04-24 15:51:00 Hail: INFO: wrote matrix with 11 rows and 2000 columns as 1 block of size 4096 to file:/tmp/hail.UCzZIpmxAOC7/Sxm2MsK8SG.bm\n",
      "2020-04-24 15:51:00 Hail: INFO: wrote matrix with 2000 rows and 7500 columns as 2 blocks of size 4096 to file:/tmp/hail.UCzZIpmxAOC7/I6K64JaHQI.bm\n",
      "2020-04-24 15:51:00 Hail: INFO: wrote matrix with 2000 rows and 7500 columns as 2 blocks of size 4096 to file:/tmp/hail.UCzZIpmxAOC7/cjBFJOMsRN.bm\n",
      "2020-04-24 15:51:08 Hail: INFO: wrote matrix with 7500 rows and 7500 columns as 4 blocks of size 4096 to file:/tmp/hail.UCzZIpmxAOC7/J7RsdoQHXs.bm\n",
      "2020-04-24 15:51:15 Hail: INFO: wrote matrix with 7500 rows and 7500 columns as 4 blocks of size 4096 to file:/tmp/hail.UCzZIpmxAOC7/EsKLm2iAe9.bm\n",
      "2020-04-24 15:51:16 Hail: INFO: wrote matrix with 7500 rows and 7500 columns as 4 blocks of size 4096 to file:/tmp/hail.UCzZIpmxAOC7/nP1XXClwfS.bm\n",
      "2020-04-24 15:51:25 Hail: INFO: wrote matrix with 7500 rows and 7500 columns as 4 blocks of size 4096 to file:/tmp/hail.UCzZIpmxAOC7/BCFsatrS1G.bm\n",
      "2020-04-24 15:51:32 Hail: INFO: wrote matrix with 7500 rows and 7500 columns as 4 blocks of size 4096 to file:/tmp/hail.UCzZIpmxAOC7/boVrM0vYiV.bm\n",
      "2020-04-24 15:51:33 Hail: INFO: wrote matrix with 7500 rows and 7500 columns as 4 blocks of size 4096 to file:/tmp/hail.UCzZIpmxAOC7/JKzfCDM9Ht.bm\n"
     ]
    }
   ],
   "source": [
    "# Fixed variants = 2k\n",
    "for i in range(1000, 20001, 500):\n",
    "    samples = i\n",
    "    variants = 2000\n",
    "    do_experiment(\"simple_fixed_variants_2k_cpu_8_ram_31\", samples=samples, variants=variants, populations=10)"
   ]
  },
  {
   "cell_type": "code",
   "execution_count": null,
   "metadata": {},
   "outputs": [],
   "source": [
    "# Fixed variants = 2k\n",
    "for i in range(1000, 20001, 500):\n",
    "    samples = i\n",
    "    variants = 2000\n",
    "    do_experiment(\"simple_fixed_variants_2k_cpu_8_ram_31_blocksize_2048\", samples=samples, variants=variants, populations=10)"
   ]
  },
  {
   "cell_type": "code",
   "execution_count": null,
   "metadata": {},
   "outputs": [
    {
     "name": "stderr",
     "output_type": "stream",
     "text": [
      "2020-04-24 16:44:16 Hail: INFO: hwe_normalized_pca: running PCA using 2000 variants.\n",
      "2020-04-24 16:44:18 Hail: INFO: pca: running PCA with 10 components...\n"
     ]
    },
    {
     "name": "stdout",
     "output_type": "stream",
     "text": [
      "PCA took s:1000, v:2000, p:10 : 13.00 seconds\n"
     ]
    },
    {
     "name": "stderr",
     "output_type": "stream",
     "text": [
      "2020-04-24 16:44:28 Hail: INFO: Wrote all 8 blocks of 2000 x 1000 matrix with block size 512.\n",
      "2020-04-24 16:44:29 Hail: INFO: wrote matrix with 11 rows and 2000 columns as 4 blocks of size 512 to file:/tmp/hail.lSI8hItnvyNe/33ARiL6xj9.bm\n",
      "2020-04-24 16:44:29 Hail: INFO: wrote matrix with 2000 rows and 1000 columns as 8 blocks of size 512 to file:/tmp/hail.lSI8hItnvyNe/slk16q8ucA.bm\n",
      "2020-04-24 16:44:30 Hail: INFO: wrote matrix with 2000 rows and 1000 columns as 8 blocks of size 512 to file:/tmp/hail.lSI8hItnvyNe/xLyapBK4O4.bm\n",
      "2020-04-24 16:44:30 Hail: INFO: wrote matrix with 1000 rows and 1000 columns as 4 blocks of size 512 to file:/tmp/hail.lSI8hItnvyNe/AjLLx3cWJ7.bm\n",
      "2020-04-24 16:44:30 Hail: INFO: wrote matrix with 1000 rows and 1000 columns as 4 blocks of size 512 to file:/tmp/hail.lSI8hItnvyNe/eQ3PT2kslR.bm\n",
      "2020-04-24 16:44:31 Hail: INFO: wrote matrix with 1000 rows and 1000 columns as 4 blocks of size 512 to file:/tmp/hail.lSI8hItnvyNe/nkfCeLw0TU.bm\n",
      "2020-04-24 16:44:31 Hail: INFO: wrote matrix with 1000 rows and 1000 columns as 4 blocks of size 512 to file:/tmp/hail.lSI8hItnvyNe/f5ByJmXfq6.bm\n",
      "2020-04-24 16:44:31 Hail: INFO: wrote matrix with 1000 rows and 1000 columns as 4 blocks of size 512 to file:/tmp/hail.lSI8hItnvyNe/lWYEdQM5C5.bm\n",
      "2020-04-24 16:44:31 Hail: INFO: wrote matrix with 1000 rows and 1000 columns as 4 blocks of size 512 to file:/tmp/hail.lSI8hItnvyNe/eSx5bmS7pr.bm\n",
      "2020-04-24 16:44:32 Hail: INFO: wrote matrix with 1000 rows and 1000 columns as 4 blocks of size 512 to file:/tmp/hail.lSI8hItnvyNe/kGXEOGzDW9.bm\n",
      "2020-04-24 16:44:32 Hail: INFO: wrote matrix with 1000 rows and 1000 columns as 4 blocks of size 512 to file:/tmp/hail.lSI8hItnvyNe/TxLTt1rn6M.bm\n",
      "2020-04-24 16:44:32 Hail: INFO: wrote matrix with 1000 rows and 1000 columns as 4 blocks of size 512 to file:/tmp/hail.lSI8hItnvyNe/bsp1QfRBtZ.bm\n",
      "2020-04-24 16:44:33 Hail: INFO: Ordering unsorted dataset with network shuffle\n",
      "2020-04-24 16:44:36 Hail: INFO: Coerced sorted dataset\n",
      "2020-04-24 16:44:37 Hail: INFO: wrote table with 499500 rows in 4 partitions to /tmp/tmpxokdn9ut/pc_relate_result\n",
      "2020-04-24 16:44:37 Hail: INFO: balding_nichols_model: generating genotypes for 10 populations, 1200 samples, and 2000 variants...\n"
     ]
    },
    {
     "name": "stdout",
     "output_type": "stream",
     "text": [
      "Deleting pc_relate results: /tmp/tmpxokdn9ut/pc_relate_result\n",
      "Deleting hail tmp dir: /tmp/hail.lSI8hItnvyNe\n"
     ]
    },
    {
     "name": "stderr",
     "output_type": "stream",
     "text": [
      "2020-04-24 16:44:38 Hail: INFO: Coerced sorted dataset\n",
      "2020-04-24 16:44:39 Hail: INFO: wrote matrix table with 2000 rows and 1200 columns in 8 partitions to /home/rav/data/tmp/mt_1200_2000_10.mt\n",
      "2020-04-24 16:44:39 Hail: INFO: hwe_normalized_pca: running PCA using 2000 variants.\n",
      "2020-04-24 16:44:40 Hail: INFO: pca: running PCA with 10 components...\n"
     ]
    },
    {
     "name": "stdout",
     "output_type": "stream",
     "text": [
      "PCA took s:1200, v:2000, p:10 : 8.04 seconds\n"
     ]
    },
    {
     "name": "stderr",
     "output_type": "stream",
     "text": [
      "2020-04-24 16:44:49 Hail: INFO: Wrote all 12 blocks of 2000 x 1200 matrix with block size 512.\n",
      "2020-04-24 16:44:49 Hail: INFO: wrote matrix with 11 rows and 2000 columns as 4 blocks of size 512 to file:/tmp/hail.lSI8hItnvyNe/GfhQgJk4Qy.bm\n",
      "2020-04-24 16:44:49 Hail: INFO: wrote matrix with 2000 rows and 1200 columns as 12 blocks of size 512 to file:/tmp/hail.lSI8hItnvyNe/Y9Ml7tqAh0.bm\n",
      "2020-04-24 16:44:49 Hail: INFO: wrote matrix with 2000 rows and 1200 columns as 12 blocks of size 512 to file:/tmp/hail.lSI8hItnvyNe/mg2OKb668N.bm\n",
      "2020-04-24 16:44:50 Hail: INFO: wrote matrix with 1200 rows and 1200 columns as 9 blocks of size 512 to file:/tmp/hail.lSI8hItnvyNe/RyRVpP5LnS.bm\n",
      "2020-04-24 16:44:50 Hail: INFO: wrote matrix with 1200 rows and 1200 columns as 9 blocks of size 512 to file:/tmp/hail.lSI8hItnvyNe/V84xHUvgZ8.bm\n",
      "2020-04-24 16:44:50 Hail: INFO: wrote matrix with 1200 rows and 1200 columns as 9 blocks of size 512 to file:/tmp/hail.lSI8hItnvyNe/UtUbEW52MA.bm\n",
      "2020-04-24 16:44:50 Hail: INFO: wrote matrix with 1200 rows and 1200 columns as 9 blocks of size 512 to file:/tmp/hail.lSI8hItnvyNe/Htc12erQmM.bm\n",
      "2020-04-24 16:44:51 Hail: INFO: wrote matrix with 1200 rows and 1200 columns as 9 blocks of size 512 to file:/tmp/hail.lSI8hItnvyNe/aYQZZLlcv7.bm\n",
      "2020-04-24 16:44:51 Hail: INFO: wrote matrix with 1200 rows and 1200 columns as 9 blocks of size 512 to file:/tmp/hail.lSI8hItnvyNe/qrFp6P76LV.bm\n",
      "2020-04-24 16:44:51 Hail: INFO: wrote matrix with 1200 rows and 1200 columns as 9 blocks of size 512 to file:/tmp/hail.lSI8hItnvyNe/FjG0UMA2fP.bm\n",
      "2020-04-24 16:44:52 Hail: INFO: wrote matrix with 1200 rows and 1200 columns as 9 blocks of size 512 to file:/tmp/hail.lSI8hItnvyNe/dMfDBcMjCk.bm\n",
      "2020-04-24 16:44:52 Hail: INFO: wrote matrix with 1200 rows and 1200 columns as 9 blocks of size 512 to file:/tmp/hail.lSI8hItnvyNe/OusyUT4NLF.bm\n",
      "2020-04-24 16:44:52 Hail: INFO: Ordering unsorted dataset with network shuffle\n",
      "2020-04-24 16:44:55 Hail: INFO: Coerced sorted dataset\n",
      "2020-04-24 16:44:56 Hail: INFO: wrote table with 719400 rows in 9 partitions to /tmp/tmpgax3q5mm/pc_relate_result\n",
      "2020-04-24 16:44:56 Hail: INFO: balding_nichols_model: generating genotypes for 10 populations, 1400 samples, and 2000 variants...\n"
     ]
    },
    {
     "name": "stdout",
     "output_type": "stream",
     "text": [
      "Deleting pc_relate results: /tmp/tmpgax3q5mm/pc_relate_result\n",
      "Deleting hail tmp dir: /tmp/hail.lSI8hItnvyNe\n"
     ]
    },
    {
     "name": "stderr",
     "output_type": "stream",
     "text": [
      "2020-04-24 16:44:57 Hail: INFO: Coerced sorted dataset\n",
      "2020-04-24 16:44:58 Hail: INFO: wrote matrix table with 2000 rows and 1400 columns in 8 partitions to /home/rav/data/tmp/mt_1400_2000_10.mt\n",
      "2020-04-24 16:44:58 Hail: INFO: hwe_normalized_pca: running PCA using 2000 variants.\n",
      "2020-04-24 16:44:59 Hail: INFO: pca: running PCA with 10 components...\n"
     ]
    },
    {
     "name": "stdout",
     "output_type": "stream",
     "text": [
      "PCA took s:1400, v:2000, p:10 : 7.28 seconds\n"
     ]
    },
    {
     "name": "stderr",
     "output_type": "stream",
     "text": [
      "2020-04-24 16:45:06 Hail: INFO: Wrote all 12 blocks of 2000 x 1400 matrix with block size 512.\n",
      "2020-04-24 16:45:07 Hail: INFO: wrote matrix with 11 rows and 2000 columns as 4 blocks of size 512 to file:/tmp/hail.lSI8hItnvyNe/2eTYs2cjys.bm\n",
      "2020-04-24 16:45:07 Hail: INFO: wrote matrix with 2000 rows and 1400 columns as 12 blocks of size 512 to file:/tmp/hail.lSI8hItnvyNe/FvzftBCHvY.bm\n",
      "2020-04-24 16:45:07 Hail: INFO: wrote matrix with 2000 rows and 1400 columns as 12 blocks of size 512 to file:/tmp/hail.lSI8hItnvyNe/rbEmpNgYQp.bm\n",
      "2020-04-24 16:45:07 Hail: INFO: wrote matrix with 1400 rows and 1400 columns as 9 blocks of size 512 to file:/tmp/hail.lSI8hItnvyNe/kqF5VmKhXN.bm\n",
      "2020-04-24 16:45:08 Hail: INFO: wrote matrix with 1400 rows and 1400 columns as 9 blocks of size 512 to file:/tmp/hail.lSI8hItnvyNe/O1JcIPB3ce.bm\n",
      "2020-04-24 16:45:08 Hail: INFO: wrote matrix with 1400 rows and 1400 columns as 9 blocks of size 512 to file:/tmp/hail.lSI8hItnvyNe/HFxesOm9dc.bm\n",
      "2020-04-24 16:45:08 Hail: INFO: wrote matrix with 1400 rows and 1400 columns as 9 blocks of size 512 to file:/tmp/hail.lSI8hItnvyNe/L4S2Kle7hr.bm\n",
      "2020-04-24 16:45:09 Hail: INFO: wrote matrix with 1400 rows and 1400 columns as 9 blocks of size 512 to file:/tmp/hail.lSI8hItnvyNe/Ntg0HAyJao.bm\n",
      "2020-04-24 16:45:09 Hail: INFO: wrote matrix with 1400 rows and 1400 columns as 9 blocks of size 512 to file:/tmp/hail.lSI8hItnvyNe/PsjvRpMYPi.bm\n",
      "2020-04-24 16:45:09 Hail: INFO: wrote matrix with 1400 rows and 1400 columns as 9 blocks of size 512 to file:/tmp/hail.lSI8hItnvyNe/UDn1Er991z.bm\n",
      "2020-04-24 16:45:10 Hail: INFO: wrote matrix with 1400 rows and 1400 columns as 9 blocks of size 512 to file:/tmp/hail.lSI8hItnvyNe/Fyprj5qYE1.bm\n",
      "2020-04-24 16:45:10 Hail: INFO: wrote matrix with 1400 rows and 1400 columns as 9 blocks of size 512 to file:/tmp/hail.lSI8hItnvyNe/WxGCeb3gwg.bm\n",
      "2020-04-24 16:45:10 Hail: INFO: Ordering unsorted dataset with network shuffle\n",
      "2020-04-24 16:45:13 Hail: INFO: Coerced sorted dataset\n",
      "2020-04-24 16:45:15 Hail: INFO: wrote table with 979300 rows in 9 partitions to /tmp/tmp1v6d412g/pc_relate_result\n",
      "2020-04-24 16:45:15 Hail: INFO: balding_nichols_model: generating genotypes for 10 populations, 1600 samples, and 2000 variants...\n"
     ]
    },
    {
     "name": "stdout",
     "output_type": "stream",
     "text": [
      "Deleting pc_relate results: /tmp/tmp1v6d412g/pc_relate_result\n",
      "Deleting hail tmp dir: /tmp/hail.lSI8hItnvyNe\n"
     ]
    },
    {
     "name": "stderr",
     "output_type": "stream",
     "text": [
      "2020-04-24 16:45:15 Hail: INFO: Coerced sorted dataset\n",
      "2020-04-24 16:45:17 Hail: INFO: wrote matrix table with 2000 rows and 1600 columns in 8 partitions to /home/rav/data/tmp/mt_1600_2000_10.mt\n",
      "2020-04-24 16:45:17 Hail: INFO: hwe_normalized_pca: running PCA using 2000 variants.\n",
      "2020-04-24 16:45:17 Hail: INFO: pca: running PCA with 10 components...\n"
     ]
    },
    {
     "name": "stdout",
     "output_type": "stream",
     "text": [
      "PCA took s:1600, v:2000, p:10 : 6.76 seconds\n"
     ]
    },
    {
     "name": "stderr",
     "output_type": "stream",
     "text": [
      "2020-04-24 16:45:25 Hail: INFO: Wrote all 16 blocks of 2000 x 1600 matrix with block size 512.\n",
      "2020-04-24 16:45:25 Hail: INFO: wrote matrix with 11 rows and 2000 columns as 4 blocks of size 512 to file:/tmp/hail.lSI8hItnvyNe/0N6O0rRdWj.bm\n",
      "2020-04-24 16:45:25 Hail: INFO: wrote matrix with 2000 rows and 1600 columns as 16 blocks of size 512 to file:/tmp/hail.lSI8hItnvyNe/OfI40REuBi.bm\n",
      "2020-04-24 16:45:25 Hail: INFO: wrote matrix with 2000 rows and 1600 columns as 16 blocks of size 512 to file:/tmp/hail.lSI8hItnvyNe/tWRJu7RNGN.bm\n",
      "2020-04-24 16:45:26 Hail: INFO: wrote matrix with 1600 rows and 1600 columns as 16 blocks of size 512 to file:/tmp/hail.lSI8hItnvyNe/8vUW4swh8P.bm\n",
      "2020-04-24 16:45:26 Hail: INFO: wrote matrix with 1600 rows and 1600 columns as 16 blocks of size 512 to file:/tmp/hail.lSI8hItnvyNe/GMkEqbttoh.bm\n",
      "2020-04-24 16:45:26 Hail: INFO: wrote matrix with 1600 rows and 1600 columns as 16 blocks of size 512 to file:/tmp/hail.lSI8hItnvyNe/lnQG3lbl1p.bm\n",
      "2020-04-24 16:45:27 Hail: INFO: wrote matrix with 1600 rows and 1600 columns as 16 blocks of size 512 to file:/tmp/hail.lSI8hItnvyNe/62m1Ij80tt.bm\n",
      "2020-04-24 16:45:28 Hail: INFO: wrote matrix with 1600 rows and 1600 columns as 16 blocks of size 512 to file:/tmp/hail.lSI8hItnvyNe/MlPx6Euaow.bm\n",
      "2020-04-24 16:45:28 Hail: INFO: wrote matrix with 1600 rows and 1600 columns as 16 blocks of size 512 to file:/tmp/hail.lSI8hItnvyNe/JDPjCIgI65.bm\n",
      "2020-04-24 16:45:28 Hail: INFO: wrote matrix with 1600 rows and 1600 columns as 16 blocks of size 512 to file:/tmp/hail.lSI8hItnvyNe/qFB8kF2vCB.bm\n",
      "2020-04-24 16:45:29 Hail: INFO: wrote matrix with 1600 rows and 1600 columns as 16 blocks of size 512 to file:/tmp/hail.lSI8hItnvyNe/PTpjbRqaPN.bm\n",
      "2020-04-24 16:45:29 Hail: INFO: wrote matrix with 1600 rows and 1600 columns as 16 blocks of size 512 to file:/tmp/hail.lSI8hItnvyNe/FZuukjdgVz.bm\n",
      "2020-04-24 16:45:30 Hail: INFO: Ordering unsorted dataset with network shuffle\n",
      "2020-04-24 16:45:33 Hail: INFO: Coerced sorted dataset\n",
      "2020-04-24 16:45:35 Hail: INFO: wrote table with 1279200 rows in 16 partitions to /tmp/tmp57nmqrtx/pc_relate_result\n",
      "2020-04-24 16:45:35 Hail: INFO: balding_nichols_model: generating genotypes for 10 populations, 1800 samples, and 2000 variants...\n"
     ]
    },
    {
     "name": "stdout",
     "output_type": "stream",
     "text": [
      "Deleting pc_relate results: /tmp/tmp57nmqrtx/pc_relate_result\n",
      "Deleting hail tmp dir: /tmp/hail.lSI8hItnvyNe\n"
     ]
    },
    {
     "name": "stderr",
     "output_type": "stream",
     "text": [
      "2020-04-24 16:45:35 Hail: INFO: Coerced sorted dataset\n",
      "2020-04-24 16:45:37 Hail: INFO: wrote matrix table with 2000 rows and 1800 columns in 8 partitions to /home/rav/data/tmp/mt_1800_2000_10.mt\n",
      "2020-04-24 16:45:37 Hail: INFO: hwe_normalized_pca: running PCA using 2000 variants.\n",
      "2020-04-24 16:45:38 Hail: INFO: pca: running PCA with 10 components...\n"
     ]
    },
    {
     "name": "stdout",
     "output_type": "stream",
     "text": [
      "PCA took s:1800, v:2000, p:10 : 6.75 seconds\n"
     ]
    },
    {
     "name": "stderr",
     "output_type": "stream",
     "text": [
      "2020-04-24 16:45:45 Hail: INFO: Wrote all 16 blocks of 2000 x 1800 matrix with block size 512.\n",
      "2020-04-24 16:45:45 Hail: INFO: wrote matrix with 11 rows and 2000 columns as 4 blocks of size 512 to file:/tmp/hail.lSI8hItnvyNe/MWPToeyIvG.bm\n",
      "2020-04-24 16:45:45 Hail: INFO: wrote matrix with 2000 rows and 1800 columns as 16 blocks of size 512 to file:/tmp/hail.lSI8hItnvyNe/ZVGp1TKuE8.bm\n",
      "2020-04-24 16:45:46 Hail: INFO: wrote matrix with 2000 rows and 1800 columns as 16 blocks of size 512 to file:/tmp/hail.lSI8hItnvyNe/tRTBS7sRkm.bm\n",
      "2020-04-24 16:45:46 Hail: INFO: wrote matrix with 1800 rows and 1800 columns as 16 blocks of size 512 to file:/tmp/hail.lSI8hItnvyNe/0MoFiLrpz1.bm\n",
      "2020-04-24 16:45:47 Hail: INFO: wrote matrix with 1800 rows and 1800 columns as 16 blocks of size 512 to file:/tmp/hail.lSI8hItnvyNe/1Y3MfIH25c.bm\n",
      "2020-04-24 16:45:47 Hail: INFO: wrote matrix with 1800 rows and 1800 columns as 16 blocks of size 512 to file:/tmp/hail.lSI8hItnvyNe/reJGETeoQ2.bm\n",
      "2020-04-24 16:45:47 Hail: INFO: wrote matrix with 1800 rows and 1800 columns as 16 blocks of size 512 to file:/tmp/hail.lSI8hItnvyNe/zDnD4ybBZh.bm\n",
      "2020-04-24 16:45:48 Hail: INFO: wrote matrix with 1800 rows and 1800 columns as 16 blocks of size 512 to file:/tmp/hail.lSI8hItnvyNe/0yidr0QJxQ.bm\n",
      "2020-04-24 16:45:48 Hail: INFO: wrote matrix with 1800 rows and 1800 columns as 16 blocks of size 512 to file:/tmp/hail.lSI8hItnvyNe/mzHrjCyBg0.bm\n",
      "2020-04-24 16:45:49 Hail: INFO: wrote matrix with 1800 rows and 1800 columns as 16 blocks of size 512 to file:/tmp/hail.lSI8hItnvyNe/SkyOh3ufm2.bm\n",
      "2020-04-24 16:45:49 Hail: INFO: wrote matrix with 1800 rows and 1800 columns as 16 blocks of size 512 to file:/tmp/hail.lSI8hItnvyNe/56JuyS9rt6.bm\n",
      "2020-04-24 16:45:49 Hail: INFO: wrote matrix with 1800 rows and 1800 columns as 16 blocks of size 512 to file:/tmp/hail.lSI8hItnvyNe/L97ESuYbcd.bm\n",
      "2020-04-24 16:45:50 Hail: INFO: Ordering unsorted dataset with network shuffle\n",
      "2020-04-24 16:45:54 Hail: INFO: Coerced sorted dataset\n",
      "2020-04-24 16:45:57 Hail: INFO: wrote table with 1619100 rows in 16 partitions to /tmp/tmpzkym88he/pc_relate_result\n"
     ]
    },
    {
     "name": "stdout",
     "output_type": "stream",
     "text": [
      "Deleting pc_relate results: /tmp/tmpzkym88he/pc_relate_result\n",
      "Deleting hail tmp dir: /tmp/hail.lSI8hItnvyNe\n"
     ]
    },
    {
     "name": "stderr",
     "output_type": "stream",
     "text": [
      "2020-04-24 16:45:57 Hail: INFO: hwe_normalized_pca: running PCA using 2000 variants.\n",
      "2020-04-24 16:45:58 Hail: INFO: pca: running PCA with 10 components...\n"
     ]
    },
    {
     "name": "stdout",
     "output_type": "stream",
     "text": [
      "PCA took s:2000, v:2000, p:10 : 7.06 seconds\n"
     ]
    },
    {
     "name": "stderr",
     "output_type": "stream",
     "text": [
      "2020-04-24 16:46:05 Hail: INFO: Wrote all 16 blocks of 2000 x 2000 matrix with block size 512.\n",
      "2020-04-24 16:46:06 Hail: INFO: wrote matrix with 11 rows and 2000 columns as 4 blocks of size 512 to file:/tmp/hail.lSI8hItnvyNe/fhI4acU14i.bm\n",
      "2020-04-24 16:46:06 Hail: INFO: wrote matrix with 2000 rows and 2000 columns as 16 blocks of size 512 to file:/tmp/hail.lSI8hItnvyNe/96g4Xz417P.bm\n",
      "2020-04-24 16:46:06 Hail: INFO: wrote matrix with 2000 rows and 2000 columns as 16 blocks of size 512 to file:/tmp/hail.lSI8hItnvyNe/1RlIkCY89A.bm\n",
      "2020-04-24 16:46:07 Hail: INFO: wrote matrix with 2000 rows and 2000 columns as 16 blocks of size 512 to file:/tmp/hail.lSI8hItnvyNe/tJu20gKJQu.bm\n",
      "2020-04-24 16:46:07 Hail: INFO: wrote matrix with 2000 rows and 2000 columns as 16 blocks of size 512 to file:/tmp/hail.lSI8hItnvyNe/NBtipOodmh.bm\n",
      "2020-04-24 16:46:07 Hail: INFO: wrote matrix with 2000 rows and 2000 columns as 16 blocks of size 512 to file:/tmp/hail.lSI8hItnvyNe/lAiQDa3SAR.bm\n",
      "2020-04-24 16:46:08 Hail: INFO: wrote matrix with 2000 rows and 2000 columns as 16 blocks of size 512 to file:/tmp/hail.lSI8hItnvyNe/0w8f2MwDSH.bm\n",
      "2020-04-24 16:46:09 Hail: INFO: wrote matrix with 2000 rows and 2000 columns as 16 blocks of size 512 to file:/tmp/hail.lSI8hItnvyNe/zKrqlQcSGk.bm\n",
      "2020-04-24 16:46:09 Hail: INFO: wrote matrix with 2000 rows and 2000 columns as 16 blocks of size 512 to file:/tmp/hail.lSI8hItnvyNe/sORnBu5bIl.bm\n",
      "2020-04-24 16:46:09 Hail: INFO: wrote matrix with 2000 rows and 2000 columns as 16 blocks of size 512 to file:/tmp/hail.lSI8hItnvyNe/3qBw8ffL8k.bm\n",
      "2020-04-24 16:46:10 Hail: INFO: wrote matrix with 2000 rows and 2000 columns as 16 blocks of size 512 to file:/tmp/hail.lSI8hItnvyNe/r2GLzf3Z23.bm\n",
      "2020-04-24 16:46:10 Hail: INFO: wrote matrix with 2000 rows and 2000 columns as 16 blocks of size 512 to file:/tmp/hail.lSI8hItnvyNe/54iCwX9z0f.bm\n",
      "2020-04-24 16:46:11 Hail: INFO: Ordering unsorted dataset with network shuffle\n",
      "2020-04-24 16:46:16 Hail: INFO: Coerced sorted dataset\n",
      "2020-04-24 16:46:19 Hail: INFO: wrote table with 1999000 rows in 16 partitions to /tmp/tmpnv_w8qr9/pc_relate_result\n",
      "2020-04-24 16:46:19 Hail: INFO: balding_nichols_model: generating genotypes for 10 populations, 2200 samples, and 2000 variants...\n"
     ]
    },
    {
     "name": "stdout",
     "output_type": "stream",
     "text": [
      "Deleting pc_relate results: /tmp/tmpnv_w8qr9/pc_relate_result\n",
      "Deleting hail tmp dir: /tmp/hail.lSI8hItnvyNe\n"
     ]
    },
    {
     "name": "stderr",
     "output_type": "stream",
     "text": [
      "2020-04-24 16:46:20 Hail: INFO: Coerced sorted dataset\n",
      "2020-04-24 16:46:21 Hail: INFO: wrote matrix table with 2000 rows and 2200 columns in 8 partitions to /home/rav/data/tmp/mt_2200_2000_10.mt\n",
      "2020-04-24 16:46:21 Hail: INFO: hwe_normalized_pca: running PCA using 2000 variants.\n",
      "2020-04-24 16:46:22 Hail: INFO: pca: running PCA with 10 components...\n"
     ]
    },
    {
     "name": "stdout",
     "output_type": "stream",
     "text": [
      "PCA took s:2200, v:2000, p:10 : 7.00 seconds\n"
     ]
    },
    {
     "name": "stderr",
     "output_type": "stream",
     "text": [
      "2020-04-24 16:46:29 Hail: INFO: Wrote all 20 blocks of 2000 x 2200 matrix with block size 512.\n",
      "2020-04-24 16:46:30 Hail: INFO: wrote matrix with 11 rows and 2000 columns as 4 blocks of size 512 to file:/tmp/hail.lSI8hItnvyNe/ov9nCR0Co7.bm\n",
      "2020-04-24 16:46:30 Hail: INFO: wrote matrix with 2000 rows and 2200 columns as 20 blocks of size 512 to file:/tmp/hail.lSI8hItnvyNe/06k48YQ2bS.bm\n",
      "2020-04-24 16:46:30 Hail: INFO: wrote matrix with 2000 rows and 2200 columns as 20 blocks of size 512 to file:/tmp/hail.lSI8hItnvyNe/jDNKGzo1wE.bm\n",
      "2020-04-24 16:46:31 Hail: INFO: wrote matrix with 2200 rows and 2200 columns as 25 blocks of size 512 to file:/tmp/hail.lSI8hItnvyNe/VpKyPlgfLy.bm\n",
      "2020-04-24 16:46:32 Hail: INFO: wrote matrix with 2200 rows and 2200 columns as 25 blocks of size 512 to file:/tmp/hail.lSI8hItnvyNe/SGmCps5MwO.bm\n",
      "2020-04-24 16:46:32 Hail: INFO: wrote matrix with 2200 rows and 2200 columns as 25 blocks of size 512 to file:/tmp/hail.lSI8hItnvyNe/fDQFVP5ygp.bm\n",
      "2020-04-24 16:46:33 Hail: INFO: wrote matrix with 2200 rows and 2200 columns as 25 blocks of size 512 to file:/tmp/hail.lSI8hItnvyNe/9DphdC2FWu.bm\n",
      "2020-04-24 16:46:33 Hail: INFO: wrote matrix with 2200 rows and 2200 columns as 25 blocks of size 512 to file:/tmp/hail.lSI8hItnvyNe/Ydw3HS3h7t.bm\n",
      "2020-04-24 16:46:33 Hail: INFO: wrote matrix with 2200 rows and 2200 columns as 25 blocks of size 512 to file:/tmp/hail.lSI8hItnvyNe/z5MZANcC0W.bm\n",
      "2020-04-24 16:46:35 Hail: INFO: wrote matrix with 2200 rows and 2200 columns as 25 blocks of size 512 to file:/tmp/hail.lSI8hItnvyNe/w5kOpWnPjq.bm\n",
      "2020-04-24 16:46:36 Hail: INFO: wrote matrix with 2200 rows and 2200 columns as 25 blocks of size 512 to file:/tmp/hail.lSI8hItnvyNe/zWXUrx09Yq.bm\n",
      "2020-04-24 16:46:36 Hail: INFO: wrote matrix with 2200 rows and 2200 columns as 25 blocks of size 512 to file:/tmp/hail.lSI8hItnvyNe/u5595FtTYb.bm\n",
      "2020-04-24 16:46:37 Hail: INFO: Ordering unsorted dataset with network shuffle\n",
      "2020-04-24 16:46:42 Hail: INFO: Coerced sorted dataset\n",
      "2020-04-24 16:46:46 Hail: INFO: wrote table with 2418900 rows in 25 partitions to /tmp/tmpp709xkte/pc_relate_result\n",
      "2020-04-24 16:46:46 Hail: INFO: balding_nichols_model: generating genotypes for 10 populations, 2400 samples, and 2000 variants...\n"
     ]
    },
    {
     "name": "stdout",
     "output_type": "stream",
     "text": [
      "Deleting pc_relate results: /tmp/tmpp709xkte/pc_relate_result\n",
      "Deleting hail tmp dir: /tmp/hail.lSI8hItnvyNe\n"
     ]
    },
    {
     "name": "stderr",
     "output_type": "stream",
     "text": [
      "2020-04-24 16:46:47 Hail: INFO: Coerced sorted dataset\n",
      "2020-04-24 16:46:48 Hail: INFO: wrote matrix table with 2000 rows and 2400 columns in 8 partitions to /home/rav/data/tmp/mt_2400_2000_10.mt\n",
      "2020-04-24 16:46:48 Hail: INFO: hwe_normalized_pca: running PCA using 2000 variants.\n",
      "2020-04-24 16:46:49 Hail: INFO: pca: running PCA with 10 components...\n"
     ]
    },
    {
     "name": "stdout",
     "output_type": "stream",
     "text": [
      "PCA took s:2400, v:2000, p:10 : 8.05 seconds\n"
     ]
    },
    {
     "name": "stderr",
     "output_type": "stream",
     "text": [
      "2020-04-24 16:46:58 Hail: INFO: Wrote all 20 blocks of 2000 x 2400 matrix with block size 512.\n",
      "2020-04-24 16:46:58 Hail: INFO: wrote matrix with 11 rows and 2000 columns as 4 blocks of size 512 to file:/tmp/hail.lSI8hItnvyNe/ccrPBeVzYk.bm\n",
      "2020-04-24 16:46:58 Hail: INFO: wrote matrix with 2000 rows and 2400 columns as 20 blocks of size 512 to file:/tmp/hail.lSI8hItnvyNe/IzxmWM7wR5.bm\n",
      "2020-04-24 16:46:59 Hail: INFO: wrote matrix with 2000 rows and 2400 columns as 20 blocks of size 512 to file:/tmp/hail.lSI8hItnvyNe/Rq8A2aWPQl.bm\n",
      "2020-04-24 16:46:59 Hail: INFO: wrote matrix with 2400 rows and 2400 columns as 25 blocks of size 512 to file:/tmp/hail.lSI8hItnvyNe/pQ5zGQRNBJ.bm\n",
      "2020-04-24 16:47:00 Hail: INFO: wrote matrix with 2400 rows and 2400 columns as 25 blocks of size 512 to file:/tmp/hail.lSI8hItnvyNe/8Wq20ItLig.bm\n",
      "2020-04-24 16:47:00 Hail: INFO: wrote matrix with 2400 rows and 2400 columns as 25 blocks of size 512 to file:/tmp/hail.lSI8hItnvyNe/S0FYLBCgnd.bm\n",
      "2020-04-24 16:47:01 Hail: INFO: wrote matrix with 2400 rows and 2400 columns as 25 blocks of size 512 to file:/tmp/hail.lSI8hItnvyNe/N1nvKu4zjM.bm\n",
      "2020-04-24 16:47:02 Hail: INFO: wrote matrix with 2400 rows and 2400 columns as 25 blocks of size 512 to file:/tmp/hail.lSI8hItnvyNe/nHUxQXqx8m.bm\n",
      "2020-04-24 16:47:02 Hail: INFO: wrote matrix with 2400 rows and 2400 columns as 25 blocks of size 512 to file:/tmp/hail.lSI8hItnvyNe/CnC54n0zN8.bm\n",
      "2020-04-24 16:47:03 Hail: INFO: wrote matrix with 2400 rows and 2400 columns as 25 blocks of size 512 to file:/tmp/hail.lSI8hItnvyNe/PZraG4JZcM.bm\n",
      "2020-04-24 16:47:04 Hail: INFO: wrote matrix with 2400 rows and 2400 columns as 25 blocks of size 512 to file:/tmp/hail.lSI8hItnvyNe/oE3YYKsJrh.bm\n",
      "2020-04-24 16:47:05 Hail: INFO: wrote matrix with 2400 rows and 2400 columns as 25 blocks of size 512 to file:/tmp/hail.lSI8hItnvyNe/6gseq1lSQ9.bm\n",
      "2020-04-24 16:47:06 Hail: INFO: Ordering unsorted dataset with network shuffle\n",
      "2020-04-24 16:47:12 Hail: INFO: Coerced sorted dataset\n",
      "2020-04-24 16:47:17 Hail: INFO: wrote table with 2878800 rows in 25 partitions to /tmp/tmprprv0hqc/pc_relate_result\n",
      "2020-04-24 16:47:17 Hail: INFO: balding_nichols_model: generating genotypes for 10 populations, 2600 samples, and 2000 variants...\n"
     ]
    },
    {
     "name": "stdout",
     "output_type": "stream",
     "text": [
      "Deleting pc_relate results: /tmp/tmprprv0hqc/pc_relate_result\n",
      "Deleting hail tmp dir: /tmp/hail.lSI8hItnvyNe\n"
     ]
    },
    {
     "name": "stderr",
     "output_type": "stream",
     "text": [
      "2020-04-24 16:47:17 Hail: INFO: Coerced sorted dataset\n",
      "2020-04-24 16:47:19 Hail: INFO: wrote matrix table with 2000 rows and 2600 columns in 8 partitions to /home/rav/data/tmp/mt_2600_2000_10.mt\n",
      "2020-04-24 16:47:19 Hail: INFO: hwe_normalized_pca: running PCA using 2000 variants.\n",
      "2020-04-24 16:47:21 Hail: INFO: pca: running PCA with 10 components...\n"
     ]
    },
    {
     "name": "stdout",
     "output_type": "stream",
     "text": [
      "PCA took s:2600, v:2000, p:10 : 7.03 seconds\n"
     ]
    },
    {
     "name": "stderr",
     "output_type": "stream",
     "text": [
      "2020-04-24 16:47:27 Hail: INFO: Wrote all 24 blocks of 2000 x 2600 matrix with block size 512.\n",
      "2020-04-24 16:47:28 Hail: INFO: wrote matrix with 11 rows and 2000 columns as 4 blocks of size 512 to file:/tmp/hail.lSI8hItnvyNe/io3b0DBBOz.bm\n",
      "2020-04-24 16:47:28 Hail: INFO: wrote matrix with 2000 rows and 2600 columns as 24 blocks of size 512 to file:/tmp/hail.lSI8hItnvyNe/eEcYe0OBft.bm\n",
      "2020-04-24 16:47:28 Hail: INFO: wrote matrix with 2000 rows and 2600 columns as 24 blocks of size 512 to file:/tmp/hail.lSI8hItnvyNe/z2KQkxOgvV.bm\n",
      "2020-04-24 16:47:29 Hail: INFO: wrote matrix with 2600 rows and 2600 columns as 36 blocks of size 512 to file:/tmp/hail.lSI8hItnvyNe/PsNcxhzd4J.bm\n",
      "2020-04-24 16:47:30 Hail: INFO: wrote matrix with 2600 rows and 2600 columns as 36 blocks of size 512 to file:/tmp/hail.lSI8hItnvyNe/0XoXCsiCSh.bm\n",
      "2020-04-24 16:47:30 Hail: INFO: wrote matrix with 2600 rows and 2600 columns as 36 blocks of size 512 to file:/tmp/hail.lSI8hItnvyNe/awShhW9OtM.bm\n",
      "2020-04-24 16:47:32 Hail: INFO: wrote matrix with 2600 rows and 2600 columns as 36 blocks of size 512 to file:/tmp/hail.lSI8hItnvyNe/aBj900CK8O.bm\n",
      "2020-04-24 16:47:33 Hail: INFO: wrote matrix with 2600 rows and 2600 columns as 36 blocks of size 512 to file:/tmp/hail.lSI8hItnvyNe/g8WXWSBNmn.bm\n",
      "2020-04-24 16:47:33 Hail: INFO: wrote matrix with 2600 rows and 2600 columns as 36 blocks of size 512 to file:/tmp/hail.lSI8hItnvyNe/0ZinMU0H7t.bm\n",
      "2020-04-24 16:47:34 Hail: INFO: wrote matrix with 2600 rows and 2600 columns as 36 blocks of size 512 to file:/tmp/hail.lSI8hItnvyNe/2DMrKsemAk.bm\n",
      "2020-04-24 16:47:36 Hail: INFO: wrote matrix with 2600 rows and 2600 columns as 36 blocks of size 512 to file:/tmp/hail.lSI8hItnvyNe/60vrovMYjJ.bm\n",
      "2020-04-24 16:47:36 Hail: INFO: wrote matrix with 2600 rows and 2600 columns as 36 blocks of size 512 to file:/tmp/hail.lSI8hItnvyNe/P9qmrkcNXf.bm\n",
      "2020-04-24 16:47:37 Hail: INFO: Ordering unsorted dataset with network shuffle\n",
      "2020-04-24 16:47:45 Hail: INFO: Coerced sorted dataset\n",
      "2020-04-24 16:47:50 Hail: INFO: wrote table with 3378700 rows in 36 partitions to /tmp/tmp324xfxz9/pc_relate_result\n",
      "2020-04-24 16:47:50 Hail: INFO: balding_nichols_model: generating genotypes for 10 populations, 2800 samples, and 2000 variants...\n"
     ]
    },
    {
     "name": "stdout",
     "output_type": "stream",
     "text": [
      "Deleting pc_relate results: /tmp/tmp324xfxz9/pc_relate_result\n",
      "Deleting hail tmp dir: /tmp/hail.lSI8hItnvyNe\n"
     ]
    },
    {
     "name": "stderr",
     "output_type": "stream",
     "text": [
      "2020-04-24 16:47:50 Hail: INFO: Coerced sorted dataset\n",
      "2020-04-24 16:47:52 Hail: INFO: wrote matrix table with 2000 rows and 2800 columns in 8 partitions to /home/rav/data/tmp/mt_2800_2000_10.mt\n",
      "2020-04-24 16:47:52 Hail: INFO: hwe_normalized_pca: running PCA using 2000 variants.\n",
      "2020-04-24 16:47:53 Hail: INFO: pca: running PCA with 10 components...\n"
     ]
    },
    {
     "name": "stdout",
     "output_type": "stream",
     "text": [
      "PCA took s:2800, v:2000, p:10 : 8.64 seconds\n"
     ]
    },
    {
     "name": "stderr",
     "output_type": "stream",
     "text": [
      "2020-04-24 16:48:02 Hail: INFO: Wrote all 24 blocks of 2000 x 2800 matrix with block size 512.\n",
      "2020-04-24 16:48:03 Hail: INFO: wrote matrix with 11 rows and 2000 columns as 4 blocks of size 512 to file:/tmp/hail.lSI8hItnvyNe/bKQWKx160f.bm\n",
      "2020-04-24 16:48:03 Hail: INFO: wrote matrix with 2000 rows and 2800 columns as 24 blocks of size 512 to file:/tmp/hail.lSI8hItnvyNe/k2sS1ijaNk.bm\n",
      "2020-04-24 16:48:03 Hail: INFO: wrote matrix with 2000 rows and 2800 columns as 24 blocks of size 512 to file:/tmp/hail.lSI8hItnvyNe/59tHo8pKwv.bm\n",
      "2020-04-24 16:48:04 Hail: INFO: wrote matrix with 2800 rows and 2800 columns as 36 blocks of size 512 to file:/tmp/hail.lSI8hItnvyNe/K3ub7E4dPb.bm\n",
      "2020-04-24 16:48:05 Hail: INFO: wrote matrix with 2800 rows and 2800 columns as 36 blocks of size 512 to file:/tmp/hail.lSI8hItnvyNe/tLHOIpHPTd.bm\n",
      "2020-04-24 16:48:06 Hail: INFO: wrote matrix with 2800 rows and 2800 columns as 36 blocks of size 512 to file:/tmp/hail.lSI8hItnvyNe/tMhnXnErFF.bm\n",
      "2020-04-24 16:48:07 Hail: INFO: wrote matrix with 2800 rows and 2800 columns as 36 blocks of size 512 to file:/tmp/hail.lSI8hItnvyNe/l7FZlzq9fD.bm\n",
      "2020-04-24 16:48:08 Hail: INFO: wrote matrix with 2800 rows and 2800 columns as 36 blocks of size 512 to file:/tmp/hail.lSI8hItnvyNe/yABVN35XqC.bm\n",
      "2020-04-24 16:48:08 Hail: INFO: wrote matrix with 2800 rows and 2800 columns as 36 blocks of size 512 to file:/tmp/hail.lSI8hItnvyNe/7mh30RvdMe.bm\n",
      "2020-04-24 16:48:10 Hail: INFO: wrote matrix with 2800 rows and 2800 columns as 36 blocks of size 512 to file:/tmp/hail.lSI8hItnvyNe/XGGB1pyfMI.bm\n",
      "2020-04-24 16:48:11 Hail: INFO: wrote matrix with 2800 rows and 2800 columns as 36 blocks of size 512 to file:/tmp/hail.lSI8hItnvyNe/OvpPO3WNcX.bm\n",
      "2020-04-24 16:48:11 Hail: INFO: wrote matrix with 2800 rows and 2800 columns as 36 blocks of size 512 to file:/tmp/hail.lSI8hItnvyNe/mCZByKDmre.bm\n",
      "2020-04-24 16:48:13 Hail: INFO: Ordering unsorted dataset with network shuffle\n",
      "2020-04-24 16:48:21 Hail: INFO: Coerced sorted dataset\n",
      "2020-04-24 16:48:27 Hail: INFO: wrote table with 3918600 rows in 36 partitions to /tmp/tmp4to_7kqf/pc_relate_result\n"
     ]
    },
    {
     "name": "stdout",
     "output_type": "stream",
     "text": [
      "Deleting pc_relate results: /tmp/tmp4to_7kqf/pc_relate_result\n",
      "Deleting hail tmp dir: /tmp/hail.lSI8hItnvyNe\n"
     ]
    },
    {
     "name": "stderr",
     "output_type": "stream",
     "text": [
      "2020-04-24 16:48:27 Hail: INFO: hwe_normalized_pca: running PCA using 2000 variants.\n",
      "2020-04-24 16:48:28 Hail: INFO: pca: running PCA with 10 components...\n"
     ]
    },
    {
     "name": "stdout",
     "output_type": "stream",
     "text": [
      "PCA took s:3000, v:2000, p:10 : 9.51 seconds\n"
     ]
    },
    {
     "name": "stderr",
     "output_type": "stream",
     "text": [
      "2020-04-24 16:48:39 Hail: INFO: Wrote all 24 blocks of 2000 x 3000 matrix with block size 512.\n",
      "2020-04-24 16:48:39 Hail: INFO: wrote matrix with 11 rows and 2000 columns as 4 blocks of size 512 to file:/tmp/hail.lSI8hItnvyNe/h5SGPhHwpb.bm\n",
      "2020-04-24 16:48:39 Hail: INFO: wrote matrix with 2000 rows and 3000 columns as 24 blocks of size 512 to file:/tmp/hail.lSI8hItnvyNe/a5Z7IasEAm.bm\n",
      "2020-04-24 16:48:40 Hail: INFO: wrote matrix with 2000 rows and 3000 columns as 24 blocks of size 512 to file:/tmp/hail.lSI8hItnvyNe/EhgyJt9bPO.bm\n",
      "2020-04-24 16:48:41 Hail: INFO: wrote matrix with 3000 rows and 3000 columns as 36 blocks of size 512 to file:/tmp/hail.lSI8hItnvyNe/xuIbazuzez.bm\n",
      "2020-04-24 16:48:42 Hail: INFO: wrote matrix with 3000 rows and 3000 columns as 36 blocks of size 512 to file:/tmp/hail.lSI8hItnvyNe/RiDi7nUaSB.bm\n",
      "2020-04-24 16:48:42 Hail: INFO: wrote matrix with 3000 rows and 3000 columns as 36 blocks of size 512 to file:/tmp/hail.lSI8hItnvyNe/Ia0dtOMtTH.bm\n",
      "2020-04-24 16:48:43 Hail: INFO: wrote matrix with 3000 rows and 3000 columns as 36 blocks of size 512 to file:/tmp/hail.lSI8hItnvyNe/e11U0cwhXR.bm\n",
      "2020-04-24 16:48:44 Hail: INFO: wrote matrix with 3000 rows and 3000 columns as 36 blocks of size 512 to file:/tmp/hail.lSI8hItnvyNe/J8npCEzQCN.bm\n",
      "2020-04-24 16:48:45 Hail: INFO: wrote matrix with 3000 rows and 3000 columns as 36 blocks of size 512 to file:/tmp/hail.lSI8hItnvyNe/GVecZCKM80.bm\n",
      "2020-04-24 16:48:47 Hail: INFO: wrote matrix with 3000 rows and 3000 columns as 36 blocks of size 512 to file:/tmp/hail.lSI8hItnvyNe/pywAqEAnwl.bm\n",
      "2020-04-24 16:48:48 Hail: INFO: wrote matrix with 3000 rows and 3000 columns as 36 blocks of size 512 to file:/tmp/hail.lSI8hItnvyNe/6Dgj48gtJD.bm\n",
      "2020-04-24 16:48:49 Hail: INFO: wrote matrix with 3000 rows and 3000 columns as 36 blocks of size 512 to file:/tmp/hail.lSI8hItnvyNe/eiVFcv3Lcy.bm\n",
      "2020-04-24 16:48:50 Hail: INFO: Ordering unsorted dataset with network shuffle\n",
      "2020-04-24 16:49:00 Hail: INFO: Coerced sorted dataset\n",
      "2020-04-24 16:49:07 Hail: INFO: wrote table with 4498500 rows in 36 partitions to /tmp/tmp_tbyx38r/pc_relate_result\n"
     ]
    },
    {
     "name": "stdout",
     "output_type": "stream",
     "text": [
      "Deleting pc_relate results: /tmp/tmp_tbyx38r/pc_relate_result\n",
      "Deleting hail tmp dir: /tmp/hail.lSI8hItnvyNe\n"
     ]
    },
    {
     "name": "stderr",
     "output_type": "stream",
     "text": [
      "2020-04-24 16:49:07 Hail: INFO: balding_nichols_model: generating genotypes for 10 populations, 3200 samples, and 2000 variants...\n",
      "2020-04-24 16:49:07 Hail: INFO: Coerced sorted dataset\n",
      "2020-04-24 16:49:09 Hail: INFO: wrote matrix table with 2000 rows and 3200 columns in 8 partitions to /home/rav/data/tmp/mt_3200_2000_10.mt\n",
      "2020-04-24 16:49:09 Hail: INFO: hwe_normalized_pca: running PCA using 2000 variants.\n",
      "2020-04-24 16:49:10 Hail: INFO: pca: running PCA with 10 components...\n"
     ]
    },
    {
     "name": "stdout",
     "output_type": "stream",
     "text": [
      "PCA took s:3200, v:2000, p:10 : 7.41 seconds\n"
     ]
    },
    {
     "name": "stderr",
     "output_type": "stream",
     "text": [
      "2020-04-24 16:49:19 Hail: INFO: Wrote all 28 blocks of 2000 x 3200 matrix with block size 512.\n",
      "2020-04-24 16:49:19 Hail: INFO: wrote matrix with 11 rows and 2000 columns as 4 blocks of size 512 to file:/tmp/hail.lSI8hItnvyNe/TDdA5inFs0.bm\n",
      "2020-04-24 16:49:19 Hail: INFO: wrote matrix with 2000 rows and 3200 columns as 28 blocks of size 512 to file:/tmp/hail.lSI8hItnvyNe/VjmC5425Wm.bm\n",
      "2020-04-24 16:49:20 Hail: INFO: wrote matrix with 2000 rows and 3200 columns as 28 blocks of size 512 to file:/tmp/hail.lSI8hItnvyNe/VIHzzSRlHN.bm\n",
      "2020-04-24 16:49:21 Hail: INFO: wrote matrix with 3200 rows and 3200 columns as 49 blocks of size 512 to file:/tmp/hail.lSI8hItnvyNe/pWRfnYJT8L.bm\n",
      "2020-04-24 16:49:22 Hail: INFO: wrote matrix with 3200 rows and 3200 columns as 49 blocks of size 512 to file:/tmp/hail.lSI8hItnvyNe/iNBsoRGYl7.bm\n",
      "2020-04-24 16:49:22 Hail: INFO: wrote matrix with 3200 rows and 3200 columns as 49 blocks of size 512 to file:/tmp/hail.lSI8hItnvyNe/3flc4btxo8.bm\n",
      "2020-04-24 16:49:24 Hail: INFO: wrote matrix with 3200 rows and 3200 columns as 49 blocks of size 512 to file:/tmp/hail.lSI8hItnvyNe/Nl9KCYgbd6.bm\n",
      "2020-04-24 16:49:25 Hail: INFO: wrote matrix with 3200 rows and 3200 columns as 49 blocks of size 512 to file:/tmp/hail.lSI8hItnvyNe/kWuOPI42sK.bm\n",
      "2020-04-24 16:49:26 Hail: INFO: wrote matrix with 3200 rows and 3200 columns as 49 blocks of size 512 to file:/tmp/hail.lSI8hItnvyNe/Z6IWwwT8Ay.bm\n",
      "2020-04-24 16:49:28 Hail: INFO: wrote matrix with 3200 rows and 3200 columns as 49 blocks of size 512 to file:/tmp/hail.lSI8hItnvyNe/ThLv2MQyr8.bm\n",
      "2020-04-24 16:49:29 Hail: INFO: wrote matrix with 3200 rows and 3200 columns as 49 blocks of size 512 to file:/tmp/hail.lSI8hItnvyNe/vZCxYiMelM.bm\n",
      "2020-04-24 16:49:30 Hail: INFO: wrote matrix with 3200 rows and 3200 columns as 49 blocks of size 512 to file:/tmp/hail.lSI8hItnvyNe/CdsXBIvwDS.bm\n",
      "2020-04-24 16:49:32 Hail: INFO: Ordering unsorted dataset with network shuffle\n",
      "2020-04-24 16:49:42 Hail: INFO: Coerced sorted dataset\n",
      "2020-04-24 16:49:50 Hail: INFO: wrote table with 5118400 rows in 49 partitions to /tmp/tmphffh1nm0/pc_relate_result\n"
     ]
    },
    {
     "name": "stdout",
     "output_type": "stream",
     "text": [
      "Deleting pc_relate results: /tmp/tmphffh1nm0/pc_relate_result\n",
      "Deleting hail tmp dir: /tmp/hail.lSI8hItnvyNe\n"
     ]
    },
    {
     "name": "stderr",
     "output_type": "stream",
     "text": [
      "2020-04-24 16:49:50 Hail: INFO: balding_nichols_model: generating genotypes for 10 populations, 3400 samples, and 2000 variants...\n",
      "2020-04-24 16:49:51 Hail: INFO: Coerced sorted dataset\n",
      "2020-04-24 16:49:53 Hail: INFO: wrote matrix table with 2000 rows and 3400 columns in 8 partitions to /home/rav/data/tmp/mt_3400_2000_10.mt\n",
      "2020-04-24 16:49:53 Hail: INFO: hwe_normalized_pca: running PCA using 2000 variants.\n",
      "2020-04-24 16:49:54 Hail: INFO: pca: running PCA with 10 components...\n"
     ]
    },
    {
     "name": "stdout",
     "output_type": "stream",
     "text": [
      "PCA took s:3400, v:2000, p:10 : 7.80 seconds\n"
     ]
    },
    {
     "name": "stderr",
     "output_type": "stream",
     "text": [
      "2020-04-24 16:50:03 Hail: INFO: Wrote all 28 blocks of 2000 x 3400 matrix with block size 512.\n",
      "2020-04-24 16:50:03 Hail: INFO: wrote matrix with 11 rows and 2000 columns as 4 blocks of size 512 to file:/tmp/hail.lSI8hItnvyNe/ZERGlNpkOE.bm\n",
      "2020-04-24 16:50:04 Hail: INFO: wrote matrix with 2000 rows and 3400 columns as 28 blocks of size 512 to file:/tmp/hail.lSI8hItnvyNe/GpunQjg2H4.bm\n",
      "2020-04-24 16:50:04 Hail: INFO: wrote matrix with 2000 rows and 3400 columns as 28 blocks of size 512 to file:/tmp/hail.lSI8hItnvyNe/cC3VQ9TVlH.bm\n",
      "2020-04-24 16:50:05 Hail: INFO: wrote matrix with 3400 rows and 3400 columns as 49 blocks of size 512 to file:/tmp/hail.lSI8hItnvyNe/1wHfpL0M1t.bm\n",
      "2020-04-24 16:50:07 Hail: INFO: wrote matrix with 3400 rows and 3400 columns as 49 blocks of size 512 to file:/tmp/hail.lSI8hItnvyNe/JKzL1AnrNC.bm\n",
      "2020-04-24 16:50:07 Hail: INFO: wrote matrix with 3400 rows and 3400 columns as 49 blocks of size 512 to file:/tmp/hail.lSI8hItnvyNe/FS4GSWkLu3.bm\n",
      "2020-04-24 16:50:08 Hail: INFO: wrote matrix with 3400 rows and 3400 columns as 49 blocks of size 512 to file:/tmp/hail.lSI8hItnvyNe/MFcdQZJdnr.bm\n",
      "2020-04-24 16:50:10 Hail: INFO: wrote matrix with 3400 rows and 3400 columns as 49 blocks of size 512 to file:/tmp/hail.lSI8hItnvyNe/6GL04wCzJo.bm\n",
      "2020-04-24 16:50:10 Hail: INFO: wrote matrix with 3400 rows and 3400 columns as 49 blocks of size 512 to file:/tmp/hail.lSI8hItnvyNe/ChXoC7RdHz.bm\n",
      "2020-04-24 16:50:12 Hail: INFO: wrote matrix with 3400 rows and 3400 columns as 49 blocks of size 512 to file:/tmp/hail.lSI8hItnvyNe/rPtBDlGpS5.bm\n",
      "2020-04-24 16:50:14 Hail: INFO: wrote matrix with 3400 rows and 3400 columns as 49 blocks of size 512 to file:/tmp/hail.lSI8hItnvyNe/xKLHsybyGN.bm\n",
      "2020-04-24 16:50:15 Hail: INFO: wrote matrix with 3400 rows and 3400 columns as 49 blocks of size 512 to file:/tmp/hail.lSI8hItnvyNe/Ey2j5rXc70.bm\n",
      "2020-04-24 16:50:17 Hail: INFO: Ordering unsorted dataset with network shuffle\n",
      "2020-04-24 16:50:29 Hail: INFO: Coerced sorted dataset\n",
      "2020-04-24 16:50:38 Hail: INFO: wrote table with 5778300 rows in 49 partitions to /tmp/tmpt0j0z5h8/pc_relate_result\n"
     ]
    },
    {
     "name": "stdout",
     "output_type": "stream",
     "text": [
      "Deleting pc_relate results: /tmp/tmpt0j0z5h8/pc_relate_result\n",
      "Deleting hail tmp dir: /tmp/hail.lSI8hItnvyNe\n"
     ]
    },
    {
     "name": "stderr",
     "output_type": "stream",
     "text": [
      "2020-04-24 16:50:38 Hail: INFO: balding_nichols_model: generating genotypes for 10 populations, 3600 samples, and 2000 variants...\n",
      "2020-04-24 16:50:38 Hail: INFO: Coerced sorted dataset\n",
      "2020-04-24 16:50:40 Hail: INFO: wrote matrix table with 2000 rows and 3600 columns in 8 partitions to /home/rav/data/tmp/mt_3600_2000_10.mt\n",
      "2020-04-24 16:50:41 Hail: INFO: hwe_normalized_pca: running PCA using 2000 variants.\n",
      "2020-04-24 16:50:42 Hail: INFO: pca: running PCA with 10 components...\n"
     ]
    },
    {
     "name": "stdout",
     "output_type": "stream",
     "text": [
      "PCA took s:3600, v:2000, p:10 : 9.50 seconds\n"
     ]
    },
    {
     "name": "stderr",
     "output_type": "stream",
     "text": [
      "2020-04-24 16:50:52 Hail: INFO: Wrote all 32 blocks of 2000 x 3600 matrix with block size 512.\n",
      "2020-04-24 16:50:53 Hail: INFO: wrote matrix with 11 rows and 2000 columns as 4 blocks of size 512 to file:/tmp/hail.lSI8hItnvyNe/RFDkfpMES0.bm\n",
      "2020-04-24 16:50:53 Hail: INFO: wrote matrix with 2000 rows and 3600 columns as 32 blocks of size 512 to file:/tmp/hail.lSI8hItnvyNe/ZiUhVKB5X3.bm\n",
      "2020-04-24 16:50:53 Hail: INFO: wrote matrix with 2000 rows and 3600 columns as 32 blocks of size 512 to file:/tmp/hail.lSI8hItnvyNe/AYF7YK7ftI.bm\n",
      "2020-04-24 16:50:55 Hail: INFO: wrote matrix with 3600 rows and 3600 columns as 64 blocks of size 512 to file:/tmp/hail.lSI8hItnvyNe/KrxW4RhIi8.bm\n",
      "2020-04-24 16:50:57 Hail: INFO: wrote matrix with 3600 rows and 3600 columns as 64 blocks of size 512 to file:/tmp/hail.lSI8hItnvyNe/sX257oJZw5.bm\n",
      "2020-04-24 16:50:57 Hail: INFO: wrote matrix with 3600 rows and 3600 columns as 64 blocks of size 512 to file:/tmp/hail.lSI8hItnvyNe/vbJaRWGsQm.bm\n",
      "2020-04-24 16:50:59 Hail: INFO: wrote matrix with 3600 rows and 3600 columns as 64 blocks of size 512 to file:/tmp/hail.lSI8hItnvyNe/PrmYWEvL13.bm\n",
      "2020-04-24 16:51:00 Hail: INFO: wrote matrix with 3600 rows and 3600 columns as 64 blocks of size 512 to file:/tmp/hail.lSI8hItnvyNe/0VVfuefX6a.bm\n",
      "2020-04-24 16:51:01 Hail: INFO: wrote matrix with 3600 rows and 3600 columns as 64 blocks of size 512 to file:/tmp/hail.lSI8hItnvyNe/mx2iH95udG.bm\n",
      "2020-04-24 16:51:03 Hail: INFO: wrote matrix with 3600 rows and 3600 columns as 64 blocks of size 512 to file:/tmp/hail.lSI8hItnvyNe/76QLyJI7vw.bm\n",
      "2020-04-24 16:51:05 Hail: INFO: wrote matrix with 3600 rows and 3600 columns as 64 blocks of size 512 to file:/tmp/hail.lSI8hItnvyNe/grSeWz0dWi.bm\n",
      "2020-04-24 16:51:06 Hail: INFO: wrote matrix with 3600 rows and 3600 columns as 64 blocks of size 512 to file:/tmp/hail.lSI8hItnvyNe/4EbM1MOk1D.bm\n",
      "2020-04-24 16:51:08 Hail: INFO: Ordering unsorted dataset with network shuffle\n",
      "2020-04-24 16:51:22 Hail: INFO: Coerced sorted dataset\n",
      "2020-04-24 16:51:31 Hail: INFO: wrote table with 6478200 rows in 64 partitions to /tmp/tmpsxg_oogi/pc_relate_result\n"
     ]
    },
    {
     "name": "stdout",
     "output_type": "stream",
     "text": [
      "Deleting pc_relate results: /tmp/tmpsxg_oogi/pc_relate_result\n",
      "Deleting hail tmp dir: /tmp/hail.lSI8hItnvyNe\n"
     ]
    },
    {
     "name": "stderr",
     "output_type": "stream",
     "text": [
      "2020-04-24 16:51:32 Hail: INFO: balding_nichols_model: generating genotypes for 10 populations, 3800 samples, and 2000 variants...\n",
      "2020-04-24 16:51:32 Hail: INFO: Coerced sorted dataset\n",
      "2020-04-24 16:51:34 Hail: INFO: wrote matrix table with 2000 rows and 3800 columns in 8 partitions to /home/rav/data/tmp/mt_3800_2000_10.mt\n",
      "2020-04-24 16:51:35 Hail: INFO: hwe_normalized_pca: running PCA using 2000 variants.\n",
      "2020-04-24 16:51:36 Hail: INFO: pca: running PCA with 10 components...\n"
     ]
    },
    {
     "name": "stdout",
     "output_type": "stream",
     "text": [
      "PCA took s:3800, v:2000, p:10 : 9.12 seconds\n"
     ]
    },
    {
     "name": "stderr",
     "output_type": "stream",
     "text": [
      "2020-04-24 16:51:46 Hail: INFO: Wrote all 32 blocks of 2000 x 3800 matrix with block size 512.\n",
      "2020-04-24 16:51:47 Hail: INFO: wrote matrix with 11 rows and 2000 columns as 4 blocks of size 512 to file:/tmp/hail.lSI8hItnvyNe/CRHjrmdyt0.bm\n",
      "2020-04-24 16:51:47 Hail: INFO: wrote matrix with 2000 rows and 3800 columns as 32 blocks of size 512 to file:/tmp/hail.lSI8hItnvyNe/SSIVmYbvjO.bm\n",
      "2020-04-24 16:51:47 Hail: INFO: wrote matrix with 2000 rows and 3800 columns as 32 blocks of size 512 to file:/tmp/hail.lSI8hItnvyNe/FAh0yt7uDF.bm\n",
      "2020-04-24 16:51:49 Hail: INFO: wrote matrix with 3800 rows and 3800 columns as 64 blocks of size 512 to file:/tmp/hail.lSI8hItnvyNe/03xw8haCeM.bm\n",
      "2020-04-24 16:51:50 Hail: INFO: wrote matrix with 3800 rows and 3800 columns as 64 blocks of size 512 to file:/tmp/hail.lSI8hItnvyNe/Webpgffb3n.bm\n",
      "2020-04-24 16:51:51 Hail: INFO: wrote matrix with 3800 rows and 3800 columns as 64 blocks of size 512 to file:/tmp/hail.lSI8hItnvyNe/nKYUYhxt4Z.bm\n",
      "2020-04-24 16:51:53 Hail: INFO: wrote matrix with 3800 rows and 3800 columns as 64 blocks of size 512 to file:/tmp/hail.lSI8hItnvyNe/aTaTfVmCJp.bm\n",
      "2020-04-24 16:51:54 Hail: INFO: wrote matrix with 3800 rows and 3800 columns as 64 blocks of size 512 to file:/tmp/hail.lSI8hItnvyNe/nsmW1GGBWt.bm\n",
      "2020-04-24 16:51:55 Hail: INFO: wrote matrix with 3800 rows and 3800 columns as 64 blocks of size 512 to file:/tmp/hail.lSI8hItnvyNe/REyxa1cblG.bm\n",
      "2020-04-24 16:51:58 Hail: INFO: wrote matrix with 3800 rows and 3800 columns as 64 blocks of size 512 to file:/tmp/hail.lSI8hItnvyNe/O1mRyIFaC7.bm\n",
      "2020-04-24 16:52:00 Hail: INFO: wrote matrix with 3800 rows and 3800 columns as 64 blocks of size 512 to file:/tmp/hail.lSI8hItnvyNe/zlcIF5hsqA.bm\n",
      "2020-04-24 16:52:00 Hail: INFO: wrote matrix with 3800 rows and 3800 columns as 64 blocks of size 512 to file:/tmp/hail.lSI8hItnvyNe/9yCHJKdThZ.bm\n",
      "2020-04-24 16:52:03 Hail: INFO: Ordering unsorted dataset with network shuffle\n",
      "2020-04-24 16:52:18 Hail: INFO: Coerced sorted dataset\n",
      "2020-04-24 16:52:28 Hail: INFO: wrote table with 7218100 rows in 64 partitions to /tmp/tmputoemwln/pc_relate_result\n"
     ]
    },
    {
     "name": "stdout",
     "output_type": "stream",
     "text": [
      "Deleting pc_relate results: /tmp/tmputoemwln/pc_relate_result\n",
      "Deleting hail tmp dir: /tmp/hail.lSI8hItnvyNe\n"
     ]
    },
    {
     "name": "stderr",
     "output_type": "stream",
     "text": [
      "2020-04-24 16:52:29 Hail: INFO: hwe_normalized_pca: running PCA using 2000 variants.\n",
      "2020-04-24 16:52:30 Hail: INFO: pca: running PCA with 10 components...\n"
     ]
    },
    {
     "name": "stdout",
     "output_type": "stream",
     "text": [
      "PCA took s:4000, v:2000, p:10 : 9.18 seconds\n"
     ]
    },
    {
     "name": "stderr",
     "output_type": "stream",
     "text": [
      "2020-04-24 16:52:40 Hail: INFO: Wrote all 32 blocks of 2000 x 4000 matrix with block size 512.\n",
      "2020-04-24 16:52:41 Hail: INFO: wrote matrix with 11 rows and 2000 columns as 4 blocks of size 512 to file:/tmp/hail.lSI8hItnvyNe/fPQtQiQmrI.bm\n",
      "2020-04-24 16:52:41 Hail: INFO: wrote matrix with 2000 rows and 4000 columns as 32 blocks of size 512 to file:/tmp/hail.lSI8hItnvyNe/Ysd819573L.bm\n",
      "2020-04-24 16:52:42 Hail: INFO: wrote matrix with 2000 rows and 4000 columns as 32 blocks of size 512 to file:/tmp/hail.lSI8hItnvyNe/N0ZoeeD7ip.bm\n",
      "2020-04-24 16:52:44 Hail: INFO: wrote matrix with 4000 rows and 4000 columns as 64 blocks of size 512 to file:/tmp/hail.lSI8hItnvyNe/0sjmcfYwij.bm\n",
      "2020-04-24 16:52:46 Hail: INFO: wrote matrix with 4000 rows and 4000 columns as 64 blocks of size 512 to file:/tmp/hail.lSI8hItnvyNe/xyQVRr3vqt.bm\n",
      "2020-04-24 16:52:46 Hail: INFO: wrote matrix with 4000 rows and 4000 columns as 64 blocks of size 512 to file:/tmp/hail.lSI8hItnvyNe/APGkb3tj4X.bm\n",
      "2020-04-24 16:52:48 Hail: INFO: wrote matrix with 4000 rows and 4000 columns as 64 blocks of size 512 to file:/tmp/hail.lSI8hItnvyNe/onQlqiOp8O.bm\n",
      "2020-04-24 16:52:50 Hail: INFO: wrote matrix with 4000 rows and 4000 columns as 64 blocks of size 512 to file:/tmp/hail.lSI8hItnvyNe/pdwSnCaBNJ.bm\n",
      "2020-04-24 16:52:50 Hail: INFO: wrote matrix with 4000 rows and 4000 columns as 64 blocks of size 512 to file:/tmp/hail.lSI8hItnvyNe/3uuFPBbb4j.bm\n",
      "2020-04-24 16:52:53 Hail: INFO: wrote matrix with 4000 rows and 4000 columns as 64 blocks of size 512 to file:/tmp/hail.lSI8hItnvyNe/NaWCvHpEIU.bm\n",
      "2020-04-24 16:52:56 Hail: INFO: wrote matrix with 4000 rows and 4000 columns as 64 blocks of size 512 to file:/tmp/hail.lSI8hItnvyNe/cyOk1BxLUq.bm\n",
      "2020-04-24 16:52:56 Hail: INFO: wrote matrix with 4000 rows and 4000 columns as 64 blocks of size 512 to file:/tmp/hail.lSI8hItnvyNe/j1FR4Q21yR.bm\n",
      "2020-04-24 16:52:59 Hail: INFO: Ordering unsorted dataset with network shuffle\n",
      "2020-04-24 16:53:16 Hail: INFO: Coerced sorted dataset\n",
      "2020-04-24 16:53:28 Hail: INFO: wrote table with 7998000 rows in 64 partitions to /tmp/tmpdahd8bfn/pc_relate_result\n"
     ]
    },
    {
     "name": "stdout",
     "output_type": "stream",
     "text": [
      "Deleting pc_relate results: /tmp/tmpdahd8bfn/pc_relate_result\n",
      "Deleting hail tmp dir: /tmp/hail.lSI8hItnvyNe\n"
     ]
    },
    {
     "name": "stderr",
     "output_type": "stream",
     "text": [
      "2020-04-24 16:53:28 Hail: INFO: balding_nichols_model: generating genotypes for 10 populations, 4200 samples, and 2000 variants...\n",
      "2020-04-24 16:53:28 Hail: INFO: Coerced sorted dataset\n",
      "2020-04-24 16:53:31 Hail: INFO: wrote matrix table with 2000 rows and 4200 columns in 8 partitions to /home/rav/data/tmp/mt_4200_2000_10.mt\n",
      "2020-04-24 16:53:31 Hail: INFO: hwe_normalized_pca: running PCA using 2000 variants.\n",
      "2020-04-24 16:53:32 Hail: INFO: pca: running PCA with 10 components...\n"
     ]
    },
    {
     "name": "stdout",
     "output_type": "stream",
     "text": [
      "PCA took s:4200, v:2000, p:10 : 8.94 seconds\n"
     ]
    },
    {
     "name": "stderr",
     "output_type": "stream",
     "text": [
      "2020-04-24 16:53:42 Hail: INFO: Wrote all 36 blocks of 2000 x 4200 matrix with block size 512.\n",
      "2020-04-24 16:53:43 Hail: INFO: wrote matrix with 11 rows and 2000 columns as 4 blocks of size 512 to file:/tmp/hail.lSI8hItnvyNe/18sSY31cWj.bm\n",
      "2020-04-24 16:53:43 Hail: INFO: wrote matrix with 2000 rows and 4200 columns as 36 blocks of size 512 to file:/tmp/hail.lSI8hItnvyNe/RMc14Q0nzQ.bm\n",
      "2020-04-24 16:53:43 Hail: INFO: wrote matrix with 2000 rows and 4200 columns as 36 blocks of size 512 to file:/tmp/hail.lSI8hItnvyNe/dgqfFVKSO1.bm\n",
      "2020-04-24 16:53:46 Hail: INFO: wrote matrix with 4200 rows and 4200 columns as 81 blocks of size 512 to file:/tmp/hail.lSI8hItnvyNe/bwwcywwb0e.bm\n",
      "2020-04-24 16:53:48 Hail: INFO: wrote matrix with 4200 rows and 4200 columns as 81 blocks of size 512 to file:/tmp/hail.lSI8hItnvyNe/5mDFlcRSEQ.bm\n",
      "2020-04-24 16:53:48 Hail: INFO: wrote matrix with 4200 rows and 4200 columns as 81 blocks of size 512 to file:/tmp/hail.lSI8hItnvyNe/FmFMNJTrHC.bm\n",
      "2020-04-24 16:53:50 Hail: INFO: wrote matrix with 4200 rows and 4200 columns as 81 blocks of size 512 to file:/tmp/hail.lSI8hItnvyNe/NZEMMaVef0.bm\n",
      "2020-04-24 16:53:53 Hail: INFO: wrote matrix with 4200 rows and 4200 columns as 81 blocks of size 512 to file:/tmp/hail.lSI8hItnvyNe/LGVixRf7bX.bm\n",
      "2020-04-24 16:53:53 Hail: INFO: wrote matrix with 4200 rows and 4200 columns as 81 blocks of size 512 to file:/tmp/hail.lSI8hItnvyNe/LJ0rWRQ3s2.bm\n",
      "2020-04-24 16:53:56 Hail: INFO: wrote matrix with 4200 rows and 4200 columns as 81 blocks of size 512 to file:/tmp/hail.lSI8hItnvyNe/IxwJIJsgiw.bm\n",
      "2020-04-24 16:53:59 Hail: INFO: wrote matrix with 4200 rows and 4200 columns as 81 blocks of size 512 to file:/tmp/hail.lSI8hItnvyNe/a7fYWMGVfX.bm\n",
      "2020-04-24 16:54:00 Hail: INFO: wrote matrix with 4200 rows and 4200 columns as 81 blocks of size 512 to file:/tmp/hail.lSI8hItnvyNe/lwoFAXFUjJ.bm\n",
      "2020-04-24 16:54:03 Hail: INFO: Ordering unsorted dataset with network shuffle\n",
      "2020-04-24 16:54:21 Hail: INFO: Coerced sorted dataset\n",
      "2020-04-24 16:54:35 Hail: INFO: wrote table with 8817900 rows in 81 partitions to /tmp/tmp50i5keeg/pc_relate_result\n"
     ]
    },
    {
     "name": "stdout",
     "output_type": "stream",
     "text": [
      "Deleting pc_relate results: /tmp/tmp50i5keeg/pc_relate_result\n",
      "Deleting hail tmp dir: /tmp/hail.lSI8hItnvyNe\n"
     ]
    },
    {
     "name": "stderr",
     "output_type": "stream",
     "text": [
      "2020-04-24 16:54:35 Hail: INFO: balding_nichols_model: generating genotypes for 10 populations, 4400 samples, and 2000 variants...\n",
      "2020-04-24 16:54:36 Hail: INFO: Coerced sorted dataset\n",
      "2020-04-24 16:54:38 Hail: INFO: wrote matrix table with 2000 rows and 4400 columns in 8 partitions to /home/rav/data/tmp/mt_4400_2000_10.mt\n",
      "2020-04-24 16:54:39 Hail: INFO: hwe_normalized_pca: running PCA using 2000 variants.\n",
      "2020-04-24 16:54:40 Hail: INFO: pca: running PCA with 10 components...\n"
     ]
    },
    {
     "name": "stdout",
     "output_type": "stream",
     "text": [
      "PCA took s:4400, v:2000, p:10 : 9.55 seconds\n"
     ]
    },
    {
     "name": "stderr",
     "output_type": "stream",
     "text": [
      "2020-04-24 16:54:51 Hail: INFO: Wrote all 36 blocks of 2000 x 4400 matrix with block size 512.\n",
      "2020-04-24 16:54:51 Hail: INFO: wrote matrix with 11 rows and 2000 columns as 4 blocks of size 512 to file:/tmp/hail.lSI8hItnvyNe/DckmSC1zpp.bm\n",
      "2020-04-24 16:54:52 Hail: INFO: wrote matrix with 2000 rows and 4400 columns as 36 blocks of size 512 to file:/tmp/hail.lSI8hItnvyNe/BtCnzIy6NV.bm\n",
      "2020-04-24 16:54:52 Hail: INFO: wrote matrix with 2000 rows and 4400 columns as 36 blocks of size 512 to file:/tmp/hail.lSI8hItnvyNe/cRZaKwIvhV.bm\n",
      "2020-04-24 16:54:54 Hail: INFO: wrote matrix with 4400 rows and 4400 columns as 81 blocks of size 512 to file:/tmp/hail.lSI8hItnvyNe/ZYBMvx1xmF.bm\n",
      "2020-04-24 16:54:57 Hail: INFO: wrote matrix with 4400 rows and 4400 columns as 81 blocks of size 512 to file:/tmp/hail.lSI8hItnvyNe/sQQPqjR9Uv.bm\n",
      "2020-04-24 16:54:57 Hail: INFO: wrote matrix with 4400 rows and 4400 columns as 81 blocks of size 512 to file:/tmp/hail.lSI8hItnvyNe/3RYUsq0BtK.bm\n",
      "2020-04-24 16:55:00 Hail: INFO: wrote matrix with 4400 rows and 4400 columns as 81 blocks of size 512 to file:/tmp/hail.lSI8hItnvyNe/5013bkMaBo.bm\n",
      "2020-04-24 16:55:02 Hail: INFO: wrote matrix with 4400 rows and 4400 columns as 81 blocks of size 512 to file:/tmp/hail.lSI8hItnvyNe/ZWN41PnR2J.bm\n",
      "2020-04-24 16:55:03 Hail: INFO: wrote matrix with 4400 rows and 4400 columns as 81 blocks of size 512 to file:/tmp/hail.lSI8hItnvyNe/0XSnwgWavw.bm\n",
      "2020-04-24 16:55:07 Hail: INFO: wrote matrix with 4400 rows and 4400 columns as 81 blocks of size 512 to file:/tmp/hail.lSI8hItnvyNe/FBXdSOY0qB.bm\n",
      "2020-04-24 16:55:10 Hail: INFO: wrote matrix with 4400 rows and 4400 columns as 81 blocks of size 512 to file:/tmp/hail.lSI8hItnvyNe/x8pP6mV56O.bm\n",
      "2020-04-24 16:55:10 Hail: INFO: wrote matrix with 4400 rows and 4400 columns as 81 blocks of size 512 to file:/tmp/hail.lSI8hItnvyNe/KNHik11T0X.bm\n",
      "2020-04-24 16:55:14 Hail: INFO: Ordering unsorted dataset with network shuffle\n",
      "2020-04-24 16:55:35 Hail: INFO: Coerced sorted dataset\n",
      "2020-04-24 16:55:50 Hail: INFO: wrote table with 9677800 rows in 81 partitions to /tmp/tmp3xuuh46c/pc_relate_result\n"
     ]
    },
    {
     "name": "stdout",
     "output_type": "stream",
     "text": [
      "Deleting pc_relate results: /tmp/tmp3xuuh46c/pc_relate_result\n",
      "Deleting hail tmp dir: /tmp/hail.lSI8hItnvyNe\n"
     ]
    },
    {
     "name": "stderr",
     "output_type": "stream",
     "text": [
      "2020-04-24 16:55:50 Hail: INFO: balding_nichols_model: generating genotypes for 10 populations, 4600 samples, and 2000 variants...\n",
      "2020-04-24 16:55:51 Hail: INFO: Coerced sorted dataset\n",
      "2020-04-24 16:55:53 Hail: INFO: wrote matrix table with 2000 rows and 4600 columns in 8 partitions to /home/rav/data/tmp/mt_4600_2000_10.mt\n",
      "2020-04-24 16:55:53 Hail: INFO: hwe_normalized_pca: running PCA using 2000 variants.\n",
      "2020-04-24 16:55:55 Hail: INFO: pca: running PCA with 10 components...\n"
     ]
    },
    {
     "name": "stdout",
     "output_type": "stream",
     "text": [
      "PCA took s:4600, v:2000, p:10 : 7.27 seconds\n"
     ]
    },
    {
     "name": "stderr",
     "output_type": "stream",
     "text": [
      "2020-04-24 16:56:03 Hail: INFO: Wrote all 36 blocks of 2000 x 4600 matrix with block size 512.\n",
      "2020-04-24 16:56:04 Hail: INFO: wrote matrix with 11 rows and 2000 columns as 4 blocks of size 512 to file:/tmp/hail.lSI8hItnvyNe/a2DPsaFeX4.bm\n",
      "2020-04-24 16:56:04 Hail: INFO: wrote matrix with 2000 rows and 4600 columns as 36 blocks of size 512 to file:/tmp/hail.lSI8hItnvyNe/Gx2edHkqEA.bm\n",
      "2020-04-24 16:56:04 Hail: INFO: wrote matrix with 2000 rows and 4600 columns as 36 blocks of size 512 to file:/tmp/hail.lSI8hItnvyNe/MQPc6rUE6x.bm\n",
      "2020-04-24 16:56:07 Hail: INFO: wrote matrix with 4600 rows and 4600 columns as 81 blocks of size 512 to file:/tmp/hail.lSI8hItnvyNe/PPl4J0TVBC.bm\n",
      "2020-04-24 16:56:10 Hail: INFO: wrote matrix with 4600 rows and 4600 columns as 81 blocks of size 512 to file:/tmp/hail.lSI8hItnvyNe/sTC5mD4Jda.bm\n",
      "2020-04-24 16:56:10 Hail: INFO: wrote matrix with 4600 rows and 4600 columns as 81 blocks of size 512 to file:/tmp/hail.lSI8hItnvyNe/TuapbKPT4y.bm\n",
      "2020-04-24 16:56:13 Hail: INFO: wrote matrix with 4600 rows and 4600 columns as 81 blocks of size 512 to file:/tmp/hail.lSI8hItnvyNe/IOh1pQYg1n.bm\n",
      "2020-04-24 16:56:16 Hail: INFO: wrote matrix with 4600 rows and 4600 columns as 81 blocks of size 512 to file:/tmp/hail.lSI8hItnvyNe/VuML7TZLFy.bm\n",
      "2020-04-24 16:56:16 Hail: INFO: wrote matrix with 4600 rows and 4600 columns as 81 blocks of size 512 to file:/tmp/hail.lSI8hItnvyNe/cKndM0DoBh.bm\n",
      "2020-04-24 16:56:20 Hail: INFO: wrote matrix with 4600 rows and 4600 columns as 81 blocks of size 512 to file:/tmp/hail.lSI8hItnvyNe/3vfJ3PBQxo.bm\n",
      "2020-04-24 16:56:23 Hail: INFO: wrote matrix with 4600 rows and 4600 columns as 81 blocks of size 512 to file:/tmp/hail.lSI8hItnvyNe/8XKJQCN5k3.bm\n",
      "2020-04-24 16:56:24 Hail: INFO: wrote matrix with 4600 rows and 4600 columns as 81 blocks of size 512 to file:/tmp/hail.lSI8hItnvyNe/8VKt86ynSG.bm\n",
      "2020-04-24 16:56:28 Hail: INFO: Ordering unsorted dataset with network shuffle\n",
      "2020-04-24 16:56:52 Hail: INFO: Coerced sorted dataset\n",
      "2020-04-24 16:57:07 Hail: INFO: wrote table with 10577700 rows in 81 partitions to /tmp/tmpzs3imoze/pc_relate_result\n"
     ]
    },
    {
     "name": "stdout",
     "output_type": "stream",
     "text": [
      "Deleting pc_relate results: /tmp/tmpzs3imoze/pc_relate_result\n",
      "Deleting hail tmp dir: /tmp/hail.lSI8hItnvyNe\n"
     ]
    },
    {
     "name": "stderr",
     "output_type": "stream",
     "text": [
      "2020-04-24 16:57:07 Hail: INFO: balding_nichols_model: generating genotypes for 10 populations, 4800 samples, and 2000 variants...\n",
      "2020-04-24 16:57:08 Hail: INFO: Coerced sorted dataset\n",
      "2020-04-24 16:57:10 Hail: INFO: wrote matrix table with 2000 rows and 4800 columns in 8 partitions to /home/rav/data/tmp/mt_4800_2000_10.mt\n",
      "2020-04-24 16:57:11 Hail: INFO: hwe_normalized_pca: running PCA using 2000 variants.\n",
      "2020-04-24 16:57:12 Hail: INFO: pca: running PCA with 10 components...\n"
     ]
    },
    {
     "name": "stdout",
     "output_type": "stream",
     "text": [
      "PCA took s:4800, v:2000, p:10 : 7.58 seconds\n"
     ]
    },
    {
     "name": "stderr",
     "output_type": "stream",
     "text": [
      "2020-04-24 16:57:21 Hail: INFO: Wrote all 40 blocks of 2000 x 4800 matrix with block size 512.\n",
      "2020-04-24 16:57:22 Hail: INFO: wrote matrix with 11 rows and 2000 columns as 4 blocks of size 512 to file:/tmp/hail.lSI8hItnvyNe/PeozwObucx.bm\n",
      "2020-04-24 16:57:22 Hail: INFO: wrote matrix with 2000 rows and 4800 columns as 40 blocks of size 512 to file:/tmp/hail.lSI8hItnvyNe/zS7MXvLzSF.bm\n",
      "2020-04-24 16:57:22 Hail: INFO: wrote matrix with 2000 rows and 4800 columns as 40 blocks of size 512 to file:/tmp/hail.lSI8hItnvyNe/Uobw7NQgX6.bm\n",
      "2020-04-24 16:57:25 Hail: INFO: wrote matrix with 4800 rows and 4800 columns as 100 blocks of size 512 to file:/tmp/hail.lSI8hItnvyNe/HkRAyFZAew.bm\n",
      "2020-04-24 16:57:28 Hail: INFO: wrote matrix with 4800 rows and 4800 columns as 100 blocks of size 512 to file:/tmp/hail.lSI8hItnvyNe/vs8q97Mmb5.bm\n",
      "2020-04-24 16:57:28 Hail: INFO: wrote matrix with 4800 rows and 4800 columns as 100 blocks of size 512 to file:/tmp/hail.lSI8hItnvyNe/5ZLEubc76m.bm\n",
      "2020-04-24 16:57:32 Hail: INFO: wrote matrix with 4800 rows and 4800 columns as 100 blocks of size 512 to file:/tmp/hail.lSI8hItnvyNe/azpWJpaWdA.bm\n",
      "2020-04-24 16:57:34 Hail: INFO: wrote matrix with 4800 rows and 4800 columns as 100 blocks of size 512 to file:/tmp/hail.lSI8hItnvyNe/onu4ckkSaL.bm\n",
      "2020-04-24 16:57:35 Hail: INFO: wrote matrix with 4800 rows and 4800 columns as 100 blocks of size 512 to file:/tmp/hail.lSI8hItnvyNe/YVtl4yP4JY.bm\n",
      "2020-04-24 16:57:39 Hail: INFO: wrote matrix with 4800 rows and 4800 columns as 100 blocks of size 512 to file:/tmp/hail.lSI8hItnvyNe/mUOjuycGAI.bm\n",
      "2020-04-24 16:57:43 Hail: INFO: wrote matrix with 4800 rows and 4800 columns as 100 blocks of size 512 to file:/tmp/hail.lSI8hItnvyNe/1gRkDTVoyJ.bm\n",
      "2020-04-24 16:57:44 Hail: INFO: wrote matrix with 4800 rows and 4800 columns as 100 blocks of size 512 to file:/tmp/hail.lSI8hItnvyNe/2fC0eNd8TT.bm\n",
      "2020-04-24 16:57:48 Hail: INFO: Ordering unsorted dataset with network shuffle\n",
      "2020-04-24 16:58:12 Hail: INFO: Coerced sorted dataset\n",
      "2020-04-24 16:58:28 Hail: INFO: wrote table with 11517600 rows in 100 partitions to /tmp/tmp0ju01fvc/pc_relate_result\n"
     ]
    },
    {
     "name": "stdout",
     "output_type": "stream",
     "text": [
      "Deleting pc_relate results: /tmp/tmp0ju01fvc/pc_relate_result\n",
      "Deleting hail tmp dir: /tmp/hail.lSI8hItnvyNe\n"
     ]
    },
    {
     "name": "stderr",
     "output_type": "stream",
     "text": [
      "2020-04-24 16:58:29 Hail: INFO: hwe_normalized_pca: running PCA using 2000 variants.\n",
      "2020-04-24 16:58:30 Hail: INFO: pca: running PCA with 10 components...\n"
     ]
    },
    {
     "name": "stdout",
     "output_type": "stream",
     "text": [
      "PCA took s:5000, v:2000, p:10 : 8.75 seconds\n"
     ]
    },
    {
     "name": "stderr",
     "output_type": "stream",
     "text": [
      "2020-04-24 16:58:40 Hail: INFO: Wrote all 40 blocks of 2000 x 5000 matrix with block size 512.\n",
      "2020-04-24 16:58:41 Hail: INFO: wrote matrix with 11 rows and 2000 columns as 4 blocks of size 512 to file:/tmp/hail.lSI8hItnvyNe/ytomkxge3O.bm\n",
      "2020-04-24 16:58:42 Hail: INFO: wrote matrix with 2000 rows and 5000 columns as 40 blocks of size 512 to file:/tmp/hail.lSI8hItnvyNe/9iZgdIw8QY.bm\n",
      "2020-04-24 16:58:42 Hail: INFO: wrote matrix with 2000 rows and 5000 columns as 40 blocks of size 512 to file:/tmp/hail.lSI8hItnvyNe/v7y5HjEExK.bm\n",
      "2020-04-24 16:58:45 Hail: INFO: wrote matrix with 5000 rows and 5000 columns as 100 blocks of size 512 to file:/tmp/hail.lSI8hItnvyNe/mKO3BeEiun.bm\n",
      "2020-04-24 16:58:48 Hail: INFO: wrote matrix with 5000 rows and 5000 columns as 100 blocks of size 512 to file:/tmp/hail.lSI8hItnvyNe/4Hm1Jh7aRj.bm\n",
      "2020-04-24 16:58:48 Hail: INFO: wrote matrix with 5000 rows and 5000 columns as 100 blocks of size 512 to file:/tmp/hail.lSI8hItnvyNe/wFlNcHwfR1.bm\n",
      "2020-04-24 16:58:52 Hail: INFO: wrote matrix with 5000 rows and 5000 columns as 100 blocks of size 512 to file:/tmp/hail.lSI8hItnvyNe/H3QFCCk9w8.bm\n",
      "2020-04-24 16:58:55 Hail: INFO: wrote matrix with 5000 rows and 5000 columns as 100 blocks of size 512 to file:/tmp/hail.lSI8hItnvyNe/kTgylehsKt.bm\n",
      "2020-04-24 16:58:55 Hail: INFO: wrote matrix with 5000 rows and 5000 columns as 100 blocks of size 512 to file:/tmp/hail.lSI8hItnvyNe/kEJeEpA1Ef.bm\n",
      "2020-04-24 16:59:00 Hail: INFO: wrote matrix with 5000 rows and 5000 columns as 100 blocks of size 512 to file:/tmp/hail.lSI8hItnvyNe/udgOYOnLpq.bm\n",
      "2020-04-24 16:59:04 Hail: INFO: wrote matrix with 5000 rows and 5000 columns as 100 blocks of size 512 to file:/tmp/hail.lSI8hItnvyNe/Ry5XvzMTIc.bm\n",
      "2020-04-24 16:59:05 Hail: INFO: wrote matrix with 5000 rows and 5000 columns as 100 blocks of size 512 to file:/tmp/hail.lSI8hItnvyNe/uovt7NkMtk.bm\n",
      "2020-04-24 16:59:10 Hail: INFO: Ordering unsorted dataset with network shuffle\n",
      "2020-04-24 16:59:36 Hail: INFO: Coerced sorted dataset\n",
      "2020-04-24 16:59:53 Hail: INFO: wrote table with 12497500 rows in 100 partitions to /tmp/tmphkxi8ykq/pc_relate_result\n"
     ]
    },
    {
     "name": "stdout",
     "output_type": "stream",
     "text": [
      "Deleting pc_relate results: /tmp/tmphkxi8ykq/pc_relate_result\n",
      "Deleting hail tmp dir: /tmp/hail.lSI8hItnvyNe\n"
     ]
    },
    {
     "name": "stderr",
     "output_type": "stream",
     "text": [
      "2020-04-24 16:59:54 Hail: INFO: balding_nichols_model: generating genotypes for 10 populations, 5200 samples, and 2000 variants...\n",
      "2020-04-24 16:59:54 Hail: INFO: Coerced sorted dataset\n",
      "2020-04-24 16:59:57 Hail: INFO: wrote matrix table with 2000 rows and 5200 columns in 8 partitions to /home/rav/data/tmp/mt_5200_2000_10.mt\n",
      "2020-04-24 16:59:57 Hail: INFO: hwe_normalized_pca: running PCA using 2000 variants.\n",
      "2020-04-24 16:59:59 Hail: INFO: pca: running PCA with 10 components...\n"
     ]
    },
    {
     "name": "stdout",
     "output_type": "stream",
     "text": [
      "PCA took s:5200, v:2000, p:10 : 8.04 seconds\n"
     ]
    },
    {
     "name": "stderr",
     "output_type": "stream",
     "text": [
      "2020-04-24 17:00:08 Hail: INFO: Wrote all 44 blocks of 2000 x 5200 matrix with block size 512.\n",
      "2020-04-24 17:00:09 Hail: INFO: wrote matrix with 11 rows and 2000 columns as 4 blocks of size 512 to file:/tmp/hail.lSI8hItnvyNe/IfooFqeuCW.bm\n",
      "2020-04-24 17:00:09 Hail: INFO: wrote matrix with 2000 rows and 5200 columns as 44 blocks of size 512 to file:/tmp/hail.lSI8hItnvyNe/li55oc3d1H.bm\n",
      "2020-04-24 17:00:09 Hail: INFO: wrote matrix with 2000 rows and 5200 columns as 44 blocks of size 512 to file:/tmp/hail.lSI8hItnvyNe/3g4Zh3OipC.bm\n",
      "2020-04-24 17:00:13 Hail: INFO: wrote matrix with 5200 rows and 5200 columns as 121 blocks of size 512 to file:/tmp/hail.lSI8hItnvyNe/sjgN3c93RQ.bm\n",
      "2020-04-24 17:00:16 Hail: INFO: wrote matrix with 5200 rows and 5200 columns as 121 blocks of size 512 to file:/tmp/hail.lSI8hItnvyNe/nDZgTG9YbG.bm\n",
      "2020-04-24 17:00:16 Hail: INFO: wrote matrix with 5200 rows and 5200 columns as 121 blocks of size 512 to file:/tmp/hail.lSI8hItnvyNe/5WXaWUp9GD.bm\n",
      "2020-04-24 17:00:20 Hail: INFO: wrote matrix with 5200 rows and 5200 columns as 121 blocks of size 512 to file:/tmp/hail.lSI8hItnvyNe/Iyo8J0tTm3.bm\n",
      "2020-04-24 17:00:23 Hail: INFO: wrote matrix with 5200 rows and 5200 columns as 121 blocks of size 512 to file:/tmp/hail.lSI8hItnvyNe/ivZNvhMOGY.bm\n",
      "2020-04-24 17:00:24 Hail: INFO: wrote matrix with 5200 rows and 5200 columns as 121 blocks of size 512 to file:/tmp/hail.lSI8hItnvyNe/hVepM1Qwue.bm\n",
      "2020-04-24 17:00:29 Hail: INFO: wrote matrix with 5200 rows and 5200 columns as 121 blocks of size 512 to file:/tmp/hail.lSI8hItnvyNe/c15XrmtEXS.bm\n",
      "2020-04-24 17:00:34 Hail: INFO: wrote matrix with 5200 rows and 5200 columns as 121 blocks of size 512 to file:/tmp/hail.lSI8hItnvyNe/anzOBC7jq4.bm\n",
      "2020-04-24 17:00:34 Hail: INFO: wrote matrix with 5200 rows and 5200 columns as 121 blocks of size 512 to file:/tmp/hail.lSI8hItnvyNe/pmjGxzvcMG.bm\n",
      "2020-04-24 17:00:39 Hail: INFO: Ordering unsorted dataset with network shuffle\n",
      "2020-04-24 17:01:08 Hail: INFO: Coerced sorted dataset\n",
      "2020-04-24 17:01:27 Hail: INFO: wrote table with 13517400 rows in 121 partitions to /tmp/tmp8w0jro7a/pc_relate_result\n"
     ]
    },
    {
     "name": "stdout",
     "output_type": "stream",
     "text": [
      "Deleting pc_relate results: /tmp/tmp8w0jro7a/pc_relate_result\n",
      "Deleting hail tmp dir: /tmp/hail.lSI8hItnvyNe\n"
     ]
    },
    {
     "name": "stderr",
     "output_type": "stream",
     "text": [
      "2020-04-24 17:01:27 Hail: INFO: balding_nichols_model: generating genotypes for 10 populations, 5400 samples, and 2000 variants...\n",
      "2020-04-24 17:01:28 Hail: INFO: Coerced sorted dataset\n",
      "2020-04-24 17:01:31 Hail: INFO: wrote matrix table with 2000 rows and 5400 columns in 8 partitions to /home/rav/data/tmp/mt_5400_2000_10.mt\n",
      "2020-04-24 17:01:31 Hail: INFO: hwe_normalized_pca: running PCA using 2000 variants.\n",
      "2020-04-24 17:01:33 Hail: INFO: pca: running PCA with 10 components...\n"
     ]
    },
    {
     "name": "stdout",
     "output_type": "stream",
     "text": [
      "PCA took s:5400, v:2000, p:10 : 11.71 seconds\n"
     ]
    },
    {
     "name": "stderr",
     "output_type": "stream",
     "text": [
      "2020-04-24 17:01:45 Hail: INFO: Wrote all 44 blocks of 2000 x 5400 matrix with block size 512.\n",
      "2020-04-24 17:01:47 Hail: INFO: wrote matrix with 11 rows and 2000 columns as 4 blocks of size 512 to file:/tmp/hail.lSI8hItnvyNe/HE0Yun5PSS.bm\n",
      "2020-04-24 17:01:47 Hail: INFO: wrote matrix with 2000 rows and 5400 columns as 44 blocks of size 512 to file:/tmp/hail.lSI8hItnvyNe/R7j002U9Jt.bm\n",
      "2020-04-24 17:01:47 Hail: INFO: wrote matrix with 2000 rows and 5400 columns as 44 blocks of size 512 to file:/tmp/hail.lSI8hItnvyNe/Hle18XfZDs.bm\n",
      "2020-04-24 17:01:51 Hail: INFO: wrote matrix with 5400 rows and 5400 columns as 121 blocks of size 512 to file:/tmp/hail.lSI8hItnvyNe/BEsN3fwGpA.bm\n",
      "2020-04-24 17:01:54 Hail: INFO: wrote matrix with 5400 rows and 5400 columns as 121 blocks of size 512 to file:/tmp/hail.lSI8hItnvyNe/LrigeDkPp3.bm\n",
      "2020-04-24 17:01:55 Hail: INFO: wrote matrix with 5400 rows and 5400 columns as 121 blocks of size 512 to file:/tmp/hail.lSI8hItnvyNe/wVP7NqFNKR.bm\n",
      "2020-04-24 17:01:59 Hail: INFO: wrote matrix with 5400 rows and 5400 columns as 121 blocks of size 512 to file:/tmp/hail.lSI8hItnvyNe/q9DXWVHflU.bm\n",
      "2020-04-24 17:02:02 Hail: INFO: wrote matrix with 5400 rows and 5400 columns as 121 blocks of size 512 to file:/tmp/hail.lSI8hItnvyNe/SM9JHDExnR.bm\n",
      "2020-04-24 17:02:03 Hail: INFO: wrote matrix with 5400 rows and 5400 columns as 121 blocks of size 512 to file:/tmp/hail.lSI8hItnvyNe/UUhrICltXk.bm\n",
      "2020-04-24 17:02:08 Hail: INFO: wrote matrix with 5400 rows and 5400 columns as 121 blocks of size 512 to file:/tmp/hail.lSI8hItnvyNe/omZwlD3Lzp.bm\n",
      "2020-04-24 17:02:13 Hail: INFO: wrote matrix with 5400 rows and 5400 columns as 121 blocks of size 512 to file:/tmp/hail.lSI8hItnvyNe/rhUNDrqa5e.bm\n",
      "2020-04-24 17:02:14 Hail: INFO: wrote matrix with 5400 rows and 5400 columns as 121 blocks of size 512 to file:/tmp/hail.lSI8hItnvyNe/aKocMUGoAy.bm\n",
      "2020-04-24 17:02:19 Hail: INFO: Ordering unsorted dataset with network shuffle\n",
      "2020-04-24 17:02:49 Hail: INFO: Coerced sorted dataset\n",
      "2020-04-24 17:03:10 Hail: INFO: wrote table with 14577300 rows in 121 partitions to /tmp/tmpyysm2j6w/pc_relate_result\n"
     ]
    },
    {
     "name": "stdout",
     "output_type": "stream",
     "text": [
      "Deleting pc_relate results: /tmp/tmpyysm2j6w/pc_relate_result\n",
      "Deleting hail tmp dir: /tmp/hail.lSI8hItnvyNe\n"
     ]
    },
    {
     "name": "stderr",
     "output_type": "stream",
     "text": [
      "2020-04-24 17:03:10 Hail: INFO: balding_nichols_model: generating genotypes for 10 populations, 5600 samples, and 2000 variants...\n",
      "2020-04-24 17:03:11 Hail: INFO: Coerced sorted dataset\n",
      "2020-04-24 17:03:14 Hail: INFO: wrote matrix table with 2000 rows and 5600 columns in 8 partitions to /home/rav/data/tmp/mt_5600_2000_10.mt\n",
      "2020-04-24 17:03:14 Hail: INFO: hwe_normalized_pca: running PCA using 2000 variants.\n",
      "2020-04-24 17:03:15 Hail: INFO: pca: running PCA with 10 components...\n"
     ]
    },
    {
     "name": "stdout",
     "output_type": "stream",
     "text": [
      "PCA took s:5600, v:2000, p:10 : 10.52 seconds\n"
     ]
    },
    {
     "name": "stderr",
     "output_type": "stream",
     "text": [
      "2020-04-24 17:03:27 Hail: INFO: Wrote all 44 blocks of 2000 x 5600 matrix with block size 512.\n",
      "2020-04-24 17:03:28 Hail: INFO: wrote matrix with 11 rows and 2000 columns as 4 blocks of size 512 to file:/tmp/hail.lSI8hItnvyNe/mOOS9MP3eC.bm\n",
      "2020-04-24 17:03:29 Hail: INFO: wrote matrix with 2000 rows and 5600 columns as 44 blocks of size 512 to file:/tmp/hail.lSI8hItnvyNe/X1h0xPA7RS.bm\n",
      "2020-04-24 17:03:29 Hail: INFO: wrote matrix with 2000 rows and 5600 columns as 44 blocks of size 512 to file:/tmp/hail.lSI8hItnvyNe/Cjy0JhZbBC.bm\n",
      "2020-04-24 17:03:33 Hail: INFO: wrote matrix with 5600 rows and 5600 columns as 121 blocks of size 512 to file:/tmp/hail.lSI8hItnvyNe/gcvnwV5K2F.bm\n",
      "2020-04-24 17:03:37 Hail: INFO: wrote matrix with 5600 rows and 5600 columns as 121 blocks of size 512 to file:/tmp/hail.lSI8hItnvyNe/uK3V8zy50T.bm\n",
      "2020-04-24 17:03:37 Hail: INFO: wrote matrix with 5600 rows and 5600 columns as 121 blocks of size 512 to file:/tmp/hail.lSI8hItnvyNe/pP2uG6Dt31.bm\n",
      "2020-04-24 17:03:41 Hail: INFO: wrote matrix with 5600 rows and 5600 columns as 121 blocks of size 512 to file:/tmp/hail.lSI8hItnvyNe/h3dhokXAT1.bm\n",
      "2020-04-24 17:03:45 Hail: INFO: wrote matrix with 5600 rows and 5600 columns as 121 blocks of size 512 to file:/tmp/hail.lSI8hItnvyNe/J2eFXKsNiY.bm\n",
      "2020-04-24 17:03:46 Hail: INFO: wrote matrix with 5600 rows and 5600 columns as 121 blocks of size 512 to file:/tmp/hail.lSI8hItnvyNe/keylW1663I.bm\n",
      "2020-04-24 17:03:51 Hail: INFO: wrote matrix with 5600 rows and 5600 columns as 121 blocks of size 512 to file:/tmp/hail.lSI8hItnvyNe/MeODn7fWix.bm\n",
      "2020-04-24 17:03:57 Hail: INFO: wrote matrix with 5600 rows and 5600 columns as 121 blocks of size 512 to file:/tmp/hail.lSI8hItnvyNe/RB3VZp70v4.bm\n",
      "2020-04-24 17:03:58 Hail: INFO: wrote matrix with 5600 rows and 5600 columns as 121 blocks of size 512 to file:/tmp/hail.lSI8hItnvyNe/66vQvY4CYl.bm\n",
      "2020-04-24 17:04:04 Hail: INFO: Ordering unsorted dataset with network shuffle\n",
      "2020-04-24 17:04:36 Hail: INFO: Coerced sorted dataset\n",
      "2020-04-24 17:04:58 Hail: INFO: wrote table with 15677200 rows in 121 partitions to /tmp/tmp0e96jd_j/pc_relate_result\n"
     ]
    },
    {
     "name": "stdout",
     "output_type": "stream",
     "text": [
      "Deleting pc_relate results: /tmp/tmp0e96jd_j/pc_relate_result\n",
      "Deleting hail tmp dir: /tmp/hail.lSI8hItnvyNe\n"
     ]
    },
    {
     "name": "stderr",
     "output_type": "stream",
     "text": [
      "2020-04-24 17:04:58 Hail: INFO: balding_nichols_model: generating genotypes for 10 populations, 5800 samples, and 2000 variants...\n",
      "2020-04-24 17:04:59 Hail: INFO: Coerced sorted dataset\n",
      "2020-04-24 17:05:02 Hail: INFO: wrote matrix table with 2000 rows and 5800 columns in 8 partitions to /home/rav/data/tmp/mt_5800_2000_10.mt\n",
      "2020-04-24 17:05:02 Hail: INFO: hwe_normalized_pca: running PCA using 2000 variants.\n",
      "2020-04-24 17:05:04 Hail: INFO: pca: running PCA with 10 components...\n"
     ]
    },
    {
     "name": "stdout",
     "output_type": "stream",
     "text": [
      "PCA took s:5800, v:2000, p:10 : 10.45 seconds\n"
     ]
    },
    {
     "name": "stderr",
     "output_type": "stream",
     "text": [
      "2020-04-24 17:05:16 Hail: INFO: Wrote all 48 blocks of 2000 x 5800 matrix with block size 512.\n",
      "2020-04-24 17:05:17 Hail: INFO: wrote matrix with 11 rows and 2000 columns as 4 blocks of size 512 to file:/tmp/hail.lSI8hItnvyNe/no1W3VGd1Q.bm\n",
      "2020-04-24 17:05:17 Hail: INFO: wrote matrix with 2000 rows and 5800 columns as 48 blocks of size 512 to file:/tmp/hail.lSI8hItnvyNe/DeFlolWwlV.bm\n",
      "2020-04-24 17:05:17 Hail: INFO: wrote matrix with 2000 rows and 5800 columns as 48 blocks of size 512 to file:/tmp/hail.lSI8hItnvyNe/E6AP0hPz30.bm\n",
      "2020-04-24 17:05:22 Hail: INFO: wrote matrix with 5800 rows and 5800 columns as 144 blocks of size 512 to file:/tmp/hail.lSI8hItnvyNe/E221OuaWap.bm\n",
      "2020-04-24 17:05:26 Hail: INFO: wrote matrix with 5800 rows and 5800 columns as 144 blocks of size 512 to file:/tmp/hail.lSI8hItnvyNe/nDd8dzmp3m.bm\n",
      "2020-04-24 17:05:26 Hail: INFO: wrote matrix with 5800 rows and 5800 columns as 144 blocks of size 512 to file:/tmp/hail.lSI8hItnvyNe/d055JT36I2.bm\n",
      "2020-04-24 17:05:31 Hail: INFO: wrote matrix with 5800 rows and 5800 columns as 144 blocks of size 512 to file:/tmp/hail.lSI8hItnvyNe/5CvnHUUJa4.bm\n",
      "2020-04-24 17:05:35 Hail: INFO: wrote matrix with 5800 rows and 5800 columns as 144 blocks of size 512 to file:/tmp/hail.lSI8hItnvyNe/IPgnl8PMzh.bm\n",
      "2020-04-24 17:05:35 Hail: INFO: wrote matrix with 5800 rows and 5800 columns as 144 blocks of size 512 to file:/tmp/hail.lSI8hItnvyNe/RpCpySBSRx.bm\n",
      "2020-04-24 17:05:42 Hail: INFO: wrote matrix with 5800 rows and 5800 columns as 144 blocks of size 512 to file:/tmp/hail.lSI8hItnvyNe/oA4lNBEJA3.bm\n",
      "2020-04-24 17:05:48 Hail: INFO: wrote matrix with 5800 rows and 5800 columns as 144 blocks of size 512 to file:/tmp/hail.lSI8hItnvyNe/ECewKeBfp5.bm\n",
      "2020-04-24 17:05:48 Hail: INFO: wrote matrix with 5800 rows and 5800 columns as 144 blocks of size 512 to file:/tmp/hail.lSI8hItnvyNe/YgTTve3VbZ.bm\n",
      "2020-04-24 17:05:55 Hail: INFO: Ordering unsorted dataset with network shuffle\n",
      "2020-04-24 17:06:30 Hail: INFO: Coerced sorted dataset\n",
      "2020-04-24 17:06:54 Hail: INFO: wrote table with 16817100 rows in 144 partitions to /tmp/tmpezdy2bvr/pc_relate_result\n"
     ]
    },
    {
     "name": "stdout",
     "output_type": "stream",
     "text": [
      "Deleting pc_relate results: /tmp/tmpezdy2bvr/pc_relate_result\n",
      "Deleting hail tmp dir: /tmp/hail.lSI8hItnvyNe\n"
     ]
    },
    {
     "name": "stderr",
     "output_type": "stream",
     "text": [
      "2020-04-24 17:06:55 Hail: INFO: hwe_normalized_pca: running PCA using 2000 variants.\n",
      "2020-04-24 17:06:56 Hail: INFO: pca: running PCA with 10 components...\n"
     ]
    },
    {
     "name": "stdout",
     "output_type": "stream",
     "text": [
      "PCA took s:6000, v:2000, p:10 : 9.44 seconds\n"
     ]
    },
    {
     "name": "stderr",
     "output_type": "stream",
     "text": [
      "2020-04-24 17:07:07 Hail: INFO: Wrote all 48 blocks of 2000 x 6000 matrix with block size 512.\n",
      "2020-04-24 17:07:08 Hail: INFO: wrote matrix with 11 rows and 2000 columns as 4 blocks of size 512 to file:/tmp/hail.lSI8hItnvyNe/YnbcgISNCp.bm\n",
      "2020-04-24 17:07:09 Hail: INFO: wrote matrix with 2000 rows and 6000 columns as 48 blocks of size 512 to file:/tmp/hail.lSI8hItnvyNe/HqeZfEwJjR.bm\n",
      "2020-04-24 17:07:09 Hail: INFO: wrote matrix with 2000 rows and 6000 columns as 48 blocks of size 512 to file:/tmp/hail.lSI8hItnvyNe/TTLWmmAC6c.bm\n",
      "2020-04-24 17:07:13 Hail: INFO: wrote matrix with 6000 rows and 6000 columns as 144 blocks of size 512 to file:/tmp/hail.lSI8hItnvyNe/fVygPL1NJq.bm\n",
      "2020-04-24 17:07:18 Hail: INFO: wrote matrix with 6000 rows and 6000 columns as 144 blocks of size 512 to file:/tmp/hail.lSI8hItnvyNe/2dBSZLKfzi.bm\n",
      "2020-04-24 17:07:18 Hail: INFO: wrote matrix with 6000 rows and 6000 columns as 144 blocks of size 512 to file:/tmp/hail.lSI8hItnvyNe/BKDc1lczsy.bm\n",
      "2020-04-24 17:07:23 Hail: INFO: wrote matrix with 6000 rows and 6000 columns as 144 blocks of size 512 to file:/tmp/hail.lSI8hItnvyNe/LVBe4QXMis.bm\n",
      "2020-04-24 17:07:27 Hail: INFO: wrote matrix with 6000 rows and 6000 columns as 144 blocks of size 512 to file:/tmp/hail.lSI8hItnvyNe/iHpz4gOfG1.bm\n",
      "2020-04-24 17:07:28 Hail: INFO: wrote matrix with 6000 rows and 6000 columns as 144 blocks of size 512 to file:/tmp/hail.lSI8hItnvyNe/J6ul2JWbGZ.bm\n",
      "2020-04-24 17:07:34 Hail: INFO: wrote matrix with 6000 rows and 6000 columns as 144 blocks of size 512 to file:/tmp/hail.lSI8hItnvyNe/3ti3MEiQL9.bm\n",
      "2020-04-24 17:07:40 Hail: INFO: wrote matrix with 6000 rows and 6000 columns as 144 blocks of size 512 to file:/tmp/hail.lSI8hItnvyNe/SOzLgyKyc3.bm\n",
      "2020-04-24 17:07:41 Hail: INFO: wrote matrix with 6000 rows and 6000 columns as 144 blocks of size 512 to file:/tmp/hail.lSI8hItnvyNe/IMoHLLHmIt.bm\n",
      "2020-04-24 17:07:48 Hail: INFO: Ordering unsorted dataset with network shuffle\n",
      "2020-04-24 17:08:25 Hail: INFO: Coerced sorted dataset\n",
      "2020-04-24 17:08:50 Hail: INFO: wrote table with 17997000 rows in 144 partitions to /tmp/tmpobmumy_t/pc_relate_result\n"
     ]
    },
    {
     "name": "stdout",
     "output_type": "stream",
     "text": [
      "Deleting pc_relate results: /tmp/tmpobmumy_t/pc_relate_result\n",
      "Deleting hail tmp dir: /tmp/hail.lSI8hItnvyNe\n"
     ]
    },
    {
     "name": "stderr",
     "output_type": "stream",
     "text": [
      "2020-04-24 17:08:51 Hail: INFO: balding_nichols_model: generating genotypes for 10 populations, 6200 samples, and 2000 variants...\n",
      "2020-04-24 17:08:52 Hail: INFO: Coerced sorted dataset\n",
      "2020-04-24 17:08:55 Hail: INFO: wrote matrix table with 2000 rows and 6200 columns in 8 partitions to /home/rav/data/tmp/mt_6200_2000_10.mt\n",
      "2020-04-24 17:08:55 Hail: INFO: hwe_normalized_pca: running PCA using 2000 variants.\n",
      "2020-04-24 17:08:56 Hail: INFO: pca: running PCA with 10 components...\n"
     ]
    },
    {
     "name": "stdout",
     "output_type": "stream",
     "text": [
      "PCA took s:6200, v:2000, p:10 : 10.02 seconds\n"
     ]
    },
    {
     "name": "stderr",
     "output_type": "stream",
     "text": [
      "2020-04-24 17:09:08 Hail: INFO: Wrote all 52 blocks of 2000 x 6200 matrix with block size 512.\n",
      "2020-04-24 17:09:09 Hail: INFO: wrote matrix with 11 rows and 2000 columns as 4 blocks of size 512 to file:/tmp/hail.lSI8hItnvyNe/E9o2P3hrZM.bm\n",
      "2020-04-24 17:09:09 Hail: INFO: wrote matrix with 2000 rows and 6200 columns as 52 blocks of size 512 to file:/tmp/hail.lSI8hItnvyNe/nmsSWSzSX0.bm\n",
      "2020-04-24 17:09:10 Hail: INFO: wrote matrix with 2000 rows and 6200 columns as 52 blocks of size 512 to file:/tmp/hail.lSI8hItnvyNe/aKLB7rkkun.bm\n",
      "2020-04-24 17:09:14 Hail: INFO: wrote matrix with 6200 rows and 6200 columns as 169 blocks of size 512 to file:/tmp/hail.lSI8hItnvyNe/MrmCmpaxEi.bm\n"
     ]
    }
   ],
   "source": [
    "# Fixed variants = 2k\n",
    "for i in range(1000, 20001, 200):\n",
    "    samples = i\n",
    "    variants = 2000\n",
    "    do_experiment(\"simple_fixed_variants_2k_cpu_8_ram_31_blocksize_512\", samples=samples, variants=variants, populations=10)"
   ]
  },
  {
   "cell_type": "code",
   "execution_count": null,
   "metadata": {},
   "outputs": [
    {
     "name": "stderr",
     "output_type": "stream",
     "text": [
      "2020-04-24 17:18:43 Hail: INFO: hwe_normalized_pca: running PCA using 2000 variants.\n",
      "2020-04-24 17:18:43 Hail: INFO: pca: running PCA with 10 components...\n"
     ]
    },
    {
     "name": "stdout",
     "output_type": "stream",
     "text": [
      "PCA took s:1000, v:2000, p:10 : 8.29 seconds\n"
     ]
    },
    {
     "name": "stderr",
     "output_type": "stream",
     "text": [
      "2020-04-24 17:18:51 Hail: INFO: Wrote all 2 blocks of 2000 x 1000 matrix with block size 1000.\n",
      "2020-04-24 17:18:52 Hail: INFO: wrote matrix with 11 rows and 2000 columns as 2 blocks of size 1000 to file:/tmp/hail.GXgR4Pd2q9HV/uvqvcTgvDW.bm\n",
      "2020-04-24 17:18:52 Hail: INFO: wrote matrix with 2000 rows and 1000 columns as 2 blocks of size 1000 to file:/tmp/hail.GXgR4Pd2q9HV/nViEZqK1nM.bm\n",
      "2020-04-24 17:18:52 Hail: INFO: wrote matrix with 2000 rows and 1000 columns as 2 blocks of size 1000 to file:/tmp/hail.GXgR4Pd2q9HV/dGaco7Fqx7.bm\n",
      "2020-04-24 17:18:53 Hail: INFO: wrote matrix with 1000 rows and 1000 columns as 1 block of size 1000 to file:/tmp/hail.GXgR4Pd2q9HV/vVeb9oLnkB.bm\n",
      "2020-04-24 17:18:54 Hail: INFO: wrote matrix with 1000 rows and 1000 columns as 1 block of size 1000 to file:/tmp/hail.GXgR4Pd2q9HV/JqSrYd9hXW.bm\n",
      "2020-04-24 17:18:54 Hail: INFO: wrote matrix with 1000 rows and 1000 columns as 1 block of size 1000 to file:/tmp/hail.GXgR4Pd2q9HV/QvuucBDBH1.bm\n",
      "2020-04-24 17:18:54 Hail: INFO: wrote matrix with 1000 rows and 1000 columns as 1 block of size 1000 to file:/tmp/hail.GXgR4Pd2q9HV/Fsl6xgc3jD.bm\n",
      "2020-04-24 17:18:55 Hail: INFO: wrote matrix with 1000 rows and 1000 columns as 1 block of size 1000 to file:/tmp/hail.GXgR4Pd2q9HV/eCrLjTQNaO.bm\n",
      "2020-04-24 17:18:55 Hail: INFO: wrote matrix with 1000 rows and 1000 columns as 1 block of size 1000 to file:/tmp/hail.GXgR4Pd2q9HV/DbU1R492pW.bm\n",
      "2020-04-24 17:18:56 Hail: INFO: wrote matrix with 1000 rows and 1000 columns as 1 block of size 1000 to file:/tmp/hail.GXgR4Pd2q9HV/rkuyZcRUni.bm\n",
      "2020-04-24 17:18:56 Hail: INFO: wrote matrix with 1000 rows and 1000 columns as 1 block of size 1000 to file:/tmp/hail.GXgR4Pd2q9HV/iSTaXNSELH.bm\n",
      "2020-04-24 17:18:57 Hail: INFO: wrote matrix with 1000 rows and 1000 columns as 1 block of size 1000 to file:/tmp/hail.GXgR4Pd2q9HV/9LI1ajKFxt.bm\n",
      "2020-04-24 17:18:58 Hail: INFO: Ordering unsorted dataset with network shuffle\n",
      "2020-04-24 17:19:02 Hail: INFO: Coerced sorted dataset\n",
      "2020-04-24 17:19:06 Hail: INFO: wrote table with 499500 rows in 1 partition to /tmp/tmpu1_6jn7c/pc_relate_result\n"
     ]
    },
    {
     "name": "stdout",
     "output_type": "stream",
     "text": [
      "Deleting pc_relate results: /tmp/tmpu1_6jn7c/pc_relate_result\n",
      "Deleting hail tmp dir: /tmp/hail.GXgR4Pd2q9HV\n"
     ]
    },
    {
     "name": "stderr",
     "output_type": "stream",
     "text": [
      "2020-04-24 17:19:06 Hail: INFO: hwe_normalized_pca: running PCA using 2000 variants.\n",
      "2020-04-24 17:19:07 Hail: INFO: pca: running PCA with 10 components...\n"
     ]
    },
    {
     "name": "stdout",
     "output_type": "stream",
     "text": [
      "PCA took s:1200, v:2000, p:10 : 8.38 seconds\n"
     ]
    },
    {
     "name": "stderr",
     "output_type": "stream",
     "text": [
      "2020-04-24 17:19:16 Hail: INFO: Wrote all 2 blocks of 2000 x 1200 matrix with block size 1200.\n",
      "2020-04-24 17:19:16 Hail: INFO: wrote matrix with 11 rows and 2000 columns as 2 blocks of size 1200 to file:/tmp/hail.GXgR4Pd2q9HV/QfzoVHB4cV.bm\n",
      "2020-04-24 17:19:16 Hail: INFO: wrote matrix with 2000 rows and 1200 columns as 2 blocks of size 1200 to file:/tmp/hail.GXgR4Pd2q9HV/ARgnPcPSqE.bm\n",
      "2020-04-24 17:19:16 Hail: INFO: wrote matrix with 2000 rows and 1200 columns as 2 blocks of size 1200 to file:/tmp/hail.GXgR4Pd2q9HV/FEkQgh0qYn.bm\n",
      "2020-04-24 17:19:17 Hail: INFO: wrote matrix with 1200 rows and 1200 columns as 1 block of size 1200 to file:/tmp/hail.GXgR4Pd2q9HV/15YoZu8s15.bm\n",
      "2020-04-24 17:19:18 Hail: INFO: wrote matrix with 1200 rows and 1200 columns as 1 block of size 1200 to file:/tmp/hail.GXgR4Pd2q9HV/iLwrsLAJVK.bm\n",
      "2020-04-24 17:19:18 Hail: INFO: wrote matrix with 1200 rows and 1200 columns as 1 block of size 1200 to file:/tmp/hail.GXgR4Pd2q9HV/u2xZGEms7j.bm\n",
      "2020-04-24 17:19:19 Hail: INFO: wrote matrix with 1200 rows and 1200 columns as 1 block of size 1200 to file:/tmp/hail.GXgR4Pd2q9HV/N2r72qqnSx.bm\n",
      "2020-04-24 17:19:20 Hail: INFO: wrote matrix with 1200 rows and 1200 columns as 1 block of size 1200 to file:/tmp/hail.GXgR4Pd2q9HV/2qiI5UXF1A.bm\n",
      "2020-04-24 17:19:20 Hail: INFO: wrote matrix with 1200 rows and 1200 columns as 1 block of size 1200 to file:/tmp/hail.GXgR4Pd2q9HV/bj3L4DkTIH.bm\n",
      "2020-04-24 17:19:21 Hail: INFO: wrote matrix with 1200 rows and 1200 columns as 1 block of size 1200 to file:/tmp/hail.GXgR4Pd2q9HV/mCjd7zoKfw.bm\n",
      "2020-04-24 17:19:22 Hail: INFO: wrote matrix with 1200 rows and 1200 columns as 1 block of size 1200 to file:/tmp/hail.GXgR4Pd2q9HV/bW0cPcUsPD.bm\n",
      "2020-04-24 17:19:22 Hail: INFO: wrote matrix with 1200 rows and 1200 columns as 1 block of size 1200 to file:/tmp/hail.GXgR4Pd2q9HV/bpc0Y0y3QT.bm\n",
      "2020-04-24 17:19:23 Hail: INFO: Ordering unsorted dataset with network shuffle\n",
      "2020-04-24 17:19:29 Hail: INFO: Coerced sorted dataset\n",
      "2020-04-24 17:19:35 Hail: INFO: wrote table with 719400 rows in 1 partition to /tmp/tmputr_iq0m/pc_relate_result\n"
     ]
    },
    {
     "name": "stdout",
     "output_type": "stream",
     "text": [
      "Deleting pc_relate results: /tmp/tmputr_iq0m/pc_relate_result\n",
      "Deleting hail tmp dir: /tmp/hail.GXgR4Pd2q9HV\n"
     ]
    },
    {
     "name": "stderr",
     "output_type": "stream",
     "text": [
      "2020-04-24 17:19:35 Hail: INFO: hwe_normalized_pca: running PCA using 2000 variants.\n",
      "2020-04-24 17:19:35 Hail: INFO: pca: running PCA with 10 components...\n"
     ]
    },
    {
     "name": "stdout",
     "output_type": "stream",
     "text": [
      "PCA took s:1400, v:2000, p:10 : 6.69 seconds\n"
     ]
    },
    {
     "name": "stderr",
     "output_type": "stream",
     "text": [
      "2020-04-24 17:19:43 Hail: INFO: Wrote all 2 blocks of 2000 x 1400 matrix with block size 1400.\n",
      "2020-04-24 17:19:43 Hail: INFO: wrote matrix with 11 rows and 2000 columns as 2 blocks of size 1400 to file:/tmp/hail.GXgR4Pd2q9HV/pWw8F9Z4KV.bm\n",
      "2020-04-24 17:19:43 Hail: INFO: wrote matrix with 2000 rows and 1400 columns as 2 blocks of size 1400 to file:/tmp/hail.GXgR4Pd2q9HV/8u8EVBLLep.bm\n",
      "2020-04-24 17:19:43 Hail: INFO: wrote matrix with 2000 rows and 1400 columns as 2 blocks of size 1400 to file:/tmp/hail.GXgR4Pd2q9HV/BdGcTmWEAQ.bm\n",
      "2020-04-24 17:19:44 Hail: INFO: wrote matrix with 1400 rows and 1400 columns as 1 block of size 1400 to file:/tmp/hail.GXgR4Pd2q9HV/WfRUpRSySF.bm\n",
      "2020-04-24 17:19:45 Hail: INFO: wrote matrix with 1400 rows and 1400 columns as 1 block of size 1400 to file:/tmp/hail.GXgR4Pd2q9HV/nD00yUb5F3.bm\n",
      "2020-04-24 17:19:45 Hail: INFO: wrote matrix with 1400 rows and 1400 columns as 1 block of size 1400 to file:/tmp/hail.GXgR4Pd2q9HV/yCz5baJ93Q.bm\n",
      "2020-04-24 17:19:47 Hail: INFO: wrote matrix with 1400 rows and 1400 columns as 1 block of size 1400 to file:/tmp/hail.GXgR4Pd2q9HV/XOGYztF8V5.bm\n",
      "2020-04-24 17:19:47 Hail: INFO: wrote matrix with 1400 rows and 1400 columns as 1 block of size 1400 to file:/tmp/hail.GXgR4Pd2q9HV/xZadUcF7kN.bm\n",
      "2020-04-24 17:19:48 Hail: INFO: wrote matrix with 1400 rows and 1400 columns as 1 block of size 1400 to file:/tmp/hail.GXgR4Pd2q9HV/ZGvawtr3h8.bm\n",
      "2020-04-24 17:19:49 Hail: INFO: wrote matrix with 1400 rows and 1400 columns as 1 block of size 1400 to file:/tmp/hail.GXgR4Pd2q9HV/MS6oq8zGzS.bm\n",
      "2020-04-24 17:19:50 Hail: INFO: wrote matrix with 1400 rows and 1400 columns as 1 block of size 1400 to file:/tmp/hail.GXgR4Pd2q9HV/QgDUK1gwoM.bm\n",
      "2020-04-24 17:19:50 Hail: INFO: wrote matrix with 1400 rows and 1400 columns as 1 block of size 1400 to file:/tmp/hail.GXgR4Pd2q9HV/5zP30hP7dN.bm\n",
      "2020-04-24 17:19:52 Hail: INFO: Ordering unsorted dataset with network shuffle\n",
      "2020-04-24 17:20:00 Hail: INFO: Coerced sorted dataset\n",
      "2020-04-24 17:20:07 Hail: INFO: wrote table with 979300 rows in 1 partition to /tmp/tmpvdd03imh/pc_relate_result\n"
     ]
    },
    {
     "name": "stdout",
     "output_type": "stream",
     "text": [
      "Deleting pc_relate results: /tmp/tmpvdd03imh/pc_relate_result\n",
      "Deleting hail tmp dir: /tmp/hail.GXgR4Pd2q9HV\n"
     ]
    },
    {
     "name": "stderr",
     "output_type": "stream",
     "text": [
      "2020-04-24 17:20:07 Hail: INFO: hwe_normalized_pca: running PCA using 2000 variants.\n",
      "2020-04-24 17:20:08 Hail: INFO: pca: running PCA with 10 components...\n"
     ]
    },
    {
     "name": "stdout",
     "output_type": "stream",
     "text": [
      "PCA took s:1600, v:2000, p:10 : 6.47 seconds\n"
     ]
    },
    {
     "name": "stderr",
     "output_type": "stream",
     "text": [
      "2020-04-24 17:20:15 Hail: INFO: Wrote all 2 blocks of 2000 x 1600 matrix with block size 1600.\n",
      "2020-04-24 17:20:16 Hail: INFO: wrote matrix with 11 rows and 2000 columns as 2 blocks of size 1600 to file:/tmp/hail.GXgR4Pd2q9HV/wAA9wgg9gY.bm\n",
      "2020-04-24 17:20:16 Hail: INFO: wrote matrix with 2000 rows and 1600 columns as 2 blocks of size 1600 to file:/tmp/hail.GXgR4Pd2q9HV/v4NO11Ggar.bm\n",
      "2020-04-24 17:20:16 Hail: INFO: wrote matrix with 2000 rows and 1600 columns as 2 blocks of size 1600 to file:/tmp/hail.GXgR4Pd2q9HV/yETUkFCZzf.bm\n",
      "2020-04-24 17:20:17 Hail: INFO: wrote matrix with 1600 rows and 1600 columns as 1 block of size 1600 to file:/tmp/hail.GXgR4Pd2q9HV/wrdlj0AFYS.bm\n",
      "2020-04-24 17:20:18 Hail: INFO: wrote matrix with 1600 rows and 1600 columns as 1 block of size 1600 to file:/tmp/hail.GXgR4Pd2q9HV/fLqPHUChdI.bm\n",
      "2020-04-24 17:20:19 Hail: INFO: wrote matrix with 1600 rows and 1600 columns as 1 block of size 1600 to file:/tmp/hail.GXgR4Pd2q9HV/1BrAl8A4zL.bm\n",
      "2020-04-24 17:20:20 Hail: INFO: wrote matrix with 1600 rows and 1600 columns as 1 block of size 1600 to file:/tmp/hail.GXgR4Pd2q9HV/7wpMsqh1T3.bm\n",
      "2020-04-24 17:20:21 Hail: INFO: wrote matrix with 1600 rows and 1600 columns as 1 block of size 1600 to file:/tmp/hail.GXgR4Pd2q9HV/cR88eL2EUS.bm\n",
      "2020-04-24 17:20:22 Hail: INFO: wrote matrix with 1600 rows and 1600 columns as 1 block of size 1600 to file:/tmp/hail.GXgR4Pd2q9HV/4JuvZPYx8w.bm\n",
      "2020-04-24 17:20:23 Hail: INFO: wrote matrix with 1600 rows and 1600 columns as 1 block of size 1600 to file:/tmp/hail.GXgR4Pd2q9HV/PBZyFd4pla.bm\n",
      "2020-04-24 17:20:24 Hail: INFO: wrote matrix with 1600 rows and 1600 columns as 1 block of size 1600 to file:/tmp/hail.GXgR4Pd2q9HV/8xQ1RfrkwY.bm\n",
      "2020-04-24 17:20:25 Hail: INFO: wrote matrix with 1600 rows and 1600 columns as 1 block of size 1600 to file:/tmp/hail.GXgR4Pd2q9HV/RnrB8D5DVr.bm\n",
      "2020-04-24 17:20:27 Hail: INFO: Ordering unsorted dataset with network shuffle\n",
      "2020-04-24 17:20:38 Hail: INFO: Coerced sorted dataset\n",
      "2020-04-24 17:20:47 Hail: INFO: wrote table with 1279200 rows in 1 partition to /tmp/tmpnsgx0i9y/pc_relate_result\n"
     ]
    },
    {
     "name": "stdout",
     "output_type": "stream",
     "text": [
      "Deleting pc_relate results: /tmp/tmpnsgx0i9y/pc_relate_result\n",
      "Deleting hail tmp dir: /tmp/hail.GXgR4Pd2q9HV\n"
     ]
    },
    {
     "name": "stderr",
     "output_type": "stream",
     "text": [
      "2020-04-24 17:20:47 Hail: INFO: hwe_normalized_pca: running PCA using 2000 variants.\n",
      "2020-04-24 17:20:47 Hail: INFO: pca: running PCA with 10 components...\n"
     ]
    },
    {
     "name": "stdout",
     "output_type": "stream",
     "text": [
      "PCA took s:1800, v:2000, p:10 : 7.28 seconds\n"
     ]
    },
    {
     "name": "stderr",
     "output_type": "stream",
     "text": [
      "2020-04-24 17:20:55 Hail: INFO: Wrote all 2 blocks of 2000 x 1800 matrix with block size 1800.\n",
      "2020-04-24 17:20:56 Hail: INFO: wrote matrix with 11 rows and 2000 columns as 2 blocks of size 1800 to file:/tmp/hail.GXgR4Pd2q9HV/116AbT5QxQ.bm\n",
      "2020-04-24 17:20:56 Hail: INFO: wrote matrix with 2000 rows and 1800 columns as 2 blocks of size 1800 to file:/tmp/hail.GXgR4Pd2q9HV/efllk3sDvx.bm\n",
      "2020-04-24 17:20:56 Hail: INFO: wrote matrix with 2000 rows and 1800 columns as 2 blocks of size 1800 to file:/tmp/hail.GXgR4Pd2q9HV/rrNJgLffaO.bm\n",
      "2020-04-24 17:20:58 Hail: INFO: wrote matrix with 1800 rows and 1800 columns as 1 block of size 1800 to file:/tmp/hail.GXgR4Pd2q9HV/JOfCTdR0ms.bm\n",
      "2020-04-24 17:20:59 Hail: INFO: wrote matrix with 1800 rows and 1800 columns as 1 block of size 1800 to file:/tmp/hail.GXgR4Pd2q9HV/8nf6Up1dTI.bm\n",
      "2020-04-24 17:20:59 Hail: INFO: wrote matrix with 1800 rows and 1800 columns as 1 block of size 1800 to file:/tmp/hail.GXgR4Pd2q9HV/67udfh0N1E.bm\n",
      "2020-04-24 17:21:01 Hail: INFO: wrote matrix with 1800 rows and 1800 columns as 1 block of size 1800 to file:/tmp/hail.GXgR4Pd2q9HV/LtZnM8hQoB.bm\n",
      "2020-04-24 17:21:03 Hail: INFO: wrote matrix with 1800 rows and 1800 columns as 1 block of size 1800 to file:/tmp/hail.GXgR4Pd2q9HV/QV1NIF64pl.bm\n",
      "2020-04-24 17:21:03 Hail: INFO: wrote matrix with 1800 rows and 1800 columns as 1 block of size 1800 to file:/tmp/hail.GXgR4Pd2q9HV/TVb6HSIWqZ.bm\n",
      "2020-04-24 17:21:05 Hail: INFO: wrote matrix with 1800 rows and 1800 columns as 1 block of size 1800 to file:/tmp/hail.GXgR4Pd2q9HV/t3QsyrimkD.bm\n",
      "2020-04-24 17:21:06 Hail: INFO: wrote matrix with 1800 rows and 1800 columns as 1 block of size 1800 to file:/tmp/hail.GXgR4Pd2q9HV/RzB6jyI1TX.bm\n",
      "2020-04-24 17:21:07 Hail: INFO: wrote matrix with 1800 rows and 1800 columns as 1 block of size 1800 to file:/tmp/hail.GXgR4Pd2q9HV/IoziydVhJt.bm\n",
      "2020-04-24 17:21:09 Hail: INFO: Ordering unsorted dataset with network shuffle\n",
      "2020-04-24 17:21:23 Hail: INFO: Coerced sorted dataset\n",
      "2020-04-24 17:21:34 Hail: INFO: wrote table with 1619100 rows in 1 partition to /tmp/tmpi8rmgooz/pc_relate_result\n"
     ]
    },
    {
     "name": "stdout",
     "output_type": "stream",
     "text": [
      "Deleting pc_relate results: /tmp/tmpi8rmgooz/pc_relate_result\n",
      "Deleting hail tmp dir: /tmp/hail.GXgR4Pd2q9HV\n"
     ]
    },
    {
     "name": "stderr",
     "output_type": "stream",
     "text": [
      "2020-04-24 17:21:35 Hail: INFO: hwe_normalized_pca: running PCA using 2000 variants.\n",
      "2020-04-24 17:21:35 Hail: INFO: pca: running PCA with 10 components...\n"
     ]
    },
    {
     "name": "stdout",
     "output_type": "stream",
     "text": [
      "PCA took s:2000, v:2000, p:10 : 7.13 seconds\n"
     ]
    },
    {
     "name": "stderr",
     "output_type": "stream",
     "text": [
      "2020-04-24 17:21:43 Hail: INFO: Wrote all 1 blocks of 2000 x 2000 matrix with block size 2000.\n",
      "2020-04-24 17:21:44 Hail: INFO: wrote matrix with 11 rows and 2000 columns as 1 block of size 2000 to file:/tmp/hail.GXgR4Pd2q9HV/pifRkD2gFS.bm\n",
      "2020-04-24 17:21:44 Hail: INFO: wrote matrix with 2000 rows and 2000 columns as 1 block of size 2000 to file:/tmp/hail.GXgR4Pd2q9HV/5FXXIYO6ef.bm\n",
      "2020-04-24 17:21:44 Hail: INFO: wrote matrix with 2000 rows and 2000 columns as 1 block of size 2000 to file:/tmp/hail.GXgR4Pd2q9HV/QLT03t6lQs.bm\n",
      "2020-04-24 17:21:46 Hail: INFO: wrote matrix with 2000 rows and 2000 columns as 1 block of size 2000 to file:/tmp/hail.GXgR4Pd2q9HV/qtTE97VSYX.bm\n",
      "2020-04-24 17:21:48 Hail: INFO: wrote matrix with 2000 rows and 2000 columns as 1 block of size 2000 to file:/tmp/hail.GXgR4Pd2q9HV/emmzx2gRlh.bm\n",
      "2020-04-24 17:21:48 Hail: INFO: wrote matrix with 2000 rows and 2000 columns as 1 block of size 2000 to file:/tmp/hail.GXgR4Pd2q9HV/pzMJpu47fI.bm\n",
      "2020-04-24 17:21:50 Hail: INFO: wrote matrix with 2000 rows and 2000 columns as 1 block of size 2000 to file:/tmp/hail.GXgR4Pd2q9HV/m3D5G8F7QA.bm\n",
      "2020-04-24 17:21:52 Hail: INFO: wrote matrix with 2000 rows and 2000 columns as 1 block of size 2000 to file:/tmp/hail.GXgR4Pd2q9HV/H9PKs4FznK.bm\n",
      "2020-04-24 17:21:52 Hail: INFO: wrote matrix with 2000 rows and 2000 columns as 1 block of size 2000 to file:/tmp/hail.GXgR4Pd2q9HV/TH3MEw6IND.bm\n",
      "2020-04-24 17:21:54 Hail: INFO: wrote matrix with 2000 rows and 2000 columns as 1 block of size 2000 to file:/tmp/hail.GXgR4Pd2q9HV/JoP8e2CZa0.bm\n",
      "2020-04-24 17:21:56 Hail: INFO: wrote matrix with 2000 rows and 2000 columns as 1 block of size 2000 to file:/tmp/hail.GXgR4Pd2q9HV/v55fWvpoa4.bm\n",
      "2020-04-24 17:21:57 Hail: INFO: wrote matrix with 2000 rows and 2000 columns as 1 block of size 2000 to file:/tmp/hail.GXgR4Pd2q9HV/lZE18bJbdU.bm\n",
      "2020-04-24 17:22:00 Hail: INFO: Ordering unsorted dataset with network shuffle\n",
      "2020-04-24 17:22:18 Hail: INFO: Coerced sorted dataset\n",
      "2020-04-24 17:22:31 Hail: INFO: wrote table with 1999000 rows in 1 partition to /tmp/tmp6xux3vw5/pc_relate_result\n"
     ]
    },
    {
     "name": "stdout",
     "output_type": "stream",
     "text": [
      "Deleting pc_relate results: /tmp/tmp6xux3vw5/pc_relate_result\n",
      "Deleting hail tmp dir: /tmp/hail.GXgR4Pd2q9HV\n"
     ]
    },
    {
     "name": "stderr",
     "output_type": "stream",
     "text": [
      "2020-04-24 17:22:32 Hail: INFO: hwe_normalized_pca: running PCA using 2000 variants.\n",
      "2020-04-24 17:22:32 Hail: INFO: pca: running PCA with 10 components...\n"
     ]
    },
    {
     "name": "stdout",
     "output_type": "stream",
     "text": [
      "PCA took s:2200, v:2000, p:10 : 7.27 seconds\n"
     ]
    },
    {
     "name": "stderr",
     "output_type": "stream",
     "text": [
      "2020-04-24 17:22:41 Hail: INFO: Wrote all 1 blocks of 2000 x 2200 matrix with block size 2200.\n",
      "2020-04-24 17:22:41 Hail: INFO: wrote matrix with 11 rows and 2000 columns as 1 block of size 2200 to file:/tmp/hail.GXgR4Pd2q9HV/5EOyN5l6Pe.bm\n",
      "2020-04-24 17:22:41 Hail: INFO: wrote matrix with 2000 rows and 2200 columns as 1 block of size 2200 to file:/tmp/hail.GXgR4Pd2q9HV/eiIB8sNbOK.bm\n",
      "2020-04-24 17:22:42 Hail: INFO: wrote matrix with 2000 rows and 2200 columns as 1 block of size 2200 to file:/tmp/hail.GXgR4Pd2q9HV/k4s5eDlURc.bm\n",
      "2020-04-24 17:22:44 Hail: INFO: wrote matrix with 2200 rows and 2200 columns as 1 block of size 2200 to file:/tmp/hail.GXgR4Pd2q9HV/qc2Kyc1iqt.bm\n",
      "2020-04-24 17:22:46 Hail: INFO: wrote matrix with 2200 rows and 2200 columns as 1 block of size 2200 to file:/tmp/hail.GXgR4Pd2q9HV/3ZgsFUEin5.bm\n",
      "2020-04-24 17:22:46 Hail: INFO: wrote matrix with 2200 rows and 2200 columns as 1 block of size 2200 to file:/tmp/hail.GXgR4Pd2q9HV/poJTHpFmYP.bm\n",
      "2020-04-24 17:22:49 Hail: INFO: wrote matrix with 2200 rows and 2200 columns as 1 block of size 2200 to file:/tmp/hail.GXgR4Pd2q9HV/GidguljjLo.bm\n",
      "2020-04-24 17:22:51 Hail: INFO: wrote matrix with 2200 rows and 2200 columns as 1 block of size 2200 to file:/tmp/hail.GXgR4Pd2q9HV/OG4mgC7QGV.bm\n",
      "2020-04-24 17:22:51 Hail: INFO: wrote matrix with 2200 rows and 2200 columns as 1 block of size 2200 to file:/tmp/hail.GXgR4Pd2q9HV/yQHjZH5ioO.bm\n",
      "2020-04-24 17:22:54 Hail: INFO: wrote matrix with 2200 rows and 2200 columns as 1 block of size 2200 to file:/tmp/hail.GXgR4Pd2q9HV/KBWzCX2T4r.bm\n",
      "2020-04-24 17:22:56 Hail: INFO: wrote matrix with 2200 rows and 2200 columns as 1 block of size 2200 to file:/tmp/hail.GXgR4Pd2q9HV/KqLH0dOMOf.bm\n",
      "2020-04-24 17:22:57 Hail: INFO: wrote matrix with 2200 rows and 2200 columns as 1 block of size 2200 to file:/tmp/hail.GXgR4Pd2q9HV/l0RNqNKlwe.bm\n",
      "2020-04-24 17:23:01 Hail: INFO: Ordering unsorted dataset with network shuffle\n",
      "2020-04-24 17:23:21 Hail: INFO: Coerced sorted dataset\n",
      "2020-04-24 17:23:38 Hail: INFO: wrote table with 2418900 rows in 1 partition to /tmp/tmpi0p9lyge/pc_relate_result\n"
     ]
    },
    {
     "name": "stdout",
     "output_type": "stream",
     "text": [
      "Deleting pc_relate results: /tmp/tmpi0p9lyge/pc_relate_result\n",
      "Deleting hail tmp dir: /tmp/hail.GXgR4Pd2q9HV\n"
     ]
    },
    {
     "name": "stderr",
     "output_type": "stream",
     "text": [
      "2020-04-24 17:23:38 Hail: INFO: hwe_normalized_pca: running PCA using 2000 variants.\n",
      "2020-04-24 17:23:39 Hail: INFO: pca: running PCA with 10 components...\n"
     ]
    },
    {
     "name": "stdout",
     "output_type": "stream",
     "text": [
      "PCA took s:2400, v:2000, p:10 : 8.41 seconds\n"
     ]
    },
    {
     "name": "stderr",
     "output_type": "stream",
     "text": [
      "2020-04-24 17:23:48 Hail: INFO: Wrote all 1 blocks of 2000 x 2400 matrix with block size 2400.\n",
      "2020-04-24 17:23:49 Hail: INFO: wrote matrix with 11 rows and 2000 columns as 1 block of size 2400 to file:/tmp/hail.GXgR4Pd2q9HV/kmiOQoY3Eb.bm\n",
      "2020-04-24 17:23:49 Hail: INFO: wrote matrix with 2000 rows and 2400 columns as 1 block of size 2400 to file:/tmp/hail.GXgR4Pd2q9HV/XnUShfwiqA.bm\n",
      "2020-04-24 17:23:49 Hail: INFO: wrote matrix with 2000 rows and 2400 columns as 1 block of size 2400 to file:/tmp/hail.GXgR4Pd2q9HV/xYPmCb2ir1.bm\n",
      "2020-04-24 17:23:52 Hail: INFO: wrote matrix with 2400 rows and 2400 columns as 1 block of size 2400 to file:/tmp/hail.GXgR4Pd2q9HV/jZ0Rbyy504.bm\n",
      "2020-04-24 17:23:54 Hail: INFO: wrote matrix with 2400 rows and 2400 columns as 1 block of size 2400 to file:/tmp/hail.GXgR4Pd2q9HV/XcrCyhkhzb.bm\n",
      "2020-04-24 17:23:54 Hail: INFO: wrote matrix with 2400 rows and 2400 columns as 1 block of size 2400 to file:/tmp/hail.GXgR4Pd2q9HV/cKe3CBTuKc.bm\n",
      "2020-04-24 17:23:58 Hail: INFO: wrote matrix with 2400 rows and 2400 columns as 1 block of size 2400 to file:/tmp/hail.GXgR4Pd2q9HV/rN26HbyWVj.bm\n",
      "2020-04-24 17:24:00 Hail: INFO: wrote matrix with 2400 rows and 2400 columns as 1 block of size 2400 to file:/tmp/hail.GXgR4Pd2q9HV/vpVLpwYlF1.bm\n",
      "2020-04-24 17:24:00 Hail: INFO: wrote matrix with 2400 rows and 2400 columns as 1 block of size 2400 to file:/tmp/hail.GXgR4Pd2q9HV/8hC1zJb5Mu.bm\n",
      "2020-04-24 17:24:03 Hail: INFO: wrote matrix with 2400 rows and 2400 columns as 1 block of size 2400 to file:/tmp/hail.GXgR4Pd2q9HV/f9EsNTz0Ti.bm\n",
      "2020-04-24 17:24:06 Hail: INFO: wrote matrix with 2400 rows and 2400 columns as 1 block of size 2400 to file:/tmp/hail.GXgR4Pd2q9HV/8Skp6MlReM.bm\n",
      "2020-04-24 17:24:07 Hail: INFO: wrote matrix with 2400 rows and 2400 columns as 1 block of size 2400 to file:/tmp/hail.GXgR4Pd2q9HV/FsPMcTRfFO.bm\n",
      "2020-04-24 17:24:12 Hail: INFO: Ordering unsorted dataset with network shuffle\n",
      "2020-04-24 17:24:36 Hail: INFO: Coerced sorted dataset\n",
      "2020-04-24 17:24:56 Hail: INFO: wrote table with 2878800 rows in 1 partition to /tmp/tmpb2svx1z5/pc_relate_result\n"
     ]
    },
    {
     "name": "stdout",
     "output_type": "stream",
     "text": [
      "Deleting pc_relate results: /tmp/tmpb2svx1z5/pc_relate_result\n",
      "Deleting hail tmp dir: /tmp/hail.GXgR4Pd2q9HV\n"
     ]
    },
    {
     "name": "stderr",
     "output_type": "stream",
     "text": [
      "2020-04-24 17:24:56 Hail: INFO: hwe_normalized_pca: running PCA using 2000 variants.\n",
      "2020-04-24 17:24:57 Hail: INFO: pca: running PCA with 10 components...\n"
     ]
    },
    {
     "name": "stdout",
     "output_type": "stream",
     "text": [
      "PCA took s:2600, v:2000, p:10 : 5.78 seconds\n"
     ]
    },
    {
     "name": "stderr",
     "output_type": "stream",
     "text": [
      "2020-04-24 17:25:03 Hail: INFO: Wrote all 1 blocks of 2000 x 2600 matrix with block size 2600.\n",
      "2020-04-24 17:25:04 Hail: INFO: wrote matrix with 11 rows and 2000 columns as 1 block of size 2600 to file:/tmp/hail.GXgR4Pd2q9HV/6oLj6ZEHd5.bm\n",
      "2020-04-24 17:25:04 Hail: INFO: wrote matrix with 2000 rows and 2600 columns as 1 block of size 2600 to file:/tmp/hail.GXgR4Pd2q9HV/VwaUc04kf9.bm\n",
      "2020-04-24 17:25:05 Hail: INFO: wrote matrix with 2000 rows and 2600 columns as 1 block of size 2600 to file:/tmp/hail.GXgR4Pd2q9HV/jhEKkHnMHT.bm\n",
      "2020-04-24 17:25:08 Hail: INFO: wrote matrix with 2600 rows and 2600 columns as 1 block of size 2600 to file:/tmp/hail.GXgR4Pd2q9HV/djSimXPMbP.bm\n",
      "2020-04-24 17:25:10 Hail: INFO: wrote matrix with 2600 rows and 2600 columns as 1 block of size 2600 to file:/tmp/hail.GXgR4Pd2q9HV/BmizXkfyCE.bm\n",
      "2020-04-24 17:25:11 Hail: INFO: wrote matrix with 2600 rows and 2600 columns as 1 block of size 2600 to file:/tmp/hail.GXgR4Pd2q9HV/L7uK7ZF5ze.bm\n",
      "2020-04-24 17:25:15 Hail: INFO: wrote matrix with 2600 rows and 2600 columns as 1 block of size 2600 to file:/tmp/hail.GXgR4Pd2q9HV/W4tOhCYKEb.bm\n",
      "2020-04-24 17:25:17 Hail: INFO: wrote matrix with 2600 rows and 2600 columns as 1 block of size 2600 to file:/tmp/hail.GXgR4Pd2q9HV/ghM6oYh4mX.bm\n",
      "2020-04-24 17:25:18 Hail: INFO: wrote matrix with 2600 rows and 2600 columns as 1 block of size 2600 to file:/tmp/hail.GXgR4Pd2q9HV/U90RFCmDoa.bm\n",
      "2020-04-24 17:25:21 Hail: INFO: wrote matrix with 2600 rows and 2600 columns as 1 block of size 2600 to file:/tmp/hail.GXgR4Pd2q9HV/lTqpaczM0Q.bm\n",
      "2020-04-24 17:25:24 Hail: INFO: wrote matrix with 2600 rows and 2600 columns as 1 block of size 2600 to file:/tmp/hail.GXgR4Pd2q9HV/iFslqoM6b5.bm\n",
      "2020-04-24 17:25:25 Hail: INFO: wrote matrix with 2600 rows and 2600 columns as 1 block of size 2600 to file:/tmp/hail.GXgR4Pd2q9HV/wNCxXtYrAT.bm\n",
      "2020-04-24 17:25:31 Hail: INFO: Ordering unsorted dataset with network shuffle\n",
      "2020-04-24 17:25:59 Hail: INFO: Coerced sorted dataset\n",
      "2020-04-24 17:26:23 Hail: INFO: wrote table with 3378700 rows in 1 partition to /tmp/tmpiifidlo1/pc_relate_result\n"
     ]
    },
    {
     "name": "stdout",
     "output_type": "stream",
     "text": [
      "Deleting pc_relate results: /tmp/tmpiifidlo1/pc_relate_result\n",
      "Deleting hail tmp dir: /tmp/hail.GXgR4Pd2q9HV\n"
     ]
    },
    {
     "name": "stderr",
     "output_type": "stream",
     "text": [
      "2020-04-24 17:26:24 Hail: INFO: hwe_normalized_pca: running PCA using 2000 variants.\n",
      "2020-04-24 17:26:24 Hail: INFO: pca: running PCA with 10 components...\n"
     ]
    },
    {
     "name": "stdout",
     "output_type": "stream",
     "text": [
      "PCA took s:2800, v:2000, p:10 : 8.34 seconds\n"
     ]
    },
    {
     "name": "stderr",
     "output_type": "stream",
     "text": [
      "2020-04-24 17:26:34 Hail: INFO: Wrote all 1 blocks of 2000 x 2800 matrix with block size 2800.\n",
      "2020-04-24 17:26:34 Hail: INFO: wrote matrix with 11 rows and 2000 columns as 1 block of size 2800 to file:/tmp/hail.GXgR4Pd2q9HV/g0pk9JDg4T.bm\n",
      "2020-04-24 17:26:35 Hail: INFO: wrote matrix with 2000 rows and 2800 columns as 1 block of size 2800 to file:/tmp/hail.GXgR4Pd2q9HV/iYQOpsjNrW.bm\n",
      "2020-04-24 17:26:35 Hail: INFO: wrote matrix with 2000 rows and 2800 columns as 1 block of size 2800 to file:/tmp/hail.GXgR4Pd2q9HV/dxxjtQpmul.bm\n",
      "2020-04-24 17:26:38 Hail: INFO: wrote matrix with 2800 rows and 2800 columns as 1 block of size 2800 to file:/tmp/hail.GXgR4Pd2q9HV/fYVpc7Iawj.bm\n",
      "2020-04-24 17:26:42 Hail: INFO: wrote matrix with 2800 rows and 2800 columns as 1 block of size 2800 to file:/tmp/hail.GXgR4Pd2q9HV/fbSYSfmLty.bm\n",
      "2020-04-24 17:26:42 Hail: INFO: wrote matrix with 2800 rows and 2800 columns as 1 block of size 2800 to file:/tmp/hail.GXgR4Pd2q9HV/LCnXUg6oHX.bm\n",
      "2020-04-24 17:26:46 Hail: INFO: wrote matrix with 2800 rows and 2800 columns as 1 block of size 2800 to file:/tmp/hail.GXgR4Pd2q9HV/6XlCmjaYYL.bm\n",
      "2020-04-24 17:26:49 Hail: INFO: wrote matrix with 2800 rows and 2800 columns as 1 block of size 2800 to file:/tmp/hail.GXgR4Pd2q9HV/xsTu7cvEMN.bm\n",
      "2020-04-24 17:26:50 Hail: INFO: wrote matrix with 2800 rows and 2800 columns as 1 block of size 2800 to file:/tmp/hail.GXgR4Pd2q9HV/A7rwoXwhOb.bm\n",
      "2020-04-24 17:26:53 Hail: INFO: wrote matrix with 2800 rows and 2800 columns as 1 block of size 2800 to file:/tmp/hail.GXgR4Pd2q9HV/ze92piuVo2.bm\n",
      "2020-04-24 17:26:57 Hail: INFO: wrote matrix with 2800 rows and 2800 columns as 1 block of size 2800 to file:/tmp/hail.GXgR4Pd2q9HV/teQrkU6nGZ.bm\n",
      "2020-04-24 17:26:58 Hail: INFO: wrote matrix with 2800 rows and 2800 columns as 1 block of size 2800 to file:/tmp/hail.GXgR4Pd2q9HV/SKoLE7wKWX.bm\n",
      "2020-04-24 17:27:10 Hail: INFO: Ordering unsorted dataset with network shuffle\n",
      "2020-04-24 17:27:42 Hail: INFO: Coerced sorted dataset\n",
      "2020-04-24 17:28:09 Hail: INFO: wrote table with 3918600 rows in 1 partition to /tmp/tmp20w_0yg4/pc_relate_result\n"
     ]
    },
    {
     "name": "stdout",
     "output_type": "stream",
     "text": [
      "Deleting pc_relate results: /tmp/tmp20w_0yg4/pc_relate_result\n",
      "Deleting hail tmp dir: /tmp/hail.GXgR4Pd2q9HV\n"
     ]
    },
    {
     "name": "stderr",
     "output_type": "stream",
     "text": [
      "2020-04-24 17:28:09 Hail: INFO: hwe_normalized_pca: running PCA using 2000 variants.\n",
      "2020-04-24 17:28:10 Hail: INFO: pca: running PCA with 10 components...\n"
     ]
    },
    {
     "name": "stdout",
     "output_type": "stream",
     "text": [
      "PCA took s:3000, v:2000, p:10 : 9.65 seconds\n"
     ]
    },
    {
     "name": "stderr",
     "output_type": "stream",
     "text": [
      "2020-04-24 17:28:21 Hail: INFO: Wrote all 1 blocks of 2000 x 3000 matrix with block size 3000.\n",
      "2020-04-24 17:28:22 Hail: INFO: wrote matrix with 11 rows and 2000 columns as 1 block of size 3000 to file:/tmp/hail.GXgR4Pd2q9HV/4fWJgn8B8O.bm\n",
      "2020-04-24 17:28:22 Hail: INFO: wrote matrix with 2000 rows and 3000 columns as 1 block of size 3000 to file:/tmp/hail.GXgR4Pd2q9HV/T9L5kE1aAe.bm\n",
      "2020-04-24 17:28:22 Hail: INFO: wrote matrix with 2000 rows and 3000 columns as 1 block of size 3000 to file:/tmp/hail.GXgR4Pd2q9HV/AtVeqTRnEJ.bm\n",
      "2020-04-24 17:28:26 Hail: INFO: wrote matrix with 3000 rows and 3000 columns as 1 block of size 3000 to file:/tmp/hail.GXgR4Pd2q9HV/j8us46VfXK.bm\n",
      "2020-04-24 17:28:30 Hail: INFO: wrote matrix with 3000 rows and 3000 columns as 1 block of size 3000 to file:/tmp/hail.GXgR4Pd2q9HV/aABX6oHAOQ.bm\n",
      "2020-04-24 17:28:30 Hail: INFO: wrote matrix with 3000 rows and 3000 columns as 1 block of size 3000 to file:/tmp/hail.GXgR4Pd2q9HV/C5OJTKqqZp.bm\n",
      "2020-04-24 17:28:35 Hail: INFO: wrote matrix with 3000 rows and 3000 columns as 1 block of size 3000 to file:/tmp/hail.GXgR4Pd2q9HV/xNNYxNNclf.bm\n",
      "2020-04-24 17:28:39 Hail: INFO: wrote matrix with 3000 rows and 3000 columns as 1 block of size 3000 to file:/tmp/hail.GXgR4Pd2q9HV/2Ljwlh4Ai0.bm\n",
      "2020-04-24 17:28:39 Hail: INFO: wrote matrix with 3000 rows and 3000 columns as 1 block of size 3000 to file:/tmp/hail.GXgR4Pd2q9HV/I0cDC1skrT.bm\n",
      "2020-04-24 17:28:43 Hail: INFO: wrote matrix with 3000 rows and 3000 columns as 1 block of size 3000 to file:/tmp/hail.GXgR4Pd2q9HV/pFCEvYY3L4.bm\n",
      "2020-04-24 17:28:48 Hail: INFO: wrote matrix with 3000 rows and 3000 columns as 1 block of size 3000 to file:/tmp/hail.GXgR4Pd2q9HV/9fR9PRtpI5.bm\n",
      "2020-04-24 17:28:48 Hail: INFO: wrote matrix with 3000 rows and 3000 columns as 1 block of size 3000 to file:/tmp/hail.GXgR4Pd2q9HV/2cevKCKroi.bm\n",
      "2020-04-24 17:28:56 Hail: INFO: Ordering unsorted dataset with network shuffle\n",
      "2020-04-24 17:29:34 Hail: INFO: Coerced sorted dataset\n",
      "2020-04-24 17:30:07 Hail: INFO: wrote table with 4498500 rows in 1 partition to /tmp/tmp3jsfwgvh/pc_relate_result\n"
     ]
    },
    {
     "name": "stdout",
     "output_type": "stream",
     "text": [
      "Deleting pc_relate results: /tmp/tmp3jsfwgvh/pc_relate_result\n",
      "Deleting hail tmp dir: /tmp/hail.GXgR4Pd2q9HV\n"
     ]
    },
    {
     "name": "stderr",
     "output_type": "stream",
     "text": [
      "2020-04-24 17:30:07 Hail: INFO: hwe_normalized_pca: running PCA using 2000 variants.\n",
      "2020-04-24 17:30:08 Hail: INFO: pca: running PCA with 10 components...\n"
     ]
    },
    {
     "name": "stdout",
     "output_type": "stream",
     "text": [
      "PCA took s:3200, v:2000, p:10 : 7.71 seconds\n"
     ]
    },
    {
     "name": "stderr",
     "output_type": "stream",
     "text": [
      "2020-04-24 17:30:17 Hail: INFO: Wrote all 1 blocks of 2000 x 3200 matrix with block size 3200.\n",
      "2020-04-24 17:30:17 Hail: INFO: wrote matrix with 11 rows and 2000 columns as 1 block of size 3200 to file:/tmp/hail.GXgR4Pd2q9HV/kaJ3pJQ6jC.bm\n",
      "2020-04-24 17:30:18 Hail: INFO: wrote matrix with 2000 rows and 3200 columns as 1 block of size 3200 to file:/tmp/hail.GXgR4Pd2q9HV/c43V6BBk9V.bm\n",
      "2020-04-24 17:30:18 Hail: INFO: wrote matrix with 2000 rows and 3200 columns as 1 block of size 3200 to file:/tmp/hail.GXgR4Pd2q9HV/RLb83Wrif6.bm\n",
      "2020-04-24 17:30:22 Hail: INFO: wrote matrix with 3200 rows and 3200 columns as 1 block of size 3200 to file:/tmp/hail.GXgR4Pd2q9HV/uVEC93nnDg.bm\n",
      "2020-04-24 17:30:27 Hail: INFO: wrote matrix with 3200 rows and 3200 columns as 1 block of size 3200 to file:/tmp/hail.GXgR4Pd2q9HV/dwwnCsOI5m.bm\n",
      "2020-04-24 17:30:27 Hail: INFO: wrote matrix with 3200 rows and 3200 columns as 1 block of size 3200 to file:/tmp/hail.GXgR4Pd2q9HV/inneUu2reb.bm\n",
      "2020-04-24 17:30:33 Hail: INFO: wrote matrix with 3200 rows and 3200 columns as 1 block of size 3200 to file:/tmp/hail.GXgR4Pd2q9HV/JQsP2mZJH2.bm\n",
      "2020-04-24 17:30:37 Hail: INFO: wrote matrix with 3200 rows and 3200 columns as 1 block of size 3200 to file:/tmp/hail.GXgR4Pd2q9HV/aqfIBeSPhd.bm\n",
      "2020-04-24 17:30:37 Hail: INFO: wrote matrix with 3200 rows and 3200 columns as 1 block of size 3200 to file:/tmp/hail.GXgR4Pd2q9HV/jIpzVpTTLa.bm\n",
      "2020-04-24 17:30:42 Hail: INFO: wrote matrix with 3200 rows and 3200 columns as 1 block of size 3200 to file:/tmp/hail.GXgR4Pd2q9HV/cXG6VzsbG3.bm\n",
      "2020-04-24 17:30:47 Hail: INFO: wrote matrix with 3200 rows and 3200 columns as 1 block of size 3200 to file:/tmp/hail.GXgR4Pd2q9HV/o5biaK7725.bm\n",
      "2020-04-24 17:30:48 Hail: INFO: wrote matrix with 3200 rows and 3200 columns as 1 block of size 3200 to file:/tmp/hail.GXgR4Pd2q9HV/RUQoGRSmww.bm\n",
      "2020-04-24 17:30:57 Hail: INFO: Ordering unsorted dataset with network shuffle\n",
      "2020-04-24 17:31:40 Hail: INFO: Coerced sorted dataset\n",
      "2020-04-24 17:32:15 Hail: INFO: wrote table with 5118400 rows in 1 partition to /tmp/tmpikwchuq_/pc_relate_result\n"
     ]
    },
    {
     "name": "stdout",
     "output_type": "stream",
     "text": [
      "Deleting pc_relate results: /tmp/tmpikwchuq_/pc_relate_result\n",
      "Deleting hail tmp dir: /tmp/hail.GXgR4Pd2q9HV\n"
     ]
    },
    {
     "name": "stderr",
     "output_type": "stream",
     "text": [
      "2020-04-24 17:32:16 Hail: INFO: hwe_normalized_pca: running PCA using 2000 variants.\n",
      "2020-04-24 17:32:17 Hail: INFO: pca: running PCA with 10 components...\n"
     ]
    },
    {
     "name": "stdout",
     "output_type": "stream",
     "text": [
      "PCA took s:3400, v:2000, p:10 : 7.19 seconds\n"
     ]
    },
    {
     "name": "stderr",
     "output_type": "stream",
     "text": [
      "2020-04-24 17:32:25 Hail: INFO: Wrote all 1 blocks of 2000 x 3400 matrix with block size 3400.\n",
      "2020-04-24 17:32:26 Hail: INFO: wrote matrix with 11 rows and 2000 columns as 1 block of size 3400 to file:/tmp/hail.GXgR4Pd2q9HV/vLf88PakPS.bm\n",
      "2020-04-24 17:32:26 Hail: INFO: wrote matrix with 2000 rows and 3400 columns as 1 block of size 3400 to file:/tmp/hail.GXgR4Pd2q9HV/3YsqPRd7wg.bm\n",
      "2020-04-24 17:32:26 Hail: INFO: wrote matrix with 2000 rows and 3400 columns as 1 block of size 3400 to file:/tmp/hail.GXgR4Pd2q9HV/WGYhzCOxzP.bm\n",
      "2020-04-24 17:32:32 Hail: INFO: wrote matrix with 3400 rows and 3400 columns as 1 block of size 3400 to file:/tmp/hail.GXgR4Pd2q9HV/GtfzjZGSDH.bm\n",
      "2020-04-24 17:32:36 Hail: INFO: wrote matrix with 3400 rows and 3400 columns as 1 block of size 3400 to file:/tmp/hail.GXgR4Pd2q9HV/5532UErBsc.bm\n",
      "2020-04-24 17:32:37 Hail: INFO: wrote matrix with 3400 rows and 3400 columns as 1 block of size 3400 to file:/tmp/hail.GXgR4Pd2q9HV/JMqggjXdhB.bm\n",
      "2020-04-24 17:32:43 Hail: INFO: wrote matrix with 3400 rows and 3400 columns as 1 block of size 3400 to file:/tmp/hail.GXgR4Pd2q9HV/5jfTmeThy4.bm\n",
      "2020-04-24 17:32:47 Hail: INFO: wrote matrix with 3400 rows and 3400 columns as 1 block of size 3400 to file:/tmp/hail.GXgR4Pd2q9HV/jNHCjMruqo.bm\n",
      "2020-04-24 17:32:48 Hail: INFO: wrote matrix with 3400 rows and 3400 columns as 1 block of size 3400 to file:/tmp/hail.GXgR4Pd2q9HV/4j0yMve4fV.bm\n",
      "2020-04-24 17:32:53 Hail: INFO: wrote matrix with 3400 rows and 3400 columns as 1 block of size 3400 to file:/tmp/hail.GXgR4Pd2q9HV/W6fhLmdLCV.bm\n",
      "2020-04-24 17:32:59 Hail: INFO: wrote matrix with 3400 rows and 3400 columns as 1 block of size 3400 to file:/tmp/hail.GXgR4Pd2q9HV/Vh65fJBjZn.bm\n",
      "2020-04-24 17:33:00 Hail: INFO: wrote matrix with 3400 rows and 3400 columns as 1 block of size 3400 to file:/tmp/hail.GXgR4Pd2q9HV/vCpsdZbsz5.bm\n",
      "2020-04-24 17:33:10 Hail: INFO: Ordering unsorted dataset with network shuffle\n",
      "2020-04-24 17:33:58 Hail: INFO: Coerced sorted dataset\n",
      "2020-04-24 17:34:38 Hail: INFO: wrote table with 5778300 rows in 1 partition to /tmp/tmpd7i0_xt2/pc_relate_result\n"
     ]
    },
    {
     "name": "stdout",
     "output_type": "stream",
     "text": [
      "Deleting pc_relate results: /tmp/tmpd7i0_xt2/pc_relate_result\n",
      "Deleting hail tmp dir: /tmp/hail.GXgR4Pd2q9HV\n"
     ]
    },
    {
     "name": "stderr",
     "output_type": "stream",
     "text": [
      "2020-04-24 17:34:38 Hail: INFO: hwe_normalized_pca: running PCA using 2000 variants.\n",
      "2020-04-24 17:34:39 Hail: INFO: pca: running PCA with 10 components...\n"
     ]
    },
    {
     "name": "stdout",
     "output_type": "stream",
     "text": [
      "PCA took s:3600, v:2000, p:10 : 9.57 seconds\n"
     ]
    },
    {
     "name": "stderr",
     "output_type": "stream",
     "text": [
      "2020-04-24 17:34:50 Hail: INFO: Wrote all 1 blocks of 2000 x 3600 matrix with block size 3600.\n",
      "2020-04-24 17:34:51 Hail: INFO: wrote matrix with 11 rows and 2000 columns as 1 block of size 3600 to file:/tmp/hail.GXgR4Pd2q9HV/d7L0VaxcJc.bm\n",
      "2020-04-24 17:34:51 Hail: INFO: wrote matrix with 2000 rows and 3600 columns as 1 block of size 3600 to file:/tmp/hail.GXgR4Pd2q9HV/UZMJJwshhP.bm\n",
      "2020-04-24 17:34:52 Hail: INFO: wrote matrix with 2000 rows and 3600 columns as 1 block of size 3600 to file:/tmp/hail.GXgR4Pd2q9HV/HZebpWekkS.bm\n",
      "2020-04-24 17:34:57 Hail: INFO: wrote matrix with 3600 rows and 3600 columns as 1 block of size 3600 to file:/tmp/hail.GXgR4Pd2q9HV/U6ovfHeayr.bm\n",
      "2020-04-24 17:35:03 Hail: INFO: wrote matrix with 3600 rows and 3600 columns as 1 block of size 3600 to file:/tmp/hail.GXgR4Pd2q9HV/HJw1HJftqF.bm\n",
      "2020-04-24 17:35:03 Hail: INFO: wrote matrix with 3600 rows and 3600 columns as 1 block of size 3600 to file:/tmp/hail.GXgR4Pd2q9HV/HHzMirqdnk.bm\n",
      "2020-04-24 17:35:10 Hail: INFO: wrote matrix with 3600 rows and 3600 columns as 1 block of size 3600 to file:/tmp/hail.GXgR4Pd2q9HV/NKOTQgkPVh.bm\n",
      "2020-04-24 17:35:15 Hail: INFO: wrote matrix with 3600 rows and 3600 columns as 1 block of size 3600 to file:/tmp/hail.GXgR4Pd2q9HV/5RbcdCOQ1t.bm\n",
      "2020-04-24 17:35:15 Hail: INFO: wrote matrix with 3600 rows and 3600 columns as 1 block of size 3600 to file:/tmp/hail.GXgR4Pd2q9HV/xskMe4ymrF.bm\n",
      "2020-04-24 17:35:22 Hail: INFO: wrote matrix with 3600 rows and 3600 columns as 1 block of size 3600 to file:/tmp/hail.GXgR4Pd2q9HV/uYRnhJ49G9.bm\n",
      "2020-04-24 17:35:27 Hail: INFO: wrote matrix with 3600 rows and 3600 columns as 1 block of size 3600 to file:/tmp/hail.GXgR4Pd2q9HV/kb2OCJ3ja3.bm\n",
      "2020-04-24 17:35:29 Hail: INFO: wrote matrix with 3600 rows and 3600 columns as 1 block of size 3600 to file:/tmp/hail.GXgR4Pd2q9HV/09Kyl1N6Sf.bm\n",
      "2020-04-24 17:35:40 Hail: INFO: Ordering unsorted dataset with network shuffle\n",
      "2020-04-24 17:36:35 Hail: INFO: Coerced sorted dataset\n",
      "2020-04-24 17:37:17 Hail: INFO: wrote table with 6478200 rows in 1 partition to /tmp/tmp8_omavwj/pc_relate_result\n"
     ]
    },
    {
     "name": "stdout",
     "output_type": "stream",
     "text": [
      "Deleting pc_relate results: /tmp/tmp8_omavwj/pc_relate_result\n",
      "Deleting hail tmp dir: /tmp/hail.GXgR4Pd2q9HV\n"
     ]
    },
    {
     "name": "stderr",
     "output_type": "stream",
     "text": [
      "2020-04-24 17:37:18 Hail: INFO: hwe_normalized_pca: running PCA using 2000 variants.\n",
      "2020-04-24 17:37:19 Hail: INFO: pca: running PCA with 10 components...\n"
     ]
    },
    {
     "name": "stdout",
     "output_type": "stream",
     "text": [
      "PCA took s:3800, v:2000, p:10 : 8.83 seconds\n"
     ]
    },
    {
     "name": "stderr",
     "output_type": "stream",
     "text": [
      "2020-04-24 17:37:29 Hail: INFO: Wrote all 1 blocks of 2000 x 3800 matrix with block size 3800.\n",
      "2020-04-24 17:37:30 Hail: INFO: wrote matrix with 11 rows and 2000 columns as 1 block of size 3800 to file:/tmp/hail.GXgR4Pd2q9HV/qsnr9bkWqJ.bm\n",
      "2020-04-24 17:37:30 Hail: INFO: wrote matrix with 2000 rows and 3800 columns as 1 block of size 3800 to file:/tmp/hail.GXgR4Pd2q9HV/FneRxO9coW.bm\n",
      "2020-04-24 17:37:31 Hail: INFO: wrote matrix with 2000 rows and 3800 columns as 1 block of size 3800 to file:/tmp/hail.GXgR4Pd2q9HV/K42H0px4T5.bm\n",
      "2020-04-24 17:37:37 Hail: INFO: wrote matrix with 3800 rows and 3800 columns as 1 block of size 3800 to file:/tmp/hail.GXgR4Pd2q9HV/aGpvZ4yYQ5.bm\n",
      "2020-04-24 17:37:43 Hail: INFO: wrote matrix with 3800 rows and 3800 columns as 1 block of size 3800 to file:/tmp/hail.GXgR4Pd2q9HV/l58H7yBACG.bm\n",
      "2020-04-24 17:37:43 Hail: INFO: wrote matrix with 3800 rows and 3800 columns as 1 block of size 3800 to file:/tmp/hail.GXgR4Pd2q9HV/IARGPn95qL.bm\n",
      "2020-04-24 17:37:51 Hail: INFO: wrote matrix with 3800 rows and 3800 columns as 1 block of size 3800 to file:/tmp/hail.GXgR4Pd2q9HV/l8b6p6c6Fs.bm\n",
      "2020-04-24 17:37:57 Hail: INFO: wrote matrix with 3800 rows and 3800 columns as 1 block of size 3800 to file:/tmp/hail.GXgR4Pd2q9HV/3lIEC0cKjW.bm\n",
      "2020-04-24 17:37:57 Hail: INFO: wrote matrix with 3800 rows and 3800 columns as 1 block of size 3800 to file:/tmp/hail.GXgR4Pd2q9HV/3pnn9fzmPe.bm\n",
      "2020-04-24 17:38:04 Hail: INFO: wrote matrix with 3800 rows and 3800 columns as 1 block of size 3800 to file:/tmp/hail.GXgR4Pd2q9HV/NpEeDAZn47.bm\n",
      "2020-04-24 17:38:10 Hail: INFO: wrote matrix with 3800 rows and 3800 columns as 1 block of size 3800 to file:/tmp/hail.GXgR4Pd2q9HV/PjfO7W6R1X.bm\n",
      "2020-04-24 17:38:12 Hail: INFO: wrote matrix with 3800 rows and 3800 columns as 1 block of size 3800 to file:/tmp/hail.GXgR4Pd2q9HV/Xbm0VOEu7X.bm\n",
      "2020-04-24 17:38:24 Hail: INFO: Ordering unsorted dataset with network shuffle\n",
      "2020-04-24 17:39:25 Hail: INFO: Coerced sorted dataset\n",
      "2020-04-24 17:40:17 Hail: INFO: wrote table with 7218100 rows in 1 partition to /tmp/tmpy35tkfij/pc_relate_result\n"
     ]
    },
    {
     "name": "stdout",
     "output_type": "stream",
     "text": [
      "Deleting pc_relate results: /tmp/tmpy35tkfij/pc_relate_result\n",
      "Deleting hail tmp dir: /tmp/hail.GXgR4Pd2q9HV\n"
     ]
    },
    {
     "name": "stderr",
     "output_type": "stream",
     "text": [
      "2020-04-24 17:40:18 Hail: INFO: hwe_normalized_pca: running PCA using 2000 variants.\n",
      "2020-04-24 17:40:19 Hail: INFO: pca: running PCA with 10 components...\n"
     ]
    },
    {
     "name": "stdout",
     "output_type": "stream",
     "text": [
      "PCA took s:4000, v:2000, p:10 : 9.03 seconds\n"
     ]
    },
    {
     "name": "stderr",
     "output_type": "stream",
     "text": [
      "2020-04-24 17:40:29 Hail: INFO: Wrote all 1 blocks of 2000 x 4000 matrix with block size 4000.\n",
      "2020-04-24 17:40:30 Hail: INFO: wrote matrix with 11 rows and 2000 columns as 1 block of size 4000 to file:/tmp/hail.GXgR4Pd2q9HV/7X8ahz1zVk.bm\n",
      "2020-04-24 17:40:31 Hail: INFO: wrote matrix with 2000 rows and 4000 columns as 1 block of size 4000 to file:/tmp/hail.GXgR4Pd2q9HV/0JqWMbYTwp.bm\n",
      "2020-04-24 17:40:31 Hail: INFO: wrote matrix with 2000 rows and 4000 columns as 1 block of size 4000 to file:/tmp/hail.GXgR4Pd2q9HV/KK2OO8njzj.bm\n",
      "2020-04-24 17:40:38 Hail: INFO: wrote matrix with 4000 rows and 4000 columns as 1 block of size 4000 to file:/tmp/hail.GXgR4Pd2q9HV/tGBZxiGXti.bm\n",
      "2020-04-24 17:40:45 Hail: INFO: wrote matrix with 4000 rows and 4000 columns as 1 block of size 4000 to file:/tmp/hail.GXgR4Pd2q9HV/pcbOzCY5WY.bm\n",
      "2020-04-24 17:40:46 Hail: INFO: wrote matrix with 4000 rows and 4000 columns as 1 block of size 4000 to file:/tmp/hail.GXgR4Pd2q9HV/5ujnaDxUeW.bm\n",
      "2020-04-24 17:40:53 Hail: INFO: wrote matrix with 4000 rows and 4000 columns as 1 block of size 4000 to file:/tmp/hail.GXgR4Pd2q9HV/UgY4V0Kf74.bm\n",
      "2020-04-24 17:41:00 Hail: INFO: wrote matrix with 4000 rows and 4000 columns as 1 block of size 4000 to file:/tmp/hail.GXgR4Pd2q9HV/7X93QwpPOL.bm\n",
      "2020-04-24 17:41:01 Hail: INFO: wrote matrix with 4000 rows and 4000 columns as 1 block of size 4000 to file:/tmp/hail.GXgR4Pd2q9HV/eqevbgw3Vm.bm\n",
      "2020-04-24 17:41:08 Hail: INFO: wrote matrix with 4000 rows and 4000 columns as 1 block of size 4000 to file:/tmp/hail.GXgR4Pd2q9HV/L6m7FgdS55.bm\n",
      "2020-04-24 17:41:15 Hail: INFO: wrote matrix with 4000 rows and 4000 columns as 1 block of size 4000 to file:/tmp/hail.GXgR4Pd2q9HV/xJmuZBEBJp.bm\n",
      "2020-04-24 17:41:17 Hail: INFO: wrote matrix with 4000 rows and 4000 columns as 1 block of size 4000 to file:/tmp/hail.GXgR4Pd2q9HV/lWGh0qMRmH.bm\n",
      "2020-04-24 17:41:31 Hail: INFO: Ordering unsorted dataset with network shuffle\n",
      "2020-04-24 17:42:40 Hail: INFO: Coerced sorted dataset\n",
      "2020-04-24 17:43:35 Hail: INFO: wrote table with 7998000 rows in 1 partition to /tmp/tmp026lzc8g/pc_relate_result\n"
     ]
    },
    {
     "name": "stdout",
     "output_type": "stream",
     "text": [
      "Deleting pc_relate results: /tmp/tmp026lzc8g/pc_relate_result\n",
      "Deleting hail tmp dir: /tmp/hail.GXgR4Pd2q9HV\n"
     ]
    },
    {
     "name": "stderr",
     "output_type": "stream",
     "text": [
      "2020-04-24 17:43:35 Hail: INFO: hwe_normalized_pca: running PCA using 2000 variants.\n",
      "2020-04-24 17:43:36 Hail: INFO: pca: running PCA with 10 components...\n"
     ]
    },
    {
     "name": "stdout",
     "output_type": "stream",
     "text": [
      "PCA took s:4200, v:2000, p:10 : 9.57 seconds\n"
     ]
    },
    {
     "name": "stderr",
     "output_type": "stream",
     "text": [
      "2020-04-24 17:43:47 Hail: INFO: Wrote all 1 blocks of 2000 x 4200 matrix with block size 4200.\n",
      "2020-04-24 17:43:48 Hail: INFO: wrote matrix with 11 rows and 2000 columns as 1 block of size 4200 to file:/tmp/hail.GXgR4Pd2q9HV/XwDSd0PzC8.bm\n",
      "2020-04-24 17:43:48 Hail: INFO: wrote matrix with 2000 rows and 4200 columns as 1 block of size 4200 to file:/tmp/hail.GXgR4Pd2q9HV/K3e5WUfrTU.bm\n",
      "2020-04-24 17:43:49 Hail: INFO: wrote matrix with 2000 rows and 4200 columns as 1 block of size 4200 to file:/tmp/hail.GXgR4Pd2q9HV/Fkg3xaWZKX.bm\n",
      "2020-04-24 17:43:56 Hail: INFO: wrote matrix with 4200 rows and 4200 columns as 1 block of size 4200 to file:/tmp/hail.GXgR4Pd2q9HV/v8KU2ffT65.bm\n",
      "2020-04-24 17:44:04 Hail: INFO: wrote matrix with 4200 rows and 4200 columns as 1 block of size 4200 to file:/tmp/hail.GXgR4Pd2q9HV/VTHiC9kS7y.bm\n",
      "2020-04-24 17:44:04 Hail: INFO: wrote matrix with 4200 rows and 4200 columns as 1 block of size 4200 to file:/tmp/hail.GXgR4Pd2q9HV/d4IVUQ1jbv.bm\n",
      "2020-04-24 17:44:13 Hail: INFO: wrote matrix with 4200 rows and 4200 columns as 1 block of size 4200 to file:/tmp/hail.GXgR4Pd2q9HV/5BxqaZ4iRc.bm\n",
      "2020-04-24 17:44:21 Hail: INFO: wrote matrix with 4200 rows and 4200 columns as 1 block of size 4200 to file:/tmp/hail.GXgR4Pd2q9HV/uGgRqZrvmf.bm\n",
      "2020-04-24 17:44:21 Hail: INFO: wrote matrix with 4200 rows and 4200 columns as 1 block of size 4200 to file:/tmp/hail.GXgR4Pd2q9HV/gVGcQG0dMz.bm\n",
      "2020-04-24 17:44:29 Hail: INFO: wrote matrix with 4200 rows and 4200 columns as 1 block of size 4200 to file:/tmp/hail.GXgR4Pd2q9HV/Y7TKVJRNSF.bm\n",
      "2020-04-24 17:44:37 Hail: INFO: wrote matrix with 4200 rows and 4200 columns as 1 block of size 4200 to file:/tmp/hail.GXgR4Pd2q9HV/9YGQA2wkyP.bm\n",
      "2020-04-24 17:44:39 Hail: INFO: wrote matrix with 4200 rows and 4200 columns as 1 block of size 4200 to file:/tmp/hail.GXgR4Pd2q9HV/51U6nHiNn9.bm\n",
      "2020-04-24 17:44:57 Hail: INFO: Ordering unsorted dataset with network shuffle\n",
      "2020-04-24 17:46:21 Hail: INFO: Coerced sorted dataset\n",
      "2020-04-24 17:47:20 Hail: INFO: wrote table with 8817900 rows in 1 partition to /tmp/tmp6t0a3dvl/pc_relate_result\n"
     ]
    },
    {
     "name": "stdout",
     "output_type": "stream",
     "text": [
      "Deleting pc_relate results: /tmp/tmp6t0a3dvl/pc_relate_result\n",
      "Deleting hail tmp dir: /tmp/hail.GXgR4Pd2q9HV\n"
     ]
    },
    {
     "name": "stderr",
     "output_type": "stream",
     "text": [
      "2020-04-24 17:47:21 Hail: INFO: hwe_normalized_pca: running PCA using 2000 variants.\n",
      "2020-04-24 17:47:22 Hail: INFO: pca: running PCA with 10 components...\n"
     ]
    },
    {
     "name": "stdout",
     "output_type": "stream",
     "text": [
      "PCA took s:4400, v:2000, p:10 : 9.19 seconds\n"
     ]
    },
    {
     "name": "stderr",
     "output_type": "stream",
     "text": [
      "2020-04-24 17:47:32 Hail: INFO: Wrote all 1 blocks of 2000 x 4400 matrix with block size 4400.\n",
      "2020-04-24 17:47:33 Hail: INFO: wrote matrix with 11 rows and 2000 columns as 1 block of size 4400 to file:/tmp/hail.GXgR4Pd2q9HV/3KLMtloCQp.bm\n",
      "2020-04-24 17:47:34 Hail: INFO: wrote matrix with 2000 rows and 4400 columns as 1 block of size 4400 to file:/tmp/hail.GXgR4Pd2q9HV/S8tMyjgLmD.bm\n",
      "2020-04-24 17:47:34 Hail: INFO: wrote matrix with 2000 rows and 4400 columns as 1 block of size 4400 to file:/tmp/hail.GXgR4Pd2q9HV/wcehHzGaAZ.bm\n",
      "2020-04-24 17:47:42 Hail: INFO: wrote matrix with 4400 rows and 4400 columns as 1 block of size 4400 to file:/tmp/hail.GXgR4Pd2q9HV/5mYOKLjvNE.bm\n"
     ]
    }
   ],
   "source": [
    "# Fixed variants = 2k\n",
    "for i in range(1000, 20001, 200):\n",
    "    samples = i\n",
    "    variants = 2000\n",
    "    do_experiment(\"simple_fixed_variants_2k_cpu_8_ram_31_blocksize_eq_sample\", samples=samples, variants=variants, populations=10, block_size=samples)\n",
    "    "
   ]
  },
  {
   "cell_type": "code",
   "execution_count": null,
   "metadata": {},
   "outputs": [
    {
     "name": "stderr",
     "output_type": "stream",
     "text": [
      "2020-04-24 18:05:24 Hail: INFO: hwe_normalized_pca: running PCA using 2000 variants.\n",
      "2020-04-24 18:05:25 Hail: INFO: pca: running PCA with 10 components...\n"
     ]
    },
    {
     "name": "stdout",
     "output_type": "stream",
     "text": [
      "PCA took s:1000, v:2000, p:10 : 13.09 seconds\n"
     ]
    },
    {
     "name": "stderr",
     "output_type": "stream",
     "text": [
      "2020-04-24 18:05:36 Hail: INFO: Wrote all 128 blocks of 2000 x 1000 matrix with block size 126.\n",
      "2020-04-24 18:05:37 Hail: INFO: wrote matrix with 11 rows and 2000 columns as 16 blocks of size 126 to file:/tmp/hail.pcWkcZDbNULq/xinM3fOuiN.bm\n",
      "2020-04-24 18:05:38 Hail: INFO: wrote matrix with 2000 rows and 1000 columns as 128 blocks of size 126 to file:/tmp/hail.pcWkcZDbNULq/UeZVulIUDQ.bm\n",
      "2020-04-24 18:05:38 Hail: INFO: wrote matrix with 2000 rows and 1000 columns as 128 blocks of size 126 to file:/tmp/hail.pcWkcZDbNULq/OFsUIGCCXm.bm\n",
      "2020-04-24 18:05:39 Hail: INFO: wrote matrix with 1000 rows and 1000 columns as 64 blocks of size 126 to file:/tmp/hail.pcWkcZDbNULq/SbSArhyVEy.bm\n",
      "2020-04-24 18:05:39 Hail: INFO: wrote matrix with 1000 rows and 1000 columns as 64 blocks of size 126 to file:/tmp/hail.pcWkcZDbNULq/dlJfJfQfXk.bm\n",
      "2020-04-24 18:05:40 Hail: INFO: wrote matrix with 1000 rows and 1000 columns as 64 blocks of size 126 to file:/tmp/hail.pcWkcZDbNULq/zQIEO4zWjF.bm\n",
      "2020-04-24 18:05:40 Hail: INFO: wrote matrix with 1000 rows and 1000 columns as 64 blocks of size 126 to file:/tmp/hail.pcWkcZDbNULq/5xmNl0NalL.bm\n",
      "2020-04-24 18:05:41 Hail: INFO: wrote matrix with 1000 rows and 1000 columns as 64 blocks of size 126 to file:/tmp/hail.pcWkcZDbNULq/vlacV1roRv.bm\n",
      "2020-04-24 18:05:41 Hail: INFO: wrote matrix with 1000 rows and 1000 columns as 64 blocks of size 126 to file:/tmp/hail.pcWkcZDbNULq/DVjTeq1M9v.bm\n",
      "2020-04-24 18:05:42 Hail: INFO: wrote matrix with 1000 rows and 1000 columns as 64 blocks of size 126 to file:/tmp/hail.pcWkcZDbNULq/w46LP835O7.bm\n",
      "2020-04-24 18:05:43 Hail: INFO: wrote matrix with 1000 rows and 1000 columns as 64 blocks of size 126 to file:/tmp/hail.pcWkcZDbNULq/G7xUZlIi9C.bm\n",
      "2020-04-24 18:05:43 Hail: INFO: wrote matrix with 1000 rows and 1000 columns as 64 blocks of size 126 to file:/tmp/hail.pcWkcZDbNULq/X8oHNP5XjD.bm\n",
      "2020-04-24 18:05:44 Hail: INFO: Ordering unsorted dataset with network shuffle\n",
      "2020-04-24 18:05:47 Hail: INFO: Coerced sorted dataset\n",
      "2020-04-24 18:05:49 Hail: INFO: wrote table with 499500 rows in 64 partitions to /tmp/tmplwhv7trh/pc_relate_result\n"
     ]
    },
    {
     "name": "stdout",
     "output_type": "stream",
     "text": [
      "Deleting pc_relate results: /tmp/tmplwhv7trh/pc_relate_result\n",
      "Deleting hail tmp dir: /tmp/hail.pcWkcZDbNULq\n",
      "Deleting hail tmp dir: /tmp/hail.OfFY53OXkvYK\n",
      "Deleting hail tmp dir: /tmp/hail.G8Mqn1St2G43\n"
     ]
    },
    {
     "name": "stderr",
     "output_type": "stream",
     "text": [
      "2020-04-24 18:05:49 Hail: INFO: hwe_normalized_pca: running PCA using 2000 variants.\n",
      "2020-04-24 18:05:50 Hail: INFO: pca: running PCA with 10 components...\n"
     ]
    },
    {
     "name": "stdout",
     "output_type": "stream",
     "text": [
      "PCA took s:1200, v:2000, p:10 : 7.94 seconds\n"
     ]
    },
    {
     "name": "stderr",
     "output_type": "stream",
     "text": [
      "2020-04-24 18:05:58 Hail: INFO: Wrote all 112 blocks of 2000 x 1200 matrix with block size 151.\n",
      "2020-04-24 18:05:59 Hail: INFO: wrote matrix with 11 rows and 2000 columns as 14 blocks of size 151 to file:/tmp/hail.pcWkcZDbNULq/ry0vTs1xvk.bm\n",
      "2020-04-24 18:05:59 Hail: INFO: wrote matrix with 2000 rows and 1200 columns as 112 blocks of size 151 to file:/tmp/hail.pcWkcZDbNULq/4EPszKtDnn.bm\n",
      "2020-04-24 18:06:00 Hail: INFO: wrote matrix with 2000 rows and 1200 columns as 112 blocks of size 151 to file:/tmp/hail.pcWkcZDbNULq/zZ1332tKxt.bm\n",
      "2020-04-24 18:06:00 Hail: INFO: wrote matrix with 1200 rows and 1200 columns as 64 blocks of size 151 to file:/tmp/hail.pcWkcZDbNULq/oaHDRRWzPL.bm\n",
      "2020-04-24 18:06:01 Hail: INFO: wrote matrix with 1200 rows and 1200 columns as 64 blocks of size 151 to file:/tmp/hail.pcWkcZDbNULq/JA6iy6TdaI.bm\n",
      "2020-04-24 18:06:01 Hail: INFO: wrote matrix with 1200 rows and 1200 columns as 64 blocks of size 151 to file:/tmp/hail.pcWkcZDbNULq/CcXukMgqq7.bm\n",
      "2020-04-24 18:06:02 Hail: INFO: wrote matrix with 1200 rows and 1200 columns as 64 blocks of size 151 to file:/tmp/hail.pcWkcZDbNULq/VxQkTBLN2e.bm\n",
      "2020-04-24 18:06:02 Hail: INFO: wrote matrix with 1200 rows and 1200 columns as 64 blocks of size 151 to file:/tmp/hail.pcWkcZDbNULq/QbKAfFw9pW.bm\n",
      "2020-04-24 18:06:02 Hail: INFO: wrote matrix with 1200 rows and 1200 columns as 64 blocks of size 151 to file:/tmp/hail.pcWkcZDbNULq/bospzV5m9n.bm\n",
      "2020-04-24 18:06:03 Hail: INFO: wrote matrix with 1200 rows and 1200 columns as 64 blocks of size 151 to file:/tmp/hail.pcWkcZDbNULq/DFw5kbtO1L.bm\n",
      "2020-04-24 18:06:04 Hail: INFO: wrote matrix with 1200 rows and 1200 columns as 64 blocks of size 151 to file:/tmp/hail.pcWkcZDbNULq/cRXBXOP9bh.bm\n",
      "2020-04-24 18:06:04 Hail: INFO: wrote matrix with 1200 rows and 1200 columns as 64 blocks of size 151 to file:/tmp/hail.pcWkcZDbNULq/FdOdkdcbLX.bm\n",
      "2020-04-24 18:06:04 Hail: INFO: Ordering unsorted dataset with network shuffle\n",
      "2020-04-24 18:06:07 Hail: INFO: Coerced sorted dataset\n",
      "2020-04-24 18:06:08 Hail: INFO: wrote table with 719400 rows in 64 partitions to /tmp/tmp2u32mltn/pc_relate_result\n"
     ]
    },
    {
     "name": "stdout",
     "output_type": "stream",
     "text": [
      "Deleting pc_relate results: /tmp/tmp2u32mltn/pc_relate_result\n",
      "Deleting hail tmp dir: /tmp/hail.pcWkcZDbNULq\n"
     ]
    },
    {
     "name": "stderr",
     "output_type": "stream",
     "text": [
      "2020-04-24 18:06:09 Hail: INFO: hwe_normalized_pca: running PCA using 2000 variants.\n",
      "2020-04-24 18:06:09 Hail: INFO: pca: running PCA with 10 components...\n"
     ]
    },
    {
     "name": "stdout",
     "output_type": "stream",
     "text": [
      "PCA took s:1400, v:2000, p:10 : 7.31 seconds\n"
     ]
    },
    {
     "name": "stderr",
     "output_type": "stream",
     "text": [
      "2020-04-24 18:06:17 Hail: INFO: Wrote all 96 blocks of 2000 x 1400 matrix with block size 176.\n",
      "2020-04-24 18:06:18 Hail: INFO: wrote matrix with 11 rows and 2000 columns as 12 blocks of size 176 to file:/tmp/hail.pcWkcZDbNULq/5lkW0CET6Y.bm\n",
      "2020-04-24 18:06:18 Hail: INFO: wrote matrix with 2000 rows and 1400 columns as 96 blocks of size 176 to file:/tmp/hail.pcWkcZDbNULq/iLa7K9wERa.bm\n",
      "2020-04-24 18:06:18 Hail: INFO: wrote matrix with 2000 rows and 1400 columns as 96 blocks of size 176 to file:/tmp/hail.pcWkcZDbNULq/pvD3MpLMLA.bm\n",
      "2020-04-24 18:06:19 Hail: INFO: wrote matrix with 1400 rows and 1400 columns as 64 blocks of size 176 to file:/tmp/hail.pcWkcZDbNULq/2GBFsvH7Jt.bm\n",
      "2020-04-24 18:06:19 Hail: INFO: wrote matrix with 1400 rows and 1400 columns as 64 blocks of size 176 to file:/tmp/hail.pcWkcZDbNULq/NFD3Vhd7u3.bm\n",
      "2020-04-24 18:06:19 Hail: INFO: wrote matrix with 1400 rows and 1400 columns as 64 blocks of size 176 to file:/tmp/hail.pcWkcZDbNULq/64JHs4qe7R.bm\n",
      "2020-04-24 18:06:20 Hail: INFO: wrote matrix with 1400 rows and 1400 columns as 64 blocks of size 176 to file:/tmp/hail.pcWkcZDbNULq/9NjFmC5a9P.bm\n",
      "2020-04-24 18:06:20 Hail: INFO: wrote matrix with 1400 rows and 1400 columns as 64 blocks of size 176 to file:/tmp/hail.pcWkcZDbNULq/LsBSeTUgvC.bm\n",
      "2020-04-24 18:06:21 Hail: INFO: wrote matrix with 1400 rows and 1400 columns as 64 blocks of size 176 to file:/tmp/hail.pcWkcZDbNULq/pPni8U6W2Z.bm\n",
      "2020-04-24 18:06:22 Hail: INFO: wrote matrix with 1400 rows and 1400 columns as 64 blocks of size 176 to file:/tmp/hail.pcWkcZDbNULq/3oschjAMQD.bm\n",
      "2020-04-24 18:06:22 Hail: INFO: wrote matrix with 1400 rows and 1400 columns as 64 blocks of size 176 to file:/tmp/hail.pcWkcZDbNULq/0gCn2NFq8x.bm\n",
      "2020-04-24 18:06:23 Hail: INFO: wrote matrix with 1400 rows and 1400 columns as 64 blocks of size 176 to file:/tmp/hail.pcWkcZDbNULq/VKbuk3P54t.bm\n",
      "2020-04-24 18:06:23 Hail: INFO: Ordering unsorted dataset with network shuffle\n",
      "2020-04-24 18:06:26 Hail: INFO: Coerced sorted dataset\n",
      "2020-04-24 18:06:28 Hail: INFO: wrote table with 979300 rows in 64 partitions to /tmp/tmpakbzkqh6/pc_relate_result\n"
     ]
    },
    {
     "name": "stdout",
     "output_type": "stream",
     "text": [
      "Deleting pc_relate results: /tmp/tmpakbzkqh6/pc_relate_result\n",
      "Deleting hail tmp dir: /tmp/hail.pcWkcZDbNULq\n"
     ]
    },
    {
     "name": "stderr",
     "output_type": "stream",
     "text": [
      "2020-04-24 18:06:28 Hail: INFO: hwe_normalized_pca: running PCA using 2000 variants.\n",
      "2020-04-24 18:06:29 Hail: INFO: pca: running PCA with 10 components...\n"
     ]
    },
    {
     "name": "stdout",
     "output_type": "stream",
     "text": [
      "PCA took s:1600, v:2000, p:10 : 6.53 seconds\n"
     ]
    },
    {
     "name": "stderr",
     "output_type": "stream",
     "text": [
      "2020-04-24 18:06:36 Hail: INFO: Wrote all 80 blocks of 2000 x 1600 matrix with block size 201.\n",
      "2020-04-24 18:06:36 Hail: INFO: wrote matrix with 11 rows and 2000 columns as 10 blocks of size 201 to file:/tmp/hail.pcWkcZDbNULq/xLi7FPCoDn.bm\n",
      "2020-04-24 18:06:37 Hail: INFO: wrote matrix with 2000 rows and 1600 columns as 80 blocks of size 201 to file:/tmp/hail.pcWkcZDbNULq/OvJ9AxPRUv.bm\n",
      "2020-04-24 18:06:37 Hail: INFO: wrote matrix with 2000 rows and 1600 columns as 80 blocks of size 201 to file:/tmp/hail.pcWkcZDbNULq/gyCpbBm9je.bm\n",
      "2020-04-24 18:06:38 Hail: INFO: wrote matrix with 1600 rows and 1600 columns as 64 blocks of size 201 to file:/tmp/hail.pcWkcZDbNULq/VyanxNziHS.bm\n",
      "2020-04-24 18:06:38 Hail: INFO: wrote matrix with 1600 rows and 1600 columns as 64 blocks of size 201 to file:/tmp/hail.pcWkcZDbNULq/Kz49Cs8IYX.bm\n",
      "2020-04-24 18:06:38 Hail: INFO: wrote matrix with 1600 rows and 1600 columns as 64 blocks of size 201 to file:/tmp/hail.pcWkcZDbNULq/JQkxCm4FJF.bm\n",
      "2020-04-24 18:06:39 Hail: INFO: wrote matrix with 1600 rows and 1600 columns as 64 blocks of size 201 to file:/tmp/hail.pcWkcZDbNULq/EsoNFu2L6k.bm\n",
      "2020-04-24 18:06:39 Hail: INFO: wrote matrix with 1600 rows and 1600 columns as 64 blocks of size 201 to file:/tmp/hail.pcWkcZDbNULq/xCjQ7Q3WuR.bm\n",
      "2020-04-24 18:06:40 Hail: INFO: wrote matrix with 1600 rows and 1600 columns as 64 blocks of size 201 to file:/tmp/hail.pcWkcZDbNULq/AwZEUt1yYH.bm\n",
      "2020-04-24 18:06:41 Hail: INFO: wrote matrix with 1600 rows and 1600 columns as 64 blocks of size 201 to file:/tmp/hail.pcWkcZDbNULq/JrpRjNBE2n.bm\n",
      "2020-04-24 18:06:42 Hail: INFO: wrote matrix with 1600 rows and 1600 columns as 64 blocks of size 201 to file:/tmp/hail.pcWkcZDbNULq/8iDGLgMFaZ.bm\n",
      "2020-04-24 18:06:42 Hail: INFO: wrote matrix with 1600 rows and 1600 columns as 64 blocks of size 201 to file:/tmp/hail.pcWkcZDbNULq/BDigQk42R8.bm\n",
      "2020-04-24 18:06:43 Hail: INFO: Ordering unsorted dataset with network shuffle\n",
      "2020-04-24 18:06:46 Hail: INFO: Coerced sorted dataset\n",
      "2020-04-24 18:06:48 Hail: INFO: wrote table with 1279200 rows in 64 partitions to /tmp/tmpth4o_gxh/pc_relate_result\n"
     ]
    },
    {
     "name": "stdout",
     "output_type": "stream",
     "text": [
      "Deleting pc_relate results: /tmp/tmpth4o_gxh/pc_relate_result\n",
      "Deleting hail tmp dir: /tmp/hail.pcWkcZDbNULq\n"
     ]
    },
    {
     "name": "stderr",
     "output_type": "stream",
     "text": [
      "2020-04-24 18:06:49 Hail: INFO: hwe_normalized_pca: running PCA using 2000 variants.\n",
      "2020-04-24 18:06:49 Hail: INFO: pca: running PCA with 10 components...\n"
     ]
    },
    {
     "name": "stdout",
     "output_type": "stream",
     "text": [
      "PCA took s:1800, v:2000, p:10 : 6.43 seconds\n"
     ]
    },
    {
     "name": "stderr",
     "output_type": "stream",
     "text": [
      "2020-04-24 18:06:56 Hail: INFO: Wrote all 72 blocks of 2000 x 1800 matrix with block size 226.\n",
      "2020-04-24 18:06:57 Hail: INFO: wrote matrix with 11 rows and 2000 columns as 9 blocks of size 226 to file:/tmp/hail.pcWkcZDbNULq/Y0cLVC1l3g.bm\n",
      "2020-04-24 18:06:57 Hail: INFO: wrote matrix with 2000 rows and 1800 columns as 72 blocks of size 226 to file:/tmp/hail.pcWkcZDbNULq/VdmGgf2ob0.bm\n",
      "2020-04-24 18:06:57 Hail: INFO: wrote matrix with 2000 rows and 1800 columns as 72 blocks of size 226 to file:/tmp/hail.pcWkcZDbNULq/EoyjgTv6Ie.bm\n",
      "2020-04-24 18:06:58 Hail: INFO: wrote matrix with 1800 rows and 1800 columns as 64 blocks of size 226 to file:/tmp/hail.pcWkcZDbNULq/lXqkaXcqhn.bm\n",
      "2020-04-24 18:06:58 Hail: INFO: wrote matrix with 1800 rows and 1800 columns as 64 blocks of size 226 to file:/tmp/hail.pcWkcZDbNULq/ToT2vZlwfS.bm\n",
      "2020-04-24 18:06:59 Hail: INFO: wrote matrix with 1800 rows and 1800 columns as 64 blocks of size 226 to file:/tmp/hail.pcWkcZDbNULq/J0DgF0CcXP.bm\n",
      "2020-04-24 18:06:59 Hail: INFO: wrote matrix with 1800 rows and 1800 columns as 64 blocks of size 226 to file:/tmp/hail.pcWkcZDbNULq/UuvJRUcuK2.bm\n",
      "2020-04-24 18:07:00 Hail: INFO: wrote matrix with 1800 rows and 1800 columns as 64 blocks of size 226 to file:/tmp/hail.pcWkcZDbNULq/Ei1Li96uGo.bm\n",
      "2020-04-24 18:07:00 Hail: INFO: wrote matrix with 1800 rows and 1800 columns as 64 blocks of size 226 to file:/tmp/hail.pcWkcZDbNULq/elmFODqv0z.bm\n",
      "2020-04-24 18:07:01 Hail: INFO: wrote matrix with 1800 rows and 1800 columns as 64 blocks of size 226 to file:/tmp/hail.pcWkcZDbNULq/YWd3C48LW7.bm\n",
      "2020-04-24 18:07:02 Hail: INFO: wrote matrix with 1800 rows and 1800 columns as 64 blocks of size 226 to file:/tmp/hail.pcWkcZDbNULq/rLwJmCsXhP.bm\n",
      "2020-04-24 18:07:03 Hail: INFO: wrote matrix with 1800 rows and 1800 columns as 64 blocks of size 226 to file:/tmp/hail.pcWkcZDbNULq/1DuXkr30fl.bm\n",
      "2020-04-24 18:07:03 Hail: INFO: Ordering unsorted dataset with network shuffle\n",
      "2020-04-24 18:07:07 Hail: INFO: Coerced sorted dataset\n",
      "2020-04-24 18:07:10 Hail: INFO: wrote table with 1619100 rows in 64 partitions to /tmp/tmpjo7ifvgk/pc_relate_result\n"
     ]
    },
    {
     "name": "stdout",
     "output_type": "stream",
     "text": [
      "Deleting pc_relate results: /tmp/tmpjo7ifvgk/pc_relate_result\n",
      "Deleting hail tmp dir: /tmp/hail.pcWkcZDbNULq\n"
     ]
    },
    {
     "name": "stderr",
     "output_type": "stream",
     "text": [
      "2020-04-24 18:07:10 Hail: INFO: hwe_normalized_pca: running PCA using 2000 variants.\n",
      "2020-04-24 18:07:11 Hail: INFO: pca: running PCA with 10 components...\n"
     ]
    },
    {
     "name": "stdout",
     "output_type": "stream",
     "text": [
      "PCA took s:2000, v:2000, p:10 : 6.88 seconds\n"
     ]
    },
    {
     "name": "stderr",
     "output_type": "stream",
     "text": [
      "2020-04-24 18:07:18 Hail: INFO: Wrote all 64 blocks of 2000 x 2000 matrix with block size 251.\n",
      "2020-04-24 18:07:19 Hail: INFO: wrote matrix with 11 rows and 2000 columns as 8 blocks of size 251 to file:/tmp/hail.pcWkcZDbNULq/IsuW5UejD6.bm\n",
      "2020-04-24 18:07:19 Hail: INFO: wrote matrix with 2000 rows and 2000 columns as 64 blocks of size 251 to file:/tmp/hail.pcWkcZDbNULq/xAqWOTnCr3.bm\n",
      "2020-04-24 18:07:19 Hail: INFO: wrote matrix with 2000 rows and 2000 columns as 64 blocks of size 251 to file:/tmp/hail.pcWkcZDbNULq/LLwzjklGdI.bm\n",
      "2020-04-24 18:07:20 Hail: INFO: wrote matrix with 2000 rows and 2000 columns as 64 blocks of size 251 to file:/tmp/hail.pcWkcZDbNULq/NugVpxG6GJ.bm\n",
      "2020-04-24 18:07:21 Hail: INFO: wrote matrix with 2000 rows and 2000 columns as 64 blocks of size 251 to file:/tmp/hail.pcWkcZDbNULq/XyVXCewzYv.bm\n",
      "2020-04-24 18:07:21 Hail: INFO: wrote matrix with 2000 rows and 2000 columns as 64 blocks of size 251 to file:/tmp/hail.pcWkcZDbNULq/4D4nUfZzul.bm\n",
      "2020-04-24 18:07:22 Hail: INFO: wrote matrix with 2000 rows and 2000 columns as 64 blocks of size 251 to file:/tmp/hail.pcWkcZDbNULq/m95H9VE3AS.bm\n",
      "2020-04-24 18:07:23 Hail: INFO: wrote matrix with 2000 rows and 2000 columns as 64 blocks of size 251 to file:/tmp/hail.pcWkcZDbNULq/NXU8cwRjBP.bm\n",
      "2020-04-24 18:07:23 Hail: INFO: wrote matrix with 2000 rows and 2000 columns as 64 blocks of size 251 to file:/tmp/hail.pcWkcZDbNULq/3CgVnuLdx2.bm\n",
      "2020-04-24 18:07:24 Hail: INFO: wrote matrix with 2000 rows and 2000 columns as 64 blocks of size 251 to file:/tmp/hail.pcWkcZDbNULq/iLRMbadfRB.bm\n",
      "2020-04-24 18:07:25 Hail: INFO: wrote matrix with 2000 rows and 2000 columns as 64 blocks of size 251 to file:/tmp/hail.pcWkcZDbNULq/hyfSpC2AN9.bm\n",
      "2020-04-24 18:07:25 Hail: INFO: wrote matrix with 2000 rows and 2000 columns as 64 blocks of size 251 to file:/tmp/hail.pcWkcZDbNULq/ky6YcF13Dg.bm\n",
      "2020-04-24 18:07:26 Hail: INFO: Ordering unsorted dataset with network shuffle\n",
      "2020-04-24 18:07:31 Hail: INFO: Coerced sorted dataset\n",
      "2020-04-24 18:07:34 Hail: INFO: wrote table with 1999000 rows in 64 partitions to /tmp/tmpv1ae05u0/pc_relate_result\n"
     ]
    },
    {
     "name": "stdout",
     "output_type": "stream",
     "text": [
      "Deleting pc_relate results: /tmp/tmpv1ae05u0/pc_relate_result\n",
      "Deleting hail tmp dir: /tmp/hail.pcWkcZDbNULq\n"
     ]
    },
    {
     "name": "stderr",
     "output_type": "stream",
     "text": [
      "2020-04-24 18:07:34 Hail: INFO: hwe_normalized_pca: running PCA using 2000 variants.\n",
      "2020-04-24 18:07:35 Hail: INFO: pca: running PCA with 10 components...\n"
     ]
    },
    {
     "name": "stdout",
     "output_type": "stream",
     "text": [
      "PCA took s:2200, v:2000, p:10 : 6.91 seconds\n"
     ]
    },
    {
     "name": "stderr",
     "output_type": "stream",
     "text": [
      "2020-04-24 18:07:43 Hail: INFO: Wrote all 64 blocks of 2000 x 2200 matrix with block size 276.\n",
      "2020-04-24 18:07:43 Hail: INFO: wrote matrix with 11 rows and 2000 columns as 8 blocks of size 276 to file:/tmp/hail.pcWkcZDbNULq/q1WEPs4ir3.bm\n",
      "2020-04-24 18:07:44 Hail: INFO: wrote matrix with 2000 rows and 2200 columns as 64 blocks of size 276 to file:/tmp/hail.pcWkcZDbNULq/Szb8RFuKDg.bm\n",
      "2020-04-24 18:07:44 Hail: INFO: wrote matrix with 2000 rows and 2200 columns as 64 blocks of size 276 to file:/tmp/hail.pcWkcZDbNULq/BiTbVTeEZb.bm\n",
      "2020-04-24 18:07:45 Hail: INFO: wrote matrix with 2200 rows and 2200 columns as 64 blocks of size 276 to file:/tmp/hail.pcWkcZDbNULq/gruGO3aRnY.bm\n",
      "2020-04-24 18:07:45 Hail: INFO: wrote matrix with 2200 rows and 2200 columns as 64 blocks of size 276 to file:/tmp/hail.pcWkcZDbNULq/zy5kllMxyc.bm\n",
      "2020-04-24 18:07:46 Hail: INFO: wrote matrix with 2200 rows and 2200 columns as 64 blocks of size 276 to file:/tmp/hail.pcWkcZDbNULq/h1or55Al9Q.bm\n",
      "2020-04-24 18:07:46 Hail: INFO: wrote matrix with 2200 rows and 2200 columns as 64 blocks of size 276 to file:/tmp/hail.pcWkcZDbNULq/gRrJ0YcCUe.bm\n",
      "2020-04-24 18:07:47 Hail: INFO: wrote matrix with 2200 rows and 2200 columns as 64 blocks of size 276 to file:/tmp/hail.pcWkcZDbNULq/a02RgkvaTz.bm\n",
      "2020-04-24 18:07:48 Hail: INFO: wrote matrix with 2200 rows and 2200 columns as 64 blocks of size 276 to file:/tmp/hail.pcWkcZDbNULq/ud4xjspwQG.bm\n",
      "2020-04-24 18:07:49 Hail: INFO: wrote matrix with 2200 rows and 2200 columns as 64 blocks of size 276 to file:/tmp/hail.pcWkcZDbNULq/dpyZY8t5x8.bm\n",
      "2020-04-24 18:07:50 Hail: INFO: wrote matrix with 2200 rows and 2200 columns as 64 blocks of size 276 to file:/tmp/hail.pcWkcZDbNULq/80ZiRWofcM.bm\n",
      "2020-04-24 18:07:50 Hail: INFO: wrote matrix with 2200 rows and 2200 columns as 64 blocks of size 276 to file:/tmp/hail.pcWkcZDbNULq/j8f3DdZjCx.bm\n",
      "2020-04-24 18:07:51 Hail: INFO: Ordering unsorted dataset with network shuffle\n",
      "2020-04-24 18:07:56 Hail: INFO: Coerced sorted dataset\n",
      "2020-04-24 18:08:01 Hail: INFO: wrote table with 2418900 rows in 64 partitions to /tmp/tmpyy0z4vgp/pc_relate_result\n"
     ]
    },
    {
     "name": "stdout",
     "output_type": "stream",
     "text": [
      "Deleting pc_relate results: /tmp/tmpyy0z4vgp/pc_relate_result\n",
      "Deleting hail tmp dir: /tmp/hail.pcWkcZDbNULq\n"
     ]
    },
    {
     "name": "stderr",
     "output_type": "stream",
     "text": [
      "2020-04-24 18:08:01 Hail: INFO: hwe_normalized_pca: running PCA using 2000 variants.\n",
      "2020-04-24 18:08:02 Hail: INFO: pca: running PCA with 10 components...\n"
     ]
    },
    {
     "name": "stdout",
     "output_type": "stream",
     "text": [
      "PCA took s:2400, v:2000, p:10 : 8.16 seconds\n"
     ]
    },
    {
     "name": "stderr",
     "output_type": "stream",
     "text": [
      "2020-04-24 18:08:10 Hail: INFO: Wrote all 56 blocks of 2000 x 2400 matrix with block size 301.\n",
      "2020-04-24 18:08:11 Hail: INFO: wrote matrix with 11 rows and 2000 columns as 7 blocks of size 301 to file:/tmp/hail.pcWkcZDbNULq/U7zqVgBaCk.bm\n",
      "2020-04-24 18:08:11 Hail: INFO: wrote matrix with 2000 rows and 2400 columns as 56 blocks of size 301 to file:/tmp/hail.pcWkcZDbNULq/OdemPj1P6H.bm\n",
      "2020-04-24 18:08:11 Hail: INFO: wrote matrix with 2000 rows and 2400 columns as 56 blocks of size 301 to file:/tmp/hail.pcWkcZDbNULq/SBHKhgI0i8.bm\n",
      "2020-04-24 18:08:12 Hail: INFO: wrote matrix with 2400 rows and 2400 columns as 64 blocks of size 301 to file:/tmp/hail.pcWkcZDbNULq/GuJZbNoibb.bm\n",
      "2020-04-24 18:08:13 Hail: INFO: wrote matrix with 2400 rows and 2400 columns as 64 blocks of size 301 to file:/tmp/hail.pcWkcZDbNULq/Z491wTkXDc.bm\n",
      "2020-04-24 18:08:14 Hail: INFO: wrote matrix with 2400 rows and 2400 columns as 64 blocks of size 301 to file:/tmp/hail.pcWkcZDbNULq/oFLwTWwl7Z.bm\n",
      "2020-04-24 18:08:15 Hail: INFO: wrote matrix with 2400 rows and 2400 columns as 64 blocks of size 301 to file:/tmp/hail.pcWkcZDbNULq/D7W8zvPRU8.bm\n",
      "2020-04-24 18:08:15 Hail: INFO: wrote matrix with 2400 rows and 2400 columns as 64 blocks of size 301 to file:/tmp/hail.pcWkcZDbNULq/70fkrv3EFS.bm\n",
      "2020-04-24 18:08:16 Hail: INFO: wrote matrix with 2400 rows and 2400 columns as 64 blocks of size 301 to file:/tmp/hail.pcWkcZDbNULq/HWqM196hTQ.bm\n",
      "2020-04-24 18:08:17 Hail: INFO: wrote matrix with 2400 rows and 2400 columns as 64 blocks of size 301 to file:/tmp/hail.pcWkcZDbNULq/MMm5btjMWG.bm\n",
      "2020-04-24 18:08:19 Hail: INFO: wrote matrix with 2400 rows and 2400 columns as 64 blocks of size 301 to file:/tmp/hail.pcWkcZDbNULq/f8j2roNBP3.bm\n",
      "2020-04-24 18:08:19 Hail: INFO: wrote matrix with 2400 rows and 2400 columns as 64 blocks of size 301 to file:/tmp/hail.pcWkcZDbNULq/UkaC5eYiGK.bm\n",
      "2020-04-24 18:08:20 Hail: INFO: Ordering unsorted dataset with network shuffle\n",
      "2020-04-24 18:08:26 Hail: INFO: Coerced sorted dataset\n",
      "2020-04-24 18:08:31 Hail: INFO: wrote table with 2878800 rows in 64 partitions to /tmp/tmp53lengyk/pc_relate_result\n"
     ]
    },
    {
     "name": "stdout",
     "output_type": "stream",
     "text": [
      "Deleting pc_relate results: /tmp/tmp53lengyk/pc_relate_result\n",
      "Deleting hail tmp dir: /tmp/hail.pcWkcZDbNULq\n"
     ]
    },
    {
     "name": "stderr",
     "output_type": "stream",
     "text": [
      "2020-04-24 18:08:31 Hail: INFO: hwe_normalized_pca: running PCA using 2000 variants.\n",
      "2020-04-24 18:08:33 Hail: INFO: pca: running PCA with 10 components...\n"
     ]
    },
    {
     "name": "stdout",
     "output_type": "stream",
     "text": [
      "PCA took s:2600, v:2000, p:10 : 6.82 seconds\n"
     ]
    },
    {
     "name": "stderr",
     "output_type": "stream",
     "text": [
      "2020-04-24 18:08:39 Hail: INFO: Wrote all 56 blocks of 2000 x 2600 matrix with block size 326.\n",
      "2020-04-24 18:08:40 Hail: INFO: wrote matrix with 11 rows and 2000 columns as 7 blocks of size 326 to file:/tmp/hail.pcWkcZDbNULq/sNhwLPxMTn.bm\n",
      "2020-04-24 18:08:40 Hail: INFO: wrote matrix with 2000 rows and 2600 columns as 56 blocks of size 326 to file:/tmp/hail.pcWkcZDbNULq/FwjR4RuzQx.bm\n",
      "2020-04-24 18:08:40 Hail: INFO: wrote matrix with 2000 rows and 2600 columns as 56 blocks of size 326 to file:/tmp/hail.pcWkcZDbNULq/2B77ly5zcO.bm\n",
      "2020-04-24 18:08:41 Hail: INFO: wrote matrix with 2600 rows and 2600 columns as 64 blocks of size 326 to file:/tmp/hail.pcWkcZDbNULq/5FwyotNppL.bm\n",
      "2020-04-24 18:08:42 Hail: INFO: wrote matrix with 2600 rows and 2600 columns as 64 blocks of size 326 to file:/tmp/hail.pcWkcZDbNULq/7gZc7Yfrqi.bm\n",
      "2020-04-24 18:08:42 Hail: INFO: wrote matrix with 2600 rows and 2600 columns as 64 blocks of size 326 to file:/tmp/hail.pcWkcZDbNULq/xFkwtPwB4J.bm\n",
      "2020-04-24 18:08:44 Hail: INFO: wrote matrix with 2600 rows and 2600 columns as 64 blocks of size 326 to file:/tmp/hail.pcWkcZDbNULq/p6639qbRfc.bm\n",
      "2020-04-24 18:08:44 Hail: INFO: wrote matrix with 2600 rows and 2600 columns as 64 blocks of size 326 to file:/tmp/hail.pcWkcZDbNULq/sOmgLM8tAm.bm\n",
      "2020-04-24 18:08:45 Hail: INFO: wrote matrix with 2600 rows and 2600 columns as 64 blocks of size 326 to file:/tmp/hail.pcWkcZDbNULq/ziQWW9sDuU.bm\n",
      "2020-04-24 18:08:46 Hail: INFO: wrote matrix with 2600 rows and 2600 columns as 64 blocks of size 326 to file:/tmp/hail.pcWkcZDbNULq/mJ8pCSqdom.bm\n",
      "2020-04-24 18:08:48 Hail: INFO: wrote matrix with 2600 rows and 2600 columns as 64 blocks of size 326 to file:/tmp/hail.pcWkcZDbNULq/vGfORCpe2h.bm\n",
      "2020-04-24 18:08:48 Hail: INFO: wrote matrix with 2600 rows and 2600 columns as 64 blocks of size 326 to file:/tmp/hail.pcWkcZDbNULq/WRGA7BvK1X.bm\n",
      "2020-04-24 18:08:50 Hail: INFO: Ordering unsorted dataset with network shuffle\n",
      "2020-04-24 18:08:56 Hail: INFO: Coerced sorted dataset\n",
      "2020-04-24 18:09:02 Hail: INFO: wrote table with 3378700 rows in 64 partitions to /tmp/tmp_l15uj4b/pc_relate_result\n"
     ]
    },
    {
     "name": "stdout",
     "output_type": "stream",
     "text": [
      "Deleting pc_relate results: /tmp/tmp_l15uj4b/pc_relate_result\n",
      "Deleting hail tmp dir: /tmp/hail.pcWkcZDbNULq\n"
     ]
    },
    {
     "name": "stderr",
     "output_type": "stream",
     "text": [
      "2020-04-24 18:09:02 Hail: INFO: hwe_normalized_pca: running PCA using 2000 variants.\n",
      "2020-04-24 18:09:03 Hail: INFO: pca: running PCA with 10 components...\n"
     ]
    },
    {
     "name": "stdout",
     "output_type": "stream",
     "text": [
      "PCA took s:2800, v:2000, p:10 : 8.31 seconds\n"
     ]
    },
    {
     "name": "stderr",
     "output_type": "stream",
     "text": [
      "2020-04-24 18:09:12 Hail: INFO: Wrote all 48 blocks of 2000 x 2800 matrix with block size 351.\n",
      "2020-04-24 18:09:12 Hail: INFO: wrote matrix with 11 rows and 2000 columns as 6 blocks of size 351 to file:/tmp/hail.pcWkcZDbNULq/xfO1A91YP2.bm\n",
      "2020-04-24 18:09:13 Hail: INFO: wrote matrix with 2000 rows and 2800 columns as 48 blocks of size 351 to file:/tmp/hail.pcWkcZDbNULq/MUxxiHOwfN.bm\n",
      "2020-04-24 18:09:13 Hail: INFO: wrote matrix with 2000 rows and 2800 columns as 48 blocks of size 351 to file:/tmp/hail.pcWkcZDbNULq/1GuOxXxWpO.bm\n",
      "2020-04-24 18:09:14 Hail: INFO: wrote matrix with 2800 rows and 2800 columns as 64 blocks of size 351 to file:/tmp/hail.pcWkcZDbNULq/45Yf8XG3ql.bm\n",
      "2020-04-24 18:09:15 Hail: INFO: wrote matrix with 2800 rows and 2800 columns as 64 blocks of size 351 to file:/tmp/hail.pcWkcZDbNULq/KfE4OYJLGX.bm\n",
      "2020-04-24 18:09:15 Hail: INFO: wrote matrix with 2800 rows and 2800 columns as 64 blocks of size 351 to file:/tmp/hail.pcWkcZDbNULq/g8nPp9vYNW.bm\n",
      "2020-04-24 18:09:16 Hail: INFO: wrote matrix with 2800 rows and 2800 columns as 64 blocks of size 351 to file:/tmp/hail.pcWkcZDbNULq/MTDLteXMqD.bm\n",
      "2020-04-24 18:09:18 Hail: INFO: wrote matrix with 2800 rows and 2800 columns as 64 blocks of size 351 to file:/tmp/hail.pcWkcZDbNULq/br274badee.bm\n",
      "2020-04-24 18:09:18 Hail: INFO: wrote matrix with 2800 rows and 2800 columns as 64 blocks of size 351 to file:/tmp/hail.pcWkcZDbNULq/K9yTsUDytP.bm\n",
      "2020-04-24 18:09:20 Hail: INFO: wrote matrix with 2800 rows and 2800 columns as 64 blocks of size 351 to file:/tmp/hail.pcWkcZDbNULq/MATZ7WLmIa.bm\n",
      "2020-04-24 18:09:21 Hail: INFO: wrote matrix with 2800 rows and 2800 columns as 64 blocks of size 351 to file:/tmp/hail.pcWkcZDbNULq/929tKqoqg4.bm\n",
      "2020-04-24 18:09:22 Hail: INFO: wrote matrix with 2800 rows and 2800 columns as 64 blocks of size 351 to file:/tmp/hail.pcWkcZDbNULq/wD0H2IICuI.bm\n",
      "2020-04-24 18:09:23 Hail: INFO: Ordering unsorted dataset with network shuffle\n",
      "2020-04-24 18:09:31 Hail: INFO: Coerced sorted dataset\n",
      "2020-04-24 18:09:37 Hail: INFO: wrote table with 3918600 rows in 64 partitions to /tmp/tmprfg2cegs/pc_relate_result\n"
     ]
    },
    {
     "name": "stdout",
     "output_type": "stream",
     "text": [
      "Deleting pc_relate results: /tmp/tmprfg2cegs/pc_relate_result\n",
      "Deleting hail tmp dir: /tmp/hail.pcWkcZDbNULq\n"
     ]
    },
    {
     "name": "stderr",
     "output_type": "stream",
     "text": [
      "2020-04-24 18:09:37 Hail: INFO: hwe_normalized_pca: running PCA using 2000 variants.\n",
      "2020-04-24 18:09:38 Hail: INFO: pca: running PCA with 10 components...\n"
     ]
    },
    {
     "name": "stdout",
     "output_type": "stream",
     "text": [
      "PCA took s:3000, v:2000, p:10 : 9.80 seconds\n"
     ]
    },
    {
     "name": "stderr",
     "output_type": "stream",
     "text": [
      "2020-04-24 18:09:49 Hail: INFO: Wrote all 48 blocks of 2000 x 3000 matrix with block size 376.\n",
      "2020-04-24 18:09:49 Hail: INFO: wrote matrix with 11 rows and 2000 columns as 6 blocks of size 376 to file:/tmp/hail.pcWkcZDbNULq/fSkKyODxnd.bm\n",
      "2020-04-24 18:09:49 Hail: INFO: wrote matrix with 2000 rows and 3000 columns as 48 blocks of size 376 to file:/tmp/hail.pcWkcZDbNULq/TM1t9974I1.bm\n",
      "2020-04-24 18:09:50 Hail: INFO: wrote matrix with 2000 rows and 3000 columns as 48 blocks of size 376 to file:/tmp/hail.pcWkcZDbNULq/qN3xS3r4eo.bm\n",
      "2020-04-24 18:09:51 Hail: INFO: wrote matrix with 3000 rows and 3000 columns as 64 blocks of size 376 to file:/tmp/hail.pcWkcZDbNULq/mCKveVDXah.bm\n",
      "2020-04-24 18:09:52 Hail: INFO: wrote matrix with 3000 rows and 3000 columns as 64 blocks of size 376 to file:/tmp/hail.pcWkcZDbNULq/t9y2uXBpgL.bm\n",
      "2020-04-24 18:09:52 Hail: INFO: wrote matrix with 3000 rows and 3000 columns as 64 blocks of size 376 to file:/tmp/hail.pcWkcZDbNULq/VWrwm3Zuud.bm\n",
      "2020-04-24 18:09:54 Hail: INFO: wrote matrix with 3000 rows and 3000 columns as 64 blocks of size 376 to file:/tmp/hail.pcWkcZDbNULq/wJX6UNFafh.bm\n",
      "2020-04-24 18:09:55 Hail: INFO: wrote matrix with 3000 rows and 3000 columns as 64 blocks of size 376 to file:/tmp/hail.pcWkcZDbNULq/V8WnrkuXDw.bm\n",
      "2020-04-24 18:09:55 Hail: INFO: wrote matrix with 3000 rows and 3000 columns as 64 blocks of size 376 to file:/tmp/hail.pcWkcZDbNULq/9o4qgpkHB7.bm\n",
      "2020-04-24 18:09:57 Hail: INFO: wrote matrix with 3000 rows and 3000 columns as 64 blocks of size 376 to file:/tmp/hail.pcWkcZDbNULq/9zpk7hH7GM.bm\n",
      "2020-04-24 18:09:59 Hail: INFO: wrote matrix with 3000 rows and 3000 columns as 64 blocks of size 376 to file:/tmp/hail.pcWkcZDbNULq/JhJSljFmTI.bm\n",
      "2020-04-24 18:09:59 Hail: INFO: wrote matrix with 3000 rows and 3000 columns as 64 blocks of size 376 to file:/tmp/hail.pcWkcZDbNULq/52hRIZIDc1.bm\n",
      "2020-04-24 18:10:01 Hail: INFO: Ordering unsorted dataset with network shuffle\n",
      "2020-04-24 18:10:10 Hail: INFO: Coerced sorted dataset\n",
      "2020-04-24 18:10:17 Hail: INFO: wrote table with 4498500 rows in 64 partitions to /tmp/tmp8qfi53gr/pc_relate_result\n"
     ]
    },
    {
     "name": "stdout",
     "output_type": "stream",
     "text": [
      "Deleting pc_relate results: /tmp/tmp8qfi53gr/pc_relate_result\n",
      "Deleting hail tmp dir: /tmp/hail.pcWkcZDbNULq\n"
     ]
    },
    {
     "name": "stderr",
     "output_type": "stream",
     "text": [
      "2020-04-24 18:10:17 Hail: INFO: hwe_normalized_pca: running PCA using 2000 variants.\n",
      "2020-04-24 18:10:18 Hail: INFO: pca: running PCA with 10 components...\n"
     ]
    },
    {
     "name": "stdout",
     "output_type": "stream",
     "text": [
      "PCA took s:3200, v:2000, p:10 : 7.16 seconds\n"
     ]
    },
    {
     "name": "stderr",
     "output_type": "stream",
     "text": [
      "2020-04-24 18:10:26 Hail: INFO: Wrote all 40 blocks of 2000 x 3200 matrix with block size 401.\n",
      "2020-04-24 18:10:27 Hail: INFO: wrote matrix with 11 rows and 2000 columns as 5 blocks of size 401 to file:/tmp/hail.pcWkcZDbNULq/OxZYOgQwxN.bm\n",
      "2020-04-24 18:10:27 Hail: INFO: wrote matrix with 2000 rows and 3200 columns as 40 blocks of size 401 to file:/tmp/hail.pcWkcZDbNULq/wA6E3zvd6Y.bm\n",
      "2020-04-24 18:10:27 Hail: INFO: wrote matrix with 2000 rows and 3200 columns as 40 blocks of size 401 to file:/tmp/hail.pcWkcZDbNULq/N2IZu98lxn.bm\n",
      "2020-04-24 18:10:28 Hail: INFO: wrote matrix with 3200 rows and 3200 columns as 64 blocks of size 401 to file:/tmp/hail.pcWkcZDbNULq/5AKwHtr2G9.bm\n",
      "2020-04-24 18:10:30 Hail: INFO: wrote matrix with 3200 rows and 3200 columns as 64 blocks of size 401 to file:/tmp/hail.pcWkcZDbNULq/aCMRl4hOCB.bm\n",
      "2020-04-24 18:10:30 Hail: INFO: wrote matrix with 3200 rows and 3200 columns as 64 blocks of size 401 to file:/tmp/hail.pcWkcZDbNULq/8tqNvvrWt7.bm\n",
      "2020-04-24 18:10:31 Hail: INFO: wrote matrix with 3200 rows and 3200 columns as 64 blocks of size 401 to file:/tmp/hail.pcWkcZDbNULq/dAzW5oQllT.bm\n",
      "2020-04-24 18:10:33 Hail: INFO: wrote matrix with 3200 rows and 3200 columns as 64 blocks of size 401 to file:/tmp/hail.pcWkcZDbNULq/twtchKW859.bm\n",
      "2020-04-24 18:10:33 Hail: INFO: wrote matrix with 3200 rows and 3200 columns as 64 blocks of size 401 to file:/tmp/hail.pcWkcZDbNULq/a6wH0gaV5N.bm\n",
      "2020-04-24 18:10:35 Hail: INFO: wrote matrix with 3200 rows and 3200 columns as 64 blocks of size 401 to file:/tmp/hail.pcWkcZDbNULq/Knx0NQxlUE.bm\n",
      "2020-04-24 18:10:37 Hail: INFO: wrote matrix with 3200 rows and 3200 columns as 64 blocks of size 401 to file:/tmp/hail.pcWkcZDbNULq/CvH3sNIjn9.bm\n",
      "2020-04-24 18:10:38 Hail: INFO: wrote matrix with 3200 rows and 3200 columns as 64 blocks of size 401 to file:/tmp/hail.pcWkcZDbNULq/05y6zVdd1j.bm\n",
      "2020-04-24 18:10:40 Hail: INFO: Ordering unsorted dataset with network shuffle\n",
      "2020-04-24 18:10:49 Hail: INFO: Coerced sorted dataset\n",
      "2020-04-24 18:10:57 Hail: INFO: wrote table with 5118400 rows in 64 partitions to /tmp/tmpdkty5xy3/pc_relate_result\n"
     ]
    },
    {
     "name": "stdout",
     "output_type": "stream",
     "text": [
      "Deleting pc_relate results: /tmp/tmpdkty5xy3/pc_relate_result\n",
      "Deleting hail tmp dir: /tmp/hail.pcWkcZDbNULq\n"
     ]
    },
    {
     "name": "stderr",
     "output_type": "stream",
     "text": [
      "2020-04-24 18:10:57 Hail: INFO: hwe_normalized_pca: running PCA using 2000 variants.\n",
      "2020-04-24 18:10:58 Hail: INFO: pca: running PCA with 10 components...\n"
     ]
    },
    {
     "name": "stdout",
     "output_type": "stream",
     "text": [
      "PCA took s:3400, v:2000, p:10 : 7.75 seconds\n"
     ]
    },
    {
     "name": "stderr",
     "output_type": "stream",
     "text": [
      "2020-04-24 18:11:07 Hail: INFO: Wrote all 40 blocks of 2000 x 3400 matrix with block size 426.\n",
      "2020-04-24 18:11:08 Hail: INFO: wrote matrix with 11 rows and 2000 columns as 5 blocks of size 426 to file:/tmp/hail.pcWkcZDbNULq/fFzwcqK1qS.bm\n",
      "2020-04-24 18:11:08 Hail: INFO: wrote matrix with 2000 rows and 3400 columns as 40 blocks of size 426 to file:/tmp/hail.pcWkcZDbNULq/hyzA1WJVkc.bm\n",
      "2020-04-24 18:11:08 Hail: INFO: wrote matrix with 2000 rows and 3400 columns as 40 blocks of size 426 to file:/tmp/hail.pcWkcZDbNULq/d9AQtNwRuO.bm\n",
      "2020-04-24 18:11:09 Hail: INFO: wrote matrix with 3400 rows and 3400 columns as 64 blocks of size 426 to file:/tmp/hail.pcWkcZDbNULq/EZTUHnof0T.bm\n",
      "2020-04-24 18:11:11 Hail: INFO: wrote matrix with 3400 rows and 3400 columns as 64 blocks of size 426 to file:/tmp/hail.pcWkcZDbNULq/T6yhBqZlwT.bm\n",
      "2020-04-24 18:11:11 Hail: INFO: wrote matrix with 3400 rows and 3400 columns as 64 blocks of size 426 to file:/tmp/hail.pcWkcZDbNULq/ziuLGgNekj.bm\n",
      "2020-04-24 18:11:13 Hail: INFO: wrote matrix with 3400 rows and 3400 columns as 64 blocks of size 426 to file:/tmp/hail.pcWkcZDbNULq/NCp6UIo5Ml.bm\n",
      "2020-04-24 18:11:14 Hail: INFO: wrote matrix with 3400 rows and 3400 columns as 64 blocks of size 426 to file:/tmp/hail.pcWkcZDbNULq/BaIC1qxJFP.bm\n",
      "2020-04-24 18:11:15 Hail: INFO: wrote matrix with 3400 rows and 3400 columns as 64 blocks of size 426 to file:/tmp/hail.pcWkcZDbNULq/It2kQhqmF8.bm\n",
      "2020-04-24 18:11:17 Hail: INFO: wrote matrix with 3400 rows and 3400 columns as 64 blocks of size 426 to file:/tmp/hail.pcWkcZDbNULq/LctEXeQdqk.bm\n",
      "2020-04-24 18:11:19 Hail: INFO: wrote matrix with 3400 rows and 3400 columns as 64 blocks of size 426 to file:/tmp/hail.pcWkcZDbNULq/xf2mKziguX.bm\n",
      "2020-04-24 18:11:20 Hail: INFO: wrote matrix with 3400 rows and 3400 columns as 64 blocks of size 426 to file:/tmp/hail.pcWkcZDbNULq/O0bVBie4DM.bm\n",
      "2020-04-24 18:11:22 Hail: INFO: Ordering unsorted dataset with network shuffle\n",
      "2020-04-24 18:11:33 Hail: INFO: Coerced sorted dataset\n",
      "2020-04-24 18:11:41 Hail: INFO: wrote table with 5778300 rows in 64 partitions to /tmp/tmpvcs81c0d/pc_relate_result\n"
     ]
    },
    {
     "name": "stdout",
     "output_type": "stream",
     "text": [
      "Deleting pc_relate results: /tmp/tmpvcs81c0d/pc_relate_result\n",
      "Deleting hail tmp dir: /tmp/hail.pcWkcZDbNULq\n"
     ]
    },
    {
     "name": "stderr",
     "output_type": "stream",
     "text": [
      "2020-04-24 18:11:41 Hail: INFO: hwe_normalized_pca: running PCA using 2000 variants.\n",
      "2020-04-24 18:11:42 Hail: INFO: pca: running PCA with 10 components...\n"
     ]
    },
    {
     "name": "stdout",
     "output_type": "stream",
     "text": [
      "PCA took s:3600, v:2000, p:10 : 9.21 seconds\n"
     ]
    },
    {
     "name": "stderr",
     "output_type": "stream",
     "text": [
      "2020-04-24 18:11:52 Hail: INFO: Wrote all 40 blocks of 2000 x 3600 matrix with block size 451.\n",
      "2020-04-24 18:11:53 Hail: INFO: wrote matrix with 11 rows and 2000 columns as 5 blocks of size 451 to file:/tmp/hail.pcWkcZDbNULq/ucPfLhc8Nl.bm\n",
      "2020-04-24 18:11:53 Hail: INFO: wrote matrix with 2000 rows and 3600 columns as 40 blocks of size 451 to file:/tmp/hail.pcWkcZDbNULq/3qzXJmWFVH.bm\n",
      "2020-04-24 18:11:53 Hail: INFO: wrote matrix with 2000 rows and 3600 columns as 40 blocks of size 451 to file:/tmp/hail.pcWkcZDbNULq/YLpEeNlCFT.bm\n",
      "2020-04-24 18:11:55 Hail: INFO: wrote matrix with 3600 rows and 3600 columns as 64 blocks of size 451 to file:/tmp/hail.pcWkcZDbNULq/BFLSIErzk1.bm\n",
      "2020-04-24 18:11:57 Hail: INFO: wrote matrix with 3600 rows and 3600 columns as 64 blocks of size 451 to file:/tmp/hail.pcWkcZDbNULq/CEwQpPGXcb.bm\n",
      "2020-04-24 18:11:57 Hail: INFO: wrote matrix with 3600 rows and 3600 columns as 64 blocks of size 451 to file:/tmp/hail.pcWkcZDbNULq/qgWMhJkmT2.bm\n",
      "2020-04-24 18:11:59 Hail: INFO: wrote matrix with 3600 rows and 3600 columns as 64 blocks of size 451 to file:/tmp/hail.pcWkcZDbNULq/YbMZPQoh9q.bm\n",
      "2020-04-24 18:12:01 Hail: INFO: wrote matrix with 3600 rows and 3600 columns as 64 blocks of size 451 to file:/tmp/hail.pcWkcZDbNULq/lUkd1bsE67.bm\n",
      "2020-04-24 18:12:01 Hail: INFO: wrote matrix with 3600 rows and 3600 columns as 64 blocks of size 451 to file:/tmp/hail.pcWkcZDbNULq/dYKEiXsRHO.bm\n",
      "2020-04-24 18:12:03 Hail: INFO: wrote matrix with 3600 rows and 3600 columns as 64 blocks of size 451 to file:/tmp/hail.pcWkcZDbNULq/6KfOUoHzbE.bm\n",
      "2020-04-24 18:12:06 Hail: INFO: wrote matrix with 3600 rows and 3600 columns as 64 blocks of size 451 to file:/tmp/hail.pcWkcZDbNULq/4yGwEUJnpN.bm\n",
      "2020-04-24 18:12:06 Hail: INFO: wrote matrix with 3600 rows and 3600 columns as 64 blocks of size 451 to file:/tmp/hail.pcWkcZDbNULq/NXtbcv2e1N.bm\n",
      "2020-04-24 18:12:09 Hail: INFO: Ordering unsorted dataset with network shuffle\n",
      "2020-04-24 18:12:21 Hail: INFO: Coerced sorted dataset\n",
      "2020-04-24 18:12:30 Hail: INFO: wrote table with 6478200 rows in 64 partitions to /tmp/tmplny1zox7/pc_relate_result\n"
     ]
    },
    {
     "name": "stdout",
     "output_type": "stream",
     "text": [
      "Deleting pc_relate results: /tmp/tmplny1zox7/pc_relate_result\n",
      "Deleting hail tmp dir: /tmp/hail.pcWkcZDbNULq\n"
     ]
    },
    {
     "name": "stderr",
     "output_type": "stream",
     "text": [
      "2020-04-24 18:12:31 Hail: INFO: hwe_normalized_pca: running PCA using 2000 variants.\n",
      "2020-04-24 18:12:32 Hail: INFO: pca: running PCA with 10 components...\n"
     ]
    },
    {
     "name": "stdout",
     "output_type": "stream",
     "text": [
      "PCA took s:3800, v:2000, p:10 : 8.65 seconds\n"
     ]
    },
    {
     "name": "stderr",
     "output_type": "stream",
     "text": [
      "2020-04-24 18:12:41 Hail: INFO: Wrote all 40 blocks of 2000 x 3800 matrix with block size 476.\n",
      "2020-04-24 18:12:42 Hail: INFO: wrote matrix with 11 rows and 2000 columns as 5 blocks of size 476 to file:/tmp/hail.pcWkcZDbNULq/WWdA1DwAy9.bm\n",
      "2020-04-24 18:12:42 Hail: INFO: wrote matrix with 2000 rows and 3800 columns as 40 blocks of size 476 to file:/tmp/hail.pcWkcZDbNULq/lrnQCejYlQ.bm\n",
      "2020-04-24 18:12:43 Hail: INFO: wrote matrix with 2000 rows and 3800 columns as 40 blocks of size 476 to file:/tmp/hail.pcWkcZDbNULq/jAdXtdBl9T.bm\n",
      "2020-04-24 18:12:45 Hail: INFO: wrote matrix with 3800 rows and 3800 columns as 64 blocks of size 476 to file:/tmp/hail.pcWkcZDbNULq/aOZ1mOjxyj.bm\n",
      "2020-04-24 18:12:46 Hail: INFO: wrote matrix with 3800 rows and 3800 columns as 64 blocks of size 476 to file:/tmp/hail.pcWkcZDbNULq/5816IkAOkz.bm\n",
      "2020-04-24 18:12:47 Hail: INFO: wrote matrix with 3800 rows and 3800 columns as 64 blocks of size 476 to file:/tmp/hail.pcWkcZDbNULq/GMebGykr9W.bm\n",
      "2020-04-24 18:12:49 Hail: INFO: wrote matrix with 3800 rows and 3800 columns as 64 blocks of size 476 to file:/tmp/hail.pcWkcZDbNULq/g1ozpzGVFF.bm\n",
      "2020-04-24 18:12:50 Hail: INFO: wrote matrix with 3800 rows and 3800 columns as 64 blocks of size 476 to file:/tmp/hail.pcWkcZDbNULq/W0eiISCKUZ.bm\n",
      "2020-04-24 18:12:51 Hail: INFO: wrote matrix with 3800 rows and 3800 columns as 64 blocks of size 476 to file:/tmp/hail.pcWkcZDbNULq/mfrSXvYl1F.bm\n",
      "2020-04-24 18:12:53 Hail: INFO: wrote matrix with 3800 rows and 3800 columns as 64 blocks of size 476 to file:/tmp/hail.pcWkcZDbNULq/cI2kUw6zK6.bm\n",
      "2020-04-24 18:12:56 Hail: INFO: wrote matrix with 3800 rows and 3800 columns as 64 blocks of size 476 to file:/tmp/hail.pcWkcZDbNULq/55EgpQrAEG.bm\n",
      "2020-04-24 18:12:56 Hail: INFO: wrote matrix with 3800 rows and 3800 columns as 64 blocks of size 476 to file:/tmp/hail.pcWkcZDbNULq/Sn6YBdZNPI.bm\n",
      "2020-04-24 18:12:59 Hail: INFO: Ordering unsorted dataset with network shuffle\n",
      "2020-04-24 18:13:12 Hail: INFO: Coerced sorted dataset\n",
      "2020-04-24 18:13:22 Hail: INFO: wrote table with 7218100 rows in 64 partitions to /tmp/tmprkhkg51j/pc_relate_result\n"
     ]
    },
    {
     "name": "stdout",
     "output_type": "stream",
     "text": [
      "Deleting pc_relate results: /tmp/tmprkhkg51j/pc_relate_result\n",
      "Deleting hail tmp dir: /tmp/hail.pcWkcZDbNULq\n"
     ]
    },
    {
     "name": "stderr",
     "output_type": "stream",
     "text": [
      "2020-04-24 18:13:23 Hail: INFO: hwe_normalized_pca: running PCA using 2000 variants.\n",
      "2020-04-24 18:13:24 Hail: INFO: pca: running PCA with 10 components...\n"
     ]
    },
    {
     "name": "stdout",
     "output_type": "stream",
     "text": [
      "PCA took s:4000, v:2000, p:10 : 8.88 seconds\n"
     ]
    },
    {
     "name": "stderr",
     "output_type": "stream",
     "text": [
      "2020-04-24 18:13:34 Hail: INFO: Wrote all 32 blocks of 2000 x 4000 matrix with block size 501.\n",
      "2020-04-24 18:13:35 Hail: INFO: wrote matrix with 11 rows and 2000 columns as 4 blocks of size 501 to file:/tmp/hail.pcWkcZDbNULq/xbGIJPtwr1.bm\n",
      "2020-04-24 18:13:35 Hail: INFO: wrote matrix with 2000 rows and 4000 columns as 32 blocks of size 501 to file:/tmp/hail.pcWkcZDbNULq/X5AAnSU4fq.bm\n",
      "2020-04-24 18:13:35 Hail: INFO: wrote matrix with 2000 rows and 4000 columns as 32 blocks of size 501 to file:/tmp/hail.pcWkcZDbNULq/nAq01Zk7FK.bm\n",
      "2020-04-24 18:13:37 Hail: INFO: wrote matrix with 4000 rows and 4000 columns as 64 blocks of size 501 to file:/tmp/hail.pcWkcZDbNULq/ZmU9TjhFum.bm\n",
      "2020-04-24 18:13:39 Hail: INFO: wrote matrix with 4000 rows and 4000 columns as 64 blocks of size 501 to file:/tmp/hail.pcWkcZDbNULq/6nbhoiMjmF.bm\n",
      "2020-04-24 18:13:40 Hail: INFO: wrote matrix with 4000 rows and 4000 columns as 64 blocks of size 501 to file:/tmp/hail.pcWkcZDbNULq/x7S4zIS0Yi.bm\n",
      "2020-04-24 18:13:42 Hail: INFO: wrote matrix with 4000 rows and 4000 columns as 64 blocks of size 501 to file:/tmp/hail.pcWkcZDbNULq/KkLE8bYPcs.bm\n",
      "2020-04-24 18:13:44 Hail: INFO: wrote matrix with 4000 rows and 4000 columns as 64 blocks of size 501 to file:/tmp/hail.pcWkcZDbNULq/6LZMFL0EmP.bm\n",
      "2020-04-24 18:13:44 Hail: INFO: wrote matrix with 4000 rows and 4000 columns as 64 blocks of size 501 to file:/tmp/hail.pcWkcZDbNULq/am5cqBJ6Np.bm\n",
      "2020-04-24 18:13:47 Hail: INFO: wrote matrix with 4000 rows and 4000 columns as 64 blocks of size 501 to file:/tmp/hail.pcWkcZDbNULq/trlOPZVbSs.bm\n",
      "2020-04-24 18:13:50 Hail: INFO: wrote matrix with 4000 rows and 4000 columns as 64 blocks of size 501 to file:/tmp/hail.pcWkcZDbNULq/iFdBZDN63H.bm\n",
      "2020-04-24 18:13:51 Hail: INFO: wrote matrix with 4000 rows and 4000 columns as 64 blocks of size 501 to file:/tmp/hail.pcWkcZDbNULq/rWh2zO5YYN.bm\n",
      "2020-04-24 18:13:54 Hail: INFO: Ordering unsorted dataset with network shuffle\n",
      "2020-04-24 18:14:09 Hail: INFO: Coerced sorted dataset\n",
      "2020-04-24 18:14:20 Hail: INFO: wrote table with 7998000 rows in 64 partitions to /tmp/tmp1ocr0raz/pc_relate_result\n"
     ]
    },
    {
     "name": "stdout",
     "output_type": "stream",
     "text": [
      "Deleting pc_relate results: /tmp/tmp1ocr0raz/pc_relate_result\n",
      "Deleting hail tmp dir: /tmp/hail.pcWkcZDbNULq\n"
     ]
    },
    {
     "name": "stderr",
     "output_type": "stream",
     "text": [
      "2020-04-24 18:14:21 Hail: INFO: hwe_normalized_pca: running PCA using 2000 variants.\n",
      "2020-04-24 18:14:22 Hail: INFO: pca: running PCA with 10 components...\n"
     ]
    },
    {
     "name": "stdout",
     "output_type": "stream",
     "text": [
      "PCA took s:4200, v:2000, p:10 : 8.85 seconds\n"
     ]
    },
    {
     "name": "stderr",
     "output_type": "stream",
     "text": [
      "2020-04-24 18:14:32 Hail: INFO: Wrote all 32 blocks of 2000 x 4200 matrix with block size 526.\n",
      "2020-04-24 18:14:33 Hail: INFO: wrote matrix with 11 rows and 2000 columns as 4 blocks of size 526 to file:/tmp/hail.pcWkcZDbNULq/G8J5LVezyN.bm\n",
      "2020-04-24 18:14:33 Hail: INFO: wrote matrix with 2000 rows and 4200 columns as 32 blocks of size 526 to file:/tmp/hail.pcWkcZDbNULq/HYnAdYNh5G.bm\n",
      "2020-04-24 18:14:33 Hail: INFO: wrote matrix with 2000 rows and 4200 columns as 32 blocks of size 526 to file:/tmp/hail.pcWkcZDbNULq/7P16VEmv8Y.bm\n",
      "2020-04-24 18:14:35 Hail: INFO: wrote matrix with 4200 rows and 4200 columns as 64 blocks of size 526 to file:/tmp/hail.pcWkcZDbNULq/0Kn68apn3G.bm\n",
      "2020-04-24 18:14:37 Hail: INFO: wrote matrix with 4200 rows and 4200 columns as 64 blocks of size 526 to file:/tmp/hail.pcWkcZDbNULq/pFDBvT0Aa4.bm\n",
      "2020-04-24 18:14:38 Hail: INFO: wrote matrix with 4200 rows and 4200 columns as 64 blocks of size 526 to file:/tmp/hail.pcWkcZDbNULq/fXQeQMBO0k.bm\n",
      "2020-04-24 18:14:40 Hail: INFO: wrote matrix with 4200 rows and 4200 columns as 64 blocks of size 526 to file:/tmp/hail.pcWkcZDbNULq/vLe7NzREQ5.bm\n",
      "2020-04-24 18:14:42 Hail: INFO: wrote matrix with 4200 rows and 4200 columns as 64 blocks of size 526 to file:/tmp/hail.pcWkcZDbNULq/3b9PsZxLMB.bm\n",
      "2020-04-24 18:14:42 Hail: INFO: wrote matrix with 4200 rows and 4200 columns as 64 blocks of size 526 to file:/tmp/hail.pcWkcZDbNULq/Jb3b9MrRf0.bm\n",
      "2020-04-24 18:14:46 Hail: INFO: wrote matrix with 4200 rows and 4200 columns as 64 blocks of size 526 to file:/tmp/hail.pcWkcZDbNULq/jXJqX236Sd.bm\n",
      "2020-04-24 18:14:48 Hail: INFO: wrote matrix with 4200 rows and 4200 columns as 64 blocks of size 526 to file:/tmp/hail.pcWkcZDbNULq/a1fLaC5ICO.bm\n",
      "2020-04-24 18:14:49 Hail: INFO: wrote matrix with 4200 rows and 4200 columns as 64 blocks of size 526 to file:/tmp/hail.pcWkcZDbNULq/Osav7PbR17.bm\n",
      "2020-04-24 18:14:52 Hail: INFO: Ordering unsorted dataset with network shuffle\n",
      "2020-04-24 18:15:09 Hail: INFO: Coerced sorted dataset\n",
      "2020-04-24 18:15:21 Hail: INFO: wrote table with 8817900 rows in 64 partitions to /tmp/tmp426csg10/pc_relate_result\n"
     ]
    },
    {
     "name": "stdout",
     "output_type": "stream",
     "text": [
      "Deleting pc_relate results: /tmp/tmp426csg10/pc_relate_result\n",
      "Deleting hail tmp dir: /tmp/hail.pcWkcZDbNULq\n"
     ]
    },
    {
     "name": "stderr",
     "output_type": "stream",
     "text": [
      "2020-04-24 18:15:21 Hail: INFO: hwe_normalized_pca: running PCA using 2000 variants.\n",
      "2020-04-24 18:15:22 Hail: INFO: pca: running PCA with 10 components...\n"
     ]
    },
    {
     "name": "stdout",
     "output_type": "stream",
     "text": [
      "PCA took s:4400, v:2000, p:10 : 9.59 seconds\n"
     ]
    },
    {
     "name": "stderr",
     "output_type": "stream",
     "text": [
      "2020-04-24 18:15:33 Hail: INFO: Wrote all 32 blocks of 2000 x 4400 matrix with block size 551.\n",
      "2020-04-24 18:15:34 Hail: INFO: wrote matrix with 11 rows and 2000 columns as 4 blocks of size 551 to file:/tmp/hail.pcWkcZDbNULq/5SBTMCRBUC.bm\n",
      "2020-04-24 18:15:34 Hail: INFO: wrote matrix with 2000 rows and 4400 columns as 32 blocks of size 551 to file:/tmp/hail.pcWkcZDbNULq/KNJDgW5CIp.bm\n",
      "2020-04-24 18:15:34 Hail: INFO: wrote matrix with 2000 rows and 4400 columns as 32 blocks of size 551 to file:/tmp/hail.pcWkcZDbNULq/2YR1hL1Rpj.bm\n",
      "2020-04-24 18:15:37 Hail: INFO: wrote matrix with 4400 rows and 4400 columns as 64 blocks of size 551 to file:/tmp/hail.pcWkcZDbNULq/sLEgFFBPnr.bm\n",
      "2020-04-24 18:15:39 Hail: INFO: wrote matrix with 4400 rows and 4400 columns as 64 blocks of size 551 to file:/tmp/hail.pcWkcZDbNULq/0iFgbADN56.bm\n",
      "2020-04-24 18:15:40 Hail: INFO: wrote matrix with 4400 rows and 4400 columns as 64 blocks of size 551 to file:/tmp/hail.pcWkcZDbNULq/TeDt60HdKB.bm\n",
      "2020-04-24 18:15:42 Hail: INFO: wrote matrix with 4400 rows and 4400 columns as 64 blocks of size 551 to file:/tmp/hail.pcWkcZDbNULq/G5oXAbOGlK.bm\n",
      "2020-04-24 18:15:45 Hail: INFO: wrote matrix with 4400 rows and 4400 columns as 64 blocks of size 551 to file:/tmp/hail.pcWkcZDbNULq/corbJo2sEI.bm\n",
      "2020-04-24 18:15:45 Hail: INFO: wrote matrix with 4400 rows and 4400 columns as 64 blocks of size 551 to file:/tmp/hail.pcWkcZDbNULq/4BIdzd97i9.bm\n",
      "2020-04-24 18:15:49 Hail: INFO: wrote matrix with 4400 rows and 4400 columns as 64 blocks of size 551 to file:/tmp/hail.pcWkcZDbNULq/QbtE5zf5te.bm\n",
      "2020-04-24 18:15:52 Hail: INFO: wrote matrix with 4400 rows and 4400 columns as 64 blocks of size 551 to file:/tmp/hail.pcWkcZDbNULq/mNf3ufkVzK.bm\n",
      "2020-04-24 18:15:53 Hail: INFO: wrote matrix with 4400 rows and 4400 columns as 64 blocks of size 551 to file:/tmp/hail.pcWkcZDbNULq/YQWkDtT0fT.bm\n",
      "2020-04-24 18:15:56 Hail: INFO: Ordering unsorted dataset with network shuffle\n",
      "2020-04-24 18:16:14 Hail: INFO: Coerced sorted dataset\n",
      "2020-04-24 18:16:28 Hail: INFO: wrote table with 9677800 rows in 64 partitions to /tmp/tmp7qydzyq_/pc_relate_result\n"
     ]
    },
    {
     "name": "stdout",
     "output_type": "stream",
     "text": [
      "Deleting pc_relate results: /tmp/tmp7qydzyq_/pc_relate_result\n",
      "Deleting hail tmp dir: /tmp/hail.pcWkcZDbNULq\n"
     ]
    },
    {
     "name": "stderr",
     "output_type": "stream",
     "text": [
      "2020-04-24 18:16:28 Hail: INFO: hwe_normalized_pca: running PCA using 2000 variants.\n",
      "2020-04-24 18:16:29 Hail: INFO: pca: running PCA with 10 components...\n"
     ]
    },
    {
     "name": "stdout",
     "output_type": "stream",
     "text": [
      "PCA took s:4600, v:2000, p:10 : 7.34 seconds\n"
     ]
    },
    {
     "name": "stderr",
     "output_type": "stream",
     "text": [
      "2020-04-24 18:16:38 Hail: INFO: Wrote all 32 blocks of 2000 x 4600 matrix with block size 576.\n",
      "2020-04-24 18:16:38 Hail: INFO: wrote matrix with 11 rows and 2000 columns as 4 blocks of size 576 to file:/tmp/hail.pcWkcZDbNULq/QSRahseoJw.bm\n",
      "2020-04-24 18:16:39 Hail: INFO: wrote matrix with 2000 rows and 4600 columns as 32 blocks of size 576 to file:/tmp/hail.pcWkcZDbNULq/AOwUfF0gQK.bm\n",
      "2020-04-24 18:16:39 Hail: INFO: wrote matrix with 2000 rows and 4600 columns as 32 blocks of size 576 to file:/tmp/hail.pcWkcZDbNULq/bL9hhKz1XD.bm\n",
      "2020-04-24 18:16:41 Hail: INFO: wrote matrix with 4600 rows and 4600 columns as 64 blocks of size 576 to file:/tmp/hail.pcWkcZDbNULq/e6XG7t7mbB.bm\n",
      "2020-04-24 18:16:44 Hail: INFO: wrote matrix with 4600 rows and 4600 columns as 64 blocks of size 576 to file:/tmp/hail.pcWkcZDbNULq/PZQzb5JAjH.bm\n",
      "2020-04-24 18:16:44 Hail: INFO: wrote matrix with 4600 rows and 4600 columns as 64 blocks of size 576 to file:/tmp/hail.pcWkcZDbNULq/Q4aobCbRzU.bm\n",
      "2020-04-24 18:16:47 Hail: INFO: wrote matrix with 4600 rows and 4600 columns as 64 blocks of size 576 to file:/tmp/hail.pcWkcZDbNULq/gKSSXUHGJr.bm\n",
      "2020-04-24 18:16:50 Hail: INFO: wrote matrix with 4600 rows and 4600 columns as 64 blocks of size 576 to file:/tmp/hail.pcWkcZDbNULq/GsIF2YXoSc.bm\n",
      "2020-04-24 18:16:50 Hail: INFO: wrote matrix with 4600 rows and 4600 columns as 64 blocks of size 576 to file:/tmp/hail.pcWkcZDbNULq/pLs7rHXJ7K.bm\n",
      "2020-04-24 18:16:54 Hail: INFO: wrote matrix with 4600 rows and 4600 columns as 64 blocks of size 576 to file:/tmp/hail.pcWkcZDbNULq/oMcajNCPS4.bm\n",
      "2020-04-24 18:16:57 Hail: INFO: wrote matrix with 4600 rows and 4600 columns as 64 blocks of size 576 to file:/tmp/hail.pcWkcZDbNULq/taMSarKxKc.bm\n",
      "2020-04-24 18:16:58 Hail: INFO: wrote matrix with 4600 rows and 4600 columns as 64 blocks of size 576 to file:/tmp/hail.pcWkcZDbNULq/Dwe6vbOFTu.bm\n",
      "2020-04-24 18:17:02 Hail: INFO: Ordering unsorted dataset with network shuffle\n",
      "2020-04-24 18:17:21 Hail: INFO: Coerced sorted dataset\n",
      "2020-04-24 18:17:35 Hail: INFO: wrote table with 10577700 rows in 64 partitions to /tmp/tmp55ndl8vp/pc_relate_result\n"
     ]
    },
    {
     "name": "stdout",
     "output_type": "stream",
     "text": [
      "Deleting pc_relate results: /tmp/tmp55ndl8vp/pc_relate_result\n",
      "Deleting hail tmp dir: /tmp/hail.pcWkcZDbNULq\n"
     ]
    },
    {
     "name": "stderr",
     "output_type": "stream",
     "text": [
      "2020-04-24 18:17:36 Hail: INFO: hwe_normalized_pca: running PCA using 2000 variants.\n",
      "2020-04-24 18:17:37 Hail: INFO: pca: running PCA with 10 components...\n"
     ]
    },
    {
     "name": "stdout",
     "output_type": "stream",
     "text": [
      "PCA took s:4800, v:2000, p:10 : 7.31 seconds\n"
     ]
    },
    {
     "name": "stderr",
     "output_type": "stream",
     "text": [
      "2020-04-24 18:17:45 Hail: INFO: Wrote all 32 blocks of 2000 x 4800 matrix with block size 601.\n",
      "2020-04-24 18:17:46 Hail: INFO: wrote matrix with 11 rows and 2000 columns as 4 blocks of size 601 to file:/tmp/hail.pcWkcZDbNULq/UYGd1x5nPS.bm\n",
      "2020-04-24 18:17:47 Hail: INFO: wrote matrix with 2000 rows and 4800 columns as 32 blocks of size 601 to file:/tmp/hail.pcWkcZDbNULq/Neg0VlIvGn.bm\n",
      "2020-04-24 18:17:47 Hail: INFO: wrote matrix with 2000 rows and 4800 columns as 32 blocks of size 601 to file:/tmp/hail.pcWkcZDbNULq/XfNqJafdZd.bm\n",
      "2020-04-24 18:17:50 Hail: INFO: wrote matrix with 4800 rows and 4800 columns as 64 blocks of size 601 to file:/tmp/hail.pcWkcZDbNULq/o76dcNjxpp.bm\n",
      "2020-04-24 18:17:53 Hail: INFO: wrote matrix with 4800 rows and 4800 columns as 64 blocks of size 601 to file:/tmp/hail.pcWkcZDbNULq/I83aAUqQEW.bm\n",
      "2020-04-24 18:17:53 Hail: INFO: wrote matrix with 4800 rows and 4800 columns as 64 blocks of size 601 to file:/tmp/hail.pcWkcZDbNULq/AiBtwMlQ7b.bm\n",
      "2020-04-24 18:17:56 Hail: INFO: wrote matrix with 4800 rows and 4800 columns as 64 blocks of size 601 to file:/tmp/hail.pcWkcZDbNULq/w4pm1bROg5.bm\n",
      "2020-04-24 18:17:59 Hail: INFO: wrote matrix with 4800 rows and 4800 columns as 64 blocks of size 601 to file:/tmp/hail.pcWkcZDbNULq/X5SWB82r3j.bm\n",
      "2020-04-24 18:17:59 Hail: INFO: wrote matrix with 4800 rows and 4800 columns as 64 blocks of size 601 to file:/tmp/hail.pcWkcZDbNULq/zkKz9wI6Hm.bm\n",
      "2020-04-24 18:18:03 Hail: INFO: wrote matrix with 4800 rows and 4800 columns as 64 blocks of size 601 to file:/tmp/hail.pcWkcZDbNULq/zzfIS8GGPP.bm\n",
      "2020-04-24 18:18:08 Hail: INFO: wrote matrix with 4800 rows and 4800 columns as 64 blocks of size 601 to file:/tmp/hail.pcWkcZDbNULq/YTxjQa6bVT.bm\n",
      "2020-04-24 18:18:09 Hail: INFO: wrote matrix with 4800 rows and 4800 columns as 64 blocks of size 601 to file:/tmp/hail.pcWkcZDbNULq/jqkJOxWev0.bm\n",
      "2020-04-24 18:18:14 Hail: INFO: Ordering unsorted dataset with network shuffle\n",
      "2020-04-24 18:18:36 Hail: INFO: Coerced sorted dataset\n",
      "2020-04-24 18:18:51 Hail: INFO: wrote table with 11517600 rows in 64 partitions to /tmp/tmp0z2dfprk/pc_relate_result\n"
     ]
    },
    {
     "name": "stdout",
     "output_type": "stream",
     "text": [
      "Deleting pc_relate results: /tmp/tmp0z2dfprk/pc_relate_result\n",
      "Deleting hail tmp dir: /tmp/hail.pcWkcZDbNULq\n"
     ]
    },
    {
     "name": "stderr",
     "output_type": "stream",
     "text": [
      "2020-04-24 18:18:52 Hail: INFO: hwe_normalized_pca: running PCA using 2000 variants.\n",
      "2020-04-24 18:18:53 Hail: INFO: pca: running PCA with 10 components...\n"
     ]
    },
    {
     "name": "stdout",
     "output_type": "stream",
     "text": [
      "PCA took s:5000, v:2000, p:10 : 9.17 seconds\n"
     ]
    },
    {
     "name": "stderr",
     "output_type": "stream",
     "text": [
      "2020-04-24 18:19:03 Hail: INFO: Wrote all 32 blocks of 2000 x 5000 matrix with block size 626.\n",
      "2020-04-24 18:19:04 Hail: INFO: wrote matrix with 11 rows and 2000 columns as 4 blocks of size 626 to file:/tmp/hail.pcWkcZDbNULq/rhyc8j1rY7.bm\n",
      "2020-04-24 18:19:04 Hail: INFO: wrote matrix with 2000 rows and 5000 columns as 32 blocks of size 626 to file:/tmp/hail.pcWkcZDbNULq/d2ypmyVCEy.bm\n",
      "2020-04-24 18:19:04 Hail: INFO: wrote matrix with 2000 rows and 5000 columns as 32 blocks of size 626 to file:/tmp/hail.pcWkcZDbNULq/kuZcgY8qxp.bm\n",
      "2020-04-24 18:19:07 Hail: INFO: wrote matrix with 5000 rows and 5000 columns as 64 blocks of size 626 to file:/tmp/hail.pcWkcZDbNULq/xOYRER8JRz.bm\n",
      "2020-04-24 18:19:10 Hail: INFO: wrote matrix with 5000 rows and 5000 columns as 64 blocks of size 626 to file:/tmp/hail.pcWkcZDbNULq/kq7ZQoW0vd.bm\n",
      "2020-04-24 18:19:11 Hail: INFO: wrote matrix with 5000 rows and 5000 columns as 64 blocks of size 626 to file:/tmp/hail.pcWkcZDbNULq/bLZXJ4gz7e.bm\n",
      "2020-04-24 18:19:14 Hail: INFO: wrote matrix with 5000 rows and 5000 columns as 64 blocks of size 626 to file:/tmp/hail.pcWkcZDbNULq/hvW15ueYrK.bm\n",
      "2020-04-24 18:19:17 Hail: INFO: wrote matrix with 5000 rows and 5000 columns as 64 blocks of size 626 to file:/tmp/hail.pcWkcZDbNULq/BePXbVbTNV.bm\n",
      "2020-04-24 18:19:17 Hail: INFO: wrote matrix with 5000 rows and 5000 columns as 64 blocks of size 626 to file:/tmp/hail.pcWkcZDbNULq/WYF9WIJOFl.bm\n",
      "2020-04-24 18:19:22 Hail: INFO: wrote matrix with 5000 rows and 5000 columns as 64 blocks of size 626 to file:/tmp/hail.pcWkcZDbNULq/z1hkEsYHOj.bm\n",
      "2020-04-24 18:19:26 Hail: INFO: wrote matrix with 5000 rows and 5000 columns as 64 blocks of size 626 to file:/tmp/hail.pcWkcZDbNULq/MZiODMsIcw.bm\n",
      "2020-04-24 18:19:27 Hail: INFO: wrote matrix with 5000 rows and 5000 columns as 64 blocks of size 626 to file:/tmp/hail.pcWkcZDbNULq/bmUyCCPLZ6.bm\n",
      "2020-04-24 18:19:32 Hail: INFO: Ordering unsorted dataset with network shuffle\n",
      "2020-04-24 18:19:56 Hail: INFO: Coerced sorted dataset\n",
      "2020-04-24 18:20:15 Hail: INFO: wrote table with 12497500 rows in 64 partitions to /tmp/tmpt5r55l3r/pc_relate_result\n"
     ]
    },
    {
     "name": "stdout",
     "output_type": "stream",
     "text": [
      "Deleting pc_relate results: /tmp/tmpt5r55l3r/pc_relate_result\n",
      "Deleting hail tmp dir: /tmp/hail.pcWkcZDbNULq\n"
     ]
    },
    {
     "name": "stderr",
     "output_type": "stream",
     "text": [
      "2020-04-24 18:20:16 Hail: INFO: hwe_normalized_pca: running PCA using 2000 variants.\n",
      "2020-04-24 18:20:17 Hail: INFO: pca: running PCA with 10 components...\n"
     ]
    },
    {
     "name": "stdout",
     "output_type": "stream",
     "text": [
      "PCA took s:5200, v:2000, p:10 : 7.70 seconds\n"
     ]
    },
    {
     "name": "stderr",
     "output_type": "stream",
     "text": [
      "2020-04-24 18:20:26 Hail: INFO: Wrote all 32 blocks of 2000 x 5200 matrix with block size 651.\n",
      "2020-04-24 18:20:27 Hail: INFO: wrote matrix with 11 rows and 2000 columns as 4 blocks of size 651 to file:/tmp/hail.pcWkcZDbNULq/dY46v7lGJO.bm\n",
      "2020-04-24 18:20:27 Hail: INFO: wrote matrix with 2000 rows and 5200 columns as 32 blocks of size 651 to file:/tmp/hail.pcWkcZDbNULq/5b5QXfBt1j.bm\n",
      "2020-04-24 18:20:27 Hail: INFO: wrote matrix with 2000 rows and 5200 columns as 32 blocks of size 651 to file:/tmp/hail.pcWkcZDbNULq/YKpXMaXzZA.bm\n",
      "2020-04-24 18:20:31 Hail: INFO: wrote matrix with 5200 rows and 5200 columns as 64 blocks of size 651 to file:/tmp/hail.pcWkcZDbNULq/CTZS20ZrEs.bm\n",
      "2020-04-24 18:20:34 Hail: INFO: wrote matrix with 5200 rows and 5200 columns as 64 blocks of size 651 to file:/tmp/hail.pcWkcZDbNULq/EIyi2XxcOs.bm\n",
      "2020-04-24 18:20:34 Hail: INFO: wrote matrix with 5200 rows and 5200 columns as 64 blocks of size 651 to file:/tmp/hail.pcWkcZDbNULq/jlbg3arDxk.bm\n",
      "2020-04-24 18:20:38 Hail: INFO: wrote matrix with 5200 rows and 5200 columns as 64 blocks of size 651 to file:/tmp/hail.pcWkcZDbNULq/KveuNl9YCS.bm\n",
      "2020-04-24 18:20:41 Hail: INFO: wrote matrix with 5200 rows and 5200 columns as 64 blocks of size 651 to file:/tmp/hail.pcWkcZDbNULq/chYL6PhhEM.bm\n",
      "2020-04-24 18:20:42 Hail: INFO: wrote matrix with 5200 rows and 5200 columns as 64 blocks of size 651 to file:/tmp/hail.pcWkcZDbNULq/x3hJ3HT0Gv.bm\n",
      "2020-04-24 18:20:46 Hail: INFO: wrote matrix with 5200 rows and 5200 columns as 64 blocks of size 651 to file:/tmp/hail.pcWkcZDbNULq/8ChqJGK78o.bm\n",
      "2020-04-24 18:20:51 Hail: INFO: wrote matrix with 5200 rows and 5200 columns as 64 blocks of size 651 to file:/tmp/hail.pcWkcZDbNULq/9wUsUblIft.bm\n",
      "2020-04-24 18:20:51 Hail: INFO: wrote matrix with 5200 rows and 5200 columns as 64 blocks of size 651 to file:/tmp/hail.pcWkcZDbNULq/MSQBbajOxy.bm\n",
      "2020-04-24 18:20:57 Hail: INFO: Ordering unsorted dataset with network shuffle\n",
      "2020-04-24 18:21:21 Hail: INFO: Coerced sorted dataset\n",
      "2020-04-24 18:21:39 Hail: INFO: wrote table with 13517400 rows in 64 partitions to /tmp/tmp3m_w3509/pc_relate_result\n"
     ]
    },
    {
     "name": "stdout",
     "output_type": "stream",
     "text": [
      "Deleting pc_relate results: /tmp/tmp3m_w3509/pc_relate_result\n",
      "Deleting hail tmp dir: /tmp/hail.pcWkcZDbNULq\n"
     ]
    },
    {
     "name": "stderr",
     "output_type": "stream",
     "text": [
      "2020-04-24 18:21:40 Hail: INFO: hwe_normalized_pca: running PCA using 2000 variants.\n",
      "2020-04-24 18:21:41 Hail: INFO: pca: running PCA with 10 components...\n"
     ]
    },
    {
     "name": "stdout",
     "output_type": "stream",
     "text": [
      "PCA took s:5400, v:2000, p:10 : 11.50 seconds\n"
     ]
    },
    {
     "name": "stderr",
     "output_type": "stream",
     "text": [
      "2020-04-24 18:21:54 Hail: INFO: Wrote all 24 blocks of 2000 x 5400 matrix with block size 676.\n",
      "2020-04-24 18:21:55 Hail: INFO: wrote matrix with 11 rows and 2000 columns as 3 blocks of size 676 to file:/tmp/hail.pcWkcZDbNULq/ad91PAO4BN.bm\n",
      "2020-04-24 18:21:55 Hail: INFO: wrote matrix with 2000 rows and 5400 columns as 24 blocks of size 676 to file:/tmp/hail.pcWkcZDbNULq/fM91httSJc.bm\n",
      "2020-04-24 18:21:55 Hail: INFO: wrote matrix with 2000 rows and 5400 columns as 24 blocks of size 676 to file:/tmp/hail.pcWkcZDbNULq/itWSXcb1Bs.bm\n",
      "2020-04-24 18:21:59 Hail: INFO: wrote matrix with 5400 rows and 5400 columns as 64 blocks of size 676 to file:/tmp/hail.pcWkcZDbNULq/XyChzsjkaS.bm\n",
      "2020-04-24 18:22:02 Hail: INFO: wrote matrix with 5400 rows and 5400 columns as 64 blocks of size 676 to file:/tmp/hail.pcWkcZDbNULq/jndKnCo5Tf.bm\n",
      "2020-04-24 18:22:03 Hail: INFO: wrote matrix with 5400 rows and 5400 columns as 64 blocks of size 676 to file:/tmp/hail.pcWkcZDbNULq/mlFQ0qkQNE.bm\n",
      "2020-04-24 18:22:07 Hail: INFO: wrote matrix with 5400 rows and 5400 columns as 64 blocks of size 676 to file:/tmp/hail.pcWkcZDbNULq/HFGrHcc5N7.bm\n",
      "2020-04-24 18:22:10 Hail: INFO: wrote matrix with 5400 rows and 5400 columns as 64 blocks of size 676 to file:/tmp/hail.pcWkcZDbNULq/Z2DYSlWya5.bm\n",
      "2020-04-24 18:22:11 Hail: INFO: wrote matrix with 5400 rows and 5400 columns as 64 blocks of size 676 to file:/tmp/hail.pcWkcZDbNULq/3Ux5OpmouF.bm\n",
      "2020-04-24 18:22:15 Hail: INFO: wrote matrix with 5400 rows and 5400 columns as 64 blocks of size 676 to file:/tmp/hail.pcWkcZDbNULq/fLlxxmlaPF.bm\n",
      "2020-04-24 18:22:20 Hail: INFO: wrote matrix with 5400 rows and 5400 columns as 64 blocks of size 676 to file:/tmp/hail.pcWkcZDbNULq/gS271Vhkli.bm\n",
      "2020-04-24 18:22:21 Hail: INFO: wrote matrix with 5400 rows and 5400 columns as 64 blocks of size 676 to file:/tmp/hail.pcWkcZDbNULq/houx3ykLWI.bm\n",
      "2020-04-24 18:22:26 Hail: INFO: Ordering unsorted dataset with network shuffle\n",
      "2020-04-24 18:22:53 Hail: INFO: Coerced sorted dataset\n",
      "2020-04-24 18:23:12 Hail: INFO: wrote table with 14577300 rows in 64 partitions to /tmp/tmpnvn4_b8m/pc_relate_result\n"
     ]
    },
    {
     "name": "stdout",
     "output_type": "stream",
     "text": [
      "Deleting pc_relate results: /tmp/tmpnvn4_b8m/pc_relate_result\n",
      "Deleting hail tmp dir: /tmp/hail.pcWkcZDbNULq\n"
     ]
    },
    {
     "name": "stderr",
     "output_type": "stream",
     "text": [
      "2020-04-24 18:23:13 Hail: INFO: hwe_normalized_pca: running PCA using 2000 variants.\n",
      "2020-04-24 18:23:14 Hail: INFO: pca: running PCA with 10 components...\n"
     ]
    },
    {
     "name": "stdout",
     "output_type": "stream",
     "text": [
      "PCA took s:5600, v:2000, p:10 : 9.77 seconds\n"
     ]
    },
    {
     "name": "stderr",
     "output_type": "stream",
     "text": [
      "2020-04-24 18:23:25 Hail: INFO: Wrote all 24 blocks of 2000 x 5600 matrix with block size 701.\n",
      "2020-04-24 18:23:26 Hail: INFO: wrote matrix with 11 rows and 2000 columns as 3 blocks of size 701 to file:/tmp/hail.pcWkcZDbNULq/uPOoBd2yJA.bm\n",
      "2020-04-24 18:23:26 Hail: INFO: wrote matrix with 2000 rows and 5600 columns as 24 blocks of size 701 to file:/tmp/hail.pcWkcZDbNULq/23r1BxFQe5.bm\n",
      "2020-04-24 18:23:27 Hail: INFO: wrote matrix with 2000 rows and 5600 columns as 24 blocks of size 701 to file:/tmp/hail.pcWkcZDbNULq/1TUn86qHxY.bm\n",
      "2020-04-24 18:23:30 Hail: INFO: wrote matrix with 5600 rows and 5600 columns as 64 blocks of size 701 to file:/tmp/hail.pcWkcZDbNULq/Emi5e65Agi.bm\n",
      "2020-04-24 18:23:34 Hail: INFO: wrote matrix with 5600 rows and 5600 columns as 64 blocks of size 701 to file:/tmp/hail.pcWkcZDbNULq/JyjoRPecUv.bm\n",
      "2020-04-24 18:23:35 Hail: INFO: wrote matrix with 5600 rows and 5600 columns as 64 blocks of size 701 to file:/tmp/hail.pcWkcZDbNULq/8cHSFc0dBH.bm\n",
      "2020-04-24 18:23:38 Hail: INFO: wrote matrix with 5600 rows and 5600 columns as 64 blocks of size 701 to file:/tmp/hail.pcWkcZDbNULq/cE3LoN1FIQ.bm\n",
      "2020-04-24 18:23:42 Hail: INFO: wrote matrix with 5600 rows and 5600 columns as 64 blocks of size 701 to file:/tmp/hail.pcWkcZDbNULq/Xb5WBe2XDk.bm\n",
      "2020-04-24 18:23:43 Hail: INFO: wrote matrix with 5600 rows and 5600 columns as 64 blocks of size 701 to file:/tmp/hail.pcWkcZDbNULq/ymTVAh47rf.bm\n",
      "2020-04-24 18:23:48 Hail: INFO: wrote matrix with 5600 rows and 5600 columns as 64 blocks of size 701 to file:/tmp/hail.pcWkcZDbNULq/RqimXRziv6.bm\n",
      "2020-04-24 18:23:52 Hail: INFO: wrote matrix with 5600 rows and 5600 columns as 64 blocks of size 701 to file:/tmp/hail.pcWkcZDbNULq/FmBbEovPaI.bm\n",
      "2020-04-24 18:23:53 Hail: INFO: wrote matrix with 5600 rows and 5600 columns as 64 blocks of size 701 to file:/tmp/hail.pcWkcZDbNULq/cP8DwvPqVj.bm\n",
      "2020-04-24 18:23:59 Hail: INFO: Ordering unsorted dataset with network shuffle\n",
      "2020-04-24 18:24:28 Hail: INFO: Coerced sorted dataset\n",
      "2020-04-24 18:24:49 Hail: INFO: wrote table with 15677200 rows in 64 partitions to /tmp/tmpicraov9l/pc_relate_result\n"
     ]
    },
    {
     "name": "stdout",
     "output_type": "stream",
     "text": [
      "Deleting pc_relate results: /tmp/tmpicraov9l/pc_relate_result\n",
      "Deleting hail tmp dir: /tmp/hail.pcWkcZDbNULq\n"
     ]
    },
    {
     "name": "stderr",
     "output_type": "stream",
     "text": [
      "2020-04-24 18:24:50 Hail: INFO: hwe_normalized_pca: running PCA using 2000 variants.\n",
      "2020-04-24 18:24:51 Hail: INFO: pca: running PCA with 10 components...\n"
     ]
    },
    {
     "name": "stdout",
     "output_type": "stream",
     "text": [
      "PCA took s:5800, v:2000, p:10 : 9.92 seconds\n"
     ]
    },
    {
     "name": "stderr",
     "output_type": "stream",
     "text": [
      "2020-04-24 18:25:02 Hail: INFO: Wrote all 24 blocks of 2000 x 5800 matrix with block size 726.\n",
      "2020-04-24 18:25:04 Hail: INFO: wrote matrix with 11 rows and 2000 columns as 3 blocks of size 726 to file:/tmp/hail.pcWkcZDbNULq/dJEflIRXNo.bm\n",
      "2020-04-24 18:25:04 Hail: INFO: wrote matrix with 2000 rows and 5800 columns as 24 blocks of size 726 to file:/tmp/hail.pcWkcZDbNULq/QY4hLd0kyU.bm\n",
      "2020-04-24 18:25:04 Hail: INFO: wrote matrix with 2000 rows and 5800 columns as 24 blocks of size 726 to file:/tmp/hail.pcWkcZDbNULq/IcLsjxJqb3.bm\n",
      "2020-04-24 18:25:08 Hail: INFO: wrote matrix with 5800 rows and 5800 columns as 64 blocks of size 726 to file:/tmp/hail.pcWkcZDbNULq/nWsJyZK9NE.bm\n",
      "2020-04-24 18:25:12 Hail: INFO: wrote matrix with 5800 rows and 5800 columns as 64 blocks of size 726 to file:/tmp/hail.pcWkcZDbNULq/KlqTlVsxlm.bm\n",
      "2020-04-24 18:25:12 Hail: INFO: wrote matrix with 5800 rows and 5800 columns as 64 blocks of size 726 to file:/tmp/hail.pcWkcZDbNULq/c9rxFM78M6.bm\n",
      "2020-04-24 18:25:16 Hail: INFO: wrote matrix with 5800 rows and 5800 columns as 64 blocks of size 726 to file:/tmp/hail.pcWkcZDbNULq/yWhw60o9Rz.bm\n",
      "2020-04-24 18:25:21 Hail: INFO: wrote matrix with 5800 rows and 5800 columns as 64 blocks of size 726 to file:/tmp/hail.pcWkcZDbNULq/H4zZkJlRct.bm\n",
      "2020-04-24 18:25:21 Hail: INFO: wrote matrix with 5800 rows and 5800 columns as 64 blocks of size 726 to file:/tmp/hail.pcWkcZDbNULq/clAAWMuFmg.bm\n",
      "2020-04-24 18:25:26 Hail: INFO: wrote matrix with 5800 rows and 5800 columns as 64 blocks of size 726 to file:/tmp/hail.pcWkcZDbNULq/WXVIRI0dcH.bm\n",
      "2020-04-24 18:25:31 Hail: INFO: wrote matrix with 5800 rows and 5800 columns as 64 blocks of size 726 to file:/tmp/hail.pcWkcZDbNULq/Cwin10YSXC.bm\n",
      "2020-04-24 18:25:32 Hail: INFO: wrote matrix with 5800 rows and 5800 columns as 64 blocks of size 726 to file:/tmp/hail.pcWkcZDbNULq/HAeJlqGUkr.bm\n",
      "2020-04-24 18:25:38 Hail: INFO: Ordering unsorted dataset with network shuffle\n",
      "2020-04-24 18:26:09 Hail: INFO: Coerced sorted dataset\n",
      "2020-04-24 18:26:32 Hail: INFO: wrote table with 16817100 rows in 64 partitions to /tmp/tmp150_medv/pc_relate_result\n"
     ]
    },
    {
     "name": "stdout",
     "output_type": "stream",
     "text": [
      "Deleting pc_relate results: /tmp/tmp150_medv/pc_relate_result\n",
      "Deleting hail tmp dir: /tmp/hail.pcWkcZDbNULq\n"
     ]
    },
    {
     "name": "stderr",
     "output_type": "stream",
     "text": [
      "2020-04-24 18:26:33 Hail: INFO: hwe_normalized_pca: running PCA using 2000 variants.\n",
      "2020-04-24 18:26:34 Hail: INFO: pca: running PCA with 10 components...\n"
     ]
    },
    {
     "name": "stdout",
     "output_type": "stream",
     "text": [
      "PCA took s:6000, v:2000, p:10 : 9.99 seconds\n"
     ]
    },
    {
     "name": "stderr",
     "output_type": "stream",
     "text": [
      "2020-04-24 18:26:45 Hail: INFO: Wrote all 24 blocks of 2000 x 6000 matrix with block size 751.\n",
      "2020-04-24 18:26:46 Hail: INFO: wrote matrix with 11 rows and 2000 columns as 3 blocks of size 751 to file:/tmp/hail.pcWkcZDbNULq/yLgKEVznJU.bm\n",
      "2020-04-24 18:26:47 Hail: INFO: wrote matrix with 2000 rows and 6000 columns as 24 blocks of size 751 to file:/tmp/hail.pcWkcZDbNULq/jQG8lLqjzr.bm\n",
      "2020-04-24 18:26:47 Hail: INFO: wrote matrix with 2000 rows and 6000 columns as 24 blocks of size 751 to file:/tmp/hail.pcWkcZDbNULq/5qzoR9RLJG.bm\n",
      "2020-04-24 18:26:51 Hail: INFO: wrote matrix with 6000 rows and 6000 columns as 64 blocks of size 751 to file:/tmp/hail.pcWkcZDbNULq/KkbCkSgJjt.bm\n",
      "2020-04-24 18:26:55 Hail: INFO: wrote matrix with 6000 rows and 6000 columns as 64 blocks of size 751 to file:/tmp/hail.pcWkcZDbNULq/FtzLs2p65p.bm\n",
      "2020-04-24 18:26:56 Hail: INFO: wrote matrix with 6000 rows and 6000 columns as 64 blocks of size 751 to file:/tmp/hail.pcWkcZDbNULq/sCqThHboMP.bm\n",
      "2020-04-24 18:27:00 Hail: INFO: wrote matrix with 6000 rows and 6000 columns as 64 blocks of size 751 to file:/tmp/hail.pcWkcZDbNULq/o3YqbO2Pro.bm\n",
      "2020-04-24 18:27:04 Hail: INFO: wrote matrix with 6000 rows and 6000 columns as 64 blocks of size 751 to file:/tmp/hail.pcWkcZDbNULq/Hx84TCCPTD.bm\n",
      "2020-04-24 18:27:05 Hail: INFO: wrote matrix with 6000 rows and 6000 columns as 64 blocks of size 751 to file:/tmp/hail.pcWkcZDbNULq/90rfXnTZVO.bm\n",
      "2020-04-24 18:27:11 Hail: INFO: wrote matrix with 6000 rows and 6000 columns as 64 blocks of size 751 to file:/tmp/hail.pcWkcZDbNULq/O5UKx50Q05.bm\n",
      "2020-04-24 18:27:16 Hail: INFO: wrote matrix with 6000 rows and 6000 columns as 64 blocks of size 751 to file:/tmp/hail.pcWkcZDbNULq/gmcuUD0hZi.bm\n",
      "2020-04-24 18:27:17 Hail: INFO: wrote matrix with 6000 rows and 6000 columns as 64 blocks of size 751 to file:/tmp/hail.pcWkcZDbNULq/h1KT6gOQPL.bm\n",
      "2020-04-24 18:27:24 Hail: INFO: Ordering unsorted dataset with network shuffle\n",
      "2020-04-24 18:27:56 Hail: INFO: Coerced sorted dataset\n",
      "2020-04-24 18:28:20 Hail: INFO: wrote table with 17997000 rows in 64 partitions to /tmp/tmpknxt468m/pc_relate_result\n"
     ]
    },
    {
     "name": "stdout",
     "output_type": "stream",
     "text": [
      "Deleting pc_relate results: /tmp/tmpknxt468m/pc_relate_result\n",
      "Deleting hail tmp dir: /tmp/hail.pcWkcZDbNULq\n"
     ]
    },
    {
     "name": "stderr",
     "output_type": "stream",
     "text": [
      "2020-04-24 18:28:21 Hail: INFO: hwe_normalized_pca: running PCA using 2000 variants.\n",
      "2020-04-24 18:28:23 Hail: INFO: pca: running PCA with 10 components...\n"
     ]
    },
    {
     "name": "stdout",
     "output_type": "stream",
     "text": [
      "PCA took s:6200, v:2000, p:10 : 9.97 seconds\n"
     ]
    },
    {
     "name": "stderr",
     "output_type": "stream",
     "text": [
      "2020-04-24 18:28:34 Hail: INFO: Wrote all 24 blocks of 2000 x 6200 matrix with block size 776.\n",
      "2020-04-24 18:28:35 Hail: INFO: wrote matrix with 11 rows and 2000 columns as 3 blocks of size 776 to file:/tmp/hail.pcWkcZDbNULq/TnbPyNPyQx.bm\n",
      "2020-04-24 18:28:35 Hail: INFO: wrote matrix with 2000 rows and 6200 columns as 24 blocks of size 776 to file:/tmp/hail.pcWkcZDbNULq/Wol76Qujmt.bm\n",
      "2020-04-24 18:28:36 Hail: INFO: wrote matrix with 2000 rows and 6200 columns as 24 blocks of size 776 to file:/tmp/hail.pcWkcZDbNULq/ky0zVebJ9A.bm\n",
      "2020-04-24 18:28:40 Hail: INFO: wrote matrix with 6200 rows and 6200 columns as 64 blocks of size 776 to file:/tmp/hail.pcWkcZDbNULq/5eKKngBW6Y.bm\n",
      "2020-04-24 18:28:45 Hail: INFO: wrote matrix with 6200 rows and 6200 columns as 64 blocks of size 776 to file:/tmp/hail.pcWkcZDbNULq/rPHP1rNlVW.bm\n",
      "2020-04-24 18:28:45 Hail: INFO: wrote matrix with 6200 rows and 6200 columns as 64 blocks of size 776 to file:/tmp/hail.pcWkcZDbNULq/Ul1MKg1iQm.bm\n",
      "2020-04-24 18:28:50 Hail: INFO: wrote matrix with 6200 rows and 6200 columns as 64 blocks of size 776 to file:/tmp/hail.pcWkcZDbNULq/U6vx5kGcDZ.bm\n",
      "2020-04-24 18:28:54 Hail: INFO: wrote matrix with 6200 rows and 6200 columns as 64 blocks of size 776 to file:/tmp/hail.pcWkcZDbNULq/LC6XzpdOog.bm\n",
      "2020-04-24 18:28:55 Hail: INFO: wrote matrix with 6200 rows and 6200 columns as 64 blocks of size 776 to file:/tmp/hail.pcWkcZDbNULq/FYcKrKR8TY.bm\n",
      "2020-04-24 18:29:01 Hail: INFO: wrote matrix with 6200 rows and 6200 columns as 64 blocks of size 776 to file:/tmp/hail.pcWkcZDbNULq/6nJzMwGEwH.bm\n",
      "2020-04-24 18:29:06 Hail: INFO: wrote matrix with 6200 rows and 6200 columns as 64 blocks of size 776 to file:/tmp/hail.pcWkcZDbNULq/tkO4pG1SGf.bm\n",
      "2020-04-24 18:29:07 Hail: INFO: wrote matrix with 6200 rows and 6200 columns as 64 blocks of size 776 to file:/tmp/hail.pcWkcZDbNULq/vtWbFC3E9D.bm\n",
      "2020-04-24 18:29:14 Hail: INFO: Ordering unsorted dataset with network shuffle\n",
      "2020-04-24 18:29:49 Hail: INFO: Coerced sorted dataset\n",
      "2020-04-24 18:30:15 Hail: INFO: wrote table with 19216900 rows in 64 partitions to /tmp/tmpy_b26sxi/pc_relate_result\n"
     ]
    },
    {
     "name": "stdout",
     "output_type": "stream",
     "text": [
      "Deleting pc_relate results: /tmp/tmpy_b26sxi/pc_relate_result\n",
      "Deleting hail tmp dir: /tmp/hail.pcWkcZDbNULq\n"
     ]
    },
    {
     "name": "stderr",
     "output_type": "stream",
     "text": [
      "2020-04-24 18:30:15 Hail: INFO: balding_nichols_model: generating genotypes for 10 populations, 6400 samples, and 2000 variants...\n",
      "2020-04-24 18:30:16 Hail: INFO: Coerced sorted dataset\n",
      "2020-04-24 18:30:19 Hail: INFO: wrote matrix table with 2000 rows and 6400 columns in 8 partitions to /home/rav/data/tmp/mt_6400_2000_10.mt\n",
      "2020-04-24 18:30:20 Hail: INFO: hwe_normalized_pca: running PCA using 2000 variants.\n",
      "2020-04-24 18:30:21 Hail: INFO: pca: running PCA with 10 components...\n"
     ]
    },
    {
     "name": "stdout",
     "output_type": "stream",
     "text": [
      "PCA took s:6400, v:2000, p:10 : 12.76 seconds\n"
     ]
    },
    {
     "name": "stderr",
     "output_type": "stream",
     "text": [
      "2020-04-24 18:30:35 Hail: INFO: Wrote all 24 blocks of 2000 x 6400 matrix with block size 801.\n",
      "2020-04-24 18:30:37 Hail: INFO: wrote matrix with 11 rows and 2000 columns as 3 blocks of size 801 to file:/tmp/hail.pcWkcZDbNULq/d4yz34L7aZ.bm\n",
      "2020-04-24 18:30:37 Hail: INFO: wrote matrix with 2000 rows and 6400 columns as 24 blocks of size 801 to file:/tmp/hail.pcWkcZDbNULq/8ZvCNoa6Tu.bm\n",
      "2020-04-24 18:30:37 Hail: INFO: wrote matrix with 2000 rows and 6400 columns as 24 blocks of size 801 to file:/tmp/hail.pcWkcZDbNULq/Qb9WSqOuq0.bm\n",
      "2020-04-24 18:30:42 Hail: INFO: wrote matrix with 6400 rows and 6400 columns as 64 blocks of size 801 to file:/tmp/hail.pcWkcZDbNULq/ss0MJvuKOc.bm\n",
      "2020-04-24 18:30:47 Hail: INFO: wrote matrix with 6400 rows and 6400 columns as 64 blocks of size 801 to file:/tmp/hail.pcWkcZDbNULq/xqVaZymqyh.bm\n",
      "2020-04-24 18:30:47 Hail: INFO: wrote matrix with 6400 rows and 6400 columns as 64 blocks of size 801 to file:/tmp/hail.pcWkcZDbNULq/mn8KMKm7CI.bm\n",
      "2020-04-24 18:30:52 Hail: INFO: wrote matrix with 6400 rows and 6400 columns as 64 blocks of size 801 to file:/tmp/hail.pcWkcZDbNULq/dGtrRfGrtx.bm\n",
      "2020-04-24 18:30:57 Hail: INFO: wrote matrix with 6400 rows and 6400 columns as 64 blocks of size 801 to file:/tmp/hail.pcWkcZDbNULq/ApGIUIyzRD.bm\n",
      "2020-04-24 18:30:57 Hail: INFO: wrote matrix with 6400 rows and 6400 columns as 64 blocks of size 801 to file:/tmp/hail.pcWkcZDbNULq/W3Prhab6qE.bm\n",
      "2020-04-24 18:31:04 Hail: INFO: wrote matrix with 6400 rows and 6400 columns as 64 blocks of size 801 to file:/tmp/hail.pcWkcZDbNULq/YZLhUNd9Ek.bm\n",
      "2020-04-24 18:31:10 Hail: INFO: wrote matrix with 6400 rows and 6400 columns as 64 blocks of size 801 to file:/tmp/hail.pcWkcZDbNULq/AsDwuu883x.bm\n",
      "2020-04-24 18:31:10 Hail: INFO: wrote matrix with 6400 rows and 6400 columns as 64 blocks of size 801 to file:/tmp/hail.pcWkcZDbNULq/HFNdI0sVJE.bm\n",
      "2020-04-24 18:31:18 Hail: INFO: Ordering unsorted dataset with network shuffle\n",
      "2020-04-24 18:31:57 Hail: INFO: Coerced sorted dataset\n",
      "2020-04-24 18:32:25 Hail: INFO: wrote table with 20476800 rows in 64 partitions to /tmp/tmpfoq2mn1g/pc_relate_result\n"
     ]
    },
    {
     "name": "stdout",
     "output_type": "stream",
     "text": [
      "Deleting pc_relate results: /tmp/tmpfoq2mn1g/pc_relate_result\n",
      "Deleting hail tmp dir: /tmp/hail.pcWkcZDbNULq\n"
     ]
    },
    {
     "name": "stderr",
     "output_type": "stream",
     "text": [
      "2020-04-24 18:32:26 Hail: INFO: balding_nichols_model: generating genotypes for 10 populations, 6600 samples, and 2000 variants...\n",
      "2020-04-24 18:32:26 Hail: INFO: Coerced sorted dataset\n",
      "2020-04-24 18:32:30 Hail: INFO: wrote matrix table with 2000 rows and 6600 columns in 8 partitions to /home/rav/data/tmp/mt_6600_2000_10.mt\n",
      "2020-04-24 18:32:30 Hail: INFO: hwe_normalized_pca: running PCA using 2000 variants.\n",
      "2020-04-24 18:32:32 Hail: INFO: pca: running PCA with 10 components...\n"
     ]
    },
    {
     "name": "stdout",
     "output_type": "stream",
     "text": [
      "PCA took s:6600, v:2000, p:10 : 11.24 seconds\n"
     ]
    },
    {
     "name": "stderr",
     "output_type": "stream",
     "text": [
      "2020-04-24 18:32:44 Hail: INFO: Wrote all 24 blocks of 2000 x 6600 matrix with block size 826.\n",
      "2020-04-24 18:32:46 Hail: INFO: wrote matrix with 11 rows and 2000 columns as 3 blocks of size 826 to file:/tmp/hail.pcWkcZDbNULq/cOs1PB8Qrc.bm\n",
      "2020-04-24 18:32:46 Hail: INFO: wrote matrix with 2000 rows and 6600 columns as 24 blocks of size 826 to file:/tmp/hail.pcWkcZDbNULq/kjieiqQfPP.bm\n",
      "2020-04-24 18:32:46 Hail: INFO: wrote matrix with 2000 rows and 6600 columns as 24 blocks of size 826 to file:/tmp/hail.pcWkcZDbNULq/867z8DPTL5.bm\n",
      "2020-04-24 18:32:51 Hail: INFO: wrote matrix with 6600 rows and 6600 columns as 64 blocks of size 826 to file:/tmp/hail.pcWkcZDbNULq/feaalQvZxI.bm\n",
      "2020-04-24 18:32:56 Hail: INFO: wrote matrix with 6600 rows and 6600 columns as 64 blocks of size 826 to file:/tmp/hail.pcWkcZDbNULq/GIivO6Liu3.bm\n",
      "2020-04-24 18:32:57 Hail: INFO: wrote matrix with 6600 rows and 6600 columns as 64 blocks of size 826 to file:/tmp/hail.pcWkcZDbNULq/iD84FjoToc.bm\n",
      "2020-04-24 18:33:02 Hail: INFO: wrote matrix with 6600 rows and 6600 columns as 64 blocks of size 826 to file:/tmp/hail.pcWkcZDbNULq/AH7ccENI4v.bm\n",
      "2020-04-24 18:33:07 Hail: INFO: wrote matrix with 6600 rows and 6600 columns as 64 blocks of size 826 to file:/tmp/hail.pcWkcZDbNULq/eT8O1JYN1X.bm\n",
      "2020-04-24 18:33:07 Hail: INFO: wrote matrix with 6600 rows and 6600 columns as 64 blocks of size 826 to file:/tmp/hail.pcWkcZDbNULq/8JfxtXomb7.bm\n",
      "2020-04-24 18:33:14 Hail: INFO: wrote matrix with 6600 rows and 6600 columns as 64 blocks of size 826 to file:/tmp/hail.pcWkcZDbNULq/yWrrWmfvvw.bm\n",
      "2020-04-24 18:33:20 Hail: INFO: wrote matrix with 6600 rows and 6600 columns as 64 blocks of size 826 to file:/tmp/hail.pcWkcZDbNULq/aLbK5CRcIN.bm\n",
      "2020-04-24 18:33:21 Hail: INFO: wrote matrix with 6600 rows and 6600 columns as 64 blocks of size 826 to file:/tmp/hail.pcWkcZDbNULq/bynG3lPab6.bm\n",
      "2020-04-24 18:33:30 Hail: INFO: Ordering unsorted dataset with network shuffle\n",
      "2020-04-24 18:34:13 Hail: INFO: Coerced sorted dataset\n",
      "2020-04-24 18:34:42 Hail: INFO: wrote table with 21776700 rows in 64 partitions to /tmp/tmpnx260991/pc_relate_result\n"
     ]
    },
    {
     "name": "stdout",
     "output_type": "stream",
     "text": [
      "Deleting pc_relate results: /tmp/tmpnx260991/pc_relate_result\n",
      "Deleting hail tmp dir: /tmp/hail.pcWkcZDbNULq\n"
     ]
    },
    {
     "name": "stderr",
     "output_type": "stream",
     "text": [
      "2020-04-24 18:34:43 Hail: INFO: balding_nichols_model: generating genotypes for 10 populations, 6800 samples, and 2000 variants...\n",
      "2020-04-24 18:34:44 Hail: INFO: Coerced sorted dataset\n",
      "2020-04-24 18:34:47 Hail: INFO: wrote matrix table with 2000 rows and 6800 columns in 8 partitions to /home/rav/data/tmp/mt_6800_2000_10.mt\n",
      "2020-04-24 18:34:47 Hail: INFO: hwe_normalized_pca: running PCA using 2000 variants.\n",
      "2020-04-24 18:34:49 Hail: INFO: pca: running PCA with 10 components...\n"
     ]
    },
    {
     "name": "stdout",
     "output_type": "stream",
     "text": [
      "PCA took s:6800, v:2000, p:10 : 12.48 seconds\n"
     ]
    },
    {
     "name": "stderr",
     "output_type": "stream",
     "text": [
      "2020-04-24 18:35:03 Hail: INFO: Wrote all 24 blocks of 2000 x 6800 matrix with block size 851.\n",
      "2020-04-24 18:35:04 Hail: INFO: wrote matrix with 11 rows and 2000 columns as 3 blocks of size 851 to file:/tmp/hail.pcWkcZDbNULq/F2O4DX0z8B.bm\n",
      "2020-04-24 18:35:05 Hail: INFO: wrote matrix with 2000 rows and 6800 columns as 24 blocks of size 851 to file:/tmp/hail.pcWkcZDbNULq/CiRuAISgWl.bm\n",
      "2020-04-24 18:35:05 Hail: INFO: wrote matrix with 2000 rows and 6800 columns as 24 blocks of size 851 to file:/tmp/hail.pcWkcZDbNULq/d36QwmpqBP.bm\n",
      "2020-04-24 18:35:10 Hail: INFO: wrote matrix with 6800 rows and 6800 columns as 64 blocks of size 851 to file:/tmp/hail.pcWkcZDbNULq/mNy8vBhBWv.bm\n",
      "2020-04-24 18:35:15 Hail: INFO: wrote matrix with 6800 rows and 6800 columns as 64 blocks of size 851 to file:/tmp/hail.pcWkcZDbNULq/V0hOzxpkfF.bm\n",
      "2020-04-24 18:35:16 Hail: INFO: wrote matrix with 6800 rows and 6800 columns as 64 blocks of size 851 to file:/tmp/hail.pcWkcZDbNULq/SXPIdILkw8.bm\n",
      "2020-04-24 18:35:22 Hail: INFO: wrote matrix with 6800 rows and 6800 columns as 64 blocks of size 851 to file:/tmp/hail.pcWkcZDbNULq/xeXUyEq84i.bm\n",
      "2020-04-24 18:35:27 Hail: INFO: wrote matrix with 6800 rows and 6800 columns as 64 blocks of size 851 to file:/tmp/hail.pcWkcZDbNULq/ACeR9rgirO.bm\n",
      "2020-04-24 18:35:27 Hail: INFO: wrote matrix with 6800 rows and 6800 columns as 64 blocks of size 851 to file:/tmp/hail.pcWkcZDbNULq/Xewox848IT.bm\n",
      "2020-04-24 18:35:34 Hail: INFO: wrote matrix with 6800 rows and 6800 columns as 64 blocks of size 851 to file:/tmp/hail.pcWkcZDbNULq/6G0xzR93TG.bm\n",
      "2020-04-24 18:35:41 Hail: INFO: wrote matrix with 6800 rows and 6800 columns as 64 blocks of size 851 to file:/tmp/hail.pcWkcZDbNULq/3vLVtVY1iM.bm\n",
      "2020-04-24 18:35:42 Hail: INFO: wrote matrix with 6800 rows and 6800 columns as 64 blocks of size 851 to file:/tmp/hail.pcWkcZDbNULq/bXNpx9gGKv.bm\n",
      "2020-04-24 18:35:51 Hail: INFO: Ordering unsorted dataset with network shuffle\n",
      "2020-04-24 18:36:37 Hail: INFO: Coerced sorted dataset\n",
      "2020-04-24 18:37:08 Hail: INFO: wrote table with 23116600 rows in 64 partitions to /tmp/tmpnpxq4nyl/pc_relate_result\n"
     ]
    },
    {
     "name": "stdout",
     "output_type": "stream",
     "text": [
      "Deleting pc_relate results: /tmp/tmpnpxq4nyl/pc_relate_result\n",
      "Deleting hail tmp dir: /tmp/hail.pcWkcZDbNULq\n"
     ]
    },
    {
     "name": "stderr",
     "output_type": "stream",
     "text": [
      "2020-04-24 18:37:09 Hail: INFO: hwe_normalized_pca: running PCA using 2000 variants.\n",
      "2020-04-24 18:37:11 Hail: INFO: pca: running PCA with 10 components...\n"
     ]
    },
    {
     "name": "stdout",
     "output_type": "stream",
     "text": [
      "PCA took s:7000, v:2000, p:10 : 9.25 seconds\n"
     ]
    },
    {
     "name": "stderr",
     "output_type": "stream",
     "text": [
      "2020-04-24 18:37:22 Hail: INFO: Wrote all 24 blocks of 2000 x 7000 matrix with block size 876.\n",
      "2020-04-24 18:37:23 Hail: INFO: wrote matrix with 11 rows and 2000 columns as 3 blocks of size 876 to file:/tmp/hail.pcWkcZDbNULq/enG99SAnk1.bm\n",
      "2020-04-24 18:37:23 Hail: INFO: wrote matrix with 2000 rows and 7000 columns as 24 blocks of size 876 to file:/tmp/hail.pcWkcZDbNULq/KNn2o1i0rY.bm\n",
      "2020-04-24 18:37:23 Hail: INFO: wrote matrix with 2000 rows and 7000 columns as 24 blocks of size 876 to file:/tmp/hail.pcWkcZDbNULq/1O0oQcIuFz.bm\n",
      "2020-04-24 18:37:29 Hail: INFO: wrote matrix with 7000 rows and 7000 columns as 64 blocks of size 876 to file:/tmp/hail.pcWkcZDbNULq/pD1j6GAQxz.bm\n",
      "2020-04-24 18:37:35 Hail: INFO: wrote matrix with 7000 rows and 7000 columns as 64 blocks of size 876 to file:/tmp/hail.pcWkcZDbNULq/UdvXw26Ggo.bm\n",
      "2020-04-24 18:37:35 Hail: INFO: wrote matrix with 7000 rows and 7000 columns as 64 blocks of size 876 to file:/tmp/hail.pcWkcZDbNULq/GKWWfTcegO.bm\n",
      "2020-04-24 18:37:41 Hail: INFO: wrote matrix with 7000 rows and 7000 columns as 64 blocks of size 876 to file:/tmp/hail.pcWkcZDbNULq/osHM9h2ztJ.bm\n",
      "2020-04-24 18:37:46 Hail: INFO: wrote matrix with 7000 rows and 7000 columns as 64 blocks of size 876 to file:/tmp/hail.pcWkcZDbNULq/Xzuarrnhua.bm\n",
      "2020-04-24 18:37:47 Hail: INFO: wrote matrix with 7000 rows and 7000 columns as 64 blocks of size 876 to file:/tmp/hail.pcWkcZDbNULq/LrAmms0fU7.bm\n",
      "2020-04-24 18:37:54 Hail: INFO: wrote matrix with 7000 rows and 7000 columns as 64 blocks of size 876 to file:/tmp/hail.pcWkcZDbNULq/S0WlqcZbls.bm\n",
      "2020-04-24 18:38:01 Hail: INFO: wrote matrix with 7000 rows and 7000 columns as 64 blocks of size 876 to file:/tmp/hail.pcWkcZDbNULq/3wsUyafmOU.bm\n",
      "2020-04-24 18:38:02 Hail: INFO: wrote matrix with 7000 rows and 7000 columns as 64 blocks of size 876 to file:/tmp/hail.pcWkcZDbNULq/oifBZnjmAE.bm\n",
      "2020-04-24 18:38:12 Hail: INFO: Ordering unsorted dataset with network shuffle\n",
      "2020-04-24 18:39:01 Hail: INFO: Coerced sorted dataset\n",
      "2020-04-24 18:39:33 Hail: INFO: wrote table with 24496500 rows in 64 partitions to /tmp/tmpv6u6exwi/pc_relate_result\n"
     ]
    },
    {
     "name": "stdout",
     "output_type": "stream",
     "text": [
      "Deleting pc_relate results: /tmp/tmpv6u6exwi/pc_relate_result\n",
      "Deleting hail tmp dir: /tmp/hail.pcWkcZDbNULq\n"
     ]
    },
    {
     "name": "stderr",
     "output_type": "stream",
     "text": [
      "2020-04-24 18:39:34 Hail: INFO: balding_nichols_model: generating genotypes for 10 populations, 7200 samples, and 2000 variants...\n",
      "2020-04-24 18:39:35 Hail: INFO: Coerced sorted dataset\n",
      "2020-04-24 18:39:38 Hail: INFO: wrote matrix table with 2000 rows and 7200 columns in 8 partitions to /home/rav/data/tmp/mt_7200_2000_10.mt\n",
      "2020-04-24 18:39:39 Hail: INFO: hwe_normalized_pca: running PCA using 2000 variants.\n",
      "2020-04-24 18:39:40 Hail: INFO: pca: running PCA with 10 components...\n"
     ]
    },
    {
     "name": "stdout",
     "output_type": "stream",
     "text": [
      "PCA took s:7200, v:2000, p:10 : 10.53 seconds\n"
     ]
    },
    {
     "name": "stderr",
     "output_type": "stream",
     "text": [
      "2020-04-24 18:39:52 Hail: INFO: Wrote all 24 blocks of 2000 x 7200 matrix with block size 901.\n",
      "2020-04-24 18:39:54 Hail: INFO: wrote matrix with 11 rows and 2000 columns as 3 blocks of size 901 to file:/tmp/hail.pcWkcZDbNULq/Ojv5GO7yIk.bm\n",
      "2020-04-24 18:39:54 Hail: INFO: wrote matrix with 2000 rows and 7200 columns as 24 blocks of size 901 to file:/tmp/hail.pcWkcZDbNULq/MculAAm5ug.bm\n",
      "2020-04-24 18:39:54 Hail: INFO: wrote matrix with 2000 rows and 7200 columns as 24 blocks of size 901 to file:/tmp/hail.pcWkcZDbNULq/D6DDC4W79P.bm\n",
      "2020-04-24 18:40:00 Hail: INFO: wrote matrix with 7200 rows and 7200 columns as 64 blocks of size 901 to file:/tmp/hail.pcWkcZDbNULq/wAml891h5C.bm\n",
      "2020-04-24 18:40:06 Hail: INFO: wrote matrix with 7200 rows and 7200 columns as 64 blocks of size 901 to file:/tmp/hail.pcWkcZDbNULq/rP4uEdKGPG.bm\n",
      "2020-04-24 18:40:06 Hail: INFO: wrote matrix with 7200 rows and 7200 columns as 64 blocks of size 901 to file:/tmp/hail.pcWkcZDbNULq/KDN4dMFz7Y.bm\n",
      "2020-04-24 18:40:13 Hail: INFO: wrote matrix with 7200 rows and 7200 columns as 64 blocks of size 901 to file:/tmp/hail.pcWkcZDbNULq/sW6vqvkn3s.bm\n",
      "2020-04-24 18:40:18 Hail: INFO: wrote matrix with 7200 rows and 7200 columns as 64 blocks of size 901 to file:/tmp/hail.pcWkcZDbNULq/kEteptTkxN.bm\n",
      "2020-04-24 18:40:19 Hail: INFO: wrote matrix with 7200 rows and 7200 columns as 64 blocks of size 901 to file:/tmp/hail.pcWkcZDbNULq/OmAJBUZg9o.bm\n",
      "2020-04-24 18:40:26 Hail: INFO: wrote matrix with 7200 rows and 7200 columns as 64 blocks of size 901 to file:/tmp/hail.pcWkcZDbNULq/I8ZOT70Ccu.bm\n",
      "2020-04-24 18:40:34 Hail: INFO: wrote matrix with 7200 rows and 7200 columns as 64 blocks of size 901 to file:/tmp/hail.pcWkcZDbNULq/48NOjEtEJ9.bm\n",
      "2020-04-24 18:40:35 Hail: INFO: wrote matrix with 7200 rows and 7200 columns as 64 blocks of size 901 to file:/tmp/hail.pcWkcZDbNULq/F7aaoIpSr5.bm\n",
      "2020-04-24 18:40:45 Hail: INFO: Ordering unsorted dataset with network shuffle\n",
      "2020-04-24 18:41:37 Hail: INFO: Coerced sorted dataset\n",
      "2020-04-24 18:42:12 Hail: INFO: wrote table with 25916400 rows in 64 partitions to /tmp/tmpdlibh75e/pc_relate_result\n"
     ]
    },
    {
     "name": "stdout",
     "output_type": "stream",
     "text": [
      "Deleting pc_relate results: /tmp/tmpdlibh75e/pc_relate_result\n",
      "Deleting hail tmp dir: /tmp/hail.pcWkcZDbNULq\n"
     ]
    },
    {
     "name": "stderr",
     "output_type": "stream",
     "text": [
      "2020-04-24 18:42:12 Hail: INFO: balding_nichols_model: generating genotypes for 10 populations, 7400 samples, and 2000 variants...\n",
      "2020-04-24 18:42:13 Hail: INFO: Coerced sorted dataset\n",
      "2020-04-24 18:42:17 Hail: INFO: wrote matrix table with 2000 rows and 7400 columns in 8 partitions to /home/rav/data/tmp/mt_7400_2000_10.mt\n",
      "2020-04-24 18:42:17 Hail: INFO: hwe_normalized_pca: running PCA using 2000 variants.\n",
      "2020-04-24 18:42:19 Hail: INFO: pca: running PCA with 10 components...\n"
     ]
    },
    {
     "name": "stdout",
     "output_type": "stream",
     "text": [
      "PCA took s:7400, v:2000, p:10 : 10.58 seconds\n"
     ]
    },
    {
     "name": "stderr",
     "output_type": "stream",
     "text": [
      "2020-04-24 18:42:31 Hail: INFO: Wrote all 24 blocks of 2000 x 7400 matrix with block size 926.\n",
      "2020-04-24 18:42:33 Hail: INFO: wrote matrix with 11 rows and 2000 columns as 3 blocks of size 926 to file:/tmp/hail.pcWkcZDbNULq/FVqvcE0tQY.bm\n",
      "2020-04-24 18:42:33 Hail: INFO: wrote matrix with 2000 rows and 7400 columns as 24 blocks of size 926 to file:/tmp/hail.pcWkcZDbNULq/4mTCRWetiP.bm\n",
      "2020-04-24 18:42:33 Hail: INFO: wrote matrix with 2000 rows and 7400 columns as 24 blocks of size 926 to file:/tmp/hail.pcWkcZDbNULq/7bcETm35CO.bm\n",
      "2020-04-24 18:42:39 Hail: INFO: wrote matrix with 7400 rows and 7400 columns as 64 blocks of size 926 to file:/tmp/hail.pcWkcZDbNULq/ANrBOL32KU.bm\n",
      "2020-04-24 18:42:46 Hail: INFO: wrote matrix with 7400 rows and 7400 columns as 64 blocks of size 926 to file:/tmp/hail.pcWkcZDbNULq/kUAcpM8bIy.bm\n",
      "2020-04-24 18:42:46 Hail: INFO: wrote matrix with 7400 rows and 7400 columns as 64 blocks of size 926 to file:/tmp/hail.pcWkcZDbNULq/t0cQ1BWpwE.bm\n",
      "2020-04-24 18:42:53 Hail: INFO: wrote matrix with 7400 rows and 7400 columns as 64 blocks of size 926 to file:/tmp/hail.pcWkcZDbNULq/IiX0kVozd0.bm\n",
      "2020-04-24 18:42:59 Hail: INFO: wrote matrix with 7400 rows and 7400 columns as 64 blocks of size 926 to file:/tmp/hail.pcWkcZDbNULq/MIy7dpbXxz.bm\n",
      "2020-04-24 18:43:00 Hail: INFO: wrote matrix with 7400 rows and 7400 columns as 64 blocks of size 926 to file:/tmp/hail.pcWkcZDbNULq/fgsNIqapSd.bm\n",
      "2020-04-24 18:43:08 Hail: INFO: wrote matrix with 7400 rows and 7400 columns as 64 blocks of size 926 to file:/tmp/hail.pcWkcZDbNULq/tuh8rw3e6L.bm\n",
      "2020-04-24 18:43:15 Hail: INFO: wrote matrix with 7400 rows and 7400 columns as 64 blocks of size 926 to file:/tmp/hail.pcWkcZDbNULq/MQXbGcQDSQ.bm\n",
      "2020-04-24 18:43:16 Hail: INFO: wrote matrix with 7400 rows and 7400 columns as 64 blocks of size 926 to file:/tmp/hail.pcWkcZDbNULq/4tD1LiV9QC.bm\n",
      "2020-04-24 18:43:27 Hail: INFO: Ordering unsorted dataset with network shuffle\n",
      "2020-04-24 18:44:22 Hail: INFO: Coerced sorted dataset\n",
      "2020-04-24 18:44:59 Hail: INFO: wrote table with 27376300 rows in 64 partitions to /tmp/tmpuhfgik14/pc_relate_result\n"
     ]
    },
    {
     "name": "stdout",
     "output_type": "stream",
     "text": [
      "Deleting pc_relate results: /tmp/tmpuhfgik14/pc_relate_result\n",
      "Deleting hail tmp dir: /tmp/hail.pcWkcZDbNULq\n"
     ]
    },
    {
     "name": "stderr",
     "output_type": "stream",
     "text": [
      "2020-04-24 18:45:00 Hail: INFO: balding_nichols_model: generating genotypes for 10 populations, 7600 samples, and 2000 variants...\n",
      "2020-04-24 18:45:01 Hail: INFO: Coerced sorted dataset\n",
      "2020-04-24 18:45:05 Hail: INFO: wrote matrix table with 2000 rows and 7600 columns in 8 partitions to /home/rav/data/tmp/mt_7600_2000_10.mt\n",
      "2020-04-24 18:45:05 Hail: INFO: hwe_normalized_pca: running PCA using 2000 variants.\n",
      "2020-04-24 18:45:07 Hail: INFO: pca: running PCA with 10 components...\n"
     ]
    },
    {
     "name": "stdout",
     "output_type": "stream",
     "text": [
      "PCA took s:7600, v:2000, p:10 : 11.11 seconds\n"
     ]
    },
    {
     "name": "stderr",
     "output_type": "stream",
     "text": [
      "2020-04-24 18:45:19 Hail: INFO: Wrote all 24 blocks of 2000 x 7600 matrix with block size 951.\n",
      "2020-04-24 18:45:21 Hail: INFO: wrote matrix with 11 rows and 2000 columns as 3 blocks of size 951 to file:/tmp/hail.pcWkcZDbNULq/r10KeIMMDd.bm\n",
      "2020-04-24 18:45:21 Hail: INFO: wrote matrix with 2000 rows and 7600 columns as 24 blocks of size 951 to file:/tmp/hail.pcWkcZDbNULq/FTGuIr5Ahh.bm\n",
      "2020-04-24 18:45:21 Hail: INFO: wrote matrix with 2000 rows and 7600 columns as 24 blocks of size 951 to file:/tmp/hail.pcWkcZDbNULq/7PyXUfBjeG.bm\n",
      "2020-04-24 18:45:28 Hail: INFO: wrote matrix with 7600 rows and 7600 columns as 64 blocks of size 951 to file:/tmp/hail.pcWkcZDbNULq/dVsKE2xdfC.bm\n",
      "2020-04-24 18:45:35 Hail: INFO: wrote matrix with 7600 rows and 7600 columns as 64 blocks of size 951 to file:/tmp/hail.pcWkcZDbNULq/T7hTZkTFAB.bm\n",
      "2020-04-24 18:45:35 Hail: INFO: wrote matrix with 7600 rows and 7600 columns as 64 blocks of size 951 to file:/tmp/hail.pcWkcZDbNULq/0mtHkP1BZO.bm\n",
      "2020-04-24 18:45:42 Hail: INFO: wrote matrix with 7600 rows and 7600 columns as 64 blocks of size 951 to file:/tmp/hail.pcWkcZDbNULq/FKuFJVQY3O.bm\n",
      "2020-04-24 18:45:49 Hail: INFO: wrote matrix with 7600 rows and 7600 columns as 64 blocks of size 951 to file:/tmp/hail.pcWkcZDbNULq/oBBe4qU21V.bm\n",
      "2020-04-24 18:45:50 Hail: INFO: wrote matrix with 7600 rows and 7600 columns as 64 blocks of size 951 to file:/tmp/hail.pcWkcZDbNULq/n8jle2pg79.bm\n",
      "2020-04-24 18:45:58 Hail: INFO: wrote matrix with 7600 rows and 7600 columns as 64 blocks of size 951 to file:/tmp/hail.pcWkcZDbNULq/aRZDRVHkCM.bm\n",
      "2020-04-24 18:46:07 Hail: INFO: wrote matrix with 7600 rows and 7600 columns as 64 blocks of size 951 to file:/tmp/hail.pcWkcZDbNULq/QjgZ8hzD7W.bm\n",
      "2020-04-24 18:46:08 Hail: INFO: wrote matrix with 7600 rows and 7600 columns as 64 blocks of size 951 to file:/tmp/hail.pcWkcZDbNULq/XRlJdnnq8h.bm\n",
      "2020-04-24 18:46:23 Hail: INFO: Ordering unsorted dataset with network shuffle\n",
      "2020-04-24 18:47:20 Hail: INFO: Coerced sorted dataset\n",
      "2020-04-24 18:47:58 Hail: INFO: wrote table with 28876200 rows in 64 partitions to /tmp/tmp93fmkv1f/pc_relate_result\n"
     ]
    },
    {
     "name": "stdout",
     "output_type": "stream",
     "text": [
      "Deleting pc_relate results: /tmp/tmp93fmkv1f/pc_relate_result\n",
      "Deleting hail tmp dir: /tmp/hail.pcWkcZDbNULq\n"
     ]
    },
    {
     "name": "stderr",
     "output_type": "stream",
     "text": [
      "2020-04-24 18:47:59 Hail: INFO: balding_nichols_model: generating genotypes for 10 populations, 7800 samples, and 2000 variants...\n",
      "2020-04-24 18:48:00 Hail: INFO: Coerced sorted dataset\n",
      "2020-04-24 18:48:04 Hail: INFO: wrote matrix table with 2000 rows and 7800 columns in 8 partitions to /home/rav/data/tmp/mt_7800_2000_10.mt\n",
      "2020-04-24 18:48:04 Hail: INFO: hwe_normalized_pca: running PCA using 2000 variants.\n",
      "2020-04-24 18:48:06 Hail: INFO: pca: running PCA with 10 components...\n"
     ]
    },
    {
     "name": "stdout",
     "output_type": "stream",
     "text": [
      "PCA took s:7800, v:2000, p:10 : 10.64 seconds\n"
     ]
    },
    {
     "name": "stderr",
     "output_type": "stream",
     "text": [
      "2020-04-24 18:48:18 Hail: INFO: Wrote all 24 blocks of 2000 x 7800 matrix with block size 976.\n",
      "2020-04-24 18:48:20 Hail: INFO: wrote matrix with 11 rows and 2000 columns as 3 blocks of size 976 to file:/tmp/hail.pcWkcZDbNULq/bcQkmzRWra.bm\n",
      "2020-04-24 18:48:20 Hail: INFO: wrote matrix with 2000 rows and 7800 columns as 24 blocks of size 976 to file:/tmp/hail.pcWkcZDbNULq/HeXyr4K66C.bm\n",
      "2020-04-24 18:48:20 Hail: INFO: wrote matrix with 2000 rows and 7800 columns as 24 blocks of size 976 to file:/tmp/hail.pcWkcZDbNULq/4r2E8qn9xM.bm\n",
      "2020-04-24 18:48:27 Hail: INFO: wrote matrix with 7800 rows and 7800 columns as 64 blocks of size 976 to file:/tmp/hail.pcWkcZDbNULq/HTbFTl8Bm5.bm\n",
      "2020-04-24 18:48:34 Hail: INFO: wrote matrix with 7800 rows and 7800 columns as 64 blocks of size 976 to file:/tmp/hail.pcWkcZDbNULq/IUz96jCoIj.bm\n",
      "2020-04-24 18:48:34 Hail: INFO: wrote matrix with 7800 rows and 7800 columns as 64 blocks of size 976 to file:/tmp/hail.pcWkcZDbNULq/RHhbat0cIo.bm\n",
      "2020-04-24 18:48:42 Hail: INFO: wrote matrix with 7800 rows and 7800 columns as 64 blocks of size 976 to file:/tmp/hail.pcWkcZDbNULq/aAkiwXK3nu.bm\n",
      "2020-04-24 18:48:49 Hail: INFO: wrote matrix with 7800 rows and 7800 columns as 64 blocks of size 976 to file:/tmp/hail.pcWkcZDbNULq/0mruBGtDuk.bm\n",
      "2020-04-24 18:48:49 Hail: INFO: wrote matrix with 7800 rows and 7800 columns as 64 blocks of size 976 to file:/tmp/hail.pcWkcZDbNULq/7gdBA8uw6y.bm\n",
      "2020-04-24 18:48:58 Hail: INFO: wrote matrix with 7800 rows and 7800 columns as 64 blocks of size 976 to file:/tmp/hail.pcWkcZDbNULq/b6TC6Lo9PV.bm\n",
      "2020-04-24 18:49:06 Hail: INFO: wrote matrix with 7800 rows and 7800 columns as 64 blocks of size 976 to file:/tmp/hail.pcWkcZDbNULq/SEJoHE2umL.bm\n",
      "2020-04-24 18:49:07 Hail: INFO: wrote matrix with 7800 rows and 7800 columns as 64 blocks of size 976 to file:/tmp/hail.pcWkcZDbNULq/mWBonFKR2n.bm\n",
      "2020-04-24 18:49:21 Hail: INFO: Ordering unsorted dataset with network shuffle\n",
      "2020-04-24 18:50:28 Hail: INFO: Coerced sorted dataset\n",
      "2020-04-24 18:51:09 Hail: INFO: wrote table with 30416100 rows in 64 partitions to /tmp/tmp3je22bnm/pc_relate_result\n"
     ]
    },
    {
     "name": "stdout",
     "output_type": "stream",
     "text": [
      "Deleting pc_relate results: /tmp/tmp3je22bnm/pc_relate_result\n",
      "Deleting hail tmp dir: /tmp/hail.pcWkcZDbNULq\n"
     ]
    },
    {
     "name": "stderr",
     "output_type": "stream",
     "text": [
      "2020-04-24 18:51:10 Hail: INFO: hwe_normalized_pca: running PCA using 2000 variants.\n",
      "2020-04-24 18:51:12 Hail: INFO: pca: running PCA with 10 components...\n"
     ]
    },
    {
     "name": "stdout",
     "output_type": "stream",
     "text": [
      "PCA took s:8000, v:2000, p:10 : 9.67 seconds\n"
     ]
    },
    {
     "name": "stderr",
     "output_type": "stream",
     "text": [
      "2020-04-24 18:51:23 Hail: INFO: Wrote all 16 blocks of 2000 x 8000 matrix with block size 1001.\n",
      "2020-04-24 18:51:25 Hail: INFO: wrote matrix with 11 rows and 2000 columns as 2 blocks of size 1001 to file:/tmp/hail.pcWkcZDbNULq/bgrulWX6xP.bm\n",
      "2020-04-24 18:51:25 Hail: INFO: wrote matrix with 2000 rows and 8000 columns as 16 blocks of size 1001 to file:/tmp/hail.pcWkcZDbNULq/ydCanv5sYO.bm\n",
      "2020-04-24 18:51:25 Hail: INFO: wrote matrix with 2000 rows and 8000 columns as 16 blocks of size 1001 to file:/tmp/hail.pcWkcZDbNULq/O2nOVG5T4n.bm\n",
      "2020-04-24 18:51:33 Hail: INFO: wrote matrix with 8000 rows and 8000 columns as 64 blocks of size 1001 to file:/tmp/hail.pcWkcZDbNULq/8E2kWTb0do.bm\n",
      "2020-04-24 18:51:40 Hail: INFO: wrote matrix with 8000 rows and 8000 columns as 64 blocks of size 1001 to file:/tmp/hail.pcWkcZDbNULq/jN2QubfiBk.bm\n",
      "2020-04-24 18:51:40 Hail: INFO: wrote matrix with 8000 rows and 8000 columns as 64 blocks of size 1001 to file:/tmp/hail.pcWkcZDbNULq/mplClyHFz0.bm\n",
      "2020-04-24 18:51:48 Hail: INFO: wrote matrix with 8000 rows and 8000 columns as 64 blocks of size 1001 to file:/tmp/hail.pcWkcZDbNULq/WFie6xoKcu.bm\n",
      "2020-04-24 18:51:56 Hail: INFO: wrote matrix with 8000 rows and 8000 columns as 64 blocks of size 1001 to file:/tmp/hail.pcWkcZDbNULq/NA5u34Edfl.bm\n",
      "2020-04-24 18:51:57 Hail: INFO: wrote matrix with 8000 rows and 8000 columns as 64 blocks of size 1001 to file:/tmp/hail.pcWkcZDbNULq/VZbfxYqekk.bm\n",
      "2020-04-24 18:52:07 Hail: INFO: wrote matrix with 8000 rows and 8000 columns as 64 blocks of size 1001 to file:/tmp/hail.pcWkcZDbNULq/Y11zZrQrhL.bm\n",
      "2020-04-24 18:52:16 Hail: INFO: wrote matrix with 8000 rows and 8000 columns as 64 blocks of size 1001 to file:/tmp/hail.pcWkcZDbNULq/OZWUMwh683.bm\n",
      "2020-04-24 18:52:17 Hail: INFO: wrote matrix with 8000 rows and 8000 columns as 64 blocks of size 1001 to file:/tmp/hail.pcWkcZDbNULq/OYi2u8Bqfa.bm\n",
      "2020-04-24 18:52:30 Hail: INFO: Ordering unsorted dataset with network shuffle\n",
      "2020-04-24 18:53:35 Hail: INFO: Coerced sorted dataset\n",
      "2020-04-24 18:54:17 Hail: INFO: wrote table with 31996000 rows in 64 partitions to /tmp/tmp_3i5hwm8/pc_relate_result\n"
     ]
    },
    {
     "name": "stdout",
     "output_type": "stream",
     "text": [
      "Deleting pc_relate results: /tmp/tmp_3i5hwm8/pc_relate_result\n",
      "Deleting hail tmp dir: /tmp/hail.pcWkcZDbNULq\n"
     ]
    },
    {
     "name": "stderr",
     "output_type": "stream",
     "text": [
      "2020-04-24 18:54:18 Hail: INFO: balding_nichols_model: generating genotypes for 10 populations, 8200 samples, and 2000 variants...\n",
      "2020-04-24 18:54:19 Hail: INFO: Coerced sorted dataset\n",
      "2020-04-24 18:54:23 Hail: INFO: wrote matrix table with 2000 rows and 8200 columns in 8 partitions to /home/rav/data/tmp/mt_8200_2000_10.mt\n",
      "2020-04-24 18:54:23 Hail: INFO: hwe_normalized_pca: running PCA using 2000 variants.\n",
      "2020-04-24 18:54:25 Hail: INFO: pca: running PCA with 10 components...\n"
     ]
    },
    {
     "name": "stdout",
     "output_type": "stream",
     "text": [
      "PCA took s:8200, v:2000, p:10 : 10.22 seconds\n"
     ]
    },
    {
     "name": "stderr",
     "output_type": "stream",
     "text": [
      "2020-04-24 18:54:37 Hail: INFO: Wrote all 16 blocks of 2000 x 8200 matrix with block size 1026.\n",
      "2020-04-24 18:54:39 Hail: INFO: wrote matrix with 11 rows and 2000 columns as 2 blocks of size 1026 to file:/tmp/hail.pcWkcZDbNULq/xWiDCIlBj9.bm\n",
      "2020-04-24 18:54:39 Hail: INFO: wrote matrix with 2000 rows and 8200 columns as 16 blocks of size 1026 to file:/tmp/hail.pcWkcZDbNULq/VZSbpMLB8y.bm\n",
      "2020-04-24 18:54:39 Hail: INFO: wrote matrix with 2000 rows and 8200 columns as 16 blocks of size 1026 to file:/tmp/hail.pcWkcZDbNULq/aw1SOPrtsA.bm\n",
      "2020-04-24 18:54:47 Hail: INFO: wrote matrix with 8200 rows and 8200 columns as 64 blocks of size 1026 to file:/tmp/hail.pcWkcZDbNULq/FWQKscV6Y2.bm\n",
      "2020-04-24 18:54:54 Hail: INFO: wrote matrix with 8200 rows and 8200 columns as 64 blocks of size 1026 to file:/tmp/hail.pcWkcZDbNULq/D3ZbyEW1Ng.bm\n",
      "2020-04-24 18:54:55 Hail: INFO: wrote matrix with 8200 rows and 8200 columns as 64 blocks of size 1026 to file:/tmp/hail.pcWkcZDbNULq/vd9wPCTOxo.bm\n",
      "2020-04-24 18:55:03 Hail: INFO: wrote matrix with 8200 rows and 8200 columns as 64 blocks of size 1026 to file:/tmp/hail.pcWkcZDbNULq/wE5LK2yfVk.bm\n",
      "2020-04-24 18:55:10 Hail: INFO: wrote matrix with 8200 rows and 8200 columns as 64 blocks of size 1026 to file:/tmp/hail.pcWkcZDbNULq/2z0hKKWp3I.bm\n",
      "2020-04-24 18:55:11 Hail: INFO: wrote matrix with 8200 rows and 8200 columns as 64 blocks of size 1026 to file:/tmp/hail.pcWkcZDbNULq/70hAu7JSVL.bm\n",
      "2020-04-24 18:55:20 Hail: INFO: wrote matrix with 8200 rows and 8200 columns as 64 blocks of size 1026 to file:/tmp/hail.pcWkcZDbNULq/5wGNboZY9N.bm\n",
      "2020-04-24 18:55:30 Hail: INFO: wrote matrix with 8200 rows and 8200 columns as 64 blocks of size 1026 to file:/tmp/hail.pcWkcZDbNULq/U76BPxKbYm.bm\n",
      "2020-04-24 18:55:31 Hail: INFO: wrote matrix with 8200 rows and 8200 columns as 64 blocks of size 1026 to file:/tmp/hail.pcWkcZDbNULq/TijVsxqoAe.bm\n",
      "2020-04-24 18:55:44 Hail: INFO: Ordering unsorted dataset with network shuffle\n",
      "2020-04-24 18:56:51 Hail: INFO: Coerced sorted dataset\n",
      "2020-04-24 18:57:41 Hail: INFO: wrote table with 33615900 rows in 64 partitions to /tmp/tmp6dp2l51e/pc_relate_result\n"
     ]
    },
    {
     "name": "stdout",
     "output_type": "stream",
     "text": [
      "Deleting pc_relate results: /tmp/tmp6dp2l51e/pc_relate_result\n",
      "Deleting hail tmp dir: /tmp/hail.pcWkcZDbNULq\n"
     ]
    },
    {
     "name": "stderr",
     "output_type": "stream",
     "text": [
      "2020-04-24 18:57:43 Hail: INFO: balding_nichols_model: generating genotypes for 10 populations, 8400 samples, and 2000 variants...\n",
      "2020-04-24 18:57:43 Hail: INFO: Coerced sorted dataset\n",
      "2020-04-24 18:57:48 Hail: INFO: wrote matrix table with 2000 rows and 8400 columns in 8 partitions to /home/rav/data/tmp/mt_8400_2000_10.mt\n",
      "2020-04-24 18:57:48 Hail: INFO: hwe_normalized_pca: running PCA using 2000 variants.\n",
      "2020-04-24 18:57:50 Hail: INFO: pca: running PCA with 10 components...\n"
     ]
    },
    {
     "name": "stdout",
     "output_type": "stream",
     "text": [
      "PCA took s:8400, v:2000, p:10 : 13.64 seconds\n"
     ]
    },
    {
     "name": "stderr",
     "output_type": "stream",
     "text": [
      "2020-04-24 18:58:06 Hail: INFO: Wrote all 16 blocks of 2000 x 8400 matrix with block size 1051.\n",
      "2020-04-24 18:58:08 Hail: INFO: wrote matrix with 11 rows and 2000 columns as 2 blocks of size 1051 to file:/tmp/hail.pcWkcZDbNULq/xCK22JiTAa.bm\n",
      "2020-04-24 18:58:08 Hail: INFO: wrote matrix with 2000 rows and 8400 columns as 16 blocks of size 1051 to file:/tmp/hail.pcWkcZDbNULq/3VQJowPAGj.bm\n",
      "2020-04-24 18:58:08 Hail: INFO: wrote matrix with 2000 rows and 8400 columns as 16 blocks of size 1051 to file:/tmp/hail.pcWkcZDbNULq/FFgkAaeUKE.bm\n",
      "2020-04-24 18:58:17 Hail: INFO: wrote matrix with 8400 rows and 8400 columns as 64 blocks of size 1051 to file:/tmp/hail.pcWkcZDbNULq/QZWCDrlrnQ.bm\n",
      "2020-04-24 18:58:25 Hail: INFO: wrote matrix with 8400 rows and 8400 columns as 64 blocks of size 1051 to file:/tmp/hail.pcWkcZDbNULq/YVlQ77FIOF.bm\n",
      "2020-04-24 18:58:26 Hail: INFO: wrote matrix with 8400 rows and 8400 columns as 64 blocks of size 1051 to file:/tmp/hail.pcWkcZDbNULq/HVN8v0teT5.bm\n",
      "2020-04-24 18:58:34 Hail: INFO: wrote matrix with 8400 rows and 8400 columns as 64 blocks of size 1051 to file:/tmp/hail.pcWkcZDbNULq/y1CQwmqDtU.bm\n",
      "2020-04-24 18:58:43 Hail: INFO: wrote matrix with 8400 rows and 8400 columns as 64 blocks of size 1051 to file:/tmp/hail.pcWkcZDbNULq/AF5vi913sK.bm\n",
      "2020-04-24 18:58:44 Hail: INFO: wrote matrix with 8400 rows and 8400 columns as 64 blocks of size 1051 to file:/tmp/hail.pcWkcZDbNULq/pXnaNflcWN.bm\n",
      "2020-04-24 18:58:55 Hail: INFO: wrote matrix with 8400 rows and 8400 columns as 64 blocks of size 1051 to file:/tmp/hail.pcWkcZDbNULq/yL9SlaHea4.bm\n",
      "2020-04-24 18:59:07 Hail: INFO: wrote matrix with 8400 rows and 8400 columns as 64 blocks of size 1051 to file:/tmp/hail.pcWkcZDbNULq/mqXDMI2NiK.bm\n",
      "2020-04-24 18:59:08 Hail: INFO: wrote matrix with 8400 rows and 8400 columns as 64 blocks of size 1051 to file:/tmp/hail.pcWkcZDbNULq/iQojwCrqge.bm\n",
      "2020-04-24 18:59:29 Hail: INFO: Ordering unsorted dataset with network shuffle\n",
      "2020-04-24 19:00:40 Hail: INFO: Coerced sorted dataset\n",
      "2020-04-24 19:01:28 Hail: INFO: wrote table with 35275800 rows in 64 partitions to /tmp/tmptitnhei5/pc_relate_result\n"
     ]
    },
    {
     "name": "stdout",
     "output_type": "stream",
     "text": [
      "Deleting pc_relate results: /tmp/tmptitnhei5/pc_relate_result\n",
      "Deleting hail tmp dir: /tmp/hail.pcWkcZDbNULq\n"
     ]
    },
    {
     "name": "stderr",
     "output_type": "stream",
     "text": [
      "2020-04-24 19:01:29 Hail: INFO: balding_nichols_model: generating genotypes for 10 populations, 8600 samples, and 2000 variants...\n",
      "2020-04-24 19:01:30 Hail: INFO: Coerced sorted dataset\n",
      "2020-04-24 19:01:34 Hail: INFO: wrote matrix table with 2000 rows and 8600 columns in 8 partitions to /home/rav/data/tmp/mt_8600_2000_10.mt\n",
      "2020-04-24 19:01:35 Hail: INFO: hwe_normalized_pca: running PCA using 2000 variants.\n",
      "2020-04-24 19:01:37 Hail: INFO: pca: running PCA with 10 components...\n"
     ]
    },
    {
     "name": "stdout",
     "output_type": "stream",
     "text": [
      "PCA took s:8600, v:2000, p:10 : 12.69 seconds\n"
     ]
    },
    {
     "name": "stderr",
     "output_type": "stream",
     "text": [
      "2020-04-24 19:01:51 Hail: INFO: Wrote all 16 blocks of 2000 x 8600 matrix with block size 1076.\n",
      "2020-04-24 19:01:53 Hail: INFO: wrote matrix with 11 rows and 2000 columns as 2 blocks of size 1076 to file:/tmp/hail.pcWkcZDbNULq/wWGb03GgV0.bm\n",
      "2020-04-24 19:01:53 Hail: INFO: wrote matrix with 2000 rows and 8600 columns as 16 blocks of size 1076 to file:/tmp/hail.pcWkcZDbNULq/V8EUUX2Mui.bm\n",
      "2020-04-24 19:01:53 Hail: INFO: wrote matrix with 2000 rows and 8600 columns as 16 blocks of size 1076 to file:/tmp/hail.pcWkcZDbNULq/gVCF1hMxCi.bm\n",
      "2020-04-24 19:02:01 Hail: INFO: wrote matrix with 8600 rows and 8600 columns as 64 blocks of size 1076 to file:/tmp/hail.pcWkcZDbNULq/QGZVDl1U8I.bm\n",
      "2020-04-24 19:02:10 Hail: INFO: wrote matrix with 8600 rows and 8600 columns as 64 blocks of size 1076 to file:/tmp/hail.pcWkcZDbNULq/09tlsc5nC2.bm\n",
      "2020-04-24 19:02:10 Hail: INFO: wrote matrix with 8600 rows and 8600 columns as 64 blocks of size 1076 to file:/tmp/hail.pcWkcZDbNULq/lUM3V4dGUU.bm\n",
      "2020-04-24 19:02:19 Hail: INFO: wrote matrix with 8600 rows and 8600 columns as 64 blocks of size 1076 to file:/tmp/hail.pcWkcZDbNULq/e190JGmEQh.bm\n",
      "2020-04-24 19:02:27 Hail: INFO: wrote matrix with 8600 rows and 8600 columns as 64 blocks of size 1076 to file:/tmp/hail.pcWkcZDbNULq/ElsGDQfGAI.bm\n",
      "2020-04-24 19:02:28 Hail: INFO: wrote matrix with 8600 rows and 8600 columns as 64 blocks of size 1076 to file:/tmp/hail.pcWkcZDbNULq/PXluxtVv4q.bm\n",
      "2020-04-24 19:02:38 Hail: INFO: wrote matrix with 8600 rows and 8600 columns as 64 blocks of size 1076 to file:/tmp/hail.pcWkcZDbNULq/g2pb4AS1jm.bm\n",
      "2020-04-24 19:02:48 Hail: INFO: wrote matrix with 8600 rows and 8600 columns as 64 blocks of size 1076 to file:/tmp/hail.pcWkcZDbNULq/jbHHC82qKH.bm\n",
      "2020-04-24 19:02:50 Hail: INFO: wrote matrix with 8600 rows and 8600 columns as 64 blocks of size 1076 to file:/tmp/hail.pcWkcZDbNULq/ywsx3h6na1.bm\n",
      "2020-04-24 19:03:04 Hail: INFO: Ordering unsorted dataset with network shuffle\n",
      "2020-04-24 19:04:23 Hail: INFO: Coerced sorted dataset\n",
      "2020-04-24 19:05:12 Hail: INFO: wrote table with 36975700 rows in 64 partitions to /tmp/tmpg2jx52ua/pc_relate_result\n"
     ]
    },
    {
     "name": "stdout",
     "output_type": "stream",
     "text": [
      "Deleting pc_relate results: /tmp/tmpg2jx52ua/pc_relate_result\n",
      "Deleting hail tmp dir: /tmp/hail.pcWkcZDbNULq\n"
     ]
    },
    {
     "name": "stderr",
     "output_type": "stream",
     "text": [
      "2020-04-24 19:05:14 Hail: INFO: balding_nichols_model: generating genotypes for 10 populations, 8800 samples, and 2000 variants...\n",
      "2020-04-24 19:05:14 Hail: INFO: Coerced sorted dataset\n",
      "2020-04-24 19:05:19 Hail: INFO: wrote matrix table with 2000 rows and 8800 columns in 8 partitions to /home/rav/data/tmp/mt_8800_2000_10.mt\n",
      "2020-04-24 19:05:19 Hail: INFO: hwe_normalized_pca: running PCA using 2000 variants.\n",
      "2020-04-24 19:05:21 Hail: INFO: pca: running PCA with 10 components...\n"
     ]
    },
    {
     "name": "stdout",
     "output_type": "stream",
     "text": [
      "PCA took s:8800, v:2000, p:10 : 12.62 seconds\n"
     ]
    },
    {
     "name": "stderr",
     "output_type": "stream",
     "text": [
      "2020-04-24 19:05:35 Hail: INFO: Wrote all 16 blocks of 2000 x 8800 matrix with block size 1101.\n",
      "2020-04-24 19:05:37 Hail: INFO: wrote matrix with 11 rows and 2000 columns as 2 blocks of size 1101 to file:/tmp/hail.pcWkcZDbNULq/DEQRxoyvRy.bm\n",
      "2020-04-24 19:05:37 Hail: INFO: wrote matrix with 2000 rows and 8800 columns as 16 blocks of size 1101 to file:/tmp/hail.pcWkcZDbNULq/FoWFNecfQG.bm\n",
      "2020-04-24 19:05:38 Hail: INFO: wrote matrix with 2000 rows and 8800 columns as 16 blocks of size 1101 to file:/tmp/hail.pcWkcZDbNULq/CfJ8M63Nh5.bm\n",
      "2020-04-24 19:05:46 Hail: INFO: wrote matrix with 8800 rows and 8800 columns as 64 blocks of size 1101 to file:/tmp/hail.pcWkcZDbNULq/pqdpDosh6N.bm\n",
      "2020-04-24 19:05:55 Hail: INFO: wrote matrix with 8800 rows and 8800 columns as 64 blocks of size 1101 to file:/tmp/hail.pcWkcZDbNULq/Nati9cg4DZ.bm\n",
      "2020-04-24 19:05:56 Hail: INFO: wrote matrix with 8800 rows and 8800 columns as 64 blocks of size 1101 to file:/tmp/hail.pcWkcZDbNULq/9Nl17rgswh.bm\n",
      "2020-04-24 19:06:05 Hail: INFO: wrote matrix with 8800 rows and 8800 columns as 64 blocks of size 1101 to file:/tmp/hail.pcWkcZDbNULq/WGHgC1Y9Ek.bm\n",
      "2020-04-24 19:06:13 Hail: INFO: wrote matrix with 8800 rows and 8800 columns as 64 blocks of size 1101 to file:/tmp/hail.pcWkcZDbNULq/McoiHY3mjb.bm\n",
      "2020-04-24 19:06:14 Hail: INFO: wrote matrix with 8800 rows and 8800 columns as 64 blocks of size 1101 to file:/tmp/hail.pcWkcZDbNULq/O2AvhFzAS1.bm\n",
      "2020-04-24 19:06:25 Hail: INFO: wrote matrix with 8800 rows and 8800 columns as 64 blocks of size 1101 to file:/tmp/hail.pcWkcZDbNULq/iXzkI19aAa.bm\n",
      "2020-04-24 19:06:35 Hail: INFO: wrote matrix with 8800 rows and 8800 columns as 64 blocks of size 1101 to file:/tmp/hail.pcWkcZDbNULq/sJFX1vm5bx.bm\n",
      "2020-04-24 19:06:37 Hail: INFO: wrote matrix with 8800 rows and 8800 columns as 64 blocks of size 1101 to file:/tmp/hail.pcWkcZDbNULq/EJWaQPHFZn.bm\n",
      "2020-04-24 19:06:52 Hail: INFO: Ordering unsorted dataset with network shuffle\n",
      "2020-04-24 19:08:23 Hail: INFO: Coerced sorted dataset\n",
      "2020-04-24 19:09:17 Hail: INFO: wrote table with 38715600 rows in 64 partitions to /tmp/tmp9_jmvgwc/pc_relate_result\n"
     ]
    },
    {
     "name": "stdout",
     "output_type": "stream",
     "text": [
      "Deleting pc_relate results: /tmp/tmp9_jmvgwc/pc_relate_result\n",
      "Deleting hail tmp dir: /tmp/hail.pcWkcZDbNULq\n"
     ]
    },
    {
     "name": "stderr",
     "output_type": "stream",
     "text": [
      "2020-04-24 19:09:18 Hail: INFO: hwe_normalized_pca: running PCA using 2000 variants.\n",
      "2020-04-24 19:09:20 Hail: INFO: pca: running PCA with 10 components...\n"
     ]
    },
    {
     "name": "stdout",
     "output_type": "stream",
     "text": [
      "PCA took s:9000, v:2000, p:10 : 14.70 seconds\n"
     ]
    },
    {
     "name": "stderr",
     "output_type": "stream",
     "text": [
      "2020-04-24 19:09:37 Hail: INFO: Wrote all 16 blocks of 2000 x 9000 matrix with block size 1126.\n",
      "2020-04-24 19:09:39 Hail: INFO: wrote matrix with 11 rows and 2000 columns as 2 blocks of size 1126 to file:/tmp/hail.pcWkcZDbNULq/jQSHifNo9Z.bm\n",
      "2020-04-24 19:09:39 Hail: INFO: wrote matrix with 2000 rows and 9000 columns as 16 blocks of size 1126 to file:/tmp/hail.pcWkcZDbNULq/5HwO0ghYRD.bm\n",
      "2020-04-24 19:09:39 Hail: INFO: wrote matrix with 2000 rows and 9000 columns as 16 blocks of size 1126 to file:/tmp/hail.pcWkcZDbNULq/LkV7NVcBMB.bm\n",
      "2020-04-24 19:09:48 Hail: INFO: wrote matrix with 9000 rows and 9000 columns as 64 blocks of size 1126 to file:/tmp/hail.pcWkcZDbNULq/mLJpSrmGYu.bm\n",
      "2020-04-24 19:09:59 Hail: INFO: wrote matrix with 9000 rows and 9000 columns as 64 blocks of size 1126 to file:/tmp/hail.pcWkcZDbNULq/W1bt85IeRt.bm\n",
      "2020-04-24 19:10:01 Hail: INFO: wrote matrix with 9000 rows and 9000 columns as 64 blocks of size 1126 to file:/tmp/hail.pcWkcZDbNULq/9Zyruwl3wW.bm\n",
      "2020-04-24 19:10:12 Hail: INFO: wrote matrix with 9000 rows and 9000 columns as 64 blocks of size 1126 to file:/tmp/hail.pcWkcZDbNULq/Jz2dT8e13Y.bm\n",
      "2020-04-24 19:10:22 Hail: INFO: wrote matrix with 9000 rows and 9000 columns as 64 blocks of size 1126 to file:/tmp/hail.pcWkcZDbNULq/L3t2EJ0AF2.bm\n",
      "2020-04-24 19:10:23 Hail: INFO: wrote matrix with 9000 rows and 9000 columns as 64 blocks of size 1126 to file:/tmp/hail.pcWkcZDbNULq/PZxREcK01B.bm\n",
      "2020-04-24 19:10:35 Hail: INFO: wrote matrix with 9000 rows and 9000 columns as 64 blocks of size 1126 to file:/tmp/hail.pcWkcZDbNULq/SiNQFXoZSF.bm\n",
      "2020-04-24 19:10:46 Hail: INFO: wrote matrix with 9000 rows and 9000 columns as 64 blocks of size 1126 to file:/tmp/hail.pcWkcZDbNULq/9bYBf3USGO.bm\n",
      "2020-04-24 19:10:48 Hail: INFO: wrote matrix with 9000 rows and 9000 columns as 64 blocks of size 1126 to file:/tmp/hail.pcWkcZDbNULq/KRBBH8lP8V.bm\n",
      "2020-04-24 19:11:05 Hail: INFO: Ordering unsorted dataset with network shuffle\n",
      "2020-04-24 19:12:41 Hail: INFO: Coerced sorted dataset\n",
      "2020-04-24 19:13:47 Hail: INFO: wrote table with 40495500 rows in 64 partitions to /tmp/tmpclsrxefk/pc_relate_result\n"
     ]
    },
    {
     "name": "stdout",
     "output_type": "stream",
     "text": [
      "Deleting pc_relate results: /tmp/tmpclsrxefk/pc_relate_result\n",
      "Deleting hail tmp dir: /tmp/hail.pcWkcZDbNULq\n"
     ]
    },
    {
     "name": "stderr",
     "output_type": "stream",
     "text": [
      "2020-04-24 19:13:48 Hail: INFO: balding_nichols_model: generating genotypes for 10 populations, 9200 samples, and 2000 variants...\n",
      "2020-04-24 19:13:49 Hail: INFO: Coerced sorted dataset\n",
      "2020-04-24 19:13:54 Hail: INFO: wrote matrix table with 2000 rows and 9200 columns in 8 partitions to /home/rav/data/tmp/mt_9200_2000_10.mt\n",
      "2020-04-24 19:13:54 Hail: INFO: hwe_normalized_pca: running PCA using 2000 variants.\n",
      "2020-04-24 19:13:57 Hail: INFO: pca: running PCA with 10 components...\n"
     ]
    },
    {
     "name": "stdout",
     "output_type": "stream",
     "text": [
      "PCA took s:9200, v:2000, p:10 : 12.13 seconds\n"
     ]
    },
    {
     "name": "stderr",
     "output_type": "stream",
     "text": [
      "2020-04-24 19:14:11 Hail: INFO: Wrote all 16 blocks of 2000 x 9200 matrix with block size 1151.\n",
      "2020-04-24 19:14:12 Hail: INFO: wrote matrix with 11 rows and 2000 columns as 2 blocks of size 1151 to file:/tmp/hail.pcWkcZDbNULq/TSydZTP8wz.bm\n",
      "2020-04-24 19:14:12 Hail: INFO: wrote matrix with 2000 rows and 9200 columns as 16 blocks of size 1151 to file:/tmp/hail.pcWkcZDbNULq/OB0wL6ceTu.bm\n",
      "2020-04-24 19:14:13 Hail: INFO: wrote matrix with 2000 rows and 9200 columns as 16 blocks of size 1151 to file:/tmp/hail.pcWkcZDbNULq/Bmuk8punPu.bm\n",
      "2020-04-24 19:14:23 Hail: INFO: wrote matrix with 9200 rows and 9200 columns as 64 blocks of size 1151 to file:/tmp/hail.pcWkcZDbNULq/SxKg1tPy0e.bm\n",
      "2020-04-24 19:14:33 Hail: INFO: wrote matrix with 9200 rows and 9200 columns as 64 blocks of size 1151 to file:/tmp/hail.pcWkcZDbNULq/3KUBw1fjON.bm\n",
      "2020-04-24 19:14:34 Hail: INFO: wrote matrix with 9200 rows and 9200 columns as 64 blocks of size 1151 to file:/tmp/hail.pcWkcZDbNULq/NhDGSXy6CE.bm\n",
      "2020-04-24 19:14:44 Hail: INFO: wrote matrix with 9200 rows and 9200 columns as 64 blocks of size 1151 to file:/tmp/hail.pcWkcZDbNULq/zrpqzWIuxQ.bm\n",
      "2020-04-24 19:14:54 Hail: INFO: wrote matrix with 9200 rows and 9200 columns as 64 blocks of size 1151 to file:/tmp/hail.pcWkcZDbNULq/Z1PpPPhB12.bm\n",
      "2020-04-24 19:14:54 Hail: INFO: wrote matrix with 9200 rows and 9200 columns as 64 blocks of size 1151 to file:/tmp/hail.pcWkcZDbNULq/3i9I3nZiUU.bm\n",
      "2020-04-24 19:15:07 Hail: INFO: wrote matrix with 9200 rows and 9200 columns as 64 blocks of size 1151 to file:/tmp/hail.pcWkcZDbNULq/EVUlsDDRZc.bm\n",
      "2020-04-24 19:15:19 Hail: INFO: wrote matrix with 9200 rows and 9200 columns as 64 blocks of size 1151 to file:/tmp/hail.pcWkcZDbNULq/lz8Swmbtqj.bm\n",
      "2020-04-24 19:15:21 Hail: INFO: wrote matrix with 9200 rows and 9200 columns as 64 blocks of size 1151 to file:/tmp/hail.pcWkcZDbNULq/HKf0d8M2WN.bm\n",
      "2020-04-24 19:15:44 Hail: INFO: Ordering unsorted dataset with network shuffle\n",
      "2020-04-24 19:17:19 Hail: INFO: Coerced sorted dataset\n",
      "2020-04-24 19:18:20 Hail: INFO: wrote table with 42315400 rows in 64 partitions to /tmp/tmpzyylo5nq/pc_relate_result\n"
     ]
    },
    {
     "name": "stdout",
     "output_type": "stream",
     "text": [
      "Deleting pc_relate results: /tmp/tmpzyylo5nq/pc_relate_result\n",
      "Deleting hail tmp dir: /tmp/hail.pcWkcZDbNULq\n"
     ]
    },
    {
     "name": "stderr",
     "output_type": "stream",
     "text": [
      "2020-04-24 19:18:21 Hail: INFO: balding_nichols_model: generating genotypes for 10 populations, 9400 samples, and 2000 variants...\n",
      "2020-04-24 19:18:22 Hail: INFO: Coerced sorted dataset\n",
      "2020-04-24 19:18:27 Hail: INFO: wrote matrix table with 2000 rows and 9400 columns in 8 partitions to /home/rav/data/tmp/mt_9400_2000_10.mt\n",
      "2020-04-24 19:18:27 Hail: INFO: hwe_normalized_pca: running PCA using 2000 variants.\n",
      "2020-04-24 19:18:29 Hail: INFO: pca: running PCA with 10 components...\n"
     ]
    },
    {
     "name": "stdout",
     "output_type": "stream",
     "text": [
      "PCA took s:9400, v:2000, p:10 : 15.20 seconds\n"
     ]
    },
    {
     "name": "stderr",
     "output_type": "stream",
     "text": [
      "2020-04-24 19:18:47 Hail: INFO: Wrote all 16 blocks of 2000 x 9400 matrix with block size 1176.\n",
      "2020-04-24 19:18:48 Hail: INFO: wrote matrix with 11 rows and 2000 columns as 2 blocks of size 1176 to file:/tmp/hail.pcWkcZDbNULq/vKKe36faW6.bm\n",
      "2020-04-24 19:18:49 Hail: INFO: wrote matrix with 2000 rows and 9400 columns as 16 blocks of size 1176 to file:/tmp/hail.pcWkcZDbNULq/vXlBeXS9F4.bm\n",
      "2020-04-24 19:18:49 Hail: INFO: wrote matrix with 2000 rows and 9400 columns as 16 blocks of size 1176 to file:/tmp/hail.pcWkcZDbNULq/HUgcFvfM59.bm\n",
      "2020-04-24 19:18:59 Hail: INFO: wrote matrix with 9400 rows and 9400 columns as 64 blocks of size 1176 to file:/tmp/hail.pcWkcZDbNULq/FSsufqvcMd.bm\n",
      "2020-04-24 19:19:09 Hail: INFO: wrote matrix with 9400 rows and 9400 columns as 64 blocks of size 1176 to file:/tmp/hail.pcWkcZDbNULq/H5Z6pY6PgO.bm\n",
      "2020-04-24 19:19:10 Hail: INFO: wrote matrix with 9400 rows and 9400 columns as 64 blocks of size 1176 to file:/tmp/hail.pcWkcZDbNULq/F9exRDprVW.bm\n",
      "2020-04-24 19:19:20 Hail: INFO: wrote matrix with 9400 rows and 9400 columns as 64 blocks of size 1176 to file:/tmp/hail.pcWkcZDbNULq/ISOMoxTjdd.bm\n",
      "2020-04-24 19:19:29 Hail: INFO: wrote matrix with 9400 rows and 9400 columns as 64 blocks of size 1176 to file:/tmp/hail.pcWkcZDbNULq/tTAqV255Gs.bm\n",
      "2020-04-24 19:19:30 Hail: INFO: wrote matrix with 9400 rows and 9400 columns as 64 blocks of size 1176 to file:/tmp/hail.pcWkcZDbNULq/8vKXcnDzQN.bm\n",
      "2020-04-24 19:19:43 Hail: INFO: wrote matrix with 9400 rows and 9400 columns as 64 blocks of size 1176 to file:/tmp/hail.pcWkcZDbNULq/j2FhCXhrRc.bm\n",
      "2020-04-24 19:19:54 Hail: INFO: wrote matrix with 9400 rows and 9400 columns as 64 blocks of size 1176 to file:/tmp/hail.pcWkcZDbNULq/YREcWpyPVZ.bm\n",
      "2020-04-24 19:19:56 Hail: INFO: wrote matrix with 9400 rows and 9400 columns as 64 blocks of size 1176 to file:/tmp/hail.pcWkcZDbNULq/gHw9LhK0qO.bm\n",
      "2020-04-24 19:20:20 Hail: INFO: Ordering unsorted dataset with network shuffle\n",
      "2020-04-24 19:22:00 Hail: INFO: Coerced sorted dataset\n",
      "2020-04-24 19:23:06 Hail: INFO: wrote table with 44175300 rows in 64 partitions to /tmp/tmpt2elwr2w/pc_relate_result\n"
     ]
    },
    {
     "name": "stdout",
     "output_type": "stream",
     "text": [
      "Deleting pc_relate results: /tmp/tmpt2elwr2w/pc_relate_result\n",
      "Deleting hail tmp dir: /tmp/hail.pcWkcZDbNULq\n"
     ]
    },
    {
     "name": "stderr",
     "output_type": "stream",
     "text": [
      "2020-04-24 19:23:07 Hail: INFO: balding_nichols_model: generating genotypes for 10 populations, 9600 samples, and 2000 variants...\n",
      "2020-04-24 19:23:08 Hail: INFO: Coerced sorted dataset\n",
      "2020-04-24 19:23:13 Hail: INFO: wrote matrix table with 2000 rows and 9600 columns in 8 partitions to /home/rav/data/tmp/mt_9600_2000_10.mt\n",
      "2020-04-24 19:23:14 Hail: INFO: hwe_normalized_pca: running PCA using 2000 variants.\n",
      "2020-04-24 19:23:16 Hail: INFO: pca: running PCA with 10 components...\n"
     ]
    },
    {
     "name": "stdout",
     "output_type": "stream",
     "text": [
      "PCA took s:9600, v:2000, p:10 : 12.05 seconds\n"
     ]
    },
    {
     "name": "stderr",
     "output_type": "stream",
     "text": [
      "2020-04-24 19:23:30 Hail: INFO: Wrote all 16 blocks of 2000 x 9600 matrix with block size 1201.\n",
      "2020-04-24 19:23:32 Hail: INFO: wrote matrix with 11 rows and 2000 columns as 2 blocks of size 1201 to file:/tmp/hail.pcWkcZDbNULq/MuvQDgtabL.bm\n",
      "2020-04-24 19:23:32 Hail: INFO: wrote matrix with 2000 rows and 9600 columns as 16 blocks of size 1201 to file:/tmp/hail.pcWkcZDbNULq/LhIlG09ELW.bm\n",
      "2020-04-24 19:23:32 Hail: INFO: wrote matrix with 2000 rows and 9600 columns as 16 blocks of size 1201 to file:/tmp/hail.pcWkcZDbNULq/Z3CT6qZv7S.bm\n",
      "2020-04-24 19:23:43 Hail: INFO: wrote matrix with 9600 rows and 9600 columns as 64 blocks of size 1201 to file:/tmp/hail.pcWkcZDbNULq/STMXeDE1Hf.bm\n",
      "2020-04-24 19:23:55 Hail: INFO: wrote matrix with 9600 rows and 9600 columns as 64 blocks of size 1201 to file:/tmp/hail.pcWkcZDbNULq/6C5uIMIudg.bm\n",
      "2020-04-24 19:23:56 Hail: INFO: wrote matrix with 9600 rows and 9600 columns as 64 blocks of size 1201 to file:/tmp/hail.pcWkcZDbNULq/YS9g1N1T1J.bm\n",
      "2020-04-24 19:24:11 Hail: INFO: wrote matrix with 9600 rows and 9600 columns as 64 blocks of size 1201 to file:/tmp/hail.pcWkcZDbNULq/6VX3ily0I0.bm\n",
      "2020-04-24 19:24:22 Hail: INFO: wrote matrix with 9600 rows and 9600 columns as 64 blocks of size 1201 to file:/tmp/hail.pcWkcZDbNULq/IEAUmUym6Z.bm\n",
      "2020-04-24 19:24:23 Hail: INFO: wrote matrix with 9600 rows and 9600 columns as 64 blocks of size 1201 to file:/tmp/hail.pcWkcZDbNULq/8gRvgKTfE7.bm\n",
      "2020-04-24 19:24:37 Hail: INFO: wrote matrix with 9600 rows and 9600 columns as 64 blocks of size 1201 to file:/tmp/hail.pcWkcZDbNULq/o2lmLV2Fih.bm\n",
      "2020-04-24 19:24:49 Hail: INFO: wrote matrix with 9600 rows and 9600 columns as 64 blocks of size 1201 to file:/tmp/hail.pcWkcZDbNULq/NROPE4llNk.bm\n",
      "2020-04-24 19:24:51 Hail: INFO: wrote matrix with 9600 rows and 9600 columns as 64 blocks of size 1201 to file:/tmp/hail.pcWkcZDbNULq/r6ixhkhisb.bm\n",
      "2020-04-24 19:25:11 Hail: INFO: Ordering unsorted dataset with network shuffle\n",
      "2020-04-24 19:26:57 Hail: INFO: Coerced sorted dataset\n",
      "2020-04-24 19:28:06 Hail: INFO: wrote table with 46075200 rows in 64 partitions to /tmp/tmpb10so3q7/pc_relate_result\n"
     ]
    },
    {
     "name": "stdout",
     "output_type": "stream",
     "text": [
      "Deleting pc_relate results: /tmp/tmpb10so3q7/pc_relate_result\n",
      "Deleting hail tmp dir: /tmp/hail.pcWkcZDbNULq\n"
     ]
    },
    {
     "name": "stderr",
     "output_type": "stream",
     "text": [
      "2020-04-24 19:28:07 Hail: INFO: balding_nichols_model: generating genotypes for 10 populations, 9800 samples, and 2000 variants...\n",
      "2020-04-24 19:28:08 Hail: INFO: Coerced sorted dataset\n",
      "2020-04-24 19:28:14 Hail: INFO: wrote matrix table with 2000 rows and 9800 columns in 8 partitions to /home/rav/data/tmp/mt_9800_2000_10.mt\n",
      "2020-04-24 19:28:14 Hail: INFO: hwe_normalized_pca: running PCA using 2000 variants.\n",
      "2020-04-24 19:28:17 Hail: INFO: pca: running PCA with 10 components...\n"
     ]
    },
    {
     "name": "stdout",
     "output_type": "stream",
     "text": [
      "PCA took s:9800, v:2000, p:10 : 13.74 seconds\n"
     ]
    },
    {
     "name": "stderr",
     "output_type": "stream",
     "text": [
      "2020-04-24 19:28:32 Hail: INFO: Wrote all 16 blocks of 2000 x 9800 matrix with block size 1226.\n",
      "2020-04-24 19:28:34 Hail: INFO: wrote matrix with 11 rows and 2000 columns as 2 blocks of size 1226 to file:/tmp/hail.pcWkcZDbNULq/OjjquCbzii.bm\n",
      "2020-04-24 19:28:34 Hail: INFO: wrote matrix with 2000 rows and 9800 columns as 16 blocks of size 1226 to file:/tmp/hail.pcWkcZDbNULq/p3Cm2rZwyw.bm\n",
      "2020-04-24 19:28:35 Hail: INFO: wrote matrix with 2000 rows and 9800 columns as 16 blocks of size 1226 to file:/tmp/hail.pcWkcZDbNULq/SnspXqWMqv.bm\n",
      "2020-04-24 19:28:46 Hail: INFO: wrote matrix with 9800 rows and 9800 columns as 64 blocks of size 1226 to file:/tmp/hail.pcWkcZDbNULq/cylCosbrCr.bm\n",
      "2020-04-24 19:28:58 Hail: INFO: wrote matrix with 9800 rows and 9800 columns as 64 blocks of size 1226 to file:/tmp/hail.pcWkcZDbNULq/qQE8XLvkL8.bm\n",
      "2020-04-24 19:28:59 Hail: INFO: wrote matrix with 9800 rows and 9800 columns as 64 blocks of size 1226 to file:/tmp/hail.pcWkcZDbNULq/UEXE5l0OGE.bm\n",
      "2020-04-24 19:29:10 Hail: INFO: wrote matrix with 9800 rows and 9800 columns as 64 blocks of size 1226 to file:/tmp/hail.pcWkcZDbNULq/XRUGabCPbP.bm\n",
      "2020-04-24 19:29:21 Hail: INFO: wrote matrix with 9800 rows and 9800 columns as 64 blocks of size 1226 to file:/tmp/hail.pcWkcZDbNULq/pot7SymLgv.bm\n",
      "2020-04-24 19:29:22 Hail: INFO: wrote matrix with 9800 rows and 9800 columns as 64 blocks of size 1226 to file:/tmp/hail.pcWkcZDbNULq/ahRGhL2W3L.bm\n",
      "2020-04-24 19:29:35 Hail: INFO: wrote matrix with 9800 rows and 9800 columns as 64 blocks of size 1226 to file:/tmp/hail.pcWkcZDbNULq/LeYHi9LNi3.bm\n",
      "2020-04-24 19:29:48 Hail: INFO: wrote matrix with 9800 rows and 9800 columns as 64 blocks of size 1226 to file:/tmp/hail.pcWkcZDbNULq/xrzumxJK55.bm\n",
      "2020-04-24 19:29:50 Hail: INFO: wrote matrix with 9800 rows and 9800 columns as 64 blocks of size 1226 to file:/tmp/hail.pcWkcZDbNULq/q7di05b4aF.bm\n",
      "2020-04-24 19:30:11 Hail: INFO: Ordering unsorted dataset with network shuffle\n",
      "2020-04-24 19:32:00 Hail: INFO: Coerced sorted dataset\n",
      "2020-04-24 19:33:08 Hail: INFO: wrote table with 48015100 rows in 64 partitions to /tmp/tmpzvr41xwn/pc_relate_result\n"
     ]
    },
    {
     "name": "stdout",
     "output_type": "stream",
     "text": [
      "Deleting pc_relate results: /tmp/tmpzvr41xwn/pc_relate_result\n",
      "Deleting hail tmp dir: /tmp/hail.pcWkcZDbNULq\n"
     ]
    },
    {
     "name": "stderr",
     "output_type": "stream",
     "text": [
      "2020-04-24 19:33:10 Hail: INFO: hwe_normalized_pca: running PCA using 2000 variants.\n",
      "2020-04-24 19:33:12 Hail: INFO: pca: running PCA with 10 components...\n"
     ]
    },
    {
     "name": "stdout",
     "output_type": "stream",
     "text": [
      "PCA took s:10000, v:2000, p:10 : 13.46 seconds\n"
     ]
    },
    {
     "name": "stderr",
     "output_type": "stream",
     "text": [
      "2020-04-24 19:33:28 Hail: INFO: Wrote all 16 blocks of 2000 x 10000 matrix with block size 1251.\n",
      "2020-04-24 19:33:30 Hail: INFO: wrote matrix with 11 rows and 2000 columns as 2 blocks of size 1251 to file:/tmp/hail.pcWkcZDbNULq/86kLJ5IZbe.bm\n",
      "2020-04-24 19:33:30 Hail: INFO: wrote matrix with 2000 rows and 10000 columns as 16 blocks of size 1251 to file:/tmp/hail.pcWkcZDbNULq/YC3oWcG2WU.bm\n",
      "2020-04-24 19:33:30 Hail: INFO: wrote matrix with 2000 rows and 10000 columns as 16 blocks of size 1251 to file:/tmp/hail.pcWkcZDbNULq/uCIcLoxd66.bm\n",
      "2020-04-24 19:33:42 Hail: INFO: wrote matrix with 10000 rows and 10000 columns as 64 blocks of size 1251 to file:/tmp/hail.pcWkcZDbNULq/T5Y4VYWhYA.bm\n",
      "2020-04-24 19:33:53 Hail: INFO: wrote matrix with 10000 rows and 10000 columns as 64 blocks of size 1251 to file:/tmp/hail.pcWkcZDbNULq/vNUO07c59D.bm\n",
      "2020-04-24 19:33:54 Hail: INFO: wrote matrix with 10000 rows and 10000 columns as 64 blocks of size 1251 to file:/tmp/hail.pcWkcZDbNULq/uWaTVPZf79.bm\n",
      "2020-04-24 19:34:06 Hail: INFO: wrote matrix with 10000 rows and 10000 columns as 64 blocks of size 1251 to file:/tmp/hail.pcWkcZDbNULq/nxtVgNUohd.bm\n",
      "2020-04-24 19:34:17 Hail: INFO: wrote matrix with 10000 rows and 10000 columns as 64 blocks of size 1251 to file:/tmp/hail.pcWkcZDbNULq/5LPBPQhNSA.bm\n",
      "2020-04-24 19:34:18 Hail: INFO: wrote matrix with 10000 rows and 10000 columns as 64 blocks of size 1251 to file:/tmp/hail.pcWkcZDbNULq/FeNa1hD21N.bm\n",
      "2020-04-24 19:34:32 Hail: INFO: wrote matrix with 10000 rows and 10000 columns as 64 blocks of size 1251 to file:/tmp/hail.pcWkcZDbNULq/mNsNQme653.bm\n",
      "2020-04-24 19:34:45 Hail: INFO: wrote matrix with 10000 rows and 10000 columns as 64 blocks of size 1251 to file:/tmp/hail.pcWkcZDbNULq/ckDk9QS9oQ.bm\n",
      "2020-04-24 19:34:47 Hail: INFO: wrote matrix with 10000 rows and 10000 columns as 64 blocks of size 1251 to file:/tmp/hail.pcWkcZDbNULq/AlfHlzoPYV.bm\n",
      "2020-04-24 19:35:21 Hail: INFO: Ordering unsorted dataset with network shuffle\n",
      "2020-04-24 19:37:16 Hail: INFO: Coerced sorted dataset\n",
      "2020-04-24 19:38:28 Hail: INFO: wrote table with 49995000 rows in 64 partitions to /tmp/tmp1rw3ydu0/pc_relate_result\n"
     ]
    },
    {
     "name": "stdout",
     "output_type": "stream",
     "text": [
      "Deleting pc_relate results: /tmp/tmp1rw3ydu0/pc_relate_result\n",
      "Deleting hail tmp dir: /tmp/hail.pcWkcZDbNULq\n"
     ]
    },
    {
     "name": "stderr",
     "output_type": "stream",
     "text": [
      "2020-04-24 19:38:29 Hail: INFO: balding_nichols_model: generating genotypes for 10 populations, 10200 samples, and 2000 variants...\n",
      "2020-04-24 19:38:30 Hail: INFO: Coerced sorted dataset\n",
      "2020-04-24 19:38:35 Hail: INFO: wrote matrix table with 2000 rows and 10200 columns in 8 partitions to /home/rav/data/tmp/mt_10200_2000_10.mt\n",
      "2020-04-24 19:38:36 Hail: INFO: hwe_normalized_pca: running PCA using 2000 variants.\n",
      "2020-04-24 19:38:38 Hail: INFO: pca: running PCA with 10 components...\n"
     ]
    },
    {
     "name": "stdout",
     "output_type": "stream",
     "text": [
      "PCA took s:10200, v:2000, p:10 : 12.67 seconds\n"
     ]
    },
    {
     "name": "stderr",
     "output_type": "stream",
     "text": [
      "2020-04-24 19:38:53 Hail: INFO: Wrote all 16 blocks of 2000 x 10200 matrix with block size 1276.\n",
      "2020-04-24 19:38:55 Hail: INFO: wrote matrix with 11 rows and 2000 columns as 2 blocks of size 1276 to file:/tmp/hail.pcWkcZDbNULq/88E6iEsgjP.bm\n",
      "2020-04-24 19:38:55 Hail: INFO: wrote matrix with 2000 rows and 10200 columns as 16 blocks of size 1276 to file:/tmp/hail.pcWkcZDbNULq/HQBVwZk7yD.bm\n",
      "2020-04-24 19:38:55 Hail: INFO: wrote matrix with 2000 rows and 10200 columns as 16 blocks of size 1276 to file:/tmp/hail.pcWkcZDbNULq/DXXxQkzmyX.bm\n",
      "2020-04-24 19:39:07 Hail: INFO: wrote matrix with 10200 rows and 10200 columns as 64 blocks of size 1276 to file:/tmp/hail.pcWkcZDbNULq/heQ7cXlpxE.bm\n",
      "2020-04-24 19:39:18 Hail: INFO: wrote matrix with 10200 rows and 10200 columns as 64 blocks of size 1276 to file:/tmp/hail.pcWkcZDbNULq/4JwOmii1Nq.bm\n",
      "2020-04-24 19:39:19 Hail: INFO: wrote matrix with 10200 rows and 10200 columns as 64 blocks of size 1276 to file:/tmp/hail.pcWkcZDbNULq/ruVBuNNc6W.bm\n",
      "2020-04-24 19:39:32 Hail: INFO: wrote matrix with 10200 rows and 10200 columns as 64 blocks of size 1276 to file:/tmp/hail.pcWkcZDbNULq/AdBx0Zx0RG.bm\n",
      "2020-04-24 19:39:43 Hail: INFO: wrote matrix with 10200 rows and 10200 columns as 64 blocks of size 1276 to file:/tmp/hail.pcWkcZDbNULq/irgZUVYxg9.bm\n",
      "2020-04-24 19:39:44 Hail: INFO: wrote matrix with 10200 rows and 10200 columns as 64 blocks of size 1276 to file:/tmp/hail.pcWkcZDbNULq/HOy3uJIQf6.bm\n",
      "2020-04-24 19:39:58 Hail: INFO: wrote matrix with 10200 rows and 10200 columns as 64 blocks of size 1276 to file:/tmp/hail.pcWkcZDbNULq/q9i58hdKc4.bm\n",
      "2020-04-24 19:40:12 Hail: INFO: wrote matrix with 10200 rows and 10200 columns as 64 blocks of size 1276 to file:/tmp/hail.pcWkcZDbNULq/DXUb2Sbvvo.bm\n",
      "2020-04-24 19:40:14 Hail: INFO: wrote matrix with 10200 rows and 10200 columns as 64 blocks of size 1276 to file:/tmp/hail.pcWkcZDbNULq/QRcXZg9ChS.bm\n",
      "2020-04-24 19:40:37 Hail: INFO: Ordering unsorted dataset with network shuffle\n",
      "2020-04-24 19:42:36 Hail: INFO: Coerced sorted dataset\n",
      "2020-04-24 19:43:52 Hail: INFO: wrote table with 52014900 rows in 64 partitions to /tmp/tmp8nf9a7j6/pc_relate_result\n"
     ]
    },
    {
     "name": "stdout",
     "output_type": "stream",
     "text": [
      "Deleting pc_relate results: /tmp/tmp8nf9a7j6/pc_relate_result\n",
      "Deleting hail tmp dir: /tmp/hail.pcWkcZDbNULq\n"
     ]
    },
    {
     "name": "stderr",
     "output_type": "stream",
     "text": [
      "2020-04-24 19:43:54 Hail: INFO: balding_nichols_model: generating genotypes for 10 populations, 10400 samples, and 2000 variants...\n",
      "2020-04-24 19:43:55 Hail: INFO: Coerced sorted dataset\n",
      "2020-04-24 19:43:59 Hail: INFO: wrote matrix table with 2000 rows and 10400 columns in 8 partitions to /home/rav/data/tmp/mt_10400_2000_10.mt\n",
      "2020-04-24 19:44:00 Hail: INFO: hwe_normalized_pca: running PCA using 2000 variants.\n",
      "2020-04-24 19:44:02 Hail: INFO: pca: running PCA with 10 components...\n"
     ]
    },
    {
     "name": "stdout",
     "output_type": "stream",
     "text": [
      "PCA took s:10400, v:2000, p:10 : 13.79 seconds\n"
     ]
    },
    {
     "name": "stderr",
     "output_type": "stream",
     "text": [
      "2020-04-24 19:44:18 Hail: INFO: Wrote all 16 blocks of 2000 x 10400 matrix with block size 1301.\n",
      "2020-04-24 19:44:20 Hail: INFO: wrote matrix with 11 rows and 2000 columns as 2 blocks of size 1301 to file:/tmp/hail.pcWkcZDbNULq/sO4XJhze6M.bm\n",
      "2020-04-24 19:44:20 Hail: INFO: wrote matrix with 2000 rows and 10400 columns as 16 blocks of size 1301 to file:/tmp/hail.pcWkcZDbNULq/Vt5iy5yd7g.bm\n",
      "2020-04-24 19:44:21 Hail: INFO: wrote matrix with 2000 rows and 10400 columns as 16 blocks of size 1301 to file:/tmp/hail.pcWkcZDbNULq/j2avCzrUzN.bm\n",
      "2020-04-24 19:44:34 Hail: INFO: wrote matrix with 10400 rows and 10400 columns as 64 blocks of size 1301 to file:/tmp/hail.pcWkcZDbNULq/jLQKo5tVoe.bm\n",
      "2020-04-24 19:44:46 Hail: INFO: wrote matrix with 10400 rows and 10400 columns as 64 blocks of size 1301 to file:/tmp/hail.pcWkcZDbNULq/Q7S7HdnynV.bm\n",
      "2020-04-24 19:44:47 Hail: INFO: wrote matrix with 10400 rows and 10400 columns as 64 blocks of size 1301 to file:/tmp/hail.pcWkcZDbNULq/2uwoPaFo09.bm\n",
      "2020-04-24 19:44:59 Hail: INFO: wrote matrix with 10400 rows and 10400 columns as 64 blocks of size 1301 to file:/tmp/hail.pcWkcZDbNULq/yscBAQm63b.bm\n",
      "2020-04-24 19:45:11 Hail: INFO: wrote matrix with 10400 rows and 10400 columns as 64 blocks of size 1301 to file:/tmp/hail.pcWkcZDbNULq/g4FDxilcpW.bm\n",
      "2020-04-24 19:45:12 Hail: INFO: wrote matrix with 10400 rows and 10400 columns as 64 blocks of size 1301 to file:/tmp/hail.pcWkcZDbNULq/rrJDY8wkMg.bm\n",
      "2020-04-24 19:45:27 Hail: INFO: wrote matrix with 10400 rows and 10400 columns as 64 blocks of size 1301 to file:/tmp/hail.pcWkcZDbNULq/2PZoUQh7mp.bm\n",
      "2020-04-24 19:45:42 Hail: INFO: wrote matrix with 10400 rows and 10400 columns as 64 blocks of size 1301 to file:/tmp/hail.pcWkcZDbNULq/By8eIfOwGX.bm\n",
      "2020-04-24 19:45:44 Hail: INFO: wrote matrix with 10400 rows and 10400 columns as 64 blocks of size 1301 to file:/tmp/hail.pcWkcZDbNULq/378YDiweLH.bm\n",
      "2020-04-24 19:46:08 Hail: INFO: Ordering unsorted dataset with network shuffle\n",
      "2020-04-24 19:48:15 Hail: INFO: Coerced sorted dataset\n",
      "2020-04-24 19:49:31 Hail: INFO: wrote table with 54074800 rows in 64 partitions to /tmp/tmpa6kyj2c4/pc_relate_result\n"
     ]
    },
    {
     "name": "stdout",
     "output_type": "stream",
     "text": [
      "Deleting pc_relate results: /tmp/tmpa6kyj2c4/pc_relate_result\n",
      "Deleting hail tmp dir: /tmp/hail.pcWkcZDbNULq\n"
     ]
    },
    {
     "name": "stderr",
     "output_type": "stream",
     "text": [
      "2020-04-24 19:49:32 Hail: INFO: balding_nichols_model: generating genotypes for 10 populations, 10600 samples, and 2000 variants...\n",
      "2020-04-24 19:49:33 Hail: INFO: Coerced sorted dataset\n",
      "2020-04-24 19:49:38 Hail: INFO: wrote matrix table with 2000 rows and 10600 columns in 8 partitions to /home/rav/data/tmp/mt_10600_2000_10.mt\n",
      "2020-04-24 19:49:38 Hail: INFO: hwe_normalized_pca: running PCA using 2000 variants.\n",
      "2020-04-24 19:49:41 Hail: INFO: pca: running PCA with 10 components...\n"
     ]
    },
    {
     "name": "stdout",
     "output_type": "stream",
     "text": [
      "PCA took s:10600, v:2000, p:10 : 14.18 seconds\n"
     ]
    },
    {
     "name": "stderr",
     "output_type": "stream",
     "text": [
      "2020-04-24 19:49:57 Hail: INFO: Wrote all 16 blocks of 2000 x 10600 matrix with block size 1326.\n",
      "2020-04-24 19:49:59 Hail: INFO: wrote matrix with 11 rows and 2000 columns as 2 blocks of size 1326 to file:/tmp/hail.pcWkcZDbNULq/TVkMTwDjXW.bm\n",
      "2020-04-24 19:50:00 Hail: INFO: wrote matrix with 2000 rows and 10600 columns as 16 blocks of size 1326 to file:/tmp/hail.pcWkcZDbNULq/A6dR1apDqo.bm\n",
      "2020-04-24 19:50:00 Hail: INFO: wrote matrix with 2000 rows and 10600 columns as 16 blocks of size 1326 to file:/tmp/hail.pcWkcZDbNULq/MJajaXFAhI.bm\n",
      "2020-04-24 19:50:13 Hail: INFO: wrote matrix with 10600 rows and 10600 columns as 64 blocks of size 1326 to file:/tmp/hail.pcWkcZDbNULq/7H0rFWo0kn.bm\n",
      "2020-04-24 19:50:25 Hail: INFO: wrote matrix with 10600 rows and 10600 columns as 64 blocks of size 1326 to file:/tmp/hail.pcWkcZDbNULq/tJJEZm63bP.bm\n",
      "2020-04-24 19:50:26 Hail: INFO: wrote matrix with 10600 rows and 10600 columns as 64 blocks of size 1326 to file:/tmp/hail.pcWkcZDbNULq/sr4msbeewH.bm\n",
      "2020-04-24 19:50:39 Hail: INFO: wrote matrix with 10600 rows and 10600 columns as 64 blocks of size 1326 to file:/tmp/hail.pcWkcZDbNULq/EADq5EVspW.bm\n",
      "2020-04-24 19:50:52 Hail: INFO: wrote matrix with 10600 rows and 10600 columns as 64 blocks of size 1326 to file:/tmp/hail.pcWkcZDbNULq/4qlLki060Q.bm\n",
      "2020-04-24 19:50:52 Hail: INFO: wrote matrix with 10600 rows and 10600 columns as 64 blocks of size 1326 to file:/tmp/hail.pcWkcZDbNULq/p5t6LIdIlA.bm\n",
      "2020-04-24 19:51:08 Hail: INFO: wrote matrix with 10600 rows and 10600 columns as 64 blocks of size 1326 to file:/tmp/hail.pcWkcZDbNULq/IvL55qAXNq.bm\n",
      "2020-04-24 19:51:22 Hail: INFO: wrote matrix with 10600 rows and 10600 columns as 64 blocks of size 1326 to file:/tmp/hail.pcWkcZDbNULq/suEZOoL0Sy.bm\n",
      "2020-04-24 19:51:26 Hail: INFO: wrote matrix with 10600 rows and 10600 columns as 64 blocks of size 1326 to file:/tmp/hail.pcWkcZDbNULq/aDBwyqRjQ1.bm\n",
      "2020-04-24 19:51:59 Hail: INFO: Ordering unsorted dataset with network shuffle\n",
      "2020-04-24 19:54:08 Hail: INFO: Coerced sorted dataset\n",
      "2020-04-24 19:55:31 Hail: INFO: wrote table with 56174700 rows in 64 partitions to /tmp/tmpqx_xypfr/pc_relate_result\n"
     ]
    },
    {
     "name": "stdout",
     "output_type": "stream",
     "text": [
      "Deleting pc_relate results: /tmp/tmpqx_xypfr/pc_relate_result\n",
      "Deleting hail tmp dir: /tmp/hail.pcWkcZDbNULq\n"
     ]
    },
    {
     "name": "stderr",
     "output_type": "stream",
     "text": [
      "2020-04-24 19:55:32 Hail: INFO: balding_nichols_model: generating genotypes for 10 populations, 10800 samples, and 2000 variants...\n",
      "2020-04-24 19:55:33 Hail: INFO: Coerced sorted dataset\n",
      "2020-04-24 19:55:38 Hail: INFO: wrote matrix table with 2000 rows and 10800 columns in 8 partitions to /home/rav/data/tmp/mt_10800_2000_10.mt\n",
      "2020-04-24 19:55:39 Hail: INFO: hwe_normalized_pca: running PCA using 2000 variants.\n",
      "2020-04-24 19:55:41 Hail: INFO: pca: running PCA with 10 components...\n"
     ]
    },
    {
     "name": "stdout",
     "output_type": "stream",
     "text": [
      "PCA took s:10800, v:2000, p:10 : 13.56 seconds\n"
     ]
    },
    {
     "name": "stderr",
     "output_type": "stream",
     "text": [
      "2020-04-24 19:55:57 Hail: INFO: Wrote all 16 blocks of 2000 x 10800 matrix with block size 1351.\n",
      "2020-04-24 19:55:59 Hail: INFO: wrote matrix with 11 rows and 2000 columns as 2 blocks of size 1351 to file:/tmp/hail.pcWkcZDbNULq/hmz2s89BWW.bm\n",
      "2020-04-24 19:55:59 Hail: INFO: wrote matrix with 2000 rows and 10800 columns as 16 blocks of size 1351 to file:/tmp/hail.pcWkcZDbNULq/hSalKap851.bm\n",
      "2020-04-24 19:56:00 Hail: INFO: wrote matrix with 2000 rows and 10800 columns as 16 blocks of size 1351 to file:/tmp/hail.pcWkcZDbNULq/w7mCGeQqTp.bm\n",
      "2020-04-24 19:56:13 Hail: INFO: wrote matrix with 10800 rows and 10800 columns as 64 blocks of size 1351 to file:/tmp/hail.pcWkcZDbNULq/AZqWcq1tKU.bm\n",
      "2020-04-24 19:56:26 Hail: INFO: wrote matrix with 10800 rows and 10800 columns as 64 blocks of size 1351 to file:/tmp/hail.pcWkcZDbNULq/5ZWvNRiV3O.bm\n",
      "2020-04-24 19:56:27 Hail: INFO: wrote matrix with 10800 rows and 10800 columns as 64 blocks of size 1351 to file:/tmp/hail.pcWkcZDbNULq/xoOqMQA7zx.bm\n",
      "2020-04-24 19:56:40 Hail: INFO: wrote matrix with 10800 rows and 10800 columns as 64 blocks of size 1351 to file:/tmp/hail.pcWkcZDbNULq/VnujIRdX6G.bm\n",
      "2020-04-24 19:56:54 Hail: INFO: wrote matrix with 10800 rows and 10800 columns as 64 blocks of size 1351 to file:/tmp/hail.pcWkcZDbNULq/L7eJ9b43Jg.bm\n",
      "2020-04-24 19:56:55 Hail: INFO: wrote matrix with 10800 rows and 10800 columns as 64 blocks of size 1351 to file:/tmp/hail.pcWkcZDbNULq/mqbNVOEGGX.bm\n",
      "2020-04-24 19:57:10 Hail: INFO: wrote matrix with 10800 rows and 10800 columns as 64 blocks of size 1351 to file:/tmp/hail.pcWkcZDbNULq/fufuOAtEMj.bm\n",
      "2020-04-24 19:57:26 Hail: INFO: wrote matrix with 10800 rows and 10800 columns as 64 blocks of size 1351 to file:/tmp/hail.pcWkcZDbNULq/6ZX1XEW54e.bm\n",
      "2020-04-24 19:57:30 Hail: INFO: wrote matrix with 10800 rows and 10800 columns as 64 blocks of size 1351 to file:/tmp/hail.pcWkcZDbNULq/afAxgzlKCh.bm\n",
      "2020-04-24 19:57:57 Hail: INFO: Ordering unsorted dataset with network shuffle\n"
     ]
    }
   ],
   "source": [
    "# Fixed variants = 2k\n",
    "for i in range(1000, 20001, 200):\n",
    "    samples = i\n",
    "    variants = 2000\n",
    "    # 8 cores\n",
    "    block_size = int(samples/8) + 1\n",
    "    do_experiment(\"simple_fixed_variants_2k_cpu_8_ram_31_blocksize_per_cpu\", samples=samples, variants=variants, populations=10, block_size=block_size)"
   ]
  },
  {
   "cell_type": "code",
   "execution_count": null,
   "metadata": {},
   "outputs": [],
   "source": [
    "# pure spark pca\n",
    "from pyspark.mllib.linalg.distributed import RowMatrix\n",
    "#from pyspark.mllib.random.RandomRDDs import RandomRDDs\n",
    "from pyspark.mllib.random import RandomRDDs\n",
    "\n",
    "sc = hl.spark_context()\n",
    "mat = RowMatrix(RandomRDDs.uniformVectorRDD(sc, 5000, 5000, numPartitions=200))\n",
    "pc = mat.computePrincipalComponents(10)\n",
    "projected = mat.multiply(pc)"
   ]
  }
 ],
 "metadata": {
  "kernelspec": {
   "display_name": "Python 3",
   "language": "python",
   "name": "python3"
  },
  "language_info": {
   "codemirror_mode": {
    "name": "ipython",
    "version": 3
   },
   "file_extension": ".py",
   "mimetype": "text/x-python",
   "name": "python",
   "nbconvert_exporter": "python",
   "pygments_lexer": "ipython3",
   "version": "3.7.6"
  }
 },
 "nbformat": 4,
 "nbformat_minor": 4
}
