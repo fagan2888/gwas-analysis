{
 "cells": [
  {
   "cell_type": "markdown",
   "metadata": {},
   "source": [
    "### Numba Optimization Tests"
   ]
  },
  {
   "cell_type": "code",
   "execution_count": 1,
   "metadata": {},
   "outputs": [],
   "source": [
    "from lib.stats.math import r\n",
    "import numpy as np\n",
    "import numba"
   ]
  },
  {
   "cell_type": "code",
   "execution_count": 2,
   "metadata": {},
   "outputs": [],
   "source": [
    "def run(x, **kwargs):\n",
    "    r_jit = numba.njit(r, **kwargs)\n",
    "    @numba.njit\n",
    "    def corr(x):\n",
    "        res = list()\n",
    "        for i in range(x.shape[0]):\n",
    "            for j in range(i + 1, x.shape[0]):\n",
    "                res.append((i, j, r_jit(x[i], x[j])))\n",
    "        return len(res)\n",
    "    return corr(x)"
   ]
  },
  {
   "cell_type": "code",
   "execution_count": 3,
   "metadata": {},
   "outputs": [
    {
     "data": {
      "text/plain": [
       "(1000, 10000)"
      ]
     },
     "execution_count": 3,
     "metadata": {},
     "output_type": "execute_result"
    }
   ],
   "source": [
    "x = np.random.normal(size=(1000, 10000))\n",
    "x.shape"
   ]
  },
  {
   "cell_type": "code",
   "execution_count": 4,
   "metadata": {},
   "outputs": [
    {
     "name": "stdout",
     "output_type": "stream",
     "text": [
      "26.2 s ± 42.4 ms per loop (mean ± std. dev. of 3 runs, 3 loops each)\n"
     ]
    }
   ],
   "source": [
    "%%timeit -n 3 -r 3\n",
    "n = run(x, fastmath=False, parallel=False)"
   ]
  },
  {
   "cell_type": "code",
   "execution_count": 4,
   "metadata": {},
   "outputs": [
    {
     "name": "stdout",
     "output_type": "stream",
     "text": [
      "3.75 s ± 44.4 ms per loop (mean ± std. dev. of 3 runs, 3 loops each)\n"
     ]
    }
   ],
   "source": [
    "%%timeit -n 3 -r 3\n",
    "n = run(x, fastmath=True, parallel=False)"
   ]
  },
  {
   "cell_type": "code",
   "execution_count": 4,
   "metadata": {},
   "outputs": [
    {
     "name": "stdout",
     "output_type": "stream",
     "text": [
      "3.67 s ± 29.1 ms per loop (mean ± std. dev. of 3 runs, 3 loops each)\n"
     ]
    }
   ],
   "source": [
    "%%timeit -n 3 -r 3\n",
    "# After `conda install -c numba icc_rt`\n",
    "n = run(x, fastmath=True, parallel=False)"
   ]
  },
  {
   "cell_type": "code",
   "execution_count": 4,
   "metadata": {},
   "outputs": [
    {
     "name": "stderr",
     "output_type": "stream",
     "text": [
      "<ipython-input-2-37ad3722688b>:8: NumbaPerformanceWarning: \n",
      "The keyword argument 'parallel=True' was specified but no transformation for parallel execution was possible.\n",
      "\n",
      "To find out why, try turning on parallel diagnostics, see http://numba.pydata.org/numba-doc/latest/user/parallel.html#diagnostics for help.\n",
      "\n",
      "File \"../lib/stats/math.py\", line 5:\n",
      "\n",
      "def r(gn0, gn1):\n",
      "^\n",
      "\n",
      "  res.append((i, j, r_jit(x[i], x[j])))\n",
      "<ipython-input-2-37ad3722688b>:8: NumbaPerformanceWarning: \n",
      "The keyword argument 'parallel=True' was specified but no transformation for parallel execution was possible.\n",
      "\n",
      "To find out why, try turning on parallel diagnostics, see http://numba.pydata.org/numba-doc/latest/user/parallel.html#diagnostics for help.\n",
      "\n",
      "File \"../lib/stats/math.py\", line 5:\n",
      "\n",
      "def r(gn0, gn1):\n",
      "^\n",
      "\n",
      "  res.append((i, j, r_jit(x[i], x[j])))\n",
      "<ipython-input-2-37ad3722688b>:8: NumbaPerformanceWarning: \n",
      "The keyword argument 'parallel=True' was specified but no transformation for parallel execution was possible.\n",
      "\n",
      "To find out why, try turning on parallel diagnostics, see http://numba.pydata.org/numba-doc/latest/user/parallel.html#diagnostics for help.\n",
      "\n",
      "File \"../lib/stats/math.py\", line 5:\n",
      "\n",
      "def r(gn0, gn1):\n",
      "^\n",
      "\n",
      "  res.append((i, j, r_jit(x[i], x[j])))\n",
      "<ipython-input-2-37ad3722688b>:8: NumbaPerformanceWarning: \n",
      "The keyword argument 'parallel=True' was specified but no transformation for parallel execution was possible.\n",
      "\n",
      "To find out why, try turning on parallel diagnostics, see http://numba.pydata.org/numba-doc/latest/user/parallel.html#diagnostics for help.\n",
      "\n",
      "File \"../lib/stats/math.py\", line 5:\n",
      "\n",
      "def r(gn0, gn1):\n",
      "^\n",
      "\n",
      "  res.append((i, j, r_jit(x[i], x[j])))\n",
      "<ipython-input-2-37ad3722688b>:8: NumbaPerformanceWarning: \n",
      "The keyword argument 'parallel=True' was specified but no transformation for parallel execution was possible.\n",
      "\n",
      "To find out why, try turning on parallel diagnostics, see http://numba.pydata.org/numba-doc/latest/user/parallel.html#diagnostics for help.\n",
      "\n",
      "File \"../lib/stats/math.py\", line 5:\n",
      "\n",
      "def r(gn0, gn1):\n",
      "^\n",
      "\n",
      "  res.append((i, j, r_jit(x[i], x[j])))\n",
      "<ipython-input-2-37ad3722688b>:8: NumbaPerformanceWarning: \n",
      "The keyword argument 'parallel=True' was specified but no transformation for parallel execution was possible.\n",
      "\n",
      "To find out why, try turning on parallel diagnostics, see http://numba.pydata.org/numba-doc/latest/user/parallel.html#diagnostics for help.\n",
      "\n",
      "File \"../lib/stats/math.py\", line 5:\n",
      "\n",
      "def r(gn0, gn1):\n",
      "^\n",
      "\n",
      "  res.append((i, j, r_jit(x[i], x[j])))\n",
      "<ipython-input-2-37ad3722688b>:8: NumbaPerformanceWarning: \n",
      "The keyword argument 'parallel=True' was specified but no transformation for parallel execution was possible.\n",
      "\n",
      "To find out why, try turning on parallel diagnostics, see http://numba.pydata.org/numba-doc/latest/user/parallel.html#diagnostics for help.\n",
      "\n",
      "File \"../lib/stats/math.py\", line 5:\n",
      "\n",
      "def r(gn0, gn1):\n",
      "^\n",
      "\n",
      "  res.append((i, j, r_jit(x[i], x[j])))\n",
      "<ipython-input-2-37ad3722688b>:8: NumbaPerformanceWarning: \n",
      "The keyword argument 'parallel=True' was specified but no transformation for parallel execution was possible.\n",
      "\n",
      "To find out why, try turning on parallel diagnostics, see http://numba.pydata.org/numba-doc/latest/user/parallel.html#diagnostics for help.\n",
      "\n",
      "File \"../lib/stats/math.py\", line 5:\n",
      "\n",
      "def r(gn0, gn1):\n",
      "^\n",
      "\n",
      "  res.append((i, j, r_jit(x[i], x[j])))\n",
      "<ipython-input-2-37ad3722688b>:8: NumbaPerformanceWarning: \n",
      "The keyword argument 'parallel=True' was specified but no transformation for parallel execution was possible.\n",
      "\n",
      "To find out why, try turning on parallel diagnostics, see http://numba.pydata.org/numba-doc/latest/user/parallel.html#diagnostics for help.\n",
      "\n",
      "File \"../lib/stats/math.py\", line 5:\n",
      "\n",
      "def r(gn0, gn1):\n",
      "^\n",
      "\n",
      "  res.append((i, j, r_jit(x[i], x[j])))\n"
     ]
    },
    {
     "name": "stdout",
     "output_type": "stream",
     "text": [
      "26.5 s ± 114 ms per loop (mean ± std. dev. of 3 runs, 3 loops each)\n"
     ]
    }
   ],
   "source": [
    "%%timeit -n 3 -r 3\n",
    "# In this use case, nothing can be made parallel so parallel=True results in:\n",
    "# <ipython-input-2-37ad3722688b>:8: NumbaPerformanceWarning: \n",
    "# The keyword argument 'parallel=True' was specified but no transformation for parallel execution was possible.\n",
    "# To find out why, try turning on parallel diagnostics, see http://numba.pydata.org/numba-doc/latest/user/parallel.html#diagnostics for help.\n",
    "n = run(x, fastmath=False, parallel=True)"
   ]
  }
 ],
 "metadata": {
  "kernelspec": {
   "display_name": "Python 3",
   "language": "python",
   "name": "python3"
  },
  "language_info": {
   "codemirror_mode": {
    "name": "ipython",
    "version": 3
   },
   "file_extension": ".py",
   "mimetype": "text/x-python",
   "name": "python",
   "nbconvert_exporter": "python",
   "pygments_lexer": "ipython3",
   "version": "3.7.6"
  }
 },
 "nbformat": 4,
 "nbformat_minor": 4
}
