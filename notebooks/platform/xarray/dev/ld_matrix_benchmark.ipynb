{
 "cells": [
  {
   "cell_type": "markdown",
   "metadata": {},
   "source": [
    "### LD Matrix Numba vs Cuda\n",
    "\n",
    "Compare 1KG LD matrix calc times on CPU and GPU"
   ]
  },
  {
   "cell_type": "code",
   "execution_count": 1,
   "metadata": {},
   "outputs": [],
   "source": [
    "from lib import api\n",
    "import xarray as xr\n",
    "import numpy as np\n",
    "%run ../nb/paths.py"
   ]
  },
  {
   "cell_type": "code",
   "execution_count": null,
   "metadata": {},
   "outputs": [],
   "source": [
    "path = PLINK_1KG_PATH_02\n",
    "path"
   ]
  },
  {
   "cell_type": "code",
   "execution_count": null,
   "metadata": {},
   "outputs": [],
   "source": [
    "%%time\n",
    "ds = api.read_plink(path, chunks='auto', fam_sep=' ', bim_sep='\\t', lock=False)\n",
    "ds = ds.sel(ds.contig == 1)\n",
    "ds"
   ]
  },
  {
   "cell_type": "code",
   "execution_count": 4,
   "metadata": {},
   "outputs": [],
   "source": [
    "# Set intervals for LD calculation (standard parameterization is 1000kbp window)\n",
    "intervals = api.axis_intervals(ds, window=1_000_000, unit='physical', target_chunk_size=100_000, backend='numba')"
   ]
  },
  {
   "cell_type": "code",
   "execution_count": 5,
   "metadata": {},
   "outputs": [
    {
     "data": {
      "text/plain": [
       "(86922, 629)"
      ]
     },
     "execution_count": 5,
     "metadata": {},
     "output_type": "execute_result"
    }
   ],
   "source": [
    "# Average chunk size\n",
    "(int(intervals[1].pipe(lambda a: a.sel(var='max_stop') - a.sel(var='min_start')).mean().values), ds.dims['sample'])"
   ]
  },
  {
   "cell_type": "code",
   "execution_count": 6,
   "metadata": {},
   "outputs": [
    {
     "name": "stdout",
     "output_type": "stream",
     "text": [
      "CPU times: user 4h 20min 2s, sys: 45.3 s, total: 4h 20min 47s\n",
      "Wall time: 35min 34s\n"
     ]
    },
    {
     "data": {
      "text/plain": [
       "i        371826613\n",
       "j        371826613\n",
       "value    371826613\n",
       "dtype: int64"
      ]
     },
     "execution_count": 6,
     "metadata": {},
     "output_type": "execute_result"
    }
   ],
   "source": [
    "%%time\n",
    "ldm = api.ld_matrix(ds, intervals=intervals, threshold=0.2, backend='dask/numba', preallocate=False)\n",
    "ldm.count().compute(scheduler='threads', num_workers=8, threads_per_worker=1)"
   ]
  },
  {
   "cell_type": "code",
   "execution_count": 9,
   "metadata": {},
   "outputs": [
    {
     "name": "stdout",
     "output_type": "stream",
     "text": [
      "CPU times: user 4h 8min 36s, sys: 1min 40s, total: 4h 10min 17s\n",
      "Wall time: 33min 19s\n"
     ]
    },
    {
     "data": {
      "text/plain": [
       "i        13414996395\n",
       "j        13414996395\n",
       "value    13414996395\n",
       "dtype: int64"
      ]
     },
     "execution_count": 9,
     "metadata": {},
     "output_type": "execute_result"
    }
   ],
   "source": [
    "%%time\n",
    "ldm = api.ld_matrix(ds, intervals=intervals, threshold=None, backend='dask/numba')\n",
    "ldm.count().compute(scheduler='threads', num_workers=8, threads_per_worker=1)"
   ]
  },
  {
   "cell_type": "code",
   "execution_count": 19,
   "metadata": {},
   "outputs": [
    {
     "name": "stdout",
     "output_type": "stream",
     "text": [
      "CPU times: user 23min 35s, sys: 1min 34s, total: 25min 10s\n",
      "Wall time: 25min 7s\n"
     ]
    },
    {
     "data": {
      "text/plain": [
       "i        13414996395\n",
       "j        13414996395\n",
       "value    13414996395\n",
       "dtype: int64"
      ]
     },
     "execution_count": 19,
     "metadata": {},
     "output_type": "execute_result"
    }
   ],
   "source": [
    "%%time\n",
    "ldm = api.ld_matrix(ds, intervals=intervals, threshold=None, backend='dask/cuda')\n",
    "ldm.count().compute(scheduler='single-threaded')"
   ]
  },
  {
   "cell_type": "code",
   "execution_count": 7,
   "metadata": {},
   "outputs": [
    {
     "name": "stdout",
     "output_type": "stream",
     "text": [
      "CPU times: user 22min 10s, sys: 31.8 s, total: 22min 41s\n",
      "Wall time: 22min 39s\n"
     ]
    },
    {
     "data": {
      "text/plain": [
       "i        371826627\n",
       "j        371826627\n",
       "value    371826627\n",
       "dtype: int64"
      ]
     },
     "execution_count": 7,
     "metadata": {},
     "output_type": "execute_result"
    }
   ],
   "source": [
    "%%time\n",
    "ldm = api.ld_matrix(ds, intervals=intervals, threshold=0.2, backend='dask/cuda')\n",
    "ldm.count().compute(scheduler='single-threaded')"
   ]
  }
 ],
 "metadata": {
  "kernelspec": {
   "display_name": "Python 3",
   "language": "python",
   "name": "python3"
  },
  "language_info": {
   "codemirror_mode": {
    "name": "ipython",
    "version": 3
   },
   "file_extension": ".py",
   "mimetype": "text/x-python",
   "name": "python",
   "nbconvert_exporter": "python",
   "pygments_lexer": "ipython3",
   "version": "3.7.6"
  }
 },
 "nbformat": 4,
 "nbformat_minor": 4
}
