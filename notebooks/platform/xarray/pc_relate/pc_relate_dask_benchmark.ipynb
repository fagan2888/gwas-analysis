{
 "cells": [
  {
   "cell_type": "code",
   "execution_count": 1,
   "metadata": {},
   "outputs": [],
   "source": [
    "%load_ext autoreload\n",
    "%autoreload 2"
   ]
  },
  {
   "cell_type": "code",
   "execution_count": 2,
   "metadata": {},
   "outputs": [
    {
     "name": "stdout",
     "output_type": "stream",
     "text": [
      "Adding /home/rav/projects/gwas-analysis/notebooks/platform/xarray to python path\n"
     ]
    }
   ],
   "source": [
    "from pathlib import Path\n",
    "import sys\n",
    "module_path = Path(\"..\").resolve().as_posix()\n",
    "if module_path not in sys.path:\n",
    "    print(f\"Adding {module_path} to python path\")\n",
    "    sys.path.append(module_path)"
   ]
  },
  {
   "cell_type": "code",
   "execution_count": 8,
   "metadata": {},
   "outputs": [],
   "source": [
    "import lib.io.pysnptools_backend\n",
    "from lib.method.pc_relate.pc_relate import pc_relate"
   ]
  },
  {
   "cell_type": "code",
   "execution_count": 19,
   "metadata": {},
   "outputs": [],
   "source": [
    "from lib import api\n",
    "import pandas as pd\n",
    "import numpy as np\n",
    "from dask_ml.decomposition import PCA\n",
    "import dask\n",
    "import dask.array as da\n",
    "import seaborn as sns\n",
    "import time\n",
    "from distributed import Client"
   ]
  },
  {
   "cell_type": "code",
   "execution_count": 32,
   "metadata": {},
   "outputs": [],
   "source": [
    "sns.set(style=\"darkgrid\")\n",
    "from IPython.core.pylabtools import figsize\n",
    "figsize(14, 7)"
   ]
  },
  {
   "cell_type": "code",
   "execution_count": 5,
   "metadata": {},
   "outputs": [],
   "source": [
    "# This data was generated via hail using Balding-Nichols model: samples=1000, variants=5000, populations=3\n",
    "path = Path(f\"{Path.home()}/projects/tmp/plink_s_1000_v_5000_p_3/data\").as_posix()\n",
    "\n",
    "ds = api.read_plink(path, chunks='auto', fam_sep=' ', bim_sep='\\t')\n",
    "g = ds.data.data\n",
    "g"
   ]
  },
  {
   "cell_type": "code",
   "execution_count": 13,
   "metadata": {},
   "outputs": [],
   "source": [
    "def get_plink(s):\n",
    "    path = Path(f\"{Path.home()}/projects/tmp/plink_{s}/data\").as_posix()\n",
    "    ds = api.read_plink(path, chunks='auto', fam_sep=' ', bim_sep='\\t')\n",
    "    return ds.data.data"
   ]
  },
  {
   "cell_type": "code",
   "execution_count": 24,
   "metadata": {},
   "outputs": [],
   "source": [
    "def compute_pca(g, display_pc_12: bool=True):\n",
    "    pca = PCA(n_components=8, random_state=42)\n",
    "    pca.fit(g)\n",
    "    if display_pc_12:\n",
    "        display(sns.scatterplot(x=pca.components_[0], y=pca.components_[1]))\n",
    "    pcs = da.from_array(pca.components_)\n",
    "    return pcs[:2,:]"
   ]
  },
  {
   "cell_type": "code",
   "execution_count": 7,
   "metadata": {},
   "outputs": [
    {
     "data": {
      "text/plain": [
       "<matplotlib.axes._subplots.AxesSubplot at 0x7f4ba06416d0>"
      ]
     },
     "metadata": {},
     "output_type": "display_data"
    },
    {
     "data": {
      "image/png": "[encoded data removed]",
      "text/plain": [
       "<Figure size 432x288 with 1 Axes>"
      ]
     },
     "metadata": {
      "needs_background": "light"
     },
     "output_type": "display_data"
    }
   ],
   "source": [
    "pcs = compute_pca(g)"
   ]
  },
  {
   "cell_type": "code",
   "execution_count": 12,
   "metadata": {},
   "outputs": [
    {
     "name": "stdout",
     "output_type": "stream",
     "text": [
      "610 ms ± 40.5 ms per loop (mean ± std. dev. of 4 runs, 4 loops each)\n"
     ]
    }
   ],
   "source": [
    "%%timeit -n 4 -r 4\n",
    "phi = pc_relate(pcs, g).compute()"
   ]
  },
  {
   "cell_type": "code",
   "execution_count": 17,
   "metadata": {},
   "outputs": [
    {
     "data": {
      "text/plain": [
       "<matplotlib.axes._subplots.AxesSubplot at 0x7f4b88173e50>"
      ]
     },
     "metadata": {},
     "output_type": "display_data"
    },
    {
     "name": "stdout",
     "output_type": "stream",
     "text": [
      "s: 1000, time: 0.28 sec\n"
     ]
    },
    {
     "data": {
      "text/plain": [
       "<matplotlib.axes._subplots.AxesSubplot at 0x7f4b88173e50>"
      ]
     },
     "metadata": {},
     "output_type": "display_data"
    },
    {
     "name": "stdout",
     "output_type": "stream",
     "text": [
      "s: 2000, time: 0.64 sec\n"
     ]
    },
    {
     "data": {
      "text/plain": [
       "<matplotlib.axes._subplots.AxesSubplot at 0x7f4b88173e50>"
      ]
     },
     "metadata": {},
     "output_type": "display_data"
    },
    {
     "name": "stdout",
     "output_type": "stream",
     "text": [
      "s: 4000, time: 2.39 sec\n"
     ]
    },
    {
     "data": {
      "text/plain": [
       "<matplotlib.axes._subplots.AxesSubplot at 0x7f4b88173e50>"
      ]
     },
     "metadata": {},
     "output_type": "display_data"
    },
    {
     "name": "stdout",
     "output_type": "stream",
     "text": [
      "s: 6000, time: 6.52 sec\n"
     ]
    },
    {
     "data": {
      "text/plain": [
       "<matplotlib.axes._subplots.AxesSubplot at 0x7f4b88173e50>"
      ]
     },
     "metadata": {},
     "output_type": "display_data"
    },
    {
     "name": "stdout",
     "output_type": "stream",
     "text": [
      "s: 8000, time: 12.27 sec\n"
     ]
    },
    {
     "data": {
      "text/plain": [
       "<matplotlib.axes._subplots.AxesSubplot at 0x7f4b88173e50>"
      ]
     },
     "metadata": {},
     "output_type": "display_data"
    },
    {
     "name": "stdout",
     "output_type": "stream",
     "text": [
      "s: 10000, time: 21.43 sec\n"
     ]
    },
    {
     "data": {
      "image/png": "[encoded data removed]",
      "text/plain": [
       "<Figure size 432x288 with 1 Axes>"
      ]
     },
     "metadata": {
      "needs_background": "light"
     },
     "output_type": "display_data"
    }
   ],
   "source": [
    "for i in [1000, 2000, 4000, 6000, 8000, 10000]:\n",
    "    g = get_plink(i)\n",
    "    pcs = compute_pca(g)\n",
    "    t_0 = time.time()\n",
    "    pc_relate(pcs, g).compute()\n",
    "    print(f\"s: {i}, time: {time.time() - t_0:.2f} sec\")"
   ]
  },
  {
   "cell_type": "code",
   "execution_count": 20,
   "metadata": {},
   "outputs": [],
   "source": [
    "c = Client(processes=True)"
   ]
  },
  {
   "cell_type": "code",
   "execution_count": 25,
   "metadata": {},
   "outputs": [
    {
     "name": "stdout",
     "output_type": "stream",
     "text": [
      "s: 1000, time: 0.59 sec\n",
      "s: 2000, time: 0.86 sec\n",
      "s: 4000, time: 2.87 sec\n",
      "s: 6000, time: 6.94 sec\n",
      "s: 8000, time: 13.65 sec\n",
      "s: 10000, time: 22.81 sec\n"
     ]
    }
   ],
   "source": [
    "times = []\n",
    "with dask.config.set({\"optimization.fuse.ave-width\": 20}):\n",
    "    for i in [1000, 2000, 4000, 6000, 8000, 10000]:\n",
    "        g = get_plink(i)\n",
    "        pcs = compute_pca(g, False)\n",
    "        t_0 = time.time()\n",
    "        pc_relate(pcs, g).compute()\n",
    "        dur = time.time() - t_0\n",
    "        times.append((i, dur))\n",
    "        print(f\"s: {i}, time: {dur:.2f} sec\")"
   ]
  },
  {
   "cell_type": "code",
   "execution_count": 34,
   "metadata": {},
   "outputs": [
    {
     "data": {
      "text/plain": [
       "<matplotlib.legend.Legend at 0x7f4a8da198d0>"
      ]
     },
     "execution_count": 34,
     "metadata": {},
     "output_type": "execute_result"
    },
    {
     "data": {
      "image/png": "[encoded data removed]",
      "text/plain": [
       "<Figure size 1008x504 with 1 Axes>"
      ]
     },
     "metadata": {},
     "output_type": "display_data"
    }
   ],
   "source": [
    "x = [i[0] for i in times]\n",
    "y = [i[1] for i in times]\n",
    "p = sns.scatterplot(x=x, y=y, s=50)\n",
    "p.set(ylabel=\"walltime seconds\", title=\"variants=samples\")\n",
    "p.legend([\"block_size=samples\", \"block_size=2cores\", \"block_size=3cores\", \"block_size=4cores\", \"block_size=8cores\", \"block_size=512\"])"
   ]
  },
  {
   "cell_type": "code",
   "execution_count": null,
   "metadata": {},
   "outputs": [],
   "source": []
  }
 ],
 "metadata": {
  "kernelspec": {
   "display_name": "Python 3",
   "language": "python",
   "name": "python3"
  },
  "language_info": {
   "codemirror_mode": {
    "name": "ipython",
    "version": 3
   },
   "file_extension": ".py",
   "mimetype": "text/x-python",
   "name": "python",
   "nbconvert_exporter": "python",
   "pygments_lexer": "ipython3",
   "version": "3.7.7"
  }
 },
 "nbformat": 4,
 "nbformat_minor": 4
}
