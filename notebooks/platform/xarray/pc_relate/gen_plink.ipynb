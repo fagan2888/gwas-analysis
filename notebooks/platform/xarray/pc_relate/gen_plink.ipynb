{
 "cells": [
  {
   "cell_type": "code",
   "execution_count": 1,
   "metadata": {},
   "outputs": [
    {
     "name": "stderr",
     "output_type": "stream",
     "text": [
      "Running on Apache Spark version 2.4.4\n",
      "SparkUI available at http://bcc11a6080d7:4040\n",
      "Welcome to\n",
      "     __  __     <>__\n",
      "    / /_/ /__  __/ /\n",
      "   / __  / _ `/ / /\n",
      "  /_/ /_/\\_,_/_/_/   version 0.2.32-a5876a0a2853\n",
      "LOGGING: writing to /home/tom/repos/gwas-analysis/notebooks/platform/xarray/pc_relate/hail-20200616-0850-0.2.32-a5876a0a2853.log\n"
     ]
    }
   ],
   "source": [
    "import hail as hl\n",
    "from pathlib import Path\n",
    "hl.init()"
   ]
  },
  {
   "cell_type": "code",
   "execution_count": 2,
   "metadata": {},
   "outputs": [],
   "source": [
    "! mkdir -p ~/projects/tmp\n",
    "#! rm -rf ~/projects/tmp/mt*"
   ]
  },
  {
   "cell_type": "code",
   "execution_count": 4,
   "metadata": {},
   "outputs": [
    {
     "name": "stdout",
     "output_type": "stream",
     "text": [
      "1000\n"
     ]
    },
    {
     "name": "stderr",
     "output_type": "stream",
     "text": [
      "2020-06-16 09:00:12 Hail: INFO: balding_nichols_model: generating genotypes for 10 populations, 1000 samples, and 2000 variants...\n",
      "2020-06-16 09:00:13 Hail: INFO: Coerced sorted dataset\n",
      "2020-06-16 09:00:15 Hail: INFO: merging 9 files totalling 488.3K...\n",
      "2020-06-16 09:00:15 Hail: INFO: while writing:\n",
      "    /home/tom/projects/tmp/mt_1000_2000_10.mt/data.bed\n",
      "  merge time: 31.913ms\n",
      "2020-06-16 09:00:15 Hail: INFO: merging 8 files totalling 48.6K...\n",
      "2020-06-16 09:00:15 Hail: INFO: while writing:\n",
      "    /home/tom/projects/tmp/mt_1000_2000_10.mt/data.bim\n",
      "  merge time: 28.668ms\n",
      "2020-06-16 09:00:15 Hail: INFO: merging 4 files totalling 14.5K...\n",
      "2020-06-16 09:00:15 Hail: INFO: while writing:\n",
      "    /home/tom/projects/tmp/mt_1000_2000_10.mt/data.fam\n",
      "  merge time: 10.642ms\n",
      "2020-06-16 09:00:15 Hail: INFO: wrote 2000 variants and 1000 samples to '/home/tom/projects/tmp/mt_1000_2000_10.mt/data'\n",
      "2020-06-16 09:00:15 Hail: INFO: balding_nichols_model: generating genotypes for 10 populations, 2000 samples, and 2000 variants...\n"
     ]
    },
    {
     "name": "stdout",
     "output_type": "stream",
     "text": [
      "2000\n"
     ]
    },
    {
     "name": "stderr",
     "output_type": "stream",
     "text": [
      "2020-06-16 09:00:17 Hail: INFO: Coerced sorted dataset\n",
      "2020-06-16 09:00:19 Hail: INFO: merging 9 files totalling 976.6K...\n",
      "2020-06-16 09:00:19 Hail: INFO: while writing:\n",
      "    /home/tom/projects/tmp/mt_2000_2000_10.mt/data.bed\n",
      "  merge time: 33.489ms\n",
      "2020-06-16 09:00:19 Hail: INFO: merging 8 files totalling 48.6K...\n",
      "2020-06-16 09:00:19 Hail: INFO: while writing:\n",
      "    /home/tom/projects/tmp/mt_2000_2000_10.mt/data.bim\n",
      "  merge time: 19.248ms\n",
      "2020-06-16 09:00:20 Hail: INFO: merging 4 files totalling 30.2K...\n",
      "2020-06-16 09:00:20 Hail: INFO: while writing:\n",
      "    /home/tom/projects/tmp/mt_2000_2000_10.mt/data.fam\n",
      "  merge time: 15.417ms\n",
      "2020-06-16 09:00:20 Hail: INFO: wrote 2000 variants and 2000 samples to '/home/tom/projects/tmp/mt_2000_2000_10.mt/data'\n",
      "2020-06-16 09:00:20 Hail: INFO: balding_nichols_model: generating genotypes for 10 populations, 5000 samples, and 2000 variants...\n"
     ]
    },
    {
     "name": "stdout",
     "output_type": "stream",
     "text": [
      "5000\n"
     ]
    },
    {
     "name": "stderr",
     "output_type": "stream",
     "text": [
      "2020-06-16 09:00:22 Hail: INFO: Coerced sorted dataset\n",
      "2020-06-16 09:00:29 Hail: INFO: merging 9 files totalling 2.4M...\n",
      "2020-06-16 09:00:29 Hail: INFO: while writing:\n",
      "    /home/tom/projects/tmp/mt_5000_2000_10.mt/data.bed\n",
      "  merge time: 37.790ms\n",
      "2020-06-16 09:00:29 Hail: INFO: merging 8 files totalling 48.6K...\n",
      "2020-06-16 09:00:29 Hail: INFO: while writing:\n",
      "    /home/tom/projects/tmp/mt_5000_2000_10.mt/data.bim\n",
      "  merge time: 109.344ms\n",
      "2020-06-16 09:00:30 Hail: INFO: merging 4 files totalling 77.0K...\n",
      "2020-06-16 09:00:30 Hail: INFO: while writing:\n",
      "    /home/tom/projects/tmp/mt_5000_2000_10.mt/data.fam\n",
      "  merge time: 16.282ms\n",
      "2020-06-16 09:00:30 Hail: INFO: wrote 2000 variants and 5000 samples to '/home/tom/projects/tmp/mt_5000_2000_10.mt/data'\n",
      "2020-06-16 09:00:30 Hail: INFO: balding_nichols_model: generating genotypes for 10 populations, 10000 samples, and 2000 variants...\n"
     ]
    },
    {
     "name": "stdout",
     "output_type": "stream",
     "text": [
      "10000\n"
     ]
    },
    {
     "name": "stderr",
     "output_type": "stream",
     "text": [
      "2020-06-16 09:00:33 Hail: INFO: Coerced sorted dataset\n",
      "2020-06-16 09:00:43 Hail: INFO: merging 9 files totalling 4.8M...\n",
      "2020-06-16 09:00:43 Hail: INFO: while writing:\n",
      "    /home/tom/projects/tmp/mt_10000_2000_10.mt/data.bed\n",
      "  merge time: 29.051ms\n",
      "2020-06-16 09:00:43 Hail: INFO: merging 8 files totalling 48.6K...\n",
      "2020-06-16 09:00:43 Hail: INFO: while writing:\n",
      "    /home/tom/projects/tmp/mt_10000_2000_10.mt/data.bim\n",
      "  merge time: 21.603ms\n",
      "2020-06-16 09:00:43 Hail: INFO: merging 4 files totalling 155.2K...\n",
      "2020-06-16 09:00:43 Hail: INFO: while writing:\n",
      "    /home/tom/projects/tmp/mt_10000_2000_10.mt/data.fam\n",
      "  merge time: 24.373ms\n",
      "2020-06-16 09:00:43 Hail: INFO: wrote 2000 variants and 10000 samples to '/home/tom/projects/tmp/mt_10000_2000_10.mt/data'\n",
      "2020-06-16 09:00:43 Hail: INFO: balding_nichols_model: generating genotypes for 10 populations, 20000 samples, and 2000 variants...\n"
     ]
    },
    {
     "name": "stdout",
     "output_type": "stream",
     "text": [
      "20000\n"
     ]
    },
    {
     "name": "stderr",
     "output_type": "stream",
     "text": [
      "2020-06-16 09:00:47 Hail: INFO: Coerced sorted dataset\n",
      "2020-06-16 09:01:07 Hail: INFO: merging 9 files totalling 9.5M...\n",
      "2020-06-16 09:01:07 Hail: INFO: while writing:\n",
      "    /home/tom/projects/tmp/mt_20000_2000_10.mt/data.bed\n",
      "  merge time: 40.790ms\n",
      "2020-06-16 09:01:07 Hail: INFO: merging 8 files totalling 48.6K...\n",
      "2020-06-16 09:01:07 Hail: INFO: while writing:\n",
      "    /home/tom/projects/tmp/mt_20000_2000_10.mt/data.bim\n",
      "  merge time: 18.195ms\n",
      "2020-06-16 09:01:07 Hail: INFO: merging 4 files totalling 321.2K...\n",
      "2020-06-16 09:01:07 Hail: INFO: while writing:\n",
      "    /home/tom/projects/tmp/mt_20000_2000_10.mt/data.fam\n",
      "  merge time: 11.224ms\n",
      "2020-06-16 09:01:07 Hail: INFO: wrote 2000 variants and 20000 samples to '/home/tom/projects/tmp/mt_20000_2000_10.mt/data'\n",
      "2020-06-16 09:01:07 Hail: INFO: balding_nichols_model: generating genotypes for 10 populations, 50000 samples, and 2000 variants...\n"
     ]
    },
    {
     "name": "stdout",
     "output_type": "stream",
     "text": [
      "50000\n"
     ]
    },
    {
     "name": "stderr",
     "output_type": "stream",
     "text": [
      "2020-06-16 09:01:14 Hail: INFO: Coerced sorted dataset\n",
      "2020-06-16 09:02:01 Hail: INFO: merging 9 files totalling 23.8M...\n",
      "2020-06-16 09:02:01 Hail: INFO: while writing:\n",
      "    /home/tom/projects/tmp/mt_50000_2000_10.mt/data.bed\n",
      "  merge time: 92.137ms\n",
      "2020-06-16 09:02:01 Hail: INFO: merging 8 files totalling 48.6K...\n",
      "2020-06-16 09:02:01 Hail: INFO: while writing:\n",
      "    /home/tom/projects/tmp/mt_50000_2000_10.mt/data.bim\n",
      "  merge time: 22.390ms\n",
      "2020-06-16 09:02:01 Hail: INFO: merging 4 files totalling 819.2K...\n",
      "2020-06-16 09:02:01 Hail: INFO: while writing:\n",
      "    /home/tom/projects/tmp/mt_50000_2000_10.mt/data.fam\n",
      "  merge time: 14.368ms\n",
      "2020-06-16 09:02:01 Hail: INFO: wrote 2000 variants and 50000 samples to '/home/tom/projects/tmp/mt_50000_2000_10.mt/data'\n"
     ]
    }
   ],
   "source": [
    "export_dir = Path(f\"{Path.home()}/projects/tmp\")\n",
    "variants = 2000\n",
    "populations = 10\n",
    "for samples in (1_000, 2_000, 5_000, 10_000, 20_000, 50_000):\n",
    "    print(samples)\n",
    "    mt = hl.balding_nichols_model(n_populations=populations, n_variants=variants, n_samples=samples)\n",
    "    # Col key must be string\n",
    "    mt = mt.annotate_cols(s=hl.str(mt.sample_idx)).key_cols_by('s')\n",
    "    #mt.describe()\n",
    "    path = str(export_dir / f'mt_{samples}_{variants}_{populations}.mt/data')\n",
    "    hl.export_plink(mt, path)"
   ]
  },
  {
   "cell_type": "code",
   "execution_count": 18,
   "metadata": {},
   "outputs": [
    {
     "name": "stderr",
     "output_type": "stream",
     "text": [
      "2020-06-15 14:22:37 Hail: INFO: Coerced sorted dataset\n",
      "2020-06-15 14:22:39 Hail: INFO: merging 9 files totalling 488.3K...\n",
      "2020-06-15 14:22:39 Hail: INFO: while writing:\n",
      "    /home/tom/projects/tmp/mt_1000_2000_10.mt/data.bed\n",
      "  merge time: 22.933ms\n",
      "2020-06-15 14:22:39 Hail: INFO: merging 8 files totalling 48.6K...\n",
      "2020-06-15 14:22:39 Hail: INFO: while writing:\n",
      "    /home/tom/projects/tmp/mt_1000_2000_10.mt/data.bim\n",
      "  merge time: 21.693ms\n",
      "2020-06-15 14:22:39 Hail: INFO: merging 4 files totalling 14.5K...\n",
      "2020-06-15 14:22:39 Hail: INFO: while writing:\n",
      "    /home/tom/projects/tmp/mt_1000_2000_10.mt/data.fam\n",
      "  merge time: 13.142ms\n",
      "2020-06-15 14:22:39 Hail: INFO: wrote 2000 variants and 1000 samples to '/home/tom/projects/tmp/mt_1000_2000_10.mt/data'\n"
     ]
    },
    {
     "data": {
      "text/plain": [
       "'/home/tom/projects/tmp/mt_1000_2000_10.mt/data'"
      ]
     },
     "execution_count": 18,
     "metadata": {},
     "output_type": "execute_result"
    }
   ],
   "source": [
    "export_dir = Path(f\"{Path.home()}/projects/tmp\")\n",
    "variants = 2000\n",
    "samples = 1000\n",
    "population = 10\n",
    "path = str(export_dir / f'mt_{samples}_{variants}_{population}.mt/data')\n",
    "hl.export_plink(mt, path)\n",
    "path"
   ]
  },
  {
   "cell_type": "code",
   "execution_count": 5,
   "metadata": {},
   "outputs": [
    {
     "name": "stdout",
     "output_type": "stream",
     "text": [
      "/home/tom/projects/tmp:\n",
      "total 28\n",
      "drwxr-xr-x 2 tom dialout 4096 Jun 16 08:56 mt_100000_2000_10.mt\n",
      "drwxr-xr-x 2 tom dialout 4096 Jun 16 09:00 mt_10000_2000_10.mt\n",
      "drwxr-xr-x 2 tom dialout 4096 Jun 16 09:00 mt_1000_2000_10.mt\n",
      "drwxr-xr-x 2 tom dialout 4096 Jun 16 09:01 mt_20000_2000_10.mt\n",
      "drwxr-xr-x 2 tom dialout 4096 Jun 16 09:00 mt_2000_2000_10.mt\n",
      "drwxr-xr-x 2 tom dialout 4096 Jun 16 09:02 mt_50000_2000_10.mt\n",
      "drwxr-xr-x 2 tom dialout 4096 Jun 16 09:00 mt_5000_2000_10.mt\n",
      "\n",
      "/home/tom/projects/tmp/mt_100000_2000_10.mt:\n",
      "total 50536\n",
      "-rw-r--r-- 1 tom dialout 50000003 Jun 16 08:56 data.bed\n",
      "-rw-r--r-- 1 tom dialout    49786 Jun 16 08:56 data.bim\n",
      "-rw-r--r-- 1 tom dialout  1688890 Jun 16 08:56 data.fam\n",
      "\n",
      "/home/tom/projects/tmp/mt_10000_2000_10.mt:\n",
      "total 5092\n",
      "-rw-r--r-- 1 tom dialout 5000003 Jun 16 09:00 data.bed\n",
      "-rw-r--r-- 1 tom dialout   49786 Jun 16 09:00 data.bim\n",
      "-rw-r--r-- 1 tom dialout  158890 Jun 16 09:00 data.fam\n",
      "\n",
      "/home/tom/projects/tmp/mt_1000_2000_10.mt:\n",
      "total 560\n",
      "-rw-r--r-- 1 tom dialout 500003 Jun 16 09:00 data.bed\n",
      "-rw-r--r-- 1 tom dialout  49786 Jun 16 09:00 data.bim\n",
      "-rw-r--r-- 1 tom dialout  14890 Jun 16 09:00 data.fam\n",
      "\n",
      "/home/tom/projects/tmp/mt_20000_2000_10.mt:\n",
      "total 10144\n",
      "-rw-r--r-- 1 tom dialout 10000003 Jun 16 09:01 data.bed\n",
      "-rw-r--r-- 1 tom dialout    49786 Jun 16 09:01 data.bim\n",
      "-rw-r--r-- 1 tom dialout   328890 Jun 16 09:01 data.fam\n",
      "\n",
      "/home/tom/projects/tmp/mt_2000_2000_10.mt:\n",
      "total 1064\n",
      "-rw-r--r-- 1 tom dialout 1000003 Jun 16 09:00 data.bed\n",
      "-rw-r--r-- 1 tom dialout   49786 Jun 16 09:00 data.bim\n",
      "-rw-r--r-- 1 tom dialout   30890 Jun 16 09:00 data.fam\n",
      "\n",
      "/home/tom/projects/tmp/mt_50000_2000_10.mt:\n",
      "total 25288\n",
      "-rw-r--r-- 1 tom dialout 25000003 Jun 16 09:02 data.bed\n",
      "-rw-r--r-- 1 tom dialout    49786 Jun 16 09:02 data.bim\n",
      "-rw-r--r-- 1 tom dialout   838890 Jun 16 09:02 data.fam\n",
      "\n",
      "/home/tom/projects/tmp/mt_5000_2000_10.mt:\n",
      "total 2576\n",
      "-rw-r--r-- 1 tom dialout 2500003 Jun 16 09:00 data.bed\n",
      "-rw-r--r-- 1 tom dialout   49786 Jun 16 09:00 data.bim\n",
      "-rw-r--r-- 1 tom dialout   78890 Jun 16 09:00 data.fam\n"
     ]
    }
   ],
   "source": [
    "! ls -lR ~/projects/tmp"
   ]
  },
  {
   "cell_type": "code",
   "execution_count": 7,
   "metadata": {},
   "outputs": [
    {
     "name": "stdout",
     "output_type": "stream",
     "text": [
      "gwas\n"
     ]
    }
   ],
   "source": [
    "! ls /home/tom/data\n",
    "! cp -r /home/tom/projects/tmp/ /home/tom/data"
   ]
  },
  {
   "cell_type": "code",
   "execution_count": null,
   "metadata": {},
   "outputs": [],
   "source": []
  }
 ],
 "metadata": {
  "kernelspec": {
   "display_name": "Python 3",
   "language": "python",
   "name": "python3"
  },
  "language_info": {
   "codemirror_mode": {
    "name": "ipython",
    "version": 3
   },
   "file_extension": ".py",
   "mimetype": "text/x-python",
   "name": "python",
   "nbconvert_exporter": "python",
   "pygments_lexer": "ipython3",
   "version": "3.7.6"
  }
 },
 "nbformat": 4,
 "nbformat_minor": 4
}
