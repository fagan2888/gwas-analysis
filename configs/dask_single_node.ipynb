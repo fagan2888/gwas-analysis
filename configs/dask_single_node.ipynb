{
 "cells": [
  {
   "cell_type": "markdown",
   "metadata": {},
   "source": [
    "### Raison d'etre\n",
    "\n",
    "Provide best practices, tips and tricks for single node Dask computing clusters, if you learn something valuable please add it here. This is likely going to be a constantly evolving document."
   ]
  },
  {
   "cell_type": "code",
   "execution_count": 1,
   "metadata": {},
   "outputs": [],
   "source": [
    "import dask\n",
    "import pandas as pd\n",
    "import numpy as np\n",
    "import dask.array as da\n",
    "import dask.dataframe as dd"
   ]
  },
  {
   "cell_type": "markdown",
   "metadata": {},
   "source": [
    "### Scheduler"
   ]
  },
  {
   "cell_type": "code",
   "execution_count": 6,
   "metadata": {},
   "outputs": [],
   "source": [
    "# TODO (rav): document tradeoffs between process and thread pool based local scheduler"
   ]
  },
  {
   "cell_type": "markdown",
   "metadata": {},
   "source": [
    "### Graph optimizations/changes"
   ]
  },
  {
   "cell_type": "markdown",
   "metadata": {},
   "source": [
    "`optimization.fuse.ave-width` is a useful optimization strategy to effectively control/trade task parallelism for processing locality, thus in some cases reducing communication overhead between workers, this can be particaully important for distributed client/cluster."
   ]
  },
  {
   "cell_type": "code",
   "execution_count": 10,
   "metadata": {},
   "outputs": [],
   "source": [
    "with dask.config.set({\"optimization.fuse.ave-width\": ...}):\n",
    "    ..."
   ]
  },
  {
   "cell_type": "markdown",
   "metadata": {},
   "source": [
    "Official doc:\n",
    "> Upper limit for width, where width = num_nodes / height, a good measure of parallelizability\n",
    "\n",
    "from [here](https://docs.dask.org/en/latest/configuration-reference.html#dask.optimization.fuse.ave-width) and [here](https://docs.dask.org/en/latest/optimize.html#dask.optimization.fuse)\n",
    "\n",
    "\n",
    "Example [notebook](https://github.com/dask/dask-examples/blob/4affee9d31bccd327205af90dd495347c8f2f7f7/applications/array-optimization.ipynb)."
   ]
  }
 ],
 "metadata": {
  "kernelspec": {
   "display_name": "Python 3",
   "language": "python",
   "name": "python3"
  },
  "language_info": {
   "codemirror_mode": {
    "name": "ipython",
    "version": 3
   },
   "file_extension": ".py",
   "mimetype": "text/x-python",
   "name": "python",
   "nbconvert_exporter": "python",
   "pygments_lexer": "ipython3",
   "version": "3.7.7"
  }
 },
 "nbformat": 4,
 "nbformat_minor": 4
}
